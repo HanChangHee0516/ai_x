{
 "cells": [
  {
   "cell_type": "code",
   "execution_count": 8,
   "id": "223656d3",
   "metadata": {},
   "outputs": [
    {
     "data": {
      "text/html": [
       "\n",
       "<style>\n",
       "div.container{width:90% !important;}\n",
       "div.cell.code_cell.rendered{width:100%;}\n",
       "div.input_prompt{padding:0px;}\n",
       "div.CodeMirror {font-family:Consolas; font-size:10pt;}\n",
       "div.text_cell_render.rendered_html{font-size:10pt;}\n",
       "div.output {font-size:10pt; font-weight:bold;}\n",
       "div.input {font-family:Consolas; font-size:10pt;}\n",
       "div.prompt {min-width:70px;}\n",
       "div#toc-wrapper{padding-top:120px;}\n",
       "div.text_cell_render ul li{font-size:11pt;padding:4px;}\n",
       "table.dataframe{font-size:10px;}\n",
       "</style>\n"
      ],
      "text/plain": [
       "<IPython.core.display.HTML object>"
      ]
     },
     "metadata": {},
     "output_type": "display_data"
    }
   ],
   "source": [
    "from IPython.display import display, HTML\n",
    "display(HTML(\"\"\"\n",
    "<style>\n",
    "div.container{width:90% !important;}\n",
    "div.cell.code_cell.rendered{width:100%;}\n",
    "div.input_prompt{padding:0px;}\n",
    "div.CodeMirror {font-family:Consolas; font-size:10pt;}\n",
    "div.text_cell_render.rendered_html{font-size:10pt;}\n",
    "div.output {font-size:10pt; font-weight:bold;}\n",
    "div.input {font-family:Consolas; font-size:10pt;}\n",
    "div.prompt {min-width:70px;}\n",
    "div#toc-wrapper{padding-top:120px;}\n",
    "div.text_cell_render ul li{font-size:11pt;padding:4px;}\n",
    "table.dataframe{font-size:10px;}\n",
    "</style>\n",
    "\"\"\"))"
   ]
  },
  {
   "cell_type": "markdown",
   "id": "07afcab2",
   "metadata": {},
   "source": [
    "<b><font size=\"5\" color=\"red\">ch14.웹데이터 수집</font></b>\n",
    "# 3절. 동적 웹데이터 수집\n",
    "## 3.1 문법\n",
    "```\n",
    "pip install selenium\n",
    "```\n",
    "Docs : https://www.selenium.dev/documentation/ <br>\n",
    "       https://selenium-python.readthedocs.io/"
   ]
  },
  {
   "cell_type": "code",
   "execution_count": 17,
   "id": "970c0590",
   "metadata": {},
   "outputs": [],
   "source": [
    "from selenium import webdriver\n",
    "from selenium.webdriver.common.by import By\n",
    "import time\n",
    "from selenium.webdriver.common.keys import Keys\n",
    "driver = webdriver.Chrome()\n",
    "driver.get(\"http://www.python.org\")\n",
    "elem = driver.find_element(By.NAME, 'q')\n",
    "elem.clear()\n",
    "elem.send_keys('pycon')\n",
    "from selenium.webdriver.common.keys import Keys\n",
    "elem.send_keys(Keys.RETURN) # enter 효과"
   ]
  },
  {
   "cell_type": "code",
   "execution_count": 44,
   "id": "c632e9b7",
   "metadata": {},
   "outputs": [],
   "source": [
    "driver = webdriver.Chrome()\n",
    "driver.get(\"http://www.python.org\")\n",
    "elem = driver.find_element(By.NAME, 'q')\n",
    "elem.clear()\n",
    "elem.send_keys('pycon')\n",
    "elem.send_keys(Keys.RETURN) # enter 효과"
   ]
  },
  {
   "cell_type": "code",
   "execution_count": 31,
   "id": "e64b71dc",
   "metadata": {
    "scrolled": true
   },
   "outputs": [
    {
     "name": "stdout",
     "output_type": "stream",
     "text": [
      "PSF PyCon Trademark Usage Policy - https://www.python.org/psf/trademarks/pycon\n",
      "PyCon Italia 2016 (PyCon Sette) - https://www.python.org/events/python-events/378/\n",
      "PyCon Australia 2013 - https://www.python.org/events/python-events/57/\n",
      "PyCon AU 2019 - https://www.python.org/events/python-events/776/\n",
      "PyCon Australia 2014 - https://www.python.org/events/python-events/10/\n",
      "PyCon Ireland 2012 - https://www.python.org/events/python-events/76/\n",
      "PyCon Ireland 2016 - https://www.python.org/events/python-events/429/\n",
      "PyCon Ireland 2022 - https://www.python.org/events/python-events/1320/\n",
      "PyCon Australia 2014 - https://www.python.org/events/python-events/1447/\n",
      "PyCon Ireland 2024 - https://www.python.org/events/python-events/1862/\n",
      "PyCon APAC 2025 - https://www.python.org/events/python-events/1879/\n",
      "PyCon AU 2018 - https://www.python.org/events/python-events/696/\n",
      "PyCon APAC 2022 - https://www.python.org/events/python-events/1216/\n",
      "PyCon PH 2024 - https://www.python.org/events/python-events/1661/\n",
      "PyCon Ireland 2023 - https://www.python.org/events/python-events/1568/\n",
      "PyCon PL 2014 - https://www.python.org/events/python-events/191/\n",
      "PyCon MY 2015 - https://www.python.org/events/python-events/313/\n",
      "PyCon Ireland 2015 - https://www.python.org/events/python-events/333/\n",
      "PyCon AU 2015 - https://www.python.org/events/python-events/273/\n",
      "PyCon Australia 2016 - https://www.python.org/events/python-events/357/\n"
     ]
    }
   ],
   "source": [
    "result_list = driver.find_elements(By.CSS_SELECTOR, 'li > h3 > a')\n",
    "for result in result_list:\n",
    "    print('{} - {}'.format(result.text, result.get_attribute('href')))"
   ]
  },
  {
   "cell_type": "code",
   "execution_count": 38,
   "id": "5f190a70",
   "metadata": {},
   "outputs": [
    {
     "name": "stdout",
     "output_type": "stream",
     "text": [
      "PSF PyCon Trademark Usage Policy -/psf/trademarks/pycon\n",
      "PyCon Italia 2016 (PyCon Sette) -/events/python-events/378/\n",
      "PyCon Australia 2013 -/events/python-events/57/\n",
      "PyCon AU 2019 -/events/python-events/776/\n",
      "PyCon Australia 2014 -/events/python-events/10/\n",
      "PyCon Ireland 2012 -/events/python-events/76/\n",
      "PyCon Ireland 2016 -/events/python-events/429/\n",
      "PyCon Ireland 2022 -/events/python-events/1320/\n",
      "PyCon Australia 2014 -/events/python-events/1447/\n",
      "PyCon Ireland 2024 -/events/python-events/1862/\n",
      "PyCon APAC 2025 -/events/python-events/1879/\n",
      "PyCon AU 2018 -/events/python-events/696/\n",
      "PyCon APAC 2022 -/events/python-events/1216/\n",
      "PyCon PH 2024 -/events/python-events/1661/\n",
      "PyCon Ireland 2023 -/events/python-events/1568/\n",
      "PyCon PL 2014 -/events/python-events/191/\n",
      "PyCon MY 2015 -/events/python-events/313/\n",
      "PyCon Ireland 2015 -/events/python-events/333/\n",
      "PyCon AU 2015 -/events/python-events/273/\n",
      "PyCon Australia 2016 -/events/python-events/357/\n"
     ]
    }
   ],
   "source": [
    "from bs4 import BeautifulSoup\n",
    "soup = BeautifulSoup(driver.page_source, \"html.parser\")\n",
    "result_list = soup.select('li > h3 > a')\n",
    "for result in result_list:\n",
    "    print(\"{} -{}\".format(result.text, result.attrs['href']))"
   ]
  },
  {
   "cell_type": "code",
   "execution_count": 47,
   "id": "b9506a0d",
   "metadata": {},
   "outputs": [
    {
     "name": "stdout",
     "output_type": "stream",
     "text": [
      "현재 주소 :  https://www.python.org/search/?q=pycon&submit=\n",
      "parse_url :  ParseResult(scheme='https', netloc='www.python.org', path='/search/', params='', query='q=pycon&submit=', fragment='')\n",
      "https://www.python.org\n"
     ]
    }
   ],
   "source": [
    "# 셀리니움을 통해 접근한 현재 url\n",
    "from urllib.parse import urlparse\n",
    "current_url = driver.current_url\n",
    "print('현재 주소 : ', current_url)\n",
    "parse_url = urlparse(current_url)\n",
    "print('parse_url : ', parse_url)\n",
    "domain = f'{parse_url.scheme}://{parse_url.netloc}'\n",
    "print(domain)"
   ]
  },
  {
   "cell_type": "code",
   "execution_count": 49,
   "id": "94dd9df7",
   "metadata": {},
   "outputs": [
    {
     "name": "stdout",
     "output_type": "stream",
     "text": [
      "PSF PyCon Trademark Usage Policy - https://www.python.org/psf/trademarks/pycon\n",
      "PyCon Italia 2016 (PyCon Sette) - https://www.python.org/events/python-events/378/\n",
      "PyCon Australia 2013 - https://www.python.org/events/python-events/57/\n",
      "PyCon AU 2019 - https://www.python.org/events/python-events/776/\n",
      "PyCon Australia 2014 - https://www.python.org/events/python-events/10/\n",
      "PyCon Ireland 2012 - https://www.python.org/events/python-events/76/\n",
      "PyCon Ireland 2016 - https://www.python.org/events/python-events/429/\n",
      "PyCon Ireland 2022 - https://www.python.org/events/python-events/1320/\n",
      "PyCon Australia 2014 - https://www.python.org/events/python-events/1447/\n",
      "PyCon Ireland 2024 - https://www.python.org/events/python-events/1862/\n",
      "PyCon APAC 2025 - https://www.python.org/events/python-events/1879/\n",
      "PyCon AU 2018 - https://www.python.org/events/python-events/696/\n",
      "PyCon APAC 2022 - https://www.python.org/events/python-events/1216/\n",
      "PyCon PH 2024 - https://www.python.org/events/python-events/1661/\n",
      "PyCon Ireland 2023 - https://www.python.org/events/python-events/1568/\n",
      "PyCon PL 2014 - https://www.python.org/events/python-events/191/\n",
      "PyCon MY 2015 - https://www.python.org/events/python-events/313/\n",
      "PyCon Ireland 2015 - https://www.python.org/events/python-events/333/\n",
      "PyCon AU 2015 - https://www.python.org/events/python-events/273/\n",
      "PyCon Australia 2016 - https://www.python.org/events/python-events/357/\n"
     ]
    }
   ],
   "source": [
    "from bs4 import BeautifulSoup\n",
    "soup = BeautifulSoup(driver.page_source, \"html.parser\")\n",
    "result_list = soup.select('li > h3 > a')\n",
    "for result in result_list:\n",
    "    print(\"{} - {}\".format(result.text, domain+result.attrs['href']))"
   ]
  },
  {
   "cell_type": "code",
   "execution_count": 50,
   "id": "bb0e6528",
   "metadata": {},
   "outputs": [],
   "source": [
    "driver.close() # 브라우저 종료"
   ]
  },
  {
   "cell_type": "markdown",
   "id": "fa697bc9",
   "metadata": {},
   "source": [
    "## 3.2 예제"
   ]
  },
  {
   "cell_type": "code",
   "execution_count": 63,
   "id": "719fe2d0",
   "metadata": {},
   "outputs": [
    {
     "ename": "AttributeError",
     "evalue": "'list' object has no attribute 'click'",
     "output_type": "error",
     "traceback": [
      "\u001b[1;31m---------------------------------------------------------------------------\u001b[0m",
      "\u001b[1;31mAttributeError\u001b[0m                            Traceback (most recent call last)",
      "Cell \u001b[1;32mIn[63], line 12\u001b[0m\n\u001b[0;32m     10\u001b[0m driver\u001b[38;5;241m.\u001b[39mfind_element(By\u001b[38;5;241m.\u001b[39mCSS_SELECTOR, \u001b[38;5;124m'\u001b[39m\u001b[38;5;124minput[type=\u001b[39m\u001b[38;5;124m\"\u001b[39m\u001b[38;5;124mtext\u001b[39m\u001b[38;5;124m\"\u001b[39m\u001b[38;5;124m]\u001b[39m\u001b[38;5;124m'\u001b[39m)\u001b[38;5;241m.\u001b[39msend_keys(query)\n\u001b[0;32m     11\u001b[0m driver\u001b[38;5;241m.\u001b[39mfind_element(By\u001b[38;5;241m.\u001b[39mCLASS_NAME, \u001b[38;5;124m'\u001b[39m\u001b[38;5;124mbtn_ksearch\u001b[39m\u001b[38;5;124m'\u001b[39m)\u001b[38;5;241m.\u001b[39mclick()\n\u001b[1;32m---> 12\u001b[0m \u001b[43mdriver\u001b[49m\u001b[38;5;241;43m.\u001b[39;49m\u001b[43mfind_elements\u001b[49m\u001b[43m(\u001b[49m\u001b[43mBy\u001b[49m\u001b[38;5;241;43m.\u001b[39;49m\u001b[43mLINK_TEXT\u001b[49m\u001b[43m,\u001b[49m\u001b[43m \u001b[49m\u001b[38;5;124;43m'\u001b[39;49m\u001b[38;5;124;43m뉴스\u001b[39;49m\u001b[38;5;124;43m'\u001b[39;49m\u001b[43m)\u001b[49m\u001b[38;5;241;43m.\u001b[39;49m\u001b[43mclick\u001b[49m()\n",
      "\u001b[1;31mAttributeError\u001b[0m: 'list' object has no attribute 'click'"
     ]
    }
   ],
   "source": [
    "from selenium import webdriver\n",
    "from selenium.webdriver.common.by import By\n",
    "import time\n",
    "from selenium.webdriver.common.keys import Keys\n",
    "driver = webdriver.Chrome()\n",
    "driver.get(\"http://www.daum.net/\")\n",
    "# input 태그를 click\n",
    "driver.find_element(By.NAME, 'q').click()\n",
    "query = '청바지'\n",
    "driver.find_element(By.CSS_SELECTOR, 'input[type=\"text\"]').send_keys(query)\n",
    "driver.find_element(By.CLASS_NAME, 'btn_ksearch').click()\n",
    "driver.find_elements(By.LINK_TEXT, '뉴스').click() "
   ]
  },
  {
   "cell_type": "code",
   "execution_count": 60,
   "id": "6b976394",
   "metadata": {},
   "outputs": [],
   "source": [
    "# 뉴스탭 클릭 : ul.list_tap > li\n",
    "# driver.find_elements(By.CSS_SELECTOR, 'ul.list_tab > li')[3].click()\n",
    "driver.find_element(By.LINK_TEXT, '뉴스').click() "
   ]
  },
  {
   "cell_type": "code",
   "execution_count": 62,
   "id": "d2a3ddfa",
   "metadata": {},
   "outputs": [
    {
     "name": "stdout",
     "output_type": "stream",
     "text": [
      "“추앙받을 만 하네”… 김지원, 셔츠에 청바지만 입어도 공항 ‘정지’ http://v.daum.net/v/20250526182411395\n",
      "이민정, 매장 빌려 폭풍 쇼핑 \"10년 전 샀던 청바지는 응급실\"(MJ) http://v.daum.net/v/20250527191015309\n",
      "흰 티셔츠에 청바지 정석대로 입는 법 http://v.daum.net/v/20250527185425864\n",
      "이민정, 매장 통째로 빌려 청바지 쇼핑…♥이병헌도 놀랄 핏 http://v.daum.net/v/20250527185535885\n",
      "\"청바지가 잘 어울리는 남자\" 재해석…브브걸 감성 리메이크 '희망사항' 발매 http://v.daum.net/v/20250529180842220\n",
      "'의사 그만둔' 고윤정, 흰 티+청바지...\"정석 미녀\" [★해시태그] http://v.daum.net/v/20250522182007490\n",
      "이시영처럼 다리 길어보이고 싶어서 청바지 분석함 [입스타그램] http://v.daum.net/v/20250519172231644\n",
      "\"청렴이 최고\" … 창원특례시 성산구 문화위생과, '청바지 데이' 추진 http://v.daum.net/v/20250511091428626\n",
      "패셔니스타 김지원, 청바지가 어울리는 여자랍니다! [포토] http://v.daum.net/v/20250518220139191\n",
      "박병은 \"류준하로 3개월 활동\"…청바지 모델 시절 언급 http://v.daum.net/v/20250519190323957\n"
     ]
    }
   ],
   "source": [
    "news_list = []\n",
    "elems = driver.find_elements(By.CSS_SELECTOR, 'div.item-title > strong.tit-g > a')\n",
    "for elem in elems:\n",
    "    title = elem.text\n",
    "    link = elem.get_attribute('href')\n",
    "    news_list.append([title, link])\n",
    "    print(title,link)"
   ]
  },
  {
   "cell_type": "code",
   "execution_count": 69,
   "id": "61858eb4",
   "metadata": {},
   "outputs": [
    {
     "name": "stdout",
     "output_type": "stream",
     "text": [
      "검색하고자 하는 단어?프로야구\n",
      "‘후원사 뒷돈 수수 혐의’ 프로야구 KIA 장정석·김종국 2심도 무죄 http://v.daum.net/v/20250529144946203\n",
      "프로야구 NC, 연고지 이전 가능성 시사…\"진지하게 고민할 것\" http://v.daum.net/v/20250530144956110\n",
      "프로야구 2025 올스타전 베스트12 팬 투표, 6월 2일 시작 http://v.daum.net/v/20250530150300662\n",
      "이재명 \"팬 없이 프로야구 존재 못하듯, 주인 없는 정치 불가능\" http://v.daum.net/v/20250530083230199\n",
      "추락하는 키움… 프로야구 최초 ‘시즌 100패’ 우려 http://v.daum.net/v/20250528030358102\n",
      "프로야구 청주 경기 '미배정' 회신..\"150억 썼는데..\" http://v.daum.net/v/20250526170247962\n",
      "'한화 2위' 프로야구 흥행 돌풍 이어지자... 굿즈 거래액도 1053% ↑ http://v.daum.net/v/20250530094643124\n",
      "프로야구 미친 흥행…1000만 넘고 '1200만' 간다 http://v.daum.net/v/20250524080023905\n",
      "뜨거워진 프로야구 신인왕 경쟁…중고 신인들도 가세 http://v.daum.net/v/20250527083019598\n",
      "6월3일 프로야구 대전·창원 경기 오후 2시 시작…무슨 일? http://v.daum.net/v/20250524164519924\n"
     ]
    }
   ],
   "source": [
    "driver = webdriver.Chrome()\n",
    "driver.get(\"http://www.daum.net/\")\n",
    "# input 태그를 click\n",
    "time.sleep(2)\n",
    "driver.find_element(By.NAME, 'q').click()\n",
    "query = input('검색하고자 하는 단어?')\n",
    "driver.find_element(By.CSS_SELECTOR, 'input[type=\"text\"]').send_keys(query)\n",
    "driver.find_element(By.CLASS_NAME, 'btn_ksearch').click()\n",
    "time.sleep(2)\n",
    "# 뉴스탭 클릭 : ul.list_tap > li\n",
    "# driver.find_elements(By.CSS_SELECTOR, 'ul.list_tab > li')[3].click()\n",
    "driver.find_element(By.LINK_TEXT, '뉴스').click() \n",
    "time.sleep(2)\n",
    "news_list = []\n",
    "elems = driver.find_elements(By.CSS_SELECTOR, 'div.item-title > strong.tit-g > a')\n",
    "for elem in elems:\n",
    "    title = elem.text\n",
    "    link = elem.get_attribute('href')\n",
    "    news_list.append([title, link])\n",
    "    print(title,link)"
   ]
  },
  {
   "cell_type": "code",
   "execution_count": 70,
   "id": "2860b2af",
   "metadata": {},
   "outputs": [],
   "source": [
    "# 2page로\n",
    "page_div = driver.find_element(By.CSS_SELECTOR, 'div.inner_paging')\n",
    "next_page = page_div.find_element(By.LINK_TEXT, '2')\n",
    "next_page.click()"
   ]
  },
  {
   "cell_type": "code",
   "execution_count": null,
   "id": "7143859d",
   "metadata": {},
   "outputs": [],
   "source": [
    "#### 페이징 처리\n",
    "- 다음 뉴스 검색 : 원하는 단어를 원하는 page수 만큼"
   ]
  },
  {
   "cell_type": "code",
   "execution_count": 72,
   "id": "1b381faf",
   "metadata": {
    "scrolled": true
   },
   "outputs": [
    {
     "name": "stdout",
     "output_type": "stream",
     "text": [
      "검색하고자 하는 단어?프로야구\n",
      " - - - 현재 1페이지 데이터 수집 중 입니다 - - - \n",
      " - - - 현재 2페이지 데이터 수집 중 입니다 - - - \n",
      " - - - 현재 3페이지 데이터 수집 중 입니다 - - - \n"
     ]
    },
    {
     "data": {
      "text/html": [
       "<div>\n",
       "<style scoped>\n",
       "    .dataframe tbody tr th:only-of-type {\n",
       "        vertical-align: middle;\n",
       "    }\n",
       "\n",
       "    .dataframe tbody tr th {\n",
       "        vertical-align: top;\n",
       "    }\n",
       "\n",
       "    .dataframe thead th {\n",
       "        text-align: right;\n",
       "    }\n",
       "</style>\n",
       "<table border=\"1\" class=\"dataframe\">\n",
       "  <thead>\n",
       "    <tr style=\"text-align: right;\">\n",
       "      <th></th>\n",
       "      <th>title</th>\n",
       "      <th>link</th>\n",
       "    </tr>\n",
       "  </thead>\n",
       "  <tbody>\n",
       "    <tr>\n",
       "      <th>0</th>\n",
       "      <td>‘후원사 뒷돈 수수 혐의’ 프로야구 KIA 장정석·김종국 2심도 무죄</td>\n",
       "      <td>http://v.daum.net/v/20250529144946203</td>\n",
       "    </tr>\n",
       "    <tr>\n",
       "      <th>1</th>\n",
       "      <td>프로야구 NC, 연고지 이전 가능성 시사…\"진지하게 고민할 것\"</td>\n",
       "      <td>http://v.daum.net/v/20250530144956110</td>\n",
       "    </tr>\n",
       "    <tr>\n",
       "      <th>2</th>\n",
       "      <td>프로야구 2025 올스타전 베스트12 팬 투표, 6월 2일 시작</td>\n",
       "      <td>http://v.daum.net/v/20250530150300662</td>\n",
       "    </tr>\n",
       "    <tr>\n",
       "      <th>3</th>\n",
       "      <td>이재명 \"팬 없이 프로야구 존재 못하듯, 주인 없는 정치 불가능\"</td>\n",
       "      <td>http://v.daum.net/v/20250530083230199</td>\n",
       "    </tr>\n",
       "    <tr>\n",
       "      <th>4</th>\n",
       "      <td>추락하는 키움… 프로야구 최초 ‘시즌 100패’ 우려</td>\n",
       "      <td>http://v.daum.net/v/20250528030358102</td>\n",
       "    </tr>\n",
       "    <tr>\n",
       "      <th>5</th>\n",
       "      <td>프로야구 청주 경기 '미배정' 회신..\"150억 썼는데..\"</td>\n",
       "      <td>http://v.daum.net/v/20250526170247962</td>\n",
       "    </tr>\n",
       "    <tr>\n",
       "      <th>6</th>\n",
       "      <td>'한화 2위' 프로야구 흥행 돌풍 이어지자... 굿즈 거래액도 1053% ↑</td>\n",
       "      <td>http://v.daum.net/v/20250530094643124</td>\n",
       "    </tr>\n",
       "    <tr>\n",
       "      <th>7</th>\n",
       "      <td>프로야구 NC, 창원NC파크 재개장 앞두고 연고지 이전 가능성 언급</td>\n",
       "      <td>http://v.daum.net/v/20250530152459572</td>\n",
       "    </tr>\n",
       "    <tr>\n",
       "      <th>8</th>\n",
       "      <td>프로야구 미친 흥행…1000만 넘고 '1200만' 간다</td>\n",
       "      <td>http://v.daum.net/v/20250524080023905</td>\n",
       "    </tr>\n",
       "    <tr>\n",
       "      <th>9</th>\n",
       "      <td>뜨거워진 프로야구 신인왕 경쟁…중고 신인들도 가세</td>\n",
       "      <td>http://v.daum.net/v/20250527083019598</td>\n",
       "    </tr>\n",
       "    <tr>\n",
       "      <th>10</th>\n",
       "      <td>6월3일 프로야구 대전·창원 경기 오후 2시 시작…무슨 일?</td>\n",
       "      <td>http://v.daum.net/v/20250524164519924</td>\n",
       "    </tr>\n",
       "    <tr>\n",
       "      <th>11</th>\n",
       "      <td>프로야구 인기로 히트 친 '크보빵' 생산 중단</td>\n",
       "      <td>http://v.daum.net/v/20250529175606743</td>\n",
       "    </tr>\n",
       "    <tr>\n",
       "      <th>12</th>\n",
       "      <td>방심하면 미끌… 프로야구 중위권 전쟁 개봉박두</td>\n",
       "      <td>http://v.daum.net/v/20250526161905784</td>\n",
       "    </tr>\n",
       "    <tr>\n",
       "      <th>13</th>\n",
       "      <td>\"일단 운동을 잘해야 한다\" 천만관중 프로야구, '포스트 김연경' 대비한 V리그에 ...</td>\n",
       "      <td>http://v.daum.net/v/20250530104519672</td>\n",
       "    </tr>\n",
       "    <tr>\n",
       "      <th>14</th>\n",
       "      <td>[부고] 이승호 씨(프로야구 키움 히어로즈 투수코치) 부친상</td>\n",
       "      <td>http://v.daum.net/v/20250529195440420</td>\n",
       "    </tr>\n",
       "    <tr>\n",
       "      <th>15</th>\n",
       "      <td>프로야구 키움, 푸이그와 결별…알칸타라 영입</td>\n",
       "      <td>http://v.daum.net/v/20250519162128682</td>\n",
       "    </tr>\n",
       "    <tr>\n",
       "      <th>16</th>\n",
       "      <td>프로야구 1·2위 진검승부 ... 선두 LG가 한화 꺾고 기선제압</td>\n",
       "      <td>http://v.daum.net/v/20250527215726244</td>\n",
       "    </tr>\n",
       "    <tr>\n",
       "      <th>17</th>\n",
       "      <td>[프로야구] 중간 순위(29일)</td>\n",
       "      <td>http://v.daum.net/v/20250529222254929</td>\n",
       "    </tr>\n",
       "    <tr>\n",
       "      <th>18</th>\n",
       "      <td>\"대전 프로야구 티켓 팝니다\" 상습사기범 구속 송치</td>\n",
       "      <td>http://v.daum.net/v/20250526174331931</td>\n",
       "    </tr>\n",
       "    <tr>\n",
       "      <th>19</th>\n",
       "      <td>프로야구 LG 응원단, 타이완 프로야구 경기서 'K-응원' 전수</td>\n",
       "      <td>http://v.daum.net/v/20250519162700980</td>\n",
       "    </tr>\n",
       "    <tr>\n",
       "      <th>20</th>\n",
       "      <td>해태 홈런볼, 프로야구 팬 위한 '2025 야구 이벤트' 진행</td>\n",
       "      <td>http://v.daum.net/v/20250526090340236</td>\n",
       "    </tr>\n",
       "    <tr>\n",
       "      <th>21</th>\n",
       "      <td>하루 16만명 신기록·역대 최소경기 400만 프로야구 '흥행 홈런'</td>\n",
       "      <td>http://v.daum.net/v/20250520112554539</td>\n",
       "    </tr>\n",
       "    <tr>\n",
       "      <th>22</th>\n",
       "      <td>\"선동열도 포토카드로\"··· 세븐일레븐 KBO 프로야구 카드 출시</td>\n",
       "      <td>http://v.daum.net/v/20250520091222945</td>\n",
       "    </tr>\n",
       "    <tr>\n",
       "      <th>23</th>\n",
       "      <td>KBO-선수협회, 첫 간담회…프로야구 발전 협력 논의</td>\n",
       "      <td>http://v.daum.net/v/20250520145330951</td>\n",
       "    </tr>\n",
       "    <tr>\n",
       "      <th>24</th>\n",
       "      <td>프로야구, 극장서 생생 플레이 볼~!</td>\n",
       "      <td>http://v.daum.net/v/20250528150344414</td>\n",
       "    </tr>\n",
       "    <tr>\n",
       "      <th>25</th>\n",
       "      <td>프로야구 경기 중 폭우로 관중 몰리면서 자칫 대형사고 날 뻔</td>\n",
       "      <td>http://v.daum.net/v/20250528221143463</td>\n",
       "    </tr>\n",
       "    <tr>\n",
       "      <th>26</th>\n",
       "      <td>프로야구 인기에 편의점도 바빠졌다…CU, '망곰·두산' 컬래버 출시</td>\n",
       "      <td>http://v.daum.net/v/20250527145405039</td>\n",
       "    </tr>\n",
       "    <tr>\n",
       "      <th>27</th>\n",
       "      <td>프로야구선수협, KT와 함께 유소년 야구클리닉 진행</td>\n",
       "      <td>http://v.daum.net/v/20250520152019338</td>\n",
       "    </tr>\n",
       "    <tr>\n",
       "      <th>28</th>\n",
       "      <td>문체부, 프로야구 시설관리주체들과 안전 대책 간담회</td>\n",
       "      <td>http://v.daum.net/v/20250529110031026</td>\n",
       "    </tr>\n",
       "    <tr>\n",
       "      <th>29</th>\n",
       "      <td>[와글와글 플러스] 역대 최단 400만 관중‥프로야구 '흥행 홈런'</td>\n",
       "      <td>http://v.daum.net/v/20250521073110922</td>\n",
       "    </tr>\n",
       "  </tbody>\n",
       "</table>\n",
       "</div>"
      ],
      "text/plain": [
       "                                                title  \\\n",
       "0              ‘후원사 뒷돈 수수 혐의’ 프로야구 KIA 장정석·김종국 2심도 무죄   \n",
       "1                 프로야구 NC, 연고지 이전 가능성 시사…\"진지하게 고민할 것\"   \n",
       "2                 프로야구 2025 올스타전 베스트12 팬 투표, 6월 2일 시작   \n",
       "3                이재명 \"팬 없이 프로야구 존재 못하듯, 주인 없는 정치 불가능\"   \n",
       "4                       추락하는 키움… 프로야구 최초 ‘시즌 100패’ 우려   \n",
       "5                   프로야구 청주 경기 '미배정' 회신..\"150억 썼는데..\"   \n",
       "6          '한화 2위' 프로야구 흥행 돌풍 이어지자... 굿즈 거래액도 1053% ↑   \n",
       "7               프로야구 NC, 창원NC파크 재개장 앞두고 연고지 이전 가능성 언급   \n",
       "8                      프로야구 미친 흥행…1000만 넘고 '1200만' 간다   \n",
       "9                         뜨거워진 프로야구 신인왕 경쟁…중고 신인들도 가세   \n",
       "10                  6월3일 프로야구 대전·창원 경기 오후 2시 시작…무슨 일?   \n",
       "11                          프로야구 인기로 히트 친 '크보빵' 생산 중단   \n",
       "12                          방심하면 미끌… 프로야구 중위권 전쟁 개봉박두   \n",
       "13  \"일단 운동을 잘해야 한다\" 천만관중 프로야구, '포스트 김연경' 대비한 V리그에 ...   \n",
       "14                  [부고] 이승호 씨(프로야구 키움 히어로즈 투수코치) 부친상   \n",
       "15                           프로야구 키움, 푸이그와 결별…알칸타라 영입   \n",
       "16               프로야구 1·2위 진검승부 ... 선두 LG가 한화 꺾고 기선제압   \n",
       "17                                  [프로야구] 중간 순위(29일)   \n",
       "18                       \"대전 프로야구 티켓 팝니다\" 상습사기범 구속 송치   \n",
       "19                프로야구 LG 응원단, 타이완 프로야구 경기서 'K-응원' 전수   \n",
       "20                 해태 홈런볼, 프로야구 팬 위한 '2025 야구 이벤트' 진행   \n",
       "21              하루 16만명 신기록·역대 최소경기 400만 프로야구 '흥행 홈런'   \n",
       "22               \"선동열도 포토카드로\"··· 세븐일레븐 KBO 프로야구 카드 출시   \n",
       "23                      KBO-선수협회, 첫 간담회…프로야구 발전 협력 논의   \n",
       "24                               프로야구, 극장서 생생 플레이 볼~!   \n",
       "25                  프로야구 경기 중 폭우로 관중 몰리면서 자칫 대형사고 날 뻔   \n",
       "26              프로야구 인기에 편의점도 바빠졌다…CU, '망곰·두산' 컬래버 출시   \n",
       "27                       프로야구선수협, KT와 함께 유소년 야구클리닉 진행   \n",
       "28                       문체부, 프로야구 시설관리주체들과 안전 대책 간담회   \n",
       "29              [와글와글 플러스] 역대 최단 400만 관중‥프로야구 '흥행 홈런'   \n",
       "\n",
       "                                     link  \n",
       "0   http://v.daum.net/v/20250529144946203  \n",
       "1   http://v.daum.net/v/20250530144956110  \n",
       "2   http://v.daum.net/v/20250530150300662  \n",
       "3   http://v.daum.net/v/20250530083230199  \n",
       "4   http://v.daum.net/v/20250528030358102  \n",
       "5   http://v.daum.net/v/20250526170247962  \n",
       "6   http://v.daum.net/v/20250530094643124  \n",
       "7   http://v.daum.net/v/20250530152459572  \n",
       "8   http://v.daum.net/v/20250524080023905  \n",
       "9   http://v.daum.net/v/20250527083019598  \n",
       "10  http://v.daum.net/v/20250524164519924  \n",
       "11  http://v.daum.net/v/20250529175606743  \n",
       "12  http://v.daum.net/v/20250526161905784  \n",
       "13  http://v.daum.net/v/20250530104519672  \n",
       "14  http://v.daum.net/v/20250529195440420  \n",
       "15  http://v.daum.net/v/20250519162128682  \n",
       "16  http://v.daum.net/v/20250527215726244  \n",
       "17  http://v.daum.net/v/20250529222254929  \n",
       "18  http://v.daum.net/v/20250526174331931  \n",
       "19  http://v.daum.net/v/20250519162700980  \n",
       "20  http://v.daum.net/v/20250526090340236  \n",
       "21  http://v.daum.net/v/20250520112554539  \n",
       "22  http://v.daum.net/v/20250520091222945  \n",
       "23  http://v.daum.net/v/20250520145330951  \n",
       "24  http://v.daum.net/v/20250528150344414  \n",
       "25  http://v.daum.net/v/20250528221143463  \n",
       "26  http://v.daum.net/v/20250527145405039  \n",
       "27  http://v.daum.net/v/20250520152019338  \n",
       "28  http://v.daum.net/v/20250529110031026  \n",
       "29  http://v.daum.net/v/20250521073110922  "
      ]
     },
     "execution_count": 72,
     "metadata": {},
     "output_type": "execute_result"
    }
   ],
   "source": [
    "from selenium import webdriver\n",
    "from selenium.webdriver.common.by import By\n",
    "import time\n",
    "from selenium.webdriver.common.keys import Keys\n",
    "import pandas as pd\n",
    "driver = webdriver.Chrome()\n",
    "driver.get(\"http://www.daum.net/\")\n",
    "# input 태그를 click\n",
    "time.sleep(2)\n",
    "driver.find_element(By.NAME, 'q').click()\n",
    "query = input('검색하고자 하는 단어?')\n",
    "driver.find_element(By.CSS_SELECTOR, 'input[type=\"text\"]').send_keys(query)\n",
    "driver.find_element(By.CLASS_NAME, 'btn_ksearch').click()\n",
    "time.sleep(2)\n",
    "# 뉴스탭 클릭 : ul.list_tap > li\n",
    "# driver.find_elements(By.CSS_SELECTOR, 'ul.list_tab > li')[3].click()\n",
    "driver.find_element(By.LINK_TEXT, '뉴스').click() \n",
    "time.sleep(2)\n",
    "news_list = []\n",
    "pages = 3\n",
    "for page in range(1, pages+1):\n",
    "    elems = driver.find_elements(By.CSS_SELECTOR, 'div.item-title > strong.tit-g > a')\n",
    "    for elem in elems:\n",
    "        title = elem.text\n",
    "        link = elem.get_attribute('href')\n",
    "        news_list.append([title, link])\n",
    "#         print(title,link)\n",
    "    # 2page로\n",
    "    page_div = driver.find_element(By.CSS_SELECTOR, 'div.inner_paging')\n",
    "    next_page = page_div.find_element(By.LINK_TEXT, str(page+1) )\n",
    "    next_page.click()\n",
    "    time.sleep(2)\n",
    "    print(f' - - - 현재 {page}페이지 데이터 수집 중 입니다 - - - ')\n",
    "driver.close()\n",
    "df = pd.DataFrame(news_list, columns=['title','link'])\n",
    "df.to_csv('data/ch14_daum.csv', index = False)"
   ]
  },
  {
   "cell_type": "markdown",
   "id": "2d5cded6",
   "metadata": {},
   "source": [
    "### 2) 맞춤법 검사기\n",
    "- 네이버 맞춤법 검사기 이용\n"
   ]
  },
  {
   "cell_type": "code",
   "execution_count": null,
   "id": "81c494e7",
   "metadata": {},
   "outputs": [],
   "source": []
  },
  {
   "cell_type": "code",
   "execution_count": 75,
   "id": "9f6eba21",
   "metadata": {},
   "outputs": [
    {
     "name": "stdout",
     "output_type": "stream",
     "text": [
      "총 글자 수 :  2052\n",
      "223\n",
      "248\n",
      "232\n",
      "259\n",
      "249\n",
      "190\n",
      "166\n",
      "181\n",
      "297\n"
     ]
    },
    {
     "data": {
      "text/plain": [
       "['안뇽하십니까? 방갑',\n",
       " '\\n가장 먼져 떠오르',\n",
       " '\\n다음으로 중요한 ',\n",
       " '\\n성장과 배움 또한',\n",
       " '\\n신체적, 정신적 ',\n",
       " '\\n살다 보면 예상치',\n",
       " '\\n현재를 감사하고 ',\n",
       " '\\n마지막으로, 자신',\n",
       " '\\n결국 좋은 인생은',\n",
       " '\\n감샤합니다.']"
      ]
     },
     "execution_count": 75,
     "metadata": {},
     "output_type": "execute_result"
    }
   ],
   "source": [
    "# ch14_맞춤법전.txt를 300자 이내로 자르기\n",
    "with open('data/ch14_맞춤법전.txt', 'r', encoding='utf-8') as f:\n",
    "    text = f.read()\n",
    "print('총 글자 수 : ' , len(text))\n",
    "ready_list = [] # 맞춤법 검사할 text 내용(300자 이내로 list)\n",
    "while(len(text) > 300):\n",
    "    temp = text[:300]\n",
    "    new_line_char_index = temp.rfind('\\n')\n",
    "    print(new_line_char_index)\n",
    "    ready_list.append(text[:new_line_char_index])\n",
    "    text = text[new_line_char_index:]\n",
    "ready_list.append(text)\n",
    "[ready[:10] for ready in ready_list]"
   ]
  },
  {
   "cell_type": "code",
   "execution_count": 92,
   "id": "cb512a0b",
   "metadata": {},
   "outputs": [
    {
     "name": "stdout",
     "output_type": "stream",
     "text": [
      "- - - 맞춤법 검사 진행 중 입니다 - - -\n",
      "- - - 맞춤법 검사 진행 중 입니다 - - -\n",
      "- - - 맞춤법 검사 진행 중 입니다 - - -\n",
      "- - - 맞춤법 검사 진행 중 입니다 - - -\n",
      "- - - 맞춤법 검사 진행 중 입니다 - - -\n",
      "- - - 맞춤법 검사 진행 중 입니다 - - -\n",
      "- - - 맞춤법 검사 진행 중 입니다 - - -\n",
      "- - - 맞춤법 검사 진행 중 입니다 - - -\n",
      "- - - 맞춤법 검사 진행 중 입니다 - - -\n",
      "- - - 맞춤법 검사 진행 중 입니다 - - -\n"
     ]
    }
   ],
   "source": [
    "from selenium import webdriver\n",
    "from selenium.webdriver.common.by import By\n",
    "import time\n",
    "from selenium.webdriver.common.keys import Keys\n",
    "import pandas as pd\n",
    "driver = webdriver.Chrome()\n",
    "time.sleep(1)\n",
    "driver.get('https://www.naver.com/')\n",
    "input_elem = driver.find_element(By.CSS_SELECTOR, 'input[name=query]')\n",
    "input_elem.send_keys('맞춤법 검사기')\n",
    "input_elem.send_keys(Keys.RETURN)\n",
    "time.sleep(1)\n",
    "textarea = driver.find_element(By.CLASS_NAME, 'txt_gray')\n",
    "\n",
    "results = '' # 맞춤법 검사 후 담길 변수\n",
    "for ready in ready_list:\n",
    "    time.sleep(2)\n",
    "    print('- - - 맞춤법 검사 진행 중 입니다 - - -')\n",
    "    textarea.send_keys(Keys.CONTROL, 'a') # control a\n",
    "    textarea.send_keys(ready)\n",
    "\n",
    "    button = driver.find_element(By.CLASS_NAME, 'btn_check')\n",
    "    button.click()\n",
    "\n",
    "    time.sleep(2)\n",
    "    soup = BeautifulSoup(driver.page_source, 'html.parser')\n",
    "    result = soup.select_one('p._result_text.stand_txt').text\n",
    "    results += result + '\\n'\n",
    "driver.close()\n",
    "with open('data/ch14_맞춤법후.txt', 'w', encoding='utf-8') as f:\n",
    "    f.write(results)"
   ]
  },
  {
   "cell_type": "markdown",
   "id": "76eb538f",
   "metadata": {},
   "source": [
    "# 연습문제"
   ]
  },
  {
   "cell_type": "code",
   "execution_count": 105,
   "id": "e3244c95",
   "metadata": {},
   "outputs": [
    {
     "name": "stdout",
     "output_type": "stream",
     "text": [
      "총 글자 수 :  2042\n",
      "467\n",
      "489\n",
      "437\n",
      "345\n"
     ]
    },
    {
     "data": {
      "text/plain": [
       "['안녕하십니까? 반갑', '\\n다음으로 중요한 ', '\\n신체적, 정신적 ', '\\n현재를 감사하고 ', '\\n결국 좋은 인생은']"
      ]
     },
     "execution_count": 105,
     "metadata": {},
     "output_type": "execute_result"
    }
   ],
   "source": [
    "with open('data/ch14_맞춤법후.txt', 'r', encoding='utf-8') as f:\n",
    "    text = f.read()\n",
    "print('총 글자 수 : ' , len(text))\n",
    "ready_list = [] # 맞춤법 검사할 text 내용(300자 이내로 list)\n",
    "while(len(text) > 500):\n",
    "    temp = text[:500]\n",
    "    new_line_char_index = temp.rfind('\\n')\n",
    "    print(new_line_char_index)\n",
    "    ready_list.append(text[:new_line_char_index])\n",
    "    text = text[new_line_char_index:]\n",
    "ready_list.append(text)\n",
    "[ready[:10] for ready in ready_list]"
   ]
  },
  {
   "cell_type": "code",
   "execution_count": 115,
   "id": "e43efbee",
   "metadata": {
    "scrolled": true
   },
   "outputs": [
    {
     "name": "stdout",
     "output_type": "stream",
     "text": [
      "0.0% 번역 중입니다\n",
      "33.33% 번역 중입니다\n",
      "66.67% 번역 중입니다\n"
     ]
    }
   ],
   "source": [
    "from selenium import webdriver\n",
    "from selenium.webdriver.common.by import By\n",
    "from selenium.webdriver.common.keys import Keys\n",
    "import time\n",
    "driver = webdriver.Chrome()\n",
    "driver.get('https://translate.kakao.com/')\n",
    "time.sleep(1)\n",
    "\n",
    "textarea = driver.find_element(By.CSS_SELECTOR, 'textarea.translate_area.area_item.translate_many')\n",
    "button = driver.find_element(By.CSS_SELECTOR, 'div.btn_item')\n",
    "time.sleep(1)\n",
    "results = ''\n",
    "\n",
    "for idx, ready in enumerate(ready_list):\n",
    "    print(f'{round(idx/len(ready_list)*100, 2)}% 번역 중입니다')\n",
    "    textarea.clear()\n",
    "    textarea.send_keys(ready)\n",
    "    button.click()\n",
    "    time.sleep(1)\n",
    "    \n",
    "#     soup = BeautifulSoup(driver.page_source, \"html.parser\")\n",
    "#     result = soup.select_one('div.wrap_translate wrap_result').text\n",
    "    result = driver.find_element(By.CSS_SELECTOR, 'div.result_area.translate_many').text\n",
    "    results += result + '\\n\\n'\n",
    "    [results[:10] for results in ready_list]\n",
    "driver.close()\n",
    "with open('data/ch14_자동화영어번역본.txt', 'w', encoding='utf-8') as f:\n",
    "    f.write(results)\n",
    "print('번역 완료')"
   ]
  },
  {
   "cell_type": "code",
   "execution_count": 111,
   "id": "ecd49ecc",
   "metadata": {},
   "outputs": [
    {
     "name": "stdout",
     "output_type": "stream",
     "text": [
      "크롤링 할 text 수 : [956, 782, 304]\n",
      "0.0% 번역 중입니다\n",
      "33.33% 번역 중입니다\n",
      "66.67% 번역 중입니다\n",
      "번역 완료\n"
     ]
    }
   ],
   "source": [
    "# ch14_맞춤법후.txt를 1000자이내로 자르기\n",
    "with open('data/ch14_맞춤법후.txt', 'r', encoding='utf-8') as f:\n",
    "    text = f.read()\n",
    "ready_list = [] # 맞춤법 검사할 text 내용(300이자 이내로 list)\n",
    "while(len(text) > 1000):\n",
    "    temp = text[:1000]\n",
    "    new_line_char_index = temp.rfind('\\n')\n",
    "    ready_list.append(text[:new_line_char_index])\n",
    "    text = text[new_line_char_index:]\n",
    "ready_list.append(text)\n",
    "print('크롤링 할 text 수 :',[len(ready) for ready in ready_list])\n",
    "# 크롤링\n",
    "from selenium import webdriver\n",
    "from selenium.webdriver.common.by import By\n",
    "from selenium.webdriver.common.keys import Keys\n",
    "import time\n",
    "driver = webdriver.Chrome()\n",
    "time.sleep(0.5)\n",
    "driver.get('https://translate.kakao.com/')\n",
    "textarea = driver.find_element(By.CSS_SELECTOR, 'textarea.translate_area.area_item.translate_many')\n",
    "button = driver.find_element(By.CSS_SELECTOR, 'div.btn_item')\n",
    "results = ''\n",
    "for idx, ready in enumerate(ready_list):\n",
    "    print( f'{round(idx/len(ready_list) * 100, 2)}% 번역 중입니다')\n",
    "    textarea.clear()\n",
    "    textarea.send_keys(ready)\n",
    "    button.click()\n",
    "    time.sleep(1)\n",
    "\n",
    "    # soup = BeautifulSoup(driver.page_source, \"html.parser\")\n",
    "    # result = soup.select_one('div.result_area.translate_many').text\n",
    "    result = driver.find_element(By.CSS_SELECTOR, 'div.result_area.translate_many').text\n",
    "    results += result + '\\n\\n'\n",
    "driver.close()    \n",
    "# 번역한 결과 파일 출력\n",
    "with open('data/ch14_자동화영어번역본.txt', 'w', encoding='utf-8') as f:\n",
    "    f.write(results)\n",
    "print('번역 완료')"
   ]
  },
  {
   "cell_type": "code",
   "execution_count": null,
   "id": "7ba21400",
   "metadata": {},
   "outputs": [],
   "source": []
  },
  {
   "cell_type": "code",
   "execution_count": null,
   "id": "170dd439",
   "metadata": {},
   "outputs": [],
   "source": []
  },
  {
   "cell_type": "code",
   "execution_count": null,
   "id": "c6a5c763",
   "metadata": {},
   "outputs": [],
   "source": []
  },
  {
   "cell_type": "code",
   "execution_count": null,
   "id": "640dc1bd",
   "metadata": {},
   "outputs": [],
   "source": []
  },
  {
   "cell_type": "code",
   "execution_count": null,
   "id": "e82f304a",
   "metadata": {},
   "outputs": [],
   "source": []
  },
  {
   "cell_type": "code",
   "execution_count": null,
   "id": "0b7ace66",
   "metadata": {},
   "outputs": [],
   "source": []
  },
  {
   "cell_type": "code",
   "execution_count": null,
   "id": "c57d2497",
   "metadata": {},
   "outputs": [],
   "source": []
  },
  {
   "cell_type": "code",
   "execution_count": null,
   "id": "a749b52f",
   "metadata": {},
   "outputs": [],
   "source": []
  },
  {
   "cell_type": "code",
   "execution_count": null,
   "id": "81493232",
   "metadata": {},
   "outputs": [],
   "source": []
  },
  {
   "cell_type": "code",
   "execution_count": null,
   "id": "011a18bf",
   "metadata": {},
   "outputs": [],
   "source": []
  },
  {
   "cell_type": "code",
   "execution_count": null,
   "id": "49b98922",
   "metadata": {},
   "outputs": [],
   "source": []
  },
  {
   "cell_type": "code",
   "execution_count": null,
   "id": "11e147fc",
   "metadata": {},
   "outputs": [],
   "source": []
  },
  {
   "cell_type": "code",
   "execution_count": null,
   "id": "f5915ec2",
   "metadata": {},
   "outputs": [],
   "source": []
  },
  {
   "cell_type": "code",
   "execution_count": null,
   "id": "e417d0e1",
   "metadata": {},
   "outputs": [],
   "source": []
  },
  {
   "cell_type": "code",
   "execution_count": null,
   "id": "cea772ec",
   "metadata": {},
   "outputs": [],
   "source": []
  },
  {
   "cell_type": "code",
   "execution_count": null,
   "id": "cd77385d",
   "metadata": {},
   "outputs": [],
   "source": []
  },
  {
   "cell_type": "code",
   "execution_count": null,
   "id": "b8a130fc",
   "metadata": {},
   "outputs": [],
   "source": []
  },
  {
   "cell_type": "code",
   "execution_count": null,
   "id": "af94c089",
   "metadata": {},
   "outputs": [],
   "source": []
  },
  {
   "cell_type": "code",
   "execution_count": null,
   "id": "9baf0c5d",
   "metadata": {},
   "outputs": [],
   "source": []
  },
  {
   "cell_type": "code",
   "execution_count": null,
   "id": "7b92eaf9",
   "metadata": {},
   "outputs": [],
   "source": []
  },
  {
   "cell_type": "code",
   "execution_count": null,
   "id": "a08d2dcf",
   "metadata": {},
   "outputs": [],
   "source": []
  },
  {
   "cell_type": "code",
   "execution_count": null,
   "id": "2d9cf35c",
   "metadata": {},
   "outputs": [],
   "source": []
  },
  {
   "cell_type": "code",
   "execution_count": null,
   "id": "750e7874",
   "metadata": {},
   "outputs": [],
   "source": []
  },
  {
   "cell_type": "code",
   "execution_count": null,
   "id": "8a3751b3",
   "metadata": {},
   "outputs": [],
   "source": []
  },
  {
   "cell_type": "code",
   "execution_count": null,
   "id": "14f48312",
   "metadata": {},
   "outputs": [],
   "source": []
  },
  {
   "cell_type": "code",
   "execution_count": null,
   "id": "5323de9c",
   "metadata": {},
   "outputs": [],
   "source": []
  },
  {
   "cell_type": "code",
   "execution_count": null,
   "id": "b8942bd7",
   "metadata": {},
   "outputs": [],
   "source": []
  },
  {
   "cell_type": "code",
   "execution_count": null,
   "id": "a3a4540b",
   "metadata": {},
   "outputs": [],
   "source": []
  },
  {
   "cell_type": "code",
   "execution_count": null,
   "id": "f8ab475c",
   "metadata": {},
   "outputs": [],
   "source": []
  },
  {
   "cell_type": "code",
   "execution_count": null,
   "id": "b9f251b9",
   "metadata": {},
   "outputs": [],
   "source": []
  }
 ],
 "metadata": {
  "kernelspec": {
   "display_name": "Python 3 (ipykernel)",
   "language": "python",
   "name": "python3"
  },
  "language_info": {
   "codemirror_mode": {
    "name": "ipython",
    "version": 3
   },
   "file_extension": ".py",
   "mimetype": "text/x-python",
   "name": "python",
   "nbconvert_exporter": "python",
   "pygments_lexer": "ipython3",
   "version": "3.10.9"
  },
  "toc": {
   "base_numbering": 1,
   "nav_menu": {},
   "number_sections": false,
   "sideBar": true,
   "skip_h1_title": false,
   "title_cell": "Table of Contents",
   "title_sidebar": "Contents",
   "toc_cell": false,
   "toc_position": {
    "height": "calc(100% - 180px)",
    "left": "10px",
    "top": "150px",
    "width": "165px"
   },
   "toc_section_display": true,
   "toc_window_display": true
  }
 },
 "nbformat": 4,
 "nbformat_minor": 5
}
