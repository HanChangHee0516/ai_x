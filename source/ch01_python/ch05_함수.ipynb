{
 "cells": [
  {
   "cell_type": "code",
   "execution_count": 29,
   "id": "53b78856",
   "metadata": {},
   "outputs": [
    {
     "data": {
      "text/html": [
       "\n",
       "<style>\n",
       "div.container{width:90% !important;}\n",
       "div.cell.code_cell.rendered{width:100%;}\n",
       "div.input_prompt{padding:0px;}\n",
       "div.CodeMirror {font-family:Consolas; font-size:12pt;}\n",
       "div.text_cell_render.rendered_html{font-size:12pt;}\n",
       "div.output {font-size:12pt; font-weight:bold;}\n",
       "div.input {font-family:Consolas; font-size:12pt;}\n",
       "div.prompt {min-width:70px;}\n",
       "div#toc-wrapper{padding-top:120px;}\n",
       "div.text_cell_render ul li{font-size:12pt;padding:5px;}\n",
       "table.dataframe{font-size:12px;}\n",
       "</style>\n"
      ],
      "text/plain": [
       "<IPython.core.display.HTML object>"
      ]
     },
     "metadata": {},
     "output_type": "display_data"
    }
   ],
   "source": [
    "from IPython.display import display, HTML\n",
    "display(HTML(\"\"\"\n",
    "<style>\n",
    "div.container{width:90% !important;}\n",
    "div.cell.code_cell.rendered{width:100%;}\n",
    "div.input_prompt{padding:0px;}\n",
    "div.CodeMirror {font-family:Consolas; font-size:12pt;}\n",
    "div.text_cell_render.rendered_html{font-size:12pt;}\n",
    "div.output {font-size:12pt; font-weight:bold;}\n",
    "div.input {font-family:Consolas; font-size:12pt;}\n",
    "div.prompt {min-width:70px;}\n",
    "div#toc-wrapper{padding-top:120px;}\n",
    "div.text_cell_render ul li{font-size:12pt;padding:5px;}\n",
    "table.dataframe{font-size:12px;}\n",
    "</style>\n",
    "\"\"\"))"
   ]
  },
  {
   "cell_type": "markdown",
   "id": "7c054822",
   "metadata": {},
   "source": [
    "<b><font size=\"5\" color=\"red\">ch05. 함수</font></b>\n",
    "- 사용할 코드를 묶어 놓고 그것에 이름을 붙인 것\n",
    "- 오버로딩(함수 이름이 같고, 매개변수의 타입이나 갯수로 다른 함수를 허용하는 것)불가\n",
    "- 함수 정의\n",
    "```\n",
    "def 함수명([매개변수1, ... 매개변수n]):\n",
    "    명령어1\n",
    "    명령어2\n",
    "    명령어n\n",
    "   \n",
    "```\n",
    "# 1절. 함수의 정의 및 사용\n",
    "## 1.1 함수 정의"
   ]
  },
  {
   "cell_type": "code",
   "execution_count": 9,
   "id": "bfdef16e",
   "metadata": {},
   "outputs": [],
   "source": [
    "# 함수 정의\n",
    "def hello():\n",
    "    for i in range(5):\n",
    "        print('Hello')"
   ]
  },
  {
   "cell_type": "code",
   "execution_count": 11,
   "id": "ff880d70",
   "metadata": {},
   "outputs": [
    {
     "name": "stdout",
     "output_type": "stream",
     "text": [
      "Hello\n",
      "Hello\n",
      "Hello\n",
      "Hello\n",
      "Hello\n"
     ]
    }
   ],
   "source": [
    "# 함수 사용\n",
    "hello()"
   ]
  },
  {
   "cell_type": "code",
   "execution_count": 3,
   "id": "0ae72a70",
   "metadata": {},
   "outputs": [],
   "source": [
    "# 함수 정의\n",
    "def my_message(x, msg): # msg를 x번 출력하는 함수\n",
    "#     x = 5\n",
    "#     msg = 'hello'\n",
    "    for i in range(x):\n",
    "        print(msg)"
   ]
  },
  {
   "cell_type": "code",
   "execution_count": 20,
   "id": "51c569ba",
   "metadata": {},
   "outputs": [
    {
     "name": "stdout",
     "output_type": "stream",
     "text": [
      "hello\n",
      "hello\n",
      "hello\n",
      "hello\n",
      "hello\n"
     ]
    }
   ],
   "source": [
    "my_message(5, 'hello')"
   ]
  },
  {
   "cell_type": "code",
   "execution_count": 4,
   "id": "72ebcde8",
   "metadata": {},
   "outputs": [
    {
     "name": "stdout",
     "output_type": "stream",
     "text": [
      "hello\n",
      "hello\n",
      "hello\n"
     ]
    }
   ],
   "source": [
    "my_msg = my_message\n",
    "my_msg(3, 'hello')"
   ]
  },
  {
   "cell_type": "code",
   "execution_count": 23,
   "id": "1daaea40",
   "metadata": {},
   "outputs": [
    {
     "data": {
      "text/plain": [
       "(function, function)"
      ]
     },
     "execution_count": 23,
     "metadata": {},
     "output_type": "execute_result"
    }
   ],
   "source": [
    "type(my_msg), type(my_message)"
   ]
  },
  {
   "cell_type": "code",
   "execution_count": 2,
   "id": "c215df9c",
   "metadata": {},
   "outputs": [
    {
     "name": "stdout",
     "output_type": "stream",
     "text": [
      "Hello\n",
      "Hello\n"
     ]
    }
   ],
   "source": [
    "print('Hello') # 파이썬 내장 함수(import 하지 않고 사용할 수 있는 함수)\n",
    "print = 5\n",
    "# print('Hello')\n",
    "del print\n",
    "print('Hello')"
   ]
  },
  {
   "cell_type": "code",
   "execution_count": 6,
   "id": "c52cda19",
   "metadata": {},
   "outputs": [
    {
     "name": "stdout",
     "output_type": "stream",
     "text": [
      "Hello\n",
      "Hello\n"
     ]
    }
   ],
   "source": [
    "my_message(2, 'Hello')"
   ]
  },
  {
   "cell_type": "code",
   "execution_count": 7,
   "id": "b7b533d7",
   "metadata": {},
   "outputs": [],
   "source": [
    "my_message = 5"
   ]
  },
  {
   "cell_type": "code",
   "execution_count": 8,
   "id": "7dcba028",
   "metadata": {},
   "outputs": [
    {
     "ename": "TypeError",
     "evalue": "'int' object is not callable",
     "output_type": "error",
     "traceback": [
      "\u001b[1;31m---------------------------------------------------------------------------\u001b[0m",
      "\u001b[1;31mTypeError\u001b[0m                                 Traceback (most recent call last)",
      "Cell \u001b[1;32mIn[8], line 1\u001b[0m\n\u001b[1;32m----> 1\u001b[0m \u001b[43mmy_message\u001b[49m\u001b[43m(\u001b[49m\u001b[38;5;241;43m2\u001b[39;49m\u001b[43m,\u001b[49m\u001b[43m \u001b[49m\u001b[38;5;124;43m'\u001b[39;49m\u001b[38;5;124;43mHello\u001b[39;49m\u001b[38;5;124;43m'\u001b[39;49m\u001b[43m)\u001b[49m\n",
      "\u001b[1;31mTypeError\u001b[0m: 'int' object is not callable"
     ]
    }
   ],
   "source": [
    "my_message(2, 'Hello')"
   ]
  },
  {
   "cell_type": "code",
   "execution_count": 9,
   "id": "e21433f7",
   "metadata": {},
   "outputs": [],
   "source": [
    "del my_message\n",
    "# 변수를 삭제해도 함수 사용불가(파이썬 내장함수가 아니라서)"
   ]
  },
  {
   "cell_type": "code",
   "execution_count": 10,
   "id": "6828a716",
   "metadata": {},
   "outputs": [
    {
     "ename": "NameError",
     "evalue": "name 'my_message' is not defined",
     "output_type": "error",
     "traceback": [
      "\u001b[1;31m---------------------------------------------------------------------------\u001b[0m",
      "\u001b[1;31mNameError\u001b[0m                                 Traceback (most recent call last)",
      "Cell \u001b[1;32mIn[10], line 1\u001b[0m\n\u001b[1;32m----> 1\u001b[0m \u001b[43mmy_message\u001b[49m(\u001b[38;5;241m2\u001b[39m, \u001b[38;5;124m'\u001b[39m\u001b[38;5;124mHello\u001b[39m\u001b[38;5;124m'\u001b[39m)\n",
      "\u001b[1;31mNameError\u001b[0m: name 'my_message' is not defined"
     ]
    }
   ],
   "source": [
    "my_message(2, 'Hello')"
   ]
  },
  {
   "cell_type": "code",
   "execution_count": 9,
   "id": "ff0b00f5",
   "metadata": {},
   "outputs": [],
   "source": [
    "# 함수 정의 : 4월 16일 (수)\n",
    "def my_hello():\n",
    "    print('Hello, Python')\n",
    "    print('Hello, World')\n",
    "def my_hello(cut):\n",
    "    for i in range(cut):\n",
    "        print('Hello, Python')\n",
    "        print('Hello, World')"
   ]
  },
  {
   "cell_type": "code",
   "execution_count": 12,
   "id": "3ff317ad",
   "metadata": {},
   "outputs": [],
   "source": [
    "# 함수사용 - 함수호출\n",
    "my_hello(0)"
   ]
  },
  {
   "cell_type": "code",
   "execution_count": 13,
   "id": "39e28c17",
   "metadata": {},
   "outputs": [
    {
     "data": {
      "text/plain": [
       "<function __main__.my_hello(cut)>"
      ]
     },
     "execution_count": 13,
     "metadata": {},
     "output_type": "execute_result"
    }
   ],
   "source": [
    "my_hello"
   ]
  },
  {
   "cell_type": "code",
   "execution_count": 14,
   "id": "6b53bead",
   "metadata": {},
   "outputs": [
    {
     "data": {
      "text/plain": [
       "'__main__'"
      ]
     },
     "execution_count": 14,
     "metadata": {},
     "output_type": "execute_result"
    }
   ],
   "source": [
    "__name__"
   ]
  },
  {
   "cell_type": "code",
   "execution_count": 15,
   "id": "2c4bb13a",
   "metadata": {},
   "outputs": [
    {
     "name": "stdout",
     "output_type": "stream",
     "text": [
      "Hello, Python\n",
      "Hello, World\n",
      "Hello, Python\n",
      "Hello, World\n"
     ]
    }
   ],
   "source": [
    "if __name__=='__main__':\n",
    "    my_hello(2)"
   ]
  },
  {
   "cell_type": "code",
   "execution_count": 2,
   "id": "12585f54",
   "metadata": {},
   "outputs": [
    {
     "name": "stdout",
     "output_type": "stream",
     "text": [
      "Hello, Python\n",
      "Hello, World\n",
      "Hello, Python\n",
      "Hello, World\n",
      "Hello, Python\n",
      "Hello, World\n"
     ]
    }
   ],
   "source": [
    "import ch05  # ch05 모듈을 load\n",
    "ch05.my_hello(3)"
   ]
  },
  {
   "cell_type": "code",
   "execution_count": 3,
   "id": "29cf2b81",
   "metadata": {},
   "outputs": [],
   "source": [
    "from ch05 import my_hello  # ch05 모듈안에 my_hello load"
   ]
  },
  {
   "cell_type": "code",
   "execution_count": 4,
   "id": "28e2c44a",
   "metadata": {},
   "outputs": [
    {
     "name": "stdout",
     "output_type": "stream",
     "text": [
      "Hello, Python\n",
      "Hello, World\n",
      "Hello, Python\n",
      "Hello, World\n",
      "Hello, Python\n",
      "Hello, World\n"
     ]
    }
   ],
   "source": [
    "my_hello(3)"
   ]
  },
  {
   "cell_type": "markdown",
   "id": "dd6ddb4d",
   "metadata": {},
   "source": [
    "## 1.2 docstring"
   ]
  },
  {
   "cell_type": "code",
   "execution_count": 10,
   "id": "437d0011",
   "metadata": {},
   "outputs": [],
   "source": [
    "def my_function():\n",
    "    '''\n",
    "    함수의 첫라인에 독스트링을 포함할 수 있습니다\n",
    "    독스트링은 함수의 설명서를 달아주는 역활\n",
    "    주석보다 많은 기능(shift+tap으로 독스트링을 볼 수 있음)\n",
    "    '''\n",
    "    pass"
   ]
  },
  {
   "cell_type": "code",
   "execution_count": 8,
   "id": "e4a91886",
   "metadata": {},
   "outputs": [],
   "source": [
    "my_function()"
   ]
  },
  {
   "cell_type": "code",
   "execution_count": 11,
   "id": "2a07198f",
   "metadata": {},
   "outputs": [
    {
     "name": "stdout",
     "output_type": "stream",
     "text": [
      "\n",
      "    함수의 첫라인에 독스트링을 포함할 수 있습니다\n",
      "    독스트링은 함수의 설명서를 달아주는 역활\n",
      "    주석보다 많은 기능(shift+tap으로 독스트링을 볼 수 있음)\n",
      "    \n"
     ]
    }
   ],
   "source": [
    "print(my_function.__doc__)"
   ]
  },
  {
   "cell_type": "code",
   "execution_count": 12,
   "id": "1961a5b7",
   "metadata": {},
   "outputs": [],
   "source": [
    "def fibonacci(n):\n",
    "    a, b = 0, 1\n",
    "    while a < n:\n",
    "        print(a, end=' ')\n",
    "        a, b = b, a+b\n",
    "    print() # 개행"
   ]
  },
  {
   "cell_type": "code",
   "execution_count": 14,
   "id": "f55b6134",
   "metadata": {},
   "outputs": [
    {
     "name": "stdout",
     "output_type": "stream",
     "text": [
      "0 1 1 2 3 5 8 13 21 34 55 89 144 233 377 610 987 \n"
     ]
    }
   ],
   "source": [
    "fibonacci(1000)"
   ]
  },
  {
   "cell_type": "code",
   "execution_count": 17,
   "id": "d7e2d342",
   "metadata": {},
   "outputs": [
    {
     "ename": "NameError",
     "evalue": "name 'a' is not defined",
     "output_type": "error",
     "traceback": [
      "\u001b[1;31m---------------------------------------------------------------------------\u001b[0m",
      "\u001b[1;31mNameError\u001b[0m                                 Traceback (most recent call last)",
      "Cell \u001b[1;32mIn[17], line 1\u001b[0m\n\u001b[1;32m----> 1\u001b[0m \u001b[43ma\u001b[49m, b\n",
      "\u001b[1;31mNameError\u001b[0m: name 'a' is not defined"
     ]
    }
   ],
   "source": [
    "a, b"
   ]
  },
  {
   "cell_type": "code",
   "execution_count": 16,
   "id": "9d26c73e",
   "metadata": {},
   "outputs": [
    {
     "data": {
      "text/plain": [
       "10"
      ]
     },
     "execution_count": 16,
     "metadata": {},
     "output_type": "execute_result"
    }
   ],
   "source": [
    "x"
   ]
  },
  {
   "cell_type": "markdown",
   "id": "4d528042",
   "metadata": {},
   "source": [
    "## 1.3 지역변수(local var)와 전역변수(global var)"
   ]
  },
  {
   "cell_type": "code",
   "execution_count": 19,
   "id": "31e98685",
   "metadata": {},
   "outputs": [
    {
     "name": "stdout",
     "output_type": "stream",
     "text": [
      "함수안 : 100\n",
      "함수 밖 :  100\n"
     ]
    }
   ],
   "source": [
    "global_var = 100 # 전연변수\n",
    "def funcl():\n",
    "    print('함수안 :', global_var)\n",
    "funcl()\n",
    "print('함수 밖 : ', global_var)"
   ]
  },
  {
   "cell_type": "code",
   "execution_count": 26,
   "id": "c4b48689",
   "metadata": {},
   "outputs": [
    {
     "name": "stdout",
     "output_type": "stream",
     "text": [
      "함수 안 :  200\n"
     ]
    },
    {
     "ename": "NameError",
     "evalue": "name 'local_var' is not defined",
     "output_type": "error",
     "traceback": [
      "\u001b[1;31m---------------------------------------------------------------------------\u001b[0m",
      "\u001b[1;31mNameError\u001b[0m                                 Traceback (most recent call last)",
      "Cell \u001b[1;32mIn[26], line 5\u001b[0m\n\u001b[0;32m      3\u001b[0m     \u001b[38;5;28mprint\u001b[39m(\u001b[38;5;124m'\u001b[39m\u001b[38;5;124m함수 안 : \u001b[39m\u001b[38;5;124m'\u001b[39m, local_var)\n\u001b[0;32m      4\u001b[0m funcl2()\n\u001b[1;32m----> 5\u001b[0m \u001b[38;5;28mprint\u001b[39m(\u001b[38;5;124m'\u001b[39m\u001b[38;5;124m함수 밖 : \u001b[39m\u001b[38;5;124m'\u001b[39m, \u001b[43mlocal_var\u001b[49m)\n",
      "\u001b[1;31mNameError\u001b[0m: name 'local_var' is not defined"
     ]
    }
   ],
   "source": [
    "def funcl2():\n",
    "    local_var = 200 # 지역변수\n",
    "    print('함수 안 : ', local_var)\n",
    "funcl2()\n",
    "print('함수 밖 : ', local_var)"
   ]
  },
  {
   "cell_type": "code",
   "execution_count": 28,
   "id": "de2e3ec9",
   "metadata": {},
   "outputs": [
    {
     "name": "stdout",
     "output_type": "stream",
     "text": [
      "함수 안(지역변수 g_var) :  200\n",
      "함수 밖(전역변수 g_var) :  100\n"
     ]
    }
   ],
   "source": [
    "g_var = 100 # 전역변수\n",
    "def func3():\n",
    "    g_var = 200 # 지역변수 (변수 선언과 할당)\n",
    "    print('함수 안(지역변수 g_var) : ', g_var)\n",
    "func3()\n",
    "print('함수 밖(전역변수 g_var) : ', g_var)"
   ]
  },
  {
   "cell_type": "code",
   "execution_count": 29,
   "id": "cd8f99ed",
   "metadata": {},
   "outputs": [],
   "source": [
    "# 렉시컬 특성\n",
    "g_var = 100 #전연변수\n",
    "def func4():\n",
    "    print('함수 안 g_var', g_var)\n",
    "    g_var = 200 #지역변수"
   ]
  },
  {
   "cell_type": "code",
   "execution_count": 31,
   "id": "0736054e",
   "metadata": {},
   "outputs": [
    {
     "ename": "UnboundLocalError",
     "evalue": "local variable 'g_var' referenced before assignment",
     "output_type": "error",
     "traceback": [
      "\u001b[1;31m---------------------------------------------------------------------------\u001b[0m",
      "\u001b[1;31mUnboundLocalError\u001b[0m                         Traceback (most recent call last)",
      "Cell \u001b[1;32mIn[31], line 1\u001b[0m\n\u001b[1;32m----> 1\u001b[0m \u001b[43mfunc4\u001b[49m\u001b[43m(\u001b[49m\u001b[43m)\u001b[49m\n",
      "Cell \u001b[1;32mIn[29], line 3\u001b[0m, in \u001b[0;36mfunc4\u001b[1;34m()\u001b[0m\n\u001b[0;32m      2\u001b[0m \u001b[38;5;28;01mdef\u001b[39;00m \u001b[38;5;21mfunc4\u001b[39m():\n\u001b[1;32m----> 3\u001b[0m     \u001b[38;5;28mprint\u001b[39m(\u001b[38;5;124m'\u001b[39m\u001b[38;5;124m함수 안 g_var\u001b[39m\u001b[38;5;124m'\u001b[39m, \u001b[43mg_var\u001b[49m)\n\u001b[0;32m      4\u001b[0m     g_var \u001b[38;5;241m=\u001b[39m \u001b[38;5;241m200\u001b[39m\n",
      "\u001b[1;31mUnboundLocalError\u001b[0m: local variable 'g_var' referenced before assignment"
     ]
    }
   ],
   "source": [
    "func4()"
   ]
  },
  {
   "cell_type": "code",
   "execution_count": 35,
   "id": "88688fe8",
   "metadata": {},
   "outputs": [
    {
     "name": "stdout",
     "output_type": "stream",
     "text": [
      "함수 안 g_var 100\n",
      "함수 밖에 g-var : 200\n"
     ]
    }
   ],
   "source": [
    "# 렉시컬 특성\n",
    "g_var = 100 #전연변수\n",
    "def func4():\n",
    "    global g_var # func4 함수내의 g_var는 전연변수를 쓴다\n",
    "    print('함수 안 g_var', g_var)\n",
    "    g_var = 200 #지역변수 -> 전역변수\n",
    "func4()\n",
    "print('함수 밖에 g-var :', g_var)"
   ]
  },
  {
   "cell_type": "markdown",
   "id": "6eebf70b",
   "metadata": {},
   "source": [
    "# 1.4 값에 의한 호출\n",
    "- 함수의 매개변수(인수)로 전달되는 변수가 스칼라 변수(문자, 숫자, 논리형)일 때"
   ]
  },
  {
   "cell_type": "code",
   "execution_count": 39,
   "id": "ab50f149",
   "metadata": {},
   "outputs": [
    {
     "data": {
      "text/plain": [
       "2356444358448"
      ]
     },
     "execution_count": 39,
     "metadata": {},
     "output_type": "execute_result"
    }
   ],
   "source": [
    "foo = 'a'\n",
    "id(foo)"
   ]
  },
  {
   "cell_type": "code",
   "execution_count": 56,
   "id": "4c0f34bd",
   "metadata": {},
   "outputs": [
    {
     "name": "stdout",
     "output_type": "stream",
     "text": [
      "Before : a id(f) :  2356444358448\n",
      "After : aaa id(f) :  2356559985392\n"
     ]
    }
   ],
   "source": [
    "def func1(f): # 매개변수 f는 지역변수\n",
    "    print('Before :', f, 'id(f) : ', id(f))\n",
    "    f = f*3\n",
    "    print('After :', f, 'id(f) : ', id(f))\n",
    "func1(foo)"
   ]
  },
  {
   "cell_type": "code",
   "execution_count": 57,
   "id": "6e3d663b",
   "metadata": {},
   "outputs": [
    {
     "name": "stdout",
     "output_type": "stream",
     "text": [
      "a 2356444358448\n"
     ]
    }
   ],
   "source": [
    "print(foo, id(foo))"
   ]
  },
  {
   "cell_type": "code",
   "execution_count": null,
   "id": "bc9b4f0c",
   "metadata": {},
   "outputs": [],
   "source": []
  },
  {
   "cell_type": "markdown",
   "id": "555d6903",
   "metadata": {},
   "source": [
    "# 1.5 참조에 의한 호출\n",
    "- 함수의 매개변수(인자)로 전달되는 변수가 리스트, 튜플, 셋, 딕셔너리 등의 객체일 경우"
   ]
  },
  {
   "cell_type": "code",
   "execution_count": 44,
   "id": "f74f13ed",
   "metadata": {},
   "outputs": [
    {
     "data": {
      "text/plain": [
       "2356560128896"
      ]
     },
     "execution_count": 44,
     "metadata": {},
     "output_type": "execute_result"
    }
   ],
   "source": [
    "L = [1, 2, 3]\n",
    "id(L)"
   ]
  },
  {
   "cell_type": "code",
   "execution_count": 58,
   "id": "967d48d8",
   "metadata": {},
   "outputs": [
    {
     "name": "stdout",
     "output_type": "stream",
     "text": [
      "Before :  [1, 2, 3, 4, 4, 4, 4, 4, 4] 2356560128896\n",
      "After : [1, 2, 3, 4, 4, 4, 4, 4, 4, 4] 2356560128896\n"
     ]
    }
   ],
   "source": [
    "def func2(f): # 매개변수는 지역변수\n",
    "    print('Before : ', f, id(f))\n",
    "    f.append(4)\n",
    "    print('After :', f, id(f))\n",
    "func2(L)"
   ]
  },
  {
   "cell_type": "code",
   "execution_count": 60,
   "id": "1b13cc18",
   "metadata": {},
   "outputs": [
    {
     "name": "stdout",
     "output_type": "stream",
     "text": [
      "L= [1, 2, 3, 4, 4, 4, 4, 4, 4, 4] 2356560128896\n"
     ]
    }
   ],
   "source": [
    "print('L=', L, id(L))"
   ]
  },
  {
   "cell_type": "markdown",
   "id": "9c896c73",
   "metadata": {},
   "source": [
    "# 2절. 함수의 실행결과를 반환하는 return"
   ]
  },
  {
   "cell_type": "code",
   "execution_count": 61,
   "id": "ee4dc368",
   "metadata": {},
   "outputs": [],
   "source": [
    "def add(x, y):\n",
    "    return x + y"
   ]
  },
  {
   "cell_type": "code",
   "execution_count": 65,
   "id": "ce384068",
   "metadata": {},
   "outputs": [
    {
     "data": {
      "text/plain": [
       "5"
      ]
     },
     "execution_count": 65,
     "metadata": {},
     "output_type": "execute_result"
    }
   ],
   "source": [
    "i = 2; j = 3\n",
    "add(i, j)"
   ]
  },
  {
   "cell_type": "code",
   "execution_count": 66,
   "id": "6cc67cb4",
   "metadata": {},
   "outputs": [],
   "source": [
    "def add():\n",
    "    return True"
   ]
  },
  {
   "cell_type": "code",
   "execution_count": 67,
   "id": "c760211b",
   "metadata": {},
   "outputs": [
    {
     "data": {
      "text/plain": [
       "True"
      ]
     },
     "execution_count": 67,
     "metadata": {},
     "output_type": "execute_result"
    }
   ],
   "source": [
    "add()"
   ]
  },
  {
   "cell_type": "code",
   "execution_count": 68,
   "id": "487b398b",
   "metadata": {},
   "outputs": [],
   "source": [
    "def add(a):\n",
    "    pass"
   ]
  },
  {
   "cell_type": "code",
   "execution_count": 70,
   "id": "30f5de31",
   "metadata": {},
   "outputs": [
    {
     "name": "stdout",
     "output_type": "stream",
     "text": [
      "None\n"
     ]
    }
   ],
   "source": [
    "print(add(10))"
   ]
  },
  {
   "cell_type": "code",
   "execution_count": 73,
   "id": "17ee25eb",
   "metadata": {},
   "outputs": [],
   "source": [
    "def fibonacci_print(n):\n",
    "    '''\n",
    "    매개변수로 들어온 n값 미만의 피보나치 수열을 출력\n",
    "    ex. n=10이면 0 1 1 2 3 5 8을 출력\n",
    "    '''\n",
    "    a, b = 0, 1\n",
    "    while a < n:\n",
    "        print(a, end=' ')\n",
    "        a, b = b, a+b\n",
    "    print() # 개행\n",
    "def fibonacci_return(n):\n",
    "    '''\n",
    "    매개변수로 들어온 n값 미만의 피보나치 수열을 리스트로 return\n",
    "    ex. n=10이면 0 1 1 2 3 5 8을 return\n",
    "    '''\n",
    "    result = []\n",
    "    a, b = 0, 1\n",
    "    while a < n:\n",
    "        result.append(a)\n",
    "        a, b = b, a+b\n",
    "    return result"
   ]
  },
  {
   "cell_type": "code",
   "execution_count": 72,
   "id": "db691626",
   "metadata": {},
   "outputs": [
    {
     "name": "stdout",
     "output_type": "stream",
     "text": [
      "0 1 1 2 3 5 8 13 21 34 55 89 \n",
      "None\n"
     ]
    }
   ],
   "source": [
    "x = fibonacci_print(100)\n",
    "print(x)"
   ]
  },
  {
   "cell_type": "code",
   "execution_count": 74,
   "id": "a35e3e45",
   "metadata": {},
   "outputs": [
    {
     "name": "stdout",
     "output_type": "stream",
     "text": [
      "[0, 1, 1, 2, 3, 5, 8, 13, 21, 34, 55, 89]\n",
      "<class 'list'>\n"
     ]
    }
   ],
   "source": [
    "x = fibonacci_return(100)\n",
    "print(x)\n",
    "print(type(x))"
   ]
  },
  {
   "cell_type": "markdown",
   "id": "a05ee444",
   "metadata": {},
   "source": [
    "## 여러개 값 return"
   ]
  },
  {
   "cell_type": "code",
   "execution_count": 75,
   "id": "04bf764f",
   "metadata": {},
   "outputs": [],
   "source": [
    "def swap(a, b):\n",
    "    '매개변수의 순서를 바꿔서 return'\n",
    "    return b, a"
   ]
  },
  {
   "cell_type": "code",
   "execution_count": 78,
   "id": "26c32d85",
   "metadata": {},
   "outputs": [
    {
     "name": "stdout",
     "output_type": "stream",
     "text": [
      "함수 실행 전 x=5, y=10 \n",
      "함수 실행 후 x=10, y=5 \n"
     ]
    }
   ],
   "source": [
    "x, y = 5, 10\n",
    "print(f'함수 실행 전 x={x}, y={y} ')\n",
    "x, y = swap(x, y)\n",
    "print(f'함수 실행 후 x={x}, y={y} ')"
   ]
  },
  {
   "cell_type": "markdown",
   "id": "5be90738",
   "metadata": {},
   "source": [
    "# 3절. 함수의 매개변수 ★\n",
    "## 3.1 기본값을 갖는 매개변수"
   ]
  },
  {
   "cell_type": "code",
   "execution_count": 85,
   "id": "b8f79ae9",
   "metadata": {},
   "outputs": [],
   "source": [
    "def make_url(ip, port=80): # 순서인수 > 기본값을갖는매개변수\n",
    "    return \"http://{}:{}\".format(ip, port)"
   ]
  },
  {
   "cell_type": "code",
   "execution_count": 89,
   "id": "52970ede",
   "metadata": {},
   "outputs": [
    {
     "name": "stdout",
     "output_type": "stream",
     "text": [
      "http://www.naver.com:80\n",
      "http://localhost:8090\n",
      "http://localhost:8090\n"
     ]
    }
   ],
   "source": [
    "print(make_url('www.naver.com'))\n",
    "print(make_url('localhost',8090))\n",
    "print(make_url(port=8090, ip='localhost'))"
   ]
  },
  {
   "cell_type": "code",
   "execution_count": 90,
   "id": "ca9aa49e",
   "metadata": {},
   "outputs": [],
   "source": [
    "# 잘 못 된 함수\n",
    "# def make_url(port=80, ip):\n",
    "#     return \"http://{}:{}\".format(ip, port)"
   ]
  },
  {
   "cell_type": "markdown",
   "id": "6f7db6a8",
   "metadata": {},
   "source": [
    "## 3.2 기본변수를 갖는 매개변수\n",
    "- 기본변수가 스칼라 변수일 때\n",
    "- 기본변수가 리스트, 셋, 딕셔너리 드의 객체일 때"
   ]
  },
  {
   "cell_type": "code",
   "execution_count": 93,
   "id": "6c221d1a",
   "metadata": {},
   "outputs": [],
   "source": [
    "i = 5\n",
    "# 기본값을 갖는 변수가 스칼라 변수일 때 : arg의 기본값은 함수가 정의되는 시점의 값\n",
    "def func2(arg = i):\n",
    "    print('arg = ', arg)"
   ]
  },
  {
   "cell_type": "code",
   "execution_count": 95,
   "id": "609fc6fe",
   "metadata": {},
   "outputs": [
    {
     "name": "stdout",
     "output_type": "stream",
     "text": [
      "arg =  5\n"
     ]
    }
   ],
   "source": [
    "i = 50\n",
    "func2()"
   ]
  },
  {
   "cell_type": "code",
   "execution_count": 105,
   "id": "1f7de663",
   "metadata": {},
   "outputs": [],
   "source": [
    "list_ = []\n",
    "# 기본값을 갖는 변수가 객체(데이터구조)일 때 arg의 기본값은 호출되는 시점의 값\n",
    "def func3(date, L = list_):\n",
    "    'date를 L에 append'\n",
    "    L.append(date)\n",
    "    return L"
   ]
  },
  {
   "cell_type": "code",
   "execution_count": 106,
   "id": "d10f6a4d",
   "metadata": {},
   "outputs": [
    {
     "name": "stdout",
     "output_type": "stream",
     "text": [
      "[10]\n"
     ]
    }
   ],
   "source": [
    "print(func3(10)) # lsit_가 수정 : [10]"
   ]
  },
  {
   "cell_type": "code",
   "execution_count": 107,
   "id": "9789304b",
   "metadata": {},
   "outputs": [
    {
     "name": "stdout",
     "output_type": "stream",
     "text": [
      "[10, 20]\n"
     ]
    }
   ],
   "source": [
    "print(func3(20))"
   ]
  },
  {
   "cell_type": "code",
   "execution_count": 108,
   "id": "ba1d6c24",
   "metadata": {},
   "outputs": [
    {
     "data": {
      "text/plain": [
       "[10, 20]"
      ]
     },
     "execution_count": 108,
     "metadata": {},
     "output_type": "execute_result"
    }
   ],
   "source": [
    "list_"
   ]
  },
  {
   "cell_type": "code",
   "execution_count": 133,
   "id": "c01164b5",
   "metadata": {},
   "outputs": [],
   "source": [
    "def func4(date, L=None): \n",
    "    if L==None:\n",
    "        L = []\n",
    "    L.append(date)\n",
    "    return L"
   ]
  },
  {
   "cell_type": "code",
   "execution_count": 134,
   "id": "751c86b4",
   "metadata": {
    "scrolled": true
   },
   "outputs": [
    {
     "name": "stdout",
     "output_type": "stream",
     "text": [
      "[10]\n",
      "[10, 20, 10]\n"
     ]
    }
   ],
   "source": [
    "print(func4(10))\n",
    "print(func4(10, list_))"
   ]
  },
  {
   "cell_type": "markdown",
   "id": "49007224",
   "metadata": {},
   "source": [
    "## 3.3 튜플 매개변수를 이용한 가변인수 설정"
   ]
  },
  {
   "cell_type": "code",
   "execution_count": null,
   "id": "ce69c68f",
   "metadata": {},
   "outputs": [],
   "source": [
    "# 파이썬은 오버로딩(함수의 중복)을 지원하지 않습니다\n",
    "def add(a, b):\n",
    "    return a+b\n",
    "def add(a+b+c):\n",
    "    return a+b+c"
   ]
  },
  {
   "cell_type": "code",
   "execution_count": null,
   "id": "129905d8",
   "metadata": {},
   "outputs": [],
   "source": [
    "add(1,2,3,4)"
   ]
  },
  {
   "cell_type": "code",
   "execution_count": 118,
   "id": "c3a771a4",
   "metadata": {},
   "outputs": [],
   "source": [
    "# *args : 매개변수들을 하나의 튜플 변수 aegs로 전달 받음\n",
    "def add(*args):\n",
    "    '전달받은 매개변수들의 합을 return'\n",
    "    # print('args = ', args)\n",
    "    result_tot = 0 # 누적변수\n",
    "    for date in args:\n",
    "        result_tot += date\n",
    "    return result_tot"
   ]
  },
  {
   "cell_type": "code",
   "execution_count": 119,
   "id": "c68201b8",
   "metadata": {},
   "outputs": [
    {
     "name": "stdout",
     "output_type": "stream",
     "text": [
      "1\n",
      "3\n",
      "28\n"
     ]
    }
   ],
   "source": [
    "print(add(1))\n",
    "print(add(1, 2))\n",
    "print(add(1, 2, 3, 4, 5, 6, 7))"
   ]
  },
  {
   "cell_type": "code",
   "execution_count": 121,
   "id": "2eff21ff",
   "metadata": {},
   "outputs": [
    {
     "data": {
      "text/plain": [
       "'Python/Oracle/DL/ML'"
      ]
     },
     "execution_count": 121,
     "metadata": {},
     "output_type": "execute_result"
    }
   ],
   "source": [
    "suvject = ('Python', 'Oracle', 'DL', 'ML')\n",
    "'/'.join(suvject)"
   ]
  },
  {
   "cell_type": "code",
   "execution_count": 122,
   "id": "1727cd0b",
   "metadata": {},
   "outputs": [],
   "source": [
    "def concat(*suvject, sep):\n",
    "    return sep.join(suvject)"
   ]
  },
  {
   "cell_type": "code",
   "execution_count": 124,
   "id": "a86124f4",
   "metadata": {},
   "outputs": [
    {
     "ename": "TypeError",
     "evalue": "concat() missing 1 required keyword-only argument: 'sep'",
     "output_type": "error",
     "traceback": [
      "\u001b[1;31m---------------------------------------------------------------------------\u001b[0m",
      "\u001b[1;31mTypeError\u001b[0m                                 Traceback (most recent call last)",
      "Cell \u001b[1;32mIn[124], line 1\u001b[0m\n\u001b[1;32m----> 1\u001b[0m \u001b[43mconcat\u001b[49m\u001b[43m(\u001b[49m\u001b[43m(\u001b[49m\u001b[38;5;124;43m'\u001b[39;49m\u001b[38;5;124;43mPython\u001b[39;49m\u001b[38;5;124;43m'\u001b[39;49m\u001b[43m,\u001b[49m\u001b[43m \u001b[49m\u001b[38;5;124;43m'\u001b[39;49m\u001b[38;5;124;43mOracle\u001b[39;49m\u001b[38;5;124;43m'\u001b[39;49m\u001b[43m,\u001b[49m\u001b[43m \u001b[49m\u001b[38;5;124;43m'\u001b[39;49m\u001b[38;5;124;43mDL\u001b[39;49m\u001b[38;5;124;43m'\u001b[39;49m\u001b[43m,\u001b[49m\u001b[43m \u001b[49m\u001b[38;5;124;43m'\u001b[39;49m\u001b[38;5;124;43mML\u001b[39;49m\u001b[38;5;124;43m'\u001b[39;49m\u001b[43m)\u001b[49m\u001b[43m,\u001b[49m\u001b[43m \u001b[49m\u001b[38;5;124;43m'\u001b[39;49m\u001b[38;5;124;43m/\u001b[39;49m\u001b[38;5;124;43m'\u001b[39;49m\u001b[43m)\u001b[49m\n",
      "\u001b[1;31mTypeError\u001b[0m: concat() missing 1 required keyword-only argument: 'sep'"
     ]
    }
   ],
   "source": [
    "concat('Python', 'Oracle', 'DL', 'ML', '/')"
   ]
  },
  {
   "cell_type": "code",
   "execution_count": 126,
   "id": "f5477575",
   "metadata": {},
   "outputs": [
    {
     "data": {
      "text/plain": [
       "'Python / Oracle / DL / ML'"
      ]
     },
     "execution_count": 126,
     "metadata": {},
     "output_type": "execute_result"
    }
   ],
   "source": [
    "# 해결책 1 : 매개변수 이름을 지정해서 호풀\n",
    "concat('Python', 'Oracle', 'DL', 'ML', sep=' / ')"
   ]
  },
  {
   "cell_type": "code",
   "execution_count": 3,
   "id": "fa93d448",
   "metadata": {},
   "outputs": [],
   "source": [
    "# 해결책 2 : 기본값을 갖는 반드시 갖는 키워드인수 사용\n",
    "def concat(*subject, sep=' ~ '):\n",
    "    return sep.join(subject)"
   ]
  },
  {
   "cell_type": "code",
   "execution_count": 4,
   "id": "032c3358",
   "metadata": {},
   "outputs": [
    {
     "data": {
      "text/plain": [
       "'Python / Oracle / DL / ML'"
      ]
     },
     "execution_count": 4,
     "metadata": {},
     "output_type": "execute_result"
    }
   ],
   "source": [
    "concat('Python', 'Oracle', 'DL', 'ML', sep=' / ')"
   ]
  },
  {
   "cell_type": "code",
   "execution_count": 7,
   "id": "f82550db",
   "metadata": {},
   "outputs": [
    {
     "name": "stdout",
     "output_type": "stream",
     "text": [
      "Python / Oracle / DL / ML\n"
     ]
    }
   ],
   "source": [
    "print('Python', 'Oracle', 'DL', 'ML', sep=' / ')"
   ]
  },
  {
   "cell_type": "code",
   "execution_count": 8,
   "id": "0e050be2",
   "metadata": {},
   "outputs": [],
   "source": [
    "# 해결책 3 : sep을 순서인수로 앞에 선언\n",
    "def concet(sep, *suvject):\n",
    "    return sep.join(suvject)"
   ]
  },
  {
   "cell_type": "code",
   "execution_count": 9,
   "id": "4273b4ce",
   "metadata": {},
   "outputs": [
    {
     "data": {
      "text/plain": [
       "'Python ~ Oracle ~ DL'"
      ]
     },
     "execution_count": 9,
     "metadata": {},
     "output_type": "execute_result"
    }
   ],
   "source": [
    "concat('Python', 'Oracle', 'DL')"
   ]
  },
  {
   "cell_type": "markdown",
   "id": "1a2eb65a",
   "metadata": {},
   "source": [
    "## 3.4 딕셔너리 매개변수\n",
    "- 여러개의 키워드인수를 딕셔너리 형태로 받아서 가변키워드 인수 처리"
   ]
  },
  {
   "cell_type": "code",
   "execution_count": 17,
   "id": "24dbad48",
   "metadata": {},
   "outputs": [],
   "source": [
    "def func5(**kwargs):\n",
    "    print(kwargs)\n",
    "    print(type(kwargs))\n",
    "    print('이름 : ', kwargs.get('name', '대마왕'))\n",
    "    print('나이 : ', kwargs.get('age', 30))\n",
    "    print('주소 : ', kwargs.get('address', '서울'))"
   ]
  },
  {
   "cell_type": "code",
   "execution_count": 18,
   "id": "e0262303",
   "metadata": {},
   "outputs": [
    {
     "name": "stdout",
     "output_type": "stream",
     "text": [
      "{'name': '홍길동', 'age': 30, 'address': '신림동'}\n",
      "<class 'dict'>\n",
      "이름 :  홍길동\n",
      "나이 :  30\n",
      "주소 :  신림동\n"
     ]
    }
   ],
   "source": [
    "func5(name='홍길동', age=30, address='신림동')"
   ]
  },
  {
   "cell_type": "code",
   "execution_count": 21,
   "id": "72fae9d3",
   "metadata": {},
   "outputs": [
    {
     "name": "stdout",
     "output_type": "stream",
     "text": [
      "{'name': '김길동'}\n",
      "<class 'dict'>\n",
      "이름 :  김길동\n",
      "나이 :  30\n",
      "주소 :  서울\n"
     ]
    }
   ],
   "source": [
    "func5(name='김길동')"
   ]
  },
  {
   "cell_type": "markdown",
   "id": "1bb6af34",
   "metadata": {},
   "source": [
    "## 3.5 함수정의시 매개변수 순서\n",
    "- 순서인수 > 튜플매개변수(*) > 키워드인수(매개변수이름반드시명시) > 딕셔너리매개변수(**)"
   ]
  },
  {
   "cell_type": "code",
   "execution_count": 28,
   "id": "a0843368",
   "metadata": {},
   "outputs": [],
   "source": [
    "def func6(a, b, *c, **d):\n",
    "    print('순서인수 a : ', a)\n",
    "    print('순서인수 b : ', b)\n",
    "    print('튜플인수 c : ', c)\n",
    "    print('딕셔너리 인수 d : ', d)"
   ]
  },
  {
   "cell_type": "code",
   "execution_count": 29,
   "id": "92ab962d",
   "metadata": {},
   "outputs": [
    {
     "name": "stdout",
     "output_type": "stream",
     "text": [
      "순서인수 a :  10\n",
      "순서인수 b :  20\n",
      "튜플인수 c :  (1, 2, 3, 4, 5, 6, 7, 8, 9)\n",
      "딕셔너리 인수 d :  {'name': '홍길동', 'age': 30, 'address': '서울'}\n"
     ]
    }
   ],
   "source": [
    "func6(10,20, 1, 2, 3, 4, 5, 6, 7, 8, 9, name='홍길동', age=30, address='서울')"
   ]
  },
  {
   "cell_type": "code",
   "execution_count": 31,
   "id": "01b6c991",
   "metadata": {},
   "outputs": [],
   "source": [
    "def func7(a, b, *c, d='기본값', **e):\n",
    "    print('순서인수 a : ', a)\n",
    "    print('순서인수 b : ', b)\n",
    "    print('튜플인수 c : ', c)\n",
    "    print('키원드인수(기본값을 갖는 인수, 호풀시 매개변수명 반드시 명시) 인수 d : ', d)\n",
    "    print('딕셔너리인수 e : ', e)"
   ]
  },
  {
   "cell_type": "code",
   "execution_count": 32,
   "id": "fe561e98",
   "metadata": {},
   "outputs": [
    {
     "name": "stdout",
     "output_type": "stream",
     "text": [
      "순서인수 a :  10\n",
      "순서인수 b :  20\n",
      "튜플인수 c :  (1, 2, 3)\n",
      "키원드인수(기본값을 갖는 인수, 호풀시 매개변수명 반드시 명시) 인수 d :  딴거\n",
      "딕셔너리인수 e :  {'name': '홍길동', 'fontsize': 12, 'fortfamily': 'consola'}\n"
     ]
    }
   ],
   "source": [
    "func7(10, 20, 1, 2, 3, d='딴거', name='홍길동', fontsize=12, fortfamily='consola')"
   ]
  },
  {
   "cell_type": "code",
   "execution_count": 33,
   "id": "f2c683be",
   "metadata": {},
   "outputs": [
    {
     "name": "stdout",
     "output_type": "stream",
     "text": [
      "순서인수 a :  10\n",
      "순서인수 b :  20\n",
      "튜플인수 c :  (1, 2, 3, '딴거')\n",
      "키원드인수(기본값을 갖는 인수, 호풀시 매개변수명 반드시 명시) 인수 d :  기본값\n",
      "딕셔너리인수 e :  {'name': '홍길동', 'fontsize': 12, 'fortfamily': 'consola'}\n"
     ]
    }
   ],
   "source": [
    "func7(10, 20, 1, 2, 3, '딴거', name='홍길동', fontsize=12, fortfamily='consola')"
   ]
  },
  {
   "cell_type": "markdown",
   "id": "f0a0e084",
   "metadata": {},
   "source": [
    "## 3.6 인수의 언팩킹\n",
    "### 튜플인수 언팩킹\n",
    "- 언패킹 : 함수 호출시 매개변수앞에 *붙음\n",
    "- 패킹 : 함수 정의시 매개변수 앞에 * 붙음(튜플매개변수)"
   ]
  },
  {
   "cell_type": "code",
   "execution_count": 37,
   "id": "e6c3fe53",
   "metadata": {},
   "outputs": [],
   "source": [
    "def add(*arge):\n",
    "    print(arge)\n",
    "    tot = 0\n",
    "    for num in arge:\n",
    "        tot += num\n",
    "    return tot"
   ]
  },
  {
   "cell_type": "code",
   "execution_count": 35,
   "id": "b71b9757",
   "metadata": {},
   "outputs": [
    {
     "data": {
      "text/plain": [
       "10"
      ]
     },
     "execution_count": 35,
     "metadata": {},
     "output_type": "execute_result"
    }
   ],
   "source": [
    "add(1, 2, 3, 4)"
   ]
  },
  {
   "cell_type": "code",
   "execution_count": 40,
   "id": "575a9d0b",
   "metadata": {},
   "outputs": [
    {
     "name": "stdout",
     "output_type": "stream",
     "text": [
      "(1, 2, 3, 4)\n"
     ]
    },
    {
     "data": {
      "text/plain": [
       "10"
      ]
     },
     "execution_count": 40,
     "metadata": {},
     "output_type": "execute_result"
    }
   ],
   "source": [
    "numbers = [1, 2, 3, 4]\n",
    "add(*numbers) # 언패킹"
   ]
  },
  {
   "cell_type": "code",
   "execution_count": 41,
   "id": "b8a32aeb",
   "metadata": {},
   "outputs": [
    {
     "name": "stdout",
     "output_type": "stream",
     "text": [
      "(1, 2, 3, 4)\n"
     ]
    },
    {
     "data": {
      "text/plain": [
       "10"
      ]
     },
     "execution_count": 41,
     "metadata": {},
     "output_type": "execute_result"
    }
   ],
   "source": [
    "numbers = (1, 2, 3, 4)\n",
    "add(*numbers) # 언패킹"
   ]
  },
  {
   "cell_type": "markdown",
   "id": "b873e4f0",
   "metadata": {},
   "source": [
    "### 딕셔너리인수 언패킹\n",
    "- 언패킹 : 함수 호출시 매개변수앞에 ** 붙음(딕셔너리를 언패킹)\n",
    "- 패킹 : 함수 정의시 매개변수 앞에 ** 붙음"
   ]
  },
  {
   "cell_type": "code",
   "execution_count": 49,
   "id": "5980620f",
   "metadata": {},
   "outputs": [],
   "source": [
    "def func5(**date):\n",
    "    print(type(date))\n",
    "    for key, item in date.items():\n",
    "        print(f'{key}:{item}')"
   ]
  },
  {
   "cell_type": "code",
   "execution_count": 50,
   "id": "92a1be22",
   "metadata": {},
   "outputs": [
    {
     "name": "stdout",
     "output_type": "stream",
     "text": [
      "<class 'dict'>\n",
      "name:홍길동\n",
      "age:30\n",
      "address:신림동\n"
     ]
    }
   ],
   "source": [
    "func5(name='홍길동', age=30, address='신림동')"
   ]
  },
  {
   "cell_type": "code",
   "execution_count": 52,
   "id": "7e23266a",
   "metadata": {},
   "outputs": [
    {
     "name": "stdout",
     "output_type": "stream",
     "text": [
      "<class 'dict'>\n",
      "name:홍길동\n",
      "age:30\n",
      "address:서울시 강남구\n",
      "score:900\n"
     ]
    }
   ],
   "source": [
    "customInfo = {'name':'홍길동', 'age':30, 'address':'서울시 강남구', 'score':900}\n",
    "func5(**customInfo)"
   ]
  },
  {
   "cell_type": "markdown",
   "id": "2bba4a29",
   "metadata": {},
   "source": [
    "# 4절. 람다식\n",
    "- return  한줄짜리 작은 익명함수\n",
    "## 4.1 람다식 연습"
   ]
  },
  {
   "cell_type": "code",
   "execution_count": 53,
   "id": "50bf2d53",
   "metadata": {},
   "outputs": [
    {
     "data": {
      "text/plain": [
       "7"
      ]
     },
     "execution_count": 53,
     "metadata": {},
     "output_type": "execute_result"
    }
   ],
   "source": [
    "def add(a, b):\n",
    "    return a+b\n",
    "add(3, 4)"
   ]
  },
  {
   "cell_type": "code",
   "execution_count": 54,
   "id": "1ad06df7",
   "metadata": {},
   "outputs": [
    {
     "data": {
      "text/plain": [
       "7"
      ]
     },
     "execution_count": 54,
     "metadata": {},
     "output_type": "execute_result"
    }
   ],
   "source": [
    "add2 = lambda a, b : a+b\n",
    "add2(3, 4)"
   ]
  },
  {
   "cell_type": "code",
   "execution_count": 56,
   "id": "1d4b95cf",
   "metadata": {},
   "outputs": [
    {
     "data": {
      "text/plain": [
       "(function, function)"
      ]
     },
     "execution_count": 56,
     "metadata": {},
     "output_type": "execute_result"
    }
   ],
   "source": [
    "type(add), type(add2)"
   ]
  },
  {
   "cell_type": "code",
   "execution_count": 57,
   "id": "535d9a50",
   "metadata": {},
   "outputs": [
    {
     "data": {
      "text/plain": [
       "7"
      ]
     },
     "execution_count": 57,
     "metadata": {},
     "output_type": "execute_result"
    }
   ],
   "source": [
    "(lambda a, b : a+b)(3, 4)"
   ]
  },
  {
   "cell_type": "code",
   "execution_count": 1,
   "id": "bb7dc113",
   "metadata": {},
   "outputs": [
    {
     "data": {
      "text/plain": [
       "('짝수', '홀수')"
      ]
     },
     "execution_count": 1,
     "metadata": {},
     "output_type": "execute_result"
    }
   ],
   "source": [
    "# ex1. 매개변수로 들어온 값이 짝수인지 홀수인지 return\n",
    "def ex1(num):\n",
    "#     if num%2:\n",
    "#         result = '홀수'\n",
    "#     else:\n",
    "#         result = '짝수'\n",
    "    return '홀수'if num%2 else '짝수'\n",
    "ex1 = lambda num : '홀수' if num%2 else '짝수'\n",
    "ex1(10), ex1(-9)"
   ]
  },
  {
   "cell_type": "code",
   "execution_count": 6,
   "id": "3a65eac6",
   "metadata": {},
   "outputs": [
    {
     "data": {
      "text/plain": [
       "(1, 10)"
      ]
     },
     "execution_count": 6,
     "metadata": {},
     "output_type": "execute_result"
    }
   ],
   "source": [
    "# ex2. 두 매개변수로의 차이를 return \n",
    "def diff(a, b):\n",
    "#     if a>b:\n",
    "#         result = a-b\n",
    "#     else:\n",
    "#         result = b-a\n",
    "    result = a-b if a>b else b-a\n",
    "    return result\n",
    "diff(2, 1), diff(10, 20)"
   ]
  },
  {
   "cell_type": "code",
   "execution_count": 8,
   "id": "7b83ba32",
   "metadata": {},
   "outputs": [
    {
     "name": "stdout",
     "output_type": "stream",
     "text": [
      "1 10\n",
      "<class 'function'> <class 'function'>\n"
     ]
    }
   ],
   "source": [
    "ex2 = lambda a, b : a-b if a>b else b-a\n",
    "print(ex2(2,1), ex2(10, 20))\n",
    "print(type(diff), type(ex2))"
   ]
  },
  {
   "cell_type": "code",
   "execution_count": 4,
   "id": "945be5f2",
   "metadata": {},
   "outputs": [
    {
     "data": {
      "text/plain": [
       "-8"
      ]
     },
     "execution_count": 4,
     "metadata": {},
     "output_type": "execute_result"
    }
   ],
   "source": [
    "# ex2. 두 매개변수로의 차이를 return \n",
    "def ex2(*num):\n",
    "    lst = 0\n",
    "    for date in num:\n",
    "        lst -= date\n",
    "    return(lst)\n",
    "ex2(5, 3)"
   ]
  },
  {
   "cell_type": "code",
   "execution_count": 9,
   "id": "869c2d51",
   "metadata": {},
   "outputs": [
    {
     "data": {
      "text/plain": [
       "(1000, 'negative')"
      ]
     },
     "execution_count": 9,
     "metadata": {},
     "output_type": "execute_result"
    }
   ],
   "source": [
    "# ex3. 매개변수로 잔액을 받아 양수면 잔액을 return, 음수면 'negative'를 return\n",
    "ex3 = lambda money : money if money>0 else 'negative'\n",
    "ex3(1000), ex3(-500)"
   ]
  },
  {
   "cell_type": "code",
   "execution_count": 11,
   "id": "4892855f",
   "metadata": {},
   "outputs": [
    {
     "data": {
      "text/plain": [
       "('유효하지 않음', 'A팀', 'B팀', '재시험')"
      ]
     },
     "execution_count": 11,
     "metadata": {},
     "output_type": "execute_result"
    }
   ],
   "source": [
    "# ex4. 점수를 입력받아 점수가 80점 이상이면 A팀, \n",
    "#      60점 이상은 B팀, 60점 미만은 재시험, \n",
    "#      그외는 유효하지 않음\n",
    "ex4 = lambda score : 'A팀' if 80<=score<=100 else \\\n",
    "                    'B팀' if 60<=score<80 else \\\n",
    "                    '재시험' if 0<=score<60 else \\\n",
    "                    '유효하지 않음'\n",
    "ex4(120), ex4(85), ex4(70), ex4(50)"
   ]
  },
  {
   "cell_type": "code",
   "execution_count": 12,
   "id": "2d34973f",
   "metadata": {},
   "outputs": [],
   "source": [
    "# ex5. safe_index를 람다식으로\n",
    "def safe_index(vector, date):\n",
    "    if date in vector: # lst안에 date가 있는지 여부\n",
    "        return vector.index(date)\n",
    "    else:\n",
    "        return -1"
   ]
  },
  {
   "cell_type": "code",
   "execution_count": 13,
   "id": "fb380ffc",
   "metadata": {},
   "outputs": [
    {
     "data": {
      "text/plain": [
       "(-1, 1)"
      ]
     },
     "execution_count": 13,
     "metadata": {},
     "output_type": "execute_result"
    }
   ],
   "source": [
    "ex5 = lambda vector, date : vector.index(date) if date in vector else -1\n",
    "tup = (1, 2, 3)\n",
    "ex5(tup, 4), ex5(tup, 2)"
   ]
  },
  {
   "cell_type": "markdown",
   "id": "77115ad1",
   "metadata": {},
   "source": [
    "## 4.2  함수의 매개변수에 람다식 이용\n",
    "          함수의 return값으로 람다식 이용\n",
    "### (1) map"
   ]
  },
  {
   "cell_type": "code",
   "execution_count": 2,
   "id": "cdb61c59",
   "metadata": {},
   "outputs": [],
   "source": [
    "def map_template(func, L=[]):\n",
    "    '''\n",
    "    'L의 모든 요솔ㄹ func()함수를 적용시켜 return'\n",
    "    [func(l) for l in L]\n",
    "    '''\n",
    "    result = []\n",
    "    for l in L:\n",
    "        result.append(func(l))\n",
    "    return result\n",
    "#     return [func(l) for l in L]"
   ]
  },
  {
   "cell_type": "code",
   "execution_count": 4,
   "id": "89ca922f",
   "metadata": {},
   "outputs": [
    {
     "data": {
      "text/plain": [
       "[2, 4, 6, 8, 10, 12, 14, 16, 18, 20]"
      ]
     },
     "execution_count": 4,
     "metadata": {},
     "output_type": "execute_result"
    }
   ],
   "source": [
    "# 리스트 데이터를 가공 방법 1. map_template\n",
    "list_date = [1, 2, 3, 4, 5, 6, 7, 8, 9, 10]\n",
    "map_template(lambda x : x*2, list_date)\n",
    "# def x_2(x):\n",
    "#     return x*2\n",
    "# map_template(x_2, list_date)"
   ]
  },
  {
   "cell_type": "code",
   "execution_count": 7,
   "id": "45fb8782",
   "metadata": {},
   "outputs": [
    {
     "data": {
      "text/plain": [
       "[2, 4, 6, 8, 10, 12, 14, 16, 18, 20]"
      ]
     },
     "execution_count": 7,
     "metadata": {},
     "output_type": "execute_result"
    }
   ],
   "source": [
    "# 리스트 데이터를 가공 방법 2. 리스트 컴프리헨션\n",
    "[l*2 for l in list_date]"
   ]
  },
  {
   "cell_type": "code",
   "execution_count": 9,
   "id": "8044e8d5",
   "metadata": {},
   "outputs": [
    {
     "data": {
      "text/plain": [
       "[2, 4, 6, 8, 10, 12, 14, 16, 18, 20]"
      ]
     },
     "execution_count": 9,
     "metadata": {},
     "output_type": "execute_result"
    }
   ],
   "source": [
    "# 리스트 데이터를 가공 방법 3. map():파이썬 내장함수\n",
    "list(map(lambda x : x*2, list_date))"
   ]
  },
  {
   "cell_type": "code",
   "execution_count": 10,
   "id": "a2cca362",
   "metadata": {},
   "outputs": [
    {
     "name": "stdout",
     "output_type": "stream",
     "text": [
      "2 4 6 8 10 12 14 16 18 20 "
     ]
    }
   ],
   "source": [
    "for itme in map(lambda x : x*2, list_date):\n",
    "    print(itme, end=' ')"
   ]
  },
  {
   "cell_type": "code",
   "execution_count": 21,
   "id": "363371d9",
   "metadata": {},
   "outputs": [
    {
     "name": "stdout",
     "output_type": "stream",
     "text": [
      "[5000, 800, 1000, 6000]\n"
     ]
    }
   ],
   "source": [
    "'''\n",
    "예 1. [5000,800,1000,6000]로 바꾸시오\n",
    "'''\n",
    "prices = ['5,000', '800', '1000', '6,000']\n",
    "num = list(map(lambda x : int(x.replace(',','')) , prices))\n",
    "print(num)"
   ]
  },
  {
   "cell_type": "code",
   "execution_count": 26,
   "id": "9e5983fd",
   "metadata": {},
   "outputs": [
    {
     "data": {
      "text/plain": [
       "(5000, 1800)"
      ]
     },
     "execution_count": 26,
     "metadata": {},
     "output_type": "execute_result"
    }
   ],
   "source": [
    "def func(x):\n",
    "    return int(x.replace(',',''))\n",
    "func('5,000'), func('1800')"
   ]
  },
  {
   "cell_type": "code",
   "execution_count": 27,
   "id": "5d250bb3",
   "metadata": {},
   "outputs": [
    {
     "data": {
      "text/plain": [
       "[5000, 800, 1000, 6000]"
      ]
     },
     "execution_count": 27,
     "metadata": {},
     "output_type": "execute_result"
    }
   ],
   "source": [
    "list(map(lambda x : int(x.replace(',','')) , prices))"
   ]
  },
  {
   "cell_type": "code",
   "execution_count": 15,
   "id": "a38eeea4",
   "metadata": {},
   "outputs": [
    {
     "name": "stdout",
     "output_type": "stream",
     "text": [
      "[10, 20, 30]\n"
     ]
    }
   ],
   "source": [
    "# 설명서\n",
    "str_nums = ['10', '20', '30']\n",
    "int_nums = list(map(int, str_nums))\n",
    "print(int_nums)  # 출력: [10, 20, 30]"
   ]
  },
  {
   "cell_type": "code",
   "execution_count": 77,
   "id": "ba7d8023",
   "metadata": {},
   "outputs": [],
   "source": [
    "'''\n",
    "예2. members1 = [{'name':'홍길동', 'birth':'2000-01-01'},\n",
    "                {'name':'신길동', 'birth':'1998-12-31'}]를\n",
    "    members2 = [{'name':'홍길동', 'year' : 2000, 'month' : 1, 'day' : 1},\n",
    "                {'name':'홍길동', 'year' : 1998, 'month' : 12, 'day' : 31'}]를 바꿉니다\n",
    "'''\n",
    "member1 = [{'name':'홍길동', 'birth':'2000-01-01'},\n",
    "            {'name':'신길동', 'birth':'1998-12-31'}]"
   ]
  },
  {
   "cell_type": "code",
   "execution_count": 83,
   "id": "9d891d96",
   "metadata": {},
   "outputs": [],
   "source": [
    "member2 = [{'name':'홍길동', 'year' : 2000, 'month' : 1, 'day' : 1},\n",
    "            {'name':'신길동', 'year' : 1998, 'month' : 12, 'day' : 31}]"
   ]
  },
  {
   "cell_type": "code",
   "execution_count": 42,
   "id": "502bd488",
   "metadata": {},
   "outputs": [],
   "source": [
    "def split_date(date):\n",
    "    split_date = date.split('-')\n",
    "#     print(split_date[0], split_date('-')[1], split_date[2])\n",
    "    return {'year' : int(split_date[0]),\n",
    "           'month' : int(split_date[1]),\n",
    "           'day' : int(split_date[2])}"
   ]
  },
  {
   "cell_type": "code",
   "execution_count": 43,
   "id": "a6195902",
   "metadata": {},
   "outputs": [
    {
     "data": {
      "text/plain": [
       "{'year': 2000, 'month': 1, 'day': 1}"
      ]
     },
     "execution_count": 43,
     "metadata": {},
     "output_type": "execute_result"
    }
   ],
   "source": [
    "split_date('2000-01-01')"
   ]
  },
  {
   "cell_type": "code",
   "execution_count": 50,
   "id": "d48575bd",
   "metadata": {},
   "outputs": [
    {
     "data": {
      "text/plain": [
       "{'name': '홍길동', 'year': 2000, 'month': 1, 'day': 1}"
      ]
     },
     "execution_count": 50,
     "metadata": {},
     "output_type": "execute_result"
    }
   ],
   "source": [
    "def momber_func(momber): # {'name':'홍길동', 'birth':'2000-01-01'}\n",
    "    \"{'name':'홍길동', 'year' : 1998, 'month' : 12, 'day' : 31'}식으로  return\"\n",
    "    return {\n",
    "        'name' : member.get('name'),\n",
    "        'year' : int(member['birth'].split('_')[0]),\n",
    "        'month' : int(member['birth'].split('_')[1]),\n",
    "        'day' : int(member['day'].split('_')[2])}\n",
    "member_func(member1[0])"
   ]
  },
  {
   "cell_type": "code",
   "execution_count": 58,
   "id": "b5336b9c",
   "metadata": {},
   "outputs": [
    {
     "data": {
      "text/plain": [
       "({'name': '홍길동', 'year': 2000, 'month': 1, 'day': 1},\n",
       " {'name': '신길동', 'year': 1998, 'month': 12, 'day': 31})"
      ]
     },
     "execution_count": 58,
     "metadata": {},
     "output_type": "execute_result"
    }
   ],
   "source": [
    "def member_func(member): # {'name':'홍길동', 'birth':'2000-01-01'}\n",
    "    \"{'name':'신길동', 'year':1998, 'month':12, 'day':31}식으로 return\"\n",
    "    return {\n",
    "        'name':member.get('name'),\n",
    "        'year':int(member['birth'].split('-')[0]),\n",
    "        'month':int(member['birth'].split('-')[1]),\n",
    "        'day':int(member['birth'].split('-')[2]),\n",
    "    }\n",
    "member_func(member1[0]), member_func(member1[1])"
   ]
  },
  {
   "cell_type": "code",
   "execution_count": 57,
   "id": "cef06d69",
   "metadata": {},
   "outputs": [
    {
     "data": {
      "text/plain": [
       "[{'name': '홍길동', 'year': 2000, 'month': 1, 'day': 1},\n",
       " {'name': '신길동', 'year': 1998, 'month': 12, 'day': 31}]"
      ]
     },
     "execution_count": 57,
     "metadata": {},
     "output_type": "execute_result"
    }
   ],
   "source": [
    "member2 = list(map(lambda member : {\n",
    "                        'name':member.get('name'),\n",
    "                        'year':int(member['birth'].split('-')[0]),\n",
    "                        'month':int(member['birth'].split('-')[1]),\n",
    "                        'day':int(member['birth'].split('-')[2])},member1))\n",
    "member2"
   ]
  },
  {
   "cell_type": "code",
   "execution_count": null,
   "id": "585ab54b",
   "metadata": {},
   "outputs": [],
   "source": [
    "'예3. members2를 members1로 바꿉니다'"
   ]
  },
  {
   "cell_type": "code",
   "execution_count": null,
   "id": "6133750e",
   "metadata": {},
   "outputs": [],
   "source": [
    "member2 = list(map(lambda member : {}))"
   ]
  },
  {
   "cell_type": "code",
   "execution_count": 71,
   "id": "1bb51c41",
   "metadata": {},
   "outputs": [],
   "source": [
    "def join_date(date):\n",
    "   # print ([date.get('year'), date.get('month'), date.get('day')])\n",
    "    year = str(date.get('year'))\n",
    "    month= date.get('month')\n",
    "    if month < 10:\n",
    "        month = '0'+str(month)\n",
    "    else:\n",
    "        month = str(month)\n",
    "    day = date.get('day')\n",
    "    if day < 10:\n",
    "        day = '0'+str(day)\n",
    "    else:\n",
    "        day = str(day)\n",
    "    return '-'.join([year,month,day])"
   ]
  },
  {
   "cell_type": "code",
   "execution_count": 72,
   "id": "dcb111a7",
   "metadata": {},
   "outputs": [
    {
     "data": {
      "text/plain": [
       "'2000-01-01'"
      ]
     },
     "execution_count": 72,
     "metadata": {},
     "output_type": "execute_result"
    }
   ],
   "source": [
    "join_date({'year' : 2000, 'month' : 1, 'day' : 1})"
   ]
  },
  {
   "cell_type": "code",
   "execution_count": 69,
   "id": "4bc1cf8d",
   "metadata": {},
   "outputs": [],
   "source": [
    "def join_date(date):\n",
    "    print(\"{}-{}-{}\".format(date.get('year'), \n",
    "                                date.get('month'),\n",
    "                                date.get('day')))"
   ]
  },
  {
   "cell_type": "code",
   "execution_count": 70,
   "id": "d7571e2d",
   "metadata": {},
   "outputs": [
    {
     "name": "stdout",
     "output_type": "stream",
     "text": [
      "2000-1-1\n"
     ]
    }
   ],
   "source": [
    "join_date({'year' : 2000, 'month' : 1, 'day' : 1})"
   ]
  },
  {
   "cell_type": "code",
   "execution_count": 67,
   "id": "c80e4cca",
   "metadata": {},
   "outputs": [],
   "source": [
    "def join_date(data):\n",
    "    print(\"{}-{:02}-{:02}\".format(data.get('year'), \n",
    "                                  data.get('month'), \n",
    "                                  data.get('day')))"
   ]
  },
  {
   "cell_type": "code",
   "execution_count": 68,
   "id": "ecee38e6",
   "metadata": {},
   "outputs": [
    {
     "name": "stdout",
     "output_type": "stream",
     "text": [
      "2000-01-01\n"
     ]
    }
   ],
   "source": [
    "join_date({'year': 2000, 'month': 1, 'day': 1})"
   ]
  },
  {
   "cell_type": "code",
   "execution_count": null,
   "id": "2235b96b",
   "metadata": {},
   "outputs": [],
   "source": [
    "def join_date(date):\n",
    "    print(\"{year}-{month:02}-{day:02}\".format(\n",
    "                                    year =  date.get('year'),  \n",
    "                                    month = date.get('month'),\n",
    "                                    day = date.get('day')))"
   ]
  },
  {
   "cell_type": "code",
   "execution_count": 16,
   "id": "085bb4e9",
   "metadata": {},
   "outputs": [],
   "source": [
    "def join_date(date):\n",
    "    return(\"{year}-{month:02}-{day:02}\".format(**date))"
   ]
  },
  {
   "cell_type": "code",
   "execution_count": 19,
   "id": "bb8b23f0",
   "metadata": {},
   "outputs": [
    {
     "data": {
      "text/plain": [
       "'2000-01-01'"
      ]
     },
     "execution_count": 19,
     "metadata": {},
     "output_type": "execute_result"
    }
   ],
   "source": [
    "join_date({'year': 2000, 'month': 1, 'day': 1})"
   ]
  },
  {
   "cell_type": "code",
   "execution_count": 82,
   "id": "97ca84e3",
   "metadata": {},
   "outputs": [
    {
     "data": {
      "text/plain": [
       "[{'name': '홍길동', 'year': 2000, 'month': 1, 'day': 1},\n",
       " {'name': '홍길동', 'year': 1998, 'month': 12, 'day': 31}]"
      ]
     },
     "execution_count": 82,
     "metadata": {},
     "output_type": "execute_result"
    }
   ],
   "source": [
    "member2"
   ]
  },
  {
   "cell_type": "code",
   "execution_count": 84,
   "id": "925635f6",
   "metadata": {},
   "outputs": [
    {
     "data": {
      "text/plain": [
       "[{'name': '홍길동', 'birth': '2000-01-01'},\n",
       " {'name': '신길동', 'birth': '1998-12-31'}]"
      ]
     },
     "execution_count": 84,
     "metadata": {},
     "output_type": "execute_result"
    }
   ],
   "source": [
    "# {'name':'홍길동', 'year' : 2000, 'month' : 1, 'day' : 1} \n",
    "# {'name':'홍길동', 'birth':'2000-01-01'}으로 가공\n",
    "list(map(lambda member : {\n",
    "                        'name' : member.get('name'),\n",
    "                        'birth' : '{year}-{month:02}-{day:02}'.format(**member)\n",
    "                        },member2\n",
    "                        ))"
   ]
  },
  {
   "cell_type": "markdown",
   "id": "941bbfc1",
   "metadata": {},
   "source": [
    "### (2) filter\n",
    "- map : [1,2,3,4,5] => [2,4,6,8,10] (백터의 모든 데이터를 가공)\n",
    "- filter : [1,2,3,4,5] => [2,4] (원하는 정보를 추출)\n",
    "* cf. 리스트 커프리헨션"
   ]
  },
  {
   "cell_type": "code",
   "execution_count": 12,
   "id": "e3918562",
   "metadata": {},
   "outputs": [],
   "source": [
    "# [1, 2, 3, 4, 5]\n",
    "def filter_template(func, L=[]):\n",
    "    result = []\n",
    "    for l in L:\n",
    "        if func(l):\n",
    "            result.append(l)\n",
    "    return result"
   ]
  },
  {
   "cell_type": "code",
   "execution_count": 13,
   "id": "172cfd92",
   "metadata": {},
   "outputs": [
    {
     "data": {
      "text/plain": [
       "(True, False)"
      ]
     },
     "execution_count": 13,
     "metadata": {},
     "output_type": "execute_result"
    }
   ],
   "source": [
    "def evenChk(value):\n",
    "    return value%2==0\n",
    "evenChk(10), evenChk(9)"
   ]
  },
  {
   "cell_type": "code",
   "execution_count": 14,
   "id": "32f22964",
   "metadata": {},
   "outputs": [
    {
     "data": {
      "text/plain": [
       "[2, 4]"
      ]
     },
     "execution_count": 14,
     "metadata": {},
     "output_type": "execute_result"
    }
   ],
   "source": [
    "list_date = [1, 2, 3, 4, 5]\n",
    "filter_template(lambda value : value%2==0 , list_date )"
   ]
  },
  {
   "cell_type": "code",
   "execution_count": 89,
   "id": "2cc00368",
   "metadata": {},
   "outputs": [
    {
     "data": {
      "text/plain": [
       "[2, 4]"
      ]
     },
     "execution_count": 89,
     "metadata": {},
     "output_type": "execute_result"
    }
   ],
   "source": [
    "list(filter(lambda value : value%2==0 , list_date ))"
   ]
  },
  {
   "cell_type": "code",
   "execution_count": 90,
   "id": "c0f21170",
   "metadata": {},
   "outputs": [
    {
     "data": {
      "text/plain": [
       "[2, 4]"
      ]
     },
     "execution_count": 90,
     "metadata": {},
     "output_type": "execute_result"
    }
   ],
   "source": [
    "[date for date in list_date if date%2==0]"
   ]
  },
  {
   "cell_type": "markdown",
   "id": "04aaa811",
   "metadata": {},
   "source": [
    "### (3) sort"
   ]
  },
  {
   "cell_type": "code",
   "execution_count": 11,
   "id": "8475a0db",
   "metadata": {},
   "outputs": [
    {
     "data": {
      "text/plain": [
       "[2, 7, 9]"
      ]
     },
     "execution_count": 11,
     "metadata": {},
     "output_type": "execute_result"
    }
   ],
   "source": [
    "p = [9, 2, 7]\n",
    "p.sort()\n",
    "p"
   ]
  },
  {
   "cell_type": "code",
   "execution_count": 10,
   "id": "e3fc5992",
   "metadata": {},
   "outputs": [
    {
     "data": {
      "text/plain": [
       "[[1, 100], [9, 9], [10, 1]]"
      ]
     },
     "execution_count": 10,
     "metadata": {},
     "output_type": "execute_result"
    }
   ],
   "source": [
    "# 무조건 0번 item 기준으로 정렬\n",
    "number2d = [[9, 9], [1, 100], [10, 1]]\n",
    "number2d.sort()\n",
    "number2d"
   ]
  },
  {
   "cell_type": "code",
   "execution_count": 28,
   "id": "558ab9ff",
   "metadata": {},
   "outputs": [
    {
     "data": {
      "text/plain": [
       "[[9, 9, 9, 9, 9, 9], [1, 100], [10, 1]]"
      ]
     },
     "execution_count": 28,
     "metadata": {},
     "output_type": "execute_result"
    }
   ],
   "source": [
    "# 무조건 0번 item기준으로 정렬\n",
    "number2d = [[9, 9, 9, 9, 9, 9],\n",
    "            [1, 100],\n",
    "            [10, 1]]\n",
    "number2d.sort(reverse=True) # 기본(reverse=False):오름차순정렬/reverse=True:내림차순정렬\n",
    "number2d"
   ]
  },
  {
   "cell_type": "code",
   "execution_count": 26,
   "id": "56cbebb3",
   "metadata": {},
   "outputs": [
    {
     "data": {
      "text/plain": [
       "6"
      ]
     },
     "execution_count": 26,
     "metadata": {},
     "output_type": "execute_result"
    }
   ],
   "source": [
    "# 리스트를 매개변수로 받아 합을 retrue\n",
    "(lambda item : sum(item))([1, 2, 3])"
   ]
  },
  {
   "cell_type": "code",
   "execution_count": 25,
   "id": "07af3913",
   "metadata": {},
   "outputs": [
    {
     "data": {
      "text/plain": [
       "[[1, 100], [9, 9, 9, 9, 9, 9], [10, 1]]"
      ]
     },
     "execution_count": 25,
     "metadata": {},
     "output_type": "execute_result"
    }
   ],
   "source": [
    "# 합이 큰 순으로 정렬\n",
    "number2d.sort(key=lambda item : sum(item), reverse=True)\n",
    "number2d"
   ]
  },
  {
   "cell_type": "code",
   "execution_count": null,
   "id": "e2b9155c",
   "metadata": {},
   "outputs": [],
   "source": []
  },
  {
   "cell_type": "code",
   "execution_count": 22,
   "id": "95187dba",
   "metadata": {},
   "outputs": [
    {
     "data": {
      "text/plain": [
       "[(1, 'one'), (2, 'two'), (3, 'three'), (4, 'four')]"
      ]
     },
     "execution_count": 22,
     "metadata": {},
     "output_type": "execute_result"
    }
   ],
   "source": [
    "# 무조건 0번째 item기준으로 정렬\n",
    "pairs = [(2, 'two'), (1, 'one'), (4, 'four'),(3, 'three')]\n",
    "pairs.sort()\n",
    "pairs"
   ]
  },
  {
   "cell_type": "code",
   "execution_count": 23,
   "id": "8eb96cbb",
   "metadata": {},
   "outputs": [
    {
     "data": {
      "text/plain": [
       "[(4, 'four'), (1, 'one'), (3, 'three'), (2, 'two')]"
      ]
     },
     "execution_count": 23,
     "metadata": {},
     "output_type": "execute_result"
    }
   ],
   "source": [
    "# 1번째 item 기준으로 정렬(abc순)\n",
    "pairs.sort(key=lambda pair : pair[1])\n",
    "pairs"
   ]
  },
  {
   "cell_type": "code",
   "execution_count": 41,
   "id": "751b5faa",
   "metadata": {},
   "outputs": [],
   "source": [
    "students = [{'name':'홍길동', 'score':90},\n",
    "           {'name':'김길동', 'score':50},\n",
    "           {'name':'윤길동', 'score':99},\n",
    "           {'score':100}]"
   ]
  },
  {
   "cell_type": "code",
   "execution_count": 43,
   "id": "aa15ce8f",
   "metadata": {},
   "outputs": [
    {
     "data": {
      "text/plain": [
       "[{'name': '김길동', 'score': 50},\n",
       " {'name': '윤길동', 'score': 99},\n",
       " {'name': '홍길동', 'score': 90},\n",
       " {'score': 100}]"
      ]
     },
     "execution_count": 43,
     "metadata": {},
     "output_type": "execute_result"
    }
   ],
   "source": [
    "# 이름순으로 정렬(ㄱㄴㄷ순)\n",
    "students.sort(key=lambda student : student.get('name', '힣'))\n",
    "students"
   ]
  },
  {
   "cell_type": "code",
   "execution_count": 44,
   "id": "2c36da97",
   "metadata": {},
   "outputs": [
    {
     "data": {
      "text/plain": [
       "[{'score': 100},\n",
       " {'name': '윤길동', 'score': 99},\n",
       " {'name': '홍길동', 'score': 90},\n",
       " {'name': '김길동', 'score': 50}]"
      ]
     },
     "execution_count": 44,
     "metadata": {},
     "output_type": "execute_result"
    }
   ],
   "source": [
    "# score 순으로 정렬(내림차순정렬)\n",
    "students.sort(key=lambda item : item.get('score', 0), reverse=True)\n",
    "students"
   ]
  },
  {
   "cell_type": "code",
   "execution_count": 102,
   "id": "21fc2685",
   "metadata": {},
   "outputs": [],
   "source": [
    "# 책제목순 정렬(ㄱㄴㄷ순), 저자순(ㄱㄴㄷ순), 가격순 정렬\n",
    "books = [\n",
    "    {'np':1, 'title': '강남 아파트 인사이트', 'writer':'오스틀', 'price':'25,200'},\n",
    "    {'np':2, 'title': '단 한 번의 삶', 'writer':'김영하', 'price':'18,100'},\n",
    "    {'np':3, 'title': '흔한남매 19', 'writer':'백난도', 'price':'14220'},\n",
    "    {'np':4, 'title': '가격이잘못', 'writer':'신길동', 'price':'-'},\n",
    "    {'np':5, 'title': '가격이숫자', 'writer':'김길동', 'price': 900},\n",
    "    {'np':6, 'title': '가격이 없음', 'writer':'오스틀'}\n",
    "]"
   ]
  },
  {
   "cell_type": "code",
   "execution_count": 60,
   "id": "8ea1f536",
   "metadata": {
    "collapsed": true
   },
   "outputs": [
    {
     "data": {
      "text/plain": [
       "[{'np': 6, 'title': '가격이 없음', 'writer': '오스틀'},\n",
       " {'np': 5, 'title': '가격이숫자', 'writer': '김길동', 'price': 900},\n",
       " {'np': 4, 'title': '가격이잘못', 'writer': '신길동', 'price': '-'},\n",
       " {'np': 1, 'title': '강남 아파트 인사이트', 'writer': '오스틀', 'price': '25,200'},\n",
       " {'np': 2, 'title': '단 한 번의 삶', 'writer': '김영하', 'price': '18,100'},\n",
       " {'np': 3, 'title': '흔한남매 19', 'writer': '백난도', 'price': '14220'}]"
      ]
     },
     "execution_count": 60,
     "metadata": {},
     "output_type": "execute_result"
    }
   ],
   "source": [
    "books.sort(key = lambda book : book.get('title'))\n",
    "books"
   ]
  },
  {
   "cell_type": "code",
   "execution_count": 61,
   "id": "562e62fe",
   "metadata": {
    "collapsed": true
   },
   "outputs": [
    {
     "data": {
      "text/plain": [
       "[{'np': 5, 'title': '가격이숫자', 'writer': '김길동', 'price': 900},\n",
       " {'np': 2, 'title': '단 한 번의 삶', 'writer': '김영하', 'price': '18,100'},\n",
       " {'np': 3, 'title': '흔한남매 19', 'writer': '백난도', 'price': '14220'},\n",
       " {'np': 4, 'title': '가격이잘못', 'writer': '신길동', 'price': '-'},\n",
       " {'np': 6, 'title': '가격이 없음', 'writer': '오스틀'},\n",
       " {'np': 1, 'title': '강남 아파트 인사이트', 'writer': '오스틀', 'price': '25,200'}]"
      ]
     },
     "execution_count": 61,
     "metadata": {},
     "output_type": "execute_result"
    }
   ],
   "source": [
    "books.sort(key = lambda book : book.get('writer'))\n",
    "books"
   ]
  },
  {
   "cell_type": "code",
   "execution_count": 100,
   "id": "4689e146",
   "metadata": {},
   "outputs": [],
   "source": [
    "# '14,000' -> 14000 / 800 -> 800 / '-' -> 0\n",
    "def parse_int(price):\n",
    "    # print(type(price))\n",
    "    if (isinstance(price, str)) and price.replace(',','').isdigit():\n",
    "        return int(price.replace(',',''))\n",
    "    elif isinstance(price, int):\n",
    "        return price"
   ]
  },
  {
   "cell_type": "code",
   "execution_count": 101,
   "id": "fe46e239",
   "metadata": {
    "scrolled": true
   },
   "outputs": [
    {
     "data": {
      "text/plain": [
       "800"
      ]
     },
     "execution_count": 101,
     "metadata": {},
     "output_type": "execute_result"
    }
   ],
   "source": [
    "parse_int('800')"
   ]
  },
  {
   "cell_type": "code",
   "execution_count": 110,
   "id": "94f4fac2",
   "metadata": {},
   "outputs": [],
   "source": [
    "def parse_int(price):\n",
    "    #print(type(price))\n",
    "    if isinstance(price, str) and price.replace(',','').isdigit():\n",
    "        return int(price.replace(',', ''))\n",
    "    elif isinstance(price, int):\n",
    "        return price\n",
    "    else:\n",
    "        return 0"
   ]
  },
  {
   "cell_type": "code",
   "execution_count": 111,
   "id": "31927271",
   "metadata": {},
   "outputs": [
    {
     "data": {
      "text/plain": [
       "(800, 80000, 0)"
      ]
     },
     "execution_count": 111,
     "metadata": {},
     "output_type": "execute_result"
    }
   ],
   "source": [
    "parse_int('800'), parse_int('80,000'), parse_int('-')"
   ]
  },
  {
   "cell_type": "code",
   "execution_count": 108,
   "id": "e0424ff6",
   "metadata": {},
   "outputs": [
    {
     "data": {
      "text/plain": [
       "(25200, 0, 14220, 0)"
      ]
     },
     "execution_count": 108,
     "metadata": {},
     "output_type": "execute_result"
    }
   ],
   "source": [
    "# {'np':6, 'title': '가격이 없음', 'writer':'오스틀'} => 0\n",
    "# {'np':3, 'title': '흔한남매 19', 'writer':'백난도', 'price':'14220'} => 14220\n",
    "# {'np':5, 'title': '가격이숫자', 'writer':'김길동', 'price':900} => 900\n",
    "def parse_int(book):\n",
    "    if isinstance(book.get('price'), str) and \\\n",
    "            book.get('price').replace(',','').isdigit():\n",
    "        return int(book.get('price').replace(',',''))\n",
    "    elif isinstance(book.get('price'), int):\n",
    "        return book.get(price)\n",
    "    else:\n",
    "        return 0\n",
    "parse_int(book[0]), parse_int(book[3]), parse_int(book[2]), parse_int(book[5])"
   ]
  },
  {
   "cell_type": "code",
   "execution_count": 116,
   "id": "f139919a",
   "metadata": {},
   "outputs": [],
   "source": [
    "copy_book = book.copy()"
   ]
  },
  {
   "cell_type": "code",
   "execution_count": 126,
   "id": "7b1393d6",
   "metadata": {},
   "outputs": [],
   "source": [
    "copy_book.sort(key = lambda book : int(book.get('price').replace(',','')) \\\n",
    "               if isinstance(book.get('price'), str) \\\n",
    "               and book.get('price').replace(',','').isdigit() \\\n",
    "               else book.get('price') if isinstance(book.get('price'), int) \\\n",
    "               else 0)"
   ]
  },
  {
   "cell_type": "code",
   "execution_count": 127,
   "id": "bca4ed44",
   "metadata": {
    "collapsed": true
   },
   "outputs": [
    {
     "data": {
      "text/plain": [
       "[{'np': 4, 'title': '가격이잘못', 'writer': '신길동', 'price': '-'},\n",
       " {'np': 6, 'title': '가격이 없음', 'writer': '오스틀'},\n",
       " {'np': 5, 'title': '가격이숫자', 'writer': '김길동', 'price': 900},\n",
       " {'np': 3, 'title': '흔한남매 19', 'writer': '백난도', 'price': '14,220'},\n",
       " {'np': 2, 'title': '단 한 번의 삶', 'writer': '김영하', 'price': '18,100'},\n",
       " {'np': 1, 'title': '강남 아파트 인사이트', 'writer': '오스틀', 'price': '25,200'}]"
      ]
     },
     "execution_count": 127,
     "metadata": {},
     "output_type": "execute_result"
    }
   ],
   "source": [
    "copy_book"
   ]
  },
  {
   "cell_type": "code",
   "execution_count": 124,
   "id": "e05dcda9",
   "metadata": {},
   "outputs": [],
   "source": [
    "copy_book.sort(key = lambda book : int(book.get('price').replace(',','')) \\\n",
    "                    if isinstance(book.get('price'), str) \\\n",
    "                    and book.get('price').replace(',','').isdigit() \\\n",
    "                    else book.get('price') if isinstance(book.get('price'), int) else \\\n",
    "                0                \n",
    "               )"
   ]
  },
  {
   "cell_type": "code",
   "execution_count": 125,
   "id": "bbd5af77",
   "metadata": {
    "collapsed": true
   },
   "outputs": [
    {
     "data": {
      "text/plain": [
       "[{'np': 4, 'title': '가격이잘못', 'writer': '신길동', 'price': '-'},\n",
       " {'np': 6, 'title': '가격이 없음', 'writer': '오스틀'},\n",
       " {'np': 5, 'title': '가격이숫자', 'writer': '김길동', 'price': 900},\n",
       " {'np': 3, 'title': '흔한남매 19', 'writer': '백난도', 'price': '14,220'},\n",
       " {'np': 2, 'title': '단 한 번의 삶', 'writer': '김영하', 'price': '18,100'},\n",
       " {'np': 1, 'title': '강남 아파트 인사이트', 'writer': '오스틀', 'price': '25,200'}]"
      ]
     },
     "execution_count": 125,
     "metadata": {},
     "output_type": "execute_result"
    }
   ],
   "source": [
    "copy_book"
   ]
  },
  {
   "cell_type": "code",
   "execution_count": 114,
   "id": "4e65b878",
   "metadata": {
    "collapsed": true
   },
   "outputs": [
    {
     "data": {
      "text/plain": [
       "[{'np': 1, 'title': '강남 아파트 인사이트', 'writer': '오스틀', 'price': '25,200'},\n",
       " {'np': 2, 'title': '단 한 번의 삶', 'writer': '김영하', 'price': '18,100'},\n",
       " {'np': 3, 'title': '흔한남매 19', 'writer': '백난도', 'price': '14220'},\n",
       " {'np': 4, 'title': '가격이잘못', 'writer': '신길동', 'price': '-'},\n",
       " {'np': 5, 'title': '가격이숫자', 'writer': '김길동', 'price': 900},\n",
       " {'np': 6, 'title': '가격이 없음', 'writer': '오스틀'}]"
      ]
     },
     "execution_count": 114,
     "metadata": {},
     "output_type": "execute_result"
    }
   ],
   "source": [
    "books"
   ]
  },
  {
   "cell_type": "code",
   "execution_count": 112,
   "id": "5f934d5a",
   "metadata": {},
   "outputs": [],
   "source": [
    "books = [\n",
    "    {'np':1, 'title': '강남 아파트 인사이트', 'writer':'오스틀', 'price':'25,200'},\n",
    "    {'np':2, 'title': '단 한 번의 삶', 'writer':'김영하', 'price':'18,100'},\n",
    "    {'np':3, 'title': '흔한남매 19', 'writer':'백난도', 'price':'14220'},\n",
    "    {'np':4, 'title': '가격이잘못', 'writer':'신길동', 'price':'-'},\n",
    "    {'np':5, 'title': '가격이숫자', 'writer':'김길동', 'price': 900},\n",
    "    {'np':6, 'title': '가격이 없음', 'writer':'오스틀'}\n",
    "]\n",
    "copy_book = book.copy()"
   ]
  },
  {
   "cell_type": "markdown",
   "id": "a553590d",
   "metadata": {},
   "source": [
    "## 4.3 return 문에 람다식 이용"
   ]
  },
  {
   "cell_type": "code",
   "execution_count": 120,
   "id": "25759eed",
   "metadata": {},
   "outputs": [],
   "source": [
    "# 함수를 return\n",
    "def make_box(shape): # shape : [L] =>len 가 L 인 list 를 생성하는 함수 return,\n",
    "                     #         [r,c] => r행 c열인 2차원 list를 생성하는 함수 return,\n",
    "                     #         [d,r,c] => d면 r행 c열 3차원 list를 생성하는 함수 return\n",
    "    def box(init_value):\n",
    "        if len(shape)==1:\n",
    "            return [init_value]*shape[0]\n",
    "        elif len(shape)==2:\n",
    "            return [ [init_value]*shape[1] ] * shape[0]\n",
    "    return box"
   ]
  },
  {
   "cell_type": "code",
   "execution_count": 121,
   "id": "eb255b75",
   "metadata": {},
   "outputs": [
    {
     "data": {
      "text/plain": [
       "[[3, 3, 3], [3, 3, 3]]"
      ]
     },
     "execution_count": 121,
     "metadata": {},
     "output_type": "execute_result"
    }
   ],
   "source": [
    "lien_func = make_box([2,3])\n",
    "lien_func(3)"
   ]
  },
  {
   "cell_type": "code",
   "execution_count": 122,
   "id": "f4be5e24",
   "metadata": {},
   "outputs": [
    {
     "data": {
      "text/plain": [
       "[3, 3, 3, 3, 3, 3, 3, 3, 3, 3]"
      ]
     },
     "execution_count": 122,
     "metadata": {},
     "output_type": "execute_result"
    }
   ],
   "source": [
    "lien_func1 = make_box([10])\n",
    "lien_func1(3)"
   ]
  },
  {
   "cell_type": "code",
   "execution_count": 130,
   "id": "59d2c975",
   "metadata": {},
   "outputs": [],
   "source": [
    "def make_bax(shape):\n",
    "    if len(shape)==1:\n",
    "        return lambda init_value : [init_value]*shape[0]\n",
    "    elif len(shape)==2:\n",
    "        return lambda init_value : [ [init_value]*shape[1] ] * shape[0]"
   ]
  },
  {
   "cell_type": "code",
   "execution_count": 140,
   "id": "2732078f",
   "metadata": {},
   "outputs": [
    {
     "data": {
      "text/plain": [
       "[[3, 3, 3], [3, 3, 3]]"
      ]
     },
     "execution_count": 140,
     "metadata": {},
     "output_type": "execute_result"
    }
   ],
   "source": [
    "line_func = make_box([2,3])\n",
    "line_func(3)"
   ]
  },
  {
   "cell_type": "markdown",
   "id": "227331de",
   "metadata": {},
   "source": [
    "# 5절. 파이썬 내장 함수\n",
    "- import 하지 안고 바로 사용 가능한 함수\n",
    "- 키워드처럼 간주되므로, 식별자(변수명, 함수명, 클래스명)로 사용하는 것을 피한다"
   ]
  },
  {
   "cell_type": "code",
   "execution_count": 132,
   "id": "f055fca7",
   "metadata": {
    "collapsed": true
   },
   "outputs": [
    {
     "data": {
      "text/plain": [
       "{'__name__': '__main__',\n",
       " '__doc__': 'Automatically created module for IPython interactive environment',\n",
       " '__package__': None,\n",
       " '__loader__': None,\n",
       " '__spec__': None,\n",
       " '__builtin__': <module 'builtins' (built-in)>,\n",
       " '__builtins__': <module 'builtins' (built-in)>,\n",
       " '_ih': ['',\n",
       "  'def evenChk(value):\\n    return value%2==0\\nevenChk(10), evenChk(9)',\n",
       "  'list_date = [1, 2, 3, 4, 5]\\nfilter_template(lambda value : value%2==0 , list_date )',\n",
       "  \"# [1, 2, 3, 4, 5]\\ndef filter_template(func, L=[]):\\n    result = []\\n    for l in L:\\n        if func(''):\\n            result.append(l)\\n    return result\",\n",
       "  \"# [1, 2, 3, 4, 5]\\ndef filter_template(func, L=[]):\\n    result = []\\n    for l in L:\\n        if func(' '):\\n            result.append(l)\\n    return result\",\n",
       "  'def evenChk(value):\\n    return value%2==0\\nevenChk(10), evenChk(9)',\n",
       "  'list_date = [1, 2, 3, 4, 5]\\nfilter_template(lambda value : value%2==0 , list_date )',\n",
       "  'p = [9, 2, 7]\\np.sort',\n",
       "  'p = [9, 2, 7]\\np.sort\\np',\n",
       "  'p = [9, 2, 7]\\np.sort\\np',\n",
       "  'number2d = [[9, 9], [1, 100], [10, 1]]\\nnumber2d.sort()\\nnumber2d',\n",
       "  'p = [9, 2, 7]\\np.sort()\\np',\n",
       "  '# [1, 2, 3, 4, 5]\\ndef filter_template(func, L=[]):\\n    result = []\\n    for l in L:\\n        if func(l):\\n            result.append(l)\\n    return result',\n",
       "  'def evenChk(value):\\n    return value%2==0\\nevenChk(10), evenChk(9)',\n",
       "  'list_date = [1, 2, 3, 4, 5]\\nfilter_template(lambda value : value%2==0 , list_date )',\n",
       "  \"join_date({'year': 2000, 'month': 11, 'day': 1})\",\n",
       "  'def join_date(date):\\n    return(\"{year}-{month:02}-{day:02}\".format(**date))',\n",
       "  \"join_date({'year': 2000, 'month': 11, 'day': 1})\",\n",
       "  \"join_date({'year': 2000, 'month': 91, 'day': 1})\",\n",
       "  \"join_date({'year': 2000, 'month': 1, 'day': 1})\",\n",
       "  \"pairs = [(2, 'two'), (, 'one'), (4, 'four'),(3, 'three')]\\npairs.sort()\\npairs\",\n",
       "  \"pairs = [(2, 'two'), (1, 'one'), (4, 'four'),(3, 'three')]\\npairs.sort()\\npairs\",\n",
       "  \"pairs = [(2, 'two'), (1, 'one'), (4, 'four'),(3, 'three')]\\npairs.sort()\\npairs\",\n",
       "  '# 1번째 item 기준으로 정렬(abc순)\\npairs.sort(key=lambda pair : pair[1])\\npairs',\n",
       "  '# 무조건 0번 item기준으로 정렬\\nnumber2d = [[9, 9, 9, 9, 9, 9],\\n            [1, 100],\\n            [10, 1]]\\nnumber2d.sort(reverse=True) # 기본(reverse=False):오름차순정렬/reverse=True:내림차순정렬\\nnumber2d',\n",
       "  '# 합이 큰 순으로 정렬\\nnumber2d.sort(key=lambda item : sum(item), reverse=True)\\nnumber2d',\n",
       "  '# 리스트를 매개변수로 받아 합을 retrue\\n(lambda item : sum(item))([1, 2, 3])',\n",
       "  '# 무조건 0번 item기준으로 정렬\\nnumber2d = [[9, 9, 9, 9, 9, 9],\\n            [1, 100],\\n            [10, 1]]\\nnumber2d.sort(key=lambda date : max(date), reverse=True) # 기본(reverse=False):오름차순정렬/reverse=True:내림차순정렬\\nnumber2d',\n",
       "  '# 무조건 0번 item기준으로 정렬\\nnumber2d = [[9, 9, 9, 9, 9, 9],\\n            [1, 100],\\n            [10, 1]]\\nnumber2d.sort(key=lambda date : min(date), reverse=True) # 기본(reverse=False):오름차순정렬/reverse=True:내림차순정렬\\nnumber2d',\n",
       "  \"students = [{'name':'홍길동', 'score':90},\\n           {'name':'김길동', 'score':50},\\n           {'name':'윤길동', 'score':99},]\",\n",
       "  'students.sort()\\nstudents',\n",
       "  '# 이름순으로 정렬(ㄱㄴㄷ순)\\nstudents.sort(key=lambda item : students.get(name))\\nstudents',\n",
       "  '# 이름순으로 정렬(ㄱㄴㄷ순)\\nstudents.sort(key=lambda item : item{students.get(name)})\\nstudents',\n",
       "  '# 이름순으로 정렬(ㄱㄴㄷ순)\\nstudents.sort(key=students.get(name))\\nstudents',\n",
       "  \"# 이름순으로 정렬(ㄱㄴㄷ순)\\nstudents.sort(key=students.get('name'))\\nstudents\",\n",
       "  '# 이름순으로 정렬(ㄱㄴㄷ순)\\nstudents.sort(key=lambda name : students.get(name))\\nstudents',\n",
       "  '# 이름순으로 정렬(ㄱㄴㄷ순)\\nstudents.sort(key=lambda name : students.get[name])\\nstudents',\n",
       "  '# 이름순으로 정렬(ㄱㄴㄷ순)\\nstudents.sort(key=students.get[name])\\nstudents',\n",
       "  \"# 이름순으로 정렬(ㄱㄴㄷ순)\\nstudents.sort(key=students.get['name'])\\nstudents\",\n",
       "  \"# 이름순으로 정렬(ㄱㄴㄷ순)\\nstudents.sort(key=lambda student : student.get['name'])\\nstudents\",\n",
       "  \"# 이름순으로 정렬(ㄱㄴㄷ순)\\nstudents.sort(key=lambda student : student.get('name'))\\nstudents\",\n",
       "  \"students = [{'name':'홍길동', 'score':90},\\n           {'name':'김길동', 'score':50},\\n           {'name':'윤길동', 'score':99},\\n           {'score':100}]\",\n",
       "  \"# 이름순으로 정렬(ㄱㄴㄷ순)\\nstudents.sort(key=lambda student : student.get('name'))\\nstudents\",\n",
       "  \"# 이름순으로 정렬(ㄱㄴㄷ순)\\nstudents.sort(key=lambda student : student.get('name', '힣'))\\nstudents\",\n",
       "  \"# score 순으로 정렬(내림차순정렬)\\nstudents.sort(key=lambda item : item.get('score', 0), reverse=True)\\nstudents\",\n",
       "  \"students = [\\n    {'name': '홍길동', 'score': 90},\\n    {'name': '김길동', 'score': 50},\\n    {'name': '윤길동', 'score': 99}\\n]\\n\\nstudents.sort(key=lambda student: student['name'])\\nprint(students)\",\n",
       "  \"students = [\\n    {'name': '홍길동', 'score': 90},\\n    {'name': '김길동', 'score': 50},\\n    {'name': '윤길동', 'score': 99}\\n]\\n\\nstudents.sort(key=lambda student: student['name'], end='/n')\\nprint(students)\",\n",
       "  \"students = [\\n    {'name': '홍길동', 'score': 90},\\n    {'name': '김길동', 'score': 50},\\n    {'name': '윤길동', 'score': 99}\\n]\\n\\nstudents.sort(key=lambda student: student['name'] end='/n')\\nprint(students)\",\n",
       "  \"students = [\\n    {'name': '홍길동', 'score': 90},\\n    {'name': '김길동', 'score': 50},\\n    {'name': '윤길동', 'score': 99}\\n]\\n\\nstudents.sort(key=lambda student: student['name'])\\nprint(students end='\\\\n')\",\n",
       "  \"# 책제목순 정렬(ㄱㄴㄷ순), 저자순(ㄱㄴㄷ순), 가격순 정렬\\nbook = [\\n    {'np':1, 'title': '강남 아파트 인사이트', 'writer':'오스틀', 'price':'25,200'},\\n    {'np':2, 'title': '단 한 번의 삶', 'writer':'김영하', 'price':'18,100'},\\n    {'np':3, 'title': '흔한남매 19', 'writer':'백난도', 'price':'14,220'},\\n    {'np':4, 'title': '가격이잘못', 'writer':'신길동', 'price':'-'},\\n    {'np':5, 'title': '가격이숫자', 'writer':'김길동', 'price':900},\\n    {'np':6, 'title': '가격이 없음', 'writer':'오스틀'}\\n]\",\n",
       "  'bools.sort(key = lambda book : book.get(title))\\nbook',\n",
       "  'books.sort(key = lambda book : book.get(title))\\nbooks',\n",
       "  'books.sort(key = lambda book : books.get(title))\\nbooks',\n",
       "  \"books.sort(key = lambda book : book.get('title'))\\nbooks\",\n",
       "  \"# 책제목순 정렬(ㄱㄴㄷ순), 저자순(ㄱㄴㄷ순), 가격순 정렬\\nbook = [\\n    {'np':1, 'title': '강남 아파트 인사이트', 'writer':'오스틀', 'price':'25,200'},\\n    {'np':2, 'title': '단 한 번의 삶', 'writer':'김영하', 'price':'18,100'},\\n    {'np':3, 'title': '흔한남매 19', 'writer':'백난도', 'price':'14,220'},\\n    {'np':4, 'title': '가격이잘못', 'writer':'신길동', 'price':'-'},\\n    {'np':5, 'title': '가격이숫자', 'writer':'김길동', 'price':900},\\n    {'np':6, 'title': '가격이 없음', 'writer':'오스틀'}\\n]\",\n",
       "  \"books.sort(key = lambda book : book.get('title'))\\nbooks\",\n",
       "  \"# 책제목순 정렬(ㄱㄴㄷ순), 저자순(ㄱㄴㄷ순), 가격순 정렬\\nbooks = [\\n    {'np':1, 'title': '강남 아파트 인사이트', 'writer':'오스틀', 'price':'25,200'},\\n    {'np':2, 'title': '단 한 번의 삶', 'writer':'김영하', 'price':'18,100'},\\n    {'np':3, 'title': '흔한남매 19', 'writer':'백난도', 'price':'14,220'},\\n    {'np':4, 'title': '가격이잘못', 'writer':'신길동', 'price':'-'},\\n    {'np':5, 'title': '가격이숫자', 'writer':'김길동', 'price':900},\\n    {'np':6, 'title': '가격이 없음', 'writer':'오스틀'}\\n]\",\n",
       "  \"books.sort(key = lambda book : book.get('title'))\\nbooks\",\n",
       "  \"books.sort(key = lambda book : book.get('writer'))\\nbooks\",\n",
       "  \"# 책제목순 정렬(ㄱㄴㄷ순), 저자순(ㄱㄴㄷ순), 가격순 정렬\\nbooks = [\\n    {'np':1, 'title': '강남 아파트 인사이트', 'writer':'오스틀', 'price':'25,200'},\\n    {'np':2, 'title': '단 한 번의 삶', 'writer':'김영하', 'price':'18,100'},\\n    {'np':3, 'title': '흔한남매 19', 'writer':'백난도', 'price':'14220'},\\n    {'np':4, 'title': '가격이잘못', 'writer':'신길동', 'price':'-'},\\n    {'np':5, 'title': '가격이숫자', 'writer':'김길동', 'price':900},\\n    {'np':6, 'title': '가격이 없음', 'writer':'오스틀'}\\n]\",\n",
       "  \"books.sort(key = lambda book : book.get('title'))\\nbooks\",\n",
       "  \"books.sort(key = lambda book : book.get('writer'))\\nbooks\",\n",
       "  \"# '14,000' -> 14000 / 800 -> 800 / '-' -> 0\\ndef parse_int(price):\\n    print(type(price))\",\n",
       "  'parse_int(800)',\n",
       "  'parse_int(18,555)',\n",
       "  \"parse_int('800')\",\n",
       "  \"parse_int('-')\",\n",
       "  'parse_int(800)',\n",
       "  \"# '14,000' -> 14000 / 800 -> 800 / '-' -> 0\\ndef parse_int(price):\\n    # print(type(price))\\n    if isinstance(price, int):\\n        return price\",\n",
       "  'parse_int(800)',\n",
       "  \"# '14,000' -> 14000 / 800 -> 800 / '-' -> 0\\ndef parse_int(price):\\n    # print(type(price))\\n    if price.replace(',','').isdigit():\\n        return int(price,replace(','''))\\n    elif isinstance(price, int):\\n        return price\",\n",
       "  'parse_int(8000)',\n",
       "  \"# '14,000' -> 14000 / 800 -> 800 / '-' -> 0\\ndef parse_int(price):\\n    # print(type(price))\\n    if price.replace(',','').isdigit():\\n        return int(price,replace(','''))\\n    elif isinstance(price, int):\\n        return price\",\n",
       "  'parse_int(8000)',\n",
       "  \"# '14,000' -> 14000 / 800 -> 800 / '-' -> 0\\ndef parse_int(price):\\n    # print(type(price))\\n    if isinstance(price, str) and price.replace(',','').isdigit():\\n        return int(price,replace(','''))\\n    elif isinstance(price, int):\\n        return price\",\n",
       "  'parse_int(800)',\n",
       "  \"parse_int('800')\",\n",
       "  \"def parse_int(price):\\n    #print(type(price))\\n    if isinstance(price, str) and price.replace(',','').isdigit():\\n        return int(price.replace(',', ''))\\n    elif isinstance(price, int):\\n        return price\\n    else:\\n        return 0\",\n",
       "  \"parse_int('800')\",\n",
       "  \"def parse_int(price):\\n    #print(type(price))\\n    if price.replace(',','').isdigit():\\n        return int(price.replace(',', ''))\\n    elif isinstance(price, int):\\n        return price\",\n",
       "  \"parse_int('800')\",\n",
       "  \"parse_int('800')\",\n",
       "  \"# '14,000' -> 14000 / 800 -> 800 / '-' -> 0\\ndef parse_int(price):\\n    # print(type(price))\\n    if price.replace(',','').isdigit():\\n        return int(price,replace(','''))\\n    elif isinstance(price, int):\\n        return price\",\n",
       "  \"parse_int('800')\",\n",
       "  \"# '14,000' -> 14000 / 800 -> 800 / '-' -> 0\\ndef parse_int(price):\\n    # print(type(price))\\n    if isinstance(price, str) and price.replace(',','').isdigit():\\n        return int(price,replace(','''))\\n    elif isinstance(price, int):\\n        return price\",\n",
       "  \"parse_int('800')\",\n",
       "  \"# '14,000' -> 14000 / 800 -> 800 / '-' -> 0\\ndef parse_int(price):\\n    # print(type(price))\\n    if isinstance(price, str) and price.replace(',','').isdigit():\\n        return int(price,replace(','''))\\n    elif isinstance(price, int):\\n        return price\",\n",
       "  \"parse_int('800')\",\n",
       "  \"parse_int('800')\",\n",
       "  \"def parse_int(price):\\n    #print(type(price))\\n    if isinstance(price, str) and price.replace(',','').isdigit():\\n        return int(price.replace(',', ''))\\n    elif isinstance(price, int):\\n        return price\\n    else:\\n        return 0\",\n",
       "  \"def parse_int(price):\\n    #print(type(price))\\n    if isinstance(price, str) and price.replace(',','').isdigit():\\n        return int(price.replace(',', ''))\\n    elif isinstance(price, int):\\n        return price\",\n",
       "  \"parse_int('800')\",\n",
       "  \"# '14,000' -> 14000 / 800 -> 800 / '-' -> 0\\ndef parse_int(price):\\n    # print(type(price))\\n    if isinstance(price, str) and price.replace(',','').isdigit():\\n        return int(price.replace(','''))\\n    elif isinstance(price, int):\\n        return price\",\n",
       "  \"parse_int('800')\",\n",
       "  \"# '14,000' -> 14000 / 800 -> 800 / '-' -> 0\\ndef parse_int(price):\\n    # print(type(price))\\n    if isinstance(price, str) and price.replace(',','').isdigit():\\n        return int(price.replace(','''))\\n    elif isinstance(price, int):\\n        return price\",\n",
       "  \"parse_int('800')\",\n",
       "  \"def parse_int(price):\\n    #print(type(price))\\n    if (isinstance(price, str)) and price.replace(',','').isdigit():\\n        return int(price.replace(',', ''))\\n    elif isinstance(price, int):\\n        return price\",\n",
       "  \"parse_int('800')\",\n",
       "  \"# '14,000' -> 14000 / 800 -> 800 / '-' -> 0\\ndef parse_int(price):\\n    # print(type(price))\\n    if (isinstance(price, str)) and price.replace(',','').isdigit():\\n        return int(price.replace(','''))\\n    elif isinstance(price, int):\\n        return price\",\n",
       "  \"parse_int('800')\",\n",
       "  \"# '14,000' -> 14000 / 800 -> 800 / '-' -> 0\\ndef parse_int(price):\\n    # print(type(price))\\n    if (isinstance(price, str)) and price.replace(',','').isdigit():\\n        return int(price.replace(',',''))\\n    elif isinstance(price, int):\\n        return price\",\n",
       "  \"parse_int('800')\",\n",
       "  \"# 책제목순 정렬(ㄱㄴㄷ순), 저자순(ㄱㄴㄷ순), 가격순 정렬\\nbooks = [\\n    {'np':1, 'title': '강남 아파트 인사이트', 'writer':'오스틀', 'price':'25,200'},\\n    {'np':2, 'title': '단 한 번의 삶', 'writer':'김영하', 'price':'18,100'},\\n    {'np':3, 'title': '흔한남매 19', 'writer':'백난도', 'price':'14220'},\\n    {'np':4, 'title': '가격이잘못', 'writer':'신길동', 'price':'-'},\\n    {'np':5, 'title': '가격이숫자', 'writer':'김길동', 'price': 900},\\n    {'np':6, 'title': '가격이 없음', 'writer':'오스틀'}\\n]\",\n",
       "  \"parse_int('800'), parse_int('80,000'), parse_int('-')\",\n",
       "  \"# {'np':6, 'title': '가격이 없음', 'writer':'오스틀'} => 0\\n# {'np':3, 'title': '흔한남매 19', 'writer':'백난도', 'price':'14220'} => 14220\\n# {'np':5, 'title': '가격이숫자', 'writer':'김길동', 'price':900} => 900\\ndef parse_int(book):\\n    if isinstance(book.get(price), str) and \\\\\\n            book.get('price').replace(',','').isdigit():\\n        return int(book.get('price'),replace(',',''))\\n    elif isinstance(book.get('price'), int):\\n        return book.get(price)\\n    else:\\n        return 0\",\n",
       "  \"# {'np':6, 'title': '가격이 없음', 'writer':'오스틀'} => 0\\n# {'np':3, 'title': '흔한남매 19', 'writer':'백난도', 'price':'14220'} => 14220\\n# {'np':5, 'title': '가격이숫자', 'writer':'김길동', 'price':900} => 900\\ndef parse_int(book):\\n    if isinstance(book.get(price), str) and \\\\\\n            book.get('price').replace(',','').isdigit():\\n        return int(book.get('price'),replace(',',''))\\n    elif isinstance(book.get('price'), int):\\n        return book.get(price)\\n    else:\\n        return 0\\nparse_int(book[0])\",\n",
       "  \"# {'np':6, 'title': '가격이 없음', 'writer':'오스틀'} => 0\\n# {'np':3, 'title': '흔한남매 19', 'writer':'백난도', 'price':'14220'} => 14220\\n# {'np':5, 'title': '가격이숫자', 'writer':'김길동', 'price':900} => 900\\ndef parse_int(book):\\n    if isinstance(book.get('price'), str) and \\\\\\n            book.get('price').replace(',','').isdigit():\\n        return int(book.get('price'),replace(',',''))\\n    elif isinstance(book.get('price'), int):\\n        return book.get(price)\\n    else:\\n        return 0\\nparse_int(book[0])\",\n",
       "  \"# {'np':6, 'title': '가격이 없음', 'writer':'오스틀'} => 0\\n# {'np':3, 'title': '흔한남매 19', 'writer':'백난도', 'price':'14220'} => 14220\\n# {'np':5, 'title': '가격이숫자', 'writer':'김길동', 'price':900} => 900\\ndef parse_int(book):\\n    if isinstance(book.get('price'), str) and \\\\\\n            book.get('price').replace(',','').isdigit():\\n        return int(book.get('price').replace(',',''))\\n    elif isinstance(book.get('price'), int):\\n        return book.get(price)\\n    else:\\n        return 0\\nparse_int(book[0])\",\n",
       "  \"# {'np':6, 'title': '가격이 없음', 'writer':'오스틀'} => 0\\n# {'np':3, 'title': '흔한남매 19', 'writer':'백난도', 'price':'14220'} => 14220\\n# {'np':5, 'title': '가격이숫자', 'writer':'김길동', 'price':900} => 900\\ndef parse_int(book):\\n    if isinstance(book.get('price'), str) and \\\\\\n            book.get('price').replace(',','').isdigit():\\n        return int(book.get('price').replace(',',''))\\n    elif isinstance(book.get('price'), int):\\n        return book.get(price)\\n    else:\\n        return 0\\nparse_int(book[0]), parse_int(book[3]), parse_int(book[2]), parse_int(book[5])\",\n",
       "  \"parse_int('800'), parse_int('80,000'), parse_int('-')\",\n",
       "  \"def parse_int(price):\\n    #print(type(price))\\n    if isinstance(price, str) and price.replace(',','').isdigit():\\n        return int(price.replace(',', ''))\\n    elif isinstance(price, int):\\n        return price\\n    else:\\n        return 0\",\n",
       "  \"parse_int('800'), parse_int('80,000'), parse_int('-')\",\n",
       "  \"books = [\\n    {'np':1, 'title': '강남 아파트 인사이트', 'writer':'오스틀', 'price':'25,200'},\\n    {'np':2, 'title': '단 한 번의 삶', 'writer':'김영하', 'price':'18,100'},\\n    {'np':3, 'title': '흔한남매 19', 'writer':'백난도', 'price':'14220'},\\n    {'np':4, 'title': '가격이잘못', 'writer':'신길동', 'price':'-'},\\n    {'np':5, 'title': '가격이숫자', 'writer':'김길동', 'price': 900},\\n    {'np':6, 'title': '가격이 없음', 'writer':'오스틀'}\\n]\\ncopy_book = book.copy()\",\n",
       "  'copy_book',\n",
       "  'books',\n",
       "  \"copy_book.sort(key = lambda book : int(book.get('price'),replace(',','')) \\\\\\n               if isinstance(book.get('price'), ,str) \\\\\\n               and book.get('price').replace(',','').isdigit() \\\\\\n               else book.get('price') if isinstance(book.get('price'), int) \\\\\\n               else 0)\",\n",
       "  'copy_book = book.copy()',\n",
       "  \"copy_book.sort(key = lambda book : int(book.get('price'),replace(',','')) \\\\\\n               if isinstance(book.get('price'), ,str) \\\\\\n               and book.get('price').replace(',','').isdigit() \\\\\\n               else book.get('price') if isinstance(book.get('price'), int) \\\\\\n               else 0)\",\n",
       "  \"copy_book.sort(key = lambda book : int(book.get('price'),replace(',','')) \\\\\\n               if isinstance(book.get('price'), str) \\\\\\n               and book.get('price').replace(',','').isdigit() \\\\\\n               else book.get('price') if isinstance(book.get('price'), int) \\\\\\n               else 0)\",\n",
       "  \"copy_book.sort(key = lambda book : int(book.get('price').replace(',','')) \\\\\\n               if isinstance(book.get('price'), str) \\\\\\n               and book.get('price').replace(',','').isdigit() \\\\\\n               else book.get('price') if isinstance(book.get('price'), int) \\\\\\n               else 0)\",\n",
       "  '# 함수를 return\\ndef make_box(shape): # shape : [L] =>len 가 L 인 list 를 생성하는 함수 return,\\n                     #         [r,c] => r행 c열인 2차원 list를 생성하는 함수 return,\\n                     #         [d,r,c] => d면 r행 c열 3차원 list를 생성하는 함수 return\\n    def box(init_value):\\n        if len(shape)==1:\\n            return [init_value]*shape[0]\\n        elif len(shape)==2:\\n            return [ [init_value]*shape[1] ] * shape[0]\\n    return box',\n",
       "  'lien_func = make_box([2,3])\\nlien_func(3)',\n",
       "  'lien_func1 = make_box([10])\\nlien_func1(3)',\n",
       "  \"copy_books.sort(key = lambda book : int(book.get('price').replace(',','')) \\\\\\n                    if isinstance(book.get('price'), str) \\\\\\n                    and book.get('price').replace(',','').isdigit() \\\\\\n                    else book.get('price') if isinstance(book.get('price'), int) else \\\\\\n                0                \\n               )\",\n",
       "  \"copy_book.sort(key = lambda book : int(book.get('price').replace(',','')) \\\\\\n                    if isinstance(book.get('price'), str) \\\\\\n                    and book.get('price').replace(',','').isdigit() \\\\\\n                    else book.get('price') if isinstance(book.get('price'), int) else \\\\\\n                0                \\n               )\",\n",
       "  'copy_book',\n",
       "  \"copy_book.sort(key = lambda book : int(book.get('price').replace(',','')) \\\\\\n               if isinstance(book.get('price'), str) \\\\\\n               and book.get('price').replace(',','').isdigit() \\\\\\n               else book.get('price') if isinstance(book.get('price'), int) \\\\\\n               else 0)\",\n",
       "  'copy_book',\n",
       "  'def make_bax(shape):\\n    if len(shape)==1:\\n        return lambda init_value : [init_value-]*shape[0]\\n    elif len(shape)==2:\\n        return lambda init_value : [ [init_value] ] * shape[0]',\n",
       "  'def make_bax(shape):\\n    if len(shape)==1:\\n        return lambda init_value : [init_value-]*shape[0]\\n    elif len(shape)==2:\\n        return lambda init_value : [ [init_value]*shape[1] ] * shape[0]',\n",
       "  'def make_bax(shape):\\n    if len(shape)==1:\\n        return lambda init_value : [init_value]*shape[0]\\n    elif len(shape)==2:\\n        return lambda init_value : [ [init_value]*shape[1] ] * shape[0]',\n",
       "  'globals',\n",
       "  'globals()'],\n",
       " '_oh': {1: (True, False),\n",
       "  5: (True, False),\n",
       "  7: <function list.sort(*, key=None, reverse=False)>,\n",
       "  8: [9, 2, 7],\n",
       "  9: [9, 2, 7],\n",
       "  10: [[1, 100], [9, 9], [10, 1]],\n",
       "  11: [2, 7, 9],\n",
       "  13: (True, False),\n",
       "  14: [2, 4],\n",
       "  17: '2000-11-01',\n",
       "  18: '2000-91-01',\n",
       "  19: '2000-01-01',\n",
       "  21: [(1, 'one'), (2, 'two'), (3, 'three'), (4, 'four')],\n",
       "  22: [(4, 'four'), (1, 'one'), (3, 'three'), (2, 'two')],\n",
       "  23: [(4, 'four'), (1, 'one'), (3, 'three'), (2, 'two')],\n",
       "  24: [[1, 100], [9, 9, 9, 9, 9, 9], [10, 1]],\n",
       "  25: [[1, 100], [9, 9, 9, 9, 9, 9], [10, 1]],\n",
       "  26: 6,\n",
       "  27: [[1, 100], [10, 1], [9, 9, 9, 9, 9, 9]],\n",
       "  28: [[9, 9, 9, 9, 9, 9], [1, 100], [10, 1]],\n",
       "  40: [{'name': '김길동', 'score': 50},\n",
       "   {'name': '윤길동', 'score': 99},\n",
       "   {'name': '홍길동', 'score': 90}],\n",
       "  43: [{'score': 100},\n",
       "   {'name': '윤길동', 'score': 99},\n",
       "   {'name': '홍길동', 'score': 90},\n",
       "   {'name': '김길동', 'score': 50}],\n",
       "  44: [{'score': 100},\n",
       "   {'name': '윤길동', 'score': 99},\n",
       "   {'name': '홍길동', 'score': 90},\n",
       "   {'name': '김길동', 'score': 50}],\n",
       "  57: [{'np': 5, 'title': '가격이숫자', 'writer': '김길동', 'price': 900},\n",
       "   {'np': 2, 'title': '단 한 번의 삶', 'writer': '김영하', 'price': '18,100'},\n",
       "   {'np': 3, 'title': '흔한남매 19', 'writer': '백난도', 'price': '14,220'},\n",
       "   {'np': 4, 'title': '가격이잘못', 'writer': '신길동', 'price': '-'},\n",
       "   {'np': 6, 'title': '가격이 없음', 'writer': '오스틀'},\n",
       "   {'np': 1, 'title': '강남 아파트 인사이트', 'writer': '오스틀', 'price': '25,200'}],\n",
       "  58: [{'np': 5, 'title': '가격이숫자', 'writer': '김길동', 'price': 900},\n",
       "   {'np': 2, 'title': '단 한 번의 삶', 'writer': '김영하', 'price': '18,100'},\n",
       "   {'np': 3, 'title': '흔한남매 19', 'writer': '백난도', 'price': '14,220'},\n",
       "   {'np': 4, 'title': '가격이잘못', 'writer': '신길동', 'price': '-'},\n",
       "   {'np': 6, 'title': '가격이 없음', 'writer': '오스틀'},\n",
       "   {'np': 1, 'title': '강남 아파트 인사이트', 'writer': '오스틀', 'price': '25,200'}],\n",
       "  60: [{'np': 5, 'title': '가격이숫자', 'writer': '김길동', 'price': 900},\n",
       "   {'np': 2, 'title': '단 한 번의 삶', 'writer': '김영하', 'price': '18,100'},\n",
       "   {'np': 3, 'title': '흔한남매 19', 'writer': '백난도', 'price': '14220'},\n",
       "   {'np': 4, 'title': '가격이잘못', 'writer': '신길동', 'price': '-'},\n",
       "   {'np': 6, 'title': '가격이 없음', 'writer': '오스틀'},\n",
       "   {'np': 1, 'title': '강남 아파트 인사이트', 'writer': '오스틀', 'price': '25,200'}],\n",
       "  61: [{'np': 5, 'title': '가격이숫자', 'writer': '김길동', 'price': 900},\n",
       "   {'np': 2, 'title': '단 한 번의 삶', 'writer': '김영하', 'price': '18,100'},\n",
       "   {'np': 3, 'title': '흔한남매 19', 'writer': '백난도', 'price': '14220'},\n",
       "   {'np': 4, 'title': '가격이잘못', 'writer': '신길동', 'price': '-'},\n",
       "   {'np': 6, 'title': '가격이 없음', 'writer': '오스틀'},\n",
       "   {'np': 1, 'title': '강남 아파트 인사이트', 'writer': '오스틀', 'price': '25,200'}],\n",
       "  69: 800,\n",
       "  75: 800,\n",
       "  78: 800,\n",
       "  80: 800,\n",
       "  81: 800,\n",
       "  91: 800,\n",
       "  97: 800,\n",
       "  101: 800,\n",
       "  103: (800, 80000, None),\n",
       "  107: 25200,\n",
       "  108: (25200, 0, 14220, 0),\n",
       "  111: (800, 80000, 0),\n",
       "  113: [{'np': 1, 'title': '강남 아파트 인사이트', 'writer': '오스틀', 'price': '25,200'},\n",
       "   {'np': 2, 'title': '단 한 번의 삶', 'writer': '김영하', 'price': '18,100'},\n",
       "   {'np': 3, 'title': '흔한남매 19', 'writer': '백난도', 'price': '14,220'},\n",
       "   {'np': 4, 'title': '가격이잘못', 'writer': '신길동', 'price': '-'},\n",
       "   {'np': 5, 'title': '가격이숫자', 'writer': '김길동', 'price': 900},\n",
       "   {'np': 6, 'title': '가격이 없음', 'writer': '오스틀'}],\n",
       "  114: [{'np': 1, 'title': '강남 아파트 인사이트', 'writer': '오스틀', 'price': '25,200'},\n",
       "   {'np': 2, 'title': '단 한 번의 삶', 'writer': '김영하', 'price': '18,100'},\n",
       "   {'np': 3, 'title': '흔한남매 19', 'writer': '백난도', 'price': '14220'},\n",
       "   {'np': 4, 'title': '가격이잘못', 'writer': '신길동', 'price': '-'},\n",
       "   {'np': 5, 'title': '가격이숫자', 'writer': '김길동', 'price': 900},\n",
       "   {'np': 6, 'title': '가격이 없음', 'writer': '오스틀'}],\n",
       "  121: [[3, 3, 3], [3, 3, 3]],\n",
       "  122: [3, 3, 3, 3, 3, 3, 3, 3, 3, 3],\n",
       "  125: [{'np': 4, 'title': '가격이잘못', 'writer': '신길동', 'price': '-'},\n",
       "   {'np': 6, 'title': '가격이 없음', 'writer': '오스틀'},\n",
       "   {'np': 5, 'title': '가격이숫자', 'writer': '김길동', 'price': 900},\n",
       "   {'np': 3, 'title': '흔한남매 19', 'writer': '백난도', 'price': '14,220'},\n",
       "   {'np': 2, 'title': '단 한 번의 삶', 'writer': '김영하', 'price': '18,100'},\n",
       "   {'np': 1, 'title': '강남 아파트 인사이트', 'writer': '오스틀', 'price': '25,200'}],\n",
       "  127: [{'np': 4, 'title': '가격이잘못', 'writer': '신길동', 'price': '-'},\n",
       "   {'np': 6, 'title': '가격이 없음', 'writer': '오스틀'},\n",
       "   {'np': 5, 'title': '가격이숫자', 'writer': '김길동', 'price': 900},\n",
       "   {'np': 3, 'title': '흔한남매 19', 'writer': '백난도', 'price': '14,220'},\n",
       "   {'np': 2, 'title': '단 한 번의 삶', 'writer': '김영하', 'price': '18,100'},\n",
       "   {'np': 1, 'title': '강남 아파트 인사이트', 'writer': '오스틀', 'price': '25,200'}],\n",
       "  131: <function globals()>},\n",
       " '_dh': [WindowsPath('C:/AI_X/source/01_python')],\n",
       " 'In': ['',\n",
       "  'def evenChk(value):\\n    return value%2==0\\nevenChk(10), evenChk(9)',\n",
       "  'list_date = [1, 2, 3, 4, 5]\\nfilter_template(lambda value : value%2==0 , list_date )',\n",
       "  \"# [1, 2, 3, 4, 5]\\ndef filter_template(func, L=[]):\\n    result = []\\n    for l in L:\\n        if func(''):\\n            result.append(l)\\n    return result\",\n",
       "  \"# [1, 2, 3, 4, 5]\\ndef filter_template(func, L=[]):\\n    result = []\\n    for l in L:\\n        if func(' '):\\n            result.append(l)\\n    return result\",\n",
       "  'def evenChk(value):\\n    return value%2==0\\nevenChk(10), evenChk(9)',\n",
       "  'list_date = [1, 2, 3, 4, 5]\\nfilter_template(lambda value : value%2==0 , list_date )',\n",
       "  'p = [9, 2, 7]\\np.sort',\n",
       "  'p = [9, 2, 7]\\np.sort\\np',\n",
       "  'p = [9, 2, 7]\\np.sort\\np',\n",
       "  'number2d = [[9, 9], [1, 100], [10, 1]]\\nnumber2d.sort()\\nnumber2d',\n",
       "  'p = [9, 2, 7]\\np.sort()\\np',\n",
       "  '# [1, 2, 3, 4, 5]\\ndef filter_template(func, L=[]):\\n    result = []\\n    for l in L:\\n        if func(l):\\n            result.append(l)\\n    return result',\n",
       "  'def evenChk(value):\\n    return value%2==0\\nevenChk(10), evenChk(9)',\n",
       "  'list_date = [1, 2, 3, 4, 5]\\nfilter_template(lambda value : value%2==0 , list_date )',\n",
       "  \"join_date({'year': 2000, 'month': 11, 'day': 1})\",\n",
       "  'def join_date(date):\\n    return(\"{year}-{month:02}-{day:02}\".format(**date))',\n",
       "  \"join_date({'year': 2000, 'month': 11, 'day': 1})\",\n",
       "  \"join_date({'year': 2000, 'month': 91, 'day': 1})\",\n",
       "  \"join_date({'year': 2000, 'month': 1, 'day': 1})\",\n",
       "  \"pairs = [(2, 'two'), (, 'one'), (4, 'four'),(3, 'three')]\\npairs.sort()\\npairs\",\n",
       "  \"pairs = [(2, 'two'), (1, 'one'), (4, 'four'),(3, 'three')]\\npairs.sort()\\npairs\",\n",
       "  \"pairs = [(2, 'two'), (1, 'one'), (4, 'four'),(3, 'three')]\\npairs.sort()\\npairs\",\n",
       "  '# 1번째 item 기준으로 정렬(abc순)\\npairs.sort(key=lambda pair : pair[1])\\npairs',\n",
       "  '# 무조건 0번 item기준으로 정렬\\nnumber2d = [[9, 9, 9, 9, 9, 9],\\n            [1, 100],\\n            [10, 1]]\\nnumber2d.sort(reverse=True) # 기본(reverse=False):오름차순정렬/reverse=True:내림차순정렬\\nnumber2d',\n",
       "  '# 합이 큰 순으로 정렬\\nnumber2d.sort(key=lambda item : sum(item), reverse=True)\\nnumber2d',\n",
       "  '# 리스트를 매개변수로 받아 합을 retrue\\n(lambda item : sum(item))([1, 2, 3])',\n",
       "  '# 무조건 0번 item기준으로 정렬\\nnumber2d = [[9, 9, 9, 9, 9, 9],\\n            [1, 100],\\n            [10, 1]]\\nnumber2d.sort(key=lambda date : max(date), reverse=True) # 기본(reverse=False):오름차순정렬/reverse=True:내림차순정렬\\nnumber2d',\n",
       "  '# 무조건 0번 item기준으로 정렬\\nnumber2d = [[9, 9, 9, 9, 9, 9],\\n            [1, 100],\\n            [10, 1]]\\nnumber2d.sort(key=lambda date : min(date), reverse=True) # 기본(reverse=False):오름차순정렬/reverse=True:내림차순정렬\\nnumber2d',\n",
       "  \"students = [{'name':'홍길동', 'score':90},\\n           {'name':'김길동', 'score':50},\\n           {'name':'윤길동', 'score':99},]\",\n",
       "  'students.sort()\\nstudents',\n",
       "  '# 이름순으로 정렬(ㄱㄴㄷ순)\\nstudents.sort(key=lambda item : students.get(name))\\nstudents',\n",
       "  '# 이름순으로 정렬(ㄱㄴㄷ순)\\nstudents.sort(key=lambda item : item{students.get(name)})\\nstudents',\n",
       "  '# 이름순으로 정렬(ㄱㄴㄷ순)\\nstudents.sort(key=students.get(name))\\nstudents',\n",
       "  \"# 이름순으로 정렬(ㄱㄴㄷ순)\\nstudents.sort(key=students.get('name'))\\nstudents\",\n",
       "  '# 이름순으로 정렬(ㄱㄴㄷ순)\\nstudents.sort(key=lambda name : students.get(name))\\nstudents',\n",
       "  '# 이름순으로 정렬(ㄱㄴㄷ순)\\nstudents.sort(key=lambda name : students.get[name])\\nstudents',\n",
       "  '# 이름순으로 정렬(ㄱㄴㄷ순)\\nstudents.sort(key=students.get[name])\\nstudents',\n",
       "  \"# 이름순으로 정렬(ㄱㄴㄷ순)\\nstudents.sort(key=students.get['name'])\\nstudents\",\n",
       "  \"# 이름순으로 정렬(ㄱㄴㄷ순)\\nstudents.sort(key=lambda student : student.get['name'])\\nstudents\",\n",
       "  \"# 이름순으로 정렬(ㄱㄴㄷ순)\\nstudents.sort(key=lambda student : student.get('name'))\\nstudents\",\n",
       "  \"students = [{'name':'홍길동', 'score':90},\\n           {'name':'김길동', 'score':50},\\n           {'name':'윤길동', 'score':99},\\n           {'score':100}]\",\n",
       "  \"# 이름순으로 정렬(ㄱㄴㄷ순)\\nstudents.sort(key=lambda student : student.get('name'))\\nstudents\",\n",
       "  \"# 이름순으로 정렬(ㄱㄴㄷ순)\\nstudents.sort(key=lambda student : student.get('name', '힣'))\\nstudents\",\n",
       "  \"# score 순으로 정렬(내림차순정렬)\\nstudents.sort(key=lambda item : item.get('score', 0), reverse=True)\\nstudents\",\n",
       "  \"students = [\\n    {'name': '홍길동', 'score': 90},\\n    {'name': '김길동', 'score': 50},\\n    {'name': '윤길동', 'score': 99}\\n]\\n\\nstudents.sort(key=lambda student: student['name'])\\nprint(students)\",\n",
       "  \"students = [\\n    {'name': '홍길동', 'score': 90},\\n    {'name': '김길동', 'score': 50},\\n    {'name': '윤길동', 'score': 99}\\n]\\n\\nstudents.sort(key=lambda student: student['name'], end='/n')\\nprint(students)\",\n",
       "  \"students = [\\n    {'name': '홍길동', 'score': 90},\\n    {'name': '김길동', 'score': 50},\\n    {'name': '윤길동', 'score': 99}\\n]\\n\\nstudents.sort(key=lambda student: student['name'] end='/n')\\nprint(students)\",\n",
       "  \"students = [\\n    {'name': '홍길동', 'score': 90},\\n    {'name': '김길동', 'score': 50},\\n    {'name': '윤길동', 'score': 99}\\n]\\n\\nstudents.sort(key=lambda student: student['name'])\\nprint(students end='\\\\n')\",\n",
       "  \"# 책제목순 정렬(ㄱㄴㄷ순), 저자순(ㄱㄴㄷ순), 가격순 정렬\\nbook = [\\n    {'np':1, 'title': '강남 아파트 인사이트', 'writer':'오스틀', 'price':'25,200'},\\n    {'np':2, 'title': '단 한 번의 삶', 'writer':'김영하', 'price':'18,100'},\\n    {'np':3, 'title': '흔한남매 19', 'writer':'백난도', 'price':'14,220'},\\n    {'np':4, 'title': '가격이잘못', 'writer':'신길동', 'price':'-'},\\n    {'np':5, 'title': '가격이숫자', 'writer':'김길동', 'price':900},\\n    {'np':6, 'title': '가격이 없음', 'writer':'오스틀'}\\n]\",\n",
       "  'bools.sort(key = lambda book : book.get(title))\\nbook',\n",
       "  'books.sort(key = lambda book : book.get(title))\\nbooks',\n",
       "  'books.sort(key = lambda book : books.get(title))\\nbooks',\n",
       "  \"books.sort(key = lambda book : book.get('title'))\\nbooks\",\n",
       "  \"# 책제목순 정렬(ㄱㄴㄷ순), 저자순(ㄱㄴㄷ순), 가격순 정렬\\nbook = [\\n    {'np':1, 'title': '강남 아파트 인사이트', 'writer':'오스틀', 'price':'25,200'},\\n    {'np':2, 'title': '단 한 번의 삶', 'writer':'김영하', 'price':'18,100'},\\n    {'np':3, 'title': '흔한남매 19', 'writer':'백난도', 'price':'14,220'},\\n    {'np':4, 'title': '가격이잘못', 'writer':'신길동', 'price':'-'},\\n    {'np':5, 'title': '가격이숫자', 'writer':'김길동', 'price':900},\\n    {'np':6, 'title': '가격이 없음', 'writer':'오스틀'}\\n]\",\n",
       "  \"books.sort(key = lambda book : book.get('title'))\\nbooks\",\n",
       "  \"# 책제목순 정렬(ㄱㄴㄷ순), 저자순(ㄱㄴㄷ순), 가격순 정렬\\nbooks = [\\n    {'np':1, 'title': '강남 아파트 인사이트', 'writer':'오스틀', 'price':'25,200'},\\n    {'np':2, 'title': '단 한 번의 삶', 'writer':'김영하', 'price':'18,100'},\\n    {'np':3, 'title': '흔한남매 19', 'writer':'백난도', 'price':'14,220'},\\n    {'np':4, 'title': '가격이잘못', 'writer':'신길동', 'price':'-'},\\n    {'np':5, 'title': '가격이숫자', 'writer':'김길동', 'price':900},\\n    {'np':6, 'title': '가격이 없음', 'writer':'오스틀'}\\n]\",\n",
       "  \"books.sort(key = lambda book : book.get('title'))\\nbooks\",\n",
       "  \"books.sort(key = lambda book : book.get('writer'))\\nbooks\",\n",
       "  \"# 책제목순 정렬(ㄱㄴㄷ순), 저자순(ㄱㄴㄷ순), 가격순 정렬\\nbooks = [\\n    {'np':1, 'title': '강남 아파트 인사이트', 'writer':'오스틀', 'price':'25,200'},\\n    {'np':2, 'title': '단 한 번의 삶', 'writer':'김영하', 'price':'18,100'},\\n    {'np':3, 'title': '흔한남매 19', 'writer':'백난도', 'price':'14220'},\\n    {'np':4, 'title': '가격이잘못', 'writer':'신길동', 'price':'-'},\\n    {'np':5, 'title': '가격이숫자', 'writer':'김길동', 'price':900},\\n    {'np':6, 'title': '가격이 없음', 'writer':'오스틀'}\\n]\",\n",
       "  \"books.sort(key = lambda book : book.get('title'))\\nbooks\",\n",
       "  \"books.sort(key = lambda book : book.get('writer'))\\nbooks\",\n",
       "  \"# '14,000' -> 14000 / 800 -> 800 / '-' -> 0\\ndef parse_int(price):\\n    print(type(price))\",\n",
       "  'parse_int(800)',\n",
       "  'parse_int(18,555)',\n",
       "  \"parse_int('800')\",\n",
       "  \"parse_int('-')\",\n",
       "  'parse_int(800)',\n",
       "  \"# '14,000' -> 14000 / 800 -> 800 / '-' -> 0\\ndef parse_int(price):\\n    # print(type(price))\\n    if isinstance(price, int):\\n        return price\",\n",
       "  'parse_int(800)',\n",
       "  \"# '14,000' -> 14000 / 800 -> 800 / '-' -> 0\\ndef parse_int(price):\\n    # print(type(price))\\n    if price.replace(',','').isdigit():\\n        return int(price,replace(','''))\\n    elif isinstance(price, int):\\n        return price\",\n",
       "  'parse_int(8000)',\n",
       "  \"# '14,000' -> 14000 / 800 -> 800 / '-' -> 0\\ndef parse_int(price):\\n    # print(type(price))\\n    if price.replace(',','').isdigit():\\n        return int(price,replace(','''))\\n    elif isinstance(price, int):\\n        return price\",\n",
       "  'parse_int(8000)',\n",
       "  \"# '14,000' -> 14000 / 800 -> 800 / '-' -> 0\\ndef parse_int(price):\\n    # print(type(price))\\n    if isinstance(price, str) and price.replace(',','').isdigit():\\n        return int(price,replace(','''))\\n    elif isinstance(price, int):\\n        return price\",\n",
       "  'parse_int(800)',\n",
       "  \"parse_int('800')\",\n",
       "  \"def parse_int(price):\\n    #print(type(price))\\n    if isinstance(price, str) and price.replace(',','').isdigit():\\n        return int(price.replace(',', ''))\\n    elif isinstance(price, int):\\n        return price\\n    else:\\n        return 0\",\n",
       "  \"parse_int('800')\",\n",
       "  \"def parse_int(price):\\n    #print(type(price))\\n    if price.replace(',','').isdigit():\\n        return int(price.replace(',', ''))\\n    elif isinstance(price, int):\\n        return price\",\n",
       "  \"parse_int('800')\",\n",
       "  \"parse_int('800')\",\n",
       "  \"# '14,000' -> 14000 / 800 -> 800 / '-' -> 0\\ndef parse_int(price):\\n    # print(type(price))\\n    if price.replace(',','').isdigit():\\n        return int(price,replace(','''))\\n    elif isinstance(price, int):\\n        return price\",\n",
       "  \"parse_int('800')\",\n",
       "  \"# '14,000' -> 14000 / 800 -> 800 / '-' -> 0\\ndef parse_int(price):\\n    # print(type(price))\\n    if isinstance(price, str) and price.replace(',','').isdigit():\\n        return int(price,replace(','''))\\n    elif isinstance(price, int):\\n        return price\",\n",
       "  \"parse_int('800')\",\n",
       "  \"# '14,000' -> 14000 / 800 -> 800 / '-' -> 0\\ndef parse_int(price):\\n    # print(type(price))\\n    if isinstance(price, str) and price.replace(',','').isdigit():\\n        return int(price,replace(','''))\\n    elif isinstance(price, int):\\n        return price\",\n",
       "  \"parse_int('800')\",\n",
       "  \"parse_int('800')\",\n",
       "  \"def parse_int(price):\\n    #print(type(price))\\n    if isinstance(price, str) and price.replace(',','').isdigit():\\n        return int(price.replace(',', ''))\\n    elif isinstance(price, int):\\n        return price\\n    else:\\n        return 0\",\n",
       "  \"def parse_int(price):\\n    #print(type(price))\\n    if isinstance(price, str) and price.replace(',','').isdigit():\\n        return int(price.replace(',', ''))\\n    elif isinstance(price, int):\\n        return price\",\n",
       "  \"parse_int('800')\",\n",
       "  \"# '14,000' -> 14000 / 800 -> 800 / '-' -> 0\\ndef parse_int(price):\\n    # print(type(price))\\n    if isinstance(price, str) and price.replace(',','').isdigit():\\n        return int(price.replace(','''))\\n    elif isinstance(price, int):\\n        return price\",\n",
       "  \"parse_int('800')\",\n",
       "  \"# '14,000' -> 14000 / 800 -> 800 / '-' -> 0\\ndef parse_int(price):\\n    # print(type(price))\\n    if isinstance(price, str) and price.replace(',','').isdigit():\\n        return int(price.replace(','''))\\n    elif isinstance(price, int):\\n        return price\",\n",
       "  \"parse_int('800')\",\n",
       "  \"def parse_int(price):\\n    #print(type(price))\\n    if (isinstance(price, str)) and price.replace(',','').isdigit():\\n        return int(price.replace(',', ''))\\n    elif isinstance(price, int):\\n        return price\",\n",
       "  \"parse_int('800')\",\n",
       "  \"# '14,000' -> 14000 / 800 -> 800 / '-' -> 0\\ndef parse_int(price):\\n    # print(type(price))\\n    if (isinstance(price, str)) and price.replace(',','').isdigit():\\n        return int(price.replace(','''))\\n    elif isinstance(price, int):\\n        return price\",\n",
       "  \"parse_int('800')\",\n",
       "  \"# '14,000' -> 14000 / 800 -> 800 / '-' -> 0\\ndef parse_int(price):\\n    # print(type(price))\\n    if (isinstance(price, str)) and price.replace(',','').isdigit():\\n        return int(price.replace(',',''))\\n    elif isinstance(price, int):\\n        return price\",\n",
       "  \"parse_int('800')\",\n",
       "  \"# 책제목순 정렬(ㄱㄴㄷ순), 저자순(ㄱㄴㄷ순), 가격순 정렬\\nbooks = [\\n    {'np':1, 'title': '강남 아파트 인사이트', 'writer':'오스틀', 'price':'25,200'},\\n    {'np':2, 'title': '단 한 번의 삶', 'writer':'김영하', 'price':'18,100'},\\n    {'np':3, 'title': '흔한남매 19', 'writer':'백난도', 'price':'14220'},\\n    {'np':4, 'title': '가격이잘못', 'writer':'신길동', 'price':'-'},\\n    {'np':5, 'title': '가격이숫자', 'writer':'김길동', 'price': 900},\\n    {'np':6, 'title': '가격이 없음', 'writer':'오스틀'}\\n]\",\n",
       "  \"parse_int('800'), parse_int('80,000'), parse_int('-')\",\n",
       "  \"# {'np':6, 'title': '가격이 없음', 'writer':'오스틀'} => 0\\n# {'np':3, 'title': '흔한남매 19', 'writer':'백난도', 'price':'14220'} => 14220\\n# {'np':5, 'title': '가격이숫자', 'writer':'김길동', 'price':900} => 900\\ndef parse_int(book):\\n    if isinstance(book.get(price), str) and \\\\\\n            book.get('price').replace(',','').isdigit():\\n        return int(book.get('price'),replace(',',''))\\n    elif isinstance(book.get('price'), int):\\n        return book.get(price)\\n    else:\\n        return 0\",\n",
       "  \"# {'np':6, 'title': '가격이 없음', 'writer':'오스틀'} => 0\\n# {'np':3, 'title': '흔한남매 19', 'writer':'백난도', 'price':'14220'} => 14220\\n# {'np':5, 'title': '가격이숫자', 'writer':'김길동', 'price':900} => 900\\ndef parse_int(book):\\n    if isinstance(book.get(price), str) and \\\\\\n            book.get('price').replace(',','').isdigit():\\n        return int(book.get('price'),replace(',',''))\\n    elif isinstance(book.get('price'), int):\\n        return book.get(price)\\n    else:\\n        return 0\\nparse_int(book[0])\",\n",
       "  \"# {'np':6, 'title': '가격이 없음', 'writer':'오스틀'} => 0\\n# {'np':3, 'title': '흔한남매 19', 'writer':'백난도', 'price':'14220'} => 14220\\n# {'np':5, 'title': '가격이숫자', 'writer':'김길동', 'price':900} => 900\\ndef parse_int(book):\\n    if isinstance(book.get('price'), str) and \\\\\\n            book.get('price').replace(',','').isdigit():\\n        return int(book.get('price'),replace(',',''))\\n    elif isinstance(book.get('price'), int):\\n        return book.get(price)\\n    else:\\n        return 0\\nparse_int(book[0])\",\n",
       "  \"# {'np':6, 'title': '가격이 없음', 'writer':'오스틀'} => 0\\n# {'np':3, 'title': '흔한남매 19', 'writer':'백난도', 'price':'14220'} => 14220\\n# {'np':5, 'title': '가격이숫자', 'writer':'김길동', 'price':900} => 900\\ndef parse_int(book):\\n    if isinstance(book.get('price'), str) and \\\\\\n            book.get('price').replace(',','').isdigit():\\n        return int(book.get('price').replace(',',''))\\n    elif isinstance(book.get('price'), int):\\n        return book.get(price)\\n    else:\\n        return 0\\nparse_int(book[0])\",\n",
       "  \"# {'np':6, 'title': '가격이 없음', 'writer':'오스틀'} => 0\\n# {'np':3, 'title': '흔한남매 19', 'writer':'백난도', 'price':'14220'} => 14220\\n# {'np':5, 'title': '가격이숫자', 'writer':'김길동', 'price':900} => 900\\ndef parse_int(book):\\n    if isinstance(book.get('price'), str) and \\\\\\n            book.get('price').replace(',','').isdigit():\\n        return int(book.get('price').replace(',',''))\\n    elif isinstance(book.get('price'), int):\\n        return book.get(price)\\n    else:\\n        return 0\\nparse_int(book[0]), parse_int(book[3]), parse_int(book[2]), parse_int(book[5])\",\n",
       "  \"parse_int('800'), parse_int('80,000'), parse_int('-')\",\n",
       "  \"def parse_int(price):\\n    #print(type(price))\\n    if isinstance(price, str) and price.replace(',','').isdigit():\\n        return int(price.replace(',', ''))\\n    elif isinstance(price, int):\\n        return price\\n    else:\\n        return 0\",\n",
       "  \"parse_int('800'), parse_int('80,000'), parse_int('-')\",\n",
       "  \"books = [\\n    {'np':1, 'title': '강남 아파트 인사이트', 'writer':'오스틀', 'price':'25,200'},\\n    {'np':2, 'title': '단 한 번의 삶', 'writer':'김영하', 'price':'18,100'},\\n    {'np':3, 'title': '흔한남매 19', 'writer':'백난도', 'price':'14220'},\\n    {'np':4, 'title': '가격이잘못', 'writer':'신길동', 'price':'-'},\\n    {'np':5, 'title': '가격이숫자', 'writer':'김길동', 'price': 900},\\n    {'np':6, 'title': '가격이 없음', 'writer':'오스틀'}\\n]\\ncopy_book = book.copy()\",\n",
       "  'copy_book',\n",
       "  'books',\n",
       "  \"copy_book.sort(key = lambda book : int(book.get('price'),replace(',','')) \\\\\\n               if isinstance(book.get('price'), ,str) \\\\\\n               and book.get('price').replace(',','').isdigit() \\\\\\n               else book.get('price') if isinstance(book.get('price'), int) \\\\\\n               else 0)\",\n",
       "  'copy_book = book.copy()',\n",
       "  \"copy_book.sort(key = lambda book : int(book.get('price'),replace(',','')) \\\\\\n               if isinstance(book.get('price'), ,str) \\\\\\n               and book.get('price').replace(',','').isdigit() \\\\\\n               else book.get('price') if isinstance(book.get('price'), int) \\\\\\n               else 0)\",\n",
       "  \"copy_book.sort(key = lambda book : int(book.get('price'),replace(',','')) \\\\\\n               if isinstance(book.get('price'), str) \\\\\\n               and book.get('price').replace(',','').isdigit() \\\\\\n               else book.get('price') if isinstance(book.get('price'), int) \\\\\\n               else 0)\",\n",
       "  \"copy_book.sort(key = lambda book : int(book.get('price').replace(',','')) \\\\\\n               if isinstance(book.get('price'), str) \\\\\\n               and book.get('price').replace(',','').isdigit() \\\\\\n               else book.get('price') if isinstance(book.get('price'), int) \\\\\\n               else 0)\",\n",
       "  '# 함수를 return\\ndef make_box(shape): # shape : [L] =>len 가 L 인 list 를 생성하는 함수 return,\\n                     #         [r,c] => r행 c열인 2차원 list를 생성하는 함수 return,\\n                     #         [d,r,c] => d면 r행 c열 3차원 list를 생성하는 함수 return\\n    def box(init_value):\\n        if len(shape)==1:\\n            return [init_value]*shape[0]\\n        elif len(shape)==2:\\n            return [ [init_value]*shape[1] ] * shape[0]\\n    return box',\n",
       "  'lien_func = make_box([2,3])\\nlien_func(3)',\n",
       "  'lien_func1 = make_box([10])\\nlien_func1(3)',\n",
       "  \"copy_books.sort(key = lambda book : int(book.get('price').replace(',','')) \\\\\\n                    if isinstance(book.get('price'), str) \\\\\\n                    and book.get('price').replace(',','').isdigit() \\\\\\n                    else book.get('price') if isinstance(book.get('price'), int) else \\\\\\n                0                \\n               )\",\n",
       "  \"copy_book.sort(key = lambda book : int(book.get('price').replace(',','')) \\\\\\n                    if isinstance(book.get('price'), str) \\\\\\n                    and book.get('price').replace(',','').isdigit() \\\\\\n                    else book.get('price') if isinstance(book.get('price'), int) else \\\\\\n                0                \\n               )\",\n",
       "  'copy_book',\n",
       "  \"copy_book.sort(key = lambda book : int(book.get('price').replace(',','')) \\\\\\n               if isinstance(book.get('price'), str) \\\\\\n               and book.get('price').replace(',','').isdigit() \\\\\\n               else book.get('price') if isinstance(book.get('price'), int) \\\\\\n               else 0)\",\n",
       "  'copy_book',\n",
       "  'def make_bax(shape):\\n    if len(shape)==1:\\n        return lambda init_value : [init_value-]*shape[0]\\n    elif len(shape)==2:\\n        return lambda init_value : [ [init_value] ] * shape[0]',\n",
       "  'def make_bax(shape):\\n    if len(shape)==1:\\n        return lambda init_value : [init_value-]*shape[0]\\n    elif len(shape)==2:\\n        return lambda init_value : [ [init_value]*shape[1] ] * shape[0]',\n",
       "  'def make_bax(shape):\\n    if len(shape)==1:\\n        return lambda init_value : [init_value]*shape[0]\\n    elif len(shape)==2:\\n        return lambda init_value : [ [init_value]*shape[1] ] * shape[0]',\n",
       "  'globals',\n",
       "  'globals()'],\n",
       " 'Out': {1: (True, False),\n",
       "  5: (True, False),\n",
       "  7: <function list.sort(*, key=None, reverse=False)>,\n",
       "  8: [9, 2, 7],\n",
       "  9: [9, 2, 7],\n",
       "  10: [[1, 100], [9, 9], [10, 1]],\n",
       "  11: [2, 7, 9],\n",
       "  13: (True, False),\n",
       "  14: [2, 4],\n",
       "  17: '2000-11-01',\n",
       "  18: '2000-91-01',\n",
       "  19: '2000-01-01',\n",
       "  21: [(1, 'one'), (2, 'two'), (3, 'three'), (4, 'four')],\n",
       "  22: [(4, 'four'), (1, 'one'), (3, 'three'), (2, 'two')],\n",
       "  23: [(4, 'four'), (1, 'one'), (3, 'three'), (2, 'two')],\n",
       "  24: [[1, 100], [9, 9, 9, 9, 9, 9], [10, 1]],\n",
       "  25: [[1, 100], [9, 9, 9, 9, 9, 9], [10, 1]],\n",
       "  26: 6,\n",
       "  27: [[1, 100], [10, 1], [9, 9, 9, 9, 9, 9]],\n",
       "  28: [[9, 9, 9, 9, 9, 9], [1, 100], [10, 1]],\n",
       "  40: [{'name': '김길동', 'score': 50},\n",
       "   {'name': '윤길동', 'score': 99},\n",
       "   {'name': '홍길동', 'score': 90}],\n",
       "  43: [{'score': 100},\n",
       "   {'name': '윤길동', 'score': 99},\n",
       "   {'name': '홍길동', 'score': 90},\n",
       "   {'name': '김길동', 'score': 50}],\n",
       "  44: [{'score': 100},\n",
       "   {'name': '윤길동', 'score': 99},\n",
       "   {'name': '홍길동', 'score': 90},\n",
       "   {'name': '김길동', 'score': 50}],\n",
       "  57: [{'np': 5, 'title': '가격이숫자', 'writer': '김길동', 'price': 900},\n",
       "   {'np': 2, 'title': '단 한 번의 삶', 'writer': '김영하', 'price': '18,100'},\n",
       "   {'np': 3, 'title': '흔한남매 19', 'writer': '백난도', 'price': '14,220'},\n",
       "   {'np': 4, 'title': '가격이잘못', 'writer': '신길동', 'price': '-'},\n",
       "   {'np': 6, 'title': '가격이 없음', 'writer': '오스틀'},\n",
       "   {'np': 1, 'title': '강남 아파트 인사이트', 'writer': '오스틀', 'price': '25,200'}],\n",
       "  58: [{'np': 5, 'title': '가격이숫자', 'writer': '김길동', 'price': 900},\n",
       "   {'np': 2, 'title': '단 한 번의 삶', 'writer': '김영하', 'price': '18,100'},\n",
       "   {'np': 3, 'title': '흔한남매 19', 'writer': '백난도', 'price': '14,220'},\n",
       "   {'np': 4, 'title': '가격이잘못', 'writer': '신길동', 'price': '-'},\n",
       "   {'np': 6, 'title': '가격이 없음', 'writer': '오스틀'},\n",
       "   {'np': 1, 'title': '강남 아파트 인사이트', 'writer': '오스틀', 'price': '25,200'}],\n",
       "  60: [{'np': 5, 'title': '가격이숫자', 'writer': '김길동', 'price': 900},\n",
       "   {'np': 2, 'title': '단 한 번의 삶', 'writer': '김영하', 'price': '18,100'},\n",
       "   {'np': 3, 'title': '흔한남매 19', 'writer': '백난도', 'price': '14220'},\n",
       "   {'np': 4, 'title': '가격이잘못', 'writer': '신길동', 'price': '-'},\n",
       "   {'np': 6, 'title': '가격이 없음', 'writer': '오스틀'},\n",
       "   {'np': 1, 'title': '강남 아파트 인사이트', 'writer': '오스틀', 'price': '25,200'}],\n",
       "  61: [{'np': 5, 'title': '가격이숫자', 'writer': '김길동', 'price': 900},\n",
       "   {'np': 2, 'title': '단 한 번의 삶', 'writer': '김영하', 'price': '18,100'},\n",
       "   {'np': 3, 'title': '흔한남매 19', 'writer': '백난도', 'price': '14220'},\n",
       "   {'np': 4, 'title': '가격이잘못', 'writer': '신길동', 'price': '-'},\n",
       "   {'np': 6, 'title': '가격이 없음', 'writer': '오스틀'},\n",
       "   {'np': 1, 'title': '강남 아파트 인사이트', 'writer': '오스틀', 'price': '25,200'}],\n",
       "  69: 800,\n",
       "  75: 800,\n",
       "  78: 800,\n",
       "  80: 800,\n",
       "  81: 800,\n",
       "  91: 800,\n",
       "  97: 800,\n",
       "  101: 800,\n",
       "  103: (800, 80000, None),\n",
       "  107: 25200,\n",
       "  108: (25200, 0, 14220, 0),\n",
       "  111: (800, 80000, 0),\n",
       "  113: [{'np': 1, 'title': '강남 아파트 인사이트', 'writer': '오스틀', 'price': '25,200'},\n",
       "   {'np': 2, 'title': '단 한 번의 삶', 'writer': '김영하', 'price': '18,100'},\n",
       "   {'np': 3, 'title': '흔한남매 19', 'writer': '백난도', 'price': '14,220'},\n",
       "   {'np': 4, 'title': '가격이잘못', 'writer': '신길동', 'price': '-'},\n",
       "   {'np': 5, 'title': '가격이숫자', 'writer': '김길동', 'price': 900},\n",
       "   {'np': 6, 'title': '가격이 없음', 'writer': '오스틀'}],\n",
       "  114: [{'np': 1, 'title': '강남 아파트 인사이트', 'writer': '오스틀', 'price': '25,200'},\n",
       "   {'np': 2, 'title': '단 한 번의 삶', 'writer': '김영하', 'price': '18,100'},\n",
       "   {'np': 3, 'title': '흔한남매 19', 'writer': '백난도', 'price': '14220'},\n",
       "   {'np': 4, 'title': '가격이잘못', 'writer': '신길동', 'price': '-'},\n",
       "   {'np': 5, 'title': '가격이숫자', 'writer': '김길동', 'price': 900},\n",
       "   {'np': 6, 'title': '가격이 없음', 'writer': '오스틀'}],\n",
       "  121: [[3, 3, 3], [3, 3, 3]],\n",
       "  122: [3, 3, 3, 3, 3, 3, 3, 3, 3, 3],\n",
       "  125: [{'np': 4, 'title': '가격이잘못', 'writer': '신길동', 'price': '-'},\n",
       "   {'np': 6, 'title': '가격이 없음', 'writer': '오스틀'},\n",
       "   {'np': 5, 'title': '가격이숫자', 'writer': '김길동', 'price': 900},\n",
       "   {'np': 3, 'title': '흔한남매 19', 'writer': '백난도', 'price': '14,220'},\n",
       "   {'np': 2, 'title': '단 한 번의 삶', 'writer': '김영하', 'price': '18,100'},\n",
       "   {'np': 1, 'title': '강남 아파트 인사이트', 'writer': '오스틀', 'price': '25,200'}],\n",
       "  127: [{'np': 4, 'title': '가격이잘못', 'writer': '신길동', 'price': '-'},\n",
       "   {'np': 6, 'title': '가격이 없음', 'writer': '오스틀'},\n",
       "   {'np': 5, 'title': '가격이숫자', 'writer': '김길동', 'price': 900},\n",
       "   {'np': 3, 'title': '흔한남매 19', 'writer': '백난도', 'price': '14,220'},\n",
       "   {'np': 2, 'title': '단 한 번의 삶', 'writer': '김영하', 'price': '18,100'},\n",
       "   {'np': 1, 'title': '강남 아파트 인사이트', 'writer': '오스틀', 'price': '25,200'}],\n",
       "  131: <function globals()>},\n",
       " 'get_ipython': <bound method InteractiveShell.get_ipython of <ipykernel.zmqshell.ZMQInteractiveShell object at 0x0000022A4261FD60>>,\n",
       " 'exit': <IPython.core.autocall.ZMQExitAutocall at 0x22a4262f5e0>,\n",
       " 'quit': <IPython.core.autocall.ZMQExitAutocall at 0x22a4262f5e0>,\n",
       " 'open': <function io.open(file, mode='r', buffering=-1, encoding=None, errors=None, newline=None, closefd=True, opener=None)>,\n",
       " '_': <function globals()>,\n",
       " '__': [{'np': 4, 'title': '가격이잘못', 'writer': '신길동', 'price': '-'},\n",
       "  {'np': 6, 'title': '가격이 없음', 'writer': '오스틀'},\n",
       "  {'np': 5, 'title': '가격이숫자', 'writer': '김길동', 'price': 900},\n",
       "  {'np': 3, 'title': '흔한남매 19', 'writer': '백난도', 'price': '14,220'},\n",
       "  {'np': 2, 'title': '단 한 번의 삶', 'writer': '김영하', 'price': '18,100'},\n",
       "  {'np': 1, 'title': '강남 아파트 인사이트', 'writer': '오스틀', 'price': '25,200'}],\n",
       " '___': [{'np': 4, 'title': '가격이잘못', 'writer': '신길동', 'price': '-'},\n",
       "  {'np': 6, 'title': '가격이 없음', 'writer': '오스틀'},\n",
       "  {'np': 5, 'title': '가격이숫자', 'writer': '김길동', 'price': 900},\n",
       "  {'np': 3, 'title': '흔한남매 19', 'writer': '백난도', 'price': '14,220'},\n",
       "  {'np': 2, 'title': '단 한 번의 삶', 'writer': '김영하', 'price': '18,100'},\n",
       "  {'np': 1, 'title': '강남 아파트 인사이트', 'writer': '오스틀', 'price': '25,200'}],\n",
       " '_i': 'globals',\n",
       " '_ii': 'def make_bax(shape):\\n    if len(shape)==1:\\n        return lambda init_value : [init_value]*shape[0]\\n    elif len(shape)==2:\\n        return lambda init_value : [ [init_value]*shape[1] ] * shape[0]',\n",
       " '_iii': 'def make_bax(shape):\\n    if len(shape)==1:\\n        return lambda init_value : [init_value-]*shape[0]\\n    elif len(shape)==2:\\n        return lambda init_value : [ [init_value]*shape[1] ] * shape[0]',\n",
       " '_i1': 'def evenChk(value):\\n    return value%2==0\\nevenChk(10), evenChk(9)',\n",
       " 'evenChk': <function __main__.evenChk(value)>,\n",
       " '_1': (True, False),\n",
       " '_i2': 'list_date = [1, 2, 3, 4, 5]\\nfilter_template(lambda value : value%2==0 , list_date )',\n",
       " 'list_date': [1, 2, 3, 4, 5],\n",
       " '_i3': \"# [1, 2, 3, 4, 5]\\ndef filter_template(func, L=[]):\\n    result = []\\n    for l in L:\\n        if func(''):\\n            result.append(l)\\n    return result\",\n",
       " 'filter_template': <function __main__.filter_template(func, L=[])>,\n",
       " '_i4': \"# [1, 2, 3, 4, 5]\\ndef filter_template(func, L=[]):\\n    result = []\\n    for l in L:\\n        if func(' '):\\n            result.append(l)\\n    return result\",\n",
       " '_i5': 'def evenChk(value):\\n    return value%2==0\\nevenChk(10), evenChk(9)',\n",
       " '_5': (True, False),\n",
       " '_i6': 'list_date = [1, 2, 3, 4, 5]\\nfilter_template(lambda value : value%2==0 , list_date )',\n",
       " '_i7': 'p = [9, 2, 7]\\np.sort',\n",
       " 'p': [2, 7, 9],\n",
       " '_7': <function list.sort(*, key=None, reverse=False)>,\n",
       " '_i8': 'p = [9, 2, 7]\\np.sort\\np',\n",
       " '_8': [9, 2, 7],\n",
       " '_i9': 'p = [9, 2, 7]\\np.sort\\np',\n",
       " '_9': [9, 2, 7],\n",
       " '_i10': 'number2d = [[9, 9], [1, 100], [10, 1]]\\nnumber2d.sort()\\nnumber2d',\n",
       " 'number2d': [[9, 9, 9, 9, 9, 9], [1, 100], [10, 1]],\n",
       " '_10': [[1, 100], [9, 9], [10, 1]],\n",
       " '_i11': 'p = [9, 2, 7]\\np.sort()\\np',\n",
       " '_11': [2, 7, 9],\n",
       " '_i12': '# [1, 2, 3, 4, 5]\\ndef filter_template(func, L=[]):\\n    result = []\\n    for l in L:\\n        if func(l):\\n            result.append(l)\\n    return result',\n",
       " '_i13': 'def evenChk(value):\\n    return value%2==0\\nevenChk(10), evenChk(9)',\n",
       " '_13': (True, False),\n",
       " '_i14': 'list_date = [1, 2, 3, 4, 5]\\nfilter_template(lambda value : value%2==0 , list_date )',\n",
       " '_14': [2, 4],\n",
       " '_i15': \"join_date({'year': 2000, 'month': 11, 'day': 1})\",\n",
       " '_i16': 'def join_date(date):\\n    return(\"{year}-{month:02}-{day:02}\".format(**date))',\n",
       " 'join_date': <function __main__.join_date(date)>,\n",
       " '_i17': \"join_date({'year': 2000, 'month': 11, 'day': 1})\",\n",
       " '_17': '2000-11-01',\n",
       " '_i18': \"join_date({'year': 2000, 'month': 91, 'day': 1})\",\n",
       " '_18': '2000-91-01',\n",
       " '_i19': \"join_date({'year': 2000, 'month': 1, 'day': 1})\",\n",
       " '_19': '2000-01-01',\n",
       " '_i20': \"pairs = [(2, 'two'), (, 'one'), (4, 'four'),(3, 'three')]\\npairs.sort()\\npairs\",\n",
       " '_i21': \"pairs = [(2, 'two'), (1, 'one'), (4, 'four'),(3, 'three')]\\npairs.sort()\\npairs\",\n",
       " 'pairs': [(4, 'four'), (1, 'one'), (3, 'three'), (2, 'two')],\n",
       " '_21': [(1, 'one'), (2, 'two'), (3, 'three'), (4, 'four')],\n",
       " '_i22': \"pairs = [(2, 'two'), (1, 'one'), (4, 'four'),(3, 'three')]\\npairs.sort()\\npairs\",\n",
       " '_22': [(4, 'four'), (1, 'one'), (3, 'three'), (2, 'two')],\n",
       " '_i23': '# 1번째 item 기준으로 정렬(abc순)\\npairs.sort(key=lambda pair : pair[1])\\npairs',\n",
       " '_23': [(4, 'four'), (1, 'one'), (3, 'three'), (2, 'two')],\n",
       " '_i24': '# 무조건 0번 item기준으로 정렬\\nnumber2d = [[9, 9, 9, 9, 9, 9],\\n            [1, 100],\\n            [10, 1]]\\nnumber2d.sort(reverse=True) # 기본(reverse=False):오름차순정렬/reverse=True:내림차순정렬\\nnumber2d',\n",
       " '_24': [[1, 100], [9, 9, 9, 9, 9, 9], [10, 1]],\n",
       " '_i25': '# 합이 큰 순으로 정렬\\nnumber2d.sort(key=lambda item : sum(item), reverse=True)\\nnumber2d',\n",
       " '_25': [[1, 100], [9, 9, 9, 9, 9, 9], [10, 1]],\n",
       " '_i26': '# 리스트를 매개변수로 받아 합을 retrue\\n(lambda item : sum(item))([1, 2, 3])',\n",
       " '_26': 6,\n",
       " '_i27': '# 무조건 0번 item기준으로 정렬\\nnumber2d = [[9, 9, 9, 9, 9, 9],\\n            [1, 100],\\n            [10, 1]]\\nnumber2d.sort(key=lambda date : max(date), reverse=True) # 기본(reverse=False):오름차순정렬/reverse=True:내림차순정렬\\nnumber2d',\n",
       " '_27': [[1, 100], [10, 1], [9, 9, 9, 9, 9, 9]],\n",
       " '_i28': '# 무조건 0번 item기준으로 정렬\\nnumber2d = [[9, 9, 9, 9, 9, 9],\\n            [1, 100],\\n            [10, 1]]\\nnumber2d.sort(key=lambda date : min(date), reverse=True) # 기본(reverse=False):오름차순정렬/reverse=True:내림차순정렬\\nnumber2d',\n",
       " '_28': [[9, 9, 9, 9, 9, 9], [1, 100], [10, 1]],\n",
       " '_i29': \"students = [{'name':'홍길동', 'score':90},\\n           {'name':'김길동', 'score':50},\\n           {'name':'윤길동', 'score':99},]\",\n",
       " 'students': [{'name': '홍길동', 'score': 90},\n",
       "  {'name': '김길동', 'score': 50},\n",
       "  {'name': '윤길동', 'score': 99}],\n",
       " '_i30': 'students.sort()\\nstudents',\n",
       " '_i31': '# 이름순으로 정렬(ㄱㄴㄷ순)\\nstudents.sort(key=lambda item : students.get(name))\\nstudents',\n",
       " '_i32': '# 이름순으로 정렬(ㄱㄴㄷ순)\\nstudents.sort(key=lambda item : item{students.get(name)})\\nstudents',\n",
       " '_i33': '# 이름순으로 정렬(ㄱㄴㄷ순)\\nstudents.sort(key=students.get(name))\\nstudents',\n",
       " '_i34': \"# 이름순으로 정렬(ㄱㄴㄷ순)\\nstudents.sort(key=students.get('name'))\\nstudents\",\n",
       " '_i35': '# 이름순으로 정렬(ㄱㄴㄷ순)\\nstudents.sort(key=lambda name : students.get(name))\\nstudents',\n",
       " '_i36': '# 이름순으로 정렬(ㄱㄴㄷ순)\\nstudents.sort(key=lambda name : students.get[name])\\nstudents',\n",
       " '_i37': '# 이름순으로 정렬(ㄱㄴㄷ순)\\nstudents.sort(key=students.get[name])\\nstudents',\n",
       " '_i38': \"# 이름순으로 정렬(ㄱㄴㄷ순)\\nstudents.sort(key=students.get['name'])\\nstudents\",\n",
       " '_i39': \"# 이름순으로 정렬(ㄱㄴㄷ순)\\nstudents.sort(key=lambda student : student.get['name'])\\nstudents\",\n",
       " '_i40': \"# 이름순으로 정렬(ㄱㄴㄷ순)\\nstudents.sort(key=lambda student : student.get('name'))\\nstudents\",\n",
       " '_40': [{'name': '김길동', 'score': 50},\n",
       "  {'name': '윤길동', 'score': 99},\n",
       "  {'name': '홍길동', 'score': 90}],\n",
       " '_i41': \"students = [{'name':'홍길동', 'score':90},\\n           {'name':'김길동', 'score':50},\\n           {'name':'윤길동', 'score':99},\\n           {'score':100}]\",\n",
       " '_i42': \"# 이름순으로 정렬(ㄱㄴㄷ순)\\nstudents.sort(key=lambda student : student.get('name'))\\nstudents\",\n",
       " '_i43': \"# 이름순으로 정렬(ㄱㄴㄷ순)\\nstudents.sort(key=lambda student : student.get('name', '힣'))\\nstudents\",\n",
       " '_43': [{'score': 100},\n",
       "  {'name': '윤길동', 'score': 99},\n",
       "  {'name': '홍길동', 'score': 90},\n",
       "  {'name': '김길동', 'score': 50}],\n",
       " '_i44': \"# score 순으로 정렬(내림차순정렬)\\nstudents.sort(key=lambda item : item.get('score', 0), reverse=True)\\nstudents\",\n",
       " '_44': [{'score': 100},\n",
       "  {'name': '윤길동', 'score': 99},\n",
       "  {'name': '홍길동', 'score': 90},\n",
       "  {'name': '김길동', 'score': 50}],\n",
       " '_i45': \"students = [\\n    {'name': '홍길동', 'score': 90},\\n    {'name': '김길동', 'score': 50},\\n    {'name': '윤길동', 'score': 99}\\n]\\n\\nstudents.sort(key=lambda student: student['name'])\\nprint(students)\",\n",
       " '_i46': \"students = [\\n    {'name': '홍길동', 'score': 90},\\n    {'name': '김길동', 'score': 50},\\n    {'name': '윤길동', 'score': 99}\\n]\\n\\nstudents.sort(key=lambda student: student['name'], end='/n')\\nprint(students)\",\n",
       " '_i47': \"students = [\\n    {'name': '홍길동', 'score': 90},\\n    {'name': '김길동', 'score': 50},\\n    {'name': '윤길동', 'score': 99}\\n]\\n\\nstudents.sort(key=lambda student: student['name'] end='/n')\\nprint(students)\",\n",
       " '_i48': \"students = [\\n    {'name': '홍길동', 'score': 90},\\n    {'name': '김길동', 'score': 50},\\n    {'name': '윤길동', 'score': 99}\\n]\\n\\nstudents.sort(key=lambda student: student['name'])\\nprint(students end='\\\\n')\",\n",
       " '_i49': \"# 책제목순 정렬(ㄱㄴㄷ순), 저자순(ㄱㄴㄷ순), 가격순 정렬\\nbook = [\\n    {'np':1, 'title': '강남 아파트 인사이트', 'writer':'오스틀', 'price':'25,200'},\\n    {'np':2, 'title': '단 한 번의 삶', 'writer':'김영하', 'price':'18,100'},\\n    {'np':3, 'title': '흔한남매 19', 'writer':'백난도', 'price':'14,220'},\\n    {'np':4, 'title': '가격이잘못', 'writer':'신길동', 'price':'-'},\\n    {'np':5, 'title': '가격이숫자', 'writer':'김길동', 'price':900},\\n    {'np':6, 'title': '가격이 없음', 'writer':'오스틀'}\\n]\",\n",
       " 'book': [{'np': 1,\n",
       "   'title': '강남 아파트 인사이트',\n",
       "   'writer': '오스틀',\n",
       "   'price': '25,200'},\n",
       "  {'np': 2, 'title': '단 한 번의 삶', 'writer': '김영하', 'price': '18,100'},\n",
       "  {'np': 3, 'title': '흔한남매 19', 'writer': '백난도', 'price': '14,220'},\n",
       "  {'np': 4, 'title': '가격이잘못', 'writer': '신길동', 'price': '-'},\n",
       "  {'np': 5, 'title': '가격이숫자', 'writer': '김길동', 'price': 900},\n",
       "  {'np': 6, 'title': '가격이 없음', 'writer': '오스틀'}],\n",
       " '_i50': 'bools.sort(key = lambda book : book.get(title))\\nbook',\n",
       " '_i51': 'books.sort(key = lambda book : book.get(title))\\nbooks',\n",
       " '_i52': 'books.sort(key = lambda book : books.get(title))\\nbooks',\n",
       " '_i53': \"books.sort(key = lambda book : book.get('title'))\\nbooks\",\n",
       " '_i54': \"# 책제목순 정렬(ㄱㄴㄷ순), 저자순(ㄱㄴㄷ순), 가격순 정렬\\nbook = [\\n    {'np':1, 'title': '강남 아파트 인사이트', 'writer':'오스틀', 'price':'25,200'},\\n    {'np':2, 'title': '단 한 번의 삶', 'writer':'김영하', 'price':'18,100'},\\n    {'np':3, 'title': '흔한남매 19', 'writer':'백난도', 'price':'14,220'},\\n    {'np':4, 'title': '가격이잘못', 'writer':'신길동', 'price':'-'},\\n    {'np':5, 'title': '가격이숫자', 'writer':'김길동', 'price':900},\\n    {'np':6, 'title': '가격이 없음', 'writer':'오스틀'}\\n]\",\n",
       " '_i55': \"books.sort(key = lambda book : book.get('title'))\\nbooks\",\n",
       " '_i56': \"# 책제목순 정렬(ㄱㄴㄷ순), 저자순(ㄱㄴㄷ순), 가격순 정렬\\nbooks = [\\n    {'np':1, 'title': '강남 아파트 인사이트', 'writer':'오스틀', 'price':'25,200'},\\n    {'np':2, 'title': '단 한 번의 삶', 'writer':'김영하', 'price':'18,100'},\\n    {'np':3, 'title': '흔한남매 19', 'writer':'백난도', 'price':'14,220'},\\n    {'np':4, 'title': '가격이잘못', 'writer':'신길동', 'price':'-'},\\n    {'np':5, 'title': '가격이숫자', 'writer':'김길동', 'price':900},\\n    {'np':6, 'title': '가격이 없음', 'writer':'오스틀'}\\n]\",\n",
       " 'books': [{'np': 1,\n",
       "   'title': '강남 아파트 인사이트',\n",
       "   'writer': '오스틀',\n",
       "   'price': '25,200'},\n",
       "  {'np': 2, 'title': '단 한 번의 삶', 'writer': '김영하', 'price': '18,100'},\n",
       "  {'np': 3, 'title': '흔한남매 19', 'writer': '백난도', 'price': '14220'},\n",
       "  {'np': 4, 'title': '가격이잘못', 'writer': '신길동', 'price': '-'},\n",
       "  {'np': 5, 'title': '가격이숫자', 'writer': '김길동', 'price': 900},\n",
       "  {'np': 6, 'title': '가격이 없음', 'writer': '오스틀'}],\n",
       " '_i57': \"books.sort(key = lambda book : book.get('title'))\\nbooks\",\n",
       " '_57': [{'np': 5, 'title': '가격이숫자', 'writer': '김길동', 'price': 900},\n",
       "  {'np': 2, 'title': '단 한 번의 삶', 'writer': '김영하', 'price': '18,100'},\n",
       "  {'np': 3, 'title': '흔한남매 19', 'writer': '백난도', 'price': '14,220'},\n",
       "  {'np': 4, 'title': '가격이잘못', 'writer': '신길동', 'price': '-'},\n",
       "  {'np': 6, 'title': '가격이 없음', 'writer': '오스틀'},\n",
       "  {'np': 1, 'title': '강남 아파트 인사이트', 'writer': '오스틀', 'price': '25,200'}],\n",
       " '_i58': \"books.sort(key = lambda book : book.get('writer'))\\nbooks\",\n",
       " '_58': [{'np': 5, 'title': '가격이숫자', 'writer': '김길동', 'price': 900},\n",
       "  {'np': 2, 'title': '단 한 번의 삶', 'writer': '김영하', 'price': '18,100'},\n",
       "  {'np': 3, 'title': '흔한남매 19', 'writer': '백난도', 'price': '14,220'},\n",
       "  {'np': 4, 'title': '가격이잘못', 'writer': '신길동', 'price': '-'},\n",
       "  {'np': 6, 'title': '가격이 없음', 'writer': '오스틀'},\n",
       "  {'np': 1, 'title': '강남 아파트 인사이트', 'writer': '오스틀', 'price': '25,200'}],\n",
       " '_i59': \"# 책제목순 정렬(ㄱㄴㄷ순), 저자순(ㄱㄴㄷ순), 가격순 정렬\\nbooks = [\\n    {'np':1, 'title': '강남 아파트 인사이트', 'writer':'오스틀', 'price':'25,200'},\\n    {'np':2, 'title': '단 한 번의 삶', 'writer':'김영하', 'price':'18,100'},\\n    {'np':3, 'title': '흔한남매 19', 'writer':'백난도', 'price':'14220'},\\n    {'np':4, 'title': '가격이잘못', 'writer':'신길동', 'price':'-'},\\n    {'np':5, 'title': '가격이숫자', 'writer':'김길동', 'price':900},\\n    {'np':6, 'title': '가격이 없음', 'writer':'오스틀'}\\n]\",\n",
       " '_i60': \"books.sort(key = lambda book : book.get('title'))\\nbooks\",\n",
       " '_60': [{'np': 5, 'title': '가격이숫자', 'writer': '김길동', 'price': 900},\n",
       "  {'np': 2, 'title': '단 한 번의 삶', 'writer': '김영하', 'price': '18,100'},\n",
       "  {'np': 3, 'title': '흔한남매 19', 'writer': '백난도', 'price': '14220'},\n",
       "  {'np': 4, 'title': '가격이잘못', 'writer': '신길동', 'price': '-'},\n",
       "  {'np': 6, 'title': '가격이 없음', 'writer': '오스틀'},\n",
       "  {'np': 1, 'title': '강남 아파트 인사이트', 'writer': '오스틀', 'price': '25,200'}],\n",
       " '_i61': \"books.sort(key = lambda book : book.get('writer'))\\nbooks\",\n",
       " '_61': [{'np': 5, 'title': '가격이숫자', 'writer': '김길동', 'price': 900},\n",
       "  {'np': 2, 'title': '단 한 번의 삶', 'writer': '김영하', 'price': '18,100'},\n",
       "  {'np': 3, 'title': '흔한남매 19', 'writer': '백난도', 'price': '14220'},\n",
       "  {'np': 4, 'title': '가격이잘못', 'writer': '신길동', 'price': '-'},\n",
       "  {'np': 6, 'title': '가격이 없음', 'writer': '오스틀'},\n",
       "  {'np': 1, 'title': '강남 아파트 인사이트', 'writer': '오스틀', 'price': '25,200'}],\n",
       " '_i62': \"# '14,000' -> 14000 / 800 -> 800 / '-' -> 0\\ndef parse_int(price):\\n    print(type(price))\",\n",
       " 'parse_int': <function __main__.parse_int(price)>,\n",
       " '_i63': 'parse_int(800)',\n",
       " '_i64': 'parse_int(18,555)',\n",
       " '_i65': \"parse_int('800')\",\n",
       " '_i66': \"parse_int('-')\",\n",
       " '_i67': 'parse_int(800)',\n",
       " '_i68': \"# '14,000' -> 14000 / 800 -> 800 / '-' -> 0\\ndef parse_int(price):\\n    # print(type(price))\\n    if isinstance(price, int):\\n        return price\",\n",
       " '_i69': 'parse_int(800)',\n",
       " '_69': 800,\n",
       " '_i70': \"# '14,000' -> 14000 / 800 -> 800 / '-' -> 0\\ndef parse_int(price):\\n    # print(type(price))\\n    if price.replace(',','').isdigit():\\n        return int(price,replace(','''))\\n    elif isinstance(price, int):\\n        return price\",\n",
       " '_i71': 'parse_int(8000)',\n",
       " '_i72': \"# '14,000' -> 14000 / 800 -> 800 / '-' -> 0\\ndef parse_int(price):\\n    # print(type(price))\\n    if price.replace(',','').isdigit():\\n        return int(price,replace(','''))\\n    elif isinstance(price, int):\\n        return price\",\n",
       " '_i73': 'parse_int(8000)',\n",
       " '_i74': \"# '14,000' -> 14000 / 800 -> 800 / '-' -> 0\\ndef parse_int(price):\\n    # print(type(price))\\n    if isinstance(price, str) and price.replace(',','').isdigit():\\n        return int(price,replace(','''))\\n    elif isinstance(price, int):\\n        return price\",\n",
       " '_i75': 'parse_int(800)',\n",
       " '_75': 800,\n",
       " '_i76': \"parse_int('800')\",\n",
       " '_i77': \"def parse_int(price):\\n    #print(type(price))\\n    if isinstance(price, str) and price.replace(',','').isdigit():\\n        return int(price.replace(',', ''))\\n    elif isinstance(price, int):\\n        return price\\n    else:\\n        return 0\",\n",
       " '_i78': \"parse_int('800')\",\n",
       " '_78': 800,\n",
       " '_i79': \"def parse_int(price):\\n    #print(type(price))\\n    if price.replace(',','').isdigit():\\n        return int(price.replace(',', ''))\\n    elif isinstance(price, int):\\n        return price\",\n",
       " '_i80': \"parse_int('800')\",\n",
       " '_80': 800,\n",
       " '_i81': \"parse_int('800')\",\n",
       " '_81': 800,\n",
       " '_i82': \"# '14,000' -> 14000 / 800 -> 800 / '-' -> 0\\ndef parse_int(price):\\n    # print(type(price))\\n    if price.replace(',','').isdigit():\\n        return int(price,replace(','''))\\n    elif isinstance(price, int):\\n        return price\",\n",
       " '_i83': \"parse_int('800')\",\n",
       " '_i84': \"# '14,000' -> 14000 / 800 -> 800 / '-' -> 0\\ndef parse_int(price):\\n    # print(type(price))\\n    if isinstance(price, str) and price.replace(',','').isdigit():\\n        return int(price,replace(','''))\\n    elif isinstance(price, int):\\n        return price\",\n",
       " '_i85': \"parse_int('800')\",\n",
       " '_i86': \"# '14,000' -> 14000 / 800 -> 800 / '-' -> 0\\ndef parse_int(price):\\n    # print(type(price))\\n    if isinstance(price, str) and price.replace(',','').isdigit():\\n        return int(price,replace(','''))\\n    elif isinstance(price, int):\\n        return price\",\n",
       " '_i87': \"parse_int('800')\",\n",
       " '_i88': \"parse_int('800')\",\n",
       " '_i89': \"def parse_int(price):\\n    #print(type(price))\\n    if isinstance(price, str) and price.replace(',','').isdigit():\\n        return int(price.replace(',', ''))\\n    elif isinstance(price, int):\\n        return price\\n    else:\\n        return 0\",\n",
       " '_i90': \"def parse_int(price):\\n    #print(type(price))\\n    if isinstance(price, str) and price.replace(',','').isdigit():\\n        return int(price.replace(',', ''))\\n    elif isinstance(price, int):\\n        return price\",\n",
       " '_i91': \"parse_int('800')\",\n",
       " '_91': 800,\n",
       " '_i92': \"# '14,000' -> 14000 / 800 -> 800 / '-' -> 0\\ndef parse_int(price):\\n    # print(type(price))\\n    if isinstance(price, str) and price.replace(',','').isdigit():\\n        return int(price.replace(','''))\\n    elif isinstance(price, int):\\n        return price\",\n",
       " '_i93': \"parse_int('800')\",\n",
       " '_i94': \"# '14,000' -> 14000 / 800 -> 800 / '-' -> 0\\ndef parse_int(price):\\n    # print(type(price))\\n    if isinstance(price, str) and price.replace(',','').isdigit():\\n        return int(price.replace(','''))\\n    elif isinstance(price, int):\\n        return price\",\n",
       " '_i95': \"parse_int('800')\",\n",
       " '_i96': \"def parse_int(price):\\n    #print(type(price))\\n    if (isinstance(price, str)) and price.replace(',','').isdigit():\\n        return int(price.replace(',', ''))\\n    elif isinstance(price, int):\\n        return price\",\n",
       " '_i97': \"parse_int('800')\",\n",
       " '_97': 800,\n",
       " '_i98': \"# '14,000' -> 14000 / 800 -> 800 / '-' -> 0\\ndef parse_int(price):\\n    # print(type(price))\\n    if (isinstance(price, str)) and price.replace(',','').isdigit():\\n        return int(price.replace(','''))\\n    elif isinstance(price, int):\\n        return price\",\n",
       " '_i99': \"parse_int('800')\",\n",
       " '_i100': \"# '14,000' -> 14000 / 800 -> 800 / '-' -> 0\\ndef parse_int(price):\\n    # print(type(price))\\n    if (isinstance(price, str)) and price.replace(',','').isdigit():\\n        return int(price.replace(',',''))\\n    elif isinstance(price, int):\\n        return price\",\n",
       " '_i101': \"parse_int('800')\",\n",
       " '_101': 800,\n",
       " '_i102': \"# 책제목순 정렬(ㄱㄴㄷ순), 저자순(ㄱㄴㄷ순), 가격순 정렬\\nbooks = [\\n    {'np':1, 'title': '강남 아파트 인사이트', 'writer':'오스틀', 'price':'25,200'},\\n    {'np':2, 'title': '단 한 번의 삶', 'writer':'김영하', 'price':'18,100'},\\n    {'np':3, 'title': '흔한남매 19', 'writer':'백난도', 'price':'14220'},\\n    {'np':4, 'title': '가격이잘못', 'writer':'신길동', 'price':'-'},\\n    {'np':5, 'title': '가격이숫자', 'writer':'김길동', 'price': 900},\\n    {'np':6, 'title': '가격이 없음', 'writer':'오스틀'}\\n]\",\n",
       " '_i103': \"parse_int('800'), parse_int('80,000'), parse_int('-')\",\n",
       " '_103': (800, 80000, None),\n",
       " '_i104': \"# {'np':6, 'title': '가격이 없음', 'writer':'오스틀'} => 0\\n# {'np':3, 'title': '흔한남매 19', 'writer':'백난도', 'price':'14220'} => 14220\\n# {'np':5, 'title': '가격이숫자', 'writer':'김길동', 'price':900} => 900\\ndef parse_int(book):\\n    if isinstance(book.get(price), str) and \\\\\\n            book.get('price').replace(',','').isdigit():\\n        return int(book.get('price'),replace(',',''))\\n    elif isinstance(book.get('price'), int):\\n        return book.get(price)\\n    else:\\n        return 0\",\n",
       " '_i105': \"# {'np':6, 'title': '가격이 없음', 'writer':'오스틀'} => 0\\n# {'np':3, 'title': '흔한남매 19', 'writer':'백난도', 'price':'14220'} => 14220\\n# {'np':5, 'title': '가격이숫자', 'writer':'김길동', 'price':900} => 900\\ndef parse_int(book):\\n    if isinstance(book.get(price), str) and \\\\\\n            book.get('price').replace(',','').isdigit():\\n        return int(book.get('price'),replace(',',''))\\n    elif isinstance(book.get('price'), int):\\n        return book.get(price)\\n    else:\\n        return 0\\nparse_int(book[0])\",\n",
       " '_i106': \"# {'np':6, 'title': '가격이 없음', 'writer':'오스틀'} => 0\\n# {'np':3, 'title': '흔한남매 19', 'writer':'백난도', 'price':'14220'} => 14220\\n# {'np':5, 'title': '가격이숫자', 'writer':'김길동', 'price':900} => 900\\ndef parse_int(book):\\n    if isinstance(book.get('price'), str) and \\\\\\n            book.get('price').replace(',','').isdigit():\\n        return int(book.get('price'),replace(',',''))\\n    elif isinstance(book.get('price'), int):\\n        return book.get(price)\\n    else:\\n        return 0\\nparse_int(book[0])\",\n",
       " '_i107': \"# {'np':6, 'title': '가격이 없음', 'writer':'오스틀'} => 0\\n# {'np':3, 'title': '흔한남매 19', 'writer':'백난도', 'price':'14220'} => 14220\\n# {'np':5, 'title': '가격이숫자', 'writer':'김길동', 'price':900} => 900\\ndef parse_int(book):\\n    if isinstance(book.get('price'), str) and \\\\\\n            book.get('price').replace(',','').isdigit():\\n        return int(book.get('price').replace(',',''))\\n    elif isinstance(book.get('price'), int):\\n        return book.get(price)\\n    else:\\n        return 0\\nparse_int(book[0])\",\n",
       " '_107': 25200,\n",
       " '_i108': \"# {'np':6, 'title': '가격이 없음', 'writer':'오스틀'} => 0\\n# {'np':3, 'title': '흔한남매 19', 'writer':'백난도', 'price':'14220'} => 14220\\n# {'np':5, 'title': '가격이숫자', 'writer':'김길동', 'price':900} => 900\\ndef parse_int(book):\\n    if isinstance(book.get('price'), str) and \\\\\\n            book.get('price').replace(',','').isdigit():\\n        return int(book.get('price').replace(',',''))\\n    elif isinstance(book.get('price'), int):\\n        return book.get(price)\\n    else:\\n        return 0\\nparse_int(book[0]), parse_int(book[3]), parse_int(book[2]), parse_int(book[5])\",\n",
       " '_108': (25200, 0, 14220, 0),\n",
       " '_i109': \"parse_int('800'), parse_int('80,000'), parse_int('-')\",\n",
       " '_i110': \"def parse_int(price):\\n    #print(type(price))\\n    if isinstance(price, str) and price.replace(',','').isdigit():\\n        return int(price.replace(',', ''))\\n    elif isinstance(price, int):\\n        return price\\n    else:\\n        return 0\",\n",
       " '_i111': \"parse_int('800'), parse_int('80,000'), parse_int('-')\",\n",
       " '_111': (800, 80000, 0),\n",
       " '_i112': \"books = [\\n    {'np':1, 'title': '강남 아파트 인사이트', 'writer':'오스틀', 'price':'25,200'},\\n    {'np':2, 'title': '단 한 번의 삶', 'writer':'김영하', 'price':'18,100'},\\n    {'np':3, 'title': '흔한남매 19', 'writer':'백난도', 'price':'14220'},\\n    {'np':4, 'title': '가격이잘못', 'writer':'신길동', 'price':'-'},\\n    {'np':5, 'title': '가격이숫자', 'writer':'김길동', 'price': 900},\\n    {'np':6, 'title': '가격이 없음', 'writer':'오스틀'}\\n]\\ncopy_book = book.copy()\",\n",
       " 'copy_book': [{'np': 4, 'title': '가격이잘못', 'writer': '신길동', 'price': '-'},\n",
       "  {'np': 6, 'title': '가격이 없음', 'writer': '오스틀'},\n",
       "  {'np': 5, 'title': '가격이숫자', 'writer': '김길동', 'price': 900},\n",
       "  {'np': 3, 'title': '흔한남매 19', 'writer': '백난도', 'price': '14,220'},\n",
       "  {'np': 2, 'title': '단 한 번의 삶', 'writer': '김영하', 'price': '18,100'},\n",
       "  {'np': 1, 'title': '강남 아파트 인사이트', 'writer': '오스틀', 'price': '25,200'}],\n",
       " '_i113': 'copy_book',\n",
       " '_113': [{'np': 1,\n",
       "   'title': '강남 아파트 인사이트',\n",
       "   'writer': '오스틀',\n",
       "   'price': '25,200'},\n",
       "  {'np': 2, 'title': '단 한 번의 삶', 'writer': '김영하', 'price': '18,100'},\n",
       "  {'np': 3, 'title': '흔한남매 19', 'writer': '백난도', 'price': '14,220'},\n",
       "  {'np': 4, 'title': '가격이잘못', 'writer': '신길동', 'price': '-'},\n",
       "  {'np': 5, 'title': '가격이숫자', 'writer': '김길동', 'price': 900},\n",
       "  {'np': 6, 'title': '가격이 없음', 'writer': '오스틀'}],\n",
       " '_i114': 'books',\n",
       " '_114': [{'np': 1,\n",
       "   'title': '강남 아파트 인사이트',\n",
       "   'writer': '오스틀',\n",
       "   'price': '25,200'},\n",
       "  {'np': 2, 'title': '단 한 번의 삶', 'writer': '김영하', 'price': '18,100'},\n",
       "  {'np': 3, 'title': '흔한남매 19', 'writer': '백난도', 'price': '14220'},\n",
       "  {'np': 4, 'title': '가격이잘못', 'writer': '신길동', 'price': '-'},\n",
       "  {'np': 5, 'title': '가격이숫자', 'writer': '김길동', 'price': 900},\n",
       "  {'np': 6, 'title': '가격이 없음', 'writer': '오스틀'}],\n",
       " '_i115': \"copy_book.sort(key = lambda book : int(book.get('price'),replace(',','')) \\\\\\n               if isinstance(book.get('price'), ,str) \\\\\\n               and book.get('price').replace(',','').isdigit() \\\\\\n               else book.get('price') if isinstance(book.get('price'), int) \\\\\\n               else 0)\",\n",
       " '_i116': 'copy_book = book.copy()',\n",
       " '_i117': \"copy_book.sort(key = lambda book : int(book.get('price'),replace(',','')) \\\\\\n               if isinstance(book.get('price'), ,str) \\\\\\n               and book.get('price').replace(',','').isdigit() \\\\\\n               else book.get('price') if isinstance(book.get('price'), int) \\\\\\n               else 0)\",\n",
       " '_i118': \"copy_book.sort(key = lambda book : int(book.get('price'),replace(',','')) \\\\\\n               if isinstance(book.get('price'), str) \\\\\\n               and book.get('price').replace(',','').isdigit() \\\\\\n               else book.get('price') if isinstance(book.get('price'), int) \\\\\\n               else 0)\",\n",
       " '_i119': \"copy_book.sort(key = lambda book : int(book.get('price').replace(',','')) \\\\\\n               if isinstance(book.get('price'), str) \\\\\\n               and book.get('price').replace(',','').isdigit() \\\\\\n               else book.get('price') if isinstance(book.get('price'), int) \\\\\\n               else 0)\",\n",
       " '_i120': '# 함수를 return\\ndef make_box(shape): # shape : [L] =>len 가 L 인 list 를 생성하는 함수 return,\\n                     #         [r,c] => r행 c열인 2차원 list를 생성하는 함수 return,\\n                     #         [d,r,c] => d면 r행 c열 3차원 list를 생성하는 함수 return\\n    def box(init_value):\\n        if len(shape)==1:\\n            return [init_value]*shape[0]\\n        elif len(shape)==2:\\n            return [ [init_value]*shape[1] ] * shape[0]\\n    return box',\n",
       " 'make_box': <function __main__.make_box(shape)>,\n",
       " '_i121': 'lien_func = make_box([2,3])\\nlien_func(3)',\n",
       " 'lien_func': <function __main__.make_box.<locals>.box(init_value)>,\n",
       " '_121': [[3, 3, 3], [3, 3, 3]],\n",
       " '_i122': 'lien_func1 = make_box([10])\\nlien_func1(3)',\n",
       " 'lien_func1': <function __main__.make_box.<locals>.box(init_value)>,\n",
       " '_122': [3, 3, 3, 3, 3, 3, 3, 3, 3, 3],\n",
       " '_i123': \"copy_books.sort(key = lambda book : int(book.get('price').replace(',','')) \\\\\\n                    if isinstance(book.get('price'), str) \\\\\\n                    and book.get('price').replace(',','').isdigit() \\\\\\n                    else book.get('price') if isinstance(book.get('price'), int) else \\\\\\n                0                \\n               )\",\n",
       " '_i124': \"copy_book.sort(key = lambda book : int(book.get('price').replace(',','')) \\\\\\n                    if isinstance(book.get('price'), str) \\\\\\n                    and book.get('price').replace(',','').isdigit() \\\\\\n                    else book.get('price') if isinstance(book.get('price'), int) else \\\\\\n                0                \\n               )\",\n",
       " '_i125': 'copy_book',\n",
       " '_125': [{'np': 4, 'title': '가격이잘못', 'writer': '신길동', 'price': '-'},\n",
       "  {'np': 6, 'title': '가격이 없음', 'writer': '오스틀'},\n",
       "  {'np': 5, 'title': '가격이숫자', 'writer': '김길동', 'price': 900},\n",
       "  {'np': 3, 'title': '흔한남매 19', 'writer': '백난도', 'price': '14,220'},\n",
       "  {'np': 2, 'title': '단 한 번의 삶', 'writer': '김영하', 'price': '18,100'},\n",
       "  {'np': 1, 'title': '강남 아파트 인사이트', 'writer': '오스틀', 'price': '25,200'}],\n",
       " '_i126': \"copy_book.sort(key = lambda book : int(book.get('price').replace(',','')) \\\\\\n               if isinstance(book.get('price'), str) \\\\\\n               and book.get('price').replace(',','').isdigit() \\\\\\n               else book.get('price') if isinstance(book.get('price'), int) \\\\\\n               else 0)\",\n",
       " '_i127': 'copy_book',\n",
       " '_127': [{'np': 4, 'title': '가격이잘못', 'writer': '신길동', 'price': '-'},\n",
       "  {'np': 6, 'title': '가격이 없음', 'writer': '오스틀'},\n",
       "  {'np': 5, 'title': '가격이숫자', 'writer': '김길동', 'price': 900},\n",
       "  {'np': 3, 'title': '흔한남매 19', 'writer': '백난도', 'price': '14,220'},\n",
       "  {'np': 2, 'title': '단 한 번의 삶', 'writer': '김영하', 'price': '18,100'},\n",
       "  {'np': 1, 'title': '강남 아파트 인사이트', 'writer': '오스틀', 'price': '25,200'}],\n",
       " '_i128': 'def make_bax(shape):\\n    if len(shape)==1:\\n        return lambda init_value : [init_value-]*shape[0]\\n    elif len(shape)==2:\\n        return lambda init_value : [ [init_value] ] * shape[0]',\n",
       " '_i129': 'def make_bax(shape):\\n    if len(shape)==1:\\n        return lambda init_value : [init_value-]*shape[0]\\n    elif len(shape)==2:\\n        return lambda init_value : [ [init_value]*shape[1] ] * shape[0]',\n",
       " '_i130': 'def make_bax(shape):\\n    if len(shape)==1:\\n        return lambda init_value : [init_value]*shape[0]\\n    elif len(shape)==2:\\n        return lambda init_value : [ [init_value]*shape[1] ] * shape[0]',\n",
       " 'make_bax': <function __main__.make_bax(shape)>,\n",
       " '_i131': 'globals',\n",
       " '_131': <function globals()>,\n",
       " '_i132': 'globals()'}"
      ]
     },
     "execution_count": 132,
     "metadata": {},
     "output_type": "execute_result"
    }
   ],
   "source": [
    "globals() # 전역변수 리스트 "
   ]
  },
  {
   "cell_type": "code",
   "execution_count": 133,
   "id": "3cf98cd7",
   "metadata": {
    "collapsed": true
   },
   "outputs": [
    {
     "data": {
      "text/plain": [
       "{'__name__': '__main__',\n",
       " '__doc__': 'Automatically created module for IPython interactive environment',\n",
       " '__package__': None,\n",
       " '__loader__': None,\n",
       " '__spec__': None,\n",
       " '__builtin__': <module 'builtins' (built-in)>,\n",
       " '__builtins__': <module 'builtins' (built-in)>,\n",
       " '_ih': ['',\n",
       "  'def evenChk(value):\\n    return value%2==0\\nevenChk(10), evenChk(9)',\n",
       "  'list_date = [1, 2, 3, 4, 5]\\nfilter_template(lambda value : value%2==0 , list_date )',\n",
       "  \"# [1, 2, 3, 4, 5]\\ndef filter_template(func, L=[]):\\n    result = []\\n    for l in L:\\n        if func(''):\\n            result.append(l)\\n    return result\",\n",
       "  \"# [1, 2, 3, 4, 5]\\ndef filter_template(func, L=[]):\\n    result = []\\n    for l in L:\\n        if func(' '):\\n            result.append(l)\\n    return result\",\n",
       "  'def evenChk(value):\\n    return value%2==0\\nevenChk(10), evenChk(9)',\n",
       "  'list_date = [1, 2, 3, 4, 5]\\nfilter_template(lambda value : value%2==0 , list_date )',\n",
       "  'p = [9, 2, 7]\\np.sort',\n",
       "  'p = [9, 2, 7]\\np.sort\\np',\n",
       "  'p = [9, 2, 7]\\np.sort\\np',\n",
       "  'number2d = [[9, 9], [1, 100], [10, 1]]\\nnumber2d.sort()\\nnumber2d',\n",
       "  'p = [9, 2, 7]\\np.sort()\\np',\n",
       "  '# [1, 2, 3, 4, 5]\\ndef filter_template(func, L=[]):\\n    result = []\\n    for l in L:\\n        if func(l):\\n            result.append(l)\\n    return result',\n",
       "  'def evenChk(value):\\n    return value%2==0\\nevenChk(10), evenChk(9)',\n",
       "  'list_date = [1, 2, 3, 4, 5]\\nfilter_template(lambda value : value%2==0 , list_date )',\n",
       "  \"join_date({'year': 2000, 'month': 11, 'day': 1})\",\n",
       "  'def join_date(date):\\n    return(\"{year}-{month:02}-{day:02}\".format(**date))',\n",
       "  \"join_date({'year': 2000, 'month': 11, 'day': 1})\",\n",
       "  \"join_date({'year': 2000, 'month': 91, 'day': 1})\",\n",
       "  \"join_date({'year': 2000, 'month': 1, 'day': 1})\",\n",
       "  \"pairs = [(2, 'two'), (, 'one'), (4, 'four'),(3, 'three')]\\npairs.sort()\\npairs\",\n",
       "  \"pairs = [(2, 'two'), (1, 'one'), (4, 'four'),(3, 'three')]\\npairs.sort()\\npairs\",\n",
       "  \"pairs = [(2, 'two'), (1, 'one'), (4, 'four'),(3, 'three')]\\npairs.sort()\\npairs\",\n",
       "  '# 1번째 item 기준으로 정렬(abc순)\\npairs.sort(key=lambda pair : pair[1])\\npairs',\n",
       "  '# 무조건 0번 item기준으로 정렬\\nnumber2d = [[9, 9, 9, 9, 9, 9],\\n            [1, 100],\\n            [10, 1]]\\nnumber2d.sort(reverse=True) # 기본(reverse=False):오름차순정렬/reverse=True:내림차순정렬\\nnumber2d',\n",
       "  '# 합이 큰 순으로 정렬\\nnumber2d.sort(key=lambda item : sum(item), reverse=True)\\nnumber2d',\n",
       "  '# 리스트를 매개변수로 받아 합을 retrue\\n(lambda item : sum(item))([1, 2, 3])',\n",
       "  '# 무조건 0번 item기준으로 정렬\\nnumber2d = [[9, 9, 9, 9, 9, 9],\\n            [1, 100],\\n            [10, 1]]\\nnumber2d.sort(key=lambda date : max(date), reverse=True) # 기본(reverse=False):오름차순정렬/reverse=True:내림차순정렬\\nnumber2d',\n",
       "  '# 무조건 0번 item기준으로 정렬\\nnumber2d = [[9, 9, 9, 9, 9, 9],\\n            [1, 100],\\n            [10, 1]]\\nnumber2d.sort(key=lambda date : min(date), reverse=True) # 기본(reverse=False):오름차순정렬/reverse=True:내림차순정렬\\nnumber2d',\n",
       "  \"students = [{'name':'홍길동', 'score':90},\\n           {'name':'김길동', 'score':50},\\n           {'name':'윤길동', 'score':99},]\",\n",
       "  'students.sort()\\nstudents',\n",
       "  '# 이름순으로 정렬(ㄱㄴㄷ순)\\nstudents.sort(key=lambda item : students.get(name))\\nstudents',\n",
       "  '# 이름순으로 정렬(ㄱㄴㄷ순)\\nstudents.sort(key=lambda item : item{students.get(name)})\\nstudents',\n",
       "  '# 이름순으로 정렬(ㄱㄴㄷ순)\\nstudents.sort(key=students.get(name))\\nstudents',\n",
       "  \"# 이름순으로 정렬(ㄱㄴㄷ순)\\nstudents.sort(key=students.get('name'))\\nstudents\",\n",
       "  '# 이름순으로 정렬(ㄱㄴㄷ순)\\nstudents.sort(key=lambda name : students.get(name))\\nstudents',\n",
       "  '# 이름순으로 정렬(ㄱㄴㄷ순)\\nstudents.sort(key=lambda name : students.get[name])\\nstudents',\n",
       "  '# 이름순으로 정렬(ㄱㄴㄷ순)\\nstudents.sort(key=students.get[name])\\nstudents',\n",
       "  \"# 이름순으로 정렬(ㄱㄴㄷ순)\\nstudents.sort(key=students.get['name'])\\nstudents\",\n",
       "  \"# 이름순으로 정렬(ㄱㄴㄷ순)\\nstudents.sort(key=lambda student : student.get['name'])\\nstudents\",\n",
       "  \"# 이름순으로 정렬(ㄱㄴㄷ순)\\nstudents.sort(key=lambda student : student.get('name'))\\nstudents\",\n",
       "  \"students = [{'name':'홍길동', 'score':90},\\n           {'name':'김길동', 'score':50},\\n           {'name':'윤길동', 'score':99},\\n           {'score':100}]\",\n",
       "  \"# 이름순으로 정렬(ㄱㄴㄷ순)\\nstudents.sort(key=lambda student : student.get('name'))\\nstudents\",\n",
       "  \"# 이름순으로 정렬(ㄱㄴㄷ순)\\nstudents.sort(key=lambda student : student.get('name', '힣'))\\nstudents\",\n",
       "  \"# score 순으로 정렬(내림차순정렬)\\nstudents.sort(key=lambda item : item.get('score', 0), reverse=True)\\nstudents\",\n",
       "  \"students = [\\n    {'name': '홍길동', 'score': 90},\\n    {'name': '김길동', 'score': 50},\\n    {'name': '윤길동', 'score': 99}\\n]\\n\\nstudents.sort(key=lambda student: student['name'])\\nprint(students)\",\n",
       "  \"students = [\\n    {'name': '홍길동', 'score': 90},\\n    {'name': '김길동', 'score': 50},\\n    {'name': '윤길동', 'score': 99}\\n]\\n\\nstudents.sort(key=lambda student: student['name'], end='/n')\\nprint(students)\",\n",
       "  \"students = [\\n    {'name': '홍길동', 'score': 90},\\n    {'name': '김길동', 'score': 50},\\n    {'name': '윤길동', 'score': 99}\\n]\\n\\nstudents.sort(key=lambda student: student['name'] end='/n')\\nprint(students)\",\n",
       "  \"students = [\\n    {'name': '홍길동', 'score': 90},\\n    {'name': '김길동', 'score': 50},\\n    {'name': '윤길동', 'score': 99}\\n]\\n\\nstudents.sort(key=lambda student: student['name'])\\nprint(students end='\\\\n')\",\n",
       "  \"# 책제목순 정렬(ㄱㄴㄷ순), 저자순(ㄱㄴㄷ순), 가격순 정렬\\nbook = [\\n    {'np':1, 'title': '강남 아파트 인사이트', 'writer':'오스틀', 'price':'25,200'},\\n    {'np':2, 'title': '단 한 번의 삶', 'writer':'김영하', 'price':'18,100'},\\n    {'np':3, 'title': '흔한남매 19', 'writer':'백난도', 'price':'14,220'},\\n    {'np':4, 'title': '가격이잘못', 'writer':'신길동', 'price':'-'},\\n    {'np':5, 'title': '가격이숫자', 'writer':'김길동', 'price':900},\\n    {'np':6, 'title': '가격이 없음', 'writer':'오스틀'}\\n]\",\n",
       "  'bools.sort(key = lambda book : book.get(title))\\nbook',\n",
       "  'books.sort(key = lambda book : book.get(title))\\nbooks',\n",
       "  'books.sort(key = lambda book : books.get(title))\\nbooks',\n",
       "  \"books.sort(key = lambda book : book.get('title'))\\nbooks\",\n",
       "  \"# 책제목순 정렬(ㄱㄴㄷ순), 저자순(ㄱㄴㄷ순), 가격순 정렬\\nbook = [\\n    {'np':1, 'title': '강남 아파트 인사이트', 'writer':'오스틀', 'price':'25,200'},\\n    {'np':2, 'title': '단 한 번의 삶', 'writer':'김영하', 'price':'18,100'},\\n    {'np':3, 'title': '흔한남매 19', 'writer':'백난도', 'price':'14,220'},\\n    {'np':4, 'title': '가격이잘못', 'writer':'신길동', 'price':'-'},\\n    {'np':5, 'title': '가격이숫자', 'writer':'김길동', 'price':900},\\n    {'np':6, 'title': '가격이 없음', 'writer':'오스틀'}\\n]\",\n",
       "  \"books.sort(key = lambda book : book.get('title'))\\nbooks\",\n",
       "  \"# 책제목순 정렬(ㄱㄴㄷ순), 저자순(ㄱㄴㄷ순), 가격순 정렬\\nbooks = [\\n    {'np':1, 'title': '강남 아파트 인사이트', 'writer':'오스틀', 'price':'25,200'},\\n    {'np':2, 'title': '단 한 번의 삶', 'writer':'김영하', 'price':'18,100'},\\n    {'np':3, 'title': '흔한남매 19', 'writer':'백난도', 'price':'14,220'},\\n    {'np':4, 'title': '가격이잘못', 'writer':'신길동', 'price':'-'},\\n    {'np':5, 'title': '가격이숫자', 'writer':'김길동', 'price':900},\\n    {'np':6, 'title': '가격이 없음', 'writer':'오스틀'}\\n]\",\n",
       "  \"books.sort(key = lambda book : book.get('title'))\\nbooks\",\n",
       "  \"books.sort(key = lambda book : book.get('writer'))\\nbooks\",\n",
       "  \"# 책제목순 정렬(ㄱㄴㄷ순), 저자순(ㄱㄴㄷ순), 가격순 정렬\\nbooks = [\\n    {'np':1, 'title': '강남 아파트 인사이트', 'writer':'오스틀', 'price':'25,200'},\\n    {'np':2, 'title': '단 한 번의 삶', 'writer':'김영하', 'price':'18,100'},\\n    {'np':3, 'title': '흔한남매 19', 'writer':'백난도', 'price':'14220'},\\n    {'np':4, 'title': '가격이잘못', 'writer':'신길동', 'price':'-'},\\n    {'np':5, 'title': '가격이숫자', 'writer':'김길동', 'price':900},\\n    {'np':6, 'title': '가격이 없음', 'writer':'오스틀'}\\n]\",\n",
       "  \"books.sort(key = lambda book : book.get('title'))\\nbooks\",\n",
       "  \"books.sort(key = lambda book : book.get('writer'))\\nbooks\",\n",
       "  \"# '14,000' -> 14000 / 800 -> 800 / '-' -> 0\\ndef parse_int(price):\\n    print(type(price))\",\n",
       "  'parse_int(800)',\n",
       "  'parse_int(18,555)',\n",
       "  \"parse_int('800')\",\n",
       "  \"parse_int('-')\",\n",
       "  'parse_int(800)',\n",
       "  \"# '14,000' -> 14000 / 800 -> 800 / '-' -> 0\\ndef parse_int(price):\\n    # print(type(price))\\n    if isinstance(price, int):\\n        return price\",\n",
       "  'parse_int(800)',\n",
       "  \"# '14,000' -> 14000 / 800 -> 800 / '-' -> 0\\ndef parse_int(price):\\n    # print(type(price))\\n    if price.replace(',','').isdigit():\\n        return int(price,replace(','''))\\n    elif isinstance(price, int):\\n        return price\",\n",
       "  'parse_int(8000)',\n",
       "  \"# '14,000' -> 14000 / 800 -> 800 / '-' -> 0\\ndef parse_int(price):\\n    # print(type(price))\\n    if price.replace(',','').isdigit():\\n        return int(price,replace(','''))\\n    elif isinstance(price, int):\\n        return price\",\n",
       "  'parse_int(8000)',\n",
       "  \"# '14,000' -> 14000 / 800 -> 800 / '-' -> 0\\ndef parse_int(price):\\n    # print(type(price))\\n    if isinstance(price, str) and price.replace(',','').isdigit():\\n        return int(price,replace(','''))\\n    elif isinstance(price, int):\\n        return price\",\n",
       "  'parse_int(800)',\n",
       "  \"parse_int('800')\",\n",
       "  \"def parse_int(price):\\n    #print(type(price))\\n    if isinstance(price, str) and price.replace(',','').isdigit():\\n        return int(price.replace(',', ''))\\n    elif isinstance(price, int):\\n        return price\\n    else:\\n        return 0\",\n",
       "  \"parse_int('800')\",\n",
       "  \"def parse_int(price):\\n    #print(type(price))\\n    if price.replace(',','').isdigit():\\n        return int(price.replace(',', ''))\\n    elif isinstance(price, int):\\n        return price\",\n",
       "  \"parse_int('800')\",\n",
       "  \"parse_int('800')\",\n",
       "  \"# '14,000' -> 14000 / 800 -> 800 / '-' -> 0\\ndef parse_int(price):\\n    # print(type(price))\\n    if price.replace(',','').isdigit():\\n        return int(price,replace(','''))\\n    elif isinstance(price, int):\\n        return price\",\n",
       "  \"parse_int('800')\",\n",
       "  \"# '14,000' -> 14000 / 800 -> 800 / '-' -> 0\\ndef parse_int(price):\\n    # print(type(price))\\n    if isinstance(price, str) and price.replace(',','').isdigit():\\n        return int(price,replace(','''))\\n    elif isinstance(price, int):\\n        return price\",\n",
       "  \"parse_int('800')\",\n",
       "  \"# '14,000' -> 14000 / 800 -> 800 / '-' -> 0\\ndef parse_int(price):\\n    # print(type(price))\\n    if isinstance(price, str) and price.replace(',','').isdigit():\\n        return int(price,replace(','''))\\n    elif isinstance(price, int):\\n        return price\",\n",
       "  \"parse_int('800')\",\n",
       "  \"parse_int('800')\",\n",
       "  \"def parse_int(price):\\n    #print(type(price))\\n    if isinstance(price, str) and price.replace(',','').isdigit():\\n        return int(price.replace(',', ''))\\n    elif isinstance(price, int):\\n        return price\\n    else:\\n        return 0\",\n",
       "  \"def parse_int(price):\\n    #print(type(price))\\n    if isinstance(price, str) and price.replace(',','').isdigit():\\n        return int(price.replace(',', ''))\\n    elif isinstance(price, int):\\n        return price\",\n",
       "  \"parse_int('800')\",\n",
       "  \"# '14,000' -> 14000 / 800 -> 800 / '-' -> 0\\ndef parse_int(price):\\n    # print(type(price))\\n    if isinstance(price, str) and price.replace(',','').isdigit():\\n        return int(price.replace(','''))\\n    elif isinstance(price, int):\\n        return price\",\n",
       "  \"parse_int('800')\",\n",
       "  \"# '14,000' -> 14000 / 800 -> 800 / '-' -> 0\\ndef parse_int(price):\\n    # print(type(price))\\n    if isinstance(price, str) and price.replace(',','').isdigit():\\n        return int(price.replace(','''))\\n    elif isinstance(price, int):\\n        return price\",\n",
       "  \"parse_int('800')\",\n",
       "  \"def parse_int(price):\\n    #print(type(price))\\n    if (isinstance(price, str)) and price.replace(',','').isdigit():\\n        return int(price.replace(',', ''))\\n    elif isinstance(price, int):\\n        return price\",\n",
       "  \"parse_int('800')\",\n",
       "  \"# '14,000' -> 14000 / 800 -> 800 / '-' -> 0\\ndef parse_int(price):\\n    # print(type(price))\\n    if (isinstance(price, str)) and price.replace(',','').isdigit():\\n        return int(price.replace(','''))\\n    elif isinstance(price, int):\\n        return price\",\n",
       "  \"parse_int('800')\",\n",
       "  \"# '14,000' -> 14000 / 800 -> 800 / '-' -> 0\\ndef parse_int(price):\\n    # print(type(price))\\n    if (isinstance(price, str)) and price.replace(',','').isdigit():\\n        return int(price.replace(',',''))\\n    elif isinstance(price, int):\\n        return price\",\n",
       "  \"parse_int('800')\",\n",
       "  \"# 책제목순 정렬(ㄱㄴㄷ순), 저자순(ㄱㄴㄷ순), 가격순 정렬\\nbooks = [\\n    {'np':1, 'title': '강남 아파트 인사이트', 'writer':'오스틀', 'price':'25,200'},\\n    {'np':2, 'title': '단 한 번의 삶', 'writer':'김영하', 'price':'18,100'},\\n    {'np':3, 'title': '흔한남매 19', 'writer':'백난도', 'price':'14220'},\\n    {'np':4, 'title': '가격이잘못', 'writer':'신길동', 'price':'-'},\\n    {'np':5, 'title': '가격이숫자', 'writer':'김길동', 'price': 900},\\n    {'np':6, 'title': '가격이 없음', 'writer':'오스틀'}\\n]\",\n",
       "  \"parse_int('800'), parse_int('80,000'), parse_int('-')\",\n",
       "  \"# {'np':6, 'title': '가격이 없음', 'writer':'오스틀'} => 0\\n# {'np':3, 'title': '흔한남매 19', 'writer':'백난도', 'price':'14220'} => 14220\\n# {'np':5, 'title': '가격이숫자', 'writer':'김길동', 'price':900} => 900\\ndef parse_int(book):\\n    if isinstance(book.get(price), str) and \\\\\\n            book.get('price').replace(',','').isdigit():\\n        return int(book.get('price'),replace(',',''))\\n    elif isinstance(book.get('price'), int):\\n        return book.get(price)\\n    else:\\n        return 0\",\n",
       "  \"# {'np':6, 'title': '가격이 없음', 'writer':'오스틀'} => 0\\n# {'np':3, 'title': '흔한남매 19', 'writer':'백난도', 'price':'14220'} => 14220\\n# {'np':5, 'title': '가격이숫자', 'writer':'김길동', 'price':900} => 900\\ndef parse_int(book):\\n    if isinstance(book.get(price), str) and \\\\\\n            book.get('price').replace(',','').isdigit():\\n        return int(book.get('price'),replace(',',''))\\n    elif isinstance(book.get('price'), int):\\n        return book.get(price)\\n    else:\\n        return 0\\nparse_int(book[0])\",\n",
       "  \"# {'np':6, 'title': '가격이 없음', 'writer':'오스틀'} => 0\\n# {'np':3, 'title': '흔한남매 19', 'writer':'백난도', 'price':'14220'} => 14220\\n# {'np':5, 'title': '가격이숫자', 'writer':'김길동', 'price':900} => 900\\ndef parse_int(book):\\n    if isinstance(book.get('price'), str) and \\\\\\n            book.get('price').replace(',','').isdigit():\\n        return int(book.get('price'),replace(',',''))\\n    elif isinstance(book.get('price'), int):\\n        return book.get(price)\\n    else:\\n        return 0\\nparse_int(book[0])\",\n",
       "  \"# {'np':6, 'title': '가격이 없음', 'writer':'오스틀'} => 0\\n# {'np':3, 'title': '흔한남매 19', 'writer':'백난도', 'price':'14220'} => 14220\\n# {'np':5, 'title': '가격이숫자', 'writer':'김길동', 'price':900} => 900\\ndef parse_int(book):\\n    if isinstance(book.get('price'), str) and \\\\\\n            book.get('price').replace(',','').isdigit():\\n        return int(book.get('price').replace(',',''))\\n    elif isinstance(book.get('price'), int):\\n        return book.get(price)\\n    else:\\n        return 0\\nparse_int(book[0])\",\n",
       "  \"# {'np':6, 'title': '가격이 없음', 'writer':'오스틀'} => 0\\n# {'np':3, 'title': '흔한남매 19', 'writer':'백난도', 'price':'14220'} => 14220\\n# {'np':5, 'title': '가격이숫자', 'writer':'김길동', 'price':900} => 900\\ndef parse_int(book):\\n    if isinstance(book.get('price'), str) and \\\\\\n            book.get('price').replace(',','').isdigit():\\n        return int(book.get('price').replace(',',''))\\n    elif isinstance(book.get('price'), int):\\n        return book.get(price)\\n    else:\\n        return 0\\nparse_int(book[0]), parse_int(book[3]), parse_int(book[2]), parse_int(book[5])\",\n",
       "  \"parse_int('800'), parse_int('80,000'), parse_int('-')\",\n",
       "  \"def parse_int(price):\\n    #print(type(price))\\n    if isinstance(price, str) and price.replace(',','').isdigit():\\n        return int(price.replace(',', ''))\\n    elif isinstance(price, int):\\n        return price\\n    else:\\n        return 0\",\n",
       "  \"parse_int('800'), parse_int('80,000'), parse_int('-')\",\n",
       "  \"books = [\\n    {'np':1, 'title': '강남 아파트 인사이트', 'writer':'오스틀', 'price':'25,200'},\\n    {'np':2, 'title': '단 한 번의 삶', 'writer':'김영하', 'price':'18,100'},\\n    {'np':3, 'title': '흔한남매 19', 'writer':'백난도', 'price':'14220'},\\n    {'np':4, 'title': '가격이잘못', 'writer':'신길동', 'price':'-'},\\n    {'np':5, 'title': '가격이숫자', 'writer':'김길동', 'price': 900},\\n    {'np':6, 'title': '가격이 없음', 'writer':'오스틀'}\\n]\\ncopy_book = book.copy()\",\n",
       "  'copy_book',\n",
       "  'books',\n",
       "  \"copy_book.sort(key = lambda book : int(book.get('price'),replace(',','')) \\\\\\n               if isinstance(book.get('price'), ,str) \\\\\\n               and book.get('price').replace(',','').isdigit() \\\\\\n               else book.get('price') if isinstance(book.get('price'), int) \\\\\\n               else 0)\",\n",
       "  'copy_book = book.copy()',\n",
       "  \"copy_book.sort(key = lambda book : int(book.get('price'),replace(',','')) \\\\\\n               if isinstance(book.get('price'), ,str) \\\\\\n               and book.get('price').replace(',','').isdigit() \\\\\\n               else book.get('price') if isinstance(book.get('price'), int) \\\\\\n               else 0)\",\n",
       "  \"copy_book.sort(key = lambda book : int(book.get('price'),replace(',','')) \\\\\\n               if isinstance(book.get('price'), str) \\\\\\n               and book.get('price').replace(',','').isdigit() \\\\\\n               else book.get('price') if isinstance(book.get('price'), int) \\\\\\n               else 0)\",\n",
       "  \"copy_book.sort(key = lambda book : int(book.get('price').replace(',','')) \\\\\\n               if isinstance(book.get('price'), str) \\\\\\n               and book.get('price').replace(',','').isdigit() \\\\\\n               else book.get('price') if isinstance(book.get('price'), int) \\\\\\n               else 0)\",\n",
       "  '# 함수를 return\\ndef make_box(shape): # shape : [L] =>len 가 L 인 list 를 생성하는 함수 return,\\n                     #         [r,c] => r행 c열인 2차원 list를 생성하는 함수 return,\\n                     #         [d,r,c] => d면 r행 c열 3차원 list를 생성하는 함수 return\\n    def box(init_value):\\n        if len(shape)==1:\\n            return [init_value]*shape[0]\\n        elif len(shape)==2:\\n            return [ [init_value]*shape[1] ] * shape[0]\\n    return box',\n",
       "  'lien_func = make_box([2,3])\\nlien_func(3)',\n",
       "  'lien_func1 = make_box([10])\\nlien_func1(3)',\n",
       "  \"copy_books.sort(key = lambda book : int(book.get('price').replace(',','')) \\\\\\n                    if isinstance(book.get('price'), str) \\\\\\n                    and book.get('price').replace(',','').isdigit() \\\\\\n                    else book.get('price') if isinstance(book.get('price'), int) else \\\\\\n                0                \\n               )\",\n",
       "  \"copy_book.sort(key = lambda book : int(book.get('price').replace(',','')) \\\\\\n                    if isinstance(book.get('price'), str) \\\\\\n                    and book.get('price').replace(',','').isdigit() \\\\\\n                    else book.get('price') if isinstance(book.get('price'), int) else \\\\\\n                0                \\n               )\",\n",
       "  'copy_book',\n",
       "  \"copy_book.sort(key = lambda book : int(book.get('price').replace(',','')) \\\\\\n               if isinstance(book.get('price'), str) \\\\\\n               and book.get('price').replace(',','').isdigit() \\\\\\n               else book.get('price') if isinstance(book.get('price'), int) \\\\\\n               else 0)\",\n",
       "  'copy_book',\n",
       "  'def make_bax(shape):\\n    if len(shape)==1:\\n        return lambda init_value : [init_value-]*shape[0]\\n    elif len(shape)==2:\\n        return lambda init_value : [ [init_value] ] * shape[0]',\n",
       "  'def make_bax(shape):\\n    if len(shape)==1:\\n        return lambda init_value : [init_value-]*shape[0]\\n    elif len(shape)==2:\\n        return lambda init_value : [ [init_value]*shape[1] ] * shape[0]',\n",
       "  'def make_bax(shape):\\n    if len(shape)==1:\\n        return lambda init_value : [init_value]*shape[0]\\n    elif len(shape)==2:\\n        return lambda init_value : [ [init_value]*shape[1] ] * shape[0]',\n",
       "  'globals',\n",
       "  'globals()',\n",
       "  'locals()'],\n",
       " '_oh': {1: (True, False),\n",
       "  5: (True, False),\n",
       "  7: <function list.sort(*, key=None, reverse=False)>,\n",
       "  8: [9, 2, 7],\n",
       "  9: [9, 2, 7],\n",
       "  10: [[1, 100], [9, 9], [10, 1]],\n",
       "  11: [2, 7, 9],\n",
       "  13: (True, False),\n",
       "  14: [2, 4],\n",
       "  17: '2000-11-01',\n",
       "  18: '2000-91-01',\n",
       "  19: '2000-01-01',\n",
       "  21: [(1, 'one'), (2, 'two'), (3, 'three'), (4, 'four')],\n",
       "  22: [(4, 'four'), (1, 'one'), (3, 'three'), (2, 'two')],\n",
       "  23: [(4, 'four'), (1, 'one'), (3, 'three'), (2, 'two')],\n",
       "  24: [[1, 100], [9, 9, 9, 9, 9, 9], [10, 1]],\n",
       "  25: [[1, 100], [9, 9, 9, 9, 9, 9], [10, 1]],\n",
       "  26: 6,\n",
       "  27: [[1, 100], [10, 1], [9, 9, 9, 9, 9, 9]],\n",
       "  28: [[9, 9, 9, 9, 9, 9], [1, 100], [10, 1]],\n",
       "  40: [{'name': '김길동', 'score': 50},\n",
       "   {'name': '윤길동', 'score': 99},\n",
       "   {'name': '홍길동', 'score': 90}],\n",
       "  43: [{'score': 100},\n",
       "   {'name': '윤길동', 'score': 99},\n",
       "   {'name': '홍길동', 'score': 90},\n",
       "   {'name': '김길동', 'score': 50}],\n",
       "  44: [{'score': 100},\n",
       "   {'name': '윤길동', 'score': 99},\n",
       "   {'name': '홍길동', 'score': 90},\n",
       "   {'name': '김길동', 'score': 50}],\n",
       "  57: [{'np': 5, 'title': '가격이숫자', 'writer': '김길동', 'price': 900},\n",
       "   {'np': 2, 'title': '단 한 번의 삶', 'writer': '김영하', 'price': '18,100'},\n",
       "   {'np': 3, 'title': '흔한남매 19', 'writer': '백난도', 'price': '14,220'},\n",
       "   {'np': 4, 'title': '가격이잘못', 'writer': '신길동', 'price': '-'},\n",
       "   {'np': 6, 'title': '가격이 없음', 'writer': '오스틀'},\n",
       "   {'np': 1, 'title': '강남 아파트 인사이트', 'writer': '오스틀', 'price': '25,200'}],\n",
       "  58: [{'np': 5, 'title': '가격이숫자', 'writer': '김길동', 'price': 900},\n",
       "   {'np': 2, 'title': '단 한 번의 삶', 'writer': '김영하', 'price': '18,100'},\n",
       "   {'np': 3, 'title': '흔한남매 19', 'writer': '백난도', 'price': '14,220'},\n",
       "   {'np': 4, 'title': '가격이잘못', 'writer': '신길동', 'price': '-'},\n",
       "   {'np': 6, 'title': '가격이 없음', 'writer': '오스틀'},\n",
       "   {'np': 1, 'title': '강남 아파트 인사이트', 'writer': '오스틀', 'price': '25,200'}],\n",
       "  60: [{'np': 5, 'title': '가격이숫자', 'writer': '김길동', 'price': 900},\n",
       "   {'np': 2, 'title': '단 한 번의 삶', 'writer': '김영하', 'price': '18,100'},\n",
       "   {'np': 3, 'title': '흔한남매 19', 'writer': '백난도', 'price': '14220'},\n",
       "   {'np': 4, 'title': '가격이잘못', 'writer': '신길동', 'price': '-'},\n",
       "   {'np': 6, 'title': '가격이 없음', 'writer': '오스틀'},\n",
       "   {'np': 1, 'title': '강남 아파트 인사이트', 'writer': '오스틀', 'price': '25,200'}],\n",
       "  61: [{'np': 5, 'title': '가격이숫자', 'writer': '김길동', 'price': 900},\n",
       "   {'np': 2, 'title': '단 한 번의 삶', 'writer': '김영하', 'price': '18,100'},\n",
       "   {'np': 3, 'title': '흔한남매 19', 'writer': '백난도', 'price': '14220'},\n",
       "   {'np': 4, 'title': '가격이잘못', 'writer': '신길동', 'price': '-'},\n",
       "   {'np': 6, 'title': '가격이 없음', 'writer': '오스틀'},\n",
       "   {'np': 1, 'title': '강남 아파트 인사이트', 'writer': '오스틀', 'price': '25,200'}],\n",
       "  69: 800,\n",
       "  75: 800,\n",
       "  78: 800,\n",
       "  80: 800,\n",
       "  81: 800,\n",
       "  91: 800,\n",
       "  97: 800,\n",
       "  101: 800,\n",
       "  103: (800, 80000, None),\n",
       "  107: 25200,\n",
       "  108: (25200, 0, 14220, 0),\n",
       "  111: (800, 80000, 0),\n",
       "  113: [{'np': 1, 'title': '강남 아파트 인사이트', 'writer': '오스틀', 'price': '25,200'},\n",
       "   {'np': 2, 'title': '단 한 번의 삶', 'writer': '김영하', 'price': '18,100'},\n",
       "   {'np': 3, 'title': '흔한남매 19', 'writer': '백난도', 'price': '14,220'},\n",
       "   {'np': 4, 'title': '가격이잘못', 'writer': '신길동', 'price': '-'},\n",
       "   {'np': 5, 'title': '가격이숫자', 'writer': '김길동', 'price': 900},\n",
       "   {'np': 6, 'title': '가격이 없음', 'writer': '오스틀'}],\n",
       "  114: [{'np': 1, 'title': '강남 아파트 인사이트', 'writer': '오스틀', 'price': '25,200'},\n",
       "   {'np': 2, 'title': '단 한 번의 삶', 'writer': '김영하', 'price': '18,100'},\n",
       "   {'np': 3, 'title': '흔한남매 19', 'writer': '백난도', 'price': '14220'},\n",
       "   {'np': 4, 'title': '가격이잘못', 'writer': '신길동', 'price': '-'},\n",
       "   {'np': 5, 'title': '가격이숫자', 'writer': '김길동', 'price': 900},\n",
       "   {'np': 6, 'title': '가격이 없음', 'writer': '오스틀'}],\n",
       "  121: [[3, 3, 3], [3, 3, 3]],\n",
       "  122: [3, 3, 3, 3, 3, 3, 3, 3, 3, 3],\n",
       "  125: [{'np': 4, 'title': '가격이잘못', 'writer': '신길동', 'price': '-'},\n",
       "   {'np': 6, 'title': '가격이 없음', 'writer': '오스틀'},\n",
       "   {'np': 5, 'title': '가격이숫자', 'writer': '김길동', 'price': 900},\n",
       "   {'np': 3, 'title': '흔한남매 19', 'writer': '백난도', 'price': '14,220'},\n",
       "   {'np': 2, 'title': '단 한 번의 삶', 'writer': '김영하', 'price': '18,100'},\n",
       "   {'np': 1, 'title': '강남 아파트 인사이트', 'writer': '오스틀', 'price': '25,200'}],\n",
       "  127: [{'np': 4, 'title': '가격이잘못', 'writer': '신길동', 'price': '-'},\n",
       "   {'np': 6, 'title': '가격이 없음', 'writer': '오스틀'},\n",
       "   {'np': 5, 'title': '가격이숫자', 'writer': '김길동', 'price': 900},\n",
       "   {'np': 3, 'title': '흔한남매 19', 'writer': '백난도', 'price': '14,220'},\n",
       "   {'np': 2, 'title': '단 한 번의 삶', 'writer': '김영하', 'price': '18,100'},\n",
       "   {'np': 1, 'title': '강남 아파트 인사이트', 'writer': '오스틀', 'price': '25,200'}],\n",
       "  131: <function globals()>,\n",
       "  132: {...}},\n",
       " '_dh': [WindowsPath('C:/AI_X/source/01_python')],\n",
       " 'In': ['',\n",
       "  'def evenChk(value):\\n    return value%2==0\\nevenChk(10), evenChk(9)',\n",
       "  'list_date = [1, 2, 3, 4, 5]\\nfilter_template(lambda value : value%2==0 , list_date )',\n",
       "  \"# [1, 2, 3, 4, 5]\\ndef filter_template(func, L=[]):\\n    result = []\\n    for l in L:\\n        if func(''):\\n            result.append(l)\\n    return result\",\n",
       "  \"# [1, 2, 3, 4, 5]\\ndef filter_template(func, L=[]):\\n    result = []\\n    for l in L:\\n        if func(' '):\\n            result.append(l)\\n    return result\",\n",
       "  'def evenChk(value):\\n    return value%2==0\\nevenChk(10), evenChk(9)',\n",
       "  'list_date = [1, 2, 3, 4, 5]\\nfilter_template(lambda value : value%2==0 , list_date )',\n",
       "  'p = [9, 2, 7]\\np.sort',\n",
       "  'p = [9, 2, 7]\\np.sort\\np',\n",
       "  'p = [9, 2, 7]\\np.sort\\np',\n",
       "  'number2d = [[9, 9], [1, 100], [10, 1]]\\nnumber2d.sort()\\nnumber2d',\n",
       "  'p = [9, 2, 7]\\np.sort()\\np',\n",
       "  '# [1, 2, 3, 4, 5]\\ndef filter_template(func, L=[]):\\n    result = []\\n    for l in L:\\n        if func(l):\\n            result.append(l)\\n    return result',\n",
       "  'def evenChk(value):\\n    return value%2==0\\nevenChk(10), evenChk(9)',\n",
       "  'list_date = [1, 2, 3, 4, 5]\\nfilter_template(lambda value : value%2==0 , list_date )',\n",
       "  \"join_date({'year': 2000, 'month': 11, 'day': 1})\",\n",
       "  'def join_date(date):\\n    return(\"{year}-{month:02}-{day:02}\".format(**date))',\n",
       "  \"join_date({'year': 2000, 'month': 11, 'day': 1})\",\n",
       "  \"join_date({'year': 2000, 'month': 91, 'day': 1})\",\n",
       "  \"join_date({'year': 2000, 'month': 1, 'day': 1})\",\n",
       "  \"pairs = [(2, 'two'), (, 'one'), (4, 'four'),(3, 'three')]\\npairs.sort()\\npairs\",\n",
       "  \"pairs = [(2, 'two'), (1, 'one'), (4, 'four'),(3, 'three')]\\npairs.sort()\\npairs\",\n",
       "  \"pairs = [(2, 'two'), (1, 'one'), (4, 'four'),(3, 'three')]\\npairs.sort()\\npairs\",\n",
       "  '# 1번째 item 기준으로 정렬(abc순)\\npairs.sort(key=lambda pair : pair[1])\\npairs',\n",
       "  '# 무조건 0번 item기준으로 정렬\\nnumber2d = [[9, 9, 9, 9, 9, 9],\\n            [1, 100],\\n            [10, 1]]\\nnumber2d.sort(reverse=True) # 기본(reverse=False):오름차순정렬/reverse=True:내림차순정렬\\nnumber2d',\n",
       "  '# 합이 큰 순으로 정렬\\nnumber2d.sort(key=lambda item : sum(item), reverse=True)\\nnumber2d',\n",
       "  '# 리스트를 매개변수로 받아 합을 retrue\\n(lambda item : sum(item))([1, 2, 3])',\n",
       "  '# 무조건 0번 item기준으로 정렬\\nnumber2d = [[9, 9, 9, 9, 9, 9],\\n            [1, 100],\\n            [10, 1]]\\nnumber2d.sort(key=lambda date : max(date), reverse=True) # 기본(reverse=False):오름차순정렬/reverse=True:내림차순정렬\\nnumber2d',\n",
       "  '# 무조건 0번 item기준으로 정렬\\nnumber2d = [[9, 9, 9, 9, 9, 9],\\n            [1, 100],\\n            [10, 1]]\\nnumber2d.sort(key=lambda date : min(date), reverse=True) # 기본(reverse=False):오름차순정렬/reverse=True:내림차순정렬\\nnumber2d',\n",
       "  \"students = [{'name':'홍길동', 'score':90},\\n           {'name':'김길동', 'score':50},\\n           {'name':'윤길동', 'score':99},]\",\n",
       "  'students.sort()\\nstudents',\n",
       "  '# 이름순으로 정렬(ㄱㄴㄷ순)\\nstudents.sort(key=lambda item : students.get(name))\\nstudents',\n",
       "  '# 이름순으로 정렬(ㄱㄴㄷ순)\\nstudents.sort(key=lambda item : item{students.get(name)})\\nstudents',\n",
       "  '# 이름순으로 정렬(ㄱㄴㄷ순)\\nstudents.sort(key=students.get(name))\\nstudents',\n",
       "  \"# 이름순으로 정렬(ㄱㄴㄷ순)\\nstudents.sort(key=students.get('name'))\\nstudents\",\n",
       "  '# 이름순으로 정렬(ㄱㄴㄷ순)\\nstudents.sort(key=lambda name : students.get(name))\\nstudents',\n",
       "  '# 이름순으로 정렬(ㄱㄴㄷ순)\\nstudents.sort(key=lambda name : students.get[name])\\nstudents',\n",
       "  '# 이름순으로 정렬(ㄱㄴㄷ순)\\nstudents.sort(key=students.get[name])\\nstudents',\n",
       "  \"# 이름순으로 정렬(ㄱㄴㄷ순)\\nstudents.sort(key=students.get['name'])\\nstudents\",\n",
       "  \"# 이름순으로 정렬(ㄱㄴㄷ순)\\nstudents.sort(key=lambda student : student.get['name'])\\nstudents\",\n",
       "  \"# 이름순으로 정렬(ㄱㄴㄷ순)\\nstudents.sort(key=lambda student : student.get('name'))\\nstudents\",\n",
       "  \"students = [{'name':'홍길동', 'score':90},\\n           {'name':'김길동', 'score':50},\\n           {'name':'윤길동', 'score':99},\\n           {'score':100}]\",\n",
       "  \"# 이름순으로 정렬(ㄱㄴㄷ순)\\nstudents.sort(key=lambda student : student.get('name'))\\nstudents\",\n",
       "  \"# 이름순으로 정렬(ㄱㄴㄷ순)\\nstudents.sort(key=lambda student : student.get('name', '힣'))\\nstudents\",\n",
       "  \"# score 순으로 정렬(내림차순정렬)\\nstudents.sort(key=lambda item : item.get('score', 0), reverse=True)\\nstudents\",\n",
       "  \"students = [\\n    {'name': '홍길동', 'score': 90},\\n    {'name': '김길동', 'score': 50},\\n    {'name': '윤길동', 'score': 99}\\n]\\n\\nstudents.sort(key=lambda student: student['name'])\\nprint(students)\",\n",
       "  \"students = [\\n    {'name': '홍길동', 'score': 90},\\n    {'name': '김길동', 'score': 50},\\n    {'name': '윤길동', 'score': 99}\\n]\\n\\nstudents.sort(key=lambda student: student['name'], end='/n')\\nprint(students)\",\n",
       "  \"students = [\\n    {'name': '홍길동', 'score': 90},\\n    {'name': '김길동', 'score': 50},\\n    {'name': '윤길동', 'score': 99}\\n]\\n\\nstudents.sort(key=lambda student: student['name'] end='/n')\\nprint(students)\",\n",
       "  \"students = [\\n    {'name': '홍길동', 'score': 90},\\n    {'name': '김길동', 'score': 50},\\n    {'name': '윤길동', 'score': 99}\\n]\\n\\nstudents.sort(key=lambda student: student['name'])\\nprint(students end='\\\\n')\",\n",
       "  \"# 책제목순 정렬(ㄱㄴㄷ순), 저자순(ㄱㄴㄷ순), 가격순 정렬\\nbook = [\\n    {'np':1, 'title': '강남 아파트 인사이트', 'writer':'오스틀', 'price':'25,200'},\\n    {'np':2, 'title': '단 한 번의 삶', 'writer':'김영하', 'price':'18,100'},\\n    {'np':3, 'title': '흔한남매 19', 'writer':'백난도', 'price':'14,220'},\\n    {'np':4, 'title': '가격이잘못', 'writer':'신길동', 'price':'-'},\\n    {'np':5, 'title': '가격이숫자', 'writer':'김길동', 'price':900},\\n    {'np':6, 'title': '가격이 없음', 'writer':'오스틀'}\\n]\",\n",
       "  'bools.sort(key = lambda book : book.get(title))\\nbook',\n",
       "  'books.sort(key = lambda book : book.get(title))\\nbooks',\n",
       "  'books.sort(key = lambda book : books.get(title))\\nbooks',\n",
       "  \"books.sort(key = lambda book : book.get('title'))\\nbooks\",\n",
       "  \"# 책제목순 정렬(ㄱㄴㄷ순), 저자순(ㄱㄴㄷ순), 가격순 정렬\\nbook = [\\n    {'np':1, 'title': '강남 아파트 인사이트', 'writer':'오스틀', 'price':'25,200'},\\n    {'np':2, 'title': '단 한 번의 삶', 'writer':'김영하', 'price':'18,100'},\\n    {'np':3, 'title': '흔한남매 19', 'writer':'백난도', 'price':'14,220'},\\n    {'np':4, 'title': '가격이잘못', 'writer':'신길동', 'price':'-'},\\n    {'np':5, 'title': '가격이숫자', 'writer':'김길동', 'price':900},\\n    {'np':6, 'title': '가격이 없음', 'writer':'오스틀'}\\n]\",\n",
       "  \"books.sort(key = lambda book : book.get('title'))\\nbooks\",\n",
       "  \"# 책제목순 정렬(ㄱㄴㄷ순), 저자순(ㄱㄴㄷ순), 가격순 정렬\\nbooks = [\\n    {'np':1, 'title': '강남 아파트 인사이트', 'writer':'오스틀', 'price':'25,200'},\\n    {'np':2, 'title': '단 한 번의 삶', 'writer':'김영하', 'price':'18,100'},\\n    {'np':3, 'title': '흔한남매 19', 'writer':'백난도', 'price':'14,220'},\\n    {'np':4, 'title': '가격이잘못', 'writer':'신길동', 'price':'-'},\\n    {'np':5, 'title': '가격이숫자', 'writer':'김길동', 'price':900},\\n    {'np':6, 'title': '가격이 없음', 'writer':'오스틀'}\\n]\",\n",
       "  \"books.sort(key = lambda book : book.get('title'))\\nbooks\",\n",
       "  \"books.sort(key = lambda book : book.get('writer'))\\nbooks\",\n",
       "  \"# 책제목순 정렬(ㄱㄴㄷ순), 저자순(ㄱㄴㄷ순), 가격순 정렬\\nbooks = [\\n    {'np':1, 'title': '강남 아파트 인사이트', 'writer':'오스틀', 'price':'25,200'},\\n    {'np':2, 'title': '단 한 번의 삶', 'writer':'김영하', 'price':'18,100'},\\n    {'np':3, 'title': '흔한남매 19', 'writer':'백난도', 'price':'14220'},\\n    {'np':4, 'title': '가격이잘못', 'writer':'신길동', 'price':'-'},\\n    {'np':5, 'title': '가격이숫자', 'writer':'김길동', 'price':900},\\n    {'np':6, 'title': '가격이 없음', 'writer':'오스틀'}\\n]\",\n",
       "  \"books.sort(key = lambda book : book.get('title'))\\nbooks\",\n",
       "  \"books.sort(key = lambda book : book.get('writer'))\\nbooks\",\n",
       "  \"# '14,000' -> 14000 / 800 -> 800 / '-' -> 0\\ndef parse_int(price):\\n    print(type(price))\",\n",
       "  'parse_int(800)',\n",
       "  'parse_int(18,555)',\n",
       "  \"parse_int('800')\",\n",
       "  \"parse_int('-')\",\n",
       "  'parse_int(800)',\n",
       "  \"# '14,000' -> 14000 / 800 -> 800 / '-' -> 0\\ndef parse_int(price):\\n    # print(type(price))\\n    if isinstance(price, int):\\n        return price\",\n",
       "  'parse_int(800)',\n",
       "  \"# '14,000' -> 14000 / 800 -> 800 / '-' -> 0\\ndef parse_int(price):\\n    # print(type(price))\\n    if price.replace(',','').isdigit():\\n        return int(price,replace(','''))\\n    elif isinstance(price, int):\\n        return price\",\n",
       "  'parse_int(8000)',\n",
       "  \"# '14,000' -> 14000 / 800 -> 800 / '-' -> 0\\ndef parse_int(price):\\n    # print(type(price))\\n    if price.replace(',','').isdigit():\\n        return int(price,replace(','''))\\n    elif isinstance(price, int):\\n        return price\",\n",
       "  'parse_int(8000)',\n",
       "  \"# '14,000' -> 14000 / 800 -> 800 / '-' -> 0\\ndef parse_int(price):\\n    # print(type(price))\\n    if isinstance(price, str) and price.replace(',','').isdigit():\\n        return int(price,replace(','''))\\n    elif isinstance(price, int):\\n        return price\",\n",
       "  'parse_int(800)',\n",
       "  \"parse_int('800')\",\n",
       "  \"def parse_int(price):\\n    #print(type(price))\\n    if isinstance(price, str) and price.replace(',','').isdigit():\\n        return int(price.replace(',', ''))\\n    elif isinstance(price, int):\\n        return price\\n    else:\\n        return 0\",\n",
       "  \"parse_int('800')\",\n",
       "  \"def parse_int(price):\\n    #print(type(price))\\n    if price.replace(',','').isdigit():\\n        return int(price.replace(',', ''))\\n    elif isinstance(price, int):\\n        return price\",\n",
       "  \"parse_int('800')\",\n",
       "  \"parse_int('800')\",\n",
       "  \"# '14,000' -> 14000 / 800 -> 800 / '-' -> 0\\ndef parse_int(price):\\n    # print(type(price))\\n    if price.replace(',','').isdigit():\\n        return int(price,replace(','''))\\n    elif isinstance(price, int):\\n        return price\",\n",
       "  \"parse_int('800')\",\n",
       "  \"# '14,000' -> 14000 / 800 -> 800 / '-' -> 0\\ndef parse_int(price):\\n    # print(type(price))\\n    if isinstance(price, str) and price.replace(',','').isdigit():\\n        return int(price,replace(','''))\\n    elif isinstance(price, int):\\n        return price\",\n",
       "  \"parse_int('800')\",\n",
       "  \"# '14,000' -> 14000 / 800 -> 800 / '-' -> 0\\ndef parse_int(price):\\n    # print(type(price))\\n    if isinstance(price, str) and price.replace(',','').isdigit():\\n        return int(price,replace(','''))\\n    elif isinstance(price, int):\\n        return price\",\n",
       "  \"parse_int('800')\",\n",
       "  \"parse_int('800')\",\n",
       "  \"def parse_int(price):\\n    #print(type(price))\\n    if isinstance(price, str) and price.replace(',','').isdigit():\\n        return int(price.replace(',', ''))\\n    elif isinstance(price, int):\\n        return price\\n    else:\\n        return 0\",\n",
       "  \"def parse_int(price):\\n    #print(type(price))\\n    if isinstance(price, str) and price.replace(',','').isdigit():\\n        return int(price.replace(',', ''))\\n    elif isinstance(price, int):\\n        return price\",\n",
       "  \"parse_int('800')\",\n",
       "  \"# '14,000' -> 14000 / 800 -> 800 / '-' -> 0\\ndef parse_int(price):\\n    # print(type(price))\\n    if isinstance(price, str) and price.replace(',','').isdigit():\\n        return int(price.replace(','''))\\n    elif isinstance(price, int):\\n        return price\",\n",
       "  \"parse_int('800')\",\n",
       "  \"# '14,000' -> 14000 / 800 -> 800 / '-' -> 0\\ndef parse_int(price):\\n    # print(type(price))\\n    if isinstance(price, str) and price.replace(',','').isdigit():\\n        return int(price.replace(','''))\\n    elif isinstance(price, int):\\n        return price\",\n",
       "  \"parse_int('800')\",\n",
       "  \"def parse_int(price):\\n    #print(type(price))\\n    if (isinstance(price, str)) and price.replace(',','').isdigit():\\n        return int(price.replace(',', ''))\\n    elif isinstance(price, int):\\n        return price\",\n",
       "  \"parse_int('800')\",\n",
       "  \"# '14,000' -> 14000 / 800 -> 800 / '-' -> 0\\ndef parse_int(price):\\n    # print(type(price))\\n    if (isinstance(price, str)) and price.replace(',','').isdigit():\\n        return int(price.replace(','''))\\n    elif isinstance(price, int):\\n        return price\",\n",
       "  \"parse_int('800')\",\n",
       "  \"# '14,000' -> 14000 / 800 -> 800 / '-' -> 0\\ndef parse_int(price):\\n    # print(type(price))\\n    if (isinstance(price, str)) and price.replace(',','').isdigit():\\n        return int(price.replace(',',''))\\n    elif isinstance(price, int):\\n        return price\",\n",
       "  \"parse_int('800')\",\n",
       "  \"# 책제목순 정렬(ㄱㄴㄷ순), 저자순(ㄱㄴㄷ순), 가격순 정렬\\nbooks = [\\n    {'np':1, 'title': '강남 아파트 인사이트', 'writer':'오스틀', 'price':'25,200'},\\n    {'np':2, 'title': '단 한 번의 삶', 'writer':'김영하', 'price':'18,100'},\\n    {'np':3, 'title': '흔한남매 19', 'writer':'백난도', 'price':'14220'},\\n    {'np':4, 'title': '가격이잘못', 'writer':'신길동', 'price':'-'},\\n    {'np':5, 'title': '가격이숫자', 'writer':'김길동', 'price': 900},\\n    {'np':6, 'title': '가격이 없음', 'writer':'오스틀'}\\n]\",\n",
       "  \"parse_int('800'), parse_int('80,000'), parse_int('-')\",\n",
       "  \"# {'np':6, 'title': '가격이 없음', 'writer':'오스틀'} => 0\\n# {'np':3, 'title': '흔한남매 19', 'writer':'백난도', 'price':'14220'} => 14220\\n# {'np':5, 'title': '가격이숫자', 'writer':'김길동', 'price':900} => 900\\ndef parse_int(book):\\n    if isinstance(book.get(price), str) and \\\\\\n            book.get('price').replace(',','').isdigit():\\n        return int(book.get('price'),replace(',',''))\\n    elif isinstance(book.get('price'), int):\\n        return book.get(price)\\n    else:\\n        return 0\",\n",
       "  \"# {'np':6, 'title': '가격이 없음', 'writer':'오스틀'} => 0\\n# {'np':3, 'title': '흔한남매 19', 'writer':'백난도', 'price':'14220'} => 14220\\n# {'np':5, 'title': '가격이숫자', 'writer':'김길동', 'price':900} => 900\\ndef parse_int(book):\\n    if isinstance(book.get(price), str) and \\\\\\n            book.get('price').replace(',','').isdigit():\\n        return int(book.get('price'),replace(',',''))\\n    elif isinstance(book.get('price'), int):\\n        return book.get(price)\\n    else:\\n        return 0\\nparse_int(book[0])\",\n",
       "  \"# {'np':6, 'title': '가격이 없음', 'writer':'오스틀'} => 0\\n# {'np':3, 'title': '흔한남매 19', 'writer':'백난도', 'price':'14220'} => 14220\\n# {'np':5, 'title': '가격이숫자', 'writer':'김길동', 'price':900} => 900\\ndef parse_int(book):\\n    if isinstance(book.get('price'), str) and \\\\\\n            book.get('price').replace(',','').isdigit():\\n        return int(book.get('price'),replace(',',''))\\n    elif isinstance(book.get('price'), int):\\n        return book.get(price)\\n    else:\\n        return 0\\nparse_int(book[0])\",\n",
       "  \"# {'np':6, 'title': '가격이 없음', 'writer':'오스틀'} => 0\\n# {'np':3, 'title': '흔한남매 19', 'writer':'백난도', 'price':'14220'} => 14220\\n# {'np':5, 'title': '가격이숫자', 'writer':'김길동', 'price':900} => 900\\ndef parse_int(book):\\n    if isinstance(book.get('price'), str) and \\\\\\n            book.get('price').replace(',','').isdigit():\\n        return int(book.get('price').replace(',',''))\\n    elif isinstance(book.get('price'), int):\\n        return book.get(price)\\n    else:\\n        return 0\\nparse_int(book[0])\",\n",
       "  \"# {'np':6, 'title': '가격이 없음', 'writer':'오스틀'} => 0\\n# {'np':3, 'title': '흔한남매 19', 'writer':'백난도', 'price':'14220'} => 14220\\n# {'np':5, 'title': '가격이숫자', 'writer':'김길동', 'price':900} => 900\\ndef parse_int(book):\\n    if isinstance(book.get('price'), str) and \\\\\\n            book.get('price').replace(',','').isdigit():\\n        return int(book.get('price').replace(',',''))\\n    elif isinstance(book.get('price'), int):\\n        return book.get(price)\\n    else:\\n        return 0\\nparse_int(book[0]), parse_int(book[3]), parse_int(book[2]), parse_int(book[5])\",\n",
       "  \"parse_int('800'), parse_int('80,000'), parse_int('-')\",\n",
       "  \"def parse_int(price):\\n    #print(type(price))\\n    if isinstance(price, str) and price.replace(',','').isdigit():\\n        return int(price.replace(',', ''))\\n    elif isinstance(price, int):\\n        return price\\n    else:\\n        return 0\",\n",
       "  \"parse_int('800'), parse_int('80,000'), parse_int('-')\",\n",
       "  \"books = [\\n    {'np':1, 'title': '강남 아파트 인사이트', 'writer':'오스틀', 'price':'25,200'},\\n    {'np':2, 'title': '단 한 번의 삶', 'writer':'김영하', 'price':'18,100'},\\n    {'np':3, 'title': '흔한남매 19', 'writer':'백난도', 'price':'14220'},\\n    {'np':4, 'title': '가격이잘못', 'writer':'신길동', 'price':'-'},\\n    {'np':5, 'title': '가격이숫자', 'writer':'김길동', 'price': 900},\\n    {'np':6, 'title': '가격이 없음', 'writer':'오스틀'}\\n]\\ncopy_book = book.copy()\",\n",
       "  'copy_book',\n",
       "  'books',\n",
       "  \"copy_book.sort(key = lambda book : int(book.get('price'),replace(',','')) \\\\\\n               if isinstance(book.get('price'), ,str) \\\\\\n               and book.get('price').replace(',','').isdigit() \\\\\\n               else book.get('price') if isinstance(book.get('price'), int) \\\\\\n               else 0)\",\n",
       "  'copy_book = book.copy()',\n",
       "  \"copy_book.sort(key = lambda book : int(book.get('price'),replace(',','')) \\\\\\n               if isinstance(book.get('price'), ,str) \\\\\\n               and book.get('price').replace(',','').isdigit() \\\\\\n               else book.get('price') if isinstance(book.get('price'), int) \\\\\\n               else 0)\",\n",
       "  \"copy_book.sort(key = lambda book : int(book.get('price'),replace(',','')) \\\\\\n               if isinstance(book.get('price'), str) \\\\\\n               and book.get('price').replace(',','').isdigit() \\\\\\n               else book.get('price') if isinstance(book.get('price'), int) \\\\\\n               else 0)\",\n",
       "  \"copy_book.sort(key = lambda book : int(book.get('price').replace(',','')) \\\\\\n               if isinstance(book.get('price'), str) \\\\\\n               and book.get('price').replace(',','').isdigit() \\\\\\n               else book.get('price') if isinstance(book.get('price'), int) \\\\\\n               else 0)\",\n",
       "  '# 함수를 return\\ndef make_box(shape): # shape : [L] =>len 가 L 인 list 를 생성하는 함수 return,\\n                     #         [r,c] => r행 c열인 2차원 list를 생성하는 함수 return,\\n                     #         [d,r,c] => d면 r행 c열 3차원 list를 생성하는 함수 return\\n    def box(init_value):\\n        if len(shape)==1:\\n            return [init_value]*shape[0]\\n        elif len(shape)==2:\\n            return [ [init_value]*shape[1] ] * shape[0]\\n    return box',\n",
       "  'lien_func = make_box([2,3])\\nlien_func(3)',\n",
       "  'lien_func1 = make_box([10])\\nlien_func1(3)',\n",
       "  \"copy_books.sort(key = lambda book : int(book.get('price').replace(',','')) \\\\\\n                    if isinstance(book.get('price'), str) \\\\\\n                    and book.get('price').replace(',','').isdigit() \\\\\\n                    else book.get('price') if isinstance(book.get('price'), int) else \\\\\\n                0                \\n               )\",\n",
       "  \"copy_book.sort(key = lambda book : int(book.get('price').replace(',','')) \\\\\\n                    if isinstance(book.get('price'), str) \\\\\\n                    and book.get('price').replace(',','').isdigit() \\\\\\n                    else book.get('price') if isinstance(book.get('price'), int) else \\\\\\n                0                \\n               )\",\n",
       "  'copy_book',\n",
       "  \"copy_book.sort(key = lambda book : int(book.get('price').replace(',','')) \\\\\\n               if isinstance(book.get('price'), str) \\\\\\n               and book.get('price').replace(',','').isdigit() \\\\\\n               else book.get('price') if isinstance(book.get('price'), int) \\\\\\n               else 0)\",\n",
       "  'copy_book',\n",
       "  'def make_bax(shape):\\n    if len(shape)==1:\\n        return lambda init_value : [init_value-]*shape[0]\\n    elif len(shape)==2:\\n        return lambda init_value : [ [init_value] ] * shape[0]',\n",
       "  'def make_bax(shape):\\n    if len(shape)==1:\\n        return lambda init_value : [init_value-]*shape[0]\\n    elif len(shape)==2:\\n        return lambda init_value : [ [init_value]*shape[1] ] * shape[0]',\n",
       "  'def make_bax(shape):\\n    if len(shape)==1:\\n        return lambda init_value : [init_value]*shape[0]\\n    elif len(shape)==2:\\n        return lambda init_value : [ [init_value]*shape[1] ] * shape[0]',\n",
       "  'globals',\n",
       "  'globals()',\n",
       "  'locals()'],\n",
       " 'Out': {1: (True, False),\n",
       "  5: (True, False),\n",
       "  7: <function list.sort(*, key=None, reverse=False)>,\n",
       "  8: [9, 2, 7],\n",
       "  9: [9, 2, 7],\n",
       "  10: [[1, 100], [9, 9], [10, 1]],\n",
       "  11: [2, 7, 9],\n",
       "  13: (True, False),\n",
       "  14: [2, 4],\n",
       "  17: '2000-11-01',\n",
       "  18: '2000-91-01',\n",
       "  19: '2000-01-01',\n",
       "  21: [(1, 'one'), (2, 'two'), (3, 'three'), (4, 'four')],\n",
       "  22: [(4, 'four'), (1, 'one'), (3, 'three'), (2, 'two')],\n",
       "  23: [(4, 'four'), (1, 'one'), (3, 'three'), (2, 'two')],\n",
       "  24: [[1, 100], [9, 9, 9, 9, 9, 9], [10, 1]],\n",
       "  25: [[1, 100], [9, 9, 9, 9, 9, 9], [10, 1]],\n",
       "  26: 6,\n",
       "  27: [[1, 100], [10, 1], [9, 9, 9, 9, 9, 9]],\n",
       "  28: [[9, 9, 9, 9, 9, 9], [1, 100], [10, 1]],\n",
       "  40: [{'name': '김길동', 'score': 50},\n",
       "   {'name': '윤길동', 'score': 99},\n",
       "   {'name': '홍길동', 'score': 90}],\n",
       "  43: [{'score': 100},\n",
       "   {'name': '윤길동', 'score': 99},\n",
       "   {'name': '홍길동', 'score': 90},\n",
       "   {'name': '김길동', 'score': 50}],\n",
       "  44: [{'score': 100},\n",
       "   {'name': '윤길동', 'score': 99},\n",
       "   {'name': '홍길동', 'score': 90},\n",
       "   {'name': '김길동', 'score': 50}],\n",
       "  57: [{'np': 5, 'title': '가격이숫자', 'writer': '김길동', 'price': 900},\n",
       "   {'np': 2, 'title': '단 한 번의 삶', 'writer': '김영하', 'price': '18,100'},\n",
       "   {'np': 3, 'title': '흔한남매 19', 'writer': '백난도', 'price': '14,220'},\n",
       "   {'np': 4, 'title': '가격이잘못', 'writer': '신길동', 'price': '-'},\n",
       "   {'np': 6, 'title': '가격이 없음', 'writer': '오스틀'},\n",
       "   {'np': 1, 'title': '강남 아파트 인사이트', 'writer': '오스틀', 'price': '25,200'}],\n",
       "  58: [{'np': 5, 'title': '가격이숫자', 'writer': '김길동', 'price': 900},\n",
       "   {'np': 2, 'title': '단 한 번의 삶', 'writer': '김영하', 'price': '18,100'},\n",
       "   {'np': 3, 'title': '흔한남매 19', 'writer': '백난도', 'price': '14,220'},\n",
       "   {'np': 4, 'title': '가격이잘못', 'writer': '신길동', 'price': '-'},\n",
       "   {'np': 6, 'title': '가격이 없음', 'writer': '오스틀'},\n",
       "   {'np': 1, 'title': '강남 아파트 인사이트', 'writer': '오스틀', 'price': '25,200'}],\n",
       "  60: [{'np': 5, 'title': '가격이숫자', 'writer': '김길동', 'price': 900},\n",
       "   {'np': 2, 'title': '단 한 번의 삶', 'writer': '김영하', 'price': '18,100'},\n",
       "   {'np': 3, 'title': '흔한남매 19', 'writer': '백난도', 'price': '14220'},\n",
       "   {'np': 4, 'title': '가격이잘못', 'writer': '신길동', 'price': '-'},\n",
       "   {'np': 6, 'title': '가격이 없음', 'writer': '오스틀'},\n",
       "   {'np': 1, 'title': '강남 아파트 인사이트', 'writer': '오스틀', 'price': '25,200'}],\n",
       "  61: [{'np': 5, 'title': '가격이숫자', 'writer': '김길동', 'price': 900},\n",
       "   {'np': 2, 'title': '단 한 번의 삶', 'writer': '김영하', 'price': '18,100'},\n",
       "   {'np': 3, 'title': '흔한남매 19', 'writer': '백난도', 'price': '14220'},\n",
       "   {'np': 4, 'title': '가격이잘못', 'writer': '신길동', 'price': '-'},\n",
       "   {'np': 6, 'title': '가격이 없음', 'writer': '오스틀'},\n",
       "   {'np': 1, 'title': '강남 아파트 인사이트', 'writer': '오스틀', 'price': '25,200'}],\n",
       "  69: 800,\n",
       "  75: 800,\n",
       "  78: 800,\n",
       "  80: 800,\n",
       "  81: 800,\n",
       "  91: 800,\n",
       "  97: 800,\n",
       "  101: 800,\n",
       "  103: (800, 80000, None),\n",
       "  107: 25200,\n",
       "  108: (25200, 0, 14220, 0),\n",
       "  111: (800, 80000, 0),\n",
       "  113: [{'np': 1, 'title': '강남 아파트 인사이트', 'writer': '오스틀', 'price': '25,200'},\n",
       "   {'np': 2, 'title': '단 한 번의 삶', 'writer': '김영하', 'price': '18,100'},\n",
       "   {'np': 3, 'title': '흔한남매 19', 'writer': '백난도', 'price': '14,220'},\n",
       "   {'np': 4, 'title': '가격이잘못', 'writer': '신길동', 'price': '-'},\n",
       "   {'np': 5, 'title': '가격이숫자', 'writer': '김길동', 'price': 900},\n",
       "   {'np': 6, 'title': '가격이 없음', 'writer': '오스틀'}],\n",
       "  114: [{'np': 1, 'title': '강남 아파트 인사이트', 'writer': '오스틀', 'price': '25,200'},\n",
       "   {'np': 2, 'title': '단 한 번의 삶', 'writer': '김영하', 'price': '18,100'},\n",
       "   {'np': 3, 'title': '흔한남매 19', 'writer': '백난도', 'price': '14220'},\n",
       "   {'np': 4, 'title': '가격이잘못', 'writer': '신길동', 'price': '-'},\n",
       "   {'np': 5, 'title': '가격이숫자', 'writer': '김길동', 'price': 900},\n",
       "   {'np': 6, 'title': '가격이 없음', 'writer': '오스틀'}],\n",
       "  121: [[3, 3, 3], [3, 3, 3]],\n",
       "  122: [3, 3, 3, 3, 3, 3, 3, 3, 3, 3],\n",
       "  125: [{'np': 4, 'title': '가격이잘못', 'writer': '신길동', 'price': '-'},\n",
       "   {'np': 6, 'title': '가격이 없음', 'writer': '오스틀'},\n",
       "   {'np': 5, 'title': '가격이숫자', 'writer': '김길동', 'price': 900},\n",
       "   {'np': 3, 'title': '흔한남매 19', 'writer': '백난도', 'price': '14,220'},\n",
       "   {'np': 2, 'title': '단 한 번의 삶', 'writer': '김영하', 'price': '18,100'},\n",
       "   {'np': 1, 'title': '강남 아파트 인사이트', 'writer': '오스틀', 'price': '25,200'}],\n",
       "  127: [{'np': 4, 'title': '가격이잘못', 'writer': '신길동', 'price': '-'},\n",
       "   {'np': 6, 'title': '가격이 없음', 'writer': '오스틀'},\n",
       "   {'np': 5, 'title': '가격이숫자', 'writer': '김길동', 'price': 900},\n",
       "   {'np': 3, 'title': '흔한남매 19', 'writer': '백난도', 'price': '14,220'},\n",
       "   {'np': 2, 'title': '단 한 번의 삶', 'writer': '김영하', 'price': '18,100'},\n",
       "   {'np': 1, 'title': '강남 아파트 인사이트', 'writer': '오스틀', 'price': '25,200'}],\n",
       "  131: <function globals()>,\n",
       "  132: {...}},\n",
       " 'get_ipython': <bound method InteractiveShell.get_ipython of <ipykernel.zmqshell.ZMQInteractiveShell object at 0x0000022A4261FD60>>,\n",
       " 'exit': <IPython.core.autocall.ZMQExitAutocall at 0x22a4262f5e0>,\n",
       " 'quit': <IPython.core.autocall.ZMQExitAutocall at 0x22a4262f5e0>,\n",
       " 'open': <function io.open(file, mode='r', buffering=-1, encoding=None, errors=None, newline=None, closefd=True, opener=None)>,\n",
       " '_': {...},\n",
       " '__': <function globals()>,\n",
       " '___': [{'np': 4, 'title': '가격이잘못', 'writer': '신길동', 'price': '-'},\n",
       "  {'np': 6, 'title': '가격이 없음', 'writer': '오스틀'},\n",
       "  {'np': 5, 'title': '가격이숫자', 'writer': '김길동', 'price': 900},\n",
       "  {'np': 3, 'title': '흔한남매 19', 'writer': '백난도', 'price': '14,220'},\n",
       "  {'np': 2, 'title': '단 한 번의 삶', 'writer': '김영하', 'price': '18,100'},\n",
       "  {'np': 1, 'title': '강남 아파트 인사이트', 'writer': '오스틀', 'price': '25,200'}],\n",
       " '_i': 'globals()',\n",
       " '_ii': 'globals',\n",
       " '_iii': 'def make_bax(shape):\\n    if len(shape)==1:\\n        return lambda init_value : [init_value]*shape[0]\\n    elif len(shape)==2:\\n        return lambda init_value : [ [init_value]*shape[1] ] * shape[0]',\n",
       " '_i1': 'def evenChk(value):\\n    return value%2==0\\nevenChk(10), evenChk(9)',\n",
       " 'evenChk': <function __main__.evenChk(value)>,\n",
       " '_1': (True, False),\n",
       " '_i2': 'list_date = [1, 2, 3, 4, 5]\\nfilter_template(lambda value : value%2==0 , list_date )',\n",
       " 'list_date': [1, 2, 3, 4, 5],\n",
       " '_i3': \"# [1, 2, 3, 4, 5]\\ndef filter_template(func, L=[]):\\n    result = []\\n    for l in L:\\n        if func(''):\\n            result.append(l)\\n    return result\",\n",
       " 'filter_template': <function __main__.filter_template(func, L=[])>,\n",
       " '_i4': \"# [1, 2, 3, 4, 5]\\ndef filter_template(func, L=[]):\\n    result = []\\n    for l in L:\\n        if func(' '):\\n            result.append(l)\\n    return result\",\n",
       " '_i5': 'def evenChk(value):\\n    return value%2==0\\nevenChk(10), evenChk(9)',\n",
       " '_5': (True, False),\n",
       " '_i6': 'list_date = [1, 2, 3, 4, 5]\\nfilter_template(lambda value : value%2==0 , list_date )',\n",
       " '_i7': 'p = [9, 2, 7]\\np.sort',\n",
       " 'p': [2, 7, 9],\n",
       " '_7': <function list.sort(*, key=None, reverse=False)>,\n",
       " '_i8': 'p = [9, 2, 7]\\np.sort\\np',\n",
       " '_8': [9, 2, 7],\n",
       " '_i9': 'p = [9, 2, 7]\\np.sort\\np',\n",
       " '_9': [9, 2, 7],\n",
       " '_i10': 'number2d = [[9, 9], [1, 100], [10, 1]]\\nnumber2d.sort()\\nnumber2d',\n",
       " 'number2d': [[9, 9, 9, 9, 9, 9], [1, 100], [10, 1]],\n",
       " '_10': [[1, 100], [9, 9], [10, 1]],\n",
       " '_i11': 'p = [9, 2, 7]\\np.sort()\\np',\n",
       " '_11': [2, 7, 9],\n",
       " '_i12': '# [1, 2, 3, 4, 5]\\ndef filter_template(func, L=[]):\\n    result = []\\n    for l in L:\\n        if func(l):\\n            result.append(l)\\n    return result',\n",
       " '_i13': 'def evenChk(value):\\n    return value%2==0\\nevenChk(10), evenChk(9)',\n",
       " '_13': (True, False),\n",
       " '_i14': 'list_date = [1, 2, 3, 4, 5]\\nfilter_template(lambda value : value%2==0 , list_date )',\n",
       " '_14': [2, 4],\n",
       " '_i15': \"join_date({'year': 2000, 'month': 11, 'day': 1})\",\n",
       " '_i16': 'def join_date(date):\\n    return(\"{year}-{month:02}-{day:02}\".format(**date))',\n",
       " 'join_date': <function __main__.join_date(date)>,\n",
       " '_i17': \"join_date({'year': 2000, 'month': 11, 'day': 1})\",\n",
       " '_17': '2000-11-01',\n",
       " '_i18': \"join_date({'year': 2000, 'month': 91, 'day': 1})\",\n",
       " '_18': '2000-91-01',\n",
       " '_i19': \"join_date({'year': 2000, 'month': 1, 'day': 1})\",\n",
       " '_19': '2000-01-01',\n",
       " '_i20': \"pairs = [(2, 'two'), (, 'one'), (4, 'four'),(3, 'three')]\\npairs.sort()\\npairs\",\n",
       " '_i21': \"pairs = [(2, 'two'), (1, 'one'), (4, 'four'),(3, 'three')]\\npairs.sort()\\npairs\",\n",
       " 'pairs': [(4, 'four'), (1, 'one'), (3, 'three'), (2, 'two')],\n",
       " '_21': [(1, 'one'), (2, 'two'), (3, 'three'), (4, 'four')],\n",
       " '_i22': \"pairs = [(2, 'two'), (1, 'one'), (4, 'four'),(3, 'three')]\\npairs.sort()\\npairs\",\n",
       " '_22': [(4, 'four'), (1, 'one'), (3, 'three'), (2, 'two')],\n",
       " '_i23': '# 1번째 item 기준으로 정렬(abc순)\\npairs.sort(key=lambda pair : pair[1])\\npairs',\n",
       " '_23': [(4, 'four'), (1, 'one'), (3, 'three'), (2, 'two')],\n",
       " '_i24': '# 무조건 0번 item기준으로 정렬\\nnumber2d = [[9, 9, 9, 9, 9, 9],\\n            [1, 100],\\n            [10, 1]]\\nnumber2d.sort(reverse=True) # 기본(reverse=False):오름차순정렬/reverse=True:내림차순정렬\\nnumber2d',\n",
       " '_24': [[1, 100], [9, 9, 9, 9, 9, 9], [10, 1]],\n",
       " '_i25': '# 합이 큰 순으로 정렬\\nnumber2d.sort(key=lambda item : sum(item), reverse=True)\\nnumber2d',\n",
       " '_25': [[1, 100], [9, 9, 9, 9, 9, 9], [10, 1]],\n",
       " '_i26': '# 리스트를 매개변수로 받아 합을 retrue\\n(lambda item : sum(item))([1, 2, 3])',\n",
       " '_26': 6,\n",
       " '_i27': '# 무조건 0번 item기준으로 정렬\\nnumber2d = [[9, 9, 9, 9, 9, 9],\\n            [1, 100],\\n            [10, 1]]\\nnumber2d.sort(key=lambda date : max(date), reverse=True) # 기본(reverse=False):오름차순정렬/reverse=True:내림차순정렬\\nnumber2d',\n",
       " '_27': [[1, 100], [10, 1], [9, 9, 9, 9, 9, 9]],\n",
       " '_i28': '# 무조건 0번 item기준으로 정렬\\nnumber2d = [[9, 9, 9, 9, 9, 9],\\n            [1, 100],\\n            [10, 1]]\\nnumber2d.sort(key=lambda date : min(date), reverse=True) # 기본(reverse=False):오름차순정렬/reverse=True:내림차순정렬\\nnumber2d',\n",
       " '_28': [[9, 9, 9, 9, 9, 9], [1, 100], [10, 1]],\n",
       " '_i29': \"students = [{'name':'홍길동', 'score':90},\\n           {'name':'김길동', 'score':50},\\n           {'name':'윤길동', 'score':99},]\",\n",
       " 'students': [{'name': '홍길동', 'score': 90},\n",
       "  {'name': '김길동', 'score': 50},\n",
       "  {'name': '윤길동', 'score': 99}],\n",
       " '_i30': 'students.sort()\\nstudents',\n",
       " '_i31': '# 이름순으로 정렬(ㄱㄴㄷ순)\\nstudents.sort(key=lambda item : students.get(name))\\nstudents',\n",
       " '_i32': '# 이름순으로 정렬(ㄱㄴㄷ순)\\nstudents.sort(key=lambda item : item{students.get(name)})\\nstudents',\n",
       " '_i33': '# 이름순으로 정렬(ㄱㄴㄷ순)\\nstudents.sort(key=students.get(name))\\nstudents',\n",
       " '_i34': \"# 이름순으로 정렬(ㄱㄴㄷ순)\\nstudents.sort(key=students.get('name'))\\nstudents\",\n",
       " '_i35': '# 이름순으로 정렬(ㄱㄴㄷ순)\\nstudents.sort(key=lambda name : students.get(name))\\nstudents',\n",
       " '_i36': '# 이름순으로 정렬(ㄱㄴㄷ순)\\nstudents.sort(key=lambda name : students.get[name])\\nstudents',\n",
       " '_i37': '# 이름순으로 정렬(ㄱㄴㄷ순)\\nstudents.sort(key=students.get[name])\\nstudents',\n",
       " '_i38': \"# 이름순으로 정렬(ㄱㄴㄷ순)\\nstudents.sort(key=students.get['name'])\\nstudents\",\n",
       " '_i39': \"# 이름순으로 정렬(ㄱㄴㄷ순)\\nstudents.sort(key=lambda student : student.get['name'])\\nstudents\",\n",
       " '_i40': \"# 이름순으로 정렬(ㄱㄴㄷ순)\\nstudents.sort(key=lambda student : student.get('name'))\\nstudents\",\n",
       " '_40': [{'name': '김길동', 'score': 50},\n",
       "  {'name': '윤길동', 'score': 99},\n",
       "  {'name': '홍길동', 'score': 90}],\n",
       " '_i41': \"students = [{'name':'홍길동', 'score':90},\\n           {'name':'김길동', 'score':50},\\n           {'name':'윤길동', 'score':99},\\n           {'score':100}]\",\n",
       " '_i42': \"# 이름순으로 정렬(ㄱㄴㄷ순)\\nstudents.sort(key=lambda student : student.get('name'))\\nstudents\",\n",
       " '_i43': \"# 이름순으로 정렬(ㄱㄴㄷ순)\\nstudents.sort(key=lambda student : student.get('name', '힣'))\\nstudents\",\n",
       " '_43': [{'score': 100},\n",
       "  {'name': '윤길동', 'score': 99},\n",
       "  {'name': '홍길동', 'score': 90},\n",
       "  {'name': '김길동', 'score': 50}],\n",
       " '_i44': \"# score 순으로 정렬(내림차순정렬)\\nstudents.sort(key=lambda item : item.get('score', 0), reverse=True)\\nstudents\",\n",
       " '_44': [{'score': 100},\n",
       "  {'name': '윤길동', 'score': 99},\n",
       "  {'name': '홍길동', 'score': 90},\n",
       "  {'name': '김길동', 'score': 50}],\n",
       " '_i45': \"students = [\\n    {'name': '홍길동', 'score': 90},\\n    {'name': '김길동', 'score': 50},\\n    {'name': '윤길동', 'score': 99}\\n]\\n\\nstudents.sort(key=lambda student: student['name'])\\nprint(students)\",\n",
       " '_i46': \"students = [\\n    {'name': '홍길동', 'score': 90},\\n    {'name': '김길동', 'score': 50},\\n    {'name': '윤길동', 'score': 99}\\n]\\n\\nstudents.sort(key=lambda student: student['name'], end='/n')\\nprint(students)\",\n",
       " '_i47': \"students = [\\n    {'name': '홍길동', 'score': 90},\\n    {'name': '김길동', 'score': 50},\\n    {'name': '윤길동', 'score': 99}\\n]\\n\\nstudents.sort(key=lambda student: student['name'] end='/n')\\nprint(students)\",\n",
       " '_i48': \"students = [\\n    {'name': '홍길동', 'score': 90},\\n    {'name': '김길동', 'score': 50},\\n    {'name': '윤길동', 'score': 99}\\n]\\n\\nstudents.sort(key=lambda student: student['name'])\\nprint(students end='\\\\n')\",\n",
       " '_i49': \"# 책제목순 정렬(ㄱㄴㄷ순), 저자순(ㄱㄴㄷ순), 가격순 정렬\\nbook = [\\n    {'np':1, 'title': '강남 아파트 인사이트', 'writer':'오스틀', 'price':'25,200'},\\n    {'np':2, 'title': '단 한 번의 삶', 'writer':'김영하', 'price':'18,100'},\\n    {'np':3, 'title': '흔한남매 19', 'writer':'백난도', 'price':'14,220'},\\n    {'np':4, 'title': '가격이잘못', 'writer':'신길동', 'price':'-'},\\n    {'np':5, 'title': '가격이숫자', 'writer':'김길동', 'price':900},\\n    {'np':6, 'title': '가격이 없음', 'writer':'오스틀'}\\n]\",\n",
       " 'book': [{'np': 1,\n",
       "   'title': '강남 아파트 인사이트',\n",
       "   'writer': '오스틀',\n",
       "   'price': '25,200'},\n",
       "  {'np': 2, 'title': '단 한 번의 삶', 'writer': '김영하', 'price': '18,100'},\n",
       "  {'np': 3, 'title': '흔한남매 19', 'writer': '백난도', 'price': '14,220'},\n",
       "  {'np': 4, 'title': '가격이잘못', 'writer': '신길동', 'price': '-'},\n",
       "  {'np': 5, 'title': '가격이숫자', 'writer': '김길동', 'price': 900},\n",
       "  {'np': 6, 'title': '가격이 없음', 'writer': '오스틀'}],\n",
       " '_i50': 'bools.sort(key = lambda book : book.get(title))\\nbook',\n",
       " '_i51': 'books.sort(key = lambda book : book.get(title))\\nbooks',\n",
       " '_i52': 'books.sort(key = lambda book : books.get(title))\\nbooks',\n",
       " '_i53': \"books.sort(key = lambda book : book.get('title'))\\nbooks\",\n",
       " '_i54': \"# 책제목순 정렬(ㄱㄴㄷ순), 저자순(ㄱㄴㄷ순), 가격순 정렬\\nbook = [\\n    {'np':1, 'title': '강남 아파트 인사이트', 'writer':'오스틀', 'price':'25,200'},\\n    {'np':2, 'title': '단 한 번의 삶', 'writer':'김영하', 'price':'18,100'},\\n    {'np':3, 'title': '흔한남매 19', 'writer':'백난도', 'price':'14,220'},\\n    {'np':4, 'title': '가격이잘못', 'writer':'신길동', 'price':'-'},\\n    {'np':5, 'title': '가격이숫자', 'writer':'김길동', 'price':900},\\n    {'np':6, 'title': '가격이 없음', 'writer':'오스틀'}\\n]\",\n",
       " '_i55': \"books.sort(key = lambda book : book.get('title'))\\nbooks\",\n",
       " '_i56': \"# 책제목순 정렬(ㄱㄴㄷ순), 저자순(ㄱㄴㄷ순), 가격순 정렬\\nbooks = [\\n    {'np':1, 'title': '강남 아파트 인사이트', 'writer':'오스틀', 'price':'25,200'},\\n    {'np':2, 'title': '단 한 번의 삶', 'writer':'김영하', 'price':'18,100'},\\n    {'np':3, 'title': '흔한남매 19', 'writer':'백난도', 'price':'14,220'},\\n    {'np':4, 'title': '가격이잘못', 'writer':'신길동', 'price':'-'},\\n    {'np':5, 'title': '가격이숫자', 'writer':'김길동', 'price':900},\\n    {'np':6, 'title': '가격이 없음', 'writer':'오스틀'}\\n]\",\n",
       " 'books': [{'np': 1,\n",
       "   'title': '강남 아파트 인사이트',\n",
       "   'writer': '오스틀',\n",
       "   'price': '25,200'},\n",
       "  {'np': 2, 'title': '단 한 번의 삶', 'writer': '김영하', 'price': '18,100'},\n",
       "  {'np': 3, 'title': '흔한남매 19', 'writer': '백난도', 'price': '14220'},\n",
       "  {'np': 4, 'title': '가격이잘못', 'writer': '신길동', 'price': '-'},\n",
       "  {'np': 5, 'title': '가격이숫자', 'writer': '김길동', 'price': 900},\n",
       "  {'np': 6, 'title': '가격이 없음', 'writer': '오스틀'}],\n",
       " '_i57': \"books.sort(key = lambda book : book.get('title'))\\nbooks\",\n",
       " '_57': [{'np': 5, 'title': '가격이숫자', 'writer': '김길동', 'price': 900},\n",
       "  {'np': 2, 'title': '단 한 번의 삶', 'writer': '김영하', 'price': '18,100'},\n",
       "  {'np': 3, 'title': '흔한남매 19', 'writer': '백난도', 'price': '14,220'},\n",
       "  {'np': 4, 'title': '가격이잘못', 'writer': '신길동', 'price': '-'},\n",
       "  {'np': 6, 'title': '가격이 없음', 'writer': '오스틀'},\n",
       "  {'np': 1, 'title': '강남 아파트 인사이트', 'writer': '오스틀', 'price': '25,200'}],\n",
       " '_i58': \"books.sort(key = lambda book : book.get('writer'))\\nbooks\",\n",
       " '_58': [{'np': 5, 'title': '가격이숫자', 'writer': '김길동', 'price': 900},\n",
       "  {'np': 2, 'title': '단 한 번의 삶', 'writer': '김영하', 'price': '18,100'},\n",
       "  {'np': 3, 'title': '흔한남매 19', 'writer': '백난도', 'price': '14,220'},\n",
       "  {'np': 4, 'title': '가격이잘못', 'writer': '신길동', 'price': '-'},\n",
       "  {'np': 6, 'title': '가격이 없음', 'writer': '오스틀'},\n",
       "  {'np': 1, 'title': '강남 아파트 인사이트', 'writer': '오스틀', 'price': '25,200'}],\n",
       " '_i59': \"# 책제목순 정렬(ㄱㄴㄷ순), 저자순(ㄱㄴㄷ순), 가격순 정렬\\nbooks = [\\n    {'np':1, 'title': '강남 아파트 인사이트', 'writer':'오스틀', 'price':'25,200'},\\n    {'np':2, 'title': '단 한 번의 삶', 'writer':'김영하', 'price':'18,100'},\\n    {'np':3, 'title': '흔한남매 19', 'writer':'백난도', 'price':'14220'},\\n    {'np':4, 'title': '가격이잘못', 'writer':'신길동', 'price':'-'},\\n    {'np':5, 'title': '가격이숫자', 'writer':'김길동', 'price':900},\\n    {'np':6, 'title': '가격이 없음', 'writer':'오스틀'}\\n]\",\n",
       " '_i60': \"books.sort(key = lambda book : book.get('title'))\\nbooks\",\n",
       " '_60': [{'np': 5, 'title': '가격이숫자', 'writer': '김길동', 'price': 900},\n",
       "  {'np': 2, 'title': '단 한 번의 삶', 'writer': '김영하', 'price': '18,100'},\n",
       "  {'np': 3, 'title': '흔한남매 19', 'writer': '백난도', 'price': '14220'},\n",
       "  {'np': 4, 'title': '가격이잘못', 'writer': '신길동', 'price': '-'},\n",
       "  {'np': 6, 'title': '가격이 없음', 'writer': '오스틀'},\n",
       "  {'np': 1, 'title': '강남 아파트 인사이트', 'writer': '오스틀', 'price': '25,200'}],\n",
       " '_i61': \"books.sort(key = lambda book : book.get('writer'))\\nbooks\",\n",
       " '_61': [{'np': 5, 'title': '가격이숫자', 'writer': '김길동', 'price': 900},\n",
       "  {'np': 2, 'title': '단 한 번의 삶', 'writer': '김영하', 'price': '18,100'},\n",
       "  {'np': 3, 'title': '흔한남매 19', 'writer': '백난도', 'price': '14220'},\n",
       "  {'np': 4, 'title': '가격이잘못', 'writer': '신길동', 'price': '-'},\n",
       "  {'np': 6, 'title': '가격이 없음', 'writer': '오스틀'},\n",
       "  {'np': 1, 'title': '강남 아파트 인사이트', 'writer': '오스틀', 'price': '25,200'}],\n",
       " '_i62': \"# '14,000' -> 14000 / 800 -> 800 / '-' -> 0\\ndef parse_int(price):\\n    print(type(price))\",\n",
       " 'parse_int': <function __main__.parse_int(price)>,\n",
       " '_i63': 'parse_int(800)',\n",
       " '_i64': 'parse_int(18,555)',\n",
       " '_i65': \"parse_int('800')\",\n",
       " '_i66': \"parse_int('-')\",\n",
       " '_i67': 'parse_int(800)',\n",
       " '_i68': \"# '14,000' -> 14000 / 800 -> 800 / '-' -> 0\\ndef parse_int(price):\\n    # print(type(price))\\n    if isinstance(price, int):\\n        return price\",\n",
       " '_i69': 'parse_int(800)',\n",
       " '_69': 800,\n",
       " '_i70': \"# '14,000' -> 14000 / 800 -> 800 / '-' -> 0\\ndef parse_int(price):\\n    # print(type(price))\\n    if price.replace(',','').isdigit():\\n        return int(price,replace(','''))\\n    elif isinstance(price, int):\\n        return price\",\n",
       " '_i71': 'parse_int(8000)',\n",
       " '_i72': \"# '14,000' -> 14000 / 800 -> 800 / '-' -> 0\\ndef parse_int(price):\\n    # print(type(price))\\n    if price.replace(',','').isdigit():\\n        return int(price,replace(','''))\\n    elif isinstance(price, int):\\n        return price\",\n",
       " '_i73': 'parse_int(8000)',\n",
       " '_i74': \"# '14,000' -> 14000 / 800 -> 800 / '-' -> 0\\ndef parse_int(price):\\n    # print(type(price))\\n    if isinstance(price, str) and price.replace(',','').isdigit():\\n        return int(price,replace(','''))\\n    elif isinstance(price, int):\\n        return price\",\n",
       " '_i75': 'parse_int(800)',\n",
       " '_75': 800,\n",
       " '_i76': \"parse_int('800')\",\n",
       " '_i77': \"def parse_int(price):\\n    #print(type(price))\\n    if isinstance(price, str) and price.replace(',','').isdigit():\\n        return int(price.replace(',', ''))\\n    elif isinstance(price, int):\\n        return price\\n    else:\\n        return 0\",\n",
       " '_i78': \"parse_int('800')\",\n",
       " '_78': 800,\n",
       " '_i79': \"def parse_int(price):\\n    #print(type(price))\\n    if price.replace(',','').isdigit():\\n        return int(price.replace(',', ''))\\n    elif isinstance(price, int):\\n        return price\",\n",
       " '_i80': \"parse_int('800')\",\n",
       " '_80': 800,\n",
       " '_i81': \"parse_int('800')\",\n",
       " '_81': 800,\n",
       " '_i82': \"# '14,000' -> 14000 / 800 -> 800 / '-' -> 0\\ndef parse_int(price):\\n    # print(type(price))\\n    if price.replace(',','').isdigit():\\n        return int(price,replace(','''))\\n    elif isinstance(price, int):\\n        return price\",\n",
       " '_i83': \"parse_int('800')\",\n",
       " '_i84': \"# '14,000' -> 14000 / 800 -> 800 / '-' -> 0\\ndef parse_int(price):\\n    # print(type(price))\\n    if isinstance(price, str) and price.replace(',','').isdigit():\\n        return int(price,replace(','''))\\n    elif isinstance(price, int):\\n        return price\",\n",
       " '_i85': \"parse_int('800')\",\n",
       " '_i86': \"# '14,000' -> 14000 / 800 -> 800 / '-' -> 0\\ndef parse_int(price):\\n    # print(type(price))\\n    if isinstance(price, str) and price.replace(',','').isdigit():\\n        return int(price,replace(','''))\\n    elif isinstance(price, int):\\n        return price\",\n",
       " '_i87': \"parse_int('800')\",\n",
       " '_i88': \"parse_int('800')\",\n",
       " '_i89': \"def parse_int(price):\\n    #print(type(price))\\n    if isinstance(price, str) and price.replace(',','').isdigit():\\n        return int(price.replace(',', ''))\\n    elif isinstance(price, int):\\n        return price\\n    else:\\n        return 0\",\n",
       " '_i90': \"def parse_int(price):\\n    #print(type(price))\\n    if isinstance(price, str) and price.replace(',','').isdigit():\\n        return int(price.replace(',', ''))\\n    elif isinstance(price, int):\\n        return price\",\n",
       " '_i91': \"parse_int('800')\",\n",
       " '_91': 800,\n",
       " '_i92': \"# '14,000' -> 14000 / 800 -> 800 / '-' -> 0\\ndef parse_int(price):\\n    # print(type(price))\\n    if isinstance(price, str) and price.replace(',','').isdigit():\\n        return int(price.replace(','''))\\n    elif isinstance(price, int):\\n        return price\",\n",
       " '_i93': \"parse_int('800')\",\n",
       " '_i94': \"# '14,000' -> 14000 / 800 -> 800 / '-' -> 0\\ndef parse_int(price):\\n    # print(type(price))\\n    if isinstance(price, str) and price.replace(',','').isdigit():\\n        return int(price.replace(','''))\\n    elif isinstance(price, int):\\n        return price\",\n",
       " '_i95': \"parse_int('800')\",\n",
       " '_i96': \"def parse_int(price):\\n    #print(type(price))\\n    if (isinstance(price, str)) and price.replace(',','').isdigit():\\n        return int(price.replace(',', ''))\\n    elif isinstance(price, int):\\n        return price\",\n",
       " '_i97': \"parse_int('800')\",\n",
       " '_97': 800,\n",
       " '_i98': \"# '14,000' -> 14000 / 800 -> 800 / '-' -> 0\\ndef parse_int(price):\\n    # print(type(price))\\n    if (isinstance(price, str)) and price.replace(',','').isdigit():\\n        return int(price.replace(','''))\\n    elif isinstance(price, int):\\n        return price\",\n",
       " '_i99': \"parse_int('800')\",\n",
       " '_i100': \"# '14,000' -> 14000 / 800 -> 800 / '-' -> 0\\ndef parse_int(price):\\n    # print(type(price))\\n    if (isinstance(price, str)) and price.replace(',','').isdigit():\\n        return int(price.replace(',',''))\\n    elif isinstance(price, int):\\n        return price\",\n",
       " '_i101': \"parse_int('800')\",\n",
       " '_101': 800,\n",
       " '_i102': \"# 책제목순 정렬(ㄱㄴㄷ순), 저자순(ㄱㄴㄷ순), 가격순 정렬\\nbooks = [\\n    {'np':1, 'title': '강남 아파트 인사이트', 'writer':'오스틀', 'price':'25,200'},\\n    {'np':2, 'title': '단 한 번의 삶', 'writer':'김영하', 'price':'18,100'},\\n    {'np':3, 'title': '흔한남매 19', 'writer':'백난도', 'price':'14220'},\\n    {'np':4, 'title': '가격이잘못', 'writer':'신길동', 'price':'-'},\\n    {'np':5, 'title': '가격이숫자', 'writer':'김길동', 'price': 900},\\n    {'np':6, 'title': '가격이 없음', 'writer':'오스틀'}\\n]\",\n",
       " '_i103': \"parse_int('800'), parse_int('80,000'), parse_int('-')\",\n",
       " '_103': (800, 80000, None),\n",
       " '_i104': \"# {'np':6, 'title': '가격이 없음', 'writer':'오스틀'} => 0\\n# {'np':3, 'title': '흔한남매 19', 'writer':'백난도', 'price':'14220'} => 14220\\n# {'np':5, 'title': '가격이숫자', 'writer':'김길동', 'price':900} => 900\\ndef parse_int(book):\\n    if isinstance(book.get(price), str) and \\\\\\n            book.get('price').replace(',','').isdigit():\\n        return int(book.get('price'),replace(',',''))\\n    elif isinstance(book.get('price'), int):\\n        return book.get(price)\\n    else:\\n        return 0\",\n",
       " '_i105': \"# {'np':6, 'title': '가격이 없음', 'writer':'오스틀'} => 0\\n# {'np':3, 'title': '흔한남매 19', 'writer':'백난도', 'price':'14220'} => 14220\\n# {'np':5, 'title': '가격이숫자', 'writer':'김길동', 'price':900} => 900\\ndef parse_int(book):\\n    if isinstance(book.get(price), str) and \\\\\\n            book.get('price').replace(',','').isdigit():\\n        return int(book.get('price'),replace(',',''))\\n    elif isinstance(book.get('price'), int):\\n        return book.get(price)\\n    else:\\n        return 0\\nparse_int(book[0])\",\n",
       " '_i106': \"# {'np':6, 'title': '가격이 없음', 'writer':'오스틀'} => 0\\n# {'np':3, 'title': '흔한남매 19', 'writer':'백난도', 'price':'14220'} => 14220\\n# {'np':5, 'title': '가격이숫자', 'writer':'김길동', 'price':900} => 900\\ndef parse_int(book):\\n    if isinstance(book.get('price'), str) and \\\\\\n            book.get('price').replace(',','').isdigit():\\n        return int(book.get('price'),replace(',',''))\\n    elif isinstance(book.get('price'), int):\\n        return book.get(price)\\n    else:\\n        return 0\\nparse_int(book[0])\",\n",
       " '_i107': \"# {'np':6, 'title': '가격이 없음', 'writer':'오스틀'} => 0\\n# {'np':3, 'title': '흔한남매 19', 'writer':'백난도', 'price':'14220'} => 14220\\n# {'np':5, 'title': '가격이숫자', 'writer':'김길동', 'price':900} => 900\\ndef parse_int(book):\\n    if isinstance(book.get('price'), str) and \\\\\\n            book.get('price').replace(',','').isdigit():\\n        return int(book.get('price').replace(',',''))\\n    elif isinstance(book.get('price'), int):\\n        return book.get(price)\\n    else:\\n        return 0\\nparse_int(book[0])\",\n",
       " '_107': 25200,\n",
       " '_i108': \"# {'np':6, 'title': '가격이 없음', 'writer':'오스틀'} => 0\\n# {'np':3, 'title': '흔한남매 19', 'writer':'백난도', 'price':'14220'} => 14220\\n# {'np':5, 'title': '가격이숫자', 'writer':'김길동', 'price':900} => 900\\ndef parse_int(book):\\n    if isinstance(book.get('price'), str) and \\\\\\n            book.get('price').replace(',','').isdigit():\\n        return int(book.get('price').replace(',',''))\\n    elif isinstance(book.get('price'), int):\\n        return book.get(price)\\n    else:\\n        return 0\\nparse_int(book[0]), parse_int(book[3]), parse_int(book[2]), parse_int(book[5])\",\n",
       " '_108': (25200, 0, 14220, 0),\n",
       " '_i109': \"parse_int('800'), parse_int('80,000'), parse_int('-')\",\n",
       " '_i110': \"def parse_int(price):\\n    #print(type(price))\\n    if isinstance(price, str) and price.replace(',','').isdigit():\\n        return int(price.replace(',', ''))\\n    elif isinstance(price, int):\\n        return price\\n    else:\\n        return 0\",\n",
       " '_i111': \"parse_int('800'), parse_int('80,000'), parse_int('-')\",\n",
       " '_111': (800, 80000, 0),\n",
       " '_i112': \"books = [\\n    {'np':1, 'title': '강남 아파트 인사이트', 'writer':'오스틀', 'price':'25,200'},\\n    {'np':2, 'title': '단 한 번의 삶', 'writer':'김영하', 'price':'18,100'},\\n    {'np':3, 'title': '흔한남매 19', 'writer':'백난도', 'price':'14220'},\\n    {'np':4, 'title': '가격이잘못', 'writer':'신길동', 'price':'-'},\\n    {'np':5, 'title': '가격이숫자', 'writer':'김길동', 'price': 900},\\n    {'np':6, 'title': '가격이 없음', 'writer':'오스틀'}\\n]\\ncopy_book = book.copy()\",\n",
       " 'copy_book': [{'np': 4, 'title': '가격이잘못', 'writer': '신길동', 'price': '-'},\n",
       "  {'np': 6, 'title': '가격이 없음', 'writer': '오스틀'},\n",
       "  {'np': 5, 'title': '가격이숫자', 'writer': '김길동', 'price': 900},\n",
       "  {'np': 3, 'title': '흔한남매 19', 'writer': '백난도', 'price': '14,220'},\n",
       "  {'np': 2, 'title': '단 한 번의 삶', 'writer': '김영하', 'price': '18,100'},\n",
       "  {'np': 1, 'title': '강남 아파트 인사이트', 'writer': '오스틀', 'price': '25,200'}],\n",
       " '_i113': 'copy_book',\n",
       " '_113': [{'np': 1,\n",
       "   'title': '강남 아파트 인사이트',\n",
       "   'writer': '오스틀',\n",
       "   'price': '25,200'},\n",
       "  {'np': 2, 'title': '단 한 번의 삶', 'writer': '김영하', 'price': '18,100'},\n",
       "  {'np': 3, 'title': '흔한남매 19', 'writer': '백난도', 'price': '14,220'},\n",
       "  {'np': 4, 'title': '가격이잘못', 'writer': '신길동', 'price': '-'},\n",
       "  {'np': 5, 'title': '가격이숫자', 'writer': '김길동', 'price': 900},\n",
       "  {'np': 6, 'title': '가격이 없음', 'writer': '오스틀'}],\n",
       " '_i114': 'books',\n",
       " '_114': [{'np': 1,\n",
       "   'title': '강남 아파트 인사이트',\n",
       "   'writer': '오스틀',\n",
       "   'price': '25,200'},\n",
       "  {'np': 2, 'title': '단 한 번의 삶', 'writer': '김영하', 'price': '18,100'},\n",
       "  {'np': 3, 'title': '흔한남매 19', 'writer': '백난도', 'price': '14220'},\n",
       "  {'np': 4, 'title': '가격이잘못', 'writer': '신길동', 'price': '-'},\n",
       "  {'np': 5, 'title': '가격이숫자', 'writer': '김길동', 'price': 900},\n",
       "  {'np': 6, 'title': '가격이 없음', 'writer': '오스틀'}],\n",
       " '_i115': \"copy_book.sort(key = lambda book : int(book.get('price'),replace(',','')) \\\\\\n               if isinstance(book.get('price'), ,str) \\\\\\n               and book.get('price').replace(',','').isdigit() \\\\\\n               else book.get('price') if isinstance(book.get('price'), int) \\\\\\n               else 0)\",\n",
       " '_i116': 'copy_book = book.copy()',\n",
       " '_i117': \"copy_book.sort(key = lambda book : int(book.get('price'),replace(',','')) \\\\\\n               if isinstance(book.get('price'), ,str) \\\\\\n               and book.get('price').replace(',','').isdigit() \\\\\\n               else book.get('price') if isinstance(book.get('price'), int) \\\\\\n               else 0)\",\n",
       " '_i118': \"copy_book.sort(key = lambda book : int(book.get('price'),replace(',','')) \\\\\\n               if isinstance(book.get('price'), str) \\\\\\n               and book.get('price').replace(',','').isdigit() \\\\\\n               else book.get('price') if isinstance(book.get('price'), int) \\\\\\n               else 0)\",\n",
       " '_i119': \"copy_book.sort(key = lambda book : int(book.get('price').replace(',','')) \\\\\\n               if isinstance(book.get('price'), str) \\\\\\n               and book.get('price').replace(',','').isdigit() \\\\\\n               else book.get('price') if isinstance(book.get('price'), int) \\\\\\n               else 0)\",\n",
       " '_i120': '# 함수를 return\\ndef make_box(shape): # shape : [L] =>len 가 L 인 list 를 생성하는 함수 return,\\n                     #         [r,c] => r행 c열인 2차원 list를 생성하는 함수 return,\\n                     #         [d,r,c] => d면 r행 c열 3차원 list를 생성하는 함수 return\\n    def box(init_value):\\n        if len(shape)==1:\\n            return [init_value]*shape[0]\\n        elif len(shape)==2:\\n            return [ [init_value]*shape[1] ] * shape[0]\\n    return box',\n",
       " 'make_box': <function __main__.make_box(shape)>,\n",
       " '_i121': 'lien_func = make_box([2,3])\\nlien_func(3)',\n",
       " 'lien_func': <function __main__.make_box.<locals>.box(init_value)>,\n",
       " '_121': [[3, 3, 3], [3, 3, 3]],\n",
       " '_i122': 'lien_func1 = make_box([10])\\nlien_func1(3)',\n",
       " 'lien_func1': <function __main__.make_box.<locals>.box(init_value)>,\n",
       " '_122': [3, 3, 3, 3, 3, 3, 3, 3, 3, 3],\n",
       " '_i123': \"copy_books.sort(key = lambda book : int(book.get('price').replace(',','')) \\\\\\n                    if isinstance(book.get('price'), str) \\\\\\n                    and book.get('price').replace(',','').isdigit() \\\\\\n                    else book.get('price') if isinstance(book.get('price'), int) else \\\\\\n                0                \\n               )\",\n",
       " '_i124': \"copy_book.sort(key = lambda book : int(book.get('price').replace(',','')) \\\\\\n                    if isinstance(book.get('price'), str) \\\\\\n                    and book.get('price').replace(',','').isdigit() \\\\\\n                    else book.get('price') if isinstance(book.get('price'), int) else \\\\\\n                0                \\n               )\",\n",
       " '_i125': 'copy_book',\n",
       " '_125': [{'np': 4, 'title': '가격이잘못', 'writer': '신길동', 'price': '-'},\n",
       "  {'np': 6, 'title': '가격이 없음', 'writer': '오스틀'},\n",
       "  {'np': 5, 'title': '가격이숫자', 'writer': '김길동', 'price': 900},\n",
       "  {'np': 3, 'title': '흔한남매 19', 'writer': '백난도', 'price': '14,220'},\n",
       "  {'np': 2, 'title': '단 한 번의 삶', 'writer': '김영하', 'price': '18,100'},\n",
       "  {'np': 1, 'title': '강남 아파트 인사이트', 'writer': '오스틀', 'price': '25,200'}],\n",
       " '_i126': \"copy_book.sort(key = lambda book : int(book.get('price').replace(',','')) \\\\\\n               if isinstance(book.get('price'), str) \\\\\\n               and book.get('price').replace(',','').isdigit() \\\\\\n               else book.get('price') if isinstance(book.get('price'), int) \\\\\\n               else 0)\",\n",
       " '_i127': 'copy_book',\n",
       " '_127': [{'np': 4, 'title': '가격이잘못', 'writer': '신길동', 'price': '-'},\n",
       "  {'np': 6, 'title': '가격이 없음', 'writer': '오스틀'},\n",
       "  {'np': 5, 'title': '가격이숫자', 'writer': '김길동', 'price': 900},\n",
       "  {'np': 3, 'title': '흔한남매 19', 'writer': '백난도', 'price': '14,220'},\n",
       "  {'np': 2, 'title': '단 한 번의 삶', 'writer': '김영하', 'price': '18,100'},\n",
       "  {'np': 1, 'title': '강남 아파트 인사이트', 'writer': '오스틀', 'price': '25,200'}],\n",
       " '_i128': 'def make_bax(shape):\\n    if len(shape)==1:\\n        return lambda init_value : [init_value-]*shape[0]\\n    elif len(shape)==2:\\n        return lambda init_value : [ [init_value] ] * shape[0]',\n",
       " '_i129': 'def make_bax(shape):\\n    if len(shape)==1:\\n        return lambda init_value : [init_value-]*shape[0]\\n    elif len(shape)==2:\\n        return lambda init_value : [ [init_value]*shape[1] ] * shape[0]',\n",
       " '_i130': 'def make_bax(shape):\\n    if len(shape)==1:\\n        return lambda init_value : [init_value]*shape[0]\\n    elif len(shape)==2:\\n        return lambda init_value : [ [init_value]*shape[1] ] * shape[0]',\n",
       " 'make_bax': <function __main__.make_bax(shape)>,\n",
       " '_i131': 'globals',\n",
       " '_131': <function globals()>,\n",
       " '_i132': 'globals()',\n",
       " '_132': {...},\n",
       " '_i133': 'locals()'}"
      ]
     },
     "execution_count": 133,
     "metadata": {},
     "output_type": "execute_result"
    }
   ],
   "source": [
    "locals() # 지역변수 리스트"
   ]
  },
  {
   "cell_type": "code",
   "execution_count": 134,
   "id": "7059a600",
   "metadata": {},
   "outputs": [
    {
     "data": {
      "text/plain": [
       "False"
      ]
     },
     "execution_count": 134,
     "metadata": {},
     "output_type": "execute_result"
    }
   ],
   "source": [
    "all([True, True, True, False]) # 전부 True인지 여부"
   ]
  },
  {
   "cell_type": "code",
   "execution_count": 135,
   "id": "697de94d",
   "metadata": {},
   "outputs": [
    {
     "data": {
      "text/plain": [
       "4"
      ]
     },
     "execution_count": 135,
     "metadata": {},
     "output_type": "execute_result"
    }
   ],
   "source": [
    "round(3.5) # 반올림"
   ]
  },
  {
   "cell_type": "code",
   "execution_count": 139,
   "id": "2f25577d",
   "metadata": {},
   "outputs": [
    {
     "data": {
      "text/plain": [
       "(4.0, 4.0, 3.0)"
      ]
     },
     "execution_count": 139,
     "metadata": {},
     "output_type": "execute_result"
    }
   ],
   "source": [
    "import numpy as np # numpy 모듈을 np라는 이름이로 load\n",
    "np.round(3.5), np.ceil(3.2), np.floor(3.2)# 반올림, 올림, 내림"
   ]
  },
  {
   "cell_type": "markdown",
   "id": "332f0082",
   "metadata": {},
   "source": [
    "### 연습문제"
   ]
  },
  {
   "cell_type": "code",
   "execution_count": 143,
   "id": "25f9f1d4",
   "metadata": {},
   "outputs": [
    {
     "data": {
      "text/plain": [
       "(99, 1)"
      ]
     },
     "execution_count": 143,
     "metadata": {},
     "output_type": "execute_result"
    }
   ],
   "source": [
    "def get_max_min(data_list):\n",
    "    return max(data_list), min(data_list)\n",
    "get_max_min([1, 2, 10 , 4, 80 ,50 ,99])"
   ]
  },
  {
   "cell_type": "code",
   "execution_count": 218,
   "id": "4ceb8d61",
   "metadata": {},
   "outputs": [
    {
     "data": {
      "text/plain": [
       "(6, 1)"
      ]
     },
     "execution_count": 218,
     "metadata": {},
     "output_type": "execute_result"
    }
   ],
   "source": [
    "get_max_min = lambda data_list : (max(data_list), min(data_list))\n",
    "get_max_min([1,2,3,4,5,6,])"
   ]
  },
  {
   "cell_type": "code",
   "execution_count": 224,
   "id": "d3b8e9cb",
   "metadata": {},
   "outputs": [],
   "source": [
    "def BMI(kg, m):\n",
    "    a = kg / (m**2)\n",
    "    if 0<a<18.5:\n",
    "        print('마른체형')\n",
    "    elif 18.5<=a<25:\n",
    "        print('표준체형')\n",
    "    elif 25<=a<30:\n",
    "        print('비만')\n",
    "    elif a>=30:\n",
    "        print('고도비만')\n",
    "    else:\n",
    "        print('잘 못 되었음')"
   ]
  },
  {
   "cell_type": "code",
   "execution_count": 225,
   "id": "e785ce73",
   "metadata": {},
   "outputs": [
    {
     "name": "stdout",
     "output_type": "stream",
     "text": [
      "표준체형\n"
     ]
    }
   ],
   "source": [
    "BMI(60, 1.75)"
   ]
  },
  {
   "cell_type": "code",
   "execution_count": 200,
   "id": "1911330b",
   "metadata": {},
   "outputs": [
    {
     "data": {
      "text/plain": [
       "'표준'"
      ]
     },
     "execution_count": 200,
     "metadata": {},
     "output_type": "execute_result"
    }
   ],
   "source": [
    "BMI = lambda kg, m : '마른체형' if 0<kg / (m**2) < 18.5 else \\\n",
    "                    '표준' if 18.5<=kg / (m**2)<25 else \\\n",
    "                    '비만' if 25<=kg / (m**2)<30 else \\\n",
    "                    '고도비만'if kg / (m**2)>=30 else \\\n",
    "                    '다시 입력해주세요'\n",
    "BMI(70, 1.83)"
   ]
  },
  {
   "cell_type": "code",
   "execution_count": null,
   "id": "329081ab",
   "metadata": {},
   "outputs": [],
   "source": [
    "def get_triangle(width, height):\n",
    "    "
   ]
  },
  {
   "cell_type": "code",
   "execution_count": null,
   "id": "15d6eae0",
   "metadata": {},
   "outputs": [],
   "source": [
    "# 실습형 3. 직각삼각형의 width, height로 area, perimeter(둘레)를 return\n",
    "import math\n",
    "def get_triangle(width, height):\n",
    "    area = width * height * 0.5\n",
    "    perimeter = width + height + math.sqrt(width*width + height*height)\n",
    "    return {'넓이':area, '둘레':perimeter}\n",
    " # math 모듈을 사용하라고 하지만 구현능력을 위해 하드코딩이라고 함(훈련생 曰)\n",
    "get_triangle_lambda = lambda width, height : {\n",
    "        '넓이':width * height * 0.5,\n",
    "        '둘레':width + height + (width*width + height*height)**0.5\n",
    "}\n",
    "get_triangle(3,4)"
   ]
  },
  {
   "cell_type": "code",
   "execution_count": null,
   "id": "c4bd053a",
   "metadata": {},
   "outputs": [],
   "source": [
    "# cf. 제곱근을 구하는 함수\n",
    "import math\n",
    "math.sqrt(25)"
   ]
  },
  {
   "cell_type": "code",
   "execution_count": null,
   "id": "ed24d7b5",
   "metadata": {},
   "outputs": [],
   "source": [
    "def mysum(from_, end):\n",
    "    print(from_, end)\n",
    "    tot = 0\n",
    "    for nu\n",
    "    "
   ]
  },
  {
   "cell_type": "code",
   "execution_count": null,
   "id": "efae22e1",
   "metadata": {},
   "outputs": [],
   "source": [
    "# 실습형 4.fRom부터 end까지 모든 정수의 합 리턴 (변수명으로 from은 못 오고 frOm으로 함)\n",
    "def mysum(fRom, end):\n",
    "    sum = 0\n",
    "    for i in range(fRom, end+1):\n",
    "        sum += i\n",
    "    return sum\n",
    "mysum2 = lambda fRom, end : sum(range(fRom, end+1))\n",
    "print(mysum(10, 12)) #일반함수 이용 10+11+12\n",
    "print(mysum2(10, 12))"
   ]
  },
  {
   "cell_type": "code",
   "execution_count": null,
   "id": "4178f7e2",
   "metadata": {},
   "outputs": [],
   "source": [
    "def add(*arge):\n",
    "    if "
   ]
  },
  {
   "cell_type": "code",
   "execution_count": null,
   "id": "9ae33847",
   "metadata": {},
   "outputs": [],
   "source": []
  },
  {
   "cell_type": "code",
   "execution_count": 169,
   "id": "7ed46c2d",
   "metadata": {},
   "outputs": [
    {
     "ename": "TypeError",
     "evalue": "'function' object is not subscriptable",
     "output_type": "error",
     "traceback": [
      "\u001b[1;31m---------------------------------------------------------------------------\u001b[0m",
      "\u001b[1;31mTypeError\u001b[0m                                 Traceback (most recent call last)",
      "Cell \u001b[1;32mIn[169], line 4\u001b[0m\n\u001b[0;32m      2\u001b[0m     get_abbrs \u001b[38;5;241m=\u001b[39m split\u001b[38;5;241m.\u001b[39mget_abbrs(\u001b[38;5;124m'\u001b[39m\u001b[38;5;124m,\u001b[39m\u001b[38;5;124m'\u001b[39m)\n\u001b[0;32m      3\u001b[0m     \u001b[38;5;28;01mreturn\u001b[39;00m get_abbrs[:\u001b[38;5;241m3\u001b[39m:]\n\u001b[1;32m----> 4\u001b[0m \u001b[43mget_abbrs\u001b[49m\u001b[43m[\u001b[49m\u001b[38;5;124;43m'\u001b[39;49m\u001b[38;5;124;43mSeoul\u001b[39;49m\u001b[38;5;124;43m'\u001b[39;49m\u001b[43m,\u001b[49m\u001b[43m \u001b[49m\u001b[38;5;124;43m'\u001b[39;49m\u001b[38;5;124;43mDaegu\u001b[39;49m\u001b[38;5;124;43m'\u001b[39;49m\u001b[43m,\u001b[49m\u001b[43m \u001b[49m\u001b[38;5;124;43m'\u001b[39;49m\u001b[38;5;124;43mKwangju\u001b[39;49m\u001b[38;5;124;43m'\u001b[39;49m\u001b[43m,\u001b[49m\u001b[43m \u001b[49m\u001b[38;5;124;43m'\u001b[39;49m\u001b[38;5;124;43mJeju\u001b[39;49m\u001b[38;5;124;43m'\u001b[39;49m\u001b[43m]\u001b[49m\n",
      "\u001b[1;31mTypeError\u001b[0m: 'function' object is not subscriptable"
     ]
    }
   ],
   "source": [
    "def get_abbrs(lst):\n",
    "    return get_abbrs[:3:]\n",
    "get_abbrs['Seoul', 'Daegu', 'Kwangju', 'Jeju']"
   ]
  },
  {
   "cell_type": "code",
   "execution_count": null,
   "id": "0de9e126",
   "metadata": {},
   "outputs": [],
   "source": [
    "# 실습형 5. 문자열 리스트가 입력될 때 첫 세글자로만 구성된 리스트 return\n",
    "test = ['Seoul', 'Daegu', 'Kwangju', 'Jeju']\n",
    "def get_abbrs(lst):\n",
    "    return [x[:3] for x in lst]\n",
    "\n",
    "print(get_abbrs(test)) # 일반 함수 이용\n",
    "print((lambda l : [x[:3] for x in l])(test)) #람다식 이용"
   ]
  },
  {
   "cell_type": "code",
   "execution_count": 170,
   "id": "06a50f82",
   "metadata": {},
   "outputs": [],
   "source": [
    "f = lambda x, y : x ** y"
   ]
  },
  {
   "cell_type": "code",
   "execution_count": 171,
   "id": "72c078a2",
   "metadata": {},
   "outputs": [
    {
     "data": {
      "text/plain": [
       "8"
      ]
     },
     "execution_count": 171,
     "metadata": {},
     "output_type": "execute_result"
    }
   ],
   "source": [
    "f(2, 3)"
   ]
  },
  {
   "cell_type": "code",
   "execution_count": 174,
   "id": "c6f2f9f3",
   "metadata": {},
   "outputs": [
    {
     "data": {
      "text/plain": [
       "[1, 4, 9, 16, 25]"
      ]
     },
     "execution_count": 174,
     "metadata": {},
     "output_type": "execute_result"
    }
   ],
   "source": [
    "data= [1,2,3,4,5]\n",
    "list(map(lambda x : x**2, data))"
   ]
  },
  {
   "cell_type": "code",
   "execution_count": 201,
   "id": "03a9196b",
   "metadata": {},
   "outputs": [
    {
     "ename": "TypeError",
     "evalue": "unsupported operand type(s) for ** or pow(): 'list' and 'int'",
     "output_type": "error",
     "traceback": [
      "\u001b[1;31m---------------------------------------------------------------------------\u001b[0m",
      "\u001b[1;31mTypeError\u001b[0m                                 Traceback (most recent call last)",
      "Cell \u001b[1;32mIn[201], line 1\u001b[0m\n\u001b[1;32m----> 1\u001b[0m lst\u001b[38;5;241m=\u001b[39m[lst \u001b[38;5;28;01mfor\u001b[39;00m lst \u001b[38;5;129;01min\u001b[39;00m \u001b[43mdata\u001b[49m\u001b[38;5;241;43m*\u001b[39;49m\u001b[38;5;241;43m*\u001b[39;49m\u001b[38;5;241;43m2\u001b[39;49m]\n",
      "\u001b[1;31mTypeError\u001b[0m: unsupported operand type(s) for ** or pow(): 'list' and 'int'"
     ]
    }
   ],
   "source": [
    "lst=[lst for lst in data**2] ## 실습형 7. 리스트컴프리헨션 이용 \n",
    "                             #[x**2 for x in data]"
   ]
  },
  {
   "cell_type": "code",
   "execution_count": null,
   "id": "fa7a13ae",
   "metadata": {},
   "outputs": [],
   "source": []
  },
  {
   "cell_type": "code",
   "execution_count": 203,
   "id": "258bc4c3",
   "metadata": {},
   "outputs": [
    {
     "data": {
      "text/plain": [
       "[(4, 'a'), (3, 'b'), (2, 'c'), (1, 'd')]"
      ]
     },
     "execution_count": 203,
     "metadata": {},
     "output_type": "execute_result"
    }
   ],
   "source": [
    "pairs = [(1, 'd'), (2, 'c'), (3, 'b'), (4, 'a')]\n",
    "pairs.sort(key = lambda pair : pair[1])\n",
    "pairs"
   ]
  },
  {
   "cell_type": "code",
   "execution_count": 217,
   "id": "57754043",
   "metadata": {},
   "outputs": [
    {
     "name": "stdout",
     "output_type": "stream",
     "text": [
      "1 2 3\n",
      "[1, 2, 3]\n"
     ]
    }
   ],
   "source": [
    "a = [1, 2, 3]\n",
    "print(*a) # 튜플로 출력\n",
    "a = [1, 2, 3]\n",
    "print(a) # 리스트로 출력"
   ]
  },
  {
   "cell_type": "code",
   "execution_count": 215,
   "id": "27774b90",
   "metadata": {},
   "outputs": [
    {
     "name": "stdout",
     "output_type": "stream",
     "text": [
      "[1, 2, 3]\n"
     ]
    }
   ],
   "source": [
    "# 실습형 8.\n",
    "a = [1,2,3]\n",
    "print(*a)\n",
    "print(a)\n",
    "answer=\"\"\"\n",
    "별표(asterisk, *)는 함수의 인자(argument)로 사용될 때, \n",
    "시퀀스형 자료형의 각각의 값(element)을 하나의 값(element)으로 넣어주게 된다(언패킹)\n",
    "그러므로 print(*a)의 의미는 사실 print(a[0], a[1], a[2])으로 나타나게 된다.\n",
    "\"\"\""
   ]
  },
  {
   "cell_type": "code",
   "execution_count": 216,
   "id": "d1ee901a",
   "metadata": {},
   "outputs": [
    {
     "data": {
      "text/plain": [
       "'2004-9-6'"
      ]
     },
     "execution_count": 216,
     "metadata": {},
     "output_type": "execute_result"
    }
   ],
   "source": [
    "date_info = {'year':2004, 'month':9, 'day':6}\n",
    "result = '{year}-{month}-{day}'.format(**date_info)\n",
    "result"
   ]
  },
  {
   "cell_type": "code",
   "execution_count": 6,
   "id": "2ffce14d",
   "metadata": {},
   "outputs": [
    {
     "data": {
      "text/plain": [
       "'2019-09-16'"
      ]
     },
     "execution_count": 6,
     "metadata": {},
     "output_type": "execute_result"
    }
   ],
   "source": [
    "# 실습형 9.\n",
    "date_info = {'year':'2019', 'month':9, 'day':16}\n",
    "result = \"{year}-{month:02}-{day:02}\".format(**date_info)\n",
    "# result = \"{year}-{month}-{day}\".format(year='2019', month=9, day=6)\n",
    "# '2024-09-06을 원하면'\n",
    "#result = \"{year}-{month:02}-{day:02}\".format(**date_info)\n",
    "result"
   ]
  },
  {
   "cell_type": "code",
   "execution_count": 9,
   "id": "708a2ea3",
   "metadata": {},
   "outputs": [
    {
     "data": {
      "text/plain": [
       "'2019-09-06'"
      ]
     },
     "execution_count": 9,
     "metadata": {},
     "output_type": "execute_result"
    }
   ],
   "source": [
    "# 실습형 9.\n",
    "date_info = {'year':'2019', 'month':'9', 'day':'6'}\n",
    "result = \"{year}-{month:>02}-{day:>02}\".format(**date_info) #숫자가 문자로 입력시 처리 방법\n",
    "# result = \"{year}-{month}-{day}\".format(year='2019', month=9, day=6)\n",
    "# '2024-09-06을 원하면'\n",
    "#result = \"{year}-{month:02}-{day:02}\".format(**date_info)\n",
    "result"
   ]
  },
  {
   "cell_type": "code",
   "execution_count": 11,
   "id": "5df073fe",
   "metadata": {},
   "outputs": [
    {
     "data": {
      "text/plain": [
       "[2, 2, 2, 2]"
      ]
     },
     "execution_count": 11,
     "metadata": {},
     "output_type": "execute_result"
    }
   ],
   "source": [
    "# 실습형 10. \n",
    "# 입력받은 n개의 벡터(리스트나 튜플이나 셋)의 크기들을 return 하는 함수\n",
    "def vector_size(*vector_var):\n",
    "    result = []\n",
    "    for vector in vector_var:\n",
    "        result.append(len(vector))\n",
    "    return result\n",
    "\n",
    "def vector_size(*vector_var):\n",
    "    return [len(vector) for vector in vector_var]\n",
    "\n",
    "vector_size([10, 20], (100, 200), {'name':'홍', 'age':20}, {1, 2})"
   ]
  },
  {
   "cell_type": "code",
   "execution_count": 12,
   "id": "9da2fd4b",
   "metadata": {},
   "outputs": [
    {
     "data": {
      "text/plain": [
       "True"
      ]
     },
     "execution_count": 12,
     "metadata": {},
     "output_type": "execute_result"
    }
   ],
   "source": [
    "# 원래 실습형 10. \n",
    "# 입력받은 n개의 벡터(리스트나 튜플이나 셋)의 크기들이 모두 같은지 여부 return : 셋 이용\n",
    "# def vector_size_check(*vector_var):\n",
    "#     result = set()\n",
    "#     for vector in vector_var:\n",
    "#         result.add(len(vector))\n",
    "#     return len(result)==1\n",
    "def vector_size_check(*vector_var):\n",
    "    return len(set([len(vector) for vector in vector_var]))==1\n",
    "vector_size_check([10, 20], (100,200), {'name':'홍', 'age':20}, {1, 2})"
   ]
  },
  {
   "cell_type": "code",
   "execution_count": 13,
   "id": "db88789d",
   "metadata": {},
   "outputs": [
    {
     "data": {
      "text/plain": [
       "False"
      ]
     },
     "execution_count": 13,
     "metadata": {},
     "output_type": "execute_result"
    }
   ],
   "source": [
    "vector_size_check([10, 20], (100,), {'name':'홍', 'age':20}, {1, 2})"
   ]
  },
  {
   "cell_type": "code",
   "execution_count": 22,
   "id": "3c56d71b",
   "metadata": {},
   "outputs": [],
   "source": [
    "# 원래 실습형 10. \n",
    "# 입력받은 n개의 벡터(리스트나 튜플이나 셋)의 크기들이 모두 같은지 여부 return : all이용\n",
    "# def vector_size_check(*vector_var):\n",
    "#     result = []\n",
    "#     for vector in vector_var:\n",
    "#         result.append(len(vector))\n",
    "#     return all(result)\n",
    "def vector_size_check(*vector_var):\n",
    "    return all([len(vector) for vector in vector_var])\n",
    "# vector_size_check([10, 20], (100,200), {'name':'홍', 'age':20}, {1, 2})"
   ]
  },
  {
   "cell_type": "code",
   "execution_count": 25,
   "id": "056c4a1c",
   "metadata": {},
   "outputs": [
    {
     "data": {
      "text/plain": [
       "True"
      ]
     },
     "execution_count": 25,
     "metadata": {},
     "output_type": "execute_result"
    }
   ],
   "source": [
    "vector_size_check([10, 20], (100,), {'name':'홍', 'age':20}, {1, 2})"
   ]
  },
  {
   "cell_type": "code",
   "execution_count": 205,
   "id": "eb3fe723",
   "metadata": {},
   "outputs": [
    {
     "ename": "TypeError",
     "evalue": "func() takes 0 positional arguments but 1 was given",
     "output_type": "error",
     "traceback": [
      "\u001b[1;31m---------------------------------------------------------------------------\u001b[0m",
      "\u001b[1;31mTypeError\u001b[0m                                 Traceback (most recent call last)",
      "Cell \u001b[1;32mIn[205], line 12\u001b[0m\n\u001b[0;32m     10\u001b[0m         sub()\n\u001b[0;32m     11\u001b[0m a \u001b[38;5;241m+\u001b[39m\u001b[38;5;241m=\u001b[39m \u001b[38;5;241m1\u001b[39m\n\u001b[1;32m---> 12\u001b[0m \u001b[43mfunc\u001b[49m\u001b[43m(\u001b[49m\u001b[38;5;241;43m1\u001b[39;49m\u001b[43m)\u001b[49m\n",
      "\u001b[1;31mTypeError\u001b[0m: func() takes 0 positional arguments but 1 was given"
     ]
    }
   ],
   "source": [
    "a = 10\n",
    "def sub():\n",
    "    a += 1\n",
    "    print(a, end='')\n",
    "def func():\n",
    "    for i in range(2):\n",
    "        a = 5\n",
    "        a += 1\n",
    "        print(a, end='')\n",
    "        sub()\n",
    "a += 1\n",
    "func(1)"
   ]
  },
  {
   "cell_type": "code",
   "execution_count": 211,
   "id": "2378811b",
   "metadata": {},
   "outputs": [
    {
     "name": "stdout",
     "output_type": "stream",
     "text": [
      "100\n"
     ]
    }
   ],
   "source": [
    "var = 100\n",
    "def func(var):\n",
    "    var = 200\n",
    "func(var)\n",
    "print(var)"
   ]
  },
  {
   "cell_type": "code",
   "execution_count": 212,
   "id": "e50a3684",
   "metadata": {},
   "outputs": [
    {
     "ename": "SyntaxError",
     "evalue": "invalid syntax (1571017427.py, line 1)",
     "output_type": "error",
     "traceback": [
      "\u001b[1;36m  Cell \u001b[1;32mIn[212], line 1\u001b[1;36m\u001b[0m\n\u001b[1;33m    defmy_func(func, *args):\u001b[0m\n\u001b[1;37m                           ^\u001b[0m\n\u001b[1;31mSyntaxError\u001b[0m\u001b[1;31m:\u001b[0m invalid syntax\n"
     ]
    }
   ],
   "source": [
    "defmy_func(func, *args):\n",
    "    return func(*args)\n",
    "import numpyas np\n",
    "my_func(np.add, 2, 3)"
   ]
  },
  {
   "cell_type": "code",
   "execution_count": 213,
   "id": "332cb6c9",
   "metadata": {},
   "outputs": [
    {
     "data": {
      "text/plain": [
       "9"
      ]
     },
     "execution_count": 213,
     "metadata": {},
     "output_type": "execute_result"
    }
   ],
   "source": [
    "def my_func(func, *args):\n",
    "    return func(*args)\n",
    "my_func(lambda a, b : a**b, 3, 2)"
   ]
  },
  {
   "cell_type": "code",
   "execution_count": null,
   "id": "11d80d44",
   "metadata": {},
   "outputs": [],
   "source": []
  },
  {
   "cell_type": "code",
   "execution_count": null,
   "id": "bc0e4e95",
   "metadata": {},
   "outputs": [],
   "source": []
  },
  {
   "cell_type": "code",
   "execution_count": null,
   "id": "7476f586",
   "metadata": {},
   "outputs": [],
   "source": []
  },
  {
   "cell_type": "code",
   "execution_count": null,
   "id": "d699b877",
   "metadata": {},
   "outputs": [],
   "source": []
  }
 ],
 "metadata": {
  "kernelspec": {
   "display_name": "Python 3 (ipykernel)",
   "language": "python",
   "name": "python3"
  },
  "language_info": {
   "codemirror_mode": {
    "name": "ipython",
    "version": 3
   },
   "file_extension": ".py",
   "mimetype": "text/x-python",
   "name": "python",
   "nbconvert_exporter": "python",
   "pygments_lexer": "ipython3",
   "version": "3.10.9"
  },
  "toc": {
   "base_numbering": 1,
   "nav_menu": {},
   "number_sections": false,
   "sideBar": true,
   "skip_h1_title": false,
   "title_cell": "Table of Contents",
   "title_sidebar": "Contents",
   "toc_cell": false,
   "toc_position": {
    "height": "calc(100% - 180px)",
    "left": "10px",
    "top": "150px",
    "width": "165px"
   },
   "toc_section_display": true,
   "toc_window_display": true
  }
 },
 "nbformat": 4,
 "nbformat_minor": 5
}
