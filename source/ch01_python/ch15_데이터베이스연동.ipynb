{
 "cells": [
  {
   "cell_type": "code",
   "execution_count": 2,
   "id": "2284691a",
   "metadata": {},
   "outputs": [
    {
     "data": {
      "text/html": [
       "\n",
       "<style>\n",
       "div.container{width:98% !important;}\n",
       "div.cell.code_cell.rendered{width:100%;}\n",
       "div.input_prompt{padding:0px;}\n",
       "div.CodeMirror {font-family:Consolas; font-size:20pt;}\n",
       "div.text_cell_render.rendered_html{font-size:18pt;}\n",
       "div.text_cell_render.rendered_html{font-size:15pt;}\n",
       "div.output {font-size:18pt; font-weight:bold;}\n",
       "div.input {font-family:Consolas; font-size:18pt;}\n",
       "div.prompt {min-width:70px;}\n",
       "div#toc-wrapper{padding-top:120px;}\n",
       "div.text_cell_render ul li{font-size:18pt;padding:5px;}\n",
       "table.dataframe{font-size:18px;}\n",
       "</style>\n"
      ],
      "text/plain": [
       "<IPython.core.display.HTML object>"
      ]
     },
     "metadata": {},
     "output_type": "display_data"
    }
   ],
   "source": [
    "from IPython.display import display, HTML\n",
    "display(HTML(\"\"\"\n",
    "<style>\n",
    "div.container{width:98% !important;}\n",
    "div.cell.code_cell.rendered{width:100%;}\n",
    "div.input_prompt{padding:0px;}\n",
    "div.CodeMirror {font-family:Consolas; font-size:20pt;}\n",
    "div.text_cell_render.rendered_html{font-size:18pt;}\n",
    "div.text_cell_render.rendered_html{font-size:15pt;}\n",
    "div.output {font-size:18pt; font-weight:bold;}\n",
    "div.input {font-family:Consolas; font-size:18pt;}\n",
    "div.prompt {min-width:70px;}\n",
    "div#toc-wrapper{padding-top:120px;}\n",
    "div.text_cell_render ul li{font-size:18pt;padding:5px;}\n",
    "table.dataframe{font-size:18px;}\n",
    "</style>\n",
    "\"\"\"))"
   ]
  },
  {
   "cell_type": "markdown",
   "id": "99a7d7cd",
   "metadata": {},
   "source": [
    "<font color=\"red\" size=\"5\">ch15. 데이터베이스 연동</font>\n",
    "# 1절. SQLite 데이터 베이스 연동\n",
    "- SQLite 데이터베이스는 별도의 DBMS없이 SQL을 이용하여 DB 엑세스 가능한 디스크 기반 DB\n",
    "- SQLite는 프로토타입(시제품) 용도\n",
    "- 프로젝트 단계 : 분석 - 설계 - 구현 - 테스트 - 고객에게 배포 - 유지보수\n",
    "-                 SQLite    Oracle/MySql, MariaDB, ...\n",
    "- C 라이브러리\n",
    "- [db browser for sqlite](https://sqlitebrowser.org/)\n",
    "## 1.1 SQLite 패키지 load"
   ]
  },
  {
   "cell_type": "code",
   "execution_count": 4,
   "id": "13809cb4",
   "metadata": {},
   "outputs": [
    {
     "data": {
      "text/plain": [
       "'3.40.1'"
      ]
     },
     "execution_count": 4,
     "metadata": {},
     "output_type": "execute_result"
    }
   ],
   "source": [
    "import sqlite3\n",
    "sqlite3.sqlite_version"
   ]
  },
  {
   "cell_type": "code",
   "execution_count": 5,
   "id": "8c7bda4c",
   "metadata": {},
   "outputs": [
    {
     "data": {
      "text/plain": [
       "'1.5.3'"
      ]
     },
     "execution_count": 5,
     "metadata": {},
     "output_type": "execute_result"
    }
   ],
   "source": [
    "import pandas as pd\n",
    "pd.__version__"
   ]
  },
  {
   "cell_type": "markdown",
   "id": "1dc9be94",
   "metadata": {},
   "source": [
    "## 1.2 데이터 베이스 연결"
   ]
  },
  {
   "cell_type": "code",
   "execution_count": 6,
   "id": "eaa0d2ce",
   "metadata": {},
   "outputs": [
    {
     "data": {
      "text/plain": [
       "<sqlite3.Connection at 0x19dae0fde40>"
      ]
     },
     "execution_count": 6,
     "metadata": {},
     "output_type": "execute_result"
    }
   ],
   "source": [
    "# DB 연결\n",
    "conn = sqlite3.connect('data/ch15_exmple.db')\n",
    "conn"
   ]
  },
  {
   "cell_type": "code",
   "execution_count": 7,
   "id": "2c32dcd4",
   "metadata": {},
   "outputs": [
    {
     "data": {
      "text/plain": [
       "<sqlite3.Cursor at 0x19dae1d23c0>"
      ]
     },
     "execution_count": 7,
     "metadata": {},
     "output_type": "execute_result"
    }
   ],
   "source": [
    "# 커서객체(SQL문 실행->결과 조회) 생성\n",
    "cursor = conn.cursor()\n",
    "cursor"
   ]
  },
  {
   "cell_type": "code",
   "execution_count": 8,
   "id": "d0473e1b",
   "metadata": {},
   "outputs": [
    {
     "data": {
      "text/plain": [
       "<sqlite3.Cursor at 0x19dae1d23c0>"
      ]
     },
     "execution_count": 8,
     "metadata": {},
     "output_type": "execute_result"
    }
   ],
   "source": [
    "cursor.execute('''\n",
    "    CREATE TABLE MEMBER(\n",
    "        NAME TEXT,\n",
    "        AGE  INT,\n",
    "        EMAIL TEXT\n",
    "    )\n",
    "''')"
   ]
  },
  {
   "cell_type": "markdown",
   "id": "9d6e71f5",
   "metadata": {},
   "source": [
    "### insert, update, delete 전송"
   ]
  },
  {
   "cell_type": "code",
   "execution_count": 9,
   "id": "66fa457f",
   "metadata": {},
   "outputs": [
    {
     "name": "stdout",
     "output_type": "stream",
     "text": [
      "수행 결과 행수 : 1\n"
     ]
    }
   ],
   "source": [
    "cursor.execute('''\n",
    "    INSERT INTO MEMBER VALUES ('홍길동', 20, 'h@h.com')\n",
    "''')\n",
    "print('수행 결과 행수 :', cursor.rowcount)"
   ]
  },
  {
   "cell_type": "code",
   "execution_count": 12,
   "id": "fe9eeb28",
   "metadata": {},
   "outputs": [
    {
     "name": "stdout",
     "output_type": "stream",
     "text": [
      "INSERT INTO MEMBER VALUES ('김길동', 30, 'k@h.com')\n",
      "수행 결과 행수 : 1\n"
     ]
    }
   ],
   "source": [
    "sql = \"INSERT INTO MEMBER VALUES ('김길동', 30, 'k@h.com')\"\n",
    "print(sql)\n",
    "cursor.execute(sql)\n",
    "print('수행 결과 행수 :', cursor.rowcount)"
   ]
  },
  {
   "cell_type": "code",
   "execution_count": 13,
   "id": "97d543cb",
   "metadata": {},
   "outputs": [],
   "source": [
    "conn.commit() # (반) conn.rollback() DML에서만 가능"
   ]
  },
  {
   "cell_type": "markdown",
   "id": "95e4f649",
   "metadata": {},
   "source": [
    "### select 전송"
   ]
  },
  {
   "cell_type": "code",
   "execution_count": 14,
   "id": "6dac12b1",
   "metadata": {},
   "outputs": [
    {
     "data": {
      "text/plain": [
       "<sqlite3.Cursor at 0x19dae1d23c0>"
      ]
     },
     "execution_count": 14,
     "metadata": {},
     "output_type": "execute_result"
    }
   ],
   "source": [
    "cursor.execute('''\n",
    "    SELECT NAME, AGE+1 NEXTAGE, EMAIL FROM MEMBER\n",
    "''')"
   ]
  },
  {
   "cell_type": "code",
   "execution_count": null,
   "id": "5dad1ead",
   "metadata": {},
   "outputs": [],
   "source": [
    "# SELECT 전송\n",
    "#   select 문 실행결과를 받는 함수\n",
    "#    cursor.fetchone() : 결과를 한행씩 받을 때(튜플)\n",
    "#    cursor.fetchall() : 결과를 모두 받을 때 (튜플 list)\n",
    "#    cursor.fetchmany(n) : 결과를 n행 받을 때(튜플 list)\n",
    "#    cursor.description : header 내용을 포함한 내용들\n",
    "\n",
    "# INSERT, UPDATE, DELETE 전송 : cursor.rowcount"
   ]
  },
  {
   "cell_type": "code",
   "execution_count": null,
   "id": "91eb9120",
   "metadata": {},
   "outputs": [],
   "source": []
  },
  {
   "cell_type": "code",
   "execution_count": null,
   "id": "05067870",
   "metadata": {},
   "outputs": [],
   "source": []
  },
  {
   "cell_type": "code",
   "execution_count": null,
   "id": "5d048031",
   "metadata": {},
   "outputs": [],
   "source": []
  },
  {
   "cell_type": "code",
   "execution_count": null,
   "id": "5c1e85e9",
   "metadata": {},
   "outputs": [],
   "source": []
  },
  {
   "cell_type": "code",
   "execution_count": null,
   "id": "302408c7",
   "metadata": {},
   "outputs": [],
   "source": []
  },
  {
   "cell_type": "code",
   "execution_count": null,
   "id": "ac97accf",
   "metadata": {},
   "outputs": [],
   "source": []
  },
  {
   "cell_type": "code",
   "execution_count": null,
   "id": "b0b1097d",
   "metadata": {},
   "outputs": [],
   "source": []
  }
 ],
 "metadata": {
  "kernelspec": {
   "display_name": "Python 3 (ipykernel)",
   "language": "python",
   "name": "python3"
  },
  "language_info": {
   "codemirror_mode": {
    "name": "ipython",
    "version": 3
   },
   "file_extension": ".py",
   "mimetype": "text/x-python",
   "name": "python",
   "nbconvert_exporter": "python",
   "pygments_lexer": "ipython3",
   "version": "3.10.9"
  },
  "toc": {
   "base_numbering": 1,
   "nav_menu": {},
   "number_sections": false,
   "sideBar": true,
   "skip_h1_title": false,
   "title_cell": "Table of Contents",
   "title_sidebar": "Contents",
   "toc_cell": false,
   "toc_position": {
    "height": "calc(100% - 180px)",
    "left": "10px",
    "top": "150px",
    "width": "165px"
   },
   "toc_section_display": true,
   "toc_window_display": true
  }
 },
 "nbformat": 4,
 "nbformat_minor": 5
}
