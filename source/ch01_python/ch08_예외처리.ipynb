{
 "cells": [
  {
   "cell_type": "code",
   "execution_count": 1,
   "id": "676212ce",
   "metadata": {},
   "outputs": [
    {
     "data": {
      "text/html": [
       "\n",
       "<style>\n",
       "div.container{width:90% !important;}\n",
       "div.cell.code_cell.rendered{width:100%;}\n",
       "div.input_prompt{padding:0px;}\n",
       "div.CodeMirror {font-family:Consolas; font-size:11pt;}\n",
       "div.text_cell_render.rendered_html{font-size:11pt;}\n",
       "div.output {font-size:11pt; font-weight:bold;}\n",
       "div.input {font-family:Consolas; font-size:11pt;}\n",
       "div.prompt {min-width:70px;}\n",
       "div#toc-wrapper{padding-top:120px;}\n",
       "div.text_cell_render ul li{font-size:11pt;padding:5px;}\n",
       "table.dataframe{font-size:11px;}\n",
       "</style>\n"
      ],
      "text/plain": [
       "<IPython.core.display.HTML object>"
      ]
     },
     "metadata": {},
     "output_type": "display_data"
    }
   ],
   "source": [
    "from IPython.display import display, HTML\n",
    "display(HTML(\"\"\"\n",
    "<style>\n",
    "div.container{width:90% !important;}\n",
    "div.cell.code_cell.rendered{width:100%;}\n",
    "div.input_prompt{padding:0px;}\n",
    "div.CodeMirror {font-family:Consolas; font-size:11pt;}\n",
    "div.text_cell_render.rendered_html{font-size:11pt;}\n",
    "div.output {font-size:11pt; font-weight:bold;}\n",
    "div.input {font-family:Consolas; font-size:11pt;}\n",
    "div.prompt {min-width:70px;}\n",
    "div#toc-wrapper{padding-top:120px;}\n",
    "div.text_cell_render ul li{font-size:11pt;padding:5px;}\n",
    "table.dataframe{font-size:11px;}\n",
    "</style>\n",
    "\"\"\"))"
   ]
  },
  {
   "cell_type": "markdown",
   "id": "6266eb88",
   "metadata": {},
   "source": [
    "<b><font size=\"5\" color=\"red\">ch08. 예외처리</font></b>\n",
    "# 1절. 예외처리\n",
    "- 예외가 갈 가능성이 있는 부분에 대해 미리 예상하고, 그에 대한 처리를 프로그래밍하는 것(이유 : 좀 더 안정적으로 실행)\n",
    "```\n",
    "ex. 파일을 다룰 때 : 파일이 없거나, 쓰기 금지로 인한 오류\n",
    "ex. 데이터베이스 프로그래밍 시 제약조건 등으로 CRUD(CREATE, READ, UPDATE, DELETE) 오류\n",
    "ex. 네트워크 프로그래밍 시 일시적인 네크워크 장애시 연결 실패 오류\n",
    "ex. 리스트나 튜플의 인덱스를 벗어난 오류\n",
    "```"
   ]
  },
  {
   "cell_type": "code",
   "execution_count": 2,
   "id": "0301de73",
   "metadata": {},
   "outputs": [
    {
     "name": "stdout",
     "output_type": "stream",
     "text": [
      "파일명(ch08.txt)?ch08.txt\n"
     ]
    },
    {
     "data": {
      "text/plain": [
       "'Hello\\nWorld'"
      ]
     },
     "execution_count": 2,
     "metadata": {},
     "output_type": "execute_result"
    }
   ],
   "source": [
    "filename = input('파일명(ch08.txt)?')\n",
    "f = open('data/'+filename, 'r') # 읽기 전용으로 파일을 열기\n",
    "print(f.read())\n",
    "f.close()"
   ]
  },
  {
   "cell_type": "code",
   "execution_count": 6,
   "id": "09823941",
   "metadata": {},
   "outputs": [
    {
     "ename": "IndexError",
     "evalue": "list index out of range",
     "output_type": "error",
     "traceback": [
      "\u001b[1;31m---------------------------------------------------------------------------\u001b[0m",
      "\u001b[1;31mIndexError\u001b[0m                                Traceback (most recent call last)",
      "Cell \u001b[1;32mIn[6], line 2\u001b[0m\n\u001b[0;32m      1\u001b[0m a \u001b[38;5;241m=\u001b[39m [\u001b[38;5;241m1\u001b[39m, \u001b[38;5;241m2\u001b[39m, \u001b[38;5;241m3\u001b[39m]\n\u001b[1;32m----> 2\u001b[0m \u001b[43ma\u001b[49m\u001b[43m \u001b[49m\u001b[43m[\u001b[49m\u001b[38;5;241;43m3\u001b[39;49m\u001b[43m]\u001b[49m\n",
      "\u001b[1;31mIndexError\u001b[0m: list index out of range"
     ]
    }
   ],
   "source": [
    "a = [1, 2, 3]\n",
    "a [3]"
   ]
  },
  {
   "cell_type": "markdown",
   "id": "4f69431b",
   "metadata": {},
   "source": [
    "# 2절. try~except 로 예외처리\n",
    "## 2.1 try~except\n",
    "```\n",
    "try:\n",
    "    예외가 발생할 가능성이 있는 명령어들\n",
    "except :\n",
    "    예외가 발생했을 경우 실행할 명령어들\n",
    "```"
   ]
  },
  {
   "cell_type": "code",
   "execution_count": 9,
   "id": "afa79db2",
   "metadata": {},
   "outputs": [
    {
     "name": "stdout",
     "output_type": "stream",
     "text": [
      "정수를 입력하세요 :a\n"
     ]
    },
    {
     "ename": "ValueError",
     "evalue": "invalid literal for int() with base 10: 'a'",
     "output_type": "error",
     "traceback": [
      "\u001b[1;31m---------------------------------------------------------------------------\u001b[0m",
      "\u001b[1;31mValueError\u001b[0m                                Traceback (most recent call last)",
      "Cell \u001b[1;32mIn[9], line 3\u001b[0m\n\u001b[0;32m      1\u001b[0m \u001b[38;5;66;03m# 100을 입력받은 정수값으로 나워 출력\u001b[39;00m\n\u001b[0;32m      2\u001b[0m \u001b[38;5;66;03m# ZeroDivisionError: division by zero\u001b[39;00m\n\u001b[1;32m----> 3\u001b[0m x \u001b[38;5;241m=\u001b[39m \u001b[38;5;28;43mint\u001b[39;49m\u001b[43m(\u001b[49m\u001b[38;5;28;43minput\u001b[39;49m\u001b[43m(\u001b[49m\u001b[38;5;124;43m'\u001b[39;49m\u001b[38;5;124;43m정수를 입력하세요 :\u001b[39;49m\u001b[38;5;124;43m'\u001b[39;49m\u001b[43m)\u001b[49m\u001b[43m)\u001b[49m\n\u001b[0;32m      4\u001b[0m \u001b[38;5;28mprint\u001b[39m(\u001b[38;5;124m'\u001b[39m\u001b[38;5;124m100을 입력한 정수를 나누면 \u001b[39m\u001b[38;5;132;01m{:.3f}\u001b[39;00m\u001b[38;5;124m \u001b[39m\u001b[38;5;124m'\u001b[39m\u001b[38;5;241m.\u001b[39mformat(\u001b[38;5;241m100\u001b[39m\u001b[38;5;241m/\u001b[39mx))\n",
      "\u001b[1;31mValueError\u001b[0m: invalid literal for int() with base 10: 'a'"
     ]
    }
   ],
   "source": [
    "# 100을 입력받은 정수값으로 나워 출력\n",
    "# ZeroDivisionError: division by zero\n",
    "# ValueError: invalid literal for int() with base 10: 'a'\n",
    "x = int(input('정수를 입력하세요 :'))\n",
    "print('100을 입력한 정수를 나누면 {:.3f} '.format(100/x))"
   ]
  },
  {
   "cell_type": "code",
   "execution_count": 14,
   "id": "bd58a788",
   "metadata": {},
   "outputs": [
    {
     "name": "stdout",
     "output_type": "stream",
     "text": [
      "정수를 입력하세요 :2\n",
      "x값 입력 받음 2\n",
      "100을 입력한 정수를 나누면 50.000 \n",
      "예외가 발생 안 됨\n"
     ]
    }
   ],
   "source": [
    "# 100을 입력받은 정수값으로 나워 출력\n",
    "# ZeroDivisionError: division by zero\n",
    "# ValueError: invalid literal for int() with base 10: 'a'\n",
    "try:\n",
    "    x = int(input('정수를 입력하세요 :'))\n",
    "    print('x값 입력 받음', x)\n",
    "    print('100을 입력한 정수를 나누면 {:.3f} '.format(100/x))\n",
    "    print('예외가 발생 안 됨')\n",
    "except:\n",
    "    print('유효한 정수가 아닙니다')"
   ]
  },
  {
   "cell_type": "code",
   "execution_count": 15,
   "id": "15b946a2",
   "metadata": {},
   "outputs": [
    {
     "data": {
      "text/plain": [
       "30"
      ]
     },
     "execution_count": 15,
     "metadata": {},
     "output_type": "execute_result"
    }
   ],
   "source": [
    "# 100을 나눌 유효한 정수를 입력할 떼가지 입력받아\n",
    "# 유효한 정수를 입력하면, 100 을 입력한 수로 나눈 결과를 출력\n",
    "# 나눈 결과가 .0으로 끝나면 정수를  결과 출력/ .0으로 끝나지 않으면 소수점 2자리까지 출력\n",
    "round(30.3)"
   ]
  },
  {
   "cell_type": "code",
   "execution_count": null,
   "id": "22eb0a17",
   "metadata": {},
   "outputs": [],
   "source": [
    "try:\n",
    "    while True:\n",
    "        num = (input('정수를 입력하세요 :'))\n",
    "        if num=True:\n",
    "            print('x값 입력 받음', x)\n",
    "            print('100을 입력한 정수를 나누면 {:.3f} '.format(100/x))\n",
    "            print('예외가 발생 안 됨')\n",
    "        \n"
   ]
  },
  {
   "cell_type": "code",
   "execution_count": 16,
   "id": "480c61bb",
   "metadata": {},
   "outputs": [
    {
     "name": "stdout",
     "output_type": "stream",
     "text": [
      "정수를 입력하세요 :a\n",
      "유효한 정수를 입력하세요\n"
     ]
    }
   ],
   "source": [
    "try:\n",
    "    while True:\n",
    "        x = int(input('정수를 입력하세요 :'))\n",
    "        result = 100/x\n",
    "        result = f'{100/x:.0f}' if round(result)==result else f'{100/x:.2f}'\n",
    "        print('{:.0f}'.format(result))\n",
    "except:\n",
    "    print('유효한 정수를 입력하세요')"
   ]
  },
  {
   "cell_type": "code",
   "execution_count": 1,
   "id": "d4299e2a",
   "metadata": {},
   "outputs": [
    {
     "name": "stdout",
     "output_type": "stream",
     "text": [
      "정수를 입력하세요 :2\n",
      "50\n"
     ]
    }
   ],
   "source": [
    "while True:\n",
    "    try:\n",
    "        x = int(input('정수를 입력하세요 :'))\n",
    "        result = 100/x\n",
    "        result = f'{100/x:.0f}' if round(result)==result else f'{100/x:.2f}'\n",
    "        print(result)\n",
    "        break\n",
    "    except:\n",
    "        print('유효한 정수를 입력하세요')"
   ]
  },
  {
   "cell_type": "markdown",
   "id": "e6c317b0",
   "metadata": {},
   "source": [
    "## 2.2 예외를 지정한 처리\n",
    "```\n",
    "try:\n",
    "    예외가 발생할 수 도 있는 문장들\n",
    "except 예외타입1:\n",
    "    해당 예외사 발생할 경우 실핼할 문장\n",
    "except 예외타입2\n",
    "    해당 예외사 발생할 경우 실핼할 문장\n",
    "```"
   ]
  },
  {
   "cell_type": "code",
   "execution_count": 6,
   "id": "1e6cba3e",
   "metadata": {},
   "outputs": [
    {
     "name": "stdout",
     "output_type": "stream",
     "text": [
      "정수를 입력하세요 :a\n",
      "유효한 정수를 입력하세요\n",
      "정수를 입력하세요 :0\n",
      "0으로 나눌 수 없어요\n",
      "정수를 입력하세요 :2\n",
      "50\n"
     ]
    }
   ],
   "source": [
    "while True:    \n",
    "    try:\n",
    "        x = int(input('정수를 입력하세요 :'))\n",
    "        result = 100/x\n",
    "        result = f'{100/x:.0f}' if round(result)==result else f'{100/x:.2f}'\n",
    "        print(result)\n",
    "        break\n",
    "    except ValueError:\n",
    "        print('유효한 정수를 입력하세요')\n",
    "    except ZeroDivisionError:\n",
    "        print('0으로 나눌 수 없어요')\n",
    "    except Exception:\n",
    "        # except 절이 많은 경우 하위 클래스(자식클래스)가 위에 나와야 함\n",
    "        print('그 외 다른 예외. 다시 시도 하세요')"
   ]
  },
  {
   "cell_type": "code",
   "execution_count": null,
   "id": "88b95bb5",
   "metadata": {},
   "outputs": [],
   "source": [
    "while True:    \n",
    "    try:\n",
    "        x = int(input('정수를 입력하세요 :'))\n",
    "        result = 100/x\n",
    "        result = f'{100/x:.0f}' if round(result)==result else f'{100/x:.2f}'\n",
    "        print(result)\n",
    "        break\n",
    "    except (ValueError, ZeroDivisionError):\n",
    "        print('제대로 입력하세요')\n",
    "    except Exception:\n",
    "        # except 절이 많은 경우 하위 클래스(자식클래스)가 위에 나와야 함\n",
    "        print('다시 시도 하세요')"
   ]
  },
  {
   "cell_type": "markdown",
   "id": "c3cb6667",
   "metadata": {},
   "source": [
    "## 2.3 예외메세지(예외인수)"
   ]
  },
  {
   "cell_type": "code",
   "execution_count": 10,
   "id": "e6f1d38f",
   "metadata": {},
   "outputs": [
    {
     "name": "stdout",
     "output_type": "stream",
     "text": [
      "정수를 입력하세요 :a\n",
      "invalid literal for int() with base 10: 'a'\n",
      "<class 'ValueError'>\n",
      "예외메세지 : (\"invalid literal for int() with base 10: 'a'\",)\n",
      "예외메세지 : invalid literal for int() with base 10: 'a'\n"
     ]
    },
    {
     "ename": "KeyboardInterrupt",
     "evalue": "Interrupted by user",
     "output_type": "error",
     "traceback": [
      "\u001b[1;31m---------------------------------------------------------------------------\u001b[0m",
      "\u001b[1;31mKeyboardInterrupt\u001b[0m                         Traceback (most recent call last)",
      "Cell \u001b[1;32mIn[10], line 3\u001b[0m\n\u001b[0;32m      1\u001b[0m \u001b[38;5;28;01mwhile\u001b[39;00m \u001b[38;5;28;01mTrue\u001b[39;00m:    \n\u001b[0;32m      2\u001b[0m     \u001b[38;5;28;01mtry\u001b[39;00m:\n\u001b[1;32m----> 3\u001b[0m         x \u001b[38;5;241m=\u001b[39m \u001b[38;5;28mint\u001b[39m(\u001b[38;5;28;43minput\u001b[39;49m\u001b[43m(\u001b[49m\u001b[38;5;124;43m'\u001b[39;49m\u001b[38;5;124;43m정수를 입력하세요 :\u001b[39;49m\u001b[38;5;124;43m'\u001b[39;49m\u001b[43m)\u001b[49m)\n\u001b[0;32m      4\u001b[0m         result \u001b[38;5;241m=\u001b[39m \u001b[38;5;241m100\u001b[39m\u001b[38;5;241m/\u001b[39mx\n\u001b[0;32m      5\u001b[0m         result \u001b[38;5;241m=\u001b[39m \u001b[38;5;124mf\u001b[39m\u001b[38;5;124m'\u001b[39m\u001b[38;5;132;01m{\u001b[39;00m\u001b[38;5;241m100\u001b[39m\u001b[38;5;241m/\u001b[39mx\u001b[38;5;132;01m:\u001b[39;00m\u001b[38;5;124m.0f\u001b[39m\u001b[38;5;132;01m}\u001b[39;00m\u001b[38;5;124m'\u001b[39m \u001b[38;5;28;01mif\u001b[39;00m \u001b[38;5;28mround\u001b[39m(result)\u001b[38;5;241m==\u001b[39mresult \u001b[38;5;28;01melse\u001b[39;00m \u001b[38;5;124mf\u001b[39m\u001b[38;5;124m'\u001b[39m\u001b[38;5;132;01m{\u001b[39;00m\u001b[38;5;241m100\u001b[39m\u001b[38;5;241m/\u001b[39mx\u001b[38;5;132;01m:\u001b[39;00m\u001b[38;5;124m.2f\u001b[39m\u001b[38;5;132;01m}\u001b[39;00m\u001b[38;5;124m'\u001b[39m\n",
      "File \u001b[1;32m~\\anaconda3\\lib\\site-packages\\ipykernel\\kernelbase.py:1175\u001b[0m, in \u001b[0;36mKernel.raw_input\u001b[1;34m(self, prompt)\u001b[0m\n\u001b[0;32m   1171\u001b[0m \u001b[38;5;28;01mif\u001b[39;00m \u001b[38;5;129;01mnot\u001b[39;00m \u001b[38;5;28mself\u001b[39m\u001b[38;5;241m.\u001b[39m_allow_stdin:\n\u001b[0;32m   1172\u001b[0m     \u001b[38;5;28;01mraise\u001b[39;00m StdinNotImplementedError(\n\u001b[0;32m   1173\u001b[0m         \u001b[38;5;124m\"\u001b[39m\u001b[38;5;124mraw_input was called, but this frontend does not support input requests.\u001b[39m\u001b[38;5;124m\"\u001b[39m\n\u001b[0;32m   1174\u001b[0m     )\n\u001b[1;32m-> 1175\u001b[0m \u001b[38;5;28;01mreturn\u001b[39;00m \u001b[38;5;28;43mself\u001b[39;49m\u001b[38;5;241;43m.\u001b[39;49m\u001b[43m_input_request\u001b[49m\u001b[43m(\u001b[49m\n\u001b[0;32m   1176\u001b[0m \u001b[43m    \u001b[49m\u001b[38;5;28;43mstr\u001b[39;49m\u001b[43m(\u001b[49m\u001b[43mprompt\u001b[49m\u001b[43m)\u001b[49m\u001b[43m,\u001b[49m\n\u001b[0;32m   1177\u001b[0m \u001b[43m    \u001b[49m\u001b[38;5;28;43mself\u001b[39;49m\u001b[38;5;241;43m.\u001b[39;49m\u001b[43m_parent_ident\u001b[49m\u001b[43m[\u001b[49m\u001b[38;5;124;43m\"\u001b[39;49m\u001b[38;5;124;43mshell\u001b[39;49m\u001b[38;5;124;43m\"\u001b[39;49m\u001b[43m]\u001b[49m\u001b[43m,\u001b[49m\n\u001b[0;32m   1178\u001b[0m \u001b[43m    \u001b[49m\u001b[38;5;28;43mself\u001b[39;49m\u001b[38;5;241;43m.\u001b[39;49m\u001b[43mget_parent\u001b[49m\u001b[43m(\u001b[49m\u001b[38;5;124;43m\"\u001b[39;49m\u001b[38;5;124;43mshell\u001b[39;49m\u001b[38;5;124;43m\"\u001b[39;49m\u001b[43m)\u001b[49m\u001b[43m,\u001b[49m\n\u001b[0;32m   1179\u001b[0m \u001b[43m    \u001b[49m\u001b[43mpassword\u001b[49m\u001b[38;5;241;43m=\u001b[39;49m\u001b[38;5;28;43;01mFalse\u001b[39;49;00m\u001b[43m,\u001b[49m\n\u001b[0;32m   1180\u001b[0m \u001b[43m\u001b[49m\u001b[43m)\u001b[49m\n",
      "File \u001b[1;32m~\\anaconda3\\lib\\site-packages\\ipykernel\\kernelbase.py:1217\u001b[0m, in \u001b[0;36mKernel._input_request\u001b[1;34m(self, prompt, ident, parent, password)\u001b[0m\n\u001b[0;32m   1214\u001b[0m             \u001b[38;5;28;01mbreak\u001b[39;00m\n\u001b[0;32m   1215\u001b[0m \u001b[38;5;28;01mexcept\u001b[39;00m \u001b[38;5;167;01mKeyboardInterrupt\u001b[39;00m:\n\u001b[0;32m   1216\u001b[0m     \u001b[38;5;66;03m# re-raise KeyboardInterrupt, to truncate traceback\u001b[39;00m\n\u001b[1;32m-> 1217\u001b[0m     \u001b[38;5;28;01mraise\u001b[39;00m \u001b[38;5;167;01mKeyboardInterrupt\u001b[39;00m(\u001b[38;5;124m\"\u001b[39m\u001b[38;5;124mInterrupted by user\u001b[39m\u001b[38;5;124m\"\u001b[39m) \u001b[38;5;28;01mfrom\u001b[39;00m \u001b[38;5;28mNone\u001b[39m\n\u001b[0;32m   1218\u001b[0m \u001b[38;5;28;01mexcept\u001b[39;00m \u001b[38;5;167;01mException\u001b[39;00m:\n\u001b[0;32m   1219\u001b[0m     \u001b[38;5;28mself\u001b[39m\u001b[38;5;241m.\u001b[39mlog\u001b[38;5;241m.\u001b[39mwarning(\u001b[38;5;124m\"\u001b[39m\u001b[38;5;124mInvalid Message:\u001b[39m\u001b[38;5;124m\"\u001b[39m, exc_info\u001b[38;5;241m=\u001b[39m\u001b[38;5;28;01mTrue\u001b[39;00m)\n",
      "\u001b[1;31mKeyboardInterrupt\u001b[0m: Interrupted by user"
     ]
    }
   ],
   "source": [
    "while True:    \n",
    "    try:\n",
    "        x = int(input('정수를 입력하세요 :'))\n",
    "        result = 100/x\n",
    "        result = f'{100/x:.0f}' if round(result)==result else f'{100/x:.2f}'\n",
    "        print(result)\n",
    "        break\n",
    "    except (ValueError,ZeroDivisionError) as e:\n",
    "        print(e) # e.__str__() : 예외메세지\n",
    "        print(type(e))\n",
    "        print('예외메세지 :', e.args)\n",
    "        print('예외메세지 :', e.args[0])\n",
    "    except Exception:\n",
    "        # except 절이 많은 경우 하위 클래스(자식클래스)가 위에 나와야 함\n",
    "        print('다시 시도 하세요')"
   ]
  },
  {
   "cell_type": "markdown",
   "id": "0fcf0452",
   "metadata": {},
   "source": [
    "pdf(p.12)\n",
    "```\n",
    "tyr:\n",
    "    예외가 발생할 수도 있는 구문\n",
    "except [예외타입 as e]:\n",
    "    예외가 발생되면 수행할 구문\n",
    "else:\n",
    "    try절을 수행하다 예외사 발생 안되면 else절을 한번 수행\n",
    "finally:\n",
    "    예외거 발생 안 하면 tyr-else-finally 절 수행\n",
    "    예외가 발생하면 try수행 중 excep - finally절 수행\n",
    "```"
   ]
  },
  {
   "cell_type": "code",
   "execution_count": 11,
   "id": "47f4426b",
   "metadata": {},
   "outputs": [
    {
     "name": "stdout",
     "output_type": "stream",
     "text": [
      "Hello\n",
      "World\n"
     ]
    }
   ],
   "source": [
    "try:\n",
    "    f = open(f'data\\ch08.txt', 'r')\n",
    "except FileNotFoundError as e:\n",
    "    print(e)\n",
    "    print('해당 파일이 없습니다')\n",
    "else:\n",
    "    data = f.read()\n",
    "    print(data)\n",
    "finally:\n",
    "    f.close()"
   ]
  },
  {
   "cell_type": "code",
   "execution_count": 16,
   "id": "a418f50c",
   "metadata": {},
   "outputs": [
    {
     "name": "stdout",
     "output_type": "stream",
     "text": [
      "Hello\n",
      "World\n",
      "반드시 실행\n"
     ]
    }
   ],
   "source": [
    "try:\n",
    "    f = open(f'data\\ch08.txt', 'r')\n",
    "    data = f.read()\n",
    "    print(data)\n",
    "except FileNotFoundError as e:\n",
    "    print(e)\n",
    "    print('해당 파일이 없습니다')\n",
    "finally:\n",
    "    print('반드시 실행')\n",
    "    f.close()"
   ]
  },
  {
   "cell_type": "markdown",
   "id": "c212ef6b",
   "metadata": {},
   "source": [
    "# 3절. raise\n",
    "- 강제 예외 발생"
   ]
  },
  {
   "cell_type": "code",
   "execution_count": 17,
   "id": "164ff1c9",
   "metadata": {},
   "outputs": [
    {
     "ename": "NameError",
     "evalue": "예외 발생함",
     "output_type": "error",
     "traceback": [
      "\u001b[1;31m---------------------------------------------------------------------------\u001b[0m",
      "\u001b[1;31mNameError\u001b[0m                                 Traceback (most recent call last)",
      "Cell \u001b[1;32mIn[17], line 1\u001b[0m\n\u001b[1;32m----> 1\u001b[0m \u001b[38;5;28;01mraise\u001b[39;00m \u001b[38;5;167;01mNameError\u001b[39;00m(\u001b[38;5;124m'\u001b[39m\u001b[38;5;124m예외 발생함\u001b[39m\u001b[38;5;124m'\u001b[39m)\n",
      "\u001b[1;31mNameError\u001b[0m: 예외 발생함"
     ]
    }
   ],
   "source": [
    "raise NameError('예외 발생함')"
   ]
  },
  {
   "cell_type": "code",
   "execution_count": 18,
   "id": "c63b3ee4",
   "metadata": {},
   "outputs": [],
   "source": [
    "# 사용자 정의 예외 : Exception 클래스 또는 그 하위 클래스를 상속받아 구현\n",
    "class LengthZeroError(Exception):\n",
    "    '길이가 0일떄 발생할 예외'\n",
    "    pass\n",
    "#     def __init__(self, message):\n",
    "#         self.message = message"
   ]
  },
  {
   "cell_type": "code",
   "execution_count": 19,
   "id": "0d7e8d30",
   "metadata": {},
   "outputs": [],
   "source": [
    "def insert(*data): # 튜플 매개변수\n",
    "    if len(data)==0:\n",
    "        raise LengthZeroError('매개변수가 0인 예외입니다')\n",
    "    for item in data:\n",
    "        print(item, end=' ')\n",
    "    print('등을 입력하셨습니다')"
   ]
  },
  {
   "cell_type": "code",
   "execution_count": 24,
   "id": "4f258cf0",
   "metadata": {},
   "outputs": [
    {
     "name": "stdout",
     "output_type": "stream",
     "text": [
      "매개변수가 0인 예외입니다\n",
      "무조건 실행하는 부문 DONE\n"
     ]
    }
   ],
   "source": [
    "data = []\n",
    "try:\n",
    "    insert(*data)\n",
    "except LengthZeroError as e:\n",
    "    print(e)\n",
    "finally:\n",
    "    print('무조건 실행하는 부문 DONE')"
   ]
  },
  {
   "cell_type": "markdown",
   "id": "1fee03ed",
   "metadata": {},
   "source": [
    "# 4절. 추상클래스\n",
    "- 추상클래스 : 객체를 생성할 수 없는 클래스. 상속받을 클래스의 포맷 제공\n",
    "- 추상메소드 : 호출할 수 없는 메소드."
   ]
  },
  {
   "cell_type": "code",
   "execution_count": 25,
   "id": "1943f8a3",
   "metadata": {},
   "outputs": [],
   "source": [
    "# Shape 클래스 : 객체를 만드는게 목적이 아니고, 자식클래스(서브클래스)를 잘 만들게 목적\n",
    "# Shape 클래스를 상속받은 클래스들의 표준 제시\n",
    "class Shape:\n",
    "    def __init__(self):\n",
    "        raise NotImplementedError('추상 클래스 역활')\n",
    "    def calc_area(self):\n",
    "        raise NotImplementedError('추상 클래스 역활')"
   ]
  },
  {
   "cell_type": "code",
   "execution_count": 27,
   "id": "5975f37e",
   "metadata": {},
   "outputs": [
    {
     "data": {
      "text/plain": [
       "28.259999999999998"
      ]
     },
     "execution_count": 27,
     "metadata": {},
     "output_type": "execute_result"
    }
   ],
   "source": [
    "# s = Shape()\n",
    "class Circle(Shape):\n",
    "    def __init__(self, r=3):\n",
    "        self.r = r\n",
    "    def calc_area(self):\n",
    "        return 3.14*self.r*self.r\n",
    "c = Circle(3)\n",
    "c.calc_area()"
   ]
  },
  {
   "cell_type": "markdown",
   "id": "119f1f21",
   "metadata": {},
   "source": [
    "# 5절. 파일 정리 작업(with 절 이용)"
   ]
  },
  {
   "cell_type": "code",
   "execution_count": 28,
   "id": "494a7afc",
   "metadata": {},
   "outputs": [
    {
     "name": "stdout",
     "output_type": "stream",
     "text": [
      "Hello\n",
      "World\n"
     ]
    }
   ],
   "source": [
    "f = open('data\\ch08.txt', 'r')\n",
    "print(f.read())\n",
    "f.close()"
   ]
  },
  {
   "cell_type": "code",
   "execution_count": null,
   "id": "c08b9456",
   "metadata": {},
   "outputs": [],
   "source": [
    "with open('data/ch08.txt', 'r') as f:\n",
    "    print(f.read())\n",
    "# with 절 이후에는 자동 close() 실행"
   ]
  },
  {
   "cell_type": "markdown",
   "id": "0d990267",
   "metadata": {},
   "source": [
    "# 6절. 연습문제"
   ]
  },
  {
   "cell_type": "code",
   "execution_count": 13,
   "id": "26841008",
   "metadata": {},
   "outputs": [
    {
     "name": "stdout",
     "output_type": "stream",
     "text": [
      "첫번째 숫자를 입력하세요 : 30\n",
      "두번째 숫자를 입력하세요 : 13\n",
      "입력한 수는 30.0와 13.0.\n",
      "30.0을 13.0로 나누면 2.31입니다.\n"
     ]
    }
   ],
   "source": [
    "# 1.\n",
    "# ValueError, ZeroDivisionError\n",
    "while True:\n",
    "    try:\n",
    "        num1 = float(input('첫번째 숫자를 입력하세요 : '))\n",
    "        num2 = float(input('두번째 숫자를 입력하세요 : '))\n",
    "        print('입력한 수는 {}와 {}.'.format(num1, num2))\n",
    "        print('{}을 {}로 나누면 {:.2f}입니다.'.format(num1, num2, num1/num2))\n",
    "        break\n",
    "    except:\n",
    "        print('유효안 숫자가 아닙니다, 다시 시도하세요.')"
   ]
  },
  {
   "cell_type": "code",
   "execution_count": 26,
   "id": "f5a28a76",
   "metadata": {},
   "outputs": [
    {
     "name": "stdout",
     "output_type": "stream",
     "text": [
      "첫번째 숫자를 입력하세요 : 999\n",
      "두번째 숫자를 입력하세요 : 13\n",
      "입력한 수는 999.0와 13.0.\n",
      "999.0을 13.0로 나누면 76.84615384615384입니다.\n"
     ]
    }
   ],
   "source": [
    "while True:\n",
    "    try:\n",
    "        num1 = float(input('첫번째 숫자를 입력하세요 : '))\n",
    "        num2 = float(input('두번째 숫자를 입력하세요 : '))\n",
    "        print('입력한 수는 {}와 {}.'.format(num1, num2))\n",
    "        print('{}을 {}로 나누면 {}입니다.'.format(num1, num2, num1/num2))\n",
    "        break\n",
    "    except ValueError as v:\n",
    "        print('유효안 숫자가 아닙니다, 다시 시도하세요.')\n",
    "        print(v)\n",
    "    except ZeroDivisionError as z:\n",
    "        print('0으로 나눌수 없습니다. 다시 시도하세요.')\n",
    "        print(z)\n",
    "    except Exception:\n",
    "        print('유효안 숫자가 아닙니다, 다시 시도하세요.')"
   ]
  },
  {
   "cell_type": "code",
   "execution_count": 27,
   "id": "ef757d22",
   "metadata": {},
   "outputs": [
    {
     "ename": "SyntaxError",
     "evalue": "incomplete input (3651457359.py, line 7)",
     "output_type": "error",
     "traceback": [
      "\u001b[1;36m  Cell \u001b[1;32mIn[27], line 7\u001b[1;36m\u001b[0m\n\u001b[1;33m    \u001b[0m\n\u001b[1;37m    ^\u001b[0m\n\u001b[1;31mSyntaxError\u001b[0m\u001b[1;31m:\u001b[0m incomplete input\n"
     ]
    }
   ],
   "source": [
    "while True:\n",
    "    try:\n",
    "        ids = (input('아이디를 입력하세요 : '))\n",
    "        pas = (input('비밀번호를 입력하세요 : '))\n",
    "        loge_list[0] != ids\n",
    "        \n",
    "        loge_list.append(ids)\n",
    "        "
   ]
  },
  {
   "cell_type": "code",
   "execution_count": 28,
   "id": "caea55b3",
   "metadata": {},
   "outputs": [
    {
     "name": "stdout",
     "output_type": "stream",
     "text": [
      "{0: 'A', 1: 'B', 2: 'C'}\n"
     ]
    }
   ],
   "source": [
    "string_list = ['A','B','C']\n",
    "dictionary = {i : string_list[i] for i in range(len(string_list))}\n",
    "print(dictionary)"
   ]
  },
  {
   "cell_type": "code",
   "execution_count": 18,
   "id": "917ae826",
   "metadata": {},
   "outputs": [],
   "source": [
    "# 1. (3)\n",
    "# 2. (2)\n",
    "# 3. (4)\n",
    "# 4. (3)"
   ]
  },
  {
   "cell_type": "code",
   "execution_count": null,
   "id": "842425bd",
   "metadata": {},
   "outputs": [],
   "source": []
  },
  {
   "cell_type": "code",
   "execution_count": null,
   "id": "d83c59af",
   "metadata": {},
   "outputs": [],
   "source": []
  },
  {
   "cell_type": "code",
   "execution_count": null,
   "id": "67d4876d",
   "metadata": {},
   "outputs": [],
   "source": []
  },
  {
   "cell_type": "code",
   "execution_count": null,
   "id": "16c1602e",
   "metadata": {},
   "outputs": [],
   "source": []
  },
  {
   "cell_type": "code",
   "execution_count": null,
   "id": "aab4beb9",
   "metadata": {},
   "outputs": [],
   "source": []
  },
  {
   "cell_type": "code",
   "execution_count": null,
   "id": "c29cc3ee",
   "metadata": {},
   "outputs": [],
   "source": []
  },
  {
   "cell_type": "code",
   "execution_count": null,
   "id": "51aaab06",
   "metadata": {},
   "outputs": [],
   "source": []
  },
  {
   "cell_type": "code",
   "execution_count": null,
   "id": "40e522e6",
   "metadata": {},
   "outputs": [],
   "source": []
  },
  {
   "cell_type": "code",
   "execution_count": null,
   "id": "55826907",
   "metadata": {},
   "outputs": [],
   "source": []
  }
 ],
 "metadata": {
  "kernelspec": {
   "display_name": "Python 3 (ipykernel)",
   "language": "python",
   "name": "python3"
  },
  "language_info": {
   "codemirror_mode": {
    "name": "ipython",
    "version": 3
   },
   "file_extension": ".py",
   "mimetype": "text/x-python",
   "name": "python",
   "nbconvert_exporter": "python",
   "pygments_lexer": "ipython3",
   "version": "3.10.9"
  },
  "toc": {
   "base_numbering": 1,
   "nav_menu": {},
   "number_sections": false,
   "sideBar": true,
   "skip_h1_title": false,
   "title_cell": "Table of Contents",
   "title_sidebar": "Contents",
   "toc_cell": false,
   "toc_position": {
    "height": "calc(100% - 180px)",
    "left": "10px",
    "top": "150px",
    "width": "165px"
   },
   "toc_section_display": true,
   "toc_window_display": true
  }
 },
 "nbformat": 4,
 "nbformat_minor": 5
}
