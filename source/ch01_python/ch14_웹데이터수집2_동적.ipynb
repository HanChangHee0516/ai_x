{
 "cells": [
  {
   "cell_type": "code",
   "execution_count": 1,
   "id": "bf4f7168",
   "metadata": {},
   "outputs": [
    {
     "data": {
      "text/html": [
       "\n",
       "<style>\n",
       "div.container{width:90% !important;}\n",
       "div.cell.code_cell.rendered{width:100%;}\n",
       "div.input_prompt{padding:0px;}\n",
       "div.CodeMirror {font-family:Consolas; font-size:10pt;}\n",
       "div.text_cell_render.rendered_html{font-size:10pt;}\n",
       "div.output {font-size:10pt; font-weight:bold;}\n",
       "div.input {font-family:Consolas; font-size:10pt;}\n",
       "div.prompt {min-width:70px;}\n",
       "div#toc-wrapper{padding-top:120px;}\n",
       "div.text_cell_render ul li{font-size:11pt;padding:4px;}\n",
       "table.dataframe{font-size:10px;}\n",
       "</style>\n"
      ],
      "text/plain": [
       "<IPython.core.display.HTML object>"
      ]
     },
     "metadata": {},
     "output_type": "display_data"
    }
   ],
   "source": [
    "from IPython.display import display, HTML\n",
    "display(HTML(\"\"\"\n",
    "<style>\n",
    "div.container{width:90% !important;}\n",
    "div.cell.code_cell.rendered{width:100%;}\n",
    "div.input_prompt{padding:0px;}\n",
    "div.CodeMirror {font-family:Consolas; font-size:10pt;}\n",
    "div.text_cell_render.rendered_html{font-size:10pt;}\n",
    "div.output {font-size:10pt; font-weight:bold;}\n",
    "div.input {font-family:Consolas; font-size:10pt;}\n",
    "div.prompt {min-width:70px;}\n",
    "div#toc-wrapper{padding-top:120px;}\n",
    "div.text_cell_render ul li{font-size:11pt;padding:4px;}\n",
    "table.dataframe{font-size:10px;}\n",
    "</style>\n",
    "\"\"\"))"
   ]
  },
  {
   "cell_type": "markdown",
   "id": "df71b343",
   "metadata": {},
   "source": [
    "<b><font color=\"red\" size=\"6\">ch14. 웹데이터 수집</font></b>\n",
    "# 3절. 동적 웹데이터 수집\n",
    "## 3.1 문법\n",
    "```\n",
    "pip install selenium\n",
    "```\n",
    "Docs : https://www.selenium.dev/documentation/ <br>\n",
    "       https://selenium-python.readthedocs.io/"
   ]
  },
  {
   "cell_type": "code",
   "execution_count": 22,
   "id": "4f17c8a9",
   "metadata": {},
   "outputs": [],
   "source": [
    "from selenium import webdriver\n",
    "from selenium.webdriver.common.by import By\n",
    "import time\n",
    "driver = webdriver.Chrome()\n",
    "driver.get(\"http://www.python.org\")\n",
    "elem = driver.find_element(By.NAME, 'q')\n",
    "elem.clear()\n",
    "elem.send_keys('pyCon')\n",
    "from selenium.webdriver.common.keys import Keys\n",
    "elem.send_keys(Keys.RETURN) # enter 효과"
   ]
  },
  {
   "cell_type": "code",
   "execution_count": 11,
   "id": "b0f02bac",
   "metadata": {},
   "outputs": [
    {
     "name": "stdout",
     "output_type": "stream",
     "text": [
      "PSF PyCon Trademark Usage Policy - https://www.python.org/psf/trademarks/pycon\n",
      "PyCon Italia 2016 (PyCon Sette) - https://www.python.org/events/python-events/378/\n",
      "PyCon Australia 2013 - https://www.python.org/events/python-events/57/\n",
      "PyCon AU 2019 - https://www.python.org/events/python-events/776/\n",
      "PyCon Australia 2014 - https://www.python.org/events/python-events/10/\n",
      "PyCon Ireland 2012 - https://www.python.org/events/python-events/76/\n",
      "PyCon Ireland 2016 - https://www.python.org/events/python-events/429/\n",
      "PyCon Ireland 2022 - https://www.python.org/events/python-events/1320/\n",
      "PyCon Australia 2014 - https://www.python.org/events/python-events/1447/\n",
      "PyCon Ireland 2024 - https://www.python.org/events/python-events/1862/\n",
      "PyCon APAC 2025 - https://www.python.org/events/python-events/1879/\n",
      "PyCon AU 2018 - https://www.python.org/events/python-events/696/\n",
      "PyCon APAC 2022 - https://www.python.org/events/python-events/1216/\n",
      "PyCon PH 2024 - https://www.python.org/events/python-events/1661/\n",
      "PyCon Ireland 2023 - https://www.python.org/events/python-events/1568/\n",
      "PyCon PL 2014 - https://www.python.org/events/python-events/191/\n",
      "PyCon MY 2015 - https://www.python.org/events/python-events/313/\n",
      "PyCon Ireland 2015 - https://www.python.org/events/python-events/333/\n",
      "PyCon AU 2015 - https://www.python.org/events/python-events/273/\n",
      "PyCon Australia 2016 - https://www.python.org/events/python-events/357/\n"
     ]
    }
   ],
   "source": [
    "result_list = driver.find_elements(By.CSS_SELECTOR, 'li > h3 > a')\n",
    "for result in result_list:\n",
    "    print(\"{} - {}\".format(result.text, result.get_attribute('href')) )"
   ]
  },
  {
   "cell_type": "code",
   "execution_count": 12,
   "id": "4849d0e4",
   "metadata": {},
   "outputs": [
    {
     "name": "stdout",
     "output_type": "stream",
     "text": [
      "PSF PyCon Trademark Usage Policy -/psf/trademarks/pycon\n",
      "PyCon Italia 2016 (PyCon Sette) -/events/python-events/378/\n",
      "PyCon Australia 2013 -/events/python-events/57/\n",
      "PyCon AU 2019 -/events/python-events/776/\n",
      "PyCon Australia 2014 -/events/python-events/10/\n",
      "PyCon Ireland 2012 -/events/python-events/76/\n",
      "PyCon Ireland 2016 -/events/python-events/429/\n",
      "PyCon Ireland 2022 -/events/python-events/1320/\n",
      "PyCon Australia 2014 -/events/python-events/1447/\n",
      "PyCon Ireland 2024 -/events/python-events/1862/\n",
      "PyCon APAC 2025 -/events/python-events/1879/\n",
      "PyCon AU 2018 -/events/python-events/696/\n",
      "PyCon APAC 2022 -/events/python-events/1216/\n",
      "PyCon PH 2024 -/events/python-events/1661/\n",
      "PyCon Ireland 2023 -/events/python-events/1568/\n",
      "PyCon PL 2014 -/events/python-events/191/\n",
      "PyCon MY 2015 -/events/python-events/313/\n",
      "PyCon Ireland 2015 -/events/python-events/333/\n",
      "PyCon AU 2015 -/events/python-events/273/\n",
      "PyCon Australia 2016 -/events/python-events/357/\n"
     ]
    }
   ],
   "source": [
    "from bs4 import BeautifulSoup\n",
    "soup = BeautifulSoup(driver.page_source, \"html.parser\")\n",
    "result_list = soup.select('li > h3 > a')\n",
    "for result in result_list:\n",
    "    print(\"{} -{}\".format(result.text, result.attrs['href']))"
   ]
  },
  {
   "cell_type": "code",
   "execution_count": 17,
   "id": "dcd23b38",
   "metadata": {},
   "outputs": [
    {
     "name": "stdout",
     "output_type": "stream",
     "text": [
      "현재 주소 : https://www.python.org/search/?q=pyCon&submit=\n",
      "parse_url : ParseResult(scheme='https', netloc='www.python.org', path='/search/', params='', query='q=pyCon&submit=', fragment='')\n",
      "https://www.python.org\n"
     ]
    }
   ],
   "source": [
    "# 셀리니움을 통해 접근한 현재 url\n",
    "from urllib.parse import urlparse\n",
    "current_url = driver.current_url\n",
    "print('현재 주소 :', current_url)\n",
    "parse_url = urlparse(current_url)\n",
    "print('parse_url :', parse_url)\n",
    "domain = f'{parse_url.scheme}://{parse_url.netloc}'\n",
    "print(domain)"
   ]
  },
  {
   "cell_type": "code",
   "execution_count": 19,
   "id": "8a658980",
   "metadata": {},
   "outputs": [
    {
     "name": "stdout",
     "output_type": "stream",
     "text": [
      "PSF PyCon Trademark Usage Policy - https://www.python.org/psf/trademarks/pycon\n",
      "PyCon Italia 2016 (PyCon Sette) - https://www.python.org/events/python-events/378/\n",
      "PyCon Australia 2013 - https://www.python.org/events/python-events/57/\n",
      "PyCon AU 2019 - https://www.python.org/events/python-events/776/\n",
      "PyCon Australia 2014 - https://www.python.org/events/python-events/10/\n",
      "PyCon Ireland 2012 - https://www.python.org/events/python-events/76/\n",
      "PyCon Ireland 2016 - https://www.python.org/events/python-events/429/\n",
      "PyCon Ireland 2022 - https://www.python.org/events/python-events/1320/\n",
      "PyCon Australia 2014 - https://www.python.org/events/python-events/1447/\n",
      "PyCon Ireland 2024 - https://www.python.org/events/python-events/1862/\n",
      "PyCon APAC 2025 - https://www.python.org/events/python-events/1879/\n",
      "PyCon AU 2018 - https://www.python.org/events/python-events/696/\n",
      "PyCon APAC 2022 - https://www.python.org/events/python-events/1216/\n",
      "PyCon PH 2024 - https://www.python.org/events/python-events/1661/\n",
      "PyCon Ireland 2023 - https://www.python.org/events/python-events/1568/\n",
      "PyCon PL 2014 - https://www.python.org/events/python-events/191/\n",
      "PyCon MY 2015 - https://www.python.org/events/python-events/313/\n",
      "PyCon Ireland 2015 - https://www.python.org/events/python-events/333/\n",
      "PyCon AU 2015 - https://www.python.org/events/python-events/273/\n",
      "PyCon Australia 2016 - https://www.python.org/events/python-events/357/\n"
     ]
    }
   ],
   "source": [
    "from bs4 import BeautifulSoup\n",
    "soup = BeautifulSoup(driver.page_source, \"html.parser\")\n",
    "result_list = soup.select('li > h3 > a')\n",
    "for result in result_list:\n",
    "    print(\"{} - {}\".format(result.text, domain+result.attrs['href']))"
   ]
  },
  {
   "cell_type": "code",
   "execution_count": 23,
   "id": "496094ae",
   "metadata": {},
   "outputs": [],
   "source": [
    "driver.close() # 브라우저 종료"
   ]
  },
  {
   "cell_type": "markdown",
   "id": "77d99611",
   "metadata": {},
   "source": [
    "## 3.2 예제\n",
    "### 1) 다음 뉴스 검색"
   ]
  },
  {
   "cell_type": "code",
   "execution_count": 35,
   "id": "d855d66a",
   "metadata": {},
   "outputs": [
    {
     "name": "stdout",
     "output_type": "stream",
     "text": [
      "검색하고자 하는 단어?비트코인\n",
      "가격 하락에도 기관 자금은 ‘역주행’···비트코인 ETF에 42억 달러 유입 http://v.daum.net/v/20250530140605584\n",
      "‘클릭 한번에 150억원’ 비트코인 최고가 경신에... 암호화폐 부자 노린 강력범죄 급증 http://v.daum.net/v/20250530134417903\n",
      "\"조정 왔나\"…비트코인, 기관 수요에도 1억4700만원대로 '털썩' http://v.daum.net/v/20250530094255957\n",
      "[비트코인 2025]대세 떠오른 비트코인 비축기업들 http://v.daum.net/v/20250530150900894\n",
      "[비트코인 2025] 테더 CEO “올해 말 세계 최대 비트코인 채굴기업 될 것” http://v.daum.net/v/20250530090905481\n",
      "[비트코인 2025]세계최대 스테이블코인 테더 CEO “비트코인까지 쓸어담을 것” http://v.daum.net/v/20250530151200002\n",
      "떨어지는 비트코인 http://v.daum.net/v/20250530103117094\n",
      "하락세 탄 비트코인 http://v.daum.net/v/20250530103107086\n",
      "[비즈 나우] 美, 1경 '은퇴자금' 비트코인 투자 빗장 풀었다 http://v.daum.net/v/20250530074812188\n",
      "\"지금 들어갈까\"...천장 뚫던 비트코인 '주춤' http://v.daum.net/v/20250530080346539\n"
     ]
    }
   ],
   "source": [
    "from selenium import webdriver\n",
    "from selenium.webdriver.common.by import By\n",
    "from selenium.webdriver.common.keys import Keys\n",
    "import time\n",
    "driver = webdriver.Chrome()\n",
    "driver.get('https://www.daum.net/')\n",
    "# input 태그를 click\n",
    "time.sleep(1)\n",
    "driver.find_element(By.NAME, 'q').click()\n",
    "query = input('검색하고자 하는 단어?')\n",
    "driver.find_element(By.CSS_SELECTOR, 'input[type=\"text\"]').send_keys(query)\n",
    "driver.find_element(By.CLASS_NAME, 'btn_ksearch').click()\n",
    "time.sleep(2)\n",
    "# 뉴스탭 클릭 : ul.list_tab > li\n",
    "# driver.find_elements(By.CSS_SELECTOR, 'ul.list_tab > li')[3].click()\n",
    "driver.find_element(By.LINK_TEXT, '뉴스').click() # 쉬는 시간 훈련생 제안\n",
    "time.sleep(2)\n",
    "news_list = []\n",
    "elems = driver.find_elements(By.CSS_SELECTOR, 'div.item-title > strong.tit-g > a')\n",
    "for elem in elems:\n",
    "    title = elem.text\n",
    "    link  = elem.get_attribute('href')\n",
    "    news_list.append([title, link])\n",
    "    print(title, link)"
   ]
  },
  {
   "cell_type": "code",
   "execution_count": 39,
   "id": "9e0d9e24",
   "metadata": {},
   "outputs": [],
   "source": [
    "# 2page로\n",
    "page_div = driver.find_element(By.CSS_SELECTOR, 'div.inner_paging')\n",
    "# print(page_div.text)\n",
    "next_page = page_div.find_element(By.LINK_TEXT, '2')\n",
    "next_page.click()"
   ]
  },
  {
   "cell_type": "markdown",
   "id": "1d84289d",
   "metadata": {},
   "source": [
    "#### 페이징 처리\n",
    "- 다음 뉴스 검색 : 원하는 단어를 원하는 page수만큼"
   ]
  },
  {
   "cell_type": "code",
   "execution_count": 43,
   "id": "1684f0b9",
   "metadata": {},
   "outputs": [
    {
     "name": "stdout",
     "output_type": "stream",
     "text": [
      "검색하고자 하는 단어?청바지\n",
      "~~ 현재 1페이지 데이터 수집 중입니다 ~ ~\n",
      "~~ 현재 2페이지 데이터 수집 중입니다 ~ ~\n",
      "~~ 현재 3페이지 데이터 수집 중입니다 ~ ~\n"
     ]
    }
   ],
   "source": [
    "from selenium import webdriver\n",
    "from selenium.webdriver.common.by import By\n",
    "from selenium.webdriver.common.keys import Keys\n",
    "import time\n",
    "driver = webdriver.Chrome()\n",
    "driver.get('https://www.daum.net/')\n",
    "# input 태그를 click\n",
    "time.sleep(1)\n",
    "driver.find_element(By.NAME, 'q').click()\n",
    "query = input('검색하고자 하는 단어?')\n",
    "driver.find_element(By.CSS_SELECTOR, 'input[type=\"text\"]').send_keys(query)\n",
    "driver.find_element(By.CLASS_NAME, 'btn_ksearch').click()\n",
    "time.sleep(2)\n",
    "# 뉴스탭 클릭 : ul.list_tab > li\n",
    "# driver.find_elements(By.CSS_SELECTOR, 'ul.list_tab > li')[3].click()\n",
    "driver.find_element(By.LINK_TEXT, '뉴스').click() # 쉬는 시간 훈련생 제안\n",
    "time.sleep(2)\n",
    "news_list = []\n",
    "pages = 3\n",
    "for page in range(1, pages+1):\n",
    "    elems = driver.find_elements(By.CSS_SELECTOR, 'div.item-title > strong.tit-g > a')\n",
    "    for elem in elems:\n",
    "        title = elem.text\n",
    "        link  = elem.get_attribute('href')\n",
    "        news_list.append([title, link])\n",
    "        # print(title, link)\n",
    "    # 2page로\n",
    "    page_div = driver.find_element(By.CSS_SELECTOR, 'div.inner_paging')\n",
    "    # print(page_div.text)\n",
    "    next_page = page_div.find_element(By.LINK_TEXT, str(page+1) )\n",
    "    next_page.click()\n",
    "    time.sleep(1.5)\n",
    "    print(f'~~ 현재 {page}페이지 데이터 수집 중입니다 ~ ~')\n",
    "driver.close()\n",
    "import pandas as pd\n",
    "df = pd.DataFrame(news_list, columns=['title', 'link'])\n",
    "df.to_csv('data/ch14_daum.csv', index=False)"
   ]
  },
  {
   "cell_type": "markdown",
   "id": "fad799a6",
   "metadata": {},
   "source": [
    "### 2) 맞춤법 검사기\n",
    "- 네이버 맞춤법 검사기 이용"
   ]
  },
  {
   "cell_type": "code",
   "execution_count": 44,
   "id": "2f5a8267",
   "metadata": {},
   "outputs": [],
   "source": [
    "# f = open('data/ch14_맞춤법전.txt', 'r', encoding='utf-8')\n",
    "# text = f.read()\n",
    "# f.close()"
   ]
  },
  {
   "cell_type": "code",
   "execution_count": 50,
   "id": "84c48769",
   "metadata": {},
   "outputs": [
    {
     "name": "stdout",
     "output_type": "stream",
     "text": [
      "총글자 수 : 2052\n",
      "223\n",
      "248\n",
      "232\n",
      "259\n",
      "249\n",
      "190\n",
      "166\n",
      "181\n",
      "297\n"
     ]
    },
    {
     "data": {
      "text/plain": [
       "['안뇽하십니까? 방갑',\n",
       " '\\n가장 먼져 떠오르',\n",
       " '\\n다음으로 중요한 ',\n",
       " '\\n성장과 배움 또한',\n",
       " '\\n신체적, 정신적 ',\n",
       " '\\n살다 보면 예상치',\n",
       " '\\n현재를 감사하고 ',\n",
       " '\\n마지막으로, 자신',\n",
       " '\\n결국 좋은 인생은',\n",
       " '\\n감샤합니다.']"
      ]
     },
     "execution_count": 50,
     "metadata": {},
     "output_type": "execute_result"
    }
   ],
   "source": [
    "# ch14_맞춤법전.txt를 300자이내로 자르기\n",
    "with open('data/ch14_맞춤법전.txt', 'r', encoding='utf-8') as f:\n",
    "    text = f.read()\n",
    "print('총글자 수 :',len(text))\n",
    "ready_list = [] # 맞춤법 검사할 text 내용(300이자 이내로 list)\n",
    "while(len(text) > 300):\n",
    "    temp = text[:300]\n",
    "    new_line_char_index = temp.rfind('\\n')\n",
    "    print(new_line_char_index)\n",
    "    ready_list.append(text[:new_line_char_index])\n",
    "    text = text[new_line_char_index:]\n",
    "ready_list.append(text)\n",
    "[ready[:10] for ready in ready_list]"
   ]
  },
  {
   "cell_type": "code",
   "execution_count": 55,
   "id": "32a9672a",
   "metadata": {},
   "outputs": [
    {
     "data": {
      "text/plain": [
       "'안녕하십니까? 반갑습니다.좋은 인생이란 무엇일까요?우리는 종종 좋은 인생에 대해 생각합니다. 물질적인 풍요, 사회적 성공, 혹은 그저 평온하고 행복한 일상일까요? 아마도 좋은 인생은 이 모든 것을 포괄하면서도, 개인의 가치관과 삶의 방향에 따라 다르게 정의될 수 있는 주관적인 개념일 것입니다. 보편적으로 동의할 수 있는 몇 가지 요소들을 중심으로, 좋은 인생에 대한 생각을 풀어보고자 합니다.'"
      ]
     },
     "execution_count": 55,
     "metadata": {},
     "output_type": "execute_result"
    }
   ],
   "source": [
    "from selenium import webdriver\n",
    "from selenium.webdriver.common.by import By\n",
    "from selenium.webdriver.common.keys import Keys\n",
    "import time\n",
    "driver = webdriver.Chrome()\n",
    "time.sleep(0.5)\n",
    "driver.get('https://www.naver.com/')\n",
    "input_elem = driver.find_element(By.CSS_SELECTOR, 'input[name=\"query\"]')\n",
    "input_elem.send_keys('맞춤법 검사기')\n",
    "input_elem.send_keys(Keys.RETURN)\n",
    "time.sleep(0.5)\n",
    "textarea = driver.find_element(By.CLASS_NAME, 'txt_gray')\n",
    "textarea.send_keys(ready_list[0])\n",
    "\n",
    "button = driver.find_element(By.CLASS_NAME, 'btn_check')\n",
    "button.click()\n",
    "time.sleep(2)\n",
    "soup = BeautifulSoup(driver.page_source, \"html.parser\")\n",
    "result = soup.select_one('p._result_text.stand_txt').text\n",
    "result"
   ]
  },
  {
   "cell_type": "code",
   "execution_count": 60,
   "id": "90933633",
   "metadata": {},
   "outputs": [],
   "source": [
    "from selenium import webdriver\n",
    "from selenium.webdriver.common.by import By\n",
    "from selenium.webdriver.common.keys import Keys\n",
    "import time\n",
    "driver = webdriver.Chrome()\n",
    "time.sleep(0.5)\n",
    "driver.get('https://www.naver.com/')\n",
    "input_elem = driver.find_element(By.CSS_SELECTOR, 'input[name=\"query\"]')\n",
    "input_elem.send_keys('맞춤법 검사기')\n",
    "input_elem.send_keys(Keys.RETURN)\n",
    "time.sleep(0.5)\n",
    "results = '' # 맞춤법 검사 후 내용\n",
    "textarea = driver.find_element(By.CLASS_NAME, 'txt_gray')\n",
    "\n",
    "for ready in ready_list:\n",
    "    time.sleep(2)    \n",
    "    textarea.send_keys(Keys.CONTROL, 'a') # control + a\n",
    "    textarea.send_keys(ready)\n",
    "\n",
    "    button = driver.find_element(By.CLASS_NAME, 'btn_check')\n",
    "    button.click()\n",
    "    time.sleep(2)\n",
    "    soup = BeautifulSoup(driver.page_source, \"html.parser\")\n",
    "    result = soup.select_one('p._result_text.stand_txt').text\n",
    "    results += result + '\\n\\n'\n",
    "driver.close()\n",
    "with open('data/ch14_맞춤법후.txt', 'w', encoding='utf-8') as f:\n",
    "    f.write(results)"
   ]
  },
  {
   "cell_type": "markdown",
   "id": "1b94ef34",
   "metadata": {},
   "source": [
    "# 4절-2 연습문제\n",
    "영어번역 자동화 프로그램을 구현하시오. 네이버 맞춤법 검사를 마친 텍스트를 https://translate.kakao.com/를 통해 영어로 번역된 텍스트를 파일로 출력하는 동적 웹크롤링 프로그램을 구현하시오.\n",
    "- 번역전 파일 : ch14_맞춤법후.txt\n",
    "- 번역후 파일 : 2_자동화영어번역본.txt"
   ]
  },
  {
   "cell_type": "code",
   "execution_count": 76,
   "id": "770de037",
   "metadata": {},
   "outputs": [
    {
     "name": "stdout",
     "output_type": "stream",
     "text": [
      "Nice to see you\n"
     ]
    }
   ],
   "source": [
    "# test\n",
    "from selenium import webdriver\n",
    "from selenium.webdriver.common.by import By\n",
    "from selenium.webdriver.common.keys import Keys\n",
    "import time\n",
    "driver = webdriver.Chrome()\n",
    "time.sleep(0.5)\n",
    "driver.get('https://translate.kakao.com/')\n",
    "textarea = driver.find_element(By.CSS_SELECTOR, 'textarea.translate_area.area_item.translate_many')\n",
    "button = driver.find_element(By.CSS_SELECTOR, 'div.btn_item')\n",
    "textarea.send_keys(\"반갑습니다\")\n",
    "button.click()\n",
    "time.sleep(1)\n",
    "\n",
    "# soup = BeautifulSoup(driver.page_source, \"html.parser\")\n",
    "# result = soup.select_one('div.result_area.translate_many').text\n",
    "result = driver.find_element(By.CSS_SELECTOR, 'div.result_area.translate_many').text\n",
    "print(result)"
   ]
  },
  {
   "cell_type": "code",
   "execution_count": 84,
   "id": "4a113ec0",
   "metadata": {},
   "outputs": [
    {
     "name": "stdout",
     "output_type": "stream",
     "text": [
      "크롤링 할 text 수 : [960, 786, 306]\n",
      "0.0% 번역 중입니다\n",
      "33.33% 번역 중입니다\n",
      "66.67% 번역 중입니다\n",
      "번역 완료\n"
     ]
    }
   ],
   "source": [
    "# ch14_맞춤법후.txt를 1000자이내로 자르기\n",
    "with open('data/ch14_맞춤법후.txt', 'r', encoding='utf-8') as f:\n",
    "    text = f.read()\n",
    "ready_list = [] # 맞춤법 검사할 text 내용(300이자 이내로 list)\n",
    "while(len(text) > 1000):\n",
    "    temp = text[:1000]\n",
    "    new_line_char_index = temp.rfind('\\n')\n",
    "    ready_list.append(text[:new_line_char_index])\n",
    "    text = text[new_line_char_index:]\n",
    "ready_list.append(text)\n",
    "print('크롤링 할 text 수 :',[len(ready) for ready in ready_list])\n",
    "# 크롤링\n",
    "from selenium import webdriver\n",
    "from selenium.webdriver.common.by import By\n",
    "from selenium.webdriver.common.keys import Keys\n",
    "import time\n",
    "driver = webdriver.Chrome()\n",
    "time.sleep(0.5)\n",
    "driver.get('https://translate.kakao.com/')\n",
    "textarea = driver.find_element(By.CSS_SELECTOR, 'textarea.translate_area.area_item.translate_many')\n",
    "button = driver.find_element(By.CSS_SELECTOR, 'div.btn_item')\n",
    "results = ''\n",
    "for idx, ready in enumerate(ready_list):\n",
    "    print( f'{round(idx/len(ready_list) * 100, 2)}% 번역 중입니다')\n",
    "    textarea.clear()\n",
    "    textarea.send_keys(ready)\n",
    "    button.click()\n",
    "    time.sleep(1)\n",
    "\n",
    "    # soup = BeautifulSoup(driver.page_source, \"html.parser\")\n",
    "    # result = soup.select_one('div.result_area.translate_many').text\n",
    "    result = driver.find_element(By.CSS_SELECTOR, 'div.result_area.translate_many').text\n",
    "    results += result + '\\n\\n'\n",
    "driver.close()    \n",
    "# 번역한 결과 파일 출력\n",
    "with open('data/ch14_자동화영어번역본.txt', 'w', encoding='utf-8') as f:\n",
    "    f.write(results)\n",
    "print('번역 완료')"
   ]
  },
  {
   "cell_type": "code",
   "execution_count": null,
   "id": "33d12550",
   "metadata": {},
   "outputs": [],
   "source": []
  },
  {
   "cell_type": "code",
   "execution_count": null,
   "id": "3508365a",
   "metadata": {},
   "outputs": [],
   "source": []
  },
  {
   "cell_type": "code",
   "execution_count": null,
   "id": "5b18d9c1",
   "metadata": {},
   "outputs": [],
   "source": []
  }
 ],
 "metadata": {
  "kernelspec": {
   "display_name": "Python 3 (ipykernel)",
   "language": "python",
   "name": "python3"
  },
  "language_info": {
   "codemirror_mode": {
    "name": "ipython",
    "version": 3
   },
   "file_extension": ".py",
   "mimetype": "text/x-python",
   "name": "python",
   "nbconvert_exporter": "python",
   "pygments_lexer": "ipython3",
   "version": "3.10.9"
  },
  "toc": {
   "base_numbering": 1,
   "nav_menu": {},
   "number_sections": false,
   "sideBar": true,
   "skip_h1_title": false,
   "title_cell": "Table of Contents",
   "title_sidebar": "Contents",
   "toc_cell": false,
   "toc_position": {
    "height": "calc(100% - 180px)",
    "left": "10px",
    "top": "150px",
    "width": "165px"
   },
   "toc_section_display": true,
   "toc_window_display": false
  }
 },
 "nbformat": 4,
 "nbformat_minor": 5
}
