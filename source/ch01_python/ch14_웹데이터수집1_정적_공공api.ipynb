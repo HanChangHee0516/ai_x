{
 "cells": [
  {
   "cell_type": "code",
   "execution_count": 6,
   "id": "ec95f0fe",
   "metadata": {},
   "outputs": [
    {
     "data": {
      "text/html": [
       "\n",
       "<style>\n",
       "div.container{width:98% !important;}\n",
       "div.cell.code_cell.rendered{width:100%;}\n",
       "div.input_prompt{padding:0px;}\n",
       "div.CodeMirror {font-family:Consolas; font-size:21pt;}\n",
       "div.text_cell_render.rendered_html{font-size:18pt;}\n",
       "div.text_cell_render.rendered_html>pre{font-size:15pt;}\n",
       "div.output {font-size:18pt; font-weight:bold;}\n",
       "div.input {font-family:Consolas; font-size:18pt;}\n",
       "div.prompt {min-width:70px;}\n",
       "div#toc-wrapper{padding-top:120px;}\n",
       "div.text_cell_render ul li{font-size:18pt;padding:5px;}\n",
       "table.dataframe{font-size:18px;}\n",
       "</style>\n"
      ],
      "text/plain": [
       "<IPython.core.display.HTML object>"
      ]
     },
     "metadata": {},
     "output_type": "display_data"
    }
   ],
   "source": [
    "from IPython.display import display, HTML\n",
    "display(HTML(\"\"\"\n",
    "<style>\n",
    "div.container{width:98% !important;}\n",
    "div.cell.code_cell.rendered{width:100%;}\n",
    "div.input_prompt{padding:0px;}\n",
    "div.CodeMirror {font-family:Consolas; font-size:21pt;}\n",
    "div.text_cell_render.rendered_html{font-size:18pt;}\n",
    "div.text_cell_render.rendered_html>pre{font-size:15pt;}\n",
    "div.output {font-size:18pt; font-weight:bold;}\n",
    "div.input {font-family:Consolas; font-size:18pt;}\n",
    "div.prompt {min-width:70px;}\n",
    "div#toc-wrapper{padding-top:120px;}\n",
    "div.text_cell_render ul li{font-size:18pt;padding:5px;}\n",
    "table.dataframe{font-size:18px;}\n",
    "</style>\n",
    "\"\"\"))"
   ]
  },
  {
   "cell_type": "markdown",
   "id": "8d00b3b2",
   "metadata": {},
   "source": [
    "<b><font color=\"red\" size=\"6\">ch14. 웹데이터 수집</font></b>\n",
    "# 1절. BeautifulSoup과 parser\n",
    "```pip install bs4``` 아나콘다를 설치하면 7500개여개의 패키지 설치\n",
    "- 공식 사이트 : https://www.crummy.com/software/BeautifulSoup/\n",
    "- Docs : https://www.crummy.com/software/BeautifulSoup/bs4/doc/"
   ]
  },
  {
   "cell_type": "code",
   "execution_count": 9,
   "id": "a1ee507e",
   "metadata": {},
   "outputs": [],
   "source": [
    "import requests # HTTP 요청 처리 lib\n",
    "from requests_file import FileAdapter"
   ]
  },
  {
   "cell_type": "code",
   "execution_count": 117,
   "id": "7ca5eb23",
   "metadata": {},
   "outputs": [
    {
     "data": {
      "text/plain": [
       "<Response [200]>"
      ]
     },
     "execution_count": 117,
     "metadata": {},
     "output_type": "execute_result"
    }
   ],
   "source": [
    "s = requests.Session() # HTTP 요청관리를 위한 세션 객체\n",
    "s.mount(\"file://\", FileAdapter())\n",
    "response = s.get('file:///ai_x/lecNote/01_python/data/ch14_sample.html')\n",
    "response"
   ]
  },
  {
   "cell_type": "code",
   "execution_count": 6,
   "id": "8eb7dd9a",
   "metadata": {},
   "outputs": [
    {
     "data": {
      "text/plain": [
       "200"
      ]
     },
     "execution_count": 6,
     "metadata": {},
     "output_type": "execute_result"
    }
   ],
   "source": [
    "response.status_code \n",
    "# 200 : 정상\n",
    "# 404 : 없는 페이지\n",
    "# 406 : get, post 오류"
   ]
  },
  {
   "cell_type": "code",
   "execution_count": 9,
   "id": "3cde9c8a",
   "metadata": {},
   "outputs": [
    {
     "data": {
      "text/plain": [
       "b'<!DOCTYPE html>\\r\\n<html lang=\"en\">\\r\\n<head>\\r\\n  <meta charset=\"UTF-8\">\\r\\n</head>\\r\\n<body>\\r\\n  <h1 class=\"greeting css\" id=\"text\">Hello, CSS</h1>\\r\\n  <h1 class=\"css\">Hi, CSS</h1>\\r\\n  <div id=\"subject\">subject \\xec\\x84\\xa0\\xed\\x83\\x9d\\xec\\x9e\\x90 \\xec\\x95\\x88\\xec\\x9d\\x98 \\xeb\\x82\\xb4\\xec\\x9a\\xa9</div>\\r\\n  <p>CSS \\xec\\x84\\xa0\\xed\\x83\\x9d\\xec\\x9e\\x90\\xeb\\x8a\\x94 \\xeb\\x8b\\xa4\\xec\\x96\\x91\\xed\\x95\\x9c \\xea\\xb3\\xb3\\xec\\x97\\x90\\xec\\x84\\x9c \\xed\\x99\\x9c\\xec\\x9a\\xa9\\xeb\\x90\\xa9\\xeb\\x8b\\x88\\xeb\\x8b\\xa4</p>\\r\\n  <div class=\"contents\">\\r\\n    \\xec\\x84\\xa0\\xed\\x83\\x9d\\xec\\x9e\\x90\\xeb\\xa5\\xbc \\xec\\x96\\xb4\\xeb\\x96\\xbb\\xea\\xb2\\x8c \\xec\\x9e\\x91\\xec\\x84\\xb1\\xed\\x95\\x98\\xeb\\x8a\\x90\\xeb\\x83\\x90\\xec\\x97\\x90 \\xeb\\x94\\xb0\\xeb\\x9d\\xbc\\r\\n    <span>\\xeb\\x8b\\xa4\\xeb\\xa5\\xb8<b>\\xec\\x9a\\x94\\xec\\x86\\x8c\\xea\\xb0\\x80 \\xeb\\xb0\\x98\\xed\\x99\\x98</b></span>\\xeb\\x90\\xa9\\xeb\\x8b\\x88\\xeb\\x8b\\xa4\\r\\n  </div>\\r\\n  <div>CSS \\xec\\x84\\xa0\\xed\\x83\\x9d\\xec\\x9e\\x90\\xeb\\x8a\\x94 \\xeb\\x8b\\xa4\\xec\\x96\\x91\\xed\\x95\\x9c \\xea\\xb3\\xb3\\xec\\x97\\x90 <b>\\xed\\x99\\x9c\\xec\\x9a\\xa9</b>\\xeb\\x90\\xa9\\xeb\\x8b\\x88\\xeb\\x8b\\xa4</div>\\r\\n</body>\\r\\n</html>'"
      ]
     },
     "execution_count": 9,
     "metadata": {},
     "output_type": "execute_result"
    }
   ],
   "source": [
    "response.content # 바이너리 형식의 내용"
   ]
  },
  {
   "cell_type": "code",
   "execution_count": 10,
   "id": "b36ddc3f",
   "metadata": {},
   "outputs": [
    {
     "data": {
      "text/plain": [
       "'<!DOCTYPE html>\\r\\n<html lang=\"en\">\\r\\n<head>\\r\\n  <meta charset=\"UTF-8\">\\r\\n</head>\\r\\n<body>\\r\\n  <h1 class=\"greeting css\" id=\"text\">Hello, CSS</h1>\\r\\n  <h1 class=\"css\">Hi, CSS</h1>\\r\\n  <div id=\"subject\">subject 선택자 안의 내용</div>\\r\\n  <p>CSS 선택자는 다양한 곳에서 활용됩니다</p>\\r\\n  <div class=\"contents\">\\r\\n    선택자를 어떻게 작성하느냐에 따라\\r\\n    <span>다른<b>요소가 반환</b></span>됩니다\\r\\n  </div>\\r\\n  <div>CSS 선택자는 다양한 곳에 <b>활용</b>됩니다</div>\\r\\n</body>\\r\\n</html>'"
      ]
     },
     "execution_count": 10,
     "metadata": {},
     "output_type": "execute_result"
    }
   ],
   "source": [
    "response.content.decode('utf-8')"
   ]
  },
  {
   "cell_type": "code",
   "execution_count": 11,
   "id": "5468da15",
   "metadata": {},
   "outputs": [
    {
     "data": {
      "text/plain": [
       "'<!DOCTYPE html>\\r\\n<html lang=\"en\">\\r\\n<head>\\r\\n  <meta charset=\"UTF-8\">\\r\\n</head>\\r\\n<body>\\r\\n  <h1 class=\"greeting css\" id=\"text\">Hello, CSS</h1>\\r\\n  <h1 class=\"css\">Hi, CSS</h1>\\r\\n  <div id=\"subject\">subject 선택자 안의 내용</div>\\r\\n  <p>CSS 선택자는 다양한 곳에서 활용됩니다</p>\\r\\n  <div class=\"contents\">\\r\\n    선택자를 어떻게 작성하느냐에 따라\\r\\n    <span>다른<b>요소가 반환</b></span>됩니다\\r\\n  </div>\\r\\n  <div>CSS 선택자는 다양한 곳에 <b>활용</b>됩니다</div>\\r\\n</body>\\r\\n</html>'"
      ]
     },
     "execution_count": 11,
     "metadata": {},
     "output_type": "execute_result"
    }
   ],
   "source": [
    "response.text"
   ]
  },
  {
   "cell_type": "code",
   "execution_count": 118,
   "id": "73df34a5",
   "metadata": {},
   "outputs": [],
   "source": [
    "# html 파싱\n",
    "from bs4 import BeautifulSoup\n",
    "soup = BeautifulSoup(response.content,  # response.text\n",
    "                    \"html.parser\")\n",
    "# soup"
   ]
  },
  {
   "cell_type": "code",
   "execution_count": 31,
   "id": "7675fa5c",
   "metadata": {},
   "outputs": [
    {
     "name": "stdout",
     "output_type": "stream",
     "text": [
      "el : <h1 class=\"greeting css\" id=\"text\" title=\"greeting\">Hello, CSS</h1>\n",
      "el.text : Hello, CSS\n",
      "el.string : Hello, CSS\n",
      "el의 속성들 : {'class': ['greeting', 'css'], 'id': 'text', 'title': 'greeting'}\n",
      "el의 title속성 : greeting\n",
      "el의 title속성 : greeting\n",
      "el의 이름 : h1\n"
     ]
    }
   ],
   "source": [
    "# soup.select_one('선택자') : 해당 선택자 처음 하나만\n",
    "el = soup.select_one('h1') # 처음 나오는 h1태그 하나만\n",
    "print('el :', el)\n",
    "print('el.text :', el.text)\n",
    "print('el.string :', el.string)\n",
    "print('el의 속성들 :', el.attrs)\n",
    "print('el의 title속성 :', el.attrs['title'])\n",
    "print('el의 title속성 :', el.attrs.get('title') )\n",
    "print('el의 이름 :', el.name)"
   ]
  },
  {
   "cell_type": "code",
   "execution_count": 38,
   "id": "7bb67b4e",
   "metadata": {},
   "outputs": [
    {
     "name": "stdout",
     "output_type": "stream",
     "text": [
      "리스트 el : [<h1 class=\"greeting css\" id=\"text\" title=\"greeting\">Hello, CSS</h1>, <h1 class=\"css\">Hi, CSS</h1>]\n",
      "el의 text들 : ['Hello, CSS', 'Hi, CSS']\n",
      "el의 속성들 : [{'class': ['greeting', 'css'], 'id': 'text', 'title': 'greeting'}, {'class': ['css']}]\n",
      "el의 class속성들 : [['greeting', 'css'], ['css']]\n"
     ]
    }
   ],
   "source": [
    "# soup.select('선택자') : 해당 선택자 모든 엘리먼트를 리스트로\n",
    "el = soup.select('h1')\n",
    "print('리스트 el :', el)\n",
    "print('el의 text들 :', [e.text for e in el])\n",
    "# for e in el:\n",
    "#     print(e.text, end=',')\n",
    "print('el의 속성들 :', [e.attrs for e in el])\n",
    "print('el의 class속성들 :', [e.attrs.get('class') for e in el])"
   ]
  },
  {
   "cell_type": "code",
   "execution_count": 119,
   "id": "a068a52f",
   "metadata": {},
   "outputs": [
    {
     "name": "stdout",
     "output_type": "stream",
     "text": [
      "select_one : <h1 class=\"greeting css\" id=\"text\" title=\"greeting\">Hello, CSS</h1>\n",
      "find : <h1 class=\"greeting css\" id=\"text\" title=\"greeting\">Hello, CSS</h1>\n",
      "find : <h1 class=\"greeting css\" id=\"text\" title=\"greeting\">Hello, CSS</h1>\n",
      "\n",
      "select_one : <h1 class=\"greeting css\" id=\"text\" title=\"greeting\">Hello, CSS</h1>\n",
      "find : <h1 class=\"greeting css\" id=\"text\" title=\"greeting\">Hello, CSS</h1>\n"
     ]
    }
   ],
   "source": [
    "# select_one(선택자)와 find(태그, 속성)\n",
    "print('select_one :', soup.select_one('h1.css'))\n",
    "print('find :', soup.find('h1', {'class':'css'}))\n",
    "print('find :', soup.find('h1', class_='css'))\n",
    "print()\n",
    "print('select_one :', soup.select_one('h1#text'))\n",
    "print('find :', soup.find('h1', {'id':'text'}));"
   ]
  },
  {
   "cell_type": "code",
   "execution_count": 120,
   "id": "f45e61a3",
   "metadata": {},
   "outputs": [
    {
     "name": "stdout",
     "output_type": "stream",
     "text": [
      "모든 h1.css, span 태그(select) : [<h1 class=\"greeting css\" id=\"text\" title=\"greeting\">Hello, CSS</h1>, <h1 class=\"css\">Hi, CSS</h1>, <span>다른<b>요소가 반환</b></span>]\n",
      "모든 h1.css, span태그(find_all) : [<h1 class=\"greeting css\" id=\"text\" title=\"greeting\">Hello, CSS</h1>, <h1 class=\"css\">Hi, CSS</h1>]\n"
     ]
    }
   ],
   "source": [
    "# select(선택자)와 find_all(태그, 속성)\n",
    "print('모든 h1.css, span 태그(select) :',\n",
    "     soup.select('h1.css, span'))\n",
    "print('모든 h1.css, span태그(find_all) :',\n",
    "     soup.find_all(['h1','span'], class_='css'))"
   ]
  },
  {
   "cell_type": "code",
   "execution_count": 57,
   "id": "ef302625",
   "metadata": {},
   "outputs": [
    {
     "name": "stdout",
     "output_type": "stream",
     "text": [
      "find_all(빈list) : []\n",
      "find(None) : None\n",
      "select(빈list) : []\n",
      "select_one(None) : None\n"
     ]
    }
   ],
   "source": [
    "# 없는 엘리먼트 찾기\n",
    "print('find_all(빈list) :', soup.find_all('a', class_='css'))\n",
    "print('find(None) :', soup.find('a', class_='css'))\n",
    "print('select(빈list) :', soup.select('a.css'))\n",
    "print('select_one(None) :', soup.select_one('a.css'))"
   ]
  },
  {
   "cell_type": "markdown",
   "id": "473adf83",
   "metadata": {},
   "source": [
    "# 2절. 정적 웹 데이터 수집(정적 웹크롤링)\n",
    "- json, html, xml\n",
    "## 2.1 JSON파일\n",
    "- request모듈(get)\n",
    "- urllib.request모듈(urlopen)"
   ]
  },
  {
   "cell_type": "code",
   "execution_count": null,
   "id": "d8bcde7b",
   "metadata": {},
   "outputs": [],
   "source": [
    "# 크롤링 허용 범위는 사이트마다 ~/robots.txt에서 확인할 수 있습니다"
   ]
  },
  {
   "cell_type": "code",
   "execution_count": 12,
   "id": "0cd49b1c",
   "metadata": {},
   "outputs": [
    {
     "data": {
      "text/plain": [
       "(<Response [200]>, 200)"
      ]
     },
     "execution_count": 12,
     "metadata": {},
     "output_type": "execute_result"
    }
   ],
   "source": [
    "# 방법1\n",
    "import requests\n",
    "response = requests.get('http://api.github.com')\n",
    "response, response.status_code"
   ]
  },
  {
   "cell_type": "code",
   "execution_count": 11,
   "id": "750f9579",
   "metadata": {},
   "outputs": [
    {
     "data": {
      "text/plain": [
       "<http.client.HTTPResponse at 0x21f646fa500>"
      ]
     },
     "execution_count": 11,
     "metadata": {},
     "output_type": "execute_result"
    }
   ],
   "source": [
    "# 방법2\n",
    "from urllib.request import urlopen\n",
    "response = urlopen('http://api.github.com')\n",
    "response"
   ]
  },
  {
   "cell_type": "code",
   "execution_count": 125,
   "id": "9ca29b04",
   "metadata": {},
   "outputs": [
    {
     "data": {
      "text/plain": [
       "str"
      ]
     },
     "execution_count": 125,
     "metadata": {},
     "output_type": "execute_result"
    }
   ],
   "source": [
    "text = '{\"속성1\": \"값1\",\"속성2\":\"값2\"}'\n",
    "type(text)"
   ]
  },
  {
   "cell_type": "code",
   "execution_count": 126,
   "id": "f9618ff5",
   "metadata": {},
   "outputs": [
    {
     "data": {
      "text/plain": [
       "{'속성1': '값1', '속성2': '값2'}"
      ]
     },
     "execution_count": 126,
     "metadata": {},
     "output_type": "execute_result"
    }
   ],
   "source": [
    "# 문자(딕셔너리 타입)를 딕셔너리\n",
    "# '{\"속성1\": \"값1\",\"속성2\":\"값2\"}' => {\"속성1\": \"값1\",\"속성2\":\"값2\"}\n",
    "import json\n",
    "json.loads(text)"
   ]
  },
  {
   "cell_type": "markdown",
   "id": "ef993fb0",
   "metadata": {},
   "source": [
    "## 2.2 html 파일\n",
    "### 1) 환율정보 가져오기 (네이버->증권->시장지표)\n",
    "- https://finance.naver.com/marketindex/"
   ]
  },
  {
   "cell_type": "code",
   "execution_count": 68,
   "id": "307736d6",
   "metadata": {},
   "outputs": [],
   "source": [
    "# 방법1\n",
    "import requests\n",
    "from bs4 import BeautifulSoup\n",
    "url = 'https://finance.naver.com/marketindex'\n",
    "response = requests.get(url)\n",
    "# response, response.status_code\n",
    "# response.content \n",
    "# response.content.decode('cp949') == response.text\n",
    "soup = BeautifulSoup(response.text, # response.content\n",
    "                    'html.parser')"
   ]
  },
  {
   "cell_type": "code",
   "execution_count": 78,
   "id": "79cb23ee",
   "metadata": {},
   "outputs": [],
   "source": [
    "# 방법2\n",
    "from urllib.request import urlopen\n",
    "response = urlopen(url)\n",
    "# response.status 상태코드\n",
    "# response.read()\n",
    "# response.read().decode('cp949')\n",
    "soup = BeautifulSoup(response,  # response.read()\n",
    "                     'html.parser')"
   ]
  },
  {
   "cell_type": "code",
   "execution_count": 80,
   "id": "2f07c54f",
   "metadata": {},
   "outputs": [
    {
     "name": "stdout",
     "output_type": "stream",
     "text": [
      "미국 USD\t일본 JPY(100엔)\t유럽연합 EUR\t중국 CNY\t달러/일본 엔\t유로/달러\t영국 파운드/달러\t달러인덱스\tWTI\t휘발유\t국제 금\t국내 금\t"
     ]
    }
   ],
   "source": [
    "title = soup.select('h3.h_lst > span.blind')\n",
    "for t in title:\n",
    "    print(t.text, end='\\t')"
   ]
  },
  {
   "cell_type": "code",
   "execution_count": 97,
   "id": "319c7c84",
   "metadata": {},
   "outputs": [
    {
     "data": {
      "text/plain": [
       "[1375, 952, 1556, 191, 144, 1, 1, 99, 61, 1633, 3300, 146168]"
      ]
     },
     "execution_count": 97,
     "metadata": {},
     "output_type": "execute_result"
    }
   ],
   "source": [
    "price = soup.select('div.head_info > span.value')\n",
    "[p.text for p in price]\n",
    "[round(float(p.text.replace(',',''))) for p in price]\n",
    "[round(float(''.join(p.text.split(',')))) for p in price]"
   ]
  },
  {
   "cell_type": "code",
   "execution_count": 87,
   "id": "99b9bb7d",
   "metadata": {},
   "outputs": [
    {
     "data": {
      "text/plain": [
       "1375"
      ]
     },
     "execution_count": 87,
     "metadata": {},
     "output_type": "execute_result"
    }
   ],
   "source": [
    "out = '1,374.70'\n",
    "round(float(''.join(out.split(','))))"
   ]
  },
  {
   "cell_type": "code",
   "execution_count": 90,
   "id": "9cd1662b",
   "metadata": {},
   "outputs": [
    {
     "data": {
      "text/plain": [
       "1375"
      ]
     },
     "execution_count": 90,
     "metadata": {},
     "output_type": "execute_result"
    }
   ],
   "source": [
    "round(float(out.replace(',','')))"
   ]
  },
  {
   "cell_type": "code",
   "execution_count": 100,
   "id": "4337f400",
   "metadata": {},
   "outputs": [
    {
     "data": {
      "text/plain": [
       "['원', '원', '원', '원', '엔', '달러', '달러', '', '달러', '원', '달러', '원']"
      ]
     },
     "execution_count": 100,
     "metadata": {},
     "output_type": "execute_result"
    }
   ],
   "source": [
    "unit = soup.select('div.head_info > span > span.blind')\n",
    "unit = [u.text for u in unit]\n",
    "unit.insert(7, '') # 7번째 index에 '' 추가\n",
    "unit"
   ]
  },
  {
   "cell_type": "code",
   "execution_count": 105,
   "id": "98ea6c7a",
   "metadata": {},
   "outputs": [
    {
     "data": {
      "text/plain": [
       "['하락', '하락', '하락', '하락', '상승', '하락', '하락', '상승', '하락', '하락', '하락', '상승']"
      ]
     },
     "execution_count": 105,
     "metadata": {},
     "output_type": "execute_result"
    }
   ],
   "source": [
    "status = soup.select('div.head_info > span.blind')\n",
    "[t.text for t in title]\n",
    "[p.text for p in price]\n",
    "unit\n",
    "[s.string for s in status]"
   ]
  },
  {
   "cell_type": "code",
   "execution_count": 106,
   "id": "581803ba",
   "metadata": {},
   "outputs": [
    {
     "data": {
      "text/plain": [
       "(12, 12, 12, 12)"
      ]
     },
     "execution_count": 106,
     "metadata": {},
     "output_type": "execute_result"
    }
   ],
   "source": [
    "len(title), len(price), len(unit), len(status)"
   ]
  },
  {
   "cell_type": "code",
   "execution_count": 111,
   "id": "ccdc10dd",
   "metadata": {},
   "outputs": [
    {
     "name": "stdout",
     "output_type": "stream",
     "text": [
      "1. 미국 USD : 1,374.70원 - 하락\n",
      "2. 일본 JPY(100엔) : 952.47원 - 하락\n",
      "3. 유럽연합 EUR : 1,555.89원 - 하락\n",
      "4. 중국 CNY : 190.99원 - 하락\n",
      "5. 달러/일본 엔 : 144.3800엔 - 상승\n",
      "6. 유로/달러 : 1.1342달러 - 하락\n",
      "7. 영국 파운드/달러 : 1.3520달러 - 하락\n",
      "8. 달러인덱스 : 99.4200 - 상승\n",
      "9. WTI : 60.89달러 - 하락\n",
      "10. 휘발유 : 1633.17원 - 하락\n",
      "11. 국제 금 : 3300.4달러 - 하락\n",
      "12. 국내 금 : 146167.95원 - 상승\n"
     ]
    }
   ],
   "source": [
    "for idx in range(len(title)):\n",
    "    print(\"{}. {} : {}{} - {}\".format(idx+1,\n",
    "                                     title[idx].text,\n",
    "                                     price[idx].text,\n",
    "                                     unit[idx],\n",
    "                                     status[idx].text))"
   ]
  },
  {
   "cell_type": "code",
   "execution_count": 112,
   "id": "d6451b99",
   "metadata": {},
   "outputs": [
    {
     "name": "stdout",
     "output_type": "stream",
     "text": [
      "미국 USD : 1,374.70원 - 하락\n",
      "일본 JPY(100엔) : 952.47원 - 하락\n",
      "유럽연합 EUR : 1,555.89원 - 하락\n",
      "중국 CNY : 190.99원 - 하락\n",
      "달러/일본 엔 : 144.3800엔 - 상승\n",
      "유로/달러 : 1.1342달러 - 하락\n",
      "영국 파운드/달러 : 1.3520달러 - 하락\n",
      "달러인덱스 : 99.4200 - 상승\n",
      "WTI : 60.89달러 - 하락\n",
      "휘발유 : 1633.17원 - 하락\n",
      "국제 금 : 3300.4달러 - 하락\n",
      "국내 금 : 146167.95원 - 상승\n"
     ]
    }
   ],
   "source": [
    "for t, p, u, s  in zip(title, price, unit, status):\n",
    "    print(\"{} : {}{} - {}\".format(t.text,\n",
    "                                 p.text,\n",
    "                                 u,\n",
    "                                 s.text))"
   ]
  },
  {
   "cell_type": "code",
   "execution_count": 115,
   "id": "d1131cb8",
   "metadata": {},
   "outputs": [
    {
     "name": "stdout",
     "output_type": "stream",
     "text": [
      "1. 미국 USD : 1,374.70원 - 하락\n",
      "2. 일본 JPY(100엔) : 952.47원 - 하락\n",
      "3. 유럽연합 EUR : 1,555.89원 - 하락\n",
      "4. 중국 CNY : 190.99원 - 하락\n",
      "5. 달러/일본 엔 : 144.3800엔 - 상승\n",
      "6. 유로/달러 : 1.1342달러 - 하락\n",
      "7. 영국 파운드/달러 : 1.3520달러 - 하락\n",
      "8. 달러인덱스 : 99.4200 - 상승\n",
      "9. WTI : 60.89달러 - 하락\n",
      "10. 휘발유 : 1633.17원 - 하락\n",
      "11. 국제 금 : 3300.4달러 - 하락\n",
      "12. 국내 금 : 146167.95원 - 상승\n"
     ]
    }
   ],
   "source": [
    "for idx, (t, p, u, s)  in enumerate(zip(title, price, unit, status)):\n",
    "    print(\"{}. {} : {}{} - {}\".format(idx+1,\n",
    "                                t.text,\n",
    "                                p.text,\n",
    "                                u,\n",
    "                                s.text))"
   ]
  },
  {
   "cell_type": "markdown",
   "id": "8bf1d7eb",
   "metadata": {},
   "source": [
    "### 2) 이번주 로또번호 출력\n",
    "- https://dhlottery.co.kr/gameResult.do?method=byWin(google에 \"로또번호 당첨번호\" 검색)\n",
    "```\n",
    "    1173회(2025년 05월 24일 추첨)\n",
    "    당첨번호 [1 5 18 20 30 35]\n",
    "    보너스 3\n",
    "```"
   ]
  },
  {
   "cell_type": "code",
   "execution_count": 13,
   "id": "ab5bb105",
   "metadata": {},
   "outputs": [],
   "source": [
    "# 방법1의 soup객체 생성\n",
    "import requests\n",
    "from bs4 import BeautifulSoup\n",
    "url = 'https://dhlottery.co.kr/gameResult.do?method=byWin'\n",
    "response = requests.get(url)\n",
    "soup = BeautifulSoup(response.content, # response.text\n",
    "                    \"html.parser\")"
   ]
  },
  {
   "cell_type": "code",
   "execution_count": 14,
   "id": "e0dfc36c",
   "metadata": {},
   "outputs": [],
   "source": [
    "# 방법2의 sou객체 생성\n",
    "from urllib.request import urlopen\n",
    "response = urlopen(url)\n",
    "soup = BeautifulSoup(response, \"html.parser\")"
   ]
  },
  {
   "cell_type": "code",
   "execution_count": 19,
   "id": "0fe0e308",
   "metadata": {},
   "outputs": [
    {
     "name": "stdout",
     "output_type": "stream",
     "text": [
      "1173회 (2025년 05월 24일 추첨)\n",
      "당첨번호 [1, 5, 18, 20, 30, 35]\n",
      "보너스 3\n"
     ]
    }
   ],
   "source": [
    "times = soup.select_one('div.win_result > h4 > strong').text # 1173회\n",
    "date = soup.select_one('div.win_result >p.desc').text  #(2025년 05월 24일 추첨)\n",
    "print(times, date)\n",
    "title1 = soup.select_one('div.num.win > strong').text\n",
    "lotto_number = soup.select('div.num.win > p > span')\n",
    "print(title1, [int(lotto.text) for lotto in lotto_number])\n",
    "title2 = soup.select_one('div.num.bonus > strong').string\n",
    "bonus_number = soup.select_one('div.num.bonus > p > span').text\n",
    "print(title2, bonus_number)"
   ]
  },
  {
   "cell_type": "code",
   "execution_count": 39,
   "id": "08d98682",
   "metadata": {},
   "outputs": [
    {
     "name": "stdout",
     "output_type": "stream",
     "text": [
      "1173회 (2025년 05월 24일 추첨)\n",
      "당첨번호 [1, 5, 18, 20, 30, 35]\n",
      "보너스 3\n"
     ]
    }
   ],
   "source": [
    "# 위의 select 함수를 find함수로\n",
    "#times = soup.select_one('div.win_result > h4 > strong').text # 1173회\n",
    "win_result = soup.find('div', class_=\"win_result\")\n",
    "times = win_result.find('strong').text\n",
    "# date = soup.select_one('div.win_result >p.desc').text  #(2025년 05월 24일 추첨)\n",
    "date = soup.find('p', class_='desc').text\n",
    "print(times, date)\n",
    "# title1 = soup.select_one('div.num.win > strong').text\n",
    "num_win = soup.find('div', class_=['win'])\n",
    "title1 = num_win.find('strong').text\n",
    "# lotto_number = soup.select('div.num.win > p > span')\n",
    "lotto_number = num_win.find_all('span') # 배열\n",
    "print(title1, [int(lotto.text) for lotto in lotto_number])\n",
    "# title2 = soup.select_one('div.num.bonus > strong').string\n",
    "num_bonus = soup.find('div', class_=['bonus'])\n",
    "title2 = num_bonus.find('strong').text\n",
    "# bonus_number = soup.select_one('div.num.bonus > p > span').text\n",
    "bonus_number = num_bonus.find('span').text\n",
    "print(title2, bonus_number)"
   ]
  },
  {
   "cell_type": "markdown",
   "id": "bfad7e0c",
   "metadata": {},
   "source": [
    "### 3) 다음 검색 리스트\n",
    "```\n",
    "no  title   link\n",
    "0 [비트코인 2025] 백악관 크립토 차르~ https://v.daum.net/v/20250528103907230\n",
    "1 [비즈 나우] 비트코인 2025 컨퍼런~   https://v.daum.net/v/20250528075215864\n",
    "....\n",
    "```"
   ]
  },
  {
   "cell_type": "code",
   "execution_count": 56,
   "id": "e18b5134",
   "metadata": {},
   "outputs": [
    {
     "data": {
      "text/html": [
       "<div>\n",
       "<style scoped>\n",
       "    .dataframe tbody tr th:only-of-type {\n",
       "        vertical-align: middle;\n",
       "    }\n",
       "\n",
       "    .dataframe tbody tr th {\n",
       "        vertical-align: top;\n",
       "    }\n",
       "\n",
       "    .dataframe thead th {\n",
       "        text-align: right;\n",
       "    }\n",
       "</style>\n",
       "<table border=\"1\" class=\"dataframe\">\n",
       "  <thead>\n",
       "    <tr style=\"text-align: right;\">\n",
       "      <th></th>\n",
       "      <th>no</th>\n",
       "      <th>title</th>\n",
       "      <th>link</th>\n",
       "    </tr>\n",
       "  </thead>\n",
       "  <tbody>\n",
       "    <tr>\n",
       "      <th>0</th>\n",
       "      <td>0</td>\n",
       "      <td>[비즈 나우] 비트코인 2025 컨퍼런스 개막…'전략자산' 선언 코앞</td>\n",
       "      <td>http://v.daum.net/v/20250528075215864</td>\n",
       "    </tr>\n",
       "    <tr>\n",
       "      <th>1</th>\n",
       "      <td>1</td>\n",
       "      <td>[비트코인 2025] 백악관 크립토 차르 “美 정부 비트코인 추가 매입 검토…부채...</td>\n",
       "      <td>http://v.daum.net/v/20250528103907230</td>\n",
       "    </tr>\n",
       "    <tr>\n",
       "      <th>2</th>\n",
       "      <td>2</td>\n",
       "      <td>비트코인, 트럼프 미디어 비축 소식에도 주춤…1억5100만원대</td>\n",
       "      <td>http://v.daum.net/v/20250528095112897</td>\n",
       "    </tr>\n",
       "    <tr>\n",
       "      <th>3</th>\n",
       "      <td>3</td>\n",
       "      <td>“맥O날드보다 맛없어!” 혹평이 가득한 트럼프 만찬과 비트코인 피자데이[엠블록레터]</td>\n",
       "      <td>http://v.daum.net/v/20250528143002735</td>\n",
       "    </tr>\n",
       "    <tr>\n",
       "      <th>4</th>\n",
       "      <td>4</td>\n",
       "      <td>美 상원의원 \"트럼프 대통령, 비트코인법 지지\"</td>\n",
       "      <td>http://v.daum.net/v/20250528090342853</td>\n",
       "    </tr>\n",
       "    <tr>\n",
       "      <th>5</th>\n",
       "      <td>5</td>\n",
       "      <td>[비트코인 2025] 로빈후드 창업자 “토큰화 증권은 美 ‘자본 패권’ 키우는 수단”</td>\n",
       "      <td>http://v.daum.net/v/20250528110600761</td>\n",
       "    </tr>\n",
       "    <tr>\n",
       "      <th>6</th>\n",
       "      <td>6</td>\n",
       "      <td>'비트코인 빚투' 스트레티지, 또 샀다…보유량 58만개 돌파</td>\n",
       "      <td>http://v.daum.net/v/20250528042404292</td>\n",
       "    </tr>\n",
       "    <tr>\n",
       "      <th>7</th>\n",
       "      <td>7</td>\n",
       "      <td>\"비트코인 산다\"…트럼프家, 25억달러 자금 조달 추진[코인브리핑]</td>\n",
       "      <td>http://v.daum.net/v/20250528111837527</td>\n",
       "    </tr>\n",
       "    <tr>\n",
       "      <th>8</th>\n",
       "      <td>8</td>\n",
       "      <td>숨 고르는 비트코인, 10만8000달러선 '주춤'</td>\n",
       "      <td>http://v.daum.net/v/20250528095921258</td>\n",
       "    </tr>\n",
       "    <tr>\n",
       "      <th>9</th>\n",
       "      <td>9</td>\n",
       "      <td>트럼프미디어그룹, 25억 달러 규모 자금 조달 통해 비트코인 매입 예고</td>\n",
       "      <td>http://v.daum.net/v/20250528084245020</td>\n",
       "    </tr>\n",
       "  </tbody>\n",
       "</table>\n",
       "</div>"
      ],
      "text/plain": [
       "   no                                              title  \\\n",
       "0   0            [비즈 나우] 비트코인 2025 컨퍼런스 개막…'전략자산' 선언 코앞    \n",
       "1   1   [비트코인 2025] 백악관 크립토 차르 “美 정부 비트코인 추가 매입 검토…부채...   \n",
       "2   2                비트코인, 트럼프 미디어 비축 소식에도 주춤…1억5100만원대    \n",
       "3   3    “맥O날드보다 맛없어!” 혹평이 가득한 트럼프 만찬과 비트코인 피자데이[엠블록레터]    \n",
       "4   4                        美 상원의원 \"트럼프 대통령, 비트코인법 지지\"    \n",
       "5   5   [비트코인 2025] 로빈후드 창업자 “토큰화 증권은 美 ‘자본 패권’ 키우는 수단”    \n",
       "6   6                 '비트코인 빚투' 스트레티지, 또 샀다…보유량 58만개 돌파    \n",
       "7   7             \"비트코인 산다\"…트럼프家, 25억달러 자금 조달 추진[코인브리핑]    \n",
       "8   8                       숨 고르는 비트코인, 10만8000달러선 '주춤'    \n",
       "9   9           트럼프미디어그룹, 25억 달러 규모 자금 조달 통해 비트코인 매입 예고    \n",
       "\n",
       "                                    link  \n",
       "0  http://v.daum.net/v/20250528075215864  \n",
       "1  http://v.daum.net/v/20250528103907230  \n",
       "2  http://v.daum.net/v/20250528095112897  \n",
       "3  http://v.daum.net/v/20250528143002735  \n",
       "4  http://v.daum.net/v/20250528090342853  \n",
       "5  http://v.daum.net/v/20250528110600761  \n",
       "6  http://v.daum.net/v/20250528042404292  \n",
       "7  http://v.daum.net/v/20250528111837527  \n",
       "8  http://v.daum.net/v/20250528095921258  \n",
       "9  http://v.daum.net/v/20250528084245020  "
      ]
     },
     "execution_count": 56,
     "metadata": {},
     "output_type": "execute_result"
    }
   ],
   "source": [
    "# 방법1\n",
    "import requests\n",
    "from bs4 import BeautifulSoup\n",
    "word = '비트코인'\n",
    "url = 'https://search.daum.net/search?w=news&nil_search=btn&DA=NTB&enc=utf8&cluster=y&q='+word\n",
    "response = requests.get(url)\n",
    "soup = BeautifulSoup(response.text, # response.content\n",
    "                    \"html.parser\")\n",
    "items_find_list = [] # 검색한 결과를 담을 dict list\n",
    "items_el = soup.select('div.item-title > strong.tit-g.clamp-g > a')\n",
    "# len(items_el)\n",
    "for idx, item in enumerate(items_el):\n",
    "    items_find_list.append({'no': idx,\n",
    "                           'title': item.text,\n",
    "                           'link': item.attrs['href']})\n",
    "import pandas as pd\n",
    "pd.DataFrame(items_find_list)"
   ]
  },
  {
   "cell_type": "code",
   "execution_count": 64,
   "id": "1cef6f54",
   "metadata": {},
   "outputs": [
    {
     "data": {
      "text/html": [
       "<div>\n",
       "<style scoped>\n",
       "    .dataframe tbody tr th:only-of-type {\n",
       "        vertical-align: middle;\n",
       "    }\n",
       "\n",
       "    .dataframe tbody tr th {\n",
       "        vertical-align: top;\n",
       "    }\n",
       "\n",
       "    .dataframe thead th {\n",
       "        text-align: right;\n",
       "    }\n",
       "</style>\n",
       "<table border=\"1\" class=\"dataframe\">\n",
       "  <thead>\n",
       "    <tr style=\"text-align: right;\">\n",
       "      <th></th>\n",
       "      <th>no</th>\n",
       "      <th>title</th>\n",
       "      <th>link</th>\n",
       "    </tr>\n",
       "  </thead>\n",
       "  <tbody>\n",
       "    <tr>\n",
       "      <th>0</th>\n",
       "      <td>0</td>\n",
       "      <td>[비트코인 2025] 백악관 크립토 차르 “美 정부 비트코인 추가 매입 검토…부채...</td>\n",
       "      <td>http://v.daum.net/v/20250528103907230</td>\n",
       "    </tr>\n",
       "    <tr>\n",
       "      <th>1</th>\n",
       "      <td>1</td>\n",
       "      <td>[비즈 나우] 비트코인 2025 컨퍼런스 개막…'전략자산' 선언 코앞</td>\n",
       "      <td>http://v.daum.net/v/20250528075215864</td>\n",
       "    </tr>\n",
       "    <tr>\n",
       "      <th>2</th>\n",
       "      <td>2</td>\n",
       "      <td>“맥O날드보다 맛없어!” 혹평이 가득한 트럼프 만찬과 비트코인 피자데이[엠블록레터]</td>\n",
       "      <td>http://v.daum.net/v/20250528143002735</td>\n",
       "    </tr>\n",
       "    <tr>\n",
       "      <th>3</th>\n",
       "      <td>3</td>\n",
       "      <td>블랙록, 자사 비트코인 ETF 보유량 25% 확대…기관 투자 본격화 신호탄</td>\n",
       "      <td>http://v.daum.net/v/20250528151802080</td>\n",
       "    </tr>\n",
       "    <tr>\n",
       "      <th>4</th>\n",
       "      <td>4</td>\n",
       "      <td>비트코인, 트럼프 미디어 비축 소식에도 주춤…1억5100만원대</td>\n",
       "      <td>http://v.daum.net/v/20250528095112897</td>\n",
       "    </tr>\n",
       "    <tr>\n",
       "      <th>5</th>\n",
       "      <td>5</td>\n",
       "      <td>'비트코인 빚투' 스트레티지, 또 샀다…보유량 58만개 돌파</td>\n",
       "      <td>http://v.daum.net/v/20250528042404292</td>\n",
       "    </tr>\n",
       "    <tr>\n",
       "      <th>6</th>\n",
       "      <td>6</td>\n",
       "      <td>美 상원의원 \"트럼프 대통령, 비트코인법 지지\"</td>\n",
       "      <td>http://v.daum.net/v/20250528090342853</td>\n",
       "    </tr>\n",
       "    <tr>\n",
       "      <th>7</th>\n",
       "      <td>7</td>\n",
       "      <td>숨 고르는 비트코인, 10만8000달러선 '주춤'</td>\n",
       "      <td>http://v.daum.net/v/20250528095921258</td>\n",
       "    </tr>\n",
       "    <tr>\n",
       "      <th>8</th>\n",
       "      <td>8</td>\n",
       "      <td>[비트코인 2025] 로빈후드 창업자 “토큰화 증권은 美 ‘자본 패권’ 키우는 수단”</td>\n",
       "      <td>http://v.daum.net/v/20250528110600761</td>\n",
       "    </tr>\n",
       "    <tr>\n",
       "      <th>9</th>\n",
       "      <td>9</td>\n",
       "      <td>트럼프미디어그룹, 25억 달러 규모 자금 조달 통해 비트코인 매입 예고</td>\n",
       "      <td>http://v.daum.net/v/20250528084245020</td>\n",
       "    </tr>\n",
       "  </tbody>\n",
       "</table>\n",
       "</div>"
      ],
      "text/plain": [
       "   no                                              title  \\\n",
       "0   0   [비트코인 2025] 백악관 크립토 차르 “美 정부 비트코인 추가 매입 검토…부채...   \n",
       "1   1            [비즈 나우] 비트코인 2025 컨퍼런스 개막…'전략자산' 선언 코앞    \n",
       "2   2    “맥O날드보다 맛없어!” 혹평이 가득한 트럼프 만찬과 비트코인 피자데이[엠블록레터]    \n",
       "3   3         블랙록, 자사 비트코인 ETF 보유량 25% 확대…기관 투자 본격화 신호탄    \n",
       "4   4                비트코인, 트럼프 미디어 비축 소식에도 주춤…1억5100만원대    \n",
       "5   5                 '비트코인 빚투' 스트레티지, 또 샀다…보유량 58만개 돌파    \n",
       "6   6                        美 상원의원 \"트럼프 대통령, 비트코인법 지지\"    \n",
       "7   7                       숨 고르는 비트코인, 10만8000달러선 '주춤'    \n",
       "8   8   [비트코인 2025] 로빈후드 창업자 “토큰화 증권은 美 ‘자본 패권’ 키우는 수단”    \n",
       "9   9           트럼프미디어그룹, 25억 달러 규모 자금 조달 통해 비트코인 매입 예고    \n",
       "\n",
       "                                    link  \n",
       "0  http://v.daum.net/v/20250528103907230  \n",
       "1  http://v.daum.net/v/20250528075215864  \n",
       "2  http://v.daum.net/v/20250528143002735  \n",
       "3  http://v.daum.net/v/20250528151802080  \n",
       "4  http://v.daum.net/v/20250528095112897  \n",
       "5  http://v.daum.net/v/20250528042404292  \n",
       "6  http://v.daum.net/v/20250528090342853  \n",
       "7  http://v.daum.net/v/20250528095921258  \n",
       "8  http://v.daum.net/v/20250528110600761  \n",
       "9  http://v.daum.net/v/20250528084245020  "
      ]
     },
     "execution_count": 64,
     "metadata": {},
     "output_type": "execute_result"
    }
   ],
   "source": [
    "import requests\n",
    "from bs4 import BeautifulSoup\n",
    "word = '비트코인'\n",
    "url = 'https://search.daum.net/search?w=news&nil_search=btn&DA=NTB&enc=utf8&cluster=y&cluster_page=1&q='+word\n",
    "response = requests.get(url)\n",
    "soup = BeautifulSoup(response.text, # response.content\n",
    "                    \"html.parser\")\n",
    "items_find_list = [] # 검색한 결과를 담을 2차원 리스트\n",
    "items_el = soup.select('div.item-title > strong.tit-g.clamp-g > a')\n",
    "for idx, item in enumerate(items_el):\n",
    "    items_find_list.append([idx, item.text, item.attrs.get('href')])\n",
    "# items_find_list\n",
    "import pandas as pd\n",
    "pd.DataFrame(items_find_list, columns=['no', 'title', 'link'])"
   ]
  },
  {
   "cell_type": "code",
   "execution_count": 77,
   "id": "7b706949",
   "metadata": {},
   "outputs": [
    {
     "name": "stdout",
     "output_type": "stream",
     "text": [
      "{'no': 10, 'title': ' 트럼프미디어그룹, 25억 달러 규모 자금 조달 통해 비트코인 매입 예고 ', 'link': 'http://v.daum.net/v/20250528084245020'}\n",
      "{'no': 11, 'title': ' 연일 최고가 경신하는 비트코인…투자자들 강 건너 불구경하는 이유는 ', 'link': 'http://v.daum.net/v/20250526212400275'}\n",
      "{'no': 12, 'title': ' \"비트코인 산다\"…트럼프家, 25억달러 자금 조달 추진[코인브리핑] ', 'link': 'http://v.daum.net/v/20250528111837527'}\n",
      "{'no': 13, 'title': ' [김대호 박사의 오늘의 키워드] 소비자신뢰지수·비트코인 2025·머스크 한마디·애플 괘씸죄 ', 'link': 'http://v.daum.net/v/20250528071325361'}\n",
      "{'no': 14, 'title': ' 잘 나가는 비트코인 산다는데 왜?…트럼프 미디어 주가 10% 급락 [투자360] ', 'link': 'http://v.daum.net/v/20250528074002668'}\n",
      "{'no': 15, 'title': ' \"테슬라 팔고 갈아탔어요\"…자녀계좌 보던 엄마들 \\'돌변\\' [마켓PRO] ', 'link': 'http://v.daum.net/v/20250528094602647'}\n",
      "{'no': 16, 'title': ' 달러 스테이블코인, 국내 거래 확산…당국 외환흐름 통제력 약화 우려 ', 'link': 'http://v.daum.net/v/20250528152520516'}\n",
      "{'no': 17, 'title': ' 스트래티지, 비트코인 4020개 추가 매입...보유량 58만개 돌파 ', 'link': 'http://v.daum.net/v/20250527081116129'}\n",
      "{'no': 18, 'title': ' 비트코인과 엇갈리는 이더리움·리플, 왜? ', 'link': 'http://v.daum.net/v/20250526164319028'}\n",
      "{'no': 19, 'title': ' [영상] “강세장 진입한 비트코인, 내년 2분기까지 최소 20만~30만 달러 갈 듯” ', 'link': 'http://v.daum.net/v/20250527090137566'}\n"
     ]
    }
   ],
   "source": [
    "# 다음 뉴스 검색(키워드, 원하는 페이지수)\n",
    "import requests\n",
    "from bs4 import BeautifulSoup\n",
    "import pandas as pd\n",
    "import time\n",
    "keyword = '비트코인'\n",
    "page = 2\n",
    "# url = f'https://search.daum.net/search?w=news&nil_search=btn&DA=PGD&enc=utf8&cluster=y&q={keyword}&p={page}'\n",
    "# response = requests.get(url)\n",
    "url = f'https://search.daum.net/search?w=news&nil_search=btn&DA=PGD&enc=utf8&cluster=y'\n",
    "params = {'q':keyword, 'p':page}\n",
    "response = requests.get(url, params=params)\n",
    "soup = BeautifulSoup(response.text,  # response.content\n",
    "                    'html.parser')\n",
    "items_find_list = [] # 검색한 결과를 담을 dict list\n",
    "items_el = soup.select('div.item-title > strong.tit-g.clamp-g > a')\n",
    "# len(items_el)\n",
    "for idx, item in enumerate(items_el):\n",
    "    items_find_list.append({'no': (page-1)*10 + idx,\n",
    "                           'title': item.text,\n",
    "                           'link': item.attrs['href']})\n",
    "    print({'no': (page-1)*10 + idx,\n",
    "           'title': item.text,\n",
    "           'link': item.attrs['href']})"
   ]
  },
  {
   "cell_type": "code",
   "execution_count": 116,
   "id": "9c8990df",
   "metadata": {},
   "outputs": [],
   "source": [
    "import requests\n",
    "from bs4 import BeautifulSoup\n",
    "import pandas as pd\n",
    "import time\n",
    "def collect_list(keyword, page=1):\n",
    "    'keyword로 다음 검색한 결과(해당 page)를 return'\n",
    "    url = f'https://search.daum.net/search?w=news&nil_search=btn&DA=PGD&enc=utf8&cluster=y'\n",
    "    params = {'q':keyword, 'p':page}\n",
    "    response = requests.get(url, params=params)\n",
    "    soup = BeautifulSoup(response.text,  # response.content\n",
    "                    'html.parser')\n",
    "    items_find_list = [] # 검색한 결과를 담을 dict list\n",
    "    items_el = soup.select('div.item-title > strong.tit-g.clamp-g > a')\n",
    "    for idx, item in enumerate(items_el):\n",
    "        items_find_list.append({'no': (page-1)*10 + idx,\n",
    "                           'title': item.text,\n",
    "                           'link': item.attrs['href']})\n",
    "    return items_find_list"
   ]
  },
  {
   "cell_type": "code",
   "execution_count": 102,
   "id": "395c1a7e",
   "metadata": {},
   "outputs": [
    {
     "data": {
      "text/plain": [
       "[{'no': 10,\n",
       "  'title': ' 60대인데요, 청바지를 다시 입었습니다 ',\n",
       "  'link': 'http://v.daum.net/v/20250430145405823'},\n",
       " {'no': 11,\n",
       "  'title': \" '45kg' 윤은혜, 청바지가 헐렁…'40세' 비현실적 자기관리 끝판왕 \",\n",
       "  'link': 'http://v.daum.net/v/20250513174826265'},\n",
       " {'no': 12,\n",
       "  'title': ' 173㎝ 장원영 맵시 美쳤네, 청바지 하나 입었을 뿐인데 [스타화보] ',\n",
       "  'link': 'http://v.daum.net/v/20250522115656470'},\n",
       " {'no': 13,\n",
       "  'title': ' 손담비, 출산 한 달도 안 됐는데 외출…청바지 폼 애엄마 맞나 ',\n",
       "  'link': 'http://v.daum.net/v/20250506171902866'},\n",
       " {'no': 14,\n",
       "  'title': ' 48세 김희선, 흰 셔츠+청바지 기본템 입었을 뿐인데‥미모 레전드 ',\n",
       "  'link': 'http://v.daum.net/v/20250511134648392'},\n",
       " {'no': 15,\n",
       "  'title': ' 윤은혜, 40세 맞아?…청바지도 헐렁한 극세사 몸매+동안 미모 ',\n",
       "  'link': 'http://v.daum.net/v/20250515063005066'},\n",
       " {'no': 16,\n",
       "  'title': ' “브래지어에 청바지만”…20년만에 속옷 모델 된 추성훈 아내 야노 시호 ‘파격’ ',\n",
       "  'link': 'http://v.daum.net/v/20250515195400237'},\n",
       " {'no': 17,\n",
       "  'title': ' ‘청바지’ 입은 안철수 ‘학식’ 이준석 쫓아갔지만 ',\n",
       "  'link': 'http://v.daum.net/v/20250521160401791'},\n",
       " {'no': 18,\n",
       "  'title': \" 길은혜,'청바지 핏 뽐내며 입장' [사진] \",\n",
       "  'link': 'http://v.daum.net/v/20250523182738772'},\n",
       " {'no': 19,\n",
       "  'title': ' 손담비, 출산 한달만 살 쏙 빼고 청바지까지 성공! 41세 출산 안 믿기네 ',\n",
       "  'link': 'http://v.daum.net/v/20250507150816172'}]"
      ]
     },
     "execution_count": 102,
     "metadata": {},
     "output_type": "execute_result"
    }
   ],
   "source": [
    "collect_list('청바지',2)"
   ]
  },
  {
   "cell_type": "code",
   "execution_count": 103,
   "id": "977a0731",
   "metadata": {},
   "outputs": [
    {
     "data": {
      "text/html": [
       "<div>\n",
       "<style scoped>\n",
       "    .dataframe tbody tr th:only-of-type {\n",
       "        vertical-align: middle;\n",
       "    }\n",
       "\n",
       "    .dataframe tbody tr th {\n",
       "        vertical-align: top;\n",
       "    }\n",
       "\n",
       "    .dataframe thead th {\n",
       "        text-align: right;\n",
       "    }\n",
       "</style>\n",
       "<table border=\"1\" class=\"dataframe\">\n",
       "  <thead>\n",
       "    <tr style=\"text-align: right;\">\n",
       "      <th></th>\n",
       "      <th>no</th>\n",
       "      <th>title</th>\n",
       "      <th>link</th>\n",
       "    </tr>\n",
       "  </thead>\n",
       "  <tbody>\n",
       "    <tr>\n",
       "      <th>0</th>\n",
       "      <td>0</td>\n",
       "      <td>'이병헌♥' 이민정, 매장 통째로 빌려 청바지 쇼핑</td>\n",
       "      <td>http://v.daum.net/v/20250528050507783</td>\n",
       "    </tr>\n",
       "    <tr>\n",
       "      <th>1</th>\n",
       "      <td>1</td>\n",
       "      <td>“추앙받을 만 하네”… 김지원, 셔츠에 청바지만 입어도 공항 ‘정지’</td>\n",
       "      <td>http://v.daum.net/v/20250526182411395</td>\n",
       "    </tr>\n",
       "    <tr>\n",
       "      <th>2</th>\n",
       "      <td>2</td>\n",
       "      <td>흰 티셔츠에 청바지 정석대로 입는 법</td>\n",
       "      <td>http://v.daum.net/v/20250527185425864</td>\n",
       "    </tr>\n",
       "    <tr>\n",
       "      <th>3</th>\n",
       "      <td>3</td>\n",
       "      <td>이민정, 매장 빌려 폭풍 쇼핑 \"10년 전 샀던 청바지는 응급실\"(MJ)</td>\n",
       "      <td>http://v.daum.net/v/20250527191015309</td>\n",
       "    </tr>\n",
       "    <tr>\n",
       "      <th>4</th>\n",
       "      <td>4</td>\n",
       "      <td>‘이병헌♥’ 이민정, 청바지 사는데 매장 통째로 빌렸다..남다른 쇼핑 클래스 “나...</td>\n",
       "      <td>http://v.daum.net/v/20250527192310643</td>\n",
       "    </tr>\n",
       "  </tbody>\n",
       "</table>\n",
       "</div>"
      ],
      "text/plain": [
       "   no                                              title  \\\n",
       "0   0                      '이병헌♥' 이민정, 매장 통째로 빌려 청바지 쇼핑    \n",
       "1   1            “추앙받을 만 하네”… 김지원, 셔츠에 청바지만 입어도 공항 ‘정지’    \n",
       "2   2                              흰 티셔츠에 청바지 정석대로 입는 법    \n",
       "3   3          이민정, 매장 빌려 폭풍 쇼핑 \"10년 전 샀던 청바지는 응급실\"(MJ)    \n",
       "4   4   ‘이병헌♥’ 이민정, 청바지 사는데 매장 통째로 빌렸다..남다른 쇼핑 클래스 “나...   \n",
       "\n",
       "                                    link  \n",
       "0  http://v.daum.net/v/20250528050507783  \n",
       "1  http://v.daum.net/v/20250526182411395  \n",
       "2  http://v.daum.net/v/20250527185425864  \n",
       "3  http://v.daum.net/v/20250527191015309  \n",
       "4  http://v.daum.net/v/20250527192310643  "
      ]
     },
     "execution_count": 103,
     "metadata": {},
     "output_type": "execute_result"
    }
   ],
   "source": [
    "# 원하는 keyword로 다음검색\n",
    "result = []\n",
    "keyword = \"청바지\"\n",
    "pages = 4\n",
    "for page in range(1, pages+1):\n",
    "    result.extend(collect_list(keyword, page))\n",
    "    time.sleep(3)\n",
    "result_df = pd.DataFrame(result)\n",
    "result_df.head()"
   ]
  },
  {
   "cell_type": "code",
   "execution_count": 122,
   "id": "34e93e91",
   "metadata": {},
   "outputs": [
    {
     "name": "stdout",
     "output_type": "stream",
     "text": [
      "~ ~ ~ 0번째 청바지 1 검색 중입니다 ~ ~ ~\n",
      "~ ~ ~ 0번째 청바지 2 검색 중입니다 ~ ~ ~\n",
      "~ ~ ~ 1번째 면바지 1 검색 중입니다 ~ ~ ~\n",
      "~ ~ ~ 1번째 면바지 2 검색 중입니다 ~ ~ ~\n"
     ]
    }
   ],
   "source": [
    "keywords = ['청바지','면바지']\n",
    "pages = 2\n",
    "result0 = [] # 청바지 검색결과 50개\n",
    "result1 = [] # 면바지 검색결과 50개\n",
    "for i, keyword in enumerate(keywords):\n",
    "    for page in range(1, pages+1):\n",
    "        print(f'~ ~ ~ {i}번째 {keyword} {page} 검색 중입니다 ~ ~ ~')\n",
    "        if i==0:\n",
    "            result0.extend(collect_list(keyword, page))\n",
    "        else:\n",
    "            result1.extend(collect_list(keyword, page))\n",
    "        time.sleep(4)"
   ]
  },
  {
   "cell_type": "code",
   "execution_count": 123,
   "id": "cf06a065",
   "metadata": {},
   "outputs": [
    {
     "data": {
      "text/html": [
       "<div>\n",
       "<style scoped>\n",
       "    .dataframe tbody tr th:only-of-type {\n",
       "        vertical-align: middle;\n",
       "    }\n",
       "\n",
       "    .dataframe tbody tr th {\n",
       "        vertical-align: top;\n",
       "    }\n",
       "\n",
       "    .dataframe thead th {\n",
       "        text-align: right;\n",
       "    }\n",
       "</style>\n",
       "<table border=\"1\" class=\"dataframe\">\n",
       "  <thead>\n",
       "    <tr style=\"text-align: right;\">\n",
       "      <th></th>\n",
       "      <th>no</th>\n",
       "      <th>title</th>\n",
       "      <th>link</th>\n",
       "    </tr>\n",
       "  </thead>\n",
       "  <tbody>\n",
       "    <tr>\n",
       "      <th>0</th>\n",
       "      <td>0</td>\n",
       "      <td>'이병헌♥' 이민정, 매장 통째로 빌려 청바지 쇼핑</td>\n",
       "      <td>http://v.daum.net/v/20250528050507783</td>\n",
       "    </tr>\n",
       "    <tr>\n",
       "      <th>1</th>\n",
       "      <td>1</td>\n",
       "      <td>“추앙받을 만 하네”… 김지원, 셔츠에 청바지만 입어도 공항 ‘정지’</td>\n",
       "      <td>http://v.daum.net/v/20250526182411395</td>\n",
       "    </tr>\n",
       "    <tr>\n",
       "      <th>2</th>\n",
       "      <td>2</td>\n",
       "      <td>흰 티셔츠에 청바지 정석대로 입는 법</td>\n",
       "      <td>http://v.daum.net/v/20250527185425864</td>\n",
       "    </tr>\n",
       "    <tr>\n",
       "      <th>3</th>\n",
       "      <td>3</td>\n",
       "      <td>이민정, 매장 빌려 폭풍 쇼핑 \"10년 전 샀던 청바지는 응급실\"(MJ)</td>\n",
       "      <td>http://v.daum.net/v/20250527191015309</td>\n",
       "    </tr>\n",
       "    <tr>\n",
       "      <th>4</th>\n",
       "      <td>4</td>\n",
       "      <td>‘이병헌♥’ 이민정, 청바지 사는데 매장 통째로 빌렸다..남다른 쇼핑 클래스 “나...</td>\n",
       "      <td>http://v.daum.net/v/20250527192310643</td>\n",
       "    </tr>\n",
       "  </tbody>\n",
       "</table>\n",
       "</div>"
      ],
      "text/plain": [
       "   no                                              title  \\\n",
       "0   0                      '이병헌♥' 이민정, 매장 통째로 빌려 청바지 쇼핑    \n",
       "1   1            “추앙받을 만 하네”… 김지원, 셔츠에 청바지만 입어도 공항 ‘정지’    \n",
       "2   2                              흰 티셔츠에 청바지 정석대로 입는 법    \n",
       "3   3          이민정, 매장 빌려 폭풍 쇼핑 \"10년 전 샀던 청바지는 응급실\"(MJ)    \n",
       "4   4   ‘이병헌♥’ 이민정, 청바지 사는데 매장 통째로 빌렸다..남다른 쇼핑 클래스 “나...   \n",
       "\n",
       "                                    link  \n",
       "0  http://v.daum.net/v/20250528050507783  \n",
       "1  http://v.daum.net/v/20250526182411395  \n",
       "2  http://v.daum.net/v/20250527185425864  \n",
       "3  http://v.daum.net/v/20250527191015309  \n",
       "4  http://v.daum.net/v/20250527192310643  "
      ]
     },
     "execution_count": 123,
     "metadata": {},
     "output_type": "execute_result"
    }
   ],
   "source": [
    "result0_df = pd.DataFrame(result0)\n",
    "result0_df.head()"
   ]
  },
  {
   "cell_type": "code",
   "execution_count": 124,
   "id": "348f5e97",
   "metadata": {},
   "outputs": [
    {
     "data": {
      "text/html": [
       "<div>\n",
       "<style scoped>\n",
       "    .dataframe tbody tr th:only-of-type {\n",
       "        vertical-align: middle;\n",
       "    }\n",
       "\n",
       "    .dataframe tbody tr th {\n",
       "        vertical-align: top;\n",
       "    }\n",
       "\n",
       "    .dataframe thead th {\n",
       "        text-align: right;\n",
       "    }\n",
       "</style>\n",
       "<table border=\"1\" class=\"dataframe\">\n",
       "  <thead>\n",
       "    <tr style=\"text-align: right;\">\n",
       "      <th></th>\n",
       "      <th>no</th>\n",
       "      <th>title</th>\n",
       "      <th>link</th>\n",
       "    </tr>\n",
       "  </thead>\n",
       "  <tbody>\n",
       "    <tr>\n",
       "      <th>0</th>\n",
       "      <td>0</td>\n",
       "      <td>사천에서 쾌청한 날씨 속 탁 트인 남해 풍경 즐겨요!</td>\n",
       "      <td>http://v.daum.net/v/20250528104429529</td>\n",
       "    </tr>\n",
       "    <tr>\n",
       "      <th>1</th>\n",
       "      <td>1</td>\n",
       "      <td>윤승아, ♥김무열 쏙 빼닮은 깜찍 子 하객룩 공개‥벌써 우월한 유전자</td>\n",
       "      <td>http://v.daum.net/v/20250526145941690</td>\n",
       "    </tr>\n",
       "    <tr>\n",
       "      <th>2</th>\n",
       "      <td>2</td>\n",
       "      <td>이번 주 포천 여행,반팔 하나로 충분할까?</td>\n",
       "      <td>http://v.daum.net/v/20250527171732518</td>\n",
       "    </tr>\n",
       "    <tr>\n",
       "      <th>3</th>\n",
       "      <td>3</td>\n",
       "      <td>이재명, 첫 대학 방문…이준석 겨냥?</td>\n",
       "      <td>http://v.daum.net/v/20250526191942751</td>\n",
       "    </tr>\n",
       "    <tr>\n",
       "      <th>4</th>\n",
       "      <td>4</td>\n",
       "      <td>\"나는 젊어\" 팔소매 접은 이준석의 '흰셔츠' 속에도 뼈가 담겼다[21대 대선 리...</td>\n",
       "      <td>http://v.daum.net/v/20250525070013619</td>\n",
       "    </tr>\n",
       "  </tbody>\n",
       "</table>\n",
       "</div>"
      ],
      "text/plain": [
       "   no                                              title  \\\n",
       "0   0                     사천에서 쾌청한 날씨 속 탁 트인 남해 풍경 즐겨요!    \n",
       "1   1            윤승아, ♥김무열 쏙 빼닮은 깜찍 子 하객룩 공개‥벌써 우월한 유전자    \n",
       "2   2                           이번 주 포천 여행,반팔 하나로 충분할까?    \n",
       "3   3                              이재명, 첫 대학 방문…이준석 겨냥?    \n",
       "4   4   \"나는 젊어\" 팔소매 접은 이준석의 '흰셔츠' 속에도 뼈가 담겼다[21대 대선 리...   \n",
       "\n",
       "                                    link  \n",
       "0  http://v.daum.net/v/20250528104429529  \n",
       "1  http://v.daum.net/v/20250526145941690  \n",
       "2  http://v.daum.net/v/20250527171732518  \n",
       "3  http://v.daum.net/v/20250526191942751  \n",
       "4  http://v.daum.net/v/20250525070013619  "
      ]
     },
     "execution_count": 124,
     "metadata": {},
     "output_type": "execute_result"
    }
   ],
   "source": [
    "result1_df = pd.DataFrame(result1)\n",
    "result1_df.head()"
   ]
  },
  {
   "cell_type": "code",
   "execution_count": 125,
   "id": "414e19b5",
   "metadata": {},
   "outputs": [],
   "source": [
    "result0_df.to_csv('data/ch14_'+keywords[0]+'.csv', index=False, encoding='cp949')\n",
    "result1_df.to_csv('data/ch14_'+keywords[1]+'.csv', index=False)"
   ]
  },
  {
   "cell_type": "markdown",
   "id": "696a1f27",
   "metadata": {},
   "source": [
    "### 4) User-agent를 추가하여 크롤링\n",
    "- urlopen()함수를 사용하면 크롤링이 안 되는 사이트\n",
    "- User-agent를 추가하여 크롤링"
   ]
  },
  {
   "cell_type": "code",
   "execution_count": 121,
   "id": "e7946640",
   "metadata": {},
   "outputs": [
    {
     "data": {
      "text/plain": [
       "[{'no': 0,\n",
       "  'title': \" '이병헌♥' 이민정, 매장 통째로 빌려 청바지 쇼핑 \",\n",
       "  'link': 'http://v.daum.net/v/20250528050507783'},\n",
       " {'no': 1,\n",
       "  'title': ' “추앙받을 만 하네”… 김지원, 셔츠에 청바지만 입어도 공항 ‘정지’ ',\n",
       "  'link': 'http://v.daum.net/v/20250526182411395'},\n",
       " {'no': 2,\n",
       "  'title': ' 흰 티셔츠에 청바지 정석대로 입는 법 ',\n",
       "  'link': 'http://v.daum.net/v/20250527185425864'},\n",
       " {'no': 3,\n",
       "  'title': ' 이민정, 매장 빌려 폭풍 쇼핑 \"10년 전 샀던 청바지는 응급실\"(MJ) ',\n",
       "  'link': 'http://v.daum.net/v/20250527191015309'},\n",
       " {'no': 4,\n",
       "  'title': ' ‘이병헌♥’ 이민정, 청바지 사는데 매장 통째로 빌렸다..남다른 쇼핑 클래스 “나는 즉흥적”(이민정 MJ) ',\n",
       "  'link': 'http://v.daum.net/v/20250527192310643'},\n",
       " {'no': 5,\n",
       "  'title': ' 이시영처럼 다리 길어보이고 싶어서 청바지 분석함 [입스타그램] ',\n",
       "  'link': 'http://v.daum.net/v/20250519172231644'},\n",
       " {'no': 6,\n",
       "  'title': ' \\'의사 그만둔\\' 고윤정, 흰 티+청바지...\"정석 미녀\" [★해시태그] ',\n",
       "  'link': 'http://v.daum.net/v/20250522182007490'},\n",
       " {'no': 7,\n",
       "  'title': ' \"청렴이 최고\" … 창원특례시 성산구 문화위생과, \\'청바지 데이\\' 추진 ',\n",
       "  'link': 'http://v.daum.net/v/20250511091428626'},\n",
       " {'no': 8,\n",
       "  'title': ' 패셔니스타 김지원, 청바지가 어울리는 여자랍니다! [포토] ',\n",
       "  'link': 'http://v.daum.net/v/20250518220139191'},\n",
       " {'no': 9,\n",
       "  'title': ' 박병은 \"류준하로 3개월 활동\"…청바지 모델 시절 언급 ',\n",
       "  'link': 'http://v.daum.net/v/20250519190323957'}]"
      ]
     },
     "execution_count": 121,
     "metadata": {},
     "output_type": "execute_result"
    }
   ],
   "source": [
    "# 방법2\n",
    "from urllib.request import urlopen, Request\n",
    "import urllib.parse\n",
    "word = '비트코인'\n",
    "word = urllib.parse.quote(word)\n",
    "# print(word)\n",
    "url = 'https://search.daum.net/search?w=news&nil_search=btn&DA=NTB&enc=utf8&cluster=y&cluster_page=1&q='+word\n",
    "# User-Agent를 추가하여 브라우저처럼 보이게 포장\n",
    "headers = {'user-agent':\n",
    "         'Mozilla/5.0 (Windows NT 10.0; Win64; x64) AppleWebKit/537.36 (KHTML, like Gecko) Chrome/136.0.0.0 Safari/537.36'}\n",
    "request = Request(url, headers=headers)\n",
    "response = urlopen(request)\n",
    "soup = BeautifulSoup(response, # response.content\n",
    "                    \"html.parser\")\n",
    "def collect_list(keyword, page=1):\n",
    "    'keyword로 다음 검색한 결과(해당 page)를 return'\n",
    "    url = f'https://search.daum.net/search?w=news&nil_search=btn&DA=PGD&enc=utf8&cluster=y'\n",
    "    params = {'q':keyword, 'p':page}\n",
    "    response = requests.get(url, params=params)\n",
    "    soup = BeautifulSoup(response.text,  # response.content\n",
    "                    'html.parser')\n",
    "    items_find_list = [] # 검색한 결과를 담을 dict list\n",
    "    items_el = soup.select('div.item-title > strong.tit-g.clamp-g > a')\n",
    "    for idx, item in enumerate(items_el):\n",
    "        items_find_list.append({'no': (page-1)*10 + idx,\n",
    "                           'title': item.text,\n",
    "                           'link': item.attrs['href']})\n",
    "    return items_find_list\n",
    "collect_list(\"청바지\", 1)"
   ]
  },
  {
   "cell_type": "markdown",
   "id": "e842bfc5",
   "metadata": {},
   "source": [
    "- 꼭 User-Agent를 사용하여야 하는 경우 : https://www.melon.com/chart/"
   ]
  },
  {
   "cell_type": "code",
   "execution_count": 128,
   "id": "085e3740",
   "metadata": {},
   "outputs": [
    {
     "data": {
      "text/plain": [
       "406"
      ]
     },
     "execution_count": 128,
     "metadata": {},
     "output_type": "execute_result"
    }
   ],
   "source": [
    "# 방법1\n",
    "import requests\n",
    "from bs4 import BeautifulSoup\n",
    "url = 'https://www.melon.com/chart/'\n",
    "melonpage = requests.get(url)\n",
    "melonpage.status_code"
   ]
  },
  {
   "cell_type": "code",
   "execution_count": 131,
   "id": "31a40fad",
   "metadata": {},
   "outputs": [],
   "source": [
    "# 방법2\n",
    "from urllib.request import urlopen, Request\n",
    "# melonpage = urlopen(url) 에러남"
   ]
  },
  {
   "cell_type": "code",
   "execution_count": 135,
   "id": "d6d1b871",
   "metadata": {},
   "outputs": [],
   "source": [
    "# User-Agent 추가\n",
    "headers = {'user-agent':\n",
    "    'Mozilla/5.0 (Windows NT 10.0; Win64; x64) AppleWebKit/537.36 (KHTML, like Gecko) Chrome/136.0.0.0 Safari/537.36'\n",
    "}\n",
    "# 방법2\n",
    "request = Request(url, headers=headers)\n",
    "melonpage = urlopen(request)\n",
    "# 방법1\n",
    "melonpage = requests.get(url, headers=headers)\n",
    "soup = BeautifulSoup(melonpage.text, # melonpage.content\n",
    "                    \"html.parser\")\n",
    "#soup"
   ]
  },
  {
   "cell_type": "code",
   "execution_count": 142,
   "id": "50646be1",
   "metadata": {},
   "outputs": [
    {
     "name": "stdout",
     "output_type": "stream",
     "text": [
      "1위 | 너에게 닿기를 - 10CM\n",
      "2위 | Never Ending Story - 아이유\n",
      "3위 | Drowning - WOODZ\n",
      "4위 | like JENNIE - 제니 (JENNIE)\n",
      "5위 | 모르시나요(PROD.로코베리) - 조째즈\n",
      "6위 | THUNDER - 세븐틴 (SEVENTEEN)\n",
      "7위 | TOO BAD (feat. Anderson .Paak) - G-DRAGON\n",
      "8위 | 네모의 꿈 - 아이유\n",
      "9위 | Whiplash - aespa\n",
      "10위 | HOME SWEET HOME (feat. 태양, 대성) - G-DRAGON\n",
      "11위 | 나는 반딧불 - 황가람\n",
      "12위 | 어제보다 슬픈 오늘 - 우디 (Woody)\n",
      "13위 | 오늘만 I LOVE YOU - BOYNEXTDOOR\n",
      "14위 | REBEL HEART - IVE (아이브)\n",
      "15위 | HAPPY - DAY6 (데이식스)\n",
      "16위 | 빨간 운동화 - 아이유\n",
      "17위 | Flower - 오반(OVAN)\n",
      "18위 | APT. - 로제 (ROSÉ), Bruno Mars\n",
      "19위 | 청춘만화 - 이무진\n",
      "20위 | HOT - LE SSERAFIM (르세라핌)\n",
      "21위 | 10월 4일 - 아이유\n",
      "22위 | 한 페이지가 될 수 있게 - DAY6 (데이식스)\n",
      "23위 | Last Scene (Feat. 원슈타인) - 아이유\n",
      "24위 | HBD - 세븐틴 (SEVENTEEN)\n",
      "25위 | MY LOVE(2025) - 이예은, 아샤트리, 전건호\n",
      "26위 | 그날이 오면 - 투모로우바이투게더\n",
      "27위 | 내게 사랑이 뭐냐고 물어본다면 - 로이킴\n",
      "28위 | Fly Up - RIIZE\n",
      "29위 | Welcome to the Show - DAY6 (데이식스)\n",
      "30위 | 소나기 - 이클립스 (ECLIPSE)\n",
      "31위 | 천상연 - 이창섭\n",
      "32위 | Die With A Smile - Lady Gaga, Bruno Mars\n",
      "33위 | toxic till the end - 로제 (ROSÉ)\n",
      "34위 | HANDS UP - MEOVV (미야오)\n",
      "35위 | Supernova - aespa\n",
      "36위 | 예뻤어 - DAY6 (데이식스)\n",
      "37위 | Skyfall (THE 8 Solo) - 세븐틴 (SEVENTEEN)\n",
      "38위 | ATTITUDE - IVE (아이브)\n",
      "39위 | I DO ME - KiiiKiii (키키)\n",
      "40위 | 미치게 그리워서 - 황가람\n",
      "41위 | 미인 (Feat. Balming Tiger) - 아이유\n",
      "42위 | 어떻게 이별까지 사랑하겠어, 널 사랑하는 거지 - AKMU (악뮤)\n",
      "43위 | DRIP - BABYMONSTER\n",
      "44위 | Love wins all - 아이유\n",
      "45위 | PO￦ER - G-DRAGON\n",
      "46위 | 청혼하지 않을 이유를 못 찾았어 - 이무진\n",
      "47위 | 그대만 있다면 (여름날 우리 X 너드커넥션 (Nerd Connection)) - 너드커넥션 (Nerd Connection)\n",
      "48위 | 사랑은 늘 도망가 - 임영웅\n",
      "49위 | Bad Influence (Prod. by Pharrell Williams) - 세븐틴 (SEVENTEEN)\n",
      "50위 | 내 이름 맑음 - QWER\n",
      "51위 | 99.9% (WONWOO Solo) - 세븐틴 (SEVENTEEN)\n",
      "52위 | 슬픈 초대장 - 순순희(지환)\n",
      "53위 | 첫 만남은 계획대로 되지 않아 - TWS (투어스)\n",
      "54위 | Fortunate Change (JOSHUA Solo) - 세븐틴 (SEVENTEEN)\n",
      "55위 | Raindrops (SEUNGKWAN Solo) - 세븐틴 (SEVENTEEN)\n",
      "56위 | UP (KARINA Solo) - aespa\n",
      "57위 | 고민중독 - QWER\n",
      "58위 | 나는 아픈 건 딱 질색이니까 - i-dle (아이들)\n",
      "59위 | 주저하는 연인들을 위해 - 잔나비\n",
      "60위 | TAKE ME - G-DRAGON\n",
      "61위 | 너의 모든 순간 - 성시경\n",
      "62위 | 운명 (WOOZI Solo) - 세븐틴 (SEVENTEEN)\n",
      "63위 | Damage (HOSHI Solo) (feat. Timbaland) - 세븐틴 (SEVENTEEN)\n",
      "64위 | Happy Virus (DK Solo) - 세븐틴 (SEVENTEEN)\n",
      "65위 | Magnetic - 아일릿(ILLIT)\n",
      "66위 | How Sweet - NewJeans\n",
      "67위 | 사랑인가 봐 - 멜로망스\n",
      "68위 | I Feel Good - BOYNEXTDOOR\n",
      "69위 | 에피소드 - 이무진\n",
      "70위 | 비의 랩소디 - 임재현\n",
      "71위 | Shake It Off (MINGYU Solo) - 세븐틴 (SEVENTEEN)\n",
      "72위 | 우연 (JEONGHAN Solo) - 세븐틴 (SEVENTEEN)\n",
      "73위 | Bag Bad Back - RIIZE\n",
      "74위 | 123-78 - BOYNEXTDOOR\n",
      "75위 | 모든 날, 모든 순간 (Every day, Every Moment) - 폴킴\n",
      "76위 | The Chase - Hearts2Hearts (하츠투하츠)\n",
      "77위 | 시작의 아이 - 마크툽 (MAKTUB)\n",
      "78위 | Supersonic - 프로미스나인\n",
      "79위 | Jungle (S.COUPS Solo) - 세븐틴 (SEVENTEEN)\n",
      "80위 | 쌍둥이자리 (Gemini) (JUN Solo) - 세븐틴 (SEVENTEEN)\n",
      "81위 | I AM - IVE (아이브)\n",
      "82위 | Shining Star (Vernon Solo) - 세븐틴 (SEVENTEEN)\n",
      "83위 | Hype Boy - NewJeans\n",
      "84위 | 다정히 내 이름을 부르면 - 경서예지, 전건호\n",
      "85위 | Seven (feat. Latto) - Clean Ver. - 정국\n",
      "86위 | 헤어지자 말해요 - 박재정\n",
      "87위 | Trigger (DINO Solo) - 세븐틴 (SEVENTEEN)\n",
      "88위 | 영원해 - 도경수(D.O.)\n",
      "89위 | 이렇게 좋아해 본 적이 없어요 - BOYNEXTDOOR\n",
      "90위 | 우리들의 블루스 - 임영웅\n",
      "91위 | 봄날 - 방탄소년단\n",
      "92위 | 무제(無題) (Untitled, 2014) - G-DRAGON\n",
      "93위 | 천국보다 아름다운 - 임영웅\n",
      "94위 | 인사 - 범진\n",
      "95위 | 굿데이 2025 (텔레파시 + 달빛 창가에서) - G-DRAGON, 황정민, 데프콘, 홍진경, 정형돈, 조세호, 기안84, 안성재, 태양, 정해인, 황광희, 임시완, 이수혁, 대성, 코드 쿤스트 (CODE KUNST), CL, 김고은, DAY6 (데이식스), 부석순 (SEVENTEEN), aespa\n",
      "96위 | Sticky - KISS OF LIFE\n",
      "97위 | Small girl (feat. 도경수(D.O.)) - 이영지\n",
      "98위 | Dash - PLAVE\n",
      "99위 | 사막에서 꽃을 피우듯 - 우디 (Woody)\n",
      "100위 | 다시 만날 수 있을까 - 임영웅\n"
     ]
    }
   ],
   "source": [
    "# 멜론 순위, 노래제목, 가수, 좋아요갯수\n",
    "# 1위 | 너에게 닿기를 | 10cm (100위까지 크롤링)\n",
    "title_els = soup.select('div.ellipsis.rank01 > span')\n",
    "singer_els = soup.select('div.ellipsis.rank02 > span.checkEllipsis')\n",
    "len([title.text.strip() for title in title_els]), \\\n",
    "len([singer.text for singer in singer_els])\n",
    "for idx, (title, singer) in enumerate(zip(title_els, singer_els)):\n",
    "    print('{}위 | {} - {}'.format(idx+1,\n",
    "                                 title.text.strip(),\n",
    "                                 singer.text))"
   ]
  },
  {
   "cell_type": "markdown",
   "id": "315f020d",
   "metadata": {},
   "source": [
    "### 5)네이버 지식인으로 검색(open API 사용X)\n",
    "- 특정 keyword를 특정페이지 수(3)만큼 검색한 결과 데이터프레임으로 출력"
   ]
  },
  {
   "cell_type": "code",
   "execution_count": 5,
   "id": "e0628c68",
   "metadata": {},
   "outputs": [],
   "source": [
    "# 방법1\n",
    "from requests import get\n",
    "from bs4 import BeautifulSoup\n",
    "keyword = '쳇지피티'\n",
    "url = 'https://kin.naver.com/search/list.naver?query={}'.format(keyword)\n",
    "# print(url)\n",
    "response = get(url)\n",
    "# response.status_code\n",
    "soup = BeautifulSoup(response.text, # response.content\n",
    "                    'html.parser')"
   ]
  },
  {
   "cell_type": "code",
   "execution_count": 7,
   "id": "b340a42a",
   "metadata": {},
   "outputs": [
    {
     "name": "stdout",
     "output_type": "stream",
     "text": [
      "https://kin.naver.com/search/list.naver?query=%EC%B3%87%EC%A7%80%ED%94%BC%ED%8B%B0\n"
     ]
    }
   ],
   "source": [
    "# 방법2\n",
    "from urllib.request import urlopen\n",
    "from urllib.parse import quote\n",
    "# 쳇지피티 -> %EC%B3%87%EC%A7%80%ED%94%BC%ED%8B%B0\n",
    "keyword = quote(keyword) # url 인코딩된 문자열로 전환\n",
    "url = 'https://kin.naver.com/search/list.naver?query={}'.format(keyword)\n",
    "# print(url)\n",
    "response = urlopen(url)\n",
    "soup = BeautifulSoup(response, # response.read()\n",
    "                     'html.parser')"
   ]
  },
  {
   "cell_type": "code",
   "execution_count": 22,
   "id": "afa393e9",
   "metadata": {},
   "outputs": [
    {
     "data": {
      "text/html": [
       "<div>\n",
       "<style scoped>\n",
       "    .dataframe tbody tr th:only-of-type {\n",
       "        vertical-align: middle;\n",
       "    }\n",
       "\n",
       "    .dataframe tbody tr th {\n",
       "        vertical-align: top;\n",
       "    }\n",
       "\n",
       "    .dataframe thead th {\n",
       "        text-align: right;\n",
       "    }\n",
       "</style>\n",
       "<table border=\"1\" class=\"dataframe\">\n",
       "  <thead>\n",
       "    <tr style=\"text-align: right;\">\n",
       "      <th></th>\n",
       "      <th>title</th>\n",
       "      <th>link</th>\n",
       "    </tr>\n",
       "  </thead>\n",
       "  <tbody>\n",
       "    <tr>\n",
       "      <th>0</th>\n",
       "      <td>쳇지피티 논문 출처</td>\n",
       "      <td>https://kin.naver.com/qna/detail.naver?d1id=4&amp;...</td>\n",
       "    </tr>\n",
       "    <tr>\n",
       "      <th>1</th>\n",
       "      <td>쳇지피티 한도</td>\n",
       "      <td>https://kin.naver.com/qna/detail.naver?d1id=1&amp;...</td>\n",
       "    </tr>\n",
       "    <tr>\n",
       "      <th>2</th>\n",
       "      <td>쳇지피티 사용 확인 AI</td>\n",
       "      <td>https://kin.naver.com/qna/detail.naver?d1id=5&amp;...</td>\n",
       "    </tr>\n",
       "    <tr>\n",
       "      <th>3</th>\n",
       "      <td>쳇지피티 이거 뭐예요?해킹 뭐그런거...</td>\n",
       "      <td>https://kin.naver.com/qna/detail.naver?d1id=1&amp;...</td>\n",
       "    </tr>\n",
       "    <tr>\n",
       "      <th>4</th>\n",
       "      <td>쳇지피티 ai 소라 질문이요</td>\n",
       "      <td>https://kin.naver.com/qna/detail.naver?d1id=1&amp;...</td>\n",
       "    </tr>\n",
       "    <tr>\n",
       "      <th>5</th>\n",
       "      <td>쳇지피티 초기화</td>\n",
       "      <td>https://kin.naver.com/qna/detail.naver?d1id=1&amp;...</td>\n",
       "    </tr>\n",
       "    <tr>\n",
       "      <th>6</th>\n",
       "      <td>학교 생기부 쳇지피티</td>\n",
       "      <td>https://kin.naver.com/qna/detail.naver?d1id=4&amp;...</td>\n",
       "    </tr>\n",
       "    <tr>\n",
       "      <th>7</th>\n",
       "      <td>제가 직접 쓴 자소서 쳇지피티</td>\n",
       "      <td>https://kin.naver.com/qna/detail.naver?d1id=4&amp;...</td>\n",
       "    </tr>\n",
       "    <tr>\n",
       "      <th>8</th>\n",
       "      <td>쳇지피티 질문입니다.</td>\n",
       "      <td>https://kin.naver.com/qna/detail.naver?d1id=1&amp;...</td>\n",
       "    </tr>\n",
       "    <tr>\n",
       "      <th>9</th>\n",
       "      <td>쳇지피티 채팅 문제</td>\n",
       "      <td>https://kin.naver.com/qna/detail.naver?d1id=1&amp;...</td>\n",
       "    </tr>\n",
       "    <tr>\n",
       "      <th>10</th>\n",
       "      <td>쳇지피티 뤼튼</td>\n",
       "      <td>https://kin.naver.com/qna/detail.naver?d1id=8&amp;...</td>\n",
       "    </tr>\n",
       "    <tr>\n",
       "      <th>11</th>\n",
       "      <td>쳇지피티 화면 이상</td>\n",
       "      <td>https://kin.naver.com/qna/detail.naver?d1id=1&amp;...</td>\n",
       "    </tr>\n",
       "    <tr>\n",
       "      <th>12</th>\n",
       "      <td>쳇지피티 수식답변 오류</td>\n",
       "      <td>https://kin.naver.com/qna/detail.naver?d1id=1&amp;...</td>\n",
       "    </tr>\n",
       "    <tr>\n",
       "      <th>13</th>\n",
       "      <td>쳇지피티 캐릭터제작입니다</td>\n",
       "      <td>https://kin.naver.com/qna/detail.naver?d1id=2&amp;...</td>\n",
       "    </tr>\n",
       "    <tr>\n",
       "      <th>14</th>\n",
       "      <td>솔직히 과제 쳇지피티 모르죠?</td>\n",
       "      <td>https://kin.naver.com/qna/detail.naver?d1id=11...</td>\n",
       "    </tr>\n",
       "    <tr>\n",
       "      <th>15</th>\n",
       "      <td>쳇지피티 메모리 부정적</td>\n",
       "      <td>https://kin.naver.com/qna/detail.naver?d1id=8&amp;...</td>\n",
       "    </tr>\n",
       "    <tr>\n",
       "      <th>16</th>\n",
       "      <td>쳇지피티 댓글</td>\n",
       "      <td>https://kin.naver.com/qna/detail.naver?d1id=8&amp;...</td>\n",
       "    </tr>\n",
       "    <tr>\n",
       "      <th>17</th>\n",
       "      <td>쳇지피티 말 바꿈</td>\n",
       "      <td>https://kin.naver.com/qna/detail.naver?d1id=1&amp;...</td>\n",
       "    </tr>\n",
       "    <tr>\n",
       "      <th>18</th>\n",
       "      <td>쳇지피티 사주</td>\n",
       "      <td>https://kin.naver.com/qna/detail.naver?d1id=3&amp;...</td>\n",
       "    </tr>\n",
       "    <tr>\n",
       "      <th>19</th>\n",
       "      <td>쳇지피티 용량 문제?</td>\n",
       "      <td>https://kin.naver.com/qna/detail.naver?d1id=1&amp;...</td>\n",
       "    </tr>\n",
       "    <tr>\n",
       "      <th>20</th>\n",
       "      <td>쳇지피티 계정 삭제하면 구독 끝나요?</td>\n",
       "      <td>https://kin.naver.com/qna/detail.naver?d1id=4&amp;...</td>\n",
       "    </tr>\n",
       "    <tr>\n",
       "      <th>21</th>\n",
       "      <td>대학 과제 쳇지피티 저작권</td>\n",
       "      <td>https://kin.naver.com/qna/detail.naver?d1id=6&amp;...</td>\n",
       "    </tr>\n",
       "    <tr>\n",
       "      <th>22</th>\n",
       "      <td>쳇지피티 이거 왜이래요</td>\n",
       "      <td>https://kin.naver.com/qna/detail.naver?d1id=8&amp;...</td>\n",
       "    </tr>\n",
       "    <tr>\n",
       "      <th>23</th>\n",
       "      <td>쳇지피티 무슨앱</td>\n",
       "      <td>https://kin.naver.com/qna/detail.naver?d1id=1&amp;...</td>\n",
       "    </tr>\n",
       "    <tr>\n",
       "      <th>24</th>\n",
       "      <td>쳇지피티 무료 한계</td>\n",
       "      <td>https://kin.naver.com/qna/detail.naver?d1id=1&amp;...</td>\n",
       "    </tr>\n",
       "    <tr>\n",
       "      <th>25</th>\n",
       "      <td>유튜브 채널 이름 추천 (쳇지피티 제외)</td>\n",
       "      <td>https://kin.naver.com/qna/detail.naver?d1id=1&amp;...</td>\n",
       "    </tr>\n",
       "    <tr>\n",
       "      <th>26</th>\n",
       "      <td>휴대폰 앱으로 쳇지피티 4.0버전...</td>\n",
       "      <td>https://kin.naver.com/qna/detail.naver?d1id=11...</td>\n",
       "    </tr>\n",
       "    <tr>\n",
       "      <th>27</th>\n",
       "      <td>쳇지피티 영수증</td>\n",
       "      <td>https://kin.naver.com/qna/detail.naver?d1id=4&amp;...</td>\n",
       "    </tr>\n",
       "    <tr>\n",
       "      <th>28</th>\n",
       "      <td>쳇지피티 사용량 상한</td>\n",
       "      <td>https://kin.naver.com/qna/detail.naver?d1id=6&amp;...</td>\n",
       "    </tr>\n",
       "    <tr>\n",
       "      <th>29</th>\n",
       "      <td>스마트폰에서 쳇지피티 한국어로...</td>\n",
       "      <td>https://kin.naver.com/qna/detail.naver?d1id=1&amp;...</td>\n",
       "    </tr>\n",
       "  </tbody>\n",
       "</table>\n",
       "</div>"
      ],
      "text/plain": [
       "                      title                                               link\n",
       "0                쳇지피티 논문 출처  https://kin.naver.com/qna/detail.naver?d1id=4&...\n",
       "1                   쳇지피티 한도  https://kin.naver.com/qna/detail.naver?d1id=1&...\n",
       "2             쳇지피티 사용 확인 AI  https://kin.naver.com/qna/detail.naver?d1id=5&...\n",
       "3   쳇지피티 이거 뭐예요?해킹 뭐그런거...   https://kin.naver.com/qna/detail.naver?d1id=1&...\n",
       "4           쳇지피티 ai 소라 질문이요  https://kin.naver.com/qna/detail.naver?d1id=1&...\n",
       "5                  쳇지피티 초기화  https://kin.naver.com/qna/detail.naver?d1id=1&...\n",
       "6               학교 생기부 쳇지피티  https://kin.naver.com/qna/detail.naver?d1id=4&...\n",
       "7          제가 직접 쓴 자소서 쳇지피티  https://kin.naver.com/qna/detail.naver?d1id=4&...\n",
       "8               쳇지피티 질문입니다.  https://kin.naver.com/qna/detail.naver?d1id=1&...\n",
       "9                쳇지피티 채팅 문제  https://kin.naver.com/qna/detail.naver?d1id=1&...\n",
       "10                  쳇지피티 뤼튼  https://kin.naver.com/qna/detail.naver?d1id=8&...\n",
       "11               쳇지피티 화면 이상  https://kin.naver.com/qna/detail.naver?d1id=1&...\n",
       "12             쳇지피티 수식답변 오류  https://kin.naver.com/qna/detail.naver?d1id=1&...\n",
       "13            쳇지피티 캐릭터제작입니다  https://kin.naver.com/qna/detail.naver?d1id=2&...\n",
       "14         솔직히 과제 쳇지피티 모르죠?  https://kin.naver.com/qna/detail.naver?d1id=11...\n",
       "15             쳇지피티 메모리 부정적  https://kin.naver.com/qna/detail.naver?d1id=8&...\n",
       "16                  쳇지피티 댓글  https://kin.naver.com/qna/detail.naver?d1id=8&...\n",
       "17                쳇지피티 말 바꿈  https://kin.naver.com/qna/detail.naver?d1id=1&...\n",
       "18                  쳇지피티 사주  https://kin.naver.com/qna/detail.naver?d1id=3&...\n",
       "19              쳇지피티 용량 문제?  https://kin.naver.com/qna/detail.naver?d1id=1&...\n",
       "20     쳇지피티 계정 삭제하면 구독 끝나요?  https://kin.naver.com/qna/detail.naver?d1id=4&...\n",
       "21           대학 과제 쳇지피티 저작권  https://kin.naver.com/qna/detail.naver?d1id=6&...\n",
       "22             쳇지피티 이거 왜이래요  https://kin.naver.com/qna/detail.naver?d1id=8&...\n",
       "23                 쳇지피티 무슨앱  https://kin.naver.com/qna/detail.naver?d1id=1&...\n",
       "24               쳇지피티 무료 한계  https://kin.naver.com/qna/detail.naver?d1id=1&...\n",
       "25   유튜브 채널 이름 추천 (쳇지피티 제외)  https://kin.naver.com/qna/detail.naver?d1id=1&...\n",
       "26   휴대폰 앱으로 쳇지피티 4.0버전...   https://kin.naver.com/qna/detail.naver?d1id=11...\n",
       "27                 쳇지피티 영수증  https://kin.naver.com/qna/detail.naver?d1id=4&...\n",
       "28              쳇지피티 사용량 상한  https://kin.naver.com/qna/detail.naver?d1id=6&...\n",
       "29     스마트폰에서 쳇지피티 한국어로...   https://kin.naver.com/qna/detail.naver?d1id=1&..."
      ]
     },
     "execution_count": 22,
     "metadata": {},
     "output_type": "execute_result"
    }
   ],
   "source": [
    "# 페이징 포함(keyword를 pages수 만큼 검색한 결과를 데이터프레임에 )\n",
    "import requests\n",
    "from bs4 import BeautifulSoup\n",
    "import pandas as pd\n",
    "keyword = '쳇지피티'\n",
    "pages = 3\n",
    "items_list = [] # 크롤링 한 데이터를 담을 list(2차원 리스트)\n",
    "for page in range(1, pages+1):\n",
    "    url = f'https://kin.naver.com/search/list.naver?query={keyword}&page={page}'\n",
    "    # print(url)\n",
    "    # 해당 url의 soup객체 -> 글제목, link를 가져와서 items_list에 append\n",
    "    response = requests.get(url)\n",
    "    # print(response.status_code) 정상 접근 가능한지 여부\n",
    "    soup = BeautifulSoup(response.text, 'html.parser')\n",
    "    items = soup.select('dt > a')\n",
    "    # print([item.attrs['href'] for item in items])\n",
    "    for item in items:\n",
    "        items_list.append([item.text, item.attrs.get('href')])\n",
    "#         items_list.append({\n",
    "#                 'title':item.text,\n",
    "#                 'link':item.attrs.get('href')})\n",
    "# print(len(items_list), '개 데이터')\n",
    "# print(items_list[:2])\n",
    "df = pd.DataFrame(items_list, columns=['title', 'link'])\n",
    "df"
   ]
  },
  {
   "cell_type": "code",
   "execution_count": 25,
   "id": "61ac2d7c",
   "metadata": {},
   "outputs": [
    {
     "data": {
      "text/html": [
       "<div>\n",
       "<style scoped>\n",
       "    .dataframe tbody tr th:only-of-type {\n",
       "        vertical-align: middle;\n",
       "    }\n",
       "\n",
       "    .dataframe tbody tr th {\n",
       "        vertical-align: top;\n",
       "    }\n",
       "\n",
       "    .dataframe thead th {\n",
       "        text-align: right;\n",
       "    }\n",
       "</style>\n",
       "<table border=\"1\" class=\"dataframe\">\n",
       "  <thead>\n",
       "    <tr style=\"text-align: right;\">\n",
       "      <th></th>\n",
       "      <th>title</th>\n",
       "      <th>link</th>\n",
       "    </tr>\n",
       "  </thead>\n",
       "  <tbody>\n",
       "    <tr>\n",
       "      <th>0</th>\n",
       "      <td>쳇지피티 논문 출처</td>\n",
       "      <td>https://kin.naver.com/qna/detail.naver?d1id=4&amp;...</td>\n",
       "    </tr>\n",
       "    <tr>\n",
       "      <th>1</th>\n",
       "      <td>쳇지피티 한도</td>\n",
       "      <td>https://kin.naver.com/qna/detail.naver?d1id=1&amp;...</td>\n",
       "    </tr>\n",
       "  </tbody>\n",
       "</table>\n",
       "</div>"
      ],
      "text/plain": [
       "        title                                               link\n",
       "0  쳇지피티 논문 출처  https://kin.naver.com/qna/detail.naver?d1id=4&...\n",
       "1     쳇지피티 한도  https://kin.naver.com/qna/detail.naver?d1id=1&..."
      ]
     },
     "execution_count": 25,
     "metadata": {},
     "output_type": "execute_result"
    }
   ],
   "source": [
    "# 페이징 포함(keyword를 pages수 만큼 검색한 결과를 데이터프레임에 )\n",
    "import requests\n",
    "from bs4 import BeautifulSoup\n",
    "import pandas as pd\n",
    "keyword = '쳇지피티'\n",
    "pages = 3\n",
    "items_list = [] # 크롤링 한 데이터를 담을 list(2차원 리스트)\n",
    "for page in range(1, pages+1):\n",
    "    url = f'https://kin.naver.com/search/list.naver?query={keyword}&page={page}'\n",
    "    # 해당 url의 soup객체 -> 글제목, link를 가져와서 items_list에 append\n",
    "    response = requests.get(url)\n",
    "    soup = BeautifulSoup(response.text, 'html.parser')\n",
    "    dts = soup.find_all('dt')\n",
    "    for dt in dts:\n",
    "        item = dt.find('a')\n",
    "        items_list.append([item.text, item.attrs.get('href')])\n",
    "df = pd.DataFrame(items_list, columns=['title', 'link'])\n",
    "df.head(2)"
   ]
  },
  {
   "cell_type": "code",
   "execution_count": 26,
   "id": "49f43826",
   "metadata": {},
   "outputs": [],
   "source": [
    "# 함수(keyword를 pages수 만큼 검색한 결과를 데이터프레임에 )\n",
    "def get_items_data(keyword, pages):\n",
    "    import requests\n",
    "    from bs4 import BeautifulSoup\n",
    "    import pandas as pd\n",
    "    items_list = [] # 크롤링 한 데이터를 담을 list(2차원 리스트)\n",
    "    for page in range(1, pages+1):\n",
    "        url = f'https://kin.naver.com/search/list.naver?query={keyword}&page={page}'\n",
    "        # 해당 url의 soup객체 -> 글제목, link를 가져와서 items_list에 append\n",
    "        response = requests.get(url)\n",
    "        soup = BeautifulSoup(response.text, 'html.parser')\n",
    "        dts = soup.find_all('dt')\n",
    "        for dt in dts:\n",
    "            item = dt.find('a')\n",
    "            items_list.append([item.text, item.attrs.get('href')])\n",
    "    return pd.DataFrame(items_list, columns=['title', 'link'])"
   ]
  },
  {
   "cell_type": "code",
   "execution_count": 28,
   "id": "56726c13",
   "metadata": {},
   "outputs": [
    {
     "data": {
      "text/html": [
       "<div>\n",
       "<style scoped>\n",
       "    .dataframe tbody tr th:only-of-type {\n",
       "        vertical-align: middle;\n",
       "    }\n",
       "\n",
       "    .dataframe tbody tr th {\n",
       "        vertical-align: top;\n",
       "    }\n",
       "\n",
       "    .dataframe thead th {\n",
       "        text-align: right;\n",
       "    }\n",
       "</style>\n",
       "<table border=\"1\" class=\"dataframe\">\n",
       "  <thead>\n",
       "    <tr style=\"text-align: right;\">\n",
       "      <th></th>\n",
       "      <th>title</th>\n",
       "      <th>link</th>\n",
       "    </tr>\n",
       "  </thead>\n",
       "  <tbody>\n",
       "    <tr>\n",
       "      <th>0</th>\n",
       "      <td>영어로 청바지를 뭐라고하나요?</td>\n",
       "      <td>https://kin.naver.com/qna/detail.naver?d1id=11...</td>\n",
       "    </tr>\n",
       "    <tr>\n",
       "      <th>1</th>\n",
       "      <td>전 남자인데, 누워서 청바지를 입으면...</td>\n",
       "      <td>https://kin.naver.com/qna/detail.naver?d1id=7&amp;...</td>\n",
       "    </tr>\n",
       "  </tbody>\n",
       "</table>\n",
       "</div>"
      ],
      "text/plain": [
       "                      title                                               link\n",
       "0          영어로 청바지를 뭐라고하나요?  https://kin.naver.com/qna/detail.naver?d1id=11...\n",
       "1  전 남자인데, 누워서 청바지를 입으면...   https://kin.naver.com/qna/detail.naver?d1id=7&..."
      ]
     },
     "execution_count": 28,
     "metadata": {},
     "output_type": "execute_result"
    }
   ],
   "source": [
    "df = get_items_data('청바지',3)\n",
    "df.head(2)"
   ]
  },
  {
   "cell_type": "markdown",
   "id": "a599cbef",
   "metadata": {},
   "source": [
    "### 6)네이버 지식인으로 검색(open API 사용O)\n",
    "- 특정 keyword를 특정데이터 수(30)만큼 검색한 결과 데이터프레임으로 출력\n",
    "    - .env에 발급받은 키 저장 -> load (pip install python-dotenv)"
   ]
  },
  {
   "cell_type": "code",
   "execution_count": 32,
   "id": "82c2e3db",
   "metadata": {},
   "outputs": [
    {
     "data": {
      "text/plain": [
       "True"
      ]
     },
     "execution_count": 32,
     "metadata": {},
     "output_type": "execute_result"
    }
   ],
   "source": [
    "# 환경변수를 가져오기\n",
    "from dotenv import load_dotenv\n",
    "import os\n",
    "load_dotenv() # dotenv_path='.env' 기본값\n",
    "# print(os.getenv('Client_ID'))\n",
    "# print(os.getenv('Client_Secret'))"
   ]
  },
  {
   "cell_type": "code",
   "execution_count": 40,
   "id": "3f242ffc",
   "metadata": {},
   "outputs": [
    {
     "name": "stdout",
     "output_type": "stream",
     "text": [
      "<class 'str'>\n",
      "<class 'dict'>\n"
     ]
    }
   ],
   "source": [
    "# 네이버 검색 API 예제 - 지식인 검색\n",
    "import os\n",
    "import sys\n",
    "import urllib.request\n",
    "client_id = os.getenv('Client_ID')\n",
    "client_secret = os.getenv('Client_Secret')\n",
    "encText = urllib.parse.quote(\"쳇지피티\")\n",
    "url = \"https://openapi.naver.com/v1/search/kin.json?query=\" + encText # JSON 결과\n",
    "# url = \"https://openapi.naver.com/v1/search/kin.xml?query=\" + encText # XML 결과\n",
    "\n",
    "headers = {'X-Naver-Client-Id': client_id,\n",
    "           'X-Naver-Client-Secret':client_secret}\n",
    "request = urllib.request.Request(url, headers=headers)\n",
    "# request = urllib.request.Request(url)\n",
    "# request.add_header(\"X-Naver-Client-Id\",client_id)\n",
    "# request.add_header(\"X-Naver-Client-Secret\",client_secret)\n",
    "\n",
    "response = urllib.request.urlopen(request)\n",
    "rescode = response.getcode()\n",
    "if(rescode==200):\n",
    "    response_body = response.read()\n",
    "    print(type(response_body.decode('utf-8')))\n",
    "    import json\n",
    "    data = json.loads(response_body.decode('utf-8')) # json형태의 str을 딕셔너리\n",
    "    print(type(data))\n",
    "    #print(data['items'])\n",
    "else:\n",
    "    print(\"Error Code:\" + rescode)"
   ]
  },
  {
   "cell_type": "code",
   "execution_count": 58,
   "id": "45929cef",
   "metadata": {},
   "outputs": [
    {
     "data": {
      "text/html": [
       "<div>\n",
       "<style scoped>\n",
       "    .dataframe tbody tr th:only-of-type {\n",
       "        vertical-align: middle;\n",
       "    }\n",
       "\n",
       "    .dataframe tbody tr th {\n",
       "        vertical-align: top;\n",
       "    }\n",
       "\n",
       "    .dataframe thead th {\n",
       "        text-align: right;\n",
       "    }\n",
       "</style>\n",
       "<table border=\"1\" class=\"dataframe\">\n",
       "  <thead>\n",
       "    <tr style=\"text-align: right;\">\n",
       "      <th></th>\n",
       "      <th>title</th>\n",
       "      <th>link</th>\n",
       "      <th>description</th>\n",
       "    </tr>\n",
       "  </thead>\n",
       "  <tbody>\n",
       "    <tr>\n",
       "      <th>0</th>\n",
       "      <td>쳇지피티 논문 출처</td>\n",
       "      <td>https://kin.naver.com/qna/detail.naver?d1id=4&amp;...</td>\n",
       "      <td>쳇지피티한테 어떤 내용에 관한 논문을 요구하고, 해당... 지피티가 스스로 여러 논...</td>\n",
       "    </tr>\n",
       "    <tr>\n",
       "      <th>1</th>\n",
       "      <td>쳇지피티 한도</td>\n",
       "      <td>https://kin.naver.com/qna/detail.naver?d1id=1&amp;...</td>\n",
       "      <td>쳇지피티 무료로 쓰고 있는데 쳇지피티로 소설 하나 쓰고 있거든요 근데 한도가 초과됐...</td>\n",
       "    </tr>\n",
       "    <tr>\n",
       "      <th>2</th>\n",
       "      <td>쳇지피티 사용 확인 AI</td>\n",
       "      <td>https://kin.naver.com/qna/detail.naver?d1id=5&amp;...</td>\n",
       "      <td>쳇지피티 사용 여부 확인하는 무료 AI 뭐가 있나요?? 좀 정확하고 확실한거로 알려...</td>\n",
       "    </tr>\n",
       "    <tr>\n",
       "      <th>3</th>\n",
       "      <td>쳇지피티 이거 뭐예요?해킹 뭐그런거 당하는거 아니죠?</td>\n",
       "      <td>https://kin.naver.com/qna/detail.naver?d1id=1&amp;...</td>\n",
       "      <td>아니 제가 크롬을 쓰는데 자꾸 쳇지피티가 한글번역도 이상하게 되고 말도 끊기는 거예...</td>\n",
       "    </tr>\n",
       "    <tr>\n",
       "      <th>4</th>\n",
       "      <td>쳇지피티 ai 소라 질문이요</td>\n",
       "      <td>https://kin.naver.com/qna/detail.naver?d1id=1&amp;...</td>\n",
       "      <td>쳇지피티 플러스 이용중이구요 어제까지만 해도 왼쪽 메뉴에 '소라' 가 있어서요 해서...</td>\n",
       "    </tr>\n",
       "    <tr>\n",
       "      <th>5</th>\n",
       "      <td>쳇지피티 초기화</td>\n",
       "      <td>https://kin.naver.com/qna/detail.naver?d1id=1&amp;...</td>\n",
       "      <td>쳇지피티 대화 목록이 사라진건 아니고 맥락에 안 맞게 말하길래 한도 초과... 챗 ...</td>\n",
       "    </tr>\n",
       "    <tr>\n",
       "      <th>6</th>\n",
       "      <td>학교 생기부 쳇지피티</td>\n",
       "      <td>https://kin.naver.com/qna/detail.naver?d1id=4&amp;...</td>\n",
       "      <td>학교에서 생기부를 작성할 때 쳇지피티를 그대로 배낀 보고서를 내면 대학에서 잡는다는...</td>\n",
       "    </tr>\n",
       "    <tr>\n",
       "      <th>7</th>\n",
       "      <td>제가 직접 쓴 자소서 쳇지피티</td>\n",
       "      <td>https://kin.naver.com/qna/detail.naver?d1id=4&amp;...</td>\n",
       "      <td>제가 직접 제 이야기로 자소서를 쓰고 쳇지피티한테 보내고 지피티가 수정해준 내용 참...</td>\n",
       "    </tr>\n",
       "    <tr>\n",
       "      <th>8</th>\n",
       "      <td>쳇지피티 질문입니다.</td>\n",
       "      <td>https://kin.naver.com/qna/detail.naver?d1id=1&amp;...</td>\n",
       "      <td>요즘 쳇지피티가 유행이길래 한번 깔아봤는데 인사조차 못알아먹는데 어떻게 하나요..?...</td>\n",
       "    </tr>\n",
       "    <tr>\n",
       "      <th>9</th>\n",
       "      <td>쳇지피티 채팅 문제</td>\n",
       "      <td>https://kin.naver.com/qna/detail.naver?d1id=1&amp;...</td>\n",
       "      <td>쳇지피티3.0 무료버전을 종종 사용합니다 제가 질문을 &amp;quot;이번에 전시회를 할...</td>\n",
       "    </tr>\n",
       "    <tr>\n",
       "      <th>10</th>\n",
       "      <td>쳇지피티 뤼튼</td>\n",
       "      <td>https://kin.naver.com/qna/detail.naver?d1id=8&amp;...</td>\n",
       "      <td>뤼튼이 쳇지피티 인가요? 아니면 유사 ai인가요? 뤼튼은 챗GPT와 유사한 AI 기...</td>\n",
       "    </tr>\n",
       "    <tr>\n",
       "      <th>11</th>\n",
       "      <td>쳇지피티 화면 이상</td>\n",
       "      <td>https://kin.naver.com/qna/detail.naver?d1id=1&amp;...</td>\n",
       "      <td>어느 날 부터 쳇지피티 화면이 아래와 같이 이상하게 보입니다.ㅠㅠ 해결 방법이 있을...</td>\n",
       "    </tr>\n",
       "    <tr>\n",
       "      <th>12</th>\n",
       "      <td>쳇지피티 캐릭터제작입니다</td>\n",
       "      <td>https://kin.naver.com/qna/detail.naver?d1id=2&amp;...</td>\n",
       "      <td>쳇 지피티에서 캐릭터를 제작하면 또 다른사람에게 똑같은 컨셉으로 해주나요? 요청에따...</td>\n",
       "    </tr>\n",
       "    <tr>\n",
       "      <th>13</th>\n",
       "      <td>솔직히 과제 쳇지피티 모르죠?</td>\n",
       "      <td>https://kin.naver.com/qna/detail.naver?d1id=11...</td>\n",
       "      <td>쌤들이 자꾸 쳇지피티 쓰면 다잡아서 점수 낮게준다던데 그걸 어떻게 구별해요? 그냥 ...</td>\n",
       "    </tr>\n",
       "    <tr>\n",
       "      <th>14</th>\n",
       "      <td>쳇지피티 메모리 부정적</td>\n",
       "      <td>https://kin.naver.com/qna/detail.naver?d1id=8&amp;...</td>\n",
       "      <td>쳇지피티한테 퍼스널 컬러 분석 겸 얼굴 사진 보냈는데 칭찬해주더니만.... 메모리 ...</td>\n",
       "    </tr>\n",
       "    <tr>\n",
       "      <th>15</th>\n",
       "      <td>쳇지피티 댓글</td>\n",
       "      <td>https://kin.naver.com/qna/detail.naver?d1id=8&amp;...</td>\n",
       "      <td>이거 이런 식으로 댓글 달리는거 쳇지피티에서 찾은건가요? 저런거 딱봐도 질문 복붙해...</td>\n",
       "    </tr>\n",
       "    <tr>\n",
       "      <th>16</th>\n",
       "      <td>쳇지피티 말 바꿈</td>\n",
       "      <td>https://kin.naver.com/qna/detail.naver?d1id=1&amp;...</td>\n",
       "      <td>너무 답답하고 저 같은 현상 겪으신 분들이 안 보여 지식인 써보아요 지피티에 어떤 ...</td>\n",
       "    </tr>\n",
       "    <tr>\n",
       "      <th>17</th>\n",
       "      <td>쳇지피티 사주</td>\n",
       "      <td>https://kin.naver.com/qna/detail.naver?d1id=3&amp;...</td>\n",
       "      <td>정확한건가요? 이게 뭔 말인지 몇월몇시 몇년 몇일인지좀 알려주세요 이게 존재하지 않...</td>\n",
       "    </tr>\n",
       "    <tr>\n",
       "      <th>18</th>\n",
       "      <td>쳇지피티 용량 문제?</td>\n",
       "      <td>https://kin.naver.com/qna/detail.naver?d1id=1&amp;...</td>\n",
       "      <td>채팅에 첨부 파일이 있으므로 계속하려면 gpt-4 뭐시기 필요하다면서 5시간 후 한...</td>\n",
       "    </tr>\n",
       "    <tr>\n",
       "      <th>19</th>\n",
       "      <td>쳇지피티 계정 삭제하면 구독 끝나요?</td>\n",
       "      <td>https://kin.naver.com/qna/detail.naver?d1id=4&amp;...</td>\n",
       "      <td>안녕하세요 제가 아는 분 쳇지피티를 대신 결제 해줘서 그 분 계정에 제 체크카드를 ...</td>\n",
       "    </tr>\n",
       "    <tr>\n",
       "      <th>20</th>\n",
       "      <td>대학 과제 쳇지피티 저작권</td>\n",
       "      <td>https://kin.naver.com/qna/detail.naver?d1id=6&amp;...</td>\n",
       "      <td>대학 과제 인터넷 같은거 좀 많이 보고 쓰면 무슨 위반법?? 저작권에 걸린다 하잖아...</td>\n",
       "    </tr>\n",
       "    <tr>\n",
       "      <th>21</th>\n",
       "      <td>쳇지피티 이거 왜이래요</td>\n",
       "      <td>https://kin.naver.com/qna/detail.naver?d1id=8&amp;...</td>\n",
       "      <td>고치는 방법좀 알려주세요 다시하기누르시고요.안돼면 다른채팅치셨다가 다시 원래하려던걸...</td>\n",
       "    </tr>\n",
       "    <tr>\n",
       "      <th>22</th>\n",
       "      <td>쳇지피티 무슨앱</td>\n",
       "      <td>https://kin.naver.com/qna/detail.naver?d1id=1&amp;...</td>\n",
       "      <td>쳇지피티로 다들 숙제하던데 무슴앱 깔아야되나요 무료로요 자세이 알려주새요 ㅜ 숙제를...</td>\n",
       "    </tr>\n",
       "    <tr>\n",
       "      <th>23</th>\n",
       "      <td>쳇지피티 무료 한계</td>\n",
       "      <td>https://kin.naver.com/qna/detail.naver?d1id=1&amp;...</td>\n",
       "      <td>쓰다보니까 한계에 도달했다면서 플러스로 업그레이드 하라는데.. X 누르니까 사라지긴...</td>\n",
       "    </tr>\n",
       "    <tr>\n",
       "      <th>24</th>\n",
       "      <td>유튜브 채널 이름 추천 (쳇지피티 제외)</td>\n",
       "      <td>https://kin.naver.com/qna/detail.naver?d1id=1&amp;...</td>\n",
       "      <td>유튜브 채널을 가입하려고 하는데 이름은 김은율이고 쳇지피티에 도움을 요청했는데 너무...</td>\n",
       "    </tr>\n",
       "    <tr>\n",
       "      <th>25</th>\n",
       "      <td>쳇지피티 수식답변 오류</td>\n",
       "      <td>https://kin.naver.com/qna/detail.naver?d1id=1&amp;...</td>\n",
       "      <td>쳇지피티 4o사용 중인데 원래는 수식 관련 질문하면 코드로 만들로 자동으로 변환해서...</td>\n",
       "    </tr>\n",
       "    <tr>\n",
       "      <th>26</th>\n",
       "      <td>쳇지피티 업로드 한도</td>\n",
       "      <td>https://kin.naver.com/qna/detail.naver?d1id=3&amp;...</td>\n",
       "      <td>쳇지피티를 사용하고 있는데 사진을 올리려고 하는데 업로드한도를 다썼다고 하는데 어쩌...</td>\n",
       "    </tr>\n",
       "    <tr>\n",
       "      <th>27</th>\n",
       "      <td>쳇지피티 영수증</td>\n",
       "      <td>https://kin.naver.com/qna/detail.naver?d1id=4&amp;...</td>\n",
       "      <td>법카로 쳇지피티 결제햇는데 결제영수증 어디서 출력할 수 있나요 아무리 찾아도 안나오...</td>\n",
       "    </tr>\n",
       "    <tr>\n",
       "      <th>28</th>\n",
       "      <td>쳇지피티 사용량 상한</td>\n",
       "      <td>https://kin.naver.com/qna/detail.naver?d1id=6&amp;...</td>\n",
       "      <td>쳇 지피티를 4버전을 결제하여 사용하는데 계속 몇번 질문하면 사용량 상한에 도달했다...</td>\n",
       "    </tr>\n",
       "    <tr>\n",
       "      <th>29</th>\n",
       "      <td>스마트폰에서 쳇지피티 한국어로 사용하기 좋은 앱...</td>\n",
       "      <td>https://kin.naver.com/qna/detail.naver?d1id=1&amp;...</td>\n",
       "      <td>한국어로 사용하기 좋은 쳇지피티 앱을 소개해주세요 한국어로 사용하기 좋은 쳇지피티 ...</td>\n",
       "    </tr>\n",
       "  </tbody>\n",
       "</table>\n",
       "</div>"
      ],
      "text/plain": [
       "                             title  \\\n",
       "0                       쳇지피티 논문 출처   \n",
       "1                          쳇지피티 한도   \n",
       "2                    쳇지피티 사용 확인 AI   \n",
       "3    쳇지피티 이거 뭐예요?해킹 뭐그런거 당하는거 아니죠?   \n",
       "4                  쳇지피티 ai 소라 질문이요   \n",
       "5                         쳇지피티 초기화   \n",
       "6                      학교 생기부 쳇지피티   \n",
       "7                 제가 직접 쓴 자소서 쳇지피티   \n",
       "8                      쳇지피티 질문입니다.   \n",
       "9                       쳇지피티 채팅 문제   \n",
       "10                         쳇지피티 뤼튼   \n",
       "11                      쳇지피티 화면 이상   \n",
       "12                   쳇지피티 캐릭터제작입니다   \n",
       "13                솔직히 과제 쳇지피티 모르죠?   \n",
       "14                    쳇지피티 메모리 부정적   \n",
       "15                         쳇지피티 댓글   \n",
       "16                       쳇지피티 말 바꿈   \n",
       "17                         쳇지피티 사주   \n",
       "18                     쳇지피티 용량 문제?   \n",
       "19            쳇지피티 계정 삭제하면 구독 끝나요?   \n",
       "20                  대학 과제 쳇지피티 저작권   \n",
       "21                    쳇지피티 이거 왜이래요   \n",
       "22                        쳇지피티 무슨앱   \n",
       "23                      쳇지피티 무료 한계   \n",
       "24          유튜브 채널 이름 추천 (쳇지피티 제외)   \n",
       "25                    쳇지피티 수식답변 오류   \n",
       "26                     쳇지피티 업로드 한도   \n",
       "27                        쳇지피티 영수증   \n",
       "28                     쳇지피티 사용량 상한   \n",
       "29  스마트폰에서 쳇지피티 한국어로 사용하기 좋은 앱...    \n",
       "\n",
       "                                                 link  \\\n",
       "0   https://kin.naver.com/qna/detail.naver?d1id=4&...   \n",
       "1   https://kin.naver.com/qna/detail.naver?d1id=1&...   \n",
       "2   https://kin.naver.com/qna/detail.naver?d1id=5&...   \n",
       "3   https://kin.naver.com/qna/detail.naver?d1id=1&...   \n",
       "4   https://kin.naver.com/qna/detail.naver?d1id=1&...   \n",
       "5   https://kin.naver.com/qna/detail.naver?d1id=1&...   \n",
       "6   https://kin.naver.com/qna/detail.naver?d1id=4&...   \n",
       "7   https://kin.naver.com/qna/detail.naver?d1id=4&...   \n",
       "8   https://kin.naver.com/qna/detail.naver?d1id=1&...   \n",
       "9   https://kin.naver.com/qna/detail.naver?d1id=1&...   \n",
       "10  https://kin.naver.com/qna/detail.naver?d1id=8&...   \n",
       "11  https://kin.naver.com/qna/detail.naver?d1id=1&...   \n",
       "12  https://kin.naver.com/qna/detail.naver?d1id=2&...   \n",
       "13  https://kin.naver.com/qna/detail.naver?d1id=11...   \n",
       "14  https://kin.naver.com/qna/detail.naver?d1id=8&...   \n",
       "15  https://kin.naver.com/qna/detail.naver?d1id=8&...   \n",
       "16  https://kin.naver.com/qna/detail.naver?d1id=1&...   \n",
       "17  https://kin.naver.com/qna/detail.naver?d1id=3&...   \n",
       "18  https://kin.naver.com/qna/detail.naver?d1id=1&...   \n",
       "19  https://kin.naver.com/qna/detail.naver?d1id=4&...   \n",
       "20  https://kin.naver.com/qna/detail.naver?d1id=6&...   \n",
       "21  https://kin.naver.com/qna/detail.naver?d1id=8&...   \n",
       "22  https://kin.naver.com/qna/detail.naver?d1id=1&...   \n",
       "23  https://kin.naver.com/qna/detail.naver?d1id=1&...   \n",
       "24  https://kin.naver.com/qna/detail.naver?d1id=1&...   \n",
       "25  https://kin.naver.com/qna/detail.naver?d1id=1&...   \n",
       "26  https://kin.naver.com/qna/detail.naver?d1id=3&...   \n",
       "27  https://kin.naver.com/qna/detail.naver?d1id=4&...   \n",
       "28  https://kin.naver.com/qna/detail.naver?d1id=6&...   \n",
       "29  https://kin.naver.com/qna/detail.naver?d1id=1&...   \n",
       "\n",
       "                                          description  \n",
       "0   쳇지피티한테 어떤 내용에 관한 논문을 요구하고, 해당... 지피티가 스스로 여러 논...  \n",
       "1   쳇지피티 무료로 쓰고 있는데 쳇지피티로 소설 하나 쓰고 있거든요 근데 한도가 초과됐...  \n",
       "2   쳇지피티 사용 여부 확인하는 무료 AI 뭐가 있나요?? 좀 정확하고 확실한거로 알려...  \n",
       "3   아니 제가 크롬을 쓰는데 자꾸 쳇지피티가 한글번역도 이상하게 되고 말도 끊기는 거예...  \n",
       "4   쳇지피티 플러스 이용중이구요 어제까지만 해도 왼쪽 메뉴에 '소라' 가 있어서요 해서...  \n",
       "5   쳇지피티 대화 목록이 사라진건 아니고 맥락에 안 맞게 말하길래 한도 초과... 챗 ...  \n",
       "6   학교에서 생기부를 작성할 때 쳇지피티를 그대로 배낀 보고서를 내면 대학에서 잡는다는...  \n",
       "7   제가 직접 제 이야기로 자소서를 쓰고 쳇지피티한테 보내고 지피티가 수정해준 내용 참...  \n",
       "8   요즘 쳇지피티가 유행이길래 한번 깔아봤는데 인사조차 못알아먹는데 어떻게 하나요..?...  \n",
       "9   쳇지피티3.0 무료버전을 종종 사용합니다 제가 질문을 &quot;이번에 전시회를 할...  \n",
       "10  뤼튼이 쳇지피티 인가요? 아니면 유사 ai인가요? 뤼튼은 챗GPT와 유사한 AI 기...  \n",
       "11  어느 날 부터 쳇지피티 화면이 아래와 같이 이상하게 보입니다.ㅠㅠ 해결 방법이 있을...  \n",
       "12  쳇 지피티에서 캐릭터를 제작하면 또 다른사람에게 똑같은 컨셉으로 해주나요? 요청에따...  \n",
       "13  쌤들이 자꾸 쳇지피티 쓰면 다잡아서 점수 낮게준다던데 그걸 어떻게 구별해요? 그냥 ...  \n",
       "14  쳇지피티한테 퍼스널 컬러 분석 겸 얼굴 사진 보냈는데 칭찬해주더니만.... 메모리 ...  \n",
       "15  이거 이런 식으로 댓글 달리는거 쳇지피티에서 찾은건가요? 저런거 딱봐도 질문 복붙해...  \n",
       "16  너무 답답하고 저 같은 현상 겪으신 분들이 안 보여 지식인 써보아요 지피티에 어떤 ...  \n",
       "17  정확한건가요? 이게 뭔 말인지 몇월몇시 몇년 몇일인지좀 알려주세요 이게 존재하지 않...  \n",
       "18  채팅에 첨부 파일이 있으므로 계속하려면 gpt-4 뭐시기 필요하다면서 5시간 후 한...  \n",
       "19  안녕하세요 제가 아는 분 쳇지피티를 대신 결제 해줘서 그 분 계정에 제 체크카드를 ...  \n",
       "20  대학 과제 인터넷 같은거 좀 많이 보고 쓰면 무슨 위반법?? 저작권에 걸린다 하잖아...  \n",
       "21  고치는 방법좀 알려주세요 다시하기누르시고요.안돼면 다른채팅치셨다가 다시 원래하려던걸...  \n",
       "22  쳇지피티로 다들 숙제하던데 무슴앱 깔아야되나요 무료로요 자세이 알려주새요 ㅜ 숙제를...  \n",
       "23  쓰다보니까 한계에 도달했다면서 플러스로 업그레이드 하라는데.. X 누르니까 사라지긴...  \n",
       "24  유튜브 채널을 가입하려고 하는데 이름은 김은율이고 쳇지피티에 도움을 요청했는데 너무...  \n",
       "25  쳇지피티 4o사용 중인데 원래는 수식 관련 질문하면 코드로 만들로 자동으로 변환해서...  \n",
       "26  쳇지피티를 사용하고 있는데 사진을 올리려고 하는데 업로드한도를 다썼다고 하는데 어쩌...  \n",
       "27  법카로 쳇지피티 결제햇는데 결제영수증 어디서 출력할 수 있나요 아무리 찾아도 안나오...  \n",
       "28  쳇 지피티를 4버전을 결제하여 사용하는데 계속 몇번 질문하면 사용량 상한에 도달했다...  \n",
       "29  한국어로 사용하기 좋은 쳇지피티 앱을 소개해주세요 한국어로 사용하기 좋은 쳇지피티 ...  "
      ]
     },
     "execution_count": 58,
     "metadata": {},
     "output_type": "execute_result"
    }
   ],
   "source": [
    "# keyword를 display수만큼 지식in검색 결과를 데이터프레임에 (방법1 크롤링)\n",
    "import requests\n",
    "import pandas as pd\n",
    "import json\n",
    "from dotenv import load_dotenv\n",
    "import os\n",
    "load_dotenv() \n",
    "client_id = os.getenv('Client_ID')\n",
    "client_secret = os.getenv('Client_Secret')\n",
    "keyword = \"쳇지피티\"\n",
    "cnt = 30\n",
    "url = f'https://openapi.naver.com/v1/search/kin.json?query={keyword}&display={cnt}'\n",
    "headers = {'X-Naver-Client-Id': client_id,\n",
    "           'X-Naver-Client-Secret':client_secret}\n",
    "response = requests.get(url, headers=headers)\n",
    "# response.status_code\n",
    "# items = json.loads(response.text)['items'] : json.loads() -방법1과 방법2\n",
    "items = response.json()['items'] # 방법1에서만 가능한 함수\n",
    "items_list = []\n",
    "for item in items:\n",
    "    items_list.append([\n",
    "        item.get('title').replace('<b>','').replace('</b>',''), # item['title']\n",
    "        item.get('link'),\n",
    "        item.get('description').replace('<b>','').replace('</b>','')\n",
    "    ])\n",
    "df = pd.DataFrame(items_list, columns=['title','link','description'])\n",
    "df\n",
    "#print(df.loc[0, 'link'])"
   ]
  },
  {
   "cell_type": "code",
   "execution_count": 2,
   "id": "a503ebad",
   "metadata": {},
   "outputs": [],
   "source": [
    "# 함수 작성\n",
    "def get_naver_kin(keyword, cnt):\n",
    "    import requests\n",
    "    import pandas as pd\n",
    "    import json\n",
    "    from dotenv import load_dotenv\n",
    "    import os\n",
    "    load_dotenv() \n",
    "    client_id = os.getenv('Client_ID')\n",
    "    client_secret = os.getenv('Client_Secret')\n",
    "\n",
    "    url = f'https://openapi.naver.com/v1/search/kin.json?query={keyword}&display={cnt}'\n",
    "    headers = {'X-Naver-Client-Id': client_id,\n",
    "               'X-Naver-Client-Secret':client_secret}\n",
    "    response = requests.get(url, headers=headers)\n",
    "\n",
    "    # items = json.loads(response.text)['items'] : json.loads() -방법1과 방법2\n",
    "    items = response.json()['items'] # 방법1에서만 가능한 함수\n",
    "    items_list = []\n",
    "    for item in items:\n",
    "        items_list.append([\n",
    "            item.get('title').replace('<b>','').replace('</b>',''), # item['title']\n",
    "            item.get('link'),\n",
    "            item.get('description').replace('<b>','').replace('</b>','')\n",
    "        ])\n",
    "    return pd.DataFrame(items_list, columns=['title','link','description'])"
   ]
  },
  {
   "cell_type": "code",
   "execution_count": 3,
   "id": "7ccea923",
   "metadata": {},
   "outputs": [
    {
     "data": {
      "text/html": [
       "<div>\n",
       "<style scoped>\n",
       "    .dataframe tbody tr th:only-of-type {\n",
       "        vertical-align: middle;\n",
       "    }\n",
       "\n",
       "    .dataframe tbody tr th {\n",
       "        vertical-align: top;\n",
       "    }\n",
       "\n",
       "    .dataframe thead th {\n",
       "        text-align: right;\n",
       "    }\n",
       "</style>\n",
       "<table border=\"1\" class=\"dataframe\">\n",
       "  <thead>\n",
       "    <tr style=\"text-align: right;\">\n",
       "      <th></th>\n",
       "      <th>title</th>\n",
       "      <th>link</th>\n",
       "      <th>description</th>\n",
       "    </tr>\n",
       "  </thead>\n",
       "  <tbody>\n",
       "    <tr>\n",
       "      <th>0</th>\n",
       "      <td>영어로 청바지를 뭐라고하나요?</td>\n",
       "      <td>https://kin.naver.com/qna/detail.naver?d1id=11...</td>\n",
       "      <td>영어로 청바지를 뭐라고하나요? 안녕하세요~ 선생님도 매월 시험보는 목동영어학원 길벗...</td>\n",
       "    </tr>\n",
       "    <tr>\n",
       "      <th>1</th>\n",
       "      <td>전 남자인데, 누워서 청바지를 입으면 고환이 아플 수?</td>\n",
       "      <td>https://kin.naver.com/qna/detail.naver?d1id=7&amp;...</td>\n",
       "      <td>전 남자인데, 누워서 청바지를 입으면 고환이 아플 수? 안녕하세요. 하이닥-네이버 ...</td>\n",
       "    </tr>\n",
       "    <tr>\n",
       "      <th>2</th>\n",
       "      <td>청바지 없는데 면접취소 할까요?</td>\n",
       "      <td>https://kin.naver.com/qna/detail.naver?d1id=6&amp;...</td>\n",
       "      <td>낼 알바 면접인데 츄리닝만 있고 청바지가 없어요 취소할까요? 아님 청바지는 아니어도...</td>\n",
       "    </tr>\n",
       "    <tr>\n",
       "      <th>3</th>\n",
       "      <td>고관절 지방이식 후 청바지</td>\n",
       "      <td>https://kin.naver.com/qna/detail.naver?d1id=7&amp;...</td>\n",
       "      <td>현재 고관절(골반) 지방이식 한 지 두달 가까이 되어가는데,꽉 끼는 청바지나 레깅스...</td>\n",
       "    </tr>\n",
       "    <tr>\n",
       "      <th>4</th>\n",
       "      <td>임영웅 청바지 입은 사진?</td>\n",
       "      <td>https://kin.naver.com/qna/detail.naver?d1id=3&amp;...</td>\n",
       "      <td>임영웅 사진첩 만들고 있는데요! 청바지 입은 사진 갖고 계신분 공유부탁드려요! 임영...</td>\n",
       "    </tr>\n",
       "  </tbody>\n",
       "</table>\n",
       "</div>"
      ],
      "text/plain": [
       "                            title  \\\n",
       "0                영어로 청바지를 뭐라고하나요?   \n",
       "1  전 남자인데, 누워서 청바지를 입으면 고환이 아플 수?   \n",
       "2               청바지 없는데 면접취소 할까요?   \n",
       "3                  고관절 지방이식 후 청바지   \n",
       "4                  임영웅 청바지 입은 사진?   \n",
       "\n",
       "                                                link  \\\n",
       "0  https://kin.naver.com/qna/detail.naver?d1id=11...   \n",
       "1  https://kin.naver.com/qna/detail.naver?d1id=7&...   \n",
       "2  https://kin.naver.com/qna/detail.naver?d1id=6&...   \n",
       "3  https://kin.naver.com/qna/detail.naver?d1id=7&...   \n",
       "4  https://kin.naver.com/qna/detail.naver?d1id=3&...   \n",
       "\n",
       "                                         description  \n",
       "0  영어로 청바지를 뭐라고하나요? 안녕하세요~ 선생님도 매월 시험보는 목동영어학원 길벗...  \n",
       "1  전 남자인데, 누워서 청바지를 입으면 고환이 아플 수? 안녕하세요. 하이닥-네이버 ...  \n",
       "2  낼 알바 면접인데 츄리닝만 있고 청바지가 없어요 취소할까요? 아님 청바지는 아니어도...  \n",
       "3  현재 고관절(골반) 지방이식 한 지 두달 가까이 되어가는데,꽉 끼는 청바지나 레깅스...  \n",
       "4  임영웅 사진첩 만들고 있는데요! 청바지 입은 사진 갖고 계신분 공유부탁드려요! 임영...  "
      ]
     },
     "execution_count": 3,
     "metadata": {},
     "output_type": "execute_result"
    }
   ],
   "source": [
    "get_naver_kin(\"청바지\",20).head()"
   ]
  },
  {
   "cell_type": "markdown",
   "id": "7e6786b4",
   "metadata": {},
   "source": [
    "### quiz) 네이버 open API를 이용해서 청바지 이미지 100건 데이터를 csv파일로 저장\n",
    "        데이터 : 제목, 이미지링크, 썸네일링크,높이,폭"
   ]
  },
  {
   "cell_type": "code",
   "execution_count": 53,
   "id": "2685e751",
   "metadata": {},
   "outputs": [
    {
     "data": {
      "text/html": [
       "<div>\n",
       "<style scoped>\n",
       "    .dataframe tbody tr th:only-of-type {\n",
       "        vertical-align: middle;\n",
       "    }\n",
       "\n",
       "    .dataframe tbody tr th {\n",
       "        vertical-align: top;\n",
       "    }\n",
       "\n",
       "    .dataframe thead th {\n",
       "        text-align: right;\n",
       "    }\n",
       "</style>\n",
       "<table border=\"1\" class=\"dataframe\">\n",
       "  <thead>\n",
       "    <tr style=\"text-align: right;\">\n",
       "      <th></th>\n",
       "      <th>no</th>\n",
       "      <th>title</th>\n",
       "      <th>link</th>\n",
       "      <th>thumbnail</th>\n",
       "      <th>sizeheight</th>\n",
       "      <th>sizewidth</th>\n",
       "    </tr>\n",
       "  </thead>\n",
       "  <tbody>\n",
       "    <tr>\n",
       "      <th>0</th>\n",
       "      <td>1</td>\n",
       "      <td>BINIWU 심플 빈티지 워싱 청바지 남자 봄가을 루즈핏 통바지 28 빈티지블루</td>\n",
       "      <td>http://shopping.phinf.naver.net/main_5172227/5...</td>\n",
       "      <td>https://search.pstatic.net/common/?type=b150&amp;s...</td>\n",
       "      <td>800</td>\n",
       "      <td>800</td>\n",
       "    </tr>\n",
       "  </tbody>\n",
       "</table>\n",
       "</div>"
      ],
      "text/plain": [
       "   no                                         title  \\\n",
       "0   1  BINIWU 심플 빈티지 워싱 청바지 남자 봄가을 루즈핏 통바지 28 빈티지블루   \n",
       "\n",
       "                                                link  \\\n",
       "0  http://shopping.phinf.naver.net/main_5172227/5...   \n",
       "\n",
       "                                           thumbnail sizeheight sizewidth  \n",
       "0  https://search.pstatic.net/common/?type=b150&s...        800       800  "
      ]
     },
     "execution_count": 53,
     "metadata": {},
     "output_type": "execute_result"
    }
   ],
   "source": [
    "import requests\n",
    "import pandas as pd\n",
    "from dotenv import load_dotenv\n",
    "import os\n",
    "load_dotenv() \n",
    "client_id = os.getenv('Client_ID')\n",
    "client_secret = os.getenv('Client_Secret')\n",
    "word = \"청바지\"\n",
    "url = f'https://openapi.naver.com/v1/search/image?query={word}&display=100'\n",
    "headers = {'X-Naver-Client-Id': client_id,\n",
    "           'X-Naver-Client-Secret':client_secret}\n",
    "response = requests.get(url, headers=headers)\n",
    "# print(response.text)\n",
    "items = response.json()['items'] # 방법1에서만 가능한 함수\n",
    "items_list = []\n",
    "for idx, item in enumerate(items):\n",
    "    title = item.get('title')\n",
    "    link = item.get('link')\n",
    "    thumbnail = item.get('thumbnail')\n",
    "    sizeheight = item.get('sizeheight')\n",
    "    sizewidth = item.get('sizewidth')\n",
    "    items_list.append({\n",
    "        'no': idx+1,\n",
    "        'title': title,\n",
    "        'link' : link,\n",
    "        'thumbnail' : thumbnail,\n",
    "        'sizeheight':sizeheight,\n",
    "        'sizewidth' :sizewidth\n",
    "    })\n",
    "    # link와 thumbnail을 저장\n",
    "df = pd.DataFrame(items_list)\n",
    "df.head(1)"
   ]
  },
  {
   "cell_type": "code",
   "execution_count": 16,
   "id": "ea0094b6",
   "metadata": {},
   "outputs": [
    {
     "data": {
      "text/plain": [
       "'https://thumbnail8.coupangcdn.com/thumbnails/remote/492x492ex/image/vendor_inventory/images/2017/09/07/17/1/837feb8c-041e-4921-bd39-174fec765a2a.jpg'"
      ]
     },
     "execution_count": 16,
     "metadata": {},
     "output_type": "execute_result"
    }
   ],
   "source": [
    "df.loc[3, 'link']"
   ]
  },
  {
   "cell_type": "code",
   "execution_count": 20,
   "id": "c0a57458",
   "metadata": {},
   "outputs": [
    {
     "data": {
      "text/html": [
       "<div>\n",
       "<style scoped>\n",
       "    .dataframe tbody tr th:only-of-type {\n",
       "        vertical-align: middle;\n",
       "    }\n",
       "\n",
       "    .dataframe tbody tr th {\n",
       "        vertical-align: top;\n",
       "    }\n",
       "\n",
       "    .dataframe thead th {\n",
       "        text-align: right;\n",
       "    }\n",
       "</style>\n",
       "<table border=\"1\" class=\"dataframe\">\n",
       "  <thead>\n",
       "    <tr style=\"text-align: right;\">\n",
       "      <th></th>\n",
       "      <th>no</th>\n",
       "      <th>title</th>\n",
       "      <th>link</th>\n",
       "      <th>thumbnail</th>\n",
       "      <th>sizeheight</th>\n",
       "      <th>sizewidth</th>\n",
       "    </tr>\n",
       "  </thead>\n",
       "  <tbody>\n",
       "  </tbody>\n",
       "</table>\n",
       "</div>"
      ],
      "text/plain": [
       "Empty DataFrame\n",
       "Columns: [no, title, link, thumbnail, sizeheight, sizewidth]\n",
       "Index: []"
      ]
     },
     "execution_count": 20,
     "metadata": {},
     "output_type": "execute_result"
    }
   ],
   "source": [
    "df[df['link'].str.find('?')!=-1]"
   ]
  },
  {
   "cell_type": "code",
   "execution_count": 28,
   "id": "bcbd0871",
   "metadata": {},
   "outputs": [
    {
     "data": {
      "text/plain": [
       "'http://shop1.phinf.naver.net/20250503_295/1746250611381Vinxl_JPEG/21192829047529977_2039968073.jpeg'"
      ]
     },
     "execution_count": 28,
     "metadata": {},
     "output_type": "execute_result"
    }
   ],
   "source": [
    "df[~df['link'].str.endswith('jpg')].loc[5, 'link']"
   ]
  },
  {
   "cell_type": "code",
   "execution_count": 6,
   "id": "4b91c3ad",
   "metadata": {},
   "outputs": [],
   "source": [
    "def save_img(attr, idx, query, url):\n",
    "    import requests\n",
    "    '{attr}_{idx}_{query}.{확장자} 이미지 저장'\n",
    "    file_extension = url.split('.')[-1]\n",
    "    quote_index = file_extension.find('?')\n",
    "    \n",
    "    if quote_index != -1:\n",
    "        file_extension = file_extension[:quote_index]\n",
    "    if len(file_extension) > 10:\n",
    "        file_extension = 'jpg'\n",
    "#     print(file_extension)\n",
    "    img = requests.get(url).content\n",
    "    open(f'ch14_image/{attr}_{idx}_{query}.{file_extension}', 'wb').write(img)"
   ]
  },
  {
   "cell_type": "code",
   "execution_count": 60,
   "id": "17e1ed40",
   "metadata": {},
   "outputs": [],
   "source": [
    "save_img('메인', 1, '청바지', df.loc[5, 'link'])"
   ]
  },
  {
   "cell_type": "code",
   "execution_count": 9,
   "id": "04c3c68f",
   "metadata": {},
   "outputs": [],
   "source": [
    "# word image 100개 검색한 데이터는 csv파일로, 이미지는 ch14_image폴더에 저장되는 함수\n",
    "def get_naver_save_image(word):\n",
    "    import requests\n",
    "    import pandas as pd\n",
    "    from dotenv import load_dotenv\n",
    "    import os\n",
    "    load_dotenv() \n",
    "    client_id = os.getenv('Client_ID')\n",
    "    client_secret = os.getenv('Client_Secret')\n",
    "\n",
    "    url = f'https://openapi.naver.com/v1/search/image?query={word}&display=100'\n",
    "    headers = {'X-Naver-Client-Id': client_id,\n",
    "               'X-Naver-Client-Secret':client_secret}\n",
    "    response = requests.get(url, headers=headers)\n",
    "\n",
    "    items = response.json()['items'] # 방법1에서만 가능한 함수\n",
    "    items_list = []\n",
    "    for idx, item in enumerate(items):\n",
    "        title = item.get('title')\n",
    "        link = item.get('link')\n",
    "        thumbnail = item.get('thumbnail')\n",
    "        sizeheight = item.get('sizeheight')\n",
    "        sizewidth = item.get('sizewidth')\n",
    "        items_list.append({\n",
    "            'no': idx+1,\n",
    "            'title': title,\n",
    "            'link' : link,\n",
    "            'thumbnail' : thumbnail,\n",
    "            'sizeheight':sizeheight,\n",
    "            'sizewidth' :sizewidth\n",
    "        })\n",
    "        # link와 thumbnail을 저장\n",
    "        save_img('메인', idx+1, word, link)\n",
    "        save_img('썸네일', idx+1, word, thumbnail)\n",
    "        # 20%, 40%, 60% 80% 지점 message 출력\n",
    "        if idx/20 == round(idx/20):\n",
    "            print(f'= = = {idx}% 진행 중입니다 = = =')\n",
    "    df = pd.DataFrame(items_list)\n",
    "    df.to_csv(f'ch14_image/{word}.csv',  index=False)\n",
    "    print('~ ~ ~ 이미지 및 csv 파일 저장 완료 ~ ~ ~')"
   ]
  },
  {
   "cell_type": "code",
   "execution_count": 10,
   "id": "c4e4de6d",
   "metadata": {},
   "outputs": [
    {
     "name": "stdout",
     "output_type": "stream",
     "text": [
      "= = = 0% 진행 중입니다 = = =\n",
      "= = = 20% 진행 중입니다 = = =\n",
      "= = = 40% 진행 중입니다 = = =\n",
      "= = = 60% 진행 중입니다 = = =\n",
      "= = = 80% 진행 중입니다 = = =\n",
      "~ ~ ~ 이미지 및 csv 파일 저장 완료 ~ ~ ~\n"
     ]
    }
   ],
   "source": [
    "get_naver_save_image('어린이집')"
   ]
  },
  {
   "cell_type": "markdown",
   "id": "a2699f96",
   "metadata": {},
   "source": [
    "## 2.3 xml 파일\n",
    "- 기상예측 RSS 활용\n",
    "- http://www.kma.go.kr/repositary/xml/fct/mon/img/fct_mon1rss_108_20250529.xml"
   ]
  },
  {
   "cell_type": "code",
   "execution_count": 11,
   "id": "15dd00d3",
   "metadata": {},
   "outputs": [],
   "source": [
    "from urllib.request import urlopen\n",
    "from bs4 import BeautifulSoup\n",
    "import pandas as pd"
   ]
  },
  {
   "cell_type": "code",
   "execution_count": 23,
   "id": "54f236b2",
   "metadata": {},
   "outputs": [
    {
     "name": "stdout",
     "output_type": "stream",
     "text": [
      "<class 'pandas.core.frame.DataFrame'>\n",
      "RangeIndex: 13 entries, 0 to 12\n",
      "Data columns (total 9 columns):\n",
      " #   Column  Non-Null Count  Dtype  \n",
      "---  ------  --------------  -----  \n",
      " 0   지역      13 non-null     object \n",
      " 1   1주평년기온  13 non-null     float64\n",
      " 2   1주범위    13 non-null     object \n",
      " 3   1주최저    13 non-null     object \n",
      " 4   1주최고    13 non-null     object \n",
      " 5   2주평년기온  13 non-null     object \n",
      " 6   2주범위    13 non-null     object \n",
      " 7   2주최저    13 non-null     object \n",
      " 8   2주최고    13 non-null     object \n",
      "dtypes: float64(1), object(8)\n",
      "memory usage: 1.0+ KB\n"
     ]
    }
   ],
   "source": [
    "url = 'https://www.kma.go.kr/repositary/xml/fct/mon/img/fct_mon1rss_108_20250529.xml'\n",
    "response = urlopen(url)\n",
    "# response.status # response.getcode()\n",
    "soup = BeautifulSoup(response, \"xml\") # pip install lxml\n",
    "locals = soup.find_all('local_ta')\n",
    "# locals[1]\n",
    "items_list = []\n",
    "for local in locals:\n",
    "    local_ta_name = local.select_one('local_ta_name').text\n",
    "    week1_normalYear = local.select_one('week1_local_ta_normalYear').text #평년기온\n",
    "    week1_similarRange = local.select_one('week1_local_ta_similarRange').text # 기온범위\n",
    "    week1_min = local.select_one('week1_local_ta_minVal').text\n",
    "    week1_max = local.select_one('week1_local_ta_maxVal').text\n",
    "    week2_normalYear = local.select_one('week2_local_ta_normalYear').text #평년기온\n",
    "    week2_similarRange = local.select_one('week2_local_ta_similarRange').text # 기온범위\n",
    "    week2_min = local.select_one('week2_local_ta_minVal').text\n",
    "    week2_max = local.select_one('week2_local_ta_maxVal').text\n",
    "    items_list.append({\n",
    "        '지역':local_ta_name,\n",
    "        '1주평년기온':float(week1_normalYear),\n",
    "        '1주범위':week1_similarRange,\n",
    "        '1주최저':week1_min,\n",
    "        '1주최고':week1_max,\n",
    "        '2주평년기온':week2_normalYear,\n",
    "        '2주범위':week2_similarRange,\n",
    "        '2주최저':week2_min,\n",
    "        '2주최고':week2_max\n",
    "    })\n",
    "df = pd.DataFrame(items_list)\n",
    "df.info()"
   ]
  },
  {
   "cell_type": "markdown",
   "id": "8d4db838",
   "metadata": {},
   "source": [
    "# 3. 연습문제\n",
    "- YES24 베스트셀러 정보를 ch14_yes24.csv(ch14_yes24.txt)로 출력\n",
    "- 순위, 책이름, 저자, 출판사, 가격 (1~48위) => 리스트 => 데이터프레임 => csv\n",
    "                                                   => txt"
   ]
  },
  {
   "cell_type": "code",
   "execution_count": 32,
   "id": "d7b04c32",
   "metadata": {},
   "outputs": [],
   "source": [
    "# import\n",
    "import requests\n",
    "from urllib.request import urlopen\n",
    "from bs4 import BeautifulSoup\n",
    "import pandas as pd"
   ]
  },
  {
   "cell_type": "code",
   "execution_count": 64,
   "id": "d816d3d1",
   "metadata": {},
   "outputs": [],
   "source": [
    "# 방법1\n",
    "pages = 2\n",
    "bestseller_list = []\n",
    "for page in range(1, pages+1):\n",
    "    url = f'https://www.yes24.com/product/category/bestseller?pageNumber={page}'\n",
    "    response = requests.get(url)\n",
    "    # print(url)\n",
    "    # print(response.status_code)\n",
    "    soup = BeautifulSoup(response.text, 'html.parser')\n",
    "    ranks_els = soup.select('div.img_upper > em.ico.rank')\n",
    "    ranks = [int(ranks_el.text) for ranks_el in ranks_els]\n",
    "    titles_els=soup.select(\"div.item_info > div.info_row > a.gd_name\")\n",
    "    titles = [titles_el.text for titles_el in titles_els]\n",
    "    writers_els = soup.select(\"span.authPub.info_auth\")\n",
    "    # writers_els = soup.find_all('span', class_='info_auth')\n",
    "    writers = [writers_el.text.strip() for writers_el in writers_els]\n",
    "    publishers_els = soup.select('div.info_row.info_pubGrp > span.authPub.info_pub')\n",
    "    publishers = [publishers_el.text for publishers_el in publishers_els]\n",
    "    prices_els = soup.select(\"div.info_row > strong.txt_num\")\n",
    "    prices = [prices_el.text for prices_el in prices_els]\n",
    "    # print(len(ranks), len(titles), len(writers), len(publishers), len(prices))\n",
    "    for rank, title, writer, publisher, price in zip(ranks, titles, writers, publishers, prices):\n",
    "        # print(\"{},{},{},{},{}\".format(rank, title, writer, publisher, price))\n",
    "        bestseller_list.append([rank, title, writer, publisher, price])\n",
    "df = pd.DataFrame(bestseller_list, \n",
    "                  columns=['rank', 'title', 'writer', 'publisher', 'price'])\n",
    "df.to_csv('data/ch14_yes24.csv', index=False)"
   ]
  },
  {
   "cell_type": "code",
   "execution_count": 65,
   "id": "3e8ef4ce",
   "metadata": {},
   "outputs": [
    {
     "name": "stdout",
     "output_type": "stream",
     "text": [
      "200\n",
      "200\n"
     ]
    }
   ],
   "source": [
    "# 방법2\n",
    "pages = 2\n",
    "bestseller_list = []\n",
    "for page in range(1, pages+1):\n",
    "    url = f'https://www.yes24.com/product/category/bestseller?pageNumber={page}'\n",
    "    # print(url)\n",
    "    response = urlopen(url)\n",
    "    #print(response.status)\n",
    "    soup = BeautifulSoup(response, 'html.parser')\n",
    "    ranks_els = soup.select('div.img_upper > em.ico.rank')\n",
    "    ranks = [int(ranks_el.text) for ranks_el in ranks_els]\n",
    "    titles_els=soup.select(\"div.item_info > div.info_row > a.gd_name\")\n",
    "    titles = [titles_el.text for titles_el in titles_els]\n",
    "    writers_els = soup.select(\"span.authPub.info_auth\")\n",
    "    # writers_els = soup.find_all('span', class_='info_auth')\n",
    "    writers = [writers_el.text.strip() for writers_el in writers_els]\n",
    "    publishers_els = soup.select('div.info_row.info_pubGrp > span.authPub.info_pub')\n",
    "    publishers = [publishers_el.text for publishers_el in publishers_els]\n",
    "    prices_els = soup.select(\"div.info_row > strong.txt_num\")\n",
    "    prices = [prices_el.text for prices_el in prices_els]\n",
    "    # print(len(ranks), len(titles), len(writers), len(publishers), len(prices))\n",
    "    for rank, title, writer, publisher, price in zip(ranks, titles, writers, publishers, prices):\n",
    "        # print(\"{},{},{},{},{}\".format(rank, title, writer, publisher, price))\n",
    "        bestseller_list.append({\n",
    "            'rank':rank, \n",
    "            'title':title,\n",
    "            'writer':writer,\n",
    "            'publisher':publisher,\n",
    "            'price':price})\n",
    "df = pd.DataFrame(bestseller_list, \n",
    "                  columns=['rank', 'title', 'writer', 'publisher', 'price'])\n",
    "df.to_csv('data/ch14_yes24.csv', index=False)"
   ]
  },
  {
   "cell_type": "code",
   "execution_count": null,
   "id": "08608f5a",
   "metadata": {},
   "outputs": [],
   "source": []
  },
  {
   "cell_type": "code",
   "execution_count": null,
   "id": "9c9e0cb5",
   "metadata": {},
   "outputs": [],
   "source": []
  },
  {
   "cell_type": "code",
   "execution_count": null,
   "id": "9df09d7a",
   "metadata": {},
   "outputs": [],
   "source": []
  },
  {
   "cell_type": "code",
   "execution_count": null,
   "id": "dc724c5b",
   "metadata": {},
   "outputs": [],
   "source": []
  },
  {
   "cell_type": "code",
   "execution_count": null,
   "id": "34b2eabc",
   "metadata": {},
   "outputs": [],
   "source": []
  },
  {
   "cell_type": "code",
   "execution_count": null,
   "id": "fd6b7234",
   "metadata": {},
   "outputs": [],
   "source": []
  },
  {
   "cell_type": "code",
   "execution_count": null,
   "id": "b3a64335",
   "metadata": {},
   "outputs": [],
   "source": []
  },
  {
   "cell_type": "code",
   "execution_count": null,
   "id": "201b35a7",
   "metadata": {},
   "outputs": [],
   "source": []
  },
  {
   "cell_type": "code",
   "execution_count": null,
   "id": "9181b38e",
   "metadata": {},
   "outputs": [],
   "source": []
  }
 ],
 "metadata": {
  "kernelspec": {
   "display_name": "Python 3 (ipykernel)",
   "language": "python",
   "name": "python3"
  },
  "language_info": {
   "codemirror_mode": {
    "name": "ipython",
    "version": 3
   },
   "file_extension": ".py",
   "mimetype": "text/x-python",
   "name": "python",
   "nbconvert_exporter": "python",
   "pygments_lexer": "ipython3",
   "version": "3.10.9"
  },
  "toc": {
   "base_numbering": 1,
   "nav_menu": {},
   "number_sections": false,
   "sideBar": true,
   "skip_h1_title": false,
   "title_cell": "Table of Contents",
   "title_sidebar": "Contents",
   "toc_cell": false,
   "toc_position": {
    "height": "calc(100% - 180px)",
    "left": "10px",
    "top": "150px",
    "width": "165px"
   },
   "toc_section_display": true,
   "toc_window_display": false
  }
 },
 "nbformat": 4,
 "nbformat_minor": 5
}
