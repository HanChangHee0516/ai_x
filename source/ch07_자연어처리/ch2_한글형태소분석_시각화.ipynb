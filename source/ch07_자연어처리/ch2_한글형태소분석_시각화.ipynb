{
 "cells": [
  {
   "cell_type": "code",
   "execution_count": 2,
   "id": "9629a2dc",
   "metadata": {},
   "outputs": [
    {
     "data": {
      "text/html": [
       "\n",
       "<style>\n",
       "div.container{width:90% !important;}\n",
       "div.cell.code_cell.rendered{width:100%;}\n",
       "div.input_prompt{padding:2px;}\n",
       "div.CodeMirror {font-family:Consolas; font-size:10pt;}\n",
       "div.text_cell_render.rendered_html{font-size:10pt;}\n",
       "div.output {font-size:10pt; font-weight:bold;}\n",
       "div.input {font-family:Consolas; font-size:10pt;}\n",
       "div.prompt {min-width:70px;}\n",
       "div#toc-wrapper{padding-top:120px;}\n",
       "div.text_cell_render ul li{font-size:11pt;padding:4px;}\n",
       "table.dataframe{font-size:10px;}\n",
       "</style>\n"
      ],
      "text/plain": [
       "<IPython.core.display.HTML object>"
      ]
     },
     "metadata": {},
     "output_type": "display_data"
    }
   ],
   "source": [
    "from IPython.display import display, HTML\n",
    "display(HTML(\"\"\"\n",
    "<style>\n",
    "div.container{width:90% !important;}\n",
    "div.cell.code_cell.rendered{width:100%;}\n",
    "div.input_prompt{padding:2px;}\n",
    "div.CodeMirror {font-family:Consolas; font-size:10pt;}\n",
    "div.text_cell_render.rendered_html{font-size:10pt;}\n",
    "div.output {font-size:10pt; font-weight:bold;}\n",
    "div.input {font-family:Consolas; font-size:10pt;}\n",
    "div.prompt {min-width:70px;}\n",
    "div#toc-wrapper{padding-top:120px;}\n",
    "div.text_cell_render ul li{font-size:11pt;padding:4px;}\n",
    "table.dataframe{font-size:10px;}\n",
    "</style>\n",
    "\"\"\"))"
   ]
  },
  {
   "cell_type": "markdown",
   "id": "d029a1df",
   "metadata": {},
   "source": [
    "**<font size='6' color='red'>ch2. 한글 형태소 분석</font>**\n",
    "# 1. 자연어 처리\n",
    "- 자연어 : 일상적인 언어\n",
    "- 자연어 처리 분야 :\n",
    "    * 자연어 이해 : 형대소분석 -> postagging -> 의미분석, 시각화\n",
    "    * 자연어 생성 : RNN, LSTM, GRU, ..., encoder-decoder알고리즘 -> 트렌스포머알고리즘\n",
    "- 활용분야 : 트랜스 분석, 탐색적분석, 맞춤법검사, 번역기, 챗봇\n",
    "\n",
    "# 2. 자연어 이해 처리 절차\n",
    "- 전처리 : 단어, 어절 추출\n",
    "- 분석 후보 생성 : 형태소 분리, 품사태깅(pos tagging)\n",
    "- 제약조건(불용어 처리) : 규칙 확인\n",
    "- 분석 : 시각화(워드클라우드), 연관분석, RNN, LSTM, GRU, ...\n",
    "\n",
    "# 3. 한글 형태소 분석 엔진(Konlpy,...)\n",
    "- 공통기능 : morphs(형태소 나누기), nouns(명사추출), pos(형태소로 나누어 품사 태그)\n",
    "\n",
    "- konlpy (pip install konlpy : jpype1 라이브러리를 의존)\n",
    "    * HanNanum : 자바로 만든 형태소 분석기(JAVA_HOME 시스템환경변수, Path설정)\n",
    "    * Kkma     : 자바로 만든 형태소 분석기(JAVA_HOME 시스템환경변수, Path설정)\n",
    "    * Komoran  : 자바로 만든 형태소 분석기(JAVA_HOME 시스템환경변수, Path설정)\n",
    "    * Okt      \n",
    "- Mecab (pip install python-mecab-ko)\n",
    "    * Mecab : C++로 만든 형태소 분석기.저사양환경에서 사용 가능. 다국어 바인딩 지원"
   ]
  },
  {
   "cell_type": "code",
   "execution_count": 3,
   "id": "2eceb52b",
   "metadata": {},
   "outputs": [
    {
     "data": {
      "text/plain": [
       "'C:\\\\Program Files\\\\Java\\\\jdk-17'"
      ]
     },
     "execution_count": 3,
     "metadata": {},
     "output_type": "execute_result"
    }
   ],
   "source": [
    "import os\n",
    "os.environ.get('JAVA_HOME')"
   ]
  },
  {
   "cell_type": "code",
   "execution_count": 4,
   "id": "6e88aad7",
   "metadata": {},
   "outputs": [],
   "source": [
    "text = '''아름답지만 다소 복잡하기도 한 한국어는 전세계에서 13번째로 많이 사용되눈 언어입니다'''"
   ]
  },
  {
   "cell_type": "markdown",
   "id": "04eb2d16",
   "metadata": {},
   "source": [
    "## 3.1 HanNanum "
   ]
  },
  {
   "cell_type": "code",
   "execution_count": 5,
   "id": "6448ba00",
   "metadata": {},
   "outputs": [
    {
     "data": {
      "text/plain": [
       "[[[('아름답', 'paa'), ('지만', 'ecs')],\n",
       "  [('아름답', 'paa'), ('지', 'ecs'), ('만', 'jxc')],\n",
       "  [('아름답', 'paa'), ('지', 'ecx'), ('말', 'px'), ('ㄴ', 'etm')]],\n",
       " [[('다소', 'mag')], [('다소', 'ncn')]],\n",
       " [[('복잡', 'ncn'), ('하기', 'ncn'), ('도', 'jxc')],\n",
       "  [('복잡', 'ncn'), ('하기', 'ncn'), ('도', 'ncn')],\n",
       "  [('복잡', 'ncps'), ('하기', 'ncn'), ('도', 'jxc')],\n",
       "  [('복잡', 'ncps'), ('하기', 'ncn'), ('도', 'ncn')],\n",
       "  [('복잡', 'ncps'), ('하', 'xsms'), ('기', 'etn'), ('도', 'jxc')]],\n",
       " [[('하', 'pvg'), ('ㄴ', 'etm')],\n",
       "  [('한', 'nnc')],\n",
       "  [('한', 'ncn')],\n",
       "  [('한', 'nbn')],\n",
       "  [('하', 'px'), ('ㄴ', 'etm')]],\n",
       " [[('한국어', 'ncn'), ('는', 'jxc')]],\n",
       " [[('전세계', 'ncn'), ('에서', 'jca')],\n",
       "  [('전세', 'ncn'), ('계', 'ncn'), ('에서', 'jca')],\n",
       "  [('전', 'xp'), ('세계', 'ncn'), ('에서', 'jca')]],\n",
       " [[('13', 'nnc'), ('번', 'nbu'), ('째', 'xsnu'), ('로', 'jca')]],\n",
       " [[('많', 'paa'), ('이', 'xsa')], [('많이', 'mag')]],\n",
       " [[('사용되눈', 'ncn')], [('사용되눈', 'nqq')]],\n",
       " [[('언어', 'ncn'), ('이', 'jp'), ('ㅂ니다', 'ef')]]]"
      ]
     },
     "execution_count": 5,
     "metadata": {},
     "output_type": "execute_result"
    }
   ],
   "source": [
    "from konlpy.tag import Hannanum\n",
    "hannanum = Hannanum(jvmpath=None,\n",
    "                   max_heap_size=1023,  # 기본값:1024\n",
    "                   )\n",
    "hannanum.analyze(text)"
   ]
  },
  {
   "cell_type": "markdown",
   "id": "8c6e3a66",
   "metadata": {},
   "source": [
    "- 구글에서 konlpy.docs 검색 후 : https://konlpy.org/\n",
    "- api 메뉴 -> \"Comparison between POS tagging classes\"클릭 -> Korean POS tags comparison chart클릭"
   ]
  },
  {
   "cell_type": "code",
   "execution_count": 6,
   "id": "c7ff564d",
   "metadata": {},
   "outputs": [
    {
     "name": "stdout",
     "output_type": "stream",
     "text": [
      "['아름답', '지만', '다소', '복잡', '하', '기', '도', '하', 'ㄴ', '한국어', '는', '전세계', '에서', '13번', '째', '로', '많', '이', '사용되눈', '언어', '이', 'ㅂ니다']\n"
     ]
    }
   ],
   "source": [
    "# 형태소 분석 : morphs\n",
    "print(hannanum.morphs(text))"
   ]
  },
  {
   "cell_type": "code",
   "execution_count": 7,
   "id": "253b90f4",
   "metadata": {},
   "outputs": [
    {
     "name": "stdout",
     "output_type": "stream",
     "text": [
      "['복잡', '한국어', '전세계', '13번', '사용되눈', '언어']\n"
     ]
    }
   ],
   "source": [
    "# 명사만 추출 : nouns\n",
    "print(hannanum.nouns(text))"
   ]
  },
  {
   "cell_type": "code",
   "execution_count": 8,
   "id": "d15643cf",
   "metadata": {},
   "outputs": [
    {
     "name": "stdout",
     "output_type": "stream",
     "text": [
      "[('아름답', 'P'), ('지만', 'E'), ('다소', 'M'), ('복잡', 'N'), ('하', 'X'), ('기', 'E'), ('도', 'J'), ('하', 'P'), ('ㄴ', 'E'), ('한국어', 'N'), ('는', 'J'), ('전세계', 'N'), ('에서', 'J'), ('13번', 'N'), ('째', 'X'), ('로', 'J'), ('많', 'P'), ('이', 'X'), ('사용되눈', 'N'), ('언어', 'N'), ('이', 'J'), ('ㅂ니다', 'E')]\n"
     ]
    }
   ],
   "source": [
    "# 품사태깅 : pos\n",
    "print(hannanum.pos(text, ntags=9))  # 품사갯수 기본값 ntags=9"
   ]
  },
  {
   "cell_type": "code",
   "execution_count": 9,
   "id": "53ef566d",
   "metadata": {},
   "outputs": [
    {
     "name": "stdout",
     "output_type": "stream",
     "text": [
      "[('아름답', 'PA'), ('지만', 'EC'), ('다소', 'MA'), ('복잡', 'NC'), ('하', 'XS'), ('기', 'ET'), ('도', 'JX'), ('하', 'PV'), ('ㄴ', 'ET'), ('한국어', 'NC'), ('는', 'JX'), ('전세계', 'NC'), ('에서', 'JC'), ('13', 'NN'), ('번', 'NB'), ('째', 'XS'), ('로', 'JC'), ('많', 'PA'), ('이', 'XS'), ('사용되눈', 'NC'), ('언어', 'NC'), ('이', 'JP'), ('ㅂ니다', 'EF')]\n"
     ]
    }
   ],
   "source": [
    "print(hannanum.pos(text, ntags=22))"
   ]
  },
  {
   "cell_type": "code",
   "execution_count": null,
   "id": "8a03df01",
   "metadata": {},
   "outputs": [],
   "source": []
  },
  {
   "cell_type": "code",
   "execution_count": null,
   "id": "6653ba1d",
   "metadata": {},
   "outputs": [],
   "source": []
  },
  {
   "cell_type": "code",
   "execution_count": null,
   "id": "6be145b9",
   "metadata": {},
   "outputs": [],
   "source": []
  },
  {
   "cell_type": "code",
   "execution_count": null,
   "id": "059b955b",
   "metadata": {},
   "outputs": [],
   "source": []
  },
  {
   "cell_type": "code",
   "execution_count": null,
   "id": "5d17b0ab",
   "metadata": {},
   "outputs": [],
   "source": []
  },
  {
   "cell_type": "code",
   "execution_count": null,
   "id": "76c52473",
   "metadata": {},
   "outputs": [],
   "source": []
  },
  {
   "cell_type": "code",
   "execution_count": null,
   "id": "db2505b4",
   "metadata": {},
   "outputs": [],
   "source": []
  },
  {
   "cell_type": "code",
   "execution_count": null,
   "id": "73f4a091",
   "metadata": {},
   "outputs": [],
   "source": []
  },
  {
   "cell_type": "code",
   "execution_count": null,
   "id": "b03abc06",
   "metadata": {},
   "outputs": [],
   "source": []
  },
  {
   "cell_type": "code",
   "execution_count": null,
   "id": "a7fde068",
   "metadata": {},
   "outputs": [],
   "source": []
  },
  {
   "cell_type": "code",
   "execution_count": null,
   "id": "6403c5d6",
   "metadata": {},
   "outputs": [],
   "source": []
  },
  {
   "cell_type": "code",
   "execution_count": null,
   "id": "efd8b2b1",
   "metadata": {},
   "outputs": [],
   "source": []
  },
  {
   "cell_type": "code",
   "execution_count": null,
   "id": "67ac2aa4",
   "metadata": {},
   "outputs": [],
   "source": []
  },
  {
   "cell_type": "code",
   "execution_count": null,
   "id": "69e07b12",
   "metadata": {},
   "outputs": [],
   "source": []
  },
  {
   "cell_type": "code",
   "execution_count": null,
   "id": "d283737b",
   "metadata": {},
   "outputs": [],
   "source": []
  },
  {
   "cell_type": "code",
   "execution_count": null,
   "id": "7ac01e05",
   "metadata": {},
   "outputs": [],
   "source": []
  },
  {
   "cell_type": "code",
   "execution_count": null,
   "id": "5cb8d7f4",
   "metadata": {},
   "outputs": [],
   "source": []
  },
  {
   "cell_type": "code",
   "execution_count": null,
   "id": "8cbcfcd7",
   "metadata": {},
   "outputs": [],
   "source": []
  },
  {
   "cell_type": "code",
   "execution_count": null,
   "id": "283b93d8",
   "metadata": {},
   "outputs": [],
   "source": []
  },
  {
   "cell_type": "code",
   "execution_count": null,
   "id": "c1919c25",
   "metadata": {},
   "outputs": [],
   "source": []
  },
  {
   "cell_type": "code",
   "execution_count": null,
   "id": "96809d8d",
   "metadata": {},
   "outputs": [],
   "source": []
  },
  {
   "cell_type": "code",
   "execution_count": null,
   "id": "25d2218a",
   "metadata": {},
   "outputs": [],
   "source": []
  },
  {
   "cell_type": "code",
   "execution_count": null,
   "id": "97003b09",
   "metadata": {},
   "outputs": [],
   "source": []
  },
  {
   "cell_type": "code",
   "execution_count": null,
   "id": "226f62ac",
   "metadata": {},
   "outputs": [],
   "source": []
  },
  {
   "cell_type": "code",
   "execution_count": null,
   "id": "7483fe20",
   "metadata": {},
   "outputs": [],
   "source": []
  },
  {
   "cell_type": "code",
   "execution_count": null,
   "id": "427470ce",
   "metadata": {},
   "outputs": [],
   "source": []
  },
  {
   "cell_type": "code",
   "execution_count": null,
   "id": "41fab35f",
   "metadata": {},
   "outputs": [],
   "source": []
  },
  {
   "cell_type": "code",
   "execution_count": null,
   "id": "451e2d1f",
   "metadata": {},
   "outputs": [],
   "source": []
  },
  {
   "cell_type": "code",
   "execution_count": null,
   "id": "3e76eb28",
   "metadata": {},
   "outputs": [],
   "source": []
  },
  {
   "cell_type": "code",
   "execution_count": null,
   "id": "4e4288a3",
   "metadata": {},
   "outputs": [],
   "source": []
  },
  {
   "cell_type": "code",
   "execution_count": null,
   "id": "18d201ff",
   "metadata": {},
   "outputs": [],
   "source": []
  },
  {
   "cell_type": "code",
   "execution_count": null,
   "id": "5549798d",
   "metadata": {},
   "outputs": [],
   "source": []
  }
 ],
 "metadata": {
  "kernelspec": {
   "display_name": "ml-dl-nlp",
   "language": "python",
   "name": "ml-dl-nlp"
  },
  "language_info": {
   "codemirror_mode": {
    "name": "ipython",
    "version": 3
   },
   "file_extension": ".py",
   "mimetype": "text/x-python",
   "name": "python",
   "nbconvert_exporter": "python",
   "pygments_lexer": "ipython3",
   "version": "3.10.18"
  },
  "toc": {
   "base_numbering": 1,
   "nav_menu": {},
   "number_sections": false,
   "sideBar": true,
   "skip_h1_title": false,
   "title_cell": "Table of Contents",
   "title_sidebar": "Contents",
   "toc_cell": false,
   "toc_position": {
    "height": "calc(100% - 180px)",
    "left": "10px",
    "top": "150px",
    "width": "165px"
   },
   "toc_section_display": true,
   "toc_window_display": true
  }
 },
 "nbformat": 4,
 "nbformat_minor": 5
}
