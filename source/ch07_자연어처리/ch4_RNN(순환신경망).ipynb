{
 "cells": [
  {
   "cell_type": "code",
   "execution_count": 1,
   "id": "e15b20c1",
   "metadata": {},
   "outputs": [
    {
     "data": {
      "text/html": [
       "\n",
       "<style>\n",
       "div.container{width:90% !important;}\n",
       "div.cell.code_cell.rendered{width:100%;}\n",
       "div.input_prompt{padding:2px;}\n",
       "div.CodeMirror {font-family:Consolas; font-size:10pt;}\n",
       "div.text_cell_render.rendered_html{font-size:10pt;}\n",
       "div.output {font-size:10pt; font-weight:bold;}\n",
       "div.input {font-family:Consolas; font-size:10pt;}\n",
       "div.prompt {min-width:70px;}\n",
       "div#toc-wrapper{padding-top:120px;}\n",
       "div.text_cell_render ul li{font-size:11pt;padding:4px;}\n",
       "table.dataframe{font-size:10px;}\n",
       "</style>\n"
      ],
      "text/plain": [
       "<IPython.core.display.HTML object>"
      ]
     },
     "metadata": {},
     "output_type": "display_data"
    }
   ],
   "source": [
    "from IPython.display import display, HTML\n",
    "display(HTML(\"\"\"\n",
    "<style>\n",
    "div.container{width:90% !important;}\n",
    "div.cell.code_cell.rendered{width:100%;}\n",
    "div.input_prompt{padding:2px;}\n",
    "div.CodeMirror {font-family:Consolas; font-size:10pt;}\n",
    "div.text_cell_render.rendered_html{font-size:10pt;}\n",
    "div.output {font-size:10pt; font-weight:bold;}\n",
    "div.input {font-family:Consolas; font-size:10pt;}\n",
    "div.prompt {min-width:70px;}\n",
    "div#toc-wrapper{padding-top:120px;}\n",
    "div.text_cell_render ul li{font-size:11pt;padding:4px;}\n",
    "table.dataframe{font-size:10px;}\n",
    "</style>\n",
    "\"\"\"))"
   ]
  },
  {
   "cell_type": "markdown",
   "id": "8cb09674",
   "metadata": {},
   "source": [
    "**<font size='6' color='red'>ch4.RNN(Recurrent Neural Network 순환신경망</font>**\n",
    "# 1. 문맥을 이용하여 모델 만들기"
   ]
  },
  {
   "cell_type": "code",
   "execution_count": 2,
   "id": "f38a5839",
   "metadata": {},
   "outputs": [],
   "source": [
    "text = \"\"\"경마장에 있는 말이 뛰고 있다\n",
    "그의 말이 법이다\n",
    "가는 말이 고와야 오는 말이 곱다\"\"\"\n",
    "text1 = \"장마철이 오고 있다\""
   ]
  },
  {
   "cell_type": "code",
   "execution_count": 3,
   "id": "3cf27a8c",
   "metadata": {},
   "outputs": [
    {
     "name": "stdout",
     "output_type": "stream",
     "text": [
      "[[3, 4, 1, 5, 2, 6, 1, 7, 8, 1, 9, 10, 1, 11], [12, 13, 2]]\n",
      "{'말이': 1, '있다': 2, '경마장에': 3, '있는': 4, '뛰고': 5, '그의': 6, '법이다': 7, '가는': 8, '고와야': 9, '오는': 10, '곱다': 11, '장마철이': 12, '오고': 13}\n"
     ]
    }
   ],
   "source": [
    "from keras_preprocessing.text import Tokenizer\n",
    "t = Tokenizer()\n",
    "t.fit_on_texts([text, text1])\n",
    "encoded = t.texts_to_sequences([text, text1])\n",
    "print(encoded)\n",
    "print(t.word_index)"
   ]
  },
  {
   "cell_type": "code",
   "execution_count": 4,
   "id": "1d57ea01",
   "metadata": {},
   "outputs": [
    {
     "name": "stdout",
     "output_type": "stream",
     "text": [
      "[[2, 3, 1, 4, 5, 6, 1, 7, 8, 1, 9, 10, 1, 11]]\n",
      "{'말이': 1, '경마장에': 2, '있는': 3, '뛰고': 4, '있다': 5, '그의': 6, '법이다': 7, '가는': 8, '고와야': 9, '오는': 10, '곱다': 11}\n"
     ]
    }
   ],
   "source": [
    "from keras_preprocessing.text import Tokenizer\n",
    "t = Tokenizer()\n",
    "t.fit_on_texts([text])\n",
    "encoded = t.texts_to_sequences([text])\n",
    "print(encoded)\n",
    "print(t.word_index)"
   ]
  },
  {
   "cell_type": "code",
   "execution_count": 5,
   "id": "12801da9",
   "metadata": {},
   "outputs": [
    {
     "name": "stdout",
     "output_type": "stream",
     "text": [
      "[[2, 1, 5], [1]]\n",
      "[8, 1, 11]\n"
     ]
    }
   ],
   "source": [
    "# 문자열 리스트를 인덱스 시퀀스로 변환\n",
    "print(t.texts_to_sequences(['경마장에 말이 있다', '말이 뛴다']))\n",
    "print(t.texts_to_sequences(['가는 말이 곱다'])[0])"
   ]
  },
  {
   "cell_type": "code",
   "execution_count": 6,
   "id": "332a7da1",
   "metadata": {},
   "outputs": [],
   "source": [
    "text = \"\"\"경마장에 있는 말이 뛰고 있다\n",
    "그의 말이 법이다\n",
    "가는 말이 고와야 오는 말이 곱다\"\"\""
   ]
  },
  {
   "cell_type": "code",
   "execution_count": 7,
   "id": "edbea1f0",
   "metadata": {},
   "outputs": [
    {
     "name": "stdout",
     "output_type": "stream",
     "text": [
      "말이 1\n",
      "경마장에 2\n",
      "있는 3\n",
      "뛰고 4\n",
      "있다 5\n",
      "그의 6\n",
      "법이다 7\n",
      "가는 8\n",
      "고와야 9\n",
      "오는 10\n",
      "곱다 11\n"
     ]
    }
   ],
   "source": [
    "for key, value in t.word_index.items():\n",
    "    print(key, value)"
   ]
  },
  {
   "cell_type": "code",
   "execution_count": 8,
   "id": "79f6f957",
   "metadata": {},
   "outputs": [
    {
     "name": "stdout",
     "output_type": "stream",
     "text": [
      "원문장 :  경마장에 있는 말이 뛰고 있다\n",
      "encoded된 문장 :  [2, 3, 1, 4, 5]\n",
      "원문장 :  그의 말이 법이다\n",
      "encoded된 문장 :  [6, 1, 7]\n",
      "원문장 :  가는 말이 고와야 오는 말이 곱다\n",
      "encoded된 문장 :  [8, 1, 9, 10, 1, 11]\n",
      "[[2, 3], [2, 3, 1], [2, 3, 1, 4], [2, 3, 1, 4, 5], [3, 1], [3, 1, 4], [3, 1, 4, 5], [1, 4], [1, 4, 5], [4, 5], [6, 1], [6, 1, 7], [1, 7], [8, 1], [8, 1, 9], [8, 1, 9, 10], [8, 1, 9, 10, 1], [8, 1, 9, 10, 1, 11], [1, 9], [1, 9, 10], [1, 9, 10, 1], [1, 9, 10, 1, 11], [9, 10], [9, 10, 1], [9, 10, 1, 11], [10, 1], [10, 1, 11], [1, 11]]\n",
      "sequences와 해석 출력\n",
      "2:경마장에 3:있는 \n",
      "2:경마장에 3:있는 1:말이 \n",
      "2:경마장에 3:있는 1:말이 4:뛰고 \n",
      "2:경마장에 3:있는 1:말이 4:뛰고 5:있다 \n",
      "3:있는 1:말이 \n",
      "3:있는 1:말이 4:뛰고 \n",
      "3:있는 1:말이 4:뛰고 5:있다 \n",
      "1:말이 4:뛰고 \n",
      "1:말이 4:뛰고 5:있다 \n",
      "4:뛰고 5:있다 \n",
      "6:그의 1:말이 \n",
      "6:그의 1:말이 7:법이다 \n",
      "1:말이 7:법이다 \n",
      "8:가는 1:말이 \n",
      "8:가는 1:말이 9:고와야 \n",
      "8:가는 1:말이 9:고와야 10:오는 \n",
      "8:가는 1:말이 9:고와야 10:오는 1:말이 \n",
      "8:가는 1:말이 9:고와야 10:오는 1:말이 11:곱다 \n",
      "1:말이 9:고와야 \n",
      "1:말이 9:고와야 10:오는 \n",
      "1:말이 9:고와야 10:오는 1:말이 \n",
      "1:말이 9:고와야 10:오는 1:말이 11:곱다 \n",
      "9:고와야 10:오는 \n",
      "9:고와야 10:오는 1:말이 \n",
      "9:고와야 10:오는 1:말이 11:곱다 \n",
      "10:오는 1:말이 \n",
      "10:오는 1:말이 11:곱다 \n",
      "1:말이 11:곱다 \n"
     ]
    }
   ],
   "source": [
    "# 학습을 시키기 위해 ['경마장에 있는','경마장에 있는 말이', ...]\n",
    "sequences = []\n",
    "for line in text.split('\\n'):\n",
    "    print('원문장 : ', line)\n",
    "    encoded = t.texts_to_sequences([line])[0]\n",
    "    print('encoded된 문장 : ', encoded)\n",
    "    for i in range(0, len(encoded)-1):  # i : 시작index\n",
    "        for j in range(i+2, len(encoded)+1): # j : 끝나는 index바로 뒤\n",
    "            sequences.append(encoded[i:j])\n",
    "print(sequences)\n",
    "print('sequences와 해석 출력')\n",
    "for sequence in sequences:\n",
    "    for word_seq in sequence:\n",
    "        for word, id in t.word_index.items():\n",
    "            if word_seq == id:\n",
    "                print('{}:{}'.format(word_seq, word), end=' ')\n",
    "                break\n",
    "    print()"
   ]
  },
  {
   "cell_type": "code",
   "execution_count": 9,
   "id": "28b956e3",
   "metadata": {},
   "outputs": [
    {
     "name": "stdout",
     "output_type": "stream",
     "text": [
      "[2, 3, 4, 5, 2, 3, 4, 2, 3, 2, 2, 3, 2, 2, 3, 4, 5, 6, 2, 3, 4, 5, 2, 3, 4, 2, 3, 2]\n"
     ]
    },
    {
     "data": {
      "text/plain": [
       "6"
      ]
     },
     "execution_count": 9,
     "metadata": {},
     "output_type": "execute_result"
    }
   ],
   "source": [
    "print([len(sequence) for sequence in sequences])\n",
    "my_len = max(len(sequence) for sequence in sequences)\n",
    "my_len"
   ]
  },
  {
   "cell_type": "code",
   "execution_count": 10,
   "id": "2c08ba04",
   "metadata": {},
   "outputs": [
    {
     "data": {
      "text/plain": [
       "((28, 6), numpy.ndarray)"
      ]
     },
     "execution_count": 10,
     "metadata": {},
     "output_type": "execute_result"
    }
   ],
   "source": [
    "# sequences를 훈련 가능하도록 모두 6개로 조정\n",
    "from tensorflow.keras.preprocessing.sequence import pad_sequences\n",
    "padded_sequences = pad_sequences(sequences=sequences,\n",
    "                                maxlen=my_len,\n",
    "                                #padding='post',\n",
    "                                padding='pre')\n",
    "\n",
    "padded_sequences.shape, type(padded_sequences)\n",
    "#padded_sequences"
   ]
  },
  {
   "cell_type": "code",
   "execution_count": 11,
   "id": "89b9de0c",
   "metadata": {},
   "outputs": [
    {
     "data": {
      "text/plain": [
       "(array([[ 0,  0,  0,  0,  2],\n",
       "        [ 0,  0,  0,  2,  3],\n",
       "        [ 0,  0,  2,  3,  1],\n",
       "        [ 0,  2,  3,  1,  4],\n",
       "        [ 0,  0,  0,  0,  3],\n",
       "        [ 0,  0,  0,  3,  1],\n",
       "        [ 0,  0,  3,  1,  4],\n",
       "        [ 0,  0,  0,  0,  1],\n",
       "        [ 0,  0,  0,  1,  4],\n",
       "        [ 0,  0,  0,  0,  4],\n",
       "        [ 0,  0,  0,  0,  6],\n",
       "        [ 0,  0,  0,  6,  1],\n",
       "        [ 0,  0,  0,  0,  1],\n",
       "        [ 0,  0,  0,  0,  8],\n",
       "        [ 0,  0,  0,  8,  1],\n",
       "        [ 0,  0,  8,  1,  9],\n",
       "        [ 0,  8,  1,  9, 10],\n",
       "        [ 8,  1,  9, 10,  1],\n",
       "        [ 0,  0,  0,  0,  1],\n",
       "        [ 0,  0,  0,  1,  9],\n",
       "        [ 0,  0,  1,  9, 10],\n",
       "        [ 0,  1,  9, 10,  1],\n",
       "        [ 0,  0,  0,  0,  9],\n",
       "        [ 0,  0,  0,  9, 10],\n",
       "        [ 0,  0,  9, 10,  1],\n",
       "        [ 0,  0,  0,  0, 10],\n",
       "        [ 0,  0,  0, 10,  1],\n",
       "        [ 0,  0,  0,  0,  1]]),\n",
       " array([ 3,  1,  4,  5,  1,  4,  5,  4,  5,  5,  1,  7,  7,  1,  9, 10,  1,\n",
       "        11,  9, 10,  1, 11, 10,  1, 11,  1, 11, 11]))"
      ]
     },
     "execution_count": 11,
     "metadata": {},
     "output_type": "execute_result"
    }
   ],
   "source": [
    "# 독립변수(x)와 타켓변수(y)로 분리\n",
    "X = padded_sequences[:,:-1]\n",
    "y = padded_sequences[:, -1]\n",
    "X,y"
   ]
  },
  {
   "cell_type": "code",
   "execution_count": 12,
   "id": "ec720a1a",
   "metadata": {},
   "outputs": [
    {
     "data": {
      "text/plain": [
       "12"
      ]
     },
     "execution_count": 12,
     "metadata": {},
     "output_type": "execute_result"
    }
   ],
   "source": [
    "# X를 엠베딩 작업할 때 필요한 입력 bit 수 (단어수 +1)\n",
    "input_dim = len(t.word_index)+1\n",
    "input_dim"
   ]
  },
  {
   "cell_type": "code",
   "execution_count": 13,
   "id": "37b5cbb7",
   "metadata": {},
   "outputs": [
    {
     "data": {
      "text/plain": [
       "((28, 5), (28, 12), 12)"
      ]
     },
     "execution_count": 13,
     "metadata": {},
     "output_type": "execute_result"
    }
   ],
   "source": [
    "# y의 원핫인코딩\n",
    "from tensorflow.keras.utils import to_categorical\n",
    "Y = to_categorical(y, input_dim)\n",
    "X.shape,Y.shape, input_dim"
   ]
  },
  {
   "cell_type": "code",
   "execution_count": 14,
   "id": "0de41530",
   "metadata": {},
   "outputs": [
    {
     "name": "stdout",
     "output_type": "stream",
     "text": [
      "Model: \"sequential\"\n",
      "_________________________________________________________________\n",
      " Layer (type)                Output Shape              Param #   \n",
      "=================================================================\n",
      " embedding (Embedding)       (None, 5, 10)             120       \n",
      "                                                                 \n",
      " simple_rnn (SimpleRNN)      (None, 32)                1376      \n",
      "                                                                 \n",
      " dense (Dense)               (None, 12)                396       \n",
      "                                                                 \n",
      "=================================================================\n",
      "Total params: 1,892\n",
      "Trainable params: 1,892\n",
      "Non-trainable params: 0\n",
      "_________________________________________________________________\n",
      "None\n",
      "Epoch 1/300\n",
      "1/1 - 1s - loss: 2.4635 - accuracy: 0.2143 - 952ms/epoch - 952ms/step\n",
      "Epoch 2/300\n",
      "1/1 - 0s - loss: 2.4527 - accuracy: 0.3214 - 4ms/epoch - 4ms/step\n",
      "Epoch 3/300\n",
      "1/1 - 0s - loss: 2.4418 - accuracy: 0.3929 - 5ms/epoch - 5ms/step\n",
      "Epoch 4/300\n",
      "1/1 - 0s - loss: 2.4306 - accuracy: 0.3929 - 3ms/epoch - 3ms/step\n",
      "Epoch 5/300\n",
      "1/1 - 0s - loss: 2.4191 - accuracy: 0.4286 - 6ms/epoch - 6ms/step\n",
      "Epoch 6/300\n",
      "1/1 - 0s - loss: 2.4072 - accuracy: 0.4643 - 4ms/epoch - 4ms/step\n",
      "Epoch 7/300\n",
      "1/1 - 0s - loss: 2.3949 - accuracy: 0.4286 - 5ms/epoch - 5ms/step\n",
      "Epoch 8/300\n",
      "1/1 - 0s - loss: 2.3821 - accuracy: 0.4286 - 4ms/epoch - 4ms/step\n",
      "Epoch 9/300\n",
      "1/1 - 0s - loss: 2.3688 - accuracy: 0.3929 - 4ms/epoch - 4ms/step\n",
      "Epoch 10/300\n",
      "1/1 - 0s - loss: 2.3549 - accuracy: 0.3929 - 4ms/epoch - 4ms/step\n",
      "Epoch 11/300\n",
      "1/1 - 0s - loss: 2.3404 - accuracy: 0.3929 - 4ms/epoch - 4ms/step\n",
      "Epoch 12/300\n",
      "1/1 - 0s - loss: 2.3253 - accuracy: 0.3929 - 5ms/epoch - 5ms/step\n",
      "Epoch 13/300\n",
      "1/1 - 0s - loss: 2.3096 - accuracy: 0.3929 - 4ms/epoch - 4ms/step\n",
      "Epoch 14/300\n",
      "1/1 - 0s - loss: 2.2931 - accuracy: 0.3214 - 5ms/epoch - 5ms/step\n",
      "Epoch 15/300\n",
      "1/1 - 0s - loss: 2.2760 - accuracy: 0.3214 - 4ms/epoch - 4ms/step\n",
      "Epoch 16/300\n",
      "1/1 - 0s - loss: 2.2583 - accuracy: 0.3214 - 4ms/epoch - 4ms/step\n",
      "Epoch 17/300\n",
      "1/1 - 0s - loss: 2.2399 - accuracy: 0.3214 - 4ms/epoch - 4ms/step\n",
      "Epoch 18/300\n",
      "1/1 - 0s - loss: 2.2209 - accuracy: 0.3214 - 4ms/epoch - 4ms/step\n",
      "Epoch 19/300\n",
      "1/1 - 0s - loss: 2.2015 - accuracy: 0.3214 - 4ms/epoch - 4ms/step\n",
      "Epoch 20/300\n",
      "1/1 - 0s - loss: 2.1816 - accuracy: 0.3214 - 5ms/epoch - 5ms/step\n",
      "Epoch 21/300\n",
      "1/1 - 0s - loss: 2.1614 - accuracy: 0.3214 - 5ms/epoch - 5ms/step\n",
      "Epoch 22/300\n",
      "1/1 - 0s - loss: 2.1410 - accuracy: 0.3214 - 6ms/epoch - 6ms/step\n",
      "Epoch 23/300\n",
      "1/1 - 0s - loss: 2.1206 - accuracy: 0.3214 - 4ms/epoch - 4ms/step\n",
      "Epoch 24/300\n",
      "1/1 - 0s - loss: 2.1004 - accuracy: 0.3214 - 4ms/epoch - 4ms/step\n",
      "Epoch 25/300\n",
      "1/1 - 0s - loss: 2.0804 - accuracy: 0.3214 - 4ms/epoch - 4ms/step\n",
      "Epoch 26/300\n",
      "1/1 - 0s - loss: 2.0608 - accuracy: 0.3214 - 4ms/epoch - 4ms/step\n",
      "Epoch 27/300\n",
      "1/1 - 0s - loss: 2.0419 - accuracy: 0.3214 - 4ms/epoch - 4ms/step\n",
      "Epoch 28/300\n",
      "1/1 - 0s - loss: 2.0236 - accuracy: 0.3214 - 5ms/epoch - 5ms/step\n",
      "Epoch 29/300\n",
      "1/1 - 0s - loss: 2.0061 - accuracy: 0.3214 - 5ms/epoch - 5ms/step\n",
      "Epoch 30/300\n",
      "1/1 - 0s - loss: 1.9893 - accuracy: 0.3214 - 3ms/epoch - 3ms/step\n",
      "Epoch 31/300\n",
      "1/1 - 0s - loss: 1.9733 - accuracy: 0.3214 - 4ms/epoch - 4ms/step\n",
      "Epoch 32/300\n",
      "1/1 - 0s - loss: 1.9581 - accuracy: 0.3214 - 6ms/epoch - 6ms/step\n",
      "Epoch 33/300\n",
      "1/1 - 0s - loss: 1.9434 - accuracy: 0.3214 - 4ms/epoch - 4ms/step\n",
      "Epoch 34/300\n",
      "1/1 - 0s - loss: 1.9293 - accuracy: 0.3214 - 6ms/epoch - 6ms/step\n",
      "Epoch 35/300\n",
      "1/1 - 0s - loss: 1.9156 - accuracy: 0.3214 - 4ms/epoch - 4ms/step\n",
      "Epoch 36/300\n",
      "1/1 - 0s - loss: 1.9023 - accuracy: 0.3214 - 4ms/epoch - 4ms/step\n",
      "Epoch 37/300\n",
      "1/1 - 0s - loss: 1.8893 - accuracy: 0.3214 - 4ms/epoch - 4ms/step\n",
      "Epoch 38/300\n",
      "1/1 - 0s - loss: 1.8765 - accuracy: 0.3214 - 3ms/epoch - 3ms/step\n",
      "Epoch 39/300\n",
      "1/1 - 0s - loss: 1.8640 - accuracy: 0.3214 - 5ms/epoch - 5ms/step\n",
      "Epoch 40/300\n",
      "1/1 - 0s - loss: 1.8517 - accuracy: 0.3214 - 3ms/epoch - 3ms/step\n",
      "Epoch 41/300\n",
      "1/1 - 0s - loss: 1.8396 - accuracy: 0.3214 - 4ms/epoch - 4ms/step\n",
      "Epoch 42/300\n",
      "1/1 - 0s - loss: 1.8277 - accuracy: 0.3214 - 4ms/epoch - 4ms/step\n",
      "Epoch 43/300\n",
      "1/1 - 0s - loss: 1.8160 - accuracy: 0.3571 - 4ms/epoch - 4ms/step\n",
      "Epoch 44/300\n",
      "1/1 - 0s - loss: 1.8044 - accuracy: 0.3571 - 5ms/epoch - 5ms/step\n",
      "Epoch 45/300\n",
      "1/1 - 0s - loss: 1.7929 - accuracy: 0.3571 - 3ms/epoch - 3ms/step\n",
      "Epoch 46/300\n",
      "1/1 - 0s - loss: 1.7814 - accuracy: 0.3571 - 6ms/epoch - 6ms/step\n",
      "Epoch 47/300\n",
      "1/1 - 0s - loss: 1.7699 - accuracy: 0.3929 - 4ms/epoch - 4ms/step\n",
      "Epoch 48/300\n",
      "1/1 - 0s - loss: 1.7582 - accuracy: 0.3929 - 5ms/epoch - 5ms/step\n",
      "Epoch 49/300\n",
      "1/1 - 0s - loss: 1.7465 - accuracy: 0.3929 - 4ms/epoch - 4ms/step\n",
      "Epoch 50/300\n",
      "1/1 - 0s - loss: 1.7346 - accuracy: 0.3929 - 3ms/epoch - 3ms/step\n",
      "Epoch 51/300\n",
      "1/1 - 0s - loss: 1.7225 - accuracy: 0.3929 - 4ms/epoch - 4ms/step\n",
      "Epoch 52/300\n",
      "1/1 - 0s - loss: 1.7102 - accuracy: 0.3929 - 5ms/epoch - 5ms/step\n",
      "Epoch 53/300\n",
      "1/1 - 0s - loss: 1.6977 - accuracy: 0.4286 - 5ms/epoch - 5ms/step\n",
      "Epoch 54/300\n",
      "1/1 - 0s - loss: 1.6850 - accuracy: 0.4643 - 6ms/epoch - 6ms/step\n",
      "Epoch 55/300\n",
      "1/1 - 0s - loss: 1.6721 - accuracy: 0.5000 - 5ms/epoch - 5ms/step\n",
      "Epoch 56/300\n",
      "1/1 - 0s - loss: 1.6591 - accuracy: 0.5000 - 4ms/epoch - 4ms/step\n",
      "Epoch 57/300\n",
      "1/1 - 0s - loss: 1.6458 - accuracy: 0.5000 - 5ms/epoch - 5ms/step\n",
      "Epoch 58/300\n",
      "1/1 - 0s - loss: 1.6324 - accuracy: 0.5000 - 4ms/epoch - 4ms/step\n",
      "Epoch 59/300\n",
      "1/1 - 0s - loss: 1.6188 - accuracy: 0.5000 - 4ms/epoch - 4ms/step\n",
      "Epoch 60/300\n",
      "1/1 - 0s - loss: 1.6051 - accuracy: 0.5000 - 5ms/epoch - 5ms/step\n",
      "Epoch 61/300\n",
      "1/1 - 0s - loss: 1.5912 - accuracy: 0.5000 - 4ms/epoch - 4ms/step\n",
      "Epoch 62/300\n",
      "1/1 - 0s - loss: 1.5771 - accuracy: 0.5000 - 4ms/epoch - 4ms/step\n",
      "Epoch 63/300\n",
      "1/1 - 0s - loss: 1.5630 - accuracy: 0.5000 - 3ms/epoch - 3ms/step\n",
      "Epoch 64/300\n",
      "1/1 - 0s - loss: 1.5488 - accuracy: 0.5000 - 3ms/epoch - 3ms/step\n",
      "Epoch 65/300\n",
      "1/1 - 0s - loss: 1.5346 - accuracy: 0.5000 - 5ms/epoch - 5ms/step\n",
      "Epoch 66/300\n",
      "1/1 - 0s - loss: 1.5204 - accuracy: 0.5357 - 4ms/epoch - 4ms/step\n",
      "Epoch 67/300\n",
      "1/1 - 0s - loss: 1.5061 - accuracy: 0.5357 - 6ms/epoch - 6ms/step\n",
      "Epoch 68/300\n",
      "1/1 - 0s - loss: 1.4919 - accuracy: 0.5357 - 4ms/epoch - 4ms/step\n",
      "Epoch 69/300\n",
      "1/1 - 0s - loss: 1.4778 - accuracy: 0.5357 - 4ms/epoch - 4ms/step\n",
      "Epoch 70/300\n",
      "1/1 - 0s - loss: 1.4637 - accuracy: 0.5357 - 4ms/epoch - 4ms/step\n",
      "Epoch 71/300\n",
      "1/1 - 0s - loss: 1.4496 - accuracy: 0.5357 - 4ms/epoch - 4ms/step\n",
      "Epoch 72/300\n",
      "1/1 - 0s - loss: 1.4357 - accuracy: 0.5357 - 4ms/epoch - 4ms/step\n",
      "Epoch 73/300\n",
      "1/1 - 0s - loss: 1.4218 - accuracy: 0.5357 - 4ms/epoch - 4ms/step\n",
      "Epoch 74/300\n",
      "1/1 - 0s - loss: 1.4080 - accuracy: 0.5357 - 4ms/epoch - 4ms/step\n",
      "Epoch 75/300\n",
      "1/1 - 0s - loss: 1.3944 - accuracy: 0.5357 - 4ms/epoch - 4ms/step\n",
      "Epoch 76/300\n",
      "1/1 - 0s - loss: 1.3809 - accuracy: 0.5357 - 4ms/epoch - 4ms/step\n",
      "Epoch 77/300\n",
      "1/1 - 0s - loss: 1.3675 - accuracy: 0.5357 - 5ms/epoch - 5ms/step\n",
      "Epoch 78/300\n",
      "1/1 - 0s - loss: 1.3543 - accuracy: 0.5714 - 3ms/epoch - 3ms/step\n",
      "Epoch 79/300\n",
      "1/1 - 0s - loss: 1.3412 - accuracy: 0.6071 - 3ms/epoch - 3ms/step\n",
      "Epoch 80/300\n",
      "1/1 - 0s - loss: 1.3283 - accuracy: 0.6071 - 4ms/epoch - 4ms/step\n",
      "Epoch 81/300\n",
      "1/1 - 0s - loss: 1.3156 - accuracy: 0.6071 - 4ms/epoch - 4ms/step\n",
      "Epoch 82/300\n",
      "1/1 - 0s - loss: 1.3030 - accuracy: 0.6071 - 5ms/epoch - 5ms/step\n",
      "Epoch 83/300\n",
      "1/1 - 0s - loss: 1.2906 - accuracy: 0.6071 - 3ms/epoch - 3ms/step\n",
      "Epoch 84/300\n",
      "1/1 - 0s - loss: 1.2784 - accuracy: 0.6071 - 3ms/epoch - 3ms/step\n",
      "Epoch 85/300\n",
      "1/1 - 0s - loss: 1.2663 - accuracy: 0.6071 - 5ms/epoch - 5ms/step\n",
      "Epoch 86/300\n",
      "1/1 - 0s - loss: 1.2545 - accuracy: 0.6071 - 4ms/epoch - 4ms/step\n",
      "Epoch 87/300\n",
      "1/1 - 0s - loss: 1.2428 - accuracy: 0.6429 - 4ms/epoch - 4ms/step\n",
      "Epoch 88/300\n",
      "1/1 - 0s - loss: 1.2313 - accuracy: 0.6429 - 4ms/epoch - 4ms/step\n",
      "Epoch 89/300\n",
      "1/1 - 0s - loss: 1.2199 - accuracy: 0.6786 - 3ms/epoch - 3ms/step\n",
      "Epoch 90/300\n",
      "1/1 - 0s - loss: 1.2087 - accuracy: 0.6786 - 4ms/epoch - 4ms/step\n",
      "Epoch 91/300\n",
      "1/1 - 0s - loss: 1.1977 - accuracy: 0.6786 - 4ms/epoch - 4ms/step\n",
      "Epoch 92/300\n",
      "1/1 - 0s - loss: 1.1869 - accuracy: 0.6786 - 5ms/epoch - 5ms/step\n",
      "Epoch 93/300\n",
      "1/1 - 0s - loss: 1.1762 - accuracy: 0.6786 - 3ms/epoch - 3ms/step\n",
      "Epoch 94/300\n",
      "1/1 - 0s - loss: 1.1656 - accuracy: 0.6786 - 3ms/epoch - 3ms/step\n"
     ]
    },
    {
     "name": "stdout",
     "output_type": "stream",
     "text": [
      "Epoch 95/300\n",
      "1/1 - 0s - loss: 1.1553 - accuracy: 0.6786 - 4ms/epoch - 4ms/step\n",
      "Epoch 96/300\n",
      "1/1 - 0s - loss: 1.1450 - accuracy: 0.6786 - 3ms/epoch - 3ms/step\n",
      "Epoch 97/300\n",
      "1/1 - 0s - loss: 1.1349 - accuracy: 0.6786 - 4ms/epoch - 4ms/step\n",
      "Epoch 98/300\n",
      "1/1 - 0s - loss: 1.1249 - accuracy: 0.6786 - 3ms/epoch - 3ms/step\n",
      "Epoch 99/300\n",
      "1/1 - 0s - loss: 1.1151 - accuracy: 0.6786 - 4ms/epoch - 4ms/step\n",
      "Epoch 100/300\n",
      "1/1 - 0s - loss: 1.1054 - accuracy: 0.6786 - 5ms/epoch - 5ms/step\n",
      "Epoch 101/300\n",
      "1/1 - 0s - loss: 1.0958 - accuracy: 0.6786 - 3ms/epoch - 3ms/step\n",
      "Epoch 102/300\n",
      "1/1 - 0s - loss: 1.0863 - accuracy: 0.6786 - 4ms/epoch - 4ms/step\n",
      "Epoch 103/300\n",
      "1/1 - 0s - loss: 1.0769 - accuracy: 0.6786 - 4ms/epoch - 4ms/step\n",
      "Epoch 104/300\n",
      "1/1 - 0s - loss: 1.0677 - accuracy: 0.6786 - 4ms/epoch - 4ms/step\n",
      "Epoch 105/300\n",
      "1/1 - 0s - loss: 1.0585 - accuracy: 0.6786 - 5ms/epoch - 5ms/step\n",
      "Epoch 106/300\n",
      "1/1 - 0s - loss: 1.0494 - accuracy: 0.6786 - 4ms/epoch - 4ms/step\n",
      "Epoch 107/300\n",
      "1/1 - 0s - loss: 1.0405 - accuracy: 0.6786 - 3ms/epoch - 3ms/step\n",
      "Epoch 108/300\n",
      "1/1 - 0s - loss: 1.0316 - accuracy: 0.6786 - 3ms/epoch - 3ms/step\n",
      "Epoch 109/300\n",
      "1/1 - 0s - loss: 1.0229 - accuracy: 0.6786 - 4ms/epoch - 4ms/step\n",
      "Epoch 110/300\n",
      "1/1 - 0s - loss: 1.0142 - accuracy: 0.6786 - 4ms/epoch - 4ms/step\n",
      "Epoch 111/300\n",
      "1/1 - 0s - loss: 1.0056 - accuracy: 0.6786 - 3ms/epoch - 3ms/step\n",
      "Epoch 112/300\n",
      "1/1 - 0s - loss: 0.9971 - accuracy: 0.6786 - 3ms/epoch - 3ms/step\n",
      "Epoch 113/300\n",
      "1/1 - 0s - loss: 0.9886 - accuracy: 0.6786 - 5ms/epoch - 5ms/step\n",
      "Epoch 114/300\n",
      "1/1 - 0s - loss: 0.9803 - accuracy: 0.6786 - 4ms/epoch - 4ms/step\n",
      "Epoch 115/300\n",
      "1/1 - 0s - loss: 0.9720 - accuracy: 0.6786 - 3ms/epoch - 3ms/step\n",
      "Epoch 116/300\n",
      "1/1 - 0s - loss: 0.9638 - accuracy: 0.6786 - 4ms/epoch - 4ms/step\n",
      "Epoch 117/300\n",
      "1/1 - 0s - loss: 0.9557 - accuracy: 0.6786 - 3ms/epoch - 3ms/step\n",
      "Epoch 118/300\n",
      "1/1 - 0s - loss: 0.9476 - accuracy: 0.7143 - 5ms/epoch - 5ms/step\n",
      "Epoch 119/300\n",
      "1/1 - 0s - loss: 0.9396 - accuracy: 0.7143 - 3ms/epoch - 3ms/step\n",
      "Epoch 120/300\n",
      "1/1 - 0s - loss: 0.9317 - accuracy: 0.7143 - 3ms/epoch - 3ms/step\n",
      "Epoch 121/300\n",
      "1/1 - 0s - loss: 0.9238 - accuracy: 0.7143 - 5ms/epoch - 5ms/step\n",
      "Epoch 122/300\n",
      "1/1 - 0s - loss: 0.9160 - accuracy: 0.7143 - 4ms/epoch - 4ms/step\n",
      "Epoch 123/300\n",
      "1/1 - 0s - loss: 0.9083 - accuracy: 0.7143 - 3ms/epoch - 3ms/step\n",
      "Epoch 124/300\n",
      "1/1 - 0s - loss: 0.9006 - accuracy: 0.7143 - 3ms/epoch - 3ms/step\n",
      "Epoch 125/300\n",
      "1/1 - 0s - loss: 0.8930 - accuracy: 0.7143 - 4ms/epoch - 4ms/step\n",
      "Epoch 126/300\n",
      "1/1 - 0s - loss: 0.8855 - accuracy: 0.7143 - 4ms/epoch - 4ms/step\n",
      "Epoch 127/300\n",
      "1/1 - 0s - loss: 0.8780 - accuracy: 0.7143 - 3ms/epoch - 3ms/step\n",
      "Epoch 128/300\n",
      "1/1 - 0s - loss: 0.8705 - accuracy: 0.7143 - 4ms/epoch - 4ms/step\n",
      "Epoch 129/300\n",
      "1/1 - 0s - loss: 0.8632 - accuracy: 0.7143 - 4ms/epoch - 4ms/step\n",
      "Epoch 130/300\n",
      "1/1 - 0s - loss: 0.8559 - accuracy: 0.7143 - 3ms/epoch - 3ms/step\n",
      "Epoch 131/300\n",
      "1/1 - 0s - loss: 0.8486 - accuracy: 0.7143 - 3ms/epoch - 3ms/step\n",
      "Epoch 132/300\n",
      "1/1 - 0s - loss: 0.8414 - accuracy: 0.7143 - 3ms/epoch - 3ms/step\n",
      "Epoch 133/300\n",
      "1/1 - 0s - loss: 0.8343 - accuracy: 0.7143 - 3ms/epoch - 3ms/step\n",
      "Epoch 134/300\n",
      "1/1 - 0s - loss: 0.8272 - accuracy: 0.7143 - 4ms/epoch - 4ms/step\n",
      "Epoch 135/300\n",
      "1/1 - 0s - loss: 0.8202 - accuracy: 0.7143 - 4ms/epoch - 4ms/step\n",
      "Epoch 136/300\n",
      "1/1 - 0s - loss: 0.8133 - accuracy: 0.7143 - 3ms/epoch - 3ms/step\n",
      "Epoch 137/300\n",
      "1/1 - 0s - loss: 0.8064 - accuracy: 0.7143 - 4ms/epoch - 4ms/step\n",
      "Epoch 138/300\n",
      "1/1 - 0s - loss: 0.7995 - accuracy: 0.7143 - 4ms/epoch - 4ms/step\n",
      "Epoch 139/300\n",
      "1/1 - 0s - loss: 0.7927 - accuracy: 0.7143 - 4ms/epoch - 4ms/step\n",
      "Epoch 140/300\n",
      "1/1 - 0s - loss: 0.7860 - accuracy: 0.7500 - 4ms/epoch - 4ms/step\n",
      "Epoch 141/300\n",
      "1/1 - 0s - loss: 0.7794 - accuracy: 0.7500 - 3ms/epoch - 3ms/step\n",
      "Epoch 142/300\n",
      "1/1 - 0s - loss: 0.7728 - accuracy: 0.7500 - 5ms/epoch - 5ms/step\n",
      "Epoch 143/300\n",
      "1/1 - 0s - loss: 0.7662 - accuracy: 0.7500 - 3ms/epoch - 3ms/step\n",
      "Epoch 144/300\n",
      "1/1 - 0s - loss: 0.7597 - accuracy: 0.7500 - 4ms/epoch - 4ms/step\n",
      "Epoch 145/300\n",
      "1/1 - 0s - loss: 0.7533 - accuracy: 0.7500 - 4ms/epoch - 4ms/step\n",
      "Epoch 146/300\n",
      "1/1 - 0s - loss: 0.7469 - accuracy: 0.7500 - 4ms/epoch - 4ms/step\n",
      "Epoch 147/300\n",
      "1/1 - 0s - loss: 0.7406 - accuracy: 0.7500 - 4ms/epoch - 4ms/step\n",
      "Epoch 148/300\n",
      "1/1 - 0s - loss: 0.7344 - accuracy: 0.7500 - 3ms/epoch - 3ms/step\n",
      "Epoch 149/300\n",
      "1/1 - 0s - loss: 0.7282 - accuracy: 0.7500 - 4ms/epoch - 4ms/step\n",
      "Epoch 150/300\n",
      "1/1 - 0s - loss: 0.7221 - accuracy: 0.7500 - 5ms/epoch - 5ms/step\n",
      "Epoch 151/300\n",
      "1/1 - 0s - loss: 0.7160 - accuracy: 0.7857 - 4ms/epoch - 4ms/step\n",
      "Epoch 152/300\n",
      "1/1 - 0s - loss: 0.7100 - accuracy: 0.7857 - 4ms/epoch - 4ms/step\n",
      "Epoch 153/300\n",
      "1/1 - 0s - loss: 0.7041 - accuracy: 0.7857 - 3ms/epoch - 3ms/step\n",
      "Epoch 154/300\n",
      "1/1 - 0s - loss: 0.6982 - accuracy: 0.7857 - 3ms/epoch - 3ms/step\n",
      "Epoch 155/300\n",
      "1/1 - 0s - loss: 0.6924 - accuracy: 0.7857 - 5ms/epoch - 5ms/step\n",
      "Epoch 156/300\n",
      "1/1 - 0s - loss: 0.6866 - accuracy: 0.7857 - 4ms/epoch - 4ms/step\n",
      "Epoch 157/300\n",
      "1/1 - 0s - loss: 0.6809 - accuracy: 0.7857 - 4ms/epoch - 4ms/step\n",
      "Epoch 158/300\n",
      "1/1 - 0s - loss: 0.6752 - accuracy: 0.7857 - 5ms/epoch - 5ms/step\n",
      "Epoch 159/300\n",
      "1/1 - 0s - loss: 0.6696 - accuracy: 0.7857 - 3ms/epoch - 3ms/step\n",
      "Epoch 160/300\n",
      "1/1 - 0s - loss: 0.6641 - accuracy: 0.7857 - 4ms/epoch - 4ms/step\n",
      "Epoch 161/300\n",
      "1/1 - 0s - loss: 0.6586 - accuracy: 0.7857 - 4ms/epoch - 4ms/step\n",
      "Epoch 162/300\n",
      "1/1 - 0s - loss: 0.6532 - accuracy: 0.7857 - 3ms/epoch - 3ms/step\n",
      "Epoch 163/300\n",
      "1/1 - 0s - loss: 0.6478 - accuracy: 0.8214 - 4ms/epoch - 4ms/step\n",
      "Epoch 164/300\n",
      "1/1 - 0s - loss: 0.6425 - accuracy: 0.8214 - 4ms/epoch - 4ms/step\n",
      "Epoch 165/300\n",
      "1/1 - 0s - loss: 0.6372 - accuracy: 0.8571 - 4ms/epoch - 4ms/step\n",
      "Epoch 166/300\n",
      "1/1 - 0s - loss: 0.6320 - accuracy: 0.8571 - 4ms/epoch - 4ms/step\n",
      "Epoch 167/300\n",
      "1/1 - 0s - loss: 0.6268 - accuracy: 0.8571 - 4ms/epoch - 4ms/step\n",
      "Epoch 168/300\n",
      "1/1 - 0s - loss: 0.6217 - accuracy: 0.8571 - 4ms/epoch - 4ms/step\n",
      "Epoch 169/300\n",
      "1/1 - 0s - loss: 0.6167 - accuracy: 0.8571 - 5ms/epoch - 5ms/step\n",
      "Epoch 170/300\n",
      "1/1 - 0s - loss: 0.6117 - accuracy: 0.8571 - 3ms/epoch - 3ms/step\n",
      "Epoch 171/300\n",
      "1/1 - 0s - loss: 0.6067 - accuracy: 0.8571 - 4ms/epoch - 4ms/step\n",
      "Epoch 172/300\n",
      "1/1 - 0s - loss: 0.6018 - accuracy: 0.8571 - 3ms/epoch - 3ms/step\n",
      "Epoch 173/300\n",
      "1/1 - 0s - loss: 0.5969 - accuracy: 0.8571 - 3ms/epoch - 3ms/step\n",
      "Epoch 174/300\n",
      "1/1 - 0s - loss: 0.5921 - accuracy: 0.8571 - 4ms/epoch - 4ms/step\n",
      "Epoch 175/300\n",
      "1/1 - 0s - loss: 0.5873 - accuracy: 0.8571 - 3ms/epoch - 3ms/step\n",
      "Epoch 176/300\n",
      "1/1 - 0s - loss: 0.5826 - accuracy: 0.8571 - 3ms/epoch - 3ms/step\n",
      "Epoch 177/300\n",
      "1/1 - 0s - loss: 0.5780 - accuracy: 0.8571 - 5ms/epoch - 5ms/step\n",
      "Epoch 178/300\n",
      "1/1 - 0s - loss: 0.5733 - accuracy: 0.8571 - 3ms/epoch - 3ms/step\n",
      "Epoch 179/300\n",
      "1/1 - 0s - loss: 0.5688 - accuracy: 0.8571 - 4ms/epoch - 4ms/step\n",
      "Epoch 180/300\n",
      "1/1 - 0s - loss: 0.5642 - accuracy: 0.8571 - 4ms/epoch - 4ms/step\n",
      "Epoch 181/300\n",
      "1/1 - 0s - loss: 0.5597 - accuracy: 0.8571 - 4ms/epoch - 4ms/step\n",
      "Epoch 182/300\n",
      "1/1 - 0s - loss: 0.5553 - accuracy: 0.8571 - 4ms/epoch - 4ms/step\n",
      "Epoch 183/300\n",
      "1/1 - 0s - loss: 0.5509 - accuracy: 0.8571 - 3ms/epoch - 3ms/step\n",
      "Epoch 184/300\n",
      "1/1 - 0s - loss: 0.5465 - accuracy: 0.8571 - 4ms/epoch - 4ms/step\n",
      "Epoch 185/300\n",
      "1/1 - 0s - loss: 0.5422 - accuracy: 0.8571 - 4ms/epoch - 4ms/step\n",
      "Epoch 186/300\n",
      "1/1 - 0s - loss: 0.5379 - accuracy: 0.8571 - 3ms/epoch - 3ms/step\n",
      "Epoch 187/300\n",
      "1/1 - 0s - loss: 0.5337 - accuracy: 0.8571 - 3ms/epoch - 3ms/step\n",
      "Epoch 188/300\n",
      "1/1 - 0s - loss: 0.5295 - accuracy: 0.8571 - 4ms/epoch - 4ms/step\n",
      "Epoch 189/300\n",
      "1/1 - 0s - loss: 0.5254 - accuracy: 0.8571 - 3ms/epoch - 3ms/step\n",
      "Epoch 190/300\n",
      "1/1 - 0s - loss: 0.5213 - accuracy: 0.8571 - 4ms/epoch - 4ms/step\n",
      "Epoch 191/300\n",
      "1/1 - 0s - loss: 0.5172 - accuracy: 0.8571 - 4ms/epoch - 4ms/step\n",
      "Epoch 192/300\n",
      "1/1 - 0s - loss: 0.5132 - accuracy: 0.8571 - 4ms/epoch - 4ms/step\n",
      "Epoch 193/300\n",
      "1/1 - 0s - loss: 0.5092 - accuracy: 0.8571 - 5ms/epoch - 5ms/step\n",
      "Epoch 194/300\n",
      "1/1 - 0s - loss: 0.5053 - accuracy: 0.8571 - 4ms/epoch - 4ms/step\n",
      "Epoch 195/300\n",
      "1/1 - 0s - loss: 0.5014 - accuracy: 0.8571 - 3ms/epoch - 3ms/step\n",
      "Epoch 196/300\n",
      "1/1 - 0s - loss: 0.4975 - accuracy: 0.8571 - 4ms/epoch - 4ms/step\n",
      "Epoch 197/300\n",
      "1/1 - 0s - loss: 0.4937 - accuracy: 0.8571 - 3ms/epoch - 3ms/step\n"
     ]
    },
    {
     "name": "stdout",
     "output_type": "stream",
     "text": [
      "Epoch 198/300\n",
      "1/1 - 0s - loss: 0.4899 - accuracy: 0.8571 - 5ms/epoch - 5ms/step\n",
      "Epoch 199/300\n",
      "1/1 - 0s - loss: 0.4862 - accuracy: 0.8571 - 3ms/epoch - 3ms/step\n",
      "Epoch 200/300\n",
      "1/1 - 0s - loss: 0.4825 - accuracy: 0.8571 - 4ms/epoch - 4ms/step\n",
      "Epoch 201/300\n",
      "1/1 - 0s - loss: 0.4788 - accuracy: 0.8571 - 4ms/epoch - 4ms/step\n",
      "Epoch 202/300\n",
      "1/1 - 0s - loss: 0.4752 - accuracy: 0.8571 - 5ms/epoch - 5ms/step\n",
      "Epoch 203/300\n",
      "1/1 - 0s - loss: 0.4716 - accuracy: 0.8571 - 5ms/epoch - 5ms/step\n",
      "Epoch 204/300\n",
      "1/1 - 0s - loss: 0.4681 - accuracy: 0.8571 - 4ms/epoch - 4ms/step\n",
      "Epoch 205/300\n",
      "1/1 - 0s - loss: 0.4646 - accuracy: 0.8571 - 3ms/epoch - 3ms/step\n",
      "Epoch 206/300\n",
      "1/1 - 0s - loss: 0.4612 - accuracy: 0.8571 - 4ms/epoch - 4ms/step\n",
      "Epoch 207/300\n",
      "1/1 - 0s - loss: 0.4577 - accuracy: 0.8571 - 3ms/epoch - 3ms/step\n",
      "Epoch 208/300\n",
      "1/1 - 0s - loss: 0.4544 - accuracy: 0.8571 - 4ms/epoch - 4ms/step\n",
      "Epoch 209/300\n",
      "1/1 - 0s - loss: 0.4510 - accuracy: 0.8571 - 4ms/epoch - 4ms/step\n",
      "Epoch 210/300\n",
      "1/1 - 0s - loss: 0.4477 - accuracy: 0.8929 - 4ms/epoch - 4ms/step\n",
      "Epoch 211/300\n",
      "1/1 - 0s - loss: 0.4445 - accuracy: 0.8929 - 5ms/epoch - 5ms/step\n",
      "Epoch 212/300\n",
      "1/1 - 0s - loss: 0.4412 - accuracy: 0.8929 - 4ms/epoch - 4ms/step\n",
      "Epoch 213/300\n",
      "1/1 - 0s - loss: 0.4381 - accuracy: 0.8929 - 4ms/epoch - 4ms/step\n",
      "Epoch 214/300\n",
      "1/1 - 0s - loss: 0.4349 - accuracy: 0.8929 - 4ms/epoch - 4ms/step\n",
      "Epoch 215/300\n",
      "1/1 - 0s - loss: 0.4318 - accuracy: 0.8929 - 5ms/epoch - 5ms/step\n",
      "Epoch 216/300\n",
      "1/1 - 0s - loss: 0.4287 - accuracy: 0.8929 - 4ms/epoch - 4ms/step\n",
      "Epoch 217/300\n",
      "1/1 - 0s - loss: 0.4257 - accuracy: 0.8929 - 4ms/epoch - 4ms/step\n",
      "Epoch 218/300\n",
      "1/1 - 0s - loss: 0.4227 - accuracy: 0.8929 - 4ms/epoch - 4ms/step\n",
      "Epoch 219/300\n",
      "1/1 - 0s - loss: 0.4198 - accuracy: 0.8929 - 3ms/epoch - 3ms/step\n",
      "Epoch 220/300\n",
      "1/1 - 0s - loss: 0.4168 - accuracy: 0.8929 - 5ms/epoch - 5ms/step\n",
      "Epoch 221/300\n",
      "1/1 - 0s - loss: 0.4140 - accuracy: 0.8929 - 4ms/epoch - 4ms/step\n",
      "Epoch 222/300\n",
      "1/1 - 0s - loss: 0.4111 - accuracy: 0.8929 - 4ms/epoch - 4ms/step\n",
      "Epoch 223/300\n",
      "1/1 - 0s - loss: 0.4083 - accuracy: 0.8929 - 4ms/epoch - 4ms/step\n",
      "Epoch 224/300\n",
      "1/1 - 0s - loss: 0.4056 - accuracy: 0.8929 - 3ms/epoch - 3ms/step\n",
      "Epoch 225/300\n",
      "1/1 - 0s - loss: 0.4028 - accuracy: 0.8929 - 4ms/epoch - 4ms/step\n",
      "Epoch 226/300\n",
      "1/1 - 0s - loss: 0.4001 - accuracy: 0.8929 - 4ms/epoch - 4ms/step\n",
      "Epoch 227/300\n",
      "1/1 - 0s - loss: 0.3975 - accuracy: 0.8929 - 4ms/epoch - 4ms/step\n",
      "Epoch 228/300\n",
      "1/1 - 0s - loss: 0.3949 - accuracy: 0.8929 - 3ms/epoch - 3ms/step\n",
      "Epoch 229/300\n",
      "1/1 - 0s - loss: 0.3923 - accuracy: 0.8929 - 5ms/epoch - 5ms/step\n",
      "Epoch 230/300\n",
      "1/1 - 0s - loss: 0.3897 - accuracy: 0.8929 - 3ms/epoch - 3ms/step\n",
      "Epoch 231/300\n",
      "1/1 - 0s - loss: 0.3872 - accuracy: 0.8929 - 4ms/epoch - 4ms/step\n",
      "Epoch 232/300\n",
      "1/1 - 0s - loss: 0.3847 - accuracy: 0.8929 - 4ms/epoch - 4ms/step\n",
      "Epoch 233/300\n",
      "1/1 - 0s - loss: 0.3823 - accuracy: 0.8929 - 3ms/epoch - 3ms/step\n",
      "Epoch 234/300\n",
      "1/1 - 0s - loss: 0.3799 - accuracy: 0.8929 - 4ms/epoch - 4ms/step\n",
      "Epoch 235/300\n",
      "1/1 - 0s - loss: 0.3775 - accuracy: 0.8929 - 4ms/epoch - 4ms/step\n",
      "Epoch 236/300\n",
      "1/1 - 0s - loss: 0.3751 - accuracy: 0.8929 - 3ms/epoch - 3ms/step\n",
      "Epoch 237/300\n",
      "1/1 - 0s - loss: 0.3728 - accuracy: 0.8929 - 3ms/epoch - 3ms/step\n",
      "Epoch 238/300\n",
      "1/1 - 0s - loss: 0.3706 - accuracy: 0.8929 - 5ms/epoch - 5ms/step\n",
      "Epoch 239/300\n",
      "1/1 - 0s - loss: 0.3683 - accuracy: 0.8929 - 14ms/epoch - 14ms/step\n",
      "Epoch 240/300\n",
      "1/1 - 0s - loss: 0.3661 - accuracy: 0.8929 - 4ms/epoch - 4ms/step\n",
      "Epoch 241/300\n",
      "1/1 - 0s - loss: 0.3639 - accuracy: 0.8929 - 5ms/epoch - 5ms/step\n",
      "Epoch 242/300\n",
      "1/1 - 0s - loss: 0.3618 - accuracy: 0.8929 - 4ms/epoch - 4ms/step\n",
      "Epoch 243/300\n",
      "1/1 - 0s - loss: 0.3597 - accuracy: 0.8929 - 3ms/epoch - 3ms/step\n",
      "Epoch 244/300\n",
      "1/1 - 0s - loss: 0.3576 - accuracy: 0.8929 - 4ms/epoch - 4ms/step\n",
      "Epoch 245/300\n",
      "1/1 - 0s - loss: 0.3555 - accuracy: 0.8929 - 4ms/epoch - 4ms/step\n",
      "Epoch 246/300\n",
      "1/1 - 0s - loss: 0.3535 - accuracy: 0.8929 - 4ms/epoch - 4ms/step\n",
      "Epoch 247/300\n",
      "1/1 - 0s - loss: 0.3515 - accuracy: 0.8929 - 5ms/epoch - 5ms/step\n",
      "Epoch 248/300\n",
      "1/1 - 0s - loss: 0.3495 - accuracy: 0.8929 - 4ms/epoch - 4ms/step\n",
      "Epoch 249/300\n",
      "1/1 - 0s - loss: 0.3476 - accuracy: 0.8929 - 4ms/epoch - 4ms/step\n",
      "Epoch 250/300\n",
      "1/1 - 0s - loss: 0.3457 - accuracy: 0.8929 - 3ms/epoch - 3ms/step\n",
      "Epoch 251/300\n",
      "1/1 - 0s - loss: 0.3438 - accuracy: 0.8929 - 3ms/epoch - 3ms/step\n",
      "Epoch 252/300\n",
      "1/1 - 0s - loss: 0.3419 - accuracy: 0.8929 - 5ms/epoch - 5ms/step\n",
      "Epoch 253/300\n",
      "1/1 - 0s - loss: 0.3401 - accuracy: 0.8929 - 4ms/epoch - 4ms/step\n",
      "Epoch 254/300\n",
      "1/1 - 0s - loss: 0.3383 - accuracy: 0.8929 - 4ms/epoch - 4ms/step\n",
      "Epoch 255/300\n",
      "1/1 - 0s - loss: 0.3365 - accuracy: 0.8929 - 4ms/epoch - 4ms/step\n",
      "Epoch 256/300\n",
      "1/1 - 0s - loss: 0.3348 - accuracy: 0.8929 - 4ms/epoch - 4ms/step\n",
      "Epoch 257/300\n",
      "1/1 - 0s - loss: 0.3331 - accuracy: 0.8929 - 4ms/epoch - 4ms/step\n",
      "Epoch 258/300\n",
      "1/1 - 0s - loss: 0.3314 - accuracy: 0.8929 - 4ms/epoch - 4ms/step\n",
      "Epoch 259/300\n",
      "1/1 - 0s - loss: 0.3297 - accuracy: 0.8929 - 3ms/epoch - 3ms/step\n",
      "Epoch 260/300\n",
      "1/1 - 0s - loss: 0.3281 - accuracy: 0.8929 - 4ms/epoch - 4ms/step\n",
      "Epoch 261/300\n",
      "1/1 - 0s - loss: 0.3265 - accuracy: 0.8929 - 4ms/epoch - 4ms/step\n",
      "Epoch 262/300\n",
      "1/1 - 0s - loss: 0.3249 - accuracy: 0.8929 - 3ms/epoch - 3ms/step\n",
      "Epoch 263/300\n",
      "1/1 - 0s - loss: 0.3233 - accuracy: 0.8929 - 5ms/epoch - 5ms/step\n",
      "Epoch 264/300\n",
      "1/1 - 0s - loss: 0.3217 - accuracy: 0.8929 - 4ms/epoch - 4ms/step\n",
      "Epoch 265/300\n",
      "1/1 - 0s - loss: 0.3202 - accuracy: 0.8929 - 3ms/epoch - 3ms/step\n",
      "Epoch 266/300\n",
      "1/1 - 0s - loss: 0.3187 - accuracy: 0.8929 - 4ms/epoch - 4ms/step\n",
      "Epoch 267/300\n",
      "1/1 - 0s - loss: 0.3172 - accuracy: 0.8929 - 4ms/epoch - 4ms/step\n",
      "Epoch 268/300\n",
      "1/1 - 0s - loss: 0.3158 - accuracy: 0.8929 - 4ms/epoch - 4ms/step\n",
      "Epoch 269/300\n",
      "1/1 - 0s - loss: 0.3143 - accuracy: 0.8929 - 3ms/epoch - 3ms/step\n",
      "Epoch 270/300\n",
      "1/1 - 0s - loss: 0.3129 - accuracy: 0.8929 - 3ms/epoch - 3ms/step\n",
      "Epoch 271/300\n",
      "1/1 - 0s - loss: 0.3115 - accuracy: 0.8929 - 4ms/epoch - 4ms/step\n",
      "Epoch 272/300\n",
      "1/1 - 0s - loss: 0.3102 - accuracy: 0.8929 - 4ms/epoch - 4ms/step\n",
      "Epoch 273/300\n",
      "1/1 - 0s - loss: 0.3088 - accuracy: 0.8929 - 4ms/epoch - 4ms/step\n",
      "Epoch 274/300\n",
      "1/1 - 0s - loss: 0.3075 - accuracy: 0.8929 - 3ms/epoch - 3ms/step\n",
      "Epoch 275/300\n",
      "1/1 - 0s - loss: 0.3062 - accuracy: 0.8929 - 4ms/epoch - 4ms/step\n",
      "Epoch 276/300\n",
      "1/1 - 0s - loss: 0.3049 - accuracy: 0.8929 - 4ms/epoch - 4ms/step\n",
      "Epoch 277/300\n",
      "1/1 - 0s - loss: 0.3036 - accuracy: 0.8929 - 3ms/epoch - 3ms/step\n",
      "Epoch 278/300\n",
      "1/1 - 0s - loss: 0.3024 - accuracy: 0.8929 - 4ms/epoch - 4ms/step\n",
      "Epoch 279/300\n",
      "1/1 - 0s - loss: 0.3011 - accuracy: 0.8929 - 4ms/epoch - 4ms/step\n",
      "Epoch 280/300\n",
      "1/1 - 0s - loss: 0.2999 - accuracy: 0.8929 - 4ms/epoch - 4ms/step\n",
      "Epoch 281/300\n",
      "1/1 - 0s - loss: 0.2987 - accuracy: 0.8929 - 4ms/epoch - 4ms/step\n",
      "Epoch 282/300\n",
      "1/1 - 0s - loss: 0.2975 - accuracy: 0.8929 - 4ms/epoch - 4ms/step\n",
      "Epoch 283/300\n",
      "1/1 - 0s - loss: 0.2964 - accuracy: 0.8929 - 4ms/epoch - 4ms/step\n",
      "Epoch 284/300\n",
      "1/1 - 0s - loss: 0.2952 - accuracy: 0.8929 - 3ms/epoch - 3ms/step\n",
      "Epoch 285/300\n",
      "1/1 - 0s - loss: 0.2941 - accuracy: 0.8929 - 4ms/epoch - 4ms/step\n",
      "Epoch 286/300\n",
      "1/1 - 0s - loss: 0.2930 - accuracy: 0.8929 - 5ms/epoch - 5ms/step\n",
      "Epoch 287/300\n",
      "1/1 - 0s - loss: 0.2919 - accuracy: 0.8929 - 3ms/epoch - 3ms/step\n",
      "Epoch 288/300\n",
      "1/1 - 0s - loss: 0.2908 - accuracy: 0.8929 - 3ms/epoch - 3ms/step\n",
      "Epoch 289/300\n",
      "1/1 - 0s - loss: 0.2898 - accuracy: 0.8929 - 4ms/epoch - 4ms/step\n",
      "Epoch 290/300\n",
      "1/1 - 0s - loss: 0.2887 - accuracy: 0.8929 - 3ms/epoch - 3ms/step\n",
      "Epoch 291/300\n",
      "1/1 - 0s - loss: 0.2877 - accuracy: 0.8929 - 4ms/epoch - 4ms/step\n",
      "Epoch 292/300\n",
      "1/1 - 0s - loss: 0.2867 - accuracy: 0.8929 - 3ms/epoch - 3ms/step\n",
      "Epoch 293/300\n",
      "1/1 - 0s - loss: 0.2857 - accuracy: 0.8929 - 3ms/epoch - 3ms/step\n",
      "Epoch 294/300\n",
      "1/1 - 0s - loss: 0.2847 - accuracy: 0.8929 - 5ms/epoch - 5ms/step\n",
      "Epoch 295/300\n",
      "1/1 - 0s - loss: 0.2837 - accuracy: 0.8929 - 4ms/epoch - 4ms/step\n",
      "Epoch 296/300\n",
      "1/1 - 0s - loss: 0.2828 - accuracy: 0.8929 - 3ms/epoch - 3ms/step\n",
      "Epoch 297/300\n",
      "1/1 - 0s - loss: 0.2818 - accuracy: 0.8929 - 3ms/epoch - 3ms/step\n",
      "Epoch 298/300\n",
      "1/1 - 0s - loss: 0.2809 - accuracy: 0.8929 - 4ms/epoch - 4ms/step\n",
      "Epoch 299/300\n",
      "1/1 - 0s - loss: 0.2800 - accuracy: 0.8929 - 4ms/epoch - 4ms/step\n",
      "Epoch 300/300\n",
      "1/1 - 0s - loss: 0.2791 - accuracy: 0.8929 - 3ms/epoch - 3ms/step\n"
     ]
    },
    {
     "name": "stdout",
     "output_type": "stream",
     "text": [
      "CPU times: total: 5.2 s\n",
      "Wall time: 3.79 s\n"
     ]
    }
   ],
   "source": [
    "%%time\n",
    "# 2, 모델 생성하기\n",
    "from tensorflow.keras.models import Sequential\n",
    "from tensorflow.keras.layers import Embedding # Xi의 원핫인코딩한 희소행렬 변환 \n",
    "from tensorflow.keras.layers import SimpleRNN, Dense \n",
    "import matplotlib.pyplot as plt\n",
    "\n",
    "model = Sequential()\n",
    "model.add(Embedding(input_dim = input_dim,  # 12개로 원핫인코딩\n",
    "                   output_dim = 10, # 임베딩 출력의 갯수\n",
    "                   input_length=X.shape[1], # 입력(X)의 수\n",
    "                   ))\n",
    "model.add(SimpleRNN(units=32))\n",
    "model.add(Dense(12, activation='softmax'))\n",
    "print(model.summary())\n",
    "# 3. 모델 학습 과정 설정\n",
    "model.compile(loss='categorical_crossentropy',\n",
    "             optimizer='adam',\n",
    "             metrics=['accuracy'])\n",
    "# 4. 모델 학습시키기\n",
    "hist = model.fit(X, Y, epochs=300, verbose=2)"
   ]
  },
  {
   "cell_type": "code",
   "execution_count": 15,
   "id": "0c6f468e",
   "metadata": {},
   "outputs": [
    {
     "data": {
      "text/plain": [
       "[<matplotlib.lines.Line2D at 0x171c6361930>]"
      ]
     },
     "execution_count": 15,
     "metadata": {},
     "output_type": "execute_result"
    },
    {
     "data": {
      "image/png": "[encoded data removed]",
      "text/plain": [
       "<Figure size 1000x500 with 2 Axes>"
      ]
     },
     "metadata": {},
     "output_type": "display_data"
    }
   ],
   "source": [
    "fig, loss_ax = plt.subplots(figsize=(10,5))\n",
    "loss_ax.plot(hist.history['loss'], 'r')\n",
    "acc_ax = loss_ax.twinx() \n",
    "acc_ax.plot(hist.history.get('accuracy'), 'b')"
   ]
  },
  {
   "cell_type": "code",
   "execution_count": 25,
   "id": "43ce434a",
   "metadata": {},
   "outputs": [
    {
     "name": "stdout",
     "output_type": "stream",
     "text": [
      "입력데이터 :  [[0 0 2 3 1]]\n",
      "1/1 [==============================] - 0s 20ms/step\n",
      "예측된 단어 :  뛰고\n"
     ]
    }
   ],
   "source": [
    "# 모델 사용하기(경마장에 있는 말이 -> 뛰고)\n",
    "encoded = t.texts_to_sequences(['경마장에 있는 말이'])[0]\n",
    "input_data = pad_sequences([encoded], maxlen=my_len-1, padding='pre')\n",
    "print('입력데이터 : ',input_data)\n",
    "result = model.predict(input_data).argmax()\n",
    "word = t.index_word.get(result, '??')\n",
    "word = t.index_word[result]\n",
    "print('예측된 단어 : ', word)"
   ]
  },
  {
   "cell_type": "code",
   "execution_count": 30,
   "id": "46ef4557",
   "metadata": {},
   "outputs": [
    {
     "name": "stdout",
     "output_type": "stream",
     "text": [
      "입력단어 : 가는 말이\n",
      "입력데이터 :  [[0 0 0 8 1]]\n",
      "예측된 단어 :  고와야\n"
     ]
    }
   ],
   "source": [
    "# 모델 사용하기(경마장에 있는 말이 -> 뛰고)\n",
    "input_word = input('입력단어 : ')\n",
    "encoded = t.texts_to_sequences([input_word])[0]\n",
    "input_data = pad_sequences([encoded], maxlen=my_len-1, padding='pre')\n",
    "print('입력데이터 : ',input_data)\n",
    "result = model.predict(input_data, verbose=0).argmax()\n",
    "word = t.index_word.get(result, '??')\n",
    "word = t.index_word[result]\n",
    "print('예측된 단어 : ', word)"
   ]
  },
  {
   "cell_type": "code",
   "execution_count": 26,
   "id": "d8785547",
   "metadata": {},
   "outputs": [
    {
     "data": {
      "text/plain": [
       "[[]]"
      ]
     },
     "execution_count": 26,
     "metadata": {},
     "output_type": "execute_result"
    }
   ],
   "source": [
    "t.texts_to_sequences(['없는 단어'])"
   ]
  },
  {
   "cell_type": "markdown",
   "id": "3968b125",
   "metadata": {},
   "source": [
    "# 2. 다음 문맥 예측해 보기"
   ]
  },
  {
   "cell_type": "code",
   "execution_count": 48,
   "id": "639f8a3e",
   "metadata": {},
   "outputs": [
    {
     "data": {
      "text/plain": [
       "'경마장에 있는 말이 뛰고 있다'"
      ]
     },
     "execution_count": 48,
     "metadata": {},
     "output_type": "execute_result"
    }
   ],
   "source": [
    "# \"경마장에\" -> \"있는\" = \"경마장에 있는\" -> \"말이\" = \"경마장에 있는 말이\"\n",
    "# \"경마장에\" 이후에 올 단어 ?개 예측 -> \"경마장에 있는 말이 뛰고\"\n",
    "def sentence_generation(current_word, n):\n",
    "    # print('입력된 단어 : ', current_word)\n",
    "    for i in range(1, n+1):\n",
    "        encoded = t.texts_to_sequences([current_word])[0]\n",
    "        input_data = pad_sequences([encoded], maxlen=my_len-1, padding='pre')\n",
    "        result = model.predict(input_data, verbose=0).argmax()\n",
    "        word = t.index_word[result]\n",
    "        current_word = current_word + ' ' + word\n",
    "#         print('{}번째 생성 문맥 : {} ({}{})'.format(i,\n",
    "#                                            current_word,\n",
    "#                                            encoded,\n",
    "#                                            result))\n",
    "    return current_word\n",
    "    \n",
    "sentence_generation('경마장에', 4)"
   ]
  },
  {
   "cell_type": "code",
   "execution_count": 47,
   "id": "9bca57c9",
   "metadata": {},
   "outputs": [
    {
     "data": {
      "text/plain": [
       "'말이 고와야 오는 말이 곱다 법이다'"
      ]
     },
     "execution_count": 47,
     "metadata": {},
     "output_type": "execute_result"
    }
   ],
   "source": [
    "sentence_generation('말이', 5)"
   ]
  },
  {
   "cell_type": "code",
   "execution_count": null,
   "id": "d2c7e001",
   "metadata": {},
   "outputs": [],
   "source": []
  },
  {
   "cell_type": "code",
   "execution_count": null,
   "id": "8b445c06",
   "metadata": {},
   "outputs": [],
   "source": []
  },
  {
   "cell_type": "code",
   "execution_count": null,
   "id": "8f6cf64e",
   "metadata": {},
   "outputs": [],
   "source": []
  },
  {
   "cell_type": "code",
   "execution_count": null,
   "id": "c47cdd77",
   "metadata": {},
   "outputs": [],
   "source": []
  },
  {
   "cell_type": "code",
   "execution_count": null,
   "id": "dd9ce296",
   "metadata": {},
   "outputs": [],
   "source": []
  },
  {
   "cell_type": "code",
   "execution_count": null,
   "id": "d53e4ba7",
   "metadata": {},
   "outputs": [],
   "source": []
  },
  {
   "cell_type": "code",
   "execution_count": null,
   "id": "534cf968",
   "metadata": {},
   "outputs": [],
   "source": []
  },
  {
   "cell_type": "code",
   "execution_count": null,
   "id": "d56de8b1",
   "metadata": {},
   "outputs": [],
   "source": []
  },
  {
   "cell_type": "code",
   "execution_count": null,
   "id": "59ed39f5",
   "metadata": {},
   "outputs": [],
   "source": []
  },
  {
   "cell_type": "code",
   "execution_count": null,
   "id": "9f5a844b",
   "metadata": {},
   "outputs": [],
   "source": []
  },
  {
   "cell_type": "code",
   "execution_count": null,
   "id": "f7acaa86",
   "metadata": {},
   "outputs": [],
   "source": []
  },
  {
   "cell_type": "code",
   "execution_count": null,
   "id": "f0c97edd",
   "metadata": {},
   "outputs": [],
   "source": []
  },
  {
   "cell_type": "code",
   "execution_count": null,
   "id": "11a3415f",
   "metadata": {},
   "outputs": [],
   "source": []
  },
  {
   "cell_type": "code",
   "execution_count": null,
   "id": "dbafa64b",
   "metadata": {},
   "outputs": [],
   "source": []
  },
  {
   "cell_type": "code",
   "execution_count": null,
   "id": "97705dc1",
   "metadata": {},
   "outputs": [],
   "source": []
  },
  {
   "cell_type": "code",
   "execution_count": null,
   "id": "70eff4da",
   "metadata": {},
   "outputs": [],
   "source": []
  },
  {
   "cell_type": "code",
   "execution_count": null,
   "id": "76abdc9f",
   "metadata": {},
   "outputs": [],
   "source": []
  },
  {
   "cell_type": "code",
   "execution_count": null,
   "id": "4beb8284",
   "metadata": {},
   "outputs": [],
   "source": []
  },
  {
   "cell_type": "code",
   "execution_count": null,
   "id": "60c83f2b",
   "metadata": {},
   "outputs": [],
   "source": []
  },
  {
   "cell_type": "code",
   "execution_count": null,
   "id": "fbcd9bb0",
   "metadata": {},
   "outputs": [],
   "source": []
  },
  {
   "cell_type": "code",
   "execution_count": null,
   "id": "9d49cf3b",
   "metadata": {},
   "outputs": [],
   "source": []
  },
  {
   "cell_type": "code",
   "execution_count": null,
   "id": "67673b14",
   "metadata": {},
   "outputs": [],
   "source": []
  },
  {
   "cell_type": "code",
   "execution_count": null,
   "id": "5b8acd55",
   "metadata": {},
   "outputs": [],
   "source": []
  },
  {
   "cell_type": "code",
   "execution_count": null,
   "id": "c341ae77",
   "metadata": {},
   "outputs": [],
   "source": []
  },
  {
   "cell_type": "code",
   "execution_count": null,
   "id": "a31e36ea",
   "metadata": {},
   "outputs": [],
   "source": []
  },
  {
   "cell_type": "code",
   "execution_count": null,
   "id": "51a8f3c3",
   "metadata": {},
   "outputs": [],
   "source": []
  },
  {
   "cell_type": "code",
   "execution_count": null,
   "id": "73a80426",
   "metadata": {},
   "outputs": [],
   "source": []
  },
  {
   "cell_type": "code",
   "execution_count": null,
   "id": "2fb6eda8",
   "metadata": {},
   "outputs": [],
   "source": []
  },
  {
   "cell_type": "code",
   "execution_count": null,
   "id": "b4d6a221",
   "metadata": {},
   "outputs": [],
   "source": []
  },
  {
   "cell_type": "code",
   "execution_count": null,
   "id": "d4fa5e98",
   "metadata": {},
   "outputs": [],
   "source": []
  }
 ],
 "metadata": {
  "kernelspec": {
   "display_name": "ml-dl-nlp",
   "language": "python",
   "name": "ml-dl-nlp"
  },
  "language_info": {
   "codemirror_mode": {
    "name": "ipython",
    "version": 3
   },
   "file_extension": ".py",
   "mimetype": "text/x-python",
   "name": "python",
   "nbconvert_exporter": "python",
   "pygments_lexer": "ipython3",
   "version": "3.10.18"
  },
  "toc": {
   "base_numbering": 1,
   "nav_menu": {},
   "number_sections": false,
   "sideBar": true,
   "skip_h1_title": false,
   "title_cell": "Table of Contents",
   "title_sidebar": "Contents",
   "toc_cell": false,
   "toc_position": {
    "height": "calc(100% - 180px)",
    "left": "10px",
    "top": "150px",
    "width": "165px"
   },
   "toc_section_display": true,
   "toc_window_display": true
  }
 },
 "nbformat": 4,
 "nbformat_minor": 5
}
