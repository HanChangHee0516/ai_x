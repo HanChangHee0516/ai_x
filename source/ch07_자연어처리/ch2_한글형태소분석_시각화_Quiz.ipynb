{
 "cells": [
  {
   "cell_type": "code",
   "execution_count": 3,
   "id": "6b927c6f",
   "metadata": {},
   "outputs": [
    {
     "data": {
      "text/html": [
       "\n",
       "<style>\n",
       "div.container{width:90% !important;}\n",
       "div.cell.code_cell.rendered{width:100%;}\n",
       "div.input_prompt{padding:2px;}\n",
       "div.CodeMirror {font-family:Consolas; font-size:10pt;}\n",
       "div.text_cell_render.rendered_html{font-size:10pt;}\n",
       "div.output {font-size:10pt; font-weight:bold;}\n",
       "div.input {font-family:Consolas; font-size:10pt;}\n",
       "div.prompt {min-width:70px;}\n",
       "div#toc-wrapper{padding-top:120px;}\n",
       "div.text_cell_render ul li{font-size:11pt;padding:4px;}\n",
       "table.dataframe{font-size:10px;}\n",
       "</style>\n"
      ],
      "text/plain": [
       "<IPython.core.display.HTML object>"
      ]
     },
     "metadata": {},
     "output_type": "display_data"
    }
   ],
   "source": [
    "from IPython.display import display, HTML\n",
    "display(HTML(\"\"\"\n",
    "<style>\n",
    "div.container{width:90% !important;}\n",
    "div.cell.code_cell.rendered{width:100%;}\n",
    "div.input_prompt{padding:2px;}\n",
    "div.CodeMirror {font-family:Consolas; font-size:10pt;}\n",
    "div.text_cell_render.rendered_html{font-size:10pt;}\n",
    "div.output {font-size:10pt; font-weight:bold;}\n",
    "div.input {font-family:Consolas; font-size:10pt;}\n",
    "div.prompt {min-width:70px;}\n",
    "div#toc-wrapper{padding-top:120px;}\n",
    "div.text_cell_render ul li{font-size:11pt;padding:4px;}\n",
    "table.dataframe{font-size:10px;}\n",
    "</style>\n",
    "\"\"\"))"
   ]
  },
  {
   "cell_type": "markdown",
   "id": "53e98b31",
   "metadata": {},
   "source": [
    "# ※ ①naver open API를 활용하여 네이버지식인 \"전주여행\"과 \"경주여행\"을 각각 500건씩 검색(re ? )후 백업 ->  ②품사태깅 백업 -> ③명사만 추출 -> ④빈도분석(DataFrame) 후 백업-> ⑤빈도 시각화(워드클라우드, Text) ->⑥ Word2Vec\n",
    "\n",
    "# 1. 네이버 open API를 활용하여 검색 추출\n",
    "- 검색어, no, title, link, description, title + ' ' + description(total_text)"
   ]
  },
  {
   "cell_type": "code",
   "execution_count": 2,
   "id": "53b3e51b",
   "metadata": {},
   "outputs": [
    {
     "data": {
      "text/plain": [
       "'D:\\\\ai_x\\\\source\\\\07_자연어처리'"
      ]
     },
     "execution_count": 2,
     "metadata": {},
     "output_type": "execute_result"
    }
   ],
   "source": [
    "# pip install python-dotenv (환경변수를 쓰기 위한 라이브러리)\n",
    "# pip install python-decouple (주피터 환경에서는 안 될 수도 있음)\n",
    "import os\n",
    "os.getcwd() # 현재 작업디렉토리"
   ]
  },
  {
   "cell_type": "code",
   "execution_count": 3,
   "id": "7ab6023c",
   "metadata": {},
   "outputs": [
    {
     "name": "stdout",
     "output_type": "stream",
     "text": [
      " D 드라이브의 볼륨: 새 볼륨\n",
      " 볼륨 일련 번호: BE7A-ADFF\n",
      "\n",
      " D:\\ai_x\\source\\07_자연어처리 디렉터리\n",
      "\n",
      "2025-06-18  오후 05:50                56 .env\n",
      "               1개 파일                  56 바이트\n",
      "               0개 디렉터리  487,593,365,504 바이트 남음\n"
     ]
    }
   ],
   "source": [
    "%ls .env"
   ]
  },
  {
   "cell_type": "code",
   "execution_count": 7,
   "id": "3c6dd332",
   "metadata": {},
   "outputs": [
    {
     "data": {
      "text/plain": [
       "True"
      ]
     },
     "execution_count": 7,
     "metadata": {},
     "output_type": "execute_result"
    }
   ],
   "source": [
    "from dotenv import load_dotenv\n",
    "load_dotenv()\n",
    "\n",
    "# print(os.getenv('Client_ID'))\n",
    "# print(os.getenv('Client_Secret'))"
   ]
  },
  {
   "cell_type": "code",
   "execution_count": 8,
   "id": "91d5876f",
   "metadata": {},
   "outputs": [],
   "source": [
    "from decouple import config\n",
    "# print(config('Client_ID'))\n",
    "# print(config('Client_Secret'))"
   ]
  },
  {
   "cell_type": "code",
   "execution_count": 57,
   "id": "29ce0f69",
   "metadata": {},
   "outputs": [
    {
     "name": "stdout",
     "output_type": "stream",
     "text": [
      "{\n",
      "\t\"lastBuildDate\":\"Thu, 19 Jun 2025 10:56:20 +0900\",\n",
      "\t\"total\":931071,\n",
      "\t\"start\":1,\n",
      "\t\"display\":10,\n",
      "\t\"items\":[\n",
      "\t\t{\n",
      "\t\t\t\"title\":\"<b>경주 여행<\\/b>코스 루지월드 해방감을 느꼈어요\",\n",
      "\t\t\t\"link\":\"https:\\/\\/blog.naver.com\\/sangil00\\/223903211939\",\n",
      "\t\t\t\"description\":\"오랜만에 활기차고 건강하게 하루를 보낼 수 있었고요. 날씨 좋은 계절에 경주를 방문하신다면 루지월드를 꼭 <b>경주 여행<\\/b>코스에 넣어보시길 바라요. 정말 후회 없는 경험이 될 거예요. #<b>경주여행<\\/b>코스 #루지월드\",\n",
      "\t\t\t\"bloggername\":\"길을 찾는 즐거움_거칠부\",\n",
      "\t\t\t\"bloggerlink\":\"blog.naver.com\\/sangil00\",\n",
      "\t\t\t\"postdate\":\"20250618\"\n",
      "\t\t},\n",
      "\t\t{\n",
      "\t\t\t\"title\":\"당일치기 <\n"
     ]
    }
   ],
   "source": [
    "# 네이버 개발자 센터 document에 있는 내용 그냥 그대로 가져와 봄\n",
    "import os\n",
    "import sys\n",
    "import urllib.request\n",
    "client_id = os.getenv('Client_ID')\n",
    "client_secret = os.getenv('Client_Secret')\n",
    "encText = urllib.parse.quote(\"경주 여행\")\n",
    "url = \"https://openapi.naver.com/v1/search/blog?query=\" + encText # JSON 결과\n",
    "# url = \"https://openapi.naver.com/v1/search/blog.xml?query=\" + encText # XML 결과\n",
    "request = urllib.request.Request(url)\n",
    "request.add_header(\"X-Naver-Client-Id\",client_id)\n",
    "request.add_header(\"X-Naver-Client-Secret\",client_secret)\n",
    "response = urllib.request.urlopen(request)\n",
    "rescode = response.getcode()\n",
    "if(rescode==200):\n",
    "    response_body = response.read()\n",
    "    print(response_body.decode('utf-8')[:500])\n",
    "else:\n",
    "    print(\"Error Code:\" + rescode)"
   ]
  },
  {
   "cell_type": "code",
   "execution_count": 10,
   "id": "c4338e50",
   "metadata": {},
   "outputs": [],
   "source": [
    "# 패키지 import\n",
    "import requests\n",
    "import time\n",
    "import os\n",
    "import json # response 텍스트를 json 딕셔너리로\n",
    "from html import unescape # description에 있는 &lt;(특수문자)을 <으로 변경, &gt;-> >\n",
    "import pandas as pd\n",
    "import re"
   ]
  },
  {
   "cell_type": "code",
   "execution_count": 42,
   "id": "7f7f4ef7",
   "metadata": {
    "scrolled": true
   },
   "outputs": [
    {
     "name": "stdout",
     "output_type": "stream",
     "text": [
      "100\n",
      "{'title': '6월 <b>경주여행</b>', 'link': 'https://kin.naver.com/qna/detail.naver?d1id=9&dirId=90111&docId=446801776&qb=6rK97KO8IOyXrO2WiQ==&enc=utf8', 'description': '제가 6월달에 엄마아빠랑 언니랑 <b>경주여행</b>을 가는데요 갈곳 추천해주세요.너무 유명한 곳은 아니였음 하네요. (예... <b>경주여행</b>을 계획하시는 것 같네요. 저도 여러분들이 즐길 수 있는 장소와 활동을 추천해드릴게요. ## 1. 경주 월드컵... '} {'title': '<b>경주여행</b>(숙소추천)', 'link': 'https://kin.naver.com/qna/detail.naver?d1id=9&dirId=90111&docId=460129729&qb=6rK97KO8IOyXrO2WiQ==&enc=utf8', 'description': '안녕하세요 경기도권에 사는 사람입니다 내년 1월 중순쯤 <b>경주여행</b>을 갈 예정입니다 인원은 엄마3명과 초등5명 총 8명... 근데 추운 겨울 걷는건 비추입니다 ㅠㅠ 가까운 거리도 택시 타고 다니세요^^ &lt; &quot; &quot; &quot;&quot; &quot; 즐거운 <b>경주여행</b> 되시기... '}\n"
     ]
    }
   ],
   "source": [
    "query = \"경주 여행\"\n",
    "start = 1\n",
    "url = f\"https://openapi.naver.com/v1/search/kin.json?query={query}&display=100&start={start}\"\n",
    "headers = {\"X-Naver-Client-Id\":client_id,\n",
    "           \"X-Naver-Client-Secret\":client_secret}\n",
    "response = requests.get(url, headers=headers)\n",
    "items = json.loads(response.text)['items']\n",
    "print(len(items))\n",
    "print(items[51],items[58])"
   ]
  },
  {
   "cell_type": "code",
   "execution_count": 58,
   "id": "419a0d6b",
   "metadata": {},
   "outputs": [
    {
     "name": "stdout",
     "output_type": "stream",
     "text": [
      "<b>경주여행</b>(숙소추천)\n",
      "https://kin.naver.com/qna/detail.naver?d1id=9&dirId=90111&docId=460129729&qb=6rK97KO8IOyXrO2WiQ==&enc=utf8\n",
      "안녕하세요 경기도권에 사는 사람입니다 내년 1월 중순쯤 <b>경주여행</b>을 갈 예정입니다 인원은 엄마3명과 초등5명 총 8명... 근데 추운 겨울 걷는건 비추입니다 ㅠㅠ 가까운 거리도 택시 타고 다니세요^^ &lt; &quot; &quot; &quot;&quot; &quot; 즐거운 <b>경주여행</b> 되시기... \n"
     ]
    }
   ],
   "source": [
    "item = items[58]\n",
    "title = item['title']\n",
    "link = item['link']\n",
    "description = item['description']\n",
    "print(title, link, description, sep='\\n')"
   ]
  },
  {
   "cell_type": "code",
   "execution_count": 59,
   "id": "ae23b568",
   "metadata": {},
   "outputs": [
    {
     "name": "stdout",
     "output_type": "stream",
     "text": [
      " 경주여행 (숙소추천)\n",
      "https://kin.naver.com/qna/detail.naver?d1id=9&dirId=90111&docId=460129729&qb=6rK97KO8IOyXrO2WiQ==&enc=utf8\n",
      "안녕하세요 경기도권에 사는 사람입니다 내년 1월 중순쯤  경주여행 을 갈 예정입니다 인원은 엄마3명과 초등5명 총 8명... 근데 추운 겨울 걷는건 비추입니다 ㅠㅠ 가까운 거리도 택시 타고 다니세요^^ < \" \" \"\" \" 즐거운  경주여행  되시기... \n"
     ]
    }
   ],
   "source": [
    "# 위의 title의 <b>태그 없애기, description의 <b>태그 없애고 html의 특수문자 없애기\n",
    "item = items[58]\n",
    "title = item['title'].replace('<b>', ' ').replace('</b>', ' ')\n",
    "link = item['link']\n",
    "description = item['description'].replace('<b>', ' ').replace('</b>', ' ')\n",
    "description = unescape(description) # html 특수문자 처리(&lt; -> <로 대체)\n",
    "print(title, link, description, sep='\\n')"
   ]
  },
  {
   "cell_type": "code",
   "execution_count": 65,
   "id": "cd80d8cf",
   "metadata": {},
   "outputs": [
    {
     "name": "stdout",
     "output_type": "stream",
     "text": [
      " 추억여행 ktx 타고 짱 \n"
     ]
    }
   ],
   "source": [
    "import re\n",
    "description = \"#추억여행 ####ktx 타고@짱@ ㅎㅎㅎ ㅠㅠ ㅋㅋ\"\n",
    "\n",
    "# 정규표현식: 알파벳, 숫자, 한글만 남기고 나머지는 제거\n",
    "description = re.sub(r'[^a-zA-Z0-9가-힣]', ' ', description)\n",
    "description = re.sub('\\s+', ' ', description)\n",
    "print(description)"
   ]
  },
  {
   "cell_type": "code",
   "execution_count": 66,
   "id": "6deb9ca8",
   "metadata": {},
   "outputs": [],
   "source": [
    "# 네이버 API 계정 정보\n",
    "from dotenv import load_dotenv\n",
    "import os\n",
    "load_dotenv()\n",
    "client_id = os.getenv('Client_ID')\n",
    "client_secret = os.getenv('Client_Secret')\n",
    "queries = ['전주 여행', '경주 여행']\n",
    "max_start = 5"
   ]
  },
  {
   "cell_type": "code",
   "execution_count": 68,
   "id": "f661873d",
   "metadata": {},
   "outputs": [],
   "source": [
    "# 방법1\n",
    "def get_search_element_save(query, start):\n",
    "    headers = {'X-Naver-Client-Id':client_id,\n",
    "           'X-Naver-Client-Secret':client_secret}\n",
    "    url = f'https://openapi.naver.com/v1/search/kin.json?query={query}&display=100&start={start}'\n",
    "    response = requests.get(url, headers=headers)\n",
    "    items = json.loads(response.text)['items']\n",
    "    for i, item in enumerate(items):\n",
    "        title = item['title'].replace('<b>', ' ').replace('</b>', ' ')\n",
    "        link = item['link']\n",
    "        description = item['description'].replace('<b>', ' ').replace('</b>', ' ')\n",
    "#         print('수정전 :', description)\n",
    "        description = unescape(description) # html 특수문자 처리(&lt; -> <로 대체)\n",
    "        description = re.sub(r'[^a-zA-Z0-9가-힣]', ' ', description)\n",
    "        description = re.sub('\\s+', ' ', description)\n",
    "#         print('수정후 :', description)\n",
    "        # print(query, (start*100+i+1), title, link, description, title+' ' +description)\n",
    "        with open(file_name, 'a', encoding='utf-8') as file:\n",
    "            file.write('{}\\t{}\\t{}\\t{}\\t{}\\t{}\\n'.format(query, \n",
    "                                                         (start-1)*100+i+1,\n",
    "                                                         title,\n",
    "                                                         link,\n",
    "                                                         description, \n",
    "                                                         title + ' ' +description))"
   ]
  },
  {
   "cell_type": "code",
   "execution_count": 70,
   "id": "db309760",
   "metadata": {},
   "outputs": [],
   "source": [
    "# 데이터를 저장할 파일 생성 (naver_kin.txt)하고 title 저장(header저장)\n",
    "file_name = 'data/naver_kin.csv'\n",
    "with open(file_name, 'w', encoding='utf-8') as file:\n",
    "    file.write('{}\\t{}\\t{}\\t{}\\t{}\\t{}\\n'.format('query', \n",
    "                            'no','title','link', 'description', 'total_text'))"
   ]
  },
  {
   "cell_type": "code",
   "execution_count": 71,
   "id": "33ffde60",
   "metadata": {},
   "outputs": [
    {
     "name": "stdout",
     "output_type": "stream",
     "text": [
      "1 전주 여행 읽는 중\n",
      "2 전주 여행 읽는 중\n",
      "3 전주 여행 읽는 중\n",
      "4 전주 여행 읽는 중\n",
      "5 전주 여행 읽는 중\n",
      "1 경주 여행 읽는 중\n",
      "2 경주 여행 읽는 중\n",
      "3 경주 여행 읽는 중\n",
      "4 경주 여행 읽는 중\n",
      "5 경주 여행 읽는 중\n"
     ]
    }
   ],
   "source": [
    "for query in queries:\n",
    "    for start in range(1, max_start+1):\n",
    "        print(start, query, '읽는 중')\n",
    "        get_search_element_save(query, start)\n",
    "        time.sleep(0.5)"
   ]
  },
  {
   "cell_type": "code",
   "execution_count": 74,
   "id": "a2b419ee",
   "metadata": {},
   "outputs": [],
   "source": [
    "# 방법2 (수업시간 내용과 동일)\n",
    "def get_search_element_return(query, start):\n",
    "    headers = {'X-Naver-Client-Id':client_id,\n",
    "           'X-Naver-Client-Secret':client_secret}\n",
    "    url = f'https://openapi.naver.com/v1/search/kin.json?query={query}&display=100&start={start}'\n",
    "    response = requests.get(url, headers=headers)\n",
    "    items = json.loads(response.text)['items']\n",
    "    result = []\n",
    "    for i, item in enumerate(items):\n",
    "        title = item['title'].replace('<b>', ' ').replace('</b>', ' ')\n",
    "        link = item['link']\n",
    "        description = item['description'].replace('<b>', ' ').replace('</b>', ' ')\n",
    "#         print('수정전 :', description)\n",
    "        description = unescape(description) # html 특수문자 처리(&lt; -> <로 대체)\n",
    "        description = re.sub(r'[^a-zA-Z0-9가-힣]', ' ', description)\n",
    "        description = re.sub('\\s+', ' ', description)\n",
    "#         print('수정후 :', description)\n",
    "        # print(query, (start*100+i+1), title, link, description, title+' ' +description)\n",
    "        result.append({'query':query,\n",
    "                      'no':(start-1)*100+i+1,\n",
    "                      'title':title,\n",
    "                      'link':link,\n",
    "                      'description':description,\n",
    "                      'total_text':title+ ' ' + description})\n",
    "    return result"
   ]
  },
  {
   "cell_type": "code",
   "execution_count": 75,
   "id": "757be2fd",
   "metadata": {},
   "outputs": [
    {
     "name": "stdout",
     "output_type": "stream",
     "text": [
      "1 전주 여행 읽는 중\n",
      "2 전주 여행 읽는 중\n",
      "3 전주 여행 읽는 중\n",
      "4 전주 여행 읽는 중\n",
      "5 전주 여행 읽는 중\n",
      "1 경주 여행 읽는 중\n",
      "2 경주 여행 읽는 중\n",
      "3 경주 여행 읽는 중\n",
      "4 경주 여행 읽는 중\n",
      "5 경주 여행 읽는 중\n"
     ]
    }
   ],
   "source": [
    "result_total = []\n",
    "for query in queries:\n",
    "    for start in range(1, max_start+1):\n",
    "        print(start, query, '읽는 중')\n",
    "        result_total.extend(get_search_element_return(query, start))\n",
    "        time.sleep(0.5)\n",
    "df = pd.DataFrame(result)\n",
    "df.to_csv('data/naver_kin.csv', index=False, sep='\\t')"
   ]
  },
  {
   "cell_type": "markdown",
   "id": "c49d1672",
   "metadata": {},
   "source": [
    "# 2. 품사태깅 백업"
   ]
  },
  {
   "cell_type": "code",
   "execution_count": 76,
   "id": "a68a0baa",
   "metadata": {},
   "outputs": [
    {
     "data": {
      "text/html": [
       "<div>\n",
       "<style scoped>\n",
       "    .dataframe tbody tr th:only-of-type {\n",
       "        vertical-align: middle;\n",
       "    }\n",
       "\n",
       "    .dataframe tbody tr th {\n",
       "        vertical-align: top;\n",
       "    }\n",
       "\n",
       "    .dataframe thead th {\n",
       "        text-align: right;\n",
       "    }\n",
       "</style>\n",
       "<table border=\"1\" class=\"dataframe\">\n",
       "  <thead>\n",
       "    <tr style=\"text-align: right;\">\n",
       "      <th></th>\n",
       "      <th>query</th>\n",
       "      <th>no</th>\n",
       "      <th>title</th>\n",
       "      <th>link</th>\n",
       "      <th>description</th>\n",
       "      <th>total_text</th>\n",
       "    </tr>\n",
       "  </thead>\n",
       "  <tbody>\n",
       "    <tr>\n",
       "      <th>0</th>\n",
       "      <td>전주 여행</td>\n",
       "      <td>1</td>\n",
       "      <td>전주  가볼만한곳 추천 받아요</td>\n",
       "      <td>https://kin.naver.com/qna/detail.naver?d1id=9&amp;...</td>\n",
       "      <td>추억의 7080 다양한체험 7080감성 추억여행 테마박물관 유익한시간 2 전북 전...</td>\n",
       "      <td>전주  가볼만한곳 추천 받아요  추억의 7080 다양한체험 7080감성 추억여행 ...</td>\n",
       "    </tr>\n",
       "    <tr>\n",
       "      <th>1</th>\n",
       "      <td>전주 여행</td>\n",
       "      <td>2</td>\n",
       "      <td>전주여행 갈려고하는데요!</td>\n",
       "      <td>https://kin.naver.com/qna/detail.naver?d1id=9&amp;...</td>\n",
       "      <td>전주여행 을 갈려고하는데요 아는사람과 갈려고하는데 호텔은 좋은가격에 정했고 음 2...</td>\n",
       "      <td>전주여행 갈려고하는데요!  전주여행 을 갈려고하는데요 아는사람과 갈려고하는데 호텔...</td>\n",
       "    </tr>\n",
       "  </tbody>\n",
       "</table>\n",
       "</div>"
      ],
      "text/plain": [
       "   query  no              title  \\\n",
       "0  전주 여행   1   전주  가볼만한곳 추천 받아요   \n",
       "1  전주 여행   2      전주여행 갈려고하는데요!   \n",
       "\n",
       "                                                link  \\\n",
       "0  https://kin.naver.com/qna/detail.naver?d1id=9&...   \n",
       "1  https://kin.naver.com/qna/detail.naver?d1id=9&...   \n",
       "\n",
       "                                         description  \\\n",
       "0   추억의 7080 다양한체험 7080감성 추억여행 테마박물관 유익한시간 2 전북 전...   \n",
       "1   전주여행 을 갈려고하는데요 아는사람과 갈려고하는데 호텔은 좋은가격에 정했고 음 2...   \n",
       "\n",
       "                                          total_text  \n",
       "0   전주  가볼만한곳 추천 받아요  추억의 7080 다양한체험 7080감성 추억여행 ...  \n",
       "1   전주여행 갈려고하는데요!  전주여행 을 갈려고하는데요 아는사람과 갈려고하는데 호텔...  "
      ]
     },
     "execution_count": 76,
     "metadata": {},
     "output_type": "execute_result"
    }
   ],
   "source": [
    "import pandas as pd\n",
    "df = pd.read_csv('data/naver_kin.csv', sep='\\t')\n",
    "df.head(2)"
   ]
  },
  {
   "cell_type": "code",
   "execution_count": 83,
   "id": "faf96a7d",
   "metadata": {},
   "outputs": [
    {
     "data": {
      "text/plain": [
       "[['전주 여행',\n",
       "  1,\n",
       "  ' 전주  가볼만한곳 추천 받아요  추억의 7080 다양한체험 7080감성 추억여행 테마박물관 유익한시간 2 전북 전북투어패스 통합이용권 전북핫플 여러여행지 다양한체험 카페이용추가 전주여행 필수 편안하고 즐거운 날이 되시길 바라겠습니다 감사합니다 '],\n",
       " ['경주 여행',\n",
       "  1,\n",
       "  '추석에  경주 여행  추석에 경주 여행 가는거 어떻게 생각하시나요 서울에서 버스를 타고 갈 경우 버스가 버스전용 차선에서 운행하나요 질문하신 추석 경주여행 관련 답변 드리도록 하겠습니다 첨성대 석굴암 불국사 등 유적지는 연중무휴로 ']]"
      ]
     },
     "execution_count": 83,
     "metadata": {},
     "output_type": "execute_result"
    }
   ],
   "source": [
    "df_list = df[['query','no','total_text']].values.tolist()\n",
    "df_list[::500]"
   ]
  },
  {
   "cell_type": "code",
   "execution_count": 125,
   "id": "318ee8f2",
   "metadata": {},
   "outputs": [],
   "source": [
    "from konlpy.tag import Komoran, Kkma, Hannanum, Okt\n",
    "from mecab import MeCab\n",
    "analyzer = MeCab()\n",
    "stopwords = ['전주','경주','여행']\n",
    "select_pos = ['NNG', 'NNP'] "
   ]
  },
  {
   "cell_type": "code",
   "execution_count": 182,
   "id": "b8b5df21",
   "metadata": {},
   "outputs": [
    {
     "data": {
      "text/html": [
       "<div>\n",
       "<style scoped>\n",
       "    .dataframe tbody tr th:only-of-type {\n",
       "        vertical-align: middle;\n",
       "    }\n",
       "\n",
       "    .dataframe tbody tr th {\n",
       "        vertical-align: top;\n",
       "    }\n",
       "\n",
       "    .dataframe thead th {\n",
       "        text-align: right;\n",
       "    }\n",
       "</style>\n",
       "<table border=\"1\" class=\"dataframe\">\n",
       "  <thead>\n",
       "    <tr style=\"text-align: right;\">\n",
       "      <th></th>\n",
       "      <th>query</th>\n",
       "      <th>no</th>\n",
       "      <th>token</th>\n",
       "      <th>pos</th>\n",
       "    </tr>\n",
       "  </thead>\n",
       "  <tbody>\n",
       "    <tr>\n",
       "      <th>0</th>\n",
       "      <td>전주 여행</td>\n",
       "      <td>1</td>\n",
       "      <td>추천</td>\n",
       "      <td>NNG</td>\n",
       "    </tr>\n",
       "    <tr>\n",
       "      <th>1</th>\n",
       "      <td>전주 여행</td>\n",
       "      <td>1</td>\n",
       "      <td>아요</td>\n",
       "      <td>EF</td>\n",
       "    </tr>\n",
       "    <tr>\n",
       "      <th>2</th>\n",
       "      <td>전주 여행</td>\n",
       "      <td>1</td>\n",
       "      <td>추억</td>\n",
       "      <td>NNG</td>\n",
       "    </tr>\n",
       "    <tr>\n",
       "      <th>3</th>\n",
       "      <td>전주 여행</td>\n",
       "      <td>1</td>\n",
       "      <td>7080</td>\n",
       "      <td>SN</td>\n",
       "    </tr>\n",
       "    <tr>\n",
       "      <th>4</th>\n",
       "      <td>전주 여행</td>\n",
       "      <td>1</td>\n",
       "      <td>다양</td>\n",
       "      <td>NNG</td>\n",
       "    </tr>\n",
       "    <tr>\n",
       "      <th>...</th>\n",
       "      <td>...</td>\n",
       "      <td>...</td>\n",
       "      <td>...</td>\n",
       "      <td>...</td>\n",
       "    </tr>\n",
       "    <tr>\n",
       "      <th>24193</th>\n",
       "      <td>경주 여행</td>\n",
       "      <td>500</td>\n",
       "      <td>코레</td>\n",
       "      <td>NNG</td>\n",
       "    </tr>\n",
       "    <tr>\n",
       "      <th>24194</th>\n",
       "      <td>경주 여행</td>\n",
       "      <td>500</td>\n",
       "      <td>으로</td>\n",
       "      <td>JKB</td>\n",
       "    </tr>\n",
       "    <tr>\n",
       "      <th>24195</th>\n",
       "      <td>경주 여행</td>\n",
       "      <td>500</td>\n",
       "      <td>예매</td>\n",
       "      <td>NNG</td>\n",
       "    </tr>\n",
       "    <tr>\n",
       "      <th>24196</th>\n",
       "      <td>경주 여행</td>\n",
       "      <td>500</td>\n",
       "      <td>어디</td>\n",
       "      <td>NP</td>\n",
       "    </tr>\n",
       "    <tr>\n",
       "      <th>24197</th>\n",
       "      <td>경주 여행</td>\n",
       "      <td>500</td>\n",
       "      <td>건가요</td>\n",
       "      <td>NNB+VCP+EC</td>\n",
       "    </tr>\n",
       "  </tbody>\n",
       "</table>\n",
       "<p>24198 rows × 4 columns</p>\n",
       "</div>"
      ],
      "text/plain": [
       "       query   no token         pos\n",
       "0      전주 여행    1    추천         NNG\n",
       "1      전주 여행    1    아요          EF\n",
       "2      전주 여행    1    추억         NNG\n",
       "3      전주 여행    1  7080          SN\n",
       "4      전주 여행    1    다양         NNG\n",
       "...      ...  ...   ...         ...\n",
       "24193  경주 여행  500    코레         NNG\n",
       "24194  경주 여행  500    으로         JKB\n",
       "24195  경주 여행  500    예매         NNG\n",
       "24196  경주 여행  500    어디          NP\n",
       "24197  경주 여행  500   건가요  NNB+VCP+EC\n",
       "\n",
       "[24198 rows x 4 columns]"
      ]
     },
     "execution_count": 182,
     "metadata": {},
     "output_type": "execute_result"
    }
   ],
   "source": [
    "postagged_lst = []\n",
    "for i, row in enumerate(df_list):\n",
    "    query = row[0]\n",
    "    no = row[1]\n",
    "    text = row[2]\n",
    "    text_pos = analyzer.pos(text)\n",
    "    # analyzer가 MeCab이 아닐 경우 시간이 좀 걸려서 250개마다 로그 출력\n",
    "#     if i%250==0:\n",
    "#         print(\"{}의 {}번째 품사태깅 결과 {}개 저장중\".format(query, \n",
    "#                                                 no, \n",
    "#                                                 len(text_pos), end='\\n\\n'))\n",
    "    for token, pos in text_pos:\n",
    "        # if token not in stopwords and pos in select_pos: 라고 하면 명사만 추출\n",
    "        if token not in stopwords and len(token)>1: # 모든 품사를 우선 다 넣고 나중에 빼려면\n",
    "            postagged_lst.append({'query':query,\n",
    "                                 'no':no,\n",
    "                                 'token':token,\n",
    "                                 'pos':pos})\n",
    "df_postagged = pd.DataFrame(postagged_lst)\n",
    "df_postagged"
   ]
  },
  {
   "cell_type": "code",
   "execution_count": 183,
   "id": "40ce6965",
   "metadata": {},
   "outputs": [],
   "source": [
    "df_postagged.to_csv('data/naver_kin_pos.csv', index=False, sep='\\t')"
   ]
  },
  {
   "cell_type": "markdown",
   "id": "4673e089",
   "metadata": {},
   "source": [
    "# 3. 명사만 추출 "
   ]
  },
  {
   "cell_type": "code",
   "execution_count": null,
   "id": "f4ec72b7",
   "metadata": {},
   "outputs": [],
   "source": [
    "df_postagged = pd.read_csv('data/naver_kin_pos.csv', sep='\\t')"
   ]
  },
  {
   "cell_type": "code",
   "execution_count": 184,
   "id": "8400d863",
   "metadata": {},
   "outputs": [
    {
     "data": {
      "text/html": [
       "<div>\n",
       "<style scoped>\n",
       "    .dataframe tbody tr th:only-of-type {\n",
       "        vertical-align: middle;\n",
       "    }\n",
       "\n",
       "    .dataframe tbody tr th {\n",
       "        vertical-align: top;\n",
       "    }\n",
       "\n",
       "    .dataframe thead th {\n",
       "        text-align: right;\n",
       "    }\n",
       "</style>\n",
       "<table border=\"1\" class=\"dataframe\">\n",
       "  <thead>\n",
       "    <tr style=\"text-align: right;\">\n",
       "      <th></th>\n",
       "      <th>query</th>\n",
       "      <th>token</th>\n",
       "      <th>pos</th>\n",
       "    </tr>\n",
       "  </thead>\n",
       "  <tbody>\n",
       "    <tr>\n",
       "      <th>0</th>\n",
       "      <td>전주 여행</td>\n",
       "      <td>추천</td>\n",
       "      <td>NNG</td>\n",
       "    </tr>\n",
       "    <tr>\n",
       "      <th>2</th>\n",
       "      <td>전주 여행</td>\n",
       "      <td>추억</td>\n",
       "      <td>NNG</td>\n",
       "    </tr>\n",
       "    <tr>\n",
       "      <th>4</th>\n",
       "      <td>전주 여행</td>\n",
       "      <td>다양</td>\n",
       "      <td>NNG</td>\n",
       "    </tr>\n",
       "    <tr>\n",
       "      <th>5</th>\n",
       "      <td>전주 여행</td>\n",
       "      <td>체험</td>\n",
       "      <td>NNG</td>\n",
       "    </tr>\n",
       "    <tr>\n",
       "      <th>7</th>\n",
       "      <td>전주 여행</td>\n",
       "      <td>감성</td>\n",
       "      <td>NNG</td>\n",
       "    </tr>\n",
       "  </tbody>\n",
       "</table>\n",
       "</div>"
      ],
      "text/plain": [
       "   query token  pos\n",
       "0  전주 여행    추천  NNG\n",
       "2  전주 여행    추억  NNG\n",
       "4  전주 여행    다양  NNG\n",
       "5  전주 여행    체험  NNG\n",
       "7  전주 여행    감성  NNG"
      ]
     },
     "execution_count": 184,
     "metadata": {},
     "output_type": "execute_result"
    }
   ],
   "source": [
    "df_nouns = df_postagged.loc[df_postagged['pos'].isin(['NNP', 'NNG']),\n",
    "                            ['query', 'token','pos']]\n",
    "df_nouns.head()"
   ]
  },
  {
   "cell_type": "code",
   "execution_count": 185,
   "id": "c4230088",
   "metadata": {},
   "outputs": [],
   "source": [
    "df_nouns.to_csv('data/naver_kin_pos_nouns.csv', index=False, sep='\\t')"
   ]
  },
  {
   "cell_type": "markdown",
   "id": "87aa2465",
   "metadata": {},
   "source": [
    "# 4.빈도분석(DataFrame) 후 백업"
   ]
  },
  {
   "cell_type": "code",
   "execution_count": 189,
   "id": "e66b90fd",
   "metadata": {},
   "outputs": [
    {
     "data": {
      "text/plain": [
       "(14078, 3)"
      ]
     },
     "execution_count": 189,
     "metadata": {},
     "output_type": "execute_result"
    }
   ],
   "source": [
    "df_nouns = pd.read_csv('data/naver_kin_pos_nouns.csv', sep='\\t')\n",
    "df_nouns.shape"
   ]
  },
  {
   "cell_type": "code",
   "execution_count": 186,
   "id": "6fe83a29",
   "metadata": {},
   "outputs": [
    {
     "data": {
      "text/html": [
       "<div>\n",
       "<style scoped>\n",
       "    .dataframe tbody tr th:only-of-type {\n",
       "        vertical-align: middle;\n",
       "    }\n",
       "\n",
       "    .dataframe tbody tr th {\n",
       "        vertical-align: top;\n",
       "    }\n",
       "\n",
       "    .dataframe thead th {\n",
       "        text-align: right;\n",
       "    }\n",
       "</style>\n",
       "<table border=\"1\" class=\"dataframe\">\n",
       "  <thead>\n",
       "    <tr style=\"text-align: right;\">\n",
       "      <th></th>\n",
       "      <th>query</th>\n",
       "      <th>token</th>\n",
       "      <th>pos</th>\n",
       "    </tr>\n",
       "  </thead>\n",
       "  <tbody>\n",
       "    <tr>\n",
       "      <th>0</th>\n",
       "      <td>전주 여행</td>\n",
       "      <td>추천</td>\n",
       "      <td>NNG</td>\n",
       "    </tr>\n",
       "    <tr>\n",
       "      <th>7994</th>\n",
       "      <td>전주 여행</td>\n",
       "      <td>코스</td>\n",
       "      <td>NNG</td>\n",
       "    </tr>\n",
       "    <tr>\n",
       "      <th>16596</th>\n",
       "      <td>경주 여행</td>\n",
       "      <td>요금</td>\n",
       "      <td>NNG</td>\n",
       "    </tr>\n",
       "  </tbody>\n",
       "</table>\n",
       "</div>"
      ],
      "text/plain": [
       "       query token  pos\n",
       "0      전주 여행    추천  NNG\n",
       "7994   전주 여행    코스  NNG\n",
       "16596  경주 여행    요금  NNG"
      ]
     },
     "execution_count": 186,
     "metadata": {},
     "output_type": "execute_result"
    }
   ],
   "source": [
    "df_nouns.iloc[::5000]"
   ]
  },
  {
   "cell_type": "code",
   "execution_count": 190,
   "id": "341d4cf3",
   "metadata": {},
   "outputs": [
    {
     "data": {
      "text/html": [
       "<div>\n",
       "<style scoped>\n",
       "    .dataframe tbody tr th:only-of-type {\n",
       "        vertical-align: middle;\n",
       "    }\n",
       "\n",
       "    .dataframe tbody tr th {\n",
       "        vertical-align: top;\n",
       "    }\n",
       "\n",
       "    .dataframe thead th {\n",
       "        text-align: right;\n",
       "    }\n",
       "</style>\n",
       "<table border=\"1\" class=\"dataframe\">\n",
       "  <thead>\n",
       "    <tr style=\"text-align: right;\">\n",
       "      <th></th>\n",
       "      <th>query</th>\n",
       "      <th>token</th>\n",
       "      <th>pos</th>\n",
       "    </tr>\n",
       "  </thead>\n",
       "  <tbody>\n",
       "    <tr>\n",
       "      <th>0</th>\n",
       "      <td>경주 여행</td>\n",
       "      <td>가격</td>\n",
       "      <td>10</td>\n",
       "    </tr>\n",
       "    <tr>\n",
       "      <th>1</th>\n",
       "      <td>경주 여행</td>\n",
       "      <td>가능</td>\n",
       "      <td>24</td>\n",
       "    </tr>\n",
       "    <tr>\n",
       "      <th>2</th>\n",
       "      <td>경주 여행</td>\n",
       "      <td>가본적</td>\n",
       "      <td>5</td>\n",
       "    </tr>\n",
       "    <tr>\n",
       "      <th>3</th>\n",
       "      <td>경주 여행</td>\n",
       "      <td>가성</td>\n",
       "      <td>5</td>\n",
       "    </tr>\n",
       "    <tr>\n",
       "      <th>4</th>\n",
       "      <td>경주 여행</td>\n",
       "      <td>가시</td>\n",
       "      <td>5</td>\n",
       "    </tr>\n",
       "    <tr>\n",
       "      <th>...</th>\n",
       "      <td>...</td>\n",
       "      <td>...</td>\n",
       "      <td>...</td>\n",
       "    </tr>\n",
       "    <tr>\n",
       "      <th>884</th>\n",
       "      <td>전주 여행</td>\n",
       "      <td>환급</td>\n",
       "      <td>5</td>\n",
       "    </tr>\n",
       "    <tr>\n",
       "      <th>885</th>\n",
       "      <td>전주 여행</td>\n",
       "      <td>회관</td>\n",
       "      <td>5</td>\n",
       "    </tr>\n",
       "    <tr>\n",
       "      <th>886</th>\n",
       "      <td>전주 여행</td>\n",
       "      <td>휴가</td>\n",
       "      <td>5</td>\n",
       "    </tr>\n",
       "    <tr>\n",
       "      <th>887</th>\n",
       "      <td>전주 여행</td>\n",
       "      <td>휴무</td>\n",
       "      <td>5</td>\n",
       "    </tr>\n",
       "    <tr>\n",
       "      <th>888</th>\n",
       "      <td>전주 여행</td>\n",
       "      <td>흐노</td>\n",
       "      <td>5</td>\n",
       "    </tr>\n",
       "  </tbody>\n",
       "</table>\n",
       "<p>889 rows × 3 columns</p>\n",
       "</div>"
      ],
      "text/plain": [
       "     query token  pos\n",
       "0    경주 여행    가격   10\n",
       "1    경주 여행    가능   24\n",
       "2    경주 여행   가본적    5\n",
       "3    경주 여행    가성    5\n",
       "4    경주 여행    가시    5\n",
       "..     ...   ...  ...\n",
       "884  전주 여행    환급    5\n",
       "885  전주 여행    회관    5\n",
       "886  전주 여행    휴가    5\n",
       "887  전주 여행    휴무    5\n",
       "888  전주 여행    흐노    5\n",
       "\n",
       "[889 rows x 3 columns]"
      ]
     },
     "execution_count": 190,
     "metadata": {},
     "output_type": "execute_result"
    }
   ],
   "source": [
    "df_nouns.groupby(['query','token'], as_index=False)['pos'].count()"
   ]
  },
  {
   "cell_type": "code",
   "execution_count": 191,
   "id": "8649c938",
   "metadata": {},
   "outputs": [
    {
     "data": {
      "text/plain": [
       "query  token\n",
       "경주 여행  코스       449\n",
       "       추천       397\n",
       "       계획       154\n",
       "       숙소       140\n",
       "       일정       118\n",
       "               ... \n",
       "전주 여행  카페이        1\n",
       "       통합         1\n",
       "       패스         1\n",
       "       편안         1\n",
       "       필수         1\n",
       "Name: token, Length: 889, dtype: int64"
      ]
     },
     "execution_count": 191,
     "metadata": {},
     "output_type": "execute_result"
    }
   ],
   "source": [
    "df_token_grp = df_nouns.groupby('query')['token'].value_counts()\n",
    "df_token_grp"
   ]
  },
  {
   "cell_type": "code",
   "execution_count": 192,
   "id": "ecd001bc",
   "metadata": {},
   "outputs": [
    {
     "data": {
      "text/html": [
       "<div>\n",
       "<style scoped>\n",
       "    .dataframe tbody tr th:only-of-type {\n",
       "        vertical-align: middle;\n",
       "    }\n",
       "\n",
       "    .dataframe tbody tr th {\n",
       "        vertical-align: top;\n",
       "    }\n",
       "\n",
       "    .dataframe thead th {\n",
       "        text-align: right;\n",
       "    }\n",
       "</style>\n",
       "<table border=\"1\" class=\"dataframe\">\n",
       "  <thead>\n",
       "    <tr style=\"text-align: right;\">\n",
       "      <th></th>\n",
       "      <th>query</th>\n",
       "      <th>token</th>\n",
       "      <th>token_count</th>\n",
       "    </tr>\n",
       "  </thead>\n",
       "  <tbody>\n",
       "    <tr>\n",
       "      <th>0</th>\n",
       "      <td>경주 여행</td>\n",
       "      <td>코스</td>\n",
       "      <td>449</td>\n",
       "    </tr>\n",
       "    <tr>\n",
       "      <th>1</th>\n",
       "      <td>경주 여행</td>\n",
       "      <td>추천</td>\n",
       "      <td>397</td>\n",
       "    </tr>\n",
       "    <tr>\n",
       "      <th>2</th>\n",
       "      <td>경주 여행</td>\n",
       "      <td>계획</td>\n",
       "      <td>154</td>\n",
       "    </tr>\n",
       "    <tr>\n",
       "      <th>3</th>\n",
       "      <td>경주 여행</td>\n",
       "      <td>숙소</td>\n",
       "      <td>140</td>\n",
       "    </tr>\n",
       "    <tr>\n",
       "      <th>4</th>\n",
       "      <td>경주 여행</td>\n",
       "      <td>일정</td>\n",
       "      <td>118</td>\n",
       "    </tr>\n",
       "  </tbody>\n",
       "</table>\n",
       "</div>"
      ],
      "text/plain": [
       "   query token  token_count\n",
       "0  경주 여행    코스          449\n",
       "1  경주 여행    추천          397\n",
       "2  경주 여행    계획          154\n",
       "3  경주 여행    숙소          140\n",
       "4  경주 여행    일정          118"
      ]
     },
     "execution_count": 192,
     "metadata": {},
     "output_type": "execute_result"
    }
   ],
   "source": [
    "df_token_grp = df_token_grp.reset_index(name='token_count')\n",
    "df_token_grp.head()"
   ]
  },
  {
   "cell_type": "code",
   "execution_count": 193,
   "id": "f117403f",
   "metadata": {},
   "outputs": [
    {
     "data": {
      "text/html": [
       "<div>\n",
       "<style scoped>\n",
       "    .dataframe tbody tr th:only-of-type {\n",
       "        vertical-align: middle;\n",
       "    }\n",
       "\n",
       "    .dataframe tbody tr th {\n",
       "        vertical-align: top;\n",
       "    }\n",
       "\n",
       "    .dataframe thead th {\n",
       "        text-align: right;\n",
       "    }\n",
       "</style>\n",
       "<table border=\"1\" class=\"dataframe\">\n",
       "  <thead>\n",
       "    <tr style=\"text-align: right;\">\n",
       "      <th></th>\n",
       "      <th>단어</th>\n",
       "      <th>경주빈도</th>\n",
       "    </tr>\n",
       "  </thead>\n",
       "  <tbody>\n",
       "    <tr>\n",
       "      <th>0</th>\n",
       "      <td>단어1</td>\n",
       "      <td>90</td>\n",
       "    </tr>\n",
       "    <tr>\n",
       "      <th>1</th>\n",
       "      <td>단어2</td>\n",
       "      <td>80</td>\n",
       "    </tr>\n",
       "  </tbody>\n",
       "</table>\n",
       "</div>"
      ],
      "text/plain": [
       "    단어  경주빈도\n",
       "0  단어1    90\n",
       "1  단어2    80"
      ]
     },
     "metadata": {},
     "output_type": "display_data"
    },
    {
     "data": {
      "text/html": [
       "<div>\n",
       "<style scoped>\n",
       "    .dataframe tbody tr th:only-of-type {\n",
       "        vertical-align: middle;\n",
       "    }\n",
       "\n",
       "    .dataframe tbody tr th {\n",
       "        vertical-align: top;\n",
       "    }\n",
       "\n",
       "    .dataframe thead th {\n",
       "        text-align: right;\n",
       "    }\n",
       "</style>\n",
       "<table border=\"1\" class=\"dataframe\">\n",
       "  <thead>\n",
       "    <tr style=\"text-align: right;\">\n",
       "      <th></th>\n",
       "      <th>단어</th>\n",
       "      <th>전주빈도</th>\n",
       "    </tr>\n",
       "  </thead>\n",
       "  <tbody>\n",
       "    <tr>\n",
       "      <th>0</th>\n",
       "      <td>단어1</td>\n",
       "      <td>99</td>\n",
       "    </tr>\n",
       "    <tr>\n",
       "      <th>1</th>\n",
       "      <td>단어3</td>\n",
       "      <td>81</td>\n",
       "    </tr>\n",
       "  </tbody>\n",
       "</table>\n",
       "</div>"
      ],
      "text/plain": [
       "    단어  전주빈도\n",
       "0  단어1    99\n",
       "1  단어3    81"
      ]
     },
     "metadata": {},
     "output_type": "display_data"
    },
    {
     "name": "stdout",
     "output_type": "stream",
     "text": [
      "<class 'pandas.core.frame.DataFrame'>\n",
      "Int64Index: 3 entries, 0 to 2\n",
      "Data columns (total 3 columns):\n",
      " #   Column  Non-Null Count  Dtype \n",
      "---  ------  --------------  ----- \n",
      " 0   단어      3 non-null      object\n",
      " 1   경주빈도    3 non-null      int16 \n",
      " 2   전주빈도    3 non-null      int32 \n",
      "dtypes: int16(1), int32(1), object(1)\n",
      "memory usage: 66.0+ bytes\n"
     ]
    }
   ],
   "source": [
    "# 전주 여행과 경우 여행 여행 빈도 추출\n",
    "import numpy as np\n",
    "a = pd.DataFrame([['단어1', 90],\n",
    "                 ['단어2',80]], columns=['단어','경주빈도'])\n",
    "b = pd.DataFrame([['단어1', 99],\n",
    "                 ['단어3',81]], columns=['단어','전주빈도'])\n",
    "display(a)\n",
    "display(b)\n",
    "ab = pd.merge(a, b, \n",
    "         how='outer', # inner(공통), left, right, outer\n",
    "         on='단어')   # 두 프레임을 어떤 열 기준으로 합칠지 지정\n",
    "#pd.concat([a, b], axis=1)\n",
    "ab.fillna(0, inplace=True)\n",
    "ab['경주빈도'] = ab['경주빈도'].astype(np.int16)\n",
    "ab['전주빈도'] = ab['전주빈도'].astype('int')\n",
    "ab.info()"
   ]
  },
  {
   "cell_type": "code",
   "execution_count": 194,
   "id": "c11fdda0",
   "metadata": {},
   "outputs": [
    {
     "data": {
      "text/plain": [
       "((466, 2), (423, 2))"
      ]
     },
     "execution_count": 194,
     "metadata": {},
     "output_type": "execute_result"
    }
   ],
   "source": [
    "df_gj = df_token_grp.loc[df_token_grp['query']=='경주 여행', ['token','token_count']]\n",
    "df_jj = df_token_grp.loc[df_token_grp['query']=='전주 여행', ['token','token_count']]\n",
    "df_gj.shape, df_jj.shape"
   ]
  },
  {
   "cell_type": "code",
   "execution_count": 195,
   "id": "4a9e7795",
   "metadata": {},
   "outputs": [
    {
     "data": {
      "text/html": [
       "<div>\n",
       "<style scoped>\n",
       "    .dataframe tbody tr th:only-of-type {\n",
       "        vertical-align: middle;\n",
       "    }\n",
       "\n",
       "    .dataframe tbody tr th {\n",
       "        vertical-align: top;\n",
       "    }\n",
       "\n",
       "    .dataframe thead th {\n",
       "        text-align: right;\n",
       "    }\n",
       "</style>\n",
       "<table border=\"1\" class=\"dataframe\">\n",
       "  <thead>\n",
       "    <tr style=\"text-align: right;\">\n",
       "      <th></th>\n",
       "      <th>token</th>\n",
       "      <th>token_count</th>\n",
       "    </tr>\n",
       "  </thead>\n",
       "  <tbody>\n",
       "    <tr>\n",
       "      <th>0</th>\n",
       "      <td>코스</td>\n",
       "      <td>449</td>\n",
       "    </tr>\n",
       "    <tr>\n",
       "      <th>1</th>\n",
       "      <td>추천</td>\n",
       "      <td>397</td>\n",
       "    </tr>\n",
       "    <tr>\n",
       "      <th>2</th>\n",
       "      <td>계획</td>\n",
       "      <td>154</td>\n",
       "    </tr>\n",
       "    <tr>\n",
       "      <th>3</th>\n",
       "      <td>숙소</td>\n",
       "      <td>140</td>\n",
       "    </tr>\n",
       "    <tr>\n",
       "      <th>4</th>\n",
       "      <td>일정</td>\n",
       "      <td>118</td>\n",
       "    </tr>\n",
       "  </tbody>\n",
       "</table>\n",
       "</div>"
      ],
      "text/plain": [
       "  token  token_count\n",
       "0    코스          449\n",
       "1    추천          397\n",
       "2    계획          154\n",
       "3    숙소          140\n",
       "4    일정          118"
      ]
     },
     "execution_count": 195,
     "metadata": {},
     "output_type": "execute_result"
    }
   ],
   "source": [
    "df_gj.head()"
   ]
  },
  {
   "cell_type": "code",
   "execution_count": 196,
   "id": "9b384e98",
   "metadata": {},
   "outputs": [
    {
     "data": {
      "text/html": [
       "<div>\n",
       "<style scoped>\n",
       "    .dataframe tbody tr th:only-of-type {\n",
       "        vertical-align: middle;\n",
       "    }\n",
       "\n",
       "    .dataframe tbody tr th {\n",
       "        vertical-align: top;\n",
       "    }\n",
       "\n",
       "    .dataframe thead th {\n",
       "        text-align: right;\n",
       "    }\n",
       "</style>\n",
       "<table border=\"1\" class=\"dataframe\">\n",
       "  <thead>\n",
       "    <tr style=\"text-align: right;\">\n",
       "      <th></th>\n",
       "      <th>token</th>\n",
       "      <th>token_count</th>\n",
       "    </tr>\n",
       "  </thead>\n",
       "  <tbody>\n",
       "    <tr>\n",
       "      <th>466</th>\n",
       "      <td>코스</td>\n",
       "      <td>481</td>\n",
       "    </tr>\n",
       "    <tr>\n",
       "      <th>467</th>\n",
       "      <td>여수</td>\n",
       "      <td>349</td>\n",
       "    </tr>\n",
       "    <tr>\n",
       "      <th>468</th>\n",
       "      <td>주달</td>\n",
       "      <td>304</td>\n",
       "    </tr>\n",
       "    <tr>\n",
       "      <th>469</th>\n",
       "      <td>추천</td>\n",
       "      <td>301</td>\n",
       "    </tr>\n",
       "    <tr>\n",
       "      <th>470</th>\n",
       "      <td>맛집</td>\n",
       "      <td>287</td>\n",
       "    </tr>\n",
       "  </tbody>\n",
       "</table>\n",
       "</div>"
      ],
      "text/plain": [
       "    token  token_count\n",
       "466    코스          481\n",
       "467    여수          349\n",
       "468    주달          304\n",
       "469    추천          301\n",
       "470    맛집          287"
      ]
     },
     "execution_count": 196,
     "metadata": {},
     "output_type": "execute_result"
    }
   ],
   "source": [
    "df_jj.head()"
   ]
  },
  {
   "cell_type": "code",
   "execution_count": 197,
   "id": "8831d5a3",
   "metadata": {},
   "outputs": [
    {
     "name": "stdout",
     "output_type": "stream",
     "text": [
      "(717, 3)\n"
     ]
    },
    {
     "data": {
      "text/html": [
       "<div>\n",
       "<style scoped>\n",
       "    .dataframe tbody tr th:only-of-type {\n",
       "        vertical-align: middle;\n",
       "    }\n",
       "\n",
       "    .dataframe tbody tr th {\n",
       "        vertical-align: top;\n",
       "    }\n",
       "\n",
       "    .dataframe thead th {\n",
       "        text-align: right;\n",
       "    }\n",
       "</style>\n",
       "<table border=\"1\" class=\"dataframe\">\n",
       "  <thead>\n",
       "    <tr style=\"text-align: right;\">\n",
       "      <th></th>\n",
       "      <th>token</th>\n",
       "      <th>token_count_x</th>\n",
       "      <th>token_count_y</th>\n",
       "    </tr>\n",
       "  </thead>\n",
       "  <tbody>\n",
       "    <tr>\n",
       "      <th>0</th>\n",
       "      <td>코스</td>\n",
       "      <td>449.0</td>\n",
       "      <td>481.0</td>\n",
       "    </tr>\n",
       "    <tr>\n",
       "      <th>1</th>\n",
       "      <td>추천</td>\n",
       "      <td>397.0</td>\n",
       "      <td>301.0</td>\n",
       "    </tr>\n",
       "    <tr>\n",
       "      <th>2</th>\n",
       "      <td>계획</td>\n",
       "      <td>154.0</td>\n",
       "      <td>61.0</td>\n",
       "    </tr>\n",
       "    <tr>\n",
       "      <th>3</th>\n",
       "      <td>숙소</td>\n",
       "      <td>140.0</td>\n",
       "      <td>60.0</td>\n",
       "    </tr>\n",
       "    <tr>\n",
       "      <th>4</th>\n",
       "      <td>일정</td>\n",
       "      <td>118.0</td>\n",
       "      <td>80.0</td>\n",
       "    </tr>\n",
       "    <tr>\n",
       "      <th>...</th>\n",
       "      <td>...</td>\n",
       "      <td>...</td>\n",
       "      <td>...</td>\n",
       "    </tr>\n",
       "    <tr>\n",
       "      <th>712</th>\n",
       "      <td>유익</td>\n",
       "      <td>NaN</td>\n",
       "      <td>1.0</td>\n",
       "    </tr>\n",
       "    <tr>\n",
       "      <th>713</th>\n",
       "      <td>찜질방</td>\n",
       "      <td>NaN</td>\n",
       "      <td>1.0</td>\n",
       "    </tr>\n",
       "    <tr>\n",
       "      <th>714</th>\n",
       "      <td>카페이</td>\n",
       "      <td>NaN</td>\n",
       "      <td>1.0</td>\n",
       "    </tr>\n",
       "    <tr>\n",
       "      <th>715</th>\n",
       "      <td>통합</td>\n",
       "      <td>NaN</td>\n",
       "      <td>1.0</td>\n",
       "    </tr>\n",
       "    <tr>\n",
       "      <th>716</th>\n",
       "      <td>패스</td>\n",
       "      <td>NaN</td>\n",
       "      <td>1.0</td>\n",
       "    </tr>\n",
       "  </tbody>\n",
       "</table>\n",
       "<p>717 rows × 3 columns</p>\n",
       "</div>"
      ],
      "text/plain": [
       "    token  token_count_x  token_count_y\n",
       "0      코스          449.0          481.0\n",
       "1      추천          397.0          301.0\n",
       "2      계획          154.0           61.0\n",
       "3      숙소          140.0           60.0\n",
       "4      일정          118.0           80.0\n",
       "..    ...            ...            ...\n",
       "712    유익            NaN            1.0\n",
       "713   찜질방            NaN            1.0\n",
       "714   카페이            NaN            1.0\n",
       "715    통합            NaN            1.0\n",
       "716    패스            NaN            1.0\n",
       "\n",
       "[717 rows x 3 columns]"
      ]
     },
     "execution_count": 197,
     "metadata": {},
     "output_type": "execute_result"
    }
   ],
   "source": [
    "df_mrg = pd.merge(df_gj, df_jj, how='outer', on='token')\n",
    "print(df_mrg.shape)\n",
    "df_mrg"
   ]
  },
  {
   "cell_type": "code",
   "execution_count": 198,
   "id": "5484f609",
   "metadata": {},
   "outputs": [
    {
     "data": {
      "text/html": [
       "<div>\n",
       "<style scoped>\n",
       "    .dataframe tbody tr th:only-of-type {\n",
       "        vertical-align: middle;\n",
       "    }\n",
       "\n",
       "    .dataframe tbody tr th {\n",
       "        vertical-align: top;\n",
       "    }\n",
       "\n",
       "    .dataframe thead th {\n",
       "        text-align: right;\n",
       "    }\n",
       "</style>\n",
       "<table border=\"1\" class=\"dataframe\">\n",
       "  <thead>\n",
       "    <tr style=\"text-align: right;\">\n",
       "      <th></th>\n",
       "      <th>token</th>\n",
       "      <th>경주빈도</th>\n",
       "      <th>전주빈도</th>\n",
       "    </tr>\n",
       "  </thead>\n",
       "  <tbody>\n",
       "    <tr>\n",
       "      <th>0</th>\n",
       "      <td>코스</td>\n",
       "      <td>449</td>\n",
       "      <td>481</td>\n",
       "    </tr>\n",
       "    <tr>\n",
       "      <th>1</th>\n",
       "      <td>추천</td>\n",
       "      <td>397</td>\n",
       "      <td>301</td>\n",
       "    </tr>\n",
       "    <tr>\n",
       "      <th>2</th>\n",
       "      <td>계획</td>\n",
       "      <td>154</td>\n",
       "      <td>61</td>\n",
       "    </tr>\n",
       "    <tr>\n",
       "      <th>3</th>\n",
       "      <td>숙소</td>\n",
       "      <td>140</td>\n",
       "      <td>60</td>\n",
       "    </tr>\n",
       "    <tr>\n",
       "      <th>4</th>\n",
       "      <td>일정</td>\n",
       "      <td>118</td>\n",
       "      <td>80</td>\n",
       "    </tr>\n",
       "    <tr>\n",
       "      <th>...</th>\n",
       "      <td>...</td>\n",
       "      <td>...</td>\n",
       "      <td>...</td>\n",
       "    </tr>\n",
       "    <tr>\n",
       "      <th>712</th>\n",
       "      <td>유익</td>\n",
       "      <td>0</td>\n",
       "      <td>1</td>\n",
       "    </tr>\n",
       "    <tr>\n",
       "      <th>713</th>\n",
       "      <td>찜질방</td>\n",
       "      <td>0</td>\n",
       "      <td>1</td>\n",
       "    </tr>\n",
       "    <tr>\n",
       "      <th>714</th>\n",
       "      <td>카페이</td>\n",
       "      <td>0</td>\n",
       "      <td>1</td>\n",
       "    </tr>\n",
       "    <tr>\n",
       "      <th>715</th>\n",
       "      <td>통합</td>\n",
       "      <td>0</td>\n",
       "      <td>1</td>\n",
       "    </tr>\n",
       "    <tr>\n",
       "      <th>716</th>\n",
       "      <td>패스</td>\n",
       "      <td>0</td>\n",
       "      <td>1</td>\n",
       "    </tr>\n",
       "  </tbody>\n",
       "</table>\n",
       "<p>717 rows × 3 columns</p>\n",
       "</div>"
      ],
      "text/plain": [
       "    token  경주빈도  전주빈도\n",
       "0      코스   449   481\n",
       "1      추천   397   301\n",
       "2      계획   154    61\n",
       "3      숙소   140    60\n",
       "4      일정   118    80\n",
       "..    ...   ...   ...\n",
       "712    유익     0     1\n",
       "713   찜질방     0     1\n",
       "714   카페이     0     1\n",
       "715    통합     0     1\n",
       "716    패스     0     1\n",
       "\n",
       "[717 rows x 3 columns]"
      ]
     },
     "execution_count": 198,
     "metadata": {},
     "output_type": "execute_result"
    }
   ],
   "source": [
    "df_mrg.columns = ['token','경주빈도','전주빈도']\n",
    "df_mrg.fillna(0, inplace=True)\n",
    "df_mrg['경주빈도'] = df_mrg['경주빈도'].astype('int')\n",
    "df_mrg['전주빈도'] = df_mrg['전주빈도'].astype(np.int64) # 'int64'\n",
    "df_mrg"
   ]
  },
  {
   "cell_type": "code",
   "execution_count": 199,
   "id": "bfce8796",
   "metadata": {},
   "outputs": [
    {
     "data": {
      "text/html": [
       "<div>\n",
       "<style scoped>\n",
       "    .dataframe tbody tr th:only-of-type {\n",
       "        vertical-align: middle;\n",
       "    }\n",
       "\n",
       "    .dataframe tbody tr th {\n",
       "        vertical-align: top;\n",
       "    }\n",
       "\n",
       "    .dataframe thead th {\n",
       "        text-align: right;\n",
       "    }\n",
       "</style>\n",
       "<table border=\"1\" class=\"dataframe\">\n",
       "  <thead>\n",
       "    <tr style=\"text-align: right;\">\n",
       "      <th></th>\n",
       "      <th>token</th>\n",
       "      <th>경주빈도</th>\n",
       "      <th>전주빈도</th>\n",
       "      <th>빈도합</th>\n",
       "      <th>전주비율</th>\n",
       "      <th>경주비율</th>\n",
       "    </tr>\n",
       "  </thead>\n",
       "  <tbody>\n",
       "    <tr>\n",
       "      <th>0</th>\n",
       "      <td>코스</td>\n",
       "      <td>449</td>\n",
       "      <td>481</td>\n",
       "      <td>930</td>\n",
       "      <td>0.517204</td>\n",
       "      <td>0.482796</td>\n",
       "    </tr>\n",
       "    <tr>\n",
       "      <th>1</th>\n",
       "      <td>추천</td>\n",
       "      <td>397</td>\n",
       "      <td>301</td>\n",
       "      <td>698</td>\n",
       "      <td>0.431232</td>\n",
       "      <td>0.568768</td>\n",
       "    </tr>\n",
       "    <tr>\n",
       "      <th>2</th>\n",
       "      <td>계획</td>\n",
       "      <td>154</td>\n",
       "      <td>61</td>\n",
       "      <td>215</td>\n",
       "      <td>0.283721</td>\n",
       "      <td>0.716279</td>\n",
       "    </tr>\n",
       "    <tr>\n",
       "      <th>3</th>\n",
       "      <td>숙소</td>\n",
       "      <td>140</td>\n",
       "      <td>60</td>\n",
       "      <td>200</td>\n",
       "      <td>0.300000</td>\n",
       "      <td>0.700000</td>\n",
       "    </tr>\n",
       "    <tr>\n",
       "      <th>4</th>\n",
       "      <td>일정</td>\n",
       "      <td>118</td>\n",
       "      <td>80</td>\n",
       "      <td>198</td>\n",
       "      <td>0.404040</td>\n",
       "      <td>0.595960</td>\n",
       "    </tr>\n",
       "    <tr>\n",
       "      <th>5</th>\n",
       "      <td>질문</td>\n",
       "      <td>117</td>\n",
       "      <td>78</td>\n",
       "      <td>195</td>\n",
       "      <td>0.400000</td>\n",
       "      <td>0.600000</td>\n",
       "    </tr>\n",
       "    <tr>\n",
       "      <th>6</th>\n",
       "      <td>답변</td>\n",
       "      <td>106</td>\n",
       "      <td>55</td>\n",
       "      <td>161</td>\n",
       "      <td>0.341615</td>\n",
       "      <td>0.658385</td>\n",
       "    </tr>\n",
       "    <tr>\n",
       "      <th>7</th>\n",
       "      <td>부탁</td>\n",
       "      <td>105</td>\n",
       "      <td>75</td>\n",
       "      <td>180</td>\n",
       "      <td>0.416667</td>\n",
       "      <td>0.583333</td>\n",
       "    </tr>\n",
       "    <tr>\n",
       "      <th>8</th>\n",
       "      <td>맛집</td>\n",
       "      <td>100</td>\n",
       "      <td>287</td>\n",
       "      <td>387</td>\n",
       "      <td>0.741602</td>\n",
       "      <td>0.258398</td>\n",
       "    </tr>\n",
       "    <tr>\n",
       "      <th>9</th>\n",
       "      <td>가족</td>\n",
       "      <td>95</td>\n",
       "      <td>20</td>\n",
       "      <td>115</td>\n",
       "      <td>0.173913</td>\n",
       "      <td>0.826087</td>\n",
       "    </tr>\n",
       "  </tbody>\n",
       "</table>\n",
       "</div>"
      ],
      "text/plain": [
       "  token  경주빈도  전주빈도  빈도합      전주비율      경주비율\n",
       "0    코스   449   481  930  0.517204  0.482796\n",
       "1    추천   397   301  698  0.431232  0.568768\n",
       "2    계획   154    61  215  0.283721  0.716279\n",
       "3    숙소   140    60  200  0.300000  0.700000\n",
       "4    일정   118    80  198  0.404040  0.595960\n",
       "5    질문   117    78  195  0.400000  0.600000\n",
       "6    답변   106    55  161  0.341615  0.658385\n",
       "7    부탁   105    75  180  0.416667  0.583333\n",
       "8    맛집   100   287  387  0.741602  0.258398\n",
       "9    가족    95    20  115  0.173913  0.826087"
      ]
     },
     "execution_count": 199,
     "metadata": {},
     "output_type": "execute_result"
    }
   ],
   "source": [
    "df_mrg['빈도합'] = df_mrg['경주빈도'] + df_mrg['전주빈도']\n",
    "df_mrg['전주비율'] = df_mrg['전주빈도'] / df_mrg['빈도합']\n",
    "df_mrg['경주비율'] = df_mrg['경주빈도'] / df_mrg['빈도합']\n",
    "df_mrg.head(10)"
   ]
  },
  {
   "cell_type": "code",
   "execution_count": 200,
   "id": "7fac0461",
   "metadata": {},
   "outputs": [
    {
     "data": {
      "text/html": [
       "<div>\n",
       "<style scoped>\n",
       "    .dataframe tbody tr th:only-of-type {\n",
       "        vertical-align: middle;\n",
       "    }\n",
       "\n",
       "    .dataframe tbody tr th {\n",
       "        vertical-align: top;\n",
       "    }\n",
       "\n",
       "    .dataframe thead th {\n",
       "        text-align: right;\n",
       "    }\n",
       "</style>\n",
       "<table border=\"1\" class=\"dataframe\">\n",
       "  <thead>\n",
       "    <tr style=\"text-align: right;\">\n",
       "      <th></th>\n",
       "      <th>token</th>\n",
       "      <th>경주빈도</th>\n",
       "      <th>전주빈도</th>\n",
       "      <th>빈도합</th>\n",
       "      <th>전주비율</th>\n",
       "      <th>경주비율</th>\n",
       "    </tr>\n",
       "  </thead>\n",
       "  <tbody>\n",
       "    <tr>\n",
       "      <th>0</th>\n",
       "      <td>코스</td>\n",
       "      <td>449</td>\n",
       "      <td>481</td>\n",
       "      <td>930</td>\n",
       "      <td>0.517204</td>\n",
       "      <td>0.482796</td>\n",
       "    </tr>\n",
       "    <tr>\n",
       "      <th>1</th>\n",
       "      <td>추천</td>\n",
       "      <td>397</td>\n",
       "      <td>301</td>\n",
       "      <td>698</td>\n",
       "      <td>0.431232</td>\n",
       "      <td>0.568768</td>\n",
       "    </tr>\n",
       "    <tr>\n",
       "      <th>8</th>\n",
       "      <td>맛집</td>\n",
       "      <td>100</td>\n",
       "      <td>287</td>\n",
       "      <td>387</td>\n",
       "      <td>0.741602</td>\n",
       "      <td>0.258398</td>\n",
       "    </tr>\n",
       "    <tr>\n",
       "      <th>466</th>\n",
       "      <td>여수</td>\n",
       "      <td>0</td>\n",
       "      <td>349</td>\n",
       "      <td>349</td>\n",
       "      <td>1.000000</td>\n",
       "      <td>0.000000</td>\n",
       "    </tr>\n",
       "    <tr>\n",
       "      <th>467</th>\n",
       "      <td>주달</td>\n",
       "      <td>0</td>\n",
       "      <td>304</td>\n",
       "      <td>304</td>\n",
       "      <td>1.000000</td>\n",
       "      <td>0.000000</td>\n",
       "    </tr>\n",
       "    <tr>\n",
       "      <th>...</th>\n",
       "      <td>...</td>\n",
       "      <td>...</td>\n",
       "      <td>...</td>\n",
       "      <td>...</td>\n",
       "      <td>...</td>\n",
       "      <td>...</td>\n",
       "    </tr>\n",
       "    <tr>\n",
       "      <th>459</th>\n",
       "      <td>운행</td>\n",
       "      <td>1</td>\n",
       "      <td>0</td>\n",
       "      <td>1</td>\n",
       "      <td>0.000000</td>\n",
       "      <td>1.000000</td>\n",
       "    </tr>\n",
       "    <tr>\n",
       "      <th>461</th>\n",
       "      <td>전용</td>\n",
       "      <td>1</td>\n",
       "      <td>0</td>\n",
       "      <td>1</td>\n",
       "      <td>0.000000</td>\n",
       "      <td>1.000000</td>\n",
       "    </tr>\n",
       "    <tr>\n",
       "      <th>462</th>\n",
       "      <td>제한</td>\n",
       "      <td>1</td>\n",
       "      <td>0</td>\n",
       "      <td>1</td>\n",
       "      <td>0.000000</td>\n",
       "      <td>1.000000</td>\n",
       "    </tr>\n",
       "    <tr>\n",
       "      <th>463</th>\n",
       "      <td>차선</td>\n",
       "      <td>1</td>\n",
       "      <td>0</td>\n",
       "      <td>1</td>\n",
       "      <td>0.000000</td>\n",
       "      <td>1.000000</td>\n",
       "    </tr>\n",
       "    <tr>\n",
       "      <th>716</th>\n",
       "      <td>패스</td>\n",
       "      <td>0</td>\n",
       "      <td>1</td>\n",
       "      <td>1</td>\n",
       "      <td>1.000000</td>\n",
       "      <td>0.000000</td>\n",
       "    </tr>\n",
       "  </tbody>\n",
       "</table>\n",
       "<p>717 rows × 6 columns</p>\n",
       "</div>"
      ],
      "text/plain": [
       "    token  경주빈도  전주빈도  빈도합      전주비율      경주비율\n",
       "0      코스   449   481  930  0.517204  0.482796\n",
       "1      추천   397   301  698  0.431232  0.568768\n",
       "8      맛집   100   287  387  0.741602  0.258398\n",
       "466    여수     0   349  349  1.000000  0.000000\n",
       "467    주달     0   304  304  1.000000  0.000000\n",
       "..    ...   ...   ...  ...       ...       ...\n",
       "459    운행     1     0    1  0.000000  1.000000\n",
       "461    전용     1     0    1  0.000000  1.000000\n",
       "462    제한     1     0    1  0.000000  1.000000\n",
       "463    차선     1     0    1  0.000000  1.000000\n",
       "716    패스     0     1    1  1.000000  0.000000\n",
       "\n",
       "[717 rows x 6 columns]"
      ]
     },
     "execution_count": 200,
     "metadata": {},
     "output_type": "execute_result"
    }
   ],
   "source": [
    "df_mrg_srt = df_mrg.sort_values(by=['빈도합'], ascending=False)\n",
    "df_mrg_srt"
   ]
  },
  {
   "cell_type": "code",
   "execution_count": 201,
   "id": "386b2d86",
   "metadata": {},
   "outputs": [
    {
     "data": {
      "text/html": [
       "<div>\n",
       "<style scoped>\n",
       "    .dataframe tbody tr th:only-of-type {\n",
       "        vertical-align: middle;\n",
       "    }\n",
       "\n",
       "    .dataframe tbody tr th {\n",
       "        vertical-align: top;\n",
       "    }\n",
       "\n",
       "    .dataframe thead th {\n",
       "        text-align: right;\n",
       "    }\n",
       "</style>\n",
       "<table border=\"1\" class=\"dataframe\">\n",
       "  <thead>\n",
       "    <tr style=\"text-align: right;\">\n",
       "      <th></th>\n",
       "      <th>token</th>\n",
       "      <th>경주빈도</th>\n",
       "      <th>전주빈도</th>\n",
       "      <th>빈도합</th>\n",
       "      <th>전주비율</th>\n",
       "      <th>경주비율</th>\n",
       "    </tr>\n",
       "  </thead>\n",
       "  <tbody>\n",
       "    <tr>\n",
       "      <th>0</th>\n",
       "      <td>코스</td>\n",
       "      <td>449</td>\n",
       "      <td>481</td>\n",
       "      <td>930</td>\n",
       "      <td>51.72%</td>\n",
       "      <td>48.28%</td>\n",
       "    </tr>\n",
       "    <tr>\n",
       "      <th>1</th>\n",
       "      <td>추천</td>\n",
       "      <td>397</td>\n",
       "      <td>301</td>\n",
       "      <td>698</td>\n",
       "      <td>43.12%</td>\n",
       "      <td>56.88%</td>\n",
       "    </tr>\n",
       "    <tr>\n",
       "      <th>8</th>\n",
       "      <td>맛집</td>\n",
       "      <td>100</td>\n",
       "      <td>287</td>\n",
       "      <td>387</td>\n",
       "      <td>74.16%</td>\n",
       "      <td>25.84%</td>\n",
       "    </tr>\n",
       "    <tr>\n",
       "      <th>466</th>\n",
       "      <td>여수</td>\n",
       "      <td>0</td>\n",
       "      <td>349</td>\n",
       "      <td>349</td>\n",
       "      <td>100.00%</td>\n",
       "      <td>0.00%</td>\n",
       "    </tr>\n",
       "    <tr>\n",
       "      <th>467</th>\n",
       "      <td>주달</td>\n",
       "      <td>0</td>\n",
       "      <td>304</td>\n",
       "      <td>304</td>\n",
       "      <td>100.00%</td>\n",
       "      <td>0.00%</td>\n",
       "    </tr>\n",
       "    <tr>\n",
       "      <th>...</th>\n",
       "      <td>...</td>\n",
       "      <td>...</td>\n",
       "      <td>...</td>\n",
       "      <td>...</td>\n",
       "      <td>...</td>\n",
       "      <td>...</td>\n",
       "    </tr>\n",
       "    <tr>\n",
       "      <th>459</th>\n",
       "      <td>운행</td>\n",
       "      <td>1</td>\n",
       "      <td>0</td>\n",
       "      <td>1</td>\n",
       "      <td>0.00%</td>\n",
       "      <td>100.00%</td>\n",
       "    </tr>\n",
       "    <tr>\n",
       "      <th>461</th>\n",
       "      <td>전용</td>\n",
       "      <td>1</td>\n",
       "      <td>0</td>\n",
       "      <td>1</td>\n",
       "      <td>0.00%</td>\n",
       "      <td>100.00%</td>\n",
       "    </tr>\n",
       "    <tr>\n",
       "      <th>462</th>\n",
       "      <td>제한</td>\n",
       "      <td>1</td>\n",
       "      <td>0</td>\n",
       "      <td>1</td>\n",
       "      <td>0.00%</td>\n",
       "      <td>100.00%</td>\n",
       "    </tr>\n",
       "    <tr>\n",
       "      <th>463</th>\n",
       "      <td>차선</td>\n",
       "      <td>1</td>\n",
       "      <td>0</td>\n",
       "      <td>1</td>\n",
       "      <td>0.00%</td>\n",
       "      <td>100.00%</td>\n",
       "    </tr>\n",
       "    <tr>\n",
       "      <th>716</th>\n",
       "      <td>패스</td>\n",
       "      <td>0</td>\n",
       "      <td>1</td>\n",
       "      <td>1</td>\n",
       "      <td>100.00%</td>\n",
       "      <td>0.00%</td>\n",
       "    </tr>\n",
       "  </tbody>\n",
       "</table>\n",
       "<p>717 rows × 6 columns</p>\n",
       "</div>"
      ],
      "text/plain": [
       "    token  경주빈도  전주빈도  빈도합     전주비율     경주비율\n",
       "0      코스   449   481  930   51.72%   48.28%\n",
       "1      추천   397   301  698   43.12%   56.88%\n",
       "8      맛집   100   287  387   74.16%   25.84%\n",
       "466    여수     0   349  349  100.00%    0.00%\n",
       "467    주달     0   304  304  100.00%    0.00%\n",
       "..    ...   ...   ...  ...      ...      ...\n",
       "459    운행     1     0    1    0.00%  100.00%\n",
       "461    전용     1     0    1    0.00%  100.00%\n",
       "462    제한     1     0    1    0.00%  100.00%\n",
       "463    차선     1     0    1    0.00%  100.00%\n",
       "716    패스     0     1    1  100.00%    0.00%\n",
       "\n",
       "[717 rows x 6 columns]"
      ]
     },
     "execution_count": 201,
     "metadata": {},
     "output_type": "execute_result"
    }
   ],
   "source": [
    "df_mrg_srt['전주비율'] = df_mrg_srt['전주비율'].apply(lambda x : \"{:.2%}\".format(x))\n",
    "df_mrg_srt['경주비율'] = df_mrg_srt['경주비율'].apply(lambda x : \"{:.2%}\".format(x))\n",
    "df_mrg_srt"
   ]
  },
  {
   "cell_type": "code",
   "execution_count": 202,
   "id": "175cd058",
   "metadata": {},
   "outputs": [
    {
     "data": {
      "text/html": [
       "<div>\n",
       "<style scoped>\n",
       "    .dataframe tbody tr th:only-of-type {\n",
       "        vertical-align: middle;\n",
       "    }\n",
       "\n",
       "    .dataframe tbody tr th {\n",
       "        vertical-align: top;\n",
       "    }\n",
       "\n",
       "    .dataframe thead th {\n",
       "        text-align: right;\n",
       "    }\n",
       "</style>\n",
       "<table border=\"1\" class=\"dataframe\">\n",
       "  <thead>\n",
       "    <tr style=\"text-align: right;\">\n",
       "      <th></th>\n",
       "      <th>token</th>\n",
       "      <th>경주빈도</th>\n",
       "      <th>전주빈도</th>\n",
       "      <th>빈도합</th>\n",
       "      <th>전주비율</th>\n",
       "      <th>경주비율</th>\n",
       "    </tr>\n",
       "  </thead>\n",
       "  <tbody>\n",
       "    <tr>\n",
       "      <th>0</th>\n",
       "      <td>코스</td>\n",
       "      <td>449</td>\n",
       "      <td>481</td>\n",
       "      <td>930</td>\n",
       "      <td>51.72%</td>\n",
       "      <td>48.28%</td>\n",
       "    </tr>\n",
       "    <tr>\n",
       "      <th>1</th>\n",
       "      <td>추천</td>\n",
       "      <td>397</td>\n",
       "      <td>301</td>\n",
       "      <td>698</td>\n",
       "      <td>43.12%</td>\n",
       "      <td>56.88%</td>\n",
       "    </tr>\n",
       "    <tr>\n",
       "      <th>2</th>\n",
       "      <td>맛집</td>\n",
       "      <td>100</td>\n",
       "      <td>287</td>\n",
       "      <td>387</td>\n",
       "      <td>74.16%</td>\n",
       "      <td>25.84%</td>\n",
       "    </tr>\n",
       "    <tr>\n",
       "      <th>3</th>\n",
       "      <td>여수</td>\n",
       "      <td>0</td>\n",
       "      <td>349</td>\n",
       "      <td>349</td>\n",
       "      <td>100.00%</td>\n",
       "      <td>0.00%</td>\n",
       "    </tr>\n",
       "    <tr>\n",
       "      <th>4</th>\n",
       "      <td>주달</td>\n",
       "      <td>0</td>\n",
       "      <td>304</td>\n",
       "      <td>304</td>\n",
       "      <td>100.00%</td>\n",
       "      <td>0.00%</td>\n",
       "    </tr>\n",
       "    <tr>\n",
       "      <th>...</th>\n",
       "      <td>...</td>\n",
       "      <td>...</td>\n",
       "      <td>...</td>\n",
       "      <td>...</td>\n",
       "      <td>...</td>\n",
       "      <td>...</td>\n",
       "    </tr>\n",
       "    <tr>\n",
       "      <th>712</th>\n",
       "      <td>운행</td>\n",
       "      <td>1</td>\n",
       "      <td>0</td>\n",
       "      <td>1</td>\n",
       "      <td>0.00%</td>\n",
       "      <td>100.00%</td>\n",
       "    </tr>\n",
       "    <tr>\n",
       "      <th>713</th>\n",
       "      <td>전용</td>\n",
       "      <td>1</td>\n",
       "      <td>0</td>\n",
       "      <td>1</td>\n",
       "      <td>0.00%</td>\n",
       "      <td>100.00%</td>\n",
       "    </tr>\n",
       "    <tr>\n",
       "      <th>714</th>\n",
       "      <td>제한</td>\n",
       "      <td>1</td>\n",
       "      <td>0</td>\n",
       "      <td>1</td>\n",
       "      <td>0.00%</td>\n",
       "      <td>100.00%</td>\n",
       "    </tr>\n",
       "    <tr>\n",
       "      <th>715</th>\n",
       "      <td>차선</td>\n",
       "      <td>1</td>\n",
       "      <td>0</td>\n",
       "      <td>1</td>\n",
       "      <td>0.00%</td>\n",
       "      <td>100.00%</td>\n",
       "    </tr>\n",
       "    <tr>\n",
       "      <th>716</th>\n",
       "      <td>패스</td>\n",
       "      <td>0</td>\n",
       "      <td>1</td>\n",
       "      <td>1</td>\n",
       "      <td>100.00%</td>\n",
       "      <td>0.00%</td>\n",
       "    </tr>\n",
       "  </tbody>\n",
       "</table>\n",
       "<p>717 rows × 6 columns</p>\n",
       "</div>"
      ],
      "text/plain": [
       "    token  경주빈도  전주빈도  빈도합     전주비율     경주비율\n",
       "0      코스   449   481  930   51.72%   48.28%\n",
       "1      추천   397   301  698   43.12%   56.88%\n",
       "2      맛집   100   287  387   74.16%   25.84%\n",
       "3      여수     0   349  349  100.00%    0.00%\n",
       "4      주달     0   304  304  100.00%    0.00%\n",
       "..    ...   ...   ...  ...      ...      ...\n",
       "712    운행     1     0    1    0.00%  100.00%\n",
       "713    전용     1     0    1    0.00%  100.00%\n",
       "714    제한     1     0    1    0.00%  100.00%\n",
       "715    차선     1     0    1    0.00%  100.00%\n",
       "716    패스     0     1    1  100.00%    0.00%\n",
       "\n",
       "[717 rows x 6 columns]"
      ]
     },
     "execution_count": 202,
     "metadata": {},
     "output_type": "execute_result"
    }
   ],
   "source": [
    "df_mrg_srt.reset_index(drop=True, inplace=True)\n",
    "df_mrg_srt"
   ]
  },
  {
   "cell_type": "code",
   "execution_count": 203,
   "id": "a0a199b6",
   "metadata": {},
   "outputs": [],
   "source": [
    "df_mrg_srt.to_csv('data/naver_kin_pos_nouns_count.txt', sep='\\t')"
   ]
  },
  {
   "cell_type": "markdown",
   "id": "50dc44c1",
   "metadata": {},
   "source": [
    "# 5. 빈도 시각화(워드클라우드, Text)"
   ]
  },
  {
   "cell_type": "code",
   "execution_count": 204,
   "id": "ddd5c869",
   "metadata": {},
   "outputs": [
    {
     "name": "stdout",
     "output_type": "stream",
     "text": [
      "(14078, 3)\n"
     ]
    },
    {
     "data": {
      "text/html": [
       "<div>\n",
       "<style scoped>\n",
       "    .dataframe tbody tr th:only-of-type {\n",
       "        vertical-align: middle;\n",
       "    }\n",
       "\n",
       "    .dataframe tbody tr th {\n",
       "        vertical-align: top;\n",
       "    }\n",
       "\n",
       "    .dataframe thead th {\n",
       "        text-align: right;\n",
       "    }\n",
       "</style>\n",
       "<table border=\"1\" class=\"dataframe\">\n",
       "  <thead>\n",
       "    <tr style=\"text-align: right;\">\n",
       "      <th></th>\n",
       "      <th>query</th>\n",
       "      <th>token</th>\n",
       "      <th>pos</th>\n",
       "    </tr>\n",
       "  </thead>\n",
       "  <tbody>\n",
       "    <tr>\n",
       "      <th>0</th>\n",
       "      <td>전주 여행</td>\n",
       "      <td>추천</td>\n",
       "      <td>NNG</td>\n",
       "    </tr>\n",
       "    <tr>\n",
       "      <th>3000</th>\n",
       "      <td>전주 여행</td>\n",
       "      <td>시간</td>\n",
       "      <td>NNG</td>\n",
       "    </tr>\n",
       "    <tr>\n",
       "      <th>6000</th>\n",
       "      <td>전주 여행</td>\n",
       "      <td>실내</td>\n",
       "      <td>NNG</td>\n",
       "    </tr>\n",
       "    <tr>\n",
       "      <th>9000</th>\n",
       "      <td>경주 여행</td>\n",
       "      <td>예약</td>\n",
       "      <td>NNG</td>\n",
       "    </tr>\n",
       "    <tr>\n",
       "      <th>12000</th>\n",
       "      <td>경주 여행</td>\n",
       "      <td>혼자</td>\n",
       "      <td>NNG</td>\n",
       "    </tr>\n",
       "  </tbody>\n",
       "</table>\n",
       "</div>"
      ],
      "text/plain": [
       "       query token  pos\n",
       "0      전주 여행    추천  NNG\n",
       "3000   전주 여행    시간  NNG\n",
       "6000   전주 여행    실내  NNG\n",
       "9000   경주 여행    예약  NNG\n",
       "12000  경주 여행    혼자  NNG"
      ]
     },
     "execution_count": 204,
     "metadata": {},
     "output_type": "execute_result"
    }
   ],
   "source": [
    "df_nouns = pd.read_csv('data/naver_kin_pos_nouns.csv', sep='\\t')\n",
    "print(df_nouns.shape)\n",
    "df_nouns.iloc[::3000]"
   ]
  },
  {
   "cell_type": "code",
   "execution_count": 168,
   "id": "108ad947",
   "metadata": {},
   "outputs": [
    {
     "data": {
      "text/plain": [
       "array(['NNG', 'NNP'], dtype=object)"
      ]
     },
     "execution_count": 168,
     "metadata": {},
     "output_type": "execute_result"
    }
   ],
   "source": [
    "df_nouns['pos'].unique()"
   ]
  },
  {
   "cell_type": "code",
   "execution_count": 205,
   "id": "54fb65ad",
   "metadata": {},
   "outputs": [
    {
     "name": "stdout",
     "output_type": "stream",
     "text": [
      "['추석', '추석', '생각', '서울', '버스']\n",
      "['추천', '추억', '다양', '체험', '감성']\n",
      "추석 추석 생각 서\n",
      "추천 추억 다양 체\n"
     ]
    }
   ],
   "source": [
    "df_gj_noun = df_nouns.loc[df_nouns['query']=='경주 여행','token'].to_list()\n",
    "df_jj_noun = df_nouns.loc[df_nouns['query']=='전주 여행','token'].to_list()\n",
    "print(df_gj_noun[:5])\n",
    "print(df_jj_noun[:5])\n",
    "gj = ' '.join(df_gj_noun)\n",
    "jj = ' '.join(df_jj_noun)\n",
    "print(gj[:10])\n",
    "print(jj[:10])"
   ]
  },
  {
   "cell_type": "code",
   "execution_count": 176,
   "id": "b7a0d3a6",
   "metadata": {},
   "outputs": [],
   "source": [
    "from wordcloud import WordCloud\n",
    "import matplotlib.pyplot as plt\n",
    "color_map = \"Blues\"\n",
    "font_path = 'data/NanumPenScript-Regular.ttf'"
   ]
  },
  {
   "cell_type": "code",
   "execution_count": 178,
   "id": "9dbdd8d0",
   "metadata": {},
   "outputs": [
    {
     "data": {
      "image/png": "[encoded data removed]",
      "text/plain": [
       "<Figure size 640x480 with 1 Axes>"
      ]
     },
     "metadata": {},
     "output_type": "display_data"
    }
   ],
   "source": [
    "import numpy as np\n",
    "from PIL import Image\n",
    "mask = np.array(Image.open('data/heart.jpg'))\n",
    "불용어 = set(['여행'])\n",
    "wordcloud = WordCloud(\n",
    "    background_color='white',\n",
    "    colormap=color_map,\n",
    "    collocations=True, # 특정단어가 자주 같이 나오면 같이 뿌려 ex황리단같은거는 같이\n",
    "    max_words=200,\n",
    "    max_font_size=200,\n",
    "    scale=2, # 이미지 크기의 비율(다운로드시 달라짐)\n",
    "    random_state=777,\n",
    "    font_path = font_path,\n",
    "    stopwords=불용어,\n",
    "    mask = mask,\n",
    "    contour_color='blue',\n",
    "    contour_width=1\n",
    ").generate(gj)\n",
    "plt.imshow(wordcloud, interpolation='bilinear')\n",
    "plt.axis('off')\n",
    "plt.show()"
   ]
  },
  {
   "cell_type": "code",
   "execution_count": 179,
   "id": "fb2dad68",
   "metadata": {},
   "outputs": [
    {
     "data": {
      "text/plain": [
       "<wordcloud.wordcloud.WordCloud at 0x274dab83250>"
      ]
     },
     "execution_count": 179,
     "metadata": {},
     "output_type": "execute_result"
    }
   ],
   "source": [
    "# 생성된 wordcloud 저장\n",
    "wordcloud.to_file('data/naver_kin_경주.jpg')"
   ]
  },
  {
   "cell_type": "code",
   "execution_count": 180,
   "id": "e6072109",
   "metadata": {},
   "outputs": [
    {
     "data": {
      "image/png": "[encoded data removed]",
      "text/plain": [
       "<Figure size 640x480 with 1 Axes>"
      ]
     },
     "metadata": {},
     "output_type": "display_data"
    }
   ],
   "source": [
    "import numpy as np\n",
    "from PIL import Image\n",
    "mask = np.array(Image.open('data/korea-house-black-fill.png'))\n",
    "불용어 = set(['여행'])\n",
    "wordcloud = WordCloud(\n",
    "    background_color='white',\n",
    "    colormap=color_map,\n",
    "    collocations=True, # 특정단어가 자주 같이 나오면 같이 뿌려 ex황리단같은거는 같이\n",
    "    max_words=200,\n",
    "    max_font_size=100,\n",
    "    scale=2, # 이미지 크기의 비율(다운로드시 달라짐)\n",
    "    random_state=777,\n",
    "    font_path = font_path,\n",
    "    stopwords=불용어,\n",
    "    mask = mask,\n",
    "    contour_color='blue',\n",
    "    contour_width=1\n",
    ").generate(jj)\n",
    "plt.imshow(wordcloud, interpolation='bilinear')\n",
    "plt.axis('off')\n",
    "plt.show()"
   ]
  },
  {
   "cell_type": "code",
   "execution_count": 181,
   "id": "7ae2529a",
   "metadata": {},
   "outputs": [
    {
     "data": {
      "text/plain": [
       "<wordcloud.wordcloud.WordCloud at 0x274db1ea950>"
      ]
     },
     "execution_count": 181,
     "metadata": {},
     "output_type": "execute_result"
    }
   ],
   "source": [
    "# 생성된 wordcloud 저장\n",
    "wordcloud.to_file('data/naver_kin_전주.jpg')"
   ]
  },
  {
   "cell_type": "markdown",
   "id": "06662128",
   "metadata": {},
   "source": [
    "# 6. Word2Vec"
   ]
  },
  {
   "cell_type": "code",
   "execution_count": null,
   "id": "34dd088a",
   "metadata": {},
   "outputs": [],
   "source": []
  },
  {
   "cell_type": "code",
   "execution_count": null,
   "id": "8845835e",
   "metadata": {},
   "outputs": [],
   "source": []
  },
  {
   "cell_type": "code",
   "execution_count": null,
   "id": "ee0bd373",
   "metadata": {},
   "outputs": [],
   "source": []
  }
 ],
 "metadata": {
  "kernelspec": {
   "display_name": "ml-dl-nlp",
   "language": "python",
   "name": "ml-dl-nlp"
  },
  "language_info": {
   "codemirror_mode": {
    "name": "ipython",
    "version": 3
   },
   "file_extension": ".py",
   "mimetype": "text/x-python",
   "name": "python",
   "nbconvert_exporter": "python",
   "pygments_lexer": "ipython3",
   "version": "3.10.18"
  },
  "toc": {
   "base_numbering": 1,
   "nav_menu": {},
   "number_sections": false,
   "sideBar": true,
   "skip_h1_title": false,
   "title_cell": "Table of Contents",
   "title_sidebar": "Contents",
   "toc_cell": false,
   "toc_position": {
    "height": "calc(100% - 180px)",
    "left": "10px",
    "top": "150px",
    "width": "165px"
   },
   "toc_section_display": true,
   "toc_window_display": true
  }
 },
 "nbformat": 4,
 "nbformat_minor": 5
}
