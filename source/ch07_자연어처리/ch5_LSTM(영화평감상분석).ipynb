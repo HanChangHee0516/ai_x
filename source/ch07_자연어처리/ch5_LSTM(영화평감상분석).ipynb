{
 "cells": [
  {
   "cell_type": "code",
   "execution_count": 1,
   "id": "32a0bdf5",
   "metadata": {},
   "outputs": [
    {
     "data": {
      "text/html": [
       "\n",
       "<style>\n",
       "div.container{width:90% !important;}\n",
       "div.cell.code_cell.rendered{width:100%;}\n",
       "div.input_prompt{padding:2px;}\n",
       "div.CodeMirror {font-family:Consolas; font-size:10pt;}\n",
       "div.text_cell_render.rendered_html{font-size:10pt;}\n",
       "div.output {font-size:10pt; font-weight:bold;}\n",
       "div.input {font-family:Consolas; font-size:10pt;}\n",
       "div.prompt {min-width:70px;}\n",
       "div#toc-wrapper{padding-top:120px;}\n",
       "div.text_cell_render ul li{font-size:11pt;padding:4px;}\n",
       "table.dataframe{font-size:10px;}\n",
       "</style>\n"
      ],
      "text/plain": [
       "<IPython.core.display.HTML object>"
      ]
     },
     "metadata": {},
     "output_type": "display_data"
    }
   ],
   "source": [
    "from IPython.display import display, HTML\n",
    "display(HTML(\"\"\"\n",
    "<style>\n",
    "div.container{width:90% !important;}\n",
    "div.cell.code_cell.rendered{width:100%;}\n",
    "div.input_prompt{padding:2px;}\n",
    "div.CodeMirror {font-family:Consolas; font-size:10pt;}\n",
    "div.text_cell_render.rendered_html{font-size:10pt;}\n",
    "div.output {font-size:10pt; font-weight:bold;}\n",
    "div.input {font-family:Consolas; font-size:10pt;}\n",
    "div.prompt {min-width:70px;}\n",
    "div#toc-wrapper{padding-top:120px;}\n",
    "div.text_cell_render ul li{font-size:11pt;padding:4px;}\n",
    "table.dataframe{font-size:10px;}\n",
    "</style>\n",
    "\"\"\"))"
   ]
  },
  {
   "cell_type": "markdown",
   "id": "3ebbbb92",
   "metadata": {},
   "source": [
    "**<font size='6' color='red'>ch5. LSTM/GRU</font>**\n",
    "- 5만 영화 감상평(독립변수) -> 부정/긍정(타켓변수)\n",
    "## 1. 패키지"
   ]
  },
  {
   "cell_type": "code",
   "execution_count": 2,
   "id": "468a522c",
   "metadata": {},
   "outputs": [],
   "source": [
    "import numpy as np\n",
    "from tensorflow.keras.datasets import imdb\n",
    "from tensorflow.keras.preprocessing.sequence import pad_sequences\n",
    "\n",
    "from tensorflow.keras.models import Sequential\n",
    "from tensorflow.keras.layers import Embedding, LSTM, Dense\n",
    "from time import time # 70.01.01 부터 현재까지의 밀리세컨\n",
    "\n",
    "from sklearn.metrics import confusion_matrix,f1_score,precision_score, recall_score"
   ]
  },
  {
   "cell_type": "markdown",
   "id": "1c269c26",
   "metadata": {},
   "source": [
    "## 2. 하이퍼 파라미터 설정(이 파라미터를 바꾸면 정확도나 학습 속도에 차이남)"
   ]
  },
  {
   "cell_type": "code",
   "execution_count": 30,
   "id": "25e3062c",
   "metadata": {},
   "outputs": [],
   "source": [
    "MY_WORDS = 10000  # imdb 데이터의 단어수\n",
    "MY_LENGTH = 80  # 영화평 단어수 80개만 독립변수\n",
    "MY_EMBED = 32   # embading layer의 결과 차원\n",
    "MY_HIDDEN = 64  # LSTM의 units 차원\n",
    "MY_EPOCH = 10  # 학습 수\n",
    "MY_BATCH = 200 # batch_size(fit시 매번 데이터를 가져오는 데이터)"
   ]
  },
  {
   "cell_type": "markdown",
   "id": "039b6b9e",
   "metadata": {},
   "source": [
    "## 3. 데이터 불러오기"
   ]
  },
  {
   "cell_type": "code",
   "execution_count": 4,
   "id": "81d81665",
   "metadata": {},
   "outputs": [],
   "source": [
    "(x_train, y_train), (x_test, y_test) = imdb.load_data(num_words=MY_WORDS)"
   ]
  },
  {
   "cell_type": "code",
   "execution_count": 5,
   "id": "3083c7f7",
   "metadata": {},
   "outputs": [
    {
     "name": "stdout",
     "output_type": "stream",
     "text": [
      "학습셋 입력변수 모양 :  (25000,)\n",
      "학습셋 타겟변수 모양 :  (25000,)\n",
      "학습셋 샘플 :  189\n",
      "학습셋 샘플 :  <class 'list'> [1, 194, 1153, 194, 8255, 78, 228, 5, 6, 1463, 4369, 5012, 134, 26, 4, 715, 8, 118, 1634, 14, 394, 20, 13, 119, 954, 189, 102, 5, 207, 110, 3103, 21, 14, 69, 188, 8, 30, 23, 7, 4, 249, 126, 93, 4, 114, 9, 2300, 1523, 5, 647, 4, 116, 9, 35, 8163, 4, 229, 9, 340, 1322, 4, 118, 9, 4, 130, 4901, 19, 4, 1002, 5, 89, 29, 952, 46, 37, 4, 455, 9, 45, 43, 38, 1543, 1905, 398, 4, 1649, 26, 6853, 5, 163, 11, 3215, 2, 4, 1153, 9, 194, 775, 7, 8255, 2, 349, 2637, 148, 605, 2, 8003, 15, 123, 125, 68, 2, 6853, 15, 349, 165, 4362, 98, 5, 4, 228, 9, 43, 2, 1157, 15, 299, 120, 5, 120, 174, 11, 220, 175, 136, 50, 9, 4373, 228, 8255, 5, 2, 656, 245, 2350, 5, 4, 9837, 131, 152, 491, 18, 2, 32, 7464, 1212, 14, 9, 6, 371, 78, 22, 625, 64, 1382, 9, 8, 168, 145, 23, 4, 1690, 15, 16, 4, 1355, 5, 28, 6, 52, 154, 462, 33, 89, 78, 285, 16, 145, 95] 0\n",
      "테스트셋 변수들 모양 :  (25000,) (25000,)\n"
     ]
    }
   ],
   "source": [
    "print('학습셋 입력변수 모양 : ', x_train.shape)\n",
    "print('학습셋 타겟변수 모양 : ', y_train.shape)\n",
    "print('학습셋 샘플 : ', len(x_train[1]))\n",
    "print('학습셋 샘플 : ', type(x_train[1]), x_train[1], y_train[1])\n",
    "print('테스트셋 변수들 모양 : ', x_test.shape, y_test.shape)"
   ]
  },
  {
   "cell_type": "code",
   "execution_count": 6,
   "id": "d4c7367a",
   "metadata": {
    "scrolled": true
   },
   "outputs": [
    {
     "name": "stdout",
     "output_type": "stream",
     "text": [
      "학습셋의 긍정 갯수 :  12500\n",
      "테스트셋의 긍정 갯수 :  12500\n"
     ]
    }
   ],
   "source": [
    "# 긍정/부정 갯수\n",
    "print('학습셋의 긍정 갯수 : ', y_train.sum())\n",
    "print('테스트셋의 긍정 갯수 : ', y_test.sum())"
   ]
  },
  {
   "cell_type": "markdown",
   "id": "403cb24a",
   "metadata": {},
   "source": [
    "## 4. 문자단어 -> 정수"
   ]
  },
  {
   "cell_type": "code",
   "execution_count": 7,
   "id": "24eed22b",
   "metadata": {},
   "outputs": [
    {
     "name": "stdout",
     "output_type": "stream",
     "text": [
      "17\n",
      "19\n",
      "16816\n",
      "3\n",
      "1\n",
      "the\n",
      "a\n",
      "and\n"
     ]
    }
   ],
   "source": [
    "word_to_id = imdb.get_word_index()  # {'word':id}\n",
    "print(word_to_id['movie'])\n",
    "print(word_to_id['film'])\n",
    "print(word_to_id['sonja'])\n",
    "print(word_to_id['a'])\n",
    "print(word_to_id['the'])\n",
    "# 정수 -> 문자 단어\n",
    "id_to_word = {}  # {1:'the', 3:'a', 16816:'sonja'}\n",
    "for word, value in word_to_id.items():\n",
    "    id_to_word[value] = word\n",
    "print(id_to_word[1])\n",
    "print(id_to_word[3])\n",
    "print(id_to_word[2])"
   ]
  },
  {
   "cell_type": "code",
   "execution_count": 8,
   "id": "d9e66ac5",
   "metadata": {},
   "outputs": [
    {
     "name": "stdout",
     "output_type": "stream",
     "text": [
      "원 후기 내용 :  ['what', 'a', 'wonderful', 'movie']\n",
      "encoded된 data :  [1, 51, 6, 389, 20]\n",
      "추정된 data :  ['???', 'what', 'a', 'wonderful', 'movie']\n",
      "추정된 data :  ??? what a wonderful movie\n"
     ]
    }
   ],
   "source": [
    "msg = 'What a wonderful movie'\n",
    "msg = msg.lower().split()\n",
    "# 1: 리뷰시작을 알리는 숫자, 2: 문자가 짤려서 잘 못 읽어옴, 3: padding처리\n",
    "data = [1] + [word_to_id.get(m, -1)+3 for m in msg]\n",
    "print('원 후기 내용 : ', msg)\n",
    "print('encoded된 data : ', data)\n",
    "print('추정된 data : ', [id_to_word.get(b-3, '???') for b in data])\n",
    "print('추정된 data : ', ' '.join([id_to_word.get(b-3, '???') for b in data]))"
   ]
  },
  {
   "cell_type": "markdown",
   "id": "ccc04467",
   "metadata": {},
   "source": [
    "## 5.숫자 영화평 -> 자연어 영화평 return 함수"
   ]
  },
  {
   "cell_type": "code",
   "execution_count": 9,
   "id": "c0061599",
   "metadata": {},
   "outputs": [],
   "source": [
    "def decoding(review_num):\n",
    "    decoded = [id_to_word.get(num-3, '???') for num in review_num]\n",
    "    return ' '.join(decoded)"
   ]
  },
  {
   "cell_type": "code",
   "execution_count": 10,
   "id": "c5962edd",
   "metadata": {},
   "outputs": [
    {
     "name": "stdout",
     "output_type": "stream",
     "text": [
      "??? big hair big boobs bad music and a giant safety pin these are the words to best describe this terrible movie i love cheesy horror movies and i've seen hundreds but this had got to be on of the worst ever made the plot is paper thin and ridiculous the acting is an abomination the script is completely laughable the best is the end showdown with the cop and how he worked out who the killer is it's just so damn terribly written the clothes are sickening and funny in equal ??? the hair is big lots of boobs ??? men wear those cut ??? shirts that show off their ??? sickening that men actually wore them and the music is just ??? trash that plays over and over again in almost every scene there is trashy music boobs and ??? taking away bodies and the gym still doesn't close for ??? all joking aside this is a truly bad film whose only charm is to look back on the disaster that was the 80's and have a good old laugh at how bad everything was back then 0\n"
     ]
    }
   ],
   "source": [
    "print(decoding(x_train[1]), y_train[1])"
   ]
  },
  {
   "cell_type": "markdown",
   "id": "37b394f0",
   "metadata": {},
   "source": [
    "## 6. 영화평(입력변수)의 길이"
   ]
  },
  {
   "cell_type": "code",
   "execution_count": 11,
   "id": "b66dcf4b",
   "metadata": {},
   "outputs": [],
   "source": [
    "def show_length(x_train):\n",
    "    print('첫 20개 영화평 길이')\n",
    "    print([len(x_data) for x_data in x_train[:20]])"
   ]
  },
  {
   "cell_type": "code",
   "execution_count": 12,
   "id": "2897082d",
   "metadata": {},
   "outputs": [
    {
     "name": "stdout",
     "output_type": "stream",
     "text": [
      "첫 20개 영화평 길이\n",
      "[218, 189, 141, 550, 147, 43, 123, 562, 233, 130, 450, 99, 117, 238, 109, 129, 163, 752, 212, 177]\n"
     ]
    }
   ],
   "source": [
    "# pad_sequence 전\n",
    "show_length(x_train)"
   ]
  },
  {
   "cell_type": "code",
   "execution_count": 13,
   "id": "a3c0da16",
   "metadata": {},
   "outputs": [
    {
     "name": "stdout",
     "output_type": "stream",
     "text": [
      "제일 긴 영화평 단어 길이 :  2494\n",
      "제일 짧은 영화평 단어 길이 :  11\n",
      "영화평 단어 길이 중위수 :  178.0\n"
     ]
    }
   ],
   "source": [
    "print('제일 긴 영화평 단어 길이 : ', \n",
    "     max(len(x_data) for x_data in x_train))\n",
    "print('제일 짧은 영화평 단어 길이 : ', \n",
    "     min(len(x_data) for x_data in x_train))\n",
    "print('영화평 단어 길이 중위수 : ',\n",
    "     np.median([len(x_data) for x_data in x_train]))"
   ]
  },
  {
   "cell_type": "markdown",
   "id": "e762f5bc",
   "metadata": {},
   "source": [
    "## 7. 모든 영화평 길이를 동일하게 (80)"
   ]
  },
  {
   "cell_type": "code",
   "execution_count": 14,
   "id": "01bb4b5e",
   "metadata": {},
   "outputs": [
    {
     "name": "stdout",
     "output_type": "stream",
     "text": [
      "첫 20개 영화평 길이\n",
      "[80, 80, 80, 80, 80, 80, 80, 80, 80, 80, 80, 80, 80, 80, 80, 80, 80, 80, 80, 80]\n",
      "첫 20개 영화평 길이\n",
      "[80, 80, 80, 80, 80, 80, 80, 80, 80, 80, 80, 80, 80, 80, 80, 80, 80, 80, 80, 80]\n"
     ]
    },
    {
     "data": {
      "text/plain": [
       "(None, None)"
      ]
     },
     "execution_count": 14,
     "metadata": {},
     "output_type": "execute_result"
    }
   ],
   "source": [
    "X_train = pad_sequences(x_train,\n",
    "                       padding='pre',\n",
    "                       truncating='pre',  # 뒷부분을 짜르고 앞 부분을 남김 / 'pre' : 앞 부분을 짜르고 뒷 부분을 남김\n",
    "                       maxlen=MY_LENGTH)\n",
    "X_test = pad_sequences(x_test,\n",
    "                      padding='pre',\n",
    "                      truncating='pre',\n",
    "                      maxlen=MY_LENGTH)\n",
    "show_length(X_train), show_length(X_test)"
   ]
  },
  {
   "cell_type": "markdown",
   "id": "ca4d8c97",
   "metadata": {},
   "source": [
    "## 8. 최종 데이터 shape확인"
   ]
  },
  {
   "cell_type": "code",
   "execution_count": 15,
   "id": "2f4f73bc",
   "metadata": {},
   "outputs": [
    {
     "data": {
      "text/plain": [
       "((25000, 80), (25000,), (25000, 80), (25000,))"
      ]
     },
     "execution_count": 15,
     "metadata": {},
     "output_type": "execute_result"
    }
   ],
   "source": [
    "X_train.shape, y_train.shape, X_test.shape, y_test.shape"
   ]
  },
  {
   "cell_type": "code",
   "execution_count": 16,
   "id": "3ecbdc25",
   "metadata": {},
   "outputs": [
    {
     "name": "stdout",
     "output_type": "stream",
     "text": [
      "[1, 14, 22, 16, 43, 530, 973, 1622, 1385, 65, 458, 4468, 66, 3941, 4, 173, 36, 256, 5, 25, 100, 43, 838, 112, 50, 670, 2, 9, 35, 480, 284, 5, 150, 4, 172, 112, 167, 2, 336, 385, 39, 4, 172, 4536, 1111, 17, 546, 38, 13, 447, 4, 192, 50, 16, 6, 147, 2025, 19, 14, 22, 4, 1920, 4613, 469, 4, 22, 71, 87, 12, 16, 43, 530, 38, 76, 15, 13, 1247, 4, 22, 17, 515, 17, 12, 16, 626, 18, 2, 5, 62, 386, 12, 8, 316, 8, 106, 5, 4, 2223, 5244, 16, 480, 66, 3785, 33, 4, 130, 12, 16, 38, 619, 5, 25, 124, 51, 36, 135, 48, 25, 1415, 33, 6, 22, 12, 215, 28, 77, 52, 5, 14, 407, 16, 82, 2, 8, 4, 107, 117, 5952, 15, 256, 4, 2, 7, 3766, 5, 723, 36, 71, 43, 530, 476, 26, 400, 317, 46, 7, 4, 2, 1029, 13, 104, 88, 4, 381, 15, 297, 98, 32, 2071, 56, 26, 141, 6, 194, 7486, 18, 4, 226, 22, 21, 134, 476, 26, 480, 5, 144, 30, 5535, 18, 51, 36, 28, 224, 92, 25, 104, 4, 226, 65, 16, 38, 1334, 88, 12, 16, 283, 5, 16, 4472, 113, 103, 32, 15, 16, 5345, 19, 178, 32]\n"
     ]
    }
   ],
   "source": [
    "print(x_train[0])"
   ]
  },
  {
   "cell_type": "code",
   "execution_count": 17,
   "id": "1c51d6a5",
   "metadata": {},
   "outputs": [
    {
     "data": {
      "text/plain": [
       "array([  15,  256,    4,    2,    7, 3766,    5,  723,   36,   71,   43,\n",
       "        530,  476,   26,  400,  317,   46,    7,    4,    2, 1029,   13,\n",
       "        104,   88,    4,  381,   15,  297,   98,   32, 2071,   56,   26,\n",
       "        141,    6,  194, 7486,   18,    4,  226,   22,   21,  134,  476,\n",
       "         26,  480,    5,  144,   30, 5535,   18,   51,   36,   28,  224,\n",
       "         92,   25,  104,    4,  226,   65,   16,   38, 1334,   88,   12,\n",
       "         16,  283,    5,   16, 4472,  113,  103,   32,   15,   16, 5345,\n",
       "         19,  178,   32])"
      ]
     },
     "execution_count": 17,
     "metadata": {},
     "output_type": "execute_result"
    }
   ],
   "source": [
    "X_train[0]"
   ]
  },
  {
   "cell_type": "markdown",
   "id": "67d5df54",
   "metadata": {},
   "source": [
    "## 9. 모델  생성"
   ]
  },
  {
   "cell_type": "code",
   "execution_count": 18,
   "id": "6858e2fc",
   "metadata": {},
   "outputs": [
    {
     "name": "stdout",
     "output_type": "stream",
     "text": [
      "Model: \"sequential\"\n",
      "_________________________________________________________________\n",
      " Layer (type)                Output Shape              Param #   \n",
      "=================================================================\n",
      " embedding (Embedding)       (None, 80, 32)            320000    \n",
      "                                                                 \n",
      " lstm (LSTM)                 (None, 64)                24832     \n",
      "                                                                 \n",
      " dense (Dense)               (None, 1)                 65        \n",
      "                                                                 \n",
      "=================================================================\n",
      "Total params: 344,897\n",
      "Trainable params: 344,897\n",
      "Non-trainable params: 0\n",
      "_________________________________________________________________\n"
     ]
    }
   ],
   "source": [
    "model = Sequential()\n",
    "model.add(Embedding(input_dim=MY_WORDS,  # 10000\n",
    "                   output_dim=MY_EMBED,  # 32\n",
    "                   input_length=MY_LENGTH,  # 80\n",
    "                   ))\n",
    "# RNN : 입력 단어의 길이 수가 너무 길면 파라미터 업데이트 안 됨\n",
    "# 개선모델 1. LSTM | 개선모델 2. GRU\n",
    "model.add(LSTM(units=MY_HIDDEN,\n",
    "              input_shape=(MY_LENGTH, MY_EMBED)))\n",
    "model.add(Dense(units=1, activation='sigmoid'))\n",
    "model.summary()"
   ]
  },
  {
   "cell_type": "markdown",
   "id": "2451e764",
   "metadata": {},
   "source": [
    "## 10. 학습환경 설정 및 학습하기"
   ]
  },
  {
   "cell_type": "code",
   "execution_count": 19,
   "id": "9026b638",
   "metadata": {},
   "outputs": [],
   "source": [
    "model.compile(loss='binary_crossentropy',  # 이진분류시 손실함수\n",
    "             optimizer='adam',\n",
    "             metrics=['acc'])\n",
    "begin = time() # 70.1.1부터 현재까지의 세컨\n",
    "print(begin)\n",
    "hist = model.fit(X_train, y_train,\n",
    "                epochs=MY_EPOCH,\n",
    "                batch_size=MY_BATCH,\n",
    "                validation_split=0.2,\n",
    "                verbose=1)\n",
    "end = time()\n",
    "print('총 학습 시간 : ', (end-begin))"
   ]
  },
  {
   "cell_type": "code",
   "execution_count": 20,
   "id": "8ab7f27c",
   "metadata": {},
   "outputs": [
    {
     "ename": "NameError",
     "evalue": "name 'hist' is not defined",
     "output_type": "error",
     "traceback": [
      "\u001b[1;31m---------------------------------------------------------------------------\u001b[0m",
      "\u001b[1;31mNameError\u001b[0m                                 Traceback (most recent call last)",
      "Cell \u001b[1;32mIn[20], line 1\u001b[0m\n\u001b[1;32m----> 1\u001b[0m \u001b[43mhist\u001b[49m\u001b[38;5;241m.\u001b[39mhistory\u001b[38;5;241m.\u001b[39mkeys()\n",
      "\u001b[1;31mNameError\u001b[0m: name 'hist' is not defined"
     ]
    }
   ],
   "source": [
    "hist.history.keys()"
   ]
  },
  {
   "cell_type": "code",
   "execution_count": null,
   "id": "4ef7beaa",
   "metadata": {
    "scrolled": true
   },
   "outputs": [],
   "source": [
    "import matplotlib.pyplot as plt\n",
    "fig, loss_ax = plt.subplots(figsize=(12,6))\n",
    "loss_ax.plot(hist.history['loss'], 'y', label='train loss')\n",
    "loss_ax.plot(hist.history['val_loss'], 'r', label='val loss')\n",
    "acc_ax = loss_ax.twinx()\n",
    "acc_ax.plot(hist.history['acc'], 'g', label='train accuracy')\n",
    "acc_ax.plot(hist.history['val_acc'], 'b', label='val accuracy')\n",
    "loss_ax.set_xlabel('epochs')\n",
    "loss_ax.set_ylabel('loss')\n",
    "acc_ax.set_ylabel('accuracy')\n",
    "loss_ax.legend(loc='center right')\n",
    "acc_ax.legend(loc='upper left')\n",
    "plt.show()"
   ]
  },
  {
   "cell_type": "markdown",
   "id": "5297b45c",
   "metadata": {},
   "source": [
    "## 11. 모델 평가"
   ]
  },
  {
   "cell_type": "code",
   "execution_count": null,
   "id": "49138c6f",
   "metadata": {},
   "outputs": [],
   "source": [
    "# pad_sequences 'post' : 75.6%\n",
    "# pad_sequences 'pre' : 80.1%\n",
    "loss, acc = model.evaluate(X_test, y_test)\n",
    "print('정확도 : ', acc)"
   ]
  },
  {
   "cell_type": "code",
   "execution_count": null,
   "id": "63e91c39",
   "metadata": {},
   "outputs": [],
   "source": [
    "# 혼동행렬, recall, precision을 위한 yhat\n",
    "yhat = (model.predict(X_test, verbose=0) > 0.5).astype(np.int16).reshape(-1)\n",
    "yhat"
   ]
  },
  {
   "cell_type": "code",
   "execution_count": null,
   "id": "6ce8fcd8",
   "metadata": {},
   "outputs": [],
   "source": [
    "# 혼동행렬\n",
    "confusion_matrix(y_test, yhat)"
   ]
  },
  {
   "cell_type": "code",
   "execution_count": null,
   "id": "dc8c52b0",
   "metadata": {},
   "outputs": [],
   "source": [
    "# recall ( 실제 True인 것 중 True로 예측한 비율) 9853 /  ( 2647+9853)\n",
    "recall_score(y_test, yhat)"
   ]
  },
  {
   "cell_type": "code",
   "execution_count": null,
   "id": "2757df40",
   "metadata": {},
   "outputs": [],
   "source": [
    "# precision(True로 예측한 것 중 실제값이 True인 비율) 9853 / (2307+9853)\n",
    "precision_score(y_test, yhat)"
   ]
  },
  {
   "cell_type": "markdown",
   "id": "ae0b4d56",
   "metadata": {},
   "source": [
    "## 12. 모델 사용하기"
   ]
  },
  {
   "cell_type": "code",
   "execution_count": 39,
   "id": "5009933a",
   "metadata": {},
   "outputs": [
    {
     "name": "stdout",
     "output_type": "stream",
     "text": [
      "[1, 14, 16, 2070, 31, 7, 148, 1281, 108, 121, 13, 340, 416, 1406, 7, 58, 11, 4, 750, 2721, 13, 873, 12, 8, 794, 6, 727, 769, 21, 39, 4, '???', '???', 4, 114, 828, '???', 61, 1398, 1895, 72, 1562, 3953, 366, 4, 55, 130, 4, 354, 34, 4, 485, 156, 71, 572, 1159, 36, 1319, 8, 2833, 60, 4, 91, 1302, 921, 6902, 19, 1739, '???', 4, 627, 5, 816, 82, '???', 4, 65, 950, 8703, '???', 4, 444, '???', 585, 51, 13, 2525, 91, 16, 89, 4, 22, '???', 11, 61, 2334, 196, 103, 1200, 4, 750, 12, '???', 958, 7, 3958, 19, 369, 5, 13, 258, 546, 1786, 8, 106, 12, 174, 198, 89, 2349, 4, 585, 16, 45, 4, 243, 7, 20, 15, 495, 199, 17, 641, 722, 5, 17, 142, 15, 408, 25, 958, 8, 104, 44, 474, 407, 386, 12, 8, 6, 1876, 311] 152\n"
     ]
    }
   ],
   "source": [
    "review = \"\"\"This was genuinely one of those rare films where I completely lost track of time in the theater. \n",
    "Initially, I expected it to follow a predictable storyline, \n",
    "but from the midpoint onward, the plot kept subverting my expectations, keeping me thoroughly engaged until the very end.\n",
    "The performances by the lead actors were particularly impressive. \n",
    "They managed to convey even the most subtle emotional nuances with remarkable naturalness. \n",
    "The cinematography and soundtrack also complemented the story perfectly, significantly enhancing the overall immersive experience.\n",
    "What I appreciated most was how the film lingered in my thoughts long after leaving the theater. \n",
    "It sparked plenty of conversations with friends, and I found myself wanting to watch it again – that's how satisfying the experience was.\n",
    "It's the kind of movie that works both as light entertainment and as something that gives you plenty to think about. \n",
    "I'd definitely recommend it to a wide audience!~!@#$%^&\n",
    "\"\"\".lower()\n",
    "import re\n",
    "review = re.sub('[^a-zA-Z\\'\\s]', '', review)\n",
    "#print('영화평(특수문자 제외) : ', review)\n",
    "review = review.split()  # 단어 list\n",
    "review = [1] + [word_to_id.get(word, -1)+3 if word_to_id.get(word, -1) < 10000 else '???' for word in review]\n",
    "print(review, len(review))"
   ]
  },
  {
   "cell_type": "code",
   "execution_count": 40,
   "id": "9e3b22c0",
   "metadata": {},
   "outputs": [
    {
     "ename": "ValueError",
     "evalue": "invalid literal for int() with base 10: '???'",
     "output_type": "error",
     "traceback": [
      "\u001b[1;31m---------------------------------------------------------------------------\u001b[0m",
      "\u001b[1;31mValueError\u001b[0m                                Traceback (most recent call last)",
      "Cell \u001b[1;32mIn[40], line 1\u001b[0m\n\u001b[1;32m----> 1\u001b[0m input_data \u001b[38;5;241m=\u001b[39m \u001b[43mpad_sequences\u001b[49m\u001b[43m(\u001b[49m\u001b[43m[\u001b[49m\u001b[43mreview\u001b[49m\u001b[43m]\u001b[49m\u001b[43m,\u001b[49m\n\u001b[0;32m      2\u001b[0m \u001b[43m                      \u001b[49m\u001b[43mpadding\u001b[49m\u001b[38;5;241;43m=\u001b[39;49m\u001b[38;5;124;43m'\u001b[39;49m\u001b[38;5;124;43mpre\u001b[39;49m\u001b[38;5;124;43m'\u001b[39;49m\u001b[43m,\u001b[49m\n\u001b[0;32m      3\u001b[0m \u001b[43m                      \u001b[49m\u001b[43mtruncating\u001b[49m\u001b[38;5;241;43m=\u001b[39;49m\u001b[38;5;124;43m'\u001b[39;49m\u001b[38;5;124;43mpre\u001b[39;49m\u001b[38;5;124;43m'\u001b[39;49m\u001b[43m,\u001b[49m\n\u001b[0;32m      4\u001b[0m \u001b[43m                      \u001b[49m\u001b[43mmaxlen\u001b[49m\u001b[38;5;241;43m=\u001b[39;49m\u001b[43mMY_LENGTH\u001b[49m\u001b[43m)\u001b[49m\n\u001b[0;32m      5\u001b[0m input_data\n",
      "File \u001b[1;32m~\\anaconda3\\envs\\ml-dl-nlp\\lib\\site-packages\\keras\\utils\\data_utils.py:1078\u001b[0m, in \u001b[0;36mpad_sequences\u001b[1;34m(sequences, maxlen, dtype, padding, truncating, value)\u001b[0m\n\u001b[0;32m   1075\u001b[0m     \u001b[38;5;28;01mraise\u001b[39;00m \u001b[38;5;167;01mValueError\u001b[39;00m(\u001b[38;5;124mf\u001b[39m\u001b[38;5;124m'\u001b[39m\u001b[38;5;124mTruncating type \u001b[39m\u001b[38;5;124m\"\u001b[39m\u001b[38;5;132;01m{\u001b[39;00mtruncating\u001b[38;5;132;01m}\u001b[39;00m\u001b[38;5;124m\"\u001b[39m\u001b[38;5;124m not understood\u001b[39m\u001b[38;5;124m'\u001b[39m)\n\u001b[0;32m   1077\u001b[0m \u001b[38;5;66;03m# check `trunc` has expected shape\u001b[39;00m\n\u001b[1;32m-> 1078\u001b[0m trunc \u001b[38;5;241m=\u001b[39m \u001b[43mnp\u001b[49m\u001b[38;5;241;43m.\u001b[39;49m\u001b[43masarray\u001b[49m\u001b[43m(\u001b[49m\u001b[43mtrunc\u001b[49m\u001b[43m,\u001b[49m\u001b[43m \u001b[49m\u001b[43mdtype\u001b[49m\u001b[38;5;241;43m=\u001b[39;49m\u001b[43mdtype\u001b[49m\u001b[43m)\u001b[49m\n\u001b[0;32m   1079\u001b[0m \u001b[38;5;28;01mif\u001b[39;00m trunc\u001b[38;5;241m.\u001b[39mshape[\u001b[38;5;241m1\u001b[39m:] \u001b[38;5;241m!=\u001b[39m sample_shape:\n\u001b[0;32m   1080\u001b[0m     \u001b[38;5;28;01mraise\u001b[39;00m \u001b[38;5;167;01mValueError\u001b[39;00m(\n\u001b[0;32m   1081\u001b[0m         \u001b[38;5;124mf\u001b[39m\u001b[38;5;124m\"\u001b[39m\u001b[38;5;124mShape of sample \u001b[39m\u001b[38;5;132;01m{\u001b[39;00mtrunc\u001b[38;5;241m.\u001b[39mshape[\u001b[38;5;241m1\u001b[39m:]\u001b[38;5;132;01m}\u001b[39;00m\u001b[38;5;124m of sequence at \u001b[39m\u001b[38;5;124m\"\u001b[39m\n\u001b[0;32m   1082\u001b[0m         \u001b[38;5;124mf\u001b[39m\u001b[38;5;124m\"\u001b[39m\u001b[38;5;124mposition \u001b[39m\u001b[38;5;132;01m{\u001b[39;00midx\u001b[38;5;132;01m}\u001b[39;00m\u001b[38;5;124m is different from expected shape \u001b[39m\u001b[38;5;124m\"\u001b[39m\n\u001b[0;32m   1083\u001b[0m         \u001b[38;5;124mf\u001b[39m\u001b[38;5;124m\"\u001b[39m\u001b[38;5;132;01m{\u001b[39;00msample_shape\u001b[38;5;132;01m}\u001b[39;00m\u001b[38;5;124m\"\u001b[39m\n\u001b[0;32m   1084\u001b[0m     )\n",
      "\u001b[1;31mValueError\u001b[0m: invalid literal for int() with base 10: '???'"
     ]
    }
   ],
   "source": [
    "input_data = pad_sequences([review],\n",
    "                      padding='pre',\n",
    "                      truncating='pre',\n",
    "                      maxlen=MY_LENGTH)\n",
    "input_data"
   ]
  },
  {
   "cell_type": "code",
   "execution_count": 41,
   "id": "1874c046",
   "metadata": {},
   "outputs": [
    {
     "name": "stdout",
     "output_type": "stream",
     "text": [
      "1/1 [==============================] - 0s 25ms/step\n"
     ]
    },
    {
     "data": {
      "text/plain": [
       "array([0], dtype=int8)"
      ]
     },
     "execution_count": 41,
     "metadata": {},
     "output_type": "execute_result"
    }
   ],
   "source": [
    "result = (model.predict(input_data) > 0.5).astype('int8').reshape(-1)\n",
    "result"
   ]
  },
  {
   "cell_type": "code",
   "execution_count": null,
   "id": "baa0d9c7",
   "metadata": {},
   "outputs": [],
   "source": []
  },
  {
   "cell_type": "code",
   "execution_count": 36,
   "id": "cf7b7fa6",
   "metadata": {},
   "outputs": [
    {
     "name": "stdout",
     "output_type": "stream",
     "text": [
      "[1, 4, 20, 16, 66, 1127, 5, 13, 296, 12, 469, 4, 20, 1383, 12, 586, 130, 209, 149, 4, 5431, 13, 2303, 386, 12, 12, 16, 60, 53, 221, 536, 15, 12, 100, 593, 11, 147, 113, 4, 293, 109, 16, 2252, 5, 917, 73, 38, 61, 523, 71, 654, 5, 4, 65, 16, 253] 56\n"
     ]
    }
   ],
   "source": [
    "review = \"\"\"The movie was really exciting, \n",
    "and I watched it throughout the movie hoping it wouldn't end without \n",
    "watching the clock. I strongly recommend it. \n",
    "It was even more interesting thinking that it could happen in real life. \n",
    "The main character was handsome and acted well, so my eyes were happy, \n",
    "and the story was fun @_@ㅠ.ㅠ\"\"\".lower()\n",
    "import re\n",
    "review = re.sub('[^a-zA-Z\\'\\s]', '', review)\n",
    "review = review.split() # 단어 list\n",
    "review = [1] + [word_to_id.get(word, -1)+3 for word in review]\n",
    "print(review, len(review))"
   ]
  },
  {
   "cell_type": "code",
   "execution_count": 37,
   "id": "fa7078d2",
   "metadata": {},
   "outputs": [
    {
     "data": {
      "text/plain": [
       "array([[   0,    0,    0,    0,    0,    0,    0,    0,    0,    0,    0,\n",
       "           0,    0,    0,    0,    0,    0,    0,    0,    0,    0,    0,\n",
       "           0,    0,    1,    4,   20,   16,   66, 1127,    5,   13,  296,\n",
       "          12,  469,    4,   20, 1383,   12,  586,  130,  209,  149,    4,\n",
       "        5431,   13, 2303,  386,   12,   12,   16,   60,   53,  221,  536,\n",
       "          15,   12,  100,  593,   11,  147,  113,    4,  293,  109,   16,\n",
       "        2252,    5,  917,   73,   38,   61,  523,   71,  654,    5,    4,\n",
       "          65,   16,  253]])"
      ]
     },
     "execution_count": 37,
     "metadata": {},
     "output_type": "execute_result"
    }
   ],
   "source": [
    "input_data = pad_sequences([review],\n",
    "                      padding='pre',\n",
    "                      truncating='pre',\n",
    "                      maxlen=MY_LENGTH)\n",
    "input_data"
   ]
  },
  {
   "cell_type": "code",
   "execution_count": 38,
   "id": "7adf4d76",
   "metadata": {},
   "outputs": [
    {
     "name": "stdout",
     "output_type": "stream",
     "text": [
      "1/1 [==============================] - 0s 63ms/step\n"
     ]
    },
    {
     "data": {
      "text/plain": [
       "array([0], dtype=int8)"
      ]
     },
     "execution_count": 38,
     "metadata": {},
     "output_type": "execute_result"
    }
   ],
   "source": [
    "result = (model.predict(input_data)>0.5).astype('int8').reshape(-1)\n",
    "result"
   ]
  },
  {
   "cell_type": "code",
   "execution_count": null,
   "id": "134acfe2",
   "metadata": {},
   "outputs": [],
   "source": []
  },
  {
   "cell_type": "code",
   "execution_count": null,
   "id": "ae64c1b3",
   "metadata": {},
   "outputs": [],
   "source": []
  },
  {
   "cell_type": "code",
   "execution_count": null,
   "id": "ad71be40",
   "metadata": {},
   "outputs": [],
   "source": []
  },
  {
   "cell_type": "code",
   "execution_count": null,
   "id": "eafcd84f",
   "metadata": {},
   "outputs": [],
   "source": []
  },
  {
   "cell_type": "code",
   "execution_count": null,
   "id": "d063a9c0",
   "metadata": {},
   "outputs": [],
   "source": []
  }
 ],
 "metadata": {
  "kernelspec": {
   "display_name": "ml-dl-nlp",
   "language": "python",
   "name": "ml-dl-nlp"
  },
  "language_info": {
   "codemirror_mode": {
    "name": "ipython",
    "version": 3
   },
   "file_extension": ".py",
   "mimetype": "text/x-python",
   "name": "python",
   "nbconvert_exporter": "python",
   "pygments_lexer": "ipython3",
   "version": "3.10.18"
  },
  "toc": {
   "base_numbering": 1,
   "nav_menu": {},
   "number_sections": false,
   "sideBar": true,
   "skip_h1_title": false,
   "title_cell": "Table of Contents",
   "title_sidebar": "Contents",
   "toc_cell": false,
   "toc_position": {
    "height": "calc(100% - 180px)",
    "left": "10px",
    "top": "150px",
    "width": "165px"
   },
   "toc_section_display": true,
   "toc_window_display": true
  }
 },
 "nbformat": 4,
 "nbformat_minor": 5
}
