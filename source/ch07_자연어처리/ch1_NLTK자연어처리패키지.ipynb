{
 "cells": [
  {
   "cell_type": "code",
   "execution_count": 2,
   "id": "2d017b85",
   "metadata": {},
   "outputs": [
    {
     "data": {
      "text/html": [
       "\n",
       "<style>\n",
       "div.container{width:90% !important;}\n",
       "div.cell.code_cell.rendered{width:100%;}\n",
       "div.input_prompt{padding:2px;}\n",
       "div.CodeMirror {font-family:Consolas; font-size:10pt;}\n",
       "div.text_cell_render.rendered_html{font-size:10pt;}\n",
       "div.output {font-size:10pt; font-weight:bold;}\n",
       "div.input {font-family:Consolas; font-size:10pt;}\n",
       "div.prompt {min-width:70px;}\n",
       "div#toc-wrapper{padding-top:120px;}\n",
       "div.text_cell_render ul li{font-size:11pt;padding:4px;}\n",
       "table.dataframe{font-size:10px;}\n",
       "</style>\n"
      ],
      "text/plain": [
       "<IPython.core.display.HTML object>"
      ]
     },
     "metadata": {},
     "output_type": "display_data"
    }
   ],
   "source": [
    "from IPython.display import display, HTML\n",
    "display(HTML(\"\"\"\n",
    "<style>\n",
    "div.container{width:90% !important;}\n",
    "div.cell.code_cell.rendered{width:100%;}\n",
    "div.input_prompt{padding:2px;}\n",
    "div.CodeMirror {font-family:Consolas; font-size:10pt;}\n",
    "div.text_cell_render.rendered_html{font-size:10pt;}\n",
    "div.output {font-size:10pt; font-weight:bold;}\n",
    "div.input {font-family:Consolas; font-size:10pt;}\n",
    "div.prompt {min-width:70px;}\n",
    "div#toc-wrapper{padding-top:120px;}\n",
    "div.text_cell_render ul li{font-size:11pt;padding:4px;}\n",
    "table.dataframe{font-size:10px;}\n",
    "</style>\n",
    "\"\"\"))"
   ]
  },
  {
   "cell_type": "markdown",
   "id": "e704115a",
   "metadata": {},
   "source": [
    "# <span style='color:red'>ch1. NLTK 자연어처리 패키지</span>\n",
    "# 1. NLTK 패키지\n",
    "- 자연어처리를 위한 가엵하고 사용하기 쉬운 라이브러리\n",
    "1. 텍스트 전처리 : 토큰화(어절, 문장나누기), 정규화(정규표현식 활용), 불용어 제거, 표제어추출(기본형태로 변환)\n",
    "2. 품사태깅 : 단어 품사 식별\n",
    "3. 어휘 데이터 베이스 사용\n",
    "4. 구조화된 문서의 빈도수, 분류분석, 연관분석, 감정분석 (단점)속도가 느림"
   ]
  },
  {
   "cell_type": "code",
   "execution_count": 3,
   "id": "04602f2f",
   "metadata": {},
   "outputs": [],
   "source": [
    "import nltk"
   ]
  },
  {
   "cell_type": "code",
   "execution_count": 4,
   "id": "cc38f9cf",
   "metadata": {},
   "outputs": [
    {
     "name": "stdout",
     "output_type": "stream",
     "text": [
      "showing info https://raw.githubusercontent.com/nltk/nltk_data/gh-pages/index.xml\n",
      "showing info https://raw.githubusercontent.com/nltk/nltk_data/gh-pages/index.xml\n",
      "showing info https://raw.githubusercontent.com/nltk/nltk_data/gh-pages/index.xml\n",
      "showing info https://raw.githubusercontent.com/nltk/nltk_data/gh-pages/index.xml\n"
     ]
    },
    {
     "data": {
      "text/plain": [
       "True"
      ]
     },
     "execution_count": 4,
     "metadata": {},
     "output_type": "execute_result"
    }
   ],
   "source": [
    "# 말뭉치를 다운로드\n",
    "# C:/nltk_data\n",
    "# D:/nltk_data\n",
    "# C:/Users/내컴퓨터이름/nltk_data\n",
    "# C:/Users/내컴퓨터이름/anaconda3/nltk_data\n",
    "# C:/Users/내컴퓨터이름/anaconda3/lib/nltk_data\n",
    "# C:/Users/내컴퓨터이름/anaconda3/share/nltk_data\n",
    "# C:/Users/내컴퓨터이름/Appdata/Roaming/nltk_data\n",
    "nltk.download()"
   ]
  },
  {
   "cell_type": "code",
   "execution_count": 5,
   "id": "cddff0f7",
   "metadata": {},
   "outputs": [
    {
     "data": {
      "text/plain": [
       "['austen-emma.txt',\n",
       " 'austen-persuasion.txt',\n",
       " 'austen-sense.txt',\n",
       " 'bible-kjv.txt',\n",
       " 'blake-poems.txt',\n",
       " 'bryant-stories.txt',\n",
       " 'burgess-busterbrown.txt',\n",
       " 'carroll-alice.txt',\n",
       " 'chesterton-ball.txt',\n",
       " 'chesterton-brown.txt',\n",
       " 'chesterton-thursday.txt',\n",
       " 'edgeworth-parents.txt',\n",
       " 'melville-moby_dick.txt',\n",
       " 'milton-paradise.txt',\n",
       " 'shakespeare-caesar.txt',\n",
       " 'shakespeare-hamlet.txt',\n",
       " 'shakespeare-macbeth.txt',\n",
       " 'whitman-leaves.txt']"
      ]
     },
     "execution_count": 5,
     "metadata": {},
     "output_type": "execute_result"
    }
   ],
   "source": [
    "# 말뭉치 리스트\n",
    "nltk.corpus.gutenberg.fileids()"
   ]
  },
  {
   "cell_type": "code",
   "execution_count": 8,
   "id": "074df961",
   "metadata": {},
   "outputs": [
    {
     "data": {
      "text/plain": [
       "'[Emma by Jane Austen 1816]\\n\\nVOLUME I\\n\\nCHAPTER I\\n\\n\\nEmma Woodhouse, handsome, clever, and rich, with a'"
      ]
     },
     "execution_count": 8,
     "metadata": {},
     "output_type": "execute_result"
    }
   ],
   "source": [
    "# 말뭉치 데이터 셋 (소설 엠마)\n",
    "emma = nltk.corpus.gutenberg.raw(\"austen-emma.txt\")\n",
    "emma[:100]"
   ]
  },
  {
   "cell_type": "code",
   "execution_count": 9,
   "id": "ade73506",
   "metadata": {},
   "outputs": [
    {
     "name": "stdout",
     "output_type": "stream",
     "text": [
      "글자수 :  887071\n"
     ]
    }
   ],
   "source": [
    "# emma의 글자수, 문자수, 어절수(단어수)\n",
    "print('글자수 : ', len(emma))"
   ]
  },
  {
   "cell_type": "code",
   "execution_count": 16,
   "id": "9495d148",
   "metadata": {},
   "outputs": [
    {
     "name": "stdout",
     "output_type": "stream",
     "text": [
      "문장수 :  7456\n",
      "'[Emma by Jane Austen 1816]\\n\\nVOLUME I\\n\\nCHAPTER I\\n\\n\\nEmma Woodhouse, handsome, clever, and rich, with a comfortable home\\nand happy disposition, seemed to unite some of the best blessings\\nof existence; and had lived nearly twenty-one years in the world\\nwith very little to distress or vex her.'\n"
     ]
    }
   ],
   "source": [
    "# sent_tokenize() : 문장 단위로 나눠 list로 반환\n",
    "from nltk.tokenize import sent_tokenize\n",
    "sent_tokens = sent_tokenize(emma)\n",
    "print('문장수 : ', len(sent_tokens))\n",
    "print('%r'% sent_tokens[0])"
   ]
  },
  {
   "cell_type": "code",
   "execution_count": 17,
   "id": "67dfa0db",
   "metadata": {},
   "outputs": [
    {
     "name": "stdout",
     "output_type": "stream",
     "text": [
      "['[', 'Emma', 'by', 'Jane', 'Austen', '1816', ']', 'VOLUME', 'I', 'CHAPTER', 'I', 'Emma', 'Woodhouse', ',', 'handsome', ',', 'clever', ',', 'and', 'rich', ',', 'with', 'a', 'comfortable', 'home', 'and', 'happy', 'disposition', ',', 'seemed', 'to', 'unite', 'some', 'of', 'the', 'best', 'blessings', 'of', 'existence', ';', 'and', 'had', 'lived', 'nearly', 'twenty-one', 'years', 'in', 'the', 'world', 'with', 'very', 'little', 'to', 'distress', 'or', 'vex', 'her', '.']\n"
     ]
    }
   ],
   "source": [
    "#  word_tokenize() : 단어 토큰으로 쪼갠 list 반환\n",
    "from nltk.tokenize import word_tokenize\n",
    "print(word_tokenize(sent_tokens[0]))"
   ]
  },
  {
   "cell_type": "code",
   "execution_count": 15,
   "id": "e9717757",
   "metadata": {},
   "outputs": [
    {
     "name": "stdout",
     "output_type": "stream",
     "text": [
      "단어수 :  191776\n"
     ]
    }
   ],
   "source": [
    "print('단어수 : ', len(word_tokenize(emma)))"
   ]
  },
  {
   "cell_type": "code",
   "execution_count": 19,
   "id": "a7fbf322",
   "metadata": {},
   "outputs": [
    {
     "name": "stdout",
     "output_type": "stream",
     "text": [
      "['1816']\n",
      "['Emma', 'by', 'Jane', 'Austen', '1816', 'VOLUME', 'I', 'CHAPTER', 'I', 'Emma', 'Woodhouse', 'handsome', 'clever', 'and', 'rich', 'with', 'a', 'comfortable', 'home', 'and', 'happy', 'disposition', 'seemed', 'to', 'unite', 'some', 'of', 'the', 'best', 'blessings', 'of', 'existence', 'and', 'had', 'lived', 'nearly', 'twenty', 'one', 'years', 'in', 'the', 'world', 'with', 'very', 'little', 'to', 'distress', 'or', 'vex', 'her']\n"
     ]
    }
   ],
   "source": [
    "# RegexpTokenizer() : 토큰화할 때 해당 정규표현식에 해당하는 word만 적용\n",
    "from nltk.tokenize import RegexpTokenizer\n",
    "digitRet = RegexpTokenizer('\\d+')\n",
    "alphaRet = RegexpTokenizer('\\w+')\n",
    "digitRet = digitRet.tokenize(sent_tokens[0])\n",
    "print(digitRet)\n",
    "words = alphaRet.tokenize(sent_tokens[0])\n",
    "print(words)"
   ]
  },
  {
   "cell_type": "markdown",
   "id": "d66754fa",
   "metadata": {},
   "source": [
    "# 2. 형태소(의미 있는 가장 작은 반위) 분석"
   ]
  },
  {
   "cell_type": "code",
   "execution_count": 21,
   "id": "2499ad3b",
   "metadata": {},
   "outputs": [
    {
     "data": {
      "text/plain": [
       "'send'"
      ]
     },
     "execution_count": 21,
     "metadata": {},
     "output_type": "execute_result"
    }
   ],
   "source": [
    "words2 = ['sending','cooking','files','lives','crying','dying']\n",
    "# 어간 추출(1) : PorterStemmer\n",
    "from nltk.stem import PorterStemmer\n",
    "pst = PorterStemmer()\n",
    "pst.stem(words2[0])"
   ]
  },
  {
   "cell_type": "code",
   "execution_count": 22,
   "id": "23992324",
   "metadata": {},
   "outputs": [
    {
     "data": {
      "text/plain": [
       "['send', 'cook', 'file', 'live', 'cri', 'die']"
      ]
     },
     "execution_count": 22,
     "metadata": {},
     "output_type": "execute_result"
    }
   ],
   "source": [
    "[pst.stem(word) for word in words2]"
   ]
  },
  {
   "cell_type": "code",
   "execution_count": 23,
   "id": "cc1d2d6c",
   "metadata": {},
   "outputs": [
    {
     "data": {
      "text/plain": [
       "['send', 'cook', 'fil', 'liv', 'cry', 'dying']"
      ]
     },
     "execution_count": 23,
     "metadata": {},
     "output_type": "execute_result"
    }
   ],
   "source": [
    "# 어간 추출(2) : 어간 추출하는 것 중 제일 빈도 높다\n",
    "from nltk.stem import LancasterStemmer\n",
    "lst = LancasterStemmer()\n",
    "[ lst.stem(word) for word in words2]"
   ]
  },
  {
   "cell_type": "code",
   "execution_count": 25,
   "id": "e555859a",
   "metadata": {},
   "outputs": [
    {
     "data": {
      "text/plain": [
       "['send', 'cook', 'files', 'lives', 'cry', 'dy']"
      ]
     },
     "execution_count": 25,
     "metadata": {},
     "output_type": "execute_result"
    }
   ],
   "source": [
    "# 어간 추출(3) RegexpStemmer() : 정규표현식에 해당하는 부분만 어간 추출\n",
    "from nltk.stem import RegexpStemmer\n",
    "rst = RegexpStemmer('ing')\n",
    "[rst.stem(word) for word in words2]"
   ]
  },
  {
   "cell_type": "code",
   "execution_count": 28,
   "id": "1862bf1c",
   "metadata": {},
   "outputs": [
    {
     "name": "stdout",
     "output_type": "stream",
     "text": [
      "['[', 'Emma', 'by', 'Jane', 'Austen', '1816', ']', 'VOLUME', 'I', 'CHAPTER', 'I', 'Emma', 'Woodhouse', ',', 'handsome', ',', 'clever', ',', 'and', 'rich', ',', 'with', 'a', 'comfortable', 'home', 'and', 'happy', 'disposition', ',', 'seemed', 'to', 'unite', 'some', 'of', 'the', 'best', 'blessings', 'of', 'existence', ';', 'and', 'had', 'lived', 'nearly', 'twenty-one', 'years', 'in', 'the', 'world', 'with', 'very', 'little', 'to', 'distress', 'or', 'vex', 'her', '.']\n",
      "품사태깅한 결과 :  [('[', 'NNS'), ('Emma', 'NNP'), ('by', 'IN'), ('Jane', 'NNP'), ('Austen', 'NNP'), ('1816', 'CD'), (']', 'NNP'), ('VOLUME', 'NNP'), ('I', 'PRP'), ('CHAPTER', 'VBP'), ('I', 'PRP'), ('Emma', 'NNP'), ('Woodhouse', 'NNP'), (',', ','), ('handsome', 'NN'), (',', ','), ('clever', 'NN'), (',', ','), ('and', 'CC'), ('rich', 'JJ'), (',', ','), ('with', 'IN'), ('a', 'DT'), ('comfortable', 'JJ'), ('home', 'NN'), ('and', 'CC'), ('happy', 'JJ'), ('disposition', 'NN'), (',', ','), ('seemed', 'VBD'), ('to', 'TO'), ('unite', 'VB'), ('some', 'DT'), ('of', 'IN'), ('the', 'DT'), ('best', 'JJS'), ('blessings', 'NNS'), ('of', 'IN'), ('existence', 'NN'), (';', ':'), ('and', 'CC'), ('had', 'VBD'), ('lived', 'VBN'), ('nearly', 'RB'), ('twenty-one', 'CD'), ('years', 'NNS'), ('in', 'IN'), ('the', 'DT'), ('world', 'NN'), ('with', 'IN'), ('very', 'RB'), ('little', 'JJ'), ('to', 'TO'), ('distress', 'VB'), ('or', 'CC'), ('vex', 'VB'), ('her', 'PRP'), ('.', '.')]\n"
     ]
    }
   ],
   "source": [
    "# 품사태깅\n",
    "from nltk.tag import pos_tag\n",
    "tagged_list = pos_tag(word_tokenize(sent_tokens[0]))\n",
    "print(word_tokenize(sent_tokens[0]))\n",
    "print('품사태깅한 결과 : ', tagged_list)"
   ]
  },
  {
   "cell_type": "markdown",
   "id": "70f1ee78",
   "metadata": {},
   "source": [
    "## 퀴즈 : emma소설안에서\n",
    "1. 특수문자가 들어가지 않는 3글자 이상의 단어만 추출해서 품사태킹을 하시오.\n",
    "    ex). [('emma','명'),('was','동'),...]\n",
    "2. 'Emma' 단어가 몇번 등장하며, 품사 태킹이 어떤 품사들로 되어 있는지 모두 출력허시오.\n",
    "3. 내가 원하는 품사(명사)의 단어만 뽑아 등장하는 명사의 종류 갯수를 출력하시오."
   ]
  },
  {
   "cell_type": "code",
   "execution_count": null,
   "id": "90a45a1b",
   "metadata": {},
   "outputs": [],
   "source": [
    "# 1. 특수문자가 들어가지 않는 3글자 이상의 단어만 추출해서 품사태킹을 하시오. ex). [('emma','명'),('was','동'),...]"
   ]
  },
  {
   "cell_type": "code",
   "execution_count": 37,
   "id": "302f4177",
   "metadata": {
    "scrolled": false
   },
   "outputs": [
    {
     "name": "stdout",
     "output_type": "stream",
     "text": [
      "갯수 :  123877\n",
      "품사태깅한 결과 :  [('Emma', 'NNP'), ('Jane', 'NNP'), ('Austen', 'NNP'), ('1816', 'CD'), ('VOLUME', 'NNP'), ('CHAPTER', 'NNP'), ('Emma', 'NNP'), ('Woodhouse', 'NNP'), ('handsome', 'VBD'), ('clever', 'NN'), ('and', 'CC'), ('rich', 'JJ'), ('with', 'IN'), ('comfortable', 'JJ'), ('home', 'NN'), ('and', 'CC'), ('happy', 'JJ'), ('disposition', 'NN'), ('seemed', 'VBD'), ('unite', 'JJ'), ('some', 'DT'), ('the', 'DT'), ('best', 'JJS'), ('blessings', 'NNS'), ('existence', 'NN'), ('and', 'CC'), ('had', 'VBD'), ('lived', 'VBN'), ('nearly', 'RB'), ('twenty', 'JJ'), ('one', 'CD'), ('years', 'NNS'), ('the', 'DT'), ('world', 'NN'), ('with', 'IN'), ('very', 'RB'), ('little', 'JJ'), ('distress', 'NN'), ('vex', 'IN'), ('her', 'PRP$'), ('She', 'PRP'), ('was', 'VBD'), ('the', 'DT'), ('youngest', 'JJS'), ('the', 'DT'), ('two', 'CD'), ('daughters', 'NNS'), ('most', 'RBS'), ('affectionate', 'JJ'), ('indulgent', 'NN')]\n"
     ]
    }
   ],
   "source": [
    "alphaRet = RegexpTokenizer('\\w{3,}')\n",
    "words = alphaRet.tokenize(emma)\n",
    "tagged_list = pos_tag(words)\n",
    "print('갯수 : ', len(tagged_list))\n",
    "print('품사태깅한 결과 : ', tagged_list[:50])"
   ]
  },
  {
   "cell_type": "code",
   "execution_count": 55,
   "id": "bd853e71",
   "metadata": {},
   "outputs": [
    {
     "name": "stdout",
     "output_type": "stream",
     "text": [
      "emma 소설에서 3글자 이상의 단어 출현수 :  123817 123817\n",
      "emma 소설에서 3글자 이상의 단어 종류수 :  7470 11434\n",
      "CPU times: total: 5 s\n",
      "Wall time: 5.01 s\n"
     ]
    }
   ],
   "source": [
    "%%time\n",
    "from nltk.tokenize import RegexpTokenizer\n",
    "ret = RegexpTokenizer('[a-zA-Z0-9]{3,}')\n",
    "emma = nltk.corpus.gutenberg.raw('austen-emma.txt')\n",
    "emma_words = ret.tokenize(emma)\n",
    "emma_tags = pos_tag(emma_words)\n",
    "print('emma 소설에서 3글자 이상의 단어 출현수 : ', len(emma_words), len(emma_tags))\n",
    "print('emma 소설에서 3글자 이상의 단어 종류수 : ', len(set(emma_words)), len(set(emma_tags)))"
   ]
  },
  {
   "cell_type": "code",
   "execution_count": 46,
   "id": "c664337c",
   "metadata": {},
   "outputs": [
    {
     "name": "stdout",
     "output_type": "stream",
     "text": [
      "['Emma', 'Jane', 'Austen', '1816', 'VOLUME']\n",
      "[('Emma', 'NNP'), ('Jane', 'NNP'), ('Austen', 'NNP'), ('1816', 'CD'), ('VOLUME', 'NNP')]\n"
     ]
    }
   ],
   "source": [
    "print(emma_words[:5])\n",
    "print(emma_tage[:5])"
   ]
  },
  {
   "cell_type": "code",
   "execution_count": 49,
   "id": "5f9a4061",
   "metadata": {},
   "outputs": [],
   "source": [
    "# 2.'Emma' 단어가 몇번 등장하며, 품사 태킹이 어떤 품사들로 되어 있는지 모두 출력허시오."
   ]
  },
  {
   "cell_type": "code",
   "execution_count": 44,
   "id": "d115362c",
   "metadata": {},
   "outputs": [
    {
     "name": "stdout",
     "output_type": "stream",
     "text": [
      "갯수 :  865\n"
     ]
    }
   ],
   "source": [
    "name = emma.count('Emma')\n",
    "#tagged_list = pos_tag(emma('Emma'))\n",
    "print('갯수 : ', name)\n",
    "# print('품사태깅한 결과 : ', tagged_list[:50])"
   ]
  },
  {
   "cell_type": "code",
   "execution_count": 59,
   "id": "52867b41",
   "metadata": {},
   "outputs": [
    {
     "name": "stdout",
     "output_type": "stream",
     "text": [
      "Emma 출현횟수 :  865\n",
      "Emma의 품사 :  {'RB', 'NNS', 'VBD', 'VB', 'NNP', 'VBN', 'NNPS', 'NN', 'VBP', 'JJ'}\n"
     ]
    }
   ],
   "source": [
    "pos=[]\n",
    "for emma_tag in emma_tags:\n",
    "    if emma_tag[0] == 'Emma':\n",
    "        pos.append(emma_tag[1])\n",
    "pos =[emma_tag[1] for emma_tag in emma_tags if emma_tag[0]]\n",
    "print('Emma 출현횟수 : ', len(pos))\n",
    "print('Emma의 품사 : ', set(pos))\n",
    "\n",
    "# 'RB', 'NNS', 'VBD', 'VB', 'NNP', 'VBN', 'NNPS', 'NN', 'VBP', 'JJ'\n",
    "# 형용사, 명사복수, 동사과거, 동사, 고유명사단일, 동사과거분사, 고유명사복수, 명사, 동사, 형용사"
   ]
  },
  {
   "cell_type": "code",
   "execution_count": 64,
   "id": "d1d837b0",
   "metadata": {},
   "outputs": [
    {
     "data": {
      "text/plain": [
       "{'NNP': 838,\n",
       " 'VBP': 4,\n",
       " 'JJ': 4,\n",
       " 'VB': 5,\n",
       " 'NNS': 2,\n",
       " 'RB': 1,\n",
       " 'NN': 7,\n",
       " 'NNPS': 2,\n",
       " 'VBN': 1,\n",
       " 'VBD': 1}"
      ]
     },
     "execution_count": 64,
     "metadata": {},
     "output_type": "execute_result"
    }
   ],
   "source": [
    "# emma_tags에서 각 품사별 몇개씩 태그되었는지\n",
    "# set(pos)  # Emma의 품사\n",
    "pos_cnt = dict()  # 딕셔너리\n",
    "for word, tag in emma_tags:\n",
    "    if word == 'Emma':\n",
    "        if tag in pos_cnt:\n",
    "            pos_cnt[tag] +=1\n",
    "        else:\n",
    "            pos_cnt[tag] = 1\n",
    "pos_cnt"
   ]
  },
  {
   "cell_type": "code",
   "execution_count": 70,
   "id": "16dc0c24",
   "metadata": {},
   "outputs": [
    {
     "data": {
      "text/plain": [
       "NNP     838\n",
       "NN        7\n",
       "VB        5\n",
       "VBP       4\n",
       "JJ        4\n",
       "NNS       2\n",
       "NNPS      2\n",
       "RB        1\n",
       "VBD       1\n",
       "VBN       1\n",
       "dtype: int64"
      ]
     },
     "execution_count": 70,
     "metadata": {},
     "output_type": "execute_result"
    }
   ],
   "source": [
    "# emma_tags에서 각 품사별 몇개씩 태그되었는지\n",
    "import pandas as pd\n",
    "pos_cnt = pd.Series([0]*len(set(pos)), index=set(pos))\n",
    "for word, tag in emma_tags:\n",
    "    if word == 'Emma':\n",
    "        pos_cnt[tag] += 1\n",
    "pos_cnt.sort_values(ascending=False)"
   ]
  },
  {
   "cell_type": "code",
   "execution_count": 77,
   "id": "a2e6aa73",
   "metadata": {},
   "outputs": [
    {
     "name": "stdout",
     "output_type": "stream",
     "text": [
      "명사가 나온 횟수 :  30633\n",
      "출현한 명사 횟수 :  4067\n",
      "한 단어가 나오는 평균 빈도수 :  7.5320875338087045\n"
     ]
    }
   ],
   "source": [
    "# 3. 내가 원하는 품사(명사)의 단어만 뽑아 등장하는 명사의 종류 갯수를 출력하시오.\n",
    "nouns_list = [word for word, tag in emma_tags if (tag=='NN')\n",
    "                                              | (tag=='NNS') \n",
    "                                              | (tag=='NNP') \n",
    "                                              | (tag=='NNPS')] # 명사들만 추출\n",
    "# for word, tag in emma_tags:\n",
    "#     if (tag=='NN') | (tag=='NNS') | (tag=='NNP') | (tag=='NNPS'):\n",
    "#         nouns_list.append(word)\n",
    "\n",
    "print('명사가 나온 횟수 : ',len(nouns_list))\n",
    "print('출현한 명사 횟수 : ',len(set(nouns_list)))\n",
    "print('한 단어가 나오는 평균 빈도수 : ', len(nouns_list) / len(set(nouns_list)))"
   ]
  },
  {
   "cell_type": "code",
   "execution_count": 79,
   "id": "a181c6fa",
   "metadata": {},
   "outputs": [
    {
     "data": {
      "image/png": "[encoded data removed]",
      "text/plain": [
       "<Figure size 1500x200 with 1 Axes>"
      ]
     },
     "metadata": {},
     "output_type": "display_data"
    }
   ],
   "source": [
    "# 최빈 단어 시각화\n",
    "import matplotlib.pyplot as plt\n",
    "from nltk import Text\n",
    "emma_text = Text(nouns_list)\n",
    "plt.figure(figsize=(15,2))\n",
    "emma_text.plot(20)\n",
    "plt.show()"
   ]
  },
  {
   "cell_type": "code",
   "execution_count": 80,
   "id": "508e3e8c",
   "metadata": {},
   "outputs": [
    {
     "data": {
      "image/png": "[encoded data removed]",
      "text/plain": [
       "<Figure size 640x480 with 1 Axes>"
      ]
     },
     "metadata": {},
     "output_type": "display_data"
    }
   ],
   "source": [
    "emma_text.dispersion_plot(['Emma','Jane'])"
   ]
  },
  {
   "cell_type": "code",
   "execution_count": 85,
   "id": "113eec28",
   "metadata": {},
   "outputs": [
    {
     "name": "stdout",
     "output_type": "stream",
     "text": [
      "고유명사의 갯수 :  577\n"
     ]
    },
    {
     "data": {
      "text/plain": [
       "FreqDist({'Emma': 840, 'Mrs': 698, 'Miss': 572, 'Harriet': 484, 'Weston': 433, 'Knightley': 389, 'Elton': 384, 'Jane': 295, 'Woodhouse': 294, 'Fairfax': 241, ...})"
      ]
     },
     "execution_count": 85,
     "metadata": {},
     "output_type": "execute_result"
    }
   ],
   "source": [
    "# 고유명사\n",
    "names_list = [word for word, tag in emma_tags if (tag=='NNP') | (tag=='NNPS')]\n",
    "print('고유명사의 갯수 : ', len(set(names_list)))\n",
    "from nltk import FreqDist\n",
    "FreqDist(names_list)  # 빈도를 반환"
   ]
  },
  {
   "cell_type": "code",
   "execution_count": 91,
   "id": "7a9553ee",
   "metadata": {},
   "outputs": [
    {
     "data": {
      "text/plain": [
       "Emma       840\n",
       "Mrs        698\n",
       "Miss       572\n",
       "Harriet    484\n",
       "Weston     433\n",
       "dtype: int64"
      ]
     },
     "execution_count": 91,
     "metadata": {},
     "output_type": "execute_result"
    }
   ],
   "source": [
    "dic = dict(FreqDist(names_list))\n",
    "wordcnt = pd.Series(dic)\n",
    "wordcnt.sort_values(ascending=False, inplace=True)\n",
    "wordcnt.head()"
   ]
  },
  {
   "cell_type": "code",
   "execution_count": 92,
   "id": "52b79602",
   "metadata": {},
   "outputs": [
    {
     "data": {
      "text/plain": [
       "Emma       840\n",
       "Mrs        698\n",
       "Miss       572\n",
       "Harriet    484\n",
       "Weston     433\n",
       "dtype: int64"
      ]
     },
     "execution_count": 92,
     "metadata": {},
     "output_type": "execute_result"
    }
   ],
   "source": [
    "wordcnt[wordcnt>400]"
   ]
  },
  {
   "cell_type": "code",
   "execution_count": 93,
   "id": "1486a0bc",
   "metadata": {},
   "outputs": [
    {
     "data": {
      "text/plain": [
       "Index(['Emma', 'Mrs', 'Miss', 'Harriet', 'Weston'], dtype='object')"
      ]
     },
     "execution_count": 93,
     "metadata": {},
     "output_type": "execute_result"
    }
   ],
   "source": [
    "names = wordcnt[wordcnt>400]\n",
    "names.index"
   ]
  },
  {
   "cell_type": "code",
   "execution_count": 94,
   "id": "a476a4d8",
   "metadata": {},
   "outputs": [
    {
     "data": {
      "image/png": "[encoded data removed]",
      "text/plain": [
       "<Figure size 640x480 with 1 Axes>"
      ]
     },
     "metadata": {},
     "output_type": "display_data"
    }
   ],
   "source": [
    "emma_text.dispersion_plot(list(names.index))"
   ]
  },
  {
   "cell_type": "code",
   "execution_count": null,
   "id": "67fb813c",
   "metadata": {},
   "outputs": [],
   "source": []
  },
  {
   "cell_type": "code",
   "execution_count": null,
   "id": "41ec3efd",
   "metadata": {},
   "outputs": [],
   "source": []
  },
  {
   "cell_type": "code",
   "execution_count": null,
   "id": "c5579d8a",
   "metadata": {},
   "outputs": [],
   "source": []
  },
  {
   "cell_type": "code",
   "execution_count": null,
   "id": "eaecc278",
   "metadata": {},
   "outputs": [],
   "source": []
  },
  {
   "cell_type": "code",
   "execution_count": null,
   "id": "1f9c7e83",
   "metadata": {},
   "outputs": [],
   "source": []
  },
  {
   "cell_type": "code",
   "execution_count": null,
   "id": "df698f3d",
   "metadata": {},
   "outputs": [],
   "source": []
  },
  {
   "cell_type": "code",
   "execution_count": null,
   "id": "e6d487a1",
   "metadata": {},
   "outputs": [],
   "source": []
  },
  {
   "cell_type": "code",
   "execution_count": null,
   "id": "1a10894f",
   "metadata": {},
   "outputs": [],
   "source": []
  },
  {
   "cell_type": "code",
   "execution_count": null,
   "id": "d88ceba0",
   "metadata": {},
   "outputs": [],
   "source": []
  },
  {
   "cell_type": "code",
   "execution_count": null,
   "id": "80405d81",
   "metadata": {},
   "outputs": [],
   "source": []
  },
  {
   "cell_type": "code",
   "execution_count": null,
   "id": "a34d9103",
   "metadata": {},
   "outputs": [],
   "source": []
  },
  {
   "cell_type": "code",
   "execution_count": null,
   "id": "526597ea",
   "metadata": {},
   "outputs": [],
   "source": []
  },
  {
   "cell_type": "code",
   "execution_count": null,
   "id": "ff8f0d1e",
   "metadata": {},
   "outputs": [],
   "source": []
  },
  {
   "cell_type": "code",
   "execution_count": null,
   "id": "57033f52",
   "metadata": {},
   "outputs": [],
   "source": []
  }
 ],
 "metadata": {
  "kernelspec": {
   "display_name": "Python 3 (ipykernel)",
   "language": "python",
   "name": "python3"
  },
  "language_info": {
   "codemirror_mode": {
    "name": "ipython",
    "version": 3
   },
   "file_extension": ".py",
   "mimetype": "text/x-python",
   "name": "python",
   "nbconvert_exporter": "python",
   "pygments_lexer": "ipython3",
   "version": "3.10.9"
  },
  "toc": {
   "base_numbering": 1,
   "nav_menu": {},
   "number_sections": false,
   "sideBar": true,
   "skip_h1_title": false,
   "title_cell": "Table of Contents",
   "title_sidebar": "Contents",
   "toc_cell": false,
   "toc_position": {
    "height": "calc(100% - 180px)",
    "left": "10px",
    "top": "150px",
    "width": "165px"
   },
   "toc_section_display": true,
   "toc_window_display": true
  }
 },
 "nbformat": 4,
 "nbformat_minor": 5
}
