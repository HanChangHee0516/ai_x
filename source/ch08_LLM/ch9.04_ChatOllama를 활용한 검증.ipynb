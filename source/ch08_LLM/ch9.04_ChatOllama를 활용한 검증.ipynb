{
 "cells": [
  {
   "cell_type": "markdown",
   "id": "c5e62dae",
   "metadata": {},
   "source": [
    "# 1. 환경(패키지 및 환경변수) load\n",
    "- pip install langchain-ollama\n",
    "- pip install langchain-community"
   ]
  },
  {
   "cell_type": "markdown",
   "id": "00345abd",
   "metadata": {},
   "source": [
    "# 2. LLM 답변 생성\n",
    "- https://ollama.com/ 에서 모델 선택(llama3.2:1b)\n",
    "- powershell, cmd 창에서 ollama pull llama3.2:1b"
   ]
  },
  {
   "cell_type": "code",
   "execution_count": 2,
   "id": "ae29b7d5",
   "metadata": {},
   "outputs": [
    {
     "data": {
      "text/plain": [
       "'1981년에 뉴욕 양키스와LA 로gers스 팀들이 World Series 우승을 거두었습니다.'"
      ]
     },
     "execution_count": 2,
     "metadata": {},
     "output_type": "execute_result"
    }
   ],
   "source": [
    "from langchain_ollama import ChatOllama\n",
    "# from langchain_community.chat_models import ChatOllama\n",
    "llm = ChatOllama(model='llama3.2:1b')\n",
    "ai_message = llm.invoke('2020년 야구 월드 시리즈 우승은 누가 했어?')\n",
    "ai_message.content"
   ]
  },
  {
   "cell_type": "markdown",
   "id": "97651440",
   "metadata": {},
   "source": [
    "# 3. 코렙에서 ollama(exaone3.5:2.4b)돌리기\n",
    "- http://bit.ly/3IKpnVH"
   ]
  },
  {
   "cell_type": "code",
   "execution_count": null,
   "id": "c55efb96",
   "metadata": {},
   "outputs": [],
   "source": []
  }
 ],
 "metadata": {
  "kernelspec": {
   "display_name": "llm(ipykernel)",
   "language": "python",
   "name": "llm"
  },
  "language_info": {
   "codemirror_mode": {
    "name": "ipython",
    "version": 3
   },
   "file_extension": ".py",
   "mimetype": "text/x-python",
   "name": "python",
   "nbconvert_exporter": "python",
   "pygments_lexer": "ipython3",
   "version": "3.10.18"
  }
 },
 "nbformat": 4,
 "nbformat_minor": 5
}
