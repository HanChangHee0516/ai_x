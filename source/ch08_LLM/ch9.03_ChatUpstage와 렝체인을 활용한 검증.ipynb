{
 "cells": [
  {
   "cell_type": "markdown",
   "id": "e27a0206",
   "metadata": {},
   "source": [
    "# 1. 환경(패키지 및 환경변수) load\n",
    "- pip install langchain-upstage"
   ]
  },
  {
   "cell_type": "code",
   "execution_count": 1,
   "id": "78601831",
   "metadata": {},
   "outputs": [
    {
     "data": {
      "text/plain": [
       "True"
      ]
     },
     "execution_count": 1,
     "metadata": {},
     "output_type": "execute_result"
    }
   ],
   "source": [
    "from dotenv import load_dotenv\n",
    "load_dotenv()"
   ]
  },
  {
   "cell_type": "markdown",
   "id": "5ce6c252",
   "metadata": {},
   "source": [
    "# 2. LLM 답변 생성\n",
    "## 2.1 OpenAI SDK 사용"
   ]
  },
  {
   "cell_type": "code",
   "execution_count": 2,
   "id": "068446a0",
   "metadata": {},
   "outputs": [],
   "source": [
    "from openai import OpenAI # openai==1.52.2\n",
    "import os\n",
    "\n",
    "UPSTAGE_API_KEY = os.getenv('UPSTAGE_API_KEY')\n",
    "client = OpenAI(\n",
    "    api_key=UPSTAGE_API_KEY,\n",
    "    base_url=\"https://api.upstage.ai/v1\"\n",
    ")\n",
    "\n",
    "stream = client.chat.completions.create(\n",
    "    model=\"solar-pro2\",\n",
    "    messages=[\n",
    "        {\n",
    "            \"role\": \"user\",\n",
    "            \"content\": \"2020년 월드 시리즈 누가 우승 했어??\"\n",
    "        }\n",
    "    ],\n",
    "    stream=False,\n",
    ")\n"
   ]
  },
  {
   "cell_type": "code",
   "execution_count": 3,
   "id": "fd8e0e50",
   "metadata": {},
   "outputs": [
    {
     "name": "stdout",
     "output_type": "stream",
     "text": [
      "2020년 월드 시리즈에서 **로스앤젤레스 다저스**가 우승했습니다.  \n",
      "\n",
      "- **상대 팀**: 탬파베이 레이스  \n",
      "- **결과**: 6경기 중 4승 2패로 다저스 승리  \n",
      "- **MVP**: 다저스의 불펜 투수 **코리 시거** (정규 시즌 MVP이자 타격왕으로, 포스트시즌에서도 활약)  \n",
      "\n",
      "특히, 이 시리즈는 코로나19 팬데믹으로 인해 중립 지역(텍사스주 알링턴의 글로브 라이프 필드)에서 무관중 경기로 진행되었습니다. 다저스는 1988년 이후 32년 만에 통산 7번째 월드를 제패했습니다.\n"
     ]
    }
   ],
   "source": [
    "print(stream.choices[0].message.content)"
   ]
  },
  {
   "cell_type": "markdown",
   "id": "90384cb5",
   "metadata": {},
   "source": [
    "# 2.2 LangChain을 선택\n",
    "- 발급받은 API KEY를 .env에 UPSTAGE_API_KEY라고 저장하면, 별도의 설정없이 ChatUpstage를 바로 사용"
   ]
  },
  {
   "cell_type": "code",
   "execution_count": 4,
   "id": "de903ef3",
   "metadata": {},
   "outputs": [
    {
     "data": {
      "text/plain": [
       "AIMessage(content='2020년 월드시리즈는 로스앤젤레스 다저스가 우승했습니다. 이는 다저스의 7번째 월드시리즈 우승이었으며, 1988년 이후 32년 만의 우승이었습니다. 시리즈는 코로나바이러스-19 팬데믹으로 인해 6전 4선승제로 압축되어 진행되었고, 다저스는 탬파베이 레이스를 4승 2패로 꺾고 우승 트로피를 들어올렸습니다.', additional_kwargs={'refusal': None}, response_metadata={'token_usage': {'completion_tokens': 101, 'prompt_tokens': 41, 'total_tokens': 142, 'completion_tokens_details': None, 'prompt_tokens_details': None}, 'model_name': 'solar-mini-250422', 'system_fingerprint': None, 'id': '64d66db7-2a84-4b4e-a9d0-2db196e43f25', 'service_tier': None, 'finish_reason': 'stop', 'logprobs': None}, id='run--b6a5d4b9-8509-4615-b2d1-e4573557ed35-0', usage_metadata={'input_tokens': 41, 'output_tokens': 101, 'total_tokens': 142, 'input_token_details': {}, 'output_token_details': {}})"
      ]
     },
     "execution_count": 4,
     "metadata": {},
     "output_type": "execute_result"
    }
   ],
   "source": [
    "from langchain_upstage import ChatUpstage\n",
    "from langchain_core.messages import SystemMessage, HumanMessage\n",
    "llm = ChatUpstage()\n",
    "messages = [\n",
    "    SystemMessage(content='너는 친절하고 똑똑하세 대답해주는 비서야'),\n",
    "    HumanMessage(content='2020년 월드시리즈는 누가 우승했어>')\n",
    "]\n",
    "ai_message = llm.invoke(input=messages)\n",
    "ai_message"
   ]
  },
  {
   "cell_type": "code",
   "execution_count": 5,
   "id": "9a40ea49",
   "metadata": {},
   "outputs": [
    {
     "data": {
      "text/plain": [
       "'2020년 월드시리즈는 로스앤젤레스 다저스가 우승했습니다. 이는 다저스의 7번째 월드시리즈 우승이었으며, 1988년 이후 32년 만의 우승이었습니다. 시리즈는 코로나바이러스-19 팬데믹으로 인해 6전 4선승제로 압축되어 진행되었고, 다저스는 탬파베이 레이스를 4승 2패로 꺾고 우승 트로피를 들어올렸습니다.'"
      ]
     },
     "execution_count": 5,
     "metadata": {},
     "output_type": "execute_result"
    }
   ],
   "source": [
    "ai_message.content"
   ]
  },
  {
   "cell_type": "code",
   "execution_count": null,
   "id": "31642607",
   "metadata": {},
   "outputs": [],
   "source": []
  },
  {
   "cell_type": "code",
   "execution_count": null,
   "id": "8bd63d3c",
   "metadata": {},
   "outputs": [],
   "source": []
  },
  {
   "cell_type": "code",
   "execution_count": null,
   "id": "b8704f3f",
   "metadata": {},
   "outputs": [],
   "source": []
  },
  {
   "cell_type": "code",
   "execution_count": null,
   "id": "c5c0da68",
   "metadata": {},
   "outputs": [],
   "source": []
  },
  {
   "cell_type": "code",
   "execution_count": null,
   "id": "4257d942",
   "metadata": {},
   "outputs": [],
   "source": []
  },
  {
   "cell_type": "code",
   "execution_count": null,
   "id": "3c481520",
   "metadata": {},
   "outputs": [],
   "source": []
  },
  {
   "cell_type": "code",
   "execution_count": null,
   "id": "f559264c",
   "metadata": {},
   "outputs": [],
   "source": []
  },
  {
   "cell_type": "code",
   "execution_count": null,
   "id": "ed0a4523",
   "metadata": {},
   "outputs": [],
   "source": []
  },
  {
   "cell_type": "code",
   "execution_count": null,
   "id": "870addfc",
   "metadata": {},
   "outputs": [],
   "source": []
  },
  {
   "cell_type": "code",
   "execution_count": null,
   "id": "f90a14b1",
   "metadata": {},
   "outputs": [],
   "source": []
  },
  {
   "cell_type": "code",
   "execution_count": null,
   "id": "cc558662",
   "metadata": {},
   "outputs": [],
   "source": []
  },
  {
   "cell_type": "code",
   "execution_count": null,
   "id": "9b26bffe",
   "metadata": {},
   "outputs": [],
   "source": []
  },
  {
   "cell_type": "code",
   "execution_count": null,
   "id": "9151c577",
   "metadata": {},
   "outputs": [],
   "source": []
  },
  {
   "cell_type": "code",
   "execution_count": null,
   "id": "589bb205",
   "metadata": {},
   "outputs": [],
   "source": []
  },
  {
   "cell_type": "code",
   "execution_count": null,
   "id": "d2f20b1d",
   "metadata": {},
   "outputs": [],
   "source": []
  },
  {
   "cell_type": "code",
   "execution_count": null,
   "id": "062fb1db",
   "metadata": {},
   "outputs": [],
   "source": []
  },
  {
   "cell_type": "code",
   "execution_count": null,
   "id": "9712d5c9",
   "metadata": {},
   "outputs": [],
   "source": []
  },
  {
   "cell_type": "code",
   "execution_count": null,
   "id": "e4dcd338",
   "metadata": {},
   "outputs": [],
   "source": []
  },
  {
   "cell_type": "code",
   "execution_count": null,
   "id": "e4bef4c3",
   "metadata": {},
   "outputs": [],
   "source": []
  },
  {
   "cell_type": "code",
   "execution_count": null,
   "id": "2effba82",
   "metadata": {},
   "outputs": [],
   "source": []
  },
  {
   "cell_type": "code",
   "execution_count": null,
   "id": "ce617f69",
   "metadata": {},
   "outputs": [],
   "source": []
  },
  {
   "cell_type": "code",
   "execution_count": null,
   "id": "f198a981",
   "metadata": {},
   "outputs": [],
   "source": []
  },
  {
   "cell_type": "code",
   "execution_count": null,
   "id": "a102f84d",
   "metadata": {},
   "outputs": [],
   "source": []
  },
  {
   "cell_type": "code",
   "execution_count": null,
   "id": "44516c43",
   "metadata": {},
   "outputs": [],
   "source": []
  },
  {
   "cell_type": "code",
   "execution_count": null,
   "id": "a54da360",
   "metadata": {},
   "outputs": [],
   "source": []
  },
  {
   "cell_type": "code",
   "execution_count": null,
   "id": "4799bc29",
   "metadata": {},
   "outputs": [],
   "source": []
  },
  {
   "cell_type": "code",
   "execution_count": null,
   "id": "e04492a0",
   "metadata": {},
   "outputs": [],
   "source": []
  },
  {
   "cell_type": "code",
   "execution_count": null,
   "id": "dae82478",
   "metadata": {},
   "outputs": [],
   "source": []
  },
  {
   "cell_type": "code",
   "execution_count": null,
   "id": "65adf3c5",
   "metadata": {},
   "outputs": [],
   "source": []
  }
 ],
 "metadata": {
  "kernelspec": {
   "display_name": "llm(ipykernel)",
   "language": "python",
   "name": "llm"
  },
  "language_info": {
   "codemirror_mode": {
    "name": "ipython",
    "version": 3
   },
   "file_extension": ".py",
   "mimetype": "text/x-python",
   "name": "python",
   "nbconvert_exporter": "python",
   "pygments_lexer": "ipython3",
   "version": "3.10.18"
  }
 },
 "nbformat": 4,
 "nbformat_minor": 5
}
