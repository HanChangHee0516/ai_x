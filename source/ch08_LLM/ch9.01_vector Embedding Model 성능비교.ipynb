{
 "cells": [
  {
   "cell_type": "code",
   "execution_count": null,
   "id": "a4017baf",
   "metadata": {},
   "outputs": [],
   "source": [
    "from IPython.display import display, HTML\n",
    "display(HTML(\"\"\"\n",
    "<style>\n",
    "div.container{width:90% !important;}\n",
    "div.cell.code_cell.rendered{width:100%;}\n",
    "div.input_prompt{padding:2px;}\n",
    "div.CodeMirror {font-family:Consolas; font-size:10pt;}\n",
    "div.text_cell_render.rendered_html{font-size:10pt;}\n",
    "div.output {font-size:10pt; font-weight:bold;}\n",
    "div.input {font-family:Consolas; font-size:10pt;}\n",
    "div.prompt {min-width:70px;}\n",
    "div#toc-wrapper{padding-top:120px;}\n",
    "div.text_cell_render ul li{font-size:11pt;padding:4px;}\n",
    "table.dataframe{font-size:10px;}\n",
    "</style>\n",
    "\"\"\"))"
   ]
  },
  {
   "cell_type": "markdown",
   "id": "9339b8b8",
   "metadata": {},
   "source": [
    "# 문장 -> 벡터(1차원 숫자 배열[8.1,9.1,2,5,4,3,2...])\n",
    "- openAi API : https://platform.openai.com/ 의 키(OPENAI_API_KEY)를 .env등록\n",
    "- upstage : https://console.upstage.ai/ 의 키(UPSTAGE_API_KEY)를 .env등록\n",
    "# 1. 환경 변수 load"
   ]
  },
  {
   "cell_type": "code",
   "execution_count": 1,
   "id": "5aebf75c",
   "metadata": {},
   "outputs": [
    {
     "data": {
      "text/plain": [
       "True"
      ]
     },
     "execution_count": 1,
     "metadata": {},
     "output_type": "execute_result"
    }
   ],
   "source": [
    "from dotenv import load_dotenv\n",
    "load_dotenv()"
   ]
  },
  {
   "cell_type": "markdown",
   "id": "726df067",
   "metadata": {},
   "source": [
    "# 2. 유사도 계산하는 방법 : https://www.pinecone.io/learn/vector-similarity/\n",
    "    1. 큐클리드 거리 : 두 벡터간의 거리가 가까운지\n",
    "    2. 코사인유사도 : 두 벡터간 방향이 유사한지\n",
    "    3. dot product : 두 벡터간의 곱을 사용하여 거리와 방향을 모두 고려\n"
   ]
  },
  {
   "cell_type": "code",
   "execution_count": 2,
   "id": "d1c70656",
   "metadata": {},
   "outputs": [],
   "source": [
    "import numpy as np\n",
    "def cosine_similarity(vec1, vec2):\n",
    "    \"\"\"두 백터 사이의 코사인 유사도 계산\"\"\"\n",
    "    dot_product = np.dot(vec1, vec2)\n",
    "    norm_vec1 = np.linalg.norm(vec1)  # 벡터의 길이\n",
    "    norm_vec2 = np.linalg.norm(vec2)\n",
    "    if norm_vec1==0 or norm_vec2==0:\n",
    "        return 0.0\n",
    "    return dot_product / (norm_vec1*norm_vec2)\n"
   ]
  },
  {
   "cell_type": "markdown",
   "id": "230724ce",
   "metadata": {},
   "source": [
    "# 3. openAI API 의 embedding model 사용"
   ]
  },
  {
   "cell_type": "code",
   "execution_count": 3,
   "id": "b138c730",
   "metadata": {},
   "outputs": [],
   "source": [
    "from openai import OpenAI\n",
    "openai_client = OpenAI()"
   ]
  },
  {
   "cell_type": "code",
   "execution_count": 4,
   "id": "9e45272b",
   "metadata": {},
   "outputs": [],
   "source": [
    "# text-embedding-3-large\n",
    "response = openai_client.embeddings.create(\n",
    "    input=\"king\",\n",
    "    model=\"text-embedding-3-large\"\n",
    ")"
   ]
  },
  {
   "cell_type": "code",
   "execution_count": 9,
   "id": "90e950fb",
   "metadata": {},
   "outputs": [
    {
     "name": "stdout",
     "output_type": "stream",
     "text": [
      "(3072,)\n",
      "[ 0.01040417  0.02499519 -0.0014776  ...  0.00835009  0.01049861\n",
      " -0.00254005]\n"
     ]
    }
   ],
   "source": [
    "import numpy as np\n",
    "king_vecter = np.array(response.data[0].embedding)\n",
    "print(king_vecter.shape)\n",
    "print(king_vecter)"
   ]
  },
  {
   "cell_type": "code",
   "execution_count": 10,
   "id": "4b72e47f",
   "metadata": {},
   "outputs": [],
   "source": [
    "queen_response = openai_client.embeddings.create(\n",
    "    input=\"queen\",\n",
    "    model=\"text-embedding-3-large\"\n",
    ")"
   ]
  },
  {
   "cell_type": "code",
   "execution_count": 12,
   "id": "8c6a18de",
   "metadata": {},
   "outputs": [
    {
     "name": "stdout",
     "output_type": "stream",
     "text": [
      "(3072,)\n",
      "[-0.01385735  0.0008602  -0.0167823  ...  0.00017693  0.01159847\n",
      "  0.00638929]\n"
     ]
    }
   ],
   "source": [
    "queen_vector = np.array(queen_response.data[0].embedding)\n",
    "print(queen_vector.shape)\n",
    "print(queen_vector)"
   ]
  },
  {
   "cell_type": "code",
   "execution_count": 16,
   "id": "4abdb5cb",
   "metadata": {},
   "outputs": [
    {
     "name": "stdout",
     "output_type": "stream",
     "text": [
      "king과 queen의 유사도 : 0.5552268369726675\n"
     ]
    }
   ],
   "source": [
    "king_queen_similarity = cosine_similarity(king_vecter, queen_vector)\n",
    "print('king과 queen의 유사도 :',king_queen_similarity)"
   ]
  },
  {
   "cell_type": "code",
   "execution_count": 14,
   "id": "fe9af30f",
   "metadata": {},
   "outputs": [],
   "source": [
    "slave_response = openai_client.embeddings.create(\n",
    "    input=\"slave\",\n",
    "    model=\"text-embedding-3-large\"\n",
    ")"
   ]
  },
  {
   "cell_type": "code",
   "execution_count": 15,
   "id": "7522c9b2",
   "metadata": {},
   "outputs": [
    {
     "name": "stdout",
     "output_type": "stream",
     "text": [
      "(3072,)\n",
      "[-0.01999537  0.00620363  0.01191717 ...  0.00094749 -0.02679118\n",
      " -0.0058524 ]\n"
     ]
    }
   ],
   "source": [
    "slave_vecter = np.array(slave_response.data[0].embedding)\n",
    "print(slave_vecter.shape)\n",
    "print(slave_vecter)"
   ]
  },
  {
   "cell_type": "code",
   "execution_count": 17,
   "id": "c9f6dd8d",
   "metadata": {},
   "outputs": [
    {
     "name": "stdout",
     "output_type": "stream",
     "text": [
      "king과 slave의 유사도 : 0.2947745074537996\n"
     ]
    }
   ],
   "source": [
    "king_slave_similarity = cosine_similarity(king_vecter, slave_vecter)\n",
    "print('king과 slave의 유사도 :', king_slave_similarity)"
   ]
  },
  {
   "cell_type": "code",
   "execution_count": 40,
   "id": "9c9b526b",
   "metadata": {},
   "outputs": [],
   "source": [
    "# 한국오 문장을 벡터로 바꿔도 유사도는 비슷해야 할 듯"
   ]
  },
  {
   "cell_type": "code",
   "execution_count": 18,
   "id": "8346b4b6",
   "metadata": {},
   "outputs": [],
   "source": [
    "kor_king_response = openai_client.embeddings.create(\n",
    "    input=\"왕\",\n",
    "    model=\"text-embedding-3-large\"\n",
    ")"
   ]
  },
  {
   "cell_type": "code",
   "execution_count": 20,
   "id": "a7bde748",
   "metadata": {},
   "outputs": [
    {
     "name": "stdout",
     "output_type": "stream",
     "text": [
      "(3072,)\n"
     ]
    }
   ],
   "source": [
    "kor_king_vecter = np.array(kor_king_response.data[0].embedding)\n",
    "print(kor_king_vecter.shape)"
   ]
  },
  {
   "cell_type": "code",
   "execution_count": 22,
   "id": "e068899f",
   "metadata": {},
   "outputs": [],
   "source": [
    "kor_queen_response = openai_client.embeddings.create(\n",
    "    input=\"여왕\",\n",
    "    model=\"text-embedding-3-large\"\n",
    ")"
   ]
  },
  {
   "cell_type": "code",
   "execution_count": 23,
   "id": "271defb5",
   "metadata": {},
   "outputs": [
    {
     "name": "stdout",
     "output_type": "stream",
     "text": [
      "(3072,)\n"
     ]
    }
   ],
   "source": [
    "kor_queen_vecter = np.array(kor_queen_response.data[0].embedding)\n",
    "print(kor_queen_vecter.shape)"
   ]
  },
  {
   "cell_type": "code",
   "execution_count": null,
   "id": "0bd15b86",
   "metadata": {},
   "outputs": [
    {
     "data": {
      "text/plain": [
       "np.float64(0.48733449549538954)"
      ]
     },
     "execution_count": 24,
     "metadata": {},
     "output_type": "execute_result"
    }
   ],
   "source": [
    "# 왕과 여왕의 유사도\n",
    "cosine_similarity(kor_king_vecter, kor_queen_vecter)"
   ]
  },
  {
   "cell_type": "code",
   "execution_count": 25,
   "id": "3b777603",
   "metadata": {},
   "outputs": [],
   "source": [
    "kor_slave_response = openai_client.embeddings.create(\n",
    "    input=\"거지\",\n",
    "    model=\"text-embedding-3-large\"\n",
    ")"
   ]
  },
  {
   "cell_type": "code",
   "execution_count": 26,
   "id": "2e85dd19",
   "metadata": {},
   "outputs": [
    {
     "name": "stdout",
     "output_type": "stream",
     "text": [
      "(3072,)\n"
     ]
    }
   ],
   "source": [
    "kor_slave_vecter = np.array(kor_slave_response.data[0].embedding)\n",
    "print(kor_slave_vecter.shape)"
   ]
  },
  {
   "cell_type": "code",
   "execution_count": null,
   "id": "b569ff0e",
   "metadata": {},
   "outputs": [
    {
     "data": {
      "text/plain": [
       "np.float64(0.2552452064791607)"
      ]
     },
     "execution_count": 27,
     "metadata": {},
     "output_type": "execute_result"
    }
   ],
   "source": [
    "# 왕과 거지의 유사도\n",
    "cosine_similarity(kor_king_vecter, kor_slave_vecter)"
   ]
  },
  {
   "cell_type": "code",
   "execution_count": 28,
   "id": "db60f4f2",
   "metadata": {},
   "outputs": [
    {
     "data": {
      "text/plain": [
       "np.float64(0.5474873912140233)"
      ]
     },
     "execution_count": 28,
     "metadata": {},
     "output_type": "execute_result"
    }
   ],
   "source": [
    "# king과 왕의 유사도\n",
    "cosine_similarity(king_vecter, kor_king_vecter)"
   ]
  },
  {
   "cell_type": "markdown",
   "id": "ce624a1b",
   "metadata": {},
   "source": [
    "# 4. upstage의 embedding model 사용\n",
    "- 한국어 embedding에는 openai보다 성능이 훨신 좋다"
   ]
  },
  {
   "cell_type": "code",
   "execution_count": 29,
   "id": "948ba7a8",
   "metadata": {},
   "outputs": [],
   "source": [
    "import os\n",
    "upstage_api_key = os.getenv(\"UPSTAGE_API_KEY\")\n",
    "upstage_client = OpenAI(\n",
    "    api_key=upstage_api_key,\n",
    "    base_url=\"https://api.upstage.ai/v1\"\n",
    ")"
   ]
  },
  {
   "cell_type": "code",
   "execution_count": 30,
   "id": "c9193920",
   "metadata": {},
   "outputs": [],
   "source": [
    "up_king_response = upstage_client.embeddings.create(\n",
    "    input=\"king\",\n",
    "    model=\"embedding-query\"\n",
    ")"
   ]
  },
  {
   "cell_type": "code",
   "execution_count": 33,
   "id": "8521ef12",
   "metadata": {},
   "outputs": [
    {
     "name": "stdout",
     "output_type": "stream",
     "text": [
      "(4096,)\n",
      "[-0.01187134 -0.02058411 -0.00674438 ... -0.01082611  0.00244713\n",
      "  0.01517487]\n"
     ]
    }
   ],
   "source": [
    "up_king_vecter = np.array(up_king_response.data[0].embedding)\n",
    "print(up_king_vecter.shape)\n",
    "print(up_king_vecter)"
   ]
  },
  {
   "cell_type": "code",
   "execution_count": 34,
   "id": "28ce7689",
   "metadata": {},
   "outputs": [],
   "source": [
    "up_queen_response = upstage_client.embeddings.create(\n",
    "    input=\"queen\",\n",
    "    model=\"embedding-query\"\n",
    ")"
   ]
  },
  {
   "cell_type": "code",
   "execution_count": 35,
   "id": "727a555d",
   "metadata": {},
   "outputs": [
    {
     "name": "stdout",
     "output_type": "stream",
     "text": [
      "(4096,)\n",
      "[-0.0016222  -0.00952148 -0.00471878 ...  0.00985718 -0.00732803\n",
      "  0.0259552 ]\n"
     ]
    }
   ],
   "source": [
    "up_queen_vecter = np.array(up_queen_response.data[0].embedding)\n",
    "print(up_queen_vecter.shape)\n",
    "print(up_queen_vecter)"
   ]
  },
  {
   "cell_type": "code",
   "execution_count": 36,
   "id": "535ff472",
   "metadata": {},
   "outputs": [
    {
     "data": {
      "text/plain": [
       "np.float64(0.6277983746920601)"
      ]
     },
     "execution_count": 36,
     "metadata": {},
     "output_type": "execute_result"
    }
   ],
   "source": [
    "cosine_similarity(up_king_vecter, up_queen_vecter)"
   ]
  },
  {
   "cell_type": "code",
   "execution_count": 37,
   "id": "623bf249",
   "metadata": {},
   "outputs": [],
   "source": [
    "up_kor_king_response = upstage_client.embeddings.create(\n",
    "    input=\"왕\",\n",
    "    model=\"embedding-query\"\n",
    ")"
   ]
  },
  {
   "cell_type": "code",
   "execution_count": 38,
   "id": "db2e0173",
   "metadata": {},
   "outputs": [
    {
     "name": "stdout",
     "output_type": "stream",
     "text": [
      "(4096,)\n",
      "[-0.01210022 -0.02249146 -0.01314545 ... -0.00024557  0.00358391\n",
      "  0.01416779]\n"
     ]
    }
   ],
   "source": [
    "up_kor_king_vecter = np.array(up_kor_king_response.data[0].embedding)\n",
    "print(up_kor_king_vecter.shape)\n",
    "print(up_kor_king_vecter)"
   ]
  },
  {
   "cell_type": "code",
   "execution_count": 39,
   "id": "56f4267a",
   "metadata": {},
   "outputs": [
    {
     "data": {
      "text/plain": [
       "np.float64(0.8521901935963604)"
      ]
     },
     "execution_count": 39,
     "metadata": {},
     "output_type": "execute_result"
    }
   ],
   "source": [
    "cosine_similarity(up_king_vecter, up_kor_king_vecter)"
   ]
  }
 ],
 "metadata": {
  "kernelspec": {
   "display_name": "llm(ipykernel)",
   "language": "python",
   "name": "llm"
  },
  "language_info": {
   "codemirror_mode": {
    "name": "ipython",
    "version": 3
   },
   "file_extension": ".py",
   "mimetype": "text/x-python",
   "name": "python",
   "nbconvert_exporter": "python",
   "pygments_lexer": "ipython3",
   "version": "3.10.18"
  }
 },
 "nbformat": 4,
 "nbformat_minor": 5
}
