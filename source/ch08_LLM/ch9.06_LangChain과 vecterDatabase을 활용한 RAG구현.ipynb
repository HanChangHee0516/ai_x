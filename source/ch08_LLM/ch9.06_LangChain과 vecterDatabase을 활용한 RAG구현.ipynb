{
 "cells": [
  {
   "cell_type": "markdown",
   "id": "f0f81c67",
   "metadata": {},
   "source": [
    "# RAG 절차\n",
    "- https://law.go.kr/법령/소득세법 에서 doc다운로드(hwp는 파이썬에서 못 읽음. pdf는 한글의 경우 짤림)받아 파일형식을 docx로 변경\n",
    "\n",
    "1. 문서 읽기 (document_loader 이용)\n",
    "2. 문서 나누기 (tiktoken 이용)\n",
    "    - 모델의 context window를 초과(128,000 context window) \n",
    "    - 문서가 길면 (inout이 길면), 비용과 시간이 오래 걸림 \n",
    "3. 나눈 문서를 임베딩 -> vector database 에 저장 -> chroma(local vecter DB), pinecone(cloud vector DB)\n",
    "4. 질문과 vecter Database의 유사도 검색\n",
    "5. 유사도 검색으로 가져온 문서를 LLM애 질문과 같이 전달하여 답변 생성"
   ]
  }
 ],
 "metadata": {
  "kernelspec": {
   "display_name": "llm(ipykernel)",
   "language": "python",
   "name": "llm"
  },
  "language_info": {
   "name": "python",
   "version": "3.10.18"
  }
 },
 "nbformat": 4,
 "nbformat_minor": 5
}
