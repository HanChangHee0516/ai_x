{
 "cells": [
  {
   "cell_type": "code",
   "execution_count": 2,
   "id": "958dd4bd",
   "metadata": {},
   "outputs": [
    {
     "data": {
      "text/html": [
       "\n",
       "<style>\n",
       "div.container{width:90% !important;}\n",
       "div.cell.code_cell.rendered{width:100%;}\n",
       "div.input_prompt{padding:2px;}\n",
       "div.CodeMirror {font-family:Consolas; font-size:10pt;}\n",
       "div.text_cell_render.rendered_html{font-size:10pt;}\n",
       "div.output {font-size:10pt; font-weight:bold;}\n",
       "div.input {font-family:Consolas; font-size:10pt;}\n",
       "div.prompt {min-width:70px;}\n",
       "div#toc-wrapper{padding-top:120px;}\n",
       "div.text_cell_render ul li{font-size:11pt;padding:4px;}\n",
       "table.dataframe{font-size:10px;}\n",
       "</style>\n"
      ],
      "text/plain": [
       "<IPython.core.display.HTML object>"
      ]
     },
     "metadata": {},
     "output_type": "display_data"
    }
   ],
   "source": [
    "from IPython.display import display, HTML\n",
    "display(HTML(\"\"\"\n",
    "<style>\n",
    "div.container{width:90% !important;}\n",
    "div.cell.code_cell.rendered{width:100%;}\n",
    "div.input_prompt{padding:2px;}\n",
    "div.CodeMirror {font-family:Consolas; font-size:10pt;}\n",
    "div.text_cell_render.rendered_html{font-size:10pt;}\n",
    "div.output {font-size:10pt; font-weight:bold;}\n",
    "div.input {font-family:Consolas; font-size:10pt;}\n",
    "div.prompt {min-width:70px;}\n",
    "div#toc-wrapper{padding-top:120px;}\n",
    "div.text_cell_render ul li{font-size:11pt;padding:4px;}\n",
    "table.dataframe{font-size:10px;}\n",
    "</style>\n",
    "\"\"\"))"
   ]
  },
  {
   "cell_type": "code",
   "execution_count": 23,
   "id": "faee7fde",
   "metadata": {},
   "outputs": [],
   "source": [
    "from langchain_ollama import ChatOllama\n",
    "from langchain_core.prompts import PromptTemplate, ChatPromptTemplate\n",
    "from langchain_core.runnables import RunnablePassthrough\n",
    "from langchain_core.output_parsers import StrOutputParser"
   ]
  },
  {
   "cell_type": "markdown",
   "id": "c1be6237",
   "metadata": {},
   "source": [
    "# 1."
   ]
  },
  {
   "cell_type": "code",
   "execution_count": 9,
   "id": "0055c1c9",
   "metadata": {},
   "outputs": [
    {
     "name": "stdout",
     "output_type": "stream",
     "text": [
      "어느 나라를 입력하세요usa\n"
     ]
    },
    {
     "data": {
      "text/plain": [
       "'Taco.'"
      ]
     },
     "execution_count": 9,
     "metadata": {},
     "output_type": "execute_result"
    }
   ],
   "source": [
    "llm = ChatOllama(model='llama3.2:1b')\n",
    "country_prompt = PromptTemplate(\n",
    "    template = '''What is the most famous food in country?:{country}\n",
    "    Return the name of the food only''',\n",
    "    input_variables=['country']\n",
    "    )\n",
    "country = input('어느 나라를 입력하세요')\n",
    "prompt = country_prompt.invoke({'country':country})\n",
    "food_chain = llm.invoke(prompt)\n",
    "food_chain.content"
   ]
  },
  {
   "cell_type": "markdown",
   "id": "ffbcd2df",
   "metadata": {},
   "source": [
    "# 2."
   ]
  },
  {
   "cell_type": "code",
   "execution_count": 13,
   "id": "1ff4f4c2",
   "metadata": {
    "scrolled": true
   },
   "outputs": [
    {
     "name": "stdout",
     "output_type": "stream",
     "text": [
      "음식 이름을 입력하세요taco\n"
     ]
    },
    {
     "data": {
      "text/plain": [
       "\"Here's a delicious and authentic Mexican-inspired taco recipe that serves 4-6 people:\\n\\n**Ingredients:**\\n\\nFor the ground beef (or alternatives):\\n\\n* 1 lb ground beef (80/20 or 70/30 lean to fat ratio works well)\\n* 1 medium onion, diced\\n* 2 cloves of garlic, minced\\n* 1 tablespoon chili powder\\n* 1 teaspoon cumin\\n* 1/2 teaspoon paprika\\n* Salt and pepper, to taste\\n* 1/4 cup chopped fresh cilantro (optional)\\n\\nFor the taco fixings:\\n\\n* 8-10 corn tortillas\\n* Shredded cheese (Monterey Jack or Cheddar work well)\\n* Diced tomatoes\\n* Shredded lettuce\\n* Diced avocado\\n* Sour cream or Mexican crema (optional)\\n* Salsa (mild, medium, or hot) (store-bought or homemade)\\n* Chopped fresh cilantro\\n\\n**Step-by-Step Cooking Instructions:**\\n\\n1. **Prepare the ingredients:** Chop the onion and garlic, and measure out the chili powder, cumin, paprika, salt, and pepper.\\n2. **Brown the ground beef:** In a large skillet, heat 1 tablespoon of oil over medium-high heat. Add the diced onion and cook until translucent, about 3-4 minutes. Add the minced garlic and cook for another minute, stirring constantly to prevent burning. Add the ground beef and cook, breaking it up with a spoon or spatula, until it's no longer pink, about 5-7 minutes.\\n3. **Add spices and seasonings:** Stir in the chili powder, cumin, paprika, salt, and pepper. Cook for 1-2 minutes, allowing the flavors to meld together.\\n4. **Simmer the beef mixture:** Reduce heat to low and simmer the ground beef mixture for 10-15 minutes, stirring occasionally, until it's thickened and the flavors have melded together. If using a liquid (such as water or broth), add it to the skillet and stir to combine.\\n5. **Prepare the taco fixings:** Warm the corn tortillas by wrapping them in a damp paper towel and microwaving for 20-30 seconds. Alternatively, you can grill or toast the tortillas lightly before assembling the tacos.\\n6. **Assemble the tacos:** Spoon the beef mixture onto a warmed tortilla, followed by your desired taco fixings (cheese, diced tomatoes, shredded lettuce, avocado, sour cream or crema, salsa). Garnish with chopped cilantro, if desired.\\n\\n**Cooking Time and Servings:**\\n\\n* Cooking time for the ground beef: 10-15 minutes\\n* Preparation time for the taco fixings: 5 minutes\\n* Assembling tacos: 5 minutes\\n\\nTotal cooking time: 20-30 minutes\\nServings: 4-6 people\""
      ]
     },
     "execution_count": 13,
     "metadata": {},
     "output_type": "execute_result"
    }
   ],
   "source": [
    "country_prompt = PromptTemplate(\n",
    "    template='''Please provide a detailed recipe for {food}.\n",
    "     Include:\n",
    "    - Ingredients list\n",
    "    - Step-by-step cooking instructions\n",
    "    - Cooking time and servings\n",
    "    \n",
    "    provide a clear, easy-to-follow recipe''',\n",
    "    input_variables=['food']\n",
    "    )\n",
    "food = input('음식 이름을 입력하세요')\n",
    "prompt = country_prompt.invoke({'food':food})\n",
    "recipe_chain = llm.invoke(prompt)\n",
    "recipe_chain.content"
   ]
  },
  {
   "cell_type": "markdown",
   "id": "49ba84fd",
   "metadata": {},
   "source": [
    "# 3."
   ]
  },
  {
   "cell_type": "code",
   "execution_count": 22,
   "id": "d9cbbc98",
   "metadata": {},
   "outputs": [
    {
     "name": "stdout",
     "output_type": "stream",
     "text": [
      "어느 나라를 입력하세요korea\n"
     ]
    },
    {
     "data": {
      "text/plain": [
       "\"Bulgogi, also known as Korean BBQ, is a popular dish that originated from the Joseon Dynasty. It's a marinated beef dish that's stir-fried with garlic, ginger, and sesame oil, and served with rice or noodles. Here's a detailed recipe for Bulgogi:\\n\\n**Ingredients:**\\n\\nFor the marinade:\\n\\n* 1/2 cup soy sauce\\n* 1/4 cup Korean chili flakes (gochugaru)\\n* 2 cloves garlic, minced\\n* 1 tablespoon grated fresh ginger\\n* 2 tablespoons brown sugar\\n* 2 tablespoons rice vinegar\\n* 1 tablespoon sesame oil\\n\\nFor the beef:\\n\\n* 1 pound thinly sliced ribeye or sirloin beef\\n* 2 tablespoons cornstarch\\n\\n**Step-by-Step Cooking Instructions:**\\n\\n**Marinating Time:** At least 30 minutes to overnight (6-8 hours)\\n\\n1. In a large bowl, whisk together the marinade ingredients until smooth.\\n2. Add the sliced beef to the marinade and toss to coat evenly. Cover the bowl with plastic wrap and refrigerate for at least 30 minutes or overnight.\\n3. Preheat your grill or grill pan to medium-high heat.\\n\\n**Cooking Time:** About 10-12 minutes per side, or until the beef is cooked to desired level of doneness\\n\\n1. Remove the beef from the marinade, letting any excess liquid drip off.\\n2. Grill the beef slices for 3-4 minutes per side, or until they're cooked to your desired level of doneness.\\n3. Transfer the beef to a cutting board and let it rest for a few minutes.\\n\\n**Stir-Frying Time:** About 5-7 minutes\\n\\n1. In a large skillet or wok, heat 2 tablespoons of sesame oil over medium-high heat.\\n2. Add the minced garlic and grated ginger to the skillet and stir-fry for 30 seconds.\\n3. Add the cornstarch to the skillet and stir-fry for another minute, until it's well combined with the garlic and ginger mixture.\\n\\n**Assembly Time:** About 1-2 minutes\\n\\n1. Slice the cooked beef into thin strips.\\n2. Return the sliced beef to the skillet and stir-fry for another minute, until everything is well coated with the sauce.\\n3. Serve the Bulgogi hot over rice or noodles, garnished with green onions and toasted sesame seeds if desired.\\n\\n**Cooking Time and Servings:**\\n\\n* Cooking time: 30-40 minutes\\n* Servings: 4-6 people\\n\\nNote: You can also cook Bulgogi in a slow cooker or Instant Pot for a more hands-off cooking experience.\""
      ]
     },
     "execution_count": 22,
     "metadata": {},
     "output_type": "execute_result"
    }
   ],
   "source": [
    "llm = ChatOllama(model='llama3.2:1b')\n",
    "\n",
    "country_prompt = PromptTemplate(\n",
    "    template = '''What is the most famous food in country?:{country}\n",
    "    Return the name of the food only''',\n",
    "    input_variables=['country']\n",
    ")\n",
    "country = input('어느 나라를 입력하세요')\n",
    "prompt = country_prompt.invoke({'country':country})\n",
    "food_chain = llm.invoke(prompt)\n",
    "food_name = food_chain.content\n",
    "\n",
    "recipe_prompt = PromptTemplate(\n",
    "    template='''Please provide a detailed recipe for {food}.\n",
    "     Include:\n",
    "    - Ingredients list\n",
    "    - Step-by-step cooking instructions\n",
    "    - Cooking time and servings\n",
    "    \n",
    "    provide a clear, easy-to-follow recipe''',\n",
    "    input_variables=['food']\n",
    ")\n",
    "food = food_name \n",
    "prompt = recipe_prompt.invoke({'food':food})\n",
    "recipe_chain = llm.invoke(prompt)\n",
    "recipe_chain.content"
   ]
  },
  {
   "cell_type": "code",
   "execution_count": null,
   "id": "41710302",
   "metadata": {},
   "outputs": [],
   "source": []
  },
  {
   "cell_type": "code",
   "execution_count": null,
   "id": "88008668",
   "metadata": {},
   "outputs": [],
   "source": []
  },
  {
   "cell_type": "code",
   "execution_count": null,
   "id": "4c5344d3",
   "metadata": {},
   "outputs": [],
   "source": []
  },
  {
   "cell_type": "code",
   "execution_count": null,
   "id": "03143463",
   "metadata": {},
   "outputs": [],
   "source": []
  },
  {
   "cell_type": "code",
   "execution_count": null,
   "id": "1341bec9",
   "metadata": {},
   "outputs": [],
   "source": []
  },
  {
   "cell_type": "code",
   "execution_count": null,
   "id": "765e53da",
   "metadata": {},
   "outputs": [],
   "source": []
  },
  {
   "cell_type": "code",
   "execution_count": null,
   "id": "2efeea65",
   "metadata": {},
   "outputs": [],
   "source": []
  },
  {
   "cell_type": "code",
   "execution_count": null,
   "id": "8b90893f",
   "metadata": {},
   "outputs": [],
   "source": []
  },
  {
   "cell_type": "code",
   "execution_count": null,
   "id": "0a95def4",
   "metadata": {},
   "outputs": [],
   "source": []
  },
  {
   "cell_type": "code",
   "execution_count": null,
   "id": "bdf5ee0d",
   "metadata": {},
   "outputs": [],
   "source": []
  },
  {
   "cell_type": "code",
   "execution_count": null,
   "id": "29acf90e",
   "metadata": {},
   "outputs": [],
   "source": []
  },
  {
   "cell_type": "code",
   "execution_count": null,
   "id": "272aad36",
   "metadata": {},
   "outputs": [],
   "source": []
  },
  {
   "cell_type": "code",
   "execution_count": null,
   "id": "c74c5a81",
   "metadata": {},
   "outputs": [],
   "source": []
  },
  {
   "cell_type": "code",
   "execution_count": null,
   "id": "1911ecf6",
   "metadata": {},
   "outputs": [],
   "source": []
  },
  {
   "cell_type": "code",
   "execution_count": null,
   "id": "8eb40e6a",
   "metadata": {},
   "outputs": [],
   "source": []
  },
  {
   "cell_type": "code",
   "execution_count": null,
   "id": "61ffdb82",
   "metadata": {},
   "outputs": [],
   "source": []
  },
  {
   "cell_type": "code",
   "execution_count": null,
   "id": "f12f7533",
   "metadata": {},
   "outputs": [],
   "source": []
  },
  {
   "cell_type": "code",
   "execution_count": null,
   "id": "14ae1e2a",
   "metadata": {},
   "outputs": [],
   "source": []
  },
  {
   "cell_type": "code",
   "execution_count": null,
   "id": "bdbbbd5d",
   "metadata": {},
   "outputs": [],
   "source": []
  },
  {
   "cell_type": "code",
   "execution_count": null,
   "id": "b2545426",
   "metadata": {},
   "outputs": [],
   "source": []
  },
  {
   "cell_type": "code",
   "execution_count": null,
   "id": "154a3908",
   "metadata": {},
   "outputs": [],
   "source": []
  },
  {
   "cell_type": "code",
   "execution_count": null,
   "id": "cd88fc7a",
   "metadata": {},
   "outputs": [],
   "source": []
  },
  {
   "cell_type": "code",
   "execution_count": null,
   "id": "b5bd3389",
   "metadata": {},
   "outputs": [],
   "source": []
  },
  {
   "cell_type": "code",
   "execution_count": null,
   "id": "1a43448d",
   "metadata": {},
   "outputs": [],
   "source": []
  },
  {
   "cell_type": "code",
   "execution_count": null,
   "id": "ad5307f4",
   "metadata": {},
   "outputs": [],
   "source": []
  },
  {
   "cell_type": "code",
   "execution_count": null,
   "id": "ce4f8001",
   "metadata": {},
   "outputs": [],
   "source": []
  },
  {
   "cell_type": "code",
   "execution_count": null,
   "id": "bdc9cf58",
   "metadata": {},
   "outputs": [],
   "source": []
  },
  {
   "cell_type": "code",
   "execution_count": null,
   "id": "10c1206b",
   "metadata": {},
   "outputs": [],
   "source": []
  },
  {
   "cell_type": "code",
   "execution_count": null,
   "id": "cc39e81b",
   "metadata": {},
   "outputs": [],
   "source": []
  },
  {
   "cell_type": "code",
   "execution_count": null,
   "id": "7e67376d",
   "metadata": {},
   "outputs": [],
   "source": []
  },
  {
   "cell_type": "code",
   "execution_count": null,
   "id": "fcbcb146",
   "metadata": {},
   "outputs": [],
   "source": []
  },
  {
   "cell_type": "code",
   "execution_count": null,
   "id": "7de0a2c3",
   "metadata": {},
   "outputs": [],
   "source": []
  },
  {
   "cell_type": "code",
   "execution_count": null,
   "id": "cb41fda6",
   "metadata": {},
   "outputs": [],
   "source": []
  },
  {
   "cell_type": "code",
   "execution_count": null,
   "id": "1e298aa6",
   "metadata": {},
   "outputs": [],
   "source": []
  },
  {
   "cell_type": "code",
   "execution_count": null,
   "id": "70ec00f0",
   "metadata": {},
   "outputs": [],
   "source": []
  },
  {
   "cell_type": "code",
   "execution_count": null,
   "id": "aa958759",
   "metadata": {},
   "outputs": [],
   "source": []
  },
  {
   "cell_type": "code",
   "execution_count": null,
   "id": "aa56aa5a",
   "metadata": {},
   "outputs": [],
   "source": []
  },
  {
   "cell_type": "code",
   "execution_count": null,
   "id": "12acf2dc",
   "metadata": {},
   "outputs": [],
   "source": []
  },
  {
   "cell_type": "code",
   "execution_count": null,
   "id": "6ae0852e",
   "metadata": {},
   "outputs": [],
   "source": []
  },
  {
   "cell_type": "code",
   "execution_count": null,
   "id": "5991782e",
   "metadata": {},
   "outputs": [],
   "source": []
  },
  {
   "cell_type": "code",
   "execution_count": null,
   "id": "aa395ec5",
   "metadata": {},
   "outputs": [],
   "source": []
  },
  {
   "cell_type": "code",
   "execution_count": null,
   "id": "7e8922a6",
   "metadata": {},
   "outputs": [],
   "source": []
  },
  {
   "cell_type": "code",
   "execution_count": null,
   "id": "c3037dd8",
   "metadata": {},
   "outputs": [],
   "source": []
  },
  {
   "cell_type": "code",
   "execution_count": null,
   "id": "6bdd5172",
   "metadata": {},
   "outputs": [],
   "source": []
  },
  {
   "cell_type": "code",
   "execution_count": null,
   "id": "12197d90",
   "metadata": {},
   "outputs": [],
   "source": []
  },
  {
   "cell_type": "code",
   "execution_count": null,
   "id": "ce7be656",
   "metadata": {},
   "outputs": [],
   "source": []
  },
  {
   "cell_type": "code",
   "execution_count": null,
   "id": "db3945d9",
   "metadata": {},
   "outputs": [],
   "source": []
  },
  {
   "cell_type": "code",
   "execution_count": null,
   "id": "d5cddbaa",
   "metadata": {},
   "outputs": [],
   "source": []
  },
  {
   "cell_type": "code",
   "execution_count": null,
   "id": "4673fbc1",
   "metadata": {},
   "outputs": [],
   "source": []
  },
  {
   "cell_type": "code",
   "execution_count": null,
   "id": "6b2181a0",
   "metadata": {},
   "outputs": [],
   "source": []
  }
 ],
 "metadata": {
  "kernelspec": {
   "display_name": "llm(ipykernel)",
   "language": "python",
   "name": "llm"
  },
  "language_info": {
   "codemirror_mode": {
    "name": "ipython",
    "version": 3
   },
   "file_extension": ".py",
   "mimetype": "text/x-python",
   "name": "python",
   "nbconvert_exporter": "python",
   "pygments_lexer": "ipython3",
   "version": "3.10.18"
  },
  "toc": {
   "base_numbering": 1,
   "nav_menu": {},
   "number_sections": false,
   "sideBar": true,
   "skip_h1_title": false,
   "title_cell": "Table of Contents",
   "title_sidebar": "Contents",
   "toc_cell": false,
   "toc_position": {
    "height": "calc(100% - 180px)",
    "left": "10px",
    "top": "150px",
    "width": "174.6px"
   },
   "toc_section_display": true,
   "toc_window_display": true
  }
 },
 "nbformat": 4,
 "nbformat_minor": 5
}
