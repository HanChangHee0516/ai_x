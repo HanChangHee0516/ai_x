{
 "cells": [
  {
   "cell_type": "code",
   "execution_count": 22,
   "id": "948a2202",
   "metadata": {},
   "outputs": [
    {
     "data": {
      "text/html": [
       "\n",
       "<style>\n",
       "div.container{width:90% !important;}\n",
       "div.cell.code_cell.rendered{width:100%;}\n",
       "div.input_prompt{padding:2px;}\n",
       "div.CodeMirror {font-family:Consolas; font-size:10pt;}\n",
       "div.text_cell_render.rendered_html{font-size:10pt;}\n",
       "div.output {font-size:10pt; font-weight:bold;}\n",
       "div.input {font-family:Consolas; font-size:10pt;}\n",
       "div.prompt {min-width:70px;}\n",
       "div#toc-wrapper{padding-top:120px;}\n",
       "div.text_cell_render ul li{font-size:11pt;padding:4px;}\n",
       "table.dataframe{font-size:10px;}\n",
       "</style>\n"
      ],
      "text/plain": [
       "<IPython.core.display.HTML object>"
      ]
     },
     "metadata": {},
     "output_type": "display_data"
    }
   ],
   "source": [
    "from IPython.display import display, HTML\n",
    "display(HTML(\"\"\"\n",
    "<style>\n",
    "div.container{width:90% !important;}\n",
    "div.cell.code_cell.rendered{width:100%;}\n",
    "div.input_prompt{padding:2px;}\n",
    "div.CodeMirror {font-family:Consolas; font-size:10pt;}\n",
    "div.text_cell_render.rendered_html{font-size:10pt;}\n",
    "div.output {font-size:10pt; font-weight:bold;}\n",
    "div.input {font-family:Consolas; font-size:10pt;}\n",
    "div.prompt {min-width:70px;}\n",
    "div#toc-wrapper{padding-top:120px;}\n",
    "div.text_cell_render ul li{font-size:11pt;padding:4px;}\n",
    "table.dataframe{font-size:10px;}\n",
    "</style>\n",
    "\"\"\"))"
   ]
  },
  {
   "cell_type": "code",
   "execution_count": 2,
   "id": "830dd634",
   "metadata": {},
   "outputs": [],
   "source": [
    "from tensorflow.keras.utils import to_categorical  # 분류분석시 원한 인코딩\n",
    "from tensorflow.keras.models import Sequential   # 모델 생성\n",
    "from tensorflow.keras.layers import Dense,Input\n",
    "import numpy as np"
   ]
  },
  {
   "cell_type": "markdown",
   "id": "7dcdc223",
   "metadata": {},
   "source": [
    "# 머신러닝/딥러닝 : 데이터의 법칙성을 추출\n",
    "- 다양한 분야에서 응용 : 글씨인식, 문장분류,  질병분류, \n",
    "※ ML/DL의 종류\n",
    " - 지도학습(독립=입력변수와 종속=타겟=출력변수가 모두 주어졌을 경우)\n",
    "     회귀분석(타겟변수가 연속형) vs분류분석(multi, binary)\n",
    "- 비지도 학습(입력변수만)\n",
    "    군집화\n",
    "- 강화학습\n",
    "\n",
    "※ 지도학습에서의 ML, DL 프로그래밍 방식\n",
    "1. 데이터셋 확보(input=입력변수, target=종속변수)\n",
    "    원본 데이터 및 시뮬레이션을 통해 데이터 생성\n",
    "2. 전처리\n",
    "    스케일 조정\n",
    "    훈렬섹(학습셋), 검증셋, 시험셋(테이스셋)\n",
    "    학습 및 평가 가능한 포멧으로 변환\n",
    "3. 모델 구성\n",
    "    sequential 객체 생성뒤 필요한 층을 add()함수로 추가\n",
    "4. 모델 학습과정 설정\n",
    "    compile()함수 이용, 손실함수, optimizer, metrics(평가지표)\n",
    "5. 모델학습시키기 ( ft. 학습과정 지켜보기)\n",
    "       fit()함수 이용- 훈련셋입력 = 독입변수, 훈련셋타케스 종속변수, 학습횟수, 검증셋\n",
    "6. 모델 평가\n",
    "        시험셋(테스트셋)을 인자로 넣은 evaluate()함수 이용, 그래프\n",
    "7. 모델 사용\n",
    "        predict() 이용, 입력데이터는 2차원 데이터 [ [ 0 ] ]\n",
    "8. 모델 저장\n",
    "        save()함수를 이용해서 저장. 저장된 모델은 load_model()함수를 이용해서 불러올 수 있음"
   ]
  },
  {
   "cell_type": "markdown",
   "id": "bb57e97a",
   "metadata": {},
   "source": [
    "# 1. 데이터 셋 생성\n",
    "# 2. 데이터 전처리"
   ]
  },
  {
   "cell_type": "code",
   "execution_count": 3,
   "id": "6a6232be",
   "metadata": {},
   "outputs": [
    {
     "data": {
      "text/plain": [
       "((90,), (9,), (9,), (90,), (9,), (9,))"
      ]
     },
     "execution_count": 3,
     "metadata": {},
     "output_type": "execute_result"
    }
   ],
   "source": [
    "# 학습데이터 = 훈련데이터\n",
    "x_train = np.array([1,2,3,4,5,6,7,8,9]*10)\n",
    "y_train = np.array([2,4,6,8,10,12,14,16,18]*10)\n",
    "# 검증데이터\n",
    "x_val = np.array([1,2,3,4,5,6,7,8,9])\n",
    "y_val = np.array([2,4,6,8,10,12,14,16,18])\n",
    "# 검증데이터 = 시험테스트\n",
    "x_test = np.array([1,2,3,4,5,6,7,8,9])\n",
    "y_test = np.array([2,4,6,8,10,12,14,16,18])\n",
    "x_train.shape, x_val.shape, x_test.shape, y_train.shape, y_val.shape, y_test.shape"
   ]
  },
  {
   "cell_type": "code",
   "execution_count": 4,
   "id": "8a01f6b6",
   "metadata": {},
   "outputs": [
    {
     "name": "stdout",
     "output_type": "stream",
     "text": [
      "원 데이터 :  ['a' 'b' 'c' 'd']\n",
      "라벨인코딩된 데이터 :  [0 1 2 3]\n",
      "원 핫 인코딩된 데이터 :  [[1. 0. 0. 0.]\n",
      " [0. 1. 0. 0.]\n",
      " [0. 0. 1. 0.]\n",
      " [0. 0. 0. 1.]]\n"
     ]
    }
   ],
   "source": [
    "# 인코딩 종류\n",
    "data = np.array(['a','b','c','d'])\n",
    "print('원 데이터 : ',data)\n",
    "from sklearn.preprocessing import LabelEncoder\n",
    "le = LabelEncoder()\n",
    "# le.fit(data)\n",
    "# labeled_data = le.transform(data)\n",
    "labeled_data = le.fit_transform(data)\n",
    "print('라벨인코딩된 데이터 : ', labeled_data)\n",
    "one_hot_encoded_data = to_categorical(labeled_data)\n",
    "print('원 핫 인코딩된 데이터 : ',one_hot_encoded_data)"
   ]
  },
  {
   "cell_type": "code",
   "execution_count": 5,
   "id": "c4f41d9d",
   "metadata": {},
   "outputs": [
    {
     "name": "stdout",
     "output_type": "stream",
     "text": [
      "[1 2 2 4 2]\n",
      "to_categorical을 이용한 원핫인코딩 :\n",
      " [[0. 1. 0. 0. 0.]\n",
      " [0. 0. 1. 0. 0.]\n",
      " [0. 0. 1. 0. 0.]\n",
      " [0. 0. 0. 0. 1.]\n",
      " [0. 0. 1. 0. 0.]]\n"
     ]
    },
    {
     "data": {
      "text/plain": [
       "'get_dumies를 이용한 원핫인코딩 : '"
      ]
     },
     "metadata": {},
     "output_type": "display_data"
    },
    {
     "data": {
      "text/html": [
       "<div>\n",
       "<style scoped>\n",
       "    .dataframe tbody tr th:only-of-type {\n",
       "        vertical-align: middle;\n",
       "    }\n",
       "\n",
       "    .dataframe tbody tr th {\n",
       "        vertical-align: top;\n",
       "    }\n",
       "\n",
       "    .dataframe thead th {\n",
       "        text-align: right;\n",
       "    }\n",
       "</style>\n",
       "<table border=\"1\" class=\"dataframe\">\n",
       "  <thead>\n",
       "    <tr style=\"text-align: right;\">\n",
       "      <th></th>\n",
       "      <th>1</th>\n",
       "      <th>2</th>\n",
       "      <th>4</th>\n",
       "    </tr>\n",
       "  </thead>\n",
       "  <tbody>\n",
       "    <tr>\n",
       "      <th>0</th>\n",
       "      <td>1</td>\n",
       "      <td>0</td>\n",
       "      <td>0</td>\n",
       "    </tr>\n",
       "    <tr>\n",
       "      <th>1</th>\n",
       "      <td>0</td>\n",
       "      <td>1</td>\n",
       "      <td>0</td>\n",
       "    </tr>\n",
       "    <tr>\n",
       "      <th>2</th>\n",
       "      <td>0</td>\n",
       "      <td>1</td>\n",
       "      <td>0</td>\n",
       "    </tr>\n",
       "    <tr>\n",
       "      <th>3</th>\n",
       "      <td>0</td>\n",
       "      <td>0</td>\n",
       "      <td>1</td>\n",
       "    </tr>\n",
       "    <tr>\n",
       "      <th>4</th>\n",
       "      <td>0</td>\n",
       "      <td>1</td>\n",
       "      <td>0</td>\n",
       "    </tr>\n",
       "  </tbody>\n",
       "</table>\n",
       "</div>"
      ],
      "text/plain": [
       "   1  2  4\n",
       "0  1  0  0\n",
       "1  0  1  0\n",
       "2  0  1  0\n",
       "3  0  0  1\n",
       "4  0  1  0"
      ]
     },
     "metadata": {},
     "output_type": "display_data"
    },
    {
     "name": "stdout",
     "output_type": "stream",
     "text": [
      "<class 'pandas.core.frame.DataFrame'>\n"
     ]
    }
   ],
   "source": [
    "# 분류분석을 하기 위해 target을 원핫인코딩(라벨링 전환)\n",
    "data = np.array([1,2,2,4,2])\n",
    "print(data)\n",
    "categorical_one_hot = to_categorical(data)\n",
    "print('to_categorical을 이용한 원핫인코딩 :\\n', categorical_one_hot)\n",
    "import pandas as pd\n",
    "get_dumies_one_hot = pd.get_dummies(data)\n",
    "display('get_dumies를 이용한 원핫인코딩 : ', get_dumies_one_hot)\n",
    "print(type(get_dumies_one_hot))\n"
   ]
  },
  {
   "cell_type": "code",
   "execution_count": 6,
   "id": "25e685e4",
   "metadata": {},
   "outputs": [],
   "source": [
    "# 분류분석을 위한 target변수 라벨링 전환(=원핫인코딩)\n",
    "Y_train = to_categorical(y_train, 19)\n",
    "Y_val = to_categorical(y_val)\n",
    "Y_test = to_categorical(y_test)"
   ]
  },
  {
   "cell_type": "code",
   "execution_count": 7,
   "id": "55778e31",
   "metadata": {},
   "outputs": [
    {
     "name": "stdout",
     "output_type": "stream",
     "text": [
      "훈련셋 구조 :  (90,) (90, 19)\n",
      "검증셋 구조 :  (9,) (9, 19)\n",
      "테스트셋 구조 :  (9,) (9, 19)\n"
     ]
    }
   ],
   "source": [
    "print('훈련셋 구조 : ', x_train.shape, Y_train.shape)#  독립변수 1개, 타겟변수 19개\n",
    "print('검증셋 구조 : ', x_val.shape, Y_val.shape)\n",
    "print('테스트셋 구조 : ', x_test.shape, Y_test.shape)"
   ]
  },
  {
   "cell_type": "markdown",
   "id": "6f3ca530",
   "metadata": {},
   "source": [
    "# 3. 모델 구성하기"
   ]
  },
  {
   "cell_type": "code",
   "execution_count": 6,
   "id": "f7964989",
   "metadata": {},
   "outputs": [
    {
     "name": "stdout",
     "output_type": "stream",
     "text": [
      "Model: \"sequential\"\n",
      "_________________________________________________________________\n",
      " Layer (type)                Output Shape              Param #   \n",
      "=================================================================\n",
      " dense (Dense)               (None, 38)                76        \n",
      "                                                                 \n",
      " dense_1 (Dense)             (None, 64)                2496      \n",
      "                                                                 \n",
      " dense_2 (Dense)             (None, 32)                2080      \n",
      "                                                                 \n",
      " dense_3 (Dense)             (None, 19)                627       \n",
      "                                                                 \n",
      "=================================================================\n",
      "Total params: 5,279\n",
      "Trainable params: 5,279\n",
      "Non-trainable params: 0\n",
      "_________________________________________________________________\n"
     ]
    }
   ],
   "source": [
    "model = Sequential()\n",
    "model.add(Input(shape=(1,)))  # 입력층\n",
    "model.add(Dense(units=38, activation='sigmoid'))  # units출력수, 활성화함수: relu, tanh\n",
    "model.add(Dense(units=64, activation='elu'))\n",
    "model.add(Dense(units=32, activation='elu'))\n",
    "model.add(Dense(units=19, activation='softmax'))\n",
    "# softmax : 모든 출력결과의 합이 1. 분류분석 마지막 layer(출력층)에서 activation으로\n",
    "model.summary()"
   ]
  },
  {
   "cell_type": "markdown",
   "id": "b0feea53",
   "metadata": {},
   "source": [
    "# 4. 모델 학습과정 설정"
   ]
  },
  {
   "cell_type": "code",
   "execution_count": 9,
   "id": "34ba1a79",
   "metadata": {},
   "outputs": [],
   "source": [
    "model.compile(loss='categorical_crossentropy',  # 분류분석에서의 손실함수(원핫인코딩有)\n",
    "              optimizer='sgd',\n",
    "              metrics=['accuracy'])  # 평가지표 : accuracy"
   ]
  },
  {
   "cell_type": "markdown",
   "id": "c504431f",
   "metadata": {},
   "source": [
    "# 5. 모델 학습시키기"
   ]
  },
  {
   "cell_type": "code",
   "execution_count": 10,
   "id": "3dc2462d",
   "metadata": {},
   "outputs": [
    {
     "name": "stdout",
     "output_type": "stream",
     "text": [
      "Epoch 1/300\n",
      "9/9 - 1s - loss: 3.1584 - accuracy: 0.0000e+00 - val_loss: 2.9654 - val_accuracy: 0.0000e+00 - 652ms/epoch - 72ms/step\n",
      "Epoch 2/300\n",
      "9/9 - 0s - loss: 2.8836 - accuracy: 0.1333 - val_loss: 2.7748 - val_accuracy: 0.2222 - 45ms/epoch - 5ms/step\n",
      "Epoch 3/300\n",
      "9/9 - 0s - loss: 2.7296 - accuracy: 0.0778 - val_loss: 2.6544 - val_accuracy: 0.1111 - 47ms/epoch - 5ms/step\n",
      "Epoch 4/300\n",
      "9/9 - 0s - loss: 2.6283 - accuracy: 0.1000 - val_loss: 2.5696 - val_accuracy: 0.1111 - 40ms/epoch - 4ms/step\n",
      "Epoch 5/300\n",
      "9/9 - 0s - loss: 2.5521 - accuracy: 0.1111 - val_loss: 2.5062 - val_accuracy: 0.1111 - 37ms/epoch - 4ms/step\n",
      "Epoch 6/300\n",
      "9/9 - 0s - loss: 2.4973 - accuracy: 0.1111 - val_loss: 2.4554 - val_accuracy: 0.1111 - 43ms/epoch - 5ms/step\n",
      "Epoch 7/300\n",
      "9/9 - 0s - loss: 2.4494 - accuracy: 0.1889 - val_loss: 2.4128 - val_accuracy: 0.1111 - 38ms/epoch - 4ms/step\n",
      "Epoch 8/300\n",
      "9/9 - 0s - loss: 2.4118 - accuracy: 0.1222 - val_loss: 2.3761 - val_accuracy: 0.2222 - 34ms/epoch - 4ms/step\n",
      "Epoch 9/300\n",
      "9/9 - 0s - loss: 2.3757 - accuracy: 0.1667 - val_loss: 2.3438 - val_accuracy: 0.2222 - 41ms/epoch - 5ms/step\n",
      "Epoch 10/300\n",
      "9/9 - 0s - loss: 2.3478 - accuracy: 0.2222 - val_loss: 2.3153 - val_accuracy: 0.2222 - 45ms/epoch - 5ms/step\n",
      "Epoch 11/300\n",
      "9/9 - 0s - loss: 2.3225 - accuracy: 0.2222 - val_loss: 2.2898 - val_accuracy: 0.2222 - 44ms/epoch - 5ms/step\n",
      "Epoch 12/300\n",
      "9/9 - 0s - loss: 2.2954 - accuracy: 0.2222 - val_loss: 2.2666 - val_accuracy: 0.2222 - 42ms/epoch - 5ms/step\n",
      "Epoch 13/300\n",
      "9/9 - 0s - loss: 2.2734 - accuracy: 0.2222 - val_loss: 2.2455 - val_accuracy: 0.2222 - 42ms/epoch - 5ms/step\n",
      "Epoch 14/300\n",
      "9/9 - 0s - loss: 2.2471 - accuracy: 0.2333 - val_loss: 2.2263 - val_accuracy: 0.2222 - 46ms/epoch - 5ms/step\n",
      "Epoch 15/300\n",
      "9/9 - 0s - loss: 2.2322 - accuracy: 0.2111 - val_loss: 2.2089 - val_accuracy: 0.2222 - 43ms/epoch - 5ms/step\n",
      "Epoch 16/300\n",
      "9/9 - 0s - loss: 2.2244 - accuracy: 0.1889 - val_loss: 2.1924 - val_accuracy: 0.2222 - 43ms/epoch - 5ms/step\n",
      "Epoch 17/300\n",
      "9/9 - 0s - loss: 2.2032 - accuracy: 0.2111 - val_loss: 2.1772 - val_accuracy: 0.3333 - 44ms/epoch - 5ms/step\n",
      "Epoch 18/300\n",
      "9/9 - 0s - loss: 2.1950 - accuracy: 0.2111 - val_loss: 2.1626 - val_accuracy: 0.2222 - 44ms/epoch - 5ms/step\n",
      "Epoch 19/300\n",
      "9/9 - 0s - loss: 2.1775 - accuracy: 0.1778 - val_loss: 2.1493 - val_accuracy: 0.2222 - 40ms/epoch - 4ms/step\n",
      "Epoch 20/300\n",
      "9/9 - 0s - loss: 2.1589 - accuracy: 0.2333 - val_loss: 2.1361 - val_accuracy: 0.3333 - 36ms/epoch - 4ms/step\n",
      "Epoch 21/300\n",
      "9/9 - 0s - loss: 2.1497 - accuracy: 0.1333 - val_loss: 2.1234 - val_accuracy: 0.2222 - 42ms/epoch - 5ms/step\n",
      "Epoch 22/300\n",
      "9/9 - 0s - loss: 2.1338 - accuracy: 0.2111 - val_loss: 2.1112 - val_accuracy: 0.1111 - 35ms/epoch - 4ms/step\n",
      "Epoch 23/300\n",
      "9/9 - 0s - loss: 2.1212 - accuracy: 0.1556 - val_loss: 2.0989 - val_accuracy: 0.2222 - 46ms/epoch - 5ms/step\n",
      "Epoch 24/300\n",
      "9/9 - 0s - loss: 2.1116 - accuracy: 0.2778 - val_loss: 2.0869 - val_accuracy: 0.1111 - 41ms/epoch - 5ms/step\n",
      "Epoch 25/300\n",
      "9/9 - 0s - loss: 2.0995 - accuracy: 0.2000 - val_loss: 2.0753 - val_accuracy: 0.2222 - 45ms/epoch - 5ms/step\n",
      "Epoch 26/300\n",
      "9/9 - 0s - loss: 2.0892 - accuracy: 0.2556 - val_loss: 2.0632 - val_accuracy: 0.2222 - 40ms/epoch - 4ms/step\n",
      "Epoch 27/300\n",
      "9/9 - 0s - loss: 2.0805 - accuracy: 0.1778 - val_loss: 2.0515 - val_accuracy: 0.2222 - 40ms/epoch - 4ms/step\n",
      "Epoch 28/300\n",
      "9/9 - 0s - loss: 2.0683 - accuracy: 0.1889 - val_loss: 2.0404 - val_accuracy: 0.1111 - 42ms/epoch - 5ms/step\n",
      "Epoch 29/300\n",
      "9/9 - 0s - loss: 2.0621 - accuracy: 0.2222 - val_loss: 2.0280 - val_accuracy: 0.3333 - 39ms/epoch - 4ms/step\n",
      "Epoch 30/300\n",
      "9/9 - 0s - loss: 2.0378 - accuracy: 0.1667 - val_loss: 2.0165 - val_accuracy: 0.3333 - 41ms/epoch - 5ms/step\n",
      "Epoch 31/300\n",
      "9/9 - 0s - loss: 2.0310 - accuracy: 0.2889 - val_loss: 2.0041 - val_accuracy: 0.3333 - 43ms/epoch - 5ms/step\n",
      "Epoch 32/300\n",
      "9/9 - 0s - loss: 2.0180 - accuracy: 0.2556 - val_loss: 1.9916 - val_accuracy: 0.1111 - 40ms/epoch - 4ms/step\n",
      "Epoch 33/300\n",
      "9/9 - 0s - loss: 2.0135 - accuracy: 0.2222 - val_loss: 1.9792 - val_accuracy: 0.3333 - 40ms/epoch - 4ms/step\n",
      "Epoch 34/300\n",
      "9/9 - 0s - loss: 1.9957 - accuracy: 0.2111 - val_loss: 1.9667 - val_accuracy: 0.2222 - 39ms/epoch - 4ms/step\n",
      "Epoch 35/300\n",
      "9/9 - 0s - loss: 1.9845 - accuracy: 0.2222 - val_loss: 1.9547 - val_accuracy: 0.3333 - 44ms/epoch - 5ms/step\n",
      "Epoch 36/300\n",
      "9/9 - 0s - loss: 1.9774 - accuracy: 0.2444 - val_loss: 1.9418 - val_accuracy: 0.1111 - 42ms/epoch - 5ms/step\n",
      "Epoch 37/300\n",
      "9/9 - 0s - loss: 1.9544 - accuracy: 0.1778 - val_loss: 1.9282 - val_accuracy: 0.1111 - 44ms/epoch - 5ms/step\n",
      "Epoch 38/300\n",
      "9/9 - 0s - loss: 1.9442 - accuracy: 0.1778 - val_loss: 1.9156 - val_accuracy: 0.2222 - 45ms/epoch - 5ms/step\n",
      "Epoch 39/300\n",
      "9/9 - 0s - loss: 1.9280 - accuracy: 0.1778 - val_loss: 1.9011 - val_accuracy: 0.2222 - 44ms/epoch - 5ms/step\n",
      "Epoch 40/300\n",
      "9/9 - 0s - loss: 1.9226 - accuracy: 0.2222 - val_loss: 1.8896 - val_accuracy: 0.3333 - 38ms/epoch - 4ms/step\n",
      "Epoch 41/300\n",
      "9/9 - 0s - loss: 1.9101 - accuracy: 0.3111 - val_loss: 1.8743 - val_accuracy: 0.2222 - 37ms/epoch - 4ms/step\n",
      "Epoch 42/300\n",
      "9/9 - 0s - loss: 1.8832 - accuracy: 0.3222 - val_loss: 1.8603 - val_accuracy: 0.2222 - 42ms/epoch - 5ms/step\n",
      "Epoch 43/300\n",
      "9/9 - 0s - loss: 1.8734 - accuracy: 0.2889 - val_loss: 1.8462 - val_accuracy: 0.3333 - 34ms/epoch - 4ms/step\n",
      "Epoch 44/300\n",
      "9/9 - 0s - loss: 1.8615 - accuracy: 0.2333 - val_loss: 1.8324 - val_accuracy: 0.3333 - 43ms/epoch - 5ms/step\n",
      "Epoch 45/300\n",
      "9/9 - 0s - loss: 1.8479 - accuracy: 0.2889 - val_loss: 1.8189 - val_accuracy: 0.2222 - 34ms/epoch - 4ms/step\n",
      "Epoch 46/300\n",
      "9/9 - 0s - loss: 1.8403 - accuracy: 0.2111 - val_loss: 1.8050 - val_accuracy: 0.2222 - 41ms/epoch - 5ms/step\n",
      "Epoch 47/300\n",
      "9/9 - 0s - loss: 1.8216 - accuracy: 0.3111 - val_loss: 1.7911 - val_accuracy: 0.2222 - 38ms/epoch - 4ms/step\n",
      "Epoch 48/300\n",
      "9/9 - 0s - loss: 1.8056 - accuracy: 0.2778 - val_loss: 1.7786 - val_accuracy: 0.3333 - 38ms/epoch - 4ms/step\n",
      "Epoch 49/300\n",
      "9/9 - 0s - loss: 1.7955 - accuracy: 0.2667 - val_loss: 1.7630 - val_accuracy: 0.3333 - 40ms/epoch - 4ms/step\n",
      "Epoch 50/300\n",
      "9/9 - 0s - loss: 1.7764 - accuracy: 0.2556 - val_loss: 1.7505 - val_accuracy: 0.2222 - 40ms/epoch - 4ms/step\n",
      "Epoch 51/300\n",
      "9/9 - 0s - loss: 1.7622 - accuracy: 0.2333 - val_loss: 1.7351 - val_accuracy: 0.3333 - 42ms/epoch - 5ms/step\n",
      "Epoch 52/300\n",
      "9/9 - 0s - loss: 1.7569 - accuracy: 0.2667 - val_loss: 1.7218 - val_accuracy: 0.4444 - 41ms/epoch - 5ms/step\n",
      "Epoch 53/300\n",
      "9/9 - 0s - loss: 1.7419 - accuracy: 0.3111 - val_loss: 1.7088 - val_accuracy: 0.2222 - 39ms/epoch - 4ms/step\n",
      "Epoch 54/300\n",
      "9/9 - 0s - loss: 1.7208 - accuracy: 0.2889 - val_loss: 1.6967 - val_accuracy: 0.3333 - 38ms/epoch - 4ms/step\n",
      "Epoch 55/300\n",
      "9/9 - 0s - loss: 1.7153 - accuracy: 0.2000 - val_loss: 1.6819 - val_accuracy: 0.2222 - 42ms/epoch - 5ms/step\n",
      "Epoch 56/300\n",
      "9/9 - 0s - loss: 1.7022 - accuracy: 0.2667 - val_loss: 1.6690 - val_accuracy: 0.3333 - 39ms/epoch - 4ms/step\n",
      "Epoch 57/300\n",
      "9/9 - 0s - loss: 1.6861 - accuracy: 0.3111 - val_loss: 1.6556 - val_accuracy: 0.2222 - 40ms/epoch - 4ms/step\n",
      "Epoch 58/300\n",
      "9/9 - 0s - loss: 1.6728 - accuracy: 0.3222 - val_loss: 1.6458 - val_accuracy: 0.2222 - 41ms/epoch - 5ms/step\n",
      "Epoch 59/300\n",
      "9/9 - 0s - loss: 1.6572 - accuracy: 0.2333 - val_loss: 1.6300 - val_accuracy: 0.4444 - 40ms/epoch - 4ms/step\n",
      "Epoch 60/300\n",
      "9/9 - 0s - loss: 1.6471 - accuracy: 0.3222 - val_loss: 1.6174 - val_accuracy: 0.3333 - 43ms/epoch - 5ms/step\n",
      "Epoch 61/300\n",
      "9/9 - 0s - loss: 1.6312 - accuracy: 0.3333 - val_loss: 1.6049 - val_accuracy: 0.4444 - 39ms/epoch - 4ms/step\n",
      "Epoch 62/300\n",
      "9/9 - 0s - loss: 1.6207 - accuracy: 0.3333 - val_loss: 1.5932 - val_accuracy: 0.3333 - 40ms/epoch - 4ms/step\n",
      "Epoch 63/300\n",
      "9/9 - 0s - loss: 1.6096 - accuracy: 0.3222 - val_loss: 1.5816 - val_accuracy: 0.5556 - 39ms/epoch - 4ms/step\n",
      "Epoch 64/300\n",
      "9/9 - 0s - loss: 1.5971 - accuracy: 0.4111 - val_loss: 1.5687 - val_accuracy: 0.4444 - 40ms/epoch - 4ms/step\n",
      "Epoch 65/300\n",
      "9/9 - 0s - loss: 1.5874 - accuracy: 0.3222 - val_loss: 1.5576 - val_accuracy: 0.4444 - 40ms/epoch - 4ms/step\n",
      "Epoch 66/300\n",
      "9/9 - 0s - loss: 1.5703 - accuracy: 0.3000 - val_loss: 1.5466 - val_accuracy: 0.5556 - 58ms/epoch - 6ms/step\n",
      "Epoch 67/300\n",
      "9/9 - 0s - loss: 1.5623 - accuracy: 0.4333 - val_loss: 1.5343 - val_accuracy: 0.4444 - 49ms/epoch - 5ms/step\n",
      "Epoch 68/300\n",
      "9/9 - 0s - loss: 1.5570 - accuracy: 0.4333 - val_loss: 1.5232 - val_accuracy: 0.4444 - 45ms/epoch - 5ms/step\n"
     ]
    },
    {
     "name": "stdout",
     "output_type": "stream",
     "text": [
      "Epoch 69/300\n",
      "9/9 - 0s - loss: 1.5398 - accuracy: 0.3889 - val_loss: 1.5119 - val_accuracy: 0.4444 - 39ms/epoch - 4ms/step\n",
      "Epoch 70/300\n",
      "9/9 - 0s - loss: 1.5272 - accuracy: 0.3778 - val_loss: 1.5015 - val_accuracy: 0.4444 - 36ms/epoch - 4ms/step\n",
      "Epoch 71/300\n",
      "9/9 - 0s - loss: 1.5130 - accuracy: 0.4222 - val_loss: 1.4905 - val_accuracy: 0.5556 - 37ms/epoch - 4ms/step\n",
      "Epoch 72/300\n",
      "9/9 - 0s - loss: 1.5085 - accuracy: 0.3889 - val_loss: 1.4812 - val_accuracy: 0.5556 - 34ms/epoch - 4ms/step\n",
      "Epoch 73/300\n",
      "9/9 - 0s - loss: 1.5109 - accuracy: 0.4111 - val_loss: 1.4685 - val_accuracy: 0.4444 - 42ms/epoch - 5ms/step\n",
      "Epoch 74/300\n",
      "9/9 - 0s - loss: 1.4850 - accuracy: 0.4556 - val_loss: 1.4584 - val_accuracy: 0.5556 - 39ms/epoch - 4ms/step\n",
      "Epoch 75/300\n",
      "9/9 - 0s - loss: 1.4730 - accuracy: 0.4778 - val_loss: 1.4488 - val_accuracy: 0.5556 - 38ms/epoch - 4ms/step\n",
      "Epoch 76/300\n",
      "9/9 - 0s - loss: 1.4653 - accuracy: 0.4889 - val_loss: 1.4381 - val_accuracy: 0.5556 - 40ms/epoch - 4ms/step\n",
      "Epoch 77/300\n",
      "9/9 - 0s - loss: 1.4583 - accuracy: 0.4778 - val_loss: 1.4290 - val_accuracy: 0.6667 - 38ms/epoch - 4ms/step\n",
      "Epoch 78/300\n",
      "9/9 - 0s - loss: 1.4452 - accuracy: 0.5444 - val_loss: 1.4189 - val_accuracy: 0.5556 - 37ms/epoch - 4ms/step\n",
      "Epoch 79/300\n",
      "9/9 - 0s - loss: 1.4369 - accuracy: 0.3889 - val_loss: 1.4089 - val_accuracy: 0.6667 - 41ms/epoch - 5ms/step\n",
      "Epoch 80/300\n",
      "9/9 - 0s - loss: 1.4225 - accuracy: 0.4667 - val_loss: 1.4000 - val_accuracy: 0.6667 - 37ms/epoch - 4ms/step\n",
      "Epoch 81/300\n",
      "9/9 - 0s - loss: 1.4216 - accuracy: 0.5444 - val_loss: 1.3910 - val_accuracy: 0.5556 - 39ms/epoch - 4ms/step\n",
      "Epoch 82/300\n",
      "9/9 - 0s - loss: 1.4119 - accuracy: 0.5667 - val_loss: 1.3815 - val_accuracy: 0.6667 - 40ms/epoch - 4ms/step\n",
      "Epoch 83/300\n",
      "9/9 - 0s - loss: 1.3954 - accuracy: 0.5556 - val_loss: 1.3717 - val_accuracy: 0.6667 - 42ms/epoch - 5ms/step\n",
      "Epoch 84/300\n",
      "9/9 - 0s - loss: 1.3913 - accuracy: 0.5222 - val_loss: 1.3631 - val_accuracy: 0.6667 - 39ms/epoch - 4ms/step\n",
      "Epoch 85/300\n",
      "9/9 - 0s - loss: 1.3772 - accuracy: 0.4778 - val_loss: 1.3576 - val_accuracy: 0.5556 - 38ms/epoch - 4ms/step\n",
      "Epoch 86/300\n",
      "9/9 - 0s - loss: 1.3701 - accuracy: 0.5667 - val_loss: 1.3452 - val_accuracy: 0.7778 - 41ms/epoch - 5ms/step\n",
      "Epoch 87/300\n",
      "9/9 - 0s - loss: 1.3697 - accuracy: 0.5111 - val_loss: 1.3390 - val_accuracy: 0.6667 - 37ms/epoch - 4ms/step\n",
      "Epoch 88/300\n",
      "9/9 - 0s - loss: 1.3491 - accuracy: 0.5889 - val_loss: 1.3278 - val_accuracy: 0.6667 - 40ms/epoch - 4ms/step\n",
      "Epoch 89/300\n",
      "9/9 - 0s - loss: 1.3441 - accuracy: 0.6556 - val_loss: 1.3218 - val_accuracy: 0.5556 - 37ms/epoch - 4ms/step\n",
      "Epoch 90/300\n",
      "9/9 - 0s - loss: 1.3398 - accuracy: 0.6222 - val_loss: 1.3120 - val_accuracy: 0.6667 - 40ms/epoch - 4ms/step\n",
      "Epoch 91/300\n",
      "9/9 - 0s - loss: 1.3373 - accuracy: 0.4889 - val_loss: 1.3026 - val_accuracy: 0.6667 - 40ms/epoch - 4ms/step\n",
      "Epoch 92/300\n",
      "9/9 - 0s - loss: 1.3234 - accuracy: 0.5333 - val_loss: 1.2938 - val_accuracy: 0.7778 - 42ms/epoch - 5ms/step\n",
      "Epoch 93/300\n",
      "9/9 - 0s - loss: 1.3138 - accuracy: 0.7222 - val_loss: 1.2869 - val_accuracy: 0.6667 - 42ms/epoch - 5ms/step\n",
      "Epoch 94/300\n",
      "9/9 - 0s - loss: 1.3062 - accuracy: 0.5111 - val_loss: 1.2807 - val_accuracy: 0.8889 - 38ms/epoch - 4ms/step\n",
      "Epoch 95/300\n",
      "9/9 - 0s - loss: 1.3016 - accuracy: 0.6778 - val_loss: 1.2699 - val_accuracy: 0.7778 - 40ms/epoch - 4ms/step\n",
      "Epoch 96/300\n",
      "9/9 - 0s - loss: 1.2951 - accuracy: 0.6000 - val_loss: 1.2624 - val_accuracy: 0.7778 - 40ms/epoch - 4ms/step\n",
      "Epoch 97/300\n",
      "9/9 - 0s - loss: 1.2826 - accuracy: 0.7000 - val_loss: 1.2543 - val_accuracy: 0.8889 - 38ms/epoch - 4ms/step\n",
      "Epoch 98/300\n",
      "9/9 - 0s - loss: 1.2763 - accuracy: 0.6556 - val_loss: 1.2475 - val_accuracy: 0.7778 - 40ms/epoch - 4ms/step\n",
      "Epoch 99/300\n",
      "9/9 - 0s - loss: 1.2625 - accuracy: 0.6222 - val_loss: 1.2411 - val_accuracy: 0.8889 - 41ms/epoch - 5ms/step\n",
      "Epoch 100/300\n",
      "9/9 - 0s - loss: 1.2703 - accuracy: 0.6000 - val_loss: 1.2322 - val_accuracy: 0.7778 - 41ms/epoch - 5ms/step\n",
      "Epoch 101/300\n",
      "9/9 - 0s - loss: 1.2538 - accuracy: 0.7222 - val_loss: 1.2302 - val_accuracy: 0.8889 - 40ms/epoch - 4ms/step\n",
      "Epoch 102/300\n",
      "9/9 - 0s - loss: 1.2407 - accuracy: 0.7667 - val_loss: 1.2179 - val_accuracy: 0.8889 - 40ms/epoch - 4ms/step\n",
      "Epoch 103/300\n",
      "9/9 - 0s - loss: 1.2435 - accuracy: 0.7556 - val_loss: 1.2102 - val_accuracy: 0.7778 - 38ms/epoch - 4ms/step\n",
      "Epoch 104/300\n",
      "9/9 - 0s - loss: 1.2316 - accuracy: 0.7333 - val_loss: 1.2031 - val_accuracy: 0.7778 - 39ms/epoch - 4ms/step\n",
      "Epoch 105/300\n",
      "9/9 - 0s - loss: 1.2288 - accuracy: 0.7000 - val_loss: 1.1954 - val_accuracy: 0.8889 - 38ms/epoch - 4ms/step\n",
      "Epoch 106/300\n",
      "9/9 - 0s - loss: 1.2107 - accuracy: 0.8000 - val_loss: 1.1935 - val_accuracy: 0.7778 - 36ms/epoch - 4ms/step\n",
      "Epoch 107/300\n",
      "9/9 - 0s - loss: 1.2122 - accuracy: 0.6667 - val_loss: 1.1842 - val_accuracy: 0.7778 - 42ms/epoch - 5ms/step\n",
      "Epoch 108/300\n",
      "9/9 - 0s - loss: 1.2050 - accuracy: 0.7333 - val_loss: 1.1763 - val_accuracy: 0.8889 - 40ms/epoch - 4ms/step\n",
      "Epoch 109/300\n",
      "9/9 - 0s - loss: 1.1935 - accuracy: 0.7222 - val_loss: 1.1713 - val_accuracy: 0.8889 - 40ms/epoch - 4ms/step\n",
      "Epoch 110/300\n",
      "9/9 - 0s - loss: 1.1936 - accuracy: 0.7333 - val_loss: 1.1622 - val_accuracy: 0.7778 - 40ms/epoch - 4ms/step\n",
      "Epoch 111/300\n",
      "9/9 - 0s - loss: 1.1840 - accuracy: 0.7667 - val_loss: 1.1585 - val_accuracy: 0.7778 - 41ms/epoch - 5ms/step\n",
      "Epoch 112/300\n",
      "9/9 - 0s - loss: 1.1753 - accuracy: 0.6889 - val_loss: 1.1484 - val_accuracy: 0.8889 - 37ms/epoch - 4ms/step\n",
      "Epoch 113/300\n",
      "9/9 - 0s - loss: 1.1680 - accuracy: 0.7222 - val_loss: 1.1424 - val_accuracy: 0.8889 - 40ms/epoch - 4ms/step\n",
      "Epoch 114/300\n",
      "9/9 - 0s - loss: 1.1607 - accuracy: 0.8000 - val_loss: 1.1362 - val_accuracy: 0.8889 - 39ms/epoch - 4ms/step\n",
      "Epoch 115/300\n",
      "9/9 - 0s - loss: 1.1574 - accuracy: 0.7556 - val_loss: 1.1292 - val_accuracy: 0.8889 - 39ms/epoch - 4ms/step\n",
      "Epoch 116/300\n",
      "9/9 - 0s - loss: 1.1516 - accuracy: 0.8556 - val_loss: 1.1223 - val_accuracy: 0.7778 - 41ms/epoch - 5ms/step\n",
      "Epoch 117/300\n",
      "9/9 - 0s - loss: 1.1626 - accuracy: 0.6667 - val_loss: 1.1163 - val_accuracy: 0.8889 - 38ms/epoch - 4ms/step\n",
      "Epoch 118/300\n",
      "9/9 - 0s - loss: 1.1351 - accuracy: 0.7333 - val_loss: 1.1116 - val_accuracy: 0.8889 - 40ms/epoch - 4ms/step\n",
      "Epoch 119/300\n",
      "9/9 - 0s - loss: 1.1422 - accuracy: 0.8333 - val_loss: 1.1050 - val_accuracy: 0.8889 - 38ms/epoch - 4ms/step\n",
      "Epoch 120/300\n",
      "9/9 - 0s - loss: 1.1271 - accuracy: 0.7667 - val_loss: 1.0984 - val_accuracy: 0.8889 - 40ms/epoch - 4ms/step\n",
      "Epoch 121/300\n",
      "9/9 - 0s - loss: 1.1122 - accuracy: 0.8000 - val_loss: 1.0933 - val_accuracy: 0.8889 - 40ms/epoch - 4ms/step\n",
      "Epoch 122/300\n",
      "9/9 - 0s - loss: 1.1159 - accuracy: 0.8000 - val_loss: 1.0875 - val_accuracy: 0.8889 - 44ms/epoch - 5ms/step\n",
      "Epoch 123/300\n",
      "9/9 - 0s - loss: 1.1053 - accuracy: 0.8222 - val_loss: 1.0800 - val_accuracy: 0.8889 - 40ms/epoch - 4ms/step\n",
      "Epoch 124/300\n",
      "9/9 - 0s - loss: 1.0949 - accuracy: 0.8778 - val_loss: 1.0753 - val_accuracy: 0.8889 - 40ms/epoch - 4ms/step\n",
      "Epoch 125/300\n",
      "9/9 - 0s - loss: 1.1042 - accuracy: 0.7444 - val_loss: 1.0684 - val_accuracy: 0.8889 - 38ms/epoch - 4ms/step\n",
      "Epoch 126/300\n",
      "9/9 - 0s - loss: 1.0858 - accuracy: 0.8222 - val_loss: 1.0642 - val_accuracy: 1.0000 - 36ms/epoch - 4ms/step\n",
      "Epoch 127/300\n",
      "9/9 - 0s - loss: 1.0925 - accuracy: 0.8556 - val_loss: 1.0604 - val_accuracy: 0.8889 - 41ms/epoch - 5ms/step\n",
      "Epoch 128/300\n",
      "9/9 - 0s - loss: 1.0743 - accuracy: 0.8222 - val_loss: 1.0508 - val_accuracy: 0.8889 - 40ms/epoch - 4ms/step\n",
      "Epoch 129/300\n",
      "9/9 - 0s - loss: 1.0745 - accuracy: 0.8111 - val_loss: 1.0452 - val_accuracy: 0.8889 - 40ms/epoch - 4ms/step\n",
      "Epoch 130/300\n",
      "9/9 - 0s - loss: 1.0699 - accuracy: 0.7333 - val_loss: 1.0421 - val_accuracy: 0.8889 - 38ms/epoch - 4ms/step\n",
      "Epoch 131/300\n",
      "9/9 - 0s - loss: 1.0656 - accuracy: 0.8667 - val_loss: 1.0377 - val_accuracy: 0.7778 - 42ms/epoch - 5ms/step\n",
      "Epoch 132/300\n",
      "9/9 - 0s - loss: 1.0535 - accuracy: 0.8222 - val_loss: 1.0293 - val_accuracy: 0.8889 - 38ms/epoch - 4ms/step\n",
      "Epoch 133/300\n",
      "9/9 - 0s - loss: 1.0524 - accuracy: 0.8111 - val_loss: 1.0284 - val_accuracy: 0.8889 - 38ms/epoch - 4ms/step\n",
      "Epoch 134/300\n",
      "9/9 - 0s - loss: 1.0575 - accuracy: 0.7000 - val_loss: 1.0191 - val_accuracy: 0.8889 - 39ms/epoch - 4ms/step\n",
      "Epoch 135/300\n",
      "9/9 - 0s - loss: 1.0480 - accuracy: 0.8333 - val_loss: 1.0144 - val_accuracy: 0.8889 - 39ms/epoch - 4ms/step\n"
     ]
    },
    {
     "name": "stdout",
     "output_type": "stream",
     "text": [
      "Epoch 136/300\n",
      "9/9 - 0s - loss: 1.0282 - accuracy: 0.8333 - val_loss: 1.0085 - val_accuracy: 0.8889 - 40ms/epoch - 4ms/step\n",
      "Epoch 137/300\n",
      "9/9 - 0s - loss: 1.0328 - accuracy: 0.8333 - val_loss: 1.0050 - val_accuracy: 0.8889 - 41ms/epoch - 5ms/step\n",
      "Epoch 138/300\n",
      "9/9 - 0s - loss: 1.0312 - accuracy: 0.8000 - val_loss: 1.0022 - val_accuracy: 0.8889 - 41ms/epoch - 5ms/step\n",
      "Epoch 139/300\n",
      "9/9 - 0s - loss: 1.0219 - accuracy: 0.8111 - val_loss: 0.9962 - val_accuracy: 0.7778 - 37ms/epoch - 4ms/step\n",
      "Epoch 140/300\n",
      "9/9 - 0s - loss: 1.0192 - accuracy: 0.8000 - val_loss: 0.9874 - val_accuracy: 0.7778 - 40ms/epoch - 4ms/step\n",
      "Epoch 141/300\n",
      "9/9 - 0s - loss: 1.0147 - accuracy: 0.7667 - val_loss: 0.9962 - val_accuracy: 0.7778 - 42ms/epoch - 5ms/step\n",
      "Epoch 142/300\n",
      "9/9 - 0s - loss: 1.0130 - accuracy: 0.7889 - val_loss: 0.9826 - val_accuracy: 0.7778 - 38ms/epoch - 4ms/step\n",
      "Epoch 143/300\n",
      "9/9 - 0s - loss: 1.0142 - accuracy: 0.7778 - val_loss: 0.9725 - val_accuracy: 0.8889 - 41ms/epoch - 5ms/step\n",
      "Epoch 144/300\n",
      "9/9 - 0s - loss: 1.0113 - accuracy: 0.7667 - val_loss: 0.9682 - val_accuracy: 0.8889 - 39ms/epoch - 4ms/step\n",
      "Epoch 145/300\n",
      "9/9 - 0s - loss: 0.9872 - accuracy: 0.8667 - val_loss: 0.9646 - val_accuracy: 0.7778 - 38ms/epoch - 4ms/step\n",
      "Epoch 146/300\n",
      "9/9 - 0s - loss: 0.9855 - accuracy: 0.8000 - val_loss: 0.9597 - val_accuracy: 0.8889 - 54ms/epoch - 6ms/step\n",
      "Epoch 147/300\n",
      "9/9 - 0s - loss: 0.9826 - accuracy: 0.8333 - val_loss: 0.9574 - val_accuracy: 0.8889 - 39ms/epoch - 4ms/step\n",
      "Epoch 148/300\n",
      "9/9 - 0s - loss: 0.9808 - accuracy: 0.8556 - val_loss: 0.9526 - val_accuracy: 0.8889 - 37ms/epoch - 4ms/step\n",
      "Epoch 149/300\n",
      "9/9 - 0s - loss: 0.9823 - accuracy: 0.8222 - val_loss: 0.9419 - val_accuracy: 0.8889 - 38ms/epoch - 4ms/step\n",
      "Epoch 150/300\n",
      "9/9 - 0s - loss: 0.9669 - accuracy: 0.8889 - val_loss: 0.9370 - val_accuracy: 0.8889 - 40ms/epoch - 4ms/step\n",
      "Epoch 151/300\n",
      "9/9 - 0s - loss: 0.9570 - accuracy: 0.8333 - val_loss: 0.9372 - val_accuracy: 0.7778 - 38ms/epoch - 4ms/step\n",
      "Epoch 152/300\n",
      "9/9 - 0s - loss: 0.9650 - accuracy: 0.7889 - val_loss: 0.9278 - val_accuracy: 0.8889 - 37ms/epoch - 4ms/step\n",
      "Epoch 153/300\n",
      "9/9 - 0s - loss: 0.9528 - accuracy: 0.9000 - val_loss: 0.9249 - val_accuracy: 0.7778 - 39ms/epoch - 4ms/step\n",
      "Epoch 154/300\n",
      "9/9 - 0s - loss: 0.9645 - accuracy: 0.7778 - val_loss: 0.9272 - val_accuracy: 0.7778 - 41ms/epoch - 5ms/step\n",
      "Epoch 155/300\n",
      "9/9 - 0s - loss: 0.9447 - accuracy: 0.8333 - val_loss: 0.9144 - val_accuracy: 0.8889 - 42ms/epoch - 5ms/step\n",
      "Epoch 156/300\n",
      "9/9 - 0s - loss: 0.9312 - accuracy: 0.8333 - val_loss: 0.9098 - val_accuracy: 0.8889 - 37ms/epoch - 4ms/step\n",
      "Epoch 157/300\n",
      "9/9 - 0s - loss: 0.9368 - accuracy: 0.8333 - val_loss: 0.9051 - val_accuracy: 0.8889 - 37ms/epoch - 4ms/step\n",
      "Epoch 158/300\n",
      "9/9 - 0s - loss: 0.9265 - accuracy: 0.8444 - val_loss: 0.8992 - val_accuracy: 0.8889 - 40ms/epoch - 4ms/step\n",
      "Epoch 159/300\n",
      "9/9 - 0s - loss: 0.9307 - accuracy: 0.8222 - val_loss: 0.8950 - val_accuracy: 0.8889 - 38ms/epoch - 4ms/step\n",
      "Epoch 160/300\n",
      "9/9 - 0s - loss: 0.9320 - accuracy: 0.8667 - val_loss: 0.8932 - val_accuracy: 0.8889 - 40ms/epoch - 4ms/step\n",
      "Epoch 161/300\n",
      "9/9 - 0s - loss: 0.9164 - accuracy: 0.8333 - val_loss: 0.8875 - val_accuracy: 0.8889 - 42ms/epoch - 5ms/step\n",
      "Epoch 162/300\n",
      "9/9 - 0s - loss: 0.9179 - accuracy: 0.8444 - val_loss: 0.8837 - val_accuracy: 0.8889 - 42ms/epoch - 5ms/step\n",
      "Epoch 163/300\n",
      "9/9 - 0s - loss: 0.9064 - accuracy: 0.8778 - val_loss: 0.8780 - val_accuracy: 0.8889 - 39ms/epoch - 4ms/step\n",
      "Epoch 164/300\n",
      "9/9 - 0s - loss: 0.8946 - accuracy: 0.9222 - val_loss: 0.8743 - val_accuracy: 0.8889 - 43ms/epoch - 5ms/step\n",
      "Epoch 165/300\n",
      "9/9 - 0s - loss: 0.8926 - accuracy: 0.8556 - val_loss: 0.8751 - val_accuracy: 0.8889 - 38ms/epoch - 4ms/step\n",
      "Epoch 166/300\n",
      "9/9 - 0s - loss: 0.8981 - accuracy: 0.8333 - val_loss: 0.8642 - val_accuracy: 0.8889 - 37ms/epoch - 4ms/step\n",
      "Epoch 167/300\n",
      "9/9 - 0s - loss: 0.9002 - accuracy: 0.8000 - val_loss: 0.8592 - val_accuracy: 0.8889 - 40ms/epoch - 4ms/step\n",
      "Epoch 168/300\n",
      "9/9 - 0s - loss: 0.8927 - accuracy: 0.8778 - val_loss: 0.8554 - val_accuracy: 0.8889 - 39ms/epoch - 4ms/step\n",
      "Epoch 169/300\n",
      "9/9 - 0s - loss: 0.8779 - accuracy: 0.8778 - val_loss: 0.8565 - val_accuracy: 0.8889 - 40ms/epoch - 4ms/step\n",
      "Epoch 170/300\n",
      "9/9 - 0s - loss: 0.8782 - accuracy: 0.8667 - val_loss: 0.8565 - val_accuracy: 1.0000 - 40ms/epoch - 4ms/step\n",
      "Epoch 171/300\n",
      "9/9 - 0s - loss: 0.8701 - accuracy: 0.8333 - val_loss: 0.8520 - val_accuracy: 0.7778 - 39ms/epoch - 4ms/step\n",
      "Epoch 172/300\n",
      "9/9 - 0s - loss: 0.8714 - accuracy: 0.8111 - val_loss: 0.8391 - val_accuracy: 0.8889 - 40ms/epoch - 4ms/step\n",
      "Epoch 173/300\n",
      "9/9 - 0s - loss: 0.8704 - accuracy: 0.8333 - val_loss: 0.8371 - val_accuracy: 0.8889 - 41ms/epoch - 5ms/step\n",
      "Epoch 174/300\n",
      "9/9 - 0s - loss: 0.8609 - accuracy: 0.9222 - val_loss: 0.8319 - val_accuracy: 0.8889 - 39ms/epoch - 4ms/step\n",
      "Epoch 175/300\n",
      "9/9 - 0s - loss: 0.8555 - accuracy: 0.8778 - val_loss: 0.8360 - val_accuracy: 0.8889 - 38ms/epoch - 4ms/step\n",
      "Epoch 176/300\n",
      "9/9 - 0s - loss: 0.8632 - accuracy: 0.8889 - val_loss: 0.8211 - val_accuracy: 0.8889 - 38ms/epoch - 4ms/step\n",
      "Epoch 177/300\n",
      "9/9 - 0s - loss: 0.8635 - accuracy: 0.8333 - val_loss: 0.8179 - val_accuracy: 0.8889 - 40ms/epoch - 4ms/step\n",
      "Epoch 178/300\n",
      "9/9 - 0s - loss: 0.8376 - accuracy: 0.8778 - val_loss: 0.8263 - val_accuracy: 0.7778 - 39ms/epoch - 4ms/step\n",
      "Epoch 179/300\n",
      "9/9 - 0s - loss: 0.8315 - accuracy: 0.8333 - val_loss: 0.8180 - val_accuracy: 0.8889 - 39ms/epoch - 4ms/step\n",
      "Epoch 180/300\n",
      "9/9 - 0s - loss: 0.8369 - accuracy: 0.8556 - val_loss: 0.8046 - val_accuracy: 0.8889 - 41ms/epoch - 5ms/step\n",
      "Epoch 181/300\n",
      "9/9 - 0s - loss: 0.8368 - accuracy: 0.8556 - val_loss: 0.8022 - val_accuracy: 1.0000 - 41ms/epoch - 5ms/step\n",
      "Epoch 182/300\n",
      "9/9 - 0s - loss: 0.8197 - accuracy: 0.8778 - val_loss: 0.8024 - val_accuracy: 0.8889 - 41ms/epoch - 5ms/step\n",
      "Epoch 183/300\n",
      "9/9 - 0s - loss: 0.8263 - accuracy: 0.8556 - val_loss: 0.7980 - val_accuracy: 1.0000 - 40ms/epoch - 4ms/step\n",
      "Epoch 184/300\n",
      "9/9 - 0s - loss: 0.8224 - accuracy: 0.8444 - val_loss: 0.7918 - val_accuracy: 0.8889 - 37ms/epoch - 4ms/step\n",
      "Epoch 185/300\n",
      "9/9 - 0s - loss: 0.8187 - accuracy: 0.8889 - val_loss: 0.7853 - val_accuracy: 0.8889 - 39ms/epoch - 4ms/step\n",
      "Epoch 186/300\n",
      "9/9 - 0s - loss: 0.8094 - accuracy: 0.9222 - val_loss: 0.7828 - val_accuracy: 0.8889 - 39ms/epoch - 4ms/step\n",
      "Epoch 187/300\n",
      "9/9 - 0s - loss: 0.8069 - accuracy: 0.9111 - val_loss: 0.7914 - val_accuracy: 0.8889 - 39ms/epoch - 4ms/step\n",
      "Epoch 188/300\n",
      "9/9 - 0s - loss: 0.8116 - accuracy: 0.9111 - val_loss: 0.7745 - val_accuracy: 0.8889 - 39ms/epoch - 4ms/step\n",
      "Epoch 189/300\n",
      "9/9 - 0s - loss: 0.8056 - accuracy: 0.8556 - val_loss: 0.7701 - val_accuracy: 1.0000 - 41ms/epoch - 5ms/step\n",
      "Epoch 190/300\n",
      "9/9 - 0s - loss: 0.7919 - accuracy: 0.9333 - val_loss: 0.7679 - val_accuracy: 1.0000 - 38ms/epoch - 4ms/step\n",
      "Epoch 191/300\n",
      "9/9 - 0s - loss: 0.7973 - accuracy: 0.9000 - val_loss: 0.7640 - val_accuracy: 0.8889 - 38ms/epoch - 4ms/step\n",
      "Epoch 192/300\n",
      "9/9 - 0s - loss: 0.7860 - accuracy: 0.8333 - val_loss: 0.7607 - val_accuracy: 1.0000 - 42ms/epoch - 5ms/step\n",
      "Epoch 193/300\n",
      "9/9 - 0s - loss: 0.7934 - accuracy: 0.8889 - val_loss: 0.7547 - val_accuracy: 1.0000 - 41ms/epoch - 5ms/step\n",
      "Epoch 194/300\n",
      "9/9 - 0s - loss: 0.7756 - accuracy: 0.9333 - val_loss: 0.7492 - val_accuracy: 1.0000 - 40ms/epoch - 4ms/step\n",
      "Epoch 195/300\n",
      "9/9 - 0s - loss: 0.7918 - accuracy: 0.8667 - val_loss: 0.7538 - val_accuracy: 0.8889 - 40ms/epoch - 4ms/step\n",
      "Epoch 196/300\n",
      "9/9 - 0s - loss: 0.7944 - accuracy: 0.8333 - val_loss: 0.7507 - val_accuracy: 0.8889 - 42ms/epoch - 5ms/step\n",
      "Epoch 197/300\n",
      "9/9 - 0s - loss: 0.7744 - accuracy: 0.8556 - val_loss: 0.7451 - val_accuracy: 1.0000 - 40ms/epoch - 4ms/step\n",
      "Epoch 198/300\n",
      "9/9 - 0s - loss: 0.7664 - accuracy: 0.9222 - val_loss: 0.7370 - val_accuracy: 0.8889 - 40ms/epoch - 4ms/step\n",
      "Epoch 199/300\n",
      "9/9 - 0s - loss: 0.7692 - accuracy: 0.9000 - val_loss: 0.7366 - val_accuracy: 1.0000 - 43ms/epoch - 5ms/step\n",
      "Epoch 200/300\n",
      "9/9 - 0s - loss: 0.7611 - accuracy: 0.9444 - val_loss: 0.7427 - val_accuracy: 0.8889 - 50ms/epoch - 6ms/step\n",
      "Epoch 201/300\n",
      "9/9 - 0s - loss: 0.7684 - accuracy: 0.9222 - val_loss: 0.7282 - val_accuracy: 1.0000 - 45ms/epoch - 5ms/step\n",
      "Epoch 202/300\n",
      "9/9 - 0s - loss: 0.7418 - accuracy: 0.9222 - val_loss: 0.7238 - val_accuracy: 0.8889 - 47ms/epoch - 5ms/step\n"
     ]
    },
    {
     "name": "stdout",
     "output_type": "stream",
     "text": [
      "Epoch 203/300\n",
      "9/9 - 0s - loss: 0.7462 - accuracy: 0.9000 - val_loss: 0.7211 - val_accuracy: 1.0000 - 48ms/epoch - 5ms/step\n",
      "Epoch 204/300\n",
      "9/9 - 0s - loss: 0.7389 - accuracy: 0.9111 - val_loss: 0.7149 - val_accuracy: 1.0000 - 44ms/epoch - 5ms/step\n",
      "Epoch 205/300\n",
      "9/9 - 0s - loss: 0.7512 - accuracy: 0.8556 - val_loss: 0.7198 - val_accuracy: 0.8889 - 45ms/epoch - 5ms/step\n",
      "Epoch 206/300\n",
      "9/9 - 0s - loss: 0.7657 - accuracy: 0.8889 - val_loss: 0.7154 - val_accuracy: 0.8889 - 45ms/epoch - 5ms/step\n",
      "Epoch 207/300\n",
      "9/9 - 0s - loss: 0.7431 - accuracy: 0.8667 - val_loss: 0.7170 - val_accuracy: 0.7778 - 44ms/epoch - 5ms/step\n",
      "Epoch 208/300\n",
      "9/9 - 0s - loss: 0.7629 - accuracy: 0.8000 - val_loss: 0.7182 - val_accuracy: 0.7778 - 43ms/epoch - 5ms/step\n",
      "Epoch 209/300\n",
      "9/9 - 0s - loss: 0.7469 - accuracy: 0.8333 - val_loss: 0.6940 - val_accuracy: 1.0000 - 45ms/epoch - 5ms/step\n",
      "Epoch 210/300\n",
      "9/9 - 0s - loss: 0.7174 - accuracy: 0.9333 - val_loss: 0.6927 - val_accuracy: 1.0000 - 44ms/epoch - 5ms/step\n",
      "Epoch 211/300\n",
      "9/9 - 0s - loss: 0.7230 - accuracy: 0.9000 - val_loss: 0.6946 - val_accuracy: 0.8889 - 45ms/epoch - 5ms/step\n",
      "Epoch 212/300\n",
      "9/9 - 0s - loss: 0.7421 - accuracy: 0.8444 - val_loss: 0.6884 - val_accuracy: 1.0000 - 40ms/epoch - 4ms/step\n",
      "Epoch 213/300\n",
      "9/9 - 0s - loss: 0.7267 - accuracy: 0.8889 - val_loss: 0.6901 - val_accuracy: 0.8889 - 40ms/epoch - 4ms/step\n",
      "Epoch 214/300\n",
      "9/9 - 0s - loss: 0.7176 - accuracy: 0.9444 - val_loss: 0.6840 - val_accuracy: 0.8889 - 41ms/epoch - 5ms/step\n",
      "Epoch 215/300\n",
      "9/9 - 0s - loss: 0.7050 - accuracy: 0.8444 - val_loss: 0.6864 - val_accuracy: 0.8889 - 39ms/epoch - 4ms/step\n",
      "Epoch 216/300\n",
      "9/9 - 0s - loss: 0.7099 - accuracy: 0.8222 - val_loss: 0.6729 - val_accuracy: 1.0000 - 40ms/epoch - 4ms/step\n",
      "Epoch 217/300\n",
      "9/9 - 0s - loss: 0.7044 - accuracy: 0.9111 - val_loss: 0.6671 - val_accuracy: 1.0000 - 60ms/epoch - 7ms/step\n",
      "Epoch 218/300\n",
      "9/9 - 0s - loss: 0.7066 - accuracy: 0.9333 - val_loss: 0.6705 - val_accuracy: 1.0000 - 47ms/epoch - 5ms/step\n",
      "Epoch 219/300\n",
      "9/9 - 0s - loss: 0.7028 - accuracy: 0.8556 - val_loss: 0.6615 - val_accuracy: 1.0000 - 47ms/epoch - 5ms/step\n",
      "Epoch 220/300\n",
      "9/9 - 0s - loss: 0.6819 - accuracy: 0.9778 - val_loss: 0.6652 - val_accuracy: 1.0000 - 51ms/epoch - 6ms/step\n",
      "Epoch 221/300\n",
      "9/9 - 0s - loss: 0.6949 - accuracy: 0.8889 - val_loss: 0.6598 - val_accuracy: 1.0000 - 47ms/epoch - 5ms/step\n",
      "Epoch 222/300\n",
      "9/9 - 0s - loss: 0.6870 - accuracy: 0.9667 - val_loss: 0.6544 - val_accuracy: 0.8889 - 45ms/epoch - 5ms/step\n",
      "Epoch 223/300\n",
      "9/9 - 0s - loss: 0.6677 - accuracy: 0.9444 - val_loss: 0.6580 - val_accuracy: 0.8889 - 47ms/epoch - 5ms/step\n",
      "Epoch 224/300\n",
      "9/9 - 0s - loss: 0.6919 - accuracy: 0.9111 - val_loss: 0.6573 - val_accuracy: 0.8889 - 46ms/epoch - 5ms/step\n",
      "Epoch 225/300\n",
      "9/9 - 0s - loss: 0.6600 - accuracy: 0.9556 - val_loss: 0.6534 - val_accuracy: 0.8889 - 47ms/epoch - 5ms/step\n",
      "Epoch 226/300\n",
      "9/9 - 0s - loss: 0.6525 - accuracy: 0.9111 - val_loss: 0.6869 - val_accuracy: 0.7778 - 48ms/epoch - 5ms/step\n",
      "Epoch 227/300\n",
      "9/9 - 0s - loss: 0.6755 - accuracy: 0.9333 - val_loss: 0.6510 - val_accuracy: 0.8889 - 42ms/epoch - 5ms/step\n",
      "Epoch 228/300\n",
      "9/9 - 0s - loss: 0.6839 - accuracy: 0.9111 - val_loss: 0.6388 - val_accuracy: 1.0000 - 41ms/epoch - 5ms/step\n",
      "Epoch 229/300\n",
      "9/9 - 0s - loss: 0.6834 - accuracy: 0.9000 - val_loss: 0.6406 - val_accuracy: 0.8889 - 46ms/epoch - 5ms/step\n",
      "Epoch 230/300\n",
      "9/9 - 0s - loss: 0.6624 - accuracy: 0.8889 - val_loss: 0.6327 - val_accuracy: 0.8889 - 48ms/epoch - 5ms/step\n",
      "Epoch 231/300\n",
      "9/9 - 0s - loss: 0.6831 - accuracy: 0.9111 - val_loss: 0.6235 - val_accuracy: 1.0000 - 47ms/epoch - 5ms/step\n",
      "Epoch 232/300\n",
      "9/9 - 0s - loss: 0.6513 - accuracy: 0.9444 - val_loss: 0.6282 - val_accuracy: 1.0000 - 48ms/epoch - 5ms/step\n",
      "Epoch 233/300\n",
      "9/9 - 0s - loss: 0.6492 - accuracy: 0.9333 - val_loss: 0.6338 - val_accuracy: 0.8889 - 49ms/epoch - 5ms/step\n",
      "Epoch 234/300\n",
      "9/9 - 0s - loss: 0.6378 - accuracy: 0.9333 - val_loss: 0.6230 - val_accuracy: 0.8889 - 40ms/epoch - 4ms/step\n",
      "Epoch 235/300\n",
      "9/9 - 0s - loss: 0.6412 - accuracy: 0.9333 - val_loss: 0.6302 - val_accuracy: 0.8889 - 42ms/epoch - 5ms/step\n",
      "Epoch 236/300\n",
      "9/9 - 0s - loss: 0.6505 - accuracy: 0.9444 - val_loss: 0.6116 - val_accuracy: 0.8889 - 37ms/epoch - 4ms/step\n",
      "Epoch 237/300\n",
      "9/9 - 0s - loss: 0.6416 - accuracy: 0.8444 - val_loss: 0.6235 - val_accuracy: 0.7778 - 43ms/epoch - 5ms/step\n",
      "Epoch 238/300\n",
      "9/9 - 0s - loss: 0.6428 - accuracy: 0.8889 - val_loss: 0.6131 - val_accuracy: 0.8889 - 40ms/epoch - 4ms/step\n",
      "Epoch 239/300\n",
      "9/9 - 0s - loss: 0.6270 - accuracy: 0.9333 - val_loss: 0.6018 - val_accuracy: 1.0000 - 42ms/epoch - 5ms/step\n",
      "Epoch 240/300\n",
      "9/9 - 0s - loss: 0.6154 - accuracy: 0.8889 - val_loss: 0.6206 - val_accuracy: 0.8889 - 41ms/epoch - 5ms/step\n",
      "Epoch 241/300\n",
      "9/9 - 0s - loss: 0.6127 - accuracy: 0.9222 - val_loss: 0.6017 - val_accuracy: 1.0000 - 41ms/epoch - 5ms/step\n",
      "Epoch 242/300\n",
      "9/9 - 0s - loss: 0.6168 - accuracy: 0.9333 - val_loss: 0.6003 - val_accuracy: 0.7778 - 42ms/epoch - 5ms/step\n",
      "Epoch 243/300\n",
      "9/9 - 0s - loss: 0.6191 - accuracy: 0.9222 - val_loss: 0.5866 - val_accuracy: 0.8889 - 40ms/epoch - 4ms/step\n",
      "Epoch 244/300\n",
      "9/9 - 0s - loss: 0.6039 - accuracy: 0.9778 - val_loss: 0.5877 - val_accuracy: 0.8889 - 41ms/epoch - 5ms/step\n",
      "Epoch 245/300\n",
      "9/9 - 0s - loss: 0.6198 - accuracy: 0.8889 - val_loss: 0.5815 - val_accuracy: 1.0000 - 40ms/epoch - 4ms/step\n",
      "Epoch 246/300\n",
      "9/9 - 0s - loss: 0.6087 - accuracy: 0.8778 - val_loss: 0.6021 - val_accuracy: 0.8889 - 43ms/epoch - 5ms/step\n",
      "Epoch 247/300\n",
      "9/9 - 0s - loss: 0.6195 - accuracy: 0.9111 - val_loss: 0.5926 - val_accuracy: 0.8889 - 42ms/epoch - 5ms/step\n",
      "Epoch 248/300\n",
      "9/9 - 0s - loss: 0.6136 - accuracy: 0.9222 - val_loss: 0.5734 - val_accuracy: 1.0000 - 43ms/epoch - 5ms/step\n",
      "Epoch 249/300\n",
      "9/9 - 0s - loss: 0.6061 - accuracy: 0.9778 - val_loss: 0.5762 - val_accuracy: 0.8889 - 50ms/epoch - 6ms/step\n",
      "Epoch 250/300\n",
      "9/9 - 0s - loss: 0.5925 - accuracy: 0.9333 - val_loss: 0.5760 - val_accuracy: 0.8889 - 51ms/epoch - 6ms/step\n",
      "Epoch 251/300\n",
      "9/9 - 0s - loss: 0.5977 - accuracy: 0.9333 - val_loss: 0.5670 - val_accuracy: 0.8889 - 50ms/epoch - 6ms/step\n",
      "Epoch 252/300\n",
      "9/9 - 0s - loss: 0.5811 - accuracy: 0.9222 - val_loss: 0.5735 - val_accuracy: 0.8889 - 48ms/epoch - 5ms/step\n",
      "Epoch 253/300\n",
      "9/9 - 0s - loss: 0.5911 - accuracy: 0.9222 - val_loss: 0.5676 - val_accuracy: 1.0000 - 41ms/epoch - 5ms/step\n",
      "Epoch 254/300\n",
      "9/9 - 0s - loss: 0.5733 - accuracy: 0.9556 - val_loss: 0.5575 - val_accuracy: 0.8889 - 39ms/epoch - 4ms/step\n",
      "Epoch 255/300\n",
      "9/9 - 0s - loss: 0.5806 - accuracy: 0.9556 - val_loss: 0.5501 - val_accuracy: 1.0000 - 47ms/epoch - 5ms/step\n",
      "Epoch 256/300\n",
      "9/9 - 0s - loss: 0.5770 - accuracy: 0.9556 - val_loss: 0.5834 - val_accuracy: 0.7778 - 49ms/epoch - 5ms/step\n",
      "Epoch 257/300\n",
      "9/9 - 0s - loss: 0.5760 - accuracy: 0.8889 - val_loss: 0.5671 - val_accuracy: 0.8889 - 47ms/epoch - 5ms/step\n",
      "Epoch 258/300\n",
      "9/9 - 0s - loss: 0.5895 - accuracy: 0.9000 - val_loss: 0.5584 - val_accuracy: 0.8889 - 47ms/epoch - 5ms/step\n",
      "Epoch 259/300\n",
      "9/9 - 0s - loss: 0.5717 - accuracy: 0.8667 - val_loss: 0.5458 - val_accuracy: 1.0000 - 49ms/epoch - 5ms/step\n",
      "Epoch 260/300\n",
      "9/9 - 0s - loss: 0.5846 - accuracy: 0.8889 - val_loss: 0.6053 - val_accuracy: 0.8889 - 51ms/epoch - 6ms/step\n",
      "Epoch 261/300\n",
      "9/9 - 0s - loss: 0.5808 - accuracy: 0.8778 - val_loss: 0.5458 - val_accuracy: 1.0000 - 46ms/epoch - 5ms/step\n",
      "Epoch 262/300\n",
      "9/9 - 0s - loss: 0.5668 - accuracy: 0.9444 - val_loss: 0.5574 - val_accuracy: 1.0000 - 41ms/epoch - 5ms/step\n",
      "Epoch 263/300\n",
      "9/9 - 0s - loss: 0.5466 - accuracy: 0.9444 - val_loss: 0.5273 - val_accuracy: 1.0000 - 40ms/epoch - 4ms/step\n",
      "Epoch 264/300\n",
      "9/9 - 0s - loss: 0.5615 - accuracy: 0.9556 - val_loss: 0.5279 - val_accuracy: 1.0000 - 40ms/epoch - 4ms/step\n",
      "Epoch 265/300\n",
      "9/9 - 0s - loss: 0.5608 - accuracy: 0.9444 - val_loss: 0.5266 - val_accuracy: 1.0000 - 41ms/epoch - 5ms/step\n",
      "Epoch 266/300\n",
      "9/9 - 0s - loss: 0.5624 - accuracy: 0.9333 - val_loss: 0.5726 - val_accuracy: 0.8889 - 40ms/epoch - 4ms/step\n",
      "Epoch 267/300\n",
      "9/9 - 0s - loss: 0.5781 - accuracy: 0.8778 - val_loss: 0.5234 - val_accuracy: 1.0000 - 39ms/epoch - 4ms/step\n",
      "Epoch 268/300\n",
      "9/9 - 0s - loss: 0.5316 - accuracy: 0.9667 - val_loss: 0.5265 - val_accuracy: 0.8889 - 41ms/epoch - 5ms/step\n",
      "Epoch 269/300\n",
      "9/9 - 0s - loss: 0.5599 - accuracy: 0.9444 - val_loss: 0.5304 - val_accuracy: 0.8889 - 42ms/epoch - 5ms/step\n"
     ]
    },
    {
     "name": "stdout",
     "output_type": "stream",
     "text": [
      "Epoch 270/300\n",
      "9/9 - 0s - loss: 0.5349 - accuracy: 0.9778 - val_loss: 0.5114 - val_accuracy: 1.0000 - 40ms/epoch - 4ms/step\n",
      "Epoch 271/300\n",
      "9/9 - 0s - loss: 0.5680 - accuracy: 0.9111 - val_loss: 0.5151 - val_accuracy: 0.8889 - 44ms/epoch - 5ms/step\n",
      "Epoch 272/300\n",
      "9/9 - 0s - loss: 0.5154 - accuracy: 0.9778 - val_loss: 0.5234 - val_accuracy: 0.8889 - 42ms/epoch - 5ms/step\n",
      "Epoch 273/300\n",
      "9/9 - 0s - loss: 0.5372 - accuracy: 0.9667 - val_loss: 0.4994 - val_accuracy: 1.0000 - 43ms/epoch - 5ms/step\n",
      "Epoch 274/300\n",
      "9/9 - 0s - loss: 0.5487 - accuracy: 0.9444 - val_loss: 0.5189 - val_accuracy: 1.0000 - 48ms/epoch - 5ms/step\n",
      "Epoch 275/300\n",
      "9/9 - 0s - loss: 0.5216 - accuracy: 0.9889 - val_loss: 0.5118 - val_accuracy: 0.8889 - 48ms/epoch - 5ms/step\n",
      "Epoch 276/300\n",
      "9/9 - 0s - loss: 0.5354 - accuracy: 0.9333 - val_loss: 0.5000 - val_accuracy: 1.0000 - 45ms/epoch - 5ms/step\n",
      "Epoch 277/300\n",
      "9/9 - 0s - loss: 0.5172 - accuracy: 0.9333 - val_loss: 0.4876 - val_accuracy: 1.0000 - 45ms/epoch - 5ms/step\n",
      "Epoch 278/300\n",
      "9/9 - 0s - loss: 0.4988 - accuracy: 1.0000 - val_loss: 0.4906 - val_accuracy: 1.0000 - 47ms/epoch - 5ms/step\n",
      "Epoch 279/300\n",
      "9/9 - 0s - loss: 0.5269 - accuracy: 0.9111 - val_loss: 0.5059 - val_accuracy: 1.0000 - 47ms/epoch - 5ms/step\n",
      "Epoch 280/300\n",
      "9/9 - 0s - loss: 0.5064 - accuracy: 0.9556 - val_loss: 0.5206 - val_accuracy: 1.0000 - 47ms/epoch - 5ms/step\n",
      "Epoch 281/300\n",
      "9/9 - 0s - loss: 0.5224 - accuracy: 0.9222 - val_loss: 0.5020 - val_accuracy: 0.8889 - 51ms/epoch - 6ms/step\n",
      "Epoch 282/300\n",
      "9/9 - 0s - loss: 0.5161 - accuracy: 0.9000 - val_loss: 0.4923 - val_accuracy: 0.8889 - 44ms/epoch - 5ms/step\n",
      "Epoch 283/300\n",
      "9/9 - 0s - loss: 0.5004 - accuracy: 0.9556 - val_loss: 0.4770 - val_accuracy: 1.0000 - 48ms/epoch - 5ms/step\n",
      "Epoch 284/300\n",
      "9/9 - 0s - loss: 0.5171 - accuracy: 0.9333 - val_loss: 0.4736 - val_accuracy: 1.0000 - 47ms/epoch - 5ms/step\n",
      "Epoch 285/300\n",
      "9/9 - 0s - loss: 0.4921 - accuracy: 0.9889 - val_loss: 0.4735 - val_accuracy: 1.0000 - 48ms/epoch - 5ms/step\n",
      "Epoch 286/300\n",
      "9/9 - 0s - loss: 0.5050 - accuracy: 0.9222 - val_loss: 0.4714 - val_accuracy: 1.0000 - 47ms/epoch - 5ms/step\n",
      "Epoch 287/300\n",
      "9/9 - 0s - loss: 0.4897 - accuracy: 0.9556 - val_loss: 0.4879 - val_accuracy: 1.0000 - 46ms/epoch - 5ms/step\n",
      "Epoch 288/300\n",
      "9/9 - 0s - loss: 0.4880 - accuracy: 0.9556 - val_loss: 0.4716 - val_accuracy: 1.0000 - 49ms/epoch - 5ms/step\n",
      "Epoch 289/300\n",
      "9/9 - 0s - loss: 0.5331 - accuracy: 0.9222 - val_loss: 0.4897 - val_accuracy: 0.8889 - 50ms/epoch - 6ms/step\n",
      "Epoch 290/300\n",
      "9/9 - 0s - loss: 0.5031 - accuracy: 0.9333 - val_loss: 0.5029 - val_accuracy: 0.8889 - 47ms/epoch - 5ms/step\n",
      "Epoch 291/300\n",
      "9/9 - 0s - loss: 0.4854 - accuracy: 0.9333 - val_loss: 0.4620 - val_accuracy: 1.0000 - 48ms/epoch - 5ms/step\n",
      "Epoch 292/300\n",
      "9/9 - 0s - loss: 0.4792 - accuracy: 0.9778 - val_loss: 0.4595 - val_accuracy: 1.0000 - 47ms/epoch - 5ms/step\n",
      "Epoch 293/300\n",
      "9/9 - 0s - loss: 0.4858 - accuracy: 0.9778 - val_loss: 0.4780 - val_accuracy: 0.8889 - 47ms/epoch - 5ms/step\n",
      "Epoch 294/300\n",
      "9/9 - 0s - loss: 0.5274 - accuracy: 0.9222 - val_loss: 0.4880 - val_accuracy: 0.7778 - 46ms/epoch - 5ms/step\n",
      "Epoch 295/300\n",
      "9/9 - 0s - loss: 0.4807 - accuracy: 0.9444 - val_loss: 0.4491 - val_accuracy: 1.0000 - 46ms/epoch - 5ms/step\n",
      "Epoch 296/300\n",
      "9/9 - 0s - loss: 0.4766 - accuracy: 0.9333 - val_loss: 0.4560 - val_accuracy: 1.0000 - 48ms/epoch - 5ms/step\n",
      "Epoch 297/300\n",
      "9/9 - 0s - loss: 0.4698 - accuracy: 0.9778 - val_loss: 0.4929 - val_accuracy: 0.8889 - 48ms/epoch - 5ms/step\n",
      "Epoch 298/300\n",
      "9/9 - 0s - loss: 0.4807 - accuracy: 0.9222 - val_loss: 0.4795 - val_accuracy: 0.8889 - 48ms/epoch - 5ms/step\n",
      "Epoch 299/300\n",
      "9/9 - 0s - loss: 0.4610 - accuracy: 0.9333 - val_loss: 0.4693 - val_accuracy: 0.8889 - 45ms/epoch - 5ms/step\n",
      "Epoch 300/300\n",
      "9/9 - 0s - loss: 0.4854 - accuracy: 0.9444 - val_loss: 0.4526 - val_accuracy: 1.0000 - 41ms/epoch - 5ms/step\n"
     ]
    }
   ],
   "source": [
    "hist = model.fit(x_train, Y_train,\n",
    "                epochs = 300,\n",
    "                batch_size=10,\n",
    "                verbose=2,  # 학습결과 출력 옵션 0:출력없음, 1:기본값, 2:에포크별 로그 상세출력\n",
    "                validation_data=(x_val, Y_val)\n",
    "                )"
   ]
  },
  {
   "cell_type": "markdown",
   "id": "0fb5d351",
   "metadata": {},
   "source": [
    "# 6. 모델 평가하기(모델학습과정 살펴보고, evalute()"
   ]
  },
  {
   "cell_type": "code",
   "execution_count": 12,
   "id": "a3a180f2",
   "metadata": {},
   "outputs": [
    {
     "data": {
      "text/plain": [
       "dict_keys(['loss', 'accuracy', 'val_loss', 'val_accuracy'])"
      ]
     },
     "execution_count": 12,
     "metadata": {},
     "output_type": "execute_result"
    }
   ],
   "source": [
    "hist.history.keys()"
   ]
  },
  {
   "cell_type": "code",
   "execution_count": 20,
   "id": "288c34d7",
   "metadata": {},
   "outputs": [
    {
     "data": {
      "image/png": "[encoded data removed]",
      "text/plain": [
       "<Figure size 1000x800 with 2 Axes>"
      ]
     },
     "metadata": {},
     "output_type": "display_data"
    }
   ],
   "source": [
    "# 모델 학습과정 시각화\n",
    "import matplotlib.pylab as plt\n",
    "fig, loss_ax = plt.subplots(figsize=(10,8))\n",
    "loss_ax.plot(hist.history['loss'], 'y', label='train loss')\n",
    "loss_ax.plot(hist.history['val_loss'], 'r', label='val loss')\n",
    "loss_ax.set_xlabel('epoch')\n",
    "loss_ax.set_ylabel('loss')\n",
    "\n",
    "acc_ax = loss_ax.twinx()  # loss_ax와 x축을 공유하는 axx_ax생성\n",
    "acc_ax.plot(hist.history['accuracy'],'g', label='train accuracy')\n",
    "acc_ax.plot(hist.history['val_accuracy'], 'b', label='val accuracy')\n",
    "acc_ax.set_ylabel('accuracy')\n",
    "loss_ax.legend(loc='upper left')\n",
    "acc_ax.legend(loc='center right')\n",
    "plt.show()"
   ]
  },
  {
   "cell_type": "code",
   "execution_count": 21,
   "id": "b38550a3",
   "metadata": {},
   "outputs": [
    {
     "name": "stdout",
     "output_type": "stream",
     "text": [
      "9/9 [==============================] - 0s 1ms/step - loss: 0.4526 - accuracy: 1.0000\n"
     ]
    }
   ],
   "source": [
    "# 모델 평가\n",
    "score = model.evaluate(x_test,Y_test,batch_size=1)"
   ]
  },
  {
   "cell_type": "code",
   "execution_count": 22,
   "id": "e9d0f981",
   "metadata": {},
   "outputs": [
    {
     "data": {
      "text/plain": [
       "[0.45256879925727844, 1.0]"
      ]
     },
     "execution_count": 22,
     "metadata": {},
     "output_type": "execute_result"
    }
   ],
   "source": [
    "score  # loss, accuracy"
   ]
  },
  {
   "cell_type": "code",
   "execution_count": 23,
   "id": "9a4db394",
   "metadata": {},
   "outputs": [
    {
     "name": "stdout",
     "output_type": "stream",
     "text": [
      "평가된 loss :  0.45256879925727844\n",
      "평가된 accuracy :  100.0 %\n"
     ]
    }
   ],
   "source": [
    "print('평가된 loss : ', score[0])\n",
    "print('평가된 accuracy : ', score[1]*100, '%')"
   ]
  },
  {
   "cell_type": "markdown",
   "id": "bc122438",
   "metadata": {},
   "source": [
    "# 7. 모델 사용하기 "
   ]
  },
  {
   "cell_type": "code",
   "execution_count": 26,
   "id": "8c9ae625",
   "metadata": {},
   "outputs": [
    {
     "name": "stdout",
     "output_type": "stream",
     "text": [
      "1/1 [==============================] - 0s 22ms/step\n"
     ]
    },
    {
     "data": {
      "text/plain": [
       "array([[4.1802149e-13, 8.1467151e-12, 1.0575595e-01, 4.3469250e-10,\n",
       "        7.4570751e-01, 9.2848621e-14, 1.4669770e-01, 2.2721344e-11,\n",
       "        1.8371276e-03, 1.0632653e-12, 1.7035100e-06, 1.2912737e-12,\n",
       "        5.8065969e-10, 4.9421437e-13, 4.4044771e-14, 8.7002645e-12,\n",
       "        2.0720793e-19, 1.7064549e-13, 4.4576927e-27]], dtype=float32)"
      ]
     },
     "execution_count": 26,
     "metadata": {},
     "output_type": "execute_result"
    }
   ],
   "source": [
    "H = model.predict(np.array( [ [2] ] ))\n",
    "H"
   ]
  },
  {
   "cell_type": "code",
   "execution_count": 27,
   "id": "107ba863",
   "metadata": {},
   "outputs": [
    {
     "name": "stdout",
     "output_type": "stream",
     "text": [
      "1/1 [==============================] - 0s 30ms/step\n"
     ]
    },
    {
     "data": {
      "text/plain": [
       "4"
      ]
     },
     "execution_count": 27,
     "metadata": {},
     "output_type": "execute_result"
    }
   ],
   "source": [
    "# 분류분석의 예측은 predict()후 argmax()\n",
    "model.predict(np.array( [ [2] ] )).argmax()"
   ]
  },
  {
   "cell_type": "code",
   "execution_count": 28,
   "id": "ef327c51",
   "metadata": {},
   "outputs": [
    {
     "data": {
      "text/plain": [
       "74.57075119018555"
      ]
     },
     "execution_count": 28,
     "metadata": {},
     "output_type": "execute_result"
    }
   ],
   "source": [
    "# 4를 몇 % 확률로 예측했는지\n",
    "H[0, H.argmax()]*100"
   ]
  },
  {
   "cell_type": "markdown",
   "id": "67edcd01",
   "metadata": {},
   "source": [
    "# 7. 모델 저장하기"
   ]
  },
  {
   "cell_type": "code",
   "execution_count": 30,
   "id": "e634bd32",
   "metadata": {},
   "outputs": [],
   "source": [
    "# model.save('model/02_deep.h5')\n",
    "from tensorflow.keras.models import save_model\n",
    "save_model(model, 'model/02_deep.h5')"
   ]
  },
  {
   "cell_type": "markdown",
   "id": "41c8605a",
   "metadata": {},
   "source": [
    "# 저장된 모델 사용하기"
   ]
  },
  {
   "cell_type": "code",
   "execution_count": 8,
   "id": "00c34f8e",
   "metadata": {},
   "outputs": [],
   "source": [
    "from tensorflow.keras.models import load_model\n",
    "model2 = load_model('model/02_deep.h5')"
   ]
  },
  {
   "cell_type": "code",
   "execution_count": 9,
   "id": "c3ded27a",
   "metadata": {},
   "outputs": [
    {
     "name": "stdout",
     "output_type": "stream",
     "text": [
      "Model: \"sequential\"\n",
      "_________________________________________________________________\n",
      " Layer (type)                Output Shape              Param #   \n",
      "=================================================================\n",
      " dense (Dense)               (None, 38)                76        \n",
      "                                                                 \n",
      " dense_1 (Dense)             (None, 64)                2496      \n",
      "                                                                 \n",
      " dense_2 (Dense)             (None, 32)                2080      \n",
      "                                                                 \n",
      " dense_3 (Dense)             (None, 19)                627       \n",
      "                                                                 \n",
      "=================================================================\n",
      "Total params: 5,279\n",
      "Trainable params: 5,279\n",
      "Non-trainable params: 0\n",
      "_________________________________________________________________\n"
     ]
    }
   ],
   "source": [
    "model2.summary()"
   ]
  },
  {
   "cell_type": "code",
   "execution_count": 15,
   "id": "ff6eb935",
   "metadata": {},
   "outputs": [
    {
     "name": "stdout",
     "output_type": "stream",
     "text": [
      "1/1 [==============================] - 0s 56ms/step\n"
     ]
    },
    {
     "data": {
      "text/plain": [
       "array([4, 6], dtype=int64)"
      ]
     },
     "execution_count": 15,
     "metadata": {},
     "output_type": "execute_result"
    }
   ],
   "source": [
    "data = np.array([[2], \n",
    "                [3]])\n",
    "predictions = model2.predict(data)\n",
    "predictions.argmax(axis=-1)"
   ]
  },
  {
   "cell_type": "code",
   "execution_count": 16,
   "id": "ea393552",
   "metadata": {},
   "outputs": [],
   "source": [
    "def predict_classes(model, data):\n",
    "    predictions = model.predict(data)\n",
    "    return predictions.argmax(axis=1)"
   ]
  },
  {
   "cell_type": "code",
   "execution_count": 19,
   "id": "c1e3868d",
   "metadata": {},
   "outputs": [],
   "source": [
    "import tensorflow as tf\n",
    "@tf.function(reduce_retracing=True)\n",
    "def predict_classes(modle, data):\n",
    "    predictions = model(data, training=False)\n",
    "    return tf.argmax(predictions, axis=-1)"
   ]
  },
  {
   "cell_type": "code",
   "execution_count": 20,
   "id": "8cd48fcd",
   "metadata": {},
   "outputs": [
    {
     "name": "stdout",
     "output_type": "stream",
     "text": [
      "어떤 데이터를 예측할까요?2\n",
      "예측된 분류는 :  tf.Tensor([15], shape=(1,), dtype=int64)\n"
     ]
    }
   ],
   "source": [
    "import numpy as np\n",
    "input_data = int(input('어떤 데이터를 예측할까요?'))\n",
    "data = np.array([[input_data]])\n",
    "print('예측된 분류는 : ',predict_classes(model2,data))"
   ]
  },
  {
   "cell_type": "code",
   "execution_count": null,
   "id": "831e3191",
   "metadata": {},
   "outputs": [],
   "source": []
  },
  {
   "cell_type": "code",
   "execution_count": null,
   "id": "e279053b",
   "metadata": {},
   "outputs": [],
   "source": []
  },
  {
   "cell_type": "code",
   "execution_count": null,
   "id": "cab8f5b5",
   "metadata": {},
   "outputs": [],
   "source": []
  },
  {
   "cell_type": "code",
   "execution_count": null,
   "id": "30ac0485",
   "metadata": {},
   "outputs": [],
   "source": []
  },
  {
   "cell_type": "code",
   "execution_count": null,
   "id": "b522c025",
   "metadata": {},
   "outputs": [],
   "source": []
  },
  {
   "cell_type": "code",
   "execution_count": null,
   "id": "df9ec464",
   "metadata": {},
   "outputs": [],
   "source": []
  },
  {
   "cell_type": "code",
   "execution_count": null,
   "id": "679b0b1d",
   "metadata": {},
   "outputs": [],
   "source": []
  },
  {
   "cell_type": "code",
   "execution_count": null,
   "id": "328bf0c9",
   "metadata": {},
   "outputs": [],
   "source": []
  },
  {
   "cell_type": "code",
   "execution_count": null,
   "id": "97da0b49",
   "metadata": {},
   "outputs": [],
   "source": []
  },
  {
   "cell_type": "code",
   "execution_count": null,
   "id": "8ec53f20",
   "metadata": {},
   "outputs": [],
   "source": []
  },
  {
   "cell_type": "code",
   "execution_count": null,
   "id": "737bdfee",
   "metadata": {},
   "outputs": [],
   "source": []
  },
  {
   "cell_type": "code",
   "execution_count": null,
   "id": "60baed58",
   "metadata": {},
   "outputs": [],
   "source": []
  },
  {
   "cell_type": "code",
   "execution_count": null,
   "id": "e22a11b6",
   "metadata": {},
   "outputs": [],
   "source": []
  },
  {
   "cell_type": "code",
   "execution_count": null,
   "id": "632b5c88",
   "metadata": {},
   "outputs": [],
   "source": []
  },
  {
   "cell_type": "code",
   "execution_count": null,
   "id": "68aa0242",
   "metadata": {},
   "outputs": [],
   "source": []
  },
  {
   "cell_type": "code",
   "execution_count": null,
   "id": "e6d908e8",
   "metadata": {},
   "outputs": [],
   "source": []
  },
  {
   "cell_type": "code",
   "execution_count": null,
   "id": "029aaa92",
   "metadata": {},
   "outputs": [],
   "source": []
  },
  {
   "cell_type": "code",
   "execution_count": null,
   "id": "6844ace2",
   "metadata": {},
   "outputs": [],
   "source": []
  },
  {
   "cell_type": "code",
   "execution_count": null,
   "id": "4978165c",
   "metadata": {},
   "outputs": [],
   "source": []
  },
  {
   "cell_type": "code",
   "execution_count": null,
   "id": "611a16b6",
   "metadata": {},
   "outputs": [],
   "source": []
  },
  {
   "cell_type": "code",
   "execution_count": null,
   "id": "de9e4c8b",
   "metadata": {},
   "outputs": [],
   "source": []
  },
  {
   "cell_type": "code",
   "execution_count": null,
   "id": "374ce2b4",
   "metadata": {},
   "outputs": [],
   "source": []
  },
  {
   "cell_type": "code",
   "execution_count": null,
   "id": "b978198a",
   "metadata": {},
   "outputs": [],
   "source": []
  },
  {
   "cell_type": "code",
   "execution_count": null,
   "id": "ca48df4d",
   "metadata": {},
   "outputs": [],
   "source": []
  },
  {
   "cell_type": "code",
   "execution_count": null,
   "id": "c81dcd49",
   "metadata": {},
   "outputs": [],
   "source": []
  },
  {
   "cell_type": "code",
   "execution_count": null,
   "id": "0f369458",
   "metadata": {},
   "outputs": [],
   "source": []
  },
  {
   "cell_type": "code",
   "execution_count": null,
   "id": "429c205b",
   "metadata": {},
   "outputs": [],
   "source": []
  },
  {
   "cell_type": "code",
   "execution_count": null,
   "id": "b530641c",
   "metadata": {},
   "outputs": [],
   "source": []
  },
  {
   "cell_type": "code",
   "execution_count": null,
   "id": "24e2ab3b",
   "metadata": {},
   "outputs": [],
   "source": []
  }
 ],
 "metadata": {
  "kernelspec": {
   "display_name": "ml-dl-nlp",
   "language": "python",
   "name": "ml-dl-nlp"
  },
  "language_info": {
   "codemirror_mode": {
    "name": "ipython",
    "version": 3
   },
   "file_extension": ".py",
   "mimetype": "text/x-python",
   "name": "python",
   "nbconvert_exporter": "python",
   "pygments_lexer": "ipython3",
   "version": "3.10.18"
  },
  "toc": {
   "base_numbering": 1,
   "nav_menu": {},
   "number_sections": false,
   "sideBar": true,
   "skip_h1_title": false,
   "title_cell": "Table of Contents",
   "title_sidebar": "Contents",
   "toc_cell": false,
   "toc_position": {
    "height": "calc(100% - 180px)",
    "left": "10px",
    "top": "150px",
    "width": "165px"
   },
   "toc_section_display": true,
   "toc_window_display": true
  }
 },
 "nbformat": 4,
 "nbformat_minor": 5
}
