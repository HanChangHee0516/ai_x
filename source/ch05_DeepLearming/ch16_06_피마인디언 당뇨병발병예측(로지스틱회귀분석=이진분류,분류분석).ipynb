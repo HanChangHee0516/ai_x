{
 "cells": [
  {
   "cell_type": "code",
   "execution_count": 35,
   "id": "5349b490",
   "metadata": {},
   "outputs": [
    {
     "data": {
      "text/html": [
       "\n",
       "<style>\n",
       "div.container{width:90% !important;}\n",
       "div.cell.code_cell.rendered{width:100%;}\n",
       "div.input_prompt{padding:2px;}\n",
       "div.CodeMirror {font-family:Consolas; font-size:10pt;}\n",
       "div.text_cell_render.rendered_html{font-size:10pt;}\n",
       "div.output {font-size:10pt; font-weight:bold;}\n",
       "div.input {font-family:Consolas; font-size:10pt;}\n",
       "div.prompt {min-width:70px;}\n",
       "div#toc-wrapper{padding-top:120px;}\n",
       "div.text_cell_render ul li{font-size:11pt;padding:4px;}\n",
       "table.dataframe{font-size:10px;}\n",
       "</style>\n"
      ],
      "text/plain": [
       "<IPython.core.display.HTML object>"
      ]
     },
     "metadata": {},
     "output_type": "display_data"
    }
   ],
   "source": [
    "from IPython.display import display, HTML\n",
    "display(HTML(\"\"\"\n",
    "<style>\n",
    "div.container{width:90% !important;}\n",
    "div.cell.code_cell.rendered{width:100%;}\n",
    "div.input_prompt{padding:2px;}\n",
    "div.CodeMirror {font-family:Consolas; font-size:10pt;}\n",
    "div.text_cell_render.rendered_html{font-size:10pt;}\n",
    "div.output {font-size:10pt; font-weight:bold;}\n",
    "div.input {font-family:Consolas; font-size:10pt;}\n",
    "div.prompt {min-width:70px;}\n",
    "div#toc-wrapper{padding-top:120px;}\n",
    "div.text_cell_render ul li{font-size:11pt;padding:4px;}\n",
    "table.dataframe{font-size:10px;}\n",
    "</style>\n",
    "\"\"\"))"
   ]
  },
  {
   "cell_type": "code",
   "execution_count": 36,
   "id": "f3549646",
   "metadata": {},
   "outputs": [],
   "source": [
    "import numpy as np\n",
    "import pandas as pd\n",
    "import sys\n",
    "from tensorflow.keras import utils  # utils.to_catrgorical 원핫인코딩\n",
    "from tensorflow.keras.models import Sequential\n",
    "from tensorflow.keras.layers import Input, Dense\n",
    "from matplotlib import pyplot as plt"
   ]
  },
  {
   "cell_type": "markdown",
   "id": "f3616102",
   "metadata": {},
   "source": [
    "# 로지스틱회귀분석(이진분류)\n",
    "## 1. 데이터셋 생성 & 전처리"
   ]
  },
  {
   "cell_type": "code",
   "execution_count": 7,
   "id": "d2c6c9f0",
   "metadata": {},
   "outputs": [
    {
     "name": "stdout",
     "output_type": "stream",
     "text": [
      "<class 'pandas.core.frame.DataFrame'>\n",
      "RangeIndex: 768 entries, 0 to 767\n",
      "Data columns (total 9 columns):\n",
      " #   Column  Non-Null Count  Dtype  \n",
      "---  ------  --------------  -----  \n",
      " 0   0       768 non-null    int64  \n",
      " 1   1       768 non-null    int64  \n",
      " 2   2       768 non-null    int64  \n",
      " 3   3       768 non-null    int64  \n",
      " 4   4       768 non-null    int64  \n",
      " 5   5       768 non-null    float64\n",
      " 6   6       768 non-null    float64\n",
      " 7   7       768 non-null    int64  \n",
      " 8   8       768 non-null    int64  \n",
      "dtypes: float64(2), int64(7)\n",
      "memory usage: 54.1 KB\n"
     ]
    }
   ],
   "source": [
    "df = pd.read_csv('data/pima-indians-diabetes.csv',\n",
    "                 comment='#',\n",
    "                header=None)\n",
    "df.info() # 결측치 확인"
   ]
  },
  {
   "cell_type": "code",
   "execution_count": 13,
   "id": "da07d52c",
   "metadata": {},
   "outputs": [
    {
     "data": {
      "text/plain": [
       "0    500\n",
       "1    268\n",
       "Name: 8, dtype: int64"
      ]
     },
     "execution_count": 13,
     "metadata": {},
     "output_type": "execute_result"
    }
   ],
   "source": [
    "# 타겟 변수의 균형+99\n",
    "df.iloc[:,-1].value_counts()"
   ]
  },
  {
   "cell_type": "code",
   "execution_count": 14,
   "id": "3b3e62b4",
   "metadata": {},
   "outputs": [
    {
     "data": {
      "text/html": [
       "<div>\n",
       "<style scoped>\n",
       "    .dataframe tbody tr th:only-of-type {\n",
       "        vertical-align: middle;\n",
       "    }\n",
       "\n",
       "    .dataframe tbody tr th {\n",
       "        vertical-align: top;\n",
       "    }\n",
       "\n",
       "    .dataframe thead th {\n",
       "        text-align: right;\n",
       "    }\n",
       "</style>\n",
       "<table border=\"1\" class=\"dataframe\">\n",
       "  <thead>\n",
       "    <tr style=\"text-align: right;\">\n",
       "      <th></th>\n",
       "      <th>0</th>\n",
       "      <th>1</th>\n",
       "      <th>2</th>\n",
       "      <th>3</th>\n",
       "      <th>4</th>\n",
       "      <th>5</th>\n",
       "      <th>6</th>\n",
       "      <th>7</th>\n",
       "      <th>8</th>\n",
       "    </tr>\n",
       "  </thead>\n",
       "  <tbody>\n",
       "    <tr>\n",
       "      <th>0</th>\n",
       "      <td>6</td>\n",
       "      <td>148</td>\n",
       "      <td>72</td>\n",
       "      <td>35</td>\n",
       "      <td>0</td>\n",
       "      <td>33.6</td>\n",
       "      <td>0.627</td>\n",
       "      <td>50</td>\n",
       "      <td>1</td>\n",
       "    </tr>\n",
       "    <tr>\n",
       "      <th>1</th>\n",
       "      <td>1</td>\n",
       "      <td>85</td>\n",
       "      <td>66</td>\n",
       "      <td>29</td>\n",
       "      <td>0</td>\n",
       "      <td>26.6</td>\n",
       "      <td>0.351</td>\n",
       "      <td>31</td>\n",
       "      <td>0</td>\n",
       "    </tr>\n",
       "    <tr>\n",
       "      <th>2</th>\n",
       "      <td>8</td>\n",
       "      <td>183</td>\n",
       "      <td>64</td>\n",
       "      <td>0</td>\n",
       "      <td>0</td>\n",
       "      <td>23.3</td>\n",
       "      <td>0.672</td>\n",
       "      <td>32</td>\n",
       "      <td>1</td>\n",
       "    </tr>\n",
       "    <tr>\n",
       "      <th>3</th>\n",
       "      <td>1</td>\n",
       "      <td>89</td>\n",
       "      <td>66</td>\n",
       "      <td>23</td>\n",
       "      <td>94</td>\n",
       "      <td>28.1</td>\n",
       "      <td>0.167</td>\n",
       "      <td>21</td>\n",
       "      <td>0</td>\n",
       "    </tr>\n",
       "    <tr>\n",
       "      <th>4</th>\n",
       "      <td>0</td>\n",
       "      <td>137</td>\n",
       "      <td>40</td>\n",
       "      <td>35</td>\n",
       "      <td>168</td>\n",
       "      <td>43.1</td>\n",
       "      <td>2.288</td>\n",
       "      <td>33</td>\n",
       "      <td>1</td>\n",
       "    </tr>\n",
       "  </tbody>\n",
       "</table>\n",
       "</div>"
      ],
      "text/plain": [
       "   0    1   2   3    4     5      6   7  8\n",
       "0  6  148  72  35    0  33.6  0.627  50  1\n",
       "1  1   85  66  29    0  26.6  0.351  31  0\n",
       "2  8  183  64   0    0  23.3  0.672  32  1\n",
       "3  1   89  66  23   94  28.1  0.167  21  0\n",
       "4  0  137  40  35  168  43.1  2.288  33  1"
      ]
     },
     "execution_count": 14,
     "metadata": {},
     "output_type": "execute_result"
    }
   ],
   "source": [
    "df.head()\n",
    "# X_data = df.iloc[,:-1].values"
   ]
  },
  {
   "cell_type": "code",
   "execution_count": 37,
   "id": "a571886f",
   "metadata": {},
   "outputs": [
    {
     "data": {
      "text/plain": [
       "(768, 9)"
      ]
     },
     "execution_count": 37,
     "metadata": {},
     "output_type": "execute_result"
    }
   ],
   "source": [
    "# csv 파일을 numpy로 읽어오기 : np.loadtxt(결측치가없는경우), np.genfromtxt(결측치가있는경우)\n",
    "dataset = np.loadtxt('data/pima-indians-diabetes.csv',\n",
    "                    encoding='utf-8',\n",
    "                    delimiter=',')\n",
    "dataset.shape"
   ]
  },
  {
   "cell_type": "code",
   "execution_count": 38,
   "id": "4fa49e3e",
   "metadata": {},
   "outputs": [
    {
     "data": {
      "text/plain": [
       "((700, 8), (700,), (68, 8), (68,))"
      ]
     },
     "execution_count": 38,
     "metadata": {},
     "output_type": "execute_result"
    }
   ],
   "source": [
    "# 데이터 분할 : 학습데이터셋(모델학습용) + 시험데이터셋(모델평가용)\n",
    "X_train = dataset[:700, :-1]\n",
    "y_train = dataset[:700, -1]\n",
    "X_test = dataset[700:, :-1]\n",
    "y_test = dataset[700:, -1]\n",
    "X_train.shape, y_train.shape, X_test.shape, y_test.shape "
   ]
  },
  {
   "cell_type": "markdown",
   "id": "f9c57457",
   "metadata": {},
   "source": [
    "## 2. 모델 구성"
   ]
  },
  {
   "cell_type": "code",
   "execution_count": 39,
   "id": "1187028a",
   "metadata": {},
   "outputs": [
    {
     "name": "stdout",
     "output_type": "stream",
     "text": [
      "Model: \"sequential_2\"\n",
      "_________________________________________________________________\n",
      " Layer (type)                Output Shape              Param #   \n",
      "=================================================================\n",
      " dense_6 (Dense)             (None, 32)                288       \n",
      "                                                                 \n",
      " dense_7 (Dense)             (None, 16)                528       \n",
      "                                                                 \n",
      " dense_8 (Dense)             (None, 1)                 17        \n",
      "                                                                 \n",
      "=================================================================\n",
      "Total params: 833\n",
      "Trainable params: 833\n",
      "Non-trainable params: 0\n",
      "_________________________________________________________________\n"
     ]
    }
   ],
   "source": [
    "model = Sequential()\n",
    "model.add(Input(shape=(8,)))\n",
    "model.add(Dense(units=32, activation='relu'))\n",
    "model.add(Dense(units=16, activation='relu'))\n",
    "model.add(Dense(units=1, activation='sigmoid'))\n",
    "model.summary()"
   ]
  },
  {
   "cell_type": "markdown",
   "id": "8dae519a",
   "metadata": {},
   "source": [
    "## 3. 학습과정 설정"
   ]
  },
  {
   "cell_type": "code",
   "execution_count": 40,
   "id": "5d8f75c1",
   "metadata": {},
   "outputs": [],
   "source": [
    "model.compile(loss='binary_crossentropy',\n",
    "             optimizer='adam',\n",
    "             metrics=['binary_accuracy'])"
   ]
  },
  {
   "cell_type": "markdown",
   "id": "75cb7046",
   "metadata": {},
   "source": [
    "## 4. 학습"
   ]
  },
  {
   "cell_type": "code",
   "execution_count": 41,
   "id": "983755a4",
   "metadata": {},
   "outputs": [
    {
     "name": "stdout",
     "output_type": "stream",
     "text": [
      "CPU times: total: 1.72 s\n",
      "Wall time: 1.08 s\n"
     ]
    }
   ],
   "source": [
    "%%time\n",
    "hist = model.fit(X_train, y_train,  # 훈련데이터\n",
    "                epochs=200,  # 학습횟수\n",
    "                batch_size=350,  # 한번에 읽어들이는 데이터 양\n",
    "                # validation_data=(X_test, y_test),  # 검증데이터\n",
    "                # validation_split=0.1,\n",
    "                verbose=0  # 학습 로그 출력 여부( 0:출력X  1:출력O  2:출력자세히)\n",
    "                )"
   ]
  },
  {
   "cell_type": "markdown",
   "id": "7089d184",
   "metadata": {},
   "source": [
    "## 5. 모델 평가하기(학습과정 보기, 평가, 혼동행렬)"
   ]
  },
  {
   "cell_type": "code",
   "execution_count": 42,
   "id": "69e00a08",
   "metadata": {},
   "outputs": [
    {
     "data": {
      "text/plain": [
       "dict_keys(['loss', 'binary_accuracy'])"
      ]
     },
     "execution_count": 42,
     "metadata": {},
     "output_type": "execute_result"
    }
   ],
   "source": [
    "hist.history.keys()"
   ]
  },
  {
   "cell_type": "code",
   "execution_count": 43,
   "id": "93c4b92d",
   "metadata": {},
   "outputs": [
    {
     "data": {
      "text/plain": [
       "[<matplotlib.lines.Line2D at 0x1f92c5e8040>]"
      ]
     },
     "execution_count": 43,
     "metadata": {},
     "output_type": "execute_result"
    },
    {
     "data": {
      "image/png": "[encoded data removed]",
      "text/plain": [
       "<Figure size 1000x500 with 2 Axes>"
      ]
     },
     "metadata": {},
     "output_type": "display_data"
    }
   ],
   "source": [
    "# 학습과정 표시(학습데이터에 대한 loss와 accuracy)\n",
    "fig, loss_ax = plt.subplots(figsize=(10,5))\n",
    "loss_ax.plot(hist.history['loss'], 'r')\n",
    "acc_ax = loss_ax.twinx() # loss)ax와 x축을 공유하는 acc_ax\n",
    "acc_ax.plot(hist.history.get('binary_accuracy'), 'b')"
   ]
  },
  {
   "cell_type": "code",
   "execution_count": 44,
   "id": "fb71736f",
   "metadata": {},
   "outputs": [
    {
     "name": "stdout",
     "output_type": "stream",
     "text": [
      "22/22 [==============================] - 0s 1ms/step - loss: 0.5442 - binary_accuracy: 0.7414\n"
     ]
    },
    {
     "data": {
      "text/plain": [
       "[0.5442275404930115, 0.741428554058075]"
      ]
     },
     "execution_count": 44,
     "metadata": {},
     "output_type": "execute_result"
    }
   ],
   "source": [
    "# 모델 평가\n",
    "model.evaluate(X_train, y_train)"
   ]
  },
  {
   "cell_type": "code",
   "execution_count": 45,
   "id": "2911c31a",
   "metadata": {},
   "outputs": [
    {
     "name": "stdout",
     "output_type": "stream",
     "text": [
      "3/3 [==============================] - 0s 3ms/step - loss: 0.6209 - binary_accuracy: 0.6765\n"
     ]
    },
    {
     "data": {
      "text/plain": [
       "[0.6209267973899841, 0.6764705777168274]"
      ]
     },
     "execution_count": 45,
     "metadata": {},
     "output_type": "execute_result"
    }
   ],
   "source": [
    "# 모델 평가(O)\n",
    "model.evaluate(X_test, y_test)"
   ]
  },
  {
   "cell_type": "markdown",
   "id": "d72d5ebb",
   "metadata": {},
   "source": [
    "### 혼동행렬\n",
    "- 테스트 데이터 셋의 실제값과 예측값으로 작성된 교차표"
   ]
  },
  {
   "cell_type": "code",
   "execution_count": 46,
   "id": "eb123940",
   "metadata": {},
   "outputs": [
    {
     "data": {
      "text/plain": [
       "array([0., 1., 1., 0., 0., 0., 1., 0., 1., 1., 0., 0., 1., 0., 0., 1., 1.,\n",
       "       0., 0., 1., 0., 0., 1., 0., 0., 0., 0., 0., 0., 0., 1., 1., 1., 0.,\n",
       "       0., 0., 0., 0., 0., 1., 1., 0., 0., 1., 0., 0., 1., 0., 1., 1., 1.,\n",
       "       0., 0., 1., 1., 1., 0., 1., 0., 1., 0., 1., 0., 0., 0., 0., 1., 0.])"
      ]
     },
     "execution_count": 46,
     "metadata": {},
     "output_type": "execute_result"
    }
   ],
   "source": [
    "y_test"
   ]
  },
  {
   "cell_type": "code",
   "execution_count": 47,
   "id": "ec10b3ec",
   "metadata": {
    "scrolled": true
   },
   "outputs": [
    {
     "name": "stdout",
     "output_type": "stream",
     "text": [
      "3/3 [==============================] - 0s 2ms/step\n"
     ]
    }
   ],
   "source": [
    "# 실제값 : y_test (68개)\n",
    "# 예측값\n",
    "y_hat = (model.predict(X_test)>=0.5).astype(float)\n"
   ]
  },
  {
   "cell_type": "code",
   "execution_count": 30,
   "id": "69f7d92d",
   "metadata": {
    "scrolled": true
   },
   "outputs": [
    {
     "name": "stdout",
     "output_type": "stream",
     "text": [
      "(68,) (68, 1)\n",
      "36 5\n",
      "16 11\n"
     ]
    }
   ],
   "source": [
    "TN = 0   # 0을 0으로 예측한 경우의 수(T)\n",
    "FP = 0   # 0을 1로 예측한 경우의 수(F)\n",
    "FN = 0   # 1을 0으로 예측한 경우의 수 (F)\n",
    "TP = 0   # 1을 1로 예측한 경우의 수(T)\n",
    "print(y_test.shape, y_hat.shape)\n",
    "for y, h in zip(y_test, y_hat.reshape(-1)):\n",
    "    if y==0 and h==0:\n",
    "        TN += 1\n",
    "    elif y==0 and h==1:\n",
    "        FP+=1\n",
    "    elif y==1 and h==0:\n",
    "        FN +=1\n",
    "    else:\n",
    "        TP += 1\n",
    "print(TN, FP)\n",
    "print(FN, TP)"
   ]
  },
  {
   "cell_type": "code",
   "execution_count": 48,
   "id": "b8210245",
   "metadata": {},
   "outputs": [
    {
     "data": {
      "text/html": [
       "<div>\n",
       "<style scoped>\n",
       "    .dataframe tbody tr th:only-of-type {\n",
       "        vertical-align: middle;\n",
       "    }\n",
       "\n",
       "    .dataframe tbody tr th {\n",
       "        vertical-align: top;\n",
       "    }\n",
       "\n",
       "    .dataframe thead th {\n",
       "        text-align: right;\n",
       "    }\n",
       "</style>\n",
       "<table border=\"1\" class=\"dataframe\">\n",
       "  <thead>\n",
       "    <tr style=\"text-align: right;\">\n",
       "      <th>예측값</th>\n",
       "      <th>0.0</th>\n",
       "      <th>1.0</th>\n",
       "    </tr>\n",
       "    <tr>\n",
       "      <th>실제값</th>\n",
       "      <th></th>\n",
       "      <th></th>\n",
       "    </tr>\n",
       "  </thead>\n",
       "  <tbody>\n",
       "    <tr>\n",
       "      <th>0.0</th>\n",
       "      <td>37</td>\n",
       "      <td>4</td>\n",
       "    </tr>\n",
       "    <tr>\n",
       "      <th>1.0</th>\n",
       "      <td>18</td>\n",
       "      <td>9</td>\n",
       "    </tr>\n",
       "  </tbody>\n",
       "</table>\n",
       "</div>"
      ],
      "text/plain": [
       "예측값  0.0  1.0\n",
       "실제값          \n",
       "0.0   37    4\n",
       "1.0   18    9"
      ]
     },
     "execution_count": 48,
     "metadata": {},
     "output_type": "execute_result"
    }
   ],
   "source": [
    "# 교차표\n",
    "ctab = pd.crosstab(y_test, # 실제값\n",
    "                  y_hat.reshape(-1))  # 예측값\n",
    "ctab.index.name = '실제값'\n",
    "ctab.columns.name = '예측값'\n",
    "ctab\n",
    "\n",
    "pd.crosstab(y_test, # 실제값\n",
    "            y_hat.reshape(-1),  # 예측값\n",
    "            rownames=['실제값'],\n",
    "            colnames=['예측값'])"
   ]
  },
  {
   "cell_type": "code",
   "execution_count": 49,
   "id": "ce6955c0",
   "metadata": {},
   "outputs": [
    {
     "data": {
      "text/plain": [
       "array([[37,  4],\n",
       "       [18,  9]], dtype=int64)"
      ]
     },
     "execution_count": 49,
     "metadata": {},
     "output_type": "execute_result"
    }
   ],
   "source": [
    "# 혼동행령\n",
    "from sklearn.metrics import confusion_matrix\n",
    "confusion_matrix(y_test,\n",
    "                y_hat.reshape(-1))"
   ]
  },
  {
   "cell_type": "code",
   "execution_count": 53,
   "id": "ebc4ce22",
   "metadata": {},
   "outputs": [
    {
     "name": "stdout",
     "output_type": "stream",
     "text": [
      "accuracy : 0.6911764705882353\n",
      "recall :  0.4074074074074074\n",
      "precision :  0.6875\n"
     ]
    }
   ],
   "source": [
    "# accuracy\n",
    "print('accuracy :', (TN+TP)/(TN+FP+FN+TP))\n",
    "print('recall : ', (TP)/(FN+TP))\n",
    "print('precision : ', (TP)/(FP+TP))"
   ]
  },
  {
   "cell_type": "markdown",
   "id": "b271d3bb",
   "metadata": {},
   "source": [
    "## 6. 모델 사용"
   ]
  },
  {
   "cell_type": "code",
   "execution_count": 54,
   "id": "d1fc4565",
   "metadata": {},
   "outputs": [
    {
     "data": {
      "text/plain": [
       "array([  2.   , 122.   ,  76.   ,  27.   , 200.   ,  35.9  ,   0.483,\n",
       "        26.   ])"
      ]
     },
     "execution_count": 54,
     "metadata": {},
     "output_type": "execute_result"
    }
   ],
   "source": [
    "X_test[0]"
   ]
  },
  {
   "cell_type": "code",
   "execution_count": 58,
   "id": "48b85f2d",
   "metadata": {},
   "outputs": [
    {
     "name": "stdout",
     "output_type": "stream",
     "text": [
      "1/1 [==============================] - 0s 21ms/step\n"
     ]
    },
    {
     "data": {
      "text/plain": [
       "0"
      ]
     },
     "execution_count": 58,
     "metadata": {},
     "output_type": "execute_result"
    }
   ],
   "source": [
    "int(model.predict(np.array([[2, 122, 76, 27, 200, 35.9, 0.483, 26]]))>=0.5)"
   ]
  },
  {
   "cell_type": "code",
   "execution_count": 59,
   "id": "e05ad80a",
   "metadata": {},
   "outputs": [
    {
     "name": "stdout",
     "output_type": "stream",
     "text": [
      "1/1 [==============================] - 0s 42ms/step\n"
     ]
    },
    {
     "data": {
      "text/plain": [
       "array([[0],\n",
       "       [0]])"
      ]
     },
     "execution_count": 59,
     "metadata": {},
     "output_type": "execute_result"
    }
   ],
   "source": [
    "(model.predict([[2, 122, 76, 27, 200, 35.9, 0.483, 26],\n",
    "               [0, 122, 76, 27, 200, 35.9, 0.483, 26]])).astype(int)"
   ]
  },
  {
   "cell_type": "markdown",
   "id": "37d940bf",
   "metadata": {},
   "source": [
    "# 분류분석\n",
    "1. 데이터셋 생성 및 전처리 : 훈련셋(600), 검증셋(100), 테스트셋(68)\n",
    "2. 모델 생성(input 8 , output 2) : 출력층 softmax(출력합을 1)\n",
    "    * model.summary() 파리미터 수와 메모리 확인\n",
    "3. 모델 학습과정 설정 : loss='categprocal_crossentropy, metrics=['accuracy']\n",
    "4. 모델 학습 : 훈련셋과 검증셋\n",
    "5. 모델 평가 : 그래프(hist.history), 평가(테스트셋), 교차표(테스트셋)\n",
    "6. 모델 저장 및 사용 : predict결과에 argmax()"
   ]
  },
  {
   "cell_type": "markdown",
   "id": "ca407a1c",
   "metadata": {},
   "source": [
    "## 1. 데이터 셋 생성 및 전처리"
   ]
  },
  {
   "cell_type": "code",
   "execution_count": 61,
   "id": "233ceaf1",
   "metadata": {},
   "outputs": [
    {
     "data": {
      "text/plain": [
       "(768, 9)"
      ]
     },
     "execution_count": 61,
     "metadata": {},
     "output_type": "execute_result"
    }
   ],
   "source": [
    "datataset = np.loadtxt('data/pima-indians-diabetes.csv',\n",
    "                       encoding='utf-8',\n",
    "                      delimiter=',')\n",
    "datataset.shape"
   ]
  },
  {
   "cell_type": "code",
   "execution_count": 88,
   "id": "3fce325d",
   "metadata": {},
   "outputs": [
    {
     "data": {
      "text/plain": [
       "((600, 8), (600,), (100, 8), (100,), (68, 8), (68,))"
      ]
     },
     "execution_count": 88,
     "metadata": {},
     "output_type": "execute_result"
    }
   ],
   "source": [
    "# 훈련셋(600), 검증셋(100), 테스트셋(68)\n",
    "X_train = dataset[:600, :-1]\n",
    "y_train = dataset[:600, -1]\n",
    "X_val = dataset[600:700, :-1]\n",
    "y_val = dataset[600:700, -1]\n",
    "X_test = dataset[700:, :-1]\n",
    "y_test = dataset[700:, -1]\n",
    "X_train.shape,y_train.shape,X_val.shape,y_val.shape,X_test.shape,y_test.shape"
   ]
  },
  {
   "cell_type": "code",
   "execution_count": 89,
   "id": "8a929620",
   "metadata": {},
   "outputs": [
    {
     "name": "stdout",
     "output_type": "stream",
     "text": [
      "[1. 0. 1. 0. 1.]\n",
      "[[0. 1.]\n",
      " [1. 0.]\n",
      " [0. 1.]\n",
      " [1. 0.]\n",
      " [0. 1.]]\n"
     ]
    },
    {
     "data": {
      "text/plain": [
       "((600,), (600, 2), (100, 2), (68, 2))"
      ]
     },
     "execution_count": 89,
     "metadata": {},
     "output_type": "execute_result"
    }
   ],
   "source": [
    "# 타겟변수의 원학인코딩 (분류분석)\n",
    "print(y_train[:5])\n",
    "print(utils.to_categorical(y_train[:5]))\n",
    "\n",
    "Y_train = utils.to_categorical(y_train)\n",
    "Y_val   = utils.to_categorical(y_val)\n",
    "Y_test  = utils.to_categorical(y_test)\n",
    "\n",
    "y_train.shape,Y_train.shape, Y_val.shape, Y_test.shape"
   ]
  },
  {
   "cell_type": "markdown",
   "id": "ef27b6f1",
   "metadata": {},
   "source": [
    "## 2. 모델 생성(input8, target2)\n",
    "- 과적합 줄이는 단계 추가 (dropout 추가)"
   ]
  },
  {
   "cell_type": "code",
   "execution_count": 98,
   "id": "e4f90abf",
   "metadata": {},
   "outputs": [
    {
     "name": "stdout",
     "output_type": "stream",
     "text": [
      "Model: \"sequential_9\"\n",
      "_________________________________________________________________\n",
      " Layer (type)                Output Shape              Param #   \n",
      "=================================================================\n",
      " dense_28 (Dense)            (None, 32)                288       \n",
      "                                                                 \n",
      " dropout (Dropout)           (None, 32)                0         \n",
      "                                                                 \n",
      " dense_29 (Dense)            (None, 64)                2112      \n",
      "                                                                 \n",
      " dropout_1 (Dropout)         (None, 64)                0         \n",
      "                                                                 \n",
      " dense_30 (Dense)            (None, 16)                1040      \n",
      "                                                                 \n",
      " dropout_2 (Dropout)         (None, 16)                0         \n",
      "                                                                 \n",
      " dense_31 (Dense)            (None, 8)                 136       \n",
      "                                                                 \n",
      " dense_32 (Dense)            (None, 2)                 18        \n",
      "                                                                 \n",
      "=================================================================\n",
      "Total params: 3,594\n",
      "Trainable params: 3,594\n",
      "Non-trainable params: 0\n",
      "_________________________________________________________________\n"
     ]
    }
   ],
   "source": [
    "from tensorflow.keras.layers import Dropout\n",
    "model = Sequential()\n",
    "model.add(Input(shape=(8,)))\n",
    "model.add(Dense(units=32, activation='relu'))\n",
    "model.add(Dropout(0.2)) # 과적합을 해결\n",
    "model.add(Dense(units=64, activation='relu'))\n",
    "model.add(Dropout(0.1))\n",
    "model.add(Dense(units=16, activation='relu'))\n",
    "model.add(Dropout(0.2))\n",
    "model.add(Dense(units=8, activation='relu'))\n",
    "model.add(Dense(units=2, activation='softmax'))\n",
    "model.summary()"
   ]
  },
  {
   "cell_type": "markdown",
   "id": "8b233d5c",
   "metadata": {},
   "source": [
    "## 3. 학습과정 설정"
   ]
  },
  {
   "cell_type": "code",
   "execution_count": 99,
   "id": "5eeea2d3",
   "metadata": {},
   "outputs": [],
   "source": [
    "model.compile(loss='categorical_crossentropy',\n",
    "             optimizer='nadam',\n",
    "             metrics=['accuracy'])"
   ]
  },
  {
   "cell_type": "markdown",
   "id": "7ee8a6a7",
   "metadata": {},
   "source": [
    "## 4. 모델 학습"
   ]
  },
  {
   "cell_type": "code",
   "execution_count": 100,
   "id": "e785117a",
   "metadata": {
    "scrolled": true
   },
   "outputs": [
    {
     "name": "stdout",
     "output_type": "stream",
     "text": [
      "Epoch 1/300\n",
      "19/19 [==============================] - 1s 11ms/step - loss: 6.6698 - accuracy: 0.4500 - val_loss: 1.5356 - val_accuracy: 0.6300\n",
      "Epoch 2/300\n",
      "19/19 [==============================] - 0s 4ms/step - loss: 4.1248 - accuracy: 0.5283 - val_loss: 1.3319 - val_accuracy: 0.4600\n",
      "Epoch 3/300\n",
      "19/19 [==============================] - 0s 4ms/step - loss: 2.6436 - accuracy: 0.5317 - val_loss: 0.9946 - val_accuracy: 0.4600\n",
      "Epoch 4/300\n",
      "19/19 [==============================] - 0s 3ms/step - loss: 2.0411 - accuracy: 0.5300 - val_loss: 0.8716 - val_accuracy: 0.4600\n",
      "Epoch 5/300\n",
      "19/19 [==============================] - 0s 4ms/step - loss: 1.5027 - accuracy: 0.5617 - val_loss: 0.7914 - val_accuracy: 0.5600\n",
      "Epoch 6/300\n",
      "19/19 [==============================] - 0s 3ms/step - loss: 1.3489 - accuracy: 0.5867 - val_loss: 0.7125 - val_accuracy: 0.6100\n",
      "Epoch 7/300\n",
      "19/19 [==============================] - 0s 4ms/step - loss: 1.0555 - accuracy: 0.5683 - val_loss: 0.6971 - val_accuracy: 0.5900\n",
      "Epoch 8/300\n",
      "19/19 [==============================] - 0s 3ms/step - loss: 1.0815 - accuracy: 0.5650 - val_loss: 0.6865 - val_accuracy: 0.5900\n",
      "Epoch 9/300\n",
      "19/19 [==============================] - 0s 4ms/step - loss: 0.9253 - accuracy: 0.6083 - val_loss: 0.6718 - val_accuracy: 0.6700\n",
      "Epoch 10/300\n",
      "19/19 [==============================] - 0s 3ms/step - loss: 0.7952 - accuracy: 0.6150 - val_loss: 0.6653 - val_accuracy: 0.6800\n",
      "Epoch 11/300\n",
      "19/19 [==============================] - 0s 4ms/step - loss: 0.8023 - accuracy: 0.6433 - val_loss: 0.6564 - val_accuracy: 0.6800\n",
      "Epoch 12/300\n",
      "19/19 [==============================] - 0s 4ms/step - loss: 0.8198 - accuracy: 0.6317 - val_loss: 0.6552 - val_accuracy: 0.6800\n",
      "Epoch 13/300\n",
      "19/19 [==============================] - 0s 3ms/step - loss: 0.7244 - accuracy: 0.6333 - val_loss: 0.6555 - val_accuracy: 0.6900\n",
      "Epoch 14/300\n",
      "19/19 [==============================] - 0s 4ms/step - loss: 0.7217 - accuracy: 0.6300 - val_loss: 0.6531 - val_accuracy: 0.6700\n",
      "Epoch 15/300\n",
      "19/19 [==============================] - 0s 4ms/step - loss: 0.6775 - accuracy: 0.6700 - val_loss: 0.6543 - val_accuracy: 0.6700\n",
      "Epoch 16/300\n",
      "19/19 [==============================] - 0s 4ms/step - loss: 0.6889 - accuracy: 0.6367 - val_loss: 0.6494 - val_accuracy: 0.6700\n",
      "Epoch 17/300\n",
      "19/19 [==============================] - 0s 4ms/step - loss: 0.6744 - accuracy: 0.6517 - val_loss: 0.6436 - val_accuracy: 0.6700\n",
      "Epoch 18/300\n",
      "19/19 [==============================] - 0s 3ms/step - loss: 0.6811 - accuracy: 0.6467 - val_loss: 0.6390 - val_accuracy: 0.6700\n",
      "Epoch 19/300\n",
      "19/19 [==============================] - 0s 3ms/step - loss: 0.6735 - accuracy: 0.6450 - val_loss: 0.6381 - val_accuracy: 0.6700\n",
      "Epoch 20/300\n",
      "19/19 [==============================] - 0s 3ms/step - loss: 0.6704 - accuracy: 0.6467 - val_loss: 0.6376 - val_accuracy: 0.6700\n",
      "Epoch 21/300\n",
      "19/19 [==============================] - 0s 4ms/step - loss: 0.6769 - accuracy: 0.6483 - val_loss: 0.6348 - val_accuracy: 0.6700\n",
      "Epoch 22/300\n",
      "19/19 [==============================] - 0s 3ms/step - loss: 0.6544 - accuracy: 0.6600 - val_loss: 0.6345 - val_accuracy: 0.6700\n",
      "Epoch 23/300\n",
      "19/19 [==============================] - 0s 4ms/step - loss: 0.6642 - accuracy: 0.6433 - val_loss: 0.6335 - val_accuracy: 0.6700\n",
      "Epoch 24/300\n",
      "19/19 [==============================] - 0s 3ms/step - loss: 0.6605 - accuracy: 0.6500 - val_loss: 0.6330 - val_accuracy: 0.6700\n",
      "Epoch 25/300\n",
      "19/19 [==============================] - 0s 3ms/step - loss: 0.6485 - accuracy: 0.6533 - val_loss: 0.6340 - val_accuracy: 0.6700\n",
      "Epoch 26/300\n",
      "19/19 [==============================] - 0s 4ms/step - loss: 0.6399 - accuracy: 0.6433 - val_loss: 0.6328 - val_accuracy: 0.6700\n",
      "Epoch 27/300\n",
      "19/19 [==============================] - 0s 3ms/step - loss: 0.6921 - accuracy: 0.6667 - val_loss: 0.6318 - val_accuracy: 0.6700\n",
      "Epoch 28/300\n",
      "19/19 [==============================] - 0s 3ms/step - loss: 0.6424 - accuracy: 0.6500 - val_loss: 0.6317 - val_accuracy: 0.6700\n",
      "Epoch 29/300\n",
      "19/19 [==============================] - 0s 4ms/step - loss: 0.6633 - accuracy: 0.6500 - val_loss: 0.6326 - val_accuracy: 0.6700\n",
      "Epoch 30/300\n",
      "19/19 [==============================] - 0s 4ms/step - loss: 0.6674 - accuracy: 0.6400 - val_loss: 0.6317 - val_accuracy: 0.6700\n",
      "Epoch 31/300\n",
      "19/19 [==============================] - 0s 4ms/step - loss: 0.6645 - accuracy: 0.6533 - val_loss: 0.6313 - val_accuracy: 0.6700\n",
      "Epoch 32/300\n",
      "19/19 [==============================] - 0s 3ms/step - loss: 0.6747 - accuracy: 0.6433 - val_loss: 0.6318 - val_accuracy: 0.6700\n",
      "Epoch 33/300\n",
      "19/19 [==============================] - 0s 3ms/step - loss: 0.6475 - accuracy: 0.6483 - val_loss: 0.6350 - val_accuracy: 0.6700\n",
      "Epoch 34/300\n",
      "19/19 [==============================] - 0s 4ms/step - loss: 0.6395 - accuracy: 0.6583 - val_loss: 0.6334 - val_accuracy: 0.6700\n",
      "Epoch 35/300\n",
      "19/19 [==============================] - 0s 3ms/step - loss: 0.6461 - accuracy: 0.6567 - val_loss: 0.6342 - val_accuracy: 0.6700\n",
      "Epoch 36/300\n",
      "19/19 [==============================] - 0s 4ms/step - loss: 0.6311 - accuracy: 0.6717 - val_loss: 0.6344 - val_accuracy: 0.6700\n",
      "Epoch 37/300\n",
      "19/19 [==============================] - 0s 3ms/step - loss: 0.6545 - accuracy: 0.6467 - val_loss: 0.6320 - val_accuracy: 0.6700\n",
      "Epoch 38/300\n",
      "19/19 [==============================] - 0s 3ms/step - loss: 0.6436 - accuracy: 0.6583 - val_loss: 0.6326 - val_accuracy: 0.6700\n",
      "Epoch 39/300\n",
      "19/19 [==============================] - 0s 4ms/step - loss: 0.6400 - accuracy: 0.6533 - val_loss: 0.6336 - val_accuracy: 0.6700\n",
      "Epoch 40/300\n",
      "19/19 [==============================] - 0s 4ms/step - loss: 0.6695 - accuracy: 0.6550 - val_loss: 0.6340 - val_accuracy: 0.6700\n",
      "Epoch 41/300\n",
      "19/19 [==============================] - 0s 4ms/step - loss: 0.6721 - accuracy: 0.6550 - val_loss: 0.6336 - val_accuracy: 0.6700\n",
      "Epoch 42/300\n",
      "19/19 [==============================] - 0s 4ms/step - loss: 0.6559 - accuracy: 0.6467 - val_loss: 0.6335 - val_accuracy: 0.6700\n",
      "Epoch 43/300\n",
      "19/19 [==============================] - 0s 4ms/step - loss: 0.6412 - accuracy: 0.6600 - val_loss: 0.6329 - val_accuracy: 0.6700\n",
      "Epoch 44/300\n",
      "19/19 [==============================] - 0s 3ms/step - loss: 0.6458 - accuracy: 0.6600 - val_loss: 0.6317 - val_accuracy: 0.6700\n",
      "Epoch 45/300\n",
      "19/19 [==============================] - 0s 4ms/step - loss: 0.6512 - accuracy: 0.6467 - val_loss: 0.6316 - val_accuracy: 0.6700\n",
      "Epoch 46/300\n",
      "19/19 [==============================] - 0s 3ms/step - loss: 0.6376 - accuracy: 0.6700 - val_loss: 0.6326 - val_accuracy: 0.6700\n",
      "Epoch 47/300\n",
      "19/19 [==============================] - 0s 4ms/step - loss: 0.6423 - accuracy: 0.6567 - val_loss: 0.6327 - val_accuracy: 0.6700\n",
      "Epoch 48/300\n",
      "19/19 [==============================] - 0s 4ms/step - loss: 0.6491 - accuracy: 0.6500 - val_loss: 0.6321 - val_accuracy: 0.6700\n",
      "Epoch 49/300\n",
      "19/19 [==============================] - 0s 4ms/step - loss: 0.6383 - accuracy: 0.6700 - val_loss: 0.6312 - val_accuracy: 0.6700\n",
      "Epoch 50/300\n",
      "19/19 [==============================] - 0s 3ms/step - loss: 0.6298 - accuracy: 0.6633 - val_loss: 0.6306 - val_accuracy: 0.6700\n",
      "Epoch 51/300\n",
      "19/19 [==============================] - 0s 3ms/step - loss: 0.6509 - accuracy: 0.6533 - val_loss: 0.6312 - val_accuracy: 0.6700\n",
      "Epoch 52/300\n",
      "19/19 [==============================] - 0s 3ms/step - loss: 0.6492 - accuracy: 0.6517 - val_loss: 0.6322 - val_accuracy: 0.6700\n",
      "Epoch 53/300\n",
      "19/19 [==============================] - 0s 4ms/step - loss: 0.6456 - accuracy: 0.6533 - val_loss: 0.6313 - val_accuracy: 0.6700\n",
      "Epoch 54/300\n",
      "19/19 [==============================] - 0s 3ms/step - loss: 0.6478 - accuracy: 0.6517 - val_loss: 0.6319 - val_accuracy: 0.6700\n",
      "Epoch 55/300\n",
      "19/19 [==============================] - 0s 4ms/step - loss: 0.6423 - accuracy: 0.6550 - val_loss: 0.6321 - val_accuracy: 0.6700\n",
      "Epoch 56/300\n",
      "19/19 [==============================] - 0s 4ms/step - loss: 0.6505 - accuracy: 0.6583 - val_loss: 0.6318 - val_accuracy: 0.6700\n",
      "Epoch 57/300\n",
      "19/19 [==============================] - 0s 3ms/step - loss: 0.6433 - accuracy: 0.6633 - val_loss: 0.6329 - val_accuracy: 0.6700\n",
      "Epoch 58/300\n",
      "19/19 [==============================] - 0s 4ms/step - loss: 0.6454 - accuracy: 0.6533 - val_loss: 0.6299 - val_accuracy: 0.6700\n"
     ]
    },
    {
     "name": "stdout",
     "output_type": "stream",
     "text": [
      "Epoch 59/300\n",
      "19/19 [==============================] - 0s 4ms/step - loss: 0.6386 - accuracy: 0.6550 - val_loss: 0.6310 - val_accuracy: 0.6700\n",
      "Epoch 60/300\n",
      "19/19 [==============================] - 0s 3ms/step - loss: 0.6440 - accuracy: 0.6500 - val_loss: 0.6332 - val_accuracy: 0.6700\n",
      "Epoch 61/300\n",
      "19/19 [==============================] - 0s 3ms/step - loss: 0.6396 - accuracy: 0.6533 - val_loss: 0.6315 - val_accuracy: 0.6700\n",
      "Epoch 62/300\n",
      "19/19 [==============================] - 0s 3ms/step - loss: 0.6386 - accuracy: 0.6533 - val_loss: 0.6285 - val_accuracy: 0.6700\n",
      "Epoch 63/300\n",
      "19/19 [==============================] - 0s 3ms/step - loss: 0.6273 - accuracy: 0.6750 - val_loss: 0.6270 - val_accuracy: 0.6800\n",
      "Epoch 64/300\n",
      "19/19 [==============================] - 0s 3ms/step - loss: 0.6340 - accuracy: 0.6683 - val_loss: 0.6303 - val_accuracy: 0.6700\n",
      "Epoch 65/300\n",
      "19/19 [==============================] - 0s 3ms/step - loss: 0.6424 - accuracy: 0.6567 - val_loss: 0.6270 - val_accuracy: 0.6700\n",
      "Epoch 66/300\n",
      "19/19 [==============================] - 0s 3ms/step - loss: 0.6500 - accuracy: 0.6517 - val_loss: 0.6295 - val_accuracy: 0.6700\n",
      "Epoch 67/300\n",
      "19/19 [==============================] - 0s 3ms/step - loss: 0.6347 - accuracy: 0.6700 - val_loss: 0.6270 - val_accuracy: 0.6700\n",
      "Epoch 68/300\n",
      "19/19 [==============================] - 0s 3ms/step - loss: 0.6482 - accuracy: 0.6517 - val_loss: 0.6260 - val_accuracy: 0.6800\n",
      "Epoch 69/300\n",
      "19/19 [==============================] - 0s 3ms/step - loss: 0.6397 - accuracy: 0.6483 - val_loss: 0.6266 - val_accuracy: 0.6800\n",
      "Epoch 70/300\n",
      "19/19 [==============================] - 0s 3ms/step - loss: 0.6349 - accuracy: 0.6517 - val_loss: 0.6254 - val_accuracy: 0.6800\n",
      "Epoch 71/300\n",
      "19/19 [==============================] - 0s 4ms/step - loss: 0.6471 - accuracy: 0.6450 - val_loss: 0.6226 - val_accuracy: 0.6700\n",
      "Epoch 72/300\n",
      "19/19 [==============================] - 0s 3ms/step - loss: 0.6272 - accuracy: 0.6633 - val_loss: 0.6154 - val_accuracy: 0.6700\n",
      "Epoch 73/300\n",
      "19/19 [==============================] - 0s 3ms/step - loss: 0.6307 - accuracy: 0.6683 - val_loss: 0.6111 - val_accuracy: 0.6700\n",
      "Epoch 74/300\n",
      "19/19 [==============================] - 0s 3ms/step - loss: 0.6255 - accuracy: 0.6700 - val_loss: 0.6116 - val_accuracy: 0.6800\n",
      "Epoch 75/300\n",
      "19/19 [==============================] - 0s 3ms/step - loss: 0.6350 - accuracy: 0.6633 - val_loss: 0.6121 - val_accuracy: 0.6700\n",
      "Epoch 76/300\n",
      "19/19 [==============================] - 0s 3ms/step - loss: 0.6143 - accuracy: 0.6733 - val_loss: 0.6046 - val_accuracy: 0.6800\n",
      "Epoch 77/300\n",
      "19/19 [==============================] - 0s 3ms/step - loss: 0.6140 - accuracy: 0.6833 - val_loss: 0.5995 - val_accuracy: 0.6800\n",
      "Epoch 78/300\n",
      "19/19 [==============================] - 0s 3ms/step - loss: 0.6178 - accuracy: 0.6883 - val_loss: 0.5991 - val_accuracy: 0.6800\n",
      "Epoch 79/300\n",
      "19/19 [==============================] - 0s 3ms/step - loss: 0.6252 - accuracy: 0.6733 - val_loss: 0.6074 - val_accuracy: 0.6800\n",
      "Epoch 80/300\n",
      "19/19 [==============================] - 0s 3ms/step - loss: 0.6371 - accuracy: 0.6600 - val_loss: 0.6164 - val_accuracy: 0.6800\n",
      "Epoch 81/300\n",
      "19/19 [==============================] - 0s 3ms/step - loss: 0.6187 - accuracy: 0.6833 - val_loss: 0.6060 - val_accuracy: 0.6800\n",
      "Epoch 82/300\n",
      "19/19 [==============================] - 0s 3ms/step - loss: 0.6202 - accuracy: 0.6750 - val_loss: 0.6079 - val_accuracy: 0.6900\n",
      "Epoch 83/300\n",
      "19/19 [==============================] - 0s 3ms/step - loss: 0.6212 - accuracy: 0.6800 - val_loss: 0.6031 - val_accuracy: 0.6900\n",
      "Epoch 84/300\n",
      "19/19 [==============================] - 0s 3ms/step - loss: 0.6235 - accuracy: 0.6667 - val_loss: 0.6116 - val_accuracy: 0.6800\n",
      "Epoch 85/300\n",
      "19/19 [==============================] - 0s 4ms/step - loss: 0.6264 - accuracy: 0.6700 - val_loss: 0.6068 - val_accuracy: 0.6800\n",
      "Epoch 86/300\n",
      "19/19 [==============================] - 0s 3ms/step - loss: 0.6211 - accuracy: 0.6767 - val_loss: 0.6072 - val_accuracy: 0.6800\n",
      "Epoch 87/300\n",
      "19/19 [==============================] - 0s 3ms/step - loss: 0.6239 - accuracy: 0.6900 - val_loss: 0.6010 - val_accuracy: 0.6800\n",
      "Epoch 88/300\n",
      "19/19 [==============================] - 0s 3ms/step - loss: 0.6360 - accuracy: 0.6683 - val_loss: 0.6166 - val_accuracy: 0.6700\n",
      "Epoch 89/300\n",
      "19/19 [==============================] - 0s 3ms/step - loss: 0.6112 - accuracy: 0.6767 - val_loss: 0.5975 - val_accuracy: 0.7200\n",
      "Epoch 90/300\n",
      "19/19 [==============================] - 0s 4ms/step - loss: 0.6050 - accuracy: 0.6883 - val_loss: 0.6018 - val_accuracy: 0.6800\n",
      "Epoch 91/300\n",
      "19/19 [==============================] - 0s 3ms/step - loss: 0.6185 - accuracy: 0.6867 - val_loss: 0.6033 - val_accuracy: 0.6800\n",
      "Epoch 92/300\n",
      "19/19 [==============================] - 0s 3ms/step - loss: 0.6128 - accuracy: 0.6583 - val_loss: 0.6085 - val_accuracy: 0.6700\n",
      "Epoch 93/300\n",
      "19/19 [==============================] - 0s 3ms/step - loss: 0.6200 - accuracy: 0.6733 - val_loss: 0.5979 - val_accuracy: 0.6800\n",
      "Epoch 94/300\n",
      "19/19 [==============================] - 0s 3ms/step - loss: 0.6233 - accuracy: 0.6783 - val_loss: 0.5970 - val_accuracy: 0.6800\n",
      "Epoch 95/300\n",
      "19/19 [==============================] - 0s 3ms/step - loss: 0.5997 - accuracy: 0.6767 - val_loss: 0.5905 - val_accuracy: 0.7100\n",
      "Epoch 96/300\n",
      "19/19 [==============================] - 0s 3ms/step - loss: 0.6166 - accuracy: 0.6617 - val_loss: 0.5944 - val_accuracy: 0.6900\n",
      "Epoch 97/300\n",
      "19/19 [==============================] - 0s 3ms/step - loss: 0.6056 - accuracy: 0.6767 - val_loss: 0.5913 - val_accuracy: 0.6900\n",
      "Epoch 98/300\n",
      "19/19 [==============================] - 0s 3ms/step - loss: 0.6188 - accuracy: 0.6767 - val_loss: 0.5957 - val_accuracy: 0.6800\n",
      "Epoch 99/300\n",
      "19/19 [==============================] - 0s 5ms/step - loss: 0.6050 - accuracy: 0.6917 - val_loss: 0.5952 - val_accuracy: 0.6900\n",
      "Epoch 100/300\n",
      "19/19 [==============================] - 0s 4ms/step - loss: 0.6124 - accuracy: 0.6683 - val_loss: 0.5908 - val_accuracy: 0.7000\n",
      "Epoch 101/300\n",
      "19/19 [==============================] - 0s 3ms/step - loss: 0.6004 - accuracy: 0.6850 - val_loss: 0.5882 - val_accuracy: 0.7100\n",
      "Epoch 102/300\n",
      "19/19 [==============================] - 0s 4ms/step - loss: 0.6148 - accuracy: 0.6733 - val_loss: 0.5934 - val_accuracy: 0.7000\n",
      "Epoch 103/300\n",
      "19/19 [==============================] - 0s 3ms/step - loss: 0.6157 - accuracy: 0.6900 - val_loss: 0.5920 - val_accuracy: 0.7100\n",
      "Epoch 104/300\n",
      "19/19 [==============================] - 0s 3ms/step - loss: 0.6156 - accuracy: 0.6867 - val_loss: 0.5919 - val_accuracy: 0.7100\n",
      "Epoch 105/300\n",
      "19/19 [==============================] - 0s 4ms/step - loss: 0.6184 - accuracy: 0.6650 - val_loss: 0.5949 - val_accuracy: 0.7000\n",
      "Epoch 106/300\n",
      "19/19 [==============================] - 0s 3ms/step - loss: 0.6014 - accuracy: 0.7033 - val_loss: 0.5915 - val_accuracy: 0.7100\n",
      "Epoch 107/300\n",
      "19/19 [==============================] - 0s 3ms/step - loss: 0.5923 - accuracy: 0.6850 - val_loss: 0.5911 - val_accuracy: 0.7000\n",
      "Epoch 108/300\n",
      "19/19 [==============================] - 0s 3ms/step - loss: 0.6187 - accuracy: 0.6850 - val_loss: 0.6038 - val_accuracy: 0.6800\n",
      "Epoch 109/300\n",
      "19/19 [==============================] - 0s 3ms/step - loss: 0.6086 - accuracy: 0.6883 - val_loss: 0.6004 - val_accuracy: 0.7000\n",
      "Epoch 110/300\n",
      "19/19 [==============================] - 0s 4ms/step - loss: 0.6034 - accuracy: 0.6817 - val_loss: 0.5946 - val_accuracy: 0.7000\n",
      "Epoch 111/300\n",
      "19/19 [==============================] - 0s 3ms/step - loss: 0.6076 - accuracy: 0.6950 - val_loss: 0.5956 - val_accuracy: 0.6800\n",
      "Epoch 112/300\n",
      "19/19 [==============================] - 0s 3ms/step - loss: 0.6122 - accuracy: 0.6850 - val_loss: 0.5878 - val_accuracy: 0.7100\n",
      "Epoch 113/300\n",
      "19/19 [==============================] - 0s 3ms/step - loss: 0.6123 - accuracy: 0.6800 - val_loss: 0.5868 - val_accuracy: 0.7000\n",
      "Epoch 114/300\n",
      "19/19 [==============================] - 0s 4ms/step - loss: 0.5941 - accuracy: 0.7067 - val_loss: 0.5870 - val_accuracy: 0.7100\n",
      "Epoch 115/300\n",
      "19/19 [==============================] - 0s 3ms/step - loss: 0.5963 - accuracy: 0.6867 - val_loss: 0.5928 - val_accuracy: 0.6800\n",
      "Epoch 116/300\n"
     ]
    },
    {
     "name": "stdout",
     "output_type": "stream",
     "text": [
      "19/19 [==============================] - 0s 3ms/step - loss: 0.6114 - accuracy: 0.6950 - val_loss: 0.5835 - val_accuracy: 0.7400\n",
      "Epoch 117/300\n",
      "19/19 [==============================] - 0s 4ms/step - loss: 0.5997 - accuracy: 0.6800 - val_loss: 0.5980 - val_accuracy: 0.6700\n",
      "Epoch 118/300\n",
      "19/19 [==============================] - 0s 4ms/step - loss: 0.5996 - accuracy: 0.6950 - val_loss: 0.5937 - val_accuracy: 0.6800\n",
      "Epoch 119/300\n",
      "19/19 [==============================] - 0s 4ms/step - loss: 0.5857 - accuracy: 0.7017 - val_loss: 0.5906 - val_accuracy: 0.6800\n",
      "Epoch 120/300\n",
      "19/19 [==============================] - 0s 4ms/step - loss: 0.6063 - accuracy: 0.6917 - val_loss: 0.5837 - val_accuracy: 0.7100\n",
      "Epoch 121/300\n",
      "19/19 [==============================] - 0s 4ms/step - loss: 0.6003 - accuracy: 0.6933 - val_loss: 0.5819 - val_accuracy: 0.7200\n",
      "Epoch 122/300\n",
      "19/19 [==============================] - 0s 3ms/step - loss: 0.5956 - accuracy: 0.6750 - val_loss: 0.5828 - val_accuracy: 0.7000\n",
      "Epoch 123/300\n",
      "19/19 [==============================] - 0s 3ms/step - loss: 0.5926 - accuracy: 0.7033 - val_loss: 0.5810 - val_accuracy: 0.7400\n",
      "Epoch 124/300\n",
      "19/19 [==============================] - 0s 3ms/step - loss: 0.5978 - accuracy: 0.6950 - val_loss: 0.5859 - val_accuracy: 0.7000\n",
      "Epoch 125/300\n",
      "19/19 [==============================] - 0s 4ms/step - loss: 0.6068 - accuracy: 0.6917 - val_loss: 0.5863 - val_accuracy: 0.7000\n",
      "Epoch 126/300\n",
      "19/19 [==============================] - 0s 4ms/step - loss: 0.6172 - accuracy: 0.6867 - val_loss: 0.5835 - val_accuracy: 0.7200\n",
      "Epoch 127/300\n",
      "19/19 [==============================] - 0s 4ms/step - loss: 0.6004 - accuracy: 0.6800 - val_loss: 0.5842 - val_accuracy: 0.7100\n",
      "Epoch 128/300\n",
      "19/19 [==============================] - 0s 4ms/step - loss: 0.5915 - accuracy: 0.7033 - val_loss: 0.5813 - val_accuracy: 0.7400\n",
      "Epoch 129/300\n",
      "19/19 [==============================] - 0s 3ms/step - loss: 0.5987 - accuracy: 0.7083 - val_loss: 0.5860 - val_accuracy: 0.7000\n",
      "Epoch 130/300\n",
      "19/19 [==============================] - 0s 3ms/step - loss: 0.5985 - accuracy: 0.6883 - val_loss: 0.5832 - val_accuracy: 0.7100\n",
      "Epoch 131/300\n",
      "19/19 [==============================] - 0s 4ms/step - loss: 0.5798 - accuracy: 0.7183 - val_loss: 0.5830 - val_accuracy: 0.7100\n",
      "Epoch 132/300\n",
      "19/19 [==============================] - 0s 4ms/step - loss: 0.6046 - accuracy: 0.6917 - val_loss: 0.5929 - val_accuracy: 0.6800\n",
      "Epoch 133/300\n",
      "19/19 [==============================] - 0s 4ms/step - loss: 0.5797 - accuracy: 0.7133 - val_loss: 0.5849 - val_accuracy: 0.7000\n",
      "Epoch 134/300\n",
      "19/19 [==============================] - 0s 3ms/step - loss: 0.5892 - accuracy: 0.6900 - val_loss: 0.5848 - val_accuracy: 0.7000\n",
      "Epoch 135/300\n",
      "19/19 [==============================] - 0s 3ms/step - loss: 0.5864 - accuracy: 0.7100 - val_loss: 0.5761 - val_accuracy: 0.7000\n",
      "Epoch 136/300\n",
      "19/19 [==============================] - 0s 4ms/step - loss: 0.5951 - accuracy: 0.6833 - val_loss: 0.5728 - val_accuracy: 0.7300\n",
      "Epoch 137/300\n",
      "19/19 [==============================] - 0s 4ms/step - loss: 0.5891 - accuracy: 0.7100 - val_loss: 0.5752 - val_accuracy: 0.7100\n",
      "Epoch 138/300\n",
      "19/19 [==============================] - 0s 3ms/step - loss: 0.6100 - accuracy: 0.6933 - val_loss: 0.5713 - val_accuracy: 0.7400\n",
      "Epoch 139/300\n",
      "19/19 [==============================] - 0s 4ms/step - loss: 0.5767 - accuracy: 0.6983 - val_loss: 0.5743 - val_accuracy: 0.7100\n",
      "Epoch 140/300\n",
      "19/19 [==============================] - 0s 4ms/step - loss: 0.5825 - accuracy: 0.7067 - val_loss: 0.5710 - val_accuracy: 0.7300\n",
      "Epoch 141/300\n",
      "19/19 [==============================] - 0s 4ms/step - loss: 0.5906 - accuracy: 0.7100 - val_loss: 0.5668 - val_accuracy: 0.7700\n",
      "Epoch 142/300\n",
      "19/19 [==============================] - 0s 3ms/step - loss: 0.5865 - accuracy: 0.6967 - val_loss: 0.5760 - val_accuracy: 0.7100\n",
      "Epoch 143/300\n",
      "19/19 [==============================] - 0s 4ms/step - loss: 0.5797 - accuracy: 0.6983 - val_loss: 0.5655 - val_accuracy: 0.7400\n",
      "Epoch 144/300\n",
      "19/19 [==============================] - 0s 4ms/step - loss: 0.6023 - accuracy: 0.6883 - val_loss: 0.5752 - val_accuracy: 0.7000\n",
      "Epoch 145/300\n",
      "19/19 [==============================] - 0s 3ms/step - loss: 0.6013 - accuracy: 0.7100 - val_loss: 0.5694 - val_accuracy: 0.7500\n",
      "Epoch 146/300\n",
      "19/19 [==============================] - 0s 3ms/step - loss: 0.5926 - accuracy: 0.6883 - val_loss: 0.5731 - val_accuracy: 0.7200\n",
      "Epoch 147/300\n",
      "19/19 [==============================] - 0s 4ms/step - loss: 0.5808 - accuracy: 0.7150 - val_loss: 0.5858 - val_accuracy: 0.6800\n",
      "Epoch 148/300\n",
      "19/19 [==============================] - 0s 4ms/step - loss: 0.5849 - accuracy: 0.7017 - val_loss: 0.5701 - val_accuracy: 0.7300\n",
      "Epoch 149/300\n",
      "19/19 [==============================] - 0s 4ms/step - loss: 0.5825 - accuracy: 0.7000 - val_loss: 0.5774 - val_accuracy: 0.7000\n",
      "Epoch 150/300\n",
      "19/19 [==============================] - 0s 3ms/step - loss: 0.5824 - accuracy: 0.6967 - val_loss: 0.5686 - val_accuracy: 0.7300\n",
      "Epoch 151/300\n",
      "19/19 [==============================] - 0s 3ms/step - loss: 0.5934 - accuracy: 0.6900 - val_loss: 0.5731 - val_accuracy: 0.7000\n",
      "Epoch 152/300\n",
      "19/19 [==============================] - 0s 3ms/step - loss: 0.5899 - accuracy: 0.7217 - val_loss: 0.5788 - val_accuracy: 0.7000\n",
      "Epoch 153/300\n",
      "19/19 [==============================] - 0s 4ms/step - loss: 0.5771 - accuracy: 0.7117 - val_loss: 0.5725 - val_accuracy: 0.7000\n",
      "Epoch 154/300\n",
      "19/19 [==============================] - 0s 4ms/step - loss: 0.5790 - accuracy: 0.7117 - val_loss: 0.5891 - val_accuracy: 0.6800\n",
      "Epoch 155/300\n",
      "19/19 [==============================] - 0s 4ms/step - loss: 0.5768 - accuracy: 0.7067 - val_loss: 0.5853 - val_accuracy: 0.6800\n",
      "Epoch 156/300\n",
      "19/19 [==============================] - 0s 4ms/step - loss: 0.5807 - accuracy: 0.7100 - val_loss: 0.5702 - val_accuracy: 0.7000\n",
      "Epoch 157/300\n",
      "19/19 [==============================] - 0s 4ms/step - loss: 0.5959 - accuracy: 0.6983 - val_loss: 0.5727 - val_accuracy: 0.7000\n",
      "Epoch 158/300\n",
      "19/19 [==============================] - 0s 3ms/step - loss: 0.5936 - accuracy: 0.6817 - val_loss: 0.5625 - val_accuracy: 0.7400\n",
      "Epoch 159/300\n",
      "19/19 [==============================] - 0s 3ms/step - loss: 0.5842 - accuracy: 0.6967 - val_loss: 0.5679 - val_accuracy: 0.7300\n",
      "Epoch 160/300\n",
      "19/19 [==============================] - 0s 4ms/step - loss: 0.5739 - accuracy: 0.7133 - val_loss: 0.5714 - val_accuracy: 0.7100\n",
      "Epoch 161/300\n",
      "19/19 [==============================] - 0s 4ms/step - loss: 0.5736 - accuracy: 0.7083 - val_loss: 0.5773 - val_accuracy: 0.7100\n",
      "Epoch 162/300\n",
      "19/19 [==============================] - 0s 4ms/step - loss: 0.5917 - accuracy: 0.6883 - val_loss: 0.5767 - val_accuracy: 0.7100\n",
      "Epoch 163/300\n",
      "19/19 [==============================] - 0s 4ms/step - loss: 0.5939 - accuracy: 0.6983 - val_loss: 0.5787 - val_accuracy: 0.7000\n",
      "Epoch 164/300\n",
      "19/19 [==============================] - 0s 3ms/step - loss: 0.5803 - accuracy: 0.7117 - val_loss: 0.5898 - val_accuracy: 0.6800\n",
      "Epoch 165/300\n",
      "19/19 [==============================] - 0s 3ms/step - loss: 0.5760 - accuracy: 0.7233 - val_loss: 0.5900 - val_accuracy: 0.6800\n",
      "Epoch 166/300\n",
      "19/19 [==============================] - 0s 3ms/step - loss: 0.5812 - accuracy: 0.6850 - val_loss: 0.5725 - val_accuracy: 0.7100\n",
      "Epoch 167/300\n",
      "19/19 [==============================] - 0s 3ms/step - loss: 0.5687 - accuracy: 0.7067 - val_loss: 0.5723 - val_accuracy: 0.7000\n",
      "Epoch 168/300\n",
      "19/19 [==============================] - 0s 4ms/step - loss: 0.5773 - accuracy: 0.7083 - val_loss: 0.5679 - val_accuracy: 0.7000\n",
      "Epoch 169/300\n",
      "19/19 [==============================] - 0s 3ms/step - loss: 0.5884 - accuracy: 0.7067 - val_loss: 0.5787 - val_accuracy: 0.6900\n",
      "Epoch 170/300\n",
      "19/19 [==============================] - 0s 3ms/step - loss: 0.5754 - accuracy: 0.7100 - val_loss: 0.5756 - val_accuracy: 0.7100\n",
      "Epoch 171/300\n",
      "19/19 [==============================] - 0s 4ms/step - loss: 0.5827 - accuracy: 0.6917 - val_loss: 0.5754 - val_accuracy: 0.7100\n",
      "Epoch 172/300\n",
      "19/19 [==============================] - 0s 3ms/step - loss: 0.5757 - accuracy: 0.7117 - val_loss: 0.5829 - val_accuracy: 0.7000\n",
      "Epoch 173/300\n"
     ]
    },
    {
     "name": "stdout",
     "output_type": "stream",
     "text": [
      "19/19 [==============================] - 0s 4ms/step - loss: 0.5619 - accuracy: 0.7117 - val_loss: 0.5663 - val_accuracy: 0.7200\n",
      "Epoch 174/300\n",
      "19/19 [==============================] - 0s 4ms/step - loss: 0.5600 - accuracy: 0.7250 - val_loss: 0.5648 - val_accuracy: 0.7300\n",
      "Epoch 175/300\n",
      "19/19 [==============================] - 0s 4ms/step - loss: 0.5635 - accuracy: 0.7150 - val_loss: 0.5637 - val_accuracy: 0.7300\n",
      "Epoch 176/300\n",
      "19/19 [==============================] - 0s 4ms/step - loss: 0.5668 - accuracy: 0.7250 - val_loss: 0.5704 - val_accuracy: 0.7000\n",
      "Epoch 177/300\n",
      "19/19 [==============================] - 0s 4ms/step - loss: 0.5725 - accuracy: 0.7217 - val_loss: 0.5850 - val_accuracy: 0.6900\n",
      "Epoch 178/300\n",
      "19/19 [==============================] - 0s 4ms/step - loss: 0.5656 - accuracy: 0.7267 - val_loss: 0.5639 - val_accuracy: 0.7400\n",
      "Epoch 179/300\n",
      "19/19 [==============================] - 0s 4ms/step - loss: 0.5818 - accuracy: 0.6800 - val_loss: 0.5680 - val_accuracy: 0.7000\n",
      "Epoch 180/300\n",
      "19/19 [==============================] - 0s 4ms/step - loss: 0.5574 - accuracy: 0.7250 - val_loss: 0.5612 - val_accuracy: 0.7600\n",
      "Epoch 181/300\n",
      "19/19 [==============================] - 0s 3ms/step - loss: 0.5747 - accuracy: 0.7167 - val_loss: 0.5654 - val_accuracy: 0.7200\n",
      "Epoch 182/300\n",
      "19/19 [==============================] - 0s 3ms/step - loss: 0.5684 - accuracy: 0.7250 - val_loss: 0.5612 - val_accuracy: 0.7100\n",
      "Epoch 183/300\n",
      "19/19 [==============================] - 0s 3ms/step - loss: 0.5606 - accuracy: 0.7350 - val_loss: 0.5617 - val_accuracy: 0.7100\n",
      "Epoch 184/300\n",
      "19/19 [==============================] - 0s 3ms/step - loss: 0.5574 - accuracy: 0.7250 - val_loss: 0.5640 - val_accuracy: 0.7000\n",
      "Epoch 185/300\n",
      "19/19 [==============================] - 0s 3ms/step - loss: 0.5876 - accuracy: 0.6933 - val_loss: 0.5637 - val_accuracy: 0.7300\n",
      "Epoch 186/300\n",
      "19/19 [==============================] - 0s 4ms/step - loss: 0.5767 - accuracy: 0.6917 - val_loss: 0.5585 - val_accuracy: 0.7400\n",
      "Epoch 187/300\n",
      "19/19 [==============================] - 0s 4ms/step - loss: 0.5780 - accuracy: 0.7200 - val_loss: 0.5789 - val_accuracy: 0.7000\n",
      "Epoch 188/300\n",
      "19/19 [==============================] - 0s 4ms/step - loss: 0.5596 - accuracy: 0.7300 - val_loss: 0.5612 - val_accuracy: 0.7300\n",
      "Epoch 189/300\n",
      "19/19 [==============================] - 0s 3ms/step - loss: 0.5794 - accuracy: 0.7133 - val_loss: 0.5592 - val_accuracy: 0.7300\n",
      "Epoch 190/300\n",
      "19/19 [==============================] - 0s 3ms/step - loss: 0.6005 - accuracy: 0.7050 - val_loss: 0.5680 - val_accuracy: 0.7000\n",
      "Epoch 191/300\n",
      "19/19 [==============================] - 0s 3ms/step - loss: 0.5667 - accuracy: 0.7300 - val_loss: 0.5884 - val_accuracy: 0.6800\n",
      "Epoch 192/300\n",
      "19/19 [==============================] - 0s 3ms/step - loss: 0.5629 - accuracy: 0.7217 - val_loss: 0.5724 - val_accuracy: 0.7100\n",
      "Epoch 193/300\n",
      "19/19 [==============================] - 0s 4ms/step - loss: 0.5626 - accuracy: 0.7317 - val_loss: 0.5612 - val_accuracy: 0.7300\n",
      "Epoch 194/300\n",
      "19/19 [==============================] - 0s 3ms/step - loss: 0.5577 - accuracy: 0.7250 - val_loss: 0.5579 - val_accuracy: 0.7300\n",
      "Epoch 195/300\n",
      "19/19 [==============================] - 0s 4ms/step - loss: 0.5619 - accuracy: 0.7017 - val_loss: 0.5802 - val_accuracy: 0.7000\n",
      "Epoch 196/300\n",
      "19/19 [==============================] - 0s 4ms/step - loss: 0.5533 - accuracy: 0.7417 - val_loss: 0.5757 - val_accuracy: 0.7100\n",
      "Epoch 197/300\n",
      "19/19 [==============================] - 0s 4ms/step - loss: 0.5622 - accuracy: 0.7033 - val_loss: 0.5728 - val_accuracy: 0.7100\n",
      "Epoch 198/300\n",
      "19/19 [==============================] - 0s 4ms/step - loss: 0.5544 - accuracy: 0.7317 - val_loss: 0.5606 - val_accuracy: 0.7200\n",
      "Epoch 199/300\n",
      "19/19 [==============================] - 0s 3ms/step - loss: 0.5511 - accuracy: 0.7300 - val_loss: 0.5603 - val_accuracy: 0.7300\n",
      "Epoch 200/300\n",
      "19/19 [==============================] - 0s 3ms/step - loss: 0.5613 - accuracy: 0.7167 - val_loss: 0.5505 - val_accuracy: 0.7600\n",
      "Epoch 201/300\n",
      "19/19 [==============================] - 0s 3ms/step - loss: 0.5777 - accuracy: 0.6967 - val_loss: 0.5703 - val_accuracy: 0.7000\n",
      "Epoch 202/300\n",
      "19/19 [==============================] - 0s 3ms/step - loss: 0.5702 - accuracy: 0.7150 - val_loss: 0.5634 - val_accuracy: 0.7100\n",
      "Epoch 203/300\n",
      "19/19 [==============================] - 0s 3ms/step - loss: 0.5636 - accuracy: 0.7183 - val_loss: 0.5568 - val_accuracy: 0.7200\n",
      "Epoch 204/300\n",
      "19/19 [==============================] - 0s 4ms/step - loss: 0.5525 - accuracy: 0.7300 - val_loss: 0.5704 - val_accuracy: 0.7000\n",
      "Epoch 205/300\n",
      "19/19 [==============================] - 0s 3ms/step - loss: 0.5794 - accuracy: 0.7000 - val_loss: 0.5538 - val_accuracy: 0.7200\n",
      "Epoch 206/300\n",
      "19/19 [==============================] - 0s 4ms/step - loss: 0.5710 - accuracy: 0.7150 - val_loss: 0.5554 - val_accuracy: 0.7200\n",
      "Epoch 207/300\n",
      "19/19 [==============================] - 0s 4ms/step - loss: 0.5620 - accuracy: 0.7183 - val_loss: 0.5568 - val_accuracy: 0.7200\n",
      "Epoch 208/300\n",
      "19/19 [==============================] - 0s 4ms/step - loss: 0.5466 - accuracy: 0.7233 - val_loss: 0.5484 - val_accuracy: 0.7700\n",
      "Epoch 209/300\n",
      "19/19 [==============================] - 0s 5ms/step - loss: 0.5689 - accuracy: 0.7133 - val_loss: 0.5735 - val_accuracy: 0.6800\n",
      "Epoch 210/300\n",
      "19/19 [==============================] - 0s 4ms/step - loss: 0.5513 - accuracy: 0.7283 - val_loss: 0.5579 - val_accuracy: 0.7200\n",
      "Epoch 211/300\n",
      "19/19 [==============================] - 0s 4ms/step - loss: 0.5677 - accuracy: 0.7217 - val_loss: 0.5697 - val_accuracy: 0.6900\n",
      "Epoch 212/300\n",
      "19/19 [==============================] - 0s 4ms/step - loss: 0.5579 - accuracy: 0.7167 - val_loss: 0.5734 - val_accuracy: 0.7000\n",
      "Epoch 213/300\n",
      "19/19 [==============================] - 0s 4ms/step - loss: 0.5616 - accuracy: 0.7317 - val_loss: 0.5574 - val_accuracy: 0.7100\n",
      "Epoch 214/300\n",
      "19/19 [==============================] - 0s 4ms/step - loss: 0.5614 - accuracy: 0.7117 - val_loss: 0.5622 - val_accuracy: 0.7000\n",
      "Epoch 215/300\n",
      "19/19 [==============================] - 0s 3ms/step - loss: 0.5509 - accuracy: 0.7200 - val_loss: 0.5505 - val_accuracy: 0.7500\n",
      "Epoch 216/300\n",
      "19/19 [==============================] - 0s 4ms/step - loss: 0.5554 - accuracy: 0.7250 - val_loss: 0.5565 - val_accuracy: 0.7300\n",
      "Epoch 217/300\n",
      "19/19 [==============================] - 0s 4ms/step - loss: 0.5542 - accuracy: 0.7200 - val_loss: 0.5567 - val_accuracy: 0.7100\n",
      "Epoch 218/300\n",
      "19/19 [==============================] - 0s 3ms/step - loss: 0.5893 - accuracy: 0.7100 - val_loss: 0.5595 - val_accuracy: 0.7000\n",
      "Epoch 219/300\n",
      "19/19 [==============================] - 0s 3ms/step - loss: 0.5550 - accuracy: 0.7117 - val_loss: 0.5501 - val_accuracy: 0.7300\n",
      "Epoch 220/300\n",
      "19/19 [==============================] - 0s 3ms/step - loss: 0.5571 - accuracy: 0.7183 - val_loss: 0.5507 - val_accuracy: 0.7400\n",
      "Epoch 221/300\n",
      "19/19 [==============================] - 0s 4ms/step - loss: 0.5748 - accuracy: 0.6967 - val_loss: 0.5462 - val_accuracy: 0.7200\n",
      "Epoch 222/300\n",
      "19/19 [==============================] - 0s 3ms/step - loss: 0.5599 - accuracy: 0.7150 - val_loss: 0.5725 - val_accuracy: 0.7000\n",
      "Epoch 223/300\n",
      "19/19 [==============================] - 0s 4ms/step - loss: 0.5420 - accuracy: 0.7183 - val_loss: 0.5430 - val_accuracy: 0.7600\n",
      "Epoch 224/300\n",
      "19/19 [==============================] - 0s 3ms/step - loss: 0.5710 - accuracy: 0.7133 - val_loss: 0.5793 - val_accuracy: 0.6800\n",
      "Epoch 225/300\n",
      "19/19 [==============================] - 0s 4ms/step - loss: 0.5595 - accuracy: 0.7200 - val_loss: 0.5449 - val_accuracy: 0.7200\n",
      "Epoch 226/300\n",
      "19/19 [==============================] - 0s 4ms/step - loss: 0.5566 - accuracy: 0.7317 - val_loss: 0.5461 - val_accuracy: 0.7600\n",
      "Epoch 227/300\n",
      "19/19 [==============================] - 0s 4ms/step - loss: 0.5542 - accuracy: 0.7183 - val_loss: 0.5706 - val_accuracy: 0.7100\n",
      "Epoch 228/300\n",
      "19/19 [==============================] - 0s 4ms/step - loss: 0.5521 - accuracy: 0.7300 - val_loss: 0.5713 - val_accuracy: 0.7100\n",
      "Epoch 229/300\n",
      "19/19 [==============================] - 0s 4ms/step - loss: 0.5474 - accuracy: 0.7317 - val_loss: 0.5565 - val_accuracy: 0.7100\n",
      "Epoch 230/300\n"
     ]
    },
    {
     "name": "stdout",
     "output_type": "stream",
     "text": [
      "19/19 [==============================] - 0s 4ms/step - loss: 0.5469 - accuracy: 0.7500 - val_loss: 0.5545 - val_accuracy: 0.7100\n",
      "Epoch 231/300\n",
      "19/19 [==============================] - 0s 5ms/step - loss: 0.5586 - accuracy: 0.7083 - val_loss: 0.5793 - val_accuracy: 0.6900\n",
      "Epoch 232/300\n",
      "19/19 [==============================] - 0s 3ms/step - loss: 0.5443 - accuracy: 0.7300 - val_loss: 0.5494 - val_accuracy: 0.7100\n",
      "Epoch 233/300\n",
      "19/19 [==============================] - 0s 3ms/step - loss: 0.5526 - accuracy: 0.7183 - val_loss: 0.5612 - val_accuracy: 0.7000\n",
      "Epoch 234/300\n",
      "19/19 [==============================] - 0s 3ms/step - loss: 0.5640 - accuracy: 0.7217 - val_loss: 0.5467 - val_accuracy: 0.7200\n",
      "Epoch 235/300\n",
      "19/19 [==============================] - 0s 3ms/step - loss: 0.5642 - accuracy: 0.7150 - val_loss: 0.5500 - val_accuracy: 0.7200\n",
      "Epoch 236/300\n",
      "19/19 [==============================] - 0s 3ms/step - loss: 0.5501 - accuracy: 0.7183 - val_loss: 0.5340 - val_accuracy: 0.7500\n",
      "Epoch 237/300\n",
      "19/19 [==============================] - 0s 3ms/step - loss: 0.5383 - accuracy: 0.7400 - val_loss: 0.5470 - val_accuracy: 0.7100\n",
      "Epoch 238/300\n",
      "19/19 [==============================] - 0s 3ms/step - loss: 0.5498 - accuracy: 0.7267 - val_loss: 0.5446 - val_accuracy: 0.7100\n",
      "Epoch 239/300\n",
      "19/19 [==============================] - 0s 3ms/step - loss: 0.5342 - accuracy: 0.7217 - val_loss: 0.5496 - val_accuracy: 0.7100\n",
      "Epoch 240/300\n",
      "19/19 [==============================] - 0s 3ms/step - loss: 0.5508 - accuracy: 0.7133 - val_loss: 0.5603 - val_accuracy: 0.7000\n",
      "Epoch 241/300\n",
      "19/19 [==============================] - 0s 4ms/step - loss: 0.5415 - accuracy: 0.7367 - val_loss: 0.5445 - val_accuracy: 0.7500\n",
      "Epoch 242/300\n",
      "19/19 [==============================] - 0s 4ms/step - loss: 0.5530 - accuracy: 0.7117 - val_loss: 0.5732 - val_accuracy: 0.7000\n",
      "Epoch 243/300\n",
      "19/19 [==============================] - 0s 4ms/step - loss: 0.5528 - accuracy: 0.7217 - val_loss: 0.5507 - val_accuracy: 0.7100\n",
      "Epoch 244/300\n",
      "19/19 [==============================] - 0s 4ms/step - loss: 0.5369 - accuracy: 0.7400 - val_loss: 0.5578 - val_accuracy: 0.7100\n",
      "Epoch 245/300\n",
      "19/19 [==============================] - 0s 3ms/step - loss: 0.5401 - accuracy: 0.7383 - val_loss: 0.5536 - val_accuracy: 0.7100\n",
      "Epoch 246/300\n",
      "19/19 [==============================] - 0s 3ms/step - loss: 0.5529 - accuracy: 0.7200 - val_loss: 0.5392 - val_accuracy: 0.7200\n",
      "Epoch 247/300\n",
      "19/19 [==============================] - 0s 3ms/step - loss: 0.5513 - accuracy: 0.7200 - val_loss: 0.5410 - val_accuracy: 0.7100\n",
      "Epoch 248/300\n",
      "19/19 [==============================] - 0s 3ms/step - loss: 0.5341 - accuracy: 0.7350 - val_loss: 0.5336 - val_accuracy: 0.7300\n",
      "Epoch 249/300\n",
      "19/19 [==============================] - 0s 3ms/step - loss: 0.5406 - accuracy: 0.7167 - val_loss: 0.5303 - val_accuracy: 0.7200\n",
      "Epoch 250/300\n",
      "19/19 [==============================] - 0s 3ms/step - loss: 0.5376 - accuracy: 0.7350 - val_loss: 0.5432 - val_accuracy: 0.7300\n",
      "Epoch 251/300\n",
      "19/19 [==============================] - 0s 3ms/step - loss: 0.5553 - accuracy: 0.7367 - val_loss: 0.5303 - val_accuracy: 0.7300\n",
      "Epoch 252/300\n",
      "19/19 [==============================] - 0s 4ms/step - loss: 0.5704 - accuracy: 0.7150 - val_loss: 0.5538 - val_accuracy: 0.7000\n",
      "Epoch 253/300\n",
      "19/19 [==============================] - 0s 4ms/step - loss: 0.5253 - accuracy: 0.7483 - val_loss: 0.5277 - val_accuracy: 0.7500\n",
      "Epoch 254/300\n",
      "19/19 [==============================] - 0s 4ms/step - loss: 0.5535 - accuracy: 0.7333 - val_loss: 0.5438 - val_accuracy: 0.7000\n",
      "Epoch 255/300\n",
      "19/19 [==============================] - 0s 3ms/step - loss: 0.5535 - accuracy: 0.7183 - val_loss: 0.5400 - val_accuracy: 0.7100\n",
      "Epoch 256/300\n",
      "19/19 [==============================] - 0s 3ms/step - loss: 0.5476 - accuracy: 0.7250 - val_loss: 0.5406 - val_accuracy: 0.7000\n",
      "Epoch 257/300\n",
      "19/19 [==============================] - 0s 4ms/step - loss: 0.5336 - accuracy: 0.7333 - val_loss: 0.5464 - val_accuracy: 0.7000\n",
      "Epoch 258/300\n",
      "19/19 [==============================] - 0s 4ms/step - loss: 0.5246 - accuracy: 0.7400 - val_loss: 0.5429 - val_accuracy: 0.7200\n",
      "Epoch 259/300\n",
      "19/19 [==============================] - 0s 4ms/step - loss: 0.5421 - accuracy: 0.7317 - val_loss: 0.5508 - val_accuracy: 0.7100\n",
      "Epoch 260/300\n",
      "19/19 [==============================] - 0s 4ms/step - loss: 0.5388 - accuracy: 0.7367 - val_loss: 0.5455 - val_accuracy: 0.7200\n",
      "Epoch 261/300\n",
      "19/19 [==============================] - 0s 4ms/step - loss: 0.5394 - accuracy: 0.7467 - val_loss: 0.5524 - val_accuracy: 0.7100\n",
      "Epoch 262/300\n",
      "19/19 [==============================] - 0s 4ms/step - loss: 0.5283 - accuracy: 0.7617 - val_loss: 0.5439 - val_accuracy: 0.7200\n",
      "Epoch 263/300\n",
      "19/19 [==============================] - 0s 4ms/step - loss: 0.5348 - accuracy: 0.7517 - val_loss: 0.5615 - val_accuracy: 0.7000\n",
      "Epoch 264/300\n",
      "19/19 [==============================] - 0s 3ms/step - loss: 0.5322 - accuracy: 0.7267 - val_loss: 0.5578 - val_accuracy: 0.7100\n",
      "Epoch 265/300\n",
      "19/19 [==============================] - 0s 3ms/step - loss: 0.5403 - accuracy: 0.7383 - val_loss: 0.5388 - val_accuracy: 0.7400\n",
      "Epoch 266/300\n",
      "19/19 [==============================] - 0s 3ms/step - loss: 0.5418 - accuracy: 0.7167 - val_loss: 0.5515 - val_accuracy: 0.7100\n",
      "Epoch 267/300\n",
      "19/19 [==============================] - 0s 3ms/step - loss: 0.5368 - accuracy: 0.7333 - val_loss: 0.5445 - val_accuracy: 0.7000\n",
      "Epoch 268/300\n",
      "19/19 [==============================] - 0s 4ms/step - loss: 0.5555 - accuracy: 0.7200 - val_loss: 0.5419 - val_accuracy: 0.7300\n",
      "Epoch 269/300\n",
      "19/19 [==============================] - 0s 4ms/step - loss: 0.5438 - accuracy: 0.7333 - val_loss: 0.5349 - val_accuracy: 0.7400\n",
      "Epoch 270/300\n",
      "19/19 [==============================] - 0s 3ms/step - loss: 0.5594 - accuracy: 0.7367 - val_loss: 0.5431 - val_accuracy: 0.7100\n",
      "Epoch 271/300\n",
      "19/19 [==============================] - 0s 4ms/step - loss: 0.5376 - accuracy: 0.7300 - val_loss: 0.5464 - val_accuracy: 0.7000\n",
      "Epoch 272/300\n",
      "19/19 [==============================] - 0s 4ms/step - loss: 0.5457 - accuracy: 0.7367 - val_loss: 0.5469 - val_accuracy: 0.7100\n",
      "Epoch 273/300\n",
      "19/19 [==============================] - 0s 4ms/step - loss: 0.5606 - accuracy: 0.7117 - val_loss: 0.5571 - val_accuracy: 0.7000\n",
      "Epoch 274/300\n",
      "19/19 [==============================] - 0s 4ms/step - loss: 0.5505 - accuracy: 0.7083 - val_loss: 0.5367 - val_accuracy: 0.7200\n",
      "Epoch 275/300\n",
      "19/19 [==============================] - 0s 4ms/step - loss: 0.5224 - accuracy: 0.7433 - val_loss: 0.5738 - val_accuracy: 0.6800\n",
      "Epoch 276/300\n",
      "19/19 [==============================] - 0s 4ms/step - loss: 0.5362 - accuracy: 0.7267 - val_loss: 0.5326 - val_accuracy: 0.7400\n",
      "Epoch 277/300\n",
      "19/19 [==============================] - 0s 4ms/step - loss: 0.5270 - accuracy: 0.7433 - val_loss: 0.5704 - val_accuracy: 0.7000\n",
      "Epoch 278/300\n",
      "19/19 [==============================] - 0s 3ms/step - loss: 0.5359 - accuracy: 0.7433 - val_loss: 0.5456 - val_accuracy: 0.7000\n",
      "Epoch 279/300\n",
      "19/19 [==============================] - 0s 3ms/step - loss: 0.5284 - accuracy: 0.7367 - val_loss: 0.5393 - val_accuracy: 0.7100\n",
      "Epoch 280/300\n",
      "19/19 [==============================] - 0s 3ms/step - loss: 0.5371 - accuracy: 0.7367 - val_loss: 0.5566 - val_accuracy: 0.7000\n",
      "Epoch 281/300\n",
      "19/19 [==============================] - 0s 4ms/step - loss: 0.5392 - accuracy: 0.7317 - val_loss: 0.5340 - val_accuracy: 0.7400\n",
      "Epoch 282/300\n",
      "19/19 [==============================] - 0s 3ms/step - loss: 0.5312 - accuracy: 0.7117 - val_loss: 0.5540 - val_accuracy: 0.7000\n",
      "Epoch 283/300\n",
      "19/19 [==============================] - 0s 4ms/step - loss: 0.5407 - accuracy: 0.7317 - val_loss: 0.5424 - val_accuracy: 0.7100\n",
      "Epoch 284/300\n",
      "19/19 [==============================] - 0s 3ms/step - loss: 0.5194 - accuracy: 0.7500 - val_loss: 0.5376 - val_accuracy: 0.7400\n",
      "Epoch 285/300\n",
      "19/19 [==============================] - 0s 4ms/step - loss: 0.5203 - accuracy: 0.7400 - val_loss: 0.5338 - val_accuracy: 0.7300\n",
      "Epoch 286/300\n",
      "19/19 [==============================] - 0s 4ms/step - loss: 0.5503 - accuracy: 0.7183 - val_loss: 0.5757 - val_accuracy: 0.6900\n",
      "Epoch 287/300\n"
     ]
    },
    {
     "name": "stdout",
     "output_type": "stream",
     "text": [
      "19/19 [==============================] - 0s 4ms/step - loss: 0.5213 - accuracy: 0.7400 - val_loss: 0.5535 - val_accuracy: 0.7000\n",
      "Epoch 288/300\n",
      "19/19 [==============================] - 0s 4ms/step - loss: 0.5212 - accuracy: 0.7433 - val_loss: 0.5540 - val_accuracy: 0.7000\n",
      "Epoch 289/300\n",
      "19/19 [==============================] - 0s 3ms/step - loss: 0.5281 - accuracy: 0.7333 - val_loss: 0.5600 - val_accuracy: 0.6900\n",
      "Epoch 290/300\n",
      "19/19 [==============================] - 0s 3ms/step - loss: 0.5248 - accuracy: 0.7467 - val_loss: 0.5690 - val_accuracy: 0.7000\n",
      "Epoch 291/300\n",
      "19/19 [==============================] - 0s 4ms/step - loss: 0.5373 - accuracy: 0.7383 - val_loss: 0.5603 - val_accuracy: 0.6900\n",
      "Epoch 292/300\n",
      "19/19 [==============================] - 0s 4ms/step - loss: 0.5254 - accuracy: 0.7433 - val_loss: 0.5452 - val_accuracy: 0.7000\n",
      "Epoch 293/300\n",
      "19/19 [==============================] - 0s 4ms/step - loss: 0.5314 - accuracy: 0.7417 - val_loss: 0.5485 - val_accuracy: 0.7100\n",
      "Epoch 294/300\n",
      "19/19 [==============================] - 0s 4ms/step - loss: 0.5273 - accuracy: 0.7417 - val_loss: 0.5577 - val_accuracy: 0.7000\n",
      "Epoch 295/300\n",
      "19/19 [==============================] - 0s 3ms/step - loss: 0.5346 - accuracy: 0.7533 - val_loss: 0.5626 - val_accuracy: 0.7000\n",
      "Epoch 296/300\n",
      "19/19 [==============================] - 0s 3ms/step - loss: 0.5329 - accuracy: 0.7450 - val_loss: 0.5465 - val_accuracy: 0.7000\n",
      "Epoch 297/300\n",
      "19/19 [==============================] - 0s 3ms/step - loss: 0.5306 - accuracy: 0.7317 - val_loss: 0.5768 - val_accuracy: 0.7000\n",
      "Epoch 298/300\n",
      "19/19 [==============================] - 0s 3ms/step - loss: 0.5320 - accuracy: 0.7317 - val_loss: 0.5607 - val_accuracy: 0.7100\n",
      "Epoch 299/300\n",
      "19/19 [==============================] - 0s 3ms/step - loss: 0.5245 - accuracy: 0.7400 - val_loss: 0.5552 - val_accuracy: 0.7200\n",
      "Epoch 300/300\n",
      "19/19 [==============================] - 0s 3ms/step - loss: 0.5144 - accuracy: 0.7433 - val_loss: 0.5383 - val_accuracy: 0.7100\n"
     ]
    }
   ],
   "source": [
    "hist = model.fit(X_train, Y_train,\n",
    "                epochs=300,\n",
    "                validation_data=(X_val, Y_val),\n",
    "                verbose=1\n",
    "                )"
   ]
  },
  {
   "cell_type": "markdown",
   "id": "c5a5b2ba",
   "metadata": {},
   "source": [
    "## 5. 학습과정 살펴보기"
   ]
  },
  {
   "cell_type": "code",
   "execution_count": 101,
   "id": "b4a6a566",
   "metadata": {},
   "outputs": [
    {
     "data": {
      "text/plain": [
       "dict_keys(['loss', 'accuracy', 'val_loss', 'val_accuracy'])"
      ]
     },
     "execution_count": 101,
     "metadata": {},
     "output_type": "execute_result"
    }
   ],
   "source": [
    "hist.history.keys()"
   ]
  },
  {
   "cell_type": "code",
   "execution_count": 108,
   "id": "0df82555",
   "metadata": {},
   "outputs": [
    {
     "data": {
      "image/png": "[encoded data removed]",
      "text/plain": [
       "<Figure size 1200x600 with 2 Axes>"
      ]
     },
     "metadata": {},
     "output_type": "display_data"
    }
   ],
   "source": [
    "fig, loss_ax = plt.subplots(figsize=(12,6))\n",
    "loss_ax.plot(hist.history['loss'], 'y', label='train loss')\n",
    "loss_ax.plot(hist.history['val_loss'], 'r', label='val loss')\n",
    "acc_ax = loss_ax.twinx()\n",
    "acc_ax.plot(hist.history['accuracy'], 'g', label='train accuracy')\n",
    "acc_ax.plot(hist.history['val_accuracy'], 'b', label='val accuracy')\n",
    "loss_ax.set_xlabel('epochs')\n",
    "loss_ax.set_ylabel('loss')\n",
    "acc_ax.set_ylabel('accuracy')\n",
    "loss_ax.legend(loc='center right')\n",
    "acc_ax.legend()\n",
    "plt.show()"
   ]
  },
  {
   "cell_type": "markdown",
   "id": "49f7cbeb",
   "metadata": {},
   "source": [
    "## 6. 모델 평가 & 교차표"
   ]
  },
  {
   "cell_type": "code",
   "execution_count": 111,
   "id": "2aabe0c1",
   "metadata": {},
   "outputs": [
    {
     "name": "stdout",
     "output_type": "stream",
     "text": [
      "loss : 0.6393583416938782, 정확도 : 0.6323529481887817\n"
     ]
    }
   ],
   "source": [
    "loss, accuracy = model.evaluate(X_test, Y_test, verbose=0)\n",
    "print(f'loss : {loss}, 정확도 : {accuracy}')"
   ]
  },
  {
   "cell_type": "code",
   "execution_count": 113,
   "id": "dabc490d",
   "metadata": {},
   "outputs": [
    {
     "data": {
      "text/plain": [
       "array([0, 1, 1, 0, 0, 0, 1, 0, 1, 1, 0, 0, 1, 0, 0, 1, 1, 0, 0, 1, 0, 0,\n",
       "       1, 0, 0, 0, 0, 0, 0, 0, 1, 1, 1, 0, 0, 0, 0, 0, 0, 1, 1, 0, 0, 1,\n",
       "       0, 0, 1, 0, 1, 1, 1, 0, 0, 1, 1, 1, 0, 1, 0, 1, 0, 1, 0, 0, 0, 0,\n",
       "       1, 0], dtype=int64)"
      ]
     },
     "execution_count": 113,
     "metadata": {},
     "output_type": "execute_result"
    }
   ],
   "source": [
    "# 교차표\n",
    "Y_test.argmax(axis=1) # 실제값 y_test"
   ]
  },
  {
   "cell_type": "code",
   "execution_count": 117,
   "id": "ae09eada",
   "metadata": {
    "scrolled": true
   },
   "outputs": [
    {
     "name": "stdout",
     "output_type": "stream",
     "text": [
      "3/3 [==============================] - 0s 2ms/step\n"
     ]
    },
    {
     "data": {
      "text/plain": [
       "array([0, 0, 0, 0, 0, 0, 0, 0, 0, 0, 0, 0, 0, 0, 0, 1, 0, 0, 0, 0, 0, 0,\n",
       "       0, 0, 0, 0, 0, 0, 0, 0, 0, 0, 0, 0, 0, 0, 0, 0, 0, 0, 0, 0, 0, 0,\n",
       "       0, 0, 0, 0, 0, 0, 0, 0, 0, 0, 0, 0, 0, 0, 0, 0, 0, 1, 0, 0, 0, 0,\n",
       "       0, 0], dtype=int64)"
      ]
     },
     "execution_count": 117,
     "metadata": {},
     "output_type": "execute_result"
    }
   ],
   "source": [
    "y_hat = model.predict(X_test).argmax(axis=1) # 출력뮬 [0이 나올 확률 , 1일 나올 확률]\n",
    "y_hat"
   ]
  },
  {
   "cell_type": "code",
   "execution_count": 119,
   "id": "e304d1df",
   "metadata": {},
   "outputs": [
    {
     "data": {
      "text/html": [
       "<div>\n",
       "<style scoped>\n",
       "    .dataframe tbody tr th:only-of-type {\n",
       "        vertical-align: middle;\n",
       "    }\n",
       "\n",
       "    .dataframe tbody tr th {\n",
       "        vertical-align: top;\n",
       "    }\n",
       "\n",
       "    .dataframe thead th {\n",
       "        text-align: right;\n",
       "    }\n",
       "</style>\n",
       "<table border=\"1\" class=\"dataframe\">\n",
       "  <thead>\n",
       "    <tr style=\"text-align: right;\">\n",
       "      <th>예측값</th>\n",
       "      <th>0</th>\n",
       "      <th>1</th>\n",
       "    </tr>\n",
       "    <tr>\n",
       "      <th>실제값</th>\n",
       "      <th></th>\n",
       "      <th></th>\n",
       "    </tr>\n",
       "  </thead>\n",
       "  <tbody>\n",
       "    <tr>\n",
       "      <th>0.0</th>\n",
       "      <td>41</td>\n",
       "      <td>0</td>\n",
       "    </tr>\n",
       "    <tr>\n",
       "      <th>1.0</th>\n",
       "      <td>25</td>\n",
       "      <td>2</td>\n",
       "    </tr>\n",
       "  </tbody>\n",
       "</table>\n",
       "</div>"
      ],
      "text/plain": [
       "예측값   0  1\n",
       "실제값       \n",
       "0.0  41  0\n",
       "1.0  25  2"
      ]
     },
     "execution_count": 119,
     "metadata": {},
     "output_type": "execute_result"
    }
   ],
   "source": [
    "pd.crosstab(y_test, y_hat, rownames=['실제값'], colnames=['예측값'])"
   ]
  },
  {
   "cell_type": "code",
   "execution_count": 120,
   "id": "9c5b52ba",
   "metadata": {},
   "outputs": [
    {
     "data": {
      "text/plain": [
       "array([[41,  0],\n",
       "       [25,  2]], dtype=int64)"
      ]
     },
     "execution_count": 120,
     "metadata": {},
     "output_type": "execute_result"
    }
   ],
   "source": [
    "confusion_matrix(y_test, y_hat)"
   ]
  },
  {
   "cell_type": "markdown",
   "id": "2639419b",
   "metadata": {},
   "source": [
    "## 7. 모델 저장 및 사용"
   ]
  },
  {
   "cell_type": "code",
   "execution_count": 122,
   "id": "3bcbcee0",
   "metadata": {},
   "outputs": [],
   "source": [
    "from tensorflow.keras.models import save_model, load_model\n",
    "# model.save('model/06_pima.h5')\n",
    "save_model(model, 'model/06_pima.h5')"
   ]
  },
  {
   "cell_type": "code",
   "execution_count": 123,
   "id": "4adf1c9c",
   "metadata": {},
   "outputs": [],
   "source": [
    "model2 = load_model('model/06_pima.h5')"
   ]
  },
  {
   "cell_type": "code",
   "execution_count": 128,
   "id": "3601dace",
   "metadata": {},
   "outputs": [
    {
     "name": "stdout",
     "output_type": "stream",
     "text": [
      "1/1 [==============================] - 0s 79ms/step\n"
     ]
    },
    {
     "data": {
      "text/plain": [
       "array([0, 0], dtype=int64)"
      ]
     },
     "execution_count": 128,
     "metadata": {},
     "output_type": "execute_result"
    }
   ],
   "source": [
    "pred = model2.predict([[2, 122, 76, 27, 200, 35.9, 0.483, 26],\n",
    "               [6, 125, 78, 31, 0, 27.6, 0.565, 49]])\n",
    "pred.argmax(axis=1)"
   ]
  },
  {
   "cell_type": "code",
   "execution_count": 129,
   "id": "f49fa92c",
   "metadata": {},
   "outputs": [
    {
     "data": {
      "text/plain": [
       "array([0, 0], dtype=int64)"
      ]
     },
     "execution_count": 129,
     "metadata": {},
     "output_type": "execute_result"
    }
   ],
   "source": [
    "np.argmax(pred, axis=1)"
   ]
  },
  {
   "cell_type": "code",
   "execution_count": null,
   "id": "06e72a71",
   "metadata": {},
   "outputs": [],
   "source": []
  },
  {
   "cell_type": "code",
   "execution_count": null,
   "id": "b93b19da",
   "metadata": {},
   "outputs": [],
   "source": []
  },
  {
   "cell_type": "code",
   "execution_count": null,
   "id": "72d81423",
   "metadata": {},
   "outputs": [],
   "source": []
  },
  {
   "cell_type": "code",
   "execution_count": null,
   "id": "17216a99",
   "metadata": {},
   "outputs": [],
   "source": []
  },
  {
   "cell_type": "code",
   "execution_count": null,
   "id": "956171b6",
   "metadata": {},
   "outputs": [],
   "source": []
  },
  {
   "cell_type": "code",
   "execution_count": null,
   "id": "442125cc",
   "metadata": {},
   "outputs": [],
   "source": []
  },
  {
   "cell_type": "code",
   "execution_count": null,
   "id": "c6a3adae",
   "metadata": {},
   "outputs": [],
   "source": []
  },
  {
   "cell_type": "code",
   "execution_count": null,
   "id": "65e9b01d",
   "metadata": {},
   "outputs": [],
   "source": []
  },
  {
   "cell_type": "code",
   "execution_count": null,
   "id": "d3f09f95",
   "metadata": {},
   "outputs": [],
   "source": []
  },
  {
   "cell_type": "code",
   "execution_count": null,
   "id": "a012b55f",
   "metadata": {},
   "outputs": [],
   "source": []
  },
  {
   "cell_type": "code",
   "execution_count": null,
   "id": "75f2e348",
   "metadata": {},
   "outputs": [],
   "source": []
  },
  {
   "cell_type": "code",
   "execution_count": null,
   "id": "1d83a1fb",
   "metadata": {},
   "outputs": [],
   "source": []
  },
  {
   "cell_type": "code",
   "execution_count": null,
   "id": "81df7308",
   "metadata": {},
   "outputs": [],
   "source": []
  },
  {
   "cell_type": "code",
   "execution_count": null,
   "id": "79b4cc43",
   "metadata": {},
   "outputs": [],
   "source": []
  },
  {
   "cell_type": "code",
   "execution_count": null,
   "id": "0a24e334",
   "metadata": {},
   "outputs": [],
   "source": []
  },
  {
   "cell_type": "code",
   "execution_count": null,
   "id": "93c38838",
   "metadata": {},
   "outputs": [],
   "source": []
  },
  {
   "cell_type": "code",
   "execution_count": null,
   "id": "3c5bb0e7",
   "metadata": {},
   "outputs": [],
   "source": []
  },
  {
   "cell_type": "code",
   "execution_count": null,
   "id": "7be37d9a",
   "metadata": {},
   "outputs": [],
   "source": []
  },
  {
   "cell_type": "code",
   "execution_count": null,
   "id": "99a9f2dc",
   "metadata": {},
   "outputs": [],
   "source": []
  },
  {
   "cell_type": "code",
   "execution_count": null,
   "id": "ddb8f856",
   "metadata": {},
   "outputs": [],
   "source": []
  },
  {
   "cell_type": "code",
   "execution_count": null,
   "id": "f6e11b2e",
   "metadata": {},
   "outputs": [],
   "source": []
  },
  {
   "cell_type": "code",
   "execution_count": null,
   "id": "747d8139",
   "metadata": {},
   "outputs": [],
   "source": []
  },
  {
   "cell_type": "code",
   "execution_count": null,
   "id": "68474c99",
   "metadata": {},
   "outputs": [],
   "source": []
  },
  {
   "cell_type": "code",
   "execution_count": null,
   "id": "406e8177",
   "metadata": {},
   "outputs": [],
   "source": []
  },
  {
   "cell_type": "code",
   "execution_count": null,
   "id": "f5c56ad5",
   "metadata": {},
   "outputs": [],
   "source": []
  },
  {
   "cell_type": "code",
   "execution_count": null,
   "id": "1cea1d29",
   "metadata": {},
   "outputs": [],
   "source": []
  },
  {
   "cell_type": "code",
   "execution_count": null,
   "id": "a6dff491",
   "metadata": {},
   "outputs": [],
   "source": []
  },
  {
   "cell_type": "code",
   "execution_count": null,
   "id": "4ace3032",
   "metadata": {},
   "outputs": [],
   "source": []
  },
  {
   "cell_type": "code",
   "execution_count": null,
   "id": "1f53a03f",
   "metadata": {},
   "outputs": [],
   "source": []
  },
  {
   "cell_type": "code",
   "execution_count": null,
   "id": "77c40acd",
   "metadata": {},
   "outputs": [],
   "source": []
  },
  {
   "cell_type": "code",
   "execution_count": null,
   "id": "1491fa51",
   "metadata": {},
   "outputs": [],
   "source": []
  },
  {
   "cell_type": "code",
   "execution_count": null,
   "id": "a31b1b0a",
   "metadata": {},
   "outputs": [],
   "source": []
  },
  {
   "cell_type": "code",
   "execution_count": null,
   "id": "60451215",
   "metadata": {},
   "outputs": [],
   "source": []
  },
  {
   "cell_type": "code",
   "execution_count": null,
   "id": "cc473e88",
   "metadata": {},
   "outputs": [],
   "source": []
  },
  {
   "cell_type": "code",
   "execution_count": null,
   "id": "db7a978b",
   "metadata": {},
   "outputs": [],
   "source": []
  },
  {
   "cell_type": "code",
   "execution_count": null,
   "id": "dee4b283",
   "metadata": {},
   "outputs": [],
   "source": []
  },
  {
   "cell_type": "code",
   "execution_count": null,
   "id": "44331c2c",
   "metadata": {},
   "outputs": [],
   "source": []
  },
  {
   "cell_type": "code",
   "execution_count": null,
   "id": "8f790562",
   "metadata": {},
   "outputs": [],
   "source": []
  },
  {
   "cell_type": "code",
   "execution_count": null,
   "id": "366cafe0",
   "metadata": {},
   "outputs": [],
   "source": []
  },
  {
   "cell_type": "code",
   "execution_count": null,
   "id": "d1738067",
   "metadata": {},
   "outputs": [],
   "source": []
  },
  {
   "cell_type": "code",
   "execution_count": null,
   "id": "48b11b7a",
   "metadata": {},
   "outputs": [],
   "source": []
  },
  {
   "cell_type": "code",
   "execution_count": null,
   "id": "2ea16b43",
   "metadata": {},
   "outputs": [],
   "source": []
  },
  {
   "cell_type": "code",
   "execution_count": null,
   "id": "80e5189a",
   "metadata": {},
   "outputs": [],
   "source": []
  },
  {
   "cell_type": "code",
   "execution_count": null,
   "id": "a8c12aff",
   "metadata": {},
   "outputs": [],
   "source": []
  },
  {
   "cell_type": "code",
   "execution_count": null,
   "id": "db3fcfbc",
   "metadata": {},
   "outputs": [],
   "source": []
  },
  {
   "cell_type": "code",
   "execution_count": null,
   "id": "0304bcf7",
   "metadata": {},
   "outputs": [],
   "source": []
  },
  {
   "cell_type": "code",
   "execution_count": null,
   "id": "01f4ffc9",
   "metadata": {},
   "outputs": [],
   "source": []
  },
  {
   "cell_type": "code",
   "execution_count": null,
   "id": "14c8341f",
   "metadata": {},
   "outputs": [],
   "source": []
  },
  {
   "cell_type": "code",
   "execution_count": null,
   "id": "eacbfde4",
   "metadata": {},
   "outputs": [],
   "source": []
  },
  {
   "cell_type": "code",
   "execution_count": null,
   "id": "849c8f9a",
   "metadata": {},
   "outputs": [],
   "source": []
  },
  {
   "cell_type": "code",
   "execution_count": null,
   "id": "29ddaf2e",
   "metadata": {},
   "outputs": [],
   "source": []
  },
  {
   "cell_type": "code",
   "execution_count": null,
   "id": "6685c68e",
   "metadata": {},
   "outputs": [],
   "source": []
  }
 ],
 "metadata": {
  "kernelspec": {
   "display_name": "ml-dl-nlp",
   "language": "python",
   "name": "ml-dl-nlp"
  },
  "language_info": {
   "codemirror_mode": {
    "name": "ipython",
    "version": 3
   },
   "file_extension": ".py",
   "mimetype": "text/x-python",
   "name": "python",
   "nbconvert_exporter": "python",
   "pygments_lexer": "ipython3",
   "version": "3.10.18"
  },
  "toc": {
   "base_numbering": 1,
   "nav_menu": {},
   "number_sections": false,
   "sideBar": true,
   "skip_h1_title": false,
   "title_cell": "Table of Contents",
   "title_sidebar": "Contents",
   "toc_cell": false,
   "toc_position": {
    "height": "calc(100% - 180px)",
    "left": "10px",
    "top": "150px",
    "width": "165px"
   },
   "toc_section_display": true,
   "toc_window_display": true
  }
 },
 "nbformat": 4,
 "nbformat_minor": 5
}
