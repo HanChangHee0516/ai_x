{
 "cells": [
  {
   "cell_type": "code",
   "execution_count": 2,
   "id": "f2eded10",
   "metadata": {},
   "outputs": [
    {
     "data": {
      "text/html": [
       "\n",
       "<style>\n",
       "div.container{width:90% !important;}\n",
       "div.cell.code_cell.rendered{width:100%;}\n",
       "div.input_prompt{padding:2px;}\n",
       "div.CodeMirror {font-family:Consolas; font-size:10pt;}\n",
       "div.text_cell_render.rendered_html{font-size:10pt;}\n",
       "div.output {font-size:10pt; font-weight:bold;}\n",
       "div.input {font-family:Consolas; font-size:10pt;}\n",
       "div.prompt {min-width:70px;}\n",
       "div#toc-wrapper{padding-top:120px;}\n",
       "div.text_cell_render ul li{font-size:11pt;padding:4px;}\n",
       "table.dataframe{font-size:10px;}\n",
       "</style>\n"
      ],
      "text/plain": [
       "<IPython.core.display.HTML object>"
      ]
     },
     "metadata": {},
     "output_type": "display_data"
    }
   ],
   "source": [
    "from IPython.display import display, HTML\n",
    "display(HTML(\"\"\"\n",
    "<style>\n",
    "div.container{width:90% !important;}\n",
    "div.cell.code_cell.rendered{width:100%;}\n",
    "div.input_prompt{padding:2px;}\n",
    "div.CodeMirror {font-family:Consolas; font-size:10pt;}\n",
    "div.text_cell_render.rendered_html{font-size:10pt;}\n",
    "div.output {font-size:10pt; font-weight:bold;}\n",
    "div.input {font-family:Consolas; font-size:10pt;}\n",
    "div.prompt {min-width:70px;}\n",
    "div#toc-wrapper{padding-top:120px;}\n",
    "div.text_cell_render ul li{font-size:11pt;padding:4px;}\n",
    "table.dataframe{font-size:10px;}\n",
    "</style>\n",
    "\"\"\"))"
   ]
  },
  {
   "cell_type": "markdown",
   "id": "c9028298",
   "metadata": {},
   "source": [
    "# 1. tensorflow v2.xx에서 v1사용하기"
   ]
  },
  {
   "cell_type": "code",
   "execution_count": 5,
   "id": "f836aca4",
   "metadata": {},
   "outputs": [],
   "source": [
    "import tensorflow.compat.v1 as tf\n",
    "tf.disable_v2_behavior()  # v2를 비활성화하고, v1활성화\n",
    "import numpy as np\n",
    "import pandas as pd"
   ]
  },
  {
   "cell_type": "markdown",
   "id": "81cc4630",
   "metadata": {},
   "source": [
    "## Tensorflow\n",
    "- 데이터 흐름 그래프(tensor객체의 흐름)\n",
    "- 이 그래프는 node(상수, 변수, 연산)와 edge로 구성\n",
    "- sess = tf.Session()으로 실행\n",
    "- sess.run()을 통해 값을 확인"
   ]
  },
  {
   "cell_type": "code",
   "execution_count": 7,
   "id": "358c1e94",
   "metadata": {},
   "outputs": [
    {
     "name": "stdout",
     "output_type": "stream",
     "text": [
      "b'Hello, Tensorflow'\n"
     ]
    }
   ],
   "source": [
    "# tensor = data(상수, 변수)와 연산\n",
    "node1 = tf.constant('Hello, Tensorflow')\n",
    "sess = tf.Session()\n",
    "print(sess.run(node1))"
   ]
  },
  {
   "cell_type": "code",
   "execution_count": 9,
   "id": "c87b0edd",
   "metadata": {},
   "outputs": [
    {
     "name": "stdout",
     "output_type": "stream",
     "text": [
      "[10.0, 20.0, 30.0]\n"
     ]
    }
   ],
   "source": [
    "# 간단한 연산 tensor 그래프\n",
    "node1 = tf.constant(10, dtype=tf.float16)\n",
    "node2 = tf.constant(20, dtype=tf.float16)\n",
    "node3 = tf.add(node1, node2)\n",
    "sess = tf.Session()\n",
    "print(sess.run([node1, node2, node3]))"
   ]
  },
  {
   "cell_type": "code",
   "execution_count": 10,
   "id": "d2739de7",
   "metadata": {},
   "outputs": [
    {
     "data": {
      "text/plain": [
       "[array([1, 2, 3], dtype=int16), array([1., 2., 3.], dtype=float32)]"
      ]
     },
     "execution_count": 10,
     "metadata": {},
     "output_type": "execute_result"
    }
   ],
   "source": [
    "# 타입 변경\n",
    "node1 = tf.constant(np.array([1,2,3]), dtype=tf.int16)\n",
    "node2 = tf.cast(node1, dtype=tf.float32)\n",
    "sess = tf.Session()\n",
    "sess.run([node1, node2])"
   ]
  },
  {
   "cell_type": "code",
   "execution_count": 11,
   "id": "38ac69b1",
   "metadata": {},
   "outputs": [
    {
     "data": {
      "text/plain": [
       "2.0"
      ]
     },
     "execution_count": 11,
     "metadata": {},
     "output_type": "execute_result"
    }
   ],
   "source": [
    "# 평균값 계산 : tf.reduce_mean()\n",
    "data = np.array([1., 2., 3.])\n",
    "tensor = tf.reduce_mean(data)\n",
    "sess = tf.Session()\n",
    "sess.run(tensor)"
   ]
  },
  {
   "cell_type": "code",
   "execution_count": 93,
   "id": "28ae6723",
   "metadata": {},
   "outputs": [
    {
     "data": {
      "text/plain": [
       "[array([-0.33981815], dtype=float32), array([-0.16630673], dtype=float32)]"
      ]
     },
     "execution_count": 93,
     "metadata": {},
     "output_type": "execute_result"
    }
   ],
   "source": [
    "# 랜덤값을 갖는 tensor\n",
    "a = tf.random_normal([1]) # 평균0, 표준편차가 1인 난수 실수 2개(정규분포이루는 난수)\n",
    "b = tf.random_normal([1])\n",
    "sess = tf.Session()\n",
    "sess.run([a,b])"
   ]
  },
  {
   "cell_type": "code",
   "execution_count": 94,
   "id": "2a16b211",
   "metadata": {},
   "outputs": [
    {
     "data": {
      "text/plain": [
       "array([0.47754574], dtype=float32)"
      ]
     },
     "execution_count": 94,
     "metadata": {},
     "output_type": "execute_result"
    }
   ],
   "source": [
    "w = tf.Variable(tf.random.normal([1]))\n",
    "sess = tf.Session()\n",
    "sess.run(tf.global_variables_initializer())  # w변수의 난수 초기화\n",
    "sess.run(w)"
   ]
  },
  {
   "cell_type": "markdown",
   "id": "e457072e",
   "metadata": {},
   "source": [
    "# 2. tensorflow v1을 이용한 linear regression을 구현\n",
    "## 2.1 입력(독립)변수 x가 1개, 타켓(종속)변수 y가 1개"
   ]
  },
  {
   "cell_type": "code",
   "execution_count": 103,
   "id": "2df8ac57",
   "metadata": {
    "scrolled": true
   },
   "outputs": [
    {
     "name": "stdout",
     "output_type": "stream",
     "text": [
      "0번째 cost:49.739803314208984, W:[-1.466767], b:[-0.004493]\n",
      "200번째 cost:0.00025129070854745805, W:[0.98163307], b:[1.0417525]\n",
      "400번째 cost:9.595383744454011e-05, W:[0.9886504], b:[1.0258002]\n",
      "600번째 cost:3.6639143218053505e-05, W:[0.9929867], b:[1.0159429]\n",
      "800번째 cost:1.399013399350224e-05, W:[0.9956662], b:[1.0098516]\n",
      "1000번째 cost:5.342281383491354e-06, W:[0.9973219], b:[1.0060879]\n",
      "1200번째 cost:2.040090066657285e-06, W:[0.9983451], b:[1.003762]\n",
      "1400번째 cost:7.790731615386903e-07, W:[0.9989773], b:[1.0023249]\n",
      "1600번째 cost:2.9763251063741336e-07, W:[0.99936783], b:[1.0014371]\n",
      "1800번째 cost:1.138815264312143e-07, W:[0.999609], b:[1.0008888]\n",
      "2000번째 cost:4.365831429709033e-08, W:[0.99975795], b:[1.0005505]\n",
      "2200번째 cost:1.6764929000601114e-08, W:[0.99984986], b:[1.0003408]\n",
      "2400번째 cost:6.5494085710327e-09, W:[0.9999064], b:[1.0002131]\n",
      "2600번째 cost:2.5315880503029575e-09, W:[0.9999417], b:[1.0001323]\n",
      "2800번째 cost:9.813163615035592e-10, W:[0.99996376], b:[1.0000824]\n",
      "3000번째 cost:4.33914237873978e-10, W:[0.99997616], b:[1.0000548]\n",
      "3200번째 cost:1.3815792954119388e-10, W:[0.99998635], b:[1.000031]\n",
      "3400번째 cost:8.733517381509515e-11, W:[0.9999891], b:[1.0000248]\n",
      "3600번째 cost:8.733517381509515e-11, W:[0.9999891], b:[1.0000248]\n",
      "3800번째 cost:8.733517381509515e-11, W:[0.9999891], b:[1.0000248]\n",
      "4000번째 cost:8.733517381509515e-11, W:[0.9999891], b:[1.0000248]\n",
      "4200번째 cost:8.733517381509515e-11, W:[0.9999891], b:[1.0000248]\n",
      "4400번째 cost:8.733517381509515e-11, W:[0.9999891], b:[1.0000248]\n",
      "4600번째 cost:8.733517381509515e-11, W:[0.9999891], b:[1.0000248]\n",
      "4800번째 cost:8.733517381509515e-11, W:[0.9999891], b:[1.0000248]\n",
      "5000번째 cost:8.733517381509515e-11, W:[0.9999891], b:[1.0000248]\n"
     ]
    }
   ],
   "source": [
    "x = np.array([1,2,3])\n",
    "y = np.array([2,3,4])\n",
    "# weight와 bias(처음엔 랜덤값으로 셋팅, 학습과정에서 변경)\n",
    "W = tf.Variable(tf.random.normal([1]), name='weight')\n",
    "b = tf.Variable(tf.random.normal([1]), name='bias')\n",
    "# Hypothesis : 예측값\n",
    "H = W*x + b\n",
    "# cost function(손실함수 = mes; 최소제곱법)\n",
    "cost = tf.reduce_mean(tf.square(H-y))\n",
    "'''\n",
    "학습목적 : cost가 최소가 되는 W, b흫 찾아내는 것\n",
    "cost는 2차함수이므로 곡선그래프. 곡선위 미분값이 줄어드는 방향으로 학습(경사하강)\n",
    "=> GradientDescentOptimizer\n",
    "'''\n",
    "optimizer = tf.train.GradientDescentOptimizer(learning_rate=0.01)\n",
    "train = optimizer.minimize(cost)\n",
    "# Session 생성\n",
    "sess = tf.Session()\n",
    "# W, b변수 노드에 초기화\n",
    "sess.run(tf.global_variables_initializer())\n",
    "# 5000번 학습 (v2에서는 fit함수)\n",
    "for step in range(5001):\n",
    "    _, cost_val, W_val, b_val = sess.run([train, cost, W, b])\n",
    "    if step%200 == 0:\n",
    "        print(\"{}번째 cost:{}, W:{}, b:{}\".format(step,\n",
    "                                               cost_val,\n",
    "                                               W_val,\n",
    "                                               b_val))"
   ]
  },
  {
   "cell_type": "code",
   "execution_count": 97,
   "id": "c207447f",
   "metadata": {},
   "outputs": [
    {
     "data": {
      "text/plain": [
       "[array([-0.23012753], dtype=float32), array([-1.8035388], dtype=float32)]"
      ]
     },
     "execution_count": 97,
     "metadata": {},
     "output_type": "execute_result"
    }
   ],
   "source": [
    "# 최종적으로 나온 회귀식 : H= W*x + b\n",
    "sess.run([W, b])"
   ]
  },
  {
   "cell_type": "code",
   "execution_count": 99,
   "id": "f385af6d",
   "metadata": {},
   "outputs": [
    {
     "data": {
      "text/plain": [
       "(-0.23012753, -1.8035388)"
      ]
     },
     "execution_count": 99,
     "metadata": {},
     "output_type": "execute_result"
    }
   ],
   "source": [
    "W_, b_ = sess.run([W,b])\n",
    "W_[0],b_[0]"
   ]
  },
  {
   "cell_type": "code",
   "execution_count": 100,
   "id": "ebccd7e0",
   "metadata": {},
   "outputs": [],
   "source": [
    "def predict(x):\n",
    "    return W_[0]*x + b_[0]"
   ]
  },
  {
   "cell_type": "code",
   "execution_count": 101,
   "id": "c02a58fe",
   "metadata": {},
   "outputs": [
    {
     "name": "stdout",
     "output_type": "stream",
     "text": [
      "입력값은 ?3\n",
      "예측값은 :  -2.493921384215355\n"
     ]
    }
   ],
   "source": [
    "input_x = int(input('입력값은 ?'))\n",
    "print('예측값은 : ',predict(input_x))"
   ]
  },
  {
   "cell_type": "markdown",
   "id": "d60ac147",
   "metadata": {},
   "source": [
    "## 2.2 predict를 위한 placeholder이용\n",
    "- placeholder : 텐서플로우 외부에서 데이터를 입력받는 노드"
   ]
  },
  {
   "cell_type": "code",
   "execution_count": 105,
   "id": "81b28881",
   "metadata": {},
   "outputs": [
    {
     "data": {
      "text/plain": [
       "array([2., 3., 4.], dtype=float16)"
      ]
     },
     "execution_count": 105,
     "metadata": {},
     "output_type": "execute_result"
    }
   ],
   "source": [
    "# x = np.array([1,2,3])\n",
    "x = tf.placeholder(tf.float16)\n",
    "H = 1 * x + 1\n",
    "sess = tf.Session()\n",
    "sess.run(H, feed_dict={x:5})\n",
    "sess.run(H, feed_dict={x:np.array([1,2,3])})"
   ]
  },
  {
   "cell_type": "code",
   "execution_count": 107,
   "id": "8ec16f8a",
   "metadata": {
    "scrolled": true
   },
   "outputs": [
    {
     "name": "stdout",
     "output_type": "stream",
     "text": [
      "0번쩨 : cost:231.061279296875, W:[0.19350386], b:[0.3825117]\n",
      "200번쩨 : cost:0.002171077998355031, W:[2.0158458], b:[0.9153046]\n",
      "400번쩨 : cost:0.00021354496129788458, W:[2.0049696], b:[0.97343767]\n",
      "600번쩨 : cost:2.1004279915359803e-05, W:[2.0015585], b:[0.99166954]\n",
      "800번쩨 : cost:2.066095021291403e-06, W:[2.000489], b:[0.99738723]\n",
      "1000번쩨 : cost:2.0338711692602374e-07, W:[2.0001533], b:[0.99918044]\n",
      "1200번쩨 : cost:1.9964591757570815e-08, W:[2.0000482], b:[0.99974287]\n",
      "1400번쩨 : cost:1.9826984498649836e-09, W:[2.000015], b:[0.9999194]\n",
      "1600번쩨 : cost:2.0305605807902083e-10, W:[2.000005], b:[0.99997383]\n",
      "1800번쩨 : cost:3.029754225281067e-11, W:[2.000002], b:[0.9999902]\n",
      "2000번쩨 : cost:2.060005464821213e-11, W:[2.0000017], b:[0.99999213]\n",
      "2200번쩨 : cost:2.060005464821213e-11, W:[2.0000017], b:[0.99999213]\n",
      "2400번쩨 : cost:2.060005464821213e-11, W:[2.0000017], b:[0.99999213]\n",
      "2600번쩨 : cost:2.060005464821213e-11, W:[2.0000017], b:[0.99999213]\n",
      "2800번쩨 : cost:2.060005464821213e-11, W:[2.0000017], b:[0.99999213]\n",
      "3000번쩨 : cost:2.060005464821213e-11, W:[2.0000017], b:[0.99999213]\n",
      "3200번쩨 : cost:2.060005464821213e-11, W:[2.0000017], b:[0.99999213]\n",
      "3400번쩨 : cost:2.060005464821213e-11, W:[2.0000017], b:[0.99999213]\n",
      "3600번쩨 : cost:2.060005464821213e-11, W:[2.0000017], b:[0.99999213]\n",
      "3800번쩨 : cost:2.060005464821213e-11, W:[2.0000017], b:[0.99999213]\n",
      "4000번쩨 : cost:2.060005464821213e-11, W:[2.0000017], b:[0.99999213]\n",
      "4200번쩨 : cost:2.060005464821213e-11, W:[2.0000017], b:[0.99999213]\n",
      "4400번쩨 : cost:2.060005464821213e-11, W:[2.0000017], b:[0.99999213]\n",
      "4600번쩨 : cost:2.060005464821213e-11, W:[2.0000017], b:[0.99999213]\n",
      "4800번쩨 : cost:2.060005464821213e-11, W:[2.0000017], b:[0.99999213]\n",
      "5000번쩨 : cost:2.060005464821213e-11, W:[2.0000017], b:[0.99999213]\n"
     ]
    }
   ],
   "source": [
    "# H = 2x + 1\n",
    "x_data = np.array([1,2,3,5,8])\n",
    "y_data = np.array([3,5,7,11,17])\n",
    "# placeholder 설정 (입력면수 x, 타겟변수 y)\n",
    "x = tf.placeholder(dtype=tf.float32)\n",
    "y = tf.placeholder(dtype=tf.float32)\n",
    "# W, b\n",
    "W = tf.Variable(tf.random.normal([1]))\n",
    "b = tf.Variable(tf.random.normal([1]))\n",
    "# Hypothesis (예측값)\n",
    "H = W*x + b\n",
    "# 손실함수\n",
    "cost = tf.reduce_mean(tf.square(H-y))\n",
    "# 경사하강법\n",
    "train = tf.train.GradientDescentOptimizer(learning_rate=0.01).minimize(cost)\n",
    "# Session 객체 생성\n",
    "sess = tf.Session()\n",
    "sess.run(tf.global_variables_initializer()) # W, b 초기화\n",
    "# 5000번 학습\n",
    "for step in range(5001):\n",
    "    _, cost_val, W_val, b_val = sess.run([train, cost, W, b], feed_dict={x:x_data,\n",
    "                                                                        y:y_data})\n",
    "    if step%200 == 0:\n",
    "        print('{}번쩨 : cost:{}, W:{}, b:{}'.format(step, cost_val, W_val, b_val))"
   ]
  },
  {
   "cell_type": "code",
   "execution_count": 108,
   "id": "606620ae",
   "metadata": {},
   "outputs": [
    {
     "data": {
      "text/plain": [
       "array([11.000001], dtype=float32)"
      ]
     },
     "execution_count": 108,
     "metadata": {},
     "output_type": "execute_result"
    }
   ],
   "source": [
    "# 예측하기\n",
    "sess.run(H, feed_dict={x:5})"
   ]
  },
  {
   "cell_type": "code",
   "execution_count": 109,
   "id": "28d9aec4",
   "metadata": {},
   "outputs": [
    {
     "data": {
      "text/plain": [
       "array([11.000001, 13.000002, 15.000004], dtype=float32)"
      ]
     },
     "execution_count": 109,
     "metadata": {},
     "output_type": "execute_result"
    }
   ],
   "source": [
    "sess.run(H, feed_dict={x:np.array([5,6,7])})"
   ]
  },
  {
   "cell_type": "markdown",
   "id": "bc090503",
   "metadata": {},
   "source": [
    "## 2.3 scale이 다른 데이터의 linear regression 구현(scale조정x)"
   ]
  },
  {
   "cell_type": "code",
   "execution_count": 112,
   "id": "6087080a",
   "metadata": {
    "scrolled": true
   },
   "outputs": [
    {
     "name": "stdout",
     "output_type": "stream",
     "text": [
      "0번쩨 : cost:4303.68994140625, W:[5.462146], b:[0.3820591]\n",
      "200번쩨 : cost:265.61456298828125, W:[13.177744], b:[2.0907345]\n",
      "400번쩨 : cost:265.61077880859375, W:[13.162713], b:[2.1710787]\n",
      "600번쩨 : cost:265.6104736328125, W:[13.157999], b:[2.1962774]\n",
      "800번쩨 : cost:265.61041259765625, W:[13.15652], b:[2.2041798]\n",
      "1000번쩨 : cost:265.61041259765625, W:[13.156056], b:[2.2066598]\n",
      "1200번쩨 : cost:265.6103515625, W:[13.1559105], b:[2.2074366]\n",
      "1400번쩨 : cost:265.61041259765625, W:[13.155866], b:[2.2076771]\n",
      "1600번쩨 : cost:265.61041259765625, W:[13.155853], b:[2.20775]\n",
      "1800번쩨 : cost:265.6103515625, W:[13.15585], b:[2.2077618]\n",
      "2000번쩨 : cost:265.6103515625, W:[13.15585], b:[2.2077618]\n"
     ]
    }
   ],
   "source": [
    "x_data = np.array([1,2,3,5,8])\n",
    "y_data = np.array([3,15,68,80,95])\n",
    "# placeholder 설정 (입력면수 x, 타겟변수 y)\n",
    "x = tf.placeholder(dtype=tf.float32)\n",
    "y = tf.placeholder(dtype=tf.float32)\n",
    "# W, b\n",
    "W = tf.Variable(tf.random.normal([1]))\n",
    "b = tf.Variable(tf.random.normal([1]))\n",
    "# Hypothesis (예측값)\n",
    "H = W*x + b\n",
    "# 손실함수\n",
    "cost = tf.reduce_mean(tf.square(H-y))\n",
    "# 경사하강법\n",
    "train = tf.train.GradientDescentOptimizer(learning_rate=0.01).minimize(cost)\n",
    "# Session 객체 생성\n",
    "sess = tf.Session()\n",
    "sess.run(tf.global_variables_initializer()) # W, b 초기화\n",
    "# 5000번 학습\n",
    "for step in range(2001):\n",
    "    _, cost_val, W_val, b_val = sess.run([train, cost, W, b], feed_dict={x:x_data,\n",
    "                                                                        y:y_data})\n",
    "    if step%200 == 0:\n",
    "        print('{}번쩨 : cost:{}, W:{}, b:{}'.format(step, cost_val, W_val, b_val))"
   ]
  },
  {
   "cell_type": "code",
   "execution_count": null,
   "id": "97b643ad",
   "metadata": {},
   "outputs": [],
   "source": [
    "# cost 값이 멈춤 : local 최소값"
   ]
  },
  {
   "cell_type": "markdown",
   "id": "9372a8a6",
   "metadata": {},
   "source": [
    "## 2.4 scale이 다른 데이터의 liner regression을 구현(조정O)\n",
    "### scale을 맞추기 : 모든 데이터를 일정 범위내로 조정\n",
    "- normalization(정규화) : 0~1로 조정\n",
    "                        X ─ Xmin\n",
    "    normalization = ─────────────────\n",
    "                       Xmax ─ Xmin\n",
    "           * 위의 식을 써도 되지만 라이브러리를 씀(sklearn.lpreproxessing.MinMaxScaler이용)\n",
    "           \n",
    "- standardization(표준화) : 평균0, 표준편차1로 조정\n",
    "                        X - Xmean(평균)\n",
    "    standardization = ──────────────────\n",
    "                         Xstd(표준편차)\n",
    "           * 위의 식을 써도 되지만 라이브러리를 쓰 (sklearn.lpreproxessing.StandardScaler이용)"
   ]
  },
  {
   "cell_type": "code",
   "execution_count": 128,
   "id": "0947d639",
   "metadata": {},
   "outputs": [
    {
     "name": "stdout",
     "output_type": "stream",
     "text": [
      "[0.         0.11111111 0.44444444 0.77777778 1.        ]\n",
      "[0.         0.13043478 0.70652174 0.83695652 1.        ]\n"
     ]
    }
   ],
   "source": [
    "# 라이브럴를 쓰지 않고 정규화\n",
    "x_data = np.array([1,2,5,8,10])\n",
    "y_data = np.array([3,15,68,80,95])\n",
    "scaled_x_data = (x_data - x_data.min() ) / (x_data.max() - x_data.min())\n",
    "scaled_y_data = (y_data - y_data.min() ) / (y_data.max() - y_data.min())\n",
    "print(scaled_x_data)\n",
    "print(scaled_y_data)"
   ]
  },
  {
   "cell_type": "code",
   "execution_count": 160,
   "id": "7c57bf06",
   "metadata": {},
   "outputs": [
    {
     "data": {
      "text/plain": [
       "array([[ 1.        ,  3.        ,  0.        ,  0.        ],\n",
       "       [ 2.        , 15.        ,  0.11111111,  0.13043478],\n",
       "       [ 5.        , 68.        ,  0.44444444,  0.70652174],\n",
       "       [ 8.        , 80.        ,  0.77777778,  0.83695652],\n",
       "       [10.        , 95.        ,  1.        ,  1.        ]])"
      ]
     },
     "execution_count": 160,
     "metadata": {},
     "output_type": "execute_result"
    }
   ],
   "source": [
    "# 라이브러리를 쓰고 정규화 (MinMaxScaler이용)\n",
    "x_data = np.array([1,2,5,8,10]).reshape(-1, 1)\n",
    "y_data = np.array([3,15,68,80,95]).reshape(-1,1)\n",
    "# np.column_stack([x_data, y_data])\n",
    "from sklearn.preprocessing import MinMaxScaler\n",
    "scaler_x = MinMaxScaler() # x_data를 정규화시킬 객체\n",
    "# scaler_x.fit(x_data)\n",
    "# scaled_x_data = scaler_x.transform(x_data)\n",
    "scaled_x_data = scaler_x.fit_transform(x_data)\n",
    "scaler_y = MinMaxScaler() # y_data를 정규화시킬 객체\n",
    "scaled_y_data = scaler_y.fit_transform(y_data)\n",
    "np.column_stack([x_data, y_data, scaled_x_data, scaled_y_data])"
   ]
  },
  {
   "cell_type": "code",
   "execution_count": 168,
   "id": "583f7fde",
   "metadata": {},
   "outputs": [
    {
     "name": "stdout",
     "output_type": "stream",
     "text": [
      "0째 : cost:0.367155522108078, W:[0.39628375], b:[0.89908874]\n",
      "600째 : cost:0.0989920049905777, W:[0.33960435], b:[0.5318376]\n",
      "1200째 : cost:0.0681990534067154, W:[0.39626354], b:[0.413078]\n",
      "1800째 : cost:0.05351833254098892, W:[0.46922618], b:[0.35467228]\n",
      "2400째 : cost:0.04284844920039177, W:[0.53796965], b:[0.3139191]\n",
      "3000째 : cost:0.03480241075158119, W:[0.59893036], b:[0.2807265]\n",
      "3600째 : cost:0.02871985174715519, W:[0.6522033], b:[0.25236624]\n",
      "4200째 : cost:0.02412082627415657, W:[0.698586], b:[0.22781792]\n",
      "4800째 : cost:0.02064347267150879, W:[0.738931], b:[0.20649709]\n",
      "5400째 : cost:0.018014248460531235, W:[0.77401537], b:[0.18796337]\n",
      "6000째 : cost:0.016026267781853676, W:[0.8045235], b:[0.1718487]\n",
      "6600째 : cost:0.014523139223456383, W:[0.83105195], b:[0.15783665]\n",
      "7200째 : cost:0.01338660717010498, W:[0.8541199], b:[0.1456526]\n",
      "7800째 : cost:0.012527281418442726, W:[0.87417805], b:[0.13505797]\n",
      "8400째 : cost:0.01187752652913332, W:[0.89161974], b:[0.12584548]\n",
      "9000째 : cost:0.011386252008378506, W:[0.90678596], b:[0.1178349]\n",
      "9600째 : cost:0.01101478561758995, W:[0.919974], b:[0.11086926]\n",
      "10200째 : cost:0.01073393039405346, W:[0.9314412], b:[0.10481229]\n",
      "10800째 : cost:0.010521571151912212, W:[0.9414124], b:[0.09954561]\n",
      "11400째 : cost:0.010361000895500183, W:[0.9500828], b:[0.09496599]\n",
      "12000째 : cost:0.010239595547318459, W:[0.9576221], b:[0.09098388]\n",
      "12600째 : cost:0.01014780718833208, W:[0.96417785], b:[0.0875212]\n",
      "13200째 : cost:0.010078398510813713, W:[0.9698785], b:[0.08451026]\n",
      "13800째 : cost:0.01002591848373413, W:[0.97483516], b:[0.08189212]\n",
      "14400째 : cost:0.009986240416765213, W:[0.97914535], b:[0.07961553]\n",
      "15000째 : cost:0.009956235066056252, W:[0.9828933], b:[0.07763594]\n"
     ]
    }
   ],
   "source": [
    "# placeholder 설정 (입력변수 x, 타겟변수 y)\n",
    "x = tf.placeholder(dtype=tf.float32)\n",
    "y = tf.placeholder(dtype=tf.float32)\n",
    "# W, b\n",
    "W = tf.Variable(tf.random.normal([1]))\n",
    "b = tf.Variable(tf.random.normal([1]))\n",
    "# Hypothesis(예측값)\n",
    "H = W*x + b\n",
    "# 손실함수\n",
    "cost = tf.reduce_mean(tf.square(H-y))\n",
    "# 경사하강법\n",
    "train = tf.train.GradientDescentOptimizer(learning_rate=0.001).minimize(cost)\n",
    "# Session 객체 생성\n",
    "sess = tf.Session()\n",
    "sess.run(tf.global_variables_initializer()) # W, b 초기화\n",
    "# 12000번 학습\n",
    "for step in range(15001):\n",
    "    _, cost_val, W_val, b_val = sess.run([train, cost, W, b], \n",
    "                                         feed_dict={x:scaled_x_data,\n",
    "                                                   y:scaled_y_data})\n",
    "    if step%600 == 0:\n",
    "        print('{}째 : cost:{}, W:{}, b:{}'.format(step, cost_val, W_val, b_val))"
   ]
  },
  {
   "cell_type": "code",
   "execution_count": 169,
   "id": "2e88aacc",
   "metadata": {},
   "outputs": [
    {
     "name": "stdout",
     "output_type": "stream",
     "text": [
      "모델 예측을 위한 입력 :\n",
      "[[0.11111111]\n",
      " [0.22222222]]\n",
      "모델 예측 결과 :\n",
      "[[0.18684632]\n",
      " [0.2960567 ]]\n",
      "결과 :\n",
      "[[20.189861]\n",
      " [30.237215]]\n"
     ]
    }
   ],
   "source": [
    "# 예측 : 모델에 scale 조정된 값으로 예측=>scale 조정된 y값\n",
    "scaled_input = scaler_x.transform(np.array([[2],\n",
    "                                            [3]]))\n",
    "print('모델 예측을 위한 입력 :', scaled_input, sep='\\n')\n",
    "scaled_output = sess.run(H, feed_dict={x:scaled_input})\n",
    "print('모델 예측 결과 :', scaled_output, sep='\\n')\n",
    "print('결과 :', scaler_y.inverse_transform(scaled_output), sep='\\n')"
   ]
  },
  {
   "cell_type": "code",
   "execution_count": 170,
   "id": "df599c43",
   "metadata": {},
   "outputs": [],
   "source": [
    "# x_data들의 예측값\n",
    "scaled_y_hat = sess.run(H, feed_dict={x:scaled_x_data})\n",
    "y_hat = scaler_y.inverse_transform(scaled_y_hat)"
   ]
  },
  {
   "cell_type": "code",
   "execution_count": 171,
   "id": "d1b8e950",
   "metadata": {},
   "outputs": [
    {
     "data": {
      "text/plain": [
       "[<matplotlib.lines.Line2D at 0x209aa5d4550>]"
      ]
     },
     "execution_count": 171,
     "metadata": {},
     "output_type": "execute_result"
    },
    {
     "data": {
      "image/png": "[encoded data removed]",
      "text/plain": [
       "<Figure size 640x480 with 1 Axes>"
      ]
     },
     "metadata": {},
     "output_type": "display_data"
    }
   ],
   "source": [
    "import matplotlib.pyplot as plt\n",
    "plt.plot(x_data, y_data, 'r')\n",
    "plt.plot(x_data, y_hat, 'b')"
   ]
  },
  {
   "cell_type": "code",
   "execution_count": 173,
   "id": "26d38719",
   "metadata": {},
   "outputs": [
    {
     "name": "stdout",
     "output_type": "stream",
     "text": [
      "[[ 1  3]\n",
      " [ 2 15]\n",
      " [ 5 68]\n",
      " [ 8 80]\n",
      " [10 95]]\n",
      "[[-1.22474487 -1.34819316]\n",
      " [-0.93313895 -1.01936556]\n",
      " [-0.05832118  0.43295634]\n",
      " [ 0.81649658  0.76178394]\n",
      " [ 1.39970842  1.17281844]]\n"
     ]
    }
   ],
   "source": [
    "# 라이브러리를 사용하여 표준화(standardScaler 사용)\n",
    "x_data = np.array([1,2,5,8,10]).reshape(-1,1)\n",
    "y_data = np.array([3,15,68,80,95]).reshape(-1,1)\n",
    "\n",
    "from sklearn.preprocessing import StandardScaler\n",
    "scaler_x = StandardScaler() # x_data를 표준화할 객체\n",
    "scaler_y = StandardScaler() # y_data를 표준화할 객체\n",
    "scaled_x_data = scaler_x.fit_transform(x_data)\n",
    "scaled_y_data = scaler_y.fit_transform(y_data)\n",
    "print(np.column_stack([x_data, y_data]))\n",
    "print(np.column_stack([scaled_x_data, scaled_y_data]))"
   ]
  },
  {
   "cell_type": "code",
   "execution_count": 174,
   "id": "7582a528",
   "metadata": {},
   "outputs": [
    {
     "name": "stdout",
     "output_type": "stream",
     "text": [
      "0째 : cost:1.2306468486785889, W:[0.0769047], b:[-0.6074339]\n",
      "600째 : cost:0.16838636994361877, W:[0.7000346], b:[-0.18273605]\n",
      "1200째 : cost:0.07225169241428375, W:[0.88749176], b:[-0.0549729]\n",
      "1800째 : cost:0.06355142593383789, W:[0.94388527], b:[-0.01653764]\n",
      "2400째 : cost:0.06276405602693558, W:[0.9608503], b:[-0.00497505]\n",
      "3000째 : cost:0.0626927986741066, W:[0.965954], b:[-0.00149665]\n",
      "3600째 : cost:0.06268634647130966, W:[0.9674892], b:[-0.00045023]\n",
      "4200째 : cost:0.0626857578754425, W:[0.96795106], b:[-0.00013544]\n",
      "4800째 : cost:0.06268571317195892, W:[0.9680889], b:[-4.0735296e-05]\n",
      "5400째 : cost:0.06268569827079773, W:[0.96813285], b:[-1.2244893e-05]\n",
      "6000째 : cost:0.06268569082021713, W:[0.96813506], b:[-3.6652361e-06]\n",
      "6600째 : cost:0.06268569082021713, W:[0.96813506], b:[-1.0842567e-06]\n",
      "7200째 : cost:0.06268569082021713, W:[0.96813506], b:[-3.0647618e-07]\n",
      "7800째 : cost:0.06268568336963654, W:[0.96813506], b:[-7.304958e-08]\n",
      "8400째 : cost:0.06268569827079773, W:[0.96813506], b:[-1.107575e-08]\n",
      "9000째 : cost:0.06268569082021713, W:[0.96813506], b:[1.7027856e-08]\n",
      "9600째 : cost:0.06268569082021713, W:[0.96813506], b:[2.9835693e-08]\n",
      "10200째 : cost:0.06268569827079773, W:[0.96813506], b:[2.9813343e-08]\n",
      "10800째 : cost:0.06268569827079773, W:[0.96813506], b:[2.9790991e-08]\n",
      "11400째 : cost:0.06268569827079773, W:[0.96813506], b:[2.9820793e-08]\n",
      "12000째 : cost:0.06268569827079773, W:[0.96813506], b:[2.9798441e-08]\n"
     ]
    }
   ],
   "source": [
    "# placeholder 설정 (입력변수 x, 타겟변수 y)\n",
    "x = tf.placeholder(dtype=tf.float32)\n",
    "y = tf.placeholder(dtype=tf.float32)\n",
    "# W, b\n",
    "W = tf.Variable(tf.random.normal([1]))\n",
    "b = tf.Variable(tf.random.normal([1]))\n",
    "# Hypothesis(예측값)\n",
    "H = W*x + b\n",
    "# 손실함수\n",
    "cost = tf.reduce_mean(tf.square(H-y))\n",
    "# 경사하강법\n",
    "train = tf.train.GradientDescentOptimizer(learning_rate=0.001).minimize(cost)\n",
    "# Session 객체 생성\n",
    "sess = tf.Session()\n",
    "sess.run(tf.global_variables_initializer()) # W, b 초기화\n",
    "# 12000번 학습\n",
    "for step in range(12001):\n",
    "    _, cost_val, W_val, b_val = sess.run([train, cost, W, b], \n",
    "                                         feed_dict={x:scaled_x_data,\n",
    "                                                   y:scaled_y_data})\n",
    "    if step%600 == 0:\n",
    "        print('{}째 : cost:{}, W:{}, b:{}'.format(step, cost_val, W_val, b_val))"
   ]
  },
  {
   "cell_type": "code",
   "execution_count": 175,
   "id": "a13f4a5d",
   "metadata": {},
   "outputs": [],
   "source": [
    "# x_data들의 예측값\n",
    "scaled_y_hat = sess.run(H, feed_dict={x:scaled_x_data})\n",
    "y_hat = scaler_y.inverse_transform(scaled_y_hat)"
   ]
  },
  {
   "cell_type": "code",
   "execution_count": 176,
   "id": "2beb9b67",
   "metadata": {},
   "outputs": [
    {
     "data": {
      "text/plain": [
       "[<matplotlib.lines.Line2D at 0x209aa67ee30>]"
      ]
     },
     "execution_count": 176,
     "metadata": {},
     "output_type": "execute_result"
    },
    {
     "data": {
      "image/png": "[encoded data removed]",
      "text/plain": [
       "<Figure size 640x480 with 1 Axes>"
      ]
     },
     "metadata": {},
     "output_type": "display_data"
    }
   ],
   "source": [
    "import matplotlib.pyplot as plt\n",
    "plt.plot(x_data, y_data, 'r')\n",
    "plt.plot(x_data, y_hat, 'b')"
   ]
  },
  {
   "cell_type": "code",
   "execution_count": null,
   "id": "acb2f7e3",
   "metadata": {},
   "outputs": [],
   "source": []
  },
  {
   "cell_type": "code",
   "execution_count": null,
   "id": "6d50c6b3",
   "metadata": {},
   "outputs": [],
   "source": []
  },
  {
   "cell_type": "code",
   "execution_count": null,
   "id": "3435460c",
   "metadata": {},
   "outputs": [],
   "source": []
  },
  {
   "cell_type": "code",
   "execution_count": null,
   "id": "922f80d9",
   "metadata": {},
   "outputs": [],
   "source": []
  },
  {
   "cell_type": "code",
   "execution_count": null,
   "id": "286251a1",
   "metadata": {},
   "outputs": [],
   "source": []
  },
  {
   "cell_type": "code",
   "execution_count": null,
   "id": "a6a6417e",
   "metadata": {},
   "outputs": [],
   "source": []
  },
  {
   "cell_type": "code",
   "execution_count": null,
   "id": "c2844d6e",
   "metadata": {},
   "outputs": [],
   "source": []
  },
  {
   "cell_type": "code",
   "execution_count": null,
   "id": "db991ce3",
   "metadata": {},
   "outputs": [],
   "source": []
  },
  {
   "cell_type": "code",
   "execution_count": null,
   "id": "dd9d537d",
   "metadata": {},
   "outputs": [],
   "source": []
  },
  {
   "cell_type": "code",
   "execution_count": null,
   "id": "3461ca89",
   "metadata": {},
   "outputs": [],
   "source": []
  },
  {
   "cell_type": "code",
   "execution_count": null,
   "id": "bc0b4220",
   "metadata": {},
   "outputs": [],
   "source": []
  },
  {
   "cell_type": "code",
   "execution_count": null,
   "id": "0707809e",
   "metadata": {},
   "outputs": [],
   "source": []
  },
  {
   "cell_type": "code",
   "execution_count": null,
   "id": "4de46a57",
   "metadata": {},
   "outputs": [],
   "source": []
  },
  {
   "cell_type": "code",
   "execution_count": null,
   "id": "3c7900ab",
   "metadata": {},
   "outputs": [],
   "source": []
  },
  {
   "cell_type": "code",
   "execution_count": null,
   "id": "95d070a0",
   "metadata": {},
   "outputs": [],
   "source": []
  },
  {
   "cell_type": "code",
   "execution_count": null,
   "id": "fd6171b9",
   "metadata": {},
   "outputs": [],
   "source": []
  },
  {
   "cell_type": "code",
   "execution_count": null,
   "id": "8bcc523e",
   "metadata": {},
   "outputs": [],
   "source": []
  },
  {
   "cell_type": "code",
   "execution_count": null,
   "id": "cb3ff7da",
   "metadata": {},
   "outputs": [],
   "source": []
  },
  {
   "cell_type": "code",
   "execution_count": null,
   "id": "af3312de",
   "metadata": {},
   "outputs": [],
   "source": []
  },
  {
   "cell_type": "code",
   "execution_count": null,
   "id": "22f6824f",
   "metadata": {},
   "outputs": [],
   "source": []
  },
  {
   "cell_type": "code",
   "execution_count": null,
   "id": "9c4e9e97",
   "metadata": {},
   "outputs": [],
   "source": []
  },
  {
   "cell_type": "code",
   "execution_count": null,
   "id": "b3fe8539",
   "metadata": {},
   "outputs": [],
   "source": []
  },
  {
   "cell_type": "code",
   "execution_count": null,
   "id": "a8a7c295",
   "metadata": {},
   "outputs": [],
   "source": []
  }
 ],
 "metadata": {
  "kernelspec": {
   "display_name": "ml-dl-nlp",
   "language": "python",
   "name": "ml-dl-nlp"
  },
  "language_info": {
   "codemirror_mode": {
    "name": "ipython",
    "version": 3
   },
   "file_extension": ".py",
   "mimetype": "text/x-python",
   "name": "python",
   "nbconvert_exporter": "python",
   "pygments_lexer": "ipython3",
   "version": "3.10.18"
  },
  "toc": {
   "base_numbering": 1,
   "nav_menu": {},
   "number_sections": false,
   "sideBar": true,
   "skip_h1_title": false,
   "title_cell": "Table of Contents",
   "title_sidebar": "Contents",
   "toc_cell": false,
   "toc_position": {
    "height": "calc(100% - 180px)",
    "left": "10px",
    "top": "150px",
    "width": "165px"
   },
   "toc_section_display": true,
   "toc_window_display": true
  }
 },
 "nbformat": 4,
 "nbformat_minor": 5
}
