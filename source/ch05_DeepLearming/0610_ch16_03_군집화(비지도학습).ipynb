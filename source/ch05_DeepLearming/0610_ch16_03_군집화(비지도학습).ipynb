{
 "cells": [
  {
   "cell_type": "code",
   "execution_count": 1,
   "id": "2ca7e33c",
   "metadata": {},
   "outputs": [
    {
     "data": {
      "text/html": [
       "\n",
       "<style>\n",
       "div.container{width:90% !important;}\n",
       "div.cell.code_cell.rendered{width:100%;}\n",
       "div.input_prompt{padding:2px;}\n",
       "div.CodeMirror {font-family:Consolas; font-size:10pt;}\n",
       "div.text_cell_render.rendered_html{font-size:10pt;}\n",
       "div.output {font-size:10pt; font-weight:bold;}\n",
       "div.input {font-family:Consolas; font-size:10pt;}\n",
       "div.prompt {min-width:70px;}\n",
       "div#toc-wrapper{padding-top:120px;}\n",
       "div.text_cell_render ul li{font-size:11pt;padding:4px;}\n",
       "table.dataframe{font-size:10px;}\n",
       "</style>\n"
      ],
      "text/plain": [
       "<IPython.core.display.HTML object>"
      ]
     },
     "metadata": {},
     "output_type": "display_data"
    }
   ],
   "source": [
    "from IPython.display import display, HTML\n",
    "display(HTML(\"\"\"\n",
    "<style>\n",
    "div.container{width:90% !important;}\n",
    "div.cell.code_cell.rendered{width:100%;}\n",
    "div.input_prompt{padding:2px;}\n",
    "div.CodeMirror {font-family:Consolas; font-size:10pt;}\n",
    "div.text_cell_render.rendered_html{font-size:10pt;}\n",
    "div.output {font-size:10pt; font-weight:bold;}\n",
    "div.input {font-family:Consolas; font-size:10pt;}\n",
    "div.prompt {min-width:70px;}\n",
    "div#toc-wrapper{padding-top:120px;}\n",
    "div.text_cell_render ul li{font-size:11pt;padding:4px;}\n",
    "table.dataframe{font-size:10px;}\n",
    "</style>\n",
    "\"\"\"))"
   ]
  },
  {
   "cell_type": "markdown",
   "id": "1b7e66b1",
   "metadata": {},
   "source": [
    "# 1. 데이터 생성\n",
    "- 남자, 여자의 키와 몸무게 데이터를 군집화"
   ]
  },
  {
   "cell_type": "code",
   "execution_count": 2,
   "id": "97efe5a5",
   "metadata": {},
   "outputs": [],
   "source": [
    "import random\n",
    "import numpy as np\n",
    "import matplotlib.pyplot as plt"
   ]
  },
  {
   "cell_type": "code",
   "execution_count": 4,
   "id": "e291321f",
   "metadata": {},
   "outputs": [
    {
     "data": {
      "text/plain": [
       "92"
      ]
     },
     "execution_count": 4,
     "metadata": {},
     "output_type": "execute_result"
    }
   ],
   "source": [
    "random.randint(40,95) # 40부터 95까지의 정수 중 하나를 무작위 선택 반환"
   ]
  },
  {
   "cell_type": "code",
   "execution_count": 8,
   "id": "4d7002df",
   "metadata": {},
   "outputs": [],
   "source": [
    "data = []\n",
    "for i in range(50):\n",
    "    # 여자 데이터\n",
    "    data.append([random.randint(40,70), random.randint(140,170)])\n",
    "    # 남자 데이터\n",
    "    data.append([random.randint(60,95), random.randint(160,195)])\n",
    "# data"
   ]
  },
  {
   "cell_type": "code",
   "execution_count": 12,
   "id": "363db156",
   "metadata": {},
   "outputs": [
    {
     "name": "stdout",
     "output_type": "stream",
     "text": [
      "[44, 144]  [61, 147]  [44, 158]  [62, 161]  [55, 140]  [66, 147]  [61, 143]  [66, 168]  [64, 147]  [48, 146]  [43, 152]  [48, 152]  [45, 167]  [70, 159]  [57, 148]  [58, 142]  [66, 149]  [43, 148]  [40, 151]  [63, 144]  [44, 141]  [65, 158]  [41, 168]  [51, 163]  [43, 143]  [40, 145]  [51, 141]  [64, 145]  [54, 144]  [59, 148]  [46, 163]  [59, 153]  [69, 142]  [49, 153]  [44, 160]  [60, 154]  [67, 160]  [43, 147]  [68, 156]  [49, 151]  [64, 166]  [52, 150]  [64, 146]  [47, 154]  [44, 170]  [68, 142]  [44, 147]  [53, 164]  [65, 141]  [51, 161]  \n",
      "-------------------------------------------------------\n",
      "[68, 168]  [76, 170]  [93, 162]  [89, 160]  [80, 179]  [70, 163]  [88, 185]  [92, 180]  [79, 187]  [93, 173]  [69, 185]  [91, 189]  [87, 191]  [85, 162]  [89, 193]  [89, 182]  [78, 164]  [89, 163]  [69, 179]  [63, 170]  [76, 176]  [91, 162]  [92, 183]  [92, 195]  [71, 172]  [93, 166]  [83, 160]  [68, 192]  [60, 177]  [68, 184]  [61, 164]  [61, 173]  [92, 185]  [95, 168]  [78, 166]  [62, 165]  [69, 172]  [60, 162]  [62, 193]  [84, 160]  [83, 164]  [85, 194]  [90, 175]  [83, 186]  [62, 195]  [72, 169]  [61, 173]  [89, 165]  [69, 160]  [80, 184]  "
     ]
    }
   ],
   "source": [
    "# 여자\n",
    "for female in data[:100:2]:\n",
    "    print(female, end='  ')\n",
    "# 남자\n",
    "print('\\n-------------------------------------------------------')\n",
    "for male in data[1:100:2]:\n",
    "    print(male, end='  ')"
   ]
  },
  {
   "cell_type": "code",
   "execution_count": 21,
   "id": "05495df7",
   "metadata": {},
   "outputs": [
    {
     "data": {
      "text/plain": [
       "[<matplotlib.lines.Line2D at 0x1ec9ef85780>]"
      ]
     },
     "execution_count": 21,
     "metadata": {},
     "output_type": "execute_result"
    },
    {
     "data": {
      "image/png": "[encoded data removed]",
      "text/plain": [
       "<Figure size 640x480 with 1 Axes>"
      ]
     },
     "metadata": {},
     "output_type": "display_data"
    }
   ],
   "source": [
    "# print('여자 몸무게 : ', [d[0] for d in data[::2]])\n",
    "# print('여자 키 : ', [d[1] for d in data[::2]])\n",
    "# print('\\n-------------------------------------------------------')\n",
    "# print('남자 몸무게 : ', [d[0] for d in data[1::2]])\n",
    "# print('남자 키 : ', [d[1] for d in data[1::2]])\n",
    "# for d in data[::2]:\n",
    "#     plt.plot(d[0],d[1], 'o', color='r')\n",
    "plt.plot([d[0] for d in data[::2]],\n",
    "        [d[1] for d in data[::2]], 'o', color='r')\n",
    "plt.plot([d[0] for d in data[1::2]],\n",
    "        [d[1] for d in data[1::2]], 'o', color='b')"
   ]
  },
  {
   "cell_type": "markdown",
   "id": "a8797d66",
   "metadata": {},
   "source": [
    "# 2. 군집합 로직"
   ]
  },
  {
   "cell_type": "code",
   "execution_count": 23,
   "id": "d8f2c3c1",
   "metadata": {},
   "outputs": [
    {
     "data": {
      "text/plain": [
       "[[81, 162], [53, 183]]"
      ]
     },
     "execution_count": 23,
     "metadata": {},
     "output_type": "execute_result"
    }
   ],
   "source": [
    "# 초기 랜점지점 2개\n",
    "random_points = [[random.randint(40, 95), random.randint(140,195)],\n",
    "                [random.randint(40, 95), random.randint(140,195)]]\n",
    "random_points"
   ]
  },
  {
   "cell_type": "code",
   "execution_count": 29,
   "id": "ba0c09dc",
   "metadata": {},
   "outputs": [
    {
     "data": {
      "text/plain": [
       "[<matplotlib.lines.Line2D at 0x1ec9f28b8b0>]"
      ]
     },
     "execution_count": 29,
     "metadata": {},
     "output_type": "execute_result"
    },
    {
     "data": {
      "image/png": "[encoded data removed]",
      "text/plain": [
       "<Figure size 640x480 with 1 Axes>"
      ]
     },
     "metadata": {},
     "output_type": "display_data"
    }
   ],
   "source": [
    "plt.plot([d[0] for d in data],\n",
    "        [d[1] for d in data], 'o', color='k')\n",
    "plt.plot(random_points[0][0], \n",
    "         random_points[0][1], 'x', color='r', markersize=20) # 기준점 1\n",
    "plt.plot(random_points[1][0], \n",
    "         random_points[1][1], 'x', color='b', markersize=20) # 기준점 2"
   ]
  },
  {
   "cell_type": "code",
   "execution_count": 31,
   "id": "e95044ad",
   "metadata": {},
   "outputs": [],
   "source": [
    "# 두 점의 거리를 return a : (0,0) ~ b : (4,3)\n",
    "def dist(a, b):\n",
    "    return np.sqrt((a[0]-b[0])**2  + (a[1]-b[1])**2)"
   ]
  },
  {
   "cell_type": "code",
   "execution_count": 32,
   "id": "1f771bb4",
   "metadata": {},
   "outputs": [
    {
     "data": {
      "text/plain": [
       "5.0"
      ]
     },
     "execution_count": 32,
     "metadata": {},
     "output_type": "execute_result"
    }
   ],
   "source": [
    "a = [0, 0]; b = [4, 3]\n",
    "dist(a, b)"
   ]
  },
  {
   "cell_type": "code",
   "execution_count": 33,
   "id": "1d0b98dd",
   "metadata": {},
   "outputs": [
    {
     "data": {
      "text/plain": [
       "(69, 31)"
      ]
     },
     "execution_count": 33,
     "metadata": {},
     "output_type": "execute_result"
    }
   ],
   "source": [
    "# random_points[0]과 random_points[1]을 기준으로 나눈 두 영역\n",
    "group1 = []  # random_points[0]과 가까운 그룹\n",
    "group2 = []  # random_points[1]과 가까운 그룹\n",
    "for d in data:\n",
    "    if dist(random_points[0], d) < dist(random_points[1], d):\n",
    "        group1.append(d)  # 빨강 X랑 더 가까운 그룹\n",
    "    else:\n",
    "        group2.append(d)  # 파란 X랑 더 가까운 그룹\n",
    "len(group1), len(group2)"
   ]
  },
  {
   "cell_type": "code",
   "execution_count": 35,
   "id": "b7101b54",
   "metadata": {},
   "outputs": [
    {
     "data": {
      "image/png": "[encoded data removed]",
      "text/plain": [
       "<Figure size 640x480 with 1 Axes>"
      ]
     },
     "metadata": {},
     "output_type": "display_data"
    }
   ],
   "source": [
    "# 새로운 그룹 group1과 group2, 초기 랜덤 지점\n",
    "plt.plot([d[0] for d in group1],\n",
    "        [d[1] for d in group1], 'o', color='r')\n",
    "plt.plot([d[0] for d in group2],\n",
    "        [d[1] for d in group2], 'o', color='b')\n",
    "plt. plot(random_points[0][0],\n",
    "         random_points[0][1], 'x', color='r',markersize=20)\n",
    "plt. plot(random_points[1][0],\n",
    "         random_points[1][1], 'x', color='b',markersize=20)\n",
    "plt.show()"
   ]
  },
  {
   "cell_type": "code",
   "execution_count": 37,
   "id": "16847658",
   "metadata": {},
   "outputs": [
    {
     "data": {
      "text/plain": [
       "[[73.27536231884058, 163.07246376811594],\n",
       " [51.45161290322581, 163.93548387096774]]"
      ]
     },
     "execution_count": 37,
     "metadata": {},
     "output_type": "execute_result"
    }
   ],
   "source": [
    "# 기준점 이동 group1의 중심점, group2중심점\n",
    "sumX = 0; sumY=0\n",
    "for g in group1:\n",
    "    sumX += g[0]\n",
    "    sumY += g[1]\n",
    "# 새로운 기준점\n",
    "random_points[0] = [sumX/len(group1), sumY/len(group1)]\n",
    "\n",
    "sumX = 0; sumY=0\n",
    "for g in group2:\n",
    "    sumX += g[0]\n",
    "    sumY += g[1]\n",
    "# 새로운 기준점\n",
    "random_points[1] = [sumX/len(group2), sumY/len(group2)]\n",
    "random_points"
   ]
  },
  {
   "cell_type": "code",
   "execution_count": 38,
   "id": "f6d80f98",
   "metadata": {},
   "outputs": [
    {
     "data": {
      "image/png": "[encoded data removed]",
      "text/plain": [
       "<Figure size 640x480 with 1 Axes>"
      ]
     },
     "metadata": {},
     "output_type": "display_data"
    }
   ],
   "source": [
    "plt.plot([d[0] for d in group1],\n",
    "        [d[1] for d in group1], 'o', color='r')\n",
    "plt.plot([d[0] for d in group2],\n",
    "        [d[1] for d in group2], 'o', color='b')\n",
    "plt. plot(random_points[0][0],\n",
    "         random_points[0][1], 'x', color='r',markersize=20)\n",
    "plt. plot(random_points[1][0],\n",
    "         random_points[1][1], 'x', color='b',markersize=20)\n",
    "plt.show()"
   ]
  },
  {
   "cell_type": "markdown",
   "id": "45355011",
   "metadata": {},
   "source": [
    "# 3. 전체 코드 (for문 이용)\n",
    "- data 생성\n",
    "- 랜덤포인트2지점\n",
    "- for문\n",
    "    - 랜덤포인트 2지점 기준으로 group1과 group2\n",
    "    - 랜덤포인트 이용(group1 중간점, group2중간점)"
   ]
  },
  {
   "cell_type": "code",
   "execution_count": 43,
   "id": "a8304f62",
   "metadata": {},
   "outputs": [
    {
     "name": "stdout",
     "output_type": "stream",
     "text": [
      "초기 points :  [[88, 173], [46, 181]]\n",
      "1 번쩨 points :  [[79.41304347826087, 172.2391304347826], [54.425925925925924, 159.3148148148148]]\n",
      "2 번쩨 points :  [[79.23913043478261, 179.84782608695653], [54.574074074074076, 152.83333333333334]]\n",
      "3 번쩨 points :  [[78.8695652173913, 180.3695652173913], [54.888888888888886, 152.38888888888889]]\n",
      "4 번쩨 points :  [[78.8695652173913, 180.3695652173913], [54.888888888888886, 152.38888888888889]]\n",
      "5 번쩨 points :  [[78.8695652173913, 180.3695652173913], [54.888888888888886, 152.38888888888889]]\n",
      "6 번쩨 points :  [[78.8695652173913, 180.3695652173913], [54.888888888888886, 152.38888888888889]]\n",
      "7 번쩨 points :  [[78.8695652173913, 180.3695652173913], [54.888888888888886, 152.38888888888889]]\n",
      "8 번쩨 points :  [[78.8695652173913, 180.3695652173913], [54.888888888888886, 152.38888888888889]]\n",
      "9 번쩨 points :  [[78.8695652173913, 180.3695652173913], [54.888888888888886, 152.38888888888889]]\n",
      "10 번쩨 points :  [[78.8695652173913, 180.3695652173913], [54.888888888888886, 152.38888888888889]]\n"
     ]
    },
    {
     "data": {
      "text/plain": [
       "(140.0, 195.0)"
      ]
     },
     "execution_count": 43,
     "metadata": {},
     "output_type": "execute_result"
    },
    {
     "data": {
      "image/png": "[encoded data removed]",
      "text/plain": [
       "<Figure size 640x480 with 1 Axes>"
      ]
     },
     "metadata": {},
     "output_type": "display_data"
    }
   ],
   "source": [
    "# 데이터 생성\n",
    "data = []\n",
    "for i in range(50):\n",
    "    # 여자 데이터\n",
    "    data.append([random.randint(40,70), random.randint(140,170)])\n",
    "    # 남자 데이터\n",
    "    data.append([random.randint(60,95), random.randint(160,195)])\n",
    "# point 지정\n",
    "points = [[random.randint(40,95), random.randint(140,195)],\n",
    "         [random.randint(40,95), random.randint(140,195)]]\n",
    "print('초기 points : ', points)\n",
    "plt.plot(points[0][0], points[0][1], 'o', color='r', markersize=20)\n",
    "plt.plot(points[1][0], points[1][1], 'o', color='b', markersize=20)\n",
    "# 포인트 2지점기준으로 group1과 group2\n",
    "for i in range(1, 11):\n",
    "    group1 = []  # points[0]과 가까운 그룹\n",
    "    group2 = []  # points[1]과 가까운 그룹\n",
    "    for d in data:\n",
    "        if dist(d, points[0]) < dist(d, points[1]):\n",
    "            group1.append(d)\n",
    "        else:\n",
    "            group2.append(d)\n",
    "    # 새로운 포인트로 할당\n",
    "    sumX = 0; sumY = 0\n",
    "    for g in group1:\n",
    "        sumX += g[0]\n",
    "        sumY += g[1]\n",
    "    points[0] = [sumX/len(group1), sumY/len(group1)]\n",
    "    \n",
    "    sumX = 0; sumY = 0\n",
    "    for g in group2:\n",
    "        sumX += g[0]\n",
    "        sumY += g[1]\n",
    "    points[1] = [sumX/len(group2), sumY/len(group2)]\n",
    "    print(i, '번쩨 points : ', points)\n",
    "    plt.plot(points[0][0], points[0][1], 'o', color='r')\n",
    "    plt.plot(points[1][0], points[1][1], 'o', color='b')\n",
    "plt.xlim([40,90])\n",
    "plt.ylim([140,195])"
   ]
  },
  {
   "cell_type": "code",
   "execution_count": 45,
   "id": "36f9da9f",
   "metadata": {},
   "outputs": [
    {
     "data": {
      "text/plain": [
       "[<matplotlib.lines.Line2D at 0x1eca08c3580>]"
      ]
     },
     "execution_count": 45,
     "metadata": {},
     "output_type": "execute_result"
    },
    {
     "data": {
      "image/png": "[encoded data removed]",
      "text/plain": [
       "<Figure size 640x480 with 1 Axes>"
      ]
     },
     "metadata": {},
     "output_type": "display_data"
    }
   ],
   "source": [
    "plt.plot([d[0] for d in group1],\n",
    "        [d[1] for d in group1], 'o', color='r')\n",
    "plt.plot([d[0] for d in group2],\n",
    "        [d[1] for d in group2], 'o', color='b')\n",
    "plt.plot(points[0][0], points[0][1], 'x', color='r', markersize=20)\n",
    "plt.plot(points[1][0], points[1][1], 'x', color='b', markersize=20)"
   ]
  },
  {
   "cell_type": "markdown",
   "id": "d9401b0d",
   "metadata": {},
   "source": [
    "# 4. API(sklearn)를 이용한 군집화\n",
    "- sklearn 머신러닝\n",
    "    * 예측모델 \n",
    "        ; 분류, 회귀, 군집분석\n",
    "        fit(학습), predict(예측)\n",
    "    * 변환모델\n",
    "        ; 전처리 ex. 스케일조정\n",
    "        fit(학습), transform(변환함수)"
   ]
  },
  {
   "cell_type": "code",
   "execution_count": 46,
   "id": "23ef1185",
   "metadata": {},
   "outputs": [],
   "source": [
    "# 군집분석 라이브러리가 joblib 충돌 경고 메세지 출력\n",
    "import os\n",
    "os.environ['OMP_NUM_THREADS'] = '1'"
   ]
  },
  {
   "cell_type": "code",
   "execution_count": 51,
   "id": "74ecd8ea",
   "metadata": {},
   "outputs": [
    {
     "data": {
      "text/html": [
       "<style>#sk-container-id-2 {color: black;background-color: white;}#sk-container-id-2 pre{padding: 0;}#sk-container-id-2 div.sk-toggleable {background-color: white;}#sk-container-id-2 label.sk-toggleable__label {cursor: pointer;display: block;width: 100%;margin-bottom: 0;padding: 0.3em;box-sizing: border-box;text-align: center;}#sk-container-id-2 label.sk-toggleable__label-arrow:before {content: \"▸\";float: left;margin-right: 0.25em;color: #696969;}#sk-container-id-2 label.sk-toggleable__label-arrow:hover:before {color: black;}#sk-container-id-2 div.sk-estimator:hover label.sk-toggleable__label-arrow:before {color: black;}#sk-container-id-2 div.sk-toggleable__content {max-height: 0;max-width: 0;overflow: hidden;text-align: left;background-color: #f0f8ff;}#sk-container-id-2 div.sk-toggleable__content pre {margin: 0.2em;color: black;border-radius: 0.25em;background-color: #f0f8ff;}#sk-container-id-2 input.sk-toggleable__control:checked~div.sk-toggleable__content {max-height: 200px;max-width: 100%;overflow: auto;}#sk-container-id-2 input.sk-toggleable__control:checked~label.sk-toggleable__label-arrow:before {content: \"▾\";}#sk-container-id-2 div.sk-estimator input.sk-toggleable__control:checked~label.sk-toggleable__label {background-color: #d4ebff;}#sk-container-id-2 div.sk-label input.sk-toggleable__control:checked~label.sk-toggleable__label {background-color: #d4ebff;}#sk-container-id-2 input.sk-hidden--visually {border: 0;clip: rect(1px 1px 1px 1px);clip: rect(1px, 1px, 1px, 1px);height: 1px;margin: -1px;overflow: hidden;padding: 0;position: absolute;width: 1px;}#sk-container-id-2 div.sk-estimator {font-family: monospace;background-color: #f0f8ff;border: 1px dotted black;border-radius: 0.25em;box-sizing: border-box;margin-bottom: 0.5em;}#sk-container-id-2 div.sk-estimator:hover {background-color: #d4ebff;}#sk-container-id-2 div.sk-parallel-item::after {content: \"\";width: 100%;border-bottom: 1px solid gray;flex-grow: 1;}#sk-container-id-2 div.sk-label:hover label.sk-toggleable__label {background-color: #d4ebff;}#sk-container-id-2 div.sk-serial::before {content: \"\";position: absolute;border-left: 1px solid gray;box-sizing: border-box;top: 0;bottom: 0;left: 50%;z-index: 0;}#sk-container-id-2 div.sk-serial {display: flex;flex-direction: column;align-items: center;background-color: white;padding-right: 0.2em;padding-left: 0.2em;position: relative;}#sk-container-id-2 div.sk-item {position: relative;z-index: 1;}#sk-container-id-2 div.sk-parallel {display: flex;align-items: stretch;justify-content: center;background-color: white;position: relative;}#sk-container-id-2 div.sk-item::before, #sk-container-id-2 div.sk-parallel-item::before {content: \"\";position: absolute;border-left: 1px solid gray;box-sizing: border-box;top: 0;bottom: 0;left: 50%;z-index: -1;}#sk-container-id-2 div.sk-parallel-item {display: flex;flex-direction: column;z-index: 1;position: relative;background-color: white;}#sk-container-id-2 div.sk-parallel-item:first-child::after {align-self: flex-end;width: 50%;}#sk-container-id-2 div.sk-parallel-item:last-child::after {align-self: flex-start;width: 50%;}#sk-container-id-2 div.sk-parallel-item:only-child::after {width: 0;}#sk-container-id-2 div.sk-dashed-wrapped {border: 1px dashed gray;margin: 0 0.4em 0.5em 0.4em;box-sizing: border-box;padding-bottom: 0.4em;background-color: white;}#sk-container-id-2 div.sk-label label {font-family: monospace;font-weight: bold;display: inline-block;line-height: 1.2em;}#sk-container-id-2 div.sk-label-container {text-align: center;}#sk-container-id-2 div.sk-container {/* jupyter's `normalize.less` sets `[hidden] { display: none; }` but bootstrap.min.css set `[hidden] { display: none !important; }` so we also need the `!important` here to be able to override the default hidden behavior on the sphinx rendered scikit-learn.org. See: https://github.com/scikit-learn/scikit-learn/issues/21755 */display: inline-block !important;position: relative;}#sk-container-id-2 div.sk-text-repr-fallback {display: none;}</style><div id=\"sk-container-id-2\" class=\"sk-top-container\"><div class=\"sk-text-repr-fallback\"><pre>KMeans(init=&#x27;random&#x27;, n_clusters=2, n_init=10, random_state=7)</pre><b>In a Jupyter environment, please rerun this cell to show the HTML representation or trust the notebook. <br />On GitHub, the HTML representation is unable to render, please try loading this page with nbviewer.org.</b></div><div class=\"sk-container\" hidden><div class=\"sk-item\"><div class=\"sk-estimator sk-toggleable\"><input class=\"sk-toggleable__control sk-hidden--visually\" id=\"sk-estimator-id-2\" type=\"checkbox\" checked><label for=\"sk-estimator-id-2\" class=\"sk-toggleable__label sk-toggleable__label-arrow\">KMeans</label><div class=\"sk-toggleable__content\"><pre>KMeans(init=&#x27;random&#x27;, n_clusters=2, n_init=10, random_state=7)</pre></div></div></div></div></div>"
      ],
      "text/plain": [
       "KMeans(init='random', n_clusters=2, n_init=10, random_state=7)"
      ]
     },
     "execution_count": 51,
     "metadata": {},
     "output_type": "execute_result"
    }
   ],
   "source": [
    "data = np.array(data)\n",
    "from sklearn.cluster import KMeans\n",
    "model = KMeans(n_clusters=2,  # 2개 그룹으로 나눠\n",
    "              init='random',  # 초기 중심점 램덤하게\n",
    "              n_init=10,  # 10번 실행\n",
    "              random_state=7)\n",
    "model.fit(data)"
   ]
  },
  {
   "cell_type": "code",
   "execution_count": 53,
   "id": "342a10d2",
   "metadata": {},
   "outputs": [
    {
     "data": {
      "text/plain": [
       "array([[ 54.88888889, 152.38888889],\n",
       "       [ 78.86956522, 180.36956522]])"
      ]
     },
     "execution_count": 53,
     "metadata": {},
     "output_type": "execute_result"
    }
   ],
   "source": [
    "# 중심점\n",
    "model.cluster_centers_"
   ]
  },
  {
   "cell_type": "code",
   "execution_count": 54,
   "id": "83ecc8c1",
   "metadata": {},
   "outputs": [
    {
     "data": {
      "text/plain": [
       "array([0, 1, 0, 1, 0, 1, 0, 0, 0, 1, 0, 1, 0, 0, 0, 1, 0, 0, 0, 1, 0, 1,\n",
       "       0, 1, 1, 1, 0, 1, 0, 1, 0, 0, 0, 1, 0, 1, 0, 1, 0, 1, 0, 1, 0, 1,\n",
       "       0, 1, 0, 1, 0, 1, 0, 1, 0, 1, 0, 1, 0, 1, 0, 1, 0, 1, 0, 1, 0, 1,\n",
       "       0, 1, 0, 1, 0, 1, 0, 1, 0, 1, 0, 1, 0, 1, 0, 1, 0, 1, 0, 1, 0, 0,\n",
       "       0, 1, 0, 1, 0, 1, 0, 1, 0, 1, 0, 1])"
      ]
     },
     "execution_count": 54,
     "metadata": {},
     "output_type": "execute_result"
    }
   ],
   "source": [
    "# 나눠진 그룹들의 인덱스\n",
    "model.labels_"
   ]
  },
  {
   "cell_type": "code",
   "execution_count": 57,
   "id": "4d694702",
   "metadata": {},
   "outputs": [],
   "source": [
    "group1 = data[model.labels_==1]\n",
    "group2 = data[model.labels_==0]\n",
    "c1, c2 = model.cluster_centers_"
   ]
  },
  {
   "cell_type": "code",
   "execution_count": 61,
   "id": "a3b832c0",
   "metadata": {},
   "outputs": [
    {
     "data": {
      "text/plain": [
       "[<matplotlib.lines.Line2D at 0x1eca2f879d0>]"
      ]
     },
     "execution_count": 61,
     "metadata": {},
     "output_type": "execute_result"
    },
    {
     "data": {
      "image/png": "[encoded data removed]",
      "text/plain": [
       "<Figure size 640x480 with 1 Axes>"
      ]
     },
     "metadata": {},
     "output_type": "display_data"
    }
   ],
   "source": [
    "plt.plot([d[0] for d in group1],\n",
    "        [d[1] for d in group1], 'o', color='r')\n",
    "plt.plot([d[0] for d in group2],\n",
    "        [d[1] for d in group2], 'o', color='b')\n",
    "plt.plot(c1[0], c1[1], 'x', color='b') # group1으 중심점\n",
    "plt.plot(c2[0], c2[1], 'x', color='r') # group2으 중심점"
   ]
  },
  {
   "cell_type": "code",
   "execution_count": null,
   "id": "08601d79",
   "metadata": {},
   "outputs": [],
   "source": []
  },
  {
   "cell_type": "code",
   "execution_count": null,
   "id": "558e0118",
   "metadata": {},
   "outputs": [],
   "source": []
  },
  {
   "cell_type": "code",
   "execution_count": null,
   "id": "c6c9b1b1",
   "metadata": {},
   "outputs": [],
   "source": []
  },
  {
   "cell_type": "code",
   "execution_count": null,
   "id": "64720c31",
   "metadata": {},
   "outputs": [],
   "source": []
  },
  {
   "cell_type": "code",
   "execution_count": null,
   "id": "85eb6d79",
   "metadata": {},
   "outputs": [],
   "source": []
  },
  {
   "cell_type": "code",
   "execution_count": null,
   "id": "c7dd66cd",
   "metadata": {},
   "outputs": [],
   "source": []
  },
  {
   "cell_type": "code",
   "execution_count": null,
   "id": "a0837c8d",
   "metadata": {},
   "outputs": [],
   "source": []
  },
  {
   "cell_type": "code",
   "execution_count": null,
   "id": "5626e01a",
   "metadata": {},
   "outputs": [],
   "source": []
  },
  {
   "cell_type": "code",
   "execution_count": null,
   "id": "01e98c8c",
   "metadata": {},
   "outputs": [],
   "source": []
  },
  {
   "cell_type": "code",
   "execution_count": null,
   "id": "2c165f39",
   "metadata": {},
   "outputs": [],
   "source": []
  },
  {
   "cell_type": "code",
   "execution_count": null,
   "id": "28214c2c",
   "metadata": {},
   "outputs": [],
   "source": []
  },
  {
   "cell_type": "code",
   "execution_count": null,
   "id": "b93aa57d",
   "metadata": {},
   "outputs": [],
   "source": []
  },
  {
   "cell_type": "code",
   "execution_count": null,
   "id": "d06294e0",
   "metadata": {},
   "outputs": [],
   "source": []
  },
  {
   "cell_type": "code",
   "execution_count": null,
   "id": "6869afd8",
   "metadata": {},
   "outputs": [],
   "source": []
  },
  {
   "cell_type": "code",
   "execution_count": null,
   "id": "a4d7df8a",
   "metadata": {},
   "outputs": [],
   "source": []
  },
  {
   "cell_type": "code",
   "execution_count": null,
   "id": "05edcb52",
   "metadata": {},
   "outputs": [],
   "source": []
  },
  {
   "cell_type": "code",
   "execution_count": null,
   "id": "cb62da59",
   "metadata": {},
   "outputs": [],
   "source": []
  },
  {
   "cell_type": "code",
   "execution_count": null,
   "id": "f94bd2e3",
   "metadata": {},
   "outputs": [],
   "source": []
  },
  {
   "cell_type": "code",
   "execution_count": null,
   "id": "7a27cc36",
   "metadata": {},
   "outputs": [],
   "source": []
  },
  {
   "cell_type": "code",
   "execution_count": null,
   "id": "8d1f09d9",
   "metadata": {},
   "outputs": [],
   "source": []
  },
  {
   "cell_type": "code",
   "execution_count": null,
   "id": "60cbbfb4",
   "metadata": {},
   "outputs": [],
   "source": []
  },
  {
   "cell_type": "code",
   "execution_count": null,
   "id": "f5cba4be",
   "metadata": {},
   "outputs": [],
   "source": []
  },
  {
   "cell_type": "code",
   "execution_count": null,
   "id": "daf66cb0",
   "metadata": {},
   "outputs": [],
   "source": []
  },
  {
   "cell_type": "code",
   "execution_count": null,
   "id": "f21d4c32",
   "metadata": {},
   "outputs": [],
   "source": []
  },
  {
   "cell_type": "code",
   "execution_count": null,
   "id": "4f12053e",
   "metadata": {},
   "outputs": [],
   "source": []
  },
  {
   "cell_type": "code",
   "execution_count": null,
   "id": "b2928d31",
   "metadata": {},
   "outputs": [],
   "source": []
  },
  {
   "cell_type": "code",
   "execution_count": null,
   "id": "00cec817",
   "metadata": {},
   "outputs": [],
   "source": []
  },
  {
   "cell_type": "code",
   "execution_count": null,
   "id": "7648f583",
   "metadata": {},
   "outputs": [],
   "source": []
  },
  {
   "cell_type": "code",
   "execution_count": null,
   "id": "d39e25a1",
   "metadata": {},
   "outputs": [],
   "source": []
  },
  {
   "cell_type": "code",
   "execution_count": null,
   "id": "f19d2223",
   "metadata": {},
   "outputs": [],
   "source": []
  },
  {
   "cell_type": "code",
   "execution_count": null,
   "id": "be65b2c7",
   "metadata": {},
   "outputs": [],
   "source": []
  },
  {
   "cell_type": "code",
   "execution_count": null,
   "id": "96c10fdd",
   "metadata": {},
   "outputs": [],
   "source": []
  },
  {
   "cell_type": "code",
   "execution_count": null,
   "id": "2120fc0d",
   "metadata": {},
   "outputs": [],
   "source": []
  }
 ],
 "metadata": {
  "kernelspec": {
   "display_name": "ml-dl-nlp",
   "language": "python",
   "name": "ml-dl-nlp"
  },
  "language_info": {
   "codemirror_mode": {
    "name": "ipython",
    "version": 3
   },
   "file_extension": ".py",
   "mimetype": "text/x-python",
   "name": "python",
   "nbconvert_exporter": "python",
   "pygments_lexer": "ipython3",
   "version": "3.10.18"
  },
  "toc": {
   "base_numbering": 1,
   "nav_menu": {},
   "number_sections": false,
   "sideBar": true,
   "skip_h1_title": false,
   "title_cell": "Table of Contents",
   "title_sidebar": "Contents",
   "toc_cell": false,
   "toc_position": {
    "height": "calc(100% - 180px)",
    "left": "10px",
    "top": "150px",
    "width": "165px"
   },
   "toc_section_display": true,
   "toc_window_display": true
  }
 },
 "nbformat": 4,
 "nbformat_minor": 5
}
