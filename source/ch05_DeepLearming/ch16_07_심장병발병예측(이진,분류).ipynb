{
 "cells": [
  {
   "cell_type": "code",
   "execution_count": 1,
   "id": "1279a39a",
   "metadata": {},
   "outputs": [
    {
     "data": {
      "text/html": [
       "\n",
       "<style>\n",
       "div.container{width:90% !important;}\n",
       "div.cell.code_cell.rendered{width:100%;}\n",
       "div.input_prompt{padding:2px;}\n",
       "div.CodeMirror {font-family:Consolas; font-size:10pt;}\n",
       "div.text_cell_render.rendered_html{font-size:10pt;}\n",
       "div.output {font-size:10pt; font-weight:bold;}\n",
       "div.input {font-family:Consolas; font-size:10pt;}\n",
       "div.prompt {min-width:70px;}\n",
       "div#toc-wrapper{padding-top:120px;}\n",
       "div.text_cell_render ul li{font-size:11pt;padding:4px;}\n",
       "table.dataframe{font-size:10px;}\n",
       "</style>\n"
      ],
      "text/plain": [
       "<IPython.core.display.HTML object>"
      ]
     },
     "metadata": {},
     "output_type": "display_data"
    }
   ],
   "source": [
    "from IPython.display import display, HTML\n",
    "display(HTML(\"\"\"\n",
    "<style>\n",
    "div.container{width:90% !important;}\n",
    "div.cell.code_cell.rendered{width:100%;}\n",
    "div.input_prompt{padding:2px;}\n",
    "div.CodeMirror {font-family:Consolas; font-size:10pt;}\n",
    "div.text_cell_render.rendered_html{font-size:10pt;}\n",
    "div.output {font-size:10pt; font-weight:bold;}\n",
    "div.input {font-family:Consolas; font-size:10pt;}\n",
    "div.prompt {min-width:70px;}\n",
    "div#toc-wrapper{padding-top:120px;}\n",
    "div.text_cell_render ul li{font-size:11pt;padding:4px;}\n",
    "table.dataframe{font-size:10px;}\n",
    "</style>\n",
    "\"\"\"))"
   ]
  },
  {
   "cell_type": "code",
   "execution_count": 2,
   "id": "3b22e673",
   "metadata": {},
   "outputs": [],
   "source": [
    "import numpy as np\n",
    "import pandas as pd\n",
    "import sys\n",
    "from tensorflow.keras.utils import to_categorical  # 원핫인코딩\n",
    "from tensorflow.keras.models import Sequential,save_model, load_model \n",
    "from tensorflow.keras.layers import Input, Dense, Dropout\n",
    "from matplotlib import pyplot as plt # 학습 과정 그래프\n",
    "from sklearn.metrics import confusion_matrix # 혼동행렬\n",
    "from sklearn.preprocessing import MinMaxScaler, StandardScaler\n",
    "from sklearn.model_selection import train_test_split  # 데이터 분리"
   ]
  },
  {
   "cell_type": "markdown",
   "id": "bfeddf83",
   "metadata": {},
   "source": [
    "# 이진분류\n",
    "```\n",
    "1. 데이터 셋 생성 & 전처리\n",
    " 엑셀 -> 데이터프레임 -> ?처리(df.replace('?',np.nan) -> 결측치 처리\n",
    " -> X, y 분리 -> X변수 스케일 조정 -> train_test_split함수로 학습셋과 테스트셋 분리\n",
    "2. 모델 생성(입력13, 출력 1) & 학습과정 설정 & 학습\n",
    "3. 모델 평가(그래프, 평가, 교차표)\n",
    "4. 모델 사용(저장, 예측)\n",
    "```\n",
    "\n"
   ]
  },
  {
   "cell_type": "markdown",
   "id": "b3d78de2",
   "metadata": {},
   "source": [
    "### 컬럼명   의미 및 설명\n",
    "\n",
    "- cp   흉통의 유형 (Chest Pain type)\n",
    "    - 0: 전형적 협심증 / 1: 비전형적 협심증 / 2: 비심장성 흉통 / 3: 무증상\n",
    "- treshtbps   안정 시 수축기 혈압 (Resting Blood Pressure in mm Hg)\n",
    "- chol   혈청 콜레스테롤 수치 (Serum Cholesterol in mg/dl)\n",
    "- fbs   공복혈당 120mg/dl 이상 여부 (Fasting Blood Sugar) - 1: Yes, 0: No\n",
    "- restecg   안정 시 심전도 결과 (Resting Electrocardiographic Results)\n",
    "    - 0: 정상 / 1: ST-T 이상 / 2: 좌심실 비대 가능성\n",
    "- thalach   최대 심박수 (Maximum Heart Rate Achieved)\n",
    "- exang   운동 중 협심증 여부 (Exercise Induced Angina) - 1: 있음, 0: 없음\n",
    "- oldpeak   운동 후 ST 감소 정도 (ST Depression induced by exercise relative to rest)\n",
    "- slope   ST segment의 기울기 (Slope of the peak exercise ST segment)\n",
    "    - 1: 수평  / 2: 상승  / 3: 하강\n",
    "- ca   형광투시검사에서 관찰된 주요 혈관 수 (Number of major vessels colored by fluoroscopy)\n",
    "- hsl (일반적으로 thal로 표기됨)   지혈소 상태 (Thalassemia)\n",
    "    - 3: 정상 / 6: 고정결함 / 7: 가역적 결함\n",
    "- heartDisease   심장병 여부 (Target Variable)\n",
    "    - 1: 심장병 있음 / 0: 없음"
   ]
  },
  {
   "cell_type": "markdown",
   "id": "f292b271",
   "metadata": {},
   "source": [
    "## 1. 데이터 셋 생성 & 전처리\n",
    " 엑셀 -> 데이터프레임 -> ?처리(df.replace('?',np.nan) -> 결측치 처리\n",
    " -> X, y 분리 -> X변수 스케일조정 -> train_test_split함수로 학습셋과 테스트셋분리"
   ]
  },
  {
   "cell_type": "code",
   "execution_count": 17,
   "id": "ea4f4cac",
   "metadata": {
    "scrolled": true
   },
   "outputs": [
    {
     "name": "stdout",
     "output_type": "stream",
     "text": [
      "<class 'pandas.core.frame.DataFrame'>\n",
      "RangeIndex: 303 entries, 0 to 302\n",
      "Data columns (total 14 columns):\n",
      " #   Column        Non-Null Count  Dtype  \n",
      "---  ------        --------------  -----  \n",
      " 0   age           303 non-null    int64  \n",
      " 1   sex           303 non-null    int64  \n",
      " 2   cp            303 non-null    int64  \n",
      " 3   treshtbps     303 non-null    int64  \n",
      " 4   chol          303 non-null    object \n",
      " 5   fbs           303 non-null    int64  \n",
      " 6   restecg       303 non-null    int64  \n",
      " 7   thalach       303 non-null    int64  \n",
      " 8   exang         303 non-null    int64  \n",
      " 9   oldpeak       303 non-null    float64\n",
      " 10  slope         303 non-null    int64  \n",
      " 11  ca            303 non-null    object \n",
      " 12  hsl           303 non-null    object \n",
      " 13  heartDisease  303 non-null    int64  \n",
      "dtypes: float64(1), int64(10), object(3)\n",
      "memory usage: 33.3+ KB\n"
     ]
    },
    {
     "data": {
      "text/plain": [
       "age             0\n",
       "sex             0\n",
       "cp              0\n",
       "treshtbps       0\n",
       "chol            0\n",
       "fbs             0\n",
       "restecg         0\n",
       "thalach         0\n",
       "exang           0\n",
       "oldpeak         0\n",
       "slope           0\n",
       "ca              0\n",
       "hsl             0\n",
       "heartDisease    0\n",
       "dtype: int64"
      ]
     },
     "execution_count": 17,
     "metadata": {},
     "output_type": "execute_result"
    }
   ],
   "source": [
    "dataset = pd.read_excel('data/heart-disease.xlsx')\n",
    "dataset.info()  \n",
    "dataset.isnull().sum()"
   ]
  },
  {
   "cell_type": "code",
   "execution_count": 19,
   "id": "7379ed0f",
   "metadata": {
    "scrolled": true
   },
   "outputs": [
    {
     "data": {
      "text/plain": [
       "age             False\n",
       "sex             False\n",
       "cp              False\n",
       "treshtbps       False\n",
       "chol             True\n",
       "fbs             False\n",
       "restecg         False\n",
       "thalach         False\n",
       "exang           False\n",
       "oldpeak         False\n",
       "slope           False\n",
       "ca               True\n",
       "hsl              True\n",
       "heartDisease    False\n",
       "dtype: bool"
      ]
     },
     "execution_count": 19,
     "metadata": {},
     "output_type": "execute_result"
    }
   ],
   "source": [
    "dataset.isin(['?']).any() # 물음표가 있는 열"
   ]
  },
  {
   "cell_type": "code",
   "execution_count": 20,
   "id": "32c371b2",
   "metadata": {},
   "outputs": [
    {
     "data": {
      "text/html": [
       "<div>\n",
       "<style scoped>\n",
       "    .dataframe tbody tr th:only-of-type {\n",
       "        vertical-align: middle;\n",
       "    }\n",
       "\n",
       "    .dataframe tbody tr th {\n",
       "        vertical-align: top;\n",
       "    }\n",
       "\n",
       "    .dataframe thead th {\n",
       "        text-align: right;\n",
       "    }\n",
       "</style>\n",
       "<table border=\"1\" class=\"dataframe\">\n",
       "  <thead>\n",
       "    <tr style=\"text-align: right;\">\n",
       "      <th></th>\n",
       "      <th>age</th>\n",
       "      <th>sex</th>\n",
       "      <th>cp</th>\n",
       "      <th>treshtbps</th>\n",
       "      <th>chol</th>\n",
       "      <th>fbs</th>\n",
       "      <th>restecg</th>\n",
       "      <th>thalach</th>\n",
       "      <th>exang</th>\n",
       "      <th>oldpeak</th>\n",
       "      <th>slope</th>\n",
       "      <th>ca</th>\n",
       "      <th>hsl</th>\n",
       "      <th>heartDisease</th>\n",
       "    </tr>\n",
       "  </thead>\n",
       "  <tbody>\n",
       "    <tr>\n",
       "      <th>2</th>\n",
       "      <td>67</td>\n",
       "      <td>1</td>\n",
       "      <td>4</td>\n",
       "      <td>120</td>\n",
       "      <td>?</td>\n",
       "      <td>0</td>\n",
       "      <td>2</td>\n",
       "      <td>129</td>\n",
       "      <td>1</td>\n",
       "      <td>2.6</td>\n",
       "      <td>2</td>\n",
       "      <td>2</td>\n",
       "      <td>7</td>\n",
       "      <td>1</td>\n",
       "    </tr>\n",
       "    <tr>\n",
       "      <th>87</th>\n",
       "      <td>53</td>\n",
       "      <td>0</td>\n",
       "      <td>3</td>\n",
       "      <td>128</td>\n",
       "      <td>216</td>\n",
       "      <td>0</td>\n",
       "      <td>2</td>\n",
       "      <td>115</td>\n",
       "      <td>0</td>\n",
       "      <td>0.0</td>\n",
       "      <td>1</td>\n",
       "      <td>0</td>\n",
       "      <td>?</td>\n",
       "      <td>0</td>\n",
       "    </tr>\n",
       "    <tr>\n",
       "      <th>166</th>\n",
       "      <td>52</td>\n",
       "      <td>1</td>\n",
       "      <td>3</td>\n",
       "      <td>138</td>\n",
       "      <td>223</td>\n",
       "      <td>0</td>\n",
       "      <td>0</td>\n",
       "      <td>169</td>\n",
       "      <td>0</td>\n",
       "      <td>0.0</td>\n",
       "      <td>1</td>\n",
       "      <td>?</td>\n",
       "      <td>3</td>\n",
       "      <td>0</td>\n",
       "    </tr>\n",
       "    <tr>\n",
       "      <th>192</th>\n",
       "      <td>43</td>\n",
       "      <td>1</td>\n",
       "      <td>4</td>\n",
       "      <td>132</td>\n",
       "      <td>247</td>\n",
       "      <td>1</td>\n",
       "      <td>2</td>\n",
       "      <td>143</td>\n",
       "      <td>1</td>\n",
       "      <td>0.1</td>\n",
       "      <td>2</td>\n",
       "      <td>?</td>\n",
       "      <td>7</td>\n",
       "      <td>1</td>\n",
       "    </tr>\n",
       "    <tr>\n",
       "      <th>266</th>\n",
       "      <td>52</td>\n",
       "      <td>1</td>\n",
       "      <td>4</td>\n",
       "      <td>128</td>\n",
       "      <td>204</td>\n",
       "      <td>1</td>\n",
       "      <td>0</td>\n",
       "      <td>156</td>\n",
       "      <td>1</td>\n",
       "      <td>1.0</td>\n",
       "      <td>2</td>\n",
       "      <td>0</td>\n",
       "      <td>?</td>\n",
       "      <td>1</td>\n",
       "    </tr>\n",
       "    <tr>\n",
       "      <th>287</th>\n",
       "      <td>58</td>\n",
       "      <td>1</td>\n",
       "      <td>2</td>\n",
       "      <td>125</td>\n",
       "      <td>220</td>\n",
       "      <td>0</td>\n",
       "      <td>0</td>\n",
       "      <td>144</td>\n",
       "      <td>0</td>\n",
       "      <td>0.4</td>\n",
       "      <td>2</td>\n",
       "      <td>?</td>\n",
       "      <td>7</td>\n",
       "      <td>0</td>\n",
       "    </tr>\n",
       "    <tr>\n",
       "      <th>302</th>\n",
       "      <td>38</td>\n",
       "      <td>1</td>\n",
       "      <td>3</td>\n",
       "      <td>138</td>\n",
       "      <td>175</td>\n",
       "      <td>0</td>\n",
       "      <td>0</td>\n",
       "      <td>173</td>\n",
       "      <td>0</td>\n",
       "      <td>0.0</td>\n",
       "      <td>1</td>\n",
       "      <td>?</td>\n",
       "      <td>3</td>\n",
       "      <td>0</td>\n",
       "    </tr>\n",
       "  </tbody>\n",
       "</table>\n",
       "</div>"
      ],
      "text/plain": [
       "     age  sex  cp  treshtbps chol  fbs  restecg  thalach  exang  oldpeak  \\\n",
       "2     67    1   4        120    ?    0        2      129      1      2.6   \n",
       "87    53    0   3        128  216    0        2      115      0      0.0   \n",
       "166   52    1   3        138  223    0        0      169      0      0.0   \n",
       "192   43    1   4        132  247    1        2      143      1      0.1   \n",
       "266   52    1   4        128  204    1        0      156      1      1.0   \n",
       "287   58    1   2        125  220    0        0      144      0      0.4   \n",
       "302   38    1   3        138  175    0        0      173      0      0.0   \n",
       "\n",
       "     slope ca hsl  heartDisease  \n",
       "2        2  2   7             1  \n",
       "87       1  0   ?             0  \n",
       "166      1  ?   3             0  \n",
       "192      2  ?   7             1  \n",
       "266      2  0   ?             1  \n",
       "287      2  ?   7             0  \n",
       "302      1  ?   3             0  "
      ]
     },
     "execution_count": 20,
     "metadata": {},
     "output_type": "execute_result"
    }
   ],
   "source": [
    "# '?'가 포함된 데이터 추출 ■■■■■■■■■■■■■■■■■■■■■■■■■■■■■■■\n",
    "dataset[(dataset['chol']=='?') | (dataset['ca']=='?') | (dataset['hsl']=='?')]"
   ]
  },
  {
   "cell_type": "code",
   "execution_count": 4,
   "id": "4f63b0ed",
   "metadata": {},
   "outputs": [
    {
     "data": {
      "text/html": [
       "<div>\n",
       "<style scoped>\n",
       "    .dataframe tbody tr th:only-of-type {\n",
       "        vertical-align: middle;\n",
       "    }\n",
       "\n",
       "    .dataframe tbody tr th {\n",
       "        vertical-align: top;\n",
       "    }\n",
       "\n",
       "    .dataframe thead th {\n",
       "        text-align: right;\n",
       "    }\n",
       "</style>\n",
       "<table border=\"1\" class=\"dataframe\">\n",
       "  <thead>\n",
       "    <tr style=\"text-align: right;\">\n",
       "      <th></th>\n",
       "      <th>age</th>\n",
       "      <th>sex</th>\n",
       "      <th>cp</th>\n",
       "      <th>treshtbps</th>\n",
       "      <th>chol</th>\n",
       "      <th>fbs</th>\n",
       "      <th>restecg</th>\n",
       "      <th>thalach</th>\n",
       "      <th>exang</th>\n",
       "      <th>oldpeak</th>\n",
       "      <th>slope</th>\n",
       "      <th>ca</th>\n",
       "      <th>hsl</th>\n",
       "      <th>heartDisease</th>\n",
       "    </tr>\n",
       "  </thead>\n",
       "  <tbody>\n",
       "    <tr>\n",
       "      <th>0</th>\n",
       "      <td>63</td>\n",
       "      <td>1</td>\n",
       "      <td>1</td>\n",
       "      <td>145</td>\n",
       "      <td>233.000000</td>\n",
       "      <td>1</td>\n",
       "      <td>2</td>\n",
       "      <td>150</td>\n",
       "      <td>0</td>\n",
       "      <td>2.3</td>\n",
       "      <td>3</td>\n",
       "      <td>0.000000</td>\n",
       "      <td>6.0</td>\n",
       "      <td>0</td>\n",
       "    </tr>\n",
       "    <tr>\n",
       "      <th>1</th>\n",
       "      <td>67</td>\n",
       "      <td>1</td>\n",
       "      <td>4</td>\n",
       "      <td>160</td>\n",
       "      <td>286.000000</td>\n",
       "      <td>0</td>\n",
       "      <td>0</td>\n",
       "      <td>108</td>\n",
       "      <td>1</td>\n",
       "      <td>1.5</td>\n",
       "      <td>2</td>\n",
       "      <td>3.000000</td>\n",
       "      <td>3.0</td>\n",
       "      <td>1</td>\n",
       "    </tr>\n",
       "    <tr>\n",
       "      <th>2</th>\n",
       "      <td>67</td>\n",
       "      <td>1</td>\n",
       "      <td>4</td>\n",
       "      <td>120</td>\n",
       "      <td>246.751656</td>\n",
       "      <td>0</td>\n",
       "      <td>2</td>\n",
       "      <td>129</td>\n",
       "      <td>1</td>\n",
       "      <td>2.6</td>\n",
       "      <td>2</td>\n",
       "      <td>2.000000</td>\n",
       "      <td>7.0</td>\n",
       "      <td>1</td>\n",
       "    </tr>\n",
       "    <tr>\n",
       "      <th>3</th>\n",
       "      <td>37</td>\n",
       "      <td>1</td>\n",
       "      <td>3</td>\n",
       "      <td>130</td>\n",
       "      <td>250.000000</td>\n",
       "      <td>0</td>\n",
       "      <td>0</td>\n",
       "      <td>187</td>\n",
       "      <td>0</td>\n",
       "      <td>3.5</td>\n",
       "      <td>3</td>\n",
       "      <td>0.000000</td>\n",
       "      <td>3.0</td>\n",
       "      <td>0</td>\n",
       "    </tr>\n",
       "    <tr>\n",
       "      <th>4</th>\n",
       "      <td>41</td>\n",
       "      <td>0</td>\n",
       "      <td>2</td>\n",
       "      <td>130</td>\n",
       "      <td>204.000000</td>\n",
       "      <td>0</td>\n",
       "      <td>2</td>\n",
       "      <td>172</td>\n",
       "      <td>0</td>\n",
       "      <td>1.4</td>\n",
       "      <td>1</td>\n",
       "      <td>0.000000</td>\n",
       "      <td>3.0</td>\n",
       "      <td>0</td>\n",
       "    </tr>\n",
       "    <tr>\n",
       "      <th>...</th>\n",
       "      <td>...</td>\n",
       "      <td>...</td>\n",
       "      <td>...</td>\n",
       "      <td>...</td>\n",
       "      <td>...</td>\n",
       "      <td>...</td>\n",
       "      <td>...</td>\n",
       "      <td>...</td>\n",
       "      <td>...</td>\n",
       "      <td>...</td>\n",
       "      <td>...</td>\n",
       "      <td>...</td>\n",
       "      <td>...</td>\n",
       "      <td>...</td>\n",
       "    </tr>\n",
       "    <tr>\n",
       "      <th>298</th>\n",
       "      <td>45</td>\n",
       "      <td>1</td>\n",
       "      <td>1</td>\n",
       "      <td>110</td>\n",
       "      <td>264.000000</td>\n",
       "      <td>0</td>\n",
       "      <td>0</td>\n",
       "      <td>132</td>\n",
       "      <td>0</td>\n",
       "      <td>1.2</td>\n",
       "      <td>2</td>\n",
       "      <td>0.000000</td>\n",
       "      <td>7.0</td>\n",
       "      <td>1</td>\n",
       "    </tr>\n",
       "    <tr>\n",
       "      <th>299</th>\n",
       "      <td>68</td>\n",
       "      <td>1</td>\n",
       "      <td>4</td>\n",
       "      <td>144</td>\n",
       "      <td>193.000000</td>\n",
       "      <td>1</td>\n",
       "      <td>0</td>\n",
       "      <td>141</td>\n",
       "      <td>0</td>\n",
       "      <td>3.4</td>\n",
       "      <td>2</td>\n",
       "      <td>2.000000</td>\n",
       "      <td>7.0</td>\n",
       "      <td>1</td>\n",
       "    </tr>\n",
       "    <tr>\n",
       "      <th>300</th>\n",
       "      <td>57</td>\n",
       "      <td>1</td>\n",
       "      <td>4</td>\n",
       "      <td>130</td>\n",
       "      <td>131.000000</td>\n",
       "      <td>0</td>\n",
       "      <td>0</td>\n",
       "      <td>115</td>\n",
       "      <td>1</td>\n",
       "      <td>1.2</td>\n",
       "      <td>2</td>\n",
       "      <td>1.000000</td>\n",
       "      <td>7.0</td>\n",
       "      <td>1</td>\n",
       "    </tr>\n",
       "    <tr>\n",
       "      <th>301</th>\n",
       "      <td>57</td>\n",
       "      <td>0</td>\n",
       "      <td>2</td>\n",
       "      <td>130</td>\n",
       "      <td>236.000000</td>\n",
       "      <td>0</td>\n",
       "      <td>2</td>\n",
       "      <td>174</td>\n",
       "      <td>0</td>\n",
       "      <td>0.0</td>\n",
       "      <td>2</td>\n",
       "      <td>1.000000</td>\n",
       "      <td>3.0</td>\n",
       "      <td>1</td>\n",
       "    </tr>\n",
       "    <tr>\n",
       "      <th>302</th>\n",
       "      <td>38</td>\n",
       "      <td>1</td>\n",
       "      <td>3</td>\n",
       "      <td>138</td>\n",
       "      <td>175.000000</td>\n",
       "      <td>0</td>\n",
       "      <td>0</td>\n",
       "      <td>173</td>\n",
       "      <td>0</td>\n",
       "      <td>0.0</td>\n",
       "      <td>1</td>\n",
       "      <td>0.672241</td>\n",
       "      <td>3.0</td>\n",
       "      <td>0</td>\n",
       "    </tr>\n",
       "  </tbody>\n",
       "</table>\n",
       "<p>303 rows × 14 columns</p>\n",
       "</div>"
      ],
      "text/plain": [
       "     age  sex  cp  treshtbps        chol  fbs  restecg  thalach  exang  \\\n",
       "0     63    1   1        145  233.000000    1        2      150      0   \n",
       "1     67    1   4        160  286.000000    0        0      108      1   \n",
       "2     67    1   4        120  246.751656    0        2      129      1   \n",
       "3     37    1   3        130  250.000000    0        0      187      0   \n",
       "4     41    0   2        130  204.000000    0        2      172      0   \n",
       "..   ...  ...  ..        ...         ...  ...      ...      ...    ...   \n",
       "298   45    1   1        110  264.000000    0        0      132      0   \n",
       "299   68    1   4        144  193.000000    1        0      141      0   \n",
       "300   57    1   4        130  131.000000    0        0      115      1   \n",
       "301   57    0   2        130  236.000000    0        2      174      0   \n",
       "302   38    1   3        138  175.000000    0        0      173      0   \n",
       "\n",
       "     oldpeak  slope        ca  hsl  heartDisease  \n",
       "0        2.3      3  0.000000  6.0             0  \n",
       "1        1.5      2  3.000000  3.0             1  \n",
       "2        2.6      2  2.000000  7.0             1  \n",
       "3        3.5      3  0.000000  3.0             0  \n",
       "4        1.4      1  0.000000  3.0             0  \n",
       "..       ...    ...       ...  ...           ...  \n",
       "298      1.2      2  0.000000  7.0             1  \n",
       "299      3.4      2  2.000000  7.0             1  \n",
       "300      1.2      2  1.000000  7.0             1  \n",
       "301      0.0      2  1.000000  3.0             1  \n",
       "302      0.0      1  0.672241  3.0             0  \n",
       "\n",
       "[303 rows x 14 columns]"
      ]
     },
     "execution_count": 4,
     "metadata": {},
     "output_type": "execute_result"
    }
   ],
   "source": [
    "dataset['chol'] = dataset['chol'].replace('?', np.nan)\n",
    "mean_chol = dataset['chol'].mean()\n",
    "dataset['chol'] = dataset['chol'].fillna(mean_chol)\n",
    "\n",
    "dataset['ca'] = dataset['ca'].replace('?', np.nan)\n",
    "mean_ca = dataset['ca'].mean()\n",
    "dataset['ca'] = dataset['ca'].fillna(mean_ca)\n",
    "\n",
    "dataset['hsl'] = dataset['hsl'].replace('?', np.nan)\n",
    "mean_hsl = dataset['hsl'].mean()\n",
    "dataset['hsl'] = dataset['hsl'].fillna(mean_hsl)\n",
    "dataset"
   ]
  },
  {
   "cell_type": "code",
   "execution_count": 21,
   "id": "f9b94b08",
   "metadata": {
    "scrolled": true
   },
   "outputs": [
    {
     "name": "stdout",
     "output_type": "stream",
     "text": [
      "<class 'pandas.core.frame.DataFrame'>\n",
      "RangeIndex: 303 entries, 0 to 302\n",
      "Data columns (total 14 columns):\n",
      " #   Column        Non-Null Count  Dtype  \n",
      "---  ------        --------------  -----  \n",
      " 0   age           303 non-null    int64  \n",
      " 1   sex           303 non-null    int64  \n",
      " 2   cp            303 non-null    int64  \n",
      " 3   treshtbps     303 non-null    int64  \n",
      " 4   chol          302 non-null    float64\n",
      " 5   fbs           303 non-null    int64  \n",
      " 6   restecg       303 non-null    int64  \n",
      " 7   thalach       303 non-null    int64  \n",
      " 8   exang         303 non-null    int64  \n",
      " 9   oldpeak       303 non-null    float64\n",
      " 10  slope         303 non-null    int64  \n",
      " 11  ca            299 non-null    float64\n",
      " 12  hsl           301 non-null    float64\n",
      " 13  heartDisease  303 non-null    int64  \n",
      "dtypes: float64(4), int64(10)\n",
      "memory usage: 33.3 KB\n"
     ]
    }
   ],
   "source": [
    "# '?'를 결측치(np.nan)로 대체  ■■■■■■■■■■■■■■■■■■■■■■■■■■■\n",
    "df = dataset.replace('?', np.nan)\n",
    "df.info()"
   ]
  },
  {
   "cell_type": "code",
   "execution_count": 22,
   "id": "07c92fc0",
   "metadata": {},
   "outputs": [
    {
     "data": {
      "text/plain": [
       "age             0\n",
       "sex             0\n",
       "cp              0\n",
       "treshtbps       0\n",
       "chol            0\n",
       "fbs             0\n",
       "restecg         0\n",
       "thalach         0\n",
       "exang           0\n",
       "oldpeak         0\n",
       "slope           0\n",
       "ca              0\n",
       "hsl             0\n",
       "heartDisease    0\n",
       "dtype: int64"
      ]
     },
     "execution_count": 22,
     "metadata": {},
     "output_type": "execute_result"
    }
   ],
   "source": [
    "# ■결측치 처리 : 대체 or 제거 ■■■■■■■■■■■■■■■■■■■■■■■\n",
    "df.fillna(value=df.median(), inplace=True) # 결측치를 중위수로 대체\n",
    "# df = df.dropna(how='any')  #결측치 제거\n",
    "df.isna().sum() # 결측치가 없는지 확인"
   ]
  },
  {
   "cell_type": "code",
   "execution_count": null,
   "id": "24d787e1",
   "metadata": {},
   "outputs": [],
   "source": [
    "# Target변수의 분포(0:음성, 1:양성) ■■■■■■■■■■■■■■■■■■■■■■■\n",
    "print(df['heartDisease'].value_counts()) \n",
    "# negative, positive = df['heartDisease'].value_counts()\n",
    "# total = df.shape[0]\n",
    "# print('음성 결과 :', negative/total)\n",
    "# print('양성 결과 :', positive/total)\n",
    "print(df['heartDisease'].value_counts(normalize=True)) "
   ]
  },
  {
   "cell_type": "code",
   "execution_count": 25,
   "id": "ef5044ef",
   "metadata": {},
   "outputs": [
    {
     "data": {
      "text/plain": [
       "((303, 13), (303, 1))"
      ]
     },
     "execution_count": 25,
     "metadata": {},
     "output_type": "execute_result"
    }
   ],
   "source": [
    "# 입력변수와 타겟변수 분리 ■■■■■■■■■■■■■■■■■■■■■■■ 추천 안함\n",
    "X = df.iloc[:, :-1].values\n",
    "y = df.iloc[:, -1:].values\n",
    "X.shape, y.shape"
   ]
  },
  {
   "cell_type": "code",
   "execution_count": 5,
   "id": "377b2523",
   "metadata": {},
   "outputs": [],
   "source": [
    "X_data = dataset.drop('heartDisease', axis=1)\n",
    "y = dataset['heartDisease']\n",
    "\n",
    "X_scaler = MinMaxScaler()\n",
    "X = X_scaler.fit_transform(X_data)"
   ]
  },
  {
   "cell_type": "code",
   "execution_count": 26,
   "id": "221c188c",
   "metadata": {},
   "outputs": [
    {
     "data": {
      "text/plain": [
       "array([[0.70833333, 1.        , 0.        , ..., 1.        , 0.        ,\n",
       "        0.75      ],\n",
       "       [0.79166667, 1.        , 1.        , ..., 0.5       , 1.        ,\n",
       "        0.        ],\n",
       "       [0.79166667, 1.        , 1.        , ..., 0.5       , 0.66666667,\n",
       "        1.        ],\n",
       "       ...,\n",
       "       [0.58333333, 1.        , 1.        , ..., 0.5       , 0.33333333,\n",
       "        1.        ],\n",
       "       [0.58333333, 0.        , 0.33333333, ..., 0.5       , 0.33333333,\n",
       "        0.        ],\n",
       "       [0.1875    , 1.        , 0.66666667, ..., 0.        , 0.        ,\n",
       "        0.        ]])"
      ]
     },
     "execution_count": 26,
     "metadata": {},
     "output_type": "execute_result"
    }
   ],
   "source": [
    "# 입력변수 X의 스케일 조정 ■■■■■■■■■■■■■■■■■■■■■■■ \n",
    "scaler = MinMaxScaler()\n",
    "scaled_X = scaler.fit_transform(X)\n",
    "scaled_X"
   ]
  },
  {
   "cell_type": "code",
   "execution_count": 6,
   "id": "9a32ae15",
   "metadata": {},
   "outputs": [
    {
     "data": {
      "text/plain": [
       "((242, 13), (242,), (61, 13), (61,))"
      ]
     },
     "execution_count": 6,
     "metadata": {},
     "output_type": "execute_result"
    }
   ],
   "source": [
    "X_train, X_test, y_train, y_test = train_test_split(\n",
    "    X, y,\n",
    "    test_size=0.2, )\n",
    "X_train.shape,y_train.shape,X_test.shape,y_test.shape"
   ]
  },
  {
   "cell_type": "code",
   "execution_count": 43,
   "id": "963cac94",
   "metadata": {},
   "outputs": [
    {
     "data": {
      "text/plain": [
       "((212, 13), (212, 1), (91, 13), (91, 1))"
      ]
     },
     "execution_count": 43,
     "metadata": {},
     "output_type": "execute_result"
    }
   ],
   "source": [
    "#scaled_X, y를 학습셋:테스트셋=7:3으로 분할  ■■■■■■■■■■■■■■■■■■■■■■■\n",
    "X_train, X_test, y_train, y_test = train_test_split(scaled_X, \n",
    "                                                    y,\n",
    "                                                   test_size=0.3, # 테스트셋 비율\n",
    "                                                   random_state=7,\n",
    "                                                   stratify=y # stratify 층화추출\n",
    "                                                   ) \n",
    "X_train.shape,y_train.shape,X_test.shape,y_test.shape"
   ]
  },
  {
   "cell_type": "code",
   "execution_count": 44,
   "id": "d33e5d51",
   "metadata": {},
   "outputs": [
    {
     "name": "stdout",
     "output_type": "stream",
     "text": [
      "0    0.541254\n",
      "1    0.458746\n",
      "dtype: float64\n",
      "0    0.542453\n",
      "1    0.457547\n",
      "dtype: float64\n",
      "0    0.538462\n",
      "1    0.461538\n",
      "dtype: float64\n"
     ]
    }
   ],
   "source": [
    "# 음성|양성 비율   ■■■■■■■■■■■■■■■■■■■■■■■\n",
    "print(pd.DataFrame(y).value_counts(normalize=True))  # 전체 데이터\n",
    "print(pd.DataFrame(y_train).value_counts(normalize=True)) # y_train\n",
    "print(pd.DataFrame(y_test).value_counts(normalize=True))  # y_test"
   ]
  },
  {
   "cell_type": "markdown",
   "id": "3323ef88",
   "metadata": {},
   "source": [
    "## 2. 모델 생성(입력13, 출력1) & 학습과정 설정 & 학습\n",
    "- 그래프를 보고 과적합 줄이기 추가할 수 있음"
   ]
  },
  {
   "cell_type": "code",
   "execution_count": 79,
   "id": "20e191a8",
   "metadata": {},
   "outputs": [
    {
     "name": "stdout",
     "output_type": "stream",
     "text": [
      "Model: \"sequential_8\"\n",
      "_________________________________________________________________\n",
      " Layer (type)                Output Shape              Param #   \n",
      "=================================================================\n",
      " dense_38 (Dense)            (None, 32)                448       \n",
      "                                                                 \n",
      " dropout_10 (Dropout)        (None, 32)                0         \n",
      "                                                                 \n",
      " dense_39 (Dense)            (None, 16)                528       \n",
      "                                                                 \n",
      " dropout_11 (Dropout)        (None, 16)                0         \n",
      "                                                                 \n",
      " dense_40 (Dense)            (None, 8)                 136       \n",
      "                                                                 \n",
      " dropout_12 (Dropout)        (None, 8)                 0         \n",
      "                                                                 \n",
      " dense_41 (Dense)            (None, 1)                 9         \n",
      "                                                                 \n",
      "=================================================================\n",
      "Total params: 1,121\n",
      "Trainable params: 1,121\n",
      "Non-trainable params: 0\n",
      "_________________________________________________________________\n"
     ]
    }
   ],
   "source": [
    "#  ■■■■■■■■■■■■■■■■■■■■■■■■■■■■■■■■■■■■■■■■■■■■■■\n",
    "model = Sequential()\n",
    "# model.add(Input(shape=(13,)))\n",
    "model.add(Dense(units=32, \n",
    "                input_dim=13,\n",
    "                activation='tanh'))\n",
    "model.add(Dropout(0.3))\n",
    "model.add(Dense(units=16, activation='relu'))\n",
    "model.add(Dropout(0.3))\n",
    "model.add(Dense(units=8, activation='relu'))\n",
    "model.add(Dropout(0.3))\n",
    "model.add(Dense(units=1,  activation='sigmoid'))\n",
    "model.summary()"
   ]
  },
  {
   "cell_type": "code",
   "execution_count": 80,
   "id": "f9d0ba7d",
   "metadata": {},
   "outputs": [],
   "source": [
    "#  ■■■■■■■■■■■■■■■■■■■■■■■■■■■■■■■■■■■■■■■■■■■■■■\n",
    "from tensorflow.keras import metrics\n",
    "from tensorflow.keras.optimizers import Adam\n",
    "model.compile(loss='binary_crossentropy',\n",
    "             #optimizer=Adam(learning_rate=0.01),\n",
    "              optimizer='adam',\n",
    "             metrics=['accuracy', # 정확도\n",
    "                      metrics.Recall(), # 재현율(실제값 중심)\n",
    "                      metrics.Precision()]) # 정밀도(예측값 중심)"
   ]
  },
  {
   "cell_type": "code",
   "execution_count": 81,
   "id": "b5ded865",
   "metadata": {
    "scrolled": true
   },
   "outputs": [
    {
     "name": "stdout",
     "output_type": "stream",
     "text": [
      "Epoch 1/150\n",
      "6/6 [==============================] - 1s 55ms/step - loss: 0.7219 - accuracy: 0.5207 - recall_5: 0.1974 - precision_5: 0.4286 - val_loss: 0.7372 - val_accuracy: 0.5116 - val_recall_5: 0.0000e+00 - val_precision_5: 0.0000e+00\n",
      "Epoch 2/150\n",
      "6/6 [==============================] - 0s 9ms/step - loss: 0.7110 - accuracy: 0.5917 - recall_5: 0.2368 - precision_5: 0.6207 - val_loss: 0.7260 - val_accuracy: 0.5349 - val_recall_5: 0.0476 - val_precision_5: 1.0000\n",
      "Epoch 3/150\n",
      "6/6 [==============================] - 0s 9ms/step - loss: 0.7095 - accuracy: 0.4852 - recall_5: 0.1711 - precision_5: 0.3514 - val_loss: 0.7152 - val_accuracy: 0.5349 - val_recall_5: 0.0476 - val_precision_5: 1.0000\n",
      "Epoch 4/150\n",
      "6/6 [==============================] - 0s 9ms/step - loss: 0.7050 - accuracy: 0.5621 - recall_5: 0.3158 - precision_5: 0.5217 - val_loss: 0.7050 - val_accuracy: 0.5581 - val_recall_5: 0.0952 - val_precision_5: 1.0000\n",
      "Epoch 5/150\n",
      "6/6 [==============================] - 0s 9ms/step - loss: 0.7225 - accuracy: 0.4438 - recall_5: 0.1711 - precision_5: 0.2955 - val_loss: 0.6959 - val_accuracy: 0.5581 - val_recall_5: 0.0952 - val_precision_5: 1.0000\n",
      "Epoch 6/150\n",
      "6/6 [==============================] - 0s 8ms/step - loss: 0.6834 - accuracy: 0.5799 - recall_5: 0.3158 - precision_5: 0.5581 - val_loss: 0.6877 - val_accuracy: 0.5581 - val_recall_5: 0.0952 - val_precision_5: 1.0000\n",
      "Epoch 7/150\n",
      "6/6 [==============================] - 0s 9ms/step - loss: 0.7036 - accuracy: 0.5444 - recall_5: 0.2500 - precision_5: 0.4872 - val_loss: 0.6795 - val_accuracy: 0.6512 - val_recall_5: 0.3810 - val_precision_5: 0.8000\n",
      "Epoch 8/150\n",
      "6/6 [==============================] - 0s 11ms/step - loss: 0.6820 - accuracy: 0.5562 - recall_5: 0.3158 - precision_5: 0.5106 - val_loss: 0.6715 - val_accuracy: 0.7674 - val_recall_5: 0.6190 - val_precision_5: 0.8667\n",
      "Epoch 9/150\n",
      "6/6 [==============================] - 0s 11ms/step - loss: 0.6805 - accuracy: 0.5385 - recall_5: 0.3816 - precision_5: 0.4833 - val_loss: 0.6643 - val_accuracy: 0.7442 - val_recall_5: 0.6190 - val_precision_5: 0.8125\n",
      "Epoch 10/150\n",
      "6/6 [==============================] - 0s 9ms/step - loss: 0.6819 - accuracy: 0.6331 - recall_5: 0.3684 - precision_5: 0.6667 - val_loss: 0.6572 - val_accuracy: 0.7442 - val_recall_5: 0.6190 - val_precision_5: 0.8125\n",
      "Epoch 11/150\n",
      "6/6 [==============================] - 0s 8ms/step - loss: 0.6636 - accuracy: 0.5976 - recall_5: 0.4342 - precision_5: 0.5690 - val_loss: 0.6478 - val_accuracy: 0.7674 - val_recall_5: 0.6667 - val_precision_5: 0.8235\n",
      "Epoch 12/150\n",
      "6/6 [==============================] - 0s 8ms/step - loss: 0.6496 - accuracy: 0.6450 - recall_5: 0.4605 - precision_5: 0.6481 - val_loss: 0.6358 - val_accuracy: 0.7442 - val_recall_5: 0.6667 - val_precision_5: 0.7778\n",
      "Epoch 13/150\n",
      "6/6 [==============================] - 0s 8ms/step - loss: 0.6390 - accuracy: 0.6450 - recall_5: 0.4868 - precision_5: 0.6379 - val_loss: 0.6246 - val_accuracy: 0.7907 - val_recall_5: 0.7619 - val_precision_5: 0.8000\n",
      "Epoch 14/150\n",
      "6/6 [==============================] - 0s 8ms/step - loss: 0.6449 - accuracy: 0.6568 - recall_5: 0.4737 - precision_5: 0.6667 - val_loss: 0.6144 - val_accuracy: 0.7907 - val_recall_5: 0.7619 - val_precision_5: 0.8000\n",
      "Epoch 15/150\n",
      "6/6 [==============================] - 0s 8ms/step - loss: 0.6498 - accuracy: 0.6686 - recall_5: 0.5526 - precision_5: 0.6562 - val_loss: 0.6054 - val_accuracy: 0.7907 - val_recall_5: 0.8095 - val_precision_5: 0.7727\n",
      "Epoch 16/150\n",
      "6/6 [==============================] - 0s 9ms/step - loss: 0.6569 - accuracy: 0.6331 - recall_5: 0.5526 - precision_5: 0.6000 - val_loss: 0.5977 - val_accuracy: 0.7907 - val_recall_5: 0.8095 - val_precision_5: 0.7727\n",
      "Epoch 17/150\n",
      "6/6 [==============================] - 0s 9ms/step - loss: 0.6306 - accuracy: 0.6213 - recall_5: 0.5000 - precision_5: 0.5938 - val_loss: 0.5887 - val_accuracy: 0.7907 - val_recall_5: 0.8095 - val_precision_5: 0.7727\n",
      "Epoch 18/150\n",
      "6/6 [==============================] - 0s 10ms/step - loss: 0.6147 - accuracy: 0.6864 - recall_5: 0.5526 - precision_5: 0.6885 - val_loss: 0.5799 - val_accuracy: 0.7907 - val_recall_5: 0.8095 - val_precision_5: 0.7727\n",
      "Epoch 19/150\n",
      "6/6 [==============================] - 0s 8ms/step - loss: 0.6119 - accuracy: 0.6805 - recall_5: 0.6316 - precision_5: 0.6486 - val_loss: 0.5704 - val_accuracy: 0.8140 - val_recall_5: 0.8095 - val_precision_5: 0.8095\n",
      "Epoch 20/150\n",
      "6/6 [==============================] - 0s 8ms/step - loss: 0.6043 - accuracy: 0.7278 - recall_5: 0.5789 - precision_5: 0.7586 - val_loss: 0.5617 - val_accuracy: 0.7907 - val_recall_5: 0.7619 - val_precision_5: 0.8000\n",
      "Epoch 21/150\n",
      "6/6 [==============================] - 0s 9ms/step - loss: 0.6090 - accuracy: 0.7278 - recall_5: 0.5921 - precision_5: 0.7500 - val_loss: 0.5540 - val_accuracy: 0.8140 - val_recall_5: 0.8095 - val_precision_5: 0.8095\n",
      "Epoch 22/150\n",
      "6/6 [==============================] - 0s 8ms/step - loss: 0.5882 - accuracy: 0.7396 - recall_5: 0.6316 - precision_5: 0.7500 - val_loss: 0.5472 - val_accuracy: 0.8140 - val_recall_5: 0.8095 - val_precision_5: 0.8095\n",
      "Epoch 23/150\n",
      "6/6 [==============================] - 0s 9ms/step - loss: 0.6060 - accuracy: 0.6982 - recall_5: 0.5000 - precision_5: 0.7451 - val_loss: 0.5419 - val_accuracy: 0.8140 - val_recall_5: 0.8095 - val_precision_5: 0.8095\n",
      "Epoch 24/150\n",
      "6/6 [==============================] - 0s 8ms/step - loss: 0.5642 - accuracy: 0.7219 - recall_5: 0.5526 - precision_5: 0.7636 - val_loss: 0.5356 - val_accuracy: 0.8140 - val_recall_5: 0.8095 - val_precision_5: 0.8095\n",
      "Epoch 25/150\n",
      "6/6 [==============================] - 0s 9ms/step - loss: 0.5767 - accuracy: 0.7278 - recall_5: 0.5526 - precision_5: 0.7778 - val_loss: 0.5290 - val_accuracy: 0.8140 - val_recall_5: 0.8095 - val_precision_5: 0.8095\n",
      "Epoch 26/150\n",
      "6/6 [==============================] - 0s 8ms/step - loss: 0.5513 - accuracy: 0.7041 - recall_5: 0.6053 - precision_5: 0.6970 - val_loss: 0.5229 - val_accuracy: 0.8140 - val_recall_5: 0.8095 - val_precision_5: 0.8095\n",
      "Epoch 27/150\n",
      "6/6 [==============================] - 0s 9ms/step - loss: 0.5476 - accuracy: 0.7337 - recall_5: 0.5921 - precision_5: 0.7627 - val_loss: 0.5164 - val_accuracy: 0.8140 - val_recall_5: 0.8095 - val_precision_5: 0.8095\n",
      "Epoch 28/150\n",
      "6/6 [==============================] - 0s 9ms/step - loss: 0.5540 - accuracy: 0.7160 - recall_5: 0.6053 - precision_5: 0.7188 - val_loss: 0.5087 - val_accuracy: 0.8140 - val_recall_5: 0.8095 - val_precision_5: 0.8095\n",
      "Epoch 29/150\n",
      "6/6 [==============================] - 0s 8ms/step - loss: 0.5480 - accuracy: 0.7041 - recall_5: 0.5526 - precision_5: 0.7241 - val_loss: 0.5038 - val_accuracy: 0.8140 - val_recall_5: 0.8095 - val_precision_5: 0.8095\n",
      "Epoch 30/150\n",
      "6/6 [==============================] - 0s 8ms/step - loss: 0.5472 - accuracy: 0.7041 - recall_5: 0.6053 - precision_5: 0.6970 - val_loss: 0.5007 - val_accuracy: 0.8140 - val_recall_5: 0.8095 - val_precision_5: 0.8095\n",
      "Epoch 31/150\n",
      "6/6 [==============================] - 0s 8ms/step - loss: 0.5378 - accuracy: 0.6982 - recall_5: 0.5395 - precision_5: 0.7193 - val_loss: 0.4998 - val_accuracy: 0.8140 - val_recall_5: 0.8095 - val_precision_5: 0.8095\n",
      "Epoch 32/150\n",
      "6/6 [==============================] - 0s 8ms/step - loss: 0.5148 - accuracy: 0.7160 - recall_5: 0.5658 - precision_5: 0.7414 - val_loss: 0.4981 - val_accuracy: 0.8140 - val_recall_5: 0.8095 - val_precision_5: 0.8095\n",
      "Epoch 33/150\n",
      "6/6 [==============================] - 0s 8ms/step - loss: 0.5358 - accuracy: 0.6982 - recall_5: 0.5921 - precision_5: 0.6923 - val_loss: 0.4958 - val_accuracy: 0.8140 - val_recall_5: 0.8095 - val_precision_5: 0.8095\n",
      "Epoch 34/150\n",
      "6/6 [==============================] - 0s 8ms/step - loss: 0.5581 - accuracy: 0.6982 - recall_5: 0.5263 - precision_5: 0.7273 - val_loss: 0.4918 - val_accuracy: 0.8372 - val_recall_5: 0.8571 - val_precision_5: 0.8182\n",
      "Epoch 35/150\n",
      "6/6 [==============================] - 0s 8ms/step - loss: 0.5347 - accuracy: 0.7278 - recall_5: 0.6184 - precision_5: 0.7344 - val_loss: 0.4912 - val_accuracy: 0.8372 - val_recall_5: 0.8571 - val_precision_5: 0.8182\n",
      "Epoch 36/150\n",
      "6/6 [==============================] - 0s 8ms/step - loss: 0.4905 - accuracy: 0.7633 - recall_5: 0.6711 - precision_5: 0.7727 - val_loss: 0.4909 - val_accuracy: 0.8605 - val_recall_5: 0.8571 - val_precision_5: 0.8571\n"
     ]
    },
    {
     "name": "stdout",
     "output_type": "stream",
     "text": [
      "Epoch 37/150\n",
      "6/6 [==============================] - 0s 8ms/step - loss: 0.4904 - accuracy: 0.7574 - recall_5: 0.6447 - precision_5: 0.7778 - val_loss: 0.4887 - val_accuracy: 0.8605 - val_recall_5: 0.8571 - val_precision_5: 0.8571\n",
      "Epoch 38/150\n",
      "6/6 [==============================] - 0s 8ms/step - loss: 0.5146 - accuracy: 0.7574 - recall_5: 0.6316 - precision_5: 0.7869 - val_loss: 0.4858 - val_accuracy: 0.8605 - val_recall_5: 0.8571 - val_precision_5: 0.8571\n",
      "Epoch 39/150\n",
      "6/6 [==============================] - 0s 7ms/step - loss: 0.5140 - accuracy: 0.7751 - recall_5: 0.7105 - precision_5: 0.7714 - val_loss: 0.4819 - val_accuracy: 0.8605 - val_recall_5: 0.8571 - val_precision_5: 0.8571\n",
      "Epoch 40/150\n",
      "6/6 [==============================] - 0s 8ms/step - loss: 0.5264 - accuracy: 0.7337 - recall_5: 0.6184 - precision_5: 0.7460 - val_loss: 0.4802 - val_accuracy: 0.8605 - val_recall_5: 0.8571 - val_precision_5: 0.8571\n",
      "Epoch 41/150\n",
      "6/6 [==============================] - 0s 10ms/step - loss: 0.4699 - accuracy: 0.7929 - recall_5: 0.6974 - precision_5: 0.8154 - val_loss: 0.4782 - val_accuracy: 0.8605 - val_recall_5: 0.8571 - val_precision_5: 0.8571\n",
      "Epoch 42/150\n",
      "6/6 [==============================] - 0s 7ms/step - loss: 0.5018 - accuracy: 0.7692 - recall_5: 0.6842 - precision_5: 0.7761 - val_loss: 0.4765 - val_accuracy: 0.8605 - val_recall_5: 0.8571 - val_precision_5: 0.8571\n",
      "Epoch 43/150\n",
      "6/6 [==============================] - 0s 8ms/step - loss: 0.4627 - accuracy: 0.7751 - recall_5: 0.6711 - precision_5: 0.7969 - val_loss: 0.4758 - val_accuracy: 0.8372 - val_recall_5: 0.8571 - val_precision_5: 0.8182\n",
      "Epoch 44/150\n",
      "6/6 [==============================] - 0s 8ms/step - loss: 0.4558 - accuracy: 0.8166 - recall_5: 0.7763 - precision_5: 0.8082 - val_loss: 0.4757 - val_accuracy: 0.8372 - val_recall_5: 0.8571 - val_precision_5: 0.8182\n",
      "Epoch 45/150\n",
      "6/6 [==============================] - 0s 8ms/step - loss: 0.5096 - accuracy: 0.7574 - recall_5: 0.6711 - precision_5: 0.7612 - val_loss: 0.4760 - val_accuracy: 0.8372 - val_recall_5: 0.8571 - val_precision_5: 0.8182\n",
      "Epoch 46/150\n",
      "6/6 [==============================] - 0s 8ms/step - loss: 0.4725 - accuracy: 0.8166 - recall_5: 0.7632 - precision_5: 0.8169 - val_loss: 0.4775 - val_accuracy: 0.7907 - val_recall_5: 0.8571 - val_precision_5: 0.7500\n",
      "Epoch 47/150\n",
      "6/6 [==============================] - 0s 8ms/step - loss: 0.4864 - accuracy: 0.7751 - recall_5: 0.7237 - precision_5: 0.7639 - val_loss: 0.4761 - val_accuracy: 0.7907 - val_recall_5: 0.8571 - val_precision_5: 0.7500\n",
      "Epoch 48/150\n",
      "6/6 [==============================] - 0s 8ms/step - loss: 0.4540 - accuracy: 0.7633 - recall_5: 0.6711 - precision_5: 0.7727 - val_loss: 0.4742 - val_accuracy: 0.8372 - val_recall_5: 0.8571 - val_precision_5: 0.8182\n",
      "Epoch 49/150\n",
      "6/6 [==============================] - 0s 8ms/step - loss: 0.4373 - accuracy: 0.7929 - recall_5: 0.7632 - precision_5: 0.7733 - val_loss: 0.4732 - val_accuracy: 0.8605 - val_recall_5: 0.8571 - val_precision_5: 0.8571\n",
      "Epoch 50/150\n",
      "6/6 [==============================] - 0s 8ms/step - loss: 0.4778 - accuracy: 0.7988 - recall_5: 0.7368 - precision_5: 0.8000 - val_loss: 0.4733 - val_accuracy: 0.8605 - val_recall_5: 0.8571 - val_precision_5: 0.8571\n",
      "Epoch 51/150\n",
      "6/6 [==============================] - 0s 10ms/step - loss: 0.4830 - accuracy: 0.7574 - recall_5: 0.6579 - precision_5: 0.7692 - val_loss: 0.4727 - val_accuracy: 0.8605 - val_recall_5: 0.8571 - val_precision_5: 0.8571\n",
      "Epoch 52/150\n",
      "6/6 [==============================] - 0s 8ms/step - loss: 0.5114 - accuracy: 0.7692 - recall_5: 0.7105 - precision_5: 0.7606 - val_loss: 0.4722 - val_accuracy: 0.8372 - val_recall_5: 0.8095 - val_precision_5: 0.8500\n",
      "Epoch 53/150\n",
      "6/6 [==============================] - 0s 8ms/step - loss: 0.4913 - accuracy: 0.7692 - recall_5: 0.6711 - precision_5: 0.7846 - val_loss: 0.4714 - val_accuracy: 0.8372 - val_recall_5: 0.8095 - val_precision_5: 0.8500\n",
      "Epoch 54/150\n",
      "6/6 [==============================] - 0s 9ms/step - loss: 0.4860 - accuracy: 0.7811 - recall_5: 0.6974 - precision_5: 0.7910 - val_loss: 0.4712 - val_accuracy: 0.8605 - val_recall_5: 0.8571 - val_precision_5: 0.8571\n",
      "Epoch 55/150\n",
      "6/6 [==============================] - 0s 8ms/step - loss: 0.4657 - accuracy: 0.8107 - recall_5: 0.8026 - precision_5: 0.7821 - val_loss: 0.4709 - val_accuracy: 0.8372 - val_recall_5: 0.8095 - val_precision_5: 0.8500\n",
      "Epoch 56/150\n",
      "6/6 [==============================] - 0s 8ms/step - loss: 0.4397 - accuracy: 0.7870 - recall_5: 0.6974 - precision_5: 0.8030 - val_loss: 0.4709 - val_accuracy: 0.8372 - val_recall_5: 0.8095 - val_precision_5: 0.8500\n",
      "Epoch 57/150\n",
      "6/6 [==============================] - 0s 7ms/step - loss: 0.4682 - accuracy: 0.8166 - recall_5: 0.7500 - precision_5: 0.8261 - val_loss: 0.4717 - val_accuracy: 0.8372 - val_recall_5: 0.8571 - val_precision_5: 0.8182\n",
      "Epoch 58/150\n",
      "6/6 [==============================] - 0s 8ms/step - loss: 0.4694 - accuracy: 0.7870 - recall_5: 0.7368 - precision_5: 0.7778 - val_loss: 0.4752 - val_accuracy: 0.7907 - val_recall_5: 0.8571 - val_precision_5: 0.7500\n",
      "Epoch 59/150\n",
      "6/6 [==============================] - 0s 8ms/step - loss: 0.5260 - accuracy: 0.7811 - recall_5: 0.7895 - precision_5: 0.7407 - val_loss: 0.4741 - val_accuracy: 0.7907 - val_recall_5: 0.8571 - val_precision_5: 0.7500\n",
      "Epoch 60/150\n",
      "6/6 [==============================] - 0s 7ms/step - loss: 0.4311 - accuracy: 0.8166 - recall_5: 0.7500 - precision_5: 0.8261 - val_loss: 0.4730 - val_accuracy: 0.8140 - val_recall_5: 0.8571 - val_precision_5: 0.7826\n",
      "Epoch 61/150\n",
      "6/6 [==============================] - 0s 7ms/step - loss: 0.4627 - accuracy: 0.8225 - recall_5: 0.7632 - precision_5: 0.8286 - val_loss: 0.4732 - val_accuracy: 0.8140 - val_recall_5: 0.8571 - val_precision_5: 0.7826\n",
      "Epoch 62/150\n",
      "6/6 [==============================] - 0s 8ms/step - loss: 0.4903 - accuracy: 0.7751 - recall_5: 0.6974 - precision_5: 0.7794 - val_loss: 0.4734 - val_accuracy: 0.7907 - val_recall_5: 0.8095 - val_precision_5: 0.7727\n",
      "Epoch 63/150\n",
      "6/6 [==============================] - 0s 8ms/step - loss: 0.4333 - accuracy: 0.8343 - recall_5: 0.7763 - precision_5: 0.8429 - val_loss: 0.4726 - val_accuracy: 0.7907 - val_recall_5: 0.8095 - val_precision_5: 0.7727\n",
      "Epoch 64/150\n",
      "6/6 [==============================] - 0s 8ms/step - loss: 0.4490 - accuracy: 0.7988 - recall_5: 0.7237 - precision_5: 0.8088 - val_loss: 0.4731 - val_accuracy: 0.7907 - val_recall_5: 0.8095 - val_precision_5: 0.7727\n",
      "Epoch 65/150\n",
      "6/6 [==============================] - 0s 8ms/step - loss: 0.4360 - accuracy: 0.8166 - recall_5: 0.7368 - precision_5: 0.8358 - val_loss: 0.4733 - val_accuracy: 0.7907 - val_recall_5: 0.8095 - val_precision_5: 0.7727\n",
      "Epoch 66/150\n",
      "6/6 [==============================] - 0s 8ms/step - loss: 0.4753 - accuracy: 0.8047 - recall_5: 0.7500 - precision_5: 0.8028 - val_loss: 0.4727 - val_accuracy: 0.7907 - val_recall_5: 0.8095 - val_precision_5: 0.7727\n",
      "Epoch 67/150\n",
      "6/6 [==============================] - 0s 8ms/step - loss: 0.4394 - accuracy: 0.8107 - recall_5: 0.7105 - precision_5: 0.8438 - val_loss: 0.4737 - val_accuracy: 0.7907 - val_recall_5: 0.8095 - val_precision_5: 0.7727\n",
      "Epoch 68/150\n",
      "6/6 [==============================] - 0s 8ms/step - loss: 0.4707 - accuracy: 0.7988 - recall_5: 0.7237 - precision_5: 0.8088 - val_loss: 0.4729 - val_accuracy: 0.7907 - val_recall_5: 0.8095 - val_precision_5: 0.7727\n",
      "Epoch 69/150\n",
      "6/6 [==============================] - 0s 7ms/step - loss: 0.4275 - accuracy: 0.8047 - recall_5: 0.7632 - precision_5: 0.7945 - val_loss: 0.4746 - val_accuracy: 0.7907 - val_recall_5: 0.8095 - val_precision_5: 0.7727\n",
      "Epoch 70/150\n",
      "6/6 [==============================] - 0s 8ms/step - loss: 0.3884 - accuracy: 0.8343 - recall_5: 0.7237 - precision_5: 0.8871 - val_loss: 0.4753 - val_accuracy: 0.7907 - val_recall_5: 0.8095 - val_precision_5: 0.7727\n",
      "Epoch 71/150\n",
      "6/6 [==============================] - 0s 8ms/step - loss: 0.4826 - accuracy: 0.7988 - recall_5: 0.6974 - precision_5: 0.8281 - val_loss: 0.4756 - val_accuracy: 0.7907 - val_recall_5: 0.8095 - val_precision_5: 0.7727\n",
      "Epoch 72/150\n",
      "6/6 [==============================] - 0s 8ms/step - loss: 0.4761 - accuracy: 0.7870 - recall_5: 0.7237 - precision_5: 0.7857 - val_loss: 0.4758 - val_accuracy: 0.7907 - val_recall_5: 0.8095 - val_precision_5: 0.7727\n"
     ]
    },
    {
     "name": "stdout",
     "output_type": "stream",
     "text": [
      "Epoch 73/150\n",
      "6/6 [==============================] - 0s 7ms/step - loss: 0.4258 - accuracy: 0.7929 - recall_5: 0.7237 - precision_5: 0.7971 - val_loss: 0.4772 - val_accuracy: 0.7907 - val_recall_5: 0.8095 - val_precision_5: 0.7727\n",
      "Epoch 74/150\n",
      "6/6 [==============================] - 0s 8ms/step - loss: 0.4353 - accuracy: 0.8166 - recall_5: 0.7632 - precision_5: 0.8169 - val_loss: 0.4801 - val_accuracy: 0.7907 - val_recall_5: 0.8095 - val_precision_5: 0.7727\n",
      "Epoch 75/150\n",
      "6/6 [==============================] - 0s 8ms/step - loss: 0.4141 - accuracy: 0.8166 - recall_5: 0.7237 - precision_5: 0.8462 - val_loss: 0.4827 - val_accuracy: 0.7907 - val_recall_5: 0.8095 - val_precision_5: 0.7727\n",
      "Epoch 76/150\n",
      "6/6 [==============================] - 0s 8ms/step - loss: 0.4213 - accuracy: 0.8107 - recall_5: 0.7500 - precision_5: 0.8143 - val_loss: 0.4863 - val_accuracy: 0.7907 - val_recall_5: 0.8095 - val_precision_5: 0.7727\n",
      "Epoch 77/150\n",
      "6/6 [==============================] - 0s 8ms/step - loss: 0.4328 - accuracy: 0.8107 - recall_5: 0.7500 - precision_5: 0.8143 - val_loss: 0.4871 - val_accuracy: 0.7907 - val_recall_5: 0.8095 - val_precision_5: 0.7727\n",
      "Epoch 78/150\n",
      "6/6 [==============================] - 0s 8ms/step - loss: 0.4432 - accuracy: 0.7811 - recall_5: 0.7500 - precision_5: 0.7600 - val_loss: 0.4862 - val_accuracy: 0.7907 - val_recall_5: 0.8095 - val_precision_5: 0.7727\n",
      "Epoch 79/150\n",
      "6/6 [==============================] - 0s 8ms/step - loss: 0.4222 - accuracy: 0.7870 - recall_5: 0.7500 - precision_5: 0.7703 - val_loss: 0.4835 - val_accuracy: 0.7907 - val_recall_5: 0.8095 - val_precision_5: 0.7727\n",
      "Epoch 80/150\n",
      "6/6 [==============================] - 0s 8ms/step - loss: 0.3626 - accuracy: 0.8698 - recall_5: 0.8289 - precision_5: 0.8750 - val_loss: 0.4784 - val_accuracy: 0.7907 - val_recall_5: 0.8095 - val_precision_5: 0.7727\n",
      "Epoch 81/150\n",
      "6/6 [==============================] - 0s 7ms/step - loss: 0.4146 - accuracy: 0.7692 - recall_5: 0.6974 - precision_5: 0.7681 - val_loss: 0.4766 - val_accuracy: 0.7907 - val_recall_5: 0.8095 - val_precision_5: 0.7727\n",
      "Epoch 82/150\n",
      "6/6 [==============================] - 0s 8ms/step - loss: 0.4339 - accuracy: 0.7870 - recall_5: 0.6974 - precision_5: 0.8030 - val_loss: 0.4776 - val_accuracy: 0.7907 - val_recall_5: 0.8095 - val_precision_5: 0.7727\n",
      "Epoch 83/150\n",
      "6/6 [==============================] - 0s 8ms/step - loss: 0.4278 - accuracy: 0.8047 - recall_5: 0.7500 - precision_5: 0.8028 - val_loss: 0.4785 - val_accuracy: 0.7907 - val_recall_5: 0.8095 - val_precision_5: 0.7727\n",
      "Epoch 84/150\n",
      "6/6 [==============================] - 0s 8ms/step - loss: 0.4510 - accuracy: 0.7751 - recall_5: 0.6842 - precision_5: 0.7879 - val_loss: 0.4810 - val_accuracy: 0.7907 - val_recall_5: 0.8095 - val_precision_5: 0.7727\n",
      "Epoch 85/150\n",
      "6/6 [==============================] - 0s 7ms/step - loss: 0.4207 - accuracy: 0.8284 - recall_5: 0.7368 - precision_5: 0.8615 - val_loss: 0.4840 - val_accuracy: 0.7907 - val_recall_5: 0.8095 - val_precision_5: 0.7727\n",
      "Epoch 86/150\n",
      "6/6 [==============================] - 0s 8ms/step - loss: 0.4457 - accuracy: 0.7988 - recall_5: 0.7368 - precision_5: 0.8000 - val_loss: 0.4866 - val_accuracy: 0.7907 - val_recall_5: 0.8095 - val_precision_5: 0.7727\n",
      "Epoch 87/150\n",
      "6/6 [==============================] - 0s 8ms/step - loss: 0.4665 - accuracy: 0.7929 - recall_5: 0.7105 - precision_5: 0.8060 - val_loss: 0.4889 - val_accuracy: 0.7907 - val_recall_5: 0.8095 - val_precision_5: 0.7727\n",
      "Epoch 88/150\n",
      "6/6 [==============================] - 0s 8ms/step - loss: 0.4051 - accuracy: 0.8107 - recall_5: 0.7105 - precision_5: 0.8438 - val_loss: 0.4924 - val_accuracy: 0.7907 - val_recall_5: 0.8095 - val_precision_5: 0.7727\n",
      "Epoch 89/150\n",
      "6/6 [==============================] - 0s 8ms/step - loss: 0.4224 - accuracy: 0.7751 - recall_5: 0.7500 - precision_5: 0.7500 - val_loss: 0.4970 - val_accuracy: 0.7907 - val_recall_5: 0.8095 - val_precision_5: 0.7727\n",
      "Epoch 90/150\n",
      "6/6 [==============================] - 0s 7ms/step - loss: 0.4140 - accuracy: 0.8047 - recall_5: 0.7105 - precision_5: 0.8308 - val_loss: 0.5011 - val_accuracy: 0.7907 - val_recall_5: 0.8095 - val_precision_5: 0.7727\n",
      "Epoch 91/150\n",
      "6/6 [==============================] - 0s 8ms/step - loss: 0.4404 - accuracy: 0.8166 - recall_5: 0.7763 - precision_5: 0.8082 - val_loss: 0.5013 - val_accuracy: 0.7907 - val_recall_5: 0.8095 - val_precision_5: 0.7727\n",
      "Epoch 92/150\n",
      "6/6 [==============================] - 0s 8ms/step - loss: 0.4171 - accuracy: 0.8462 - recall_5: 0.8158 - precision_5: 0.8378 - val_loss: 0.5021 - val_accuracy: 0.7907 - val_recall_5: 0.8095 - val_precision_5: 0.7727\n",
      "Epoch 93/150\n",
      "6/6 [==============================] - 0s 8ms/step - loss: 0.4075 - accuracy: 0.8225 - recall_5: 0.7632 - precision_5: 0.8286 - val_loss: 0.5051 - val_accuracy: 0.7907 - val_recall_5: 0.8095 - val_precision_5: 0.7727\n",
      "Epoch 94/150\n",
      "6/6 [==============================] - 0s 11ms/step - loss: 0.3970 - accuracy: 0.8284 - recall_5: 0.7632 - precision_5: 0.8406 - val_loss: 0.5078 - val_accuracy: 0.7907 - val_recall_5: 0.8095 - val_precision_5: 0.7727\n",
      "Epoch 95/150\n",
      "6/6 [==============================] - 0s 8ms/step - loss: 0.4041 - accuracy: 0.8343 - recall_5: 0.7895 - precision_5: 0.8333 - val_loss: 0.5103 - val_accuracy: 0.7907 - val_recall_5: 0.8095 - val_precision_5: 0.7727\n",
      "Epoch 96/150\n",
      "6/6 [==============================] - 0s 8ms/step - loss: 0.4126 - accuracy: 0.8521 - recall_5: 0.7895 - precision_5: 0.8696 - val_loss: 0.5100 - val_accuracy: 0.7907 - val_recall_5: 0.8095 - val_precision_5: 0.7727\n",
      "Epoch 97/150\n",
      "6/6 [==============================] - 0s 8ms/step - loss: 0.3842 - accuracy: 0.8521 - recall_5: 0.8026 - precision_5: 0.8592 - val_loss: 0.5094 - val_accuracy: 0.7907 - val_recall_5: 0.8095 - val_precision_5: 0.7727\n",
      "Epoch 98/150\n",
      "6/6 [==============================] - 0s 8ms/step - loss: 0.3880 - accuracy: 0.8107 - recall_5: 0.6974 - precision_5: 0.8548 - val_loss: 0.5106 - val_accuracy: 0.7674 - val_recall_5: 0.7619 - val_precision_5: 0.7619\n",
      "Epoch 99/150\n",
      "6/6 [==============================] - 0s 7ms/step - loss: 0.4318 - accuracy: 0.8047 - recall_5: 0.7500 - precision_5: 0.8028 - val_loss: 0.5119 - val_accuracy: 0.7907 - val_recall_5: 0.8095 - val_precision_5: 0.7727\n",
      "Epoch 100/150\n",
      "6/6 [==============================] - 0s 8ms/step - loss: 0.4533 - accuracy: 0.7870 - recall_5: 0.7237 - precision_5: 0.7857 - val_loss: 0.5117 - val_accuracy: 0.7907 - val_recall_5: 0.8095 - val_precision_5: 0.7727\n",
      "Epoch 101/150\n",
      "6/6 [==============================] - 0s 7ms/step - loss: 0.4398 - accuracy: 0.8343 - recall_5: 0.7895 - precision_5: 0.8333 - val_loss: 0.5117 - val_accuracy: 0.7907 - val_recall_5: 0.8095 - val_precision_5: 0.7727\n",
      "Epoch 102/150\n",
      "6/6 [==============================] - 0s 8ms/step - loss: 0.4120 - accuracy: 0.7988 - recall_5: 0.7500 - precision_5: 0.7917 - val_loss: 0.5100 - val_accuracy: 0.7907 - val_recall_5: 0.8095 - val_precision_5: 0.7727\n",
      "Epoch 103/150\n",
      "6/6 [==============================] - 0s 8ms/step - loss: 0.4241 - accuracy: 0.8343 - recall_5: 0.7763 - precision_5: 0.8429 - val_loss: 0.5091 - val_accuracy: 0.7907 - val_recall_5: 0.8095 - val_precision_5: 0.7727\n",
      "Epoch 104/150\n",
      "6/6 [==============================] - 0s 8ms/step - loss: 0.4778 - accuracy: 0.8107 - recall_5: 0.6974 - precision_5: 0.8548 - val_loss: 0.5090 - val_accuracy: 0.7674 - val_recall_5: 0.7619 - val_precision_5: 0.7619\n",
      "Epoch 105/150\n",
      "6/6 [==============================] - 0s 8ms/step - loss: 0.4068 - accuracy: 0.8284 - recall_5: 0.7500 - precision_5: 0.8507 - val_loss: 0.5050 - val_accuracy: 0.7674 - val_recall_5: 0.7619 - val_precision_5: 0.7619\n",
      "Epoch 106/150\n",
      "6/6 [==============================] - 0s 7ms/step - loss: 0.3962 - accuracy: 0.8284 - recall_5: 0.7368 - precision_5: 0.8615 - val_loss: 0.5059 - val_accuracy: 0.7674 - val_recall_5: 0.7619 - val_precision_5: 0.7619\n",
      "Epoch 107/150\n",
      "6/6 [==============================] - 0s 8ms/step - loss: 0.4102 - accuracy: 0.7870 - recall_5: 0.6974 - precision_5: 0.8030 - val_loss: 0.5087 - val_accuracy: 0.7674 - val_recall_5: 0.7619 - val_precision_5: 0.7619\n",
      "Epoch 108/150\n",
      "6/6 [==============================] - 0s 8ms/step - loss: 0.4284 - accuracy: 0.7929 - recall_5: 0.7105 - precision_5: 0.8060 - val_loss: 0.5141 - val_accuracy: 0.7674 - val_recall_5: 0.7619 - val_precision_5: 0.7619\n",
      "Epoch 109/150\n",
      "6/6 [==============================] - 0s 8ms/step - loss: 0.4210 - accuracy: 0.7870 - recall_5: 0.7105 - precision_5: 0.7941 - val_loss: 0.5159 - val_accuracy: 0.7674 - val_recall_5: 0.7619 - val_precision_5: 0.7619\n",
      "Epoch 110/150\n",
      "6/6 [==============================] - 0s 8ms/step - loss: 0.4176 - accuracy: 0.8343 - recall_5: 0.7763 - precision_5: 0.8429 - val_loss: 0.5157 - val_accuracy: 0.7674 - val_recall_5: 0.7619 - val_precision_5: 0.7619\n",
      "Epoch 111/150\n",
      "6/6 [==============================] - 0s 7ms/step - loss: 0.4036 - accuracy: 0.8166 - recall_5: 0.7368 - precision_5: 0.8358 - val_loss: 0.5141 - val_accuracy: 0.7674 - val_recall_5: 0.7619 - val_precision_5: 0.7619\n",
      "Epoch 112/150\n",
      "6/6 [==============================] - 0s 8ms/step - loss: 0.4374 - accuracy: 0.8462 - recall_5: 0.7763 - precision_5: 0.8676 - val_loss: 0.5106 - val_accuracy: 0.7674 - val_recall_5: 0.7619 - val_precision_5: 0.7619\n",
      "Epoch 113/150\n",
      "6/6 [==============================] - 0s 9ms/step - loss: 0.4038 - accuracy: 0.7988 - recall_5: 0.6974 - precision_5: 0.8281 - val_loss: 0.5167 - val_accuracy: 0.7674 - val_recall_5: 0.7619 - val_precision_5: 0.7619\n",
      "Epoch 114/150\n",
      "6/6 [==============================] - 0s 8ms/step - loss: 0.4342 - accuracy: 0.7811 - recall_5: 0.6711 - precision_5: 0.8095 - val_loss: 0.5227 - val_accuracy: 0.7907 - val_recall_5: 0.8095 - val_precision_5: 0.7727\n",
      "Epoch 115/150\n",
      "6/6 [==============================] - 0s 8ms/step - loss: 0.3810 - accuracy: 0.8343 - recall_5: 0.7895 - precision_5: 0.8333 - val_loss: 0.5285 - val_accuracy: 0.7907 - val_recall_5: 0.8095 - val_precision_5: 0.7727\n",
      "Epoch 116/150\n",
      "6/6 [==============================] - 0s 8ms/step - loss: 0.4304 - accuracy: 0.8343 - recall_5: 0.7500 - precision_5: 0.8636 - val_loss: 0.5317 - val_accuracy: 0.7907 - val_recall_5: 0.8095 - val_precision_5: 0.7727\n",
      "Epoch 117/150\n",
      "6/6 [==============================] - 0s 8ms/step - loss: 0.4216 - accuracy: 0.8402 - recall_5: 0.7763 - precision_5: 0.8551 - val_loss: 0.5228 - val_accuracy: 0.7907 - val_recall_5: 0.8095 - val_precision_5: 0.7727\n",
      "Epoch 118/150\n",
      "6/6 [==============================] - 0s 8ms/step - loss: 0.3978 - accuracy: 0.8462 - recall_5: 0.8026 - precision_5: 0.8472 - val_loss: 0.5159 - val_accuracy: 0.7907 - val_recall_5: 0.8095 - val_precision_5: 0.7727\n",
      "Epoch 119/150\n",
      "6/6 [==============================] - 0s 8ms/step - loss: 0.3999 - accuracy: 0.8284 - recall_5: 0.7632 - precision_5: 0.8406 - val_loss: 0.5149 - val_accuracy: 0.7907 - val_recall_5: 0.8095 - val_precision_5: 0.7727\n",
      "Epoch 120/150\n",
      "6/6 [==============================] - 0s 8ms/step - loss: 0.3919 - accuracy: 0.8639 - recall_5: 0.7895 - precision_5: 0.8955 - val_loss: 0.5165 - val_accuracy: 0.7907 - val_recall_5: 0.8095 - val_precision_5: 0.7727\n",
      "Epoch 121/150\n",
      "6/6 [==============================] - 0s 8ms/step - loss: 0.3786 - accuracy: 0.8225 - recall_5: 0.7500 - precision_5: 0.8382 - val_loss: 0.5196 - val_accuracy: 0.7907 - val_recall_5: 0.8095 - val_precision_5: 0.7727\n",
      "Epoch 122/150\n",
      "6/6 [==============================] - 0s 8ms/step - loss: 0.3838 - accuracy: 0.8402 - recall_5: 0.7632 - precision_5: 0.8657 - val_loss: 0.5216 - val_accuracy: 0.7674 - val_recall_5: 0.7619 - val_precision_5: 0.7619\n",
      "Epoch 123/150\n",
      "6/6 [==============================] - 0s 8ms/step - loss: 0.4030 - accuracy: 0.8402 - recall_5: 0.7500 - precision_5: 0.8769 - val_loss: 0.5235 - val_accuracy: 0.7674 - val_recall_5: 0.7619 - val_precision_5: 0.7619\n",
      "Epoch 124/150\n",
      "6/6 [==============================] - 0s 7ms/step - loss: 0.3812 - accuracy: 0.8521 - recall_5: 0.7763 - precision_5: 0.8806 - val_loss: 0.5237 - val_accuracy: 0.7674 - val_recall_5: 0.7619 - val_precision_5: 0.7619\n",
      "Epoch 125/150\n",
      "6/6 [==============================] - 0s 7ms/step - loss: 0.3770 - accuracy: 0.8521 - recall_5: 0.7632 - precision_5: 0.8923 - val_loss: 0.5271 - val_accuracy: 0.7674 - val_recall_5: 0.7619 - val_precision_5: 0.7619\n",
      "Epoch 126/150\n",
      "6/6 [==============================] - 0s 8ms/step - loss: 0.3913 - accuracy: 0.8284 - recall_5: 0.7368 - precision_5: 0.8615 - val_loss: 0.5326 - val_accuracy: 0.7674 - val_recall_5: 0.7619 - val_precision_5: 0.7619\n",
      "Epoch 127/150\n",
      "6/6 [==============================] - 0s 8ms/step - loss: 0.4047 - accuracy: 0.8462 - recall_5: 0.7763 - precision_5: 0.8676 - val_loss: 0.5362 - val_accuracy: 0.7674 - val_recall_5: 0.7619 - val_precision_5: 0.7619\n",
      "Epoch 128/150\n",
      "6/6 [==============================] - 0s 8ms/step - loss: 0.4213 - accuracy: 0.8107 - recall_5: 0.7105 - precision_5: 0.8438 - val_loss: 0.5371 - val_accuracy: 0.7674 - val_recall_5: 0.7619 - val_precision_5: 0.7619\n",
      "Epoch 129/150\n",
      "6/6 [==============================] - 0s 8ms/step - loss: 0.4083 - accuracy: 0.8284 - recall_5: 0.7368 - precision_5: 0.8615 - val_loss: 0.5373 - val_accuracy: 0.7674 - val_recall_5: 0.7619 - val_precision_5: 0.7619\n",
      "Epoch 130/150\n",
      "6/6 [==============================] - 0s 8ms/step - loss: 0.3954 - accuracy: 0.8402 - recall_5: 0.7368 - precision_5: 0.8889 - val_loss: 0.5443 - val_accuracy: 0.7907 - val_recall_5: 0.8095 - val_precision_5: 0.7727\n",
      "Epoch 131/150\n",
      "6/6 [==============================] - 0s 8ms/step - loss: 0.3649 - accuracy: 0.8580 - recall_5: 0.7763 - precision_5: 0.8939 - val_loss: 0.5494 - val_accuracy: 0.7907 - val_recall_5: 0.8095 - val_precision_5: 0.7727\n",
      "Epoch 132/150\n",
      "6/6 [==============================] - 0s 8ms/step - loss: 0.3930 - accuracy: 0.7988 - recall_5: 0.7237 - precision_5: 0.8088 - val_loss: 0.5511 - val_accuracy: 0.7907 - val_recall_5: 0.8095 - val_precision_5: 0.7727\n",
      "Epoch 133/150\n",
      "6/6 [==============================] - 0s 8ms/step - loss: 0.4113 - accuracy: 0.8166 - recall_5: 0.7632 - precision_5: 0.8169 - val_loss: 0.5501 - val_accuracy: 0.7907 - val_recall_5: 0.8095 - val_precision_5: 0.7727\n",
      "Epoch 134/150\n",
      "6/6 [==============================] - 0s 8ms/step - loss: 0.3908 - accuracy: 0.8284 - recall_5: 0.7237 - precision_5: 0.8730 - val_loss: 0.5458 - val_accuracy: 0.7907 - val_recall_5: 0.8095 - val_precision_5: 0.7727\n",
      "Epoch 135/150\n",
      "6/6 [==============================] - 0s 8ms/step - loss: 0.3902 - accuracy: 0.8107 - recall_5: 0.7368 - precision_5: 0.8235 - val_loss: 0.5425 - val_accuracy: 0.7674 - val_recall_5: 0.7619 - val_precision_5: 0.7619\n",
      "Epoch 136/150\n",
      "6/6 [==============================] - 0s 7ms/step - loss: 0.4006 - accuracy: 0.8284 - recall_5: 0.7500 - precision_5: 0.8507 - val_loss: 0.5417 - val_accuracy: 0.7674 - val_recall_5: 0.7619 - val_precision_5: 0.7619\n",
      "Epoch 137/150\n",
      "6/6 [==============================] - 0s 11ms/step - loss: 0.4075 - accuracy: 0.8047 - recall_5: 0.7105 - precision_5: 0.8308 - val_loss: 0.5390 - val_accuracy: 0.7674 - val_recall_5: 0.7619 - val_precision_5: 0.7619\n",
      "Epoch 138/150\n",
      "6/6 [==============================] - 0s 8ms/step - loss: 0.3997 - accuracy: 0.8343 - recall_5: 0.7500 - precision_5: 0.8636 - val_loss: 0.5387 - val_accuracy: 0.7674 - val_recall_5: 0.7619 - val_precision_5: 0.7619\n",
      "Epoch 139/150\n",
      "6/6 [==============================] - 0s 7ms/step - loss: 0.4034 - accuracy: 0.8284 - recall_5: 0.7632 - precision_5: 0.8406 - val_loss: 0.5386 - val_accuracy: 0.7674 - val_recall_5: 0.7619 - val_precision_5: 0.7619\n",
      "Epoch 140/150\n",
      "6/6 [==============================] - 0s 8ms/step - loss: 0.3991 - accuracy: 0.8343 - recall_5: 0.7368 - precision_5: 0.8750 - val_loss: 0.5381 - val_accuracy: 0.7674 - val_recall_5: 0.7619 - val_precision_5: 0.7619\n",
      "Epoch 141/150\n",
      "6/6 [==============================] - 0s 7ms/step - loss: 0.4211 - accuracy: 0.8107 - recall_5: 0.7237 - precision_5: 0.8333 - val_loss: 0.5424 - val_accuracy: 0.7674 - val_recall_5: 0.7619 - val_precision_5: 0.7619\n",
      "Epoch 142/150\n",
      "6/6 [==============================] - 0s 8ms/step - loss: 0.3595 - accuracy: 0.8343 - recall_5: 0.7105 - precision_5: 0.9000 - val_loss: 0.5456 - val_accuracy: 0.7674 - val_recall_5: 0.7619 - val_precision_5: 0.7619\n",
      "Epoch 143/150\n"
     ]
    },
    {
     "name": "stdout",
     "output_type": "stream",
     "text": [
      "6/6 [==============================] - 0s 8ms/step - loss: 0.3933 - accuracy: 0.8284 - recall_5: 0.7368 - precision_5: 0.8615 - val_loss: 0.5486 - val_accuracy: 0.7674 - val_recall_5: 0.7619 - val_precision_5: 0.7619\n",
      "Epoch 144/150\n",
      "6/6 [==============================] - 0s 8ms/step - loss: 0.3689 - accuracy: 0.8225 - recall_5: 0.7632 - precision_5: 0.8286 - val_loss: 0.5471 - val_accuracy: 0.7674 - val_recall_5: 0.7619 - val_precision_5: 0.7619\n",
      "Epoch 145/150\n",
      "6/6 [==============================] - 0s 8ms/step - loss: 0.3678 - accuracy: 0.8639 - recall_5: 0.7763 - precision_5: 0.9077 - val_loss: 0.5449 - val_accuracy: 0.7442 - val_recall_5: 0.7143 - val_precision_5: 0.7500\n",
      "Epoch 146/150\n",
      "6/6 [==============================] - 0s 8ms/step - loss: 0.4151 - accuracy: 0.8225 - recall_5: 0.7368 - precision_5: 0.8485 - val_loss: 0.5455 - val_accuracy: 0.7442 - val_recall_5: 0.7143 - val_precision_5: 0.7500\n",
      "Epoch 147/150\n",
      "6/6 [==============================] - 0s 7ms/step - loss: 0.4125 - accuracy: 0.8462 - recall_5: 0.7368 - precision_5: 0.9032 - val_loss: 0.5495 - val_accuracy: 0.7674 - val_recall_5: 0.7619 - val_precision_5: 0.7619\n",
      "Epoch 148/150\n",
      "6/6 [==============================] - 0s 8ms/step - loss: 0.4314 - accuracy: 0.7988 - recall_5: 0.7237 - precision_5: 0.8088 - val_loss: 0.5483 - val_accuracy: 0.7442 - val_recall_5: 0.7143 - val_precision_5: 0.7500\n",
      "Epoch 149/150\n",
      "6/6 [==============================] - 0s 8ms/step - loss: 0.3923 - accuracy: 0.8166 - recall_5: 0.7500 - precision_5: 0.8261 - val_loss: 0.5462 - val_accuracy: 0.7442 - val_recall_5: 0.7143 - val_precision_5: 0.7500\n",
      "Epoch 150/150\n",
      "6/6 [==============================] - 0s 8ms/step - loss: 0.3693 - accuracy: 0.8284 - recall_5: 0.7500 - precision_5: 0.8507 - val_loss: 0.5480 - val_accuracy: 0.7442 - val_recall_5: 0.7143 - val_precision_5: 0.7500\n",
      "CPU times: total: 10.4 s\n",
      "Wall time: 7.96 s\n"
     ]
    }
   ],
   "source": [
    "%%time\n",
    "#  ■■■■■■■■■■■■■■■■■■■■■■■■■■■■■■■■■■■■■■■■■■■■■■\n",
    "hist = model.fit(X_train,y_train, # 훈련데이터\n",
    "                epochs=150,\n",
    "                validation_split=0.2, # 검증데이터를 훈련데이터의 20%로 사용\n",
    "                verbose=1)"
   ]
  },
  {
   "cell_type": "markdown",
   "id": "91ff8aae",
   "metadata": {},
   "source": [
    "## 3. 모델 평가(그래프, 평가, 교차표)"
   ]
  },
  {
   "cell_type": "code",
   "execution_count": 53,
   "id": "51565c9e",
   "metadata": {},
   "outputs": [
    {
     "data": {
      "text/plain": [
       "[<matplotlib.lines.Line2D at 0x259eb842560>]"
      ]
     },
     "execution_count": 53,
     "metadata": {},
     "output_type": "execute_result"
    },
    {
     "data": {
      "image/png": "[encoded data removed]",
      "text/plain": [
       "<Figure size 1000x500 with 2 Axes>"
      ]
     },
     "metadata": {},
     "output_type": "display_data"
    }
   ],
   "source": [
    "fig, loss_ax = plt.subplots(figsize=(10,5))\n",
    "loss_ax.plot(hist.history['loss'], 'r')\n",
    "acc_ax = loss_ax.twinx() \n",
    "acc_ax.plot(hist.history.get('accuracy'), 'b')"
   ]
  },
  {
   "cell_type": "code",
   "execution_count": 82,
   "id": "73141750",
   "metadata": {},
   "outputs": [
    {
     "data": {
      "text/plain": [
       "dict_keys(['loss', 'accuracy', 'recall_5', 'precision_5', 'val_loss', 'val_accuracy', 'val_recall_5', 'val_precision_5'])"
      ]
     },
     "execution_count": 82,
     "metadata": {},
     "output_type": "execute_result"
    }
   ],
   "source": [
    "hist.history.keys()"
   ]
  },
  {
   "cell_type": "code",
   "execution_count": 83,
   "id": "318c9b51",
   "metadata": {},
   "outputs": [
    {
     "data": {
      "image/png": "[encoded data removed]",
      "text/plain": [
       "<Figure size 1200x600 with 2 Axes>"
      ]
     },
     "metadata": {},
     "output_type": "display_data"
    }
   ],
   "source": [
    "#  ■■■■■■■■■■■■■■■■■■■■■■■■■■■■■■■■■■■■■■■■■■■■■■\n",
    "fig, loss_ax = plt.subplots(figsize=(12,6))\n",
    "loss_ax.plot(hist.history['loss'], 'y', label='train loss')\n",
    "loss_ax.plot(hist.history['val_loss'], 'k', label='val loss')\n",
    "acc_ax = loss_ax.twinx()\n",
    "acc_ax.plot(hist.history['accuracy'], 'y', label='train accuracy')\n",
    "acc_ax.plot(hist.history['recall_5'], 'y', label='train recall_5')\n",
    "acc_ax.plot(hist.history['precision_5'], 'y', label='train precision_5')\n",
    "acc_ax.plot(hist.history['val_accuracy'], 'r', label='val accuracy')\n",
    "acc_ax.plot(hist.history['val_recall_5'], 'g', label='val recall_5')\n",
    "acc_ax.plot(hist.history['val_precision_5'], 'b', label='val precision_5')\n",
    "loss_ax.set_xlabel('epochs')\n",
    "loss_ax.set_ylabel('loss')\n",
    "acc_ax.set_ylabel('accuracy')\n",
    "loss_ax.legend(loc='center right')\n",
    "acc_ax.legend()\n",
    "plt.show()"
   ]
  },
  {
   "cell_type": "code",
   "execution_count": 84,
   "id": "df18eae2",
   "metadata": {},
   "outputs": [
    {
     "name": "stdout",
     "output_type": "stream",
     "text": [
      "model loss :  0.3510476052761078\n",
      "model accuracy :  0.8461538553237915\n",
      "model recall :  0.8571428656578064\n",
      "model precision :  0.8181818127632141\n"
     ]
    }
   ],
   "source": [
    "#  ■■■■■■■■■■■■■■■■■■■■■■■■■■■■■■■■■■■■■■■■■■■■■■\n",
    "score = model.evaluate(X_test, y_test, verbose=0)\n",
    "print('model loss : ', score[0])\n",
    "print('model accuracy : ', score[1])\n",
    "print('model recall : ', score[2])\n",
    "print('model precision : ', score[3])"
   ]
  },
  {
   "cell_type": "code",
   "execution_count": 85,
   "id": "ecdecce4",
   "metadata": {},
   "outputs": [
    {
     "data": {
      "text/plain": [
       "array([1, 1, 0, 1, 1, 0, 0, 0, 0, 0, 0, 0, 0, 0, 1, 0, 1, 1, 1, 0, 0, 0,\n",
       "       0, 0, 0, 1, 1, 0, 1, 1, 0, 0, 1, 1, 0, 0, 0, 0, 1, 1, 1, 1, 0, 0,\n",
       "       1, 0, 1, 1, 1, 0, 1, 0, 0, 0, 1, 0, 0, 0, 1, 1, 1, 1, 1, 0, 0, 0,\n",
       "       1, 0, 1, 1, 0, 1, 0, 1, 0, 0, 1, 0, 1, 1, 0, 1, 1, 0, 0, 1, 1, 0,\n",
       "       1, 0, 0], dtype=int64)"
      ]
     },
     "execution_count": 85,
     "metadata": {},
     "output_type": "execute_result"
    }
   ],
   "source": [
    "#  ■■■■■■■■■■■■■■■■■■■■■■■■■■■■■■■■■■■■■■■■■■■■■■\n",
    "y_test.reshape(-1) # 실제값"
   ]
  },
  {
   "cell_type": "code",
   "execution_count": 11,
   "id": "74350077",
   "metadata": {
    "scrolled": true
   },
   "outputs": [
    {
     "name": "stdout",
     "output_type": "stream",
     "text": [
      "2/2 [==============================] - 0s 4ms/step - loss: 1.7296 - binary_accuracy: 0.7541\n"
     ]
    },
    {
     "data": {
      "text/plain": [
       "[1.7295868396759033, 0.7540983557701111]"
      ]
     },
     "execution_count": 11,
     "metadata": {},
     "output_type": "execute_result"
    }
   ],
   "source": [
    "model.evaluate(X_test, y_test)"
   ]
  },
  {
   "cell_type": "code",
   "execution_count": 89,
   "id": "2bd02f78",
   "metadata": {
    "scrolled": true
   },
   "outputs": [
    {
     "name": "stdout",
     "output_type": "stream",
     "text": [
      "3/3 [==============================] - 0s 2ms/step\n"
     ]
    },
    {
     "data": {
      "text/html": [
       "<div>\n",
       "<style scoped>\n",
       "    .dataframe tbody tr th:only-of-type {\n",
       "        vertical-align: middle;\n",
       "    }\n",
       "\n",
       "    .dataframe tbody tr th {\n",
       "        vertical-align: top;\n",
       "    }\n",
       "\n",
       "    .dataframe thead th {\n",
       "        text-align: right;\n",
       "    }\n",
       "</style>\n",
       "<table border=\"1\" class=\"dataframe\">\n",
       "  <thead>\n",
       "    <tr style=\"text-align: right;\">\n",
       "      <th>예측값</th>\n",
       "      <th>0</th>\n",
       "      <th>1</th>\n",
       "    </tr>\n",
       "    <tr>\n",
       "      <th>실제값</th>\n",
       "      <th></th>\n",
       "      <th></th>\n",
       "    </tr>\n",
       "  </thead>\n",
       "  <tbody>\n",
       "    <tr>\n",
       "      <th>0</th>\n",
       "      <td>41</td>\n",
       "      <td>8</td>\n",
       "    </tr>\n",
       "    <tr>\n",
       "      <th>1</th>\n",
       "      <td>6</td>\n",
       "      <td>36</td>\n",
       "    </tr>\n",
       "  </tbody>\n",
       "</table>\n",
       "</div>"
      ],
      "text/plain": [
       "예측값   0   1\n",
       "실제값        \n",
       "0    41   8\n",
       "1     6  36"
      ]
     },
     "execution_count": 89,
     "metadata": {},
     "output_type": "execute_result"
    }
   ],
   "source": [
    "#  ■■■■■■■■■■■■■■■■■■■■■■■■■■■■■■■■■■■■■■■■■■■■■■\n",
    "y_hat = (model.predict(X_test)>0.5).astype(int).reshape(-1)\n",
    "pd.crosstab(y_test.reshape(-1), y_hat, \n",
    "           rownames=['실제값'], colnames=['예측값'])"
   ]
  },
  {
   "cell_type": "code",
   "execution_count": 12,
   "id": "86749bf7",
   "metadata": {
    "scrolled": true
   },
   "outputs": [
    {
     "name": "stdout",
     "output_type": "stream",
     "text": [
      "2/2 [==============================] - 0s 2ms/step\n"
     ]
    }
   ],
   "source": [
    "y_hat = (model.predict(X_test)>=0.5).astype(float)"
   ]
  },
  {
   "cell_type": "markdown",
   "id": "d23ddc55",
   "metadata": {},
   "source": [
    "## 4. 모델 사용(저장, 예측)"
   ]
  },
  {
   "cell_type": "code",
   "execution_count": 90,
   "id": "e6e69235",
   "metadata": {},
   "outputs": [],
   "source": [
    "#  ■■■■■■■■■■■■■■■■■■■■■■■■■■■■■■■■■■■■■■■■■■■■■■\n",
    "model.save('model/07heaer.h5')\n",
    "save_model(model, 'model/07heaer.h5')"
   ]
  },
  {
   "cell_type": "code",
   "execution_count": 91,
   "id": "5a08c305",
   "metadata": {},
   "outputs": [],
   "source": [
    "model2 = load_model('model/07heaer.h5')"
   ]
  },
  {
   "cell_type": "code",
   "execution_count": null,
   "id": "00649486",
   "metadata": {},
   "outputs": [],
   "source": []
  },
  {
   "cell_type": "code",
   "execution_count": null,
   "id": "6371622c",
   "metadata": {},
   "outputs": [],
   "source": []
  },
  {
   "cell_type": "markdown",
   "id": "0de77ae4",
   "metadata": {},
   "source": [
    "# 분류분석\n",
    "```\n",
    "1. 데이터 셋 생성 & 전처리\n",
    " 엑셀 -> 데이터프레임 -> ?처리(df.replace('?',np.nan) -> 결측치 처리\n",
    " -> X, y 분리 -> X변수 스케일 조정 -> train_test_split함수로 학습셋과 테스트셋 분리\n",
    " -> y 변수들의 원핫인코딩\n",
    "2. 모델 생성(입력13, 출력 2) & 학습과정 설정 & 학습\n",
    "3. 모델 평가(그래프, 평가, 교차표)\n",
    "4. 모델 사용(저장, 예측)\n",
    "```"
   ]
  },
  {
   "cell_type": "markdown",
   "id": "cb54dff0",
   "metadata": {},
   "source": [
    "## 1. 데이터 셋 생성 & 전처리\n",
    "    - 위와동일+원핫인코딩     "
   ]
  },
  {
   "cell_type": "code",
   "execution_count": 92,
   "id": "25c78cc7",
   "metadata": {},
   "outputs": [
    {
     "data": {
      "text/plain": [
       "((212, 2), (91, 2))"
      ]
     },
     "execution_count": 92,
     "metadata": {},
     "output_type": "execute_result"
    }
   ],
   "source": [
    "Y_train = to_categorical(y_train)\n",
    "Y_test = to_categorical(y_test)\n",
    "Y_train.shape, Y_test.shape"
   ]
  },
  {
   "cell_type": "markdown",
   "id": "2de3c806",
   "metadata": {},
   "source": [
    "## 2. 모델 생성(입력13, 출력2) & 학습과정 설정 & 학습"
   ]
  },
  {
   "cell_type": "code",
   "execution_count": 94,
   "id": "ff116988",
   "metadata": {},
   "outputs": [
    {
     "name": "stdout",
     "output_type": "stream",
     "text": [
      "Model: \"sequential_9\"\n",
      "_________________________________________________________________\n",
      " Layer (type)                Output Shape              Param #   \n",
      "=================================================================\n",
      " dense_42 (Dense)            (None, 32)                448       \n",
      "                                                                 \n",
      " dropout_13 (Dropout)        (None, 32)                0         \n",
      "                                                                 \n",
      " dense_43 (Dense)            (None, 16)                528       \n",
      "                                                                 \n",
      " dropout_14 (Dropout)        (None, 16)                0         \n",
      "                                                                 \n",
      " dense_44 (Dense)            (None, 8)                 136       \n",
      "                                                                 \n",
      " dropout_15 (Dropout)        (None, 8)                 0         \n",
      "                                                                 \n",
      " dense_45 (Dense)            (None, 2)                 18        \n",
      "                                                                 \n",
      "=================================================================\n",
      "Total params: 1,130\n",
      "Trainable params: 1,130\n",
      "Non-trainable params: 0\n",
      "_________________________________________________________________\n"
     ]
    }
   ],
   "source": [
    "model = Sequential()\n",
    "# model.add(Input(shape=(13,)))\n",
    "model.add(Dense(units=32, \n",
    "                input_dim=13,\n",
    "                activation='tanh'))\n",
    "model.add(Dropout(0.3))\n",
    "model.add(Dense(units=16, activation='relu'))\n",
    "model.add(Dropout(0.3))\n",
    "model.add(Dense(units=8, activation='relu'))\n",
    "model.add(Dropout(0.3))\n",
    "#model.add(Dense(units=1,  activation='sigmoid'))\n",
    "model.add(Dense(units=2,  activation='softmax'))\n",
    "model.summary()"
   ]
  },
  {
   "cell_type": "code",
   "execution_count": 97,
   "id": "3d65183a",
   "metadata": {},
   "outputs": [],
   "source": [
    "from tensorflow.keras import metrics\n",
    "from tensorflow.keras.optimizers import Adam\n",
    "model.compile(loss='categorical_crossentropy',\n",
    "             # optimizer=Adam(learning_rate=0.01),\n",
    "             optimizer='adam',\n",
    "             metrics=['accuracy', # 정확도\n",
    "                      metrics.Recall(), # 재현율(실제값 중심)\n",
    "                      metrics.Precision()]) # 정밀도(예측값 중심)"
   ]
  },
  {
   "cell_type": "code",
   "execution_count": 98,
   "id": "a1fc5325",
   "metadata": {},
   "outputs": [
    {
     "name": "stdout",
     "output_type": "stream",
     "text": [
      "CPU times: total: 9.72 s\n",
      "Wall time: 8.18 s\n"
     ]
    }
   ],
   "source": [
    "%%time\n",
    "hist = model.fit(X_train, Y_train, # 훈련데이터\n",
    "                epochs=200,\n",
    "                validation_split=0.2, # 검증데이터를 훈련데이터의 20%로 사용\n",
    "                verbose=0)"
   ]
  },
  {
   "cell_type": "markdown",
   "id": "7eb9034b",
   "metadata": {},
   "source": [
    "## 3. 모델 평가(그래프, 평가, 교차표)"
   ]
  },
  {
   "cell_type": "code",
   "execution_count": 99,
   "id": "7d88b886",
   "metadata": {},
   "outputs": [
    {
     "data": {
      "text/plain": [
       "dict_keys(['loss', 'accuracy', 'recall_7', 'precision_6', 'val_loss', 'val_accuracy', 'val_recall_7', 'val_precision_6'])"
      ]
     },
     "execution_count": 99,
     "metadata": {},
     "output_type": "execute_result"
    }
   ],
   "source": [
    "hist.history.keys()"
   ]
  },
  {
   "cell_type": "code",
   "execution_count": 100,
   "id": "c2050cb2",
   "metadata": {},
   "outputs": [
    {
     "data": {
      "image/png": "[encoded data removed]",
      "text/plain": [
       "<Figure size 1200x600 with 2 Axes>"
      ]
     },
     "metadata": {},
     "output_type": "display_data"
    }
   ],
   "source": [
    "fig, loss_ax = plt.subplots(figsize=(12,6))\n",
    "loss_ax.plot(hist.history['loss'], 'y', label='train loss')\n",
    "loss_ax.plot(hist.history['val_loss'], 'r', label='val loss')\n",
    "acc_ax = loss_ax.twinx()\n",
    "acc_ax.plot(hist.history['accuracy'], 'g', label='train accuracy')\n",
    "acc_ax.plot(hist.history['val_accuracy'], 'b', label='val accuracy')\n",
    "loss_ax.set_xlabel('epochs')\n",
    "loss_ax.set_ylabel('loss')\n",
    "acc_ax.set_ylabel('accuracy')\n",
    "loss_ax.legend(loc='center right')\n",
    "acc_ax.legend()\n",
    "plt.show()"
   ]
  },
  {
   "cell_type": "code",
   "execution_count": 102,
   "id": "efba6b0c",
   "metadata": {},
   "outputs": [
    {
     "name": "stdout",
     "output_type": "stream",
     "text": [
      "model loss :  0.3661916255950928\n",
      "model accuracy :  0.8681318759918213\n",
      "model recall :  0.8681318759918213\n",
      "model precision :  0.8681318759918213\n"
     ]
    }
   ],
   "source": [
    "score = model.evaluate(X_test, Y_test, verbose=0)\n",
    "print('model loss : ', score[0])\n",
    "print('model accuracy : ', score[1])\n",
    "print('model recall : ', score[2])\n",
    "print('model precision : ', score[3])"
   ]
  },
  {
   "cell_type": "code",
   "execution_count": 103,
   "id": "a28e70c0",
   "metadata": {},
   "outputs": [
    {
     "name": "stdout",
     "output_type": "stream",
     "text": [
      "3/3 [==============================] - 0s 2ms/step\n"
     ]
    },
    {
     "data": {
      "text/plain": [
       "array([1, 1, 0, 1, 1, 0, 1, 0, 0, 0, 0, 0, 0, 0, 1, 0, 0, 1, 1, 0, 0, 0,\n",
       "       1, 1, 1, 1, 1, 0, 1, 1, 0, 0, 1, 1, 0, 0, 0, 0, 0, 1, 1, 1, 0, 0,\n",
       "       1, 0, 1, 0, 1, 1, 1, 0, 0, 1, 1, 0, 0, 0, 1, 1, 1, 1, 1, 0, 0, 0,\n",
       "       1, 0, 1, 1, 0, 0, 0, 0, 0, 0, 0, 0, 1, 1, 0, 1, 1, 0, 0, 1, 1, 0,\n",
       "       1, 0, 0], dtype=int64)"
      ]
     },
     "execution_count": 103,
     "metadata": {},
     "output_type": "execute_result"
    }
   ],
   "source": [
    "# 교차표\n",
    "y_hat = model.predict(X_test).argmax(axis=1)\n",
    "y_hat"
   ]
  },
  {
   "cell_type": "code",
   "execution_count": 104,
   "id": "0ac59d01",
   "metadata": {},
   "outputs": [
    {
     "data": {
      "text/html": [
       "<div>\n",
       "<style scoped>\n",
       "    .dataframe tbody tr th:only-of-type {\n",
       "        vertical-align: middle;\n",
       "    }\n",
       "\n",
       "    .dataframe tbody tr th {\n",
       "        vertical-align: top;\n",
       "    }\n",
       "\n",
       "    .dataframe thead th {\n",
       "        text-align: right;\n",
       "    }\n",
       "</style>\n",
       "<table border=\"1\" class=\"dataframe\">\n",
       "  <thead>\n",
       "    <tr style=\"text-align: right;\">\n",
       "      <th>예측값</th>\n",
       "      <th>0</th>\n",
       "      <th>1</th>\n",
       "    </tr>\n",
       "    <tr>\n",
       "      <th>실제값</th>\n",
       "      <th></th>\n",
       "      <th></th>\n",
       "    </tr>\n",
       "  </thead>\n",
       "  <tbody>\n",
       "    <tr>\n",
       "      <th>0</th>\n",
       "      <td>43</td>\n",
       "      <td>6</td>\n",
       "    </tr>\n",
       "    <tr>\n",
       "      <th>1</th>\n",
       "      <td>6</td>\n",
       "      <td>36</td>\n",
       "    </tr>\n",
       "  </tbody>\n",
       "</table>\n",
       "</div>"
      ],
      "text/plain": [
       "예측값   0   1\n",
       "실제값        \n",
       "0    43   6\n",
       "1     6  36"
      ]
     },
     "execution_count": 104,
     "metadata": {},
     "output_type": "execute_result"
    }
   ],
   "source": [
    "pd.crosstab(y_test.reshape(-1), y_hat,\n",
    "           rownames=['실제값'],\n",
    "           colnames=['예측값'])"
   ]
  },
  {
   "cell_type": "markdown",
   "id": "884faaee",
   "metadata": {},
   "source": [
    "## 4. 모델 사용(저장, 예측)"
   ]
  },
  {
   "cell_type": "code",
   "execution_count": null,
   "id": "381d8392",
   "metadata": {},
   "outputs": [],
   "source": []
  },
  {
   "cell_type": "code",
   "execution_count": null,
   "id": "b4ccc629",
   "metadata": {},
   "outputs": [],
   "source": []
  },
  {
   "cell_type": "code",
   "execution_count": null,
   "id": "94506f3c",
   "metadata": {},
   "outputs": [],
   "source": []
  },
  {
   "cell_type": "code",
   "execution_count": null,
   "id": "104b7663",
   "metadata": {},
   "outputs": [],
   "source": []
  },
  {
   "cell_type": "code",
   "execution_count": null,
   "id": "1d0c5c10",
   "metadata": {},
   "outputs": [],
   "source": []
  },
  {
   "cell_type": "code",
   "execution_count": null,
   "id": "cae0e18d",
   "metadata": {},
   "outputs": [],
   "source": []
  },
  {
   "cell_type": "code",
   "execution_count": null,
   "id": "38d946ba",
   "metadata": {},
   "outputs": [],
   "source": []
  },
  {
   "cell_type": "code",
   "execution_count": null,
   "id": "03f4a0d0",
   "metadata": {},
   "outputs": [],
   "source": []
  },
  {
   "cell_type": "code",
   "execution_count": null,
   "id": "db0506b0",
   "metadata": {},
   "outputs": [],
   "source": []
  },
  {
   "cell_type": "code",
   "execution_count": null,
   "id": "b32f657b",
   "metadata": {},
   "outputs": [],
   "source": []
  },
  {
   "cell_type": "code",
   "execution_count": null,
   "id": "42fce03c",
   "metadata": {},
   "outputs": [],
   "source": []
  },
  {
   "cell_type": "code",
   "execution_count": null,
   "id": "f823085a",
   "metadata": {},
   "outputs": [],
   "source": []
  },
  {
   "cell_type": "code",
   "execution_count": null,
   "id": "8557a959",
   "metadata": {},
   "outputs": [],
   "source": []
  },
  {
   "cell_type": "code",
   "execution_count": null,
   "id": "1b4a394b",
   "metadata": {},
   "outputs": [],
   "source": []
  },
  {
   "cell_type": "code",
   "execution_count": null,
   "id": "eb011b34",
   "metadata": {},
   "outputs": [],
   "source": []
  },
  {
   "cell_type": "code",
   "execution_count": null,
   "id": "7e729bd1",
   "metadata": {},
   "outputs": [],
   "source": []
  },
  {
   "cell_type": "code",
   "execution_count": null,
   "id": "6175b99e",
   "metadata": {},
   "outputs": [],
   "source": []
  },
  {
   "cell_type": "code",
   "execution_count": null,
   "id": "32dfd354",
   "metadata": {},
   "outputs": [],
   "source": []
  },
  {
   "cell_type": "code",
   "execution_count": null,
   "id": "7af752f4",
   "metadata": {},
   "outputs": [],
   "source": []
  },
  {
   "cell_type": "code",
   "execution_count": null,
   "id": "bb50beba",
   "metadata": {},
   "outputs": [],
   "source": []
  },
  {
   "cell_type": "code",
   "execution_count": null,
   "id": "08b550d9",
   "metadata": {},
   "outputs": [],
   "source": []
  },
  {
   "cell_type": "code",
   "execution_count": null,
   "id": "6ae0f1bd",
   "metadata": {},
   "outputs": [],
   "source": []
  },
  {
   "cell_type": "code",
   "execution_count": null,
   "id": "ede3a6f2",
   "metadata": {},
   "outputs": [],
   "source": []
  },
  {
   "cell_type": "code",
   "execution_count": null,
   "id": "84863cfc",
   "metadata": {},
   "outputs": [],
   "source": []
  },
  {
   "cell_type": "code",
   "execution_count": null,
   "id": "467435c6",
   "metadata": {},
   "outputs": [],
   "source": []
  },
  {
   "cell_type": "code",
   "execution_count": null,
   "id": "531354bd",
   "metadata": {},
   "outputs": [],
   "source": []
  },
  {
   "cell_type": "code",
   "execution_count": null,
   "id": "997df815",
   "metadata": {},
   "outputs": [],
   "source": []
  },
  {
   "cell_type": "code",
   "execution_count": null,
   "id": "46be840d",
   "metadata": {},
   "outputs": [],
   "source": []
  },
  {
   "cell_type": "code",
   "execution_count": null,
   "id": "d4e94752",
   "metadata": {},
   "outputs": [],
   "source": []
  },
  {
   "cell_type": "code",
   "execution_count": null,
   "id": "336c1ba2",
   "metadata": {},
   "outputs": [],
   "source": []
  },
  {
   "cell_type": "code",
   "execution_count": null,
   "id": "9e85760e",
   "metadata": {},
   "outputs": [],
   "source": []
  },
  {
   "cell_type": "code",
   "execution_count": null,
   "id": "737228e5",
   "metadata": {},
   "outputs": [],
   "source": []
  },
  {
   "cell_type": "code",
   "execution_count": null,
   "id": "02e107f2",
   "metadata": {},
   "outputs": [],
   "source": []
  },
  {
   "cell_type": "code",
   "execution_count": null,
   "id": "d053e267",
   "metadata": {},
   "outputs": [],
   "source": []
  },
  {
   "cell_type": "code",
   "execution_count": null,
   "id": "4881f0d5",
   "metadata": {},
   "outputs": [],
   "source": []
  },
  {
   "cell_type": "code",
   "execution_count": null,
   "id": "8a007916",
   "metadata": {},
   "outputs": [],
   "source": []
  },
  {
   "cell_type": "code",
   "execution_count": null,
   "id": "e1aa4958",
   "metadata": {},
   "outputs": [],
   "source": []
  },
  {
   "cell_type": "code",
   "execution_count": null,
   "id": "fe6b4271",
   "metadata": {},
   "outputs": [],
   "source": []
  },
  {
   "cell_type": "code",
   "execution_count": null,
   "id": "19489111",
   "metadata": {},
   "outputs": [],
   "source": []
  },
  {
   "cell_type": "code",
   "execution_count": null,
   "id": "686e15ca",
   "metadata": {},
   "outputs": [],
   "source": []
  },
  {
   "cell_type": "code",
   "execution_count": null,
   "id": "a116d6c3",
   "metadata": {},
   "outputs": [],
   "source": []
  },
  {
   "cell_type": "code",
   "execution_count": null,
   "id": "e9b2ac1f",
   "metadata": {},
   "outputs": [],
   "source": []
  },
  {
   "cell_type": "code",
   "execution_count": null,
   "id": "d4e9031b",
   "metadata": {},
   "outputs": [],
   "source": []
  },
  {
   "cell_type": "code",
   "execution_count": null,
   "id": "ac04539f",
   "metadata": {},
   "outputs": [],
   "source": []
  }
 ],
 "metadata": {
  "kernelspec": {
   "display_name": "ml-dl-nlp",
   "language": "python",
   "name": "ml-dl-nlp"
  },
  "language_info": {
   "codemirror_mode": {
    "name": "ipython",
    "version": 3
   },
   "file_extension": ".py",
   "mimetype": "text/x-python",
   "name": "python",
   "nbconvert_exporter": "python",
   "pygments_lexer": "ipython3",
   "version": "3.10.18"
  },
  "toc": {
   "base_numbering": 1,
   "nav_menu": {},
   "number_sections": false,
   "sideBar": true,
   "skip_h1_title": false,
   "title_cell": "Table of Contents",
   "title_sidebar": "Contents",
   "toc_cell": false,
   "toc_position": {
    "height": "calc(100% - 180px)",
    "left": "10px",
    "top": "150px",
    "width": "165px"
   },
   "toc_section_display": true,
   "toc_window_display": true
  }
 },
 "nbformat": 4,
 "nbformat_minor": 5
}
