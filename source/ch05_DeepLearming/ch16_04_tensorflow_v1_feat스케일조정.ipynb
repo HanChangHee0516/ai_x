{
 "cells": [
  {
   "cell_type": "code",
   "execution_count": 1,
   "id": "f2eded10",
   "metadata": {},
   "outputs": [
    {
     "data": {
      "text/html": [
       "\n",
       "<style>\n",
       "div.container{width:90% !important;}\n",
       "div.cell.code_cell.rendered{width:100%;}\n",
       "div.input_prompt{padding:2px;}\n",
       "div.CodeMirror {font-family:Consolas; font-size:10pt;}\n",
       "div.text_cell_render.rendered_html{font-size:10pt;}\n",
       "div.output {font-size:10pt; font-weight:bold;}\n",
       "div.input {font-family:Consolas; font-size:10pt;}\n",
       "div.prompt {min-width:70px;}\n",
       "div#toc-wrapper{padding-top:120px;}\n",
       "div.text_cell_render ul li{font-size:11pt;padding:4px;}\n",
       "table.dataframe{font-size:10px;}\n",
       "</style>\n"
      ],
      "text/plain": [
       "<IPython.core.display.HTML object>"
      ]
     },
     "metadata": {},
     "output_type": "display_data"
    }
   ],
   "source": [
    "from IPython.display import display, HTML\n",
    "display(HTML(\"\"\"\n",
    "<style>\n",
    "div.container{width:90% !important;}\n",
    "div.cell.code_cell.rendered{width:100%;}\n",
    "div.input_prompt{padding:2px;}\n",
    "div.CodeMirror {font-family:Consolas; font-size:10pt;}\n",
    "div.text_cell_render.rendered_html{font-size:10pt;}\n",
    "div.output {font-size:10pt; font-weight:bold;}\n",
    "div.input {font-family:Consolas; font-size:10pt;}\n",
    "div.prompt {min-width:70px;}\n",
    "div#toc-wrapper{padding-top:120px;}\n",
    "div.text_cell_render ul li{font-size:11pt;padding:4px;}\n",
    "table.dataframe{font-size:10px;}\n",
    "</style>\n",
    "\"\"\"))"
   ]
  },
  {
   "cell_type": "markdown",
   "id": "c9028298",
   "metadata": {},
   "source": [
    "# 1. tensorflow v2.xx에서 v1사용하기"
   ]
  },
  {
   "cell_type": "code",
   "execution_count": 2,
   "id": "f836aca4",
   "metadata": {},
   "outputs": [
    {
     "name": "stdout",
     "output_type": "stream",
     "text": [
      "WARNING:tensorflow:From C:\\Users\\Admin\\anaconda3\\envs\\ml-dl-nlp\\lib\\site-packages\\tensorflow\\python\\compat\\v2_compat.py:107: disable_resource_variables (from tensorflow.python.ops.variable_scope) is deprecated and will be removed in a future version.\n",
      "Instructions for updating:\n",
      "non-resource variables are not supported in the long term\n"
     ]
    }
   ],
   "source": [
    "import tensorflow.compat.v1 as tf\n",
    "tf.disable_v2_behavior()  # v2를 비활성화하고, v1활성화\n",
    "import numpy as np\n",
    "import pandas as pd"
   ]
  },
  {
   "cell_type": "markdown",
   "id": "81cc4630",
   "metadata": {},
   "source": [
    "## Tensorflow\n",
    "- 데이터 흐름 그래프(tensor객체의 흐름)\n",
    "- 이 그래프는 node(상수, 변수, 연산)와 edge로 구성\n",
    "- sess = tf.Session()으로 실행\n",
    "- sess.run()을 통해 값을 확인"
   ]
  },
  {
   "cell_type": "code",
   "execution_count": 7,
   "id": "358c1e94",
   "metadata": {},
   "outputs": [
    {
     "name": "stdout",
     "output_type": "stream",
     "text": [
      "b'Hello, Tensorflow'\n"
     ]
    }
   ],
   "source": [
    "# tensor = data(상수, 변수)와 연산\n",
    "node1 = tf.constant('Hello, Tensorflow')\n",
    "sess = tf.Session()\n",
    "print(sess.run(node1))"
   ]
  },
  {
   "cell_type": "code",
   "execution_count": 9,
   "id": "c87b0edd",
   "metadata": {},
   "outputs": [
    {
     "name": "stdout",
     "output_type": "stream",
     "text": [
      "[10.0, 20.0, 30.0]\n"
     ]
    }
   ],
   "source": [
    "# 간단한 연산 tensor 그래프\n",
    "node1 = tf.constant(10, dtype=tf.float16)\n",
    "node2 = tf.constant(20, dtype=tf.float16)\n",
    "node3 = tf.add(node1, node2)\n",
    "sess = tf.Session()\n",
    "print(sess.run([node1, node2, node3]))"
   ]
  },
  {
   "cell_type": "code",
   "execution_count": 10,
   "id": "d2739de7",
   "metadata": {},
   "outputs": [
    {
     "data": {
      "text/plain": [
       "[array([1, 2, 3], dtype=int16), array([1., 2., 3.], dtype=float32)]"
      ]
     },
     "execution_count": 10,
     "metadata": {},
     "output_type": "execute_result"
    }
   ],
   "source": [
    "# 타입 변경\n",
    "node1 = tf.constant(np.array([1,2,3]), dtype=tf.int16)\n",
    "node2 = tf.cast(node1, dtype=tf.float32)\n",
    "sess = tf.Session()\n",
    "sess.run([node1, node2])"
   ]
  },
  {
   "cell_type": "code",
   "execution_count": 11,
   "id": "38ac69b1",
   "metadata": {},
   "outputs": [
    {
     "data": {
      "text/plain": [
       "2.0"
      ]
     },
     "execution_count": 11,
     "metadata": {},
     "output_type": "execute_result"
    }
   ],
   "source": [
    "# 평균값 계산 : tf.reduce_mean()\n",
    "data = np.array([1., 2., 3.])\n",
    "tensor = tf.reduce_mean(data)\n",
    "sess = tf.Session()\n",
    "sess.run(tensor)"
   ]
  },
  {
   "cell_type": "code",
   "execution_count": 93,
   "id": "28ae6723",
   "metadata": {},
   "outputs": [
    {
     "data": {
      "text/plain": [
       "[array([-0.33981815], dtype=float32), array([-0.16630673], dtype=float32)]"
      ]
     },
     "execution_count": 93,
     "metadata": {},
     "output_type": "execute_result"
    }
   ],
   "source": [
    "# 랜덤값을 갖는 tensor\n",
    "a = tf.random_normal([1]) # 평균0, 표준편차가 1인 난수 실수 2개(정규분포이루는 난수)\n",
    "b = tf.random_normal([1])\n",
    "sess = tf.Session()\n",
    "sess.run([a,b])"
   ]
  },
  {
   "cell_type": "code",
   "execution_count": 94,
   "id": "2a16b211",
   "metadata": {},
   "outputs": [
    {
     "data": {
      "text/plain": [
       "array([0.47754574], dtype=float32)"
      ]
     },
     "execution_count": 94,
     "metadata": {},
     "output_type": "execute_result"
    }
   ],
   "source": [
    "w = tf.Variable(tf.random.normal([1]))\n",
    "sess = tf.Session()\n",
    "sess.run(tf.global_variables_initializer())  # w변수의 난수 초기화\n",
    "sess.run(w)"
   ]
  },
  {
   "cell_type": "markdown",
   "id": "e457072e",
   "metadata": {},
   "source": [
    "# 2. tensorflow v1을 이용한 linear regression을 구현\n",
    "## 2.1 입력(독립)변수 x가 1개, 타켓(종속)변수 y가 1개"
   ]
  },
  {
   "cell_type": "code",
   "execution_count": 103,
   "id": "2df8ac57",
   "metadata": {
    "scrolled": true
   },
   "outputs": [
    {
     "name": "stdout",
     "output_type": "stream",
     "text": [
      "0번째 cost:49.739803314208984, W:[-1.466767], b:[-0.004493]\n",
      "200번째 cost:0.00025129070854745805, W:[0.98163307], b:[1.0417525]\n",
      "400번째 cost:9.595383744454011e-05, W:[0.9886504], b:[1.0258002]\n",
      "600번째 cost:3.6639143218053505e-05, W:[0.9929867], b:[1.0159429]\n",
      "800번째 cost:1.399013399350224e-05, W:[0.9956662], b:[1.0098516]\n",
      "1000번째 cost:5.342281383491354e-06, W:[0.9973219], b:[1.0060879]\n",
      "1200번째 cost:2.040090066657285e-06, W:[0.9983451], b:[1.003762]\n",
      "1400번째 cost:7.790731615386903e-07, W:[0.9989773], b:[1.0023249]\n",
      "1600번째 cost:2.9763251063741336e-07, W:[0.99936783], b:[1.0014371]\n",
      "1800번째 cost:1.138815264312143e-07, W:[0.999609], b:[1.0008888]\n",
      "2000번째 cost:4.365831429709033e-08, W:[0.99975795], b:[1.0005505]\n",
      "2200번째 cost:1.6764929000601114e-08, W:[0.99984986], b:[1.0003408]\n",
      "2400번째 cost:6.5494085710327e-09, W:[0.9999064], b:[1.0002131]\n",
      "2600번째 cost:2.5315880503029575e-09, W:[0.9999417], b:[1.0001323]\n",
      "2800번째 cost:9.813163615035592e-10, W:[0.99996376], b:[1.0000824]\n",
      "3000번째 cost:4.33914237873978e-10, W:[0.99997616], b:[1.0000548]\n",
      "3200번째 cost:1.3815792954119388e-10, W:[0.99998635], b:[1.000031]\n",
      "3400번째 cost:8.733517381509515e-11, W:[0.9999891], b:[1.0000248]\n",
      "3600번째 cost:8.733517381509515e-11, W:[0.9999891], b:[1.0000248]\n",
      "3800번째 cost:8.733517381509515e-11, W:[0.9999891], b:[1.0000248]\n",
      "4000번째 cost:8.733517381509515e-11, W:[0.9999891], b:[1.0000248]\n",
      "4200번째 cost:8.733517381509515e-11, W:[0.9999891], b:[1.0000248]\n",
      "4400번째 cost:8.733517381509515e-11, W:[0.9999891], b:[1.0000248]\n",
      "4600번째 cost:8.733517381509515e-11, W:[0.9999891], b:[1.0000248]\n",
      "4800번째 cost:8.733517381509515e-11, W:[0.9999891], b:[1.0000248]\n",
      "5000번째 cost:8.733517381509515e-11, W:[0.9999891], b:[1.0000248]\n"
     ]
    }
   ],
   "source": [
    "x = np.array([1,2,3])\n",
    "y = np.array([2,3,4])\n",
    "# weight와 bias(처음엔 랜덤값으로 셋팅, 학습과정에서 변경)\n",
    "W = tf.Variable(tf.random.normal([1]), name='weight')\n",
    "b = tf.Variable(tf.random.normal([1]), name='bias')\n",
    "# Hypothesis : 예측값\n",
    "H = W*x + b\n",
    "# cost function(손실함수 = mes; 최소제곱법)\n",
    "cost = tf.reduce_mean(tf.square(H-y))\n",
    "'''\n",
    "학습목적 : cost가 최소가 되는 W, b흫 찾아내는 것\n",
    "cost는 2차함수이므로 곡선그래프. 곡선위 미분값이 줄어드는 방향으로 학습(경사하강)\n",
    "=> GradientDescentOptimizer\n",
    "'''\n",
    "optimizer = tf.train.GradientDescentOptimizer(learning_rate=0.01)\n",
    "train = optimizer.minimize(cost)\n",
    "# Session 생성\n",
    "sess = tf.Session()\n",
    "# W, b변수 노드에 초기화\n",
    "sess.run(tf.global_variables_initializer())\n",
    "# 5000번 학습 (v2에서는 fit함수)\n",
    "for step in range(5001):\n",
    "    _, cost_val, W_val, b_val = sess.run([train, cost, W, b])\n",
    "    if step%200 == 0:\n",
    "        print(\"{}번째 cost:{}, W:{}, b:{}\".format(step,\n",
    "                                               cost_val,\n",
    "                                               W_val,\n",
    "                                               b_val))"
   ]
  },
  {
   "cell_type": "code",
   "execution_count": 97,
   "id": "c207447f",
   "metadata": {},
   "outputs": [
    {
     "data": {
      "text/plain": [
       "[array([-0.23012753], dtype=float32), array([-1.8035388], dtype=float32)]"
      ]
     },
     "execution_count": 97,
     "metadata": {},
     "output_type": "execute_result"
    }
   ],
   "source": [
    "# 최종적으로 나온 회귀식 : H= W*x + b\n",
    "sess.run([W, b])"
   ]
  },
  {
   "cell_type": "code",
   "execution_count": 99,
   "id": "f385af6d",
   "metadata": {},
   "outputs": [
    {
     "data": {
      "text/plain": [
       "(-0.23012753, -1.8035388)"
      ]
     },
     "execution_count": 99,
     "metadata": {},
     "output_type": "execute_result"
    }
   ],
   "source": [
    "W_, b_ = sess.run([W,b])\n",
    "W_[0],b_[0]"
   ]
  },
  {
   "cell_type": "code",
   "execution_count": 100,
   "id": "ebccd7e0",
   "metadata": {},
   "outputs": [],
   "source": [
    "def predict(x):\n",
    "    return W_[0]*x + b_[0]"
   ]
  },
  {
   "cell_type": "code",
   "execution_count": 101,
   "id": "c02a58fe",
   "metadata": {},
   "outputs": [
    {
     "name": "stdout",
     "output_type": "stream",
     "text": [
      "입력값은 ?3\n",
      "예측값은 :  -2.493921384215355\n"
     ]
    }
   ],
   "source": [
    "input_x = int(input('입력값은 ?'))\n",
    "print('예측값은 : ',predict(input_x))"
   ]
  },
  {
   "cell_type": "markdown",
   "id": "d60ac147",
   "metadata": {},
   "source": [
    "## 2.2 predict를 위한 placeholder이용\n",
    "- placeholder : 텐서플로우 외부에서 데이터를 입력받는 노드"
   ]
  },
  {
   "cell_type": "code",
   "execution_count": 105,
   "id": "81b28881",
   "metadata": {},
   "outputs": [
    {
     "data": {
      "text/plain": [
       "array([2., 3., 4.], dtype=float16)"
      ]
     },
     "execution_count": 105,
     "metadata": {},
     "output_type": "execute_result"
    }
   ],
   "source": [
    "# x = np.array([1,2,3])\n",
    "x = tf.placeholder(tf.float16)\n",
    "H = 1 * x + 1\n",
    "sess = tf.Session()\n",
    "sess.run(H, feed_dict={x:5})\n",
    "sess.run(H, feed_dict={x:np.array([1,2,3])})"
   ]
  },
  {
   "cell_type": "code",
   "execution_count": 107,
   "id": "8ec16f8a",
   "metadata": {
    "scrolled": true
   },
   "outputs": [
    {
     "name": "stdout",
     "output_type": "stream",
     "text": [
      "0번쩨 : cost:231.061279296875, W:[0.19350386], b:[0.3825117]\n",
      "200번쩨 : cost:0.002171077998355031, W:[2.0158458], b:[0.9153046]\n",
      "400번쩨 : cost:0.00021354496129788458, W:[2.0049696], b:[0.97343767]\n",
      "600번쩨 : cost:2.1004279915359803e-05, W:[2.0015585], b:[0.99166954]\n",
      "800번쩨 : cost:2.066095021291403e-06, W:[2.000489], b:[0.99738723]\n",
      "1000번쩨 : cost:2.0338711692602374e-07, W:[2.0001533], b:[0.99918044]\n",
      "1200번쩨 : cost:1.9964591757570815e-08, W:[2.0000482], b:[0.99974287]\n",
      "1400번쩨 : cost:1.9826984498649836e-09, W:[2.000015], b:[0.9999194]\n",
      "1600번쩨 : cost:2.0305605807902083e-10, W:[2.000005], b:[0.99997383]\n",
      "1800번쩨 : cost:3.029754225281067e-11, W:[2.000002], b:[0.9999902]\n",
      "2000번쩨 : cost:2.060005464821213e-11, W:[2.0000017], b:[0.99999213]\n",
      "2200번쩨 : cost:2.060005464821213e-11, W:[2.0000017], b:[0.99999213]\n",
      "2400번쩨 : cost:2.060005464821213e-11, W:[2.0000017], b:[0.99999213]\n",
      "2600번쩨 : cost:2.060005464821213e-11, W:[2.0000017], b:[0.99999213]\n",
      "2800번쩨 : cost:2.060005464821213e-11, W:[2.0000017], b:[0.99999213]\n",
      "3000번쩨 : cost:2.060005464821213e-11, W:[2.0000017], b:[0.99999213]\n",
      "3200번쩨 : cost:2.060005464821213e-11, W:[2.0000017], b:[0.99999213]\n",
      "3400번쩨 : cost:2.060005464821213e-11, W:[2.0000017], b:[0.99999213]\n",
      "3600번쩨 : cost:2.060005464821213e-11, W:[2.0000017], b:[0.99999213]\n",
      "3800번쩨 : cost:2.060005464821213e-11, W:[2.0000017], b:[0.99999213]\n",
      "4000번쩨 : cost:2.060005464821213e-11, W:[2.0000017], b:[0.99999213]\n",
      "4200번쩨 : cost:2.060005464821213e-11, W:[2.0000017], b:[0.99999213]\n",
      "4400번쩨 : cost:2.060005464821213e-11, W:[2.0000017], b:[0.99999213]\n",
      "4600번쩨 : cost:2.060005464821213e-11, W:[2.0000017], b:[0.99999213]\n",
      "4800번쩨 : cost:2.060005464821213e-11, W:[2.0000017], b:[0.99999213]\n",
      "5000번쩨 : cost:2.060005464821213e-11, W:[2.0000017], b:[0.99999213]\n"
     ]
    }
   ],
   "source": [
    "# H = 2x + 1\n",
    "x_data = np.array([1,2,3,5,8])\n",
    "y_data = np.array([3,5,7,11,17])\n",
    "# tensor 그래프\n",
    "# placeholder 설정 (입력면수 x, 타겟변수 y)\n",
    "x = tf.placeholder(dtype=tf.float32)\n",
    "y = tf.placeholder(dtype=tf.float32)\n",
    "# W, b\n",
    "W = tf.Variable(tf.random.normal([1]))\n",
    "b = tf.Variable(tf.random.normal([1]))\n",
    "# Hypothesis (예측값)\n",
    "H = W*x + b\n",
    "# 손실함수\n",
    "cost = tf.reduce_mean(tf.square(H-y))\n",
    "# 경사하강법\n",
    "train = tf.train.GradientDescentOptimizer(learning_rate=0.01).minimize(cost)\n",
    "# Session 객체 생성\n",
    "sess = tf.Session()\n",
    "sess.run(tf.global_variables_initializer()) # W, b 초기화\n",
    "# 5000번 학습\n",
    "for step in range(5001):\n",
    "    _, cost_val, W_val, b_val = sess.run([train, cost, W, b], feed_dict={x:x_data,\n",
    "                                                                        y:y_data})\n",
    "    if step%200 == 0:\n",
    "        print('{}번쩨 : cost:{}, W:{}, b:{}'.format(step, cost_val, W_val, b_val))"
   ]
  },
  {
   "cell_type": "code",
   "execution_count": 108,
   "id": "606620ae",
   "metadata": {},
   "outputs": [
    {
     "data": {
      "text/plain": [
       "array([11.000001], dtype=float32)"
      ]
     },
     "execution_count": 108,
     "metadata": {},
     "output_type": "execute_result"
    }
   ],
   "source": [
    "# 예측하기\n",
    "sess.run(H, feed_dict={x:5})"
   ]
  },
  {
   "cell_type": "code",
   "execution_count": 109,
   "id": "28d9aec4",
   "metadata": {},
   "outputs": [
    {
     "data": {
      "text/plain": [
       "array([11.000001, 13.000002, 15.000004], dtype=float32)"
      ]
     },
     "execution_count": 109,
     "metadata": {},
     "output_type": "execute_result"
    }
   ],
   "source": [
    "sess.run(H, feed_dict={x:np.array([5,6,7])})"
   ]
  },
  {
   "cell_type": "markdown",
   "id": "bc090503",
   "metadata": {},
   "source": [
    "## 2.3 scale이 다른 데이터의 linear regression 구현(scale조정x)"
   ]
  },
  {
   "cell_type": "code",
   "execution_count": 112,
   "id": "6087080a",
   "metadata": {
    "scrolled": true
   },
   "outputs": [
    {
     "name": "stdout",
     "output_type": "stream",
     "text": [
      "0번쩨 : cost:4303.68994140625, W:[5.462146], b:[0.3820591]\n",
      "200번쩨 : cost:265.61456298828125, W:[13.177744], b:[2.0907345]\n",
      "400번쩨 : cost:265.61077880859375, W:[13.162713], b:[2.1710787]\n",
      "600번쩨 : cost:265.6104736328125, W:[13.157999], b:[2.1962774]\n",
      "800번쩨 : cost:265.61041259765625, W:[13.15652], b:[2.2041798]\n",
      "1000번쩨 : cost:265.61041259765625, W:[13.156056], b:[2.2066598]\n",
      "1200번쩨 : cost:265.6103515625, W:[13.1559105], b:[2.2074366]\n",
      "1400번쩨 : cost:265.61041259765625, W:[13.155866], b:[2.2076771]\n",
      "1600번쩨 : cost:265.61041259765625, W:[13.155853], b:[2.20775]\n",
      "1800번쩨 : cost:265.6103515625, W:[13.15585], b:[2.2077618]\n",
      "2000번쩨 : cost:265.6103515625, W:[13.15585], b:[2.2077618]\n"
     ]
    }
   ],
   "source": [
    "x_data = np.array([1,2,3,5,8])\n",
    "y_data = np.array([3,15,68,80,95])\n",
    "# placeholder 설정 (입력면수 x, 타겟변수 y)\n",
    "x = tf.placeholder(dtype=tf.float32)\n",
    "y = tf.placeholder(dtype=tf.float32)\n",
    "# W, b\n",
    "W = tf.Variable(tf.random.normal([1]))\n",
    "b = tf.Variable(tf.random.normal([1]))\n",
    "# Hypothesis (예측값)\n",
    "H = W*x + b\n",
    "# 손실함수\n",
    "cost = tf.reduce_mean(tf.square(H-y))\n",
    "# 경사하강법\n",
    "train = tf.train.GradientDescentOptimizer(learning_rate=0.01).minimize(cost)\n",
    "# Session 객체 생성\n",
    "sess = tf.Session()\n",
    "sess.run(tf.global_variables_initializer()) # W, b 초기화\n",
    "# 5000번 학습\n",
    "for step in range(2001):\n",
    "    _, cost_val, W_val, b_val = sess.run([train, cost, W, b], feed_dict={x:x_data,\n",
    "                                                                        y:y_data})\n",
    "    if step%200 == 0:\n",
    "        print('{}번쩨 : cost:{}, W:{}, b:{}'.format(step, cost_val, W_val, b_val))"
   ]
  },
  {
   "cell_type": "code",
   "execution_count": null,
   "id": "97b643ad",
   "metadata": {},
   "outputs": [],
   "source": [
    "# cost 값이 멈춤 : local 최소값"
   ]
  },
  {
   "cell_type": "markdown",
   "id": "9372a8a6",
   "metadata": {},
   "source": [
    "## 2.4 scale이 다른 데이터의 liner regression을 구현(조정O)\n",
    "### scale을 맞추기 : 모든 데이터를 일정 범위내로 조정\n",
    "- normalization(정규화) : 0~1로 조정\n",
    "                        X ─ Xmin\n",
    "    normalization = ─────────────────\n",
    "                       Xmax ─ Xmin\n",
    "           * 위의 식을 써도 되지만 라이브러리를 씀(sklearn.lpreproxessing.MinMaxScaler이용)\n",
    "           \n",
    "- standardization(표준화) : 평균0, 표준편차1로 조정\n",
    "                        X - Xmean(평균)\n",
    "    standardization = ──────────────────\n",
    "                         Xstd(표준편차)\n",
    "           * 위의 식을 써도 되지만 라이브러리를 쓰 (sklearn.lpreproxessing.StandardScaler이용)"
   ]
  },
  {
   "cell_type": "code",
   "execution_count": 128,
   "id": "0947d639",
   "metadata": {},
   "outputs": [
    {
     "name": "stdout",
     "output_type": "stream",
     "text": [
      "[0.         0.11111111 0.44444444 0.77777778 1.        ]\n",
      "[0.         0.13043478 0.70652174 0.83695652 1.        ]\n"
     ]
    }
   ],
   "source": [
    "# 라이브럴를 쓰지 않고 정규화\n",
    "x_data = np.array([1,2,5,8,10])\n",
    "y_data = np.array([3,15,68,80,95])\n",
    "scaled_x_data = (x_data - x_data.min() ) / (x_data.max() - x_data.min())\n",
    "scaled_y_data = (y_data - y_data.min() ) / (y_data.max() - y_data.min())\n",
    "print(scaled_x_data)\n",
    "print(scaled_y_data)"
   ]
  },
  {
   "cell_type": "code",
   "execution_count": 160,
   "id": "7c57bf06",
   "metadata": {},
   "outputs": [
    {
     "data": {
      "text/plain": [
       "array([[ 1.        ,  3.        ,  0.        ,  0.        ],\n",
       "       [ 2.        , 15.        ,  0.11111111,  0.13043478],\n",
       "       [ 5.        , 68.        ,  0.44444444,  0.70652174],\n",
       "       [ 8.        , 80.        ,  0.77777778,  0.83695652],\n",
       "       [10.        , 95.        ,  1.        ,  1.        ]])"
      ]
     },
     "execution_count": 160,
     "metadata": {},
     "output_type": "execute_result"
    }
   ],
   "source": [
    "# 라이브러리를 쓰고 정규화 (MinMaxScaler이용)\n",
    "x_data = np.array([1,2,5,8,10]).reshape(-1, 1)\n",
    "y_data = np.array([3,15,68,80,95]).reshape(-1,1)\n",
    "# np.column_stack([x_data, y_data])\n",
    "from sklearn.preprocessing import MinMaxScaler\n",
    "scaler_x = MinMaxScaler() # x_data를 정규화시킬 객체\n",
    "# scaler_x.fit(x_data)\n",
    "# scaled_x_data = scaler_x.transform(x_data)\n",
    "scaled_x_data = scaler_x.fit_transform(x_data)\n",
    "scaler_y = MinMaxScaler() # y_data를 정규화시킬 객체\n",
    "scaled_y_data = scaler_y.fit_transform(y_data)\n",
    "np.column_stack([x_data, y_data, scaled_x_data, scaled_y_data])"
   ]
  },
  {
   "cell_type": "code",
   "execution_count": 168,
   "id": "583f7fde",
   "metadata": {
    "scrolled": true
   },
   "outputs": [
    {
     "name": "stdout",
     "output_type": "stream",
     "text": [
      "0째 : cost:0.367155522108078, W:[0.39628375], b:[0.89908874]\n",
      "600째 : cost:0.0989920049905777, W:[0.33960435], b:[0.5318376]\n",
      "1200째 : cost:0.0681990534067154, W:[0.39626354], b:[0.413078]\n",
      "1800째 : cost:0.05351833254098892, W:[0.46922618], b:[0.35467228]\n",
      "2400째 : cost:0.04284844920039177, W:[0.53796965], b:[0.3139191]\n",
      "3000째 : cost:0.03480241075158119, W:[0.59893036], b:[0.2807265]\n",
      "3600째 : cost:0.02871985174715519, W:[0.6522033], b:[0.25236624]\n",
      "4200째 : cost:0.02412082627415657, W:[0.698586], b:[0.22781792]\n",
      "4800째 : cost:0.02064347267150879, W:[0.738931], b:[0.20649709]\n",
      "5400째 : cost:0.018014248460531235, W:[0.77401537], b:[0.18796337]\n",
      "6000째 : cost:0.016026267781853676, W:[0.8045235], b:[0.1718487]\n",
      "6600째 : cost:0.014523139223456383, W:[0.83105195], b:[0.15783665]\n",
      "7200째 : cost:0.01338660717010498, W:[0.8541199], b:[0.1456526]\n",
      "7800째 : cost:0.012527281418442726, W:[0.87417805], b:[0.13505797]\n",
      "8400째 : cost:0.01187752652913332, W:[0.89161974], b:[0.12584548]\n",
      "9000째 : cost:0.011386252008378506, W:[0.90678596], b:[0.1178349]\n",
      "9600째 : cost:0.01101478561758995, W:[0.919974], b:[0.11086926]\n",
      "10200째 : cost:0.01073393039405346, W:[0.9314412], b:[0.10481229]\n",
      "10800째 : cost:0.010521571151912212, W:[0.9414124], b:[0.09954561]\n",
      "11400째 : cost:0.010361000895500183, W:[0.9500828], b:[0.09496599]\n",
      "12000째 : cost:0.010239595547318459, W:[0.9576221], b:[0.09098388]\n",
      "12600째 : cost:0.01014780718833208, W:[0.96417785], b:[0.0875212]\n",
      "13200째 : cost:0.010078398510813713, W:[0.9698785], b:[0.08451026]\n",
      "13800째 : cost:0.01002591848373413, W:[0.97483516], b:[0.08189212]\n",
      "14400째 : cost:0.009986240416765213, W:[0.97914535], b:[0.07961553]\n",
      "15000째 : cost:0.009956235066056252, W:[0.9828933], b:[0.07763594]\n"
     ]
    }
   ],
   "source": [
    "# placeholder 설정 (입력변수 x, 타겟변수 y)\n",
    "x = tf.placeholder(dtype=tf.float32)\n",
    "y = tf.placeholder(dtype=tf.float32)\n",
    "# W, b\n",
    "W = tf.Variable(tf.random.normal([1]))\n",
    "b = tf.Variable(tf.random.normal([1]))\n",
    "# Hypothesis(예측값)\n",
    "H = W*x + b\n",
    "# 손실함수\n",
    "cost = tf.reduce_mean(tf.square(H-y))\n",
    "# 경사하강법\n",
    "train = tf.train.GradientDescentOptimizer(learning_rate=0.001).minimize(cost)\n",
    "# Session 객체 생성\n",
    "sess = tf.Session()\n",
    "sess.run(tf.global_variables_initializer()) # W, b 초기화\n",
    "# 12000번 학습\n",
    "for step in range(15001):\n",
    "    _, cost_val, W_val, b_val = sess.run([train, cost, W, b], \n",
    "                                         feed_dict={x:scaled_x_data,\n",
    "                                                   y:scaled_y_data})\n",
    "    if step%600 == 0:\n",
    "        print('{}째 : cost:{}, W:{}, b:{}'.format(step, cost_val, W_val, b_val))"
   ]
  },
  {
   "cell_type": "code",
   "execution_count": 169,
   "id": "2e88aacc",
   "metadata": {},
   "outputs": [
    {
     "name": "stdout",
     "output_type": "stream",
     "text": [
      "모델 예측을 위한 입력 :\n",
      "[[0.11111111]\n",
      " [0.22222222]]\n",
      "모델 예측 결과 :\n",
      "[[0.18684632]\n",
      " [0.2960567 ]]\n",
      "결과 :\n",
      "[[20.189861]\n",
      " [30.237215]]\n"
     ]
    }
   ],
   "source": [
    "# 예측 : 모델에 scale 조정된 값으로 예측=>scale 조정된 y값\n",
    "scaled_input = scaler_x.transform(np.array([[2],\n",
    "                                            [3]]))\n",
    "print('모델 예측을 위한 입력 :', scaled_input, sep='\\n')\n",
    "scaled_output = sess.run(H, feed_dict={x:scaled_input})\n",
    "print('모델 예측 결과 :', scaled_output, sep='\\n')\n",
    "print('결과 :', scaler_y.inverse_transform(scaled_output), sep='\\n')"
   ]
  },
  {
   "cell_type": "code",
   "execution_count": 170,
   "id": "df599c43",
   "metadata": {},
   "outputs": [],
   "source": [
    "# x_data들의 예측값\n",
    "scaled_y_hat = sess.run(H, feed_dict={x:scaled_x_data})\n",
    "y_hat = scaler_y.inverse_transform(scaled_y_hat)"
   ]
  },
  {
   "cell_type": "code",
   "execution_count": 171,
   "id": "d1b8e950",
   "metadata": {},
   "outputs": [
    {
     "data": {
      "text/plain": [
       "[<matplotlib.lines.Line2D at 0x209aa5d4550>]"
      ]
     },
     "execution_count": 171,
     "metadata": {},
     "output_type": "execute_result"
    },
    {
     "data": {
      "image/png": "[encoded data removed]",
      "text/plain": [
       "<Figure size 640x480 with 1 Axes>"
      ]
     },
     "metadata": {},
     "output_type": "display_data"
    }
   ],
   "source": [
    "import matplotlib.pyplot as plt\n",
    "plt.plot(x_data, y_data, 'r')\n",
    "plt.plot(x_data, y_hat, 'b')"
   ]
  },
  {
   "cell_type": "code",
   "execution_count": 173,
   "id": "26d38719",
   "metadata": {},
   "outputs": [
    {
     "name": "stdout",
     "output_type": "stream",
     "text": [
      "[[ 1  3]\n",
      " [ 2 15]\n",
      " [ 5 68]\n",
      " [ 8 80]\n",
      " [10 95]]\n",
      "[[-1.22474487 -1.34819316]\n",
      " [-0.93313895 -1.01936556]\n",
      " [-0.05832118  0.43295634]\n",
      " [ 0.81649658  0.76178394]\n",
      " [ 1.39970842  1.17281844]]\n"
     ]
    }
   ],
   "source": [
    "# 라이브러리를 사용하여 표준화(standardScaler 사용)\n",
    "x_data = np.array([1,2,5,8,10]).reshape(-1,1)\n",
    "y_data = np.array([3,15,68,80,95]).reshape(-1,1)\n",
    "\n",
    "from sklearn.preprocessing import StandardScaler\n",
    "scaler_x = StandardScaler() # x_data를 표준화할 객체\n",
    "scaler_y = StandardScaler() # y_data를 표준화할 객체\n",
    "scaled_x_data = scaler_x.fit_transform(x_data)\n",
    "scaled_y_data = scaler_y.fit_transform(y_data)\n",
    "print(np.column_stack([x_data, y_data]))\n",
    "print(np.column_stack([scaled_x_data, scaled_y_data]))"
   ]
  },
  {
   "cell_type": "code",
   "execution_count": 174,
   "id": "7582a528",
   "metadata": {},
   "outputs": [
    {
     "name": "stdout",
     "output_type": "stream",
     "text": [
      "0째 : cost:1.2306468486785889, W:[0.0769047], b:[-0.6074339]\n",
      "600째 : cost:0.16838636994361877, W:[0.7000346], b:[-0.18273605]\n",
      "1200째 : cost:0.07225169241428375, W:[0.88749176], b:[-0.0549729]\n",
      "1800째 : cost:0.06355142593383789, W:[0.94388527], b:[-0.01653764]\n",
      "2400째 : cost:0.06276405602693558, W:[0.9608503], b:[-0.00497505]\n",
      "3000째 : cost:0.0626927986741066, W:[0.965954], b:[-0.00149665]\n",
      "3600째 : cost:0.06268634647130966, W:[0.9674892], b:[-0.00045023]\n",
      "4200째 : cost:0.0626857578754425, W:[0.96795106], b:[-0.00013544]\n",
      "4800째 : cost:0.06268571317195892, W:[0.9680889], b:[-4.0735296e-05]\n",
      "5400째 : cost:0.06268569827079773, W:[0.96813285], b:[-1.2244893e-05]\n",
      "6000째 : cost:0.06268569082021713, W:[0.96813506], b:[-3.6652361e-06]\n",
      "6600째 : cost:0.06268569082021713, W:[0.96813506], b:[-1.0842567e-06]\n",
      "7200째 : cost:0.06268569082021713, W:[0.96813506], b:[-3.0647618e-07]\n",
      "7800째 : cost:0.06268568336963654, W:[0.96813506], b:[-7.304958e-08]\n",
      "8400째 : cost:0.06268569827079773, W:[0.96813506], b:[-1.107575e-08]\n",
      "9000째 : cost:0.06268569082021713, W:[0.96813506], b:[1.7027856e-08]\n",
      "9600째 : cost:0.06268569082021713, W:[0.96813506], b:[2.9835693e-08]\n",
      "10200째 : cost:0.06268569827079773, W:[0.96813506], b:[2.9813343e-08]\n",
      "10800째 : cost:0.06268569827079773, W:[0.96813506], b:[2.9790991e-08]\n",
      "11400째 : cost:0.06268569827079773, W:[0.96813506], b:[2.9820793e-08]\n",
      "12000째 : cost:0.06268569827079773, W:[0.96813506], b:[2.9798441e-08]\n"
     ]
    }
   ],
   "source": [
    "# placeholder 설정 (입력변수 x, 타겟변수 y)\n",
    "x = tf.placeholder(dtype=tf.float32)\n",
    "y = tf.placeholder(dtype=tf.float32)\n",
    "# W, b\n",
    "W = tf.Variable(tf.random.normal([1]))\n",
    "b = tf.Variable(tf.random.normal([1]))\n",
    "# Hypothesis(예측값)\n",
    "H = W*x + b\n",
    "# 손실함수\n",
    "cost = tf.reduce_mean(tf.square(H-y))\n",
    "# 경사하강법\n",
    "train = tf.train.GradientDescentOptimizer(learning_rate=0.001).minimize(cost)\n",
    "# Session 객체 생성\n",
    "sess = tf.Session()\n",
    "sess.run(tf.global_variables_initializer()) # W, b 초기화\n",
    "# 12000번 학습\n",
    "for step in range(12001):\n",
    "    _, cost_val, W_val, b_val = sess.run([train, cost, W, b], \n",
    "                                         feed_dict={x:scaled_x_data,\n",
    "                                                   y:scaled_y_data})\n",
    "    if step%600 == 0:\n",
    "        print('{}째 : cost:{}, W:{}, b:{}'.format(step, cost_val, W_val, b_val))"
   ]
  },
  {
   "cell_type": "code",
   "execution_count": 175,
   "id": "a13f4a5d",
   "metadata": {},
   "outputs": [],
   "source": [
    "# x_data들의 예측값\n",
    "scaled_y_hat = sess.run(H, feed_dict={x:scaled_x_data})\n",
    "y_hat = scaler_y.inverse_transform(scaled_y_hat)"
   ]
  },
  {
   "cell_type": "code",
   "execution_count": 176,
   "id": "2beb9b67",
   "metadata": {},
   "outputs": [
    {
     "data": {
      "text/plain": [
       "[<matplotlib.lines.Line2D at 0x209aa67ee30>]"
      ]
     },
     "execution_count": 176,
     "metadata": {},
     "output_type": "execute_result"
    },
    {
     "data": {
      "image/png": "[encoded data removed]",
      "text/plain": [
       "<Figure size 640x480 with 1 Axes>"
      ]
     },
     "metadata": {},
     "output_type": "display_data"
    }
   ],
   "source": [
    "import matplotlib.pyplot as plt\n",
    "plt.plot(x_data, y_data, 'r')\n",
    "plt.plot(x_data, y_hat, 'b')"
   ]
  },
  {
   "cell_type": "markdown",
   "id": "a4ec1265",
   "metadata": {},
   "source": [
    "## 2.5 입력(독립)변수 x가 3개, 타켓(종속)변수 y가 1개 (csv)"
   ]
  },
  {
   "cell_type": "code",
   "execution_count": 6,
   "id": "6d50c6b3",
   "metadata": {},
   "outputs": [
    {
     "data": {
      "text/plain": [
       "array([[ 41. , 190. ,   7.4,  67. ,   5. ,   1. ],\n",
       "       [ 36. , 118. ,   8. ,  72. ,   5. ,   2. ],\n",
       "       [ 12. , 149. ,  12.6,  74. ,   5. ,   3. ],\n",
       "       [ 18. , 313. ,  11.5,  62. ,   5. ,   4. ],\n",
       "       [  nan,   nan,  14.3,  56. ,   5. ,   5. ]])"
      ]
     },
     "execution_count": 6,
     "metadata": {},
     "output_type": "execute_result"
    }
   ],
   "source": [
    "# 방법 1 : csv -> array\n",
    "import numpy as np\n",
    "# data = np.loadtxt('data/pima-indians-diabetes.csv', delimiter=',', encoding='utf-8')  # 결측치, header가 없어야 함\n",
    "data = np.genfromtxt('data/ozone.csv',\n",
    "                    delimiter=',',\n",
    "                    skip_header=1,\n",
    "                    missing_values='NA',\n",
    "                    filling_values=np.nan)\n",
    "data[:5]"
   ]
  },
  {
   "cell_type": "code",
   "execution_count": 10,
   "id": "3435460c",
   "metadata": {},
   "outputs": [
    {
     "name": "stdout",
     "output_type": "stream",
     "text": [
      "<class 'pandas.core.frame.DataFrame'>\n",
      "RangeIndex: 153 entries, 0 to 152\n",
      "Data columns (total 6 columns):\n",
      " #   Column   Non-Null Count  Dtype  \n",
      "---  ------   --------------  -----  \n",
      " 0   Ozone    116 non-null    float64\n",
      " 1   Solar.R  146 non-null    float64\n",
      " 2   Wind     153 non-null    float64\n",
      " 3   Temp     153 non-null    int64  \n",
      " 4   Month    153 non-null    int64  \n",
      " 5   Day      153 non-null    int64  \n",
      "dtypes: float64(3), int64(3)\n",
      "memory usage: 7.3 KB\n"
     ]
    },
    {
     "data": {
      "text/plain": [
       "Ozone      37\n",
       "Solar.R     7\n",
       "Wind        0\n",
       "Temp        0\n",
       "Month       0\n",
       "Day         0\n",
       "dtype: int64"
      ]
     },
     "execution_count": 10,
     "metadata": {},
     "output_type": "execute_result"
    }
   ],
   "source": [
    "# 방법 2 : csv파일 -> 데이터프레임 -> 결측치처리 -> 넘파이배열 -> 머신러닝\n",
    "# 1. csv를 데이터프레임으로 읽기\n",
    "import pandas as pd\n",
    "data = pd.read_csv('data/ozone.csv')\n",
    "data.info() # ozone, solar.R 열에만 결측치\n",
    "data.isna().sum()  # 열별 결측치 갯수"
   ]
  },
  {
   "cell_type": "code",
   "execution_count": 19,
   "id": "922f80d9",
   "metadata": {},
   "outputs": [
    {
     "data": {
      "text/html": [
       "<div>\n",
       "<style scoped>\n",
       "    .dataframe tbody tr th:only-of-type {\n",
       "        vertical-align: middle;\n",
       "    }\n",
       "\n",
       "    .dataframe tbody tr th {\n",
       "        vertical-align: top;\n",
       "    }\n",
       "\n",
       "    .dataframe thead th {\n",
       "        text-align: right;\n",
       "    }\n",
       "</style>\n",
       "<table border=\"1\" class=\"dataframe\">\n",
       "  <thead>\n",
       "    <tr style=\"text-align: right;\">\n",
       "      <th></th>\n",
       "      <th>Ozone</th>\n",
       "      <th>Solar.R</th>\n",
       "    </tr>\n",
       "    <tr>\n",
       "      <th>Month</th>\n",
       "      <th></th>\n",
       "      <th></th>\n",
       "    </tr>\n",
       "  </thead>\n",
       "  <tbody>\n",
       "    <tr>\n",
       "      <th>5</th>\n",
       "      <td>23.615385</td>\n",
       "      <td>181.296296</td>\n",
       "    </tr>\n",
       "    <tr>\n",
       "      <th>6</th>\n",
       "      <td>29.444444</td>\n",
       "      <td>190.166667</td>\n",
       "    </tr>\n",
       "    <tr>\n",
       "      <th>7</th>\n",
       "      <td>59.115385</td>\n",
       "      <td>216.483871</td>\n",
       "    </tr>\n",
       "    <tr>\n",
       "      <th>8</th>\n",
       "      <td>59.961538</td>\n",
       "      <td>171.857143</td>\n",
       "    </tr>\n",
       "    <tr>\n",
       "      <th>9</th>\n",
       "      <td>31.448276</td>\n",
       "      <td>167.433333</td>\n",
       "    </tr>\n",
       "  </tbody>\n",
       "</table>\n",
       "</div>"
      ],
      "text/plain": [
       "           Ozone     Solar.R\n",
       "Month                       \n",
       "5      23.615385  181.296296\n",
       "6      29.444444  190.166667\n",
       "7      59.115385  216.483871\n",
       "8      59.961538  171.857143\n",
       "9      31.448276  167.433333"
      ]
     },
     "metadata": {},
     "output_type": "display_data"
    },
    {
     "name": "stdout",
     "output_type": "stream",
     "text": [
      "5월에 Ozone으로 대체할 값 : 23.615384615384617\n"
     ]
    }
   ],
   "source": [
    "# 2. 결측치 처리\n",
    "# 결측치 처리 방법 1 : 결측치가 있는 행을 제거\n",
    "# data.dropna(how='any', axis=0, inplace=True)\n",
    "\n",
    "# 결측치 처리 방법 2 : 결측치 대체(열별 평균값으로 대체)\n",
    "data.mean() # 열별평균\n",
    "# data.fillna(value=data.mean(), inplace=True)\n",
    "\n",
    "# 결측치 처리 방법 3 : 결측치 대체(월별 열별 평균값으로 대체)\n",
    "mean_data = data.groupby('Month')[['Ozone','Solar.R']].mean()\n",
    "display(mean_data)\n",
    "print('5월에 Ozone으로 대체할 값 :', mean_data.loc[5, 'Ozone'])"
   ]
  },
  {
   "cell_type": "code",
   "execution_count": 20,
   "id": "286251a1",
   "metadata": {
    "scrolled": true
   },
   "outputs": [
    {
     "data": {
      "text/html": [
       "<div>\n",
       "<style scoped>\n",
       "    .dataframe tbody tr th:only-of-type {\n",
       "        vertical-align: middle;\n",
       "    }\n",
       "\n",
       "    .dataframe tbody tr th {\n",
       "        vertical-align: top;\n",
       "    }\n",
       "\n",
       "    .dataframe thead th {\n",
       "        text-align: right;\n",
       "    }\n",
       "</style>\n",
       "<table border=\"1\" class=\"dataframe\">\n",
       "  <thead>\n",
       "    <tr style=\"text-align: right;\">\n",
       "      <th></th>\n",
       "      <th>Ozone</th>\n",
       "      <th>Solar.R</th>\n",
       "      <th>Wind</th>\n",
       "      <th>Temp</th>\n",
       "      <th>Month</th>\n",
       "      <th>Day</th>\n",
       "    </tr>\n",
       "  </thead>\n",
       "  <tbody>\n",
       "    <tr>\n",
       "      <th>4</th>\n",
       "      <td>NaN</td>\n",
       "      <td>NaN</td>\n",
       "      <td>14.3</td>\n",
       "      <td>56</td>\n",
       "      <td>5</td>\n",
       "      <td>5</td>\n",
       "    </tr>\n",
       "    <tr>\n",
       "      <th>5</th>\n",
       "      <td>28.0</td>\n",
       "      <td>NaN</td>\n",
       "      <td>14.9</td>\n",
       "      <td>66</td>\n",
       "      <td>5</td>\n",
       "      <td>6</td>\n",
       "    </tr>\n",
       "    <tr>\n",
       "      <th>9</th>\n",
       "      <td>NaN</td>\n",
       "      <td>194.0</td>\n",
       "      <td>8.6</td>\n",
       "      <td>69</td>\n",
       "      <td>5</td>\n",
       "      <td>10</td>\n",
       "    </tr>\n",
       "    <tr>\n",
       "      <th>10</th>\n",
       "      <td>7.0</td>\n",
       "      <td>NaN</td>\n",
       "      <td>6.9</td>\n",
       "      <td>74</td>\n",
       "      <td>5</td>\n",
       "      <td>11</td>\n",
       "    </tr>\n",
       "    <tr>\n",
       "      <th>24</th>\n",
       "      <td>NaN</td>\n",
       "      <td>66.0</td>\n",
       "      <td>16.6</td>\n",
       "      <td>57</td>\n",
       "      <td>5</td>\n",
       "      <td>25</td>\n",
       "    </tr>\n",
       "    <tr>\n",
       "      <th>25</th>\n",
       "      <td>NaN</td>\n",
       "      <td>266.0</td>\n",
       "      <td>14.9</td>\n",
       "      <td>58</td>\n",
       "      <td>5</td>\n",
       "      <td>26</td>\n",
       "    </tr>\n",
       "    <tr>\n",
       "      <th>26</th>\n",
       "      <td>NaN</td>\n",
       "      <td>NaN</td>\n",
       "      <td>8.0</td>\n",
       "      <td>57</td>\n",
       "      <td>5</td>\n",
       "      <td>27</td>\n",
       "    </tr>\n",
       "    <tr>\n",
       "      <th>31</th>\n",
       "      <td>NaN</td>\n",
       "      <td>286.0</td>\n",
       "      <td>8.6</td>\n",
       "      <td>78</td>\n",
       "      <td>6</td>\n",
       "      <td>1</td>\n",
       "    </tr>\n",
       "    <tr>\n",
       "      <th>32</th>\n",
       "      <td>NaN</td>\n",
       "      <td>287.0</td>\n",
       "      <td>9.7</td>\n",
       "      <td>74</td>\n",
       "      <td>6</td>\n",
       "      <td>2</td>\n",
       "    </tr>\n",
       "    <tr>\n",
       "      <th>33</th>\n",
       "      <td>NaN</td>\n",
       "      <td>242.0</td>\n",
       "      <td>16.1</td>\n",
       "      <td>67</td>\n",
       "      <td>6</td>\n",
       "      <td>3</td>\n",
       "    </tr>\n",
       "    <tr>\n",
       "      <th>34</th>\n",
       "      <td>NaN</td>\n",
       "      <td>186.0</td>\n",
       "      <td>9.2</td>\n",
       "      <td>84</td>\n",
       "      <td>6</td>\n",
       "      <td>4</td>\n",
       "    </tr>\n",
       "    <tr>\n",
       "      <th>35</th>\n",
       "      <td>NaN</td>\n",
       "      <td>220.0</td>\n",
       "      <td>8.6</td>\n",
       "      <td>85</td>\n",
       "      <td>6</td>\n",
       "      <td>5</td>\n",
       "    </tr>\n",
       "    <tr>\n",
       "      <th>36</th>\n",
       "      <td>NaN</td>\n",
       "      <td>264.0</td>\n",
       "      <td>14.3</td>\n",
       "      <td>79</td>\n",
       "      <td>6</td>\n",
       "      <td>6</td>\n",
       "    </tr>\n",
       "    <tr>\n",
       "      <th>38</th>\n",
       "      <td>NaN</td>\n",
       "      <td>273.0</td>\n",
       "      <td>6.9</td>\n",
       "      <td>87</td>\n",
       "      <td>6</td>\n",
       "      <td>8</td>\n",
       "    </tr>\n",
       "    <tr>\n",
       "      <th>41</th>\n",
       "      <td>NaN</td>\n",
       "      <td>259.0</td>\n",
       "      <td>10.9</td>\n",
       "      <td>93</td>\n",
       "      <td>6</td>\n",
       "      <td>11</td>\n",
       "    </tr>\n",
       "    <tr>\n",
       "      <th>42</th>\n",
       "      <td>NaN</td>\n",
       "      <td>250.0</td>\n",
       "      <td>9.2</td>\n",
       "      <td>92</td>\n",
       "      <td>6</td>\n",
       "      <td>12</td>\n",
       "    </tr>\n",
       "    <tr>\n",
       "      <th>44</th>\n",
       "      <td>NaN</td>\n",
       "      <td>332.0</td>\n",
       "      <td>13.8</td>\n",
       "      <td>80</td>\n",
       "      <td>6</td>\n",
       "      <td>14</td>\n",
       "    </tr>\n",
       "    <tr>\n",
       "      <th>45</th>\n",
       "      <td>NaN</td>\n",
       "      <td>322.0</td>\n",
       "      <td>11.5</td>\n",
       "      <td>79</td>\n",
       "      <td>6</td>\n",
       "      <td>15</td>\n",
       "    </tr>\n",
       "    <tr>\n",
       "      <th>51</th>\n",
       "      <td>NaN</td>\n",
       "      <td>150.0</td>\n",
       "      <td>6.3</td>\n",
       "      <td>77</td>\n",
       "      <td>6</td>\n",
       "      <td>21</td>\n",
       "    </tr>\n",
       "    <tr>\n",
       "      <th>52</th>\n",
       "      <td>NaN</td>\n",
       "      <td>59.0</td>\n",
       "      <td>1.7</td>\n",
       "      <td>76</td>\n",
       "      <td>6</td>\n",
       "      <td>22</td>\n",
       "    </tr>\n",
       "    <tr>\n",
       "      <th>53</th>\n",
       "      <td>NaN</td>\n",
       "      <td>91.0</td>\n",
       "      <td>4.6</td>\n",
       "      <td>76</td>\n",
       "      <td>6</td>\n",
       "      <td>23</td>\n",
       "    </tr>\n",
       "    <tr>\n",
       "      <th>54</th>\n",
       "      <td>NaN</td>\n",
       "      <td>250.0</td>\n",
       "      <td>6.3</td>\n",
       "      <td>76</td>\n",
       "      <td>6</td>\n",
       "      <td>24</td>\n",
       "    </tr>\n",
       "    <tr>\n",
       "      <th>55</th>\n",
       "      <td>NaN</td>\n",
       "      <td>135.0</td>\n",
       "      <td>8.0</td>\n",
       "      <td>75</td>\n",
       "      <td>6</td>\n",
       "      <td>25</td>\n",
       "    </tr>\n",
       "    <tr>\n",
       "      <th>56</th>\n",
       "      <td>NaN</td>\n",
       "      <td>127.0</td>\n",
       "      <td>8.0</td>\n",
       "      <td>78</td>\n",
       "      <td>6</td>\n",
       "      <td>26</td>\n",
       "    </tr>\n",
       "    <tr>\n",
       "      <th>57</th>\n",
       "      <td>NaN</td>\n",
       "      <td>47.0</td>\n",
       "      <td>10.3</td>\n",
       "      <td>73</td>\n",
       "      <td>6</td>\n",
       "      <td>27</td>\n",
       "    </tr>\n",
       "    <tr>\n",
       "      <th>58</th>\n",
       "      <td>NaN</td>\n",
       "      <td>98.0</td>\n",
       "      <td>11.5</td>\n",
       "      <td>80</td>\n",
       "      <td>6</td>\n",
       "      <td>28</td>\n",
       "    </tr>\n",
       "    <tr>\n",
       "      <th>59</th>\n",
       "      <td>NaN</td>\n",
       "      <td>31.0</td>\n",
       "      <td>14.9</td>\n",
       "      <td>77</td>\n",
       "      <td>6</td>\n",
       "      <td>29</td>\n",
       "    </tr>\n",
       "    <tr>\n",
       "      <th>60</th>\n",
       "      <td>NaN</td>\n",
       "      <td>138.0</td>\n",
       "      <td>8.0</td>\n",
       "      <td>83</td>\n",
       "      <td>6</td>\n",
       "      <td>30</td>\n",
       "    </tr>\n",
       "    <tr>\n",
       "      <th>64</th>\n",
       "      <td>NaN</td>\n",
       "      <td>101.0</td>\n",
       "      <td>10.9</td>\n",
       "      <td>84</td>\n",
       "      <td>7</td>\n",
       "      <td>4</td>\n",
       "    </tr>\n",
       "    <tr>\n",
       "      <th>71</th>\n",
       "      <td>NaN</td>\n",
       "      <td>139.0</td>\n",
       "      <td>8.6</td>\n",
       "      <td>82</td>\n",
       "      <td>7</td>\n",
       "      <td>11</td>\n",
       "    </tr>\n",
       "    <tr>\n",
       "      <th>74</th>\n",
       "      <td>NaN</td>\n",
       "      <td>291.0</td>\n",
       "      <td>14.9</td>\n",
       "      <td>91</td>\n",
       "      <td>7</td>\n",
       "      <td>14</td>\n",
       "    </tr>\n",
       "    <tr>\n",
       "      <th>82</th>\n",
       "      <td>NaN</td>\n",
       "      <td>258.0</td>\n",
       "      <td>9.7</td>\n",
       "      <td>81</td>\n",
       "      <td>7</td>\n",
       "      <td>22</td>\n",
       "    </tr>\n",
       "    <tr>\n",
       "      <th>83</th>\n",
       "      <td>NaN</td>\n",
       "      <td>295.0</td>\n",
       "      <td>11.5</td>\n",
       "      <td>82</td>\n",
       "      <td>7</td>\n",
       "      <td>23</td>\n",
       "    </tr>\n",
       "    <tr>\n",
       "      <th>95</th>\n",
       "      <td>78.0</td>\n",
       "      <td>NaN</td>\n",
       "      <td>6.9</td>\n",
       "      <td>86</td>\n",
       "      <td>8</td>\n",
       "      <td>4</td>\n",
       "    </tr>\n",
       "    <tr>\n",
       "      <th>96</th>\n",
       "      <td>35.0</td>\n",
       "      <td>NaN</td>\n",
       "      <td>7.4</td>\n",
       "      <td>85</td>\n",
       "      <td>8</td>\n",
       "      <td>5</td>\n",
       "    </tr>\n",
       "    <tr>\n",
       "      <th>97</th>\n",
       "      <td>66.0</td>\n",
       "      <td>NaN</td>\n",
       "      <td>4.6</td>\n",
       "      <td>87</td>\n",
       "      <td>8</td>\n",
       "      <td>6</td>\n",
       "    </tr>\n",
       "    <tr>\n",
       "      <th>101</th>\n",
       "      <td>NaN</td>\n",
       "      <td>222.0</td>\n",
       "      <td>8.6</td>\n",
       "      <td>92</td>\n",
       "      <td>8</td>\n",
       "      <td>10</td>\n",
       "    </tr>\n",
       "    <tr>\n",
       "      <th>102</th>\n",
       "      <td>NaN</td>\n",
       "      <td>137.0</td>\n",
       "      <td>11.5</td>\n",
       "      <td>86</td>\n",
       "      <td>8</td>\n",
       "      <td>11</td>\n",
       "    </tr>\n",
       "    <tr>\n",
       "      <th>106</th>\n",
       "      <td>NaN</td>\n",
       "      <td>64.0</td>\n",
       "      <td>11.5</td>\n",
       "      <td>79</td>\n",
       "      <td>8</td>\n",
       "      <td>15</td>\n",
       "    </tr>\n",
       "    <tr>\n",
       "      <th>114</th>\n",
       "      <td>NaN</td>\n",
       "      <td>255.0</td>\n",
       "      <td>12.6</td>\n",
       "      <td>75</td>\n",
       "      <td>8</td>\n",
       "      <td>23</td>\n",
       "    </tr>\n",
       "    <tr>\n",
       "      <th>118</th>\n",
       "      <td>NaN</td>\n",
       "      <td>153.0</td>\n",
       "      <td>5.7</td>\n",
       "      <td>88</td>\n",
       "      <td>8</td>\n",
       "      <td>27</td>\n",
       "    </tr>\n",
       "    <tr>\n",
       "      <th>149</th>\n",
       "      <td>NaN</td>\n",
       "      <td>145.0</td>\n",
       "      <td>13.2</td>\n",
       "      <td>77</td>\n",
       "      <td>9</td>\n",
       "      <td>27</td>\n",
       "    </tr>\n",
       "  </tbody>\n",
       "</table>\n",
       "</div>"
      ],
      "text/plain": [
       "     Ozone  Solar.R  Wind  Temp  Month  Day\n",
       "4      NaN      NaN  14.3    56      5    5\n",
       "5     28.0      NaN  14.9    66      5    6\n",
       "9      NaN    194.0   8.6    69      5   10\n",
       "10     7.0      NaN   6.9    74      5   11\n",
       "24     NaN     66.0  16.6    57      5   25\n",
       "25     NaN    266.0  14.9    58      5   26\n",
       "26     NaN      NaN   8.0    57      5   27\n",
       "31     NaN    286.0   8.6    78      6    1\n",
       "32     NaN    287.0   9.7    74      6    2\n",
       "33     NaN    242.0  16.1    67      6    3\n",
       "34     NaN    186.0   9.2    84      6    4\n",
       "35     NaN    220.0   8.6    85      6    5\n",
       "36     NaN    264.0  14.3    79      6    6\n",
       "38     NaN    273.0   6.9    87      6    8\n",
       "41     NaN    259.0  10.9    93      6   11\n",
       "42     NaN    250.0   9.2    92      6   12\n",
       "44     NaN    332.0  13.8    80      6   14\n",
       "45     NaN    322.0  11.5    79      6   15\n",
       "51     NaN    150.0   6.3    77      6   21\n",
       "52     NaN     59.0   1.7    76      6   22\n",
       "53     NaN     91.0   4.6    76      6   23\n",
       "54     NaN    250.0   6.3    76      6   24\n",
       "55     NaN    135.0   8.0    75      6   25\n",
       "56     NaN    127.0   8.0    78      6   26\n",
       "57     NaN     47.0  10.3    73      6   27\n",
       "58     NaN     98.0  11.5    80      6   28\n",
       "59     NaN     31.0  14.9    77      6   29\n",
       "60     NaN    138.0   8.0    83      6   30\n",
       "64     NaN    101.0  10.9    84      7    4\n",
       "71     NaN    139.0   8.6    82      7   11\n",
       "74     NaN    291.0  14.9    91      7   14\n",
       "82     NaN    258.0   9.7    81      7   22\n",
       "83     NaN    295.0  11.5    82      7   23\n",
       "95    78.0      NaN   6.9    86      8    4\n",
       "96    35.0      NaN   7.4    85      8    5\n",
       "97    66.0      NaN   4.6    87      8    6\n",
       "101    NaN    222.0   8.6    92      8   10\n",
       "102    NaN    137.0  11.5    86      8   11\n",
       "106    NaN     64.0  11.5    79      8   15\n",
       "114    NaN    255.0  12.6    75      8   23\n",
       "118    NaN    153.0   5.7    88      8   27\n",
       "149    NaN    145.0  13.2    77      9   27"
      ]
     },
     "execution_count": 20,
     "metadata": {},
     "output_type": "execute_result"
    }
   ],
   "source": [
    "# 결측치가 있는 데이터\n",
    "data[data['Ozone'].isna() | data['Solar.R'].isna()]"
   ]
  },
  {
   "cell_type": "code",
   "execution_count": 29,
   "id": "a6a6417e",
   "metadata": {},
   "outputs": [
    {
     "data": {
      "text/plain": [
       "Ozone       23.615385\n",
       "Solar.R    181.296296\n",
       "Wind        14.300000\n",
       "Temp        56.000000\n",
       "Month        5.000000\n",
       "Day          5.000000\n",
       "Name: 4, dtype: float64"
      ]
     },
     "execution_count": 29,
     "metadata": {},
     "output_type": "execute_result"
    }
   ],
   "source": [
    "def fill_nan(row):\n",
    "#     print(row['Ozone'], row['Solar.R'])\n",
    "#     print(row.isna())\n",
    "    'row[\"Ozone\"]이나 row[\"Solar.R\"]가 결측치면 mean_data[월, 열이름]으로 대체'\n",
    "    #if np.isna(row['Ozone']):\n",
    "    pd.options.mode.copy_on_write = True \n",
    "    # row = row.copy\n",
    "    if row.isna()['Ozone']:\n",
    "        row['Ozone'] = mean_data.loc[int(row.Month), 'Ozone']\n",
    "        \n",
    "    if row.isna()['Solar.R']:\n",
    "        row['Solar.R'] = mean_data.loc[row['Month'], 'Solar.R']\n",
    "        \n",
    "    return row\n",
    "\n",
    "fill_nan(data.loc[4])"
   ]
  },
  {
   "cell_type": "code",
   "execution_count": 34,
   "id": "c2844d6e",
   "metadata": {},
   "outputs": [
    {
     "data": {
      "text/plain": [
       "((153, 3), (153, 1))"
      ]
     },
     "execution_count": 34,
     "metadata": {},
     "output_type": "execute_result"
    }
   ],
   "source": [
    "data = data.apply(fill_nan, axis=1)\n",
    "X_data = data[['Solar.R','Wind','Temp']].values # 독립변수\n",
    "y_data = data[['Ozone']].values  # 타겟변수\n",
    "X_data.shape, y_data.shape"
   ]
  },
  {
   "cell_type": "code",
   "execution_count": 45,
   "id": "db991ce3",
   "metadata": {},
   "outputs": [
    {
     "name": "stdout",
     "output_type": "stream",
     "text": [
      "1000번째 cost:572.0877685546875\n",
      "2000번째 cost:517.1864013671875\n",
      "3000번째 cost:489.6619567871094\n",
      "4000번째 cost:475.86053466796875\n",
      "5000번째 cost:468.9381103515625\n",
      "6000번째 cost:465.46368408203125\n",
      "7000번째 cost:463.71783447265625\n",
      "8000번째 cost:462.8382263183594\n",
      "9000번째 cost:462.3929138183594\n",
      "10000번째 cost:462.16534423828125\n",
      "최종 cost:462.16534423828125, W:[[ 0.05513215]\n",
      " [-3.473967  ]\n",
      " [ 0.8493801 ]], b:[-0.4341303]\n"
     ]
    }
   ],
   "source": [
    "# tensorfiow 구현\n",
    "# 1. X, y\n",
    "X = tf.placeholder(shape=[None, 3], dtype=tf.float32)\n",
    "y = tf.placeholder(shape=[None, 1], dtype=tf.float32)\n",
    "# 2. 독립변수 3개, 타겟변수 1개인 모델의 weight, bias\n",
    "W = tf.Variable(tf.random.normal([3, 1]))\n",
    "b = tf.Variable(tf.random_normal([1]))\n",
    "# 3. Hypothesis\n",
    "# H = X@W + b\n",
    "H = tf.matmul(X, W) + b\n",
    "# 4. cost함수(손실함수) : mse\n",
    "cost = tf.reduce_mean(tf.square(H-y))\n",
    "# 5. train\n",
    "train = tf.train.GradientDescentOptimizer(learning_rate=0.00001).minimize(cost)\n",
    "# Sess 객체 생성 & W, b 초기화\n",
    "sess = tf.Session()\n",
    "sess.run(tf.global_variables_initializer())\n",
    "# 학습\n",
    "for step in range(1, 10001):\n",
    "    _, cost_val = sess.run([train, cost], feed_dict={X:X_data,\n",
    "                                                    y:y_data})\n",
    "    if step%1000 == 0:\n",
    "        print(\"{}번째 cost:{}\".format(step, cost_val))\n",
    "print('최종 cost:{}, W:{}, b:{}'.format(cost_val,\n",
    "                                     sess.run(W),\n",
    "                                     sess.run(b)))"
   ]
  },
  {
   "cell_type": "code",
   "execution_count": 68,
   "id": "06491a54",
   "metadata": {},
   "outputs": [
    {
     "data": {
      "text/plain": [
       "array([[190.        ,   7.4       ,  67.        ,  41.        ],\n",
       "       [118.        ,   8.        ,  72.        ,  36.        ],\n",
       "       [149.        ,  12.6       ,  74.        ,  12.        ],\n",
       "       [313.        ,  11.5       ,  62.        ,  18.        ],\n",
       "       [181.2962963 ,  14.3       ,  56.        ,  23.61538462],\n",
       "       [181.2962963 ,  14.9       ,  66.        ,  28.        ],\n",
       "       [299.        ,   8.6       ,  65.        ,  23.        ],\n",
       "       [ 99.        ,  13.8       ,  59.        ,  19.        ],\n",
       "       [ 19.        ,  20.1       ,  61.        ,   8.        ],\n",
       "       [194.        ,   8.6       ,  69.        ,  23.61538462],\n",
       "       [181.2962963 ,   6.9       ,  74.        ,   7.        ],\n",
       "       [256.        ,   9.7       ,  69.        ,  16.        ],\n",
       "       [290.        ,   9.2       ,  66.        ,  11.        ],\n",
       "       [274.        ,  10.9       ,  68.        ,  14.        ],\n",
       "       [ 65.        ,  13.2       ,  58.        ,  18.        ],\n",
       "       [334.        ,  11.5       ,  64.        ,  14.        ],\n",
       "       [307.        ,  12.        ,  66.        ,  34.        ],\n",
       "       [ 78.        ,  18.4       ,  57.        ,   6.        ],\n",
       "       [322.        ,  11.5       ,  68.        ,  30.        ],\n",
       "       [ 44.        ,   9.7       ,  62.        ,  11.        ]])"
      ]
     },
     "execution_count": 68,
     "metadata": {},
     "output_type": "execute_result"
    }
   ],
   "source": [
    "np.column_stack([X_data, y_data])[:20]"
   ]
  },
  {
   "cell_type": "code",
   "execution_count": 51,
   "id": "dd9d537d",
   "metadata": {},
   "outputs": [
    {
     "data": {
      "text/plain": [
       "array([[39.435093]], dtype=float32)"
      ]
     },
     "execution_count": 51,
     "metadata": {},
     "output_type": "execute_result"
    }
   ],
   "source": [
    "# 예측하기\n",
    "input_data = np.array([[118., 8., 72.]])  # 41\n",
    "sess.run(H,feed_dict={X:input_data})"
   ]
  },
  {
   "cell_type": "markdown",
   "id": "6efb17c8",
   "metadata": {},
   "source": [
    "### 스케일 조정\n",
    "```\n",
    "MinMaxScaler, StandardScaler\n",
    "  0 ~ 1        -2 ~ 2  주로 0 근처\n",
    "```"
   ]
  },
  {
   "cell_type": "code",
   "execution_count": 52,
   "id": "bc0b4220",
   "metadata": {},
   "outputs": [
    {
     "data": {
      "text/plain": [
       "((153, 3), (153, 1))"
      ]
     },
     "execution_count": 52,
     "metadata": {},
     "output_type": "execute_result"
    }
   ],
   "source": [
    "from sklearn.preprocessing import MinMaxScaler\n",
    "x_scaler = MinMaxScaler()\n",
    "y_scaler = MinMaxScaler()\n",
    "scaled_x_data = x_scaler.fit_transform(X_data)\n",
    "scaled_y_data = y_scaler.fit_transform(y_data)\n",
    "scaled_x_data.shape, scaled_y_data.shape"
   ]
  },
  {
   "cell_type": "code",
   "execution_count": 53,
   "id": "0707809e",
   "metadata": {},
   "outputs": [
    {
     "data": {
      "text/plain": [
       "array([[0.55963303, 0.3       , 0.26829268, 0.23952096],\n",
       "       [0.33944954, 0.33157895, 0.3902439 , 0.20958084],\n",
       "       [0.43425076, 0.57368421, 0.43902439, 0.06586826],\n",
       "       [0.93577982, 0.51578947, 0.14634146, 0.10179641],\n",
       "       [0.5330162 , 0.66315789, 0.        , 0.13542146],\n",
       "       [0.5330162 , 0.69473684, 0.24390244, 0.16167665],\n",
       "       [0.89296636, 0.36315789, 0.2195122 , 0.13173653],\n",
       "       [0.28134557, 0.63684211, 0.07317073, 0.10778443],\n",
       "       [0.03669725, 0.96842105, 0.12195122, 0.04191617],\n",
       "       [0.57186544, 0.36315789, 0.31707317, 0.13542146],\n",
       "       [0.5330162 , 0.27368421, 0.43902439, 0.03592814],\n",
       "       [0.76146789, 0.42105263, 0.31707317, 0.08982036],\n",
       "       [0.86544343, 0.39473684, 0.24390244, 0.05988024],\n",
       "       [0.81651376, 0.48421053, 0.29268293, 0.07784431],\n",
       "       [0.17737003, 0.60526316, 0.04878049, 0.10179641],\n",
       "       [1.        , 0.51578947, 0.19512195, 0.07784431],\n",
       "       [0.91743119, 0.54210526, 0.24390244, 0.19760479],\n",
       "       [0.21712538, 0.87894737, 0.02439024, 0.02994012],\n",
       "       [0.96330275, 0.51578947, 0.29268293, 0.17365269],\n",
       "       [0.11314985, 0.42105263, 0.14634146, 0.05988024],\n",
       "       [0.0030581 , 0.42105263, 0.07317073, 0.        ],\n",
       "       [0.95718654, 0.78421053, 0.41463415, 0.05988024],\n",
       "       [0.05504587, 0.42105263, 0.12195122, 0.01796407],\n",
       "       [0.25993884, 0.54210526, 0.12195122, 0.18562874],\n",
       "       [0.18042813, 0.78421053, 0.02439024, 0.13542146],\n",
       "       [0.79204893, 0.69473684, 0.04878049, 0.13542146],\n",
       "       [0.5330162 , 0.33157895, 0.02439024, 0.13542146],\n",
       "       [0.01834862, 0.54210526, 0.26829268, 0.13173653],\n",
       "       [0.74923547, 0.69473684, 0.6097561 , 0.26347305],\n",
       "       [0.66055046, 0.21052632, 0.56097561, 0.68263473],\n",
       "       [0.83180428, 0.3       , 0.48780488, 0.21556886],\n",
       "       [0.85321101, 0.36315789, 0.53658537, 0.17032601],\n",
       "       [0.85626911, 0.42105263, 0.43902439, 0.17032601],\n",
       "       [0.71865443, 0.75789474, 0.26829268, 0.17032601],\n",
       "       [0.54740061, 0.39473684, 0.68292683, 0.17032601],\n",
       "       [0.65137615, 0.36315789, 0.70731707, 0.17032601],\n",
       "       [0.78593272, 0.66315789, 0.56097561, 0.17032601],\n",
       "       [0.36697248, 0.42105263, 0.63414634, 0.16766467],\n",
       "       [0.81345566, 0.27368421, 0.75609756, 0.17032601],\n",
       "       [0.86850153, 0.63684211, 0.82926829, 0.41916168],\n",
       "       [0.96636086, 0.51578947, 0.75609756, 0.22754491],\n",
       "       [0.7706422 , 0.48421053, 0.90243902, 0.17032601],\n",
       "       [0.74311927, 0.39473684, 0.87804878, 0.17032601],\n",
       "       [0.43119266, 0.33157895, 0.63414634, 0.13173653],\n",
       "       [0.99388379, 0.63684211, 0.58536585, 0.17032601],\n",
       "       [0.96330275, 0.51578947, 0.56097561, 0.17032601],\n",
       "       [0.56269113, 0.69473684, 0.51219512, 0.11976048],\n",
       "       [0.8470948 , 1.        , 0.3902439 , 0.21556886],\n",
       "       [0.09174312, 0.39473684, 0.2195122 , 0.11377246],\n",
       "       [0.34556575, 0.51578947, 0.41463415, 0.06586826],\n",
       "       [0.39755352, 0.45263158, 0.48780488, 0.07185629],\n",
       "       [0.43730887, 0.24210526, 0.51219512, 0.17032601],\n",
       "       [0.15902141, 0.        , 0.48780488, 0.17032601],\n",
       "       [0.25688073, 0.15263158, 0.48780488, 0.17032601],\n",
       "       [0.74311927, 0.24210526, 0.48780488, 0.17032601],\n",
       "       [0.39143731, 0.33157895, 0.46341463, 0.17032601],\n",
       "       [0.36697248, 0.33157895, 0.53658537, 0.17032601],\n",
       "       [0.12232416, 0.45263158, 0.41463415, 0.17032601],\n",
       "       [0.27828746, 0.51578947, 0.58536585, 0.17032601],\n",
       "       [0.0733945 , 0.69473684, 0.51219512, 0.17032601],\n",
       "       [0.40061162, 0.33157895, 0.65853659, 0.17032601],\n",
       "       [0.80122324, 0.12631579, 0.68292683, 0.80239521],\n",
       "       [0.73700306, 0.39473684, 0.70731707, 0.28742515],\n",
       "       [0.70030581, 0.39473684, 0.6097561 , 0.18562874],\n",
       "       [0.28746177, 0.48421053, 0.68292683, 0.34799632],\n",
       "       [0.51376147, 0.15263158, 0.65853659, 0.37724551],\n",
       "       [0.93883792, 0.48421053, 0.65853659, 0.23353293],\n",
       "       [0.82262997, 0.17894737, 0.7804878 , 0.45508982],\n",
       "       [0.79510703, 0.24210526, 0.87804878, 0.5748503 ],\n",
       "       [0.81039755, 0.21052632, 0.87804878, 0.5748503 ],\n",
       "       [0.51376147, 0.3       , 0.80487805, 0.50299401],\n",
       "       [0.40366972, 0.36315789, 0.63414634, 0.34799632],\n",
       "       [0.78593272, 0.66315789, 0.41463415, 0.05389222],\n",
       "       [0.51376147, 0.69473684, 0.6097561 , 0.15568862],\n",
       "       [0.86850153, 0.69473684, 0.85365854, 0.34799632],\n",
       "       [0.12538226, 0.66315789, 0.58536585, 0.03592814],\n",
       "       [0.77370031, 0.27368421, 0.6097561 , 0.28143713],\n",
       "       [0.81651376, 0.45263158, 0.63414634, 0.20359281],\n",
       "       [0.85015291, 0.24210526, 0.68292683, 0.35928144],\n",
       "       [0.55045872, 0.17894737, 0.75609756, 0.46706587],\n",
       "       [0.65137615, 0.51578947, 0.70731707, 0.37125749],\n",
       "       [0.        , 0.27368421, 0.43902439, 0.08982036],\n",
       "       [0.7675841 , 0.42105263, 0.6097561 , 0.34799632],\n",
       "       [0.88073394, 0.51578947, 0.63414634, 0.34799632],\n",
       "       [0.87767584, 0.36315789, 0.73170732, 0.47305389],\n",
       "       [0.66055046, 0.33157895, 0.70731707, 0.64071856],\n",
       "       [0.22629969, 0.36315789, 0.63414634, 0.11377246],\n",
       "       [0.2293578 , 0.54210526, 0.73170732, 0.30538922],\n",
       "       [0.62996942, 0.3       , 0.7804878 , 0.48502994],\n",
       "       [0.81957187, 0.3       , 0.73170732, 0.29341317],\n",
       "       [0.75229358, 0.3       , 0.65853659, 0.37724551],\n",
       "       [0.75535168, 0.39473684, 0.6097561 , 0.34730539],\n",
       "       [0.2324159 , 0.27368421, 0.6097561 , 0.22754491],\n",
       "       [0.05198777, 0.63684211, 0.6097561 , 0.04790419],\n",
       "       [0.21406728, 0.3       , 0.63414634, 0.08982036],\n",
       "       [0.50415028, 0.27368421, 0.73170732, 0.46107784],\n",
       "       [0.50415028, 0.3       , 0.70731707, 0.20359281],\n",
       "       [0.50415028, 0.15263158, 0.75609756, 0.38922156],\n",
       "       [0.75840979, 0.12105263, 0.80487805, 0.7245509 ],\n",
       "       [0.67889908, 0.45263158, 0.82926829, 0.52694611],\n",
       "       [0.6116208 , 0.33157895, 0.82926829, 0.65269461],\n",
       "       [0.65749235, 0.36315789, 0.87804878, 0.3530631 ],\n",
       "       [0.39755352, 0.51578947, 0.73170732, 0.3530631 ],\n",
       "       [0.56574924, 0.51578947, 0.73170732, 0.25748503],\n",
       "       [0.81345566, 0.51578947, 0.63414634, 0.16167665],\n",
       "       [0.4587156 , 0.42105263, 0.58536585, 0.38323353],\n",
       "       [0.17431193, 0.51578947, 0.56097561, 0.3530631 ],\n",
       "       [0.19571865, 0.45263158, 0.51219512, 0.1257485 ],\n",
       "       [0.13455657, 0.24210526, 0.56097561, 0.34730539],\n",
       "       [0.33027523, 0.3       , 0.48780488, 0.13173653],\n",
       "       [0.72477064, 0.48421053, 0.53658537, 0.17964072],\n",
       "       [0.55963303, 0.45263158, 0.53658537, 0.25748503],\n",
       "       [0.7706422 , 0.72631579, 0.51219512, 0.11976048],\n",
       "       [0.08868502, 0.66315789, 0.3902439 , 0.04790419],\n",
       "       [0.75840979, 0.57368421, 0.46341463, 0.3530631 ],\n",
       "       [0.62691131, 0.42105263, 0.56097561, 0.26347305],\n",
       "       [0.70642202, 0.08947368, 0.6097561 , 1.        ],\n",
       "       [0.63608563, 0.33157895, 0.73170732, 0.43113772],\n",
       "       [0.44648318, 0.21052632, 0.7804878 , 0.3530631 ],\n",
       "       [0.59938838, 0.42105263, 1.        , 0.4491018 ],\n",
       "       [0.66666667, 0.03157895, 0.92682927, 0.7005988 ],\n",
       "       [0.70336391, 0.24210526, 0.97560976, 0.49700599],\n",
       "       [0.55351682, 0.24210526, 0.92682927, 0.50299401],\n",
       "       [0.48929664, 0.27368421, 0.85365854, 0.56886228],\n",
       "       [0.58103976, 0.17894737, 0.87804878, 0.46107784],\n",
       "       [0.5382263 , 0.05789474, 0.90243902, 0.43113772],\n",
       "       [0.55657492, 0.15263158, 0.90243902, 0.53892216],\n",
       "       [0.26911315, 0.3       , 0.75609756, 0.2754491 ],\n",
       "       [0.25993884, 0.72631579, 0.68292683, 0.18562874],\n",
       "       [0.74923547, 0.48421053, 0.58536585, 0.11377246],\n",
       "       [0.65137615, 0.45263158, 0.53658537, 0.13173653],\n",
       "       [0.68195719, 0.48421053, 0.46341463, 0.11976048],\n",
       "       [0.7706422 , 0.42105263, 0.41463415, 0.13772455],\n",
       "       [0.70030581, 0.69473684, 0.6097561 , 0.25748503],\n",
       "       [0.7706422 , 0.72631579, 0.48780488, 0.11976048],\n",
       "       [0.70642202, 0.24210526, 0.51219512, 0.16167665],\n",
       "       [0.05198777, 0.48421053, 0.36585366, 0.04790419],\n",
       "       [0.32110092, 0.51578947, 0.36585366, 0.07185629],\n",
       "       [0.70336391, 0.27368421, 0.53658537, 0.26946108],\n",
       "       [0.66360856, 0.63684211, 0.26829268, 0.10179641],\n",
       "       [0.06116208, 0.45263158, 0.48780488, 0.07185629],\n",
       "       [0.70642202, 0.45263158, 0.29268293, 0.13772455],\n",
       "       [0.59327217, 0.33157895, 0.63414634, 0.08982036],\n",
       "       [0.70642202, 0.57368421, 0.19512195, 0.07185629],\n",
       "       [0.02140673, 0.39473684, 0.36585366, 0.13173653],\n",
       "       [0.40366972, 0.45263158, 0.6097561 , 0.20958084],\n",
       "       [0.12844037, 0.45263158, 0.31707317, 0.03592814],\n",
       "       [0.03975535, 0.78421053, 0.17073171, 0.07784431],\n",
       "       [0.56880734, 0.27368421, 0.34146341, 0.17365269],\n",
       "       [0.42201835, 0.60526316, 0.51219512, 0.18232501],\n",
       "       [0.56269113, 0.66315789, 0.46341463, 0.07784431],\n",
       "       [0.37920489, 0.33157895, 0.48780488, 0.10179641],\n",
       "       [0.66055046, 0.51578947, 0.29268293, 0.11377246]])"
      ]
     },
     "execution_count": 53,
     "metadata": {},
     "output_type": "execute_result"
    }
   ],
   "source": [
    "np.column_stack([scaled_x_data, scaled_y_data])"
   ]
  },
  {
   "cell_type": "code",
   "execution_count": 84,
   "id": "4de46a57",
   "metadata": {
    "scrolled": true
   },
   "outputs": [
    {
     "name": "stdout",
     "output_type": "stream",
     "text": [
      "5000번째 cost:3.537031888961792\n",
      "10000번째 cost:2.5044243335723877\n",
      "15000번째 cost:1.7830519676208496\n",
      "20000번째 cost:1.2789883613586426\n",
      "25000번째 cost:0.9266526103019714\n",
      "30000번째 cost:0.6802586317062378\n",
      "35000번째 cost:0.507840096950531\n",
      "40000번째 cost:0.3870736062526703\n",
      "45000번째 cost:0.3023752272129059\n",
      "50000번째 cost:0.24286603927612305\n",
      "55000번째 cost:0.20095013082027435\n",
      "60000번째 cost:0.17131975293159485\n",
      "65000번째 cost:0.1502740979194641\n",
      "70000번째 cost:0.13522560894489288\n",
      "75000번째 cost:0.12436964362859726\n",
      "80000번째 cost:0.11644748598337173\n",
      "85000번째 cost:0.11057600378990173\n",
      "90000번째 cost:0.10614220798015594\n",
      "95000번째 cost:0.10271595418453217\n",
      "100000번째 cost:0.09999807924032211\n",
      "105000번째 cost:0.09777921438217163\n",
      "110000번째 cost:0.09591366350650787\n",
      "115000번째 cost:0.09429806470870972\n",
      "120000번째 cost:0.09286210685968399\n",
      "125000번째 cost:0.09155485033988953\n",
      "130000번째 cost:0.09034270793199539\n",
      "135000번째 cost:0.08920010924339294\n",
      "140000번째 cost:0.08811105042695999\n",
      "145000번째 cost:0.08706209063529968\n",
      "150000번째 cost:0.08604582399129868\n",
      "155000번째 cost:0.08505910634994507\n",
      "160000번째 cost:0.08409028500318527\n",
      "165000번째 cost:0.0831398144364357\n",
      "170000번째 cost:0.08220741897821426\n",
      "175000번째 cost:0.08129220455884933\n",
      "180000번째 cost:0.08039121329784393\n",
      "최종 cost:0.08039121329784393, W:[[-0.39095286]\n",
      " [ 0.3868554 ]\n",
      " [-0.09537804]], b:[0.3513785]\n"
     ]
    }
   ],
   "source": [
    "# tensorfiow 구현\n",
    "# 1. X, y\n",
    "X = tf.placeholder(shape=[None, 3], dtype=tf.float32)\n",
    "y = tf.placeholder(shape=[None, 1], dtype=tf.float32)\n",
    "# 2. 독립변수 3개, 타겟변수 1개인 모델의 weight, bias\n",
    "W = tf.Variable(tf.random.normal([3, 1]))\n",
    "b = tf.Variable(tf.random_normal([1]))\n",
    "# 3. Hypothesis\n",
    "# H = X@W + b\n",
    "H = tf.matmul(X, W) + b\n",
    "# 4. cost함수(손실함수) : mse\n",
    "cost = tf.reduce_mean(tf.square(H-y))\n",
    "# 5. train\n",
    "train = tf.train.GradientDescentOptimizer(learning_rate=0.00001).minimize(cost)\n",
    "# Sess 객체 생성 & W, b 초기화\n",
    "sess = tf.Session()\n",
    "sess.run(tf.global_variables_initializer())\n",
    "# 학습\n",
    "for step in range(1, 180001):\n",
    "    _, cost_val = sess.run([train, cost], feed_dict={X:scaled_x_data,\n",
    "                                                    y:scaled_y_data})\n",
    "    if step%5000 == 0:\n",
    "        print(\"{}번째 cost:{}\".format(step, cost_val))\n",
    "print('최종 cost:{}, W:{}, b:{}'.format(cost_val,\n",
    "                                     sess.run(W),\n",
    "                                     sess.run(b)))"
   ]
  },
  {
   "cell_type": "code",
   "execution_count": 85,
   "id": "3c7900ab",
   "metadata": {},
   "outputs": [
    {
     "data": {
      "text/plain": [
       "array([[38.250313]], dtype=float32)"
      ]
     },
     "execution_count": 85,
     "metadata": {},
     "output_type": "execute_result"
    }
   ],
   "source": [
    "# 예측하기\n",
    "input_data = np.array([[190., 7.4, 67.]])\n",
    "scaled_y_hat = sess.run(H,feed_dict={X:x_scaler.transform(input_data)})\n",
    "y_scaler.inverse_transform(scaled_y_hat)"
   ]
  },
  {
   "cell_type": "markdown",
   "id": "92337e73",
   "metadata": {},
   "source": [
    "# 3. 이진분류 = logistic Regression(분류분석)\n",
    "- logistic 회귀분석 : 기본의 회귀분서과 다른 처리 필요"
   ]
  },
  {
   "cell_type": "code",
   "execution_count": 89,
   "id": "fd6171b9",
   "metadata": {},
   "outputs": [
    {
     "data": {
      "text/plain": [
       "<matplotlib.collections.PathCollection at 0x191374924d0>"
      ]
     },
     "execution_count": 89,
     "metadata": {},
     "output_type": "execute_result"
    },
    {
     "data": {
      "image/png": "[encoded data removed]",
      "text/plain": [
       "<Figure size 640x480 with 1 Axes>"
      ]
     },
     "metadata": {},
     "output_type": "display_data"
    }
   ],
   "source": [
    "x = np.array([1, 2, 5, 8, 10])\n",
    "y = np.array([0, 0, 0, 1, 1])  # 실제값\n",
    "from scipy import stats\n",
    "lm = stats.linregress(x, y)  # 기울기(W)와 y절편(ㅠ)\n",
    "H = lm[0]*x + lm[1]\n",
    "import matplotlib.pylab as plt\n",
    "plt.plot(x, H, 'r')\n",
    "plt.scatter(x, y)"
   ]
  },
  {
   "cell_type": "code",
   "execution_count": 90,
   "id": "8bcc523e",
   "metadata": {},
   "outputs": [
    {
     "data": {
      "text/plain": [
       "<matplotlib.collections.PathCollection at 0x19137660310>"
      ]
     },
     "execution_count": 90,
     "metadata": {},
     "output_type": "execute_result"
    },
    {
     "data": {
      "image/png": "[encoded data removed]",
      "text/plain": [
       "<Figure size 640x480 with 1 Axes>"
      ]
     },
     "metadata": {},
     "output_type": "display_data"
    }
   ],
   "source": [
    "x = np.array([1, 2, 5, 8, 10, 40])\n",
    "y = np.array([0, 0, 0, 1, 1, 1])  # 실제값\n",
    "from scipy import stats\n",
    "lm = stats.linregress(x, y)  # 기울기(W)와 y절편(ㅠ)\n",
    "H = lm[0]*x + lm[1]\n",
    "import matplotlib.pylab as plt\n",
    "plt.plot(x, H, 'r')\n",
    "plt.scatter(x, y)"
   ]
  },
  {
   "cell_type": "code",
   "execution_count": 100,
   "id": "b7cc1305",
   "metadata": {},
   "outputs": [
    {
     "name": "stdout",
     "output_type": "stream",
     "text": [
      "1000번째 cost:1.7793670892715454\n",
      "2000번째 cost:0.6460989713668823\n",
      "3000번째 cost:0.5671406984329224\n",
      "4000번째 cost:0.541770339012146\n",
      "5000번째 cost:0.518757164478302\n",
      "6000번째 cost:0.4978694021701813\n",
      "7000번째 cost:0.4788956046104431\n",
      "8000번째 cost:0.4616425037384033\n",
      "9000번째 cost:0.44593286514282227\n",
      "10000번째 cost:0.431605726480484\n"
     ]
    }
   ],
   "source": [
    "# 교안 50pt\n",
    "x_data = np.array([[10,0],\n",
    "                   [8,1],\n",
    "                   [3,3],\n",
    "                   [2,3],\n",
    "                   [5,1],\n",
    "                   [2,0],\n",
    "                   [1,0]])\n",
    "y_data = np.array([[1],\n",
    "                  [1],\n",
    "                  [1],\n",
    "                  [1],\n",
    "                  [0],\n",
    "                  [0],\n",
    "                  [0]])\n",
    "# tensorflow 구현(tensor 그래프)\n",
    "X = tf.placeholder(shape=[None, 2], dtype=tf.float32)\n",
    "y = tf.placeholder(shape=[None, 1], dtype=tf.float32)\n",
    "# 독립변수가 2개, 종속변수가 1개의 weight, bias\n",
    "W = tf.Variable(tf.random.normal([2, 1]))\n",
    "b = tf.Variable(tf.random.normal([1]))\n",
    "# Hypothesis\n",
    "logits = tf.matmul(X, W) + b\n",
    "H      = tf.sigmoid(logits)\n",
    "#cost 함수\n",
    "# cost = tf.reduce_mean(tf.square(H-y))\n",
    "cost = tf.reduce_mean(tf.nn.sigmoid_cross_entropy_with_logits(logits=logits,\n",
    "                                                             labels=y))\n",
    "# train\n",
    "train = tf.train.GradientDescentOptimizer(learning_rate=0.001).minimize(cost)\n",
    "# sess 객체 생성\n",
    "sess = tf.Session()\n",
    "sess.run(tf.global_variables_initializer())\n",
    "# 학습\n",
    "for step in range(1, 10001):\n",
    "    _, cost_val = sess.run([train, cost], feed_dict={X:X_data,\n",
    "                                                    y:y_data})\n",
    "    if step%1000 == 0:\n",
    "        print('{}번째 cost:{}'.format(step, cost_val))"
   ]
  },
  {
   "cell_type": "code",
   "execution_count": 103,
   "id": "efb4a442",
   "metadata": {},
   "outputs": [
    {
     "data": {
      "text/plain": [
       "array([[1.]], dtype=float32)"
      ]
     },
     "execution_count": 103,
     "metadata": {},
     "output_type": "execute_result"
    }
   ],
   "source": [
    "# 모델 사용\n",
    "input_data = np.array([[5,2]])\n",
    "predict = tf.cast(H>=0.5, dtype=tf.float32)\n",
    "sess.run(predict, feed_dict={X:input_data})"
   ]
  },
  {
   "cell_type": "code",
   "execution_count": 107,
   "id": "dc9033dd",
   "metadata": {},
   "outputs": [
    {
     "name": "stdout",
     "output_type": "stream",
     "text": [
      "모델 정확도 :  0.85714287\n"
     ]
    }
   ],
   "source": [
    "# accuracy\n",
    "correct = tf.equal(predict, y)\n",
    "sess.run(correct,feed_dict={X:X_data,\n",
    "                           y:y_data})\n",
    "accuracy = tf.reduce_mean(tf.cast(correct, dtype=tf.float32))\n",
    "print('모델 정확도 : ', sess.run(accuracy, feed_dict={X:X_data,\n",
    "                                                y:y_data}))"
   ]
  },
  {
   "cell_type": "markdown",
   "id": "3631a7aa",
   "metadata": {},
   "source": [
    "# 4. XOR"
   ]
  },
  {
   "cell_type": "code",
   "execution_count": 117,
   "id": "6bc3ffbe",
   "metadata": {},
   "outputs": [
    {
     "name": "stdout",
     "output_type": "stream",
     "text": [
      "1000번째 cost:0.8013128638267517\n",
      "2000번째 cost:0.7432124614715576\n",
      "3000번째 cost:0.7159487009048462\n",
      "4000번째 cost:0.7034693360328674\n",
      "5000번째 cost:0.6978162527084351\n",
      "6000번째 cost:0.6952619552612305\n",
      "7000번째 cost:0.6941066980361938\n",
      "8000번째 cost:0.6935832500457764\n",
      "9000번째 cost:0.6933456659317017\n",
      "10000번째 cost:0.6932375431060791\n"
     ]
    }
   ],
   "source": [
    "X_data = np.array([[0, 0],\n",
    "                  [0, 1],\n",
    "                  [1, 0],\n",
    "                  [1, 1]])\n",
    "y_data = np.array([[0], [1], [1], [0]])\n",
    "# X, y\n",
    "X = tf.placeholder(shape=[None, 2], dtype=tf.float32)\n",
    "y = tf.placeholder(shape=[None, 1], dtype=tf.float32)\n",
    "# 독립변수가 2개, 종속변수가 1개 W, b\n",
    "W = tf.Variable(tf.random.normal([2, 1]))\n",
    "b = tf.Variable(tf.random.normal([1]))\n",
    "# H\n",
    "logits = tf.matmul(X,W) + b\n",
    "H = tf.sigmoid(logits)\n",
    "# cost\n",
    "cost = tf.reduce_mean(tf.nn.sigmoid_cross_entropy_with_logits(logits=logits,\n",
    "                                                             labels=y))\n",
    "# train\n",
    "train = tf.train.GradientDescentOptimizer(learning_rate=0.01).minimize(cost)\n",
    "# sess 객체 생성\n",
    "sess = tf.Session()\n",
    "sess.run(tf.global_variables_initializer())\n",
    "# 학습\n",
    "for step in range(1, 10001):\n",
    "    _, cost_val = sess.run([train, cost], feed_dict={X:X_data,\n",
    "                                                    y:y_data})\n",
    "    if step%1000 == 0:\n",
    "        print('{}번째 cost:{}'.format(step, cost_val))"
   ]
  },
  {
   "cell_type": "code",
   "execution_count": 118,
   "id": "8b14519a",
   "metadata": {},
   "outputs": [
    {
     "name": "stdout",
     "output_type": "stream",
     "text": [
      "모델 정확도 :  0.75\n"
     ]
    }
   ],
   "source": [
    "# accuracy\n",
    "predict = tf.cast(H>=0.5, dtype=tf.float32)\n",
    "correct = tf.equal(predict, y)\n",
    "sess.run(correct,feed_dict={X:X_data,\n",
    "                           y:y_data})\n",
    "accuracy = tf.reduce_mean(tf.cast(correct, dtype=tf.float32))\n",
    "print('모델 정확도 : ', sess.run(accuracy, feed_dict={X:X_data,\n",
    "                                                y:y_data}))"
   ]
  },
  {
   "cell_type": "markdown",
   "id": "f3edc15c",
   "metadata": {},
   "source": [
    "# 5. Deep Learning XOR 예제"
   ]
  },
  {
   "cell_type": "code",
   "execution_count": 129,
   "id": "e03515cd",
   "metadata": {
    "scrolled": false
   },
   "outputs": [
    {
     "name": "stdout",
     "output_type": "stream",
     "text": [
      "0번째 cost:0.8948565721511841\n",
      "1000번째 cost:0.3777511417865753\n",
      "2000번째 cost:0.22840581834316254\n",
      "3000번째 cost:0.14814099669456482\n",
      "4000번째 cost:0.1034104973077774\n",
      "5000번째 cost:0.07673494517803192\n",
      "6000번째 cost:0.059790484607219696\n",
      "7000번째 cost:0.048337455838918686\n",
      "8000번째 cost:0.04021361842751503\n",
      "9000번째 cost:0.034209638833999634\n",
      "10000번째 cost:0.02964804694056511\n",
      "11000번째 cost:0.026065869256854057\n",
      "12000번째 cost:0.0231988113373518\n",
      "13000번째 cost:0.02085987664759159\n",
      "14000번째 cost:0.01891796663403511\n",
      "15000번째 cost:0.01728622056543827\n"
     ]
    }
   ],
   "source": [
    "X_data = np.array([[0, 0],\n",
    "                  [0, 1],\n",
    "                  [1, 0],\n",
    "                  [1, 1]])\n",
    "y_data = np.array([[0], [1], [1], [0]])\n",
    "# X, y\n",
    "X = tf.placeholder(shape=[None, 2], dtype=tf.float32)\n",
    "y = tf.placeholder(shape=[None, 1], dtype=tf.float32)\n",
    "# layer 1 : (입력 2개, 출력 4개)\n",
    "W1 = tf.Variable(tf.random.normal([2, 4]))\n",
    "b1 = tf.Variable(tf.random.normal([4]))\n",
    "# H\n",
    "layer1 = tf.nn.relu(tf.matmul(X,W1) + b1)\n",
    "\n",
    "# layer2 : (입력4, 출력1)\n",
    "W2 = tf.Variable(tf.random.normal([4, 1]))\n",
    "b2 = tf.Variable(tf.random.normal([1]))\n",
    "# H\n",
    "logits = tf.matmul(layer1, W2) + b2\n",
    "H      = tf.sigmoid(logits)\n",
    "\n",
    "# cost\n",
    "cost = tf.reduce_mean(tf.nn.sigmoid_cross_entropy_with_logits(logits=logits,\n",
    "                                                             labels=y))\n",
    "# train\n",
    "train = tf.train.GradientDescentOptimizer(learning_rate=0.01).minimize(cost)\n",
    "# sess 객체 생성\n",
    "sess = tf.Session()\n",
    "sess.run(tf.global_variables_initializer())\n",
    "# 학습\n",
    "for step in range(15001):\n",
    "    _, cost_val = sess.run([train, cost], feed_dict={X:X_data,\n",
    "                                                    y:y_data})\n",
    "    if step%1000==0:\n",
    "        print(\"{}번째 cost:{}\".format(step, cost_val))"
   ]
  },
  {
   "cell_type": "code",
   "execution_count": 130,
   "id": "7eb96541",
   "metadata": {},
   "outputs": [
    {
     "name": "stdout",
     "output_type": "stream",
     "text": [
      "모델 정확도 :  1.0\n"
     ]
    }
   ],
   "source": [
    "# accuracy\n",
    "predict = tf.cast(H>=0.5, dtype=tf.float32)\n",
    "correct = tf.equal(predict, y)\n",
    "sess.run(correct,feed_dict={X:X_data,\n",
    "                           y:y_data})\n",
    "accuracy = tf.reduce_mean(tf.cast(correct, dtype=tf.float32))\n",
    "print('모델 정확도 : ', sess.run(accuracy, feed_dict={X:X_data,\n",
    "                                                y:y_data}))"
   ]
  },
  {
   "cell_type": "code",
   "execution_count": null,
   "id": "75a8a11e",
   "metadata": {},
   "outputs": [],
   "source": []
  },
  {
   "cell_type": "markdown",
   "id": "a16b0248",
   "metadata": {},
   "source": [
    "## layer층 x_data 2개 -> 4 -> 1을\n",
    "## layer층 x_data2개 -> 10 -> 20 -> 10 -> 1\n",
    "                       입력층    hidden layer(relu)   출력층(sigmoid)"
   ]
  },
  {
   "cell_type": "code",
   "execution_count": 131,
   "id": "eebf38c8",
   "metadata": {},
   "outputs": [
    {
     "name": "stdout",
     "output_type": "stream",
     "text": [
      "0번째 cost:11.00701904296875\n",
      "50번째 cost:0.7576252222061157\n",
      "100번째 cost:0.3301711678504944\n",
      "150번째 cost:0.15550270676612854\n",
      "200번째 cost:0.11258572340011597\n",
      "250번째 cost:0.0839681476354599\n",
      "300번째 cost:0.06532449275255203\n"
     ]
    }
   ],
   "source": [
    "X_data = np.array([[0, 0],\n",
    "                  [0, 1],\n",
    "                  [1, 0],\n",
    "                  [1, 1]])\n",
    "y_data = np.array([[0], [1], [1], [0]])\n",
    "# X, y\n",
    "X = tf.placeholder(shape=[None, 2], dtype=tf.float32)\n",
    "y = tf.placeholder(shape=[None, 1], dtype=tf.float32)\n",
    "# layer 1 : (입력 2개, 출력 10개)\n",
    "W1 = tf.Variable(tf.random.normal([2, 10]))\n",
    "b1 = tf.Variable(tf.random.normal([10]))\n",
    "# H\n",
    "layer1 = tf.nn.relu(tf.matmul(X,W1) + b1)\n",
    "\n",
    "# layer2 : (입력10, 출력20)\n",
    "W2 = tf.Variable(tf.random.normal([10, 20]))\n",
    "b2 = tf.Variable(tf.random.normal([20]))\n",
    "# H\n",
    "layer2 = tf.nn.relu(tf.matmul(layer1, W2) + b2)\n",
    "\n",
    "# layer3 : (입력20, 출력10)\n",
    "W3 = tf.Variable(tf.random.normal([20, 10]))\n",
    "b3 = tf.Variable(tf.random.normal([10]))\n",
    "# H\n",
    "layer3 = tf.nn.relu(tf.matmul(layer2, W3) + b3)\n",
    "\n",
    "# layer4 : (입력10, 출력1)\n",
    "W4 = tf.Variable(tf.random.normal([10, 1]))\n",
    "b4 = tf.Variable(tf.random.normal([1]))\n",
    "# H\n",
    "logits = tf.matmul(layer3, W4) + b4\n",
    "H      = tf.sigmoid(logits)\n",
    "\n",
    "# cost\n",
    "cost = tf.reduce_mean(tf.nn.sigmoid_cross_entropy_with_logits(logits=logits,\n",
    "                                                             labels=y))\n",
    "# train\n",
    "train = tf.train.GradientDescentOptimizer(learning_rate=0.01).minimize(cost)\n",
    "# sess 객체 생성\n",
    "sess = tf.Session()\n",
    "sess.run(tf.global_variables_initializer())\n",
    "# 학습\n",
    "for step in range(301):\n",
    "    _, cost_val = sess.run([train, cost], feed_dict={X:X_data,\n",
    "                                                    y:y_data})\n",
    "    if step%50==0:\n",
    "        print(\"{}번째 cost:{}\".format(step, cost_val))"
   ]
  },
  {
   "cell_type": "code",
   "execution_count": 132,
   "id": "2cc83fdb",
   "metadata": {},
   "outputs": [
    {
     "name": "stdout",
     "output_type": "stream",
     "text": [
      "모델 정확도 :  1.0\n"
     ]
    }
   ],
   "source": [
    "# accuracy\n",
    "predict = tf.cast(H>=0.5, dtype=tf.float32)\n",
    "correct = tf.equal(predict, y)\n",
    "sess.run(correct,feed_dict={X:X_data,\n",
    "                           y:y_data})\n",
    "accuracy = tf.reduce_mean(tf.cast(correct, dtype=tf.float32))\n",
    "print('모델 정확도 : ', sess.run(accuracy, feed_dict={X:X_data,\n",
    "                                                y:y_data}))"
   ]
  },
  {
   "cell_type": "code",
   "execution_count": null,
   "id": "b424e1e5",
   "metadata": {},
   "outputs": [],
   "source": []
  },
  {
   "cell_type": "code",
   "execution_count": null,
   "id": "bfd5a036",
   "metadata": {},
   "outputs": [],
   "source": []
  },
  {
   "cell_type": "code",
   "execution_count": null,
   "id": "384060c1",
   "metadata": {},
   "outputs": [],
   "source": []
  },
  {
   "cell_type": "code",
   "execution_count": null,
   "id": "3676d7ea",
   "metadata": {},
   "outputs": [],
   "source": []
  },
  {
   "cell_type": "code",
   "execution_count": null,
   "id": "efc6972f",
   "metadata": {},
   "outputs": [],
   "source": []
  },
  {
   "cell_type": "code",
   "execution_count": null,
   "id": "c36eb592",
   "metadata": {},
   "outputs": [],
   "source": []
  },
  {
   "cell_type": "code",
   "execution_count": null,
   "id": "fca88fe2",
   "metadata": {},
   "outputs": [],
   "source": []
  },
  {
   "cell_type": "code",
   "execution_count": null,
   "id": "6da450e0",
   "metadata": {},
   "outputs": [],
   "source": []
  },
  {
   "cell_type": "code",
   "execution_count": null,
   "id": "5ef0f719",
   "metadata": {},
   "outputs": [],
   "source": []
  },
  {
   "cell_type": "code",
   "execution_count": null,
   "id": "e8273957",
   "metadata": {},
   "outputs": [],
   "source": []
  },
  {
   "cell_type": "code",
   "execution_count": null,
   "id": "5133121b",
   "metadata": {},
   "outputs": [],
   "source": []
  },
  {
   "cell_type": "code",
   "execution_count": null,
   "id": "9d89d6c4",
   "metadata": {},
   "outputs": [],
   "source": []
  },
  {
   "cell_type": "code",
   "execution_count": null,
   "id": "8a3ca759",
   "metadata": {},
   "outputs": [],
   "source": []
  },
  {
   "cell_type": "code",
   "execution_count": null,
   "id": "f2582896",
   "metadata": {},
   "outputs": [],
   "source": []
  },
  {
   "cell_type": "code",
   "execution_count": null,
   "id": "9049721c",
   "metadata": {},
   "outputs": [],
   "source": []
  },
  {
   "cell_type": "code",
   "execution_count": null,
   "id": "1f984dd2",
   "metadata": {},
   "outputs": [],
   "source": []
  },
  {
   "cell_type": "code",
   "execution_count": null,
   "id": "78b0782b",
   "metadata": {},
   "outputs": [],
   "source": []
  },
  {
   "cell_type": "code",
   "execution_count": null,
   "id": "54a1b296",
   "metadata": {},
   "outputs": [],
   "source": []
  },
  {
   "cell_type": "code",
   "execution_count": null,
   "id": "369f77b3",
   "metadata": {},
   "outputs": [],
   "source": []
  },
  {
   "cell_type": "code",
   "execution_count": null,
   "id": "9983b684",
   "metadata": {},
   "outputs": [],
   "source": []
  },
  {
   "cell_type": "code",
   "execution_count": null,
   "id": "118f3d5f",
   "metadata": {},
   "outputs": [],
   "source": []
  },
  {
   "cell_type": "code",
   "execution_count": null,
   "id": "6285c99c",
   "metadata": {},
   "outputs": [],
   "source": []
  },
  {
   "cell_type": "code",
   "execution_count": null,
   "id": "c094c891",
   "metadata": {},
   "outputs": [],
   "source": []
  },
  {
   "cell_type": "code",
   "execution_count": null,
   "id": "239d3b42",
   "metadata": {},
   "outputs": [],
   "source": []
  },
  {
   "cell_type": "code",
   "execution_count": null,
   "id": "8cda0e76",
   "metadata": {},
   "outputs": [],
   "source": []
  },
  {
   "cell_type": "code",
   "execution_count": null,
   "id": "22555f93",
   "metadata": {},
   "outputs": [],
   "source": []
  },
  {
   "cell_type": "code",
   "execution_count": null,
   "id": "f82e3c89",
   "metadata": {},
   "outputs": [],
   "source": []
  },
  {
   "cell_type": "code",
   "execution_count": null,
   "id": "283919ff",
   "metadata": {},
   "outputs": [],
   "source": []
  },
  {
   "cell_type": "code",
   "execution_count": null,
   "id": "15c2bf41",
   "metadata": {},
   "outputs": [],
   "source": []
  },
  {
   "cell_type": "code",
   "execution_count": null,
   "id": "3e0d4c5f",
   "metadata": {},
   "outputs": [],
   "source": []
  },
  {
   "cell_type": "code",
   "execution_count": null,
   "id": "8f3f1944",
   "metadata": {},
   "outputs": [],
   "source": []
  },
  {
   "cell_type": "code",
   "execution_count": null,
   "id": "7ae10190",
   "metadata": {},
   "outputs": [],
   "source": []
  },
  {
   "cell_type": "code",
   "execution_count": null,
   "id": "d3424056",
   "metadata": {},
   "outputs": [],
   "source": []
  },
  {
   "cell_type": "code",
   "execution_count": null,
   "id": "cb3ff7da",
   "metadata": {},
   "outputs": [],
   "source": []
  },
  {
   "cell_type": "code",
   "execution_count": null,
   "id": "af3312de",
   "metadata": {},
   "outputs": [],
   "source": []
  },
  {
   "cell_type": "code",
   "execution_count": null,
   "id": "22f6824f",
   "metadata": {},
   "outputs": [],
   "source": []
  },
  {
   "cell_type": "code",
   "execution_count": null,
   "id": "9c4e9e97",
   "metadata": {},
   "outputs": [],
   "source": []
  },
  {
   "cell_type": "code",
   "execution_count": null,
   "id": "b3fe8539",
   "metadata": {},
   "outputs": [],
   "source": []
  },
  {
   "cell_type": "code",
   "execution_count": null,
   "id": "a8a7c295",
   "metadata": {},
   "outputs": [],
   "source": []
  }
 ],
 "metadata": {
  "kernelspec": {
   "display_name": "ml-dl-nlp",
   "language": "python",
   "name": "ml-dl-nlp"
  },
  "language_info": {
   "codemirror_mode": {
    "name": "ipython",
    "version": 3
   },
   "file_extension": ".py",
   "mimetype": "text/x-python",
   "name": "python",
   "nbconvert_exporter": "python",
   "pygments_lexer": "ipython3",
   "version": "3.10.18"
  },
  "toc": {
   "base_numbering": 1,
   "nav_menu": {},
   "number_sections": false,
   "sideBar": true,
   "skip_h1_title": false,
   "title_cell": "Table of Contents",
   "title_sidebar": "Contents",
   "toc_cell": false,
   "toc_position": {
    "height": "calc(100% - 180px)",
    "left": "10px",
    "top": "150px",
    "width": "165px"
   },
   "toc_section_display": true,
   "toc_window_display": true
  }
 },
 "nbformat": 4,
 "nbformat_minor": 5
}
