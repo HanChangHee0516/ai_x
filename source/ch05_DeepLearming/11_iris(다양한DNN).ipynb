{
 "cells": [
  {
   "cell_type": "code",
   "execution_count": 2,
   "id": "e2baa53b",
   "metadata": {},
   "outputs": [
    {
     "data": {
      "text/html": [
       "\n",
       "<style>\n",
       "div.container{width:90% !important;}\n",
       "div.cell.code_cell.rendered{width:100%;}\n",
       "div.input_prompt{padding:2px;}\n",
       "div.CodeMirror {font-family:Consolas; font-size:10pt;}\n",
       "div.text_cell_render.rendered_html{font-size:10pt;}\n",
       "div.output {font-size:10pt; font-weight:bold;}\n",
       "div.input {font-family:Consolas; font-size:10pt;}\n",
       "div.prompt {min-width:70px;}\n",
       "div#toc-wrapper{padding-top:120px;}\n",
       "div.text_cell_render ul li{font-size:11pt;padding:4px;}\n",
       "table.dataframe{font-size:10px;}\n",
       "</style>\n"
      ],
      "text/plain": [
       "<IPython.core.display.HTML object>"
      ]
     },
     "metadata": {},
     "output_type": "display_data"
    }
   ],
   "source": [
    "from IPython.display import display, HTML\n",
    "display(HTML(\"\"\"\n",
    "<style>\n",
    "div.container{width:90% !important;}\n",
    "div.cell.code_cell.rendered{width:100%;}\n",
    "div.input_prompt{padding:2px;}\n",
    "div.CodeMirror {font-family:Consolas; font-size:10pt;}\n",
    "div.text_cell_render.rendered_html{font-size:10pt;}\n",
    "div.output {font-size:10pt; font-weight:bold;}\n",
    "div.input {font-family:Consolas; font-size:10pt;}\n",
    "div.prompt {min-width:70px;}\n",
    "div#toc-wrapper{padding-top:120px;}\n",
    "div.text_cell_render ul li{font-size:11pt;padding:4px;}\n",
    "table.dataframe{font-size:10px;}\n",
    "</style>\n",
    "\"\"\"))"
   ]
  },
  {
   "cell_type": "code",
   "execution_count": 7,
   "id": "fe4479ae",
   "metadata": {},
   "outputs": [],
   "source": [
    "# import\n",
    "import numpy as np\n",
    "import seaborn as sns # iris 데이터\n",
    "from sklearn.model_selection import train_test_split # 데이터 분할(층화추출)\n",
    "from tensorflow.keras.models import Sequential, load_model, save_model\n",
    "from tensorflow.keras.layers import Dense, Dropout, Input, add\n",
    "from tensorflow.keras.callbacks import EarlyStopping, ModelCheckpoint\n",
    "import matplotlib.pyplot as plt   # 학습과정 시각화"
   ]
  },
  {
   "cell_type": "code",
   "execution_count": null,
   "id": "31b4534c",
   "metadata": {},
   "outputs": [],
   "source": [
    "# 데이터 생성 및 전처리(라벨인코딩만 하고, 원핫인코딩 X)"
   ]
  },
  {
   "cell_type": "code",
   "execution_count": 8,
   "id": "14cd975d",
   "metadata": {},
   "outputs": [
    {
     "data": {
      "text/plain": [
       "((135, 4), (135,), (15, 4), (15,))"
      ]
     },
     "execution_count": 8,
     "metadata": {},
     "output_type": "execute_result"
    }
   ],
   "source": [
    "from sklearn import datasets\n",
    "iris = datasets.load_iris()\n",
    "# iris.keys()\n",
    "iris_X = iris.data\n",
    "iris_y = iris.target  # 라벨인코딩이 되어 있음\n",
    "iris_X.shape, iris_y.shape\n",
    "train_X, test_X, train_y, test_y = train_test_split(iris_X, iris_y,\n",
    "                                                   test_size=0.1,\n",
    "                                                   stratify= iris_y,\n",
    "                                                   random_state=4)\n",
    "train_X.shape, train_y.shape, test_X.shape, test_y.shape"
   ]
  },
  {
   "cell_type": "markdown",
   "id": "5cabae2d",
   "metadata": {},
   "source": [
    "# 1. 기본적인 DNN(원핫인코딩X)"
   ]
  },
  {
   "cell_type": "code",
   "execution_count": 12,
   "id": "b111288f",
   "metadata": {},
   "outputs": [
    {
     "name": "stdout",
     "output_type": "stream",
     "text": [
      "Model: \"sequential_3\"\n",
      "_________________________________________________________________\n",
      " Layer (type)                Output Shape              Param #   \n",
      "=================================================================\n",
      " dense_9 (Dense)             (None, 50)                250       \n",
      "                                                                 \n",
      " dense_10 (Dense)            (None, 30)                1530      \n",
      "                                                                 \n",
      " dense_11 (Dense)            (None, 3)                 93        \n",
      "                                                                 \n",
      "=================================================================\n",
      "Total params: 1,873\n",
      "Trainable params: 1,873\n",
      "Non-trainable params: 0\n",
      "_________________________________________________________________\n"
     ]
    }
   ],
   "source": [
    "# 모델 설정\n",
    "# model = Sequential()\n",
    "# model.add(Input(4,))\n",
    "# model.add(Dense(units=50, activation='relu'))\n",
    "# model.add(Dense(units=30, activation='relu'))\n",
    "# model.add(Dense(units=3, activation='softmax'))\n",
    "\n",
    "model = Sequential([\n",
    "    Input(4,),\n",
    "    Dense(units=50, activation='relu'),\n",
    "    Dense(units=30, activation='relu'),\n",
    "    Dense(units=3, activation='softmax')\n",
    "])\n",
    "\n",
    "model.summary()"
   ]
  },
  {
   "cell_type": "code",
   "execution_count": 17,
   "id": "e1ecacf2",
   "metadata": {
    "scrolled": true
   },
   "outputs": [
    {
     "name": "stdout",
     "output_type": "stream",
     "text": [
      "Epoch 1/1000\n",
      "4/4 [==============================] - 1s 66ms/step - loss: 1.2742 - accuracy: 0.3426 - val_loss: 1.1290 - val_accuracy: 0.2963\n",
      "Epoch 2/1000\n",
      "4/4 [==============================] - 0s 11ms/step - loss: 1.0641 - accuracy: 0.3519 - val_loss: 0.9958 - val_accuracy: 0.4444\n",
      "Epoch 3/1000\n",
      "4/4 [==============================] - 0s 12ms/step - loss: 0.9713 - accuracy: 0.6019 - val_loss: 0.9344 - val_accuracy: 0.6667\n",
      "Epoch 4/1000\n",
      "4/4 [==============================] - 0s 12ms/step - loss: 0.9143 - accuracy: 0.6667 - val_loss: 0.8820 - val_accuracy: 0.7037\n",
      "Epoch 5/1000\n",
      "4/4 [==============================] - 0s 11ms/step - loss: 0.8651 - accuracy: 0.6574 - val_loss: 0.8299 - val_accuracy: 0.7037\n",
      "Epoch 6/1000\n",
      "4/4 [==============================] - 0s 11ms/step - loss: 0.8109 - accuracy: 0.6574 - val_loss: 0.7737 - val_accuracy: 0.7037\n",
      "Epoch 7/1000\n",
      "4/4 [==============================] - 0s 12ms/step - loss: 0.7565 - accuracy: 0.7037 - val_loss: 0.7181 - val_accuracy: 0.8148\n",
      "Epoch 8/1000\n",
      "4/4 [==============================] - 0s 11ms/step - loss: 0.7052 - accuracy: 0.8056 - val_loss: 0.6596 - val_accuracy: 0.8889\n",
      "Epoch 9/1000\n",
      "4/4 [==============================] - 0s 12ms/step - loss: 0.6673 - accuracy: 0.9352 - val_loss: 0.6097 - val_accuracy: 1.0000\n",
      "Epoch 10/1000\n",
      "4/4 [==============================] - 0s 18ms/step - loss: 0.6245 - accuracy: 0.9444 - val_loss: 0.5684 - val_accuracy: 0.9630\n",
      "Epoch 11/1000\n",
      "4/4 [==============================] - 0s 13ms/step - loss: 0.5925 - accuracy: 0.8889 - val_loss: 0.5384 - val_accuracy: 0.8889\n",
      "Epoch 12/1000\n",
      "4/4 [==============================] - 0s 11ms/step - loss: 0.5652 - accuracy: 0.8426 - val_loss: 0.5056 - val_accuracy: 0.8889\n",
      "Epoch 13/1000\n",
      "4/4 [==============================] - 0s 12ms/step - loss: 0.5409 - accuracy: 0.8426 - val_loss: 0.4735 - val_accuracy: 0.8889\n",
      "Epoch 14/1000\n",
      "4/4 [==============================] - 0s 11ms/step - loss: 0.5193 - accuracy: 0.8519 - val_loss: 0.4450 - val_accuracy: 0.8889\n",
      "Epoch 15/1000\n",
      "4/4 [==============================] - 0s 11ms/step - loss: 0.4997 - accuracy: 0.8981 - val_loss: 0.4215 - val_accuracy: 0.9630\n",
      "Epoch 16/1000\n",
      "4/4 [==============================] - 0s 12ms/step - loss: 0.4832 - accuracy: 0.9630 - val_loss: 0.4025 - val_accuracy: 0.9630\n",
      "Epoch 17/1000\n",
      "4/4 [==============================] - 0s 12ms/step - loss: 0.4674 - accuracy: 0.9537 - val_loss: 0.3891 - val_accuracy: 0.9630\n",
      "Epoch 18/1000\n",
      "4/4 [==============================] - 0s 13ms/step - loss: 0.4505 - accuracy: 0.9537 - val_loss: 0.3735 - val_accuracy: 0.9630\n",
      "Epoch 19/1000\n",
      "4/4 [==============================] - 0s 12ms/step - loss: 0.4384 - accuracy: 0.9444 - val_loss: 0.3614 - val_accuracy: 0.9630\n",
      "Epoch 20/1000\n",
      "4/4 [==============================] - 0s 13ms/step - loss: 0.4241 - accuracy: 0.9630 - val_loss: 0.3446 - val_accuracy: 1.0000\n",
      "Epoch 21/1000\n",
      "4/4 [==============================] - 0s 13ms/step - loss: 0.4153 - accuracy: 0.9722 - val_loss: 0.3337 - val_accuracy: 1.0000\n",
      "Epoch 22/1000\n",
      "4/4 [==============================] - 0s 12ms/step - loss: 0.3999 - accuracy: 0.9722 - val_loss: 0.3304 - val_accuracy: 0.9630\n",
      "Epoch 23/1000\n",
      "4/4 [==============================] - 0s 12ms/step - loss: 0.3908 - accuracy: 0.9444 - val_loss: 0.3228 - val_accuracy: 0.9259\n",
      "Epoch 24/1000\n",
      "4/4 [==============================] - 0s 11ms/step - loss: 0.3797 - accuracy: 0.9352 - val_loss: 0.3052 - val_accuracy: 0.9630\n",
      "Epoch 25/1000\n",
      "4/4 [==============================] - 0s 12ms/step - loss: 0.3671 - accuracy: 0.9722 - val_loss: 0.2904 - val_accuracy: 1.0000\n",
      "Epoch 26/1000\n",
      "4/4 [==============================] - 0s 12ms/step - loss: 0.3625 - accuracy: 0.9815 - val_loss: 0.2813 - val_accuracy: 1.0000\n",
      "Epoch 27/1000\n",
      "4/4 [==============================] - 0s 11ms/step - loss: 0.3525 - accuracy: 0.9815 - val_loss: 0.2815 - val_accuracy: 0.9630\n",
      "Epoch 28/1000\n",
      "4/4 [==============================] - 0s 11ms/step - loss: 0.3458 - accuracy: 0.9630 - val_loss: 0.2812 - val_accuracy: 0.9630\n",
      "Epoch 29/1000\n",
      "4/4 [==============================] - 0s 12ms/step - loss: 0.3361 - accuracy: 0.9537 - val_loss: 0.2644 - val_accuracy: 0.9630\n",
      "Epoch 30/1000\n",
      "4/4 [==============================] - 0s 11ms/step - loss: 0.3251 - accuracy: 0.9815 - val_loss: 0.2584 - val_accuracy: 0.9630\n",
      "Epoch 31/1000\n",
      "4/4 [==============================] - 0s 11ms/step - loss: 0.3190 - accuracy: 0.9630 - val_loss: 0.2590 - val_accuracy: 0.9630\n",
      "Epoch 32/1000\n",
      "4/4 [==============================] - 0s 13ms/step - loss: 0.3122 - accuracy: 0.9537 - val_loss: 0.2477 - val_accuracy: 0.9630\n",
      "Epoch 33/1000\n",
      "4/4 [==============================] - 0s 11ms/step - loss: 0.3048 - accuracy: 0.9722 - val_loss: 0.2379 - val_accuracy: 0.9630\n",
      "Epoch 34/1000\n",
      "4/4 [==============================] - 0s 12ms/step - loss: 0.2960 - accuracy: 0.9815 - val_loss: 0.2346 - val_accuracy: 0.9630\n",
      "Epoch 35/1000\n",
      "4/4 [==============================] - 0s 12ms/step - loss: 0.2883 - accuracy: 0.9815 - val_loss: 0.2281 - val_accuracy: 0.9630\n",
      "Epoch 36/1000\n",
      "4/4 [==============================] - 0s 12ms/step - loss: 0.2823 - accuracy: 0.9815 - val_loss: 0.2237 - val_accuracy: 0.9630\n",
      "Epoch 37/1000\n",
      "4/4 [==============================] - 0s 12ms/step - loss: 0.2755 - accuracy: 0.9815 - val_loss: 0.2198 - val_accuracy: 0.9630\n",
      "Epoch 38/1000\n",
      "4/4 [==============================] - 0s 12ms/step - loss: 0.2688 - accuracy: 0.9815 - val_loss: 0.2131 - val_accuracy: 0.9630\n",
      "Epoch 39/1000\n",
      "4/4 [==============================] - 0s 11ms/step - loss: 0.2639 - accuracy: 0.9815 - val_loss: 0.2066 - val_accuracy: 0.9630\n",
      "Epoch 40/1000\n",
      "4/4 [==============================] - 0s 11ms/step - loss: 0.2571 - accuracy: 0.9815 - val_loss: 0.2002 - val_accuracy: 1.0000\n",
      "Epoch 41/1000\n",
      "4/4 [==============================] - 0s 11ms/step - loss: 0.2514 - accuracy: 0.9815 - val_loss: 0.1994 - val_accuracy: 0.9630\n",
      "Epoch 42/1000\n",
      "4/4 [==============================] - 0s 12ms/step - loss: 0.2456 - accuracy: 0.9815 - val_loss: 0.1968 - val_accuracy: 0.9630\n",
      "Epoch 43/1000\n",
      "4/4 [==============================] - 0s 12ms/step - loss: 0.2422 - accuracy: 0.9815 - val_loss: 0.1867 - val_accuracy: 1.0000\n",
      "Epoch 44/1000\n",
      "4/4 [==============================] - 0s 11ms/step - loss: 0.2344 - accuracy: 0.9815 - val_loss: 0.1855 - val_accuracy: 0.9630\n",
      "Epoch 45/1000\n",
      "4/4 [==============================] - 0s 15ms/step - loss: 0.2285 - accuracy: 0.9815 - val_loss: 0.1838 - val_accuracy: 0.9630\n",
      "Epoch 46/1000\n",
      "4/4 [==============================] - 0s 11ms/step - loss: 0.2250 - accuracy: 0.9815 - val_loss: 0.1773 - val_accuracy: 0.9630\n",
      "Epoch 47/1000\n",
      "4/4 [==============================] - 0s 11ms/step - loss: 0.2202 - accuracy: 0.9815 - val_loss: 0.1690 - val_accuracy: 1.0000\n",
      "Epoch 48/1000\n",
      "4/4 [==============================] - 0s 11ms/step - loss: 0.2157 - accuracy: 0.9815 - val_loss: 0.1688 - val_accuracy: 0.9630\n",
      "Epoch 49/1000\n",
      "4/4 [==============================] - 0s 11ms/step - loss: 0.2094 - accuracy: 0.9815 - val_loss: 0.1703 - val_accuracy: 0.9630\n",
      "Epoch 50/1000\n",
      "4/4 [==============================] - 0s 11ms/step - loss: 0.2068 - accuracy: 0.9815 - val_loss: 0.1678 - val_accuracy: 0.9630\n",
      "Epoch 51/1000\n",
      "4/4 [==============================] - 0s 11ms/step - loss: 0.2024 - accuracy: 0.9815 - val_loss: 0.1569 - val_accuracy: 1.0000\n",
      "Epoch 52/1000\n",
      "4/4 [==============================] - 0s 11ms/step - loss: 0.1992 - accuracy: 0.9815 - val_loss: 0.1525 - val_accuracy: 0.9630\n",
      "Epoch 53/1000\n",
      "4/4 [==============================] - 0s 11ms/step - loss: 0.1969 - accuracy: 0.9722 - val_loss: 0.1525 - val_accuracy: 0.9630\n",
      "Epoch 54/1000\n",
      "4/4 [==============================] - 0s 11ms/step - loss: 0.1890 - accuracy: 0.9815 - val_loss: 0.1582 - val_accuracy: 0.9630\n",
      "Epoch 55/1000\n",
      "4/4 [==============================] - 0s 15ms/step - loss: 0.1893 - accuracy: 0.9722 - val_loss: 0.1540 - val_accuracy: 0.9630\n",
      "Epoch 56/1000\n",
      "4/4 [==============================] - 0s 13ms/step - loss: 0.1816 - accuracy: 0.9815 - val_loss: 0.1422 - val_accuracy: 1.0000\n",
      "Epoch 57/1000\n",
      "4/4 [==============================] - 0s 12ms/step - loss: 0.1825 - accuracy: 0.9815 - val_loss: 0.1386 - val_accuracy: 1.0000\n",
      "Epoch 58/1000\n",
      "4/4 [==============================] - 0s 13ms/step - loss: 0.1812 - accuracy: 0.9815 - val_loss: 0.1390 - val_accuracy: 0.9630\n"
     ]
    },
    {
     "name": "stdout",
     "output_type": "stream",
     "text": [
      "Epoch 59/1000\n",
      "4/4 [==============================] - 0s 14ms/step - loss: 0.1719 - accuracy: 0.9815 - val_loss: 0.1371 - val_accuracy: 0.9630\n",
      "Epoch 60/1000\n",
      "4/4 [==============================] - 0s 12ms/step - loss: 0.1697 - accuracy: 0.9815 - val_loss: 0.1355 - val_accuracy: 0.9630\n",
      "Epoch 61/1000\n",
      "4/4 [==============================] - 0s 11ms/step - loss: 0.1672 - accuracy: 0.9815 - val_loss: 0.1308 - val_accuracy: 1.0000\n",
      "Epoch 62/1000\n",
      "4/4 [==============================] - 0s 10ms/step - loss: 0.1643 - accuracy: 0.9815 - val_loss: 0.1297 - val_accuracy: 0.9630\n",
      "Epoch 63/1000\n",
      "4/4 [==============================] - 0s 11ms/step - loss: 0.1594 - accuracy: 0.9815 - val_loss: 0.1338 - val_accuracy: 0.9630\n",
      "Epoch 64/1000\n",
      "4/4 [==============================] - 0s 11ms/step - loss: 0.1643 - accuracy: 0.9722 - val_loss: 0.1463 - val_accuracy: 0.9630\n",
      "Epoch 65/1000\n",
      "4/4 [==============================] - 0s 10ms/step - loss: 0.1630 - accuracy: 0.9630 - val_loss: 0.1272 - val_accuracy: 0.9630\n",
      "Epoch 66/1000\n",
      "4/4 [==============================] - 0s 10ms/step - loss: 0.1553 - accuracy: 0.9815 - val_loss: 0.1202 - val_accuracy: 1.0000\n",
      "Epoch 67/1000\n",
      "4/4 [==============================] - 0s 11ms/step - loss: 0.1515 - accuracy: 0.9815 - val_loss: 0.1207 - val_accuracy: 0.9630\n",
      "Epoch 68/1000\n",
      "4/4 [==============================] - 0s 11ms/step - loss: 0.1481 - accuracy: 0.9815 - val_loss: 0.1266 - val_accuracy: 0.9630\n",
      "Epoch 69/1000\n",
      "4/4 [==============================] - 0s 10ms/step - loss: 0.1501 - accuracy: 0.9815 - val_loss: 0.1200 - val_accuracy: 0.9630\n",
      "Epoch 70/1000\n",
      "4/4 [==============================] - 0s 12ms/step - loss: 0.1513 - accuracy: 0.9815 - val_loss: 0.1146 - val_accuracy: 0.9630\n",
      "Epoch 71/1000\n",
      "4/4 [==============================] - 0s 12ms/step - loss: 0.1476 - accuracy: 0.9815 - val_loss: 0.1146 - val_accuracy: 0.9630\n",
      "Epoch 72/1000\n",
      "4/4 [==============================] - 0s 11ms/step - loss: 0.1464 - accuracy: 0.9815 - val_loss: 0.1262 - val_accuracy: 0.9630\n",
      "Epoch 73/1000\n",
      "4/4 [==============================] - 0s 10ms/step - loss: 0.1434 - accuracy: 0.9722 - val_loss: 0.1151 - val_accuracy: 0.9630\n",
      "Epoch 74/1000\n",
      "4/4 [==============================] - 0s 11ms/step - loss: 0.1370 - accuracy: 0.9815 - val_loss: 0.1077 - val_accuracy: 1.0000\n",
      "Epoch 75/1000\n",
      "4/4 [==============================] - 0s 14ms/step - loss: 0.1365 - accuracy: 0.9907 - val_loss: 0.1071 - val_accuracy: 0.9630\n",
      "Epoch 76/1000\n",
      "4/4 [==============================] - 0s 12ms/step - loss: 0.1328 - accuracy: 0.9815 - val_loss: 0.1130 - val_accuracy: 0.9630\n",
      "Epoch 77/1000\n",
      "4/4 [==============================] - 0s 13ms/step - loss: 0.1355 - accuracy: 0.9815 - val_loss: 0.1154 - val_accuracy: 0.9630\n",
      "Epoch 78/1000\n",
      "4/4 [==============================] - 0s 13ms/step - loss: 0.1353 - accuracy: 0.9815 - val_loss: 0.1053 - val_accuracy: 0.9630\n",
      "Epoch 79/1000\n",
      "4/4 [==============================] - 0s 13ms/step - loss: 0.1275 - accuracy: 0.9815 - val_loss: 0.1023 - val_accuracy: 1.0000\n",
      "Epoch 80/1000\n",
      "4/4 [==============================] - 0s 12ms/step - loss: 0.1276 - accuracy: 0.9907 - val_loss: 0.1009 - val_accuracy: 1.0000\n",
      "Epoch 81/1000\n",
      "4/4 [==============================] - 0s 12ms/step - loss: 0.1252 - accuracy: 0.9907 - val_loss: 0.1012 - val_accuracy: 0.9630\n",
      "Epoch 82/1000\n",
      "4/4 [==============================] - 0s 12ms/step - loss: 0.1210 - accuracy: 0.9815 - val_loss: 0.1061 - val_accuracy: 0.9630\n",
      "Epoch 83/1000\n",
      "4/4 [==============================] - 0s 11ms/step - loss: 0.1259 - accuracy: 0.9815 - val_loss: 0.1148 - val_accuracy: 0.9630\n",
      "Epoch 84/1000\n",
      "4/4 [==============================] - 0s 12ms/step - loss: 0.1266 - accuracy: 0.9722 - val_loss: 0.1016 - val_accuracy: 0.9630\n",
      "Epoch 85/1000\n",
      "4/4 [==============================] - 0s 10ms/step - loss: 0.1198 - accuracy: 0.9815 - val_loss: 0.0962 - val_accuracy: 1.0000\n",
      "Epoch 86/1000\n",
      "4/4 [==============================] - 0s 11ms/step - loss: 0.1189 - accuracy: 0.9907 - val_loss: 0.0959 - val_accuracy: 0.9630\n",
      "Epoch 87/1000\n",
      "4/4 [==============================] - 0s 12ms/step - loss: 0.1159 - accuracy: 0.9815 - val_loss: 0.0992 - val_accuracy: 0.9630\n",
      "Epoch 88/1000\n",
      "4/4 [==============================] - 0s 12ms/step - loss: 0.1165 - accuracy: 0.9815 - val_loss: 0.0974 - val_accuracy: 0.9630\n",
      "Epoch 89/1000\n",
      "4/4 [==============================] - 0s 12ms/step - loss: 0.1128 - accuracy: 0.9815 - val_loss: 0.0925 - val_accuracy: 1.0000\n",
      "Epoch 90/1000\n",
      "4/4 [==============================] - 0s 14ms/step - loss: 0.1150 - accuracy: 0.9907 - val_loss: 0.0916 - val_accuracy: 1.0000\n",
      "Epoch 91/1000\n",
      "4/4 [==============================] - 0s 13ms/step - loss: 0.1117 - accuracy: 0.9907 - val_loss: 0.0953 - val_accuracy: 0.9630\n",
      "Epoch 92/1000\n",
      "4/4 [==============================] - 0s 13ms/step - loss: 0.1100 - accuracy: 0.9815 - val_loss: 0.0968 - val_accuracy: 0.9630\n",
      "Epoch 93/1000\n",
      "4/4 [==============================] - 0s 11ms/step - loss: 0.1104 - accuracy: 0.9815 - val_loss: 0.0930 - val_accuracy: 0.9630\n",
      "Epoch 94/1000\n",
      "4/4 [==============================] - 0s 11ms/step - loss: 0.1162 - accuracy: 0.9815 - val_loss: 0.0886 - val_accuracy: 1.0000\n",
      "Epoch 95/1000\n",
      "4/4 [==============================] - 0s 11ms/step - loss: 0.1090 - accuracy: 0.9907 - val_loss: 0.0937 - val_accuracy: 0.9630\n",
      "Epoch 96/1000\n",
      "4/4 [==============================] - 0s 10ms/step - loss: 0.1070 - accuracy: 0.9815 - val_loss: 0.0928 - val_accuracy: 0.9630\n",
      "Epoch 97/1000\n",
      "4/4 [==============================] - 0s 10ms/step - loss: 0.1055 - accuracy: 0.9815 - val_loss: 0.0884 - val_accuracy: 0.9630\n",
      "Epoch 98/1000\n",
      "4/4 [==============================] - 0s 11ms/step - loss: 0.1039 - accuracy: 0.9815 - val_loss: 0.0865 - val_accuracy: 0.9630\n",
      "Epoch 99/1000\n",
      "4/4 [==============================] - 0s 12ms/step - loss: 0.1037 - accuracy: 0.9815 - val_loss: 0.0860 - val_accuracy: 0.9630\n",
      "Epoch 100/1000\n",
      "4/4 [==============================] - 0s 12ms/step - loss: 0.1023 - accuracy: 0.9907 - val_loss: 0.0849 - val_accuracy: 1.0000\n",
      "Epoch 101/1000\n",
      "4/4 [==============================] - 0s 13ms/step - loss: 0.1052 - accuracy: 0.9907 - val_loss: 0.0846 - val_accuracy: 0.9630\n",
      "Epoch 102/1000\n",
      "4/4 [==============================] - 0s 13ms/step - loss: 0.1027 - accuracy: 0.9815 - val_loss: 0.0855 - val_accuracy: 0.9630\n",
      "Epoch 103/1000\n",
      "4/4 [==============================] - 0s 13ms/step - loss: 0.1000 - accuracy: 0.9815 - val_loss: 0.0866 - val_accuracy: 0.9630\n",
      "Epoch 104/1000\n",
      "4/4 [==============================] - 0s 11ms/step - loss: 0.0993 - accuracy: 0.9815 - val_loss: 0.0850 - val_accuracy: 0.9630\n",
      "Epoch 105/1000\n",
      "4/4 [==============================] - 0s 11ms/step - loss: 0.0978 - accuracy: 0.9815 - val_loss: 0.0842 - val_accuracy: 0.9630\n",
      "Epoch 106/1000\n",
      "4/4 [==============================] - 0s 15ms/step - loss: 0.0972 - accuracy: 0.9815 - val_loss: 0.0824 - val_accuracy: 0.9630\n",
      "Epoch 107/1000\n",
      "4/4 [==============================] - 0s 10ms/step - loss: 0.1006 - accuracy: 0.9907 - val_loss: 0.0816 - val_accuracy: 0.9630\n",
      "Epoch 108/1000\n",
      "4/4 [==============================] - 0s 10ms/step - loss: 0.0995 - accuracy: 0.9815 - val_loss: 0.0825 - val_accuracy: 0.9630\n",
      "Epoch 109/1000\n",
      "4/4 [==============================] - 0s 12ms/step - loss: 0.0948 - accuracy: 0.9815 - val_loss: 0.0815 - val_accuracy: 0.9630\n",
      "Epoch 110/1000\n",
      "4/4 [==============================] - 0s 12ms/step - loss: 0.0943 - accuracy: 0.9907 - val_loss: 0.0815 - val_accuracy: 0.9630\n",
      "Epoch 111/1000\n",
      "4/4 [==============================] - 0s 13ms/step - loss: 0.0939 - accuracy: 0.9815 - val_loss: 0.0839 - val_accuracy: 0.9630\n",
      "Epoch 112/1000\n",
      "4/4 [==============================] - 0s 12ms/step - loss: 0.0954 - accuracy: 0.9815 - val_loss: 0.0860 - val_accuracy: 0.9630\n",
      "Epoch 113/1000\n",
      "4/4 [==============================] - 0s 13ms/step - loss: 0.0944 - accuracy: 0.9815 - val_loss: 0.0828 - val_accuracy: 0.9630\n",
      "Epoch 114/1000\n",
      "4/4 [==============================] - 0s 12ms/step - loss: 0.0918 - accuracy: 0.9815 - val_loss: 0.0793 - val_accuracy: 0.9630\n",
      "Epoch 115/1000\n",
      "4/4 [==============================] - 0s 10ms/step - loss: 0.0917 - accuracy: 0.9815 - val_loss: 0.0786 - val_accuracy: 0.9630\n",
      "Epoch 116/1000\n"
     ]
    },
    {
     "name": "stdout",
     "output_type": "stream",
     "text": [
      "4/4 [==============================] - 0s 11ms/step - loss: 0.0914 - accuracy: 0.9907 - val_loss: 0.0783 - val_accuracy: 0.9630\n",
      "Epoch 117/1000\n",
      "4/4 [==============================] - 0s 11ms/step - loss: 0.0934 - accuracy: 0.9907 - val_loss: 0.0777 - val_accuracy: 0.9630\n",
      "Epoch 118/1000\n",
      "4/4 [==============================] - 0s 11ms/step - loss: 0.0892 - accuracy: 0.9907 - val_loss: 0.0803 - val_accuracy: 0.9630\n",
      "Epoch 119/1000\n",
      "4/4 [==============================] - 0s 12ms/step - loss: 0.0893 - accuracy: 0.9815 - val_loss: 0.0817 - val_accuracy: 0.9630\n",
      "Epoch 120/1000\n",
      "4/4 [==============================] - 0s 10ms/step - loss: 0.0907 - accuracy: 0.9815 - val_loss: 0.0806 - val_accuracy: 0.9630\n",
      "Epoch 121/1000\n",
      "4/4 [==============================] - 0s 12ms/step - loss: 0.0881 - accuracy: 0.9815 - val_loss: 0.0766 - val_accuracy: 0.9630\n",
      "Epoch 122/1000\n",
      "4/4 [==============================] - 0s 13ms/step - loss: 0.0870 - accuracy: 0.9907 - val_loss: 0.0760 - val_accuracy: 0.9630\n",
      "Epoch 123/1000\n",
      "4/4 [==============================] - 0s 14ms/step - loss: 0.0874 - accuracy: 0.9907 - val_loss: 0.0756 - val_accuracy: 0.9630\n",
      "Epoch 124/1000\n",
      "4/4 [==============================] - 0s 14ms/step - loss: 0.0857 - accuracy: 0.9907 - val_loss: 0.0768 - val_accuracy: 0.9630\n",
      "Epoch 125/1000\n",
      "4/4 [==============================] - 0s 13ms/step - loss: 0.0847 - accuracy: 0.9815 - val_loss: 0.0787 - val_accuracy: 0.9630\n",
      "Epoch 126/1000\n",
      "4/4 [==============================] - 0s 14ms/step - loss: 0.0879 - accuracy: 0.9815 - val_loss: 0.0808 - val_accuracy: 0.9630\n",
      "Epoch 127/1000\n",
      "4/4 [==============================] - 0s 11ms/step - loss: 0.0864 - accuracy: 0.9815 - val_loss: 0.0747 - val_accuracy: 0.9630\n",
      "Epoch 128/1000\n",
      "4/4 [==============================] - 0s 13ms/step - loss: 0.0868 - accuracy: 0.9907 - val_loss: 0.0738 - val_accuracy: 0.9630\n",
      "Epoch 129/1000\n",
      "4/4 [==============================] - 0s 11ms/step - loss: 0.0833 - accuracy: 0.9815 - val_loss: 0.0772 - val_accuracy: 0.9630\n",
      "Epoch 130/1000\n",
      "4/4 [==============================] - 0s 11ms/step - loss: 0.0843 - accuracy: 0.9815 - val_loss: 0.0752 - val_accuracy: 0.9630\n",
      "Epoch 131/1000\n",
      "4/4 [==============================] - 0s 11ms/step - loss: 0.0829 - accuracy: 0.9815 - val_loss: 0.0751 - val_accuracy: 0.9630\n",
      "Epoch 132/1000\n",
      "4/4 [==============================] - 0s 11ms/step - loss: 0.0822 - accuracy: 0.9815 - val_loss: 0.0728 - val_accuracy: 0.9630\n",
      "Epoch 133/1000\n",
      "4/4 [==============================] - 0s 10ms/step - loss: 0.0820 - accuracy: 0.9907 - val_loss: 0.0725 - val_accuracy: 0.9630\n",
      "Epoch 134/1000\n",
      "4/4 [==============================] - 0s 11ms/step - loss: 0.0823 - accuracy: 0.9815 - val_loss: 0.0763 - val_accuracy: 0.9630\n",
      "Epoch 135/1000\n",
      "4/4 [==============================] - 0s 11ms/step - loss: 0.0850 - accuracy: 0.9815 - val_loss: 0.0822 - val_accuracy: 0.9630\n",
      "Epoch 136/1000\n",
      "4/4 [==============================] - 0s 11ms/step - loss: 0.0852 - accuracy: 0.9815 - val_loss: 0.0740 - val_accuracy: 0.9630\n",
      "Epoch 137/1000\n",
      "4/4 [==============================] - 0s 12ms/step - loss: 0.0807 - accuracy: 0.9907 - val_loss: 0.0720 - val_accuracy: 0.9630\n",
      "Epoch 138/1000\n",
      "4/4 [==============================] - 0s 11ms/step - loss: 0.0851 - accuracy: 0.9907 - val_loss: 0.0719 - val_accuracy: 0.9630\n",
      "Epoch 139/1000\n",
      "4/4 [==============================] - 0s 11ms/step - loss: 0.0794 - accuracy: 0.9907 - val_loss: 0.0773 - val_accuracy: 0.9630\n",
      "Epoch 140/1000\n",
      "4/4 [==============================] - 0s 11ms/step - loss: 0.0825 - accuracy: 0.9815 - val_loss: 0.0819 - val_accuracy: 0.9630\n",
      "Epoch 141/1000\n",
      "4/4 [==============================] - 0s 11ms/step - loss: 0.0847 - accuracy: 0.9815 - val_loss: 0.0745 - val_accuracy: 0.9630\n",
      "Epoch 142/1000\n",
      "4/4 [==============================] - 0s 12ms/step - loss: 0.0792 - accuracy: 0.9815 - val_loss: 0.0709 - val_accuracy: 0.9630\n",
      "Epoch 143/1000\n",
      "4/4 [==============================] - 0s 11ms/step - loss: 0.0796 - accuracy: 0.9907 - val_loss: 0.0706 - val_accuracy: 0.9630\n",
      "Epoch 144/1000\n",
      "4/4 [==============================] - 0s 11ms/step - loss: 0.0781 - accuracy: 0.9907 - val_loss: 0.0715 - val_accuracy: 0.9630\n",
      "Epoch 145/1000\n",
      "4/4 [==============================] - 0s 11ms/step - loss: 0.0772 - accuracy: 0.9907 - val_loss: 0.0730 - val_accuracy: 0.9630\n",
      "Epoch 146/1000\n",
      "4/4 [==============================] - 0s 11ms/step - loss: 0.0777 - accuracy: 0.9815 - val_loss: 0.0729 - val_accuracy: 0.9630\n",
      "Epoch 147/1000\n",
      "4/4 [==============================] - 0s 11ms/step - loss: 0.0771 - accuracy: 0.9815 - val_loss: 0.0708 - val_accuracy: 0.9630\n",
      "Epoch 148/1000\n",
      "4/4 [==============================] - 0s 11ms/step - loss: 0.0759 - accuracy: 0.9907 - val_loss: 0.0706 - val_accuracy: 0.9630\n",
      "Epoch 149/1000\n",
      "4/4 [==============================] - 0s 11ms/step - loss: 0.0748 - accuracy: 0.9815 - val_loss: 0.0724 - val_accuracy: 0.9630\n",
      "Epoch 150/1000\n",
      "4/4 [==============================] - 0s 11ms/step - loss: 0.0771 - accuracy: 0.9815 - val_loss: 0.0724 - val_accuracy: 0.9630\n",
      "Epoch 151/1000\n",
      "4/4 [==============================] - 0s 11ms/step - loss: 0.0759 - accuracy: 0.9907 - val_loss: 0.0697 - val_accuracy: 0.9630\n",
      "Epoch 152/1000\n",
      "4/4 [==============================] - 0s 11ms/step - loss: 0.0741 - accuracy: 0.9907 - val_loss: 0.0700 - val_accuracy: 0.9630\n",
      "Epoch 153/1000\n",
      "4/4 [==============================] - 0s 11ms/step - loss: 0.0741 - accuracy: 0.9907 - val_loss: 0.0696 - val_accuracy: 0.9630\n",
      "Epoch 154/1000\n",
      "4/4 [==============================] - 0s 12ms/step - loss: 0.0738 - accuracy: 0.9907 - val_loss: 0.0696 - val_accuracy: 0.9630\n",
      "Epoch 155/1000\n",
      "4/4 [==============================] - 0s 13ms/step - loss: 0.0737 - accuracy: 0.9907 - val_loss: 0.0691 - val_accuracy: 0.9630\n",
      "Epoch 156/1000\n",
      "4/4 [==============================] - 0s 11ms/step - loss: 0.0732 - accuracy: 0.9907 - val_loss: 0.0692 - val_accuracy: 0.9630\n",
      "Epoch 157/1000\n",
      "4/4 [==============================] - 0s 11ms/step - loss: 0.0773 - accuracy: 0.9907 - val_loss: 0.0687 - val_accuracy: 0.9630\n",
      "Epoch 158/1000\n",
      "4/4 [==============================] - 0s 12ms/step - loss: 0.0731 - accuracy: 0.9907 - val_loss: 0.0686 - val_accuracy: 0.9630\n",
      "Epoch 159/1000\n",
      "4/4 [==============================] - 0s 11ms/step - loss: 0.0734 - accuracy: 0.9907 - val_loss: 0.0688 - val_accuracy: 0.9630\n",
      "Epoch 160/1000\n",
      "4/4 [==============================] - 0s 11ms/step - loss: 0.0774 - accuracy: 0.9815 - val_loss: 0.0708 - val_accuracy: 0.9630\n",
      "Epoch 161/1000\n",
      "4/4 [==============================] - 0s 12ms/step - loss: 0.0721 - accuracy: 0.9815 - val_loss: 0.0684 - val_accuracy: 0.9630\n",
      "Epoch 162/1000\n",
      "4/4 [==============================] - 0s 11ms/step - loss: 0.0725 - accuracy: 0.9907 - val_loss: 0.0685 - val_accuracy: 0.9630\n",
      "Epoch 163/1000\n",
      "4/4 [==============================] - 0s 11ms/step - loss: 0.0716 - accuracy: 0.9907 - val_loss: 0.0686 - val_accuracy: 0.9630\n",
      "Epoch 164/1000\n",
      "4/4 [==============================] - 0s 15ms/step - loss: 0.0722 - accuracy: 0.9815 - val_loss: 0.0693 - val_accuracy: 0.9630\n",
      "Epoch 165/1000\n",
      "4/4 [==============================] - 0s 11ms/step - loss: 0.0715 - accuracy: 0.9907 - val_loss: 0.0681 - val_accuracy: 0.9630\n",
      "Epoch 166/1000\n",
      "4/4 [==============================] - 0s 11ms/step - loss: 0.0703 - accuracy: 0.9907 - val_loss: 0.0681 - val_accuracy: 0.9259\n",
      "Epoch 167/1000\n",
      "4/4 [==============================] - 0s 12ms/step - loss: 0.0722 - accuracy: 0.9907 - val_loss: 0.0683 - val_accuracy: 0.9630\n",
      "Epoch 168/1000\n",
      "4/4 [==============================] - 0s 11ms/step - loss: 0.0727 - accuracy: 0.9907 - val_loss: 0.0681 - val_accuracy: 0.9630\n",
      "Epoch 169/1000\n",
      "4/4 [==============================] - 0s 11ms/step - loss: 0.0701 - accuracy: 0.9907 - val_loss: 0.0682 - val_accuracy: 0.9630\n",
      "Epoch 170/1000\n",
      "4/4 [==============================] - 0s 11ms/step - loss: 0.0717 - accuracy: 0.9815 - val_loss: 0.0719 - val_accuracy: 0.9630\n",
      "Epoch 171/1000\n",
      "4/4 [==============================] - 0s 12ms/step - loss: 0.0717 - accuracy: 0.9815 - val_loss: 0.0712 - val_accuracy: 0.9630\n",
      "Epoch 172/1000\n",
      "4/4 [==============================] - 0s 11ms/step - loss: 0.0714 - accuracy: 0.9907 - val_loss: 0.0681 - val_accuracy: 0.9630\n",
      "Epoch 173/1000\n"
     ]
    },
    {
     "name": "stdout",
     "output_type": "stream",
     "text": [
      "4/4 [==============================] - 0s 12ms/step - loss: 0.0702 - accuracy: 0.9907 - val_loss: 0.0684 - val_accuracy: 0.9630\n",
      "Epoch 174/1000\n",
      "4/4 [==============================] - 0s 13ms/step - loss: 0.0705 - accuracy: 0.9907 - val_loss: 0.0684 - val_accuracy: 0.9630\n",
      "Epoch 175/1000\n",
      "4/4 [==============================] - 0s 13ms/step - loss: 0.0711 - accuracy: 0.9907 - val_loss: 0.0677 - val_accuracy: 0.9630\n",
      "Epoch 176/1000\n",
      "4/4 [==============================] - 0s 12ms/step - loss: 0.0675 - accuracy: 0.9907 - val_loss: 0.0701 - val_accuracy: 0.9630\n",
      "Epoch 177/1000\n",
      "4/4 [==============================] - 0s 12ms/step - loss: 0.0691 - accuracy: 0.9907 - val_loss: 0.0737 - val_accuracy: 0.9630\n",
      "Epoch 178/1000\n",
      "4/4 [==============================] - 0s 13ms/step - loss: 0.0714 - accuracy: 0.9815 - val_loss: 0.0704 - val_accuracy: 0.9630\n",
      "Epoch 179/1000\n",
      "4/4 [==============================] - 0s 12ms/step - loss: 0.0691 - accuracy: 0.9907 - val_loss: 0.0675 - val_accuracy: 0.9630\n",
      "Epoch 180/1000\n",
      "4/4 [==============================] - 0s 11ms/step - loss: 0.0692 - accuracy: 0.9907 - val_loss: 0.0674 - val_accuracy: 0.9259\n",
      "Epoch 181/1000\n",
      "4/4 [==============================] - 0s 11ms/step - loss: 0.0670 - accuracy: 0.9907 - val_loss: 0.0688 - val_accuracy: 0.9630\n",
      "Epoch 182/1000\n",
      "4/4 [==============================] - 0s 11ms/step - loss: 0.0681 - accuracy: 0.9907 - val_loss: 0.0698 - val_accuracy: 0.9630\n",
      "Epoch 183/1000\n",
      "4/4 [==============================] - 0s 11ms/step - loss: 0.0684 - accuracy: 0.9907 - val_loss: 0.0683 - val_accuracy: 0.9630\n",
      "Epoch 184/1000\n",
      "4/4 [==============================] - 0s 10ms/step - loss: 0.0679 - accuracy: 0.9907 - val_loss: 0.0683 - val_accuracy: 0.9630\n",
      "Epoch 185/1000\n",
      "4/4 [==============================] - 0s 11ms/step - loss: 0.0697 - accuracy: 0.9907 - val_loss: 0.0689 - val_accuracy: 0.9630\n",
      "Epoch 186/1000\n",
      "4/4 [==============================] - 0s 12ms/step - loss: 0.0701 - accuracy: 0.9907 - val_loss: 0.0675 - val_accuracy: 0.9259\n",
      "Epoch 187/1000\n",
      "4/4 [==============================] - 0s 11ms/step - loss: 0.0690 - accuracy: 0.9907 - val_loss: 0.0709 - val_accuracy: 0.9630\n",
      "Epoch 188/1000\n",
      "4/4 [==============================] - 0s 12ms/step - loss: 0.0669 - accuracy: 0.9907 - val_loss: 0.0680 - val_accuracy: 0.9630\n",
      "Epoch 189/1000\n",
      "4/4 [==============================] - 0s 11ms/step - loss: 0.0671 - accuracy: 0.9907 - val_loss: 0.0676 - val_accuracy: 0.9259\n",
      "Epoch 190/1000\n",
      "4/4 [==============================] - 0s 11ms/step - loss: 0.0670 - accuracy: 0.9907 - val_loss: 0.0679 - val_accuracy: 0.9630\n",
      "Epoch 191/1000\n",
      "4/4 [==============================] - 0s 12ms/step - loss: 0.0651 - accuracy: 0.9907 - val_loss: 0.0676 - val_accuracy: 0.9259\n",
      "Epoch 192/1000\n",
      "4/4 [==============================] - 0s 12ms/step - loss: 0.0665 - accuracy: 0.9907 - val_loss: 0.0675 - val_accuracy: 0.9259\n",
      "Epoch 193/1000\n",
      "4/4 [==============================] - 0s 12ms/step - loss: 0.0653 - accuracy: 0.9907 - val_loss: 0.0682 - val_accuracy: 0.9630\n",
      "Epoch 194/1000\n",
      "4/4 [==============================] - 0s 11ms/step - loss: 0.0643 - accuracy: 0.9907 - val_loss: 0.0710 - val_accuracy: 0.9630\n",
      "Epoch 195/1000\n",
      "4/4 [==============================] - 0s 11ms/step - loss: 0.0664 - accuracy: 0.9907 - val_loss: 0.0693 - val_accuracy: 0.9630\n",
      "Epoch 196/1000\n",
      "4/4 [==============================] - 0s 10ms/step - loss: 0.0642 - accuracy: 0.9907 - val_loss: 0.0677 - val_accuracy: 0.9259\n",
      "Epoch 197/1000\n",
      "4/4 [==============================] - 0s 11ms/step - loss: 0.0662 - accuracy: 0.9907 - val_loss: 0.0727 - val_accuracy: 0.9630\n",
      "Epoch 198/1000\n",
      "4/4 [==============================] - 0s 11ms/step - loss: 0.0732 - accuracy: 0.9815 - val_loss: 0.0686 - val_accuracy: 0.9630\n",
      "Epoch 199/1000\n",
      "4/4 [==============================] - 0s 11ms/step - loss: 0.0665 - accuracy: 0.9907 - val_loss: 0.0682 - val_accuracy: 0.9630\n",
      "Epoch 200/1000\n",
      "4/4 [==============================] - 0s 11ms/step - loss: 0.0640 - accuracy: 0.9907 - val_loss: 0.0685 - val_accuracy: 0.9630\n",
      "Epoch 201/1000\n",
      "4/4 [==============================] - 0s 12ms/step - loss: 0.0653 - accuracy: 0.9907 - val_loss: 0.0682 - val_accuracy: 0.9630\n",
      "Epoch 202/1000\n",
      "4/4 [==============================] - 0s 10ms/step - loss: 0.0665 - accuracy: 0.9907 - val_loss: 0.0699 - val_accuracy: 0.9630\n",
      "Epoch 203/1000\n",
      "4/4 [==============================] - 0s 11ms/step - loss: 0.0682 - accuracy: 0.9907 - val_loss: 0.0679 - val_accuracy: 0.9259\n",
      "Epoch 204/1000\n",
      "4/4 [==============================] - 0s 11ms/step - loss: 0.0633 - accuracy: 0.9907 - val_loss: 0.0696 - val_accuracy: 0.9630\n",
      "Epoch 205/1000\n",
      "4/4 [==============================] - 0s 12ms/step - loss: 0.0657 - accuracy: 0.9815 - val_loss: 0.0736 - val_accuracy: 0.9630\n",
      "Epoch 206/1000\n",
      "4/4 [==============================] - 0s 11ms/step - loss: 0.0665 - accuracy: 0.9815 - val_loss: 0.0701 - val_accuracy: 0.9630\n",
      "Epoch 207/1000\n",
      "4/4 [==============================] - 0s 11ms/step - loss: 0.0679 - accuracy: 0.9907 - val_loss: 0.0679 - val_accuracy: 0.9259\n",
      "Epoch 208/1000\n",
      "4/4 [==============================] - 0s 11ms/step - loss: 0.0638 - accuracy: 0.9907 - val_loss: 0.0697 - val_accuracy: 0.9630\n",
      "Epoch 209/1000\n",
      "4/4 [==============================] - 0s 10ms/step - loss: 0.0637 - accuracy: 0.9907 - val_loss: 0.0690 - val_accuracy: 0.9630\n",
      "Epoch 210/1000\n",
      "4/4 [==============================] - 0s 11ms/step - loss: 0.0629 - accuracy: 0.9907 - val_loss: 0.0694 - val_accuracy: 0.9630\n",
      "Epoch 211/1000\n",
      "4/4 [==============================] - 0s 11ms/step - loss: 0.0625 - accuracy: 0.9907 - val_loss: 0.0686 - val_accuracy: 0.9630\n",
      "Epoch 212/1000\n",
      "4/4 [==============================] - 0s 10ms/step - loss: 0.0627 - accuracy: 0.9907 - val_loss: 0.0684 - val_accuracy: 0.9259\n",
      "Epoch 213/1000\n",
      "4/4 [==============================] - 0s 11ms/step - loss: 0.0630 - accuracy: 0.9907 - val_loss: 0.0688 - val_accuracy: 0.9630\n",
      "Epoch 214/1000\n",
      "4/4 [==============================] - 0s 11ms/step - loss: 0.0628 - accuracy: 0.9907 - val_loss: 0.0703 - val_accuracy: 0.9630\n",
      "Epoch 215/1000\n",
      "4/4 [==============================] - 0s 12ms/step - loss: 0.0624 - accuracy: 0.9907 - val_loss: 0.0701 - val_accuracy: 0.9630\n",
      "Epoch 216/1000\n",
      "4/4 [==============================] - 0s 11ms/step - loss: 0.0630 - accuracy: 0.9907 - val_loss: 0.0682 - val_accuracy: 0.9259\n",
      "Epoch 217/1000\n",
      "4/4 [==============================] - 0s 11ms/step - loss: 0.0620 - accuracy: 0.9907 - val_loss: 0.0682 - val_accuracy: 0.9259\n",
      "Epoch 218/1000\n",
      "4/4 [==============================] - 0s 11ms/step - loss: 0.0621 - accuracy: 0.9907 - val_loss: 0.0683 - val_accuracy: 0.9259\n",
      "Epoch 219/1000\n",
      "4/4 [==============================] - 0s 11ms/step - loss: 0.0630 - accuracy: 0.9907 - val_loss: 0.0692 - val_accuracy: 0.9630\n",
      "Epoch 220/1000\n",
      "4/4 [==============================] - 0s 17ms/step - loss: 0.0624 - accuracy: 0.9907 - val_loss: 0.0695 - val_accuracy: 0.9630\n",
      "Epoch 221/1000\n",
      "4/4 [==============================] - 0s 12ms/step - loss: 0.0617 - accuracy: 0.9907 - val_loss: 0.0685 - val_accuracy: 0.9259\n",
      "Epoch 222/1000\n",
      "4/4 [==============================] - 0s 12ms/step - loss: 0.0617 - accuracy: 0.9907 - val_loss: 0.0687 - val_accuracy: 0.9630\n",
      "Epoch 223/1000\n",
      "4/4 [==============================] - 0s 13ms/step - loss: 0.0647 - accuracy: 0.9907 - val_loss: 0.0711 - val_accuracy: 0.9630\n",
      "Epoch 224/1000\n",
      "4/4 [==============================] - 0s 14ms/step - loss: 0.0597 - accuracy: 0.9907 - val_loss: 0.0687 - val_accuracy: 0.9259\n",
      "Epoch 225/1000\n",
      "4/4 [==============================] - 0s 14ms/step - loss: 0.0666 - accuracy: 0.9815 - val_loss: 0.0704 - val_accuracy: 0.9630\n",
      "Epoch 226/1000\n",
      "4/4 [==============================] - 0s 15ms/step - loss: 0.0638 - accuracy: 0.9907 - val_loss: 0.0687 - val_accuracy: 0.9259\n",
      "Epoch 227/1000\n",
      "4/4 [==============================] - 0s 15ms/step - loss: 0.0620 - accuracy: 0.9907 - val_loss: 0.0727 - val_accuracy: 0.9630\n",
      "Epoch 228/1000\n",
      "4/4 [==============================] - 0s 14ms/step - loss: 0.0625 - accuracy: 0.9907 - val_loss: 0.0714 - val_accuracy: 0.9630\n",
      "Epoch 229/1000\n",
      "4/4 [==============================] - 0s 14ms/step - loss: 0.0597 - accuracy: 0.9907 - val_loss: 0.0687 - val_accuracy: 0.9259\n",
      "Epoch 230/1000\n"
     ]
    },
    {
     "name": "stdout",
     "output_type": "stream",
     "text": [
      "1/4 [======>.......................] - ETA: 0s - loss: 0.0283 - accuracy: 1.0000\b\b\b\b\b\b\b\b\b\b\b\b\b\b\b\b\b\b\b\b\b\b\b\b\b\b\b\b\b\b\b\b\b\b\b\b\b\b\b\b\b\b\b\b\b\b\b\b\b\b\b\b\b\b\b\b\b\b\b\b\b\b\b\b\b\b\b\b\b\b\b\b\b\b\b\b\b\b\b\b\r",
      "4/4 [==============================] - 0s 13ms/step - loss: 0.0608 - accuracy: 0.9907 - val_loss: 0.0689 - val_accuracy: 0.9259\n"
     ]
    }
   ],
   "source": [
    "# 학습설정\n",
    "model.compile(loss='sparse_categorical_crossentropy',  # 라벨인코딩만 되어 있는 경우\n",
    "             optimizer='adam',\n",
    "             metrics=['accuracy'])\n",
    "earlyStopping = EarlyStopping(patience=50)  # monitor = 'val_loss' 기본값\n",
    "hist = model.fit(train_X, train_y,\n",
    "                epochs=1000,\n",
    "                validation_split=0.2,\n",
    "                callbacks=[earlyStopping])"
   ]
  },
  {
   "cell_type": "code",
   "execution_count": 18,
   "id": "dbbeec5a",
   "metadata": {},
   "outputs": [
    {
     "data": {
      "image/png": "[encoded data removed]",
      "text/plain": [
       "<Figure size 1200x600 with 2 Axes>"
      ]
     },
     "metadata": {},
     "output_type": "display_data"
    }
   ],
   "source": [
    "fig, loss_ax = plt.subplots(figsize=(12,6))\n",
    "loss_ax.plot(hist.history['loss'], 'y', label='train loss')\n",
    "loss_ax.plot(hist.history['val_loss'], 'r', label='val loss')\n",
    "acc_ax = loss_ax.twinx()\n",
    "acc_ax.plot(hist.history['accuracy'], 'g', label='train accuracy')\n",
    "acc_ax.plot(hist.history['val_accuracy'], 'b', label='val accuracy')\n",
    "loss_ax.set_xlabel('epochs')\n",
    "loss_ax.set_ylabel('loss')\n",
    "acc_ax.set_ylabel('accuracy')\n",
    "loss_ax.legend(loc='center right')\n",
    "acc_ax.legend(loc='upper left')\n",
    "plt.show()"
   ]
  },
  {
   "cell_type": "markdown",
   "id": "2bcc3cbe",
   "metadata": {},
   "source": [
    "# 2. sklearn 이용\n",
    "- 원핫인코딩을 하지 않고 라벨인코딩까지만 해야 작동. numpy 배열"
   ]
  },
  {
   "cell_type": "code",
   "execution_count": 19,
   "id": "7daaaf53",
   "metadata": {},
   "outputs": [],
   "source": [
    "from sklearn.neural_network import MLPClassifier"
   ]
  },
  {
   "cell_type": "code",
   "execution_count": 20,
   "id": "c9b7cb86",
   "metadata": {},
   "outputs": [],
   "source": [
    "# 머신러닝 3장 교안 43page\n",
    "mlp_model = MLPClassifier(hidden_layer_sizes=(50,30),\n",
    "                     activation='relu',\n",
    "                     solver='adam',\n",
    "                     alpha=0.0001,  # 과적합 방지 강도\n",
    "                     batch_size=40,\n",
    "                     max_iter=1000, # epoch\n",
    "                     early_stopping=True, # 조기 종료 활성화(val_loss)\n",
    "                     n_iter_no_change=50,  # patience\n",
    "                     validation_fraction=0.1, # 검증셋 비율\n",
    "                     warm_start=False, # True 일 경우 이전학습에 이어서 학습\n",
    "                     )"
   ]
  },
  {
   "cell_type": "code",
   "execution_count": 21,
   "id": "4bb77dbe",
   "metadata": {},
   "outputs": [
    {
     "data": {
      "text/html": [
       "<style>#sk-container-id-1 {color: black;background-color: white;}#sk-container-id-1 pre{padding: 0;}#sk-container-id-1 div.sk-toggleable {background-color: white;}#sk-container-id-1 label.sk-toggleable__label {cursor: pointer;display: block;width: 100%;margin-bottom: 0;padding: 0.3em;box-sizing: border-box;text-align: center;}#sk-container-id-1 label.sk-toggleable__label-arrow:before {content: \"▸\";float: left;margin-right: 0.25em;color: #696969;}#sk-container-id-1 label.sk-toggleable__label-arrow:hover:before {color: black;}#sk-container-id-1 div.sk-estimator:hover label.sk-toggleable__label-arrow:before {color: black;}#sk-container-id-1 div.sk-toggleable__content {max-height: 0;max-width: 0;overflow: hidden;text-align: left;background-color: #f0f8ff;}#sk-container-id-1 div.sk-toggleable__content pre {margin: 0.2em;color: black;border-radius: 0.25em;background-color: #f0f8ff;}#sk-container-id-1 input.sk-toggleable__control:checked~div.sk-toggleable__content {max-height: 200px;max-width: 100%;overflow: auto;}#sk-container-id-1 input.sk-toggleable__control:checked~label.sk-toggleable__label-arrow:before {content: \"▾\";}#sk-container-id-1 div.sk-estimator input.sk-toggleable__control:checked~label.sk-toggleable__label {background-color: #d4ebff;}#sk-container-id-1 div.sk-label input.sk-toggleable__control:checked~label.sk-toggleable__label {background-color: #d4ebff;}#sk-container-id-1 input.sk-hidden--visually {border: 0;clip: rect(1px 1px 1px 1px);clip: rect(1px, 1px, 1px, 1px);height: 1px;margin: -1px;overflow: hidden;padding: 0;position: absolute;width: 1px;}#sk-container-id-1 div.sk-estimator {font-family: monospace;background-color: #f0f8ff;border: 1px dotted black;border-radius: 0.25em;box-sizing: border-box;margin-bottom: 0.5em;}#sk-container-id-1 div.sk-estimator:hover {background-color: #d4ebff;}#sk-container-id-1 div.sk-parallel-item::after {content: \"\";width: 100%;border-bottom: 1px solid gray;flex-grow: 1;}#sk-container-id-1 div.sk-label:hover label.sk-toggleable__label {background-color: #d4ebff;}#sk-container-id-1 div.sk-serial::before {content: \"\";position: absolute;border-left: 1px solid gray;box-sizing: border-box;top: 0;bottom: 0;left: 50%;z-index: 0;}#sk-container-id-1 div.sk-serial {display: flex;flex-direction: column;align-items: center;background-color: white;padding-right: 0.2em;padding-left: 0.2em;position: relative;}#sk-container-id-1 div.sk-item {position: relative;z-index: 1;}#sk-container-id-1 div.sk-parallel {display: flex;align-items: stretch;justify-content: center;background-color: white;position: relative;}#sk-container-id-1 div.sk-item::before, #sk-container-id-1 div.sk-parallel-item::before {content: \"\";position: absolute;border-left: 1px solid gray;box-sizing: border-box;top: 0;bottom: 0;left: 50%;z-index: -1;}#sk-container-id-1 div.sk-parallel-item {display: flex;flex-direction: column;z-index: 1;position: relative;background-color: white;}#sk-container-id-1 div.sk-parallel-item:first-child::after {align-self: flex-end;width: 50%;}#sk-container-id-1 div.sk-parallel-item:last-child::after {align-self: flex-start;width: 50%;}#sk-container-id-1 div.sk-parallel-item:only-child::after {width: 0;}#sk-container-id-1 div.sk-dashed-wrapped {border: 1px dashed gray;margin: 0 0.4em 0.5em 0.4em;box-sizing: border-box;padding-bottom: 0.4em;background-color: white;}#sk-container-id-1 div.sk-label label {font-family: monospace;font-weight: bold;display: inline-block;line-height: 1.2em;}#sk-container-id-1 div.sk-label-container {text-align: center;}#sk-container-id-1 div.sk-container {/* jupyter's `normalize.less` sets `[hidden] { display: none; }` but bootstrap.min.css set `[hidden] { display: none !important; }` so we also need the `!important` here to be able to override the default hidden behavior on the sphinx rendered scikit-learn.org. See: https://github.com/scikit-learn/scikit-learn/issues/21755 */display: inline-block !important;position: relative;}#sk-container-id-1 div.sk-text-repr-fallback {display: none;}</style><div id=\"sk-container-id-1\" class=\"sk-top-container\"><div class=\"sk-text-repr-fallback\"><pre>MLPClassifier(batch_size=40, early_stopping=True, hidden_layer_sizes=(50, 30),\n",
       "              max_iter=1000, n_iter_no_change=50)</pre><b>In a Jupyter environment, please rerun this cell to show the HTML representation or trust the notebook. <br />On GitHub, the HTML representation is unable to render, please try loading this page with nbviewer.org.</b></div><div class=\"sk-container\" hidden><div class=\"sk-item\"><div class=\"sk-estimator sk-toggleable\"><input class=\"sk-toggleable__control sk-hidden--visually\" id=\"sk-estimator-id-1\" type=\"checkbox\" checked><label for=\"sk-estimator-id-1\" class=\"sk-toggleable__label sk-toggleable__label-arrow\">MLPClassifier</label><div class=\"sk-toggleable__content\"><pre>MLPClassifier(batch_size=40, early_stopping=True, hidden_layer_sizes=(50, 30),\n",
       "              max_iter=1000, n_iter_no_change=50)</pre></div></div></div></div></div>"
      ],
      "text/plain": [
       "MLPClassifier(batch_size=40, early_stopping=True, hidden_layer_sizes=(50, 30),\n",
       "              max_iter=1000, n_iter_no_change=50)"
      ]
     },
     "execution_count": 21,
     "metadata": {},
     "output_type": "execute_result"
    }
   ],
   "source": [
    "mlp_model.fit(train_X, train_y)"
   ]
  },
  {
   "cell_type": "code",
   "execution_count": 32,
   "id": "311c54c5",
   "metadata": {},
   "outputs": [
    {
     "name": "stdout",
     "output_type": "stream",
     "text": [
      "정확도 :  0.8\n",
      "재현율 :  0.8\n",
      "정밀도 :  0.875\n",
      "교차표 \n",
      " :  예측  0  1  2\n",
      "실제         \n",
      "0   5  0  0\n",
      "1   0  2  3\n",
      "2   0  0  5\n"
     ]
    }
   ],
   "source": [
    "# 모델 평가 : accuracy(test_X, test_y) /  recall, precision(test_X,yhat)\n",
    "from sklearn.metrics import recall_score, precision_score\n",
    "accuracy = mlp_model.score(test_X, test_y)\n",
    "yhat = mlp_model.predict(test_X)\n",
    "recall = recall_score(test_y, yhat, average='weighted')\n",
    "precision = precision_score(test_y, yhat, average='weighted')\n",
    "print('정확도 : ',accuracy)\n",
    "print('재현율 : ',recall)\n",
    "print('정밀도 : ',precision)\n",
    "print('교차표 \\n : ',pd.crosstab(test_y, yhat,\n",
    "                             rownames=['실제'],\n",
    "                             colnames=['예측']))\n"
   ]
  },
  {
   "cell_type": "markdown",
   "id": "b20c4760",
   "metadata": {},
   "source": [
    "# 3. 클래스 이용"
   ]
  },
  {
   "cell_type": "code",
   "execution_count": 35,
   "id": "8555d2d1",
   "metadata": {},
   "outputs": [],
   "source": [
    "class DNNClassifier:\n",
    "    @staticmethod\n",
    "    def build(input_dim=4, activation='relu', optimizer='adam'):\n",
    "#         model = Sequential()\n",
    "#         model.add(Input(input_dim, ))\n",
    "#         model.add(Dense(50, activation=activation))\n",
    "#         model.add(Dense(30, activation=activation))\n",
    "#         model.add(Dense(3, activation='softmax'))\n",
    "        model = Sequential([\n",
    "            Input(input_dim,),\n",
    "            Dense(50, activation=activation),\n",
    "            Dense(30, activation=activation),\n",
    "            Dense(3, activation='softmax')\n",
    "        ])\n",
    "        # 모델 학습 설정\n",
    "        model.compile(loss='sparse_categorical_crossentropy',\n",
    "                     optimizer=optimizer,\n",
    "                     metrics=['accuracy'])\n",
    "        return model\n",
    "         "
   ]
  },
  {
   "cell_type": "code",
   "execution_count": 39,
   "id": "601895ce",
   "metadata": {},
   "outputs": [
    {
     "name": "stdout",
     "output_type": "stream",
     "text": [
      "Model: \"sequential_8\"\n",
      "_________________________________________________________________\n",
      " Layer (type)                Output Shape              Param #   \n",
      "=================================================================\n",
      " dense_24 (Dense)            (None, 50)                250       \n",
      "                                                                 \n",
      " dense_25 (Dense)            (None, 30)                1530      \n",
      "                                                                 \n",
      " dense_26 (Dense)            (None, 3)                 93        \n",
      "                                                                 \n",
      "=================================================================\n",
      "Total params: 1,873\n",
      "Trainable params: 1,873\n",
      "Non-trainable params: 0\n",
      "_________________________________________________________________\n",
      "CPU times: total: 18.7 s\n",
      "Wall time: 14.1 s\n"
     ]
    }
   ],
   "source": [
    "%%time\n",
    "# 모델 \n",
    "model = DNNClassifier.build(input_dim=4, activation='relu')\n",
    "model.summary()\n",
    "# 모델 학습\n",
    "hist = model.fit(train_X, train_y,\n",
    "                epochs=500,\n",
    "                validation_split=0.2,\n",
    "                verbose=0)"
   ]
  },
  {
   "cell_type": "code",
   "execution_count": 40,
   "id": "224e6a2d",
   "metadata": {},
   "outputs": [
    {
     "name": "stdout",
     "output_type": "stream",
     "text": [
      "1/1 [==============================] - 0s 23ms/step - loss: 0.0274 - accuracy: 1.0000\n"
     ]
    },
    {
     "data": {
      "text/plain": [
       "(0.027369175106287003, 1.0)"
      ]
     },
     "execution_count": 40,
     "metadata": {},
     "output_type": "execute_result"
    }
   ],
   "source": [
    "loss, accuracy = model.evaluate(test_X, test_y)\n",
    "loss, accuracy"
   ]
  },
  {
   "cell_type": "markdown",
   "id": "f69f7655",
   "metadata": {},
   "source": [
    "# 4. 함수형 API 이용하기\n",
    "- 병렬처리 : 속도를 높이기 위해 \n",
    "- 레지듀열블록(Residual block) : 모델의 성능을 높이기 위해(자연어처리, 이미지처리)"
   ]
  },
  {
   "cell_type": "code",
   "execution_count": 41,
   "id": "e54eff91",
   "metadata": {},
   "outputs": [],
   "source": [
    "# import\n",
    "import numpy as np\n",
    "import seaborn as sns # iris 데이터\n",
    "from sklearn.model_selection import train_test_split # 데이터 분할(층화추출)\n",
    "from tensorflow.keras import Model # 모델 생성(입력층과 출력층을 이용)\n",
    "from tensorflow.keras.layers import Dense, Input, add  # add : 레지듀얼블록\n",
    "from tensorflow.keras.layers import concatenate  # 병열처리시 \n",
    "from tensorflow.keras.callbacks import EarlyStopping, ModelCheckpoint\n",
    "import matplotlib.pyplot as plt   # 학습과정 시각화"
   ]
  },
  {
   "cell_type": "code",
   "execution_count": 42,
   "id": "21d76c91",
   "metadata": {},
   "outputs": [
    {
     "data": {
      "text/plain": [
       "((135, 4), (135,), (15, 4), (15,))"
      ]
     },
     "execution_count": 42,
     "metadata": {},
     "output_type": "execute_result"
    }
   ],
   "source": [
    "from sklearn import datasets\n",
    "iris = datasets.load_iris()\n",
    "# iris.keys()\n",
    "iris_X = iris.data\n",
    "iris_y = iris.target  # 라벨인코딩이 되어 있음\n",
    "iris_X.shape, iris_y.shape\n",
    "train_X, test_X, train_y, test_y = train_test_split(iris_X, iris_y,\n",
    "                                                   test_size=0.1,\n",
    "                                                   stratify= iris_y,\n",
    "                                                   random_state=4)\n",
    "train_X.shape, train_y.shape, test_X.shape, test_y.shape"
   ]
  },
  {
   "cell_type": "code",
   "execution_count": 46,
   "id": "d49e3f6b",
   "metadata": {
    "scrolled": true
   },
   "outputs": [
    {
     "name": "stdout",
     "output_type": "stream",
     "text": [
      "Model: \"model_3\"\n",
      "_________________________________________________________________\n",
      " Layer (type)                Output Shape              Param #   \n",
      "=================================================================\n",
      " input_13 (InputLayer)       [(None, 4)]               0         \n",
      "                                                                 \n",
      " dense_36 (Dense)            (None, 50)                250       \n",
      "                                                                 \n",
      " dense_37 (Dense)            (None, 30)                1530      \n",
      "                                                                 \n",
      " dense_38 (Dense)            (None, 3)                 93        \n",
      "                                                                 \n",
      "=================================================================\n",
      "Total params: 1,873\n",
      "Trainable params: 1,873\n",
      "Non-trainable params: 0\n",
      "_________________________________________________________________\n",
      "Epoch 1/20\n",
      "4/4 [==============================] - 0s 57ms/step - loss: 1.6640 - accuracy: 0.2963 - val_loss: 1.0525 - val_accuracy: 0.4815\n",
      "Epoch 2/20\n",
      "4/4 [==============================] - 0s 12ms/step - loss: 1.1660 - accuracy: 0.3796 - val_loss: 0.9203 - val_accuracy: 0.7778\n",
      "Epoch 3/20\n",
      "4/4 [==============================] - 0s 12ms/step - loss: 0.9246 - accuracy: 0.6296 - val_loss: 0.9250 - val_accuracy: 0.2593\n",
      "Epoch 4/20\n",
      "4/4 [==============================] - 0s 13ms/step - loss: 0.8922 - accuracy: 0.4167 - val_loss: 0.9809 - val_accuracy: 0.2593\n",
      "Epoch 5/20\n",
      "4/4 [==============================] - 0s 12ms/step - loss: 0.8755 - accuracy: 0.4259 - val_loss: 0.9626 - val_accuracy: 0.4444\n",
      "Epoch 6/20\n",
      "4/4 [==============================] - 0s 11ms/step - loss: 0.8489 - accuracy: 0.5463 - val_loss: 0.8861 - val_accuracy: 0.7037\n",
      "Epoch 7/20\n",
      "4/4 [==============================] - 0s 14ms/step - loss: 0.7919 - accuracy: 0.6481 - val_loss: 0.7891 - val_accuracy: 0.7037\n",
      "Epoch 8/20\n",
      "4/4 [==============================] - 0s 12ms/step - loss: 0.7468 - accuracy: 0.6574 - val_loss: 0.7136 - val_accuracy: 0.8519\n",
      "Epoch 9/20\n",
      "4/4 [==============================] - 0s 11ms/step - loss: 0.7101 - accuracy: 0.8704 - val_loss: 0.6632 - val_accuracy: 0.9259\n",
      "Epoch 10/20\n",
      "4/4 [==============================] - 0s 11ms/step - loss: 0.6845 - accuracy: 0.9259 - val_loss: 0.6249 - val_accuracy: 0.8519\n",
      "Epoch 11/20\n",
      "4/4 [==============================] - 0s 12ms/step - loss: 0.6648 - accuracy: 0.7315 - val_loss: 0.6026 - val_accuracy: 0.7037\n",
      "Epoch 12/20\n",
      "4/4 [==============================] - 0s 11ms/step - loss: 0.6375 - accuracy: 0.6759 - val_loss: 0.5761 - val_accuracy: 0.7037\n",
      "Epoch 13/20\n",
      "4/4 [==============================] - 0s 11ms/step - loss: 0.6199 - accuracy: 0.6667 - val_loss: 0.5558 - val_accuracy: 0.7037\n",
      "Epoch 14/20\n",
      "4/4 [==============================] - 0s 12ms/step - loss: 0.6009 - accuracy: 0.6759 - val_loss: 0.5292 - val_accuracy: 0.7037\n",
      "Epoch 15/20\n",
      "4/4 [==============================] - 0s 18ms/step - loss: 0.5836 - accuracy: 0.7593 - val_loss: 0.5095 - val_accuracy: 0.7407\n",
      "Epoch 16/20\n",
      "4/4 [==============================] - 0s 13ms/step - loss: 0.5697 - accuracy: 0.8241 - val_loss: 0.4912 - val_accuracy: 0.8519\n",
      "Epoch 17/20\n",
      "4/4 [==============================] - 0s 11ms/step - loss: 0.5557 - accuracy: 0.8704 - val_loss: 0.4770 - val_accuracy: 0.8519\n",
      "Epoch 18/20\n",
      "4/4 [==============================] - 0s 13ms/step - loss: 0.5416 - accuracy: 0.8611 - val_loss: 0.4693 - val_accuracy: 0.7778\n",
      "Epoch 19/20\n",
      "4/4 [==============================] - 0s 13ms/step - loss: 0.5307 - accuracy: 0.7870 - val_loss: 0.4658 - val_accuracy: 0.7407\n",
      "Epoch 20/20\n",
      "4/4 [==============================] - 0s 11ms/step - loss: 0.5180 - accuracy: 0.7500 - val_loss: 0.4550 - val_accuracy: 0.7407\n"
     ]
    },
    {
     "data": {
      "text/plain": [
       "<keras.callbacks.History at 0x20176341f00>"
      ]
     },
     "execution_count": 46,
     "metadata": {},
     "output_type": "execute_result"
    }
   ],
   "source": [
    "# 기존의 model 스타일 4 -> 50 -> 30 -> 3\n",
    "input_ = Input(shape=(4,))\n",
    "dense1 = Dense(units=50, activation='relu')(input_)\n",
    "dense2 = Dense(units=30, activation='relu')(dense1)\n",
    "dense3 = Dense(units=3, activation='softmax')(dense2)\n",
    "model = Model(inputs=input_, outputs=dense3)\n",
    "model.summary()\n",
    "model.compile(loss='sparse_categorical_crossentropy',\n",
    "             optimizer='adam',\n",
    "             metrics=['accuracy'])\n",
    "model.fit(train_X, train_y, epochs=20,\n",
    "         validation_split=0.2)"
   ]
  },
  {
   "cell_type": "code",
   "execution_count": 48,
   "id": "8fc74540",
   "metadata": {},
   "outputs": [
    {
     "name": "stdout",
     "output_type": "stream",
     "text": [
      "Model: \"model_4\"\n",
      "__________________________________________________________________________________________________\n",
      " Layer (type)                   Output Shape         Param #     Connected to                     \n",
      "==================================================================================================\n",
      " input_15 (InputLayer)          [(None, 4)]          0           []                               \n",
      "                                                                                                  \n",
      " dense_44 (Dense)               (None, 50)           250         ['input_15[0][0]']               \n",
      "                                                                                                  \n",
      " dense_45 (Dense)               (None, 80)           400         ['input_15[0][0]']               \n",
      "                                                                                                  \n",
      " dense_46 (Dense)               (None, 30)           150         ['input_15[0][0]']               \n",
      "                                                                                                  \n",
      " concatenate_1 (Concatenate)    (None, 160)          0           ['dense_44[0][0]',               \n",
      "                                                                  'dense_45[0][0]',               \n",
      "                                                                  'dense_46[0][0]']               \n",
      "                                                                                                  \n",
      " dense_47 (Dense)               (None, 32)           5152        ['concatenate_1[0][0]']          \n",
      "                                                                                                  \n",
      " dense_48 (Dense)               (None, 3)            99          ['dense_47[0][0]']               \n",
      "                                                                                                  \n",
      "==================================================================================================\n",
      "Total params: 6,051\n",
      "Trainable params: 6,051\n",
      "Non-trainable params: 0\n",
      "__________________________________________________________________________________________________\n"
     ]
    }
   ],
   "source": [
    "# 병렬처리\n",
    "# 4 -> 160(50, 80, 30로 병렬처리) -> 32 -> 3\n",
    "input_ = Input(shape=(4,))\n",
    "dense1 = Dense(units=50, activation='relu')(input_)\n",
    "dense2 = Dense(units=80, activation='relu')(input_)\n",
    "dense3 = Dense(units=30, activation='relu')(input_)\n",
    "x = concatenate([dense1, dense2, dense3])\n",
    "# x = Dense(160, activation='relu')(input_)의 병렬처리\n",
    "dense4 = Dense(units=32, activation='relu')(x)\n",
    "output = Dense(3, activation='softmax')(dense4)\n",
    "model = Model(inputs=input_, outputs=output)\n",
    "model.summary()"
   ]
  },
  {
   "cell_type": "code",
   "execution_count": 51,
   "id": "0176de5f",
   "metadata": {},
   "outputs": [
    {
     "name": "stdout",
     "output_type": "stream",
     "text": [
      "Model: \"model_7\"\n",
      "__________________________________________________________________________________________________\n",
      " Layer (type)                   Output Shape         Param #     Connected to                     \n",
      "==================================================================================================\n",
      " input_18 (InputLayer)          [(None, 4)]          0           []                               \n",
      "                                                                                                  \n",
      " dense_55 (Dense)               (None, 50)           250         ['input_18[0][0]']               \n",
      "                                                                                                  \n",
      " dense_56 (Dense)               (None, 50)           2550        ['dense_55[0][0]']               \n",
      "                                                                                                  \n",
      " add_2 (Add)                    (None, 50)           0           ['dense_55[0][0]',               \n",
      "                                                                  'dense_56[0][0]']               \n",
      "                                                                                                  \n",
      " dense_57 (Dense)               (None, 3)            153         ['add_2[0][0]']                  \n",
      "                                                                                                  \n",
      "==================================================================================================\n",
      "Total params: 2,953\n",
      "Trainable params: 2,953\n",
      "Non-trainable params: 0\n",
      "__________________________________________________________________________________________________\n",
      "CPU times: total: 20.8 s\n",
      "Wall time: 15.1 s\n"
     ]
    },
    {
     "data": {
      "text/plain": [
       "<keras.callbacks.History at 0x2016a04dff0>"
      ]
     },
     "execution_count": 51,
     "metadata": {},
     "output_type": "execute_result"
    }
   ],
   "source": [
    "%%time\n",
    "# 레지듀얼블록(Residual Block) : 딥러닝에서 딥한 네트워크가 학습이 잘 되지 않을 때\n",
    "# 4 -> 50 -> 128 ->  50 -> (레지듀얼) -> 3\n",
    "input_ = Input(shape=(4,))\n",
    "dense1 = Dense(units=50, activation='relu')(input_)\n",
    "dense2 = Dense(units=50, activation='relu')(dense1)\n",
    "dense3 = add([dense1, dense2])\n",
    "output = Dense(units=3, activation='softmax')(dense3)\n",
    "model = Model(inputs=input_, outputs=output)\n",
    "model.summary()\n",
    "model.compile(loss='sparse_categorical_crossentropy',\n",
    "             optimizer='adam',\n",
    "             metrics=['accuracy'])\n",
    "model.fit(train_X, train_y,\n",
    "         epochs=500,\n",
    "         validation_split=0.2,\n",
    "         verbose=0)"
   ]
  },
  {
   "cell_type": "code",
   "execution_count": 52,
   "id": "1231a6c4",
   "metadata": {},
   "outputs": [
    {
     "name": "stdout",
     "output_type": "stream",
     "text": [
      "1/1 [==============================] - 0s 21ms/step - loss: 0.0211 - accuracy: 1.0000\n"
     ]
    },
    {
     "data": {
      "text/plain": [
       "[0.02114107459783554, 1.0]"
      ]
     },
     "execution_count": 52,
     "metadata": {},
     "output_type": "execute_result"
    }
   ],
   "source": [
    "model.evaluate(test_X, test_y)"
   ]
  },
  {
   "cell_type": "code",
   "execution_count": null,
   "id": "05fd33f7",
   "metadata": {},
   "outputs": [],
   "source": []
  },
  {
   "cell_type": "code",
   "execution_count": null,
   "id": "d4718c12",
   "metadata": {},
   "outputs": [],
   "source": []
  },
  {
   "cell_type": "code",
   "execution_count": null,
   "id": "9a682f2b",
   "metadata": {},
   "outputs": [],
   "source": []
  },
  {
   "cell_type": "code",
   "execution_count": null,
   "id": "71ef650d",
   "metadata": {},
   "outputs": [],
   "source": []
  },
  {
   "cell_type": "code",
   "execution_count": null,
   "id": "f782c240",
   "metadata": {},
   "outputs": [],
   "source": []
  },
  {
   "cell_type": "code",
   "execution_count": null,
   "id": "b0d5157c",
   "metadata": {},
   "outputs": [],
   "source": []
  },
  {
   "cell_type": "code",
   "execution_count": null,
   "id": "a21d1f5e",
   "metadata": {},
   "outputs": [],
   "source": []
  },
  {
   "cell_type": "code",
   "execution_count": null,
   "id": "e4cccf1a",
   "metadata": {},
   "outputs": [],
   "source": []
  },
  {
   "cell_type": "code",
   "execution_count": null,
   "id": "a373ccdc",
   "metadata": {},
   "outputs": [],
   "source": []
  },
  {
   "cell_type": "code",
   "execution_count": null,
   "id": "0a30703b",
   "metadata": {},
   "outputs": [],
   "source": []
  },
  {
   "cell_type": "code",
   "execution_count": null,
   "id": "f5654968",
   "metadata": {},
   "outputs": [],
   "source": []
  },
  {
   "cell_type": "code",
   "execution_count": null,
   "id": "d099155e",
   "metadata": {},
   "outputs": [],
   "source": []
  },
  {
   "cell_type": "code",
   "execution_count": null,
   "id": "04c36a86",
   "metadata": {},
   "outputs": [],
   "source": [
    "from sklearn import datasets\n",
    "iris = datasets.load_iris()\n",
    "# iris.keys()\n",
    "iris_X = iris.data\n",
    "iris_y = iris.target  # 라벨인코딩이 되어 있음\n",
    "iris_X.shape, iris_y.shape\n",
    "train_X, test_X, train_y, test_y = train_test_split(iris_X, iris_y,\n",
    "                                                   test_size=0.1,\n",
    "                                                   stratify= iris_y,\n",
    "                                                   random_state=4)\n",
    "train_X.shape, train_y.shape, test_X.shape, test_y.shape\n",
    "\n",
    "model = Sequential([\n",
    "    Input(4,),\n",
    "    Dense(units=50, activation='relu'),\n",
    "    Dense(units=30, activation='relu'),\n",
    "    Dense(units=3, activation='softmax')\n",
    "])\n",
    "\n",
    "model.summary()\n",
    "\n",
    "# 학습설정\n",
    "model.compile(loss='sparse_categorical_crossentropy',  # 라벨인코딩만 되어 있는 경우\n",
    "             optimizer='adam',\n",
    "             metrics=['accuracy'])\n",
    "earlyStopping = EarlyStopping(patience=50)  # monitor = 'val_loss' 기본값\n",
    "hist = model.fit(train_X, train_y,\n",
    "                epochs=1000,\n",
    "                validation_split=0.2,\n",
    "                callbacks=[earlyStopping])"
   ]
  },
  {
   "cell_type": "code",
   "execution_count": null,
   "id": "346fadbd",
   "metadata": {},
   "outputs": [],
   "source": []
  },
  {
   "cell_type": "code",
   "execution_count": null,
   "id": "49f7939c",
   "metadata": {},
   "outputs": [],
   "source": []
  },
  {
   "cell_type": "code",
   "execution_count": null,
   "id": "a2b902b3",
   "metadata": {},
   "outputs": [],
   "source": []
  },
  {
   "cell_type": "code",
   "execution_count": null,
   "id": "0692e967",
   "metadata": {},
   "outputs": [],
   "source": []
  },
  {
   "cell_type": "code",
   "execution_count": null,
   "id": "b06c7d87",
   "metadata": {},
   "outputs": [],
   "source": []
  },
  {
   "cell_type": "code",
   "execution_count": null,
   "id": "c9f4e4e6",
   "metadata": {},
   "outputs": [],
   "source": []
  },
  {
   "cell_type": "code",
   "execution_count": null,
   "id": "d2380910",
   "metadata": {},
   "outputs": [],
   "source": []
  },
  {
   "cell_type": "code",
   "execution_count": null,
   "id": "98ca57b0",
   "metadata": {},
   "outputs": [],
   "source": []
  },
  {
   "cell_type": "code",
   "execution_count": null,
   "id": "5b0c1805",
   "metadata": {},
   "outputs": [],
   "source": []
  },
  {
   "cell_type": "code",
   "execution_count": null,
   "id": "b09318ed",
   "metadata": {},
   "outputs": [],
   "source": []
  },
  {
   "cell_type": "code",
   "execution_count": null,
   "id": "8468166f",
   "metadata": {},
   "outputs": [],
   "source": []
  },
  {
   "cell_type": "code",
   "execution_count": null,
   "id": "122862e2",
   "metadata": {},
   "outputs": [],
   "source": []
  },
  {
   "cell_type": "code",
   "execution_count": null,
   "id": "3462c4de",
   "metadata": {},
   "outputs": [],
   "source": []
  },
  {
   "cell_type": "code",
   "execution_count": null,
   "id": "e4d852ce",
   "metadata": {},
   "outputs": [],
   "source": []
  },
  {
   "cell_type": "code",
   "execution_count": null,
   "id": "e54e5671",
   "metadata": {},
   "outputs": [],
   "source": []
  },
  {
   "cell_type": "code",
   "execution_count": null,
   "id": "b2a4e3ff",
   "metadata": {},
   "outputs": [],
   "source": []
  },
  {
   "cell_type": "code",
   "execution_count": null,
   "id": "232fbbca",
   "metadata": {},
   "outputs": [],
   "source": []
  },
  {
   "cell_type": "code",
   "execution_count": null,
   "id": "ed8ec928",
   "metadata": {},
   "outputs": [],
   "source": []
  },
  {
   "cell_type": "code",
   "execution_count": null,
   "id": "81e11dea",
   "metadata": {},
   "outputs": [],
   "source": []
  },
  {
   "cell_type": "code",
   "execution_count": null,
   "id": "ba4dbee1",
   "metadata": {},
   "outputs": [],
   "source": []
  },
  {
   "cell_type": "code",
   "execution_count": null,
   "id": "2910ba97",
   "metadata": {},
   "outputs": [],
   "source": []
  },
  {
   "cell_type": "code",
   "execution_count": null,
   "id": "cad94cf3",
   "metadata": {},
   "outputs": [],
   "source": []
  },
  {
   "cell_type": "code",
   "execution_count": null,
   "id": "8a11bbcd",
   "metadata": {},
   "outputs": [],
   "source": []
  },
  {
   "cell_type": "code",
   "execution_count": null,
   "id": "a2beb817",
   "metadata": {},
   "outputs": [],
   "source": []
  },
  {
   "cell_type": "code",
   "execution_count": null,
   "id": "1685846d",
   "metadata": {},
   "outputs": [],
   "source": []
  },
  {
   "cell_type": "code",
   "execution_count": null,
   "id": "d0897b56",
   "metadata": {},
   "outputs": [],
   "source": []
  },
  {
   "cell_type": "code",
   "execution_count": null,
   "id": "4fe6f593",
   "metadata": {},
   "outputs": [],
   "source": []
  },
  {
   "cell_type": "code",
   "execution_count": null,
   "id": "f6da7d74",
   "metadata": {},
   "outputs": [],
   "source": []
  },
  {
   "cell_type": "code",
   "execution_count": null,
   "id": "687b67e0",
   "metadata": {},
   "outputs": [],
   "source": []
  },
  {
   "cell_type": "code",
   "execution_count": null,
   "id": "6a791d76",
   "metadata": {},
   "outputs": [],
   "source": []
  },
  {
   "cell_type": "code",
   "execution_count": null,
   "id": "d10da696",
   "metadata": {},
   "outputs": [],
   "source": []
  },
  {
   "cell_type": "code",
   "execution_count": null,
   "id": "661e2cd9",
   "metadata": {},
   "outputs": [],
   "source": []
  },
  {
   "cell_type": "code",
   "execution_count": null,
   "id": "8a6a7ce0",
   "metadata": {},
   "outputs": [],
   "source": []
  },
  {
   "cell_type": "code",
   "execution_count": null,
   "id": "d25b1cd0",
   "metadata": {},
   "outputs": [],
   "source": []
  }
 ],
 "metadata": {
  "kernelspec": {
   "display_name": "ml-dl-nlp",
   "language": "python",
   "name": "ml-dl-nlp"
  },
  "language_info": {
   "codemirror_mode": {
    "name": "ipython",
    "version": 3
   },
   "file_extension": ".py",
   "mimetype": "text/x-python",
   "name": "python",
   "nbconvert_exporter": "python",
   "pygments_lexer": "ipython3",
   "version": "3.10.18"
  },
  "toc": {
   "base_numbering": 1,
   "nav_menu": {},
   "number_sections": false,
   "sideBar": true,
   "skip_h1_title": false,
   "title_cell": "Table of Contents",
   "title_sidebar": "Contents",
   "toc_cell": false,
   "toc_position": {
    "height": "calc(100% - 180px)",
    "left": "10px",
    "top": "150px",
    "width": "165px"
   },
   "toc_section_display": true,
   "toc_window_display": true
  }
 },
 "nbformat": 4,
 "nbformat_minor": 5
}
