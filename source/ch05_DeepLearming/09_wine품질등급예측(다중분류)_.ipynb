{
 "cells": [
  {
   "cell_type": "code",
   "execution_count": 2,
   "id": "95b758ed",
   "metadata": {},
   "outputs": [
    {
     "data": {
      "text/html": [
       "\n",
       "<style>\n",
       "div.container{width:90% !important;}\n",
       "div.cell.code_cell.rendered{width:100%;}\n",
       "div.input_prompt{padding:2px;}\n",
       "div.CodeMirror {font-family:Consolas; font-size:10pt;}\n",
       "div.text_cell_render.rendered_html{font-size:10pt;}\n",
       "div.output {font-size:10pt; font-weight:bold;}\n",
       "div.input {font-family:Consolas; font-size:10pt;}\n",
       "div.prompt {min-width:70px;}\n",
       "div#toc-wrapper{padding-top:120px;}\n",
       "div.text_cell_render ul li{font-size:11pt;padding:4px;}\n",
       "table.dataframe{font-size:10px;}\n",
       "</style>\n"
      ],
      "text/plain": [
       "<IPython.core.display.HTML object>"
      ]
     },
     "metadata": {},
     "output_type": "display_data"
    }
   ],
   "source": [
    "from IPython.display import display, HTML\n",
    "display(HTML(\"\"\"\n",
    "<style>\n",
    "div.container{width:90% !important;}\n",
    "div.cell.code_cell.rendered{width:100%;}\n",
    "div.input_prompt{padding:2px;}\n",
    "div.CodeMirror {font-family:Consolas; font-size:10pt;}\n",
    "div.text_cell_render.rendered_html{font-size:10pt;}\n",
    "div.output {font-size:10pt; font-weight:bold;}\n",
    "div.input {font-family:Consolas; font-size:10pt;}\n",
    "div.prompt {min-width:70px;}\n",
    "div#toc-wrapper{padding-top:120px;}\n",
    "div.text_cell_render ul li{font-size:11pt;padding:4px;}\n",
    "table.dataframe{font-size:10px;}\n",
    "</style>\n",
    "\"\"\"))"
   ]
  },
  {
   "cell_type": "code",
   "execution_count": 3,
   "id": "d0f2ed3d",
   "metadata": {},
   "outputs": [],
   "source": [
    "import numpy as np\n",
    "import pandas as pd \n",
    "import sys\n",
    "from tensorflow.keras.datasets import mnist # mnist 훈련셋과 데이터 셋\n",
    "from tensorflow.keras.utils import to_categorical  # 원핫인코딩\n",
    "from tensorflow.keras.models import Sequential,save_model, load_model \n",
    "from tensorflow.keras.layers import Input, Dense, Dropout\n",
    "from matplotlib import pyplot as plt # loss와 acc의 학습 과정 그래프\n",
    "from sklearn.metrics import confusion_matrix # 혼동행렬\n",
    "from sklearn.preprocessing import MinMaxScaler, StandardScaler # 스케일 조정\n",
    "from sklearn.model_selection import train_test_split  # 데이터 분리"
   ]
  },
  {
   "cell_type": "markdown",
   "id": "f17b0e6f",
   "metadata": {},
   "source": [
    "- Red Wine 등급 예측\n",
    "1. 데이터 셋 확보\n",
    "    CSV -> 결측지 처리 -> 독립변수와 타겟변수 분리 -> 독립변수 스케일 조정, \n",
    "    -> 타겟변수의 원핫인코딩 -> 훈련셋과 테스트셋 분리(train_test_split이용 층화추출)\n",
    "2. 모델 구성(입력11, 출력6-pd.getdummoes. 출력9-to_ca) layer층 4\n",
    "3. 모델 학습 과정 설정\n",
    "4. 모델 학습(callbacks이용)\n",
    "5. 모델 평가(그래프, 평가, 교차표)\n",
    "6. 모델 저장 & 사용"
   ]
  },
  {
   "cell_type": "markdown",
   "id": "954bfba6",
   "metadata": {},
   "source": [
    "# 데이터 확보 & 전처리\n"
   ]
  },
  {
   "cell_type": "code",
   "execution_count": 29,
   "id": "3dbd14eb",
   "metadata": {
    "scrolled": true
   },
   "outputs": [
    {
     "data": {
      "text/plain": [
       "(5    681\n",
       " 6    638\n",
       " 7    199\n",
       " 4     53\n",
       " 8     18\n",
       " 3     10\n",
       " Name: quality, dtype: int64,\n",
       "       fixed acidity  volatile acidity  citric acid  residual sugar  chlorides  \\\n",
       " 0               7.4             0.700         0.00             1.9      0.076   \n",
       " 1               7.8             0.880         0.00             2.6      0.098   \n",
       " 2               7.8             0.760         0.04             2.3      0.092   \n",
       " 3              11.2             0.280         0.56             1.9      0.075   \n",
       " 4               7.4             0.700         0.00             1.9      0.076   \n",
       " ...             ...               ...          ...             ...        ...   \n",
       " 1594            6.2             0.600         0.08             2.0      0.090   \n",
       " 1595            5.9             0.550         0.10             2.2      0.062   \n",
       " 1596            6.3             0.510         0.13             2.3      0.076   \n",
       " 1597            5.9             0.645         0.12             2.0      0.075   \n",
       " 1598            6.0             0.310         0.47             3.6      0.067   \n",
       " \n",
       "       free sulfur dioxide  total sulfur dioxide  density    pH  sulphates  \\\n",
       " 0                    11.0                  34.0  0.99780  3.51       0.56   \n",
       " 1                    25.0                  67.0  0.99680  3.20       0.68   \n",
       " 2                    15.0                  54.0  0.99700  3.26       0.65   \n",
       " 3                    17.0                  60.0  0.99800  3.16       0.58   \n",
       " 4                    11.0                  34.0  0.99780  3.51       0.56   \n",
       " ...                   ...                   ...      ...   ...        ...   \n",
       " 1594                 32.0                  44.0  0.99490  3.45       0.58   \n",
       " 1595                 39.0                  51.0  0.99512  3.52       0.76   \n",
       " 1596                 29.0                  40.0  0.99574  3.42       0.75   \n",
       " 1597                 32.0                  44.0  0.99547  3.57       0.71   \n",
       " 1598                 18.0                  42.0  0.99549  3.39       0.66   \n",
       " \n",
       "       alcohol  quality  \n",
       " 0         9.4        5  \n",
       " 1         9.8        5  \n",
       " 2         9.8        5  \n",
       " 3         9.8        6  \n",
       " 4         9.4        5  \n",
       " ...       ...      ...  \n",
       " 1594     10.5        5  \n",
       " 1595     11.2        6  \n",
       " 1596     11.0        6  \n",
       " 1597     10.2        5  \n",
       " 1598     11.0        6  \n",
       " \n",
       " [1599 rows x 12 columns])"
      ]
     },
     "execution_count": 29,
     "metadata": {},
     "output_type": "execute_result"
    }
   ],
   "source": [
    "# fixed acidity : 고정 산도\n",
    "# volatile acidity : 휘발성 산도\n",
    "# citric acid : 시트르산\n",
    "# residual sugar : 잔류 당분\n",
    "# chlorides : 염화물\n",
    "# free sulfur dioxide : 자유 이산화황\n",
    "# total sulfur dioxide : 총 이산화황\n",
    "# density : 밀도\n",
    "# pH\n",
    "# sulphates : 황산염\n",
    "# alcohol\n",
    "# quality : 0 ~ 10(높을 수록 좋은 품질)\n",
    "data = pd.read_csv('data/winequality-red.csv', sep=';')\n",
    "data['quality'].value_counts()"
   ]
  },
  {
   "cell_type": "code",
   "execution_count": 35,
   "id": "e30f3060",
   "metadata": {},
   "outputs": [
    {
     "data": {
      "text/plain": [
       "((1599, 11), (1599, 1))"
      ]
     },
     "execution_count": 35,
     "metadata": {},
     "output_type": "execute_result"
    }
   ],
   "source": [
    "X = data.iloc[:, :-1].values\n",
    "y = data.iloc[:, -1:].values\n",
    "X.shape, y.shape\n"
   ]
  },
  {
   "cell_type": "code",
   "execution_count": 60,
   "id": "16a847df",
   "metadata": {},
   "outputs": [],
   "source": [
    "scaler = MinMaxScaler()\n",
    "scaled_X = scaler.fit_transform(X)"
   ]
  },
  {
   "cell_type": "code",
   "execution_count": 61,
   "id": "739261c4",
   "metadata": {},
   "outputs": [
    {
     "data": {
      "text/plain": [
       "((1119, 11), (480, 11), (1119, 1), (480, 1))"
      ]
     },
     "execution_count": 61,
     "metadata": {},
     "output_type": "execute_result"
    }
   ],
   "source": [
    "X_train, X_test, y_train, y_test = train_test_split(scaled_X,\n",
    "                                                   y,\n",
    "                                                   test_size=0.3, # 테스트셋비율\n",
    "                                                   random_state=7,\n",
    "                                                   stratify=y # 층화추출\n",
    "                                                   )\n",
    "\n",
    "X_train.shape, X_test.shape, y_train.shape, y_test.shape"
   ]
  },
  {
   "cell_type": "code",
   "execution_count": 62,
   "id": "67469067",
   "metadata": {},
   "outputs": [
    {
     "name": "stdout",
     "output_type": "stream",
     "text": [
      "[[6]\n",
      " [6]]\n",
      "[[0. 0. 0. 0. 0. 1. 0. 0. 0.]\n",
      " [0. 0. 0. 0. 0. 0. 1. 0. 0.]]\n"
     ]
    }
   ],
   "source": [
    "Y_train = to_categorical(y_train, 10)\n",
    "Y_val = to_categorical(y_val)\n",
    "Y_test = to_categorical(y_test)\n",
    "print(y_train[:2])\n",
    "print(Y_test[:2])"
   ]
  },
  {
   "cell_type": "code",
   "execution_count": 69,
   "id": "579fb938",
   "metadata": {},
   "outputs": [
    {
     "name": "stdout",
     "output_type": "stream",
     "text": [
      "Model: \"sequential_5\"\n",
      "_________________________________________________________________\n",
      " Layer (type)                Output Shape              Param #   \n",
      "=================================================================\n",
      " dense_20 (Dense)            (None, 300)               3600      \n",
      "                                                                 \n",
      " dense_21 (Dense)            (None, 400)               120400    \n",
      "                                                                 \n",
      " dense_22 (Dense)            (None, 200)               80200     \n",
      "                                                                 \n",
      " dense_23 (Dense)            (None, 10)                2010      \n",
      "                                                                 \n",
      "=================================================================\n",
      "Total params: 206,210\n",
      "Trainable params: 206,210\n",
      "Non-trainable params: 0\n",
      "_________________________________________________________________\n"
     ]
    }
   ],
   "source": [
    "model = Sequential()\n",
    "model.add(Input(shape=(11,)))\n",
    "model.add(Dense(units=300, activation='relu'))\n",
    "#model.add(Dropout(0.2))\n",
    "model.add(Dense(units=400, activation='relu'))\n",
    "#model.add(Dropout(0.2))\n",
    "model.add(Dense(units=200, activation='relu'))\n",
    "#model.add(Dropout(0.2))\n",
    "model.add(Dense(units=10, activation='softmax'))\n",
    "model.summary()"
   ]
  },
  {
   "cell_type": "code",
   "execution_count": 70,
   "id": "8230e10c",
   "metadata": {},
   "outputs": [],
   "source": [
    "from tensorflow.keras import metrics\n",
    "from tensorflow.keras.optimizers import Adam\n",
    "model.compile(loss='categorical_crossentropy',  # sparse_categorical_crossentropy 원핫인코딩 안할때\n",
    "             optimizer='adam',\n",
    "             metrics=['accuracy'])"
   ]
  },
  {
   "cell_type": "code",
   "execution_count": 71,
   "id": "82bea5c2",
   "metadata": {},
   "outputs": [
    {
     "name": "stdout",
     "output_type": "stream",
     "text": [
      "Epoch 1/100\n",
      "9/9 [==============================] - 1s 27ms/step - loss: 1.8553 - accuracy: 0.3732 - val_loss: 1.3025 - val_accuracy: 0.3616\n",
      "Epoch 2/100\n",
      "9/9 [==============================] - 0s 8ms/step - loss: 1.2756 - accuracy: 0.4793 - val_loss: 1.1731 - val_accuracy: 0.4955\n",
      "Epoch 3/100\n",
      "9/9 [==============================] - 0s 8ms/step - loss: 1.1882 - accuracy: 0.5464 - val_loss: 1.0948 - val_accuracy: 0.5982\n",
      "Epoch 4/100\n",
      "9/9 [==============================] - 0s 8ms/step - loss: 1.1167 - accuracy: 0.5642 - val_loss: 1.0561 - val_accuracy: 0.6071\n",
      "Epoch 5/100\n",
      "9/9 [==============================] - 0s 8ms/step - loss: 1.0725 - accuracy: 0.5654 - val_loss: 0.9963 - val_accuracy: 0.5893\n",
      "Epoch 6/100\n",
      "9/9 [==============================] - 0s 7ms/step - loss: 1.0308 - accuracy: 0.5866 - val_loss: 0.9546 - val_accuracy: 0.5982\n",
      "Epoch 7/100\n",
      "9/9 [==============================] - 0s 7ms/step - loss: 1.0090 - accuracy: 0.5821 - val_loss: 0.9418 - val_accuracy: 0.6027\n",
      "Epoch 8/100\n",
      "9/9 [==============================] - 0s 8ms/step - loss: 0.9908 - accuracy: 0.5877 - val_loss: 0.9415 - val_accuracy: 0.6027\n",
      "Epoch 9/100\n",
      "9/9 [==============================] - 0s 7ms/step - loss: 0.9823 - accuracy: 0.6034 - val_loss: 0.9358 - val_accuracy: 0.6161\n",
      "Epoch 10/100\n",
      "9/9 [==============================] - 0s 7ms/step - loss: 0.9708 - accuracy: 0.6078 - val_loss: 0.9084 - val_accuracy: 0.6250\n",
      "Epoch 11/100\n",
      "9/9 [==============================] - 0s 7ms/step - loss: 0.9669 - accuracy: 0.6045 - val_loss: 0.9401 - val_accuracy: 0.5804\n",
      "Epoch 12/100\n",
      "9/9 [==============================] - 0s 8ms/step - loss: 0.9766 - accuracy: 0.6067 - val_loss: 0.9054 - val_accuracy: 0.6473\n",
      "Epoch 13/100\n",
      "9/9 [==============================] - 0s 8ms/step - loss: 0.9569 - accuracy: 0.5933 - val_loss: 0.9054 - val_accuracy: 0.6161\n",
      "Epoch 14/100\n",
      "9/9 [==============================] - 0s 7ms/step - loss: 0.9473 - accuracy: 0.6034 - val_loss: 0.9304 - val_accuracy: 0.5893\n",
      "Epoch 15/100\n",
      "9/9 [==============================] - 0s 8ms/step - loss: 0.9425 - accuracy: 0.6112 - val_loss: 0.9644 - val_accuracy: 0.5625\n",
      "Epoch 16/100\n",
      "9/9 [==============================] - 0s 7ms/step - loss: 0.9591 - accuracy: 0.5899 - val_loss: 0.9185 - val_accuracy: 0.6071\n",
      "Epoch 17/100\n",
      "9/9 [==============================] - 0s 9ms/step - loss: 0.9446 - accuracy: 0.6034 - val_loss: 0.9028 - val_accuracy: 0.6384\n",
      "Epoch 18/100\n",
      "9/9 [==============================] - 0s 8ms/step - loss: 0.9390 - accuracy: 0.5911 - val_loss: 0.9045 - val_accuracy: 0.6295\n",
      "Epoch 19/100\n",
      "9/9 [==============================] - 0s 8ms/step - loss: 0.9306 - accuracy: 0.6078 - val_loss: 0.8909 - val_accuracy: 0.6295\n",
      "Epoch 20/100\n",
      "9/9 [==============================] - 0s 7ms/step - loss: 0.9128 - accuracy: 0.6358 - val_loss: 0.9240 - val_accuracy: 0.5848\n",
      "Epoch 21/100\n",
      "9/9 [==============================] - 0s 8ms/step - loss: 0.9113 - accuracy: 0.6268 - val_loss: 0.8848 - val_accuracy: 0.6473\n",
      "Epoch 22/100\n",
      "9/9 [==============================] - 0s 8ms/step - loss: 0.9050 - accuracy: 0.6335 - val_loss: 0.8835 - val_accuracy: 0.6384\n",
      "Epoch 23/100\n",
      "9/9 [==============================] - 0s 9ms/step - loss: 0.8994 - accuracy: 0.6246 - val_loss: 0.8871 - val_accuracy: 0.6473\n",
      "Epoch 24/100\n",
      "9/9 [==============================] - 0s 8ms/step - loss: 0.8919 - accuracy: 0.6313 - val_loss: 0.8773 - val_accuracy: 0.6339\n",
      "Epoch 25/100\n",
      "9/9 [==============================] - 0s 9ms/step - loss: 0.8843 - accuracy: 0.6257 - val_loss: 0.8941 - val_accuracy: 0.6250\n",
      "Epoch 26/100\n",
      "9/9 [==============================] - 0s 7ms/step - loss: 0.8874 - accuracy: 0.6402 - val_loss: 0.9368 - val_accuracy: 0.6116\n",
      "Epoch 27/100\n",
      "9/9 [==============================] - 0s 7ms/step - loss: 0.8912 - accuracy: 0.6223 - val_loss: 0.8907 - val_accuracy: 0.6250\n",
      "Epoch 28/100\n",
      "9/9 [==============================] - 0s 7ms/step - loss: 0.8768 - accuracy: 0.6313 - val_loss: 0.9174 - val_accuracy: 0.6205\n",
      "Epoch 29/100\n",
      "9/9 [==============================] - 0s 7ms/step - loss: 0.8861 - accuracy: 0.6257 - val_loss: 0.8973 - val_accuracy: 0.6205\n",
      "Epoch 30/100\n",
      "9/9 [==============================] - 0s 8ms/step - loss: 0.8808 - accuracy: 0.6346 - val_loss: 0.9015 - val_accuracy: 0.6161\n",
      "Epoch 31/100\n",
      "9/9 [==============================] - 0s 8ms/step - loss: 0.8707 - accuracy: 0.6279 - val_loss: 0.8923 - val_accuracy: 0.6250\n",
      "Epoch 32/100\n",
      "9/9 [==============================] - 0s 7ms/step - loss: 0.8567 - accuracy: 0.6413 - val_loss: 0.8679 - val_accuracy: 0.6830\n",
      "Epoch 33/100\n",
      "9/9 [==============================] - 0s 8ms/step - loss: 0.8562 - accuracy: 0.6525 - val_loss: 0.8766 - val_accuracy: 0.6562\n",
      "Epoch 34/100\n",
      "9/9 [==============================] - 0s 8ms/step - loss: 0.8521 - accuracy: 0.6324 - val_loss: 0.9088 - val_accuracy: 0.6071\n",
      "Epoch 35/100\n",
      "9/9 [==============================] - 0s 8ms/step - loss: 0.8514 - accuracy: 0.6436 - val_loss: 0.8890 - val_accuracy: 0.6250\n",
      "Epoch 36/100\n",
      "9/9 [==============================] - 0s 8ms/step - loss: 0.8389 - accuracy: 0.6559 - val_loss: 0.8964 - val_accuracy: 0.6384\n",
      "Epoch 37/100\n",
      "9/9 [==============================] - 0s 8ms/step - loss: 0.8393 - accuracy: 0.6458 - val_loss: 0.8745 - val_accuracy: 0.6696\n",
      "Epoch 38/100\n",
      "9/9 [==============================] - 0s 7ms/step - loss: 0.8280 - accuracy: 0.6458 - val_loss: 0.8759 - val_accuracy: 0.6652\n",
      "Epoch 39/100\n",
      "9/9 [==============================] - 0s 9ms/step - loss: 0.8292 - accuracy: 0.6603 - val_loss: 0.8674 - val_accuracy: 0.6562\n",
      "Epoch 40/100\n",
      "9/9 [==============================] - 0s 7ms/step - loss: 0.8260 - accuracy: 0.6480 - val_loss: 0.8722 - val_accuracy: 0.6607\n",
      "Epoch 41/100\n",
      "9/9 [==============================] - 0s 7ms/step - loss: 0.8133 - accuracy: 0.6469 - val_loss: 0.9110 - val_accuracy: 0.6339\n",
      "Epoch 42/100\n",
      "9/9 [==============================] - 0s 7ms/step - loss: 0.8466 - accuracy: 0.6380 - val_loss: 0.8739 - val_accuracy: 0.6696\n",
      "Epoch 43/100\n",
      "9/9 [==============================] - 0s 7ms/step - loss: 0.8272 - accuracy: 0.6525 - val_loss: 0.8766 - val_accuracy: 0.6607\n",
      "Epoch 44/100\n",
      "9/9 [==============================] - 0s 8ms/step - loss: 0.8114 - accuracy: 0.6492 - val_loss: 0.8942 - val_accuracy: 0.6518\n",
      "Epoch 45/100\n",
      "9/9 [==============================] - 0s 8ms/step - loss: 0.8052 - accuracy: 0.6682 - val_loss: 0.9127 - val_accuracy: 0.6250\n",
      "Epoch 46/100\n",
      "9/9 [==============================] - 0s 7ms/step - loss: 0.8039 - accuracy: 0.6581 - val_loss: 0.9182 - val_accuracy: 0.6250\n",
      "Epoch 47/100\n",
      "9/9 [==============================] - 0s 8ms/step - loss: 0.8040 - accuracy: 0.6603 - val_loss: 0.9010 - val_accuracy: 0.6473\n",
      "Epoch 48/100\n",
      "9/9 [==============================] - 0s 8ms/step - loss: 0.7997 - accuracy: 0.6670 - val_loss: 0.8982 - val_accuracy: 0.6518\n",
      "Epoch 49/100\n",
      "9/9 [==============================] - 0s 7ms/step - loss: 0.8171 - accuracy: 0.6413 - val_loss: 0.8955 - val_accuracy: 0.6429\n",
      "Epoch 50/100\n",
      "9/9 [==============================] - 0s 7ms/step - loss: 0.8060 - accuracy: 0.6480 - val_loss: 0.8734 - val_accuracy: 0.6429\n",
      "Epoch 51/100\n",
      "9/9 [==============================] - 0s 8ms/step - loss: 0.7923 - accuracy: 0.6615 - val_loss: 0.8836 - val_accuracy: 0.6429\n",
      "Epoch 52/100\n",
      "9/9 [==============================] - 0s 7ms/step - loss: 0.7747 - accuracy: 0.6603 - val_loss: 0.9078 - val_accuracy: 0.6295\n",
      "Epoch 53/100\n",
      "9/9 [==============================] - 0s 8ms/step - loss: 0.7783 - accuracy: 0.6804 - val_loss: 0.8847 - val_accuracy: 0.6250\n",
      "Epoch 54/100\n",
      "9/9 [==============================] - 0s 7ms/step - loss: 0.7703 - accuracy: 0.6659 - val_loss: 0.9432 - val_accuracy: 0.6205\n",
      "Epoch 55/100\n",
      "9/9 [==============================] - 0s 8ms/step - loss: 0.7796 - accuracy: 0.6704 - val_loss: 0.8687 - val_accuracy: 0.6562\n",
      "Epoch 56/100\n",
      "9/9 [==============================] - 0s 10ms/step - loss: 0.7671 - accuracy: 0.6883 - val_loss: 0.8818 - val_accuracy: 0.6429\n",
      "Epoch 57/100\n",
      "9/9 [==============================] - 0s 8ms/step - loss: 0.7590 - accuracy: 0.6704 - val_loss: 0.9102 - val_accuracy: 0.6429\n",
      "Epoch 58/100\n",
      "9/9 [==============================] - 0s 8ms/step - loss: 0.7502 - accuracy: 0.6827 - val_loss: 0.8903 - val_accuracy: 0.6473\n",
      "Epoch 59/100\n"
     ]
    },
    {
     "name": "stdout",
     "output_type": "stream",
     "text": [
      "9/9 [==============================] - 0s 7ms/step - loss: 0.7558 - accuracy: 0.6704 - val_loss: 0.8699 - val_accuracy: 0.6607\n",
      "Epoch 60/100\n",
      "9/9 [==============================] - 0s 7ms/step - loss: 0.7473 - accuracy: 0.6927 - val_loss: 0.8914 - val_accuracy: 0.6562\n",
      "Epoch 61/100\n",
      "9/9 [==============================] - 0s 7ms/step - loss: 0.7366 - accuracy: 0.6749 - val_loss: 0.9050 - val_accuracy: 0.6339\n",
      "Epoch 62/100\n",
      "9/9 [==============================] - 0s 8ms/step - loss: 0.7397 - accuracy: 0.6771 - val_loss: 0.8994 - val_accuracy: 0.6295\n",
      "Epoch 63/100\n",
      "9/9 [==============================] - 0s 8ms/step - loss: 0.7344 - accuracy: 0.6872 - val_loss: 0.8946 - val_accuracy: 0.6384\n",
      "Epoch 64/100\n",
      "9/9 [==============================] - 0s 9ms/step - loss: 0.7345 - accuracy: 0.6905 - val_loss: 0.8914 - val_accuracy: 0.6384\n",
      "Epoch 65/100\n",
      "9/9 [==============================] - 0s 9ms/step - loss: 0.7317 - accuracy: 0.7106 - val_loss: 0.8999 - val_accuracy: 0.6250\n",
      "Epoch 66/100\n",
      "9/9 [==============================] - 0s 9ms/step - loss: 0.7190 - accuracy: 0.6905 - val_loss: 0.8913 - val_accuracy: 0.6429\n",
      "Epoch 67/100\n",
      "9/9 [==============================] - 0s 8ms/step - loss: 0.7245 - accuracy: 0.6927 - val_loss: 0.9246 - val_accuracy: 0.6384\n",
      "Epoch 68/100\n",
      "9/9 [==============================] - 0s 7ms/step - loss: 0.7271 - accuracy: 0.6916 - val_loss: 0.9255 - val_accuracy: 0.6339\n",
      "Epoch 69/100\n",
      "9/9 [==============================] - 0s 8ms/step - loss: 0.7183 - accuracy: 0.7006 - val_loss: 0.8943 - val_accuracy: 0.6429\n",
      "Epoch 70/100\n",
      "9/9 [==============================] - 0s 9ms/step - loss: 0.7143 - accuracy: 0.6983 - val_loss: 0.9428 - val_accuracy: 0.6250\n",
      "Epoch 71/100\n",
      "9/9 [==============================] - 0s 9ms/step - loss: 0.7096 - accuracy: 0.6972 - val_loss: 0.9122 - val_accuracy: 0.6652\n",
      "Epoch 72/100\n",
      "9/9 [==============================] - 0s 7ms/step - loss: 0.6933 - accuracy: 0.6983 - val_loss: 0.9166 - val_accuracy: 0.6518\n",
      "Epoch 73/100\n",
      "9/9 [==============================] - 0s 7ms/step - loss: 0.6920 - accuracy: 0.7028 - val_loss: 0.9178 - val_accuracy: 0.6429\n",
      "Epoch 74/100\n",
      "9/9 [==============================] - 0s 7ms/step - loss: 0.6885 - accuracy: 0.7006 - val_loss: 0.9323 - val_accuracy: 0.5982\n",
      "Epoch 75/100\n",
      "9/9 [==============================] - 0s 7ms/step - loss: 0.6976 - accuracy: 0.7095 - val_loss: 0.9722 - val_accuracy: 0.6116\n",
      "Epoch 76/100\n",
      "9/9 [==============================] - 0s 9ms/step - loss: 0.6744 - accuracy: 0.7207 - val_loss: 0.9245 - val_accuracy: 0.6384\n",
      "Epoch 77/100\n",
      "9/9 [==============================] - 0s 8ms/step - loss: 0.6749 - accuracy: 0.7196 - val_loss: 0.9374 - val_accuracy: 0.6562\n",
      "Epoch 78/100\n",
      "9/9 [==============================] - 0s 8ms/step - loss: 0.6819 - accuracy: 0.7117 - val_loss: 0.9104 - val_accuracy: 0.6607\n",
      "Epoch 79/100\n",
      "9/9 [==============================] - 0s 7ms/step - loss: 0.7027 - accuracy: 0.6961 - val_loss: 0.9758 - val_accuracy: 0.6384\n",
      "Epoch 80/100\n",
      "9/9 [==============================] - 0s 7ms/step - loss: 0.6888 - accuracy: 0.7274 - val_loss: 0.9171 - val_accuracy: 0.6473\n",
      "Epoch 81/100\n",
      "9/9 [==============================] - 0s 7ms/step - loss: 0.6920 - accuracy: 0.7028 - val_loss: 0.9662 - val_accuracy: 0.5982\n",
      "Epoch 82/100\n",
      "9/9 [==============================] - 0s 7ms/step - loss: 0.6795 - accuracy: 0.7151 - val_loss: 0.9439 - val_accuracy: 0.6205\n",
      "Epoch 83/100\n",
      "9/9 [==============================] - 0s 8ms/step - loss: 0.6735 - accuracy: 0.7173 - val_loss: 0.9742 - val_accuracy: 0.6027\n",
      "Epoch 84/100\n",
      "9/9 [==============================] - 0s 7ms/step - loss: 0.6830 - accuracy: 0.7263 - val_loss: 1.0112 - val_accuracy: 0.5848\n",
      "Epoch 85/100\n",
      "9/9 [==============================] - 0s 7ms/step - loss: 0.6567 - accuracy: 0.7296 - val_loss: 1.0106 - val_accuracy: 0.5982\n",
      "Epoch 86/100\n",
      "9/9 [==============================] - 0s 7ms/step - loss: 0.6519 - accuracy: 0.7430 - val_loss: 0.9582 - val_accuracy: 0.6295\n",
      "Epoch 87/100\n",
      "9/9 [==============================] - 0s 7ms/step - loss: 0.6373 - accuracy: 0.7441 - val_loss: 0.9883 - val_accuracy: 0.6205\n",
      "Epoch 88/100\n",
      "9/9 [==============================] - 0s 7ms/step - loss: 0.6326 - accuracy: 0.7285 - val_loss: 0.9609 - val_accuracy: 0.6339\n",
      "Epoch 89/100\n",
      "9/9 [==============================] - 0s 7ms/step - loss: 0.6188 - accuracy: 0.7441 - val_loss: 0.9683 - val_accuracy: 0.6518\n",
      "Epoch 90/100\n",
      "9/9 [==============================] - 0s 7ms/step - loss: 0.6150 - accuracy: 0.7553 - val_loss: 1.0056 - val_accuracy: 0.6027\n",
      "Epoch 91/100\n",
      "9/9 [==============================] - 0s 8ms/step - loss: 0.6181 - accuracy: 0.7486 - val_loss: 0.9712 - val_accuracy: 0.6429\n",
      "Epoch 92/100\n",
      "9/9 [==============================] - 0s 7ms/step - loss: 0.6183 - accuracy: 0.7441 - val_loss: 0.9948 - val_accuracy: 0.6205\n",
      "Epoch 93/100\n",
      "9/9 [==============================] - 0s 7ms/step - loss: 0.6075 - accuracy: 0.7609 - val_loss: 0.9662 - val_accuracy: 0.6384\n",
      "Epoch 94/100\n",
      "9/9 [==============================] - 0s 7ms/step - loss: 0.6067 - accuracy: 0.7497 - val_loss: 0.9764 - val_accuracy: 0.6473\n",
      "Epoch 95/100\n",
      "9/9 [==============================] - 0s 7ms/step - loss: 0.6037 - accuracy: 0.7587 - val_loss: 0.9821 - val_accuracy: 0.6384\n",
      "Epoch 96/100\n",
      "9/9 [==============================] - 0s 7ms/step - loss: 0.6275 - accuracy: 0.7441 - val_loss: 1.0317 - val_accuracy: 0.6205\n",
      "Epoch 97/100\n",
      "9/9 [==============================] - 0s 7ms/step - loss: 0.6133 - accuracy: 0.7665 - val_loss: 1.0093 - val_accuracy: 0.6250\n",
      "Epoch 98/100\n",
      "9/9 [==============================] - 0s 7ms/step - loss: 0.6072 - accuracy: 0.7497 - val_loss: 0.9924 - val_accuracy: 0.6429\n",
      "Epoch 99/100\n",
      "9/9 [==============================] - 0s 9ms/step - loss: 0.6388 - accuracy: 0.7330 - val_loss: 1.0035 - val_accuracy: 0.6295\n",
      "Epoch 100/100\n",
      "9/9 [==============================] - 0s 8ms/step - loss: 0.6302 - accuracy: 0.7497 - val_loss: 1.0165 - val_accuracy: 0.6339\n"
     ]
    }
   ],
   "source": [
    "hist = model.fit(X_train,Y_train,\n",
    "                epochs=100,\n",
    "                batch_size=100,\n",
    "                validation_split=(0.2),\n",
    "                verbose=1)"
   ]
  },
  {
   "cell_type": "code",
   "execution_count": 72,
   "id": "1d79db1f",
   "metadata": {},
   "outputs": [
    {
     "data": {
      "image/png": "[encoded data removed]",
      "text/plain": [
       "<Figure size 1200x600 with 2 Axes>"
      ]
     },
     "metadata": {},
     "output_type": "display_data"
    }
   ],
   "source": [
    "fig, loss_ax = plt.subplots(figsize=(12,6))\n",
    "loss_ax.plot(hist.history['loss'], 'y', label='train loss')\n",
    "loss_ax.plot(hist.history['val_loss'], 'r', label='val loss')\n",
    "acc_ax = loss_ax.twinx()\n",
    "acc_ax.plot(hist.history['accuracy'], 'g', label='train accuracy')\n",
    "acc_ax.plot(hist.history['val_accuracy'], 'b', label='val accuracy')\n",
    "loss_ax.set_xlabel('epochs')\n",
    "loss_ax.set_ylabel('loss')\n",
    "acc_ax.set_ylabel('accuracy')\n",
    "loss_ax.legend(loc='center right')\n",
    "acc_ax.legend()\n",
    "plt.show()"
   ]
  },
  {
   "cell_type": "code",
   "execution_count": 74,
   "id": "b40d4458",
   "metadata": {},
   "outputs": [
    {
     "ename": "InvalidArgumentError",
     "evalue": "Graph execution error:\n\nDetected at node 'categorical_crossentropy/softmax_cross_entropy_with_logits' defined at (most recent call last):\n    File \"C:\\Users\\Admin\\anaconda3\\envs\\ml-dl-nlp\\lib\\runpy.py\", line 196, in _run_module_as_main\n      return _run_code(code, main_globals, None,\n    File \"C:\\Users\\Admin\\anaconda3\\envs\\ml-dl-nlp\\lib\\runpy.py\", line 86, in _run_code\n      exec(code, run_globals)\n    File \"C:\\Users\\Admin\\anaconda3\\envs\\ml-dl-nlp\\lib\\site-packages\\ipykernel_launcher.py\", line 18, in <module>\n      app.launch_new_instance()\n    File \"C:\\Users\\Admin\\anaconda3\\envs\\ml-dl-nlp\\lib\\site-packages\\traitlets\\config\\application.py\", line 1075, in launch_instance\n      app.start()\n    File \"C:\\Users\\Admin\\anaconda3\\envs\\ml-dl-nlp\\lib\\site-packages\\ipykernel\\kernelapp.py\", line 739, in start\n      self.io_loop.start()\n    File \"C:\\Users\\Admin\\anaconda3\\envs\\ml-dl-nlp\\lib\\site-packages\\tornado\\platform\\asyncio.py\", line 211, in start\n      self.asyncio_loop.run_forever()\n    File \"C:\\Users\\Admin\\anaconda3\\envs\\ml-dl-nlp\\lib\\asyncio\\base_events.py\", line 603, in run_forever\n      self._run_once()\n    File \"C:\\Users\\Admin\\anaconda3\\envs\\ml-dl-nlp\\lib\\asyncio\\base_events.py\", line 1909, in _run_once\n      handle._run()\n    File \"C:\\Users\\Admin\\anaconda3\\envs\\ml-dl-nlp\\lib\\asyncio\\events.py\", line 80, in _run\n      self._context.run(self._callback, *self._args)\n    File \"C:\\Users\\Admin\\anaconda3\\envs\\ml-dl-nlp\\lib\\site-packages\\ipykernel\\kernelbase.py\", line 545, in dispatch_queue\n      await self.process_one()\n    File \"C:\\Users\\Admin\\anaconda3\\envs\\ml-dl-nlp\\lib\\site-packages\\ipykernel\\kernelbase.py\", line 534, in process_one\n      await dispatch(*args)\n    File \"C:\\Users\\Admin\\anaconda3\\envs\\ml-dl-nlp\\lib\\site-packages\\ipykernel\\kernelbase.py\", line 437, in dispatch_shell\n      await result\n    File \"C:\\Users\\Admin\\anaconda3\\envs\\ml-dl-nlp\\lib\\site-packages\\ipykernel\\ipkernel.py\", line 362, in execute_request\n      await super().execute_request(stream, ident, parent)\n    File \"C:\\Users\\Admin\\anaconda3\\envs\\ml-dl-nlp\\lib\\site-packages\\ipykernel\\kernelbase.py\", line 778, in execute_request\n      reply_content = await reply_content\n    File \"C:\\Users\\Admin\\anaconda3\\envs\\ml-dl-nlp\\lib\\site-packages\\ipykernel\\ipkernel.py\", line 449, in do_execute\n      res = shell.run_cell(\n    File \"C:\\Users\\Admin\\anaconda3\\envs\\ml-dl-nlp\\lib\\site-packages\\ipykernel\\zmqshell.py\", line 549, in run_cell\n      return super().run_cell(*args, **kwargs)\n    File \"C:\\Users\\Admin\\anaconda3\\envs\\ml-dl-nlp\\lib\\site-packages\\IPython\\core\\interactiveshell.py\", line 3075, in run_cell\n      result = self._run_cell(\n    File \"C:\\Users\\Admin\\anaconda3\\envs\\ml-dl-nlp\\lib\\site-packages\\IPython\\core\\interactiveshell.py\", line 3130, in _run_cell\n      result = runner(coro)\n    File \"C:\\Users\\Admin\\anaconda3\\envs\\ml-dl-nlp\\lib\\site-packages\\IPython\\core\\async_helpers.py\", line 128, in _pseudo_sync_runner\n      coro.send(None)\n    File \"C:\\Users\\Admin\\anaconda3\\envs\\ml-dl-nlp\\lib\\site-packages\\IPython\\core\\interactiveshell.py\", line 3334, in run_cell_async\n      has_raised = await self.run_ast_nodes(code_ast.body, cell_name,\n    File \"C:\\Users\\Admin\\anaconda3\\envs\\ml-dl-nlp\\lib\\site-packages\\IPython\\core\\interactiveshell.py\", line 3517, in run_ast_nodes\n      if await self.run_code(code, result, async_=asy):\n    File \"C:\\Users\\Admin\\anaconda3\\envs\\ml-dl-nlp\\lib\\site-packages\\IPython\\core\\interactiveshell.py\", line 3577, in run_code\n      exec(code_obj, self.user_global_ns, self.user_ns)\n    File \"C:\\Users\\Admin\\AppData\\Local\\Temp\\ipykernel_11016\\3897999031.py\", line 1, in <module>\n      loss_and_metrics = model.evaluate(X_test, Y_test, batch_size=100)\n    File \"C:\\Users\\Admin\\anaconda3\\envs\\ml-dl-nlp\\lib\\site-packages\\keras\\utils\\traceback_utils.py\", line 65, in error_handler\n      return fn(*args, **kwargs)\n    File \"C:\\Users\\Admin\\anaconda3\\envs\\ml-dl-nlp\\lib\\site-packages\\keras\\engine\\training.py\", line 1947, in evaluate\n      tmp_logs = self.test_function(iterator)\n    File \"C:\\Users\\Admin\\anaconda3\\envs\\ml-dl-nlp\\lib\\site-packages\\keras\\engine\\training.py\", line 1727, in test_function\n      return step_function(self, iterator)\n    File \"C:\\Users\\Admin\\anaconda3\\envs\\ml-dl-nlp\\lib\\site-packages\\keras\\engine\\training.py\", line 1713, in step_function\n      outputs = model.distribute_strategy.run(run_step, args=(data,))\n    File \"C:\\Users\\Admin\\anaconda3\\envs\\ml-dl-nlp\\lib\\site-packages\\keras\\engine\\training.py\", line 1701, in run_step\n      outputs = model.test_step(data)\n    File \"C:\\Users\\Admin\\anaconda3\\envs\\ml-dl-nlp\\lib\\site-packages\\keras\\engine\\training.py\", line 1667, in test_step\n      self.compute_loss(x, y, y_pred, sample_weight)\n    File \"C:\\Users\\Admin\\anaconda3\\envs\\ml-dl-nlp\\lib\\site-packages\\keras\\engine\\training.py\", line 1052, in compute_loss\n      return self.compiled_loss(\n    File \"C:\\Users\\Admin\\anaconda3\\envs\\ml-dl-nlp\\lib\\site-packages\\keras\\engine\\compile_utils.py\", line 265, in __call__\n      loss_value = loss_obj(y_t, y_p, sample_weight=sw)\n    File \"C:\\Users\\Admin\\anaconda3\\envs\\ml-dl-nlp\\lib\\site-packages\\keras\\losses.py\", line 152, in __call__\n      losses = call_fn(y_true, y_pred)\n    File \"C:\\Users\\Admin\\anaconda3\\envs\\ml-dl-nlp\\lib\\site-packages\\keras\\losses.py\", line 272, in call\n      return ag_fn(y_true, y_pred, **self._fn_kwargs)\n    File \"C:\\Users\\Admin\\anaconda3\\envs\\ml-dl-nlp\\lib\\site-packages\\keras\\losses.py\", line 1990, in categorical_crossentropy\n      return backend.categorical_crossentropy(\n    File \"C:\\Users\\Admin\\anaconda3\\envs\\ml-dl-nlp\\lib\\site-packages\\keras\\backend.py\", line 5535, in categorical_crossentropy\n      return tf.nn.softmax_cross_entropy_with_logits(\nNode: 'categorical_crossentropy/softmax_cross_entropy_with_logits'\nlogits and labels must be broadcastable: logits_size=[100,10] labels_size=[100,9]\n\t [[{{node categorical_crossentropy/softmax_cross_entropy_with_logits}}]] [Op:__inference_test_function_8368]",
     "output_type": "error",
     "traceback": [
      "\u001b[1;31m---------------------------------------------------------------------------\u001b[0m",
      "\u001b[1;31mInvalidArgumentError\u001b[0m                      Traceback (most recent call last)",
      "Cell \u001b[1;32mIn[74], line 1\u001b[0m\n\u001b[1;32m----> 1\u001b[0m loss_and_metrics \u001b[38;5;241m=\u001b[39m \u001b[43mmodel\u001b[49m\u001b[38;5;241;43m.\u001b[39;49m\u001b[43mevaluate\u001b[49m\u001b[43m(\u001b[49m\u001b[43mX_test\u001b[49m\u001b[43m,\u001b[49m\u001b[43m \u001b[49m\u001b[43mY_test\u001b[49m\u001b[43m,\u001b[49m\u001b[43m \u001b[49m\u001b[43mbatch_size\u001b[49m\u001b[38;5;241;43m=\u001b[39;49m\u001b[38;5;241;43m100\u001b[39;49m\u001b[43m)\u001b[49m\n\u001b[0;32m      2\u001b[0m \u001b[38;5;28mprint\u001b[39m(\u001b[38;5;124m'\u001b[39m\u001b[38;5;124mloss :\u001b[39m\u001b[38;5;124m'\u001b[39m, loss_and_metrics[\u001b[38;5;241m0\u001b[39m])\n\u001b[0;32m      3\u001b[0m \u001b[38;5;28mprint\u001b[39m(\u001b[38;5;124m'\u001b[39m\u001b[38;5;124maccuracy : \u001b[39m\u001b[38;5;124m'\u001b[39m, loss_and_metrics[\u001b[38;5;241m1\u001b[39m])\n",
      "File \u001b[1;32m~\\anaconda3\\envs\\ml-dl-nlp\\lib\\site-packages\\keras\\utils\\traceback_utils.py:70\u001b[0m, in \u001b[0;36mfilter_traceback.<locals>.error_handler\u001b[1;34m(*args, **kwargs)\u001b[0m\n\u001b[0;32m     67\u001b[0m     filtered_tb \u001b[38;5;241m=\u001b[39m _process_traceback_frames(e\u001b[38;5;241m.\u001b[39m__traceback__)\n\u001b[0;32m     68\u001b[0m     \u001b[38;5;66;03m# To get the full stack trace, call:\u001b[39;00m\n\u001b[0;32m     69\u001b[0m     \u001b[38;5;66;03m# `tf.debugging.disable_traceback_filtering()`\u001b[39;00m\n\u001b[1;32m---> 70\u001b[0m     \u001b[38;5;28;01mraise\u001b[39;00m e\u001b[38;5;241m.\u001b[39mwith_traceback(filtered_tb) \u001b[38;5;28;01mfrom\u001b[39;00m\u001b[38;5;250m \u001b[39m\u001b[38;5;28;01mNone\u001b[39;00m\n\u001b[0;32m     71\u001b[0m \u001b[38;5;28;01mfinally\u001b[39;00m:\n\u001b[0;32m     72\u001b[0m     \u001b[38;5;28;01mdel\u001b[39;00m filtered_tb\n",
      "File \u001b[1;32m~\\anaconda3\\envs\\ml-dl-nlp\\lib\\site-packages\\tensorflow\\python\\eager\\execute.py:54\u001b[0m, in \u001b[0;36mquick_execute\u001b[1;34m(op_name, num_outputs, inputs, attrs, ctx, name)\u001b[0m\n\u001b[0;32m     52\u001b[0m \u001b[38;5;28;01mtry\u001b[39;00m:\n\u001b[0;32m     53\u001b[0m   ctx\u001b[38;5;241m.\u001b[39mensure_initialized()\n\u001b[1;32m---> 54\u001b[0m   tensors \u001b[38;5;241m=\u001b[39m pywrap_tfe\u001b[38;5;241m.\u001b[39mTFE_Py_Execute(ctx\u001b[38;5;241m.\u001b[39m_handle, device_name, op_name,\n\u001b[0;32m     55\u001b[0m                                       inputs, attrs, num_outputs)\n\u001b[0;32m     56\u001b[0m \u001b[38;5;28;01mexcept\u001b[39;00m core\u001b[38;5;241m.\u001b[39m_NotOkStatusException \u001b[38;5;28;01mas\u001b[39;00m e:\n\u001b[0;32m     57\u001b[0m   \u001b[38;5;28;01mif\u001b[39;00m name \u001b[38;5;129;01mis\u001b[39;00m \u001b[38;5;129;01mnot\u001b[39;00m \u001b[38;5;28;01mNone\u001b[39;00m:\n",
      "\u001b[1;31mInvalidArgumentError\u001b[0m: Graph execution error:\n\nDetected at node 'categorical_crossentropy/softmax_cross_entropy_with_logits' defined at (most recent call last):\n    File \"C:\\Users\\Admin\\anaconda3\\envs\\ml-dl-nlp\\lib\\runpy.py\", line 196, in _run_module_as_main\n      return _run_code(code, main_globals, None,\n    File \"C:\\Users\\Admin\\anaconda3\\envs\\ml-dl-nlp\\lib\\runpy.py\", line 86, in _run_code\n      exec(code, run_globals)\n    File \"C:\\Users\\Admin\\anaconda3\\envs\\ml-dl-nlp\\lib\\site-packages\\ipykernel_launcher.py\", line 18, in <module>\n      app.launch_new_instance()\n    File \"C:\\Users\\Admin\\anaconda3\\envs\\ml-dl-nlp\\lib\\site-packages\\traitlets\\config\\application.py\", line 1075, in launch_instance\n      app.start()\n    File \"C:\\Users\\Admin\\anaconda3\\envs\\ml-dl-nlp\\lib\\site-packages\\ipykernel\\kernelapp.py\", line 739, in start\n      self.io_loop.start()\n    File \"C:\\Users\\Admin\\anaconda3\\envs\\ml-dl-nlp\\lib\\site-packages\\tornado\\platform\\asyncio.py\", line 211, in start\n      self.asyncio_loop.run_forever()\n    File \"C:\\Users\\Admin\\anaconda3\\envs\\ml-dl-nlp\\lib\\asyncio\\base_events.py\", line 603, in run_forever\n      self._run_once()\n    File \"C:\\Users\\Admin\\anaconda3\\envs\\ml-dl-nlp\\lib\\asyncio\\base_events.py\", line 1909, in _run_once\n      handle._run()\n    File \"C:\\Users\\Admin\\anaconda3\\envs\\ml-dl-nlp\\lib\\asyncio\\events.py\", line 80, in _run\n      self._context.run(self._callback, *self._args)\n    File \"C:\\Users\\Admin\\anaconda3\\envs\\ml-dl-nlp\\lib\\site-packages\\ipykernel\\kernelbase.py\", line 545, in dispatch_queue\n      await self.process_one()\n    File \"C:\\Users\\Admin\\anaconda3\\envs\\ml-dl-nlp\\lib\\site-packages\\ipykernel\\kernelbase.py\", line 534, in process_one\n      await dispatch(*args)\n    File \"C:\\Users\\Admin\\anaconda3\\envs\\ml-dl-nlp\\lib\\site-packages\\ipykernel\\kernelbase.py\", line 437, in dispatch_shell\n      await result\n    File \"C:\\Users\\Admin\\anaconda3\\envs\\ml-dl-nlp\\lib\\site-packages\\ipykernel\\ipkernel.py\", line 362, in execute_request\n      await super().execute_request(stream, ident, parent)\n    File \"C:\\Users\\Admin\\anaconda3\\envs\\ml-dl-nlp\\lib\\site-packages\\ipykernel\\kernelbase.py\", line 778, in execute_request\n      reply_content = await reply_content\n    File \"C:\\Users\\Admin\\anaconda3\\envs\\ml-dl-nlp\\lib\\site-packages\\ipykernel\\ipkernel.py\", line 449, in do_execute\n      res = shell.run_cell(\n    File \"C:\\Users\\Admin\\anaconda3\\envs\\ml-dl-nlp\\lib\\site-packages\\ipykernel\\zmqshell.py\", line 549, in run_cell\n      return super().run_cell(*args, **kwargs)\n    File \"C:\\Users\\Admin\\anaconda3\\envs\\ml-dl-nlp\\lib\\site-packages\\IPython\\core\\interactiveshell.py\", line 3075, in run_cell\n      result = self._run_cell(\n    File \"C:\\Users\\Admin\\anaconda3\\envs\\ml-dl-nlp\\lib\\site-packages\\IPython\\core\\interactiveshell.py\", line 3130, in _run_cell\n      result = runner(coro)\n    File \"C:\\Users\\Admin\\anaconda3\\envs\\ml-dl-nlp\\lib\\site-packages\\IPython\\core\\async_helpers.py\", line 128, in _pseudo_sync_runner\n      coro.send(None)\n    File \"C:\\Users\\Admin\\anaconda3\\envs\\ml-dl-nlp\\lib\\site-packages\\IPython\\core\\interactiveshell.py\", line 3334, in run_cell_async\n      has_raised = await self.run_ast_nodes(code_ast.body, cell_name,\n    File \"C:\\Users\\Admin\\anaconda3\\envs\\ml-dl-nlp\\lib\\site-packages\\IPython\\core\\interactiveshell.py\", line 3517, in run_ast_nodes\n      if await self.run_code(code, result, async_=asy):\n    File \"C:\\Users\\Admin\\anaconda3\\envs\\ml-dl-nlp\\lib\\site-packages\\IPython\\core\\interactiveshell.py\", line 3577, in run_code\n      exec(code_obj, self.user_global_ns, self.user_ns)\n    File \"C:\\Users\\Admin\\AppData\\Local\\Temp\\ipykernel_11016\\3897999031.py\", line 1, in <module>\n      loss_and_metrics = model.evaluate(X_test, Y_test, batch_size=100)\n    File \"C:\\Users\\Admin\\anaconda3\\envs\\ml-dl-nlp\\lib\\site-packages\\keras\\utils\\traceback_utils.py\", line 65, in error_handler\n      return fn(*args, **kwargs)\n    File \"C:\\Users\\Admin\\anaconda3\\envs\\ml-dl-nlp\\lib\\site-packages\\keras\\engine\\training.py\", line 1947, in evaluate\n      tmp_logs = self.test_function(iterator)\n    File \"C:\\Users\\Admin\\anaconda3\\envs\\ml-dl-nlp\\lib\\site-packages\\keras\\engine\\training.py\", line 1727, in test_function\n      return step_function(self, iterator)\n    File \"C:\\Users\\Admin\\anaconda3\\envs\\ml-dl-nlp\\lib\\site-packages\\keras\\engine\\training.py\", line 1713, in step_function\n      outputs = model.distribute_strategy.run(run_step, args=(data,))\n    File \"C:\\Users\\Admin\\anaconda3\\envs\\ml-dl-nlp\\lib\\site-packages\\keras\\engine\\training.py\", line 1701, in run_step\n      outputs = model.test_step(data)\n    File \"C:\\Users\\Admin\\anaconda3\\envs\\ml-dl-nlp\\lib\\site-packages\\keras\\engine\\training.py\", line 1667, in test_step\n      self.compute_loss(x, y, y_pred, sample_weight)\n    File \"C:\\Users\\Admin\\anaconda3\\envs\\ml-dl-nlp\\lib\\site-packages\\keras\\engine\\training.py\", line 1052, in compute_loss\n      return self.compiled_loss(\n    File \"C:\\Users\\Admin\\anaconda3\\envs\\ml-dl-nlp\\lib\\site-packages\\keras\\engine\\compile_utils.py\", line 265, in __call__\n      loss_value = loss_obj(y_t, y_p, sample_weight=sw)\n    File \"C:\\Users\\Admin\\anaconda3\\envs\\ml-dl-nlp\\lib\\site-packages\\keras\\losses.py\", line 152, in __call__\n      losses = call_fn(y_true, y_pred)\n    File \"C:\\Users\\Admin\\anaconda3\\envs\\ml-dl-nlp\\lib\\site-packages\\keras\\losses.py\", line 272, in call\n      return ag_fn(y_true, y_pred, **self._fn_kwargs)\n    File \"C:\\Users\\Admin\\anaconda3\\envs\\ml-dl-nlp\\lib\\site-packages\\keras\\losses.py\", line 1990, in categorical_crossentropy\n      return backend.categorical_crossentropy(\n    File \"C:\\Users\\Admin\\anaconda3\\envs\\ml-dl-nlp\\lib\\site-packages\\keras\\backend.py\", line 5535, in categorical_crossentropy\n      return tf.nn.softmax_cross_entropy_with_logits(\nNode: 'categorical_crossentropy/softmax_cross_entropy_with_logits'\nlogits and labels must be broadcastable: logits_size=[100,10] labels_size=[100,9]\n\t [[{{node categorical_crossentropy/softmax_cross_entropy_with_logits}}]] [Op:__inference_test_function_8368]"
     ]
    }
   ],
   "source": [
    "loss_and_metrics = model.evaluate(X_test, Y_test, batch_size=100)\n",
    "print('loss :', loss_and_metrics[0])\n",
    "print('accuracy : ', loss_and_metrics[1])"
   ]
  },
  {
   "cell_type": "code",
   "execution_count": null,
   "id": "56fb3c49",
   "metadata": {},
   "outputs": [],
   "source": []
  },
  {
   "cell_type": "code",
   "execution_count": null,
   "id": "b9573a20",
   "metadata": {},
   "outputs": [],
   "source": []
  },
  {
   "cell_type": "code",
   "execution_count": null,
   "id": "d4c66396",
   "metadata": {},
   "outputs": [],
   "source": []
  },
  {
   "cell_type": "code",
   "execution_count": null,
   "id": "c1696dcf",
   "metadata": {},
   "outputs": [],
   "source": []
  },
  {
   "cell_type": "code",
   "execution_count": null,
   "id": "25712343",
   "metadata": {},
   "outputs": [],
   "source": []
  },
  {
   "cell_type": "code",
   "execution_count": null,
   "id": "e106980b",
   "metadata": {},
   "outputs": [],
   "source": []
  },
  {
   "cell_type": "code",
   "execution_count": null,
   "id": "3c1cd3c4",
   "metadata": {},
   "outputs": [],
   "source": []
  },
  {
   "cell_type": "code",
   "execution_count": null,
   "id": "3c7ca638",
   "metadata": {},
   "outputs": [],
   "source": []
  },
  {
   "cell_type": "code",
   "execution_count": null,
   "id": "00cfbf30",
   "metadata": {},
   "outputs": [],
   "source": []
  },
  {
   "cell_type": "code",
   "execution_count": null,
   "id": "fe6d2fec",
   "metadata": {},
   "outputs": [],
   "source": []
  },
  {
   "cell_type": "code",
   "execution_count": null,
   "id": "b21676f5",
   "metadata": {},
   "outputs": [],
   "source": []
  },
  {
   "cell_type": "code",
   "execution_count": null,
   "id": "82874c4c",
   "metadata": {},
   "outputs": [],
   "source": []
  },
  {
   "cell_type": "code",
   "execution_count": null,
   "id": "fdea9ae6",
   "metadata": {},
   "outputs": [],
   "source": []
  },
  {
   "cell_type": "code",
   "execution_count": null,
   "id": "5de75977",
   "metadata": {},
   "outputs": [],
   "source": []
  },
  {
   "cell_type": "code",
   "execution_count": null,
   "id": "46ce35f3",
   "metadata": {},
   "outputs": [],
   "source": []
  },
  {
   "cell_type": "code",
   "execution_count": null,
   "id": "f516e816",
   "metadata": {},
   "outputs": [],
   "source": []
  },
  {
   "cell_type": "code",
   "execution_count": null,
   "id": "262aef22",
   "metadata": {},
   "outputs": [],
   "source": []
  },
  {
   "cell_type": "code",
   "execution_count": null,
   "id": "d72b9950",
   "metadata": {},
   "outputs": [],
   "source": []
  },
  {
   "cell_type": "code",
   "execution_count": null,
   "id": "6a650c0a",
   "metadata": {},
   "outputs": [],
   "source": []
  },
  {
   "cell_type": "code",
   "execution_count": null,
   "id": "941a0d05",
   "metadata": {},
   "outputs": [],
   "source": []
  },
  {
   "cell_type": "code",
   "execution_count": null,
   "id": "3f167012",
   "metadata": {},
   "outputs": [],
   "source": []
  },
  {
   "cell_type": "code",
   "execution_count": null,
   "id": "efb92b5a",
   "metadata": {},
   "outputs": [],
   "source": []
  },
  {
   "cell_type": "code",
   "execution_count": null,
   "id": "ede36bd3",
   "metadata": {},
   "outputs": [],
   "source": []
  },
  {
   "cell_type": "code",
   "execution_count": null,
   "id": "f3d79c1a",
   "metadata": {},
   "outputs": [],
   "source": []
  },
  {
   "cell_type": "code",
   "execution_count": null,
   "id": "576d0d5a",
   "metadata": {},
   "outputs": [],
   "source": []
  },
  {
   "cell_type": "code",
   "execution_count": null,
   "id": "c9d12d8d",
   "metadata": {},
   "outputs": [],
   "source": []
  },
  {
   "cell_type": "code",
   "execution_count": null,
   "id": "7a67f262",
   "metadata": {},
   "outputs": [],
   "source": []
  },
  {
   "cell_type": "code",
   "execution_count": null,
   "id": "95b11f31",
   "metadata": {},
   "outputs": [],
   "source": []
  },
  {
   "cell_type": "code",
   "execution_count": null,
   "id": "87e24fe5",
   "metadata": {},
   "outputs": [],
   "source": []
  },
  {
   "cell_type": "code",
   "execution_count": null,
   "id": "1e943870",
   "metadata": {},
   "outputs": [],
   "source": []
  },
  {
   "cell_type": "code",
   "execution_count": null,
   "id": "9eeebec4",
   "metadata": {},
   "outputs": [],
   "source": []
  },
  {
   "cell_type": "code",
   "execution_count": null,
   "id": "e9b39e60",
   "metadata": {},
   "outputs": [],
   "source": []
  },
  {
   "cell_type": "code",
   "execution_count": null,
   "id": "6dfa4b37",
   "metadata": {},
   "outputs": [],
   "source": []
  },
  {
   "cell_type": "code",
   "execution_count": null,
   "id": "11baf0f8",
   "metadata": {},
   "outputs": [],
   "source": []
  },
  {
   "cell_type": "code",
   "execution_count": null,
   "id": "f952fa3a",
   "metadata": {},
   "outputs": [],
   "source": []
  },
  {
   "cell_type": "code",
   "execution_count": null,
   "id": "bb47aef3",
   "metadata": {},
   "outputs": [],
   "source": []
  },
  {
   "cell_type": "code",
   "execution_count": null,
   "id": "e2bc6e5a",
   "metadata": {},
   "outputs": [],
   "source": []
  },
  {
   "cell_type": "code",
   "execution_count": null,
   "id": "20ef8b11",
   "metadata": {},
   "outputs": [],
   "source": []
  },
  {
   "cell_type": "code",
   "execution_count": null,
   "id": "2a3ffdb3",
   "metadata": {},
   "outputs": [],
   "source": []
  },
  {
   "cell_type": "code",
   "execution_count": null,
   "id": "d2cb1df2",
   "metadata": {},
   "outputs": [],
   "source": []
  },
  {
   "cell_type": "code",
   "execution_count": null,
   "id": "19e1452d",
   "metadata": {},
   "outputs": [],
   "source": []
  },
  {
   "cell_type": "code",
   "execution_count": null,
   "id": "f6955b6e",
   "metadata": {},
   "outputs": [],
   "source": []
  },
  {
   "cell_type": "code",
   "execution_count": null,
   "id": "e842c10b",
   "metadata": {},
   "outputs": [],
   "source": []
  },
  {
   "cell_type": "code",
   "execution_count": null,
   "id": "862c8bec",
   "metadata": {},
   "outputs": [],
   "source": []
  },
  {
   "cell_type": "code",
   "execution_count": null,
   "id": "49582646",
   "metadata": {},
   "outputs": [],
   "source": []
  },
  {
   "cell_type": "code",
   "execution_count": null,
   "id": "c712e1e0",
   "metadata": {},
   "outputs": [],
   "source": []
  },
  {
   "cell_type": "code",
   "execution_count": null,
   "id": "dead14d7",
   "metadata": {},
   "outputs": [],
   "source": []
  },
  {
   "cell_type": "code",
   "execution_count": null,
   "id": "6661213f",
   "metadata": {},
   "outputs": [],
   "source": []
  },
  {
   "cell_type": "code",
   "execution_count": null,
   "id": "29d4f34f",
   "metadata": {},
   "outputs": [],
   "source": []
  },
  {
   "cell_type": "code",
   "execution_count": null,
   "id": "1ea1cb3e",
   "metadata": {},
   "outputs": [],
   "source": []
  },
  {
   "cell_type": "code",
   "execution_count": null,
   "id": "3cc32b24",
   "metadata": {},
   "outputs": [],
   "source": []
  },
  {
   "cell_type": "code",
   "execution_count": null,
   "id": "29700034",
   "metadata": {},
   "outputs": [],
   "source": []
  },
  {
   "cell_type": "code",
   "execution_count": null,
   "id": "e4d4e6af",
   "metadata": {},
   "outputs": [],
   "source": []
  },
  {
   "cell_type": "code",
   "execution_count": null,
   "id": "6cd3d5d9",
   "metadata": {},
   "outputs": [],
   "source": []
  },
  {
   "cell_type": "code",
   "execution_count": null,
   "id": "94146943",
   "metadata": {},
   "outputs": [],
   "source": []
  },
  {
   "cell_type": "code",
   "execution_count": null,
   "id": "b2e50845",
   "metadata": {},
   "outputs": [],
   "source": []
  }
 ],
 "metadata": {
  "kernelspec": {
   "display_name": "ml-dl-nlp",
   "language": "python",
   "name": "ml-dl-nlp"
  },
  "language_info": {
   "codemirror_mode": {
    "name": "ipython",
    "version": 3
   },
   "file_extension": ".py",
   "mimetype": "text/x-python",
   "name": "python",
   "nbconvert_exporter": "python",
   "pygments_lexer": "ipython3",
   "version": "3.10.18"
  },
  "toc": {
   "base_numbering": 1,
   "nav_menu": {},
   "number_sections": false,
   "sideBar": true,
   "skip_h1_title": false,
   "title_cell": "Table of Contents",
   "title_sidebar": "Contents",
   "toc_cell": false,
   "toc_position": {
    "height": "calc(100% - 180px)",
    "left": "10px",
    "top": "150px",
    "width": "165px"
   },
   "toc_section_display": true,
   "toc_window_display": true
  }
 },
 "nbformat": 4,
 "nbformat_minor": 5
}
