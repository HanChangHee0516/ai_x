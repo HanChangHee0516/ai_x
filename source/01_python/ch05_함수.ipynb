{
 "cells": [
  {
   "cell_type": "code",
   "execution_count": 24,
   "id": "53b78856",
   "metadata": {},
   "outputs": [
    {
     "data": {
      "text/html": [
       "\n",
       "<style>\n",
       "div.container{width:86% !important;}\n",
       "div.cell.code_cell.rendered{width:100%;}\n",
       "div.CodeMirror {font-family:Consolas; font-size:15pt;}\n",
       "div.output {font-size:15pt; font-weight:bold;}\n",
       "div.input {font-family:Consolas; font-size:15pt;}\n",
       "div.prompt {min-width:70px;}\n",
       "div#toc-wrapper{padding-top:120px;}\n",
       "div.text_cell_render ul li{font-size:12pt;padding:5px;}\n",
       "table.dataframe{font-size:15px;}\n",
       "</style>\n"
      ],
      "text/plain": [
       "<IPython.core.display.HTML object>"
      ]
     },
     "metadata": {},
     "output_type": "display_data"
    }
   ],
   "source": [
    "from IPython.display import display, HTML\n",
    "display(HTML(\"\"\"\n",
    "<style>\n",
    "div.container{width:86% !important;}\n",
    "div.cell.code_cell.rendered{width:100%;}\n",
    "div.CodeMirror {font-family:Consolas; font-size:15pt;}\n",
    "div.output {font-size:15pt; font-weight:bold;}\n",
    "div.input {font-family:Consolas; font-size:15pt;}\n",
    "div.prompt {min-width:70px;}\n",
    "div#toc-wrapper{padding-top:120px;}\n",
    "div.text_cell_render ul li{font-size:12pt;padding:5px;}\n",
    "table.dataframe{font-size:15px;}\n",
    "</style>\n",
    "\"\"\"))"
   ]
  },
  {
   "cell_type": "markdown",
   "id": "7c054822",
   "metadata": {},
   "source": [
    "<b><font size=\"5\" color=\"red\">ch05. 함수</font></b>\n",
    "- 사용할 코드를 묶어 놓고 그것에 이름을 붙인 것\n",
    "- 오버로딩(함수 이름이 같고, 매개변수의 타입이나 갯수로 다른 함수를 허용하는 것)불가\n",
    "- 함수 정의\n",
    "```\n",
    "def 함수명([매개변수1, ... 매개변수n]):\n",
    "    명령어1\n",
    "    명령어2\n",
    "    명령어n\n",
    "   \n",
    "```\n",
    "# 1절. 함수의 정의 및 사용\n",
    "## 1.1 함수 정의"
   ]
  },
  {
   "cell_type": "code",
   "execution_count": 9,
   "id": "bfdef16e",
   "metadata": {},
   "outputs": [],
   "source": [
    "# 함수 정의\n",
    "def hello():\n",
    "    for i in range(5):\n",
    "        print('Hello')"
   ]
  },
  {
   "cell_type": "code",
   "execution_count": 11,
   "id": "ff880d70",
   "metadata": {},
   "outputs": [
    {
     "name": "stdout",
     "output_type": "stream",
     "text": [
      "Hello\n",
      "Hello\n",
      "Hello\n",
      "Hello\n",
      "Hello\n"
     ]
    }
   ],
   "source": [
    "# 함수 사용\n",
    "hello()"
   ]
  },
  {
   "cell_type": "code",
   "execution_count": 3,
   "id": "0ae72a70",
   "metadata": {},
   "outputs": [],
   "source": [
    "# 함수 정의\n",
    "def my_message(x, msg): # msg를 x번 출력하는 함수\n",
    "#     x = 5\n",
    "#     msg = 'hello'\n",
    "    for i in range(x):\n",
    "        print(msg)"
   ]
  },
  {
   "cell_type": "code",
   "execution_count": 20,
   "id": "51c569ba",
   "metadata": {},
   "outputs": [
    {
     "name": "stdout",
     "output_type": "stream",
     "text": [
      "hello\n",
      "hello\n",
      "hello\n",
      "hello\n",
      "hello\n"
     ]
    }
   ],
   "source": [
    "my_message(5, 'hello')"
   ]
  },
  {
   "cell_type": "code",
   "execution_count": 4,
   "id": "72ebcde8",
   "metadata": {},
   "outputs": [
    {
     "name": "stdout",
     "output_type": "stream",
     "text": [
      "hello\n",
      "hello\n",
      "hello\n"
     ]
    }
   ],
   "source": [
    "my_msg = my_message\n",
    "my_msg(3, 'hello')"
   ]
  },
  {
   "cell_type": "code",
   "execution_count": 23,
   "id": "1daaea40",
   "metadata": {},
   "outputs": [
    {
     "data": {
      "text/plain": [
       "(function, function)"
      ]
     },
     "execution_count": 23,
     "metadata": {},
     "output_type": "execute_result"
    }
   ],
   "source": [
    "type(my_msg), type(my_message)"
   ]
  },
  {
   "cell_type": "code",
   "execution_count": 2,
   "id": "c215df9c",
   "metadata": {},
   "outputs": [
    {
     "name": "stdout",
     "output_type": "stream",
     "text": [
      "Hello\n",
      "Hello\n"
     ]
    }
   ],
   "source": [
    "print('Hello') # 파이썬 내장 함수(import 하지 않고 사용할 수 있는 함수)\n",
    "print = 5\n",
    "# print('Hello')\n",
    "del print\n",
    "print('Hello')"
   ]
  },
  {
   "cell_type": "code",
   "execution_count": 6,
   "id": "c52cda19",
   "metadata": {},
   "outputs": [
    {
     "name": "stdout",
     "output_type": "stream",
     "text": [
      "Hello\n",
      "Hello\n"
     ]
    }
   ],
   "source": [
    "my_message(2, 'Hello')"
   ]
  },
  {
   "cell_type": "code",
   "execution_count": 7,
   "id": "b7b533d7",
   "metadata": {},
   "outputs": [],
   "source": [
    "my_message = 5"
   ]
  },
  {
   "cell_type": "code",
   "execution_count": 8,
   "id": "7dcba028",
   "metadata": {},
   "outputs": [
    {
     "ename": "TypeError",
     "evalue": "'int' object is not callable",
     "output_type": "error",
     "traceback": [
      "\u001b[1;31m---------------------------------------------------------------------------\u001b[0m",
      "\u001b[1;31mTypeError\u001b[0m                                 Traceback (most recent call last)",
      "Cell \u001b[1;32mIn[8], line 1\u001b[0m\n\u001b[1;32m----> 1\u001b[0m \u001b[43mmy_message\u001b[49m\u001b[43m(\u001b[49m\u001b[38;5;241;43m2\u001b[39;49m\u001b[43m,\u001b[49m\u001b[43m \u001b[49m\u001b[38;5;124;43m'\u001b[39;49m\u001b[38;5;124;43mHello\u001b[39;49m\u001b[38;5;124;43m'\u001b[39;49m\u001b[43m)\u001b[49m\n",
      "\u001b[1;31mTypeError\u001b[0m: 'int' object is not callable"
     ]
    }
   ],
   "source": [
    "my_message(2, 'Hello')"
   ]
  },
  {
   "cell_type": "code",
   "execution_count": 9,
   "id": "e21433f7",
   "metadata": {},
   "outputs": [],
   "source": [
    "del my_message\n",
    "# 변수를 삭제해도 함수 사용불가(파이썬 내장함수가 아니라서)"
   ]
  },
  {
   "cell_type": "code",
   "execution_count": 10,
   "id": "6828a716",
   "metadata": {},
   "outputs": [
    {
     "ename": "NameError",
     "evalue": "name 'my_message' is not defined",
     "output_type": "error",
     "traceback": [
      "\u001b[1;31m---------------------------------------------------------------------------\u001b[0m",
      "\u001b[1;31mNameError\u001b[0m                                 Traceback (most recent call last)",
      "Cell \u001b[1;32mIn[10], line 1\u001b[0m\n\u001b[1;32m----> 1\u001b[0m \u001b[43mmy_message\u001b[49m(\u001b[38;5;241m2\u001b[39m, \u001b[38;5;124m'\u001b[39m\u001b[38;5;124mHello\u001b[39m\u001b[38;5;124m'\u001b[39m)\n",
      "\u001b[1;31mNameError\u001b[0m: name 'my_message' is not defined"
     ]
    }
   ],
   "source": [
    "my_message(2, 'Hello')"
   ]
  },
  {
   "cell_type": "code",
   "execution_count": 9,
   "id": "ff0b00f5",
   "metadata": {},
   "outputs": [],
   "source": [
    "# 함수 정의 : 4월 16일 (수)\n",
    "def my_hello():\n",
    "    print('Hello, Python')\n",
    "    print('Hello, World')\n",
    "def my_hello(cut):\n",
    "    for i in range(cut):\n",
    "        print('Hello, Python')\n",
    "        print('Hello, World')"
   ]
  },
  {
   "cell_type": "code",
   "execution_count": 12,
   "id": "3ff317ad",
   "metadata": {},
   "outputs": [],
   "source": [
    "# 함수사용 - 함수호출\n",
    "my_hello(0)"
   ]
  },
  {
   "cell_type": "code",
   "execution_count": 13,
   "id": "39e28c17",
   "metadata": {},
   "outputs": [
    {
     "data": {
      "text/plain": [
       "<function __main__.my_hello(cut)>"
      ]
     },
     "execution_count": 13,
     "metadata": {},
     "output_type": "execute_result"
    }
   ],
   "source": [
    "my_hello"
   ]
  },
  {
   "cell_type": "code",
   "execution_count": 14,
   "id": "6b53bead",
   "metadata": {},
   "outputs": [
    {
     "data": {
      "text/plain": [
       "'__main__'"
      ]
     },
     "execution_count": 14,
     "metadata": {},
     "output_type": "execute_result"
    }
   ],
   "source": [
    "__name__"
   ]
  },
  {
   "cell_type": "code",
   "execution_count": 15,
   "id": "2c4bb13a",
   "metadata": {},
   "outputs": [
    {
     "name": "stdout",
     "output_type": "stream",
     "text": [
      "Hello, Python\n",
      "Hello, World\n",
      "Hello, Python\n",
      "Hello, World\n"
     ]
    }
   ],
   "source": [
    "if __name__=='__main__':\n",
    "    my_hello(2)"
   ]
  },
  {
   "cell_type": "code",
   "execution_count": 2,
   "id": "12585f54",
   "metadata": {},
   "outputs": [
    {
     "name": "stdout",
     "output_type": "stream",
     "text": [
      "Hello, Python\n",
      "Hello, World\n",
      "Hello, Python\n",
      "Hello, World\n",
      "Hello, Python\n",
      "Hello, World\n"
     ]
    }
   ],
   "source": [
    "import ch05  # ch05 모듈을 load\n",
    "ch05.my_hello(3)"
   ]
  },
  {
   "cell_type": "code",
   "execution_count": 3,
   "id": "29cf2b81",
   "metadata": {},
   "outputs": [],
   "source": [
    "from ch05 import my_hello  # ch05 모듈안에 my_hello load"
   ]
  },
  {
   "cell_type": "code",
   "execution_count": 4,
   "id": "28e2c44a",
   "metadata": {},
   "outputs": [
    {
     "name": "stdout",
     "output_type": "stream",
     "text": [
      "Hello, Python\n",
      "Hello, World\n",
      "Hello, Python\n",
      "Hello, World\n",
      "Hello, Python\n",
      "Hello, World\n"
     ]
    }
   ],
   "source": [
    "my_hello(3)"
   ]
  },
  {
   "cell_type": "markdown",
   "id": "dd6ddb4d",
   "metadata": {},
   "source": [
    "## 1.2 docstring"
   ]
  },
  {
   "cell_type": "code",
   "execution_count": 10,
   "id": "437d0011",
   "metadata": {},
   "outputs": [],
   "source": [
    "def my_function():\n",
    "    '''\n",
    "    함수의 첫라인에 독스트링을 포함할 수 있습니다\n",
    "    독스트링은 함수의 설명서를 달아주는 역활\n",
    "    주석보다 많은 기능(shift+tap으로 독스트링을 볼 수 있음)\n",
    "    '''\n",
    "    pass"
   ]
  },
  {
   "cell_type": "code",
   "execution_count": 8,
   "id": "e4a91886",
   "metadata": {},
   "outputs": [],
   "source": [
    "my_function()"
   ]
  },
  {
   "cell_type": "code",
   "execution_count": 11,
   "id": "2a07198f",
   "metadata": {},
   "outputs": [
    {
     "name": "stdout",
     "output_type": "stream",
     "text": [
      "\n",
      "    함수의 첫라인에 독스트링을 포함할 수 있습니다\n",
      "    독스트링은 함수의 설명서를 달아주는 역활\n",
      "    주석보다 많은 기능(shift+tap으로 독스트링을 볼 수 있음)\n",
      "    \n"
     ]
    }
   ],
   "source": [
    "print(my_function.__doc__)"
   ]
  },
  {
   "cell_type": "code",
   "execution_count": 12,
   "id": "1961a5b7",
   "metadata": {},
   "outputs": [],
   "source": [
    "def fibonacci(n):\n",
    "    a, b = 0, 1\n",
    "    while a < n:\n",
    "        print(a, end=' ')\n",
    "        a, b = b, a+b\n",
    "    print() # 개행"
   ]
  },
  {
   "cell_type": "code",
   "execution_count": 14,
   "id": "f55b6134",
   "metadata": {},
   "outputs": [
    {
     "name": "stdout",
     "output_type": "stream",
     "text": [
      "0 1 1 2 3 5 8 13 21 34 55 89 144 233 377 610 987 \n"
     ]
    }
   ],
   "source": [
    "fibonacci(1000)"
   ]
  },
  {
   "cell_type": "code",
   "execution_count": 17,
   "id": "d7e2d342",
   "metadata": {},
   "outputs": [
    {
     "ename": "NameError",
     "evalue": "name 'a' is not defined",
     "output_type": "error",
     "traceback": [
      "\u001b[1;31m---------------------------------------------------------------------------\u001b[0m",
      "\u001b[1;31mNameError\u001b[0m                                 Traceback (most recent call last)",
      "Cell \u001b[1;32mIn[17], line 1\u001b[0m\n\u001b[1;32m----> 1\u001b[0m \u001b[43ma\u001b[49m, b\n",
      "\u001b[1;31mNameError\u001b[0m: name 'a' is not defined"
     ]
    }
   ],
   "source": [
    "a, b"
   ]
  },
  {
   "cell_type": "code",
   "execution_count": 16,
   "id": "9d26c73e",
   "metadata": {},
   "outputs": [
    {
     "data": {
      "text/plain": [
       "10"
      ]
     },
     "execution_count": 16,
     "metadata": {},
     "output_type": "execute_result"
    }
   ],
   "source": [
    "x"
   ]
  },
  {
   "cell_type": "markdown",
   "id": "4d528042",
   "metadata": {},
   "source": [
    "## 1.3 지역변수(local var)와 전역변수(global var)"
   ]
  },
  {
   "cell_type": "code",
   "execution_count": 19,
   "id": "31e98685",
   "metadata": {},
   "outputs": [
    {
     "name": "stdout",
     "output_type": "stream",
     "text": [
      "함수안 : 100\n",
      "함수 밖 :  100\n"
     ]
    }
   ],
   "source": [
    "global_var = 100 # 전연변수\n",
    "def funcl():\n",
    "    print('함수안 :', global_var)\n",
    "funcl()\n",
    "print('함수 밖 : ', global_var)"
   ]
  },
  {
   "cell_type": "code",
   "execution_count": 26,
   "id": "c4b48689",
   "metadata": {},
   "outputs": [
    {
     "name": "stdout",
     "output_type": "stream",
     "text": [
      "함수 안 :  200\n"
     ]
    },
    {
     "ename": "NameError",
     "evalue": "name 'local_var' is not defined",
     "output_type": "error",
     "traceback": [
      "\u001b[1;31m---------------------------------------------------------------------------\u001b[0m",
      "\u001b[1;31mNameError\u001b[0m                                 Traceback (most recent call last)",
      "Cell \u001b[1;32mIn[26], line 5\u001b[0m\n\u001b[0;32m      3\u001b[0m     \u001b[38;5;28mprint\u001b[39m(\u001b[38;5;124m'\u001b[39m\u001b[38;5;124m함수 안 : \u001b[39m\u001b[38;5;124m'\u001b[39m, local_var)\n\u001b[0;32m      4\u001b[0m funcl2()\n\u001b[1;32m----> 5\u001b[0m \u001b[38;5;28mprint\u001b[39m(\u001b[38;5;124m'\u001b[39m\u001b[38;5;124m함수 밖 : \u001b[39m\u001b[38;5;124m'\u001b[39m, \u001b[43mlocal_var\u001b[49m)\n",
      "\u001b[1;31mNameError\u001b[0m: name 'local_var' is not defined"
     ]
    }
   ],
   "source": [
    "def funcl2():\n",
    "    local_var = 200 # 지역변수\n",
    "    print('함수 안 : ', local_var)\n",
    "funcl2()\n",
    "print('함수 밖 : ', local_var)"
   ]
  },
  {
   "cell_type": "code",
   "execution_count": 28,
   "id": "de2e3ec9",
   "metadata": {},
   "outputs": [
    {
     "name": "stdout",
     "output_type": "stream",
     "text": [
      "함수 안(지역변수 g_var) :  200\n",
      "함수 밖(전역변수 g_var) :  100\n"
     ]
    }
   ],
   "source": [
    "g_var = 100 # 전역변수\n",
    "def func3():\n",
    "    g_var = 200 # 지역변수 (변수 선언과 할당)\n",
    "    print('함수 안(지역변수 g_var) : ', g_var)\n",
    "func3()\n",
    "print('함수 밖(전역변수 g_var) : ', g_var)"
   ]
  },
  {
   "cell_type": "code",
   "execution_count": 29,
   "id": "cd8f99ed",
   "metadata": {},
   "outputs": [],
   "source": [
    "# 렉시컬 특성\n",
    "g_var = 100 #전연변수\n",
    "def func4():\n",
    "    print('함수 안 g_var', g_var)\n",
    "    g_var = 200 #지역변수"
   ]
  },
  {
   "cell_type": "code",
   "execution_count": 31,
   "id": "0736054e",
   "metadata": {},
   "outputs": [
    {
     "ename": "UnboundLocalError",
     "evalue": "local variable 'g_var' referenced before assignment",
     "output_type": "error",
     "traceback": [
      "\u001b[1;31m---------------------------------------------------------------------------\u001b[0m",
      "\u001b[1;31mUnboundLocalError\u001b[0m                         Traceback (most recent call last)",
      "Cell \u001b[1;32mIn[31], line 1\u001b[0m\n\u001b[1;32m----> 1\u001b[0m \u001b[43mfunc4\u001b[49m\u001b[43m(\u001b[49m\u001b[43m)\u001b[49m\n",
      "Cell \u001b[1;32mIn[29], line 3\u001b[0m, in \u001b[0;36mfunc4\u001b[1;34m()\u001b[0m\n\u001b[0;32m      2\u001b[0m \u001b[38;5;28;01mdef\u001b[39;00m \u001b[38;5;21mfunc4\u001b[39m():\n\u001b[1;32m----> 3\u001b[0m     \u001b[38;5;28mprint\u001b[39m(\u001b[38;5;124m'\u001b[39m\u001b[38;5;124m함수 안 g_var\u001b[39m\u001b[38;5;124m'\u001b[39m, \u001b[43mg_var\u001b[49m)\n\u001b[0;32m      4\u001b[0m     g_var \u001b[38;5;241m=\u001b[39m \u001b[38;5;241m200\u001b[39m\n",
      "\u001b[1;31mUnboundLocalError\u001b[0m: local variable 'g_var' referenced before assignment"
     ]
    }
   ],
   "source": [
    "func4()"
   ]
  },
  {
   "cell_type": "code",
   "execution_count": 35,
   "id": "88688fe8",
   "metadata": {},
   "outputs": [
    {
     "name": "stdout",
     "output_type": "stream",
     "text": [
      "함수 안 g_var 100\n",
      "함수 밖에 g-var : 200\n"
     ]
    }
   ],
   "source": [
    "# 렉시컬 특성\n",
    "g_var = 100 #전연변수\n",
    "def func4():\n",
    "    global g_var # func4 함수내의 g_var는 전연변수를 쓴다\n",
    "    print('함수 안 g_var', g_var)\n",
    "    g_var = 200 #지역변수 -> 전역변수\n",
    "func4()\n",
    "print('함수 밖에 g-var :', g_var)"
   ]
  },
  {
   "cell_type": "markdown",
   "id": "6eebf70b",
   "metadata": {},
   "source": [
    "# 1.4 값에 의한 호출\n",
    "- 함수의 매개변수(인수)로 전달되는 변수가 스칼라 변수(문자, 숫자, 논리형)일 때"
   ]
  },
  {
   "cell_type": "code",
   "execution_count": 39,
   "id": "ab50f149",
   "metadata": {},
   "outputs": [
    {
     "data": {
      "text/plain": [
       "2356444358448"
      ]
     },
     "execution_count": 39,
     "metadata": {},
     "output_type": "execute_result"
    }
   ],
   "source": [
    "foo = 'a'\n",
    "id(foo)"
   ]
  },
  {
   "cell_type": "code",
   "execution_count": 56,
   "id": "4c0f34bd",
   "metadata": {},
   "outputs": [
    {
     "name": "stdout",
     "output_type": "stream",
     "text": [
      "Before : a id(f) :  2356444358448\n",
      "After : aaa id(f) :  2356559985392\n"
     ]
    }
   ],
   "source": [
    "def func1(f): # 매개변수 f는 지역변수\n",
    "    print('Before :', f, 'id(f) : ', id(f))\n",
    "    f = f*3\n",
    "    print('After :', f, 'id(f) : ', id(f))\n",
    "func1(foo)"
   ]
  },
  {
   "cell_type": "code",
   "execution_count": 57,
   "id": "6e3d663b",
   "metadata": {},
   "outputs": [
    {
     "name": "stdout",
     "output_type": "stream",
     "text": [
      "a 2356444358448\n"
     ]
    }
   ],
   "source": [
    "print(foo, id(foo))"
   ]
  },
  {
   "cell_type": "code",
   "execution_count": null,
   "id": "bc9b4f0c",
   "metadata": {},
   "outputs": [],
   "source": []
  },
  {
   "cell_type": "markdown",
   "id": "555d6903",
   "metadata": {},
   "source": [
    "# 1.5 참조에 의한 호출\n",
    "- 함수의 매개변수(인자)로 전달되는 변수가 리스트, 튜플, 셋, 딕셔너리 등의 객체일 경우"
   ]
  },
  {
   "cell_type": "code",
   "execution_count": 44,
   "id": "f74f13ed",
   "metadata": {},
   "outputs": [
    {
     "data": {
      "text/plain": [
       "2356560128896"
      ]
     },
     "execution_count": 44,
     "metadata": {},
     "output_type": "execute_result"
    }
   ],
   "source": [
    "L = [1, 2, 3]\n",
    "id(L)"
   ]
  },
  {
   "cell_type": "code",
   "execution_count": 58,
   "id": "967d48d8",
   "metadata": {},
   "outputs": [
    {
     "name": "stdout",
     "output_type": "stream",
     "text": [
      "Before :  [1, 2, 3, 4, 4, 4, 4, 4, 4] 2356560128896\n",
      "After : [1, 2, 3, 4, 4, 4, 4, 4, 4, 4] 2356560128896\n"
     ]
    }
   ],
   "source": [
    "def func2(f): # 매개변수는 지역변수\n",
    "    print('Before : ', f, id(f))\n",
    "    f.append(4)\n",
    "    print('After :', f, id(f))\n",
    "func2(L)"
   ]
  },
  {
   "cell_type": "code",
   "execution_count": 60,
   "id": "1b13cc18",
   "metadata": {},
   "outputs": [
    {
     "name": "stdout",
     "output_type": "stream",
     "text": [
      "L= [1, 2, 3, 4, 4, 4, 4, 4, 4, 4] 2356560128896\n"
     ]
    }
   ],
   "source": [
    "print('L=', L, id(L))"
   ]
  },
  {
   "cell_type": "markdown",
   "id": "9c896c73",
   "metadata": {},
   "source": [
    "# 2절. 함수의 실행결과를 반환하는 return"
   ]
  },
  {
   "cell_type": "code",
   "execution_count": 61,
   "id": "ee4dc368",
   "metadata": {},
   "outputs": [],
   "source": [
    "def add(x, y):\n",
    "    return x + y"
   ]
  },
  {
   "cell_type": "code",
   "execution_count": 65,
   "id": "ce384068",
   "metadata": {},
   "outputs": [
    {
     "data": {
      "text/plain": [
       "5"
      ]
     },
     "execution_count": 65,
     "metadata": {},
     "output_type": "execute_result"
    }
   ],
   "source": [
    "i = 2; j = 3\n",
    "add(i, j)"
   ]
  },
  {
   "cell_type": "code",
   "execution_count": 66,
   "id": "6cc67cb4",
   "metadata": {},
   "outputs": [],
   "source": [
    "def add():\n",
    "    return True"
   ]
  },
  {
   "cell_type": "code",
   "execution_count": 67,
   "id": "c760211b",
   "metadata": {},
   "outputs": [
    {
     "data": {
      "text/plain": [
       "True"
      ]
     },
     "execution_count": 67,
     "metadata": {},
     "output_type": "execute_result"
    }
   ],
   "source": [
    "add()"
   ]
  },
  {
   "cell_type": "code",
   "execution_count": 68,
   "id": "487b398b",
   "metadata": {},
   "outputs": [],
   "source": [
    "def add(a):\n",
    "    pass"
   ]
  },
  {
   "cell_type": "code",
   "execution_count": 70,
   "id": "30f5de31",
   "metadata": {},
   "outputs": [
    {
     "name": "stdout",
     "output_type": "stream",
     "text": [
      "None\n"
     ]
    }
   ],
   "source": [
    "print(add(10))"
   ]
  },
  {
   "cell_type": "code",
   "execution_count": 73,
   "id": "17ee25eb",
   "metadata": {},
   "outputs": [],
   "source": [
    "def fibonacci_print(n):\n",
    "    '''\n",
    "    매개변수로 들어온 n값 미만의 피보나치 수열을 출력\n",
    "    ex. n=10이면 0 1 1 2 3 5 8을 출력\n",
    "    '''\n",
    "    a, b = 0, 1\n",
    "    while a < n:\n",
    "        print(a, end=' ')\n",
    "        a, b = b, a+b\n",
    "    print() # 개행\n",
    "def fibonacci_return(n):\n",
    "    '''\n",
    "    매개변수로 들어온 n값 미만의 피보나치 수열을 리스트로 return\n",
    "    ex. n=10이면 0 1 1 2 3 5 8을 return\n",
    "    '''\n",
    "    result = []\n",
    "    a, b = 0, 1\n",
    "    while a < n:\n",
    "        result.append(a)\n",
    "        a, b = b, a+b\n",
    "    return result"
   ]
  },
  {
   "cell_type": "code",
   "execution_count": 72,
   "id": "db691626",
   "metadata": {},
   "outputs": [
    {
     "name": "stdout",
     "output_type": "stream",
     "text": [
      "0 1 1 2 3 5 8 13 21 34 55 89 \n",
      "None\n"
     ]
    }
   ],
   "source": [
    "x = fibonacci_print(100)\n",
    "print(x)"
   ]
  },
  {
   "cell_type": "code",
   "execution_count": 74,
   "id": "a35e3e45",
   "metadata": {},
   "outputs": [
    {
     "name": "stdout",
     "output_type": "stream",
     "text": [
      "[0, 1, 1, 2, 3, 5, 8, 13, 21, 34, 55, 89]\n",
      "<class 'list'>\n"
     ]
    }
   ],
   "source": [
    "x = fibonacci_return(100)\n",
    "print(x)\n",
    "print(type(x))"
   ]
  },
  {
   "cell_type": "markdown",
   "id": "a05ee444",
   "metadata": {},
   "source": [
    "## 여러개 값 return"
   ]
  },
  {
   "cell_type": "code",
   "execution_count": 75,
   "id": "04bf764f",
   "metadata": {},
   "outputs": [],
   "source": [
    "def swap(a, b):\n",
    "    '매개변수의 순서를 바꿔서 return'\n",
    "    return b, a"
   ]
  },
  {
   "cell_type": "code",
   "execution_count": 78,
   "id": "26c32d85",
   "metadata": {},
   "outputs": [
    {
     "name": "stdout",
     "output_type": "stream",
     "text": [
      "함수 실행 전 x=5, y=10 \n",
      "함수 실행 후 x=10, y=5 \n"
     ]
    }
   ],
   "source": [
    "x, y = 5, 10\n",
    "print(f'함수 실행 전 x={x}, y={y} ')\n",
    "x, y = swap(x, y)\n",
    "print(f'함수 실행 후 x={x}, y={y} ')"
   ]
  },
  {
   "cell_type": "markdown",
   "id": "5be90738",
   "metadata": {},
   "source": [
    "# 3절. 함수의 매개변수 ★\n",
    "## 3.1 기본값을 갖는 매개변수"
   ]
  },
  {
   "cell_type": "code",
   "execution_count": 85,
   "id": "b8f79ae9",
   "metadata": {},
   "outputs": [],
   "source": [
    "def make_url(ip, port=80): # 순서인수 > 기본값을갖는매개변수\n",
    "    return \"http://{}:{}\".format(ip, port)"
   ]
  },
  {
   "cell_type": "code",
   "execution_count": 89,
   "id": "52970ede",
   "metadata": {},
   "outputs": [
    {
     "name": "stdout",
     "output_type": "stream",
     "text": [
      "http://www.naver.com:80\n",
      "http://localhost:8090\n",
      "http://localhost:8090\n"
     ]
    }
   ],
   "source": [
    "print(make_url('www.naver.com'))\n",
    "print(make_url('localhost',8090))\n",
    "print(make_url(port=8090, ip='localhost'))"
   ]
  },
  {
   "cell_type": "code",
   "execution_count": 90,
   "id": "ca9aa49e",
   "metadata": {},
   "outputs": [],
   "source": [
    "# 잘 못 된 함수\n",
    "# def make_url(port=80, ip):\n",
    "#     return \"http://{}:{}\".format(ip, port)"
   ]
  },
  {
   "cell_type": "markdown",
   "id": "6f7db6a8",
   "metadata": {},
   "source": [
    "## 3.2 기본변수를 갖는 매개변수\n",
    "- 기본변수가 스칼라 변수일 때\n",
    "- 기본변수가 리스트, 셋, 딕셔너리 드의 객체일 때"
   ]
  },
  {
   "cell_type": "code",
   "execution_count": 93,
   "id": "6c221d1a",
   "metadata": {},
   "outputs": [],
   "source": [
    "i = 5\n",
    "# 기본값을 갖는 변수가 스칼라 변수일 때 : arg의 기본값은 함수가 정의되는 시점의 값\n",
    "def func2(arg = i):\n",
    "    print('arg = ', arg)"
   ]
  },
  {
   "cell_type": "code",
   "execution_count": 95,
   "id": "609fc6fe",
   "metadata": {},
   "outputs": [
    {
     "name": "stdout",
     "output_type": "stream",
     "text": [
      "arg =  5\n"
     ]
    }
   ],
   "source": [
    "i = 50\n",
    "func2()"
   ]
  },
  {
   "cell_type": "code",
   "execution_count": 105,
   "id": "1f7de663",
   "metadata": {},
   "outputs": [],
   "source": [
    "list_ = []\n",
    "# 기본값을 갖는 변수가 객체(데이터구조)일 때 arg의 기본값은 호출되는 시점의 값\n",
    "def func3(date, L = list_):\n",
    "    'date를 L에 append'\n",
    "    L.append(date)\n",
    "    return L"
   ]
  },
  {
   "cell_type": "code",
   "execution_count": 106,
   "id": "d10f6a4d",
   "metadata": {},
   "outputs": [
    {
     "name": "stdout",
     "output_type": "stream",
     "text": [
      "[10]\n"
     ]
    }
   ],
   "source": [
    "print(func3(10)) # lsit_가 수정 : [10]"
   ]
  },
  {
   "cell_type": "code",
   "execution_count": 107,
   "id": "9789304b",
   "metadata": {},
   "outputs": [
    {
     "name": "stdout",
     "output_type": "stream",
     "text": [
      "[10, 20]\n"
     ]
    }
   ],
   "source": [
    "print(func3(20))"
   ]
  },
  {
   "cell_type": "code",
   "execution_count": 108,
   "id": "ba1d6c24",
   "metadata": {},
   "outputs": [
    {
     "data": {
      "text/plain": [
       "[10, 20]"
      ]
     },
     "execution_count": 108,
     "metadata": {},
     "output_type": "execute_result"
    }
   ],
   "source": [
    "list_"
   ]
  },
  {
   "cell_type": "code",
   "execution_count": 133,
   "id": "c01164b5",
   "metadata": {},
   "outputs": [],
   "source": [
    "def func4(date, L=None): \n",
    "    if L==None:\n",
    "        L = []\n",
    "    L.append(date)\n",
    "    return L"
   ]
  },
  {
   "cell_type": "code",
   "execution_count": 134,
   "id": "751c86b4",
   "metadata": {
    "scrolled": true
   },
   "outputs": [
    {
     "name": "stdout",
     "output_type": "stream",
     "text": [
      "[10]\n",
      "[10, 20, 10]\n"
     ]
    }
   ],
   "source": [
    "print(func4(10))\n",
    "print(func4(10, list_))"
   ]
  },
  {
   "cell_type": "markdown",
   "id": "49007224",
   "metadata": {},
   "source": [
    "## 3.3 튜플 매개변수를 이용한 가변인수 설정"
   ]
  },
  {
   "cell_type": "code",
   "execution_count": null,
   "id": "ce69c68f",
   "metadata": {},
   "outputs": [],
   "source": [
    "# 파이썬은 오버로딩(함수의 중복)을 지원하지 않습니다\n",
    "def add(a, b):\n",
    "    return a+b\n",
    "def add(a+b+c):\n",
    "    return a+b+c"
   ]
  },
  {
   "cell_type": "code",
   "execution_count": null,
   "id": "129905d8",
   "metadata": {},
   "outputs": [],
   "source": [
    "add(1,2,3,4)"
   ]
  },
  {
   "cell_type": "code",
   "execution_count": 118,
   "id": "c3a771a4",
   "metadata": {},
   "outputs": [],
   "source": [
    "# *args : 매개변수들을 하나의 튜플 변수 aegs로 전달 받음\n",
    "def add(*args):\n",
    "    '전달받은 매개변수들의 합을 return'\n",
    "    # print('args = ', args)\n",
    "    result_tot = 0 # 누적변수\n",
    "    for date in args:\n",
    "        result_tot += date\n",
    "    return result_tot"
   ]
  },
  {
   "cell_type": "code",
   "execution_count": 119,
   "id": "c68201b8",
   "metadata": {},
   "outputs": [
    {
     "name": "stdout",
     "output_type": "stream",
     "text": [
      "1\n",
      "3\n",
      "28\n"
     ]
    }
   ],
   "source": [
    "print(add(1))\n",
    "print(add(1, 2))\n",
    "print(add(1, 2, 3, 4, 5, 6, 7))"
   ]
  },
  {
   "cell_type": "code",
   "execution_count": 121,
   "id": "2eff21ff",
   "metadata": {},
   "outputs": [
    {
     "data": {
      "text/plain": [
       "'Python/Oracle/DL/ML'"
      ]
     },
     "execution_count": 121,
     "metadata": {},
     "output_type": "execute_result"
    }
   ],
   "source": [
    "suvject = ('Python', 'Oracle', 'DL', 'ML')\n",
    "'/'.join(suvject)"
   ]
  },
  {
   "cell_type": "code",
   "execution_count": 122,
   "id": "1727cd0b",
   "metadata": {},
   "outputs": [],
   "source": [
    "def concat(*suvject, sep):\n",
    "    return sep.join(suvject)"
   ]
  },
  {
   "cell_type": "code",
   "execution_count": 124,
   "id": "a86124f4",
   "metadata": {},
   "outputs": [
    {
     "ename": "TypeError",
     "evalue": "concat() missing 1 required keyword-only argument: 'sep'",
     "output_type": "error",
     "traceback": [
      "\u001b[1;31m---------------------------------------------------------------------------\u001b[0m",
      "\u001b[1;31mTypeError\u001b[0m                                 Traceback (most recent call last)",
      "Cell \u001b[1;32mIn[124], line 1\u001b[0m\n\u001b[1;32m----> 1\u001b[0m \u001b[43mconcat\u001b[49m\u001b[43m(\u001b[49m\u001b[43m(\u001b[49m\u001b[38;5;124;43m'\u001b[39;49m\u001b[38;5;124;43mPython\u001b[39;49m\u001b[38;5;124;43m'\u001b[39;49m\u001b[43m,\u001b[49m\u001b[43m \u001b[49m\u001b[38;5;124;43m'\u001b[39;49m\u001b[38;5;124;43mOracle\u001b[39;49m\u001b[38;5;124;43m'\u001b[39;49m\u001b[43m,\u001b[49m\u001b[43m \u001b[49m\u001b[38;5;124;43m'\u001b[39;49m\u001b[38;5;124;43mDL\u001b[39;49m\u001b[38;5;124;43m'\u001b[39;49m\u001b[43m,\u001b[49m\u001b[43m \u001b[49m\u001b[38;5;124;43m'\u001b[39;49m\u001b[38;5;124;43mML\u001b[39;49m\u001b[38;5;124;43m'\u001b[39;49m\u001b[43m)\u001b[49m\u001b[43m,\u001b[49m\u001b[43m \u001b[49m\u001b[38;5;124;43m'\u001b[39;49m\u001b[38;5;124;43m/\u001b[39;49m\u001b[38;5;124;43m'\u001b[39;49m\u001b[43m)\u001b[49m\n",
      "\u001b[1;31mTypeError\u001b[0m: concat() missing 1 required keyword-only argument: 'sep'"
     ]
    }
   ],
   "source": [
    "concat('Python', 'Oracle', 'DL', 'ML', '/')"
   ]
  },
  {
   "cell_type": "code",
   "execution_count": 126,
   "id": "f5477575",
   "metadata": {},
   "outputs": [
    {
     "data": {
      "text/plain": [
       "'Python / Oracle / DL / ML'"
      ]
     },
     "execution_count": 126,
     "metadata": {},
     "output_type": "execute_result"
    }
   ],
   "source": [
    "# 해결책 1 : 매개변수 이름을 지정해서 호풀\n",
    "concat('Python', 'Oracle', 'DL', 'ML', sep=' / ')"
   ]
  },
  {
   "cell_type": "code",
   "execution_count": 3,
   "id": "fa93d448",
   "metadata": {},
   "outputs": [],
   "source": [
    "# 해결책 2 : 기본값을 갖는 반드시 갖는 키워드인수 사용\n",
    "def concat(*subject, sep=' ~ '):\n",
    "    return sep.join(subject)"
   ]
  },
  {
   "cell_type": "code",
   "execution_count": 4,
   "id": "032c3358",
   "metadata": {},
   "outputs": [
    {
     "data": {
      "text/plain": [
       "'Python / Oracle / DL / ML'"
      ]
     },
     "execution_count": 4,
     "metadata": {},
     "output_type": "execute_result"
    }
   ],
   "source": [
    "concat('Python', 'Oracle', 'DL', 'ML', sep=' / ')"
   ]
  },
  {
   "cell_type": "code",
   "execution_count": 7,
   "id": "f82550db",
   "metadata": {},
   "outputs": [
    {
     "name": "stdout",
     "output_type": "stream",
     "text": [
      "Python / Oracle / DL / ML\n"
     ]
    }
   ],
   "source": [
    "print('Python', 'Oracle', 'DL', 'ML', sep=' / ')"
   ]
  },
  {
   "cell_type": "code",
   "execution_count": 8,
   "id": "0e050be2",
   "metadata": {},
   "outputs": [],
   "source": [
    "# 해결책 3 : sep을 순서인수로 앞에 선언\n",
    "def concet(sep, *suvject):\n",
    "    return sep.join(suvject)"
   ]
  },
  {
   "cell_type": "code",
   "execution_count": 9,
   "id": "4273b4ce",
   "metadata": {},
   "outputs": [
    {
     "data": {
      "text/plain": [
       "'Python ~ Oracle ~ DL'"
      ]
     },
     "execution_count": 9,
     "metadata": {},
     "output_type": "execute_result"
    }
   ],
   "source": [
    "concat('Python', 'Oracle', 'DL')"
   ]
  },
  {
   "cell_type": "markdown",
   "id": "1a2eb65a",
   "metadata": {},
   "source": [
    "## 3.4 딕셔너리 매개변수\n",
    "- 여러개의 키워드인수를 딕셔너리 형태로 받아서 가변키워드 인수 처리"
   ]
  },
  {
   "cell_type": "code",
   "execution_count": 17,
   "id": "24dbad48",
   "metadata": {},
   "outputs": [],
   "source": [
    "def func5(**kwargs):\n",
    "    print(kwargs)\n",
    "    print(type(kwargs))\n",
    "    print('이름 : ', kwargs.get('name', '대마왕'))\n",
    "    print('나이 : ', kwargs.get('age', 30))\n",
    "    print('주소 : ', kwargs.get('address', '서울'))"
   ]
  },
  {
   "cell_type": "code",
   "execution_count": 18,
   "id": "e0262303",
   "metadata": {},
   "outputs": [
    {
     "name": "stdout",
     "output_type": "stream",
     "text": [
      "{'name': '홍길동', 'age': 30, 'address': '신림동'}\n",
      "<class 'dict'>\n",
      "이름 :  홍길동\n",
      "나이 :  30\n",
      "주소 :  신림동\n"
     ]
    }
   ],
   "source": [
    "func5(name='홍길동', age=30, address='신림동')"
   ]
  },
  {
   "cell_type": "code",
   "execution_count": 21,
   "id": "72fae9d3",
   "metadata": {},
   "outputs": [
    {
     "name": "stdout",
     "output_type": "stream",
     "text": [
      "{'name': '김길동'}\n",
      "<class 'dict'>\n",
      "이름 :  김길동\n",
      "나이 :  30\n",
      "주소 :  서울\n"
     ]
    }
   ],
   "source": [
    "func5(name='김길동')"
   ]
  },
  {
   "cell_type": "markdown",
   "id": "1bb6af34",
   "metadata": {},
   "source": [
    "## 3.5 함수정의시 매개변수 순서\n",
    "- 순서인수 > 튜플매개변수(*) > 키워드인수(매개변수이름반드시명시) > 딕셔너리매개변수(**)"
   ]
  },
  {
   "cell_type": "code",
   "execution_count": 28,
   "id": "a0843368",
   "metadata": {},
   "outputs": [],
   "source": [
    "def func6(a, b, *c, **d):\n",
    "    print('순서인수 a : ', a)\n",
    "    print('순서인수 b : ', b)\n",
    "    print('튜플인수 c : ', c)\n",
    "    print('딕셔너리 인수 d : ', d)"
   ]
  },
  {
   "cell_type": "code",
   "execution_count": 29,
   "id": "92ab962d",
   "metadata": {},
   "outputs": [
    {
     "name": "stdout",
     "output_type": "stream",
     "text": [
      "순서인수 a :  10\n",
      "순서인수 b :  20\n",
      "튜플인수 c :  (1, 2, 3, 4, 5, 6, 7, 8, 9)\n",
      "딕셔너리 인수 d :  {'name': '홍길동', 'age': 30, 'address': '서울'}\n"
     ]
    }
   ],
   "source": [
    "func6(10,20, 1, 2, 3, 4, 5, 6, 7, 8, 9, name='홍길동', age=30, address='서울')"
   ]
  },
  {
   "cell_type": "code",
   "execution_count": 31,
   "id": "01b6c991",
   "metadata": {},
   "outputs": [],
   "source": [
    "def func7(a, b, *c, d='기본값', **e):\n",
    "    print('순서인수 a : ', a)\n",
    "    print('순서인수 b : ', b)\n",
    "    print('튜플인수 c : ', c)\n",
    "    print('키원드인수(기본값을 갖는 인수, 호풀시 매개변수명 반드시 명시) 인수 d : ', d)\n",
    "    print('딕셔너리인수 e : ', e)"
   ]
  },
  {
   "cell_type": "code",
   "execution_count": 32,
   "id": "fe561e98",
   "metadata": {},
   "outputs": [
    {
     "name": "stdout",
     "output_type": "stream",
     "text": [
      "순서인수 a :  10\n",
      "순서인수 b :  20\n",
      "튜플인수 c :  (1, 2, 3)\n",
      "키원드인수(기본값을 갖는 인수, 호풀시 매개변수명 반드시 명시) 인수 d :  딴거\n",
      "딕셔너리인수 e :  {'name': '홍길동', 'fontsize': 12, 'fortfamily': 'consola'}\n"
     ]
    }
   ],
   "source": [
    "func7(10, 20, 1, 2, 3, d='딴거', name='홍길동', fontsize=12, fortfamily='consola')"
   ]
  },
  {
   "cell_type": "code",
   "execution_count": 33,
   "id": "f2c683be",
   "metadata": {},
   "outputs": [
    {
     "name": "stdout",
     "output_type": "stream",
     "text": [
      "순서인수 a :  10\n",
      "순서인수 b :  20\n",
      "튜플인수 c :  (1, 2, 3, '딴거')\n",
      "키원드인수(기본값을 갖는 인수, 호풀시 매개변수명 반드시 명시) 인수 d :  기본값\n",
      "딕셔너리인수 e :  {'name': '홍길동', 'fontsize': 12, 'fortfamily': 'consola'}\n"
     ]
    }
   ],
   "source": [
    "func7(10, 20, 1, 2, 3, '딴거', name='홍길동', fontsize=12, fortfamily='consola')"
   ]
  },
  {
   "cell_type": "markdown",
   "id": "f0a0e084",
   "metadata": {},
   "source": [
    "## 3.6 인수의 언팩킹\n",
    "### 튜플인수 언팩킹\n",
    "- 언패킹 : 함수 호출시 매개변수앞에 *붙음\n",
    "- 패킹 : 함수 정의시 매개변수 앞에 * 붙음(튜플매개변수)"
   ]
  },
  {
   "cell_type": "code",
   "execution_count": 37,
   "id": "e6c3fe53",
   "metadata": {},
   "outputs": [],
   "source": [
    "def add(*arge):\n",
    "    print(arge)\n",
    "    tot = 0\n",
    "    for num in arge:\n",
    "        tot += num\n",
    "    return tot"
   ]
  },
  {
   "cell_type": "code",
   "execution_count": 35,
   "id": "b71b9757",
   "metadata": {},
   "outputs": [
    {
     "data": {
      "text/plain": [
       "10"
      ]
     },
     "execution_count": 35,
     "metadata": {},
     "output_type": "execute_result"
    }
   ],
   "source": [
    "add(1, 2, 3, 4)"
   ]
  },
  {
   "cell_type": "code",
   "execution_count": 40,
   "id": "575a9d0b",
   "metadata": {},
   "outputs": [
    {
     "name": "stdout",
     "output_type": "stream",
     "text": [
      "(1, 2, 3, 4)\n"
     ]
    },
    {
     "data": {
      "text/plain": [
       "10"
      ]
     },
     "execution_count": 40,
     "metadata": {},
     "output_type": "execute_result"
    }
   ],
   "source": [
    "numbers = [1, 2, 3, 4]\n",
    "add(*numbers) # 언패킹"
   ]
  },
  {
   "cell_type": "code",
   "execution_count": 41,
   "id": "b8a32aeb",
   "metadata": {},
   "outputs": [
    {
     "name": "stdout",
     "output_type": "stream",
     "text": [
      "(1, 2, 3, 4)\n"
     ]
    },
    {
     "data": {
      "text/plain": [
       "10"
      ]
     },
     "execution_count": 41,
     "metadata": {},
     "output_type": "execute_result"
    }
   ],
   "source": [
    "numbers = (1, 2, 3, 4)\n",
    "add(*numbers) # 언패킹"
   ]
  },
  {
   "cell_type": "markdown",
   "id": "b873e4f0",
   "metadata": {},
   "source": [
    "### 딕셔너리인수 언패킹\n",
    "- 언패킹 : 함수 호출시 매개변수앞에 ** 붙음(딕셔너리를 언패킹)\n",
    "- 패킹 : 함수 정의시 매개변수 앞에 ** 붙음"
   ]
  },
  {
   "cell_type": "code",
   "execution_count": 49,
   "id": "5980620f",
   "metadata": {},
   "outputs": [],
   "source": [
    "def func5(**date):\n",
    "    print(type(date))\n",
    "    for key, item in date.items():\n",
    "        print(f'{key}:{item}')"
   ]
  },
  {
   "cell_type": "code",
   "execution_count": 50,
   "id": "92a1be22",
   "metadata": {},
   "outputs": [
    {
     "name": "stdout",
     "output_type": "stream",
     "text": [
      "<class 'dict'>\n",
      "name:홍길동\n",
      "age:30\n",
      "address:신림동\n"
     ]
    }
   ],
   "source": [
    "func5(name='홍길동', age=30, address='신림동')"
   ]
  },
  {
   "cell_type": "code",
   "execution_count": 52,
   "id": "7e23266a",
   "metadata": {},
   "outputs": [
    {
     "name": "stdout",
     "output_type": "stream",
     "text": [
      "<class 'dict'>\n",
      "name:홍길동\n",
      "age:30\n",
      "address:서울시 강남구\n",
      "score:900\n"
     ]
    }
   ],
   "source": [
    "customInfo = {'name':'홍길동', 'age':30, 'address':'서울시 강남구', 'score':900}\n",
    "func5(**customInfo)"
   ]
  },
  {
   "cell_type": "markdown",
   "id": "2bba4a29",
   "metadata": {},
   "source": [
    "# 4절. 람다식\n",
    "- return  한줄짜리 작은 익명함수\n",
    "## 4.1 람다식 연습"
   ]
  },
  {
   "cell_type": "code",
   "execution_count": 53,
   "id": "50bf2d53",
   "metadata": {},
   "outputs": [
    {
     "data": {
      "text/plain": [
       "7"
      ]
     },
     "execution_count": 53,
     "metadata": {},
     "output_type": "execute_result"
    }
   ],
   "source": [
    "def add(a, b):\n",
    "    return a+b\n",
    "add(3, 4)"
   ]
  },
  {
   "cell_type": "code",
   "execution_count": 54,
   "id": "1ad06df7",
   "metadata": {},
   "outputs": [
    {
     "data": {
      "text/plain": [
       "7"
      ]
     },
     "execution_count": 54,
     "metadata": {},
     "output_type": "execute_result"
    }
   ],
   "source": [
    "add2 = lambda a, b : a+b\n",
    "add2(3, 4)"
   ]
  },
  {
   "cell_type": "code",
   "execution_count": 56,
   "id": "1d4b95cf",
   "metadata": {},
   "outputs": [
    {
     "data": {
      "text/plain": [
       "(function, function)"
      ]
     },
     "execution_count": 56,
     "metadata": {},
     "output_type": "execute_result"
    }
   ],
   "source": [
    "type(add), type(add2)"
   ]
  },
  {
   "cell_type": "code",
   "execution_count": 57,
   "id": "535d9a50",
   "metadata": {},
   "outputs": [
    {
     "data": {
      "text/plain": [
       "7"
      ]
     },
     "execution_count": 57,
     "metadata": {},
     "output_type": "execute_result"
    }
   ],
   "source": [
    "(lambda a, b : a+b)(3, 4)"
   ]
  },
  {
   "cell_type": "code",
   "execution_count": 1,
   "id": "bb7dc113",
   "metadata": {},
   "outputs": [
    {
     "data": {
      "text/plain": [
       "('짝수', '홀수')"
      ]
     },
     "execution_count": 1,
     "metadata": {},
     "output_type": "execute_result"
    }
   ],
   "source": [
    "# ex1. 매개변수로 들어온 값이 짝수인지 홀수인지 return\n",
    "def ex1(num):\n",
    "#     if num%2:\n",
    "#         result = '홀수'\n",
    "#     else:\n",
    "#         result = '짝수'\n",
    "    return '홀수'if num%2 else '짝수'\n",
    "ex1 = lambda num : '홀수' if num%2 else '짝수'\n",
    "ex1(10), ex1(-9)"
   ]
  },
  {
   "cell_type": "code",
   "execution_count": 6,
   "id": "3a65eac6",
   "metadata": {},
   "outputs": [
    {
     "data": {
      "text/plain": [
       "(1, 10)"
      ]
     },
     "execution_count": 6,
     "metadata": {},
     "output_type": "execute_result"
    }
   ],
   "source": [
    "# ex2. 두 매개변수로의 차이를 return \n",
    "def diff(a, b):\n",
    "#     if a>b:\n",
    "#         result = a-b\n",
    "#     else:\n",
    "#         result = b-a\n",
    "    result = a-b if a>b else b-a\n",
    "    return result\n",
    "diff(2, 1), diff(10, 20)"
   ]
  },
  {
   "cell_type": "code",
   "execution_count": 8,
   "id": "7b83ba32",
   "metadata": {},
   "outputs": [
    {
     "name": "stdout",
     "output_type": "stream",
     "text": [
      "1 10\n",
      "<class 'function'> <class 'function'>\n"
     ]
    }
   ],
   "source": [
    "ex2 = lambda a, b : a-b if a>b else b-a\n",
    "print(ex2(2,1), ex2(10, 20))\n",
    "print(type(diff), type(ex2))"
   ]
  },
  {
   "cell_type": "code",
   "execution_count": 4,
   "id": "945be5f2",
   "metadata": {},
   "outputs": [
    {
     "data": {
      "text/plain": [
       "-8"
      ]
     },
     "execution_count": 4,
     "metadata": {},
     "output_type": "execute_result"
    }
   ],
   "source": [
    "# ex2. 두 매개변수로의 차이를 return \n",
    "def ex2(*num):\n",
    "    lst = 0\n",
    "    for date in num:\n",
    "        lst -= date\n",
    "    return(lst)\n",
    "ex2(5, 3)"
   ]
  },
  {
   "cell_type": "code",
   "execution_count": 9,
   "id": "869c2d51",
   "metadata": {},
   "outputs": [
    {
     "data": {
      "text/plain": [
       "(1000, 'negative')"
      ]
     },
     "execution_count": 9,
     "metadata": {},
     "output_type": "execute_result"
    }
   ],
   "source": [
    "# ex3. 매개변수로 잔액을 받아 양수면 잔액을 return, 음수면 'negative'를 return\n",
    "ex3 = lambda money : money if money>0 else 'negative'\n",
    "ex3(1000), ex3(-500)"
   ]
  },
  {
   "cell_type": "code",
   "execution_count": 11,
   "id": "4892855f",
   "metadata": {},
   "outputs": [
    {
     "data": {
      "text/plain": [
       "('유효하지 않음', 'A팀', 'B팀', '재시험')"
      ]
     },
     "execution_count": 11,
     "metadata": {},
     "output_type": "execute_result"
    }
   ],
   "source": [
    "# ex4. 점수를 입력받아 점수가 80점 이상이면 A팀, \n",
    "#      60점 이상은 B팀, 60점 미만은 재시험, \n",
    "#      그외는 유효하지 않음\n",
    "ex4 = lambda score : 'A팀' if 80<=score<=100 else \\\n",
    "                    'B팀' if 60<=score<80 else \\\n",
    "                    '재시험' if 0<=score<60 else \\\n",
    "                    '유효하지 않음'\n",
    "ex4(120), ex4(85), ex4(70), ex4(50)"
   ]
  },
  {
   "cell_type": "code",
   "execution_count": 12,
   "id": "2d34973f",
   "metadata": {},
   "outputs": [],
   "source": [
    "# ex5. safe_index를 람다식으로\n",
    "def safe_index(vector, date):\n",
    "    if date in vector: # lst안에 date가 있는지 여부\n",
    "        return vector.index(date)\n",
    "    else:\n",
    "        return -1"
   ]
  },
  {
   "cell_type": "code",
   "execution_count": 13,
   "id": "fb380ffc",
   "metadata": {},
   "outputs": [
    {
     "data": {
      "text/plain": [
       "(-1, 1)"
      ]
     },
     "execution_count": 13,
     "metadata": {},
     "output_type": "execute_result"
    }
   ],
   "source": [
    "ex5 = lambda vector, date : vector.index(date) if date in vector else -1\n",
    "tup = (1, 2, 3)\n",
    "ex5(tup, 4), ex5(tup, 2)"
   ]
  },
  {
   "cell_type": "code",
   "execution_count": null,
   "id": "d699b877",
   "metadata": {},
   "outputs": [],
   "source": []
  }
 ],
 "metadata": {
  "kernelspec": {
   "display_name": "Python 3 (ipykernel)",
   "language": "python",
   "name": "python3"
  },
  "language_info": {
   "codemirror_mode": {
    "name": "ipython",
    "version": 3
   },
   "file_extension": ".py",
   "mimetype": "text/x-python",
   "name": "python",
   "nbconvert_exporter": "python",
   "pygments_lexer": "ipython3",
   "version": "3.10.9"
  },
  "toc": {
   "base_numbering": 1,
   "nav_menu": {},
   "number_sections": false,
   "sideBar": true,
   "skip_h1_title": false,
   "title_cell": "Table of Contents",
   "title_sidebar": "Contents",
   "toc_cell": false,
   "toc_position": {
    "height": "calc(100% - 180px)",
    "left": "10px",
    "top": "150px",
    "width": "165px"
   },
   "toc_section_display": true,
   "toc_window_display": true
  }
 },
 "nbformat": 4,
 "nbformat_minor": 5
}
