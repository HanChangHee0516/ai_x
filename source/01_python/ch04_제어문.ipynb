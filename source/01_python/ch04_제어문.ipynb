{
 "cells": [
  {
   "cell_type": "code",
   "execution_count": 1,
   "id": "c0fba5a9",
   "metadata": {},
   "outputs": [
    {
     "data": {
      "text/html": [
       "\n",
       "<style>\n",
       "div.container{width:86% !important;}\n",
       "div.cell.code_cell.rendered{width:100%;}\n",
       "div.CodeMirror {font-family:Consolas; font-size:13pt;}\n",
       "div.output {font-size:15pt; font-weight:bold;}\n",
       "div.input {font-family:Consolas; font-size:15pt;}\n",
       "div.prompt {min-width:70px;}\n",
       "div#toc-wrapper{padding-top:120px;}\n",
       "div.text_cell_render ul li{font-size:10pt;padding:5px;}\n",
       "</style>\n"
      ],
      "text/plain": [
       "<IPython.core.display.HTML object>"
      ]
     },
     "metadata": {},
     "output_type": "display_data"
    }
   ],
   "source": [
    "from IPython.display import display, HTML\n",
    "display(HTML(\"\"\"\n",
    "<style>\n",
    "div.container{width:86% !important;}\n",
    "div.cell.code_cell.rendered{width:100%;}\n",
    "div.CodeMirror {font-family:Consolas; font-size:13pt;}\n",
    "div.output {font-size:15pt; font-weight:bold;}\n",
    "div.input {font-family:Consolas; font-size:15pt;}\n",
    "div.prompt {min-width:70px;}\n",
    "div#toc-wrapper{padding-top:120px;}\n",
    "div.text_cell_render ul li{font-size:10pt;padding:5px;}\n",
    "</style>\n",
    "\"\"\"))"
   ]
  },
  {
   "cell_type": "markdown",
   "id": "6edf8afa",
   "metadata": {},
   "source": [
    "<b><font size=\"5\" color=\"red\">ch04. 제어문</font></b>\n",
    "- 조건문 : if문\n",
    "- 반복문 : for문, while문, 중첩가능"
   ]
  },
  {
   "cell_type": "markdown",
   "id": "6a7a3f9b",
   "metadata": {},
   "source": [
    "# 1절. 조건문(if)\n",
    "```\n",
    "if 조건: \n",
    "    조건이 참일 경우 수행할 명령어들 \n",
    "elif 조건2: \n",
    "    조건1이 거짓이고, 조건2가 참일 경우 수행할 명령어들 \n",
    "else: \n",
    "    모든 조건을 만족하지 않을 때 수행할 명령어들 \n",
    "```"
   ]
  },
  {
   "cell_type": "code",
   "execution_count": 3,
   "id": "b7912cf4",
   "metadata": {},
   "outputs": [
    {
     "name": "stdout",
     "output_type": "stream",
     "text": [
      "점수는 :95\n",
      "참 잘했어요\n",
      "다음에도 기대할께요\n",
      "화이팅\n"
     ]
    }
   ],
   "source": [
    "score = int(input('점수는 :'))\n",
    "if score >= 90:\n",
    "    print('참 잘했어요')\n",
    "    print('다음에도 기대할께요')\n",
    "elif score >= 60:\n",
    "    print('분발하세요')\n",
    "    print('뭐 그래도 고생하셨어요')\n",
    "else:\n",
    "    print('재시험 응시하셔야 합니다')\n",
    "print('화이팅')"
   ]
  },
  {
   "cell_type": "code",
   "execution_count": 4,
   "id": "85a350a7",
   "metadata": {},
   "outputs": [
    {
     "name": "stdout",
     "output_type": "stream",
     "text": [
      "점수는 : 120\n",
      "입력하신 점수는 120점이고, 유호하지 않는 점수등급입니다\n"
     ]
    }
   ],
   "source": [
    "# 점수(0~100점)를 입력받아 학점을 출력하시오(A, B, C, D, F, 유효하지 않는 점수)\n",
    "score = int(input('점수는 : '))\n",
    "if 90<= score <=100:  # (score>=94) & (score<=100)\n",
    "    grade = 'A'\n",
    "elif 80<=score<90:\n",
    "    grade = 'B'\n",
    "elif 70<=score<80:\n",
    "    grade = 'C'\n",
    "elif 60<=score<70:\n",
    "    grade = 'D'\n",
    "elif 0<=score<60:\n",
    "    grade = 'F'\n",
    "else:\n",
    "    grade = '유호하지 않는 점수'\n",
    "print('입력하신 점수는 {}점이고, {}등급입니다'.format(score, grade))"
   ]
  },
  {
   "cell_type": "markdown",
   "id": "491cf7c4",
   "metadata": {},
   "source": [
    "# 2절. 반복문\n",
    "## 2.1 for-in 문\n",
    "```\n",
    "for 임시변수 in 나열가능한자료:\n",
    "    반복할명령어 1\n",
    "    반복할명령어 2\n",
    "    if 조건:\n",
    "        break\n",
    "else:\n",
    "    나열가능한자료가 다 소요하여 for 블록을 다 수행한 후 최종 한번 수행할 명령어\n",
    "    for문 안에 break를 수행할 경우 else블록은 수행되지 않음\n",
    "```"
   ]
  },
  {
   "cell_type": "code",
   "execution_count": 9,
   "id": "3c58e357",
   "metadata": {},
   "outputs": [
    {
     "name": "stdout",
     "output_type": "stream",
     "text": [
      "1\t3\t5\t7\t9\t\n",
      "DONE\n",
      "END\n"
     ]
    }
   ],
   "source": [
    "for i in range(1, 10, 2):\n",
    "    print(i, end='\\t')\n",
    "else:\n",
    "    print('\\nDONE')\n",
    "print('END')"
   ]
  },
  {
   "cell_type": "code",
   "execution_count": 11,
   "id": "39d42602",
   "metadata": {},
   "outputs": [
    {
     "name": "stdout",
     "output_type": "stream",
     "text": [
      "1\t3\tEND\n"
     ]
    }
   ],
   "source": [
    "for i in range(1, 10, 2):\n",
    "    if i==5:\n",
    "        break\n",
    "    print(i, end='\\t')\n",
    "else:\n",
    "    print('\\nDONE')\n",
    "print('END')"
   ]
  },
  {
   "cell_type": "code",
   "execution_count": 20,
   "id": "4d9a2f24",
   "metadata": {},
   "outputs": [
    {
     "name": "stdout",
     "output_type": "stream",
     "text": [
      "1~100까지 합은 5050\n"
     ]
    }
   ],
   "source": [
    "# 1~100 까지 (짝수,홀수)누적합을 출력하시오(for문)\n",
    "total = 0 # 누적변수\n",
    "for i in range(1, 101):\n",
    "    total += i # total = total + i\n",
    "print('1~100까지 합은', total)"
   ]
  },
  {
   "cell_type": "code",
   "execution_count": 18,
   "id": "580012f3",
   "metadata": {},
   "outputs": [
    {
     "name": "stdout",
     "output_type": "stream",
     "text": [
      "1~100까지 짝수 합은 2550\n"
     ]
    }
   ],
   "source": [
    "# 1~100 까지 (짝수,홀수)누적합을 출력하시오(for문)\n",
    "total = 0 # 누적변수\n",
    "for i in range(1, 101):\n",
    "    if i%2==0:\n",
    "        total += i # total = total + i\n",
    "print('1~100까지 짝수 합은', total)"
   ]
  },
  {
   "cell_type": "markdown",
   "id": "f1b03d9b",
   "metadata": {},
   "source": [
    "## 2절. while 문\n",
    "```\n",
    "while 조건:\n",
    "    조건이 참일 경우 반복할 문장들\n",
    "else:\n",
    "    조건이 거짓일 경우 한번 실행할 문장(else구분 선택사항)\n",
    "```"
   ]
  },
  {
   "cell_type": "code",
   "execution_count": 3,
   "id": "4d6857d8",
   "metadata": {},
   "outputs": [
    {
     "name": "stdout",
     "output_type": "stream",
     "text": [
      "1~100 까지 누적 합은 5050 101\n"
     ]
    }
   ],
   "source": [
    "# 1 ~ 100 까지 누적합 출력\n",
    "tot = 0\n",
    "i = 1\n",
    "while i<=100:\n",
    "    tot += i\n",
    "    i += 1\n",
    "print('1~100 까지 누적 합은', tot, i)"
   ]
  },
  {
   "cell_type": "code",
   "execution_count": 4,
   "id": "e10de10c",
   "metadata": {},
   "outputs": [
    {
     "name": "stdout",
     "output_type": "stream",
     "text": [
      "1~100 까지의 짝수 누적 합은 2550 101\n"
     ]
    }
   ],
   "source": [
    "# 1 ~ 100 까지의 짝수들의 누적 합 출력\n",
    "tot = 0\n",
    "i = 1\n",
    "while i<=100:\n",
    "    if i%2==0:\n",
    "        tot += i\n",
    "    i += 1\n",
    "print('1~100 까지의 짝수 누적 합은', tot, i)"
   ]
  },
  {
   "cell_type": "code",
   "execution_count": null,
   "id": "452d3beb",
   "metadata": {},
   "outputs": [],
   "source": [
    "# ex. 사용자에개 두 정수를 입력받아, 작은수부터 큰수까지 홀수의 합을 누적해서 출력"
   ]
  },
  {
   "cell_type": "code",
   "execution_count": 8,
   "id": "e1ac03cf",
   "metadata": {},
   "outputs": [
    {
     "name": "stdout",
     "output_type": "stream",
     "text": [
      "첫번째 정수는 >80\n",
      "두번째 정수는 >70\n",
      "first=70, second=80\n",
      "70부터 80까지 홀수 누적합은 375입니다\n"
     ]
    }
   ],
   "source": [
    "first = int(input(\"첫번째 정수는 >\"))\n",
    "second = int(input(\"두번째 정수는 >\"))\n",
    "# # (1-1) 두 수 중 작은 수는 min_에 큰수는 max_에 할당\n",
    "# if first<second:\n",
    "#     min_ = first\n",
    "#     max_ = second\n",
    "# else:\n",
    "#     min_ = second\n",
    "#     max_ = first\n",
    "# # (2-1) min_부터 max_까지 홀수합 누적\n",
    "# tot = 0\n",
    "# for i in range(min_, max_+1):\n",
    "#     if i%2: # i%2!=0: #(i%2==1) | (i%2==-1):\n",
    "#         tot += i\n",
    "# # (3-1) 출력\n",
    "# print(f\"{min_}부터 {max_}까지 홀수들의 합은 {tot}입니다\")\n",
    "# (1-2) first에 작은수로 second에 큰수가 되도록 함\n",
    "if first > second:\n",
    "    # 바꿔\n",
    "#     temp = first\n",
    "#     first = second\n",
    "#     second = temp\n",
    "    first, second = second, first\n",
    "print(\"first={}, second={}\".format(first, second))\n",
    "# (2-2) first부터 second까지 홀수들 누적\n",
    "tot = 0\n",
    "for i in range(first, second+1):\n",
    "    if i%2:\n",
    "        tot += i\n",
    "# (3-3) 출력\n",
    "print(\"{}부터 {}까지 홀수 누적합은 {}입니다\".format(first, second, tot))"
   ]
  },
  {
   "cell_type": "code",
   "execution_count": 4,
   "id": "8110d9e6",
   "metadata": {},
   "outputs": [
    {
     "name": "stdout",
     "output_type": "stream",
     "text": [
      "0 번째 까지 정렬 내용 : [8] / [8, 36, 21, 14, 29, 42]\n",
      "1 번째 까지 정렬 내용 : [8, 14] / [8, 14, 36, 21, 29, 42]\n",
      "2 번째 까지 정렬 내용 : [8, 14, 21] / [8, 14, 21, 36, 29, 42]\n",
      "3 번째 까지 정렬 내용 : [8, 14, 21, 29] / [8, 14, 21, 29, 36, 42]\n",
      "4 번째 까지 정렬 내용 : [8, 14, 21, 29, 36] / [8, 14, 21, 29, 36, 42]\n",
      "난수 6번 뽑아서 로또는 [8, 14, 21, 29, 36, 42]\n"
     ]
    }
   ],
   "source": [
    "# ex. 1~45 까지의 로또 번호 6개를 추출하여 출력(오름차순 정렬결과를 출력) - 리스트 이용\n",
    "import random\n",
    "# 난서 발생\n",
    "# random.random() : 0 <= 실수 난수 < 1\n",
    "# random.randint(a, b) : a~b의 정수 난수\n",
    "# int(random.random()*b)+a : a~b의 정수 난수\n",
    "# 실행 할때마다 난수의 순서를 일치시키려면 random.seed(특정수)\n",
    "lotto = []\n",
    "cnt = 0\n",
    "while len(lotto) < 6:\n",
    "    cnt += 1\n",
    "    temp = random.randint(1, 45)\n",
    "    if temp not in lotto:\n",
    "        lotto.append(temp)\n",
    "# 정렬하기\n",
    "# lotto.sort()\n",
    "for i in range(0, len(lotto)-1):\n",
    "    for j in range(i, len(lotto)):\n",
    "        if lotto[i] > lotto[j]:\n",
    "            lotto[i], lotto[j] = lotto[j], lotto[i]\n",
    "    print(f'{i} 번째 까지 정렬 내용 : {lotto[:i+1]} / {lotto}')\n",
    "print('난수 {}번 뽑아서 로또는 {}'.format(cnt, lotto))"
   ]
  },
  {
   "cell_type": "code",
   "execution_count": 6,
   "id": "d28f1ee0",
   "metadata": {},
   "outputs": [
    {
     "data": {
      "text/plain": [
       "[4, 12, 14, 19, 21, 33]"
      ]
     },
     "execution_count": 6,
     "metadata": {},
     "output_type": "execute_result"
    }
   ],
   "source": [
    "# ex. 1~45 까지의 로또 번호 6개를 추출하여 출력(오름차순 정렬결과를 출력) - 셋 이용\n",
    "lotto = set([])\n",
    "while len(lotto)<6:\n",
    "    lotto.add(random.randint(1, 45))\n",
    "sorted(list(lotto))"
   ]
  },
  {
   "cell_type": "code",
   "execution_count": 18,
   "id": "894d8627",
   "metadata": {},
   "outputs": [
    {
     "name": "stdout",
     "output_type": "stream",
     "text": [
      "[1, 10, 23, 25, 34, 43]\n"
     ]
    }
   ],
   "source": [
    "# 틀린 문제 / 겹치는 결과 값이 나옴\n",
    "lotto = []\n",
    "for i in range(6):\n",
    "    lotto.append(random.randint(1, 45))\n",
    "print(sorted(lotto))"
   ]
  },
  {
   "cell_type": "code",
   "execution_count": 7,
   "id": "70c80810",
   "metadata": {},
   "outputs": [
    {
     "data": {
      "text/plain": [
       "[14, 19, 28, 31, 35, 36]"
      ]
     },
     "execution_count": 7,
     "metadata": {},
     "output_type": "execute_result"
    }
   ],
   "source": [
    "# 1~45 중 6개 뽑기\n",
    "sorted(random.sample(range(1, 45), 6))"
   ]
  },
  {
   "cell_type": "markdown",
   "id": "5cf041f4",
   "metadata": {},
   "source": [
    "## 2.3 break, continue"
   ]
  },
  {
   "cell_type": "code",
   "execution_count": 7,
   "id": "8b5f492e",
   "metadata": {},
   "outputs": [
    {
     "name": "stdout",
     "output_type": "stream",
     "text": [
      "1\t2\t3\t4\t\n",
      "--DONE--\n"
     ]
    }
   ],
   "source": [
    "num = 0\n",
    "while num<10:\n",
    "    num += 1\n",
    "    if num == 5:\n",
    "        break   # 반복문을 탈출\n",
    "        # continue  # while 블록 수행을 중단하고 조건으로 감\n",
    "    print(num, end='\\t')\n",
    "print('\\n--DONE--')"
   ]
  },
  {
   "cell_type": "code",
   "execution_count": 10,
   "id": "df801bfc",
   "metadata": {},
   "outputs": [
    {
     "name": "stdout",
     "output_type": "stream",
     "text": [
      "컴퓨터가 발생한 임의의 수 :  78\n",
      "1~100 사이의 수를 맞춰 보세요 : 50\n",
      "UP ↑\n",
      "1~100 사이의 수를 맞춰 보세요 : 80\n",
      "DOWN ↓\n",
      "1~100 사이의 수를 맞춰 보세요 : 79\n",
      "DOWN ↓\n",
      "1~100 사이의 수를 맞춰 보세요 : 78\n",
      "축하합니다. 맞추셨습니다.\n",
      "끝\n"
     ]
    }
   ],
   "source": [
    "'''\n",
    "10. 1~100 사이의 정수를 맞추는 프로그램을 구현하시오\n",
    "(프로그램안에 임의의 숫자가 만들어지고 그 숫자를 맞추도록 합니다)\n",
    "1 단계 . 입력된 숫자가 틀리면 UP/DOWN 메시지를 출력하고 숫자를 맞추면 축하메\n",
    "세지와 함꼐 종료합니다 (맞출 때까지 반복)\n",
    "'''\n",
    "import random\n",
    "# (1) 1~100 사이의 난수 발생\n",
    "randomNum = random.randint(1, 100)\n",
    "print('컴퓨터가 발생한 임의의 수 : ', randomNum)\n",
    "# (2) 수를 입력받아 틀리면 UP/DOWN 메시지를 출력, 맞추면 축하 메시지 break 하는 반복문\n",
    "while True:\n",
    "    inputNum = int(input('1~100 사이의 수를 맞춰 보세요 : '))\n",
    "    if (inputNum<1) | (inputNum>100):\n",
    "        print('수의 범위를 벗어났습니다')\n",
    "    elif randomNum < inputNum:\n",
    "        print('DOWN ↓')\n",
    "    elif randomNum > inputNum:\n",
    "        print('UP ↑')\n",
    "    else:\n",
    "        print('축하합니다. 맞추셨습니다.')\n",
    "        break\n",
    "print('끝')"
   ]
  },
  {
   "cell_type": "markdown",
   "id": "a58eab08",
   "metadata": {},
   "source": [
    "# 3절. 중첩루프\n",
    "(반복문 안에 반복문)"
   ]
  },
  {
   "attachments": {
    "image.png": {
     "image/png": "[encoded data removed]"
    }
   },
   "cell_type": "markdown",
   "id": "783cb1d7",
   "metadata": {},
   "source": [
    "![image.png](attachment:image.png)"
   ]
  },
  {
   "cell_type": "code",
   "execution_count": 20,
   "id": "b73d78d9",
   "metadata": {},
   "outputs": [
    {
     "name": "stdout",
     "output_type": "stream",
     "text": [
      "2x1= 3\t3x1= 4\t4x1= 5\t5x1= 6\t6x1= 7\t7x1= 8\t8x1= 9\t9x1=10\t\n",
      "2x2= 4\t3x2= 5\t4x2= 6\t5x2= 7\t6x2= 8\t7x2= 9\t8x2=10\t9x2=11\t\n",
      "2x3= 5\t3x3= 6\t4x3= 7\t5x3= 8\t6x3= 9\t7x3=10\t8x3=11\t9x3=12\t\n",
      "2x4= 6\t3x4= 7\t4x4= 8\t5x4= 9\t6x4=10\t7x4=11\t8x4=12\t9x4=13\t\n",
      "2x5= 7\t3x5= 8\t4x5= 9\t5x5=10\t6x5=11\t7x5=12\t8x5=13\t9x5=14\t\n",
      "2x6= 8\t3x6= 9\t4x6=10\t5x6=11\t6x6=12\t7x6=13\t8x6=14\t9x6=15\t\n",
      "2x7= 9\t3x7=10\t4x7=11\t5x7=12\t6x7=13\t7x7=14\t8x7=15\t9x7=16\t\n",
      "2x8=10\t3x8=11\t4x8=12\t5x8=13\t6x8=14\t7x8=15\t8x8=16\t9x8=17\t\n",
      "2x9=11\t3x9=12\t4x9=13\t5x9=14\t6x9=15\t7x9=16\t8x9=17\t9x9=18\t\n"
     ]
    }
   ],
   "source": [
    "for i in range(1, 10):\n",
    "    for j in range(2, 10):\n",
    "        print('{}x{}={:>2}'.format(j, i, i+j), end='\\t')\n",
    "    print()"
   ]
  },
  {
   "cell_type": "code",
   "execution_count": 14,
   "id": "c9b30d9a",
   "metadata": {},
   "outputs": [
    {
     "name": "stdout",
     "output_type": "stream",
     "text": [
      "2X1= 2\t3X1= 3\t4X1= 4\t5X1= 5\t6X1= 6\t7X1= 7\t8X1= 8\t9X1= 9\t\n",
      "2X2= 4\t3X2= 6\t4X2= 8\t5X2=10\t6X2=12\t7X2=14\t8X2=16\t9X2=18\t\n",
      "2X3= 6\t3X3= 9\t4X3=12\t5X3=15\t6X3=18\t7X3=21\t8X3=24\t9X3=27\t\n",
      "2X4= 8\t3X4=12\t4X4=16\t5X4=20\t6X4=24\t7X4=28\t8X4=32\t9X4=36\t\n",
      "2X5=10\t3X5=15\t4X5=20\t5X5=25\t6X5=30\t7X5=35\t8X5=40\t9X5=45\t\n",
      "2X6=12\t3X6=18\t4X6=24\t5X6=30\t6X6=36\t7X6=42\t8X6=48\t9X6=54\t\n",
      "2X7=14\t3X7=21\t4X7=28\t5X7=35\t6X7=42\t7X7=49\t8X7=56\t9X7=63\t\n",
      "2X8=16\t3X8=24\t4X8=32\t5X8=40\t6X8=48\t7X8=56\t8X8=64\t9X8=72\t\n",
      "2X9=18\t3X9=27\t4X9=36\t5X9=45\t6X9=54\t7X9=63\t8X9=72\t9X9=81\t\n"
     ]
    }
   ],
   "source": [
    "for i in range(1, 10):\n",
    "    for j in range(2, 10):\n",
    "        print(f'{j}X{i}={i*j:2}', end='\\t')\n",
    "    print() # 개행"
   ]
  },
  {
   "cell_type": "markdown",
   "id": "abedb565",
   "metadata": {},
   "source": [
    "# 4절. 중첩루프 탈출 "
   ]
  },
  {
   "cell_type": "code",
   "execution_count": 26,
   "id": "284784bb",
   "metadata": {},
   "outputs": [
    {
     "name": "stdout",
     "output_type": "stream",
     "text": [
      "0 1\n",
      "0 2\n",
      "DONE\n"
     ]
    }
   ],
   "source": [
    "# 중첩 루프 탈풀 하는 방법 1 : 플래그 변수 이용\n",
    "flag = False\n",
    "for a in range(0, 3):  # a=0, 1, 2\n",
    "    for b in range(1,3):  # b = 1, 2\n",
    "        if a == b:\n",
    "            flag = True\n",
    "            break  # 반복문을 아예 빠져 나오기\n",
    "        print(a, b)\n",
    "    # break시 빠져나오는 부분\n",
    "    if flag:\n",
    "        break\n",
    "print('DONE')"
   ]
  },
  {
   "cell_type": "code",
   "execution_count": 3,
   "id": "42a87719",
   "metadata": {},
   "outputs": [
    {
     "name": "stdout",
     "output_type": "stream",
     "text": [
      "0 1\n",
      "0 2\n",
      "DONE\n"
     ]
    }
   ],
   "source": [
    "# 중첩 루프 탈출 방법 2 : 예외 발생 => 예외 처리\n",
    "class BreakOutError(Exception):\n",
    "    pass\n",
    "try:\n",
    "    for a in range(0, 3): # a=0, 1, 2\n",
    "        for b in range(1, 3): # b=1, 2\n",
    "            if a==b:\n",
    "                raise BreakOutError()  # 중첩 루프 빠져나가기\n",
    "            print(a, b)\n",
    "except BreakOutError:\n",
    "    print('DONE')"
   ]
  },
  {
   "cell_type": "markdown",
   "id": "fb37a4ef",
   "metadata": {},
   "source": [
    "#  5절. 연습문제"
   ]
  },
  {
   "cell_type": "code",
   "execution_count": 20,
   "id": "7dbb5681",
   "metadata": {},
   "outputs": [
    {
     "name": "stdout",
     "output_type": "stream",
     "text": [
      "양의 정수를 입력하세요: 10\n",
      "짝수입니다.\n"
     ]
    }
   ],
   "source": [
    "while True:\n",
    "    user_input = input(\"양의 정수를 입력하세요: \")\n",
    "    if user_input.isdigit():\n",
    "        num = int(user_input)\n",
    "        if num > 0:\n",
    "            break\n",
    "        else:\n",
    "            print(\"0보다 큰 정수를 입력해야 합니다.\")\n",
    "    else:\n",
    "        print(\"정수를 입력해주세요.\")\n",
    "if num % 2 == 0:\n",
    "    print(\"짝수입니다.\")\n",
    "else:\n",
    "    print(\"홀수입니다.\")"
   ]
  },
  {
   "cell_type": "code",
   "execution_count": 27,
   "id": "5634cce8",
   "metadata": {},
   "outputs": [
    {
     "name": "stdout",
     "output_type": "stream",
     "text": [
      "양의 정수를 입력하세요: 5\n",
      "입력하신 양의 정수는 5이고 홀수입니다\n"
     ]
    }
   ],
   "source": [
    "# 1. 양의 정수를 입력받아 홀/짝수 결과 출력\n",
    "num = 0\n",
    "while num<=0:\n",
    "    num = int(input(\"양의 정수를 입력하세요: \"))\n",
    "    \n",
    "even_add = '홀수' if num%2 else '짝수'\n",
    "print('입력하신 양의 정수는 {}이고 {}입니다'.format(num, even_add))"
   ]
  },
  {
   "cell_type": "code",
   "execution_count": 26,
   "id": "d2705cda",
   "metadata": {},
   "outputs": [
    {
     "name": "stdout",
     "output_type": "stream",
     "text": [
      "양의 정수를 입력하세요40\n",
      "입력하신 양의 정수는 40이고 짝수입니다\n"
     ]
    }
   ],
   "source": [
    "num = 0\n",
    "while num<=0:\n",
    "    num = int(input('양의 정수를 입력하세요'))\n",
    "even_odd = '홀수' if num%2 else '짝수'\n",
    "print('입력하신 양의 정수는 {}이고 {}입니다'.format(num, even_odd))"
   ]
  },
  {
   "cell_type": "code",
   "execution_count": 34,
   "id": "83371eca",
   "metadata": {},
   "outputs": [
    {
     "name": "stdout",
     "output_type": "stream",
     "text": [
      "*****\n",
      "*****\n",
      "*****\n",
      "*****\n",
      "*****\n"
     ]
    }
   ],
   "source": [
    "# 2. 별출력(중첩 for문 이용)\n",
    "for i in range(5):\n",
    "    for j in range(5):\n",
    "        print('*', end='')\n",
    "    print()"
   ]
  },
  {
   "cell_type": "code",
   "execution_count": 32,
   "id": "8053a6f7",
   "metadata": {},
   "outputs": [
    {
     "name": "stdout",
     "output_type": "stream",
     "text": [
      "\n",
      "*\n",
      "**\n",
      "***\n",
      "****\n",
      "*****\n"
     ]
    }
   ],
   "source": [
    "for i in range(6):\n",
    "    for j in range(i):\n",
    "        print('*', end='')\n",
    "    print()"
   ]
  },
  {
   "cell_type": "code",
   "execution_count": 30,
   "id": "746da8a3",
   "metadata": {},
   "outputs": [
    {
     "name": "stdout",
     "output_type": "stream",
     "text": [
      "(1) \t (2)\n",
      "***** \t *\n",
      "***** \t **\n",
      "***** \t ***\n",
      "***** \t ****\n",
      "***** \t *****\n"
     ]
    }
   ],
   "source": [
    "# 2-1. for 문을 이용하여 별표시\n",
    "print('(1)','\\t','(2)')\n",
    "for j in range(1,6):\n",
    "    print('*'*5, '\\t', '*'*j)"
   ]
  },
  {
   "cell_type": "code",
   "execution_count": null,
   "id": "2dfa47de",
   "metadata": {},
   "outputs": [],
   "source": []
  },
  {
   "cell_type": "code",
   "execution_count": 37,
   "id": "d71d5bde",
   "metadata": {},
   "outputs": [
    {
     "name": "stdout",
     "output_type": "stream",
     "text": [
      "165\n"
     ]
    }
   ],
   "source": [
    "tot = 0\n",
    "for i in range(1, 31):\n",
    "    if i%3==0:\n",
    "        tot += i   # = tot + i\n",
    "    else:\n",
    "        pass\n",
    "print(tot)"
   ]
  },
  {
   "cell_type": "code",
   "execution_count": 7,
   "id": "2d640540",
   "metadata": {},
   "outputs": [
    {
     "name": "stdout",
     "output_type": "stream",
     "text": [
      "1 3 5 7 9 "
     ]
    }
   ],
   "source": [
    "num = 0\n",
    "while num <= 10:\n",
    "    if num%2 == 1:\n",
    "        print(num, end=' ')\n",
    "    num += 1"
   ]
  },
  {
   "cell_type": "code",
   "execution_count": 39,
   "id": "1d1924c1",
   "metadata": {},
   "outputs": [
    {
     "name": "stdout",
     "output_type": "stream",
     "text": [
      "1 2 3 \n",
      "4 5 6 7 \n",
      "8 9 \n"
     ]
    }
   ],
   "source": [
    "# 5. \n",
    "list2d = [ [1,2,3],[4,5,6,7],[8,9]] \n",
    "for row in list2d:\n",
    "    for data in row:\n",
    "        print(data, end=' ')\n",
    "    print()"
   ]
  },
  {
   "cell_type": "code",
   "execution_count": 9,
   "id": "e2247c31",
   "metadata": {},
   "outputs": [
    {
     "name": "stdout",
     "output_type": "stream",
     "text": [
      "0 apple \n",
      "1 banana\n"
     ]
    }
   ],
   "source": [
    "colors = {\" red\":'apple ', 'yellow':'banana'}\n",
    "for i,v in enumerate(colors.values()):\n",
    "    print(i,v)"
   ]
  },
  {
   "cell_type": "code",
   "execution_count": 12,
   "id": "0f5ed9bb",
   "metadata": {},
   "outputs": [
    {
     "ename": "NameError",
     "evalue": "name 'I' is not defined",
     "output_type": "error",
     "traceback": [
      "\u001b[1;31m---------------------------------------------------------------------------\u001b[0m",
      "\u001b[1;31mNameError\u001b[0m                                 Traceback (most recent call last)",
      "Cell \u001b[1;32mIn[12], line 5\u001b[0m\n\u001b[0;32m      3\u001b[0m \u001b[38;5;28;01mif\u001b[39;00m i \u001b[38;5;241m==\u001b[39mj:\n\u001b[0;32m      4\u001b[0m     \u001b[38;5;28;01mbreak\u001b[39;00m\n\u001b[1;32m----> 5\u001b[0m \u001b[38;5;28mprint\u001b[39m(\u001b[43mI\u001b[49m, j)\n",
      "\u001b[1;31mNameError\u001b[0m: name 'I' is not defined"
     ]
    }
   ],
   "source": [
    "for i in range(0, 2):\n",
    "    for j in range(0,2):\n",
    "        if i ==j:\n",
    "            break\n",
    "        print(I, j)"
   ]
  },
  {
   "cell_type": "code",
   "execution_count": 15,
   "id": "2f033fb8",
   "metadata": {},
   "outputs": [
    {
     "name": "stdout",
     "output_type": "stream",
     "text": [
      "1 0\n",
      "3번\n"
     ]
    }
   ],
   "source": [
    "for i in range(0, 2):\n",
    "    for j in range(0,2):\n",
    "        if i ==j:\n",
    "            break\n",
    "        print(i, j)\n",
    "print('3번')"
   ]
  },
  {
   "cell_type": "code",
   "execution_count": 40,
   "id": "804baf53",
   "metadata": {},
   "outputs": [
    {
     "name": "stdout",
     "output_type": "stream",
     "text": [
      "3 5 7 9 "
     ]
    },
    {
     "data": {
      "text/plain": [
       "[3, 5, 7, 9]"
      ]
     },
     "execution_count": 40,
     "metadata": {},
     "output_type": "execute_result"
    }
   ],
   "source": [
    "L = [3, 4, 5, 6, 7, 8, 9, 10]\n",
    "for i, data in enumerate(L):\n",
    "    if (i%2 == 0):\n",
    "        print(data, end=' ')\n",
    "L[::2]"
   ]
  },
  {
   "cell_type": "code",
   "execution_count": 17,
   "id": "50b66322",
   "metadata": {},
   "outputs": [
    {
     "name": "stdout",
     "output_type": "stream",
     "text": [
      "컴퓨터가 발생한 임의의 수 :  55\n",
      "1~100 사이의 수를 맞춰 보세요 : 10\n",
      "UP ↑\n",
      "1~100 사이의 수를 맞춰 보세요 : 55\n",
      "축하합니다. 맞추셨습니다.\n",
      "끝\n"
     ]
    }
   ],
   "source": [
    "import random\n",
    "# (1) 1~100 사이의 난수 발생\n",
    "randomNum = random.randint(1, 100)\n",
    "print('컴퓨터가 발생한 임의의 수 : ', randomNum)\n",
    "# (2) 수를 입력받아 틀리면 UP/DOWN 메시지를 출력, 맞추면 축하 메시지 break 하는 반복문\n",
    "while True:\n",
    "    inputNum = int(input('1~100 사이의 수를 맞춰 보세요 : '))\n",
    "    if (inputNum<1) | (inputNum>100):\n",
    "        print('수의 범위를 벗어났습니다')\n",
    "    elif randomNum < inputNum:\n",
    "        print('DOWN ↓')\n",
    "    elif randomNum > inputNum:\n",
    "        print('UP ↑')\n",
    "    else:\n",
    "        print('축하합니다. 맞추셨습니다.')\n",
    "        break\n",
    "print('끝')"
   ]
  },
  {
   "cell_type": "code",
   "execution_count": 22,
   "id": "de9e0189",
   "metadata": {},
   "outputs": [
    {
     "name": "stdout",
     "output_type": "stream",
     "text": [
      "컴퓨터가 발생한 임의의 수 :  41\n",
      "1 부터 100 사이의 수를 맞춰 보세요.50\n",
      "DOWN ↓\n",
      "\n",
      "1 부터 49 사이의 수를 맞춰 보세요.40\n",
      "UP ↑\n",
      "\n",
      "1 부터 49 사이의 수를 맞춰 보세요.41\n",
      "축하합니다. 맞추셨습니다.\n",
      "끝\n"
     ]
    }
   ],
   "source": [
    "import random\n",
    "randomNum = random.randint(1, 100)\n",
    "min_ = 1\n",
    "max_ = 100\n",
    "print('컴퓨터가 발생한 임의의 수 : ', randomNum)\n",
    "while True:\n",
    "    inputNum = int(input(f\"{min_} 부터 {max_} 사이의 수를 맞춰 보세요.\"))\n",
    "    if (inputNum<1) | (inputNum>100):\n",
    "        print('수의 범위를 벗어났습니다')\n",
    "    elif randomNum < inputNum:\n",
    "        print('DOWN ↓')\n",
    "        max_ = inputNum -1\n",
    "        print()\n",
    "    elif randomNum > inputNum:\n",
    "        print('UP ↑')\n",
    "        min = inputNum +1\n",
    "        print()\n",
    "    else:\n",
    "        print('축하합니다. 맞추셨습니다.')\n",
    "        break\n",
    "print('끝')"
   ]
  },
  {
   "cell_type": "code",
   "execution_count": null,
   "id": "0535a686",
   "metadata": {},
   "outputs": [],
   "source": [
    "# 10번 2단계\n",
    "'''\n",
    "1~100 사이의 정수를 맞추기 프로그램\n",
    "(프로그램 안에서 random수가 만들어지고 그 random수 맞추기)\n",
    "1단계 : 숫자를 못 맞추면 UP/DOWN을 출력하고, 맞추면 축하메세지 뿌리고 끝남\n",
    "2단계 : 숫자를 못 맞추면 fRom~to를 조정, 맞추면 축하메세지 뿌리고 끝남\n",
    "3단계 : 2단계의 기회를 5회 제한. 5회의 기회가 지나면 실패 메세지 뿌리고 끝남\n",
    "(2단계와 3단계 연습문제)\n",
    "'''\n",
    "import random\n",
    "# (1) 1~100사이의 난수 발생\n",
    "fRom, to = 1, 100\n",
    "inputNum = 0 # 사용자가 맞출 수가 저장될 변수\n",
    "randomNum = random.randint(fRom, to)\n",
    "print('컴퓨터가 발생한 임의의 수 :', randomNum)\n",
    "# (2) 수를 입력받아 틀리면 범위 조정과 UP/DOWN 메세지 출력, \n",
    "#    맞추면 축하축하 메세지와 break하는 반복문\n",
    "while randomNum!=inputNum :\n",
    "    inputNum = int(input(f\"{fRom}~{to}사이의 수를 맞춰 보세요 :\"))\n",
    "    print(f\"{fRom}~{to}사이의 {inputNum}입력\")\n",
    "    if (inputNum<fRom) | (inputNum>to):\n",
    "        print('수의 범위를 벗어났습니다')\n",
    "    elif randomNum < inputNum:\n",
    "        print('DOWN ↓')\n",
    "        to = inputNum - 1\n",
    "    elif randomNum > inputNum:\n",
    "        print('UP ↑')\n",
    "        fRom = inputNum+1\n",
    "    else:\n",
    "        print('축하 축하 맞추셨습니다')\n",
    "print('끝')"
   ]
  },
  {
   "cell_type": "code",
   "execution_count": null,
   "id": "2b5f197c",
   "metadata": {},
   "outputs": [],
   "source": [
    "import random\n",
    "randomNum = random.randint(1, 100)\n",
    "min_ = 1\n",
    "max_ = 100\n",
    "tries = 5\n",
    "a = 0\n",
    "print('컴퓨터가 발생한 임의의 수 : ', randomNum)\n",
    "while True:\n",
    "    inputNum = int(input(f\"{min_} 부터 {max_} 사이의 수를 맞춰 보세요.\"))\n",
    "    if (inputNum<1) | (inputNum>100):\n",
    "        print('수의 범위를 벗어났습니다')\n",
    "    elif randomNum < inputNum:\n",
    "        print('DOWN ↓')\n",
    "        max_ = inputNum -1\n",
    "        print()\n",
    "    elif randomNum > inputNum:\n",
    "        print('UP ↑')\n",
    "        min = inputNum +1\n",
    "        print()\n",
    "    else:\n",
    "        print('축하합니다. 맞추셨습니다.')\n",
    "        break\n",
    "print('끝')"
   ]
  },
  {
   "cell_type": "code",
   "execution_count": 41,
   "id": "4650ca3b",
   "metadata": {},
   "outputs": [
    {
     "name": "stdout",
     "output_type": "stream",
     "text": [
      "컴퓨터가 발생한 임의의 수 : 55\n",
      "1~100사이의 수를 맞춰 보세요(남은기회 5회) :30\n",
      "1~100사이의 30입력\n",
      "UP ↑\n",
      "31~100사이의 수를 맞춰 보세요(남은기회 4회) :40\n",
      "31~100사이의 40입력\n",
      "UP ↑\n",
      "41~100사이의 수를 맞춰 보세요(남은기회 3회) :60\n",
      "41~100사이의 60입력\n",
      "DOWN ↓\n",
      "41~59사이의 수를 맞춰 보세요(남은기회 2회) :50\n",
      "41~59사이의 50입력\n",
      "UP ↑\n",
      "51~59사이의 수를 맞춰 보세요(남은기회 1회) :55\n",
      "51~59사이의 55입력\n",
      "축하 축하 맞추셨습니다 5번만에 성공하셨습니다.\n"
     ]
    }
   ],
   "source": [
    "# 10번 3단계\n",
    "'''\n",
    "1~100 사이의 정수를 맞추기 프로그램\n",
    "(프로그램 안에서 random수가 만들어지고 그 random수 맞추기)\n",
    "1단계 : 숫자를 못 맞추면 UP/DOWN을 출력하고, 맞추면 축하메세지 뿌리고 끝남\n",
    "2단계 : 숫자를 못 맞추면 fRom~to를 조정, 맞추면 축하메세지 뿌리고 끝남\n",
    "3단계 : 2단계의 기회를 5회 제한. 5회의 기회가 지나면 실패 메세지 뿌리고 끝남\n",
    "(2단계와 3단계 연습문제)\n",
    "'''\n",
    "import random\n",
    "# (1) 1~100사이의 난수 발생\n",
    "fRom, to = 1, 100\n",
    "inputNum = 0 # 사용자가 맞출 수가 저장될 변수\n",
    "randomNum = random.randint(fRom, to)\n",
    "print('컴퓨터가 발생한 임의의 수 :', randomNum)\n",
    "# (2) 수를 입력받아 틀리면 범위 조정과 UP/DOWN 메세지 출력, \n",
    "#    맞추면 축하축하 메세지와 break하는 반복문\n",
    "for cnt in range(5, 0, -1):\n",
    "    inputNum = int(input(f\"{fRom}~{to}사이의 수를 맞춰 보세요(남은기회 {cnt}회) :\"))\n",
    "    print(f\"{fRom}~{to}사이의 {inputNum}입력\")\n",
    "    if (inputNum<fRom) | (inputNum>to):\n",
    "        print('수의 범위를 벗어났습니다')\n",
    "    elif randomNum < inputNum:\n",
    "        print('DOWN ↓')\n",
    "        to = inputNum - 1\n",
    "    elif randomNum > inputNum:\n",
    "        print('UP ↑')\n",
    "        fRom = inputNum+1\n",
    "    else:\n",
    "        print('축하 축하 맞추셨습니다 {}번만에 성공하셨습니다.'.format(6-cnt))\n",
    "        break\n",
    "else:\n",
    "    print('기회를 모두 사용하셨습니다. 실패하셨습니다')"
   ]
  },
  {
   "cell_type": "code",
   "execution_count": 43,
   "id": "83c24d9a",
   "metadata": {},
   "outputs": [
    {
     "name": "stdout",
     "output_type": "stream",
     "text": [
      "컴퓨터가 발생한 임의의 수 : 79\n",
      "1~100사이의 수를 맞춰 보세요(남은기회 5회) :40\n",
      "1~100사이의 40입력\n",
      "UP ↑\n",
      "41~100사이의 수를 맞춰 보세요(남은기회 4회) :50\n",
      "41~100사이의 50입력\n",
      "UP ↑\n",
      "51~100사이의 수를 맞춰 보세요(남은기회 3회) :60\n",
      "51~100사이의 60입력\n",
      "UP ↑\n",
      "61~100사이의 수를 맞춰 보세요(남은기회 2회) :70\n",
      "61~100사이의 70입력\n",
      "UP ↑\n",
      "71~100사이의 수를 맞춰 보세요(남은기회 1회) :90\n",
      "71~100사이의 90입력\n",
      "DOWN ↓\n",
      "기회를 모두 사용하셨습니다. 실패하셨습니다\n"
     ]
    }
   ],
   "source": [
    "# 10번 3단계\n",
    "'''\n",
    "1~100 사이의 정수를 맞추기 프로그램\n",
    "(프로그램 안에서 random수가 만들어지고 그 random수 맞추기)\n",
    "1단계 : 숫자를 못 맞추면 UP/DOWN을 출력하고, 맞추면 축하메세지 뿌리고 끝남\n",
    "2단계 : 숫자를 못 맞추면 fRom~to를 조정, 맞추면 축하메세지 뿌리고 끝남\n",
    "3단계 : 2단계의 기회를 5회 제한. 5회의 기회가 지나면 실패 메세지 뿌리고 끝남\n",
    "(2단계와 3단계 연습문제)\n",
    "'''\n",
    "import random\n",
    "# (1) 1~100사이의 난수 발생\n",
    "fRom, to = 1, 100\n",
    "inputNum = 0 # 사용자가 맞출 수가 저장될 변수\n",
    "randomNum = random.randint(fRom, to)\n",
    "print('컴퓨터가 발생한 임의의 수 :', randomNum)\n",
    "message = '기회를 모두 사용하셨습니다. 실패하셨습니다'\n",
    "# (2) 수를 입력받아 틀리면 범위 조정과 UP/DOWN 메세지 출력, \n",
    "#    맞추면 축하축하 메세지와 break하는 반복문\n",
    "for cnt in range(5, 0, -1):\n",
    "    inputNum = int(input(f\"{fRom}~{to}사이의 수를 맞춰 보세요(남은기회 {cnt}회) :\"))\n",
    "    print(f\"{fRom}~{to}사이의 {inputNum}입력\")\n",
    "    if (inputNum<fRom) | (inputNum>to):\n",
    "        print('수의 범위를 벗어났습니다')\n",
    "    elif randomNum < inputNum:\n",
    "        print('DOWN ↓')\n",
    "        to = inputNum - 1\n",
    "    elif randomNum > inputNum:\n",
    "        print('UP ↑')\n",
    "        fRom = inputNum+1\n",
    "    else:\n",
    "        message = '축하 축하 맞추셨습니다 {}번만에 성공하셨습니다.'.format(6-cnt)\n",
    "        break\n",
    "print(message)"
   ]
  },
  {
   "cell_type": "code",
   "execution_count": null,
   "id": "dc1fd766",
   "metadata": {},
   "outputs": [],
   "source": []
  },
  {
   "cell_type": "code",
   "execution_count": null,
   "id": "c0638daf",
   "metadata": {},
   "outputs": [],
   "source": []
  },
  {
   "cell_type": "code",
   "execution_count": null,
   "id": "7dd75200",
   "metadata": {},
   "outputs": [],
   "source": []
  }
 ],
 "metadata": {
  "kernelspec": {
   "display_name": "Python 3 (ipykernel)",
   "language": "python",
   "name": "python3"
  },
  "language_info": {
   "codemirror_mode": {
    "name": "ipython",
    "version": 3
   },
   "file_extension": ".py",
   "mimetype": "text/x-python",
   "name": "python",
   "nbconvert_exporter": "python",
   "pygments_lexer": "ipython3",
   "version": "3.10.9"
  },
  "toc": {
   "base_numbering": 1,
   "nav_menu": {},
   "number_sections": false,
   "sideBar": true,
   "skip_h1_title": false,
   "title_cell": "Table of Contents",
   "title_sidebar": "Contents",
   "toc_cell": false,
   "toc_position": {
    "height": "calc(100% - 180px)",
    "left": "10px",
    "top": "150px",
    "width": "186.6px"
   },
   "toc_section_display": true,
   "toc_window_display": true
  }
 },
 "nbformat": 4,
 "nbformat_minor": 5
}
