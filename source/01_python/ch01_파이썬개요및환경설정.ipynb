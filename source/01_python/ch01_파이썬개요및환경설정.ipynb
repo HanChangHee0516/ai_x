{
 "cells": [
  {
   "cell_type": "code",
   "execution_count": 1,
   "id": "75f30d51",
   "metadata": {},
   "outputs": [
    {
     "ename": "NameError",
     "evalue": "name 'ipy' is not defined",
     "output_type": "error",
     "traceback": [
      "\u001b[1;31m---------------------------------------------------------------------------\u001b[0m",
      "\u001b[1;31mNameError\u001b[0m                                 Traceback (most recent call last)",
      "Cell \u001b[1;32mIn[1], line 1\u001b[0m\n\u001b[1;32m----> 1\u001b[0m \u001b[43mipy\u001b[49m\n",
      "\u001b[1;31mNameError\u001b[0m: name 'ipy' is not defined"
     ]
    }
   ],
   "source": [
    "ipy"
   ]
  },
  {
   "cell_type": "code",
   "execution_count": 1,
   "id": "30c5ab35",
   "metadata": {},
   "outputs": [
    {
     "data": {
      "text/html": [
       "\n",
       "<style>\n",
       "div.container{width:86% !important;}\n",
       "div.cell.code_cell.rendered{width:100%;}\n",
       "div.CodeMirror {font-family:Consolas; font-size:15pt;}\n",
       "div.output {font-size:15pt; font-weight:bold;}\n",
       "div.input {font-family:Consolas; font-size:15pt;}\n",
       "div.prompt {min-width:70px;}\n",
       "div#toc-wrapper{padding-top:120px;}\n",
       "div.text_cell_render ul li{font-size:12pt;padding:5px;}\n",
       "table.dataframe{font-size:15px;}\n",
       "</style>\n"
      ],
      "text/plain": [
       "<IPython.core.display.HTML object>"
      ]
     },
     "metadata": {},
     "output_type": "display_data"
    }
   ],
   "source": [
    "from IPython.display import display, HTML\n",
    "display(HTML(\"\"\"\n",
    "<style>\n",
    "div.container{width:86% !important;}\n",
    "div.cell.code_cell.rendered{width:100%;}\n",
    "div.CodeMirror {font-family:Consolas; font-size:15pt;}\n",
    "div.output {font-size:15pt; font-weight:bold;}\n",
    "div.input {font-family:Consolas; font-size:15pt;}\n",
    "div.prompt {min-width:70px;}\n",
    "div#toc-wrapper{padding-top:120px;}\n",
    "div.text_cell_render ul li{font-size:12pt;padding:5px;}\n",
    "table.dataframe{font-size:15px;}\n",
    "</style>\n",
    "\"\"\"))"
   ]
  },
  {
   "cell_type": "code",
   "execution_count": 3,
   "id": "aaa4e3a9",
   "metadata": {},
   "outputs": [
    {
     "ename": "SyntaxError",
     "evalue": "incomplete input (769273747.py, line 2)",
     "output_type": "error",
     "traceback": [
      "\u001b[1;36m  Cell \u001b[1;32mIn[3], line 2\u001b[1;36m\u001b[0m\n\u001b[1;33m    display(HTML(\"\"\"\u001b[0m\n\u001b[1;37m                 ^\u001b[0m\n\u001b[1;31mSyntaxError\u001b[0m\u001b[1;31m:\u001b[0m incomplete input\n"
     ]
    }
   ],
   "source": [
    "from IPython.display import display, HTML\n",
    "display(HTML(\"\"\"\n",
    "<style>\n",
    "div.container\n",
    "{width:86% !\n",
    "div.cell.code_cell.rendered\n",
    "{width:\n",
    "div.CodeMirror\n",
    "font family:Consolas ; font size:12pt;}\n",
    "div.output\n",
    "{font size:12pt; font weight:bold\n",
    "div.input\n",
    "font family:Consolas ; font size:12pt;}\n",
    "div.prompt\n",
    "{min width:70px;}\n",
    "div#toc\n",
    "wrapper {padding top:120px;}\n",
    "div.text_cell_render\n",
    "ul li{font\n",
    "size:12pt;padding:5px;}\n",
    "table.dataframe\n",
    "{font size:12px;}\n",
    "</style>"
   ]
  },
  {
   "cell_type": "code",
   "execution_count": 26,
   "id": "55ad3e31",
   "metadata": {},
   "outputs": [
    {
     "data": {
      "text/html": [
       "\n",
       "<style>\n",
       "div.container\n",
       "{width:86% !\n",
       "div.cell.code_cell.rendered\n",
       "{width:\n",
       "div.CodeMirror\n",
       "font family:Consolas ; font size:12pt;}\n",
       "div.output\n",
       "{font size:12pt; font weight:bold\n",
       "div.input\n",
       "font family:Consolas ; font size:12pt;}\n",
       "div.prompt\n",
       "{min width:70px;}\n",
       "div#toc\n",
       "wrapper {padding top:120px;}\n",
       "div.text_cell_render\n",
       "ul li{font\n",
       "size:12pt;padding:5px;}\n",
       "table.dataframe\n",
       "{font size:12px;}\n",
       "</style>\n"
      ],
      "text/plain": [
       "<IPython.core.display.HTML object>"
      ]
     },
     "metadata": {},
     "output_type": "display_data"
    }
   ],
   "source": [
    "from IPython.display import display, HTML\n",
    "display(HTML(\"\"\"\n",
    "<style>\n",
    "div.container\n",
    "{width:86% !\n",
    "div.cell.code_cell.rendered\n",
    "{width:\n",
    "div.CodeMirror\n",
    "font family:Consolas ; font size:12pt;}\n",
    "div.output\n",
    "{font size:12pt; font weight:bold\n",
    "div.input\n",
    "font family:Consolas ; font size:12pt;}\n",
    "div.prompt\n",
    "{min width:70px;}\n",
    "div#toc\n",
    "wrapper {padding top:120px;}\n",
    "div.text_cell_render\n",
    "ul li{font\n",
    "size:12pt;padding:5px;}\n",
    "table.dataframe\n",
    "{font size:12px;}\n",
    "</style>\n",
    "\"\"\"))"
   ]
  },
  {
   "cell_type": "code",
   "execution_count": null,
   "id": "5fb7d8fb",
   "metadata": {},
   "outputs": [],
   "source": [
    "<font size=\"5\" color=\"red\"> ch01 파이썬개요및환경설정</font>\n",
    "# 1. 주피터 노트북 사용법\n",
    "- shift=Enter : 선택된 셀이 실행되고, 다음셀로 이동\n",
    "- alt+Enter   : 선택된 셀이 실행되고 다음셀이 다음셀이 생성된 후 다음셀로 이동\n",
    "- ctrl+ Enter : 선택된 셀이 실행되고, 해당셀에 있음\n",
    "- Etner(셀 클릭) : 다시 편집상태로 돌아감"
   ]
  },
  {
   "cell_type": "code",
   "execution_count": 5,
   "id": "f3e9eda5",
   "metadata": {},
   "outputs": [
    {
     "name": "stdout",
     "output_type": "stream",
     "text": [
      "Hello, World\n"
     ]
    }
   ],
   "source": [
    "print(\"Hello, World\")"
   ]
  },
  {
   "cell_type": "code",
   "execution_count": 9,
   "id": "8a77d434",
   "metadata": {},
   "outputs": [
    {
     "name": "stdout",
     "output_type": "stream",
     "text": [
      "252\n",
      "27\n"
     ]
    }
   ],
   "source": [
    "age = 25\n",
    "duration = \"2\"\n",
    "print(str(age) + duration)\n",
    "print( age + int(duration))"
   ]
  },
  {
   "cell_type": "code",
   "execution_count": 16,
   "id": "6d999c96",
   "metadata": {},
   "outputs": [],
   "source": [
    "# 반복하는 명령(주석:실행하지 않고 개발자가 보는 용도)\n",
    "# for i in range(10):\n",
    "#     print(i)"
   ]
  },
  {
   "cell_type": "code",
   "execution_count": 17,
   "id": "0e20d7e3",
   "metadata": {},
   "outputs": [],
   "source": [
    "print = 10"
   ]
  },
  {
   "cell_type": "code",
   "execution_count": 18,
   "id": "8e976d02",
   "metadata": {},
   "outputs": [
    {
     "data": {
      "text/plain": [
       "10"
      ]
     },
     "execution_count": 18,
     "metadata": {},
     "output_type": "execute_result"
    }
   ],
   "source": [
    "print"
   ]
  },
  {
   "cell_type": "code",
   "execution_count": 19,
   "id": "0010bdd4",
   "metadata": {},
   "outputs": [
    {
     "ename": "TypeError",
     "evalue": "'int' object is not callable",
     "output_type": "error",
     "traceback": [
      "\u001b[1;31m---------------------------------------------------------------------------\u001b[0m",
      "\u001b[1;31mTypeError\u001b[0m                                 Traceback (most recent call last)",
      "Cell \u001b[1;32mIn[19], line 1\u001b[0m\n\u001b[1;32m----> 1\u001b[0m \u001b[38;5;28;43mprint\u001b[39;49m\u001b[43m(\u001b[49m\u001b[38;5;124;43m\"\u001b[39;49m\u001b[38;5;124;43mHello\u001b[39;49m\u001b[38;5;124;43m\"\u001b[39;49m\u001b[43m)\u001b[49m\n",
      "\u001b[1;31mTypeError\u001b[0m: 'int' object is not callable"
     ]
    }
   ],
   "source": [
    "print(\"Hello\")"
   ]
  },
  {
   "cell_type": "code",
   "execution_count": 20,
   "id": "97135337",
   "metadata": {},
   "outputs": [],
   "source": [
    "# 실수로 print 에 10 할당을 취소\n",
    "# 1. 커널 재시작\n",
    "# print 변수만 제거\n",
    "del print"
   ]
  },
  {
   "cell_type": "code",
   "execution_count": 21,
   "id": "4399695c",
   "metadata": {},
   "outputs": [
    {
     "name": "stdout",
     "output_type": "stream",
     "text": [
      "Hello\n"
     ]
    }
   ],
   "source": [
    "print(\"Hello\")"
   ]
  },
  {
   "cell_type": "code",
   "execution_count": 22,
   "id": "187f507e",
   "metadata": {},
   "outputs": [
    {
     "name": "stdout",
     "output_type": "stream",
     "text": [
      "Hello\tWorld\n"
     ]
    }
   ],
   "source": [
    "print(\"Hello\\tWorld\")"
   ]
  },
  {
   "cell_type": "markdown",
   "id": "2a1447df",
   "metadata": {},
   "source": [
    "# 2. ESC 키 누르고 (핫키)\n",
    "- dd  : 삭제\n",
    "- a  : 윗셀 추가\n",
    "- b  : 아렛셀 추가\n",
    "- m  : 마크다운셀(문서셀)로 변경\n",
    "- y  : 코드셀로 변겨\n",
    "- o  : 실행결과 접기/펴기(토굴가능)"
   ]
  },
  {
   "cell_type": "markdown",
   "id": "b6d48ddb",
   "metadata": {},
   "source": [
    "# 3. 마크다운이란?\n",
    "-  코드와 함께 문서화 할 수 있음.\n",
    "-  다양한 문서화 문법 ex. README.md"
   ]
  },
  {
   "cell_type": "code",
   "execution_count": 23,
   "id": "f06e0b12",
   "metadata": {},
   "outputs": [
    {
     "name": "stdout",
     "output_type": "stream",
     "text": [
      " C 드라이브의 볼륨에는 이름이 없습니다.\n",
      " 볼륨 일련 번호: 3664-591E\n",
      "\n",
      " C:\\AI_X\\source\\01_python 디렉터리\n",
      "\n",
      "2025-04-08  오후 12:38    <DIR>          .\n",
      "2025-04-08  오후 12:38    <DIR>          ..\n",
      "2025-04-08  오전 11:37    <DIR>          .ipynb_checkpoints\n",
      "2025-04-08  오후 12:38            10,345 ch01_파이썬개요및환경설정.ipynb\n",
      "2025-04-08  오전 11:24                49 test.py\n",
      "               2개 파일              10,394 바이트\n",
      "               3개 디렉터리  167,104,704,512 바이트 남음\n"
     ]
    }
   ],
   "source": [
    "# 주피터 노트북애서 cmd명령을 실행하는 방법\n",
    "! dir"
   ]
  },
  {
   "cell_type": "code",
   "execution_count": 25,
   "id": "47228abc",
   "metadata": {},
   "outputs": [
    {
     "name": "stdout",
     "output_type": "stream",
     "text": [
      " C 드라이브의 볼륨에는 이름이 없습니다.\n",
      " 볼륨 일련 번호: 3664-591E\n",
      "\n",
      " C:\\AI_X\\source\\01_python 디렉터리\n",
      "\n",
      "2025-04-08  오후 12:39    <DIR>          .\n",
      "2025-04-08  오후 12:39    <DIR>          ..\n",
      "2025-04-08  오전 11:37    <DIR>          .ipynb_checkpoints\n",
      "2025-04-08  오후 12:39            11,958 ch01_파이썬개요및환경설정.ipynb\n",
      "2025-04-08  오전 11:24                49 test.py\n",
      "               2개 파일              12,007 바이트\n",
      "               3개 디렉터리  167,104,483,328 바이트 남음\n"
     ]
    }
   ],
   "source": [
    "%ls"
   ]
  },
  {
   "cell_type": "code",
   "execution_count": null,
   "id": "5c59593e",
   "metadata": {},
   "outputs": [],
   "source": []
  },
  {
   "cell_type": "code",
   "execution_count": null,
   "id": "f431e90b",
   "metadata": {},
   "outputs": [],
   "source": []
  }
 ],
 "metadata": {
  "kernelspec": {
   "display_name": "Python 3 (ipykernel)",
   "language": "python",
   "name": "python3"
  },
  "language_info": {
   "codemirror_mode": {
    "name": "ipython",
    "version": 3
   },
   "file_extension": ".py",
   "mimetype": "text/x-python",
   "name": "python",
   "nbconvert_exporter": "python",
   "pygments_lexer": "ipython3",
   "version": "3.10.9"
  },
  "toc": {
   "base_numbering": 1,
   "nav_menu": {},
   "number_sections": false,
   "sideBar": true,
   "skip_h1_title": false,
   "title_cell": "Table of Contents",
   "title_sidebar": "Contents",
   "toc_cell": false,
   "toc_position": {
    "height": "calc(100% - 180px)",
    "left": "10px",
    "top": "150px",
    "width": "277.55px"
   },
   "toc_section_display": true,
   "toc_window_display": true
  }
 },
 "nbformat": 4,
 "nbformat_minor": 5
}
