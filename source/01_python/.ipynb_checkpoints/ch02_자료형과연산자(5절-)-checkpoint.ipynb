{
 "cells": [
  {
   "cell_type": "code",
   "execution_count": 1,
   "id": "8394a65e",
   "metadata": {},
   "outputs": [
    {
     "data": {
      "text/html": [
       "\n",
       "<style>\n",
       "div.container{width:86% !important;}\n",
       "div.cell.code_cell.rendered{width:100%;}\n",
       "div.CodeMirror {font-family:Consolas; font-size:15pt;}\n",
       "div.output {font-size:15pt; font-weight:bold;}\n",
       "div.input {font-family:Consolas; font-size:15pt;}\n",
       "div.prompt {min-width:70px;}\n",
       "div#toc-wrapper{padding-top:120px;}\n",
       "div.text_cell_render ul li{font-size:12pt;padding:5px;}\n",
       "table.dataframe{font-size:15px;}\n",
       "</style>\n"
      ],
      "text/plain": [
       "<IPython.core.display.HTML object>"
      ]
     },
     "metadata": {},
     "output_type": "display_data"
    }
   ],
   "source": [
    "from IPython.display import display, HTML\n",
    "display(HTML(\"\"\"\n",
    "<style>\n",
    "div.container{width:86% !important;}\n",
    "div.cell.code_cell.rendered{width:100%;}\n",
    "div.CodeMirror {font-family:Consolas; font-size:15pt;}\n",
    "div.output {font-size:15pt; font-weight:bold;}\n",
    "div.input {font-family:Consolas; font-size:15pt;}\n",
    "div.prompt {min-width:70px;}\n",
    "div#toc-wrapper{padding-top:120px;}\n",
    "div.text_cell_render ul li{font-size:12pt;padding:5px;}\n",
    "table.dataframe{font-size:15px;}\n",
    "</style>\n",
    "\"\"\"))"
   ]
  },
  {
   "cell_type": "markdown",
   "id": "87e3f03c",
   "metadata": {},
   "source": [
    "<font size=\"5\" color=\"red\">ch02 자료형과연산자</font>\n",
    "\n",
    "# 5절. 연산자\n",
    "## 5.1 산술연산자 : +,-,*,/,//(몫연산자),%(나머지),**(제곱)"
   ]
  },
  {
   "cell_type": "code",
   "execution_count": 10,
   "id": "f9c5f722",
   "metadata": {},
   "outputs": [
    {
     "name": "stdout",
     "output_type": "stream",
     "text": [
      "10의 5승 100000\n",
      "4/2(결과 실수) :  2\n",
      "4//22(몫) :  2\n",
      "4%2(나머지) :  0\n"
     ]
    }
   ],
   "source": [
    "print('10의 5승',10**5)\n",
    "print('4/2(결과 실수) : ', int(4/2)) # / (나누기) 실수로 출력 \n",
    "print('4//22(몫) : ', 4//2)\n",
    "print('4%2(나머지) : ',4%2)"
   ]
  },
  {
   "cell_type": "code",
   "execution_count": 1,
   "id": "645152ed",
   "metadata": {},
   "outputs": [
    {
     "name": "stdout",
     "output_type": "stream",
     "text": [
      "정수를 입력하시오 :10\n",
      "입력하신 수는 10, 2로 나눈 나머지는 0, 그래서 짝수를 입력하셨군요.\n"
     ]
    }
   ],
   "source": [
    "# quiz 1. 정수를 입력받아 짝수인지 홀수인지 여부를 출력\n",
    "num = int(input('정수를 입력하시오 :'))\n",
    "result = num%2\n",
    "if result:\n",
    "    print('입력하신 수는 {}, 2로 나눈 나머지는 {}, 그래서 홀수를 입력하셨군요.'.format(num,result))\n",
    "else:\n",
    "    print('입력하신 수는 {}, 2로 나눈 나머지는 {}, 그래서 짝수를 입력하셨군요.'.format(num,result))"
   ]
  },
  {
   "cell_type": "code",
   "execution_count": 2,
   "id": "12c0efcb",
   "metadata": {},
   "outputs": [
    {
     "name": "stdout",
     "output_type": "stream",
     "text": [
      "정수를 입력하시오 :5\n",
      "입력하신 수는 5, 2로 나눈 나머지는 1, 그래서 홀수,를 입력하셨군요.\n"
     ]
    }
   ],
   "source": [
    "num = int(input('정수를 입력하시오 :'))\n",
    "result = num%2\n",
    "if result:\n",
    "    temp = \"홀수\"\n",
    "else:\n",
    "    temp = \"짝수\"\n",
    "print('입력하신 수는 {}, 2로 나눈 나머지는 {}, 그래서 {},를 입력하셨군요.'.format(num,result,temp))"
   ]
  },
  {
   "cell_type": "code",
   "execution_count": 38,
   "id": "f7e93b65",
   "metadata": {},
   "outputs": [
    {
     "name": "stdout",
     "output_type": "stream",
     "text": [
      "5의 배수를 입력하시오90\n",
      "입력하신 수는 90, 5로 나눈 나머지 0, 그래서 5의 배수가 맞습니다.\n"
     ]
    }
   ],
   "source": [
    "# puiz 2. 정수를 입력받아 5의 배수인지 여부를 출력\n",
    "num = int(input('5의 배수를 입력하시오'))\n",
    "result = num%5\n",
    "if result:\n",
    "    temp = \"아닙니다\"\n",
    "else:\n",
    "    temp = \"맞습니다\"\n",
    "print('입력하신 수는 {}, 5로 나눈 나머지 {}, 그래서 5의 배수가 {}.'.format(num,result,temp))"
   ]
  },
  {
   "cell_type": "code",
   "execution_count": 47,
   "id": "f6d13254",
   "metadata": {},
   "outputs": [
    {
     "name": "stdout",
     "output_type": "stream",
     "text": [
      "국어 점수를 입력하세요.99\n",
      "영어 점수를 입력하세요.98\n",
      "수학 점수를 입력하세요.99\n",
      "국어 :  99\t영어 :  98\t수학 :  99\n",
      "총점 : 296\t평균 :  98.7\n"
     ]
    }
   ],
   "source": [
    "# puiz 3. 국, 영, 수 점수를 입력받아 다음셀에서 다음과 같이 출력하도록 구현하시오\n",
    "국 = int(input('국어 점수를 입력하세요.'))\n",
    "영 = int(input('영어 점수를 입력하세요.'))\n",
    "수 = int(input('수학 점수를 입력하세요.'))\n",
    "총 = 국어+영어+수학\n",
    "평 = (총)/3\n",
    "print('국어 : {:3d}\\t영어 : {:3d}\\t수학 : {:3d}\\n총점 : {}\\t평균 : {:5.1f}'.format(국,영,수,총,평))"
   ]
  },
  {
   "cell_type": "code",
   "execution_count": 43,
   "id": "c14b9a55",
   "metadata": {},
   "outputs": [
    {
     "name": "stdout",
     "output_type": "stream",
     "text": [
      "국어 점수를 입력하세요.99\n",
      "영어 점수를 입력하세요.100\n",
      "수학 점수를 입력하세요.99\n",
      "국어 :  99\t영어 : 100\t수학 :  99\n",
      "총점 : 298\t평균 :  99.3\n"
     ]
    }
   ],
   "source": [
    "a = int(input('국어 점수를 입력하세요.'))\n",
    "b = int(input('영어 점수를 입력하세요.'))\n",
    "c = int(input('수학 점수를 입력하세요.'))\n",
    "d = a+b+c\n",
    "f = (a+b+c)/3\n",
    "print('국어 : {:>3}\\t영어 : {:>3}\\t수학 : {:>3}'.format(a,b,c))\n",
    "print('총점 : {}\\t평균 : {:5.1f}'.format(d,f))"
   ]
  },
  {
   "cell_type": "code",
   "execution_count": 46,
   "id": "eaccc257",
   "metadata": {},
   "outputs": [
    {
     "name": "stdout",
     "output_type": "stream",
     "text": [
      "국어 :  99\t영어 : 100\t수학 :  99\n",
      "총점 : 298\t평균 :  99.3\n"
     ]
    }
   ],
   "source": [
    "print('국어 : {:>3}\\t영어 : {:>3}\\t수학 : {:>3}'.format(a,b,c))\n",
    "print('총점 : {}\\t평균 : {:5.1f}'.format(d,f))"
   ]
  },
  {
   "cell_type": "markdown",
   "id": "b3b2e743",
   "metadata": {},
   "source": [
    "## 5.2 할당연산자 : =,+=,-=,*=,/=,//=,%="
   ]
  },
  {
   "cell_type": "code",
   "execution_count": 51,
   "id": "e95ab760",
   "metadata": {},
   "outputs": [
    {
     "name": "stdout",
     "output_type": "stream",
     "text": [
      "5 더하기 : 10\n"
     ]
    }
   ],
   "source": [
    "a = 5\n",
    "a += 5 # a = a+5\n",
    "print('5 더하기 :',a)"
   ]
  },
  {
   "cell_type": "code",
   "execution_count": 52,
   "id": "351eb9a6",
   "metadata": {},
   "outputs": [
    {
     "name": "stdout",
     "output_type": "stream",
     "text": [
      "5\n"
     ]
    }
   ],
   "source": [
    "a -= 5 # a = a-5\n",
    "print('5뻬기 :',a)"
   ]
  },
  {
   "cell_type": "code",
   "execution_count": 53,
   "id": "d74bc9ed",
   "metadata": {},
   "outputs": [
    {
     "name": "stdout",
     "output_type": "stream",
     "text": [
      "5곱하기 : 25\n"
     ]
    }
   ],
   "source": [
    "a *= 5 # a = a*5\n",
    "print('5곱하기 :',a)"
   ]
  },
  {
   "cell_type": "markdown",
   "id": "feb10c0f",
   "metadata": {},
   "source": [
    "## 5.3 논리연산자 : (&, and), (or, |) ,not(반대)"
   ]
  },
  {
   "cell_type": "code",
   "execution_count": 55,
   "id": "6ff0a957",
   "metadata": {},
   "outputs": [
    {
     "name": "stdout",
     "output_type": "stream",
     "text": [
      "True\n",
      "0\n",
      "False\n"
     ]
    }
   ],
   "source": [
    "# & 논리연산\n",
    "print((10>3) & (10>5)) # 논리연산 True & True\n",
    "print(12 & 1)   # 비트연산 12 : 0000 1100\n",
    "                #          1 : 0000 0001\n",
    "                #     12 & 1 : 0000 0000\n",
    "print(bool(12 & 1))"
   ]
  },
  {
   "cell_type": "code",
   "execution_count": 60,
   "id": "0adebb7f",
   "metadata": {},
   "outputs": [
    {
     "name": "stdout",
     "output_type": "stream",
     "text": [
      "True\n",
      "3\n",
      "0\n",
      "abc\n"
     ]
    }
   ],
   "source": [
    "# and : False로 판변되는 첫번째 항의 결과 반환    논리연산\n",
    "#       모든 항이 참이면 마지막 항을 반환\n",
    "print(True and True and True)\n",
    "print(True and 4 and 3)\n",
    "print(0 and True)\n",
    "print(True and 'abc')"
   ]
  },
  {
   "cell_type": "code",
   "execution_count": 62,
   "id": "9f8ec45c",
   "metadata": {},
   "outputs": [
    {
     "name": "stdout",
     "output_type": "stream",
     "text": [
      "논리연산(연산자 앞뒤에 논리형일 때) : True\n",
      "비트연산(연산자 앞이나 뒤에 숫자일 때) : 3\n"
     ]
    }
   ],
   "source": [
    "# | : 논리연산, 비트연산\n",
    "result = False | True\n",
    "print('논리연산(연산자 앞뒤에 논리형일 때) :', result)\n",
    "result = False | 3  # 0000 0000 (False)\n",
    "                    # 0000 0011 (3)\n",
    "print('비트연산(연산자 앞이나 뒤에 숫자일 때) :',result)"
   ]
  },
  {
   "cell_type": "code",
   "execution_count": 64,
   "id": "47493340",
   "metadata": {},
   "outputs": [
    {
     "name": "stdout",
     "output_type": "stream",
     "text": [
      "None\n",
      "Hong\n"
     ]
    }
   ],
   "source": [
    "# or : 논리연산, 참으로 판별된는 첫번쩨 항을 반환\n",
    "#      모든 항이 거짓이면, 마지막항을 반환\n",
    "print(False or False or None)\n",
    "print('Hong' or '' or False)"
   ]
  },
  {
   "cell_type": "code",
   "execution_count": 65,
   "id": "78ef7a3b",
   "metadata": {},
   "outputs": [
    {
     "name": "stdout",
     "output_type": "stream",
     "text": [
      "False\n"
     ]
    }
   ],
   "source": [
    "print(not(True))"
   ]
  },
  {
   "cell_type": "markdown",
   "id": "7cf7c139",
   "metadata": {},
   "source": [
    "##  5.4 비교연산자 : >,>=,<,<=,==(같다),!=(다르다)"
   ]
  },
  {
   "cell_type": "code",
   "execution_count": 71,
   "id": "62c1999e",
   "metadata": {},
   "outputs": [
    {
     "name": "stdout",
     "output_type": "stream",
     "text": [
      "True\n",
      "True\n"
     ]
    }
   ],
   "source": [
    "# 비교연산자는 이항, 삼항, 사항... 다향연산자\n",
    "# 비교연산자 (<)의 우선순위가 논리연산(&)의 우선순귀보다 낮다\n",
    "x = 5\n",
    "print(4 < x < 10)\n",
    "print((4 < x) & (x < 10))"
   ]
  },
  {
   "cell_type": "code",
   "execution_count": 74,
   "id": "e36c6c4a",
   "metadata": {},
   "outputs": [
    {
     "name": "stdout",
     "output_type": "stream",
     "text": [
      "False\n",
      "False\n",
      "True\n"
     ]
    }
   ],
   "source": [
    "print(10 < 5 & 10 < 7)  # 0101\n",
    "                        # 1010\n",
    "print(10 < 0 < 7)\n",
    "print(10>5 and 10>7)"
   ]
  },
  {
   "cell_type": "code",
   "execution_count": 75,
   "id": "41370b9f",
   "metadata": {},
   "outputs": [
    {
     "ename": "TypeError",
     "evalue": "unsupported operand type(s) for &: 'str' and 'int'",
     "output_type": "error",
     "traceback": [
      "\u001b[1;31m---------------------------------------------------------------------------\u001b[0m",
      "\u001b[1;31mTypeError\u001b[0m                                 Traceback (most recent call last)",
      "Cell \u001b[1;32mIn[75], line 3\u001b[0m\n\u001b[0;32m      1\u001b[0m address \u001b[38;5;241m=\u001b[39m \u001b[38;5;124m'\u001b[39m\u001b[38;5;124m서울\u001b[39m\u001b[38;5;124m'\u001b[39m\n\u001b[0;32m      2\u001b[0m age \u001b[38;5;241m=\u001b[39m \u001b[38;5;241m29\u001b[39m\n\u001b[1;32m----> 3\u001b[0m \u001b[38;5;28mprint\u001b[39m(address\u001b[38;5;241m==\u001b[39m\u001b[38;5;124;43m'\u001b[39;49m\u001b[38;5;124;43m서울\u001b[39;49m\u001b[38;5;124;43m'\u001b[39;49m\u001b[43m \u001b[49m\u001b[38;5;241;43m&\u001b[39;49m\u001b[43m \u001b[49m\u001b[43mage\u001b[49m\u001b[38;5;241m>\u001b[39m\u001b[38;5;241m=\u001b[39m\u001b[38;5;241m30\u001b[39m)\n",
      "\u001b[1;31mTypeError\u001b[0m: unsupported operand type(s) for &: 'str' and 'int'"
     ]
    }
   ],
   "source": [
    "address = '서울'\n",
    "age = 29\n",
    "print(address=='서울' & age>=30)"
   ]
  },
  {
   "cell_type": "code",
   "execution_count": 77,
   "id": "b27ee248",
   "metadata": {},
   "outputs": [
    {
     "name": "stdout",
     "output_type": "stream",
     "text": [
      "False\n",
      "False\n"
     ]
    }
   ],
   "source": [
    "address = '서울'\n",
    "age = 29\n",
    "print((address=='서울') & (age>=30))\n",
    "print((address!='서울') & (age>=30))"
   ]
  },
  {
   "cell_type": "code",
   "execution_count": 90,
   "id": "1f45ffb9",
   "metadata": {},
   "outputs": [
    {
     "data": {
      "text/plain": [
       "True"
      ]
     },
     "execution_count": 90,
     "metadata": {},
     "output_type": "execute_result"
    }
   ],
   "source": [
    "# 문자 비교 : ASCII 코드 순으로 비교 가능 : 특수문자 < 숫자 < 대문자 < 소문자\n",
    "'scott' < 'sctiger'"
   ]
  },
  {
   "cell_type": "code",
   "execution_count": 79,
   "id": "41901b3d",
   "metadata": {},
   "outputs": [
    {
     "data": {
      "text/plain": [
       "True"
      ]
     },
     "execution_count": 79,
     "metadata": {},
     "output_type": "execute_result"
    }
   ],
   "source": [
    "'9' > '10'"
   ]
  },
  {
   "cell_type": "code",
   "execution_count": 82,
   "id": "059631b3",
   "metadata": {},
   "outputs": [
    {
     "data": {
      "text/plain": [
       "True"
      ]
     },
     "execution_count": 82,
     "metadata": {},
     "output_type": "execute_result"
    }
   ],
   "source": [
    "# '김길동' < '홍길동'\n",
    "'홍길동' < '홍길똥'"
   ]
  },
  {
   "cell_type": "markdown",
   "id": "6c1e206e",
   "metadata": {},
   "source": [
    "## 5.5 비트연산자 :&,|,^(XOR),~"
   ]
  },
  {
   "cell_type": "code",
   "execution_count": 83,
   "id": "689d3618",
   "metadata": {},
   "outputs": [],
   "source": [
    "# x  y  x&Y   x^y\n",
    "# 0  0   0     0\n",
    "# 0  1   0     1\n",
    "# 1  0   0     1\n",
    "# 1  1   1     0"
   ]
  },
  {
   "cell_type": "code",
   "execution_count": 88,
   "id": "10a78414",
   "metadata": {},
   "outputs": [
    {
     "name": "stdout",
     "output_type": "stream",
     "text": [
      " a = 15 : 1111\n",
      " b =  2 : 0010\n",
      "a^b = 13 : 1101\n"
     ]
    }
   ],
   "source": [
    "a = 15 # 1111\n",
    "b = 2  # 0010\n",
    "print(' a = {0:2} : {0:04b}'.format(a))\n",
    "print(' b = {0:2} : {0:04b}'.format(b))\n",
    "print('a^b = {0:2} : {0:04b}'.format(a^b))"
   ]
  },
  {
   "cell_type": "markdown",
   "id": "e9f76fa5",
   "metadata": {},
   "source": [
    "### 연산자\n",
    "    - 산슬연산 : + - * / // % **\n",
    "    - 할당연산 : = += -= *= /= //= %=\n",
    "    - 논리연산 : & and | or not\n",
    "    - 비교연산 : > >= < <= == !=\n",
    "    - 비트연산 : & | ^\n",
    "    - &와 |은 비교연산자 보다 우선 순위가 높다"
   ]
  },
  {
   "cell_type": "markdown",
   "id": "69c53390",
   "metadata": {},
   "source": [
    "# 6절. 문자열 다루기\n",
    "- 문자열 슬라이싱 변수 [from,stop,step]\n",
    "- len (문자열변수) : 문자갯수\n",
    "\n",
    "- upper() : 대문자로\n",
    "- lower() : 소문자로\n",
    "- title() : 각 어절의 첫글자만 대문자로\n",
    "- capitalize() : 첫문자만 대문자로\n",
    "- count('찾을문자열') : '찾을문자열'이 몇개 들어있는지 갯수 반환\n",
    "- find('찾을문자열') : 찾을문자열이 왼쪽부터 시작하여 몇 번째 인덱스에 있는지 인덱스를 반환\n",
    "- rfind('찾을문자열') : 찾을문자열이 오른쪽부터 시작하여 몇 번째 인덱스에 있는지 인덱스를 반환\n",
    "        **찾을문자열이 없으면 -1을 반환**\n",
    "    cf) index('찾을문자열') : 찾을문자열의 index를 반환, 찾을문자열이 없으면 오류\n",
    "- startswith('특정문자열') : 특정문자열로 시작하는지 여부\n",
    "- endswith('특정문자열') : 특정문자열로 끝나는지 여부\n",
    "- strip() : 좌우 공백 제거\n",
    "- rstrip() : 오른쪽 공백 제거\n",
    "- lstrip() : 왼쪽 공백 제거\n",
    "- isdigit() : 문자열이 숫자문자열인지 여부\n",
    "- islower() : 소문자문자열인지 여부\n",
    "- isupper() : 대문자문자열인지 여부\n",
    "- replace(oldStr, newStr) : oldStr을 newStr로 변경"
   ]
  },
  {
   "cell_type": "code",
   "execution_count": 99,
   "id": "ebea5ae2",
   "metadata": {},
   "outputs": [
    {
     "data": {
      "text/plain": [
       "('python is easy. python is smart. python', 39)"
      ]
     },
     "execution_count": 99,
     "metadata": {},
     "output_type": "execute_result"
    }
   ],
   "source": [
    "temp = \"python is easy. python is smart. python\"\n",
    "temp, len(temp)"
   ]
  },
  {
   "cell_type": "code",
   "execution_count": 98,
   "id": "ddee608b",
   "metadata": {},
   "outputs": [
    {
     "data": {
      "text/plain": [
       "'PYTHON IS EASY. PYTHON IS SMART PYTHON'"
      ]
     },
     "execution_count": 98,
     "metadata": {},
     "output_type": "execute_result"
    }
   ],
   "source": [
    "temp. upper()"
   ]
  },
  {
   "cell_type": "code",
   "execution_count": 120,
   "id": "980bbb5c",
   "metadata": {},
   "outputs": [
    {
     "name": "stdout",
     "output_type": "stream",
     "text": [
      "1. 글자수 39\n",
      "2. 대문자로 :  PYTHON IS EASY. PYTHON IS SMART. PYTHON\n",
      "3. 소문자로 :  python is easy. python is smart. python\n",
      "4. title :  Python Is Easy. Python Is Smart. Python\n",
      "5. capitalize() :  Python is easy. python is smart. python\n",
      "6. python이 몇번 나오는지 :  2\n",
      "7. 대문자구분없이 python이 몇번 나오는지 :  3\n",
      "7. 대문자구분없이 python이 몇번 나오는지 :  3\n",
      "7. 대문자구분없이 python이 몇번 나오는지 :  3\n",
      "8. python이 나오는 첫 indwx 위치 :  0\n",
      "8. python이 나오는 마지막 index 위치 :  33\n",
      "8. java이 나오는 마지막 index 위치 :  -1\n",
      "8. python이 나오는 마지막 index 위치 :  0\n",
      "9. python으로 시작하는지 여부 :  True\n",
      "10. python으로 끝나는지 여부 :  True\n",
      "10. 대소문자 구분없이 python으로 끝나는지 여부 : True\n"
     ]
    }
   ],
   "source": [
    "temp = \"python is easy. pYThon is smart. python\"\n",
    "print('1. 글자수', len(temp))\n",
    "print('2. 대문자로 : ', temp.upper())\n",
    "print('3. 소문자로 : ', temp.lower())\n",
    "print('4. title : ', temp.title())\n",
    "print('5. capitalize() : ', temp.capitalize()) #첫문자만 대문자로\n",
    "print('6. python이 몇번 나오는지 : ', temp.count('python'))\n",
    "\n",
    "print('7. 대문자구분없이 python이 몇번 나오는지 : ', temp.lower().count('python'))\n",
    "print('7. 대문자구분없이 python이 몇번 나오는지 : ', temp.upper().count('PYTHON'))\n",
    "print('7. 대문자구분없이 python이 몇번 나오는지 : ', temp.title().count('Python'))\n",
    "\n",
    "print('8. python이 나오는 첫 indwx 위치 : ', temp.find('python'))\n",
    "print('8. python이 나오는 마지막 index 위치 : ', temp.rfind('python'))\n",
    "print('8. java이 나오는 마지막 index 위치 : ', temp.rfind('java'))\n",
    "print('8. python이 나오는 마지막 index 위치 : ', temp.index('python'))\n",
    "# print('8. java이 나오는 마지막 index 위치 : ', temp.index('java')) 오류\n",
    "print('9. python으로 시작하는지 여부 : ', temp.startswith('python'))\n",
    "\n",
    "print('10. python으로 끝나는지 여부 : ', temp.endswith('python'))\n",
    "print('10. 대소문자 구분없이 python으로 끝나는지 여부 :', temp.upper().endswith('PYTHON'))"
   ]
  },
  {
   "cell_type": "code",
   "execution_count": 138,
   "id": "86b938ea",
   "metadata": {},
   "outputs": [
    {
     "name": "stdout",
     "output_type": "stream",
     "text": [
      "11. 좌우공백제거 : [Python is easy.]\n",
      "11. 좌측공백제거 : [Python is easy.      ]\n",
      "11. 우측공백제거 : [     Python is easy.]\n",
      "12. 숫자문자열인지 :  False\n",
      "13. 소문자문자열인지 :  False\n",
      "13. 대문자문자열인지 :  False\n",
      "14. ,제거 :  1000000000\n",
      "14. ,제거 :  1.000.000.000\n",
      "14. ,제거 :  1000\n"
     ]
    }
   ],
   "source": [
    "temp = '     Python is easy.      '\n",
    "notdisit = '1,000,000,000'\n",
    "num_str = '1000'\n",
    "print('11. 좌우공백제거 : [{}]'.format(temp.strip()))\n",
    "print('11. 좌측공백제거 : [{}]'.format(temp.lstrip()))\n",
    "print('11. 우측공백제거 : [{}]'.format(temp.rstrip()))\n",
    "\n",
    "print('12. 숫자문자열인지 : ', notdisit.isdigit())\n",
    "print('13. 소문자문자열인지 : ', temp.islower())\n",
    "print('13. 대문자문자열인지 : ', temp.isupper())\n",
    "print('14. ,제거 : ', notdisit.replace(',',''))\n",
    "print('14. ,제거 : ', notdisit.replace(',','.'))\n",
    "print('14. ,제거 : ', num_str.replace(',',''))"
   ]
  },
  {
   "cell_type": "code",
   "execution_count": 139,
   "id": "8d16cfd8",
   "metadata": {},
   "outputs": [
    {
     "name": "stdout",
     "output_type": "stream",
     "text": [
      "space단위로 temp를 분리 :  ['홍길동', '김길동', '신길동', '유길동', '신림동']\n"
     ]
    }
   ],
   "source": [
    "temp = '홍길동  김길동 신길동 유길동   신림동'\n",
    "print('space단위로 temp를 분리 : ', temp.split()) # 기본이 space 단위로 분리\n",
    "# [] 대괄호 안에를 걸 리스트라고 한다"
   ]
  },
  {
   "cell_type": "code",
   "execution_count": 144,
   "id": "7b4a0e41",
   "metadata": {},
   "outputs": [
    {
     "name": "stdout",
     "output_type": "stream",
     "text": [
      " - 단위로 data를 분리(결과 : list)\n",
      "['2025', '04', '10']\n",
      "년 : 2025\n",
      "월 : 04\n",
      "일 : 10\n"
     ]
    }
   ],
   "source": [
    "data = '2025-04-10'\n",
    "print(' - 단위로 data를 분리(결과 : list)')\n",
    "data_list = data.split('-')\n",
    "print(data_list)\n",
    "print('년 :', data_list[0])\n",
    "print('월 :', data_list[1])\n",
    "print('일 :', data_list[2])"
   ]
  },
  {
   "cell_type": "code",
   "execution_count": 149,
   "id": "f650d2c2",
   "metadata": {},
   "outputs": [
    {
     "name": "stdout",
     "output_type": "stream",
     "text": [
      "원 데이터 :  python - HTML/CSS - javaScript(jQuery, node, react) - DBMS\n",
      "분리된 데이터 :  ['python', 'HTML/CSS', 'javaScript(jQuery, node, react)', 'DBMS']\n",
      "join된 데이터 : python/HTML/CSS/javaScript(jQuery, node, react)/DBMS\n"
     ]
    }
   ],
   "source": [
    "# ' - '을 '/'로 바꾸기\n",
    "temp = 'python - HTML/CSS - javaScript(jQuery, node, react) - DBMS'\n",
    "# temp.replace(' - ', '/')\n",
    "print('원 데이터 : ', temp)\n",
    "splited_temp = temp.split(' - ')\n",
    "print('분리된 데이터 : ', splited_temp)\n",
    "joined_temp = '/'.join(splited_temp)\n",
    "print('join된 데이터 :', joined_temp)"
   ]
  },
  {
   "cell_type": "code",
   "execution_count": null,
   "id": "58942744",
   "metadata": {},
   "outputs": [],
   "source": [
    "str = 'ABC'\n",
    "# str_ = ['A', 'B', 'C']"
   ]
  },
  {
   "cell_type": "code",
   "execution_count": 150,
   "id": "f9d95fb5",
   "metadata": {
    "collapsed": true
   },
   "outputs": [
    {
     "data": {
      "text/plain": [
       "['__add__',\n",
       " '__class__',\n",
       " '__contains__',\n",
       " '__delattr__',\n",
       " '__dir__',\n",
       " '__doc__',\n",
       " '__eq__',\n",
       " '__format__',\n",
       " '__ge__',\n",
       " '__getattribute__',\n",
       " '__getitem__',\n",
       " '__getnewargs__',\n",
       " '__gt__',\n",
       " '__hash__',\n",
       " '__init__',\n",
       " '__init_subclass__',\n",
       " '__iter__',\n",
       " '__le__',\n",
       " '__len__',\n",
       " '__lt__',\n",
       " '__mod__',\n",
       " '__mul__',\n",
       " '__ne__',\n",
       " '__new__',\n",
       " '__reduce__',\n",
       " '__reduce_ex__',\n",
       " '__repr__',\n",
       " '__rmod__',\n",
       " '__rmul__',\n",
       " '__setattr__',\n",
       " '__sizeof__',\n",
       " '__str__',\n",
       " '__subclasshook__',\n",
       " 'capitalize',\n",
       " 'casefold',\n",
       " 'center',\n",
       " 'count',\n",
       " 'encode',\n",
       " 'endswith',\n",
       " 'expandtabs',\n",
       " 'find',\n",
       " 'format',\n",
       " 'format_map',\n",
       " 'index',\n",
       " 'isalnum',\n",
       " 'isalpha',\n",
       " 'isascii',\n",
       " 'isdecimal',\n",
       " 'isdigit',\n",
       " 'isidentifier',\n",
       " 'islower',\n",
       " 'isnumeric',\n",
       " 'isprintable',\n",
       " 'isspace',\n",
       " 'istitle',\n",
       " 'isupper',\n",
       " 'join',\n",
       " 'ljust',\n",
       " 'lower',\n",
       " 'lstrip',\n",
       " 'maketrans',\n",
       " 'partition',\n",
       " 'removeprefix',\n",
       " 'removesuffix',\n",
       " 'replace',\n",
       " 'rfind',\n",
       " 'rindex',\n",
       " 'rjust',\n",
       " 'rpartition',\n",
       " 'rsplit',\n",
       " 'rstrip',\n",
       " 'split',\n",
       " 'splitlines',\n",
       " 'startswith',\n",
       " 'strip',\n",
       " 'swapcase',\n",
       " 'title',\n",
       " 'translate',\n",
       " 'upper',\n",
       " 'zfill']"
      ]
     },
     "execution_count": 150,
     "metadata": {},
     "output_type": "execute_result"
    }
   ],
   "source": [
    "# 문자열이 다룰 수 있는 함수들과 변수들 목록\n",
    "dir(str)"
   ]
  },
  {
   "cell_type": "markdown",
   "id": "f2a49c38",
   "metadata": {},
   "source": [
    "# 7절. 시간, 날짜, 날짜시간 다루기"
   ]
  },
  {
   "cell_type": "code",
   "execution_count": null,
   "id": "d4c64ba6",
   "metadata": {},
   "outputs": [],
   "source": []
  },
  {
   "cell_type": "markdown",
   "id": "2d42ef26",
   "metadata": {},
   "source": [
    "# 8. 연습문제"
   ]
  },
  {
   "cell_type": "code",
   "execution_count": 152,
   "id": "52ac8e1e",
   "metadata": {},
   "outputs": [
    {
     "name": "stdout",
     "output_type": "stream",
     "text": [
      "홍길동님의 나이는 23살입니다\n"
     ]
    }
   ],
   "source": [
    "# 1. 이름과 나이 변수를 다음 형식으로 출력하도록 format() 함수를 이용해 형식화하세요\n",
    "#[출력형식 : 홍길동님의 나이는 23 살입니다\n",
    "name = '홍길동'\n",
    "age = 23\n",
    "print('{}님의 나이는 {}살입니다'.format(name,age))"
   ]
  },
  {
   "cell_type": "code",
   "execution_count": 185,
   "id": "aadd2bce",
   "metadata": {},
   "outputs": [
    {
     "name": "stdout",
     "output_type": "stream",
     "text": [
      "15\n",
      "5\n",
      "50\n",
      "5\n",
      "4\n",
      "2\n"
     ]
    }
   ],
   "source": [
    "# 2. 두 정수를 입력받아 두 수의 덧셈 , 뺄셈 , 곱셈 , 나눗셈 , 몫 , 나머지를 출력하세요\n",
    "print(10 + 5)\n",
    "print(15 - 10)\n",
    "print(2 * 25)\n",
    "print(int(20 / 4))\n",
    "print(20 // 5)\n",
    "print(30 % 4)"
   ]
  },
  {
   "cell_type": "code",
   "execution_count": 178,
   "id": "30cb493b",
   "metadata": {},
   "outputs": [
    {
     "name": "stdout",
     "output_type": "stream",
     "text": [
      "World Hello\n"
     ]
    }
   ],
   "source": [
    "# 문자열의 분리하기와 합치기 기능을 이용하여 ‘Hello World' 가 할당된 변수를 이용하여\n",
    "# ‘Hello World'로 출력하세요\n",
    "text = \"Hello World\"\n",
    "text_ = text.split(\" \")\n",
    "replace_text_ = [words[1], words[0]]\n",
    "texts = \" \".join(replace_text_)\n",
    "print(texts)"
   ]
  },
  {
   "cell_type": "code",
   "execution_count": 204,
   "id": "5f907cc8",
   "metadata": {},
   "outputs": [
    {
     "name": "stdout",
     "output_type": "stream",
     "text": [
      "bcdefa\n"
     ]
    }
   ],
   "source": [
    "# 4. x = 'abcdef'를 이용하여 bcdefa 로 출력하세요 문자 슬라이싱이용\n",
    "x =  'abcdef'\n",
    "b = x[1:]+x[0]\n",
    "print(b)"
   ]
  },
  {
   "cell_type": "code",
   "execution_count": 182,
   "id": "44eb5a8a",
   "metadata": {},
   "outputs": [
    {
     "data": {
      "text/plain": [
       "'fedcba'"
      ]
     },
     "execution_count": 182,
     "metadata": {},
     "output_type": "execute_result"
    }
   ],
   "source": [
    "# 5. x = ‘ abcdef 를 이용하여 fedcba 로 출력하세요\n",
    "x = 'abcdef'\n",
    "x[-1::-1]"
   ]
  },
  {
   "cell_type": "code",
   "execution_count": 190,
   "id": "aa9a1db4",
   "metadata": {},
   "outputs": [
    {
     "name": "stdout",
     "output_type": "stream",
     "text": [
      "오늘의 온도를 섭씨로 입력하시오16.5\n",
      "오늘의 온도는 화씨는 f61.70입니다\n"
     ]
    }
   ],
   "source": [
    "# 6.오늘의 온도를 섭씨온도로 입력받아 화씨 온도로 변환하는 프로그램을 작성하세요 . \n",
    "#  화씨 온도는 소수점이 있을 경우만 두번째 자리까지 출력되고 , \n",
    "#  소수점이하 값이 없는 경우 소수점을 출력하지 않도록 합니다 다음은 섭씨와 화씨의 변환 공식입니다 . \n",
    "#  C 는 섭씨 ,F 는 화씨\n",
    "#  C = (F32) / 1.8\n",
    "#  F = (C*1.8) + 32\n",
    "a = float(input('오늘의 온도를 섭씨로 입력하시오'))\n",
    "f = ((a * 1.8) + 32)\n",
    "print('오늘의 온도는 화씨는 f{:5.2f}입니다'.format(f))"
   ]
  },
  {
   "cell_type": "code",
   "execution_count": 192,
   "id": "3a3da3ed",
   "metadata": {},
   "outputs": [
    {
     "name": "stdout",
     "output_type": "stream",
     "text": [
      "정답은 2번,4번\n",
      "숫자와 _는 첫글자로 사용 할 수 없다\n"
     ]
    }
   ],
   "source": [
    "# 7. 다음 중 변수 선언으로 잘못된 것을 모두 고르시오\n",
    "# ① for\n",
    "# ② 10th\n",
    "# ③ Student.name\n",
    "# ④ _1234\n",
    "print('정답은 2번,4번\\n숫자와 _는 첫글자로 사용 할 수 없다')"
   ]
  },
  {
   "cell_type": "code",
   "execution_count": 197,
   "id": "3aa4c145",
   "metadata": {},
   "outputs": [
    {
     "name": "stdout",
     "output_type": "stream",
     "text": [
      "SeounSeoul\n",
      "Seou n Seoul\n"
     ]
    }
   ],
   "source": [
    "# 8. 다음의 코드의 실행결과는?\n",
    "text = \"Seoul A001 - programming with python\"\n",
    "print(text[:4]+text[-1]+text.split()[0])\n",
    "print(text[:4], text[-1], text.split()[0])"
   ]
  },
  {
   "cell_type": "code",
   "execution_count": 202,
   "id": "c6e5ffce",
   "metadata": {},
   "outputs": [
    {
     "name": "stdout",
     "output_type": "stream",
     "text": [
      "정답은 2번\n",
      "\"/\"식은 결과값이 실수로 반환한다\n",
      "4.0\n"
     ]
    }
   ],
   "source": [
    "# 9. 다음 중 파이썬 3.x 버전에서 연산식과 그 결과의 출력이 잘못된 것은?\n",
    "# ① 수식 8//2 결과 4\n",
    "# ② 수식 8/2 결과 4\n",
    "# ③ 수식 8 **2 결과 64\n",
    "print('정답은 2번\\n\"/\"식은 결과값이 실수로 반환한다')\n",
    "print(8/2)"
   ]
  },
  {
   "cell_type": "code",
   "execution_count": null,
   "id": "01139c2f",
   "metadata": {},
   "outputs": [],
   "source": []
  },
  {
   "cell_type": "code",
   "execution_count": null,
   "id": "8326ad2a",
   "metadata": {},
   "outputs": [],
   "source": []
  }
 ],
 "metadata": {
  "kernelspec": {
   "display_name": "Python 3 (ipykernel)",
   "language": "python",
   "name": "python3"
  },
  "language_info": {
   "codemirror_mode": {
    "name": "ipython",
    "version": 3
   },
   "file_extension": ".py",
   "mimetype": "text/x-python",
   "name": "python",
   "nbconvert_exporter": "python",
   "pygments_lexer": "ipython3",
   "version": "3.10.9"
  },
  "toc": {
   "base_numbering": 1,
   "nav_menu": {},
   "number_sections": false,
   "sideBar": true,
   "skip_h1_title": false,
   "title_cell": "Table of Contents",
   "title_sidebar": "Contents",
   "toc_cell": false,
   "toc_position": {
    "height": "calc(100% - 180px)",
    "left": "10px",
    "top": "150px",
    "width": "240.55px"
   },
   "toc_section_display": true,
   "toc_window_display": true
  }
 },
 "nbformat": 4,
 "nbformat_minor": 5
}
