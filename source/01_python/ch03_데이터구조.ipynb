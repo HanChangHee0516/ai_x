{
 "cells": [
  {
   "cell_type": "code",
   "execution_count": 1,
   "id": "4dff066e",
   "metadata": {},
   "outputs": [
    {
     "data": {
      "text/html": [
       "\n",
       "<style>\n",
       "div.container{width:86% !important;}\n",
       "div.cell.code_cell.rendered{width:100%;}\n",
       "div.CodeMirror {font-family:Consolas; font-size:13pt;}\n",
       "div.output {font-size:15pt; font-weight:bold;}\n",
       "div.input {font-family:Consolas; font-size:15pt;}\n",
       "div.prompt {min-width:70px;}\n",
       "div#toc-wrapper{padding-top:120px;}\n",
       "div.text_cell_render ul li{font-size:10pt;padding:5px;}\n",
       "</style>\n"
      ],
      "text/plain": [
       "<IPython.core.display.HTML object>"
      ]
     },
     "metadata": {},
     "output_type": "display_data"
    }
   ],
   "source": [
    "from IPython.display import display, HTML\n",
    "display(HTML(\"\"\"\n",
    "<style>\n",
    "div.container{width:86% !important;}\n",
    "div.cell.code_cell.rendered{width:100%;}\n",
    "div.CodeMirror {font-family:Consolas; font-size:13pt;}\n",
    "div.output {font-size:15pt; font-weight:bold;}\n",
    "div.input {font-family:Consolas; font-size:15pt;}\n",
    "div.prompt {min-width:70px;}\n",
    "div#toc-wrapper{padding-top:120px;}\n",
    "div.text_cell_render ul li{font-size:10pt;padding:5px;}\n",
    "</style>\n",
    "\"\"\"))"
   ]
  },
  {
   "cell_type": "markdown",
   "id": "1607c5d9",
   "metadata": {},
   "source": [
    "<font size=\"5\" color=\"red\">ch03. 데이터구조</font>\n",
    "- 리스트[]수정가능, 튜플()수정불가, 딕셔너리{}, 셋\n",
    "\n",
    "# 1절. 리스트\n",
    "## 1.1 리스트 만들기\n",
    "\n",
    " - []을 이용해서 만들며, 여러개 값(여러 타입)을 하나의 변수에 저장/관리할 수 있음\n",
    " - list(리스트로 변혼 가능한 자료)함수 이용도 가능 exlist(10,2) 사용불가\n",
    " - 인덱스 : 각 요소의 위치. 0부터 시작. 맨 마지막 인덱스는 -1\n",
    " - 슬라이싱( [from:stop:step] ) : 부분 데이터셋 추출\n",
    " - 인덱스와 슬라이싱을 이용해서 읽기/쓰기 지원"
   ]
  },
  {
   "cell_type": "code",
   "execution_count": 5,
   "id": "2040dc52",
   "metadata": {},
   "outputs": [
    {
     "data": {
      "text/plain": [
       "list"
      ]
     },
     "execution_count": 5,
     "metadata": {},
     "output_type": "execute_result"
    }
   ],
   "source": [
    "fruits = ['banana', 'apple', 'orange', 'grape']\n",
    "type(fruits)"
   ]
  },
  {
   "cell_type": "code",
   "execution_count": 7,
   "id": "72ebdf76",
   "metadata": {},
   "outputs": [
    {
     "name": "stdout",
     "output_type": "stream",
     "text": [
      "['banana', 'apple', 'orange', 'grape']\n",
      "banana\n"
     ]
    }
   ],
   "source": [
    "print(fruits)\n",
    "print(fruits[0])"
   ]
  },
  {
   "cell_type": "code",
   "execution_count": 10,
   "id": "80076bc0",
   "metadata": {},
   "outputs": [
    {
     "name": "stdout",
     "output_type": "stream",
     "text": [
      "mango\n"
     ]
    }
   ],
   "source": [
    "fruits[0] = 'mango'\n",
    "print(fruits[0])"
   ]
  },
  {
   "cell_type": "code",
   "execution_count": 17,
   "id": "8468765a",
   "metadata": {},
   "outputs": [
    {
     "name": "stdout",
     "output_type": "stream",
     "text": [
      "x=mango\n",
      "y=apple\n",
      "z=orange\n",
      "z=orange\n",
      "fruits = ['mango', 'apple', 'orange']\n"
     ]
    }
   ],
   "source": [
    "fruits = ['mango', 'apple', 'orange']\n",
    "x, y, z = fruits\n",
    "print(f'x={x}')\n",
    "print(f'y={y}')\n",
    "print(f'z={z}')\n",
    "print('z={}'.format(z))\n",
    "print(f'fruits = {fruits}',sep='')"
   ]
  },
  {
   "cell_type": "code",
   "execution_count": 18,
   "id": "041b31ee",
   "metadata": {},
   "outputs": [
    {
     "ename": "ValueError",
     "evalue": "too many values to unpack (expected 3)",
     "output_type": "error",
     "traceback": [
      "\u001b[1;31m---------------------------------------------------------------------------\u001b[0m",
      "\u001b[1;31mValueError\u001b[0m                                Traceback (most recent call last)",
      "Cell \u001b[1;32mIn[18], line 2\u001b[0m\n\u001b[0;32m      1\u001b[0m fruits \u001b[38;5;241m=\u001b[39m [\u001b[38;5;124m'\u001b[39m\u001b[38;5;124mmango\u001b[39m\u001b[38;5;124m'\u001b[39m, \u001b[38;5;124m'\u001b[39m\u001b[38;5;124mapple\u001b[39m\u001b[38;5;124m'\u001b[39m, \u001b[38;5;124m'\u001b[39m\u001b[38;5;124morange\u001b[39m\u001b[38;5;124m'\u001b[39m, \u001b[38;5;241m333\u001b[39m]\n\u001b[1;32m----> 2\u001b[0m x, y, z \u001b[38;5;241m=\u001b[39m fruits\n",
      "\u001b[1;31mValueError\u001b[0m: too many values to unpack (expected 3)"
     ]
    }
   ],
   "source": [
    "fruits = ['mango', 'apple', 'orange', 333] # 수가 같아야한다\n",
    "x, y, z = fruits"
   ]
  },
  {
   "cell_type": "code",
   "execution_count": 21,
   "id": "dc6af414",
   "metadata": {},
   "outputs": [
    {
     "data": {
      "text/plain": [
       "[0, 1, 2, 3, 4, 5, 6, 7, 8, 9]"
      ]
     },
     "execution_count": 21,
     "metadata": {},
     "output_type": "execute_result"
    }
   ],
   "source": [
    "# range(from, to, by) : from부터 to앞까지 by씩 증가하면서 지전된 범위의 정수\n",
    "        # from 생략시 : 0\n",
    "        # by 생략시 : 1\n",
    "list(range(10))"
   ]
  },
  {
   "cell_type": "code",
   "execution_count": 19,
   "id": "73df6dba",
   "metadata": {},
   "outputs": [
    {
     "data": {
      "text/plain": [
       "range(0, 10)"
      ]
     },
     "execution_count": 19,
     "metadata": {},
     "output_type": "execute_result"
    }
   ],
   "source": [
    "range(0, 10)"
   ]
  },
  {
   "cell_type": "code",
   "execution_count": 20,
   "id": "d9e171bd",
   "metadata": {},
   "outputs": [
    {
     "data": {
      "text/plain": [
       "[0, 1, 2, 3, 4, 5, 6, 7, 8, 9]"
      ]
     },
     "execution_count": 20,
     "metadata": {},
     "output_type": "execute_result"
    }
   ],
   "source": [
    "list(range(0, 10))"
   ]
  },
  {
   "cell_type": "code",
   "execution_count": 25,
   "id": "bff36d0b",
   "metadata": {},
   "outputs": [
    {
     "data": {
      "text/plain": [
       "[10, 8, 6, 4, 2, 0]"
      ]
     },
     "execution_count": 25,
     "metadata": {},
     "output_type": "execute_result"
    }
   ],
   "source": [
    "list(range(10, -1, -2))"
   ]
  },
  {
   "cell_type": "code",
   "execution_count": 26,
   "id": "307c734e",
   "metadata": {},
   "outputs": [
    {
     "name": "stdout",
     "output_type": "stream",
     "text": [
      "0\n",
      "1\n",
      "2\n"
     ]
    }
   ],
   "source": [
    "# 반복문(3회)\n",
    "for i in [0, 1, 2]:\n",
    "    print(i)"
   ]
  },
  {
   "cell_type": "code",
   "execution_count": 28,
   "id": "3e788198",
   "metadata": {},
   "outputs": [
    {
     "name": "stdout",
     "output_type": "stream",
     "text": [
      "0\n",
      "1\n",
      "2\n"
     ]
    }
   ],
   "source": [
    "# 반복문(3회)\n",
    "for i in range(3):\n",
    "    print(i)"
   ]
  },
  {
   "cell_type": "code",
   "execution_count": 72,
   "id": "01abc27c",
   "metadata": {},
   "outputs": [
    {
     "name": "stdout",
     "output_type": "stream",
     "text": [
      "mango\n",
      "apple\n",
      "orange\n"
     ]
    }
   ],
   "source": [
    "fruits = ['mango', 'apple', 'orange']\n",
    "for i in range(3):\n",
    "    print(fruits[i])"
   ]
  },
  {
   "cell_type": "code",
   "execution_count": 38,
   "id": "a8bbe27c",
   "metadata": {},
   "outputs": [
    {
     "name": "stdout",
     "output_type": "stream",
     "text": [
      "0번째 과일은 mango입니다\n",
      "1번째 과일은 apple입니다\n",
      "2번째 과일은 orange입니다\n"
     ]
    }
   ],
   "source": [
    "fruits = ['mango', 'apple', 'orange']\n",
    "for i in range(3):\n",
    "    print(\"{}번째 과일은 {}입니다\".format(i, fruits[i]))"
   ]
  },
  {
   "cell_type": "code",
   "execution_count": 39,
   "id": "cc876938",
   "metadata": {},
   "outputs": [
    {
     "name": "stdout",
     "output_type": "stream",
     "text": [
      "0번째 과일은 mango입니다\n",
      "1번째 과일은 apple입니다\n",
      "2번째 과일은 orange입니다\n"
     ]
    }
   ],
   "source": [
    "fruits = ['mango', 'apple', 'orange', 'grage']\n",
    "for i in range(3):# <-마지막 인덱스 + 1\n",
    "    print(\"{}번째 과일은 {}입니다\".format(i, fruits[i]))"
   ]
  },
  {
   "cell_type": "code",
   "execution_count": 40,
   "id": "dedd6062",
   "metadata": {},
   "outputs": [
    {
     "name": "stdout",
     "output_type": "stream",
     "text": [
      "0번째 과일은 mango입니다\n",
      "1번째 과일은 apple입니다\n",
      "2번째 과일은 orange입니다\n",
      "3번째 과일은 grage입니다\n"
     ]
    }
   ],
   "source": [
    "fruits = ['mango', 'apple', 'orange', 'grage']\n",
    "# len(fruits) : 리스트 데이터 수\n",
    "for i in range(len(fruits)):\n",
    "    print(\"{}번째 과일은 {}입니다\".format(i, fruits[i]))"
   ]
  },
  {
   "cell_type": "code",
   "execution_count": 42,
   "id": "b1bfcac1",
   "metadata": {},
   "outputs": [
    {
     "name": "stdout",
     "output_type": "stream",
     "text": [
      "mango\n",
      "apple\n",
      "orange\n",
      "grape\n"
     ]
    }
   ],
   "source": [
    "fruits = ['mango', 'apple', 'orange', 'grape']\n",
    "# 인덱스 생략형\n",
    "for value in fruits:\n",
    "    print(value)"
   ]
  },
  {
   "cell_type": "code",
   "execution_count": null,
   "id": "b64aab94",
   "metadata": {},
   "outputs": [],
   "source": [
    "i, v = [1, 'mango']\n",
    "print()"
   ]
  },
  {
   "cell_type": "code",
   "execution_count": 46,
   "id": "6534f6c6",
   "metadata": {},
   "outputs": [
    {
     "name": "stdout",
     "output_type": "stream",
     "text": [
      "0번째 과일은 mango입니다\n",
      "1번째 과일은 apple입니다\n",
      "2번째 과일은 orange입니다\n",
      "3번째 과일은 grape입니다\n"
     ]
    }
   ],
   "source": [
    "# enumerate(나열가능한 자료) : -> (index,값)들의 셋들\n",
    "for idx, value in enumerate(fruits): # <- [0, 'mango'], [1, 'apple'], [2, 'orange'], [3, 'geape']:\n",
    "    print(\"{}번째 과일은 {}입니다\".format(idx, value))"
   ]
  },
  {
   "cell_type": "code",
   "execution_count": 44,
   "id": "a703379b",
   "metadata": {},
   "outputs": [
    {
     "name": "stdout",
     "output_type": "stream",
     "text": [
      "0번째 과일은 mango입니다\n",
      "1번째 과일은 apple입니다\n",
      "2번째 과일은 orange입니다\n",
      "3번째 과일은 geape입니다\n"
     ]
    }
   ],
   "source": [
    "for idx, value in [0, 'mango'], [1, 'apple'], [2, 'orange'], [3, 'geape']:\n",
    "    print(\"{}번째 과일은 {}입니다\".format(idx, value))"
   ]
  },
  {
   "cell_type": "code",
   "execution_count": 47,
   "id": "8ad36d30",
   "metadata": {},
   "outputs": [
    {
     "data": {
      "text/plain": [
       "[(0, 'mango'), (1, 'apple'), (2, 'orange'), (3, 'grape')]"
      ]
     },
     "execution_count": 47,
     "metadata": {},
     "output_type": "execute_result"
    }
   ],
   "source": [
    "list(enumerate(fruits))"
   ]
  },
  {
   "cell_type": "code",
   "execution_count": 57,
   "id": "b6194ca3",
   "metadata": {},
   "outputs": [
    {
     "name": "stdout",
     "output_type": "stream",
     "text": [
      "[0, True, '2', 3, [4, 5, 6]]\n",
      "True\n",
      "5\n"
     ]
    }
   ],
   "source": [
    "# 리스트는 여러 타입의 데이터를 담을 수 있음\n",
    "numbers = [0, True, '2', 3, [4,5,6] ]\n",
    "print(numbers)\n",
    "print(numbers[1])\n",
    "print(numbers[4][1])"
   ]
  },
  {
   "cell_type": "code",
   "execution_count": 86,
   "id": "7fdf14b5",
   "metadata": {},
   "outputs": [
    {
     "data": {
      "text/plain": [
       "(4, 4)"
      ]
     },
     "execution_count": 86,
     "metadata": {},
     "output_type": "execute_result"
    }
   ],
   "source": [
    "# 2차원 리스트\n",
    "numbers_2d = [[90, 91, 92, 93],[80, 81, 92, 83],[70, 71, 72, 73],[60, 1, 5, 7],]\n",
    "len(numbers_2d), len(numbers_2d[0])"
   ]
  },
  {
   "cell_type": "code",
   "execution_count": 64,
   "id": "a7ec6487",
   "metadata": {},
   "outputs": [
    {
     "name": "stdout",
     "output_type": "stream",
     "text": [
      "0 [90, 91, 92, 93]\n",
      "1 [80, 81, 92, 83]\n",
      "2 [70, 71, 72, 73]\n",
      "3 [60, 1, 5, 7]\n"
     ]
    }
   ],
   "source": [
    "for idx, row in enumerate(numbers_2d):\n",
    "    print(idx, row)"
   ]
  },
  {
   "cell_type": "code",
   "execution_count": 65,
   "id": "1ade3a1f",
   "metadata": {},
   "outputs": [
    {
     "name": "stdout",
     "output_type": "stream",
     "text": [
      "0행0열:90\n",
      "0행1열:91\n",
      "0행2열:92\n",
      "0행3열:93\n",
      "1행0열:80\n",
      "1행1열:81\n",
      "1행2열:92\n",
      "1행3열:83\n",
      "2행0열:70\n",
      "2행1열:71\n",
      "2행2열:72\n",
      "2행3열:73\n",
      "3행0열:60\n",
      "3행1열:1\n",
      "3행2열:5\n",
      "3행3열:7\n"
     ]
    }
   ],
   "source": [
    "for i, row in enumerate(numbers_2d):\n",
    "    for j, value in enumerate(row):\n",
    "        print(\"{}행{}열:{}\".format(i, j, value))"
   ]
  },
  {
   "cell_type": "code",
   "execution_count": 68,
   "id": "998d05bb",
   "metadata": {},
   "outputs": [
    {
     "name": "stdout",
     "output_type": "stream",
     "text": [
      "0행0열:90\t0행1열:91\t0행2열:92\t0행3열:93\t1행0열:80\t1행1열:81\t1행2열:92\t1행3열:83\t2행0열:70\t2행1열:71\t2행2열:72\t2행3열:73\t3행0열:60\t3행1열:1\t3행2열:5\t3행3열:7\t"
     ]
    }
   ],
   "source": [
    "for i, row in enumerate(numbers_2d):\n",
    "    for j, value in enumerate(row):\n",
    "        print(\"{}행{}열:{}\".format(i, j, value), end='\\t')"
   ]
  },
  {
   "cell_type": "code",
   "execution_count": 69,
   "id": "8acc1281",
   "metadata": {},
   "outputs": [
    {
     "name": "stdout",
     "output_type": "stream",
     "text": [
      "0행0열:90\t0행1열:91\t0행2열:92\t0행3열:93\t\n",
      "1행0열:80\t1행1열:81\t1행2열:92\t1행3열:83\t\n",
      "2행0열:70\t2행1열:71\t2행2열:72\t2행3열:73\t\n",
      "3행0열:60\t3행1열:1\t3행2열:5\t3행3열:7\t\n"
     ]
    }
   ],
   "source": [
    "for i, row in enumerate(numbers_2d):\n",
    "    for j, value in enumerate(row):\n",
    "        print(\"{}행{}열:{}\".format(i, j, value), end='\\t')\n",
    "    print() # 개행"
   ]
  },
  {
   "cell_type": "code",
   "execution_count": 88,
   "id": "337d954d",
   "metadata": {},
   "outputs": [
    {
     "name": "stdout",
     "output_type": "stream",
     "text": [
      "90\t91\t92\t93\t\n",
      "80\t81\t92\t83\t\n",
      "70\t71\t72\t73\t\n",
      "60\t1\t5\t7\t\n"
     ]
    }
   ],
   "source": [
    "for row in numbers_2d:\n",
    "    for item in row:\n",
    "        print(item, end='\\t')\n",
    "    print()"
   ]
  },
  {
   "cell_type": "markdown",
   "id": "fb468ff3",
   "metadata": {},
   "source": [
    "## 1.2 기본 정보 조회"
   ]
  },
  {
   "cell_type": "code",
   "execution_count": 89,
   "id": "d855b7ba",
   "metadata": {},
   "outputs": [],
   "source": [
    "numbers = [1, 12, 3, 5, 4]\n",
    "numbers_2d = [[100, 0], \n",
    "              [9, 100, 1, 2, 3], \n",
    "              [50, 54]]"
   ]
  },
  {
   "cell_type": "code",
   "execution_count": 90,
   "id": "3e5bb0d6",
   "metadata": {},
   "outputs": [
    {
     "name": "stdout",
     "output_type": "stream",
     "text": [
      "5 3\n"
     ]
    }
   ],
   "source": [
    "# 요소의 수\n",
    "print(len(numbers), len(numbers_2d))"
   ]
  },
  {
   "cell_type": "code",
   "execution_count": 93,
   "id": "a4fb06f9",
   "metadata": {},
   "outputs": [
    {
     "data": {
      "text/plain": [
       "(1, 12)"
      ]
     },
     "execution_count": 93,
     "metadata": {},
     "output_type": "execute_result"
    }
   ],
   "source": [
    "# 최소값, 최대값\n",
    "min(numbers), max(numbers)"
   ]
  },
  {
   "cell_type": "code",
   "execution_count": 95,
   "id": "34e2da1c",
   "metadata": {},
   "outputs": [
    {
     "data": {
      "text/plain": [
       "([9, 100, 1, 2, 3], [100, 0])"
      ]
     },
     "execution_count": 95,
     "metadata": {},
     "output_type": "execute_result"
    }
   ],
   "source": [
    "# 2차원 list의 min() : 0번 인덱스 요소가 가장 작은 값\n",
    "#             max() : 0번 인덱스의 요소가 가장 큰 값\n",
    "min(numbers_2d), max(numbers_2d)"
   ]
  },
  {
   "cell_type": "code",
   "execution_count": 97,
   "id": "76d5ff45",
   "metadata": {},
   "outputs": [
    {
     "data": {
      "text/plain": [
       "('APPLE', 'orange')"
      ]
     },
     "execution_count": 97,
     "metadata": {},
     "output_type": "execute_result"
    }
   ],
   "source": [
    "# 문자 list일 경우 ascii 코드값으로 min(), max() 적용\n",
    "fruits = ['mango', 'apple', 'orange', 'APPLE']\n",
    "min(fruits), max(fruits)"
   ]
  },
  {
   "cell_type": "code",
   "execution_count": 101,
   "id": "976c13b1",
   "metadata": {},
   "outputs": [
    {
     "name": "stdout",
     "output_type": "stream",
     "text": [
      "오름차순 : [1, 3, 4, 5, 12]\n",
      "내림차순 : [12, 5, 4, 3, 1]\n",
      "sorted함수 사용시 리스트 내용리 바뀌지 않음 : [1, 12, 3, 5, 4]\n",
      "합 : 25\n"
     ]
    }
   ],
   "source": [
    "numbers = [1, 12, 3, 5, 4]\n",
    "# 정렬(오름차순, 내림차순)\n",
    "print('오름차순 :', sorted(numbers))\n",
    "print('내림차순 :', sorted(numbers,reverse=True))\n",
    "print('sorted함수 사용시 리스트 내용리 바뀌지 않음 :', numbers)\n",
    "print('합 :', sum(numbers))"
   ]
  },
  {
   "cell_type": "markdown",
   "id": "c2a8759e",
   "metadata": {},
   "source": [
    "## 1.3 요소 추가\n",
    "```\n",
    "+ : 두 리스트 연결\n",
    "* : 리스트를 곱한 수만 반복\n",
    "append() : 리스트 맨 뒤에 요소 추가\n",
    "extend() : 맨 뒤에 리스트를 요소별로 추가\n",
    "insert(idx, 값) : idx번째 인덱스 위치에 추가 (기본 데이터는 shift)\n",
    "```"
   ]
  },
  {
   "cell_type": "code",
   "execution_count": 2,
   "id": "8512ee0f",
   "metadata": {},
   "outputs": [
    {
     "data": {
      "text/plain": [
       "[1, 2, 3, 1, 2, 3]"
      ]
     },
     "execution_count": 2,
     "metadata": {},
     "output_type": "execute_result"
    }
   ],
   "source": [
    "# 연결\n",
    "numbers = [1, 2, 3]\n",
    "numbers = numbers + numbers\n",
    "numbers"
   ]
  },
  {
   "cell_type": "code",
   "execution_count": 3,
   "id": "10bf836a",
   "metadata": {},
   "outputs": [
    {
     "data": {
      "text/plain": [
       "[1, 2, 3, 1, 2, 3]"
      ]
     },
     "execution_count": 3,
     "metadata": {},
     "output_type": "execute_result"
    }
   ],
   "source": [
    "# 반복\n",
    "numbers = [1, 2, 3]\n",
    "numbers = numbers * 2\n",
    "numbers = "
   ]
  },
  {
   "cell_type": "code",
   "execution_count": 4,
   "id": "02eed374",
   "metadata": {},
   "outputs": [
    {
     "name": "stdout",
     "output_type": "stream",
     "text": [
      "[1, 2, 3, 4]\n"
     ]
    }
   ],
   "source": [
    "# 추가\n",
    "numbers = [1, 2, 3]\n",
    "numbers.append(4)\n",
    "print(numbers)"
   ]
  },
  {
   "cell_type": "code",
   "execution_count": 9,
   "id": "21d1f321",
   "metadata": {},
   "outputs": [
    {
     "name": "stdout",
     "output_type": "stream",
     "text": [
      "[1, 2, 3, 4, [4, 5, 6], [4, 5, 6]]\n"
     ]
    }
   ],
   "source": [
    "numbers.append([4,5,6]) # 맨 뒤에 하나의 요소로 추가\n",
    "print(numbers)"
   ]
  },
  {
   "cell_type": "code",
   "execution_count": 8,
   "id": "28ab23d2",
   "metadata": {},
   "outputs": [
    {
     "name": "stdout",
     "output_type": "stream",
     "text": [
      "[1, 2, 3, 4, 5, 6]\n"
     ]
    }
   ],
   "source": [
    "# 요소별로 각각 추가\n",
    "num = [1, 2, 3]\n",
    "num.extend([4,5,6])\n",
    "print(num)"
   ]
  },
  {
   "cell_type": "code",
   "execution_count": 12,
   "id": "f3c2bf09",
   "metadata": {},
   "outputs": [
    {
     "name": "stdout",
     "output_type": "stream",
     "text": [
      "[1, 2, 'x', 'x', 3, 4, 5, 6]\n"
     ]
    }
   ],
   "source": [
    "# 중간에 요소를 추가\n",
    "num.insert(2, 'x')\n",
    "print(num)"
   ]
  },
  {
   "cell_type": "code",
   "execution_count": 14,
   "id": "071c6ad0",
   "metadata": {},
   "outputs": [
    {
     "name": "stdout",
     "output_type": "stream",
     "text": [
      "[1, 2, 3, 4, 5, 6]\n"
     ]
    }
   ],
   "source": [
    "del(num[2])\n",
    "print(num)"
   ]
  },
  {
   "cell_type": "markdown",
   "id": "7932f9ac",
   "metadata": {},
   "source": [
    "## 1.4 인덱싱과 요소 갯수\n",
    "- 변수[index] : 인덱스를 이용한 접근\n",
    "- index(찾을데이터) : 해당 찾을 데이터가 있는 요소의 index를 반환\n",
    "                    찾을 데이터가 없을 경우 오류\n",
    "- count(찾을데이터) : 리스트에서 찾을 데이터의 갯수 반환"
   ]
  },
  {
   "cell_type": "code",
   "execution_count": 17,
   "id": "917f3ee7",
   "metadata": {},
   "outputs": [
    {
     "data": {
      "text/plain": [
       "(2, 0)"
      ]
     },
     "execution_count": 17,
     "metadata": {},
     "output_type": "execute_result"
    }
   ],
   "source": [
    "numbers = [1, 2, 3,(1, 2, 3), 1, 2, 3]\n",
    "numbers.count(2), numbers.count(9)"
   ]
  },
  {
   "cell_type": "code",
   "execution_count": 18,
   "id": "8e6d1db0",
   "metadata": {},
   "outputs": [
    {
     "data": {
      "text/plain": [
       "1"
      ]
     },
     "execution_count": 18,
     "metadata": {},
     "output_type": "execute_result"
    }
   ],
   "source": [
    "numbers.index(2) #0번재 index부터 2가 처음 나오는 index를 반환"
   ]
  },
  {
   "cell_type": "code",
   "execution_count": 19,
   "id": "989e9aad",
   "metadata": {},
   "outputs": [
    {
     "data": {
      "text/plain": [
       "5"
      ]
     },
     "execution_count": 19,
     "metadata": {},
     "output_type": "execute_result"
    }
   ],
   "source": [
    "numbers.index(2, 3) # 3번째 index부터 2가 나오는 index를 반환"
   ]
  },
  {
   "cell_type": "code",
   "execution_count": 20,
   "id": "c4fe60ff",
   "metadata": {},
   "outputs": [
    {
     "data": {
      "text/plain": [
       "4"
      ]
     },
     "execution_count": 20,
     "metadata": {},
     "output_type": "execute_result"
    }
   ],
   "source": [
    "numbers.index(1, 2)"
   ]
  },
  {
   "cell_type": "code",
   "execution_count": 30,
   "id": "85c60aa8",
   "metadata": {},
   "outputs": [
    {
     "ename": "TypeError",
     "evalue": "'list' object is not callable",
     "output_type": "error",
     "traceback": [
      "\u001b[1;31m---------------------------------------------------------------------------\u001b[0m",
      "\u001b[1;31mTypeError\u001b[0m                                 Traceback (most recent call last)",
      "Cell \u001b[1;32mIn[30], line 2\u001b[0m\n\u001b[0;32m      1\u001b[0m \u001b[38;5;66;03m# numbers.index(9)\u001b[39;00m\n\u001b[1;32m----> 2\u001b[0m \u001b[43mnumbers\u001b[49m\u001b[43m(\u001b[49m\u001b[38;5;241;43m20\u001b[39;49m\u001b[43m)\u001b[49m\n",
      "\u001b[1;31mTypeError\u001b[0m: 'list' object is not callable"
     ]
    }
   ],
   "source": [
    "# numbers.index(9)\n",
    "# numbers(20)"
   ]
  },
  {
   "cell_type": "code",
   "execution_count": 22,
   "id": "8c7f031e",
   "metadata": {},
   "outputs": [
    {
     "name": "stdout",
     "output_type": "stream",
     "text": [
      "9가 없어요\n"
     ]
    }
   ],
   "source": [
    "if 9 in numbers:\n",
    "    print(numbers.index(9))\n",
    "else:\n",
    "    print('9가 없어요')"
   ]
  },
  {
   "cell_type": "code",
   "execution_count": 23,
   "id": "61ad6405",
   "metadata": {},
   "outputs": [
    {
     "data": {
      "text/plain": [
       "False"
      ]
     },
     "execution_count": 23,
     "metadata": {},
     "output_type": "execute_result"
    }
   ],
   "source": [
    "9 in numbers # numbers 리스트에 9가 존재하는지 여부"
   ]
  },
  {
   "cell_type": "code",
   "execution_count": 25,
   "id": "36a053c0",
   "metadata": {},
   "outputs": [],
   "source": [
    "def safe_index(lst, date):\n",
    "    if date in lst: # lst안에 date가 있는지 여부\n",
    "        return lst.index(date)\n",
    "    else:\n",
    "        return -1"
   ]
  },
  {
   "cell_type": "code",
   "execution_count": 29,
   "id": "d2cdf0a6",
   "metadata": {},
   "outputs": [
    {
     "data": {
      "text/plain": [
       "-1"
      ]
     },
     "execution_count": 29,
     "metadata": {},
     "output_type": "execute_result"
    }
   ],
   "source": [
    "safe_index(numbers, 9)"
   ]
  },
  {
   "cell_type": "markdown",
   "id": "faf284f7",
   "metadata": {},
   "source": [
    "## 1.5 원하는 요소 추출\n",
    "1. 리스트 슬라이싱 :  리스트에서 원하는 index의 데이터를 추출(인덱스 범위 벗어나도 에러 안 남)\n",
    "    - [from:stop:step] from 부터 stop 앞까지 step씩 증가한ㄴ index의 값을 추출\n",
    "    - from 생략시 처음. stop 생략시 끝. step 생략시 1. 모두 생략 가능\n",
    "    - 음수 인덱스 가능\n",
    "    \n",
    "2. <font color='red'> 리스트 컴프리헨션(list comprehension)</font> : 리스트에서 원하는 데이터를 추출"
   ]
  },
  {
   "cell_type": "code",
   "execution_count": 33,
   "id": "f9c6f3f9",
   "metadata": {},
   "outputs": [
    {
     "name": "stdout",
     "output_type": "stream",
     "text": [
      "[1, 5, 10, 13]\n",
      "[20, 13, 12, 10, 9, 5, 3, 1]\n"
     ]
    }
   ],
   "source": [
    "numbers = [1, 3, 5, 9, 10, 12, 13, 20]\n",
    "# 짝수번째 인덱스 값 출력\n",
    "print(numbers[::2])\n",
    "# 꺼꾸로 출력\n",
    "print(numbers[::-1])"
   ]
  },
  {
   "cell_type": "code",
   "execution_count": 34,
   "id": "134c5065",
   "metadata": {},
   "outputs": [
    {
     "name": "stdout",
     "output_type": "stream",
     "text": [
      "[10, 12, 20]\n"
     ]
    }
   ],
   "source": [
    "numbers = [1, 3, 5, 9, 10, 12, 13, 20]\n",
    "# 리스트에서 짝수 데이터만 변수에  담아 출력하시오.\n",
    "result = []\n",
    "for date in numbers:\n",
    "    if date%2==0: # if not date%2:\n",
    "        result.append(date)\n",
    "print(result)"
   ]
  },
  {
   "cell_type": "code",
   "execution_count": 36,
   "id": "ad736024",
   "metadata": {},
   "outputs": [
    {
     "name": "stdout",
     "output_type": "stream",
     "text": [
      "[1, 3, 5, 9, 10, 12, 13, 20]\n"
     ]
    }
   ],
   "source": [
    "# 리스트에서 모든 데이터를 변수에 담아 출력하시오.\n",
    "result = []\n",
    "for date in numbers:\n",
    "    result.append(date)\n",
    "print(result)"
   ]
  },
  {
   "cell_type": "markdown",
   "id": "66bab420",
   "metadata": {},
   "source": [
    "### 리스트컴프이리헨션"
   ]
  },
  {
   "cell_type": "code",
   "execution_count": 37,
   "id": "4e482b63",
   "metadata": {},
   "outputs": [
    {
     "data": {
      "text/plain": [
       "[1, 3, 5, 9, 10, 12, 13, 20]"
      ]
     },
     "execution_count": 37,
     "metadata": {},
     "output_type": "execute_result"
    }
   ],
   "source": [
    "# numbers의 모든 데이터를 리스트컴프리헨션으로 추출\n",
    "[date for date in numbers]"
   ]
  },
  {
   "cell_type": "code",
   "execution_count": 38,
   "id": "adec055b",
   "metadata": {},
   "outputs": [
    {
     "data": {
      "text/plain": [
       "[10, 12, 20]"
      ]
     },
     "execution_count": 38,
     "metadata": {},
     "output_type": "execute_result"
    }
   ],
   "source": [
    "# numbers의 짝수 데이터를 리스트컴프리헨션으로 추출\n",
    "[date for date in numbers if date%2==0]"
   ]
  },
  {
   "cell_type": "markdown",
   "id": "27b390a2",
   "metadata": {},
   "source": [
    "### 연습문제"
   ]
  },
  {
   "cell_type": "code",
   "execution_count": 50,
   "id": "35db096d",
   "metadata": {},
   "outputs": [
    {
     "data": {
      "text/plain": [
       "[10, 12, 13, 20]"
      ]
     },
     "execution_count": 50,
     "metadata": {},
     "output_type": "execute_result"
    }
   ],
   "source": [
    "# ex1. numbers에서 10이상만 추출\n",
    "numbers = [1, 3, 5, 9, 10, 12, 13, 20]\n",
    "[ten for ten in numbers if ten>9]"
   ]
  },
  {
   "cell_type": "code",
   "execution_count": 51,
   "id": "bae55550",
   "metadata": {},
   "outputs": [
    {
     "data": {
      "text/plain": [
       "['orange']"
      ]
     },
     "execution_count": 51,
     "metadata": {},
     "output_type": "execute_result"
    }
   ],
   "source": [
    "# ex2.fruits에서 5글자가 넘는 과일만 추출\n",
    "fruits = ['orange', 'apple', 'mango', 'kiwi']\n",
    "[fruit for fruit in fruits if len(fruit)>5]"
   ]
  },
  {
   "cell_type": "code",
   "execution_count": 56,
   "id": "f4886ee5",
   "metadata": {},
   "outputs": [
    {
     "data": {
      "text/plain": [
       "[9, 16, 25]"
      ]
     },
     "execution_count": 56,
     "metadata": {},
     "output_type": "execute_result"
    }
   ],
   "source": [
    "# ex3. 3이상의 요소들의 제곱을 추출\n",
    "L = [1, 2, 3, 4, 5]\n",
    "[item**2 for item in L if item>=3]"
   ]
  },
  {
   "cell_type": "markdown",
   "id": "2decbc03",
   "metadata": {},
   "source": [
    "## 1.6 요소 수정하기"
   ]
  },
  {
   "cell_type": "code",
   "execution_count": 67,
   "id": "e76b2819",
   "metadata": {},
   "outputs": [
    {
     "data": {
      "text/plain": [
       "[0, 1, 222, 3, 4, 5, 6, 7, 8, 9]"
      ]
     },
     "execution_count": 67,
     "metadata": {},
     "output_type": "execute_result"
    }
   ],
   "source": [
    "numbers = [0, 1, 2, 3, 4, 5, 6, 7, 8, 9]\n",
    "# 인덱스를 이용해서 요소 수정\n",
    "numbers[2]=222\n",
    "numbers"
   ]
  },
  {
   "cell_type": "code",
   "execution_count": 70,
   "id": "db70b7a9",
   "metadata": {},
   "outputs": [
    {
     "data": {
      "text/plain": [
       "[0, 'x', 'y', 'z', 'ㅋ', 'ㅎ', 4, 5, 6, 7, 8, 9]"
      ]
     },
     "execution_count": 70,
     "metadata": {},
     "output_type": "execute_result"
    }
   ],
   "source": [
    "# 슬라이싱을 이용해서 요소 수정 (step 부분이 미포함 : 부분 리스트가 통째로 수정)\n",
    "numbers[1:4] = ['x', 'y', 'z', 'ㅋ', 'ㅎ']\n",
    "numbers"
   ]
  },
  {
   "cell_type": "code",
   "execution_count": 69,
   "id": "5465171d",
   "metadata": {},
   "outputs": [
    {
     "data": {
      "text/plain": [
       "[0, 'x', 'ㅋ', 'ㅎ', 4, 5, 6, 7, 8, 9]"
      ]
     },
     "execution_count": 69,
     "metadata": {},
     "output_type": "execute_result"
    }
   ],
   "source": [
    "numbers[1:4] = ['x']\n",
    "numbers"
   ]
  },
  {
   "cell_type": "code",
   "execution_count": 72,
   "id": "8616b4a4",
   "metadata": {},
   "outputs": [
    {
     "data": {
      "text/plain": [
       "['x', 1, 'y', 3, 'z', 5, 'w', 7, '9', 9]"
      ]
     },
     "execution_count": 72,
     "metadata": {},
     "output_type": "execute_result"
    }
   ],
   "source": [
    "# 슬라이싱을 이용해서 요소 수정(step부분 포함 : 요소 갯수가 맞아야 함)\n",
    "numbers = [0, 1, 2, 3, 4, 5, 6, 7, 8, 9]\n",
    "numbers[::2] = ['x', 'y', 'z', 'w', '9']\n",
    "numbers"
   ]
  },
  {
   "cell_type": "code",
   "execution_count": 74,
   "id": "9b0e8232",
   "metadata": {},
   "outputs": [
    {
     "data": {
      "text/plain": [
       "['x', 1, 'x', 3, 'x', 5, 'x', 7, 'x', 9]"
      ]
     },
     "execution_count": 74,
     "metadata": {},
     "output_type": "execute_result"
    }
   ],
   "source": [
    "numbers = [0, 1, 2, 3, 4, 5, 6, 7, 8, 9]\n",
    "numbers[::2] = ['x']*5\n",
    "numbers"
   ]
  },
  {
   "cell_type": "markdown",
   "id": "ff36912d",
   "metadata": {},
   "source": [
    "## 1.7 요소 삭제\n",
    "- pop() : 가장 마지막 인덱스 요소가 반환되고 삭제\n",
    "- pop(idx) : idx번째 요소가 반환되고 삭제\n",
    "- remove(지울date) : 리스트만의 date가 삭제\n",
    "- del 변수[idx] : idx번째 요소가 삭제"
   ]
  },
  {
   "cell_type": "code",
   "execution_count": 79,
   "id": "0cf69109",
   "metadata": {},
   "outputs": [
    {
     "name": "stdout",
     "output_type": "stream",
     "text": [
      "삭제된 데이터는 : 5, 리스트 : [1, 2, 3, 4]\n"
     ]
    }
   ],
   "source": [
    "numbers = [1, 2, 3, 4, 5]\n",
    "delate_date = numbers.pop()\n",
    "print(\"삭제된 데이터는 : {}, 리스트 : {}\".format(delate_date, numbers))"
   ]
  },
  {
   "cell_type": "code",
   "execution_count": 80,
   "id": "ab82d169",
   "metadata": {},
   "outputs": [
    {
     "name": "stdout",
     "output_type": "stream",
     "text": [
      "삭제된 데이터는 : 1, 리스트 : [2, 3, 4]\n"
     ]
    }
   ],
   "source": [
    "delate_date2 = numbers.pop(0)\n",
    "print(\"삭제된 데이터는 : {}, 리스트 : {}\".format(delate_date2, numbers))"
   ]
  },
  {
   "cell_type": "code",
   "execution_count": 81,
   "id": "5566c21e",
   "metadata": {},
   "outputs": [
    {
     "name": "stdout",
     "output_type": "stream",
     "text": [
      "numbers :  [1, 2, 4, 5]\n"
     ]
    }
   ],
   "source": [
    "numbers = [1, 2, 3, 4, 5]\n",
    "del numbers[2]\n",
    "print('numbers : ', numbers)"
   ]
  },
  {
   "cell_type": "code",
   "execution_count": 86,
   "id": "bf0f87da",
   "metadata": {},
   "outputs": [
    {
     "name": "stdout",
     "output_type": "stream",
     "text": [
      "None\n",
      "[1, 2, 4, 5]\n"
     ]
    }
   ],
   "source": [
    "numbers = [1, 2, 3, 4, 5]\n",
    "# remove()는 반환값이 없고, 데이터만 삭제, 해당 데이터가 없으면 오류\n",
    "numbers.remove(3)\n",
    "print(del_num)\n",
    "print(numbers)"
   ]
  },
  {
   "cell_type": "code",
   "execution_count": 87,
   "id": "720de6c8",
   "metadata": {},
   "outputs": [
    {
     "ename": "ValueError",
     "evalue": "list.remove(x): x not in list",
     "output_type": "error",
     "traceback": [
      "\u001b[1;31m---------------------------------------------------------------------------\u001b[0m",
      "\u001b[1;31mValueError\u001b[0m                                Traceback (most recent call last)",
      "Cell \u001b[1;32mIn[87], line 1\u001b[0m\n\u001b[1;32m----> 1\u001b[0m \u001b[43mnumbers\u001b[49m\u001b[38;5;241;43m.\u001b[39;49m\u001b[43mremove\u001b[49m\u001b[43m(\u001b[49m\u001b[38;5;241;43m9\u001b[39;49m\u001b[43m)\u001b[49m\n",
      "\u001b[1;31mValueError\u001b[0m: list.remove(x): x not in list"
     ]
    }
   ],
   "source": [
    "numbers.remove(9)"
   ]
  },
  {
   "cell_type": "code",
   "execution_count": 88,
   "id": "75f32a08",
   "metadata": {},
   "outputs": [
    {
     "name": "stdout",
     "output_type": "stream",
     "text": [
      "해당 데이터가 없습니다\n"
     ]
    }
   ],
   "source": [
    "if 9 in numbers:\n",
    "    numbers.remove(9)\n",
    "else:\n",
    "    print('해당 데이터가 없습니다')"
   ]
  },
  {
   "cell_type": "code",
   "execution_count": 89,
   "id": "b6e91a18",
   "metadata": {},
   "outputs": [],
   "source": [
    "def safe_remove(lst, remove_date):\n",
    "    if remove_date in lst:\n",
    "        lst.remove(remove_date)\n",
    "        print(remove_date, '삭제 완료')\n",
    "    else:\n",
    "        print(f'{remove_date}는 없는 아이템입니다')"
   ]
  },
  {
   "cell_type": "code",
   "execution_count": 92,
   "id": "28b7b965",
   "metadata": {},
   "outputs": [
    {
     "name": "stdout",
     "output_type": "stream",
     "text": [
      "9는 없는 아이템입니다\n",
      "5 삭제 완료\n"
     ]
    }
   ],
   "source": [
    "safe_remove(numbers, 9)\n",
    "safe_remove(numbers, 5)"
   ]
  },
  {
   "cell_type": "code",
   "execution_count": 93,
   "id": "0f857277",
   "metadata": {},
   "outputs": [
    {
     "data": {
      "text/plain": [
       "[1, 2, 4]"
      ]
     },
     "execution_count": 93,
     "metadata": {},
     "output_type": "execute_result"
    }
   ],
   "source": [
    "numbers"
   ]
  },
  {
   "cell_type": "markdown",
   "id": "f4c5b0f5",
   "metadata": {},
   "source": [
    "## 1.8 정렬하기"
   ]
  },
  {
   "cell_type": "code",
   "execution_count": 3,
   "id": "ca1e3597",
   "metadata": {},
   "outputs": [
    {
     "name": "stdout",
     "output_type": "stream",
     "text": [
      "numbers는 변경하지 않고 정렬 : [0, 1, 5, 8, 9]\n",
      "numbers :  [1, 9, 5, 0, 8]\n"
     ]
    }
   ],
   "source": [
    "numbers = [1, 9, 5, 0, 8]\n",
    "print('numbers는 변경하지 않고 정렬 :', sorted(numbers))\n",
    "print('numbers : ', numbers)"
   ]
  },
  {
   "cell_type": "code",
   "execution_count": 5,
   "id": "a4341296",
   "metadata": {},
   "outputs": [
    {
     "name": "stdout",
     "output_type": "stream",
     "text": [
      "[0, 1, 5, 8, 9]\n"
     ]
    }
   ],
   "source": [
    "numbers.sort() # numbers 자체가 정렬한 결과로 바뀜(기본정렬:오름차순)\n",
    "print(numbers)"
   ]
  },
  {
   "cell_type": "code",
   "execution_count": 7,
   "id": "a890d7f9",
   "metadata": {},
   "outputs": [
    {
     "name": "stdout",
     "output_type": "stream",
     "text": [
      "[9, 8, 5, 1, 0]\n"
     ]
    }
   ],
   "source": [
    "numbers.reverse() # numbers 자체가 역순으로 변경 (차순으로 정렬 X)\n",
    "print(numbers)"
   ]
  },
  {
   "cell_type": "code",
   "execution_count": 8,
   "id": "8a4015dc",
   "metadata": {},
   "outputs": [
    {
     "name": "stdout",
     "output_type": "stream",
     "text": [
      "[9, 8, 5, 1, 0]\n"
     ]
    }
   ],
   "source": [
    "numbers = [1, 9, 5, 0, 8]\n",
    "numbers.sort(reverse=True)\n",
    "print(numbers)"
   ]
  },
  {
   "cell_type": "code",
   "execution_count": 4,
   "id": "ec76a8e2",
   "metadata": {},
   "outputs": [
    {
     "data": {
      "text/plain": [
       "[9, 5, 2]"
      ]
     },
     "execution_count": 4,
     "metadata": {},
     "output_type": "execute_result"
    }
   ],
   "source": [
    "lst = [2, 5, 9]\n",
    "# lst = reverse=True\n",
    "lst= lst[::-1]\n",
    "lst"
   ]
  },
  {
   "cell_type": "markdown",
   "id": "f4899812",
   "metadata": {},
   "source": [
    "## 1.9 복제하기"
   ]
  },
  {
   "cell_type": "code",
   "execution_count": 8,
   "id": "af98210c",
   "metadata": {},
   "outputs": [
    {
     "name": "stdout",
     "output_type": "stream",
     "text": [
      "원본 = 10, 복사본 = 10 / 원본주소=1358850949648, 복사본주소=1358850949648\n",
      "원본 = 10, 본사본 = 99 / 원본주소=1358850949648, 본사본주소=1358850952496\n"
     ]
    }
   ],
   "source": [
    "# 스칼라 데이터의 복제\n",
    "i = 10     # 원본\n",
    "copy_i = i # 복제본\n",
    "print(f\"원본 = {i}, 복사본 = {copy_i} / 원본주소={id(i)}, 복사본주소={id(copy_i)}\")\n",
    "copy_i = 99\n",
    "print(f'원본 = {i}, 본사본 = {copy_i} / 원본주소={id(i)}, 본사본주소={id(copy_i)}')"
   ]
  },
  {
   "cell_type": "code",
   "execution_count": 10,
   "id": "5106409a",
   "metadata": {},
   "outputs": [
    {
     "name": "stdout",
     "output_type": "stream",
     "text": [
      "원본 :  [9, 8, 1]\n",
      "복제본 :  [9, 8, 1]\n"
     ]
    }
   ],
   "source": [
    "# 리스트(배열, 데이터프레임, 딕셔너리)의 복제 (절대 안 됨)\n",
    "numbers = [5, 8, 1]  #원본\n",
    "new_numbers = numbers  #본제본\n",
    "new_numbers[0] = 9\n",
    "print('원본 : ', numbers)\n",
    "print('복제본 : ', new_numbers)"
   ]
  },
  {
   "cell_type": "code",
   "execution_count": 12,
   "id": "b22f4b6f",
   "metadata": {},
   "outputs": [
    {
     "name": "stdout",
     "output_type": "stream",
     "text": [
      "원본 : [5, 8, 1], 복제본 : [5, 8, 1]\n",
      "원본주소=1358960899264, 복제본주소=1358960899264\n",
      "복제본만 지지고 볶고\n",
      "원본 : [-99, 1, 8], 복제본 : [-99, 1, 8]\n",
      "원본주소=1358960899264, 복제본주소=1358960899264\n"
     ]
    }
   ],
   "source": [
    "# 얕은 복사 (할당) / 깊은 복사(복제)\n",
    "numbers = [5, 8, 1] # 원본\n",
    "new_numbers = numbers # 얕은 복사(할당)\n",
    "print(f'원본 : {numbers}, 복제본 : {new_numbers}')\n",
    "print(f'원본주소={id(numbers)}, 복제본주소={id(new_numbers)}')\n",
    "new_numbers[0] = -99\n",
    "new_numbers.sort()\n",
    "print('복제본만 지지고 볶고')\n",
    "print(f'원본 : {numbers}, 복제본 : {new_numbers}')\n",
    "print(f'원본주소={id(numbers)}, 복제본주소={id(new_numbers)}')"
   ]
  },
  {
   "cell_type": "code",
   "execution_count": 19,
   "id": "e7cb0b9e",
   "metadata": {},
   "outputs": [
    {
     "name": "stdout",
     "output_type": "stream",
     "text": [
      "원본 : [5, 8, 1], 복제본 : [5, 8, 1]\n",
      "원본주소=1358968143936, 복제본주소=1358966846784\n",
      "복제본만 지지고 볶고\n",
      "원본 : [5, 8, 1], 복제본 : [1]\n",
      "원본주소=1358968143936, 복제본주소=1358966846784\n"
     ]
    }
   ],
   "source": [
    "# 깊은 복사(복제)\n",
    "numbers = [5, 8, 1] # 원본\n",
    "new_numbers = numbers.copy()  #깊은 복사(복제)\n",
    "print(f'원본 : {numbers}, 복제본 : {new_numbers}')\n",
    "print(f'원본주소={id(numbers)}, 복제본주소={id(new_numbers)}')\n",
    "new_numbers[0] = -99\n",
    "new_numbers.sort()\n",
    "new_numbers.remove(-99)\n",
    "new_numbers.pop(1)\n",
    "print('복제본만 지지고 볶고')\n",
    "print(f'원본 : {numbers}, 복제본 : {new_numbers}')\n",
    "print(f'원본주소={id(numbers)}, 복제본주소={id(new_numbers)}')"
   ]
  },
  {
   "cell_type": "code",
   "execution_count": 20,
   "id": "55c0ad1a",
   "metadata": {},
   "outputs": [
    {
     "data": {
      "text/plain": [
       "[]"
      ]
     },
     "execution_count": 20,
     "metadata": {},
     "output_type": "execute_result"
    }
   ],
   "source": [
    "numbers.clear() # 리스트의 요소를 모두 삭제\n",
    "numbers"
   ]
  },
  {
   "cell_type": "markdown",
   "id": "ee16d0e3",
   "metadata": {},
   "source": [
    "# 2절. 튜플\n",
    "- 리스트와 유사하지만, 읽기전용, 수정이 필요없는 데이터에서 사용\n",
    "- 수정불가하므로, 튜플에 데이터 수정, 추가, 삭제 불가 (제공되는 함수도 많지 않음)\n",
    "- (), tuple() 이용해서 생성"
   ]
  },
  {
   "cell_type": "code",
   "execution_count": 22,
   "id": "fd6258ae",
   "metadata": {},
   "outputs": [
    {
     "name": "stdout",
     "output_type": "stream",
     "text": [
      "<class 'tuple'>\n",
      "('서울', '부산', '인청', '목표')\n"
     ]
    }
   ],
   "source": [
    "# city = ('서울', '부산', '인천', '목표')\n",
    "# 파이썬은 여러개의 값이 전달될 때 튜플 타입으로 전달\n",
    "city = '서울', '부산', '인청', '목표'\n",
    "print(type(city))\n",
    "print(city)"
   ]
  },
  {
   "cell_type": "code",
   "execution_count": 25,
   "id": "e87781d7",
   "metadata": {},
   "outputs": [
    {
     "data": {
      "text/plain": [
       "'서울 = 부산 = 인청 = 목표'"
      ]
     },
     "execution_count": 25,
     "metadata": {},
     "output_type": "execute_result"
    }
   ],
   "source": [
    "# city = ['서울', '부산', '인청', '목표']\n",
    "city = ('서울', '부산', '인청', '목표')\n",
    "' = '.join(city)"
   ]
  },
  {
   "cell_type": "code",
   "execution_count": 35,
   "id": "ed6f1408",
   "metadata": {},
   "outputs": [
    {
     "name": "stdout",
     "output_type": "stream",
     "text": [
      "<class 'list'> ['서울']\n"
     ]
    }
   ],
   "source": [
    "l = ['서울', ] # 요소가 하나 있는 리스트\n",
    "print(type(l), l)"
   ]
  },
  {
   "cell_type": "code",
   "execution_count": 33,
   "id": "188b325d",
   "metadata": {},
   "outputs": [
    {
     "name": "stdout",
     "output_type": "stream",
     "text": [
      "<class 'tuple'> ('서울',)\n"
     ]
    }
   ],
   "source": [
    "t = ('서울', ) # 요소가 하나 있는 튜플(, 반드시 기입)\n",
    "print(type(t), t)"
   ]
  },
  {
   "cell_type": "code",
   "execution_count": 39,
   "id": "4bdcd756",
   "metadata": {},
   "outputs": [
    {
     "data": {
      "text/plain": [
       "(1, 3, 6, [3, 2, 1])"
      ]
     },
     "execution_count": 39,
     "metadata": {},
     "output_type": "execute_result"
    }
   ],
   "source": [
    "numbers = (1, 2, 3)\n",
    "# numbers.remove(3) 수정하기 위한 함수는 제공되지 않음\n",
    "# numbers.append(4)\n",
    "# numbers.pop()\n",
    "# numbers.sort()\n",
    "min(numbers), max(numbers), sum(numbers), sorted(numbers, reverse=True)"
   ]
  },
  {
   "cell_type": "code",
   "execution_count": 40,
   "id": "f988109e",
   "metadata": {},
   "outputs": [
    {
     "data": {
      "text/plain": [
       "(2, 0)"
      ]
     },
     "execution_count": 40,
     "metadata": {},
     "output_type": "execute_result"
    }
   ],
   "source": [
    "numbers = (0, 1, 2, (1, 2), 0 ,1, 2)\n",
    "numbers.count(2), numbers.count(9)"
   ]
  },
  {
   "cell_type": "code",
   "execution_count": 54,
   "id": "dab665f0",
   "metadata": {},
   "outputs": [
    {
     "name": "stdout",
     "output_type": "stream",
     "text": [
      "9 요소가 없습니다\n"
     ]
    }
   ],
   "source": [
    "if 9 in numbers:\n",
    "    numbers.index(9)\n",
    "else:\n",
    "    print('9 요소가 없습니다')"
   ]
  },
  {
   "cell_type": "code",
   "execution_count": 57,
   "id": "ffe7973b",
   "metadata": {},
   "outputs": [],
   "source": [
    "# def safe_index(lst, item):\n",
    "#     \"\"\"\n",
    "#     lst안에 item 요소가 있으면 item 요소의 index를 반환, 없으면 -1반환\n",
    "#     lst : 나열가능한 데이터\n",
    "#     item : 찾을 데이터\n",
    "#     \"\"\"\n",
    "#     if item in lst:\n",
    "#         return lst.index(item)\n",
    "#     else:\n",
    "#         return -1\n",
    "#     return lst,index(item) if item in lst else -1"
   ]
  },
  {
   "cell_type": "code",
   "execution_count": 3,
   "id": "9d2caa00",
   "metadata": {},
   "outputs": [
    {
     "data": {
      "text/plain": [
       "(-1, 2)"
      ]
     },
     "execution_count": 3,
     "metadata": {},
     "output_type": "execute_result"
    }
   ],
   "source": [
    "from safe import safe_index\n",
    "numbers = (0, 1, 2, (1, 2), 0 ,1, 2)\n",
    "safe_index(numbers, 9), safe_index(numbers, 2)"
   ]
  },
  {
   "cell_type": "code",
   "execution_count": 4,
   "id": "2563fbad",
   "metadata": {},
   "outputs": [
    {
     "data": {
      "text/plain": [
       "(0, 1, 2, (1, 2), 0, 1, 2, 0, 1, 2, (1, 2), 0, 1, 2, 0, 1, 2, (1, 2), 0, 1, 2)"
      ]
     },
     "execution_count": 4,
     "metadata": {},
     "output_type": "execute_result"
    }
   ],
   "source": [
    "numbers * 3 # 반복"
   ]
  },
  {
   "cell_type": "code",
   "execution_count": 11,
   "id": "2c625f39",
   "metadata": {},
   "outputs": [
    {
     "name": "stdout",
     "output_type": "stream",
     "text": [
      "(4, 16, 36)\n"
     ]
    }
   ],
   "source": [
    "# ex. 짝수 요소들을 추출하여 제곱한 데이터를 출력\n",
    "numbers = (1, 2, 3, 4, 5, 6)\n",
    "lst = tuple([num**2 for num in numbers if num%2==0])\n",
    "print(lst)"
   ]
  },
  {
   "cell_type": "code",
   "execution_count": 12,
   "id": "9fcd73ee",
   "metadata": {},
   "outputs": [
    {
     "name": "stdout",
     "output_type": "stream",
     "text": [
      "[12, 14, 16, 18]\n"
     ]
    }
   ],
   "source": [
    "numbers = (1, 2, 3, 4, 5, 6, 7, 8, 9)\n",
    "lst = [a*2 for a in numbers if a>5]\n",
    "print(lst)"
   ]
  },
  {
   "cell_type": "markdown",
   "id": "a2ba04e6",
   "metadata": {},
   "source": [
    "# 3절. 딕셔너리\n",
    "- 중괄호{}를 이용해서, 키(key)-값(value) 쌍으로 구성된 자료구조\n",
    "- 키는 중복불가(유일한 값). 키에 list는 사용불가.\n",
    "- 값은 중복가능\n",
    "- 인덱스을 이용한 참조 지원 안 함"
   ]
  },
  {
   "cell_type": "code",
   "execution_count": 16,
   "id": "0294f069",
   "metadata": {},
   "outputs": [
    {
     "name": "stdout",
     "output_type": "stream",
     "text": [
      "<class 'dict'>\n",
      "{'name': '홍길동', 1: 22, (1, 2): [1, 2]}\n",
      "데이터 갯수 :  3\n"
     ]
    }
   ],
   "source": [
    "dic = {'name':'홍길동', 1:22, (1,2):[1,2]}\n",
    "print(type(dic))\n",
    "print(dic)\n",
    "print('데이터 갯수 : ', len(dic))"
   ]
  },
  {
   "cell_type": "code",
   "execution_count": 15,
   "id": "d9f854a9",
   "metadata": {},
   "outputs": [
    {
     "name": "stdout",
     "output_type": "stream",
     "text": [
      "<class 'set'>\n"
     ]
    }
   ],
   "source": [
    "s = {'name','홍길동',1}\n",
    "print(type(s))"
   ]
  },
  {
   "cell_type": "code",
   "execution_count": 17,
   "id": "0aa606a4",
   "metadata": {},
   "outputs": [
    {
     "data": {
      "text/plain": [
       "{'fruit': 'apple', 'number': 12, 'sport': 'golf'}"
      ]
     },
     "execution_count": 17,
     "metadata": {},
     "output_type": "execute_result"
    }
   ],
   "source": [
    "my_favorite = {'fruit':'apple', 'number':12, 'sport':'golf'}\n",
    "my_favorite"
   ]
  },
  {
   "cell_type": "code",
   "execution_count": 21,
   "id": "2821b628",
   "metadata": {},
   "outputs": [
    {
     "name": "stdout",
     "output_type": "stream",
     "text": [
      "apple\n",
      "apple\n"
     ]
    }
   ],
   "source": [
    "print(my_favorite['fruit'])\n",
    "print(my_favorite.get('fruit')) # ★"
   ]
  },
  {
   "cell_type": "code",
   "execution_count": 25,
   "id": "62958c88",
   "metadata": {},
   "outputs": [
    {
     "name": "stdout",
     "output_type": "stream",
     "text": [
      "None\n",
      "-\n"
     ]
    }
   ],
   "source": [
    "# print(my_favorite['people']) # 없는 키값을 인덱스 대이터를 참조시 에러\n",
    "print(my_favorite.get('people')) # 없는 키를 get 함수로 참조시 None\n",
    "print(my_favorite.get('prople', '-')) # 없는 키를 get 함수로 참조시 '-'"
   ]
  },
  {
   "cell_type": "code",
   "execution_count": 31,
   "id": "5ebf5998",
   "metadata": {},
   "outputs": [
    {
     "name": "stdout",
     "output_type": "stream",
     "text": [
      "fruit 수정후 : {'fruit': 'mango', 'number': 12, 'sport': 'golf'}\n",
      "my_favorite 추가 후 :  {'fruit': 'mango', 'number': 12, 'sport': 'golf', 'people': '홍길동'}\n",
      "fruit 제거후 : {'number': 12, 'sport': 'golf', 'people': '홍길동'}\n",
      "remove_date :  12\n",
      "remove 제거 후 딕셔너리 :  {'sport': 'golf', 'people': '홍길동'}\n"
     ]
    }
   ],
   "source": [
    "# 딕셔너리 수정\n",
    "my_favorite = {'fruit':'apple', 'number':12, 'sport':'golf'}\n",
    "my_favorite['fruit'] = 'mango' # fruit 데이터 수정\n",
    "print('fruit 수정후 :', my_favorite)\n",
    "my_favorite['people'] = '홍길동'  # 데이터 추가\n",
    "print('my_favorite 추가 후 : ', my_favorite)\n",
    "del my_favorite['fruit']\n",
    "print('fruit 제거후 :', my_favorite)\n",
    "remove_date = my_favorite.pop('number') #remove 키의 값을 반환하고 제거\n",
    "print('remove_date : ', remove_date)\n",
    "print('remove 제거 후 딕셔너리 : ', my_favorite)"
   ]
  },
  {
   "cell_type": "code",
   "execution_count": 32,
   "id": "4adff0c0",
   "metadata": {},
   "outputs": [],
   "source": [
    "# for 문을 이용한 튜플(리스트) 출력\n",
    "my_tup = ('홍길동', 30, '010-9999-9999')"
   ]
  },
  {
   "cell_type": "code",
   "execution_count": 34,
   "id": "482e26d6",
   "metadata": {},
   "outputs": [
    {
     "name": "stdout",
     "output_type": "stream",
     "text": [
      "홍길동\t30\t010-9999-9999\t\n",
      "0번째 홍길동\t1번째 30\t2번째 010-9999-9999\t\n",
      "0번째 홍길동\t1번째 30\t2번째 010-9999-9999\t"
     ]
    }
   ],
   "source": [
    "for date in my_tup:\n",
    "    print(date, end='\\t')\n",
    "print()\n",
    "for idx in range(len(my_tup)):\n",
    "    print(f'{idx}번째 {my_tup[idx]}', end='\\t')\n",
    "print()\n",
    "for idx, value in enumerate(my_tup):\n",
    "    print(f'{idx}번째 {value}', end='\\t')"
   ]
  },
  {
   "cell_type": "code",
   "execution_count": 6,
   "id": "6bff75a7",
   "metadata": {},
   "outputs": [],
   "source": [
    "my_dic = {'name':'홍길동', 'age':30,  'tel':'010-9999-9999'}"
   ]
  },
  {
   "cell_type": "code",
   "execution_count": 38,
   "id": "29dbe1c8",
   "metadata": {},
   "outputs": [
    {
     "name": "stdout",
     "output_type": "stream",
     "text": [
      "name\tage\ttel\t홍길동\t30\t010-9999-9999\t홍길동\t30\t010-9999-9999\t"
     ]
    }
   ],
   "source": [
    "# 엄청 비추\n",
    "for date in my_dic:\n",
    "    print(date, end='\\t')\n",
    "for date in my_dic:\n",
    "    print(my_dic[date], end='\\t')\n",
    "for key in my_dic:\n",
    "    print(my_dic[key], end='\\t')"
   ]
  },
  {
   "cell_type": "code",
   "execution_count": 40,
   "id": "547f9e4c",
   "metadata": {},
   "outputs": [
    {
     "name": "stdout",
     "output_type": "stream",
     "text": [
      "홍길동\t30\t010-9999-9999\t"
     ]
    }
   ],
   "source": [
    "for date in my_dic.values():\n",
    "    print(date, end='\\t')"
   ]
  },
  {
   "cell_type": "code",
   "execution_count": 41,
   "id": "c3842a8c",
   "metadata": {},
   "outputs": [
    {
     "data": {
      "text/plain": [
       "dict_values(['홍길동', 30, '010-9999-9999'])"
      ]
     },
     "execution_count": 41,
     "metadata": {},
     "output_type": "execute_result"
    }
   ],
   "source": [
    "my_dic.values() # 값만 추출"
   ]
  },
  {
   "cell_type": "code",
   "execution_count": 42,
   "id": "08e1b06f",
   "metadata": {},
   "outputs": [
    {
     "data": {
      "text/plain": [
       "dict_keys(['name', 'age', 'tel'])"
      ]
     },
     "execution_count": 42,
     "metadata": {},
     "output_type": "execute_result"
    }
   ],
   "source": [
    "my_dic.keys() # 키만 추출"
   ]
  },
  {
   "cell_type": "code",
   "execution_count": 47,
   "id": "598c6ba9",
   "metadata": {},
   "outputs": [
    {
     "data": {
      "text/plain": [
       "dict_items([('name', '홍길동'), ('age', 30), ('tel', '010-9999-9999')])"
      ]
     },
     "execution_count": 47,
     "metadata": {},
     "output_type": "execute_result"
    }
   ],
   "source": [
    "my_dic.items() # (키 + 값)쌍을 추출"
   ]
  },
  {
   "cell_type": "code",
   "execution_count": 44,
   "id": "e780acc0",
   "metadata": {},
   "outputs": [
    {
     "name": "stdout",
     "output_type": "stream",
     "text": [
      "name:홍길동\tage:30\ttel:010-9999-9999\t"
     ]
    }
   ],
   "source": [
    "for key, value in my_dic.items():\n",
    "    print(f'{key}:{value}', end='\\t')"
   ]
  },
  {
   "cell_type": "code",
   "execution_count": 8,
   "id": "fcc8c6b5",
   "metadata": {},
   "outputs": [
    {
     "data": {
      "text/plain": [
       "[(0, ('name', '홍길동')), (1, ('age', 30)), (2, ('tel', '010-9999-9999'))]"
      ]
     },
     "execution_count": 8,
     "metadata": {},
     "output_type": "execute_result"
    }
   ],
   "source": [
    "list(enumerate(my_dic.items()))"
   ]
  },
  {
   "cell_type": "code",
   "execution_count": 18,
   "id": "467988f5",
   "metadata": {},
   "outputs": [
    {
     "name": "stdout",
     "output_type": "stream",
     "text": [
      "1.name : 홍길동\n",
      "2.age  : 30\n",
      "3.tel  : 010-9999-9999\n"
     ]
    }
   ],
   "source": [
    "for idx, (key, value) in enumerate(my_dic.items()):\n",
    "    print('{}.{:4} : {}'. format(idx+1, key, value))"
   ]
  },
  {
   "cell_type": "code",
   "execution_count": 17,
   "id": "c35f8172",
   "metadata": {},
   "outputs": [
    {
     "name": "stdout",
     "output_type": "stream",
     "text": [
      "1.name : 홍길동\n",
      "2.age  : 30\n",
      "3.tel  : 010-9999-9999\n"
     ]
    }
   ],
   "source": [
    "for idx, (key, value) in enumerate(my_dic.items()):\n",
    "    print(\"{}.{:4} : {}\".format(idx+1, key, value))"
   ]
  },
  {
   "cell_type": "code",
   "execution_count": 12,
   "id": "79e3c08b",
   "metadata": {},
   "outputs": [
    {
     "data": {
      "text/plain": [
       "True"
      ]
     },
     "execution_count": 12,
     "metadata": {},
     "output_type": "execute_result"
    }
   ],
   "source": [
    "'홍길동' in my_dic.values()"
   ]
  },
  {
   "cell_type": "code",
   "execution_count": 13,
   "id": "8f318ed7",
   "metadata": {},
   "outputs": [
    {
     "data": {
      "text/plain": [
       "False"
      ]
     },
     "execution_count": 13,
     "metadata": {},
     "output_type": "execute_result"
    }
   ],
   "source": [
    "'홍길동' in my_dic"
   ]
  },
  {
   "cell_type": "code",
   "execution_count": 14,
   "id": "a4352985",
   "metadata": {},
   "outputs": [
    {
     "name": "stdout",
     "output_type": "stream",
     "text": [
      "{'fruit': 'apple', 'number': 12, 'people': '홍길동'}\n",
      "{'fruit': 'apple', 'number': 12, 'people': '홍길동'}\n"
     ]
    }
   ],
   "source": [
    "# 얕은 복사\n",
    "my_favorite = {'fruit':'apple', 'number':12} # 원본\n",
    "new_frorite = my_favorite # 복제본(얕은 복사)\n",
    "new_frorite['people'] = '홍길동'\n",
    "print(my_favorite)\n",
    "print(new_frorite)"
   ]
  },
  {
   "cell_type": "code",
   "execution_count": 15,
   "id": "8e24b044",
   "metadata": {},
   "outputs": [
    {
     "name": "stdout",
     "output_type": "stream",
     "text": [
      "{'fruit': 'apple', 'number': 12}\n",
      "{'fruit': 'apple', 'number': 12, 'people': '홍길동'}\n"
     ]
    }
   ],
   "source": [
    "# 깊은 복사\n",
    "my_favorite = {'fruit':'apple', 'number':12} # 원본\n",
    "new_frorite = my_favorite.copy() # 복제본(깊은 복사)\n",
    "new_frorite['people'] = '홍길동'\n",
    "print(my_favorite)\n",
    "print(new_frorite)"
   ]
  },
  {
   "cell_type": "markdown",
   "id": "246dadc5",
   "metadata": {},
   "source": [
    "# 4절. 셋\n",
    "- 중복을 호용하지 않는 집합(순서x == 인덱스x)\n",
    "- 중괄호{}나 set()함수를 이용해서 셋 생성\n",
    "- 추가 : add(), update()\n",
    "- 집합연산자 : &, |, -\n",
    "- 삭제 : remove()"
   ]
  },
  {
   "cell_type": "code",
   "execution_count": 19,
   "id": "93c97d72",
   "metadata": {},
   "outputs": [
    {
     "data": {
      "text/plain": [
       "{'apple', 'banana', 'orange'}"
      ]
     },
     "execution_count": 19,
     "metadata": {},
     "output_type": "execute_result"
    }
   ],
   "source": [
    "fruits = {'banana', 'orange', 'banana', 'banana', 'apple'}\n",
    "fruits\n"
   ]
  },
  {
   "cell_type": "code",
   "execution_count": 20,
   "id": "3b02a12c",
   "metadata": {},
   "outputs": [
    {
     "data": {
      "text/plain": [
       "{1, 20, 21, 22}"
      ]
     },
     "execution_count": 20,
     "metadata": {},
     "output_type": "execute_result"
    }
   ],
   "source": [
    "s1 = set([1, 20, 1, 21, 1, 22])\n",
    "s1"
   ]
  },
  {
   "cell_type": "code",
   "execution_count": 22,
   "id": "7a977dad",
   "metadata": {},
   "outputs": [
    {
     "data": {
      "text/plain": [
       "{'fruits', 'number'}"
      ]
     },
     "execution_count": 22,
     "metadata": {},
     "output_type": "execute_result"
    }
   ],
   "source": [
    "# set 함수를 이용해서 딕셔너리를 셋으로 전환할 때는 set 만 적용\n",
    "my_favorite = {'fruits':'apple', 'number':12}\n",
    "set(my_favorite)"
   ]
  },
  {
   "cell_type": "markdown",
   "id": "6705af78",
   "metadata": {},
   "source": [
    "## 추가하기\n",
    "- add() : 기본자료형, 튜플데이터를 하나의 요소로 추가할 경우\n",
    "- update() : 리스트, 투플, 딕셔너리, 셋 요소 하나하나씩 추가할 경우. dict 사용시 key만 추가"
   ]
  },
  {
   "cell_type": "code",
   "execution_count": 26,
   "id": "8095b6d4",
   "metadata": {},
   "outputs": [
    {
     "data": {
      "text/plain": [
       "{1, 2, 3, 4, 5, 6, 7}"
      ]
     },
     "execution_count": 26,
     "metadata": {},
     "output_type": "execute_result"
    }
   ],
   "source": [
    "s2 = {1, 1, 2, 3,}\n",
    "s2.add(4)\n",
    "s2.update([5, 6, 7])\n",
    "s2"
   ]
  },
  {
   "cell_type": "code",
   "execution_count": 32,
   "id": "fc0c5abf",
   "metadata": {},
   "outputs": [
    {
     "data": {
      "text/plain": [
       "{False, 1, 2, 3}"
      ]
     },
     "execution_count": 32,
     "metadata": {},
     "output_type": "execute_result"
    }
   ],
   "source": [
    "# 논리값 1False는 False, 0으로\n",
    "# 논리값 True는 True, 1로\n",
    "s= {1, 2, 3}\n",
    "s.add(False)\n",
    "s.add(True)\n",
    "s.add(0)\n",
    "s"
   ]
  },
  {
   "cell_type": "code",
   "execution_count": 33,
   "id": "772f0964",
   "metadata": {},
   "outputs": [
    {
     "data": {
      "text/plain": [
       "{False, 2, 3}"
      ]
     },
     "execution_count": 33,
     "metadata": {},
     "output_type": "execute_result"
    }
   ],
   "source": [
    "s.remove(True)\n",
    "s"
   ]
  },
  {
   "cell_type": "markdown",
   "id": "29f32382",
   "metadata": {},
   "source": [
    "## 연산:&(교집합)|(합집합)-(차집합)\n",
    "\n",
    "& |: 집합연산자, 논리연산자, 비트연산자"
   ]
  },
  {
   "cell_type": "code",
   "execution_count": 34,
   "id": "64a40d55",
   "metadata": {},
   "outputs": [
    {
     "name": "stdout",
     "output_type": "stream",
     "text": [
      "s1 | s2 =  {1, 2, 3, 4, 5, 6, 7}\n",
      "s1 & s2 =  {3, 4, 5}\n",
      "s1 - s2 =  {1, 2}\n"
     ]
    }
   ],
   "source": [
    "s1 = {1, 2, 3, 4, 5}\n",
    "s2 = {3, 4, 5, 6, 7}\n",
    "print('s1 | s2 = ', s1|s2)\n",
    "print('s1 & s2 = ', s1&s2)\n",
    "print('s1 - s2 = ', s1-s2)"
   ]
  },
  {
   "cell_type": "markdown",
   "id": "bff98286",
   "metadata": {},
   "source": [
    "# 5절. enumerate\n",
    "- 반복자 또는 순서 객체로 반복문을 처리할 때 사용함수\n",
    "- 리스트, 튜플, 셋 , 딕셔너리를 for 문에 사용시"
   ]
  },
  {
   "cell_type": "code",
   "execution_count": 35,
   "id": "e02897bb",
   "metadata": {},
   "outputs": [
    {
     "name": "stdout",
     "output_type": "stream",
     "text": [
      "길자\t길동\t영자\t"
     ]
    }
   ],
   "source": [
    "names = ('길자', '길동', '영자')\n",
    "for name in names:\n",
    "    print(name, end='\\t')"
   ]
  },
  {
   "cell_type": "code",
   "execution_count": 37,
   "id": "fb532bb1",
   "metadata": {},
   "outputs": [
    {
     "name": "stdout",
     "output_type": "stream",
     "text": [
      "0.길자\n",
      "1.길동\n",
      "2.영자\n"
     ]
    }
   ],
   "source": [
    "for no, name in enumerate(names):\n",
    "    print(f'{no}.{name}')"
   ]
  },
  {
   "cell_type": "code",
   "execution_count": 46,
   "id": "29c5de19",
   "metadata": {},
   "outputs": [
    {
     "name": "stdout",
     "output_type": "stream",
     "text": [
      "1.순자의 연락처는 010-9999-9999고 서울 살아요.\n",
      "2.길동의 연락처는 010-8888-8888고 인천 살아요.\n",
      "3.길자의 연락처는 010-7777-7777고 판교 살아요.\n"
     ]
    }
   ],
   "source": [
    "names = ['순자', '길동', '길자']\n",
    "tels = ['010-9999-9999', '010-8888-8888', '010-7777-7777']\n",
    "adds = ['서울', '인천', '판교']\n",
    "\n",
    "for idx in range(len(names)):\n",
    "    print('{}.{}의 연락처는 {}고 {} 살아요.'.format(idx+1, names[idx], tels[idx], adds[idx]))"
   ]
  },
  {
   "cell_type": "code",
   "execution_count": 47,
   "id": "03cee2de",
   "metadata": {},
   "outputs": [
    {
     "data": {
      "text/plain": [
       "[('순자', '010-9999-9999', '서울'),\n",
       " ('길동', '010-8888-8888', '인천'),\n",
       " ('길자', '010-7777-7777', '판교')]"
      ]
     },
     "execution_count": 47,
     "metadata": {},
     "output_type": "execute_result"
    }
   ],
   "source": [
    "list(zip(names, tels, adds))"
   ]
  },
  {
   "cell_type": "code",
   "execution_count": 50,
   "id": "ae71a80e",
   "metadata": {},
   "outputs": [
    {
     "name": "stdout",
     "output_type": "stream",
     "text": [
      "순자 : 010-9999-9999 / 서울\n",
      "길동 : 010-8888-8888 / 인천\n",
      "길자 : 010-7777-7777 / 판교\n"
     ]
    }
   ],
   "source": [
    "for name, tel, add in zip(names, tels, adds):\n",
    "    print(f'{name} : {tel} / {add}')"
   ]
  },
  {
   "cell_type": "code",
   "execution_count": 51,
   "id": "1a49f97b",
   "metadata": {},
   "outputs": [
    {
     "data": {
      "text/plain": [
       "[(0, ('순자', '010-9999-9999', '서울')),\n",
       " (1, ('길동', '010-8888-8888', '인천')),\n",
       " (2, ('길자', '010-7777-7777', '판교'))]"
      ]
     },
     "execution_count": 51,
     "metadata": {},
     "output_type": "execute_result"
    }
   ],
   "source": [
    "list(enumerate(zip(names, tels, adds)))"
   ]
  },
  {
   "cell_type": "code",
   "execution_count": 52,
   "id": "f1b5ce8b",
   "metadata": {},
   "outputs": [
    {
     "name": "stdout",
     "output_type": "stream",
     "text": [
      "1.순자 : 010-9999-9999 / 서울\n",
      "2.길동 : 010-8888-8888 / 인천\n",
      "3.길자 : 010-7777-7777 / 판교\n"
     ]
    }
   ],
   "source": [
    "for idx, (name, tel, add) in enumerate(zip(names, tels, adds)):\n",
    "    print('{}.{} : {} / {}'.format(idx+1,\n",
    "                                  name, \n",
    "                                  tel, \n",
    "                                  add))"
   ]
  },
  {
   "cell_type": "markdown",
   "id": "af60e661",
   "metadata": {},
   "source": [
    "### 변수가 담을 수 있는 기본 타입\n",
    "```\n",
    "![자료형들](https://pynative.com/wp-content/uploads/2021/02/python-data-types.jpg)\n",
    "```\n",
    "<img src=\"https://pynative.com/wp-content/uploads/2021/02/python-data-types.jpg\"\n",
    "     width=\"400\"\n",
    "     style=\"float:left\">"
   ]
  },
  {
   "cell_type": "markdown",
   "id": "fd39fa30",
   "metadata": {},
   "source": [
    "# 6절. 연습문제\n",
    "실습형"
   ]
  },
  {
   "cell_type": "code",
   "execution_count": 130,
   "id": "b9b31743",
   "metadata": {},
   "outputs": [
    {
     "name": "stdout",
     "output_type": "stream",
     "text": [
      "1번문제 [1, 2, 3, 4, 5, 6, 7, 8, 9, 10, 100]\n",
      "2번 문제 [1, 2, 3, 4, 5, 6, 7, 8, 9, 10, 100, 200, 300, 400, 500]\n",
      "3번 문제 [1, 2, 3, 4, 5]\n",
      "4번 문제 [1, 3, 5, 7, 9, 100, 300, 500]\n",
      "5번 문제 [0, 2, 0, 4, 0, 6, 0, 8, 0, 10, 0, 200, 0, 400, 0]\n",
      "6번 문제 [0, 400, 0, 200, 0, 10, 0, 8, 0, 6, 0, 4, 0, 2, 0]\n"
     ]
    }
   ],
   "source": [
    "numbers = [1,2,3,4,5,6,7,8,9,10]\n",
    "# 1.숫자 100 을 맨 뒤에 추가하세요\n",
    "numbers.append(100)\n",
    "print('1번문제',numbers)\n",
    "# 2.다음 리스트를 numbers 리스트 맨 뒤에 추가하세요\n",
    "data = [200, 300, 400, 500]\n",
    "numbers.extend([200,300,400,500])\n",
    "print('2번 문제', numbers)\n",
    "# 3.처음 다섯 개 숫자만 출력하세요\n",
    "print('3번 문제', numbers[:5:])\n",
    "# 4.리스트에서 짝수 번째 데이터만 출력하세요\n",
    "# nums = [a for a in numbers if a%2==0] \n",
    "print('4번 문제', numbers[::2])\n",
    "# 5.짝수번째 데이터를 모두 0 으로 바꾸세요\n",
    "#numbers[::2] = [0] * len(numbers([::2]))\n",
    "numbers[::2] = [0]*8\n",
    "print('5번 문제', numbers)\n",
    "# 6.데이터를 역순으로 나열하세요 내림차순 정렬이 아닙니다\n",
    "print('6번 문제', numbers[::-1])"
   ]
  },
  {
   "cell_type": "code",
   "execution_count": 88,
   "id": "5a14957c",
   "metadata": {},
   "outputs": [
    {
     "name": "stdout",
     "output_type": "stream",
     "text": [
      "7번 서울시 마포구\n"
     ]
    }
   ],
   "source": [
    "# 다음 딕셔너리 데이터가 주어졌을 경우 요구사항대로 코드를 작성하세요\n",
    "# 7.address 값을 출력하세요\n",
    "member_info = {'name':'홍길동', 'age':20, 'address':'서울시 마포구', 'score':90}\n",
    "print('7번 문제', member_info.get('address'))"
   ]
  },
  {
   "cell_type": "code",
   "execution_count": 94,
   "id": "8411620c",
   "metadata": {},
   "outputs": [
    {
     "name": "stdout",
     "output_type": "stream",
     "text": [
      "90\n",
      "{'name': '홍길동', 'age': 20, 'address': '서울시 마포구'}\n"
     ]
    }
   ],
   "source": [
    "# 8. score 를 출력하고 member_info 딕셔너리에서 삭제하세요\n",
    "member_info = {'name':'홍길동', 'age':20, 'address':'서울시 마포구', 'score':90}\n",
    "new = member_info.pop('score')\n",
    "print(new)\n",
    "print(member_info)"
   ]
  },
  {
   "cell_type": "code",
   "execution_count": 95,
   "id": "945a241f",
   "metadata": {},
   "outputs": [
    {
     "name": "stdout",
     "output_type": "stream",
     "text": [
      "{'name': '홍길동', 'age': 20, 'address': '서울시 서대문구', 'score': 90}\n"
     ]
    }
   ],
   "source": [
    "# 9.address 를 서울시 서대문구 로 변경하세요\n",
    "member_info = {'name':'홍길동', 'age':20, 'address':'서울시 마포구', 'score':90}\n",
    "member_info['address'] = '서울시 서대문구'\n",
    "print(member_info)"
   ]
  },
  {
   "cell_type": "code",
   "execution_count": 99,
   "id": "9999fdbf",
   "metadata": {},
   "outputs": [
    {
     "name": "stdout",
     "output_type": "stream",
     "text": [
      "1.name    : 홍길동\n",
      "2.age     : 20\n",
      "3.address : 서울시 마포구\n",
      "4.score   : 90\n"
     ]
    }
   ],
   "source": [
    "# 10. member_info 딕셔너리 데이터의 값을 리스트로 출력하세요\n",
    "member_info = {'name':'홍길동', 'age':20, 'address':'서울시 마포구', 'score':90}\n",
    "for idx, (key, value) in enumerate(member_info.items()):\n",
    "    print('{}.{:7} : {}'.format(idx+1, key, value))"
   ]
  },
  {
   "cell_type": "markdown",
   "id": "47eb0ac7",
   "metadata": {},
   "source": [
    "### 서술형"
   ]
  },
  {
   "cell_type": "code",
   "execution_count": 102,
   "id": "b17b5dfb",
   "metadata": {},
   "outputs": [
    {
     "name": "stdout",
     "output_type": "stream",
     "text": [
      "1번 문제 ['orange', 'banana']\n"
     ]
    }
   ],
   "source": [
    "# 1. 다음 코드를 실행했을 때 출력되는 것은\n",
    "L1 = ('orange', 'apple', 'banana', 'kiwi')\n",
    "new_list = [i for i in L1 if len(i)>5]\n",
    "print('1번 문제', new_list)"
   ]
  },
  {
   "cell_type": "code",
   "execution_count": 117,
   "id": "1dfdaf29",
   "metadata": {},
   "outputs": [
    {
     "name": "stdout",
     "output_type": "stream",
     "text": [
      "1번\n"
     ]
    }
   ],
   "source": [
    "# 2.다음 코드와 실행결과가 잘못 짝지어진 것은?\n",
    "print('1번')"
   ]
  },
  {
   "cell_type": "code",
   "execution_count": 131,
   "id": "134a440b",
   "metadata": {},
   "outputs": [
    {
     "data": {
      "text/plain": [
       "1"
      ]
     },
     "execution_count": 131,
     "metadata": {},
     "output_type": "execute_result"
    }
   ],
   "source": [
    "# 3. 다음 구문에 의해 출력되는 것은?\n",
    "numbers_2d = [ [1,2,3,4,5], [10,20,30,40],[1,3,5],[2,]]\n",
    "len(numbers_2d[3])"
   ]
  },
  {
   "cell_type": "code",
   "execution_count": null,
   "id": "c48203fc",
   "metadata": {},
   "outputs": [],
   "source": [
    "# 4. 다음 코드의 실행결과가 나올 수 있는 빈칸에 들어갈 함수 이름은?"
   ]
  },
  {
   "cell_type": "code",
   "execution_count": 105,
   "id": "5b2c4214",
   "metadata": {},
   "outputs": [
    {
     "data": {
      "text/plain": [
       "[1, 2, 3, 4, 5, 10, 20, 30, 40, 50]"
      ]
     },
     "execution_count": 105,
     "metadata": {},
     "output_type": "execute_result"
    }
   ],
   "source": [
    "numbers = [1,2,3,4,5]\n",
    "numbers.extend([10,20,30,40,50])\n",
    "numbers"
   ]
  },
  {
   "cell_type": "code",
   "execution_count": 106,
   "id": "09fa343e",
   "metadata": {},
   "outputs": [
    {
     "name": "stdout",
     "output_type": "stream",
     "text": [
      "[0, 1, 0, 3, 0, 5, 0, 7, 0, 9]\n"
     ]
    }
   ],
   "source": [
    "# 5. 다음 구문을 실행할 때 결과는?\n",
    "numbers = list(range(10))\n",
    "numbers[ : : 2]= [0] * len (numbers[ : :2])\n",
    "print(numbers)"
   ]
  },
  {
   "cell_type": "code",
   "execution_count": 107,
   "id": "478bf5bc",
   "metadata": {},
   "outputs": [
    {
     "name": "stdout",
     "output_type": "stream",
     "text": [
      "[5, 1, 6, 3, 7, 5, 8, 7, 9, 9]\n"
     ]
    }
   ],
   "source": [
    "# 6. 다음 구문을 실행할 때 결과는?\n",
    "numbers = [0,1,2,3,4,5,6,7,8,9]\n",
    "numbers[ : : 2]= numbers[5:]\n",
    "print(numbers)"
   ]
  },
  {
   "cell_type": "code",
   "execution_count": 108,
   "id": "d99a350f",
   "metadata": {},
   "outputs": [
    {
     "name": "stdout",
     "output_type": "stream",
     "text": [
      "[0, 1, 1, 3, 2, 5, 3, 7, 4, 9]\n"
     ]
    }
   ],
   "source": [
    "# 7. 다음 구문을 실행할 때 결과는?\n",
    "numbers = [0, 1, 2, 3, 4, 5, 6, 7, 8, 9]\n",
    "numbers[ : : 2]= numbers[:5]\n",
    "print(numbers)"
   ]
  },
  {
   "cell_type": "code",
   "execution_count": null,
   "id": "77c7034e",
   "metadata": {},
   "outputs": [],
   "source": [
    "# 8. 다음 데이터에서 10 을 출력할 수 없는 구문은?\n"
   ]
  },
  {
   "cell_type": "code",
   "execution_count": 120,
   "id": "871a15eb",
   "metadata": {},
   "outputs": [
    {
     "name": "stdout",
     "output_type": "stream",
     "text": [
      "apple\n",
      "banana\n",
      "orange\n"
     ]
    }
   ],
   "source": [
    "# 9. 다음 프로그램의 결과를 출력하시오\n",
    "fruits = ['apple', 'banana', 'orange']\n",
    "x, y, z = fruits\n",
    "print(x)\n",
    "print(y)\n",
    "print(z)"
   ]
  },
  {
   "cell_type": "code",
   "execution_count": 119,
   "id": "f675e25a",
   "metadata": {},
   "outputs": [
    {
     "name": "stdout",
     "output_type": "stream",
     "text": [
      "3\n"
     ]
    }
   ],
   "source": [
    "# 10. 다음 프로그램의 결과를 출력하시오\n",
    "fruits = ['apple', 'banana', 'orange']\n",
    "print(len(fruits))"
   ]
  },
  {
   "cell_type": "code",
   "execution_count": 118,
   "id": "afba8229",
   "metadata": {},
   "outputs": [
    {
     "name": "stdout",
     "output_type": "stream",
     "text": [
      "def\n"
     ]
    }
   ],
   "source": [
    "# 11. 파이썬에서 함수를 만들기 위해 선언하는 단어는?\n",
    "print('def')"
   ]
  },
  {
   "cell_type": "code",
   "execution_count": 127,
   "id": "12b4e4ea",
   "metadata": {},
   "outputs": [
    {
     "data": {
      "text/plain": [
       "10"
      ]
     },
     "execution_count": 127,
     "metadata": {},
     "output_type": "execute_result"
    }
   ],
   "source": [
    "my_dic = {'a':10, 'b':20, 'c':30}\n",
    "list( my_dic.values ())[0]"
   ]
  },
  {
   "cell_type": "code",
   "execution_count": null,
   "id": "5512b5a4",
   "metadata": {},
   "outputs": [],
   "source": []
  },
  {
   "cell_type": "code",
   "execution_count": null,
   "id": "72bccd5a",
   "metadata": {},
   "outputs": [],
   "source": []
  }
 ],
 "metadata": {
  "kernelspec": {
   "display_name": "Python 3 (ipykernel)",
   "language": "python",
   "name": "python3"
  },
  "language_info": {
   "codemirror_mode": {
    "name": "ipython",
    "version": 3
   },
   "file_extension": ".py",
   "mimetype": "text/x-python",
   "name": "python",
   "nbconvert_exporter": "python",
   "pygments_lexer": "ipython3",
   "version": "3.10.9"
  },
  "toc": {
   "base_numbering": 1,
   "nav_menu": {},
   "number_sections": false,
   "sideBar": true,
   "skip_h1_title": false,
   "title_cell": "Table of Contents",
   "title_sidebar": "Contents",
   "toc_cell": false,
   "toc_position": {
    "height": "calc(100% - 180px)",
    "left": "10px",
    "top": "150px",
    "width": "165px"
   },
   "toc_section_display": true,
   "toc_window_display": true
  }
 },
 "nbformat": 4,
 "nbformat_minor": 5
}
