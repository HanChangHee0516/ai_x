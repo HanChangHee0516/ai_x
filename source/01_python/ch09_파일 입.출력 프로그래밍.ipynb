{
 "cells": [
  {
   "cell_type": "code",
   "execution_count": 134,
   "id": "da1c42ab",
   "metadata": {},
   "outputs": [
    {
     "data": {
      "text/html": [
       "\n",
       "<style>\n",
       "div.container{width:90% !important;}\n",
       "div.cell.code_cell.rendered{width:100%;}\n",
       "div.input_prompt{padding:0px;}\n",
       "div.CodeMirror {font-family:Consolas; font-size:11pt;}\n",
       "div.text_cell_render.rendered_html{font-size:11pt;}\n",
       "div.output {font-size:11pt; font-weight:bold;}\n",
       "div.input {font-family:Consolas; font-size:11pt;}\n",
       "div.prompt {min-width:70px;}\n",
       "div#toc-wrapper{padding-top:120px;}\n",
       "div.text_cell_render ul li{font-size:11pt;padding:5px;}\n",
       "table.dataframe{font-size:11px;}\n",
       "</style>\n"
      ],
      "text/plain": [
       "<IPython.core.display.HTML object>"
      ]
     },
     "metadata": {},
     "output_type": "display_data"
    }
   ],
   "source": [
    "from IPython.display import display, HTML\n",
    "display(HTML(\"\"\"\n",
    "<style>\n",
    "div.container{width:90% !important;}\n",
    "div.cell.code_cell.rendered{width:100%;}\n",
    "div.input_prompt{padding:0px;}\n",
    "div.CodeMirror {font-family:Consolas; font-size:11pt;}\n",
    "div.text_cell_render.rendered_html{font-size:11pt;}\n",
    "div.output {font-size:11pt; font-weight:bold;}\n",
    "div.input {font-family:Consolas; font-size:11pt;}\n",
    "div.prompt {min-width:70px;}\n",
    "div#toc-wrapper{padding-top:120px;}\n",
    "div.text_cell_render ul li{font-size:11pt;padding:5px;}\n",
    "table.dataframe{font-size:11px;}\n",
    "</style>\n",
    "\"\"\"))"
   ]
  },
  {
   "cell_type": "markdown",
   "id": "7890b3ea",
   "metadata": {},
   "source": [
    "<b><font size=\"5\" color=\"red\">ch09. 파일 입/출력 프로그래밍</font></b>\n",
    "- 파일 : txt, pickle, csv, json, hdf5(h5)\n",
    "\n",
    "# 1절. txt 파일에 데이터 저장하고 불러오기"
   ]
  },
  {
   "cell_type": "code",
   "execution_count": 3,
   "id": "872313b5",
   "metadata": {},
   "outputs": [
    {
     "name": "stdout",
     "output_type": "stream",
     "text": [
      "쓰기 가능한지 여부 : True\n"
     ]
    }
   ],
   "source": [
    "f = open('data/cf09.txt', 'w')\n",
    "print('쓰기 가능한지 여부 :', f.writable())"
   ]
  },
  {
   "cell_type": "code",
   "execution_count": 4,
   "id": "cacf0276",
   "metadata": {},
   "outputs": [],
   "source": [
    "f.write('Hello\\nWolrd')\n",
    "f.close() # close() 쓰기한 내용이 저장 X"
   ]
  },
  {
   "cell_type": "code",
   "execution_count": 5,
   "id": "6c421f16",
   "metadata": {},
   "outputs": [
    {
     "name": "stdout",
     "output_type": "stream",
     "text": [
      "쓰기 가능한지 여부 : True\n"
     ]
    }
   ],
   "source": [
    "# mode : 'r' 또는 'rt' => text읽기 모드\n",
    "    # 'rd' : 바리너리읽기 모드\n",
    "    # 'w' 또는 'wt' : text쓰기 모드 (파일이 있으면 덮어씀, 파일이 없으면 파일 생성)\n",
    "    # 'wb' :바이너리쓰기 모드\n",
    "    # 'a' 또는 'at' : text 추가 모드(파일이 있으면 append, 파일이 없으면 파일 생성)\n",
    "    # 읽기모드에서 파일이 없으면 예외/쓰기모드에서 폴더가 없으면 예외\n",
    "# encoding\n",
    "    # euc-kr (한글완성형)\n",
    "    # cp949 (확장된 한글완성형) : open()함수 기본, encoding 방식 (win)\n",
    "    # utf-8 (한글조합형) :  open()함수 기본, encoding 방식 (mac,linux), 주피터노트북 기본\n",
    "with open('data/cf09.txt', 'w') as f:\n",
    "    print('쓰기 가능한지 여부 :', f.writable())\n",
    "    f.write('Hello\\nPython')"
   ]
  },
  {
   "cell_type": "code",
   "execution_count": 7,
   "id": "4a0de15d",
   "metadata": {},
   "outputs": [],
   "source": [
    "with open('data/cf09.txt','a',encoding='utf-8') as f:\n",
    "    # 1.방법\n",
    "    f.write('홍길동, 33, 아무동9\\n')\n",
    "    f.write('홍길동, 33, 아무동9\\n')\n",
    "    # 2. 방법\n",
    "    textlist = ['홍길동, 33, 아무동9\\n', '김길동, 22, 아무동\\n']\n",
    "    for line in textlist:\n",
    "        f.write(line)\n",
    "    # 3.방법\n",
    "    f.writelines(textlist)"
   ]
  },
  {
   "cell_type": "code",
   "execution_count": 9,
   "id": "31a4f10f",
   "metadata": {},
   "outputs": [],
   "source": [
    "with open('data/cf09.txt','w') as f:\n",
    "    # 1.방법\n",
    "    f.write('홍길동, 33, 아무동9\\n')\n",
    "    f.write('홍길동, 33, 아무동9\\n')\n",
    "    # 2. 방법\n",
    "    textlist = ['홍길동, 33, 아무동9\\n', '김길동, 22, 아무동9\\n']\n",
    "    for line in textlist:\n",
    "        f.write(line)\n",
    "    # 3.방법\n",
    "    f.writelines(textlist)"
   ]
  },
  {
   "cell_type": "code",
   "execution_count": 12,
   "id": "3390a816",
   "metadata": {},
   "outputs": [
    {
     "name": "stdout",
     "output_type": "stream",
     "text": [
      "홍길동, 33, 아무동9\n",
      "홍길동, 33, 아무동9\n",
      "홍길동, 33, 아무동9\n",
      "김길동, 22, 아무동9\n",
      "홍길동, 33, 아무동9\n",
      "김길동, 22, 아무동9\n"
     ]
    }
   ],
   "source": [
    "# 한줄씩 읽기\n",
    "with open('data/cf09.txt','r') as f:\n",
    "    line = f.readline()\n",
    "    while line!='':\n",
    "        print(line, end='')\n",
    "        line = f.readline()"
   ]
  },
  {
   "cell_type": "code",
   "execution_count": 13,
   "id": "1d840baf",
   "metadata": {},
   "outputs": [
    {
     "name": "stdout",
     "output_type": "stream",
     "text": [
      "['홍길동, 33, 아무동9\\n', '홍길동, 33, 아무동9\\n', '홍길동, 33, 아무동9\\n', '김길동, 22, 아무동9\\n', '홍길동, 33, 아무동9\\n', '김길동, 22, 아무동9\\n']\n"
     ]
    }
   ],
   "source": [
    "# 모든 줄을 읽기\n",
    "with open('data/cf09.txt','r') as f:\n",
    "    lines = f.readlines()\n",
    "    print(lines)"
   ]
  },
  {
   "cell_type": "code",
   "execution_count": 18,
   "id": "268a2748",
   "metadata": {},
   "outputs": [
    {
     "name": "stdout",
     "output_type": "stream",
     "text": [
      "홍길동, 33, 아무동9\n",
      "홍길동, 33, 아무동9\n",
      "홍길동, 33, 아무동9\n",
      "김길동, 22, 아무동9\n",
      "홍길동, 33, 아무동9\n",
      "김길동, 22, 아무동9\n",
      "\n"
     ]
    }
   ],
   "source": [
    "# 모든 읽기\n",
    "with open('data/cf09.txt','r') as f:\n",
    "    lines = f.read()\n",
    "    print(lines)"
   ]
  },
  {
   "cell_type": "code",
   "execution_count": 19,
   "id": "e3996731",
   "metadata": {},
   "outputs": [
    {
     "data": {
      "text/plain": [
       "'홍길동, 33, 아무동9\\n홍길동, 33, 아무동9\\n홍길동, 33, 아무동9\\n김길동, 22, 아무동9\\n홍길동, 33, 아무동9\\n김길동, 22, 아무동9\\n'"
      ]
     },
     "execution_count": 19,
     "metadata": {},
     "output_type": "execute_result"
    }
   ],
   "source": [
    "with open('data/cf09.txt','r') as f:\n",
    "    lines = f.read()\n",
    "lines"
   ]
  },
  {
   "cell_type": "markdown",
   "id": "e8734200",
   "metadata": {},
   "source": [
    "# 2절. 피클을 이용한 객체 저장 및 불러오기\n",
    "## 2.1 형식에 있는 txt 데이터 불러오기"
   ]
  },
  {
   "cell_type": "code",
   "execution_count": 25,
   "id": "088e753b",
   "metadata": {},
   "outputs": [],
   "source": [
    "class Member:\n",
    "    def __init__(self, name, age, email, address):\n",
    "        self.name = name\n",
    "        self.age = age\n",
    "        self.email = email\n",
    "        self.address = address\n",
    "    def __str__(self):\n",
    "        return '{}, {}, {}, {} '.format(self.name, \\\n",
    "                                        '성년' if self.age>18 else '미성년', \\\n",
    "                                        self.email, \\\n",
    "                                        self.address)\n",
    "    def as_dict(self):\n",
    "        return {'name':self.name, \\\n",
    "                'age':self.age, \\\n",
    "                'email':self.email, \\\n",
    "                'address':self.address}\n",
    "    def __eq__(self, other):\n",
    "        return self.name == other.name \\\n",
    "        and self.age == other.age \\\n",
    "        and self.email == other.email \\\n",
    "        and self.address == other.address"
   ]
  },
  {
   "cell_type": "code",
   "execution_count": 26,
   "id": "77c1d37c",
   "metadata": {},
   "outputs": [
    {
     "name": "stdout",
     "output_type": "stream",
     "text": [
      "True\n",
      "True\n"
     ]
    }
   ],
   "source": [
    "user1 = Member('홍',20,'a@a.com','신림동')\n",
    "user2 = Member('홍',20,'a@a.com','신림동')\n",
    "print(user1 == user2)\n",
    "print(user1.__eq__(user2)) # 같은 내용이면 True"
   ]
  },
  {
   "cell_type": "code",
   "execution_count": 38,
   "id": "1222309e",
   "metadata": {},
   "outputs": [],
   "source": [
    "# 형식이 있는 txt파일 내용을 member listt(피클 저장), 딕셔너리 list(데이터 프레임)로 저장\n",
    "user_list = [] # member list\n",
    "user_dict = [] # 딕셔너리 list\n",
    "with open('data/ch09_member.txt', 'r' , encoding='utf-8') as txt_file:\n",
    "    lines = txt_file.readlines()\n",
    "# print(line)\n",
    "for line in lines:\n",
    "    data = line.split(',')\n",
    "    name = data[0]\n",
    "    age = int(data[1].strip()) # strip() 좌우 공백(space, \\t, \\n)제거\n",
    "    email = data[2].strip()\n",
    "    address = data[3].strip()\n",
    "    user = Member(name, age, email, address)\n",
    "    user_list.append(user)\n",
    "    user_dict.append(user.as_dict())\n",
    "#     user_dict.append(user.__dixt__)"
   ]
  },
  {
   "cell_type": "code",
   "execution_count": 39,
   "id": "88526ed6",
   "metadata": {},
   "outputs": [
    {
     "data": {
      "text/plain": [
       "[{'name': '홍길동', 'age': 20, 'email': 'kildong@hong.com', 'address': '서울시 관악구'},\n",
       " {'name': '홍길숙',\n",
       "  'age': 25,\n",
       "  'email': 'kilsuk1@hong.com',\n",
       "  'address': '서울시 영등포구'},\n",
       " {'name': '신길동', 'age': 30, 'email': 'shinkil@hong.com', 'address': '서울시 동작구'}]"
      ]
     },
     "execution_count": 39,
     "metadata": {},
     "output_type": "execute_result"
    }
   ],
   "source": [
    "user_dict"
   ]
  },
  {
   "cell_type": "code",
   "execution_count": 40,
   "id": "cf89c3ad",
   "metadata": {},
   "outputs": [
    {
     "name": "stdout",
     "output_type": "stream",
     "text": [
      "홍길동, 성년, kildong@hong.com, 서울시 관악구 \n",
      "홍길숙, 성년, kilsuk1@hong.com, 서울시 영등포구 \n",
      "신길동, 성년, shinkil@hong.com, 서울시 동작구 \n"
     ]
    }
   ],
   "source": [
    "for user in user_list:\n",
    "    print(user)"
   ]
  },
  {
   "cell_type": "markdown",
   "id": "4fc8825f",
   "metadata": {},
   "source": [
    "## 2.2 피클링\n",
    "- 객체 리스트(user_list) -> 프클파일로 쓰기\n",
    "- 피클 파일을 읽기 -> 객체 리스트(load_user_list)"
   ]
  },
  {
   "cell_type": "code",
   "execution_count": 44,
   "id": "8ae6e1e1",
   "metadata": {},
   "outputs": [],
   "source": [
    "# 피클링을 이용한 객체를 저장하기\n",
    "import pickle\n",
    "with open('data/ch09_member.data', 'wb') as f:\n",
    "    pickle.dump(user_list, f)"
   ]
  },
  {
   "cell_type": "code",
   "execution_count": 45,
   "id": "029164b0",
   "metadata": {},
   "outputs": [],
   "source": [
    "# 피클링을 이용한 파일에서 객체 데이터로 읽기\n",
    "with open('data/ch09_member.data', 'rb') as f:\n",
    "    load_user_list = pickle.load(f)"
   ]
  },
  {
   "cell_type": "code",
   "execution_count": 46,
   "id": "96f1be43",
   "metadata": {},
   "outputs": [
    {
     "data": {
      "text/plain": [
       "True"
      ]
     },
     "execution_count": 46,
     "metadata": {},
     "output_type": "execute_result"
    }
   ],
   "source": [
    "user_list == load_user_list"
   ]
  },
  {
   "cell_type": "code",
   "execution_count": 50,
   "id": "307cf643",
   "metadata": {},
   "outputs": [
    {
     "ename": "TypeError",
     "evalue": "'Member' object is not subscriptable",
     "output_type": "error",
     "traceback": [
      "\u001b[1;31m---------------------------------------------------------------------------\u001b[0m",
      "\u001b[1;31mTypeError\u001b[0m                                 Traceback (most recent call last)",
      "Cell \u001b[1;32mIn[50], line 2\u001b[0m\n\u001b[0;32m      1\u001b[0m \u001b[38;5;28;01mfor\u001b[39;00m idx \u001b[38;5;129;01min\u001b[39;00m \u001b[38;5;28mrange\u001b[39m(\u001b[38;5;28mlen\u001b[39m(user_list)):\n\u001b[1;32m----> 2\u001b[0m     \u001b[38;5;28mprint\u001b[39m(idx, \u001b[43muser\u001b[49m\u001b[43m[\u001b[49m\u001b[43midx\u001b[49m\u001b[43m]\u001b[49m)\n\u001b[0;32m      3\u001b[0m     \u001b[38;5;28mprint\u001b[39m(idx, load_user_list[idx])\n",
      "\u001b[1;31mTypeError\u001b[0m: 'Member' object is not subscriptable"
     ]
    }
   ],
   "source": [
    "for idx in range(len(user_list)):\n",
    "    print(idx, user[idx])\n",
    "    print(idx, load_user_list[idx])"
   ]
  },
  {
   "cell_type": "code",
   "execution_count": 53,
   "id": "f5eefd39",
   "metadata": {},
   "outputs": [
    {
     "name": "stdout",
     "output_type": "stream",
     "text": [
      "0 홍길동, 성년, kildong@hong.com, 서울시 관악구 \n",
      "0 홍길동, 성년, kildong@hong.com, 서울시 관악구 \n",
      "True\n",
      "1 홍길숙, 성년, kilsuk1@hong.com, 서울시 영등포구 \n",
      "1 홍길숙, 성년, kilsuk1@hong.com, 서울시 영등포구 \n",
      "True\n",
      "2 신길동, 성년, shinkil@hong.com, 서울시 동작구 \n",
      "2 신길동, 성년, shinkil@hong.com, 서울시 동작구 \n",
      "True\n"
     ]
    }
   ],
   "source": [
    "for idx, (user, load_user) in enumerate(zip(user_list, load_user_list)):\n",
    "    print(idx, user)\n",
    "    print(idx, load_user)\n",
    "    print(user == load_user)"
   ]
  },
  {
   "cell_type": "code",
   "execution_count": 55,
   "id": "4cf10ebb",
   "metadata": {},
   "outputs": [
    {
     "data": {
      "text/plain": [
       "True"
      ]
     },
     "execution_count": 55,
     "metadata": {},
     "output_type": "execute_result"
    }
   ],
   "source": [
    "result = []\n",
    "for user, load_user in zip(user_list, load_user_list):\n",
    "    result.append(user==load_user)\n",
    "all(result)"
   ]
  },
  {
   "cell_type": "markdown",
   "id": "6ceebfbf",
   "metadata": {},
   "source": [
    "# 3절. CSV형식 파일 읽기/쓰기\n",
    "- CSV파일 <-> 리스트데이터로 3.1(읽기) / 3.2(쓰기)\n",
    "- CSV파일 <-> 딕셔너리 3.3(읽기) / 3.4(쓰기)"
   ]
  },
  {
   "cell_type": "markdown",
   "id": "a6cdd26b",
   "metadata": {},
   "source": [
    "## 3.1 reader"
   ]
  },
  {
   "cell_type": "code",
   "execution_count": 59,
   "id": "178b2e58",
   "metadata": {},
   "outputs": [
    {
     "name": "stdout",
     "output_type": "stream",
     "text": [
      "[['홍길동', '20', 'kildong@hong.com', '서울시 관악구'], ['김길동', '40', 'kimdong@hong.com', '서울시 영등포구'], ['신길동', '30', 'sindong@hong.com', '서울시 동작구']]\n"
     ]
    }
   ],
   "source": [
    "import csv\n",
    "with open('data/ch09_member1.csv', 'r', encoding='utf-8') as f:\n",
    "    reader = csv.reader(f)\n",
    "    reader = list(reader)\n",
    "print(list(reader))"
   ]
  },
  {
   "cell_type": "code",
   "execution_count": 60,
   "id": "f60977c4",
   "metadata": {},
   "outputs": [
    {
     "name": "stdout",
     "output_type": "stream",
     "text": [
      "[['홍길동', 20.0, 'kildong@hong.com', '서울시 관악구'], ['김길동', 40.0, 'kimdong@hong.com', '서울시 영등포구'], ['신길동', 30.0, 'sindong@hong.com', '서울시 동작구']]\n"
     ]
    }
   ],
   "source": [
    "# ''(따옴표)가 없는 데이터는 numeric으로\n",
    "import csv\n",
    "with open('data/ch09_member1.csv', 'r', encoding='utf-8') as f:\n",
    "    reader = csv.reader(f, quoting=csv.QUOTE_NONNUMERIC)\n",
    "    reader = list(reader)\n",
    "print(list(reader))"
   ]
  },
  {
   "cell_type": "code",
   "execution_count": 72,
   "id": "2763eeca",
   "metadata": {},
   "outputs": [
    {
     "name": "stdout",
     "output_type": "stream",
     "text": [
      "[{'name': '홍길동', 'age': 20, 'email': 'kildong@hong.com', 'address': '서울시 관악구'}, {'name': '김길동', 'age': 40, 'email': 'kimdong@hong.com', 'address': '서울시 영등포구'}, {'name': '신길동', 'age': 30, 'email': 'sindong@hong.com', 'address': '서울시 동작구'}]\n"
     ]
    }
   ],
   "source": [
    "import csv\n",
    "with open('data/ch09_member1.csv', 'r', encoding='utf-8') as f:\n",
    "    reader = csv.reader(f, quoting=csv.QUOTE_NONNUMERIC)\n",
    "    reader = list(reader)\n",
    "dict_list = []\n",
    "for data in result:\n",
    "    dict_list.append({'name':data[0], 'age':int(data[1]), 'email':data[2], 'address':data[3]})\n",
    "print(dict_list)"
   ]
  },
  {
   "cell_type": "markdown",
   "id": "2aa5e662",
   "metadata": {},
   "source": [
    "## 3.2 writer"
   ]
  },
  {
   "cell_type": "code",
   "execution_count": 74,
   "id": "dc307c7f",
   "metadata": {},
   "outputs": [],
   "source": [
    "user_list = [['홍길동', 20, 'kildong@hong.com', '서울시 관악구'], ['김길동', 40, 'kimdong@hong.com', '서울시 영등포구']]"
   ]
  },
  {
   "cell_type": "code",
   "execution_count": 75,
   "id": "19fc21ce",
   "metadata": {},
   "outputs": [],
   "source": [
    "with open('data/ch09_member1_write.csv', 'a', newline='', encoding='utf-8') as f:\n",
    "    writer = csv.writer(f)\n",
    "    writer.writerows(user_list)"
   ]
  },
  {
   "cell_type": "code",
   "execution_count": 77,
   "id": "7690ab06",
   "metadata": {},
   "outputs": [],
   "source": [
    "with open('data/ch09_member1_write.csv', 'a', newline='', encoding='utf-8') as f:\n",
    "    writer = csv.writer(f, quoting=csv.QUOTE_NONNUMERIC)\n",
    "    writer.writerows(user_list)"
   ]
  },
  {
   "cell_type": "markdown",
   "id": "5159cb0c",
   "metadata": {},
   "source": [
    "## 3.3 DictReader"
   ]
  },
  {
   "cell_type": "code",
   "execution_count": 80,
   "id": "ff33b21f",
   "metadata": {},
   "outputs": [
    {
     "name": "stdout",
     "output_type": "stream",
     "text": [
      "[{'name': '홍길동', 'age': '20', 'email': 'h@h.com', 'address': '서울시 관악구', 'job': None}, {'name': '신길동', 'age': '40', 'email': 's@h.com', 'address': '서울시 영등포구', 'job': '팀장'}, {'name': '김길동', 'age': '30', 'email': 'k@h.com', 'address': '서울시 동작구', 'job': None}]\n",
      "홍길동 20 h@h.com 서울시 관악구\n",
      "신길동 40 s@h.com 서울시 영등포구 팀장\n",
      "김길동 30 k@h.com 서울시 동작구\n"
     ]
    }
   ],
   "source": [
    "import csv\n",
    "with open('data/ch09_member3.csv', 'r', encoding='utf-8') as f:\n",
    "    dict_reader = csv.DictReader(f)\n",
    "    dict_list = list(dict_reader)\n",
    "print(dict_list)\n",
    "for row in dict_list:\n",
    "    if row['job']is None:\n",
    "        print(row['name'], row['age'], row['email'], row['address'])\n",
    "    else:\n",
    "        print(row['name'], row['age'], row['email'], row['address'], row['job'])"
   ]
  },
  {
   "cell_type": "code",
   "execution_count": 87,
   "id": "77d39031",
   "metadata": {},
   "outputs": [
    {
     "name": "stdout",
     "output_type": "stream",
     "text": [
      "{'Name': '홍길동', 'Age': '20', 'Email': 'kildong@hong.com', 'Address': '서울시 관악구', 'Job': ''}\n",
      "{'Name': '김길동', 'Age': '40', 'Email': 'kimdong@hong.com', 'Address': '서울시 영등포구', 'Job': '팀장'}\n",
      "{'Name': '신길동', 'Age': '30', 'Email': 'sindong@hong.com', 'Address': '서울시 동작구', 'Job': ''}\n"
     ]
    }
   ],
   "source": [
    "# header가 없는 csv파일(ch09_member1.csv)을 딕셔너리로 읽기\n",
    "with open('data/ch09_member1-cp.csv') as f:\n",
    "    dict_reader = csv.DictReader(f, fieldnames=['Name', 'Age','Email','Address','Job'])\n",
    "    for row in dict_reader:\n",
    "        print(row)"
   ]
  },
  {
   "cell_type": "code",
   "execution_count": 89,
   "id": "c4838641",
   "metadata": {},
   "outputs": [
    {
     "name": "stdout",
     "output_type": "stream",
     "text": [
      "{'Name': '홍길동', 'Age': '20', 'Email': 'kildong@hong.com', 'Address': '서울시 관악구', 'Job': ''}\n",
      "{'Name': '김길동', 'Age': '40', 'Email': 'kimdong@hong.com', 'Address': '서울시 영등포구', 'Job': '팀장'}\n",
      "{'Name': '신길동', 'Age': '30', 'Email': 'sindong@hong.com', 'Address': '서울시 동작구', 'Job': ''}\n"
     ]
    }
   ],
   "source": [
    "with open('data/ch09_member1-cp.csv') as f:\n",
    "    dict_reader = csv.DictReader(f, fieldnames=['Name', 'Age','Email','Address','Job'])\n",
    "    result = list(dict_reader)\n",
    "for row in result:\n",
    "    print(row)"
   ]
  },
  {
   "cell_type": "code",
   "execution_count": 82,
   "id": "76730de0",
   "metadata": {},
   "outputs": [
    {
     "name": "stdout",
     "output_type": "stream",
     "text": [
      "[{'홍길동': '김길동', '20': '40', 'kildong@hong.com': 'kimdong@hong.com', '서울시 관악구': '서울시 영등포구', '': '팀장'}, {'홍길동': '신길동', '20': '30', 'kildong@hong.com': 'sindong@hong.com', '서울시 관악구': '서울시 동작구', '': ''}]\n"
     ]
    }
   ],
   "source": [
    "# header가 없는 csv파일(ch09_member1.csv)을 딕셔너리로 읽기\n",
    "with open('data/ch09_member1-cp.csv') as f:\n",
    "    dict_reader = csv.DictReader(f)\n",
    "    print(list(dict_reader))"
   ]
  },
  {
   "cell_type": "code",
   "execution_count": 91,
   "id": "f8a852dc",
   "metadata": {},
   "outputs": [
    {
     "name": "stdout",
     "output_type": "stream",
     "text": [
      "{'Name': '홍길동', 'Age': '20', 'Email': 'kildong@hong.com', 'Address': '서울시 관악구', 'Job': ['']}\n",
      "{'Name': '김길동', 'Age': '40', 'Email': 'kimdong@hong.com', 'Address': '서울시 영등포구', 'Job': ['팀장']}\n",
      "{'Name': '신길동', 'Age': '30', 'Email': 'sindong@hong.com', 'Address': '서울시 동작구', 'Job': ['']}\n"
     ]
    }
   ],
   "source": [
    "with open('data/ch09_member1-cp.csv') as f:\n",
    "    dict_reader = csv.DictReader(f, fieldnames=['Name', 'Age','Email','Address'],restkey='Job')\n",
    "    result = list(dict_reader)\n",
    "for row in result:\n",
    "    print(row)"
   ]
  },
  {
   "cell_type": "markdown",
   "id": "59eafc99",
   "metadata": {},
   "source": [
    "## 3.4 DictWriter\n",
    "- 딕셔너리 리스트 -> CSV파일"
   ]
  },
  {
   "cell_type": "code",
   "execution_count": 99,
   "id": "cad9d388",
   "metadata": {},
   "outputs": [],
   "source": [
    "user1 = {'name':'홍길동', 'age':22, 'emali':'a@a.com', 'address':'신림동'}\n",
    "user2 = {'name':'신길동', 'age':32, 'emali':'b@a.com', 'address':'신림동'}\n",
    "user3 = {'name':'김길동', 'age':42, 'emali':'c@a.com', 'address':'신림동'}\n",
    "user_list = [user1, user2, user3]\n",
    "fieldnames = list(user1.keys())"
   ]
  },
  {
   "cell_type": "code",
   "execution_count": 104,
   "id": "d9602194",
   "metadata": {},
   "outputs": [],
   "source": [
    "with open('data/ch09_member4.csv', 'w', encoding='utf-8', newline='') as f:\n",
    "    dict_writer = csv.DictWriter(f, fieldnames=fieldnames)\n",
    "    dict_writer.writeheader() # header 쓰기\n",
    "    dict_writer.writerows(user_list)"
   ]
  },
  {
   "cell_type": "markdown",
   "id": "bf009b09",
   "metadata": {},
   "source": [
    "## CSV <-> 데이터 프레임"
   ]
  },
  {
   "cell_type": "code",
   "execution_count": 102,
   "id": "89facc35",
   "metadata": {},
   "outputs": [
    {
     "data": {
      "text/html": [
       "<div>\n",
       "<style scoped>\n",
       "    .dataframe tbody tr th:only-of-type {\n",
       "        vertical-align: middle;\n",
       "    }\n",
       "\n",
       "    .dataframe tbody tr th {\n",
       "        vertical-align: top;\n",
       "    }\n",
       "\n",
       "    .dataframe thead th {\n",
       "        text-align: right;\n",
       "    }\n",
       "</style>\n",
       "<table border=\"1\" class=\"dataframe\">\n",
       "  <thead>\n",
       "    <tr style=\"text-align: right;\">\n",
       "      <th></th>\n",
       "      <th>name</th>\n",
       "      <th>age</th>\n",
       "      <th>email</th>\n",
       "      <th>address</th>\n",
       "      <th>job</th>\n",
       "    </tr>\n",
       "  </thead>\n",
       "  <tbody>\n",
       "    <tr>\n",
       "      <th>0</th>\n",
       "      <td>홍길동</td>\n",
       "      <td>20</td>\n",
       "      <td>h@h.com</td>\n",
       "      <td>서울시 관악구</td>\n",
       "      <td>NaN</td>\n",
       "    </tr>\n",
       "    <tr>\n",
       "      <th>1</th>\n",
       "      <td>신길동</td>\n",
       "      <td>40</td>\n",
       "      <td>s@h.com</td>\n",
       "      <td>서울시 영등포구</td>\n",
       "      <td>팀장</td>\n",
       "    </tr>\n",
       "    <tr>\n",
       "      <th>2</th>\n",
       "      <td>김길동</td>\n",
       "      <td>30</td>\n",
       "      <td>k@h.com</td>\n",
       "      <td>서울시 동작구</td>\n",
       "      <td>NaN</td>\n",
       "    </tr>\n",
       "  </tbody>\n",
       "</table>\n",
       "</div>"
      ],
      "text/plain": [
       "  name  age    email   address  job\n",
       "0  홍길동   20  h@h.com   서울시 관악구  NaN\n",
       "1  신길동   40  s@h.com  서울시 영등포구   팀장\n",
       "2  김길동   30  k@h.com   서울시 동작구  NaN"
      ]
     },
     "execution_count": 102,
     "metadata": {},
     "output_type": "execute_result"
    }
   ],
   "source": [
    "import pandas as pd\n",
    "member = pd.read_csv('data/ch09_member3.csv')\n",
    "member"
   ]
  },
  {
   "cell_type": "code",
   "execution_count": 103,
   "id": "05cb2084",
   "metadata": {},
   "outputs": [
    {
     "data": {
      "text/plain": [
       "pandas.core.frame.DataFrame"
      ]
     },
     "execution_count": 103,
     "metadata": {},
     "output_type": "execute_result"
    }
   ],
   "source": [
    "type(member)"
   ]
  },
  {
   "cell_type": "markdown",
   "id": "0305f572",
   "metadata": {},
   "source": [
    "# 4절. JSON 데이터 저장하고 불러오기(dump, load)\n",
    "- 딕셔너리리스트 <-> JSON 파일(기본)\n",
    "- 객체리스트 <_> JSON 파일\n",
    "## 4.1 bump(파일 출력)"
   ]
  },
  {
   "cell_type": "code",
   "execution_count": 105,
   "id": "7366caa1",
   "metadata": {},
   "outputs": [],
   "source": [
    "data = [{'name': '홍길동', 'age': 20, 'email': 'kildong@hong.com', 'address': '서울'},\n",
    "        {'name': '김길숙','age': 30,'email': 'kilsuk1@hong.com','address': '인천'},]"
   ]
  },
  {
   "cell_type": "code",
   "execution_count": 107,
   "id": "f22d184f",
   "metadata": {},
   "outputs": [],
   "source": [
    "# ensure_ascii 매개변수\n",
    "    # True : 비 ASCII 문은 유니코드 형태로 저장\n",
    "    # False : 비 ASCII 문자 원해 형태로 저장\n",
    "import json\n",
    "with open('data/ch09_member.json', 'w', encoding='utf-8') as jsonfile:\n",
    "    json.dump(data, \n",
    "              jsonfile, \n",
    "              ensure_ascii=False, \n",
    "              indent='\\t')"
   ]
  },
  {
   "cell_type": "code",
   "execution_count": 115,
   "id": "cc02303f",
   "metadata": {},
   "outputs": [],
   "source": [
    "class Member:\n",
    "    def __init__(self, name, age, email, address):\n",
    "        self.name = name\n",
    "        self.age = age\n",
    "        self.email = email\n",
    "        self.address = address\n",
    "    def __str__(self):\n",
    "        return '{}, {}, {}, {} '.format(self.name, \\\n",
    "                                        self.age, \\\n",
    "                                        self.email, \\\n",
    "                                        self.address)\n",
    "    def as_dict(self):\n",
    "        return {'name':self.name, \\\n",
    "                'age':self.age, \\\n",
    "                'email':self.email, \\\n",
    "                'address':self.address}\n",
    "    def __eq__(self, other):\n",
    "        if isinstance(other, Member):\n",
    "#             return self.name == other.name \\\n",
    "#             and self.age == other.age \\\n",
    "#             and self.email == other.email \\\n",
    "#             and self.address == other.address\n",
    "            return self.__str__() == other.__str__()\n",
    "        else:\n",
    "            return False"
   ]
  },
  {
   "cell_type": "code",
   "execution_count": 117,
   "id": "3caaeebc",
   "metadata": {},
   "outputs": [
    {
     "name": "stdout",
     "output_type": "stream",
     "text": [
      "True\n",
      "True\n"
     ]
    }
   ],
   "source": [
    "user1 = Member('홍길동',22,'a@a.com','신림동')\n",
    "user2 = Member('홍길동',22,'a@a.com','신림동')\n",
    "print(user1.__eq__(user2))\n",
    "print(user1==user2)"
   ]
  },
  {
   "cell_type": "code",
   "execution_count": 118,
   "id": "fbbeb6d4",
   "metadata": {},
   "outputs": [],
   "source": [
    "member_list = [Member('홍길동',22,'a@a.com','서울'),\n",
    "               Member('신길동',32,'a@a.com','서울'),\n",
    "               Member('기길동',42,'a@a.com','서울')]"
   ]
  },
  {
   "cell_type": "code",
   "execution_count": 120,
   "id": "c5caf781",
   "metadata": {},
   "outputs": [],
   "source": [
    "with open('data/ch09_member1.json', 'w', encoding='utf-8') as jsonfile:\n",
    "    json.dump(member_list,  # 객체 리스트\n",
    "              jsonfile,\n",
    "              ensure_ascii=False,\n",
    "              indent='\\t',\n",
    "              default=Member.as_dict) # 객체를 딕셔너리로 return 하는 인스턴스 함수"
   ]
  },
  {
   "cell_type": "markdown",
   "id": "207dbb74",
   "metadata": {},
   "source": [
    "## 4.2 load(파일 입력)\n",
    "- json -> 딕셔너리리스트(기본)\n",
    "              ↓\n",
    "- json ->  객체리스트"
   ]
  },
  {
   "cell_type": "code",
   "execution_count": 127,
   "id": "1e7f8cde",
   "metadata": {},
   "outputs": [],
   "source": [
    "def as_member(dic):\n",
    "    '매개변수로 딕셔너리를 받아 Member 객체를 retrun'\n",
    "    return Member(dic.get('name'), dic['age'], dic.get('email'), dic.get('address'))"
   ]
  },
  {
   "cell_type": "code",
   "execution_count": 128,
   "id": "ca6ded16",
   "metadata": {},
   "outputs": [
    {
     "name": "stdout",
     "output_type": "stream",
     "text": [
      "김길동, 20, a@a.com, 관악 \n"
     ]
    }
   ],
   "source": [
    "member = as_member({'name':'김길동', 'age':20, 'email':'a@a.com', 'address':'관악'})\n",
    "print(member)"
   ]
  },
  {
   "cell_type": "code",
   "execution_count": 133,
   "id": "74e84e7d",
   "metadata": {},
   "outputs": [
    {
     "data": {
      "text/plain": [
       "[{'name': '홍길동', 'age': 20, 'email': 'kildong@hong.com', 'address': '서울'},\n",
       " {'name': '김길숙', 'age': 30, 'email': 'kilsuk1@hong.com', 'address': '인천'}]"
      ]
     },
     "execution_count": 133,
     "metadata": {},
     "output_type": "execute_result"
    }
   ],
   "source": [
    "with open('data/ch09_member.json', 'r', encoding='utf-8') as f:\n",
    "    load_data = json.load(f)\n",
    "load_data"
   ]
  },
  {
   "cell_type": "code",
   "execution_count": 132,
   "id": "8a5bb658",
   "metadata": {},
   "outputs": [
    {
     "name": "stdout",
     "output_type": "stream",
     "text": [
      "홍길동, 22, a@a.com, 서울 \n",
      "신길동, 32, a@a.com, 서울 \n",
      "기길동, 42, a@a.com, 서울 \n"
     ]
    }
   ],
   "source": [
    "with open('data/ch09_member1.json', 'r', encoding='utf-8') as f:\n",
    "    load_member_list = json.load(f, object_hook=as_member)\n",
    "for load_member in load_member_list:\n",
    "    print(load_member)"
   ]
  },
  {
   "cell_type": "markdown",
   "id": "49b1ec2d",
   "metadata": {},
   "source": [
    "# JSON -> 데이터 프레임"
   ]
  },
  {
   "cell_type": "code",
   "execution_count": 130,
   "id": "354ca451",
   "metadata": {},
   "outputs": [
    {
     "data": {
      "text/html": [
       "<div>\n",
       "<style scoped>\n",
       "    .dataframe tbody tr th:only-of-type {\n",
       "        vertical-align: middle;\n",
       "    }\n",
       "\n",
       "    .dataframe tbody tr th {\n",
       "        vertical-align: top;\n",
       "    }\n",
       "\n",
       "    .dataframe thead th {\n",
       "        text-align: right;\n",
       "    }\n",
       "</style>\n",
       "<table border=\"1\" class=\"dataframe\">\n",
       "  <thead>\n",
       "    <tr style=\"text-align: right;\">\n",
       "      <th></th>\n",
       "      <th>name</th>\n",
       "      <th>age</th>\n",
       "      <th>email</th>\n",
       "      <th>address</th>\n",
       "    </tr>\n",
       "  </thead>\n",
       "  <tbody>\n",
       "    <tr>\n",
       "      <th>0</th>\n",
       "      <td>홍길동</td>\n",
       "      <td>22</td>\n",
       "      <td>a@a.com</td>\n",
       "      <td>서울</td>\n",
       "    </tr>\n",
       "    <tr>\n",
       "      <th>1</th>\n",
       "      <td>신길동</td>\n",
       "      <td>32</td>\n",
       "      <td>a@a.com</td>\n",
       "      <td>서울</td>\n",
       "    </tr>\n",
       "    <tr>\n",
       "      <th>2</th>\n",
       "      <td>기길동</td>\n",
       "      <td>42</td>\n",
       "      <td>a@a.com</td>\n",
       "      <td>서울</td>\n",
       "    </tr>\n",
       "  </tbody>\n",
       "</table>\n",
       "</div>"
      ],
      "text/plain": [
       "  name  age    email address\n",
       "0  홍길동   22  a@a.com      서울\n",
       "1  신길동   32  a@a.com      서울\n",
       "2  기길동   42  a@a.com      서울"
      ]
     },
     "execution_count": 130,
     "metadata": {},
     "output_type": "execute_result"
    }
   ],
   "source": [
    "import pandas as pd\n",
    "pd.read_json('data/ch09_member1.json')\n",
    "# pd.함수() : encoding='utf-8' 기본값\n",
    "# open(함수, 모드)함수 : encoding='cp949' 기본값"
   ]
  },
  {
   "cell_type": "code",
   "execution_count": 131,
   "id": "9ff817dd",
   "metadata": {},
   "outputs": [
    {
     "data": {
      "text/html": [
       "<div>\n",
       "<style scoped>\n",
       "    .dataframe tbody tr th:only-of-type {\n",
       "        vertical-align: middle;\n",
       "    }\n",
       "\n",
       "    .dataframe tbody tr th {\n",
       "        vertical-align: top;\n",
       "    }\n",
       "\n",
       "    .dataframe thead th {\n",
       "        text-align: right;\n",
       "    }\n",
       "</style>\n",
       "<table border=\"1\" class=\"dataframe\">\n",
       "  <thead>\n",
       "    <tr style=\"text-align: right;\">\n",
       "      <th></th>\n",
       "      <th>name</th>\n",
       "      <th>age</th>\n",
       "      <th>email</th>\n",
       "      <th>address</th>\n",
       "    </tr>\n",
       "  </thead>\n",
       "  <tbody>\n",
       "    <tr>\n",
       "      <th>0</th>\n",
       "      <td>홍길동</td>\n",
       "      <td>20</td>\n",
       "      <td>kildong@hong.com</td>\n",
       "      <td>서울</td>\n",
       "    </tr>\n",
       "    <tr>\n",
       "      <th>1</th>\n",
       "      <td>김길숙</td>\n",
       "      <td>30</td>\n",
       "      <td>kilsuk1@hong.com</td>\n",
       "      <td>인천</td>\n",
       "    </tr>\n",
       "  </tbody>\n",
       "</table>\n",
       "</div>"
      ],
      "text/plain": [
       "  name  age             email address\n",
       "0  홍길동   20  kildong@hong.com      서울\n",
       "1  김길숙   30  kilsuk1@hong.com      인천"
      ]
     },
     "execution_count": 131,
     "metadata": {},
     "output_type": "execute_result"
    }
   ],
   "source": [
    "pd.read_json('data/ch09_member.json', encoding='utf-8')"
   ]
  },
  {
   "cell_type": "code",
   "execution_count": null,
   "id": "f09baaab",
   "metadata": {},
   "outputs": [],
   "source": []
  },
  {
   "cell_type": "code",
   "execution_count": null,
   "id": "b8d97ae2",
   "metadata": {},
   "outputs": [],
   "source": []
  },
  {
   "cell_type": "code",
   "execution_count": null,
   "id": "7e6bab16",
   "metadata": {},
   "outputs": [],
   "source": []
  },
  {
   "cell_type": "code",
   "execution_count": null,
   "id": "092e9ae5",
   "metadata": {},
   "outputs": [],
   "source": []
  },
  {
   "cell_type": "code",
   "execution_count": null,
   "id": "59bbf0c5",
   "metadata": {},
   "outputs": [],
   "source": []
  },
  {
   "cell_type": "code",
   "execution_count": null,
   "id": "3157c457",
   "metadata": {},
   "outputs": [],
   "source": []
  },
  {
   "cell_type": "code",
   "execution_count": null,
   "id": "b7447ea8",
   "metadata": {},
   "outputs": [],
   "source": []
  },
  {
   "cell_type": "code",
   "execution_count": null,
   "id": "3b6e5486",
   "metadata": {},
   "outputs": [],
   "source": []
  },
  {
   "cell_type": "code",
   "execution_count": null,
   "id": "2effb405",
   "metadata": {},
   "outputs": [],
   "source": []
  },
  {
   "cell_type": "code",
   "execution_count": null,
   "id": "1c1f502f",
   "metadata": {},
   "outputs": [],
   "source": []
  },
  {
   "cell_type": "code",
   "execution_count": null,
   "id": "1abd2a95",
   "metadata": {},
   "outputs": [],
   "source": []
  },
  {
   "cell_type": "code",
   "execution_count": null,
   "id": "e5ad9fd7",
   "metadata": {},
   "outputs": [],
   "source": []
  },
  {
   "cell_type": "code",
   "execution_count": null,
   "id": "933cc832",
   "metadata": {},
   "outputs": [],
   "source": []
  }
 ],
 "metadata": {
  "kernelspec": {
   "display_name": "Python 3 (ipykernel)",
   "language": "python",
   "name": "python3"
  },
  "language_info": {
   "codemirror_mode": {
    "name": "ipython",
    "version": 3
   },
   "file_extension": ".py",
   "mimetype": "text/x-python",
   "name": "python",
   "nbconvert_exporter": "python",
   "pygments_lexer": "ipython3",
   "version": "3.10.9"
  },
  "toc": {
   "base_numbering": 1,
   "nav_menu": {},
   "number_sections": false,
   "sideBar": true,
   "skip_h1_title": false,
   "title_cell": "Table of Contents",
   "title_sidebar": "Contents",
   "toc_cell": false,
   "toc_position": {
    "height": "calc(100% - 180px)",
    "left": "10px",
    "top": "150px",
    "width": "165px"
   },
   "toc_section_display": true,
   "toc_window_display": true
  }
 },
 "nbformat": 4,
 "nbformat_minor": 5
}
