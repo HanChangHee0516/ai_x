{
 "cells": [
  {
   "cell_type": "code",
   "execution_count": 1,
   "id": "5fdfed7f",
   "metadata": {},
   "outputs": [
    {
     "name": "stdout",
     "output_type": "stream",
     "text": [
      "홍길동님의 나이는 23살입니다\n"
     ]
    }
   ],
   "source": [
    "# 1. 이름과 나이 변수를 다음 형식으로 출력하도록 format() 함수를 이용해 형식화하세요\n",
    "#[출력형식 : 홍길동님의 나이는 23 살입니다\n",
    "name = '홍길동'\n",
    "age = 23\n",
    "print('{}님의 나이는 {}살입니다'.format(name,age))"
   ]
  },
  {
   "cell_type": "code",
   "execution_count": 44,
   "id": "c0e03a35",
   "metadata": {},
   "outputs": [
    {
     "name": "stdout",
     "output_type": "stream",
     "text": [
      "이름이 무엇 입니까?홍길동\n",
      "나이가 어떻게 됩니까?23\n",
      "홍길동님의 나이는 23살 입니다\n"
     ]
    }
   ],
   "source": [
    "이름 = str(input('이름이 무엇 입니까?'))\n",
    "나이 = int(input('나이가 어떻게 됩니까?'))\n",
    "print(f'{이름}님의 나이는 {나이}살 입니다')"
   ]
  },
  {
   "cell_type": "code",
   "execution_count": 2,
   "id": "418ba709",
   "metadata": {},
   "outputs": [
    {
     "name": "stdout",
     "output_type": "stream",
     "text": [
      "15\n",
      "5\n",
      "50\n",
      "5\n",
      "4\n",
      "2\n"
     ]
    }
   ],
   "source": [
    "# 2. 두 정수를 입력받아 두 수의 덧셈 , 뺄셈 , 곱셈 , 나눗셈 , 몫 , 나머지를 출력하세요\n",
    "print(10 + 5)\n",
    "print(15 - 10)\n",
    "print(2 * 25)\n",
    "print(int(20 / 4))\n",
    "print(20 // 5)\n",
    "print(30 % 4)"
   ]
  },
  {
   "cell_type": "code",
   "execution_count": 5,
   "id": "8d65d00f",
   "metadata": {},
   "outputs": [
    {
     "name": "stdout",
     "output_type": "stream",
     "text": [
      "World Hello\n"
     ]
    }
   ],
   "source": [
    "# 문자열의 분리하기와 합치기 기능을 이용하여 ‘Hello World' 가 할당된 변수를 이용하여\n",
    "# ‘Hello World'로 출력하세요\n",
    "text = \"Hello World\"\n",
    "text_ = text.split(\" \")\n",
    "replace_text_ = [text_[1], text_[0]]\n",
    "texts = \" \".join(replace_text_)\n",
    "print(texts)"
   ]
  },
  {
   "cell_type": "code",
   "execution_count": 6,
   "id": "a5a273c7",
   "metadata": {},
   "outputs": [
    {
     "name": "stdout",
     "output_type": "stream",
     "text": [
      "bcdefa\n"
     ]
    }
   ],
   "source": [
    "# 4. x = 'abcdef'를 이용하여 bcdefa 로 출력하세요 문자 슬라이싱이용\n",
    "x =  'abcdef'\n",
    "b = x[1:]+x[0]\n",
    "print(b)"
   ]
  },
  {
   "cell_type": "code",
   "execution_count": 7,
   "id": "106e6025",
   "metadata": {},
   "outputs": [
    {
     "data": {
      "text/plain": [
       "'fedcba'"
      ]
     },
     "execution_count": 7,
     "metadata": {},
     "output_type": "execute_result"
    }
   ],
   "source": [
    "# 5. x = ‘ abcdef 를 이용하여 fedcba 로 출력하세요\n",
    "x = 'abcdef'\n",
    "x[-1::-1]"
   ]
  },
  {
   "cell_type": "code",
   "execution_count": 8,
   "id": "5f1d7f15",
   "metadata": {},
   "outputs": [
    {
     "name": "stdout",
     "output_type": "stream",
     "text": [
      "오늘의 온도를 섭씨로 입력하시오16.7\n",
      "오늘의 온도는 화씨는 f62.06입니다\n"
     ]
    }
   ],
   "source": [
    "# 6.오늘의 온도를 섭씨온도로 입력받아 화씨 온도로 변환하는 프로그램을 작성하세요 . \n",
    "#  화씨 온도는 소수점이 있을 경우만 두번째 자리까지 출력되고 , \n",
    "#  소수점이하 값이 없는 경우 소수점을 출력하지 않도록 합니다 다음은 섭씨와 화씨의 변환 공식입니다 . \n",
    "#  C 는 섭씨 ,F 는 화씨\n",
    "#  C = (F32) / 1.8\n",
    "#  F = (C*1.8) + 32\n",
    "a = float(input('오늘의 온도를 섭씨로 입력하시오'))\n",
    "f = ((a * 1.8) + 32)\n",
    "print('오늘의 온도는 화씨는 f{:5.2f}입니다'.format(f))"
   ]
  },
  {
   "cell_type": "code",
   "execution_count": 26,
   "id": "6fa01fd2",
   "metadata": {},
   "outputs": [
    {
     "name": "stdout",
     "output_type": "stream",
     "text": [
      "오늘의 온도를 섭씨로 입력하시오10\n",
      "섭씨 10.0도는 화씨온도로 바꾸면 50도 입니다\n"
     ]
    }
   ],
   "source": [
    "a = float(input('오늘의 온도를 섭씨로 입력하시오'))\n",
    "f = ((a * 1.8) + 32)\n",
    "if not f.is_integer():\n",
    "    print(\"섭씨 {}도는 화씨온도로 바꾸면 {:.2f}도 입니다\".format(a, f))\n",
    "else:\n",
    "    print(\"섭씨 {}도는 화씨온도로 바꾸면 {:.0f}도 입니다\".format(a, f))"
   ]
  },
  {
   "cell_type": "code",
   "execution_count": 32,
   "id": "b712266e",
   "metadata": {},
   "outputs": [
    {
     "name": "stdout",
     "output_type": "stream",
     "text": [
      "오늘의 온도를 섭씨로 입력하시오41.1\n",
      "섭씨 41.1도는 화씨온도로 바꾸면 105.98도 입니다\n"
     ]
    }
   ],
   "source": [
    "a = float(input('오늘의 온도를 섭씨로 입력하시오'))\n",
    "f = ((a * 1.8) + 32)\n",
    "if not f.is_integer():\n",
    "    print(\"섭씨 {}도는 화씨온도로 바꾸면 {:.2f}도 입니다\".format(a, f))\n",
    "else:\n",
    "    print(\"섭씨 {}도는 화씨온도로 바꾸면 {:.0f}도 입니다\".format(a, f))"
   ]
  },
  {
   "cell_type": "code",
   "execution_count": 33,
   "id": "32fbb874",
   "metadata": {},
   "outputs": [
    {
     "name": "stdout",
     "output_type": "stream",
     "text": [
      "섭씨 온도를 입력하세요45.1\n"
     ]
    },
    {
     "ename": "ValueError",
     "evalue": "invalid literal for int() with base 10: '45.1'",
     "output_type": "error",
     "traceback": [
      "\u001b[1;31m---------------------------------------------------------------------------\u001b[0m",
      "\u001b[1;31mValueError\u001b[0m                                Traceback (most recent call last)",
      "Cell \u001b[1;32mIn[33], line 2\u001b[0m\n\u001b[0;32m      1\u001b[0m \u001b[38;5;66;03m# 6.섭씨온도로 입력받아 화씨 온도로 변환\u001b[39;00m\n\u001b[1;32m----> 2\u001b[0m c \u001b[38;5;241m=\u001b[39m \u001b[38;5;28;43mint\u001b[39;49m\u001b[43m(\u001b[49m\u001b[38;5;28;43minput\u001b[39;49m\u001b[43m(\u001b[49m\u001b[38;5;124;43m'\u001b[39;49m\u001b[38;5;124;43m섭씨 온도를 입력하세요\u001b[39;49m\u001b[38;5;124;43m'\u001b[39;49m\u001b[43m)\u001b[49m\u001b[43m)\u001b[49m\n\u001b[0;32m      3\u001b[0m f \u001b[38;5;241m=\u001b[39m (c\u001b[38;5;241m*\u001b[39m\u001b[38;5;241m1.8\u001b[39m)\u001b[38;5;241m+\u001b[39m\u001b[38;5;241m32\u001b[39m\n\u001b[0;32m      5\u001b[0m \u001b[38;5;66;03m# if f%1:\u001b[39;00m\n\u001b[0;32m      6\u001b[0m \u001b[38;5;66;03m# if f - int(f):\u001b[39;00m\n\u001b[0;32m      7\u001b[0m \u001b[38;5;66;03m# if f != int(f):\u001b[39;00m\n\u001b[0;32m      8\u001b[0m \u001b[38;5;66;03m# temp = str(temperature_F).split('.')\u001b[39;00m\n\u001b[0;32m      9\u001b[0m \u001b[38;5;66;03m# if temp[1]!='0':\u001b[39;00m\n",
      "\u001b[1;31mValueError\u001b[0m: invalid literal for int() with base 10: '45.1'"
     ]
    }
   ],
   "source": [
    "# 6.섭씨온도로 입력받아 화씨 온도로 변환\n",
    "c = int(input('섭씨 온도를 입력하세요'))\n",
    "f = (c*1.8)+32\n",
    "\n",
    "# if f%1:\n",
    "# if f - int(f):\n",
    "# if f != int(f):\n",
    "# temp = str(temperature_F).split('.')\n",
    "# if temp[1]!='0':\n",
    "if not f.is_integer():\n",
    "    print(\"섭씨 {}도는 화씨온도로 바꾸면 {:.2f}도 입니다\".format(c, f))\n",
    "else:\n",
    "    print(\"섭씨 {}도는 화씨온도로 바꾸면 {:.0f}도 입니다\".format(c, f))"
   ]
  },
  {
   "cell_type": "code",
   "execution_count": 38,
   "id": "7c5de206",
   "metadata": {},
   "outputs": [
    {
     "name": "stdout",
     "output_type": "stream",
     "text": [
      "섭씨 온도를 입력하세요11\n",
      "섭씨 11도는 화씨온도로 바꾸면 51.80도 입니다\n"
     ]
    }
   ],
   "source": [
    "c = int(input('섭씨 온도를 입력하세요'))\n",
    "f = (c*1.8)+32\n",
    "if f != int(f):\n",
    "    print(\"섭씨 {}도는 화씨온도로 바꾸면 {:.2f}도 입니다\".format(c, f))\n",
    "else:\n",
    "    print(\"섭씨 {}도는 화씨온도로 바꾸면 {:.0f}도 입니다\".format(c, f))"
   ]
  },
  {
   "cell_type": "code",
   "execution_count": null,
   "id": "8332a1da",
   "metadata": {},
   "outputs": [],
   "source": []
  },
  {
   "cell_type": "code",
   "execution_count": 10,
   "id": "400b196f",
   "metadata": {},
   "outputs": [
    {
     "name": "stdout",
     "output_type": "stream",
     "text": [
      "정답은 2번,4번\n",
      "숫자와 _는 첫글자로 사용 할 수 없다\n"
     ]
    }
   ],
   "source": [
    "# 7. 다음 중 변수 선언으로 잘못된 것을 모두 고르시오\n",
    "# ① for\n",
    "# ② 10th\n",
    "# ③ Student.name\n",
    "# ④ _1234\n",
    "print('정답은 2번,4번\\n숫자와 _는 첫글자로 사용 할 수 없다')"
   ]
  },
  {
   "cell_type": "code",
   "execution_count": 11,
   "id": "1f3d647a",
   "metadata": {},
   "outputs": [
    {
     "name": "stdout",
     "output_type": "stream",
     "text": [
      "SeounSeoul\n",
      "Seou n Seoul\n"
     ]
    }
   ],
   "source": [
    "# 8. 다음의 코드의 실행결과는?\n",
    "text = \"Seoul A001 - programming with python\"\n",
    "print(text[:4]+text[-1]+text.split()[0])\n",
    "print(text[:4], text[-1], text.split()[0])"
   ]
  },
  {
   "cell_type": "code",
   "execution_count": 23,
   "id": "87f4cd61",
   "metadata": {},
   "outputs": [
    {
     "name": "stdout",
     "output_type": "stream",
     "text": [
      "Seo A001\n",
      "Swith\n"
     ]
    }
   ],
   "source": [
    "text = \"Seoul A001 - programming with python\"\n",
    "print(text[:3], text.split()[1])\n",
    "print(text[0]+text.split()[4])"
   ]
  },
  {
   "cell_type": "code",
   "execution_count": null,
   "id": "455d784a",
   "metadata": {},
   "outputs": [],
   "source": []
  },
  {
   "cell_type": "code",
   "execution_count": 12,
   "id": "f52ce84b",
   "metadata": {},
   "outputs": [
    {
     "name": "stdout",
     "output_type": "stream",
     "text": [
      "정답은 2번\n",
      "\"/\"식은 결과값이 실수로 반환한다\n",
      "4.0\n"
     ]
    }
   ],
   "source": [
    "# 9. 다음 중 파이썬 3.x 버전에서 연산식과 그 결과의 출력이 잘못된 것은?\n",
    "# ① 수식 8//2 결과 4\n",
    "# ② 수식 8/2 결과 4\n",
    "# ③ 수식 8 **2 결과 64\n",
    "print('정답은 2번\\n\"/\"식은 결과값이 실수로 반환한다')\n",
    "print(8/2)"
   ]
  },
  {
   "cell_type": "code",
   "execution_count": 7,
   "id": "f75a9103",
   "metadata": {},
   "outputs": [
    {
     "name": "stdout",
     "output_type": "stream",
     "text": [
      "5join\n"
     ]
    }
   ],
   "source": [
    "# 10. 아래 프로그램의 결과는?\n",
    "x = 5\n",
    "y = 'join'\n",
    "# print(x + y)\n",
    "print(str(x)+y)"
   ]
  },
  {
   "cell_type": "code",
   "execution_count": 15,
   "id": "7dc8ce7a",
   "metadata": {},
   "outputs": [
    {
     "name": "stdout",
     "output_type": "stream",
     "text": [
      "나라\n"
     ]
    }
   ],
   "source": [
    "# 11. split() 함수를 이용하여 str_ 의 값 중 나라 를 출력하는 프로그램을 완성하시오\n",
    "str_ = '우리 나라 대한 민국'\n",
    "print(str_.split()[1])"
   ]
  },
  {
   "cell_type": "code",
   "execution_count": 1,
   "id": "6278b789",
   "metadata": {},
   "outputs": [
    {
     "name": "stdout",
     "output_type": "stream",
     "text": [
      "점수: 80\n",
      "점수: 90\n",
      "점수: 100\n"
     ]
    }
   ],
   "source": [
    "def show_scores(*scores):\n",
    "    for score in scores:\n",
    "        print(f\"점수: {score}\")\n",
    "\n",
    "show_scores(80, 90, 100)"
   ]
  },
  {
   "cell_type": "code",
   "execution_count": 2,
   "id": "bf7f872e",
   "metadata": {},
   "outputs": [
    {
     "name": "stdout",
     "output_type": "stream",
     "text": [
      "name: 지윤\n",
      "age: 22\n",
      "city: 서울\n"
     ]
    }
   ],
   "source": [
    "def print_info(**info):\n",
    "    for key, value in info.items():\n",
    "        print(f\"{key}: {value}\")\n",
    "\n",
    "print_info(name=\"지윤\", age=22, city=\"서울\")\n"
   ]
  },
  {
   "cell_type": "code",
   "execution_count": 4,
   "id": "5a454267",
   "metadata": {},
   "outputs": [
    {
     "name": "stdout",
     "output_type": "stream",
     "text": [
      "파이썬의 자료형 중 하나는? (예: list): python\n",
      "오답입니다.\n",
      "최종 점수: 0\n"
     ]
    }
   ],
   "source": [
    "score = 0  # 전역변수\n",
    "\n",
    "def quiz():\n",
    "    answer = input(\"파이썬의 자료형 중 하나는? (예: list): \")  # 지역변수\n",
    "    global score\n",
    "    if answer == \"list\":\n",
    "        score += 10\n",
    "        print(\"정답! 점수 +10\")\n",
    "    else:\n",
    "        print(\"오답입니다.\")\n",
    "\n",
    "quiz()\n",
    "print(\"최종 점수:\", score)"
   ]
  },
  {
   "cell_type": "code",
   "execution_count": 8,
   "id": "03d2e4ce",
   "metadata": {},
   "outputs": [
    {
     "ename": "AttributeError",
     "evalue": "'tuple' object has no attribute 'append'",
     "output_type": "error",
     "traceback": [
      "\u001b[1;31m---------------------------------------------------------------------------\u001b[0m",
      "\u001b[1;31mAttributeError\u001b[0m                            Traceback (most recent call last)",
      "Cell \u001b[1;32mIn[8], line 5\u001b[0m\n\u001b[0;32m      3\u001b[0m     x\u001b[38;5;241m.\u001b[39mappend(\u001b[38;5;241m3\u001b[39m)\n\u001b[0;32m      4\u001b[0m     \u001b[38;5;28mprint\u001b[39m(x)\n\u001b[1;32m----> 5\u001b[0m \u001b[43mnum\u001b[49m\u001b[43m(\u001b[49m\u001b[43mL\u001b[49m\u001b[43m)\u001b[49m\n\u001b[0;32m      6\u001b[0m L\n",
      "Cell \u001b[1;32mIn[8], line 3\u001b[0m, in \u001b[0;36mnum\u001b[1;34m(*x)\u001b[0m\n\u001b[0;32m      2\u001b[0m \u001b[38;5;28;01mdef\u001b[39;00m \u001b[38;5;21mnum\u001b[39m(\u001b[38;5;241m*\u001b[39mx):\n\u001b[1;32m----> 3\u001b[0m     \u001b[43mx\u001b[49m\u001b[38;5;241;43m.\u001b[39;49m\u001b[43mappend\u001b[49m(\u001b[38;5;241m3\u001b[39m)\n\u001b[0;32m      4\u001b[0m     \u001b[38;5;28mprint\u001b[39m(x)\n",
      "\u001b[1;31mAttributeError\u001b[0m: 'tuple' object has no attribute 'append'"
     ]
    }
   ],
   "source": [
    "L = (1, 2)\n",
    "def num(*x):\n",
    "    x.append(3)\n",
    "    print(x)\n",
    "num(L)\n",
    "L"
   ]
  },
  {
   "cell_type": "code",
   "execution_count": null,
   "id": "837daddc",
   "metadata": {},
   "outputs": [],
   "source": []
  },
  {
   "cell_type": "code",
   "execution_count": null,
   "id": "521c4918",
   "metadata": {},
   "outputs": [],
   "source": []
  },
  {
   "cell_type": "code",
   "execution_count": null,
   "id": "cfaccc57",
   "metadata": {},
   "outputs": [],
   "source": []
  },
  {
   "cell_type": "code",
   "execution_count": null,
   "id": "f00ac114",
   "metadata": {},
   "outputs": [],
   "source": []
  },
  {
   "cell_type": "code",
   "execution_count": null,
   "id": "dc20f2d1",
   "metadata": {},
   "outputs": [],
   "source": []
  },
  {
   "cell_type": "code",
   "execution_count": null,
   "id": "ca3e144f",
   "metadata": {},
   "outputs": [],
   "source": []
  },
  {
   "cell_type": "code",
   "execution_count": null,
   "id": "8ba31115",
   "metadata": {},
   "outputs": [],
   "source": []
  },
  {
   "cell_type": "code",
   "execution_count": null,
   "id": "fb8c0ea9",
   "metadata": {},
   "outputs": [],
   "source": []
  },
  {
   "cell_type": "code",
   "execution_count": null,
   "id": "04f9df62",
   "metadata": {},
   "outputs": [],
   "source": []
  },
  {
   "cell_type": "code",
   "execution_count": null,
   "id": "e039f24a",
   "metadata": {},
   "outputs": [],
   "source": []
  },
  {
   "cell_type": "code",
   "execution_count": null,
   "id": "350546d9",
   "metadata": {},
   "outputs": [],
   "source": []
  }
 ],
 "metadata": {
  "kernelspec": {
   "display_name": "Python 3 (ipykernel)",
   "language": "python",
   "name": "python3"
  },
  "language_info": {
   "codemirror_mode": {
    "name": "ipython",
    "version": 3
   },
   "file_extension": ".py",
   "mimetype": "text/x-python",
   "name": "python",
   "nbconvert_exporter": "python",
   "pygments_lexer": "ipython3",
   "version": "3.10.9"
  },
  "toc": {
   "base_numbering": 1,
   "nav_menu": {},
   "number_sections": false,
   "sideBar": true,
   "skip_h1_title": false,
   "title_cell": "Table of Contents",
   "title_sidebar": "Contents",
   "toc_cell": false,
   "toc_position": {},
   "toc_section_display": true,
   "toc_window_display": false
  }
 },
 "nbformat": 4,
 "nbformat_minor": 5
}
